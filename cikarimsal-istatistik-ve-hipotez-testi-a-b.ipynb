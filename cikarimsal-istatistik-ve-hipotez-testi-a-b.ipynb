{
 "cells": [
  {
   "cell_type": "markdown",
   "id": "01d16347",
   "metadata": {
    "papermill": {
     "duration": 0.033672,
     "end_time": "2023-11-13T14:31:53.020971",
     "exception": false,
     "start_time": "2023-11-13T14:31:52.987299",
     "status": "completed"
    },
    "tags": []
   },
   "source": [
    "<div style=\"border-radius: 10px; border: #6B8E23 solid; padding: 15px; background-color: #F5F5DC; font-size: 100%; text-align: left\">\n",
    "\n",
    "<h3 align=\"left\"><font color='#556B2F'>📜 Introduction : </font></h3>\n",
    "    \n",
    "Merak her zaman insan doğasının bir parçası olmuştur. İlk medeniyetlerinin oluşumundan bu yana tüm bu merakımızı soru sorma ve bu sorulara cevaplar arayabilme yeteneklerimizle destekledik. Ancak bir noktadan sonra anladık ki sorduğumuz soruların bilimsel yöntemlerle kanıtlanıp, sonuçları doğrulamak gerekmektedir. Aksi halde varsayımlara dayalı hareket etmenin kesin olmayan sonuçları karşısında karar alabilmemiz mümkün değildir.\n",
    "\n",
    "Henüz test edilememiş, doğrulanamamış sorulara ve ifadelere hipotez denir. Hipotez ise ikiye ayrılmaktadır. Bunlar şu şekilde ifade edilir;\n",
    "\n",
    "1. Null Hipotez (H0): bir kişinin bir konu hakkındaki varsayılan argümanıdır. Genellikle bir etki, ilişki veya farkın olmadığını ifade eden bir ifadedir.\n",
    "2. Alternatif Hipotez (H1): null hipotezi reddetmek için sunulan, genellikle bir etki, ilişki veya farkın olduğunu ifade eden bir ifadedir.\n",
    "\n",
    "Örnek: null hipotezine göre bir öğrencinin ders çalışma süresi ile sınav başarısı arasında herhangi bir ilişki yoktur. Alternatif hipoteze göre ise; bir öğrencinin ders çalışma süresi arttıkça, sınav başarısı da artar. \n",
    "\n",
    "\n",
    "**Hipotez Testi nedir?**\n",
    "\n",
    "Hipotez Testi, deneysel verileri kullanarak istatistiksel karar vermede kullanılan istatistiksel bir yöntemdir. Hipotez testi temel olarak bir popülasyon parametresi hakkında yaptığımız bir varsayımdır.\n",
    "\n",
    "Örnek: Sınıftaki ortalama bir öğrencinin 30 yaşında olduğunu veya bir erkeğin kızdan daha uzun olduğunu söylüyorsunuz. Bunların hepsi varsaydığımız bir varsayımdır ve bunları kanıtlamak için istatistiksel bir yola ihtiyacımız vardır. Doğru olduğunu varsaydığımız her şeyin matematiksel bir sonuca ihtiyacı var.\n",
    "\n",
    "Hipotez testinde iki tür hata vardır: Tip I ve Tip II. \n",
    "\n",
    "1. **Tip I Hata (α Hatası veya Yanlış Pozitif):**\n",
    "   - **Tanım:** Tip I hatası, null hipotezi doğruyken reddetme hatasıdır. Yani, aslında bir etki, ilişki veya fark yokken istatistiksel test sonucunda bir etki olduğu sonucuna varılmasıdır.\n",
    "   - **Örnek:** Null hipotezi \"İki ilaç arasında hiçbir fark yoktur.\" şeklindeyken, istatistiksel test sonucunda fark olduğu sonucuna varmak ve null hipotezi yanlışlıkla reddetmek bir Tip I hatası olacaktır.\n",
    "   - **Alfa (α):** Tip I hatası yapma olasılığı olarak adlandırılır ve genellikle 0.05 veya 0.01 gibi bir önem düzeyi ile belirtilir.\n",
    "\n",
    "2. **Tip II Hata (β Hatası veya Yanlış Negatif):**\n",
    "   - **Tanım:** Tip II hatası, null hipotezi yanlışken kabul etme hatasıdır. Yani, aslında bir etki, ilişki veya fark varken istatistiksel test sonucunda bir etki olmadığı sonucuna varılmasıdır.\n",
    "   - **Örnek:** Null hipotezi \"İki ilaç arasında bir fark vardır.\" şeklindeyken, istatistiksel test sonucunda bir fark olmadığı sonucuna varmak ve null hipotezi yanlışlıkla kabul etmek bir Tip II hatası olacaktır.\n",
    "   - **Beta (β):** Tip II hatası yapma olasılığı olarak adlandırılır.\n",
    "\n",
    "Ancak, Tip I ve Tip II hata arasında bir ters orantı vardır; yani, birini azaltmak diğerini artırabilir. Bu nedenle, istatistiksel testlerin yorumlanması ve sonuçlarıyla ilgili kararlar alınırken dikkatli olunmalıdır."
   ]
  },
  {
   "cell_type": "markdown",
   "id": "213958bd",
   "metadata": {
    "papermill": {
     "duration": 0.03267,
     "end_time": "2023-11-13T14:31:53.086291",
     "exception": false,
     "start_time": "2023-11-13T14:31:53.053621",
     "status": "completed"
    },
    "tags": []
   },
   "source": [
    "<center><img src=\"https://i.imgur.com/cVGtB4s.png\" width=\"500\" height=\"500\"></center>"
   ]
  },
  {
   "cell_type": "markdown",
   "id": "3c755d92",
   "metadata": {
    "papermill": {
     "duration": 0.033022,
     "end_time": "2023-11-13T14:31:53.153111",
     "exception": false,
     "start_time": "2023-11-13T14:31:53.120089",
     "status": "completed"
    },
    "tags": []
   },
   "source": [
    "<div style=\"border-radius:10px; border:#632626 solid; padding: 15px; background-color: #FDF6EC; font-size:100%; text-align:left\">\n",
    "\n",
    "<h3 align=\"left\"><font color='#11324D'>💡 An Example: </font></h3>\n",
    "\n",
    "**Soru:** Mobil uygulamada yapılan arayüz değişikliği sonrasında kullanıcıların uygulamada geçirdikleri günlük ortalama süre arttı mı?\n",
    "\n",
    "**Null Hipotez (H0):** Mobil uygulamada yapılan arayüz değişikliği, kullanıcıların uygulamada geçirdikleri günlük ortalama süreyi değiştirmemiştir. Matematiksel olarak ifade edildiğinde:\n",
    "\n",
    "H0: μ1 ≤ μ0 \n",
    "\n",
    "Burada, μ1, arayüz değişikliği sonrası ortalama süreyi temsil eder ve μ0, değişiklik öncesi ortalama süreyi temsil eder.\n",
    "\n",
    "**Alternatif Hipotez (H1):** Mobil uygulamada yapılan arayüz değişikliği, kullanıcıların uygulamada geçirdikleri günlük ortalama süreyi artırmıştır. Matematiksel olarak ifade edildiğinde:\n",
    "\n",
    "H1: μ1 > μ0\n",
    "\n",
    "Bu alternatif hipotez, kullanıcıların uygulamada geçirdikleri günlük ortalama sürenin arttığını iddia eder."
   ]
  },
  {
   "cell_type": "markdown",
   "id": "34e0a5f2",
   "metadata": {
    "papermill": {
     "duration": 0.032619,
     "end_time": "2023-11-13T14:31:53.221313",
     "exception": false,
     "start_time": "2023-11-13T14:31:53.188694",
     "status": "completed"
    },
    "tags": []
   },
   "source": [
    "# Content\n",
    "\n",
    "1. [💠Sampling💠](#1)\n",
    "1. [💠Descriptive Statistics💠](#2)\n",
    "1. [💠Confidence Intervals💠](#3)\n",
    "1. [💠Correlation💠](#4)\n",
    "1. [💠The Independent Two-Sample t-Test💠](#5)\n",
    "    * [A/B Testing Implementation 1](#6)\n",
    "    * [A/B Testing Implementation 2](#7)\n",
    "    * [A/B Testing Implementation 3](#8)\n",
    "    * [A/B Testing Implementation 4](#9)\n",
    "1. [💠Two-Sample Proportion Test💠](#10)\n",
    "1. [💠ANOVA - Analysis of Variance💠](#11)"
   ]
  },
  {
   "cell_type": "markdown",
   "id": "48aba766",
   "metadata": {
    "papermill": {
     "duration": 0.033434,
     "end_time": "2023-11-13T14:31:53.288329",
     "exception": false,
     "start_time": "2023-11-13T14:31:53.254895",
     "status": "completed"
    },
    "tags": []
   },
   "source": [
    "<a id=\"1\"></a>\n",
    "<h1 style=\"border-radius: 10px; border: 2px solid #6B8E23; background-color: #F5F5DC; font-family: 'Pacifico', cursive; font-size: 200%; text-align: center; border-radius: 15px 50px; padding: 15px; box-shadow: 5px 5px 5px #556B2F; color: #556B2F;\">💠Örnekleme (Sampling)💠</h1>"
   ]
  },
  {
   "cell_type": "markdown",
   "id": "ca50c22a",
   "metadata": {
    "papermill": {
     "duration": 0.032701,
     "end_time": "2023-11-13T14:31:53.450999",
     "exception": false,
     "start_time": "2023-11-13T14:31:53.418298",
     "status": "completed"
    },
    "tags": []
   },
   "source": [
    "İstatistikte, bir örneklem, genellikle bir popülasyonun temsil ettiği bir alt kümedir. Popülasyon, incelenen genel topluluğu ifade ederken, örneklem, bu popülasyonun bir kısmını temsil eden, daha küçük ve daha yönetilebilir bir alt kümedir.\n",
    "\n",
    "Örneklem, bir araştırmacının veya istatistikçinin daha büyük bir popülasyon hakkında çıkarımlar yapmak veya tahminlerde bulunmak amacıyla topladığı verilerden oluşur. Popülasyonun tamamını incelemek genellikle pratik olmadığından, örneklem, popülasyonun önemli özelliklerini yeterince temsil edecek şekilde seçilir.\n",
    "\n",
    "Örneklem, rastgele seçilebilir veya belirli bir yöntemle seçilebilir. Örneklem büyüklüğü, popülasyonun büyüklüğüne ve araştırmanın amaçlarına bağlı olarak belirlenir. Örneklem, genellikle popülasyonun istatistiksel özelliklerini yeterince yansıtmak amacıyla seçilir ve bu sayede popülasyon hakkında çıkarımlar yapılabilir.\n",
    "\n",
    "İstatistikteki örneklem, inferansiyel istatistiklerde (tahmin ve hipotez testleri gibi) kullanılarak popülasyon hakkında genellemeler ve çıkarımlar yapılmasına olanak tanır. İyi seçilmiş ve temsil edici bir örneklem, popülasyonun özelliklerini doğru bir şekilde yansılayarak istatistiksel analizlerin daha güvenilir olmasını sağlar."
   ]
  },
  {
   "cell_type": "code",
   "execution_count": 1,
   "id": "244faa7d",
   "metadata": {
    "execution": {
     "iopub.execute_input": "2023-11-13T14:31:53.518985Z",
     "iopub.status.busy": "2023-11-13T14:31:53.517853Z",
     "iopub.status.idle": "2023-11-13T14:31:56.226042Z",
     "shell.execute_reply": "2023-11-13T14:31:56.224710Z"
    },
    "papermill": {
     "duration": 2.745928,
     "end_time": "2023-11-13T14:31:56.229392",
     "exception": false,
     "start_time": "2023-11-13T14:31:53.483464",
     "status": "completed"
    },
    "tags": []
   },
   "outputs": [],
   "source": [
    "import itertools\n",
    "import numpy as np\n",
    "import pandas as pd\n",
    "import matplotlib.pyplot as plt\n",
    "import seaborn as sns\n",
    "\n",
    "# !pip install statsmodels\n",
    "import statsmodels.stats.api as sms\n",
    "\n",
    "from scipy.stats import ttest_1samp, shapiro, levene, ttest_ind, mannwhitneyu, \\\n",
    "    pearsonr, spearmanr, kendalltau, f_oneway, kruskal\n",
    "\n",
    "from statsmodels.stats.proportion import proportions_ztest\n",
    "\n",
    "import warnings\n",
    "warnings.filterwarnings(\"ignore\")\n",
    "\n",
    "# pd.set_option('display.max_columns', None)\n",
    "# pd.set_option('display.max_rows', 10)\n",
    "# pd.set_option('display.float_format', lambda x: '%.5f' % x)"
   ]
  },
  {
   "cell_type": "code",
   "execution_count": 2,
   "id": "466ca21d",
   "metadata": {
    "execution": {
     "iopub.execute_input": "2023-11-13T14:31:56.298772Z",
     "iopub.status.busy": "2023-11-13T14:31:56.297958Z",
     "iopub.status.idle": "2023-11-13T14:31:56.307432Z",
     "shell.execute_reply": "2023-11-13T14:31:56.305946Z"
    },
    "papermill": {
     "duration": 0.048388,
     "end_time": "2023-11-13T14:31:56.310305",
     "exception": false,
     "start_time": "2023-11-13T14:31:56.261917",
     "status": "completed"
    },
    "tags": []
   },
   "outputs": [],
   "source": [
    "populasyon = np.random.randint(0, 80, 10000) # 0 ile 80 arasında 10000 adet sayı oluşturuyoruz."
   ]
  },
  {
   "cell_type": "code",
   "execution_count": 3,
   "id": "355d8827",
   "metadata": {
    "execution": {
     "iopub.execute_input": "2023-11-13T14:31:56.378562Z",
     "iopub.status.busy": "2023-11-13T14:31:56.378046Z",
     "iopub.status.idle": "2023-11-13T14:31:56.389016Z",
     "shell.execute_reply": "2023-11-13T14:31:56.386936Z"
    },
    "papermill": {
     "duration": 0.04874,
     "end_time": "2023-11-13T14:31:56.392130",
     "exception": false,
     "start_time": "2023-11-13T14:31:56.343390",
     "status": "completed"
    },
    "tags": []
   },
   "outputs": [
    {
     "data": {
      "text/plain": [
       "39.7433"
      ]
     },
     "execution_count": 3,
     "metadata": {},
     "output_type": "execute_result"
    }
   ],
   "source": [
    "populasyon.mean()"
   ]
  },
  {
   "cell_type": "code",
   "execution_count": 4,
   "id": "b82996b7",
   "metadata": {
    "execution": {
     "iopub.execute_input": "2023-11-13T14:31:56.465804Z",
     "iopub.status.busy": "2023-11-13T14:31:56.465246Z",
     "iopub.status.idle": "2023-11-13T14:31:56.472807Z",
     "shell.execute_reply": "2023-11-13T14:31:56.470838Z"
    },
    "papermill": {
     "duration": 0.049902,
     "end_time": "2023-11-13T14:31:56.475727",
     "exception": false,
     "start_time": "2023-11-13T14:31:56.425825",
     "status": "completed"
    },
    "tags": []
   },
   "outputs": [],
   "source": [
    "np.random.seed(115) # seed ile aynı rastgele sıralı sayılar üretebiliriz."
   ]
  },
  {
   "cell_type": "code",
   "execution_count": 5,
   "id": "e7e8086d",
   "metadata": {
    "execution": {
     "iopub.execute_input": "2023-11-13T14:31:56.546990Z",
     "iopub.status.busy": "2023-11-13T14:31:56.546451Z",
     "iopub.status.idle": "2023-11-13T14:31:56.554980Z",
     "shell.execute_reply": "2023-11-13T14:31:56.553592Z"
    },
    "papermill": {
     "duration": 0.047917,
     "end_time": "2023-11-13T14:31:56.558078",
     "exception": false,
     "start_time": "2023-11-13T14:31:56.510161",
     "status": "completed"
    },
    "tags": []
   },
   "outputs": [],
   "source": [
    "orneklem = np.random.choice(a=populasyon, size=100) # bir popülasyon üzerinden 100 tane örneklem seçiyoruz."
   ]
  },
  {
   "cell_type": "code",
   "execution_count": 6,
   "id": "888a60af",
   "metadata": {
    "execution": {
     "iopub.execute_input": "2023-11-13T14:31:56.625358Z",
     "iopub.status.busy": "2023-11-13T14:31:56.624876Z",
     "iopub.status.idle": "2023-11-13T14:31:56.632903Z",
     "shell.execute_reply": "2023-11-13T14:31:56.631432Z"
    },
    "papermill": {
     "duration": 0.045093,
     "end_time": "2023-11-13T14:31:56.635689",
     "exception": false,
     "start_time": "2023-11-13T14:31:56.590596",
     "status": "completed"
    },
    "tags": []
   },
   "outputs": [
    {
     "data": {
      "text/plain": [
       "39.11"
      ]
     },
     "execution_count": 6,
     "metadata": {},
     "output_type": "execute_result"
    }
   ],
   "source": [
    "orneklem.mean()"
   ]
  },
  {
   "cell_type": "code",
   "execution_count": 7,
   "id": "50f6a038",
   "metadata": {
    "execution": {
     "iopub.execute_input": "2023-11-13T14:31:56.705330Z",
     "iopub.status.busy": "2023-11-13T14:31:56.704780Z",
     "iopub.status.idle": "2023-11-13T14:31:56.715738Z",
     "shell.execute_reply": "2023-11-13T14:31:56.714178Z"
    },
    "papermill": {
     "duration": 0.049723,
     "end_time": "2023-11-13T14:31:56.718431",
     "exception": false,
     "start_time": "2023-11-13T14:31:56.668708",
     "status": "completed"
    },
    "tags": []
   },
   "outputs": [],
   "source": [
    "np.random.seed(10)\n",
    "\n",
    "orneklem1 = np.random.choice(a=populasyon, size=100)\n",
    "orneklem2 = np.random.choice(a=populasyon, size=100)\n",
    "orneklem3 = np.random.choice(a=populasyon, size=100)\n",
    "orneklem4 = np.random.choice(a=populasyon, size=100)\n",
    "orneklem5 = np.random.choice(a=populasyon, size=100)\n",
    "orneklem6 = np.random.choice(a=populasyon, size=100)\n",
    "orneklem7 = np.random.choice(a=populasyon, size=100)\n",
    "orneklem8 = np.random.choice(a=populasyon, size=100)\n",
    "orneklem9 = np.random.choice(a=populasyon, size=100)\n",
    "orneklem10 = np.random.choice(a=populasyon, size=100)"
   ]
  },
  {
   "cell_type": "code",
   "execution_count": 8,
   "id": "19e3f303",
   "metadata": {
    "execution": {
     "iopub.execute_input": "2023-11-13T14:31:56.786681Z",
     "iopub.status.busy": "2023-11-13T14:31:56.786082Z",
     "iopub.status.idle": "2023-11-13T14:31:56.797580Z",
     "shell.execute_reply": "2023-11-13T14:31:56.795771Z"
    },
    "papermill": {
     "duration": 0.04962,
     "end_time": "2023-11-13T14:31:56.800725",
     "exception": false,
     "start_time": "2023-11-13T14:31:56.751105",
     "status": "completed"
    },
    "tags": []
   },
   "outputs": [
    {
     "data": {
      "text/plain": [
       "39.629000000000005"
      ]
     },
     "execution_count": 8,
     "metadata": {},
     "output_type": "execute_result"
    }
   ],
   "source": [
    "# Seçtiğimiz 10 örneklemin ortalamasını alalım;\n",
    "\n",
    "(orneklem1.mean() + orneklem2.mean() + orneklem3.mean() + orneklem4.mean() + orneklem5.mean()\n",
    " + orneklem6.mean() + orneklem7.mean() + orneklem8.mean() + orneklem9.mean() + orneklem10.mean()) / 10"
   ]
  },
  {
   "cell_type": "markdown",
   "id": "9c1e91e7",
   "metadata": {
    "papermill": {
     "duration": 0.033639,
     "end_time": "2023-11-13T14:31:56.870572",
     "exception": false,
     "start_time": "2023-11-13T14:31:56.836933",
     "status": "completed"
    },
    "tags": []
   },
   "source": [
    "<a id=\"2\"></a>\n",
    "<h1 style=\"border-radius: 10px; border: 2px solid #6B8E23; background-color: #F5F5DC; font-family: 'Pacifico', cursive; font-size: 200%; text-align: center; border-radius: 15px 50px; padding: 15px; box-shadow: 5px 5px 5px #556B2F; color: #556B2F;\">💠Betimsel İstatistikler (Descriptive Statistics)💠</h1>"
   ]
  },
  {
   "cell_type": "markdown",
   "id": "17af831c",
   "metadata": {
    "papermill": {
     "duration": 0.033714,
     "end_time": "2023-11-13T14:31:56.939484",
     "exception": false,
     "start_time": "2023-11-13T14:31:56.905770",
     "status": "completed"
    },
    "tags": []
   },
   "source": [
    "Betimsel istatistik, bir veri kümesinin özelliklerini özetler ve düzenler. Bir veri kümesi, bir örnek veya tüm popülasyondan elde edilen yanıtların veya gözlemlerin bir koleksiyonudur.\n",
    "\n",
    "Nicel araştırmada, veri toplandıktan sonra istatistiksel analizin ilk adımı, yanıtların özelliklerini açıklamaktır; örneğin, bir değişkenin ortalaması (örneğin, yaş) veya iki değişken arasındaki ilişki (örneğin, yaş ve yaratıcılık).\n",
    "\n",
    "İkinci adım, çıkarımsal istatistiklerdir; bu adım, verilerinizin hipotezinizi doğrulayıp doğrulamadığını ve daha geniş bir popülasyona genellenebilir olup olmadığınızı belirlemenize yardımcı olur.\n",
    "\n",
    "Üç ana tanımlayıcı istatistik türü vardır:\n",
    "\n",
    "* Dağılım, her bir değerin frekansıyla ilgilenir.\n",
    "* Merkezi eğilim, değerlerin ortalamasıyla ilgilidir.\n",
    "* Değişkenlik veya yayılım, değerlerin ne kadar dağınık olduğuyla ilgilidir."
   ]
  },
  {
   "cell_type": "markdown",
   "id": "ee950bfd",
   "metadata": {
    "papermill": {
     "duration": 0.03549,
     "end_time": "2023-11-13T14:31:57.008383",
     "exception": false,
     "start_time": "2023-11-13T14:31:56.972893",
     "status": "completed"
    },
    "tags": []
   },
   "source": [
    "<center><img src=\"https://i.imgur.com/Ec1Wd4r.png\" width=\"800\" height=\"800\"></center>"
   ]
  },
  {
   "cell_type": "markdown",
   "id": "7c4899c3",
   "metadata": {
    "papermill": {
     "duration": 0.035917,
     "end_time": "2023-11-13T14:31:57.079906",
     "exception": false,
     "start_time": "2023-11-13T14:31:57.043989",
     "status": "completed"
    },
    "tags": []
   },
   "source": [
    "**Frekans Dağılımı**\n",
    "\n",
    "Frekans dağılımı, bir veri kümesindeki değerlerin veya skorların sıklığını özetleyen bir tablo veya grafiktir.\n",
    "\n",
    "**Merkezi Eğilim Ölçüleri**\n",
    "\n",
    "Merkezi eğilim ölçüleri, bir veri kümesinin merkezini tahmin etmeye yardımcı olan istatistiksel ölçülerdir. Ortalama, medyan ve mod, veri kümesinin ortalamasını bulmanın farklı yollarını temsil eder.\n",
    "\n",
    "- **Ortalama (M):** Bir veri kümesindeki tüm değerleri ekleyip toplamı veri sayısına böleriz.\n",
    "- **Medyan:** Bir veri kümesinin sıralanmış hali üzerindeki ortadaki değeri ifade eder.\n",
    "- **Mod:** Bir veri kümesindeki en sık tekrar eden değeri ifade eder.\n",
    "\n",
    "**Değişkenlik Ölçüleri**\n",
    "\n",
    "Değişkenlik ölçüleri, bir veri kümesindeki değerlerin ne kadar dağıldığını ifade eden ölçümlerdir.\n",
    "\n",
    "- **Aralık:** En yüksek değeri en düşük değerden çıkartarak elde edilir.\n",
    "- **Standart Sapma (s veya SD):** Veri kümesindeki değerlerin ortalamadan ne kadar sapma gösterdiğini gösteren bir ölçüdür. Standart sapma ne kadar büyükse, veri kümesi o kadar değişkendir.\n",
    "- **Varyans (s²):** Standart sapmanın karesidir. Veri kümesindeki yayılmanın derecesini ifade eder.\n",
    "\n",
    "**İnter Kuartil Aralığı (IQR)**\n",
    "\n",
    "İnter Kuartil Aralığı, bir veri kümesindeki istatistiksel yayılmanın bir ölçüsüdür. Q1 ve Q3 kuartilleri arasındaki uzaklığı temsil eder."
   ]
  },
  {
   "cell_type": "code",
   "execution_count": 9,
   "id": "0a01a250",
   "metadata": {
    "execution": {
     "iopub.execute_input": "2023-11-13T14:31:57.156270Z",
     "iopub.status.busy": "2023-11-13T14:31:57.155440Z",
     "iopub.status.idle": "2023-11-13T14:31:57.183936Z",
     "shell.execute_reply": "2023-11-13T14:31:57.182310Z"
    },
    "papermill": {
     "duration": 0.072896,
     "end_time": "2023-11-13T14:31:57.188319",
     "exception": false,
     "start_time": "2023-11-13T14:31:57.115423",
     "status": "completed"
    },
    "tags": []
   },
   "outputs": [],
   "source": [
    "df = pd.read_csv(\"/kaggle/input/tips-dataset/tips.csv\")"
   ]
  },
  {
   "cell_type": "code",
   "execution_count": 10,
   "id": "c3bcde3f",
   "metadata": {
    "execution": {
     "iopub.execute_input": "2023-11-13T14:31:57.261032Z",
     "iopub.status.busy": "2023-11-13T14:31:57.260503Z",
     "iopub.status.idle": "2023-11-13T14:31:57.303734Z",
     "shell.execute_reply": "2023-11-13T14:31:57.302157Z"
    },
    "papermill": {
     "duration": 0.081882,
     "end_time": "2023-11-13T14:31:57.307824",
     "exception": false,
     "start_time": "2023-11-13T14:31:57.225942",
     "status": "completed"
    },
    "tags": []
   },
   "outputs": [
    {
     "data": {
      "text/html": [
       "<div>\n",
       "<style scoped>\n",
       "    .dataframe tbody tr th:only-of-type {\n",
       "        vertical-align: middle;\n",
       "    }\n",
       "\n",
       "    .dataframe tbody tr th {\n",
       "        vertical-align: top;\n",
       "    }\n",
       "\n",
       "    .dataframe thead th {\n",
       "        text-align: right;\n",
       "    }\n",
       "</style>\n",
       "<table border=\"1\" class=\"dataframe\">\n",
       "  <thead>\n",
       "    <tr style=\"text-align: right;\">\n",
       "      <th></th>\n",
       "      <th>count</th>\n",
       "      <th>mean</th>\n",
       "      <th>std</th>\n",
       "      <th>min</th>\n",
       "      <th>25%</th>\n",
       "      <th>50%</th>\n",
       "      <th>75%</th>\n",
       "      <th>max</th>\n",
       "    </tr>\n",
       "  </thead>\n",
       "  <tbody>\n",
       "    <tr>\n",
       "      <th>Total_bill</th>\n",
       "      <td>244.0</td>\n",
       "      <td>19.785943</td>\n",
       "      <td>8.902412</td>\n",
       "      <td>3.07</td>\n",
       "      <td>13.3475</td>\n",
       "      <td>17.795</td>\n",
       "      <td>24.1275</td>\n",
       "      <td>50.81</td>\n",
       "    </tr>\n",
       "    <tr>\n",
       "      <th>Tip</th>\n",
       "      <td>244.0</td>\n",
       "      <td>2.998279</td>\n",
       "      <td>1.383638</td>\n",
       "      <td>1.00</td>\n",
       "      <td>2.0000</td>\n",
       "      <td>2.900</td>\n",
       "      <td>3.5625</td>\n",
       "      <td>10.00</td>\n",
       "    </tr>\n",
       "    <tr>\n",
       "      <th>Size</th>\n",
       "      <td>244.0</td>\n",
       "      <td>2.569672</td>\n",
       "      <td>0.951100</td>\n",
       "      <td>1.00</td>\n",
       "      <td>2.0000</td>\n",
       "      <td>2.000</td>\n",
       "      <td>3.0000</td>\n",
       "      <td>6.00</td>\n",
       "    </tr>\n",
       "  </tbody>\n",
       "</table>\n",
       "</div>"
      ],
      "text/plain": [
       "            count       mean       std   min      25%     50%      75%    max\n",
       "Total_bill  244.0  19.785943  8.902412  3.07  13.3475  17.795  24.1275  50.81\n",
       "Tip         244.0   2.998279  1.383638  1.00   2.0000   2.900   3.5625  10.00\n",
       "Size        244.0   2.569672  0.951100  1.00   2.0000   2.000   3.0000   6.00"
      ]
     },
     "execution_count": 10,
     "metadata": {},
     "output_type": "execute_result"
    }
   ],
   "source": [
    "df.describe().T"
   ]
  },
  {
   "cell_type": "markdown",
   "id": "a747687d",
   "metadata": {
    "papermill": {
     "duration": 0.046297,
     "end_time": "2023-11-13T14:31:57.402127",
     "exception": false,
     "start_time": "2023-11-13T14:31:57.355830",
     "status": "completed"
    },
    "tags": []
   },
   "source": [
    "<a id=\"3\"></a>\n",
    "<h1 style=\"border-radius: 10px; border: 2px solid #6B8E23; background-color: #F5F5DC; font-family: 'Pacifico', cursive; font-size: 200%; text-align: center; border-radius: 15px 50px; padding: 15px; box-shadow: 5px 5px 5px #556B2F; color: #556B2F;\">💠Güven Aralıkları (Confidence Intervals)💠</h1>"
   ]
  },
  {
   "cell_type": "markdown",
   "id": "730e8c78",
   "metadata": {
    "papermill": {
     "duration": 0.037347,
     "end_time": "2023-11-13T14:31:57.485638",
     "exception": false,
     "start_time": "2023-11-13T14:31:57.448291",
     "status": "completed"
    },
    "tags": []
   },
   "source": [
    "Güven aralığı (Confidence Interval - CI), bir istatistiksel ölçüm veya tahminin belirli bir güven düzeyinde yer aldığı aralığı ifade eder. Güven aralığı, örneğin bir parametrenin, tahminin veya oranın belirli bir güven düzeyi içinde bulunma olasılığını ifade eder.\n",
    "\n",
    "Bir güven aralığı, bir örneklem veya veri seti üzerinden elde edilen bir istatistiği çevreleyen iki değeri içerir. Örneğin, bir 95% güven aralığı, bir parametrenin (örneğin, bir popülasyonun ortalama değeri) bu aralık içinde yer alma olasılığını ifade eder. Bu, aynı örneklem veya veri seti üzerinden yapılan tekrarlı örneklemlerden elde edilen güven aralıklarının belirli bir yüzdesinin (genellikle %95) istatistiğin gerçek değerini içermesi beklendiği anlamına gelir.\n",
    "\n",
    "Güven aralıkları, istatistiksel tahminlerin belirsizliklerini ve değişkenliklerini değerlendirmek için yaygın olarak kullanılır. Özellikle parametre tahminlerinde veya hipotez testlerinde, kesin bir sayısal değeri belirtmek yerine, bir aralık içinde bulunma olasılığını belirtmek, sonuçların güvenilirliğini daha iyi yansıtabilir.\n",
    "\n",
    "Örneğin, bir anket sonucunda bir siyasi adayın destek oranını belirlemek istiyorsanız, bu destek oranının bir güven aralığı içinde olduğunu belirlemek, veri setinizdeki belirsizlikleri dikkate almanıza ve istatistiksel güvenilirlik seviyenizi belirlemenize yardımcı olabilir."
   ]
  },
  {
   "cell_type": "markdown",
   "id": "b5296ea8",
   "metadata": {
    "papermill": {
     "duration": 0.034844,
     "end_time": "2023-11-13T14:31:57.555637",
     "exception": false,
     "start_time": "2023-11-13T14:31:57.520793",
     "status": "completed"
    },
    "tags": []
   },
   "source": [
    "<div style=\"border-radius:10px; border:#632626 solid; padding: 15px; background-color: #FDF6EC; font-size:100%; text-align:left\">\n",
    "\n",
    "<h3 align=\"left\"><font color='#11324D'>💡 An Example: </font></h3>\n",
    "    \n",
    "Diyelim ki bir şehirdeki ev hanelerinin ortalama gelirini tahmin etmek için bir anket yapılıyor. Rastgele seçilmiş 100 hane halkından oluşan bir örnekleme sahipsiniz ve örneklem ortalama geliri hesaplıyorsunuz, bu ortalama 50.000 dolar olarak çıkıyor.\n",
    "\n",
    "Şehirdeki tüm ev hanelerinin gerçek ortalama gelirini belirlemek için bir güven aralığı sağlamak istiyorsunuz ve %95 güven düzeyini kullanmayı planlıyorsunuz. İstatistiksel tablolardan, %95 güven düzeyi için kritik değerin yaklaşık olarak 1,96 olduğunu biliyorsunuz (normal dağılım varsayıyoruz).\n",
    "\n",
    "Şimdi, örneklem verilerinize dayanarak ortalamanın standart hata (standard error) hesaplamanız gerekiyor. Diyelim ki bu standart hata 5.000 dolar.\n",
    "\n",
    "Şimdi, güven aralığını oluşturabilirsiniz:\n",
    "\n",
    "* GA = Örneklem Ortalaması ± (Kritik Değer) * (Standart Hata)\n",
    "* GA = 50.000 dolar ± (1,96) * 5.000 dolar\n",
    "* GA = 50.000 dolar ± 9.800 dolar\n",
    "\n",
    "Yani, şehirdeki ev hanelerinin ortalama geliri için %95 güven düzeyindeki güven aralığınız 40.200 dolar ile 59.800 dolar arasındadır. Bu, gerçek ortalama gelirin bu aralık içinde olduğuna %95 güven duyduğunuz anlamına gelir. Bu anketi birden fazla kez tekrarlasanız ve güven aralıklarını hesaplarsanız, bu aralıkların yaklaşık %95'inin şehirdeki tüm ev hanelerinin gerçek ortalama gelirini içerdiğini bulursunuz.\n",
    "\n",
    "Bu güven aralığı, örneklem verilerinizle ilişkilendirilen belirsizliği ölçer ve örneklem verilerinize dayalı olarak popülasyon parametresi (ortalama gelir) hakkında istatistiksel çıkarımlar yapmanıza olanak tanır."
   ]
  },
  {
   "cell_type": "markdown",
   "id": "5d46b4e8",
   "metadata": {
    "papermill": {
     "duration": 0.043915,
     "end_time": "2023-11-13T14:31:57.633970",
     "exception": false,
     "start_time": "2023-11-13T14:31:57.590055",
     "status": "completed"
    },
    "tags": []
   },
   "source": [
    "> **\"Tips\" veri setindeki sayısal değişkenler için güven aralığı hesabı;**"
   ]
  },
  {
   "cell_type": "code",
   "execution_count": 11,
   "id": "c808ab0c",
   "metadata": {
    "execution": {
     "iopub.execute_input": "2023-11-13T14:31:57.711069Z",
     "iopub.status.busy": "2023-11-13T14:31:57.710174Z",
     "iopub.status.idle": "2023-11-13T14:31:57.719641Z",
     "shell.execute_reply": "2023-11-13T14:31:57.718540Z"
    },
    "papermill": {
     "duration": 0.05192,
     "end_time": "2023-11-13T14:31:57.722494",
     "exception": false,
     "start_time": "2023-11-13T14:31:57.670574",
     "status": "completed"
    },
    "tags": []
   },
   "outputs": [],
   "source": [
    "df = pd.read_csv(\"/kaggle/input/tips-dataset/tips.csv\")"
   ]
  },
  {
   "cell_type": "code",
   "execution_count": 12,
   "id": "bbd71890",
   "metadata": {
    "execution": {
     "iopub.execute_input": "2023-11-13T14:31:57.792806Z",
     "iopub.status.busy": "2023-11-13T14:31:57.792076Z",
     "iopub.status.idle": "2023-11-13T14:31:57.819716Z",
     "shell.execute_reply": "2023-11-13T14:31:57.818245Z"
    },
    "papermill": {
     "duration": 0.066718,
     "end_time": "2023-11-13T14:31:57.822904",
     "exception": false,
     "start_time": "2023-11-13T14:31:57.756186",
     "status": "completed"
    },
    "tags": []
   },
   "outputs": [
    {
     "data": {
      "text/html": [
       "<div>\n",
       "<style scoped>\n",
       "    .dataframe tbody tr th:only-of-type {\n",
       "        vertical-align: middle;\n",
       "    }\n",
       "\n",
       "    .dataframe tbody tr th {\n",
       "        vertical-align: top;\n",
       "    }\n",
       "\n",
       "    .dataframe thead th {\n",
       "        text-align: right;\n",
       "    }\n",
       "</style>\n",
       "<table border=\"1\" class=\"dataframe\">\n",
       "  <thead>\n",
       "    <tr style=\"text-align: right;\">\n",
       "      <th></th>\n",
       "      <th>count</th>\n",
       "      <th>mean</th>\n",
       "      <th>std</th>\n",
       "      <th>min</th>\n",
       "      <th>25%</th>\n",
       "      <th>50%</th>\n",
       "      <th>75%</th>\n",
       "      <th>max</th>\n",
       "    </tr>\n",
       "  </thead>\n",
       "  <tbody>\n",
       "    <tr>\n",
       "      <th>Total_bill</th>\n",
       "      <td>244.0</td>\n",
       "      <td>19.785943</td>\n",
       "      <td>8.902412</td>\n",
       "      <td>3.07</td>\n",
       "      <td>13.3475</td>\n",
       "      <td>17.795</td>\n",
       "      <td>24.1275</td>\n",
       "      <td>50.81</td>\n",
       "    </tr>\n",
       "    <tr>\n",
       "      <th>Tip</th>\n",
       "      <td>244.0</td>\n",
       "      <td>2.998279</td>\n",
       "      <td>1.383638</td>\n",
       "      <td>1.00</td>\n",
       "      <td>2.0000</td>\n",
       "      <td>2.900</td>\n",
       "      <td>3.5625</td>\n",
       "      <td>10.00</td>\n",
       "    </tr>\n",
       "    <tr>\n",
       "      <th>Size</th>\n",
       "      <td>244.0</td>\n",
       "      <td>2.569672</td>\n",
       "      <td>0.951100</td>\n",
       "      <td>1.00</td>\n",
       "      <td>2.0000</td>\n",
       "      <td>2.000</td>\n",
       "      <td>3.0000</td>\n",
       "      <td>6.00</td>\n",
       "    </tr>\n",
       "  </tbody>\n",
       "</table>\n",
       "</div>"
      ],
      "text/plain": [
       "            count       mean       std   min      25%     50%      75%    max\n",
       "Total_bill  244.0  19.785943  8.902412  3.07  13.3475  17.795  24.1275  50.81\n",
       "Tip         244.0   2.998279  1.383638  1.00   2.0000   2.900   3.5625  10.00\n",
       "Size        244.0   2.569672  0.951100  1.00   2.0000   2.000   3.0000   6.00"
      ]
     },
     "execution_count": 12,
     "metadata": {},
     "output_type": "execute_result"
    }
   ],
   "source": [
    "df.describe().T"
   ]
  },
  {
   "cell_type": "code",
   "execution_count": 13,
   "id": "31cba5fa",
   "metadata": {
    "execution": {
     "iopub.execute_input": "2023-11-13T14:31:57.890379Z",
     "iopub.status.busy": "2023-11-13T14:31:57.889924Z",
     "iopub.status.idle": "2023-11-13T14:31:57.907532Z",
     "shell.execute_reply": "2023-11-13T14:31:57.906135Z"
    },
    "papermill": {
     "duration": 0.054162,
     "end_time": "2023-11-13T14:31:57.910249",
     "exception": false,
     "start_time": "2023-11-13T14:31:57.856087",
     "status": "completed"
    },
    "tags": []
   },
   "outputs": [
    {
     "data": {
      "text/html": [
       "<div>\n",
       "<style scoped>\n",
       "    .dataframe tbody tr th:only-of-type {\n",
       "        vertical-align: middle;\n",
       "    }\n",
       "\n",
       "    .dataframe tbody tr th {\n",
       "        vertical-align: top;\n",
       "    }\n",
       "\n",
       "    .dataframe thead th {\n",
       "        text-align: right;\n",
       "    }\n",
       "</style>\n",
       "<table border=\"1\" class=\"dataframe\">\n",
       "  <thead>\n",
       "    <tr style=\"text-align: right;\">\n",
       "      <th></th>\n",
       "      <th>Total_bill</th>\n",
       "      <th>Tip</th>\n",
       "      <th>Sex</th>\n",
       "      <th>Smoker</th>\n",
       "      <th>Day</th>\n",
       "      <th>Time</th>\n",
       "      <th>Size</th>\n",
       "    </tr>\n",
       "  </thead>\n",
       "  <tbody>\n",
       "    <tr>\n",
       "      <th>0</th>\n",
       "      <td>16.99</td>\n",
       "      <td>1.01</td>\n",
       "      <td>Female</td>\n",
       "      <td>No</td>\n",
       "      <td>Sun</td>\n",
       "      <td>Dinner</td>\n",
       "      <td>2</td>\n",
       "    </tr>\n",
       "    <tr>\n",
       "      <th>1</th>\n",
       "      <td>10.34</td>\n",
       "      <td>1.66</td>\n",
       "      <td>Male</td>\n",
       "      <td>No</td>\n",
       "      <td>Sun</td>\n",
       "      <td>Dinner</td>\n",
       "      <td>3</td>\n",
       "    </tr>\n",
       "    <tr>\n",
       "      <th>2</th>\n",
       "      <td>21.01</td>\n",
       "      <td>3.50</td>\n",
       "      <td>Male</td>\n",
       "      <td>No</td>\n",
       "      <td>Sun</td>\n",
       "      <td>Dinner</td>\n",
       "      <td>3</td>\n",
       "    </tr>\n",
       "    <tr>\n",
       "      <th>3</th>\n",
       "      <td>23.68</td>\n",
       "      <td>3.31</td>\n",
       "      <td>Male</td>\n",
       "      <td>No</td>\n",
       "      <td>Sun</td>\n",
       "      <td>Dinner</td>\n",
       "      <td>2</td>\n",
       "    </tr>\n",
       "    <tr>\n",
       "      <th>4</th>\n",
       "      <td>24.59</td>\n",
       "      <td>3.61</td>\n",
       "      <td>Female</td>\n",
       "      <td>No</td>\n",
       "      <td>Sun</td>\n",
       "      <td>Dinner</td>\n",
       "      <td>4</td>\n",
       "    </tr>\n",
       "  </tbody>\n",
       "</table>\n",
       "</div>"
      ],
      "text/plain": [
       "   Total_bill   Tip     Sex Smoker  Day    Time  Size\n",
       "0       16.99  1.01  Female     No  Sun  Dinner     2\n",
       "1       10.34  1.66    Male     No  Sun  Dinner     3\n",
       "2       21.01  3.50    Male     No  Sun  Dinner     3\n",
       "3       23.68  3.31    Male     No  Sun  Dinner     2\n",
       "4       24.59  3.61  Female     No  Sun  Dinner     4"
      ]
     },
     "execution_count": 13,
     "metadata": {},
     "output_type": "execute_result"
    }
   ],
   "source": [
    "df.head()"
   ]
  },
  {
   "cell_type": "code",
   "execution_count": 14,
   "id": "d697dd08",
   "metadata": {
    "execution": {
     "iopub.execute_input": "2023-11-13T14:31:57.981943Z",
     "iopub.status.busy": "2023-11-13T14:31:57.981116Z",
     "iopub.status.idle": "2023-11-13T14:31:57.991572Z",
     "shell.execute_reply": "2023-11-13T14:31:57.990526Z"
    },
    "papermill": {
     "duration": 0.048904,
     "end_time": "2023-11-13T14:31:57.994325",
     "exception": false,
     "start_time": "2023-11-13T14:31:57.945421",
     "status": "completed"
    },
    "tags": []
   },
   "outputs": [
    {
     "data": {
      "text/plain": [
       "(18.66333170435847, 20.908553541543164)"
      ]
     },
     "execution_count": 14,
     "metadata": {},
     "output_type": "execute_result"
    }
   ],
   "source": [
    "sms.DescrStatsW(df[\"Total_bill\"]).tconfint_mean()"
   ]
  },
  {
   "cell_type": "markdown",
   "id": "9c843bfa",
   "metadata": {
    "papermill": {
     "duration": 0.040037,
     "end_time": "2023-11-13T14:31:58.073431",
     "exception": false,
     "start_time": "2023-11-13T14:31:58.033394",
     "status": "completed"
    },
    "tags": []
   },
   "source": [
    "<div style=\"border-radius:10px; border:#65647C solid; padding: 15px; background-color: #F8EDE3; font-size:100%; text-align:left\">\n",
    "\n",
    "<h3 align=\"left\"><font color='#7D6E83'><b>🗨️ Comment: </b></font></h3>\n",
    "    \n",
    "* Restorana gelenlerin ödeyeceği hesap istatistiksel olarak %95 güven ile (18.66, 20.90) arasındadır ve %5'te hata payı vardır."
   ]
  },
  {
   "cell_type": "code",
   "execution_count": 15,
   "id": "8407b4f8",
   "metadata": {
    "execution": {
     "iopub.execute_input": "2023-11-13T14:31:58.152648Z",
     "iopub.status.busy": "2023-11-13T14:31:58.151808Z",
     "iopub.status.idle": "2023-11-13T14:31:58.159874Z",
     "shell.execute_reply": "2023-11-13T14:31:58.158758Z"
    },
    "papermill": {
     "duration": 0.054443,
     "end_time": "2023-11-13T14:31:58.163506",
     "exception": false,
     "start_time": "2023-11-13T14:31:58.109063",
     "status": "completed"
    },
    "tags": []
   },
   "outputs": [
    {
     "data": {
      "text/plain": [
       "(2.823799306281821, 3.1727580707673595)"
      ]
     },
     "execution_count": 15,
     "metadata": {},
     "output_type": "execute_result"
    }
   ],
   "source": [
    "sms.DescrStatsW(df[\"Tip\"]).tconfint_mean()"
   ]
  },
  {
   "cell_type": "markdown",
   "id": "d6b69bf0",
   "metadata": {
    "papermill": {
     "duration": 0.033821,
     "end_time": "2023-11-13T14:31:58.235875",
     "exception": false,
     "start_time": "2023-11-13T14:31:58.202054",
     "status": "completed"
    },
    "tags": []
   },
   "source": [
    "> **\"Titanic\" veri setindeki sayısal değişkenler için güven aralığı hesabı;**"
   ]
  },
  {
   "cell_type": "code",
   "execution_count": 16,
   "id": "98890b6f",
   "metadata": {
    "execution": {
     "iopub.execute_input": "2023-11-13T14:31:58.318389Z",
     "iopub.status.busy": "2023-11-13T14:31:58.317314Z",
     "iopub.status.idle": "2023-11-13T14:31:58.336803Z",
     "shell.execute_reply": "2023-11-13T14:31:58.335487Z"
    },
    "papermill": {
     "duration": 0.069025,
     "end_time": "2023-11-13T14:31:58.340290",
     "exception": false,
     "start_time": "2023-11-13T14:31:58.271265",
     "status": "completed"
    },
    "tags": []
   },
   "outputs": [],
   "source": [
    "df = pd.read_csv(\"/kaggle/input/titanic/train.csv\")"
   ]
  },
  {
   "cell_type": "code",
   "execution_count": 17,
   "id": "3435df00",
   "metadata": {
    "execution": {
     "iopub.execute_input": "2023-11-13T14:31:58.415739Z",
     "iopub.status.busy": "2023-11-13T14:31:58.414572Z",
     "iopub.status.idle": "2023-11-13T14:31:58.460476Z",
     "shell.execute_reply": "2023-11-13T14:31:58.459141Z"
    },
    "papermill": {
     "duration": 0.08613,
     "end_time": "2023-11-13T14:31:58.463412",
     "exception": false,
     "start_time": "2023-11-13T14:31:58.377282",
     "status": "completed"
    },
    "tags": []
   },
   "outputs": [
    {
     "data": {
      "text/html": [
       "<div>\n",
       "<style scoped>\n",
       "    .dataframe tbody tr th:only-of-type {\n",
       "        vertical-align: middle;\n",
       "    }\n",
       "\n",
       "    .dataframe tbody tr th {\n",
       "        vertical-align: top;\n",
       "    }\n",
       "\n",
       "    .dataframe thead th {\n",
       "        text-align: right;\n",
       "    }\n",
       "</style>\n",
       "<table border=\"1\" class=\"dataframe\">\n",
       "  <thead>\n",
       "    <tr style=\"text-align: right;\">\n",
       "      <th></th>\n",
       "      <th>count</th>\n",
       "      <th>mean</th>\n",
       "      <th>std</th>\n",
       "      <th>min</th>\n",
       "      <th>25%</th>\n",
       "      <th>50%</th>\n",
       "      <th>75%</th>\n",
       "      <th>max</th>\n",
       "    </tr>\n",
       "  </thead>\n",
       "  <tbody>\n",
       "    <tr>\n",
       "      <th>PassengerId</th>\n",
       "      <td>891.0</td>\n",
       "      <td>446.000000</td>\n",
       "      <td>257.353842</td>\n",
       "      <td>1.00</td>\n",
       "      <td>223.5000</td>\n",
       "      <td>446.0000</td>\n",
       "      <td>668.5</td>\n",
       "      <td>891.0000</td>\n",
       "    </tr>\n",
       "    <tr>\n",
       "      <th>Survived</th>\n",
       "      <td>891.0</td>\n",
       "      <td>0.383838</td>\n",
       "      <td>0.486592</td>\n",
       "      <td>0.00</td>\n",
       "      <td>0.0000</td>\n",
       "      <td>0.0000</td>\n",
       "      <td>1.0</td>\n",
       "      <td>1.0000</td>\n",
       "    </tr>\n",
       "    <tr>\n",
       "      <th>Pclass</th>\n",
       "      <td>891.0</td>\n",
       "      <td>2.308642</td>\n",
       "      <td>0.836071</td>\n",
       "      <td>1.00</td>\n",
       "      <td>2.0000</td>\n",
       "      <td>3.0000</td>\n",
       "      <td>3.0</td>\n",
       "      <td>3.0000</td>\n",
       "    </tr>\n",
       "    <tr>\n",
       "      <th>Age</th>\n",
       "      <td>714.0</td>\n",
       "      <td>29.699118</td>\n",
       "      <td>14.526497</td>\n",
       "      <td>0.42</td>\n",
       "      <td>20.1250</td>\n",
       "      <td>28.0000</td>\n",
       "      <td>38.0</td>\n",
       "      <td>80.0000</td>\n",
       "    </tr>\n",
       "    <tr>\n",
       "      <th>SibSp</th>\n",
       "      <td>891.0</td>\n",
       "      <td>0.523008</td>\n",
       "      <td>1.102743</td>\n",
       "      <td>0.00</td>\n",
       "      <td>0.0000</td>\n",
       "      <td>0.0000</td>\n",
       "      <td>1.0</td>\n",
       "      <td>8.0000</td>\n",
       "    </tr>\n",
       "    <tr>\n",
       "      <th>Parch</th>\n",
       "      <td>891.0</td>\n",
       "      <td>0.381594</td>\n",
       "      <td>0.806057</td>\n",
       "      <td>0.00</td>\n",
       "      <td>0.0000</td>\n",
       "      <td>0.0000</td>\n",
       "      <td>0.0</td>\n",
       "      <td>6.0000</td>\n",
       "    </tr>\n",
       "    <tr>\n",
       "      <th>Fare</th>\n",
       "      <td>891.0</td>\n",
       "      <td>32.204208</td>\n",
       "      <td>49.693429</td>\n",
       "      <td>0.00</td>\n",
       "      <td>7.9104</td>\n",
       "      <td>14.4542</td>\n",
       "      <td>31.0</td>\n",
       "      <td>512.3292</td>\n",
       "    </tr>\n",
       "  </tbody>\n",
       "</table>\n",
       "</div>"
      ],
      "text/plain": [
       "             count        mean         std   min       25%       50%    75%  \\\n",
       "PassengerId  891.0  446.000000  257.353842  1.00  223.5000  446.0000  668.5   \n",
       "Survived     891.0    0.383838    0.486592  0.00    0.0000    0.0000    1.0   \n",
       "Pclass       891.0    2.308642    0.836071  1.00    2.0000    3.0000    3.0   \n",
       "Age          714.0   29.699118   14.526497  0.42   20.1250   28.0000   38.0   \n",
       "SibSp        891.0    0.523008    1.102743  0.00    0.0000    0.0000    1.0   \n",
       "Parch        891.0    0.381594    0.806057  0.00    0.0000    0.0000    0.0   \n",
       "Fare         891.0   32.204208   49.693429  0.00    7.9104   14.4542   31.0   \n",
       "\n",
       "                  max  \n",
       "PassengerId  891.0000  \n",
       "Survived       1.0000  \n",
       "Pclass         3.0000  \n",
       "Age           80.0000  \n",
       "SibSp          8.0000  \n",
       "Parch          6.0000  \n",
       "Fare         512.3292  "
      ]
     },
     "execution_count": 17,
     "metadata": {},
     "output_type": "execute_result"
    }
   ],
   "source": [
    "df.describe().T"
   ]
  },
  {
   "cell_type": "code",
   "execution_count": 18,
   "id": "c3399c93",
   "metadata": {
    "execution": {
     "iopub.execute_input": "2023-11-13T14:31:58.547247Z",
     "iopub.status.busy": "2023-11-13T14:31:58.545706Z",
     "iopub.status.idle": "2023-11-13T14:31:58.555938Z",
     "shell.execute_reply": "2023-11-13T14:31:58.554654Z"
    },
    "papermill": {
     "duration": 0.054839,
     "end_time": "2023-11-13T14:31:58.558547",
     "exception": false,
     "start_time": "2023-11-13T14:31:58.503708",
     "status": "completed"
    },
    "tags": []
   },
   "outputs": [
    {
     "data": {
      "text/plain": [
       "(28.631790041821507, 30.766445252296133)"
      ]
     },
     "execution_count": 18,
     "metadata": {},
     "output_type": "execute_result"
    }
   ],
   "source": [
    "sms.DescrStatsW(df[\"Age\"].dropna()).tconfint_mean()"
   ]
  },
  {
   "cell_type": "code",
   "execution_count": 19,
   "id": "35a2a45d",
   "metadata": {
    "execution": {
     "iopub.execute_input": "2023-11-13T14:31:58.630195Z",
     "iopub.status.busy": "2023-11-13T14:31:58.628908Z",
     "iopub.status.idle": "2023-11-13T14:31:58.638689Z",
     "shell.execute_reply": "2023-11-13T14:31:58.637387Z"
    },
    "papermill": {
     "duration": 0.047551,
     "end_time": "2023-11-13T14:31:58.641200",
     "exception": false,
     "start_time": "2023-11-13T14:31:58.593649",
     "status": "completed"
    },
    "tags": []
   },
   "outputs": [
    {
     "data": {
      "text/plain": [
       "(28.936831234567325, 35.471584702581936)"
      ]
     },
     "execution_count": 19,
     "metadata": {},
     "output_type": "execute_result"
    }
   ],
   "source": [
    "sms.DescrStatsW(df[\"Fare\"].dropna()).tconfint_mean()"
   ]
  },
  {
   "cell_type": "markdown",
   "id": "563b8b66",
   "metadata": {
    "papermill": {
     "duration": 0.034544,
     "end_time": "2023-11-13T14:31:58.711647",
     "exception": false,
     "start_time": "2023-11-13T14:31:58.677103",
     "status": "completed"
    },
    "tags": []
   },
   "source": [
    "<a id=\"4\"></a>\n",
    "<h1 style=\"border-radius: 10px; border: 2px solid #6B8E23; background-color: #F5F5DC; font-family: 'Pacifico', cursive; font-size: 200%; text-align: center; border-radius: 15px 50px; padding: 15px; box-shadow: 5px 5px 5px #556B2F; color: #556B2F;\">💠Korelasyon (Correlation)💠</h1>"
   ]
  },
  {
   "cell_type": "markdown",
   "id": "c602f2a8",
   "metadata": {
    "papermill": {
     "duration": 0.037417,
     "end_time": "2023-11-13T14:31:58.782435",
     "exception": false,
     "start_time": "2023-11-13T14:31:58.745018",
     "status": "completed"
    },
    "tags": []
   },
   "source": [
    "Korelasyon, iki değişken arasındaki ilişkiyi ölçen bir istatistiksel kavramdır. İki değişken arasındaki korelasyon, bir değişkenin değeri ile diğer değişkenin değeri arasındaki ilişki hakkında bilgi sağlar. Korelasyon, genellikle -1 ile 1 arasında bir değer alır.\n",
    "\n",
    "- 1'e yaklaşan bir pozitif korelasyon, iki değişken arasında güçlü bir pozitif ilişki olduğunu gösterir. Yani, bir değişken arttığında diğer değişken de artar.\n",
    "  \n",
    "- -1'e yaklaşan bir negatif korelasyon, iki değişken arasında güçlü bir negatif ilişki olduğunu gösterir. Yani, bir değişken arttığında diğer değişken azalır.\n",
    "\n",
    "- 0'a yakın bir korelasyon, iki değişken arasında çok zayıf veya hiçbir ilişki olmadığını gösterir.\n",
    "\n",
    "Korelasyon, veri analizi ve istatistiksel inceleme süreçlerinde yaygın olarak kullanılır. İki değişken arasındaki ilişkiyi anlamak, bir değişkenin diğerini ne kadar etkilediğini veya birbirine ne kadar bağımlı olduğunu değerlendirmek için korelasyon analizi kullanılır. Ancak, korelasyon, nedensel bir ilişkiyi ifade etmez; yani, iki değişken arasındaki korelasyonun yüksek olması, bir değişkenin diğerini nedenlediği anlamına gelmez."
   ]
  },
  {
   "cell_type": "code",
   "execution_count": 20,
   "id": "0f439542",
   "metadata": {
    "execution": {
     "iopub.execute_input": "2023-11-13T14:31:58.854519Z",
     "iopub.status.busy": "2023-11-13T14:31:58.854113Z",
     "iopub.status.idle": "2023-11-13T14:31:58.867067Z",
     "shell.execute_reply": "2023-11-13T14:31:58.865026Z"
    },
    "papermill": {
     "duration": 0.051879,
     "end_time": "2023-11-13T14:31:58.870428",
     "exception": false,
     "start_time": "2023-11-13T14:31:58.818549",
     "status": "completed"
    },
    "tags": []
   },
   "outputs": [],
   "source": [
    "df = pd.read_csv(\"/kaggle/input/tips-dataset/tips.csv\")"
   ]
  },
  {
   "cell_type": "code",
   "execution_count": 21,
   "id": "03873ac9",
   "metadata": {
    "execution": {
     "iopub.execute_input": "2023-11-13T14:31:58.943923Z",
     "iopub.status.busy": "2023-11-13T14:31:58.942840Z",
     "iopub.status.idle": "2023-11-13T14:31:58.959956Z",
     "shell.execute_reply": "2023-11-13T14:31:58.958766Z"
    },
    "papermill": {
     "duration": 0.056504,
     "end_time": "2023-11-13T14:31:58.962747",
     "exception": false,
     "start_time": "2023-11-13T14:31:58.906243",
     "status": "completed"
    },
    "tags": []
   },
   "outputs": [
    {
     "data": {
      "text/html": [
       "<div>\n",
       "<style scoped>\n",
       "    .dataframe tbody tr th:only-of-type {\n",
       "        vertical-align: middle;\n",
       "    }\n",
       "\n",
       "    .dataframe tbody tr th {\n",
       "        vertical-align: top;\n",
       "    }\n",
       "\n",
       "    .dataframe thead th {\n",
       "        text-align: right;\n",
       "    }\n",
       "</style>\n",
       "<table border=\"1\" class=\"dataframe\">\n",
       "  <thead>\n",
       "    <tr style=\"text-align: right;\">\n",
       "      <th></th>\n",
       "      <th>Total_bill</th>\n",
       "      <th>Tip</th>\n",
       "      <th>Sex</th>\n",
       "      <th>Smoker</th>\n",
       "      <th>Day</th>\n",
       "      <th>Time</th>\n",
       "      <th>Size</th>\n",
       "    </tr>\n",
       "  </thead>\n",
       "  <tbody>\n",
       "    <tr>\n",
       "      <th>0</th>\n",
       "      <td>16.99</td>\n",
       "      <td>1.01</td>\n",
       "      <td>Female</td>\n",
       "      <td>No</td>\n",
       "      <td>Sun</td>\n",
       "      <td>Dinner</td>\n",
       "      <td>2</td>\n",
       "    </tr>\n",
       "    <tr>\n",
       "      <th>1</th>\n",
       "      <td>10.34</td>\n",
       "      <td>1.66</td>\n",
       "      <td>Male</td>\n",
       "      <td>No</td>\n",
       "      <td>Sun</td>\n",
       "      <td>Dinner</td>\n",
       "      <td>3</td>\n",
       "    </tr>\n",
       "    <tr>\n",
       "      <th>2</th>\n",
       "      <td>21.01</td>\n",
       "      <td>3.50</td>\n",
       "      <td>Male</td>\n",
       "      <td>No</td>\n",
       "      <td>Sun</td>\n",
       "      <td>Dinner</td>\n",
       "      <td>3</td>\n",
       "    </tr>\n",
       "    <tr>\n",
       "      <th>3</th>\n",
       "      <td>23.68</td>\n",
       "      <td>3.31</td>\n",
       "      <td>Male</td>\n",
       "      <td>No</td>\n",
       "      <td>Sun</td>\n",
       "      <td>Dinner</td>\n",
       "      <td>2</td>\n",
       "    </tr>\n",
       "    <tr>\n",
       "      <th>4</th>\n",
       "      <td>24.59</td>\n",
       "      <td>3.61</td>\n",
       "      <td>Female</td>\n",
       "      <td>No</td>\n",
       "      <td>Sun</td>\n",
       "      <td>Dinner</td>\n",
       "      <td>4</td>\n",
       "    </tr>\n",
       "  </tbody>\n",
       "</table>\n",
       "</div>"
      ],
      "text/plain": [
       "   Total_bill   Tip     Sex Smoker  Day    Time  Size\n",
       "0       16.99  1.01  Female     No  Sun  Dinner     2\n",
       "1       10.34  1.66    Male     No  Sun  Dinner     3\n",
       "2       21.01  3.50    Male     No  Sun  Dinner     3\n",
       "3       23.68  3.31    Male     No  Sun  Dinner     2\n",
       "4       24.59  3.61  Female     No  Sun  Dinner     4"
      ]
     },
     "execution_count": 21,
     "metadata": {},
     "output_type": "execute_result"
    }
   ],
   "source": [
    "df.head()"
   ]
  },
  {
   "cell_type": "markdown",
   "id": "0b7ce23b",
   "metadata": {
    "papermill": {
     "duration": 0.035741,
     "end_time": "2023-11-13T14:31:59.032739",
     "exception": false,
     "start_time": "2023-11-13T14:31:58.996998",
     "status": "completed"
    },
    "tags": []
   },
   "source": [
    "<div style=\"border-radius: 10px; border: #6B8E23 solid; padding: 15px; background-color: #F5F5DC; font-size: 100%; text-align: left\">\n",
    "\n",
    "<h3 align=\"left\"><font color='#556B2F'>👀 Features : </font></h3>\n",
    "\n",
    "* **total_bill:** yemeğin toplam fiyatı (bahşiş ve vergi dahil)\n",
    "* **tip:** bahşiş\n",
    "* **sex:** ücreti ödeyen kişinin cinsiyeti (0=male, 1=female)\n",
    "* **smoker:** grupta sigara içen var mı? (0=No, 1=Yes)\n",
    "* **day:** gün (3=Thur, 4=Fri, 5=Sat, 6=Sun)\n",
    "* **time:** ne zaman? (0=Day, 1=Night)\n",
    "* **size:** grupta kaç kişi var?"
   ]
  },
  {
   "cell_type": "code",
   "execution_count": 22,
   "id": "ef35cf63",
   "metadata": {
    "execution": {
     "iopub.execute_input": "2023-11-13T14:31:59.103793Z",
     "iopub.status.busy": "2023-11-13T14:31:59.102925Z",
     "iopub.status.idle": "2023-11-13T14:31:59.111652Z",
     "shell.execute_reply": "2023-11-13T14:31:59.110612Z"
    },
    "papermill": {
     "duration": 0.048043,
     "end_time": "2023-11-13T14:31:59.114681",
     "exception": false,
     "start_time": "2023-11-13T14:31:59.066638",
     "status": "completed"
    },
    "tags": []
   },
   "outputs": [],
   "source": [
    "# total_bill, bahşiş ve vergi toplamı olduğu için bahşişi çıkartıyoruz;\n",
    "\n",
    "df[\"Total_bill\"] = df[\"Total_bill\"] - df[\"Tip\"]"
   ]
  },
  {
   "cell_type": "code",
   "execution_count": 23,
   "id": "c2e7ab60",
   "metadata": {
    "execution": {
     "iopub.execute_input": "2023-11-13T14:31:59.189437Z",
     "iopub.status.busy": "2023-11-13T14:31:59.188572Z",
     "iopub.status.idle": "2023-11-13T14:31:59.527272Z",
     "shell.execute_reply": "2023-11-13T14:31:59.525627Z"
    },
    "papermill": {
     "duration": 0.379976,
     "end_time": "2023-11-13T14:31:59.530325",
     "exception": false,
     "start_time": "2023-11-13T14:31:59.150349",
     "status": "completed"
    },
    "tags": []
   },
   "outputs": [
    {
     "data": {
      "image/png": "[encoded data removed]",
      "text/plain": [
       "<Figure size 640x480 with 1 Axes>"
      ]
     },
     "metadata": {},
     "output_type": "display_data"
    }
   ],
   "source": [
    "df.plot.scatter(\"Tip\", \"Total_bill\")\n",
    "plt.show()"
   ]
  },
  {
   "cell_type": "code",
   "execution_count": 24,
   "id": "4029a686",
   "metadata": {
    "execution": {
     "iopub.execute_input": "2023-11-13T14:31:59.604776Z",
     "iopub.status.busy": "2023-11-13T14:31:59.604312Z",
     "iopub.status.idle": "2023-11-13T14:31:59.614708Z",
     "shell.execute_reply": "2023-11-13T14:31:59.613268Z"
    },
    "papermill": {
     "duration": 0.050745,
     "end_time": "2023-11-13T14:31:59.617601",
     "exception": false,
     "start_time": "2023-11-13T14:31:59.566856",
     "status": "completed"
    },
    "tags": []
   },
   "outputs": [
    {
     "data": {
      "text/plain": [
       "0.5766634471096374"
      ]
     },
     "execution_count": 24,
     "metadata": {},
     "output_type": "execute_result"
    }
   ],
   "source": [
    "df[\"Tip\"].corr(df[\"Total_bill\"])"
   ]
  },
  {
   "cell_type": "markdown",
   "id": "43ede797",
   "metadata": {
    "papermill": {
     "duration": 0.03437,
     "end_time": "2023-11-13T14:31:59.689698",
     "exception": false,
     "start_time": "2023-11-13T14:31:59.655328",
     "status": "completed"
    },
    "tags": []
   },
   "source": [
    "<a id=\"5\"></a>\n",
    "<h1 style=\"border-radius: 10px; border: 2px solid #6B8E23; background-color: #F5F5DC; font-family: 'Pacifico', cursive; font-size: 200%; text-align: center; border-radius: 15px 50px; padding: 15px; box-shadow: 5px 5px 5px #556B2F; color: #556B2F;\">💠Bağımsız İki Örneklem T Testi (A/B Testi)💠</h1>"
   ]
  },
  {
   "cell_type": "markdown",
   "id": "ae68b053",
   "metadata": {
    "papermill": {
     "duration": 0.034841,
     "end_time": "2023-11-13T14:31:59.760972",
     "exception": false,
     "start_time": "2023-11-13T14:31:59.726131",
     "status": "completed"
    },
    "tags": []
   },
   "source": [
    "Bağımsız İki Örneklem t-Testi, iki bağımsız grup arasındaki ortalamaların karşılaştırılması için kullanılan bir istatistiksel yöntemdir. Araştırmacılar, iki farklı popülasyonun ortalamalarının eşit olup olmadığını veya aralarında istatistiksel olarak anlamlı bir fark olup olmadığını değerlendirmek istediklerinde genellikle bu testi kullanırlar.\n",
    "\n",
    "Bağımsız İki Örneklem t-Testi'nin temel bileşenleri ve adımları şunlardır:\n",
    "\n",
    "1. **Null Hipotez (H0):** Null hipotezi, iki grup ortalaması arasında anlamlı bir fark olmadığını varsayar. Matematiksel olarak, genellikle H0: μ1 = μ2 şeklinde ifade edilir, burada μ1 ve μ2 karşılaştırılan iki grup popülasyonunun ortalamalarını temsil eder.\n",
    "\n",
    "2. **Alternatif Hipotez (H1 veya Ha):** Alternatif hipotez, null hipotezine karşı gelir ve iki grup ortalaması arasında anlamlı bir fark olduğunu öne sürer. Bu, genellikle H1: μ1 ≠ μ2 (iki yönlü bir testi gösterir) veya H1: μ1 > μ2 veya H1: μ1 < μ2 (tek yönlü bir testi gösterir) şeklinde ifade edilebilir.\n",
    "\n",
    "3. **Test İstatistiği (t):** t-istatistiği, örnek verilerine dayanarak hesaplanır ve gözlemlenen ortalama farkının istatistiksel olarak anlamlı olup olmadığını değerlendirmek için kullanılır.\n",
    "\n",
    "4. **Serbestlik Derecesi:** t-testinin serbestlik dereceleri, iki grup örnek büyüklüklerine dayalı olarak hesaplanır. Bu, t-distribution tablosundan kritik değeri belirlemede kullanılır.\n",
    "\n",
    "5. **Anlamlılık Düzeyi (α):** Genellikle 0.05 olarak belirlenen anlamlılık düzeyi, null hipotezinin aslında doğru olduğu durumda reddedilme olasılığını temsil eder. Araştırmacılar sonuçlarına ne kadar güvenmek istediklerine bağlı olarak bir anlamlılık düzeyi seçerler.\n",
    "\n",
    "6. **Karar Kuralı:** Hesaplanan t-istatistiği ve serbestlik derecelerine dayanarak araştırmacılar, t-istatiğini t-distribution tablosundan elde edilen kritik değerle karşılaştırır. Eğer t-istatiğinin mutlak değeri kritik değeri aşıyorsa, null hipotezi reddedilir ve alternatif hipotez lehine kabul edilir.\n",
    "\n",
    "Bağımsız İki Örneklem t-Testi, karşılaştırılan popülasyonların normal dağılıma sahip olduğunu ve iki grup içindeki değişkenlerin varyanslarının yaklaşık olarak eşit olduğunu varsayar. Bu varsayımlar sağlanmazsa, alternatif testler veya analizin düzeltilmiş versiyonları düşünülebilir."
   ]
  },
  {
   "cell_type": "markdown",
   "id": "dd67c67c",
   "metadata": {
    "papermill": {
     "duration": 0.035949,
     "end_time": "2023-11-13T14:31:59.833138",
     "exception": false,
     "start_time": "2023-11-13T14:31:59.797189",
     "status": "completed"
    },
    "tags": []
   },
   "source": [
    "<div style=\"border-radius:10px; border:#D0C2F0 solid; padding: 15px; background-color: #F8E8EE; font-size:100%; text-align:left\">\n",
    "\n",
    "<h3 align=\"left\"><font color='#5E5273'>📄 Notes: </font></h3>\n",
    "    \n",
    "**Hipotezler kaç farklı şekilde kurulabilir?**\n",
    "\n",
    "1. **Eşitlik Hipotezi (Equal Means Hypothesis):**\n",
    "   - Null Hipotez (H0): μ1 = μ2 (İki grup arasında ortalama bir fark yoktur)\n",
    "   - Alternatif Hipotez (H1): μ1 ≠ μ2 (İki grup arasında anlamlı bir ortalama farkı vardır)\n",
    "2. **Farklılık Hipotezi (Difference in Means Hypothesis):**\n",
    "   - Null Hipotez (H0): μ1 - μ2 = 0 (İki grup arasındaki ortalama fark sıfırdır, yani grupların ortalamaları eşittir)\n",
    "   - Alternatif Hipotez (H1): μ1 - μ2 ≠ 0 (İki grup arasındaki ortalama fark sıfırdan farklıdır, yani grupların ortalamaları farklıdır)\n",
    "3. **Bir Grubun Diğerinden Büyük veya Küçük Olduğunu İnceleyen Hipotezler:**\n",
    "   - Null Hipotez (H0): μ1 ≤ μ2 veya μ1 ≥ μ2 (Bir grup, diğer grupla karşılaştırıldığında daha büyük veya daha küçük bir ortalama değere sahip değildir)\n",
    "   - Alternatif Hipotez (H1): μ1 > μ2 veya μ1 < μ2 (Bir grup, diğer grupla karşılaştırıldığında daha büyük veya daha küçük bir ortalama değere sahiptir)"
   ]
  },
  {
   "cell_type": "markdown",
   "id": "d96adb6e",
   "metadata": {
    "papermill": {
     "duration": 0.035118,
     "end_time": "2023-11-13T14:31:59.904254",
     "exception": false,
     "start_time": "2023-11-13T14:31:59.869136",
     "status": "completed"
    },
    "tags": []
   },
   "source": [
    "<div style=\"border-radius:10px; border:#D0C2F0 solid; padding: 15px; background-color: #F8E8EE; font-size:100%; text-align:left\">\n",
    "\n",
    "<h3 align=\"left\"><font color='#5E5273'>📄 Notes: </font></h3>\n",
    "    \n",
    "**Bağımsız İki Örneklem t-testi varsayımları şunlardır:**\n",
    "\n",
    "1. **Normallik (Normality):** Bu varsayım, her iki grup verisinin normal bir dağılıma sahip olduğunu ifade eder. Yani, verilerin düzgün bir çan eğrisi şeklinde dağıldığını gösterir. Bu varsayım, parametrik istatistiksel testlerin güvenilir sonuçlar vermesi için önemlidir. Normallik varsayımı, grup verilerinin histogramları veya normal olasılık çizimleri ile görsel olarak kontrol edilebilir. Ayrıca, Shapiro-Wilk veya Kolmogorov-Smirnov testleri gibi normallik testleri de kullanılabilir.\n",
    "\n",
    "2. **Varyans Homojenliği (Homogeneity of Variance):** Bu varsayım, her iki grupun varyanslarının benzer olduğunu ifade eder. Yani, grupların veri dağılımlarının dağılımın yayılma derecesi açısından benzer olduğunu gösterir. Bu varsayım, grupların varyanslarının karşılaştırılabilir olduğunu belirtir. Varyans homojenliği, Levene's test veya Bartlett's test gibi istatistiksel testlerle kontrol edilebilir.\n",
    "\n",
    "3. **p-Value (Probability Value):** p-value, istatistiksel bir test sonucunun anlamlılığını ölçen bir değerdir. Bir testin sonucunda elde edilen p-value, null hipotezi reddetme kararı almak için kullanılır. Eğer p-value, önceden belirlenmiş bir anlamlılık seviyesinden (alpha seviyesi) daha küçükse (genellikle 0.05 olarak kabul edilir), bu, null hipotezin reddedilmesi gerektiği ve sonuçların istatistiksel olarak anlamlı olduğu anlamına gelir. Eğer p-value, alpha seviyesinden büyükse, null hipotezi kabul etmek gerekebilir ve sonuçlar istatistiksel olarak anlamsız olarak kabul edilir.\n",
    "\n",
    "Bu kavramlar ve varsayımlar, bağımsız iki örneklem t-testi ile çalışırken önemlidir çünkü bu testin sonuçları ve güvenilirliği, bu faktörlere bağlıdır."
   ]
  },
  {
   "cell_type": "markdown",
   "id": "ed7a5792",
   "metadata": {
    "papermill": {
     "duration": 0.034109,
     "end_time": "2023-11-13T14:31:59.974007",
     "exception": false,
     "start_time": "2023-11-13T14:31:59.939898",
     "status": "completed"
    },
    "tags": []
   },
   "source": [
    "<a id = \"6\"></a><br>\n",
    "<p style=\"font-family: 'Pacifico', cursive; font-weight: bold; letter-spacing: 2px; color: #556B2F; font-size: 160%; text-align: left; padding: 0px; border-bottom: 3px solid\">✨A/B Testi Uygulaması 1✨</p>"
   ]
  },
  {
   "cell_type": "markdown",
   "id": "79a930d3",
   "metadata": {
    "papermill": {
     "duration": 0.036341,
     "end_time": "2023-11-13T14:32:00.047635",
     "exception": false,
     "start_time": "2023-11-13T14:32:00.011294",
     "status": "completed"
    },
    "tags": []
   },
   "source": [
    "> **Sigara içenler ile içmeyenlerin hesap ortalamaları arasında istatistiki olarak anlamlı bir fark var mı? Masada en bir kişi sigara içiyorsa daha fazla bahşiş mi bırakıyor? Şeklinde bir varsayım yapalım.**"
   ]
  },
  {
   "cell_type": "code",
   "execution_count": 25,
   "id": "64818ca7",
   "metadata": {
    "execution": {
     "iopub.execute_input": "2023-11-13T14:32:00.118874Z",
     "iopub.status.busy": "2023-11-13T14:32:00.118450Z",
     "iopub.status.idle": "2023-11-13T14:32:00.139019Z",
     "shell.execute_reply": "2023-11-13T14:32:00.138148Z"
    },
    "papermill": {
     "duration": 0.060105,
     "end_time": "2023-11-13T14:32:00.142137",
     "exception": false,
     "start_time": "2023-11-13T14:32:00.082032",
     "status": "completed"
    },
    "tags": []
   },
   "outputs": [
    {
     "data": {
      "text/html": [
       "<div>\n",
       "<style scoped>\n",
       "    .dataframe tbody tr th:only-of-type {\n",
       "        vertical-align: middle;\n",
       "    }\n",
       "\n",
       "    .dataframe tbody tr th {\n",
       "        vertical-align: top;\n",
       "    }\n",
       "\n",
       "    .dataframe thead th {\n",
       "        text-align: right;\n",
       "    }\n",
       "</style>\n",
       "<table border=\"1\" class=\"dataframe\">\n",
       "  <thead>\n",
       "    <tr style=\"text-align: right;\">\n",
       "      <th></th>\n",
       "      <th>Total_bill</th>\n",
       "      <th>Tip</th>\n",
       "      <th>Sex</th>\n",
       "      <th>Smoker</th>\n",
       "      <th>Day</th>\n",
       "      <th>Time</th>\n",
       "      <th>Size</th>\n",
       "    </tr>\n",
       "  </thead>\n",
       "  <tbody>\n",
       "    <tr>\n",
       "      <th>0</th>\n",
       "      <td>16.99</td>\n",
       "      <td>1.01</td>\n",
       "      <td>Female</td>\n",
       "      <td>No</td>\n",
       "      <td>Sun</td>\n",
       "      <td>Dinner</td>\n",
       "      <td>2</td>\n",
       "    </tr>\n",
       "    <tr>\n",
       "      <th>1</th>\n",
       "      <td>10.34</td>\n",
       "      <td>1.66</td>\n",
       "      <td>Male</td>\n",
       "      <td>No</td>\n",
       "      <td>Sun</td>\n",
       "      <td>Dinner</td>\n",
       "      <td>3</td>\n",
       "    </tr>\n",
       "    <tr>\n",
       "      <th>2</th>\n",
       "      <td>21.01</td>\n",
       "      <td>3.50</td>\n",
       "      <td>Male</td>\n",
       "      <td>No</td>\n",
       "      <td>Sun</td>\n",
       "      <td>Dinner</td>\n",
       "      <td>3</td>\n",
       "    </tr>\n",
       "    <tr>\n",
       "      <th>3</th>\n",
       "      <td>23.68</td>\n",
       "      <td>3.31</td>\n",
       "      <td>Male</td>\n",
       "      <td>No</td>\n",
       "      <td>Sun</td>\n",
       "      <td>Dinner</td>\n",
       "      <td>2</td>\n",
       "    </tr>\n",
       "    <tr>\n",
       "      <th>4</th>\n",
       "      <td>24.59</td>\n",
       "      <td>3.61</td>\n",
       "      <td>Female</td>\n",
       "      <td>No</td>\n",
       "      <td>Sun</td>\n",
       "      <td>Dinner</td>\n",
       "      <td>4</td>\n",
       "    </tr>\n",
       "  </tbody>\n",
       "</table>\n",
       "</div>"
      ],
      "text/plain": [
       "   Total_bill   Tip     Sex Smoker  Day    Time  Size\n",
       "0       16.99  1.01  Female     No  Sun  Dinner     2\n",
       "1       10.34  1.66    Male     No  Sun  Dinner     3\n",
       "2       21.01  3.50    Male     No  Sun  Dinner     3\n",
       "3       23.68  3.31    Male     No  Sun  Dinner     2\n",
       "4       24.59  3.61  Female     No  Sun  Dinner     4"
      ]
     },
     "execution_count": 25,
     "metadata": {},
     "output_type": "execute_result"
    }
   ],
   "source": [
    "df = pd.read_csv(\"/kaggle/input/tips-dataset/tips.csv\")\n",
    "df.head()"
   ]
  },
  {
   "cell_type": "code",
   "execution_count": 26,
   "id": "675dbb75",
   "metadata": {
    "execution": {
     "iopub.execute_input": "2023-11-13T14:32:00.219614Z",
     "iopub.status.busy": "2023-11-13T14:32:00.218917Z",
     "iopub.status.idle": "2023-11-13T14:32:00.240933Z",
     "shell.execute_reply": "2023-11-13T14:32:00.239771Z"
    },
    "papermill": {
     "duration": 0.0637,
     "end_time": "2023-11-13T14:32:00.243554",
     "exception": false,
     "start_time": "2023-11-13T14:32:00.179854",
     "status": "completed"
    },
    "tags": []
   },
   "outputs": [
    {
     "data": {
      "text/html": [
       "<div>\n",
       "<style scoped>\n",
       "    .dataframe tbody tr th:only-of-type {\n",
       "        vertical-align: middle;\n",
       "    }\n",
       "\n",
       "    .dataframe tbody tr th {\n",
       "        vertical-align: top;\n",
       "    }\n",
       "\n",
       "    .dataframe thead th {\n",
       "        text-align: right;\n",
       "    }\n",
       "</style>\n",
       "<table border=\"1\" class=\"dataframe\">\n",
       "  <thead>\n",
       "    <tr style=\"text-align: right;\">\n",
       "      <th></th>\n",
       "      <th>Total_bill</th>\n",
       "    </tr>\n",
       "    <tr>\n",
       "      <th>Smoker</th>\n",
       "      <th></th>\n",
       "    </tr>\n",
       "  </thead>\n",
       "  <tbody>\n",
       "    <tr>\n",
       "      <th>No</th>\n",
       "      <td>19.188278</td>\n",
       "    </tr>\n",
       "    <tr>\n",
       "      <th>Yes</th>\n",
       "      <td>20.756344</td>\n",
       "    </tr>\n",
       "  </tbody>\n",
       "</table>\n",
       "</div>"
      ],
      "text/plain": [
       "        Total_bill\n",
       "Smoker            \n",
       "No       19.188278\n",
       "Yes      20.756344"
      ]
     },
     "execution_count": 26,
     "metadata": {},
     "output_type": "execute_result"
    }
   ],
   "source": [
    "df.groupby(\"Smoker\").agg({\"Total_bill\": \"mean\"})"
   ]
  },
  {
   "cell_type": "markdown",
   "id": "305fce10",
   "metadata": {
    "papermill": {
     "duration": 0.037597,
     "end_time": "2023-11-13T14:32:00.318854",
     "exception": false,
     "start_time": "2023-11-13T14:32:00.281257",
     "status": "completed"
    },
    "tags": []
   },
   "source": [
    "<div style=\"border-radius:10px; border:#D0C2F0 solid; padding: 15px; background-color: #F8E8EE; font-size:100%; text-align:left\">\n",
    "\n",
    "<h3 align=\"left\"><font color='#5E5273'>📄 Notes: </font></h3>\n",
    "\n",
    "Buradaki rakamlara göre ortalamalarda bahşiş farkı varmış gibi görünüyor. Fakat bu fark şans eseri ortaya çıkmış olabilir ve istatistiki olarak test edilmelidir.\n",
    "    \n",
    "* **Adım 1- Hipotezleri Kur:**\n",
    "    \n",
    "    - Null Hipotez (H0): μ1 = μ2 (İki grup arasında ortalama bir fark yoktur)\n",
    "    - Alternatif Hipotez (H1): μ1 ≠ μ2 (İki grup arasında anlamlı bir ortalama farkı vardır)\n",
    "    \n",
    "* **Adım 2- Varsayım Kontrolü:**\n",
    "    \n",
    "    - Normallik Varsayımı\n",
    "    - Varyans Homojenliği\n",
    "    \n",
    "* **Adım 3- Normallik Varsayımı Hipotezi:**\n",
    "    \n",
    "    - H0: Normal dağılım varsayımı sağlanmaktadır.\n",
    "    - H1: Normal dağılım varsayımını sağlanmamaktadır.\n",
    "    \n",
    "* **Adım 4- Varyans Homojenliği varsayımı:**\n",
    "    \n",
    "    - H0: Varyanslar homojendir.\n",
    "    - H1: Varyanslar homojen değildir.\n",
    "    \n",
    "**Not:** Normallik incelemesi öncesi aykırı değer incelemesi ve düzeltmesi yapmak faydalı olabilir.\n",
    "    \n",
    "---\n",
    "    \n",
    "Shapiro-Wilk testi, bir veri kümesinin normal dağılıma uygun olup olmadığını değerlendirmek için kullanılan bir istatistiksel testtir. Bu test, verilerin normal dağılımı takip edip etmediğini belirlemek amacıyla kullanılır.\n",
    "\n",
    "Shapiro-Wilk testi şu adımları izler:\n",
    "\n",
    "1. **Null Hipotezi (H0):** Veri normal dağılıma uyar.\n",
    "2. **Alternatif Hipotezi (H1):** Veri normal dağılıma uymaz.\n",
    "\n",
    "Shapiro-Wilk testi, veri kümesinin gözlemleri ile teorik bir normal dağılım arasındaki benzerliği değerlendirmek için bir istatistiksel test istatistiği hesaplar. Bu test istatistiği, verilerin normal dağılıma uygunluğunu değerlendiren bir p-value ile sonuçlanır. Eğer p-value, önceden belirlenmiş bir anlamlılık seviyesinden (genellikle 0.05 olarak kabul edilir) daha küçükse, null hipotez (H0) reddedilir ve veriler normal dağılıma uymaz. Eğer p-value, anlamlılık seviyesinden büyükse, null hipotez kabul edilir ve veriler normal dağılıma uyar.\n",
    "    \n",
    "---\n",
    "    \n",
    "Levene testi, iki veya daha fazla grup arasındaki varyans homojenliğini değerlendirmek için kullanılan bir istatistiksel testtir. Bu test, farklı grupların veri dağılımlarının varyanslarının benzer olup olmadığını belirlemeye yardımcı olur. Varyans homojenliği, gruplar arasındaki farklılıkların anlamlılığını değerlendirmeden önce dikkate alınması gereken önemli bir varsayımdır. Levene testi, bu varsayımı test etmek için kullanılır.\n",
    "\n",
    "Levene testi aşağıdaki adımları izler:\n",
    "\n",
    "1. **Null Hipotez (H0):** Gruplar arasında varyanslar homojendir (yani, grup varyansları benzerdir).\n",
    "2. **Alternatif Hipotez (H1):** Gruplar arasında varyanslar homojen değildir (yani, grup varyansları farklıdır).\n",
    "\n",
    "Levene testi, her grup için veri varyansını hesaplar ve bu varyansların benzer olup olmadığını karşılaştırır. Test istatistiği, gruplar arasındaki varyans farkının bir ölçüsüdür. Daha büyük bir Levene test istatistiği, gruplar arasındaki varyans farkının daha büyük olduğunu gösterir. Test sonucunda elde edilen p-value, null hipotezin (H0) reddedilip reddedilmeyeceğini belirler. Eğer p-value, belirli bir anlamlılık seviyesinden (genellikle 0.05) daha küçükse, null hipotez reddedilir ve gruplar arasında varyanslar homojen değildir. Eğer p-value, anlamlılık seviyesinden büyükse, null hipotez kabul edilir ve gruplar arasındaki varyanslar homojendir.\n",
    "    \n",
    "Levene testi, gruplar arasındaki varyans homojenliğini kontrol etmek ve uygun istatistiksel analiz yöntemlerini seçmek için önemli bir araçtır. Özellikle ANOVA (Varyans Analizi) gibi testlerde varyans homojenliği varsayımı önemlidir."
   ]
  },
  {
   "cell_type": "code",
   "execution_count": 27,
   "id": "9d607d71",
   "metadata": {
    "execution": {
     "iopub.execute_input": "2023-11-13T14:32:00.396555Z",
     "iopub.status.busy": "2023-11-13T14:32:00.395768Z",
     "iopub.status.idle": "2023-11-13T14:32:00.405651Z",
     "shell.execute_reply": "2023-11-13T14:32:00.404727Z"
    },
    "papermill": {
     "duration": 0.053396,
     "end_time": "2023-11-13T14:32:00.408310",
     "exception": false,
     "start_time": "2023-11-13T14:32:00.354914",
     "status": "completed"
    },
    "tags": []
   },
   "outputs": [
    {
     "name": "stdout",
     "output_type": "stream",
     "text": [
      "Test Stat = 0.9367, p-value = 0.0002\n"
     ]
    }
   ],
   "source": [
    "test_stat, pvalue = shapiro(df.loc[df[\"Smoker\"] == \"Yes\", \"Total_bill\"])\n",
    "\n",
    "print('Test Stat = %.4f, p-value = %.4f' % (test_stat, pvalue))\n",
    "\n",
    "# 1. grup içi normallik varsayımı sağlanmamaktır. H0 reddedilmiştir."
   ]
  },
  {
   "cell_type": "code",
   "execution_count": 28,
   "id": "1c0f2e23",
   "metadata": {
    "execution": {
     "iopub.execute_input": "2023-11-13T14:32:00.484217Z",
     "iopub.status.busy": "2023-11-13T14:32:00.483385Z",
     "iopub.status.idle": "2023-11-13T14:32:00.491543Z",
     "shell.execute_reply": "2023-11-13T14:32:00.490139Z"
    },
    "papermill": {
     "duration": 0.049769,
     "end_time": "2023-11-13T14:32:00.494536",
     "exception": false,
     "start_time": "2023-11-13T14:32:00.444767",
     "status": "completed"
    },
    "tags": []
   },
   "outputs": [
    {
     "name": "stdout",
     "output_type": "stream",
     "text": [
      "Test Stat = 0.9045, p-value = 0.0000\n"
     ]
    }
   ],
   "source": [
    "test_stat, pvalue = shapiro(df.loc[df[\"Smoker\"] == \"No\", \"Total_bill\"])\n",
    "\n",
    "print('Test Stat = %.4f, p-value = %.4f' % (test_stat, pvalue))\n",
    "\n",
    "# 2. grup içi normallik varsayımı sağlanmamaktır. H0 reddedilmiştir.\n",
    "# Sonuç olarak bu problem için normal dağılım varsayımı sağlanmamaktadır.\n",
    "# Bu yüzden non-parametrik test kullanmamız gerekir."
   ]
  },
  {
   "cell_type": "code",
   "execution_count": 29,
   "id": "f0abac34",
   "metadata": {
    "execution": {
     "iopub.execute_input": "2023-11-13T14:32:00.569832Z",
     "iopub.status.busy": "2023-11-13T14:32:00.569355Z",
     "iopub.status.idle": "2023-11-13T14:32:00.579412Z",
     "shell.execute_reply": "2023-11-13T14:32:00.578168Z"
    },
    "papermill": {
     "duration": 0.05137,
     "end_time": "2023-11-13T14:32:00.581826",
     "exception": false,
     "start_time": "2023-11-13T14:32:00.530456",
     "status": "completed"
    },
    "tags": []
   },
   "outputs": [
    {
     "name": "stdout",
     "output_type": "stream",
     "text": [
      "Test Stat = 4.0537, p-value = 0.0452\n"
     ]
    }
   ],
   "source": [
    "test_stat, pvalue = levene(df.loc[df[\"Smoker\"] == \"Yes\", \"Total_bill\"],\n",
    "                           df.loc[df[\"Smoker\"] == \"No\", \"Total_bill\"])\n",
    "\n",
    "print('Test Stat = %.4f, p-value = %.4f' % (test_stat, pvalue))\n",
    "\n",
    "# H0 reddedilmiştir. Varyanslar homojen değildir. İki varsayımda sağlanmamaktadır."
   ]
  },
  {
   "cell_type": "markdown",
   "id": "bb654beb",
   "metadata": {
    "papermill": {
     "duration": 0.036156,
     "end_time": "2023-11-13T14:32:00.653034",
     "exception": false,
     "start_time": "2023-11-13T14:32:00.616878",
     "status": "completed"
    },
    "tags": []
   },
   "source": [
    "<div style=\"border-radius:10px; border:#D0C2F0 solid; padding: 15px; background-color: #F8E8EE; font-size:100%; text-align:left\">\n",
    "\n",
    "<h3 align=\"left\"><font color='#5E5273'>📄 Notes: </font></h3>\n",
    "    \n",
    "1. **Varsayımlar sağlanıyorsa Bağımsız İki Örneklem t Testi (parametrik test)**\n",
    "2. **Varsayımlar sağlanmıyorsa Mann-Whitney U testi (non-parametrik test)**\n",
    "    \n",
    "---\n",
    "    \n",
    "Mann-Whitney U testi, iki bağımsız örneklem arasında istatistiksel olarak anlamlı bir fark olup olmadığını değerlendirmek için kullanılan bir non-parametrik istatistiksel testtir. Bu test, verilerin normal dağılım varsayımını karşılamadığı veya varyans homojenliği sağlanmadığı durumlarda kullanışlıdır.\n",
    "\n",
    "Mann-Whitney U testi aşağıdaki adımları izler:\n",
    "\n",
    "1. **Null Hipotez (H0):** İki grup arasında fark yoktur. Yani, gruplar arasında medyan değerler arasında anlamlı bir fark yoktur.\n",
    "2. **Alternatif Hipotez (H1):** İki grup arasında anlamlı bir fark vardır. Grupların medyan değerleri farklıdır.\n",
    "\n",
    "Mann-Whitney U testi, her iki grubun gözlemlerini bir araya getirir, bunları sıralar ve sıralamaları kullanarak her iki grubun medyanlarını karşılaştırır. Bu test, her iki grubun medyanları arasındaki farkın istatistiksel olarak anlamlı olup olmadığını değerlendirmek için bir test istatistiği hesaplar.\n",
    "\n",
    "Test istatistiği, her iki grubun örneklem büyüklükleri ve sıralamalar üzerinden hesaplanır ve iki grubun medyanlarının karşılaştırılmasına dayanır. Mann-Whitney U testi sonucunda elde edilen p-value, null hipotezin (H0) reddedilip reddedilmeyeceğini belirler. Eğer p-value, belirli bir anlamlılık seviyesinden (genellikle 0.05 olarak kabul edilir) daha küçükse, null hipotez reddedilir ve gruplar arasında medyanlar arasında anlamlı bir fark olduğu kabul edilir. Eğer p-value, anlamlılık seviyesinden büyükse, null hipotez kabul edilir ve gruplar arasında medyanlar arasında anlamlı bir fark olmadığı düşünülür.\n",
    "\n",
    "Mann-Whitney U testi, gruplar arasındaki merkezi eğilim farklarını değerlendirmek ve parametrik testlerin varsayımlarının sağlanmadığı durumlarda kullanmak için kullanışlıdır. Bu test, verilerin sıralama düzeyinde karşılaştırılmasını sağlar ve genellikle küçük örneklem büyüklükleri veya anormal veri dağılımları gibi durumlar için tercih edilir."
   ]
  },
  {
   "cell_type": "markdown",
   "id": "d6482de7",
   "metadata": {
    "papermill": {
     "duration": 0.037709,
     "end_time": "2023-11-13T14:32:00.728630",
     "exception": false,
     "start_time": "2023-11-13T14:32:00.690921",
     "status": "completed"
    },
    "tags": []
   },
   "source": [
    "> **Not: Bu örnekle varsayımlar sağlanmadığı için Mann-Whitney U testini yapmalıyız. Fakat TTest yapılışını görmek için varsayımlar sağlanmış gibi yapıp uygulanışı görelim;**"
   ]
  },
  {
   "cell_type": "code",
   "execution_count": 30,
   "id": "7b45e4c4",
   "metadata": {
    "execution": {
     "iopub.execute_input": "2023-11-13T14:32:00.806632Z",
     "iopub.status.busy": "2023-11-13T14:32:00.805769Z",
     "iopub.status.idle": "2023-11-13T14:32:00.816970Z",
     "shell.execute_reply": "2023-11-13T14:32:00.815926Z"
    },
    "papermill": {
     "duration": 0.05303,
     "end_time": "2023-11-13T14:32:00.819651",
     "exception": false,
     "start_time": "2023-11-13T14:32:00.766621",
     "status": "completed"
    },
    "tags": []
   },
   "outputs": [
    {
     "name": "stdout",
     "output_type": "stream",
     "text": [
      "Test Stat = 1.3384, p-value = 0.1820\n"
     ]
    }
   ],
   "source": [
    "test_stat, pvalue = ttest_ind(df.loc[df[\"Smoker\"] == \"Yes\", \"Total_bill\"],\n",
    "                              df.loc[df[\"Smoker\"] == \"No\", \"Total_bill\"],\n",
    "                              equal_var=True)\n",
    "\n",
    "print('Test Stat = %.4f, p-value = %.4f' % (test_stat, pvalue))\n",
    "\n",
    "# HO reddedilemez. İki grup arasında fark yoktur. \n",
    "# Tabiki bu örnekte varsayalım sağlanmadığı için bu metot geçerli değildir. Çünkü şans eseri çıkmıştır varsayımı yaparız."
   ]
  },
  {
   "cell_type": "markdown",
   "id": "6fba807c",
   "metadata": {
    "papermill": {
     "duration": 0.037455,
     "end_time": "2023-11-13T14:32:00.895422",
     "exception": false,
     "start_time": "2023-11-13T14:32:00.857967",
     "status": "completed"
    },
    "tags": []
   },
   "source": [
    "<div style=\"border-radius:10px; border:#D0C2F0 solid; padding: 15px; background-color: #F8E8EE; font-size:100%; text-align:left\">\n",
    "\n",
    "<h3 align=\"left\"><font color='#5E5273'>📄 Notes: </font></h3>\n",
    "    \n",
    "* t-Test metodunu;\n",
    "    * Eğer normallik varsayımı sağlanıyorsa kullanabiliriz.\n",
    "    * Normallik ve Varyans Homojenliği sağlanıyorsa da kullanabiliriz.\n",
    "    * Normallik varsayımı sağlanıyor ama Varyans Homojenliği sağlanmıyorsa da kullanabiliriz.\n",
    "        * Sadece Varyans Homojenliği sağlanmıyorsa; **\"equal_var=False\"** yapılmalı, böylelikle arka planda **Welch's t-test** uygular.\n",
    "    \n",
    "---\n",
    "    \n",
    "Welch's t-test, iki bağımsız örneklem arasındaki ortalama farkın istatistiksel olarak anlamlı olup olmadığını değerlendirmek için kullanılan bir istatistiksel testtir. Welch t-testi, özellikle iki grup arasında varyanslar homojen olmadığında veya grup büyüklükleri farklı olduğunda tercih edilir. Bu test, varyansların homojen olmadığı veya örneklem büyüklüklerinin farklı olduğu durumlar için uyarlanmıştır.\n",
    "\n",
    "Welch t-testi aşağıdaki adımları izler:\n",
    "\n",
    "1. **Null Hipotez (H0):** İki grup arasında ortalama bir fark yoktur. Yani, gruplar arasında ortalama değerler arasında anlamlı bir fark yoktur.\n",
    "2. **Alternatif Hipotez (H1):** İki grup arasında anlamlı bir fark vardır. Grupların ortalama değerleri farklıdır.\n",
    "\n",
    "Welch t-testi, her iki grubun verilerini kullanarak her iki grubun ortalama değerlerini karşılaştırır. Bu test, gruplar arasındaki ortalama farkın istatistiksel olarak anlamlı olup olmadığını değerlendirmek için bir test istatistiği hesaplar.\n",
    "\n",
    "Test istatistiği, grupların örneklem büyüklükleri, varyansları ve veri değerleri üzerinden hesaplanır. Welch t-testi sonucunda elde edilen p-value, null hipotezin (H0) reddedilip reddedilmeyeceğini belirler. Eğer p-value, belirli bir anlamlılık seviyesinden (genellikle 0.05 olarak kabul edilir) daha küçükse, null hipotez reddedilir ve gruplar arasında ortalama bir fark olduğu kabul edilir. Eğer p-value, anlamlılık seviyesinden büyükse, null hipotez kabul edilir ve gruplar arasında ortalama bir fark olmadığı düşünülür.\n",
    "\n",
    "Welch t-testi, gruplar arasındaki ortalama farkların değerlendirilmesi için parametrik bir yöntemdir ve heterojen varyans veya farklı örneklem büyüklükleri gibi durumlar için uygundur."
   ]
  },
  {
   "cell_type": "code",
   "execution_count": 31,
   "id": "5b2e1239",
   "metadata": {
    "execution": {
     "iopub.execute_input": "2023-11-13T14:32:00.972812Z",
     "iopub.status.busy": "2023-11-13T14:32:00.971476Z",
     "iopub.status.idle": "2023-11-13T14:32:00.983946Z",
     "shell.execute_reply": "2023-11-13T14:32:00.982023Z"
    },
    "papermill": {
     "duration": 0.05413,
     "end_time": "2023-11-13T14:32:00.986964",
     "exception": false,
     "start_time": "2023-11-13T14:32:00.932834",
     "status": "completed"
    },
    "tags": []
   },
   "outputs": [
    {
     "name": "stdout",
     "output_type": "stream",
     "text": [
      "Test Stat = 7531.5000, p-value = 0.3413\n"
     ]
    }
   ],
   "source": [
    "test_stat, pvalue = mannwhitneyu(df.loc[df[\"Smoker\"] == \"Yes\", \"Total_bill\"],\n",
    "                                 df.loc[df[\"Smoker\"] == \"No\", \"Total_bill\"])\n",
    "\n",
    "print('Test Stat = %.4f, p-value = %.4f' % (test_stat, pvalue))\n",
    "\n",
    "# Mann-Whitney U testine göre H0 kabul edilmiştir. İki grup ortalamaları arasında fark yoktur."
   ]
  },
  {
   "cell_type": "markdown",
   "id": "ee867cfb",
   "metadata": {
    "papermill": {
     "duration": 0.036911,
     "end_time": "2023-11-13T14:32:01.062832",
     "exception": false,
     "start_time": "2023-11-13T14:32:01.025921",
     "status": "completed"
    },
    "tags": []
   },
   "source": [
    "<a id = \"7\"></a><br>\n",
    "<p style=\"font-family: 'Pacifico', cursive; font-weight: bold; letter-spacing: 2px; color: #556B2F; font-size: 160%; text-align: left; padding: 0px; border-bottom: 3px solid\">✨A/B Testi Uygulaması 2✨</p>"
   ]
  },
  {
   "cell_type": "markdown",
   "id": "fb2367aa",
   "metadata": {
    "papermill": {
     "duration": 0.039451,
     "end_time": "2023-11-13T14:32:01.139981",
     "exception": false,
     "start_time": "2023-11-13T14:32:01.100530",
     "status": "completed"
    },
    "tags": []
   },
   "source": [
    "> **Titanic veri setinde yer alan kadın ve erkek yolcuların yaş ortalamaları arasında istatistiksel olarak anlamlı bir farklılık var mıdır?**"
   ]
  },
  {
   "cell_type": "code",
   "execution_count": 32,
   "id": "fa156a9b",
   "metadata": {
    "execution": {
     "iopub.execute_input": "2023-11-13T14:32:01.222963Z",
     "iopub.status.busy": "2023-11-13T14:32:01.222154Z",
     "iopub.status.idle": "2023-11-13T14:32:01.237547Z",
     "shell.execute_reply": "2023-11-13T14:32:01.236081Z"
    },
    "papermill": {
     "duration": 0.063084,
     "end_time": "2023-11-13T14:32:01.241026",
     "exception": false,
     "start_time": "2023-11-13T14:32:01.177942",
     "status": "completed"
    },
    "tags": []
   },
   "outputs": [],
   "source": [
    "df = pd.read_csv(\"/kaggle/input/titanic/train.csv\")"
   ]
  },
  {
   "cell_type": "code",
   "execution_count": 33,
   "id": "04dcd13a",
   "metadata": {
    "execution": {
     "iopub.execute_input": "2023-11-13T14:32:01.322630Z",
     "iopub.status.busy": "2023-11-13T14:32:01.321612Z",
     "iopub.status.idle": "2023-11-13T14:32:01.340545Z",
     "shell.execute_reply": "2023-11-13T14:32:01.339511Z"
    },
    "papermill": {
     "duration": 0.062771,
     "end_time": "2023-11-13T14:32:01.343618",
     "exception": false,
     "start_time": "2023-11-13T14:32:01.280847",
     "status": "completed"
    },
    "tags": []
   },
   "outputs": [
    {
     "data": {
      "text/html": [
       "<div>\n",
       "<style scoped>\n",
       "    .dataframe tbody tr th:only-of-type {\n",
       "        vertical-align: middle;\n",
       "    }\n",
       "\n",
       "    .dataframe tbody tr th {\n",
       "        vertical-align: top;\n",
       "    }\n",
       "\n",
       "    .dataframe thead th {\n",
       "        text-align: right;\n",
       "    }\n",
       "</style>\n",
       "<table border=\"1\" class=\"dataframe\">\n",
       "  <thead>\n",
       "    <tr style=\"text-align: right;\">\n",
       "      <th></th>\n",
       "      <th>PassengerId</th>\n",
       "      <th>Survived</th>\n",
       "      <th>Pclass</th>\n",
       "      <th>Name</th>\n",
       "      <th>Sex</th>\n",
       "      <th>Age</th>\n",
       "      <th>SibSp</th>\n",
       "      <th>Parch</th>\n",
       "      <th>Ticket</th>\n",
       "      <th>Fare</th>\n",
       "      <th>Cabin</th>\n",
       "      <th>Embarked</th>\n",
       "    </tr>\n",
       "  </thead>\n",
       "  <tbody>\n",
       "    <tr>\n",
       "      <th>0</th>\n",
       "      <td>1</td>\n",
       "      <td>0</td>\n",
       "      <td>3</td>\n",
       "      <td>Braund, Mr. Owen Harris</td>\n",
       "      <td>male</td>\n",
       "      <td>22.0</td>\n",
       "      <td>1</td>\n",
       "      <td>0</td>\n",
       "      <td>A/5 21171</td>\n",
       "      <td>7.2500</td>\n",
       "      <td>NaN</td>\n",
       "      <td>S</td>\n",
       "    </tr>\n",
       "    <tr>\n",
       "      <th>1</th>\n",
       "      <td>2</td>\n",
       "      <td>1</td>\n",
       "      <td>1</td>\n",
       "      <td>Cumings, Mrs. John Bradley (Florence Briggs Th...</td>\n",
       "      <td>female</td>\n",
       "      <td>38.0</td>\n",
       "      <td>1</td>\n",
       "      <td>0</td>\n",
       "      <td>PC 17599</td>\n",
       "      <td>71.2833</td>\n",
       "      <td>C85</td>\n",
       "      <td>C</td>\n",
       "    </tr>\n",
       "    <tr>\n",
       "      <th>2</th>\n",
       "      <td>3</td>\n",
       "      <td>1</td>\n",
       "      <td>3</td>\n",
       "      <td>Heikkinen, Miss. Laina</td>\n",
       "      <td>female</td>\n",
       "      <td>26.0</td>\n",
       "      <td>0</td>\n",
       "      <td>0</td>\n",
       "      <td>STON/O2. 3101282</td>\n",
       "      <td>7.9250</td>\n",
       "      <td>NaN</td>\n",
       "      <td>S</td>\n",
       "    </tr>\n",
       "    <tr>\n",
       "      <th>3</th>\n",
       "      <td>4</td>\n",
       "      <td>1</td>\n",
       "      <td>1</td>\n",
       "      <td>Futrelle, Mrs. Jacques Heath (Lily May Peel)</td>\n",
       "      <td>female</td>\n",
       "      <td>35.0</td>\n",
       "      <td>1</td>\n",
       "      <td>0</td>\n",
       "      <td>113803</td>\n",
       "      <td>53.1000</td>\n",
       "      <td>C123</td>\n",
       "      <td>S</td>\n",
       "    </tr>\n",
       "    <tr>\n",
       "      <th>4</th>\n",
       "      <td>5</td>\n",
       "      <td>0</td>\n",
       "      <td>3</td>\n",
       "      <td>Allen, Mr. William Henry</td>\n",
       "      <td>male</td>\n",
       "      <td>35.0</td>\n",
       "      <td>0</td>\n",
       "      <td>0</td>\n",
       "      <td>373450</td>\n",
       "      <td>8.0500</td>\n",
       "      <td>NaN</td>\n",
       "      <td>S</td>\n",
       "    </tr>\n",
       "  </tbody>\n",
       "</table>\n",
       "</div>"
      ],
      "text/plain": [
       "   PassengerId  Survived  Pclass  \\\n",
       "0            1         0       3   \n",
       "1            2         1       1   \n",
       "2            3         1       3   \n",
       "3            4         1       1   \n",
       "4            5         0       3   \n",
       "\n",
       "                                                Name     Sex   Age  SibSp  \\\n",
       "0                            Braund, Mr. Owen Harris    male  22.0      1   \n",
       "1  Cumings, Mrs. John Bradley (Florence Briggs Th...  female  38.0      1   \n",
       "2                             Heikkinen, Miss. Laina  female  26.0      0   \n",
       "3       Futrelle, Mrs. Jacques Heath (Lily May Peel)  female  35.0      1   \n",
       "4                           Allen, Mr. William Henry    male  35.0      0   \n",
       "\n",
       "   Parch            Ticket     Fare Cabin Embarked  \n",
       "0      0         A/5 21171   7.2500   NaN        S  \n",
       "1      0          PC 17599  71.2833   C85        C  \n",
       "2      0  STON/O2. 3101282   7.9250   NaN        S  \n",
       "3      0            113803  53.1000  C123        S  \n",
       "4      0            373450   8.0500   NaN        S  "
      ]
     },
     "execution_count": 33,
     "metadata": {},
     "output_type": "execute_result"
    }
   ],
   "source": [
    "df.head()"
   ]
  },
  {
   "cell_type": "code",
   "execution_count": 34,
   "id": "de32c305",
   "metadata": {
    "execution": {
     "iopub.execute_input": "2023-11-13T14:32:01.421734Z",
     "iopub.status.busy": "2023-11-13T14:32:01.421123Z",
     "iopub.status.idle": "2023-11-13T14:32:01.436899Z",
     "shell.execute_reply": "2023-11-13T14:32:01.435159Z"
    },
    "papermill": {
     "duration": 0.059029,
     "end_time": "2023-11-13T14:32:01.440300",
     "exception": false,
     "start_time": "2023-11-13T14:32:01.381271",
     "status": "completed"
    },
    "tags": []
   },
   "outputs": [
    {
     "data": {
      "text/html": [
       "<div>\n",
       "<style scoped>\n",
       "    .dataframe tbody tr th:only-of-type {\n",
       "        vertical-align: middle;\n",
       "    }\n",
       "\n",
       "    .dataframe tbody tr th {\n",
       "        vertical-align: top;\n",
       "    }\n",
       "\n",
       "    .dataframe thead th {\n",
       "        text-align: right;\n",
       "    }\n",
       "</style>\n",
       "<table border=\"1\" class=\"dataframe\">\n",
       "  <thead>\n",
       "    <tr style=\"text-align: right;\">\n",
       "      <th></th>\n",
       "      <th>Age</th>\n",
       "    </tr>\n",
       "    <tr>\n",
       "      <th>Sex</th>\n",
       "      <th></th>\n",
       "    </tr>\n",
       "  </thead>\n",
       "  <tbody>\n",
       "    <tr>\n",
       "      <th>female</th>\n",
       "      <td>27.915709</td>\n",
       "    </tr>\n",
       "    <tr>\n",
       "      <th>male</th>\n",
       "      <td>30.726645</td>\n",
       "    </tr>\n",
       "  </tbody>\n",
       "</table>\n",
       "</div>"
      ],
      "text/plain": [
       "              Age\n",
       "Sex              \n",
       "female  27.915709\n",
       "male    30.726645"
      ]
     },
     "execution_count": 34,
     "metadata": {},
     "output_type": "execute_result"
    }
   ],
   "source": [
    "df.groupby(\"Sex\").agg({\"Age\": \"mean\"})"
   ]
  },
  {
   "cell_type": "markdown",
   "id": "325e3f23",
   "metadata": {
    "papermill": {
     "duration": 0.036944,
     "end_time": "2023-11-13T14:32:01.515150",
     "exception": false,
     "start_time": "2023-11-13T14:32:01.478206",
     "status": "completed"
    },
    "tags": []
   },
   "source": [
    "<div style=\"border-radius:10px; border:#D0C2F0 solid; padding: 15px; background-color: #F8E8EE; font-size:100%; text-align:left\">\n",
    "\n",
    "<h3 align=\"left\"><font color='#5E5273'>📄 Notes: </font></h3>\n",
    "\n",
    "Buradaki rakamlara göre yaş ortalamalarında fark varmış gibi görünüyor. Fakat bu fark şans eseri ortaya çıkmış olabilir ve istatistiki olarak test edilmelidir.\n",
    "    \n",
    "* **Adım 1- Hipotezleri Kur:**\n",
    "    - Null Hipotez (H0): μ1 = μ2 (İki grubun yaş ortalamaları arasında bir fark yoktur)\n",
    "    - Alternatif Hipotez (H1): μ1 ≠ μ2 (Fark vardır)\n",
    "* **Adım 2- Varsayım Kontrolü:**\n",
    "    - Normallik Varsayımı\n",
    "    - Varyans Homojenliği\n",
    "* **Adım 3- Normallik Varsayımı Hipotezi:**\n",
    "    - H0: Normal dağılım varsayımı sağlanmaktadır.\n",
    "    - H1: Normal dağılım varsayımını sağlanmamaktadır.\n",
    "* **Adım 4- Varyans Homojenliği varsayımı:**\n",
    "    - H0: Varyanslar homojendir.\n",
    "    - H1: Varyanslar homojen değildir."
   ]
  },
  {
   "cell_type": "code",
   "execution_count": 35,
   "id": "b3d8a3f6",
   "metadata": {
    "execution": {
     "iopub.execute_input": "2023-11-13T14:32:01.592817Z",
     "iopub.status.busy": "2023-11-13T14:32:01.592273Z",
     "iopub.status.idle": "2023-11-13T14:32:01.602434Z",
     "shell.execute_reply": "2023-11-13T14:32:01.600917Z"
    },
    "papermill": {
     "duration": 0.052631,
     "end_time": "2023-11-13T14:32:01.605784",
     "exception": false,
     "start_time": "2023-11-13T14:32:01.553153",
     "status": "completed"
    },
    "tags": []
   },
   "outputs": [
    {
     "name": "stdout",
     "output_type": "stream",
     "text": [
      "Test Stat = 0.9848, p-value = 0.0071\n"
     ]
    }
   ],
   "source": [
    "test_stat, pvalue = shapiro(df.loc[df[\"Sex\"] == \"female\", \"Age\"].dropna())\n",
    "\n",
    "print('Test Stat = %.4f, p-value = %.4f' % (test_stat, pvalue))\n",
    "\n",
    "# H0 reddedildi. Kadınlar grubu için normallik varsayımı sağlanmıyor."
   ]
  },
  {
   "cell_type": "code",
   "execution_count": 36,
   "id": "803dbbc0",
   "metadata": {
    "execution": {
     "iopub.execute_input": "2023-11-13T14:32:01.684642Z",
     "iopub.status.busy": "2023-11-13T14:32:01.684148Z",
     "iopub.status.idle": "2023-11-13T14:32:01.694081Z",
     "shell.execute_reply": "2023-11-13T14:32:01.692764Z"
    },
    "papermill": {
     "duration": 0.053514,
     "end_time": "2023-11-13T14:32:01.697804",
     "exception": false,
     "start_time": "2023-11-13T14:32:01.644290",
     "status": "completed"
    },
    "tags": []
   },
   "outputs": [
    {
     "name": "stdout",
     "output_type": "stream",
     "text": [
      "Test Stat = 0.9747, p-value = 0.0000\n"
     ]
    }
   ],
   "source": [
    "test_stat, pvalue = shapiro(df.loc[df[\"Sex\"] == \"male\", \"Age\"].dropna())\n",
    "\n",
    "print('Test Stat = %.4f, p-value = %.4f' % (test_stat, pvalue))\n",
    "\n",
    "# H0 reddedildi. Erkekler grubu için normallik varsayımı sağlanmıyor.\n",
    "# Bu adımdan sonra non-parametrik teste geçmeliyiz."
   ]
  },
  {
   "cell_type": "code",
   "execution_count": 37,
   "id": "e296ff1c",
   "metadata": {
    "execution": {
     "iopub.execute_input": "2023-11-13T14:32:01.776500Z",
     "iopub.status.busy": "2023-11-13T14:32:01.776035Z",
     "iopub.status.idle": "2023-11-13T14:32:01.790237Z",
     "shell.execute_reply": "2023-11-13T14:32:01.788438Z"
    },
    "papermill": {
     "duration": 0.056404,
     "end_time": "2023-11-13T14:32:01.793006",
     "exception": false,
     "start_time": "2023-11-13T14:32:01.736602",
     "status": "completed"
    },
    "tags": []
   },
   "outputs": [
    {
     "name": "stdout",
     "output_type": "stream",
     "text": [
      "Test Stat = 0.0013, p-value = 0.9712\n"
     ]
    }
   ],
   "source": [
    "test_stat, pvalue = levene(df.loc[df[\"Sex\"] == \"female\", \"Age\"].dropna(),\n",
    "                           df.loc[df[\"Sex\"] == \"male\", \"Age\"].dropna())\n",
    "\n",
    "print('Test Stat = %.4f, p-value = %.4f' % (test_stat, pvalue))\n",
    "\n",
    "# H0 reddedilemez. Varyanslar homojendir.\n",
    "# Lakin bu hipotez için önemli değil çünkü normallik varsayımlarımız sağlanmadı.\n",
    "# Sadece uygulanışını görmek için ekledik."
   ]
  },
  {
   "cell_type": "code",
   "execution_count": 38,
   "id": "40308e76",
   "metadata": {
    "execution": {
     "iopub.execute_input": "2023-11-13T14:32:01.875551Z",
     "iopub.status.busy": "2023-11-13T14:32:01.874107Z",
     "iopub.status.idle": "2023-11-13T14:32:01.888807Z",
     "shell.execute_reply": "2023-11-13T14:32:01.887605Z"
    },
    "papermill": {
     "duration": 0.061052,
     "end_time": "2023-11-13T14:32:01.892603",
     "exception": false,
     "start_time": "2023-11-13T14:32:01.831551",
     "status": "completed"
    },
    "tags": []
   },
   "outputs": [
    {
     "name": "stdout",
     "output_type": "stream",
     "text": [
      "Test Stat = 53212.5000, p-value = 0.0261\n"
     ]
    }
   ],
   "source": [
    "test_stat, pvalue = mannwhitneyu(df.loc[df[\"Sex\"] == \"female\", \"Age\"].dropna(),\n",
    "                                 df.loc[df[\"Sex\"] == \"male\", \"Age\"].dropna())\n",
    "\n",
    "print('Test Stat = %.4f, p-value = %.4f' % (test_stat, pvalue))\n",
    "\n",
    "# H0 reddedilmiştir. Kadın ve erkek yaş ortalamaları arasında istatistiki olarak fark vardır."
   ]
  },
  {
   "cell_type": "markdown",
   "id": "9153b63e",
   "metadata": {
    "papermill": {
     "duration": 0.039032,
     "end_time": "2023-11-13T14:32:01.971724",
     "exception": false,
     "start_time": "2023-11-13T14:32:01.932692",
     "status": "completed"
    },
    "tags": []
   },
   "source": [
    "<a id = \"8\"></a><br>\n",
    "<p style=\"font-family: 'Pacifico', cursive; font-weight: bold; letter-spacing: 2px; color: #556B2F; font-size: 160%; text-align: left; padding: 0px; border-bottom: 3px solid\">✨A/B Testi Uygulaması 3✨</p>"
   ]
  },
  {
   "cell_type": "markdown",
   "id": "2ee43892",
   "metadata": {
    "papermill": {
     "duration": 0.0409,
     "end_time": "2023-11-13T14:32:02.053513",
     "exception": false,
     "start_time": "2023-11-13T14:32:02.012613",
     "status": "completed"
    },
    "tags": []
   },
   "source": [
    "> **Diyabet hastası olan ve olmayanların yaş ortalamaları arasında istatistiksel olarak anlamlı bir fark var mıdır?**"
   ]
  },
  {
   "cell_type": "code",
   "execution_count": 39,
   "id": "0080416a",
   "metadata": {
    "execution": {
     "iopub.execute_input": "2023-11-13T14:32:02.141961Z",
     "iopub.status.busy": "2023-11-13T14:32:02.141366Z",
     "iopub.status.idle": "2023-11-13T14:32:02.163527Z",
     "shell.execute_reply": "2023-11-13T14:32:02.162276Z"
    },
    "papermill": {
     "duration": 0.070951,
     "end_time": "2023-11-13T14:32:02.166754",
     "exception": false,
     "start_time": "2023-11-13T14:32:02.095803",
     "status": "completed"
    },
    "tags": []
   },
   "outputs": [],
   "source": [
    "df = pd.read_csv(\"/kaggle/input/diabetes-dataset/diabetes.csv\")"
   ]
  },
  {
   "cell_type": "code",
   "execution_count": 40,
   "id": "82f32cdc",
   "metadata": {
    "execution": {
     "iopub.execute_input": "2023-11-13T14:32:02.249010Z",
     "iopub.status.busy": "2023-11-13T14:32:02.248116Z",
     "iopub.status.idle": "2023-11-13T14:32:02.264579Z",
     "shell.execute_reply": "2023-11-13T14:32:02.263242Z"
    },
    "papermill": {
     "duration": 0.06015,
     "end_time": "2023-11-13T14:32:02.267719",
     "exception": false,
     "start_time": "2023-11-13T14:32:02.207569",
     "status": "completed"
    },
    "tags": []
   },
   "outputs": [
    {
     "data": {
      "text/html": [
       "<div>\n",
       "<style scoped>\n",
       "    .dataframe tbody tr th:only-of-type {\n",
       "        vertical-align: middle;\n",
       "    }\n",
       "\n",
       "    .dataframe tbody tr th {\n",
       "        vertical-align: top;\n",
       "    }\n",
       "\n",
       "    .dataframe thead th {\n",
       "        text-align: right;\n",
       "    }\n",
       "</style>\n",
       "<table border=\"1\" class=\"dataframe\">\n",
       "  <thead>\n",
       "    <tr style=\"text-align: right;\">\n",
       "      <th></th>\n",
       "      <th>Pregnancies</th>\n",
       "      <th>Glucose</th>\n",
       "      <th>BloodPressure</th>\n",
       "      <th>SkinThickness</th>\n",
       "      <th>Insulin</th>\n",
       "      <th>BMI</th>\n",
       "      <th>DiabetesPedigreeFunction</th>\n",
       "      <th>Age</th>\n",
       "      <th>Outcome</th>\n",
       "    </tr>\n",
       "  </thead>\n",
       "  <tbody>\n",
       "    <tr>\n",
       "      <th>0</th>\n",
       "      <td>6</td>\n",
       "      <td>148</td>\n",
       "      <td>72</td>\n",
       "      <td>35</td>\n",
       "      <td>0</td>\n",
       "      <td>33.6</td>\n",
       "      <td>0.627</td>\n",
       "      <td>50</td>\n",
       "      <td>1</td>\n",
       "    </tr>\n",
       "    <tr>\n",
       "      <th>1</th>\n",
       "      <td>1</td>\n",
       "      <td>85</td>\n",
       "      <td>66</td>\n",
       "      <td>29</td>\n",
       "      <td>0</td>\n",
       "      <td>26.6</td>\n",
       "      <td>0.351</td>\n",
       "      <td>31</td>\n",
       "      <td>0</td>\n",
       "    </tr>\n",
       "    <tr>\n",
       "      <th>2</th>\n",
       "      <td>8</td>\n",
       "      <td>183</td>\n",
       "      <td>64</td>\n",
       "      <td>0</td>\n",
       "      <td>0</td>\n",
       "      <td>23.3</td>\n",
       "      <td>0.672</td>\n",
       "      <td>32</td>\n",
       "      <td>1</td>\n",
       "    </tr>\n",
       "    <tr>\n",
       "      <th>3</th>\n",
       "      <td>1</td>\n",
       "      <td>89</td>\n",
       "      <td>66</td>\n",
       "      <td>23</td>\n",
       "      <td>94</td>\n",
       "      <td>28.1</td>\n",
       "      <td>0.167</td>\n",
       "      <td>21</td>\n",
       "      <td>0</td>\n",
       "    </tr>\n",
       "    <tr>\n",
       "      <th>4</th>\n",
       "      <td>0</td>\n",
       "      <td>137</td>\n",
       "      <td>40</td>\n",
       "      <td>35</td>\n",
       "      <td>168</td>\n",
       "      <td>43.1</td>\n",
       "      <td>2.288</td>\n",
       "      <td>33</td>\n",
       "      <td>1</td>\n",
       "    </tr>\n",
       "  </tbody>\n",
       "</table>\n",
       "</div>"
      ],
      "text/plain": [
       "   Pregnancies  Glucose  BloodPressure  SkinThickness  Insulin   BMI  \\\n",
       "0            6      148             72             35        0  33.6   \n",
       "1            1       85             66             29        0  26.6   \n",
       "2            8      183             64              0        0  23.3   \n",
       "3            1       89             66             23       94  28.1   \n",
       "4            0      137             40             35      168  43.1   \n",
       "\n",
       "   DiabetesPedigreeFunction  Age  Outcome  \n",
       "0                     0.627   50        1  \n",
       "1                     0.351   31        0  \n",
       "2                     0.672   32        1  \n",
       "3                     0.167   21        0  \n",
       "4                     2.288   33        1  "
      ]
     },
     "execution_count": 40,
     "metadata": {},
     "output_type": "execute_result"
    }
   ],
   "source": [
    "df.head()"
   ]
  },
  {
   "cell_type": "code",
   "execution_count": 41,
   "id": "a67f6718",
   "metadata": {
    "execution": {
     "iopub.execute_input": "2023-11-13T14:32:02.352234Z",
     "iopub.status.busy": "2023-11-13T14:32:02.351712Z",
     "iopub.status.idle": "2023-11-13T14:32:02.370541Z",
     "shell.execute_reply": "2023-11-13T14:32:02.369132Z"
    },
    "papermill": {
     "duration": 0.063599,
     "end_time": "2023-11-13T14:32:02.373901",
     "exception": false,
     "start_time": "2023-11-13T14:32:02.310302",
     "status": "completed"
    },
    "tags": []
   },
   "outputs": [
    {
     "data": {
      "text/html": [
       "<div>\n",
       "<style scoped>\n",
       "    .dataframe tbody tr th:only-of-type {\n",
       "        vertical-align: middle;\n",
       "    }\n",
       "\n",
       "    .dataframe tbody tr th {\n",
       "        vertical-align: top;\n",
       "    }\n",
       "\n",
       "    .dataframe thead th {\n",
       "        text-align: right;\n",
       "    }\n",
       "</style>\n",
       "<table border=\"1\" class=\"dataframe\">\n",
       "  <thead>\n",
       "    <tr style=\"text-align: right;\">\n",
       "      <th></th>\n",
       "      <th>Age</th>\n",
       "    </tr>\n",
       "    <tr>\n",
       "      <th>Outcome</th>\n",
       "      <th></th>\n",
       "    </tr>\n",
       "  </thead>\n",
       "  <tbody>\n",
       "    <tr>\n",
       "      <th>0</th>\n",
       "      <td>31.190000</td>\n",
       "    </tr>\n",
       "    <tr>\n",
       "      <th>1</th>\n",
       "      <td>37.067164</td>\n",
       "    </tr>\n",
       "  </tbody>\n",
       "</table>\n",
       "</div>"
      ],
      "text/plain": [
       "               Age\n",
       "Outcome           \n",
       "0        31.190000\n",
       "1        37.067164"
      ]
     },
     "execution_count": 41,
     "metadata": {},
     "output_type": "execute_result"
    }
   ],
   "source": [
    "df.groupby(\"Outcome\").agg({\"Age\": \"mean\"})\n",
    "\n",
    "# 0 - diyabet olmayan\n",
    "# 1- diyabet olan"
   ]
  },
  {
   "cell_type": "markdown",
   "id": "3b1e425d",
   "metadata": {
    "papermill": {
     "duration": 0.038742,
     "end_time": "2023-11-13T14:32:02.452210",
     "exception": false,
     "start_time": "2023-11-13T14:32:02.413468",
     "status": "completed"
    },
    "tags": []
   },
   "source": [
    "<div style=\"border-radius:10px; border:#D0C2F0 solid; padding: 15px; background-color: #F8E8EE; font-size:100%; text-align:left\">\n",
    "\n",
    "<h3 align=\"left\"><font color='#5E5273'>📄 Notes: </font></h3>\n",
    "\n",
    "Buradaki rakamlara göre yaş ortalamalarında fark varmış gibi görünüyor. Fakat bu fark şans eseri ortaya çıkmış olabilir ve istatistiki olarak test edilmelidir.\n",
    "    \n",
    "* **Adım 1- Hipotezleri Kur:**\n",
    "    - Null Hipotez (H0): μ1 = μ2 (İki grubun yaş ortalamaları arasında bir fark yoktur)\n",
    "    - Alternatif Hipotez (H1): μ1 ≠ μ2 (Fark vardır)\n",
    "* **Adım 2- Varsayım Kontrolü:**\n",
    "    - Normallik Varsayımı\n",
    "    - Varyans Homojenliği\n",
    "* **Adım 3- Normallik Varsayımı Hipotezi:**\n",
    "    - H0: Normal dağılım varsayımı sağlanmaktadır.\n",
    "    - H1: Normal dağılım varsayımını sağlanmamaktadır.\n",
    "* **Adım 4- Varyans Homojenliği varsayımı:**\n",
    "    - H0: Varyanslar homojendir.\n",
    "    - H1: Varyanslar homojen değildir."
   ]
  },
  {
   "cell_type": "code",
   "execution_count": 42,
   "id": "1c4d0184",
   "metadata": {
    "execution": {
     "iopub.execute_input": "2023-11-13T14:32:02.536266Z",
     "iopub.status.busy": "2023-11-13T14:32:02.534805Z",
     "iopub.status.idle": "2023-11-13T14:32:02.545179Z",
     "shell.execute_reply": "2023-11-13T14:32:02.543264Z"
    },
    "papermill": {
     "duration": 0.055288,
     "end_time": "2023-11-13T14:32:02.548333",
     "exception": false,
     "start_time": "2023-11-13T14:32:02.493045",
     "status": "completed"
    },
    "tags": []
   },
   "outputs": [
    {
     "name": "stdout",
     "output_type": "stream",
     "text": [
      "Test Stat = 0.9546, p-value = 0.0000\n"
     ]
    }
   ],
   "source": [
    "test_stat, pvalue = shapiro(df.loc[df[\"Outcome\"] == 1, \"Age\"].dropna())\n",
    "\n",
    "print('Test Stat = %.4f, p-value = %.4f' % (test_stat, pvalue))\n",
    "\n",
    "# H0 reddedilmiştir. Normallik varsayımı sağlanmamaktadır."
   ]
  },
  {
   "cell_type": "code",
   "execution_count": 43,
   "id": "a4a8f14b",
   "metadata": {
    "execution": {
     "iopub.execute_input": "2023-11-13T14:32:02.633716Z",
     "iopub.status.busy": "2023-11-13T14:32:02.633143Z",
     "iopub.status.idle": "2023-11-13T14:32:02.642420Z",
     "shell.execute_reply": "2023-11-13T14:32:02.640897Z"
    },
    "papermill": {
     "duration": 0.05383,
     "end_time": "2023-11-13T14:32:02.645703",
     "exception": false,
     "start_time": "2023-11-13T14:32:02.591873",
     "status": "completed"
    },
    "tags": []
   },
   "outputs": [
    {
     "name": "stdout",
     "output_type": "stream",
     "text": [
      "Test Stat = 0.8012, p-value = 0.0000\n"
     ]
    }
   ],
   "source": [
    "test_stat, pvalue = shapiro(df.loc[df[\"Outcome\"] == 0, \"Age\"].dropna())\n",
    "\n",
    "print('Test Stat = %.4f, p-value = %.4f' % (test_stat, pvalue))\n",
    "\n",
    "# H0 reddedilmiştir. Normallik varsayımı sağlanmamaktadır.\n",
    "# Normallik varsayımları reddedildiği için Varsayım Testi yapmadan Mann-Whitney U testine geçmeliyiz."
   ]
  },
  {
   "cell_type": "code",
   "execution_count": 44,
   "id": "f11de7e9",
   "metadata": {
    "execution": {
     "iopub.execute_input": "2023-11-13T14:32:02.727389Z",
     "iopub.status.busy": "2023-11-13T14:32:02.726858Z",
     "iopub.status.idle": "2023-11-13T14:32:02.740853Z",
     "shell.execute_reply": "2023-11-13T14:32:02.739337Z"
    },
    "papermill": {
     "duration": 0.058037,
     "end_time": "2023-11-13T14:32:02.743451",
     "exception": false,
     "start_time": "2023-11-13T14:32:02.685414",
     "status": "completed"
    },
    "tags": []
   },
   "outputs": [
    {
     "name": "stdout",
     "output_type": "stream",
     "text": [
      "Test Stat = 92050.0000, p-value = 0.0000\n"
     ]
    }
   ],
   "source": [
    "test_stat, pvalue = mannwhitneyu(df.loc[df[\"Outcome\"] == 1, \"Age\"].dropna(),\n",
    "                                 df.loc[df[\"Outcome\"] == 0, \"Age\"].dropna())\n",
    "\n",
    "print('Test Stat = %.4f, p-value = %.4f' % (test_stat, pvalue))\n",
    "\n",
    "# H0 reddedilmiştir. \n",
    "# Diyabet olanların ve olmayanların yaş ortalamaları arasında istatistiki anlamlı bir farklılık vardır.\n",
    "# Non-parametrik hesaplar için medyan kıyaslamasıda söz konusudur."
   ]
  },
  {
   "cell_type": "markdown",
   "id": "3bf4c914",
   "metadata": {
    "papermill": {
     "duration": 0.043502,
     "end_time": "2023-11-13T14:32:02.828985",
     "exception": false,
     "start_time": "2023-11-13T14:32:02.785483",
     "status": "completed"
    },
    "tags": []
   },
   "source": [
    "<a id = \"9\"></a><br>\n",
    "<p style=\"font-family: 'Pacifico', cursive; font-weight: bold; letter-spacing: 2px; color: #556B2F; font-size: 160%; text-align: left; padding: 0px; border-bottom: 3px solid\">✨A/B Testi Uygulaması 4✨</p>"
   ]
  },
  {
   "cell_type": "markdown",
   "id": "af442aed",
   "metadata": {
    "papermill": {
     "duration": 0.039857,
     "end_time": "2023-11-13T14:32:02.912350",
     "exception": false,
     "start_time": "2023-11-13T14:32:02.872493",
     "status": "completed"
    },
    "tags": []
   },
   "source": [
    "> **Kursun büyük çoğunluğunu izleyenler ile izlemeyenlerin puanları birbirinden farklı mı?**"
   ]
  },
  {
   "cell_type": "code",
   "execution_count": 45,
   "id": "59caf2ad",
   "metadata": {
    "execution": {
     "iopub.execute_input": "2023-11-13T14:32:02.995519Z",
     "iopub.status.busy": "2023-11-13T14:32:02.993882Z",
     "iopub.status.idle": "2023-11-13T14:32:03.024283Z",
     "shell.execute_reply": "2023-11-13T14:32:03.023132Z"
    },
    "papermill": {
     "duration": 0.075579,
     "end_time": "2023-11-13T14:32:03.027529",
     "exception": false,
     "start_time": "2023-11-13T14:32:02.951950",
     "status": "completed"
    },
    "tags": []
   },
   "outputs": [],
   "source": [
    "df = pd.read_csv(\"/kaggle/input/course-reviewsdataset/course_reviews.csv\")"
   ]
  },
  {
   "cell_type": "code",
   "execution_count": 46,
   "id": "6b204c3c",
   "metadata": {
    "execution": {
     "iopub.execute_input": "2023-11-13T14:32:03.120699Z",
     "iopub.status.busy": "2023-11-13T14:32:03.119858Z",
     "iopub.status.idle": "2023-11-13T14:32:03.144544Z",
     "shell.execute_reply": "2023-11-13T14:32:03.143369Z"
    },
    "papermill": {
     "duration": 0.076748,
     "end_time": "2023-11-13T14:32:03.147502",
     "exception": false,
     "start_time": "2023-11-13T14:32:03.070754",
     "status": "completed"
    },
    "tags": []
   },
   "outputs": [
    {
     "data": {
      "text/html": [
       "<div>\n",
       "<style scoped>\n",
       "    .dataframe tbody tr th:only-of-type {\n",
       "        vertical-align: middle;\n",
       "    }\n",
       "\n",
       "    .dataframe tbody tr th {\n",
       "        vertical-align: top;\n",
       "    }\n",
       "\n",
       "    .dataframe thead th {\n",
       "        text-align: right;\n",
       "    }\n",
       "</style>\n",
       "<table border=\"1\" class=\"dataframe\">\n",
       "  <thead>\n",
       "    <tr style=\"text-align: right;\">\n",
       "      <th></th>\n",
       "      <th>Rating</th>\n",
       "      <th>Timestamp</th>\n",
       "      <th>Enrolled</th>\n",
       "      <th>Progress</th>\n",
       "      <th>Questions Asked</th>\n",
       "      <th>Questions Answered</th>\n",
       "    </tr>\n",
       "  </thead>\n",
       "  <tbody>\n",
       "    <tr>\n",
       "      <th>0</th>\n",
       "      <td>5.0</td>\n",
       "      <td>2021-02-05 07:45:55</td>\n",
       "      <td>2021-01-25 15:12:08</td>\n",
       "      <td>5.0</td>\n",
       "      <td>0.0</td>\n",
       "      <td>0.0</td>\n",
       "    </tr>\n",
       "    <tr>\n",
       "      <th>1</th>\n",
       "      <td>5.0</td>\n",
       "      <td>2021-02-04 21:05:32</td>\n",
       "      <td>2021-02-04 20:43:40</td>\n",
       "      <td>1.0</td>\n",
       "      <td>0.0</td>\n",
       "      <td>0.0</td>\n",
       "    </tr>\n",
       "    <tr>\n",
       "      <th>2</th>\n",
       "      <td>4.5</td>\n",
       "      <td>2021-02-04 20:34:03</td>\n",
       "      <td>2019-07-04 23:23:27</td>\n",
       "      <td>1.0</td>\n",
       "      <td>0.0</td>\n",
       "      <td>0.0</td>\n",
       "    </tr>\n",
       "    <tr>\n",
       "      <th>3</th>\n",
       "      <td>5.0</td>\n",
       "      <td>2021-02-04 16:56:28</td>\n",
       "      <td>2021-02-04 14:41:29</td>\n",
       "      <td>10.0</td>\n",
       "      <td>0.0</td>\n",
       "      <td>0.0</td>\n",
       "    </tr>\n",
       "    <tr>\n",
       "      <th>4</th>\n",
       "      <td>4.0</td>\n",
       "      <td>2021-02-04 15:00:24</td>\n",
       "      <td>2020-10-13 03:10:07</td>\n",
       "      <td>10.0</td>\n",
       "      <td>0.0</td>\n",
       "      <td>0.0</td>\n",
       "    </tr>\n",
       "  </tbody>\n",
       "</table>\n",
       "</div>"
      ],
      "text/plain": [
       "   Rating            Timestamp             Enrolled  Progress  \\\n",
       "0     5.0  2021-02-05 07:45:55  2021-01-25 15:12:08       5.0   \n",
       "1     5.0  2021-02-04 21:05:32  2021-02-04 20:43:40       1.0   \n",
       "2     4.5  2021-02-04 20:34:03  2019-07-04 23:23:27       1.0   \n",
       "3     5.0  2021-02-04 16:56:28  2021-02-04 14:41:29      10.0   \n",
       "4     4.0  2021-02-04 15:00:24  2020-10-13 03:10:07      10.0   \n",
       "\n",
       "   Questions Asked  Questions Answered  \n",
       "0              0.0                 0.0  \n",
       "1              0.0                 0.0  \n",
       "2              0.0                 0.0  \n",
       "3              0.0                 0.0  \n",
       "4              0.0                 0.0  "
      ]
     },
     "execution_count": 46,
     "metadata": {},
     "output_type": "execute_result"
    }
   ],
   "source": [
    "df.head()"
   ]
  },
  {
   "cell_type": "code",
   "execution_count": 47,
   "id": "108189f2",
   "metadata": {
    "execution": {
     "iopub.execute_input": "2023-11-13T14:32:03.237078Z",
     "iopub.status.busy": "2023-11-13T14:32:03.236224Z",
     "iopub.status.idle": "2023-11-13T14:32:03.249036Z",
     "shell.execute_reply": "2023-11-13T14:32:03.247063Z"
    },
    "papermill": {
     "duration": 0.062487,
     "end_time": "2023-11-13T14:32:03.252985",
     "exception": false,
     "start_time": "2023-11-13T14:32:03.190498",
     "status": "completed"
    },
    "tags": []
   },
   "outputs": [
    {
     "data": {
      "text/plain": [
       "4.860491071428571"
      ]
     },
     "execution_count": 47,
     "metadata": {},
     "output_type": "execute_result"
    }
   ],
   "source": [
    "df[(df[\"Progress\"] > 75)][\"Rating\"].mean()"
   ]
  },
  {
   "cell_type": "code",
   "execution_count": 48,
   "id": "791a1b4b",
   "metadata": {
    "execution": {
     "iopub.execute_input": "2023-11-13T14:32:03.349371Z",
     "iopub.status.busy": "2023-11-13T14:32:03.348887Z",
     "iopub.status.idle": "2023-11-13T14:32:03.360530Z",
     "shell.execute_reply": "2023-11-13T14:32:03.358778Z"
    },
    "papermill": {
     "duration": 0.065827,
     "end_time": "2023-11-13T14:32:03.363985",
     "exception": false,
     "start_time": "2023-11-13T14:32:03.298158",
     "status": "completed"
    },
    "tags": []
   },
   "outputs": [
    {
     "data": {
      "text/plain": [
       "4.7225029148853475"
      ]
     },
     "execution_count": 48,
     "metadata": {},
     "output_type": "execute_result"
    }
   ],
   "source": [
    "df[(df[\"Progress\"] < 25)][\"Rating\"].mean()"
   ]
  },
  {
   "cell_type": "markdown",
   "id": "82542f50",
   "metadata": {
    "papermill": {
     "duration": 0.04458,
     "end_time": "2023-11-13T14:32:03.450619",
     "exception": false,
     "start_time": "2023-11-13T14:32:03.406039",
     "status": "completed"
    },
    "tags": []
   },
   "source": [
    "<div style=\"border-radius:10px; border:#D0C2F0 solid; padding: 15px; background-color: #F8E8EE; font-size:100%; text-align:left\">\n",
    "\n",
    "<h3 align=\"left\"><font color='#5E5273'>📄 Notes: </font></h3>\n",
    "\n",
    "Buradaki rakamlara göre kurs puanlamalarında fark varmış gibi görünüyor. Fakat bu fark şans eseri ortaya çıkmış olabilir ve istatistiki olarak test edilmelidir.\n",
    "    \n",
    "* **Adım 1- Hipotezleri Kur:**   \n",
    "    - Null Hipotez (H0): μ1 = μ2 (İki grubun puan ortalamaları arasında bir fark yoktur)\n",
    "    - Alternatif Hipotez (H1): μ1 ≠ μ2 (Fark vardır)\n",
    "* **Adım 2- Varsayım Kontrolü:**\n",
    "    - Normallik Varsayımı\n",
    "    - Varyans Homojenliği\n",
    "* **Adım 3- Normallik Varsayımı Hipotezi:**\n",
    "    - H0: Normal dağılım varsayımı sağlanmaktadır.\n",
    "    - H1: Normal dağılım varsayımını sağlanmamaktadır.\n",
    "* **Adım 4- Varyans Homojenliği varsayımı:**\n",
    "    - H0: Varyanslar homojendir.\n",
    "    - H1: Varyanslar homojen değildir."
   ]
  },
  {
   "cell_type": "code",
   "execution_count": 49,
   "id": "f3d35583",
   "metadata": {
    "execution": {
     "iopub.execute_input": "2023-11-13T14:32:03.553609Z",
     "iopub.status.busy": "2023-11-13T14:32:03.551519Z",
     "iopub.status.idle": "2023-11-13T14:32:03.566138Z",
     "shell.execute_reply": "2023-11-13T14:32:03.563629Z"
    },
    "papermill": {
     "duration": 0.07156,
     "end_time": "2023-11-13T14:32:03.570294",
     "exception": false,
     "start_time": "2023-11-13T14:32:03.498734",
     "status": "completed"
    },
    "tags": []
   },
   "outputs": [
    {
     "name": "stdout",
     "output_type": "stream",
     "text": [
      "Test Stat = 0.3160, p-value = 0.0000\n"
     ]
    }
   ],
   "source": [
    "test_stat, pvalue = shapiro(df[(df[\"Progress\"] > 75)][\"Rating\"])\n",
    "\n",
    "print('Test Stat = %.4f, p-value = %.4f' % (test_stat, pvalue))\n",
    "\n",
    "# H0 reddedilmiştir. Normallik varsayımı sağlanmamaktadır."
   ]
  },
  {
   "cell_type": "code",
   "execution_count": 50,
   "id": "c08c2f54",
   "metadata": {
    "execution": {
     "iopub.execute_input": "2023-11-13T14:32:03.678070Z",
     "iopub.status.busy": "2023-11-13T14:32:03.675564Z",
     "iopub.status.idle": "2023-11-13T14:32:03.692193Z",
     "shell.execute_reply": "2023-11-13T14:32:03.690477Z"
    },
    "papermill": {
     "duration": 0.074429,
     "end_time": "2023-11-13T14:32:03.695767",
     "exception": false,
     "start_time": "2023-11-13T14:32:03.621338",
     "status": "completed"
    },
    "tags": []
   },
   "outputs": [
    {
     "name": "stdout",
     "output_type": "stream",
     "text": [
      "Test Stat = 0.5710, p-value = 0.0000\n"
     ]
    }
   ],
   "source": [
    "test_stat, pvalue = shapiro(df[(df[\"Progress\"] < 25)][\"Rating\"])\n",
    "\n",
    "print('Test Stat = %.4f, p-value = %.4f' % (test_stat, pvalue))\n",
    "\n",
    "# H0 reddedilmiştir. Normallik varsayımı sağlanmamaktadır."
   ]
  },
  {
   "cell_type": "code",
   "execution_count": 51,
   "id": "be675378",
   "metadata": {
    "execution": {
     "iopub.execute_input": "2023-11-13T14:32:03.791195Z",
     "iopub.status.busy": "2023-11-13T14:32:03.790640Z",
     "iopub.status.idle": "2023-11-13T14:32:03.810267Z",
     "shell.execute_reply": "2023-11-13T14:32:03.808642Z"
    },
    "papermill": {
     "duration": 0.070243,
     "end_time": "2023-11-13T14:32:03.813496",
     "exception": false,
     "start_time": "2023-11-13T14:32:03.743253",
     "status": "completed"
    },
    "tags": []
   },
   "outputs": [
    {
     "name": "stdout",
     "output_type": "stream",
     "text": [
      "Test Stat = 661481.5000, p-value = 0.0000\n"
     ]
    }
   ],
   "source": [
    "test_stat, pvalue = mannwhitneyu(df[(df[\"Progress\"] > 75)][\"Rating\"],\n",
    "                                 df[(df[\"Progress\"] < 25)][\"Rating\"])\n",
    "\n",
    "print('Test Stat = %.4f, p-value = %.4f' % (test_stat, pvalue))\n",
    "\n",
    "# H0 reddedilmiştir.\n",
    "# İstatistiki olarak kursu daha fazla izleyenlerin. daha az izleyenlere göre verdikleri puan ortalamaları daha yüksektir."
   ]
  },
  {
   "cell_type": "markdown",
   "id": "ee8d4213",
   "metadata": {
    "papermill": {
     "duration": 0.041491,
     "end_time": "2023-11-13T14:32:03.899328",
     "exception": false,
     "start_time": "2023-11-13T14:32:03.857837",
     "status": "completed"
    },
    "tags": []
   },
   "source": [
    "<a id=\"10\"></a>\n",
    "<h1 style=\"border-radius: 10px; border: 2px solid #6B8E23; background-color: #F5F5DC; font-family: 'Pacifico', cursive; font-size: 200%; text-align: center; border-radius: 15px 50px; padding: 15px; box-shadow: 5px 5px 5px #556B2F; color: #556B2F;\">💠İki Grup Oran Karşılaştırma (İki Örneklem Oran Testi)💠</h1>"
   ]
  },
  {
   "cell_type": "markdown",
   "id": "452b039b",
   "metadata": {
    "papermill": {
     "duration": 0.040889,
     "end_time": "2023-11-13T14:32:03.983119",
     "exception": false,
     "start_time": "2023-11-13T14:32:03.942230",
     "status": "completed"
    },
    "tags": []
   },
   "source": [
    "İki Örneklem Oran Testi (Two-Sample Proportion Test), iki bağımsız örneklem arasında iki kategorik değişkenin oranlarının istatistiksel olarak anlamlı bir farklılık gösterip göstermediğini değerlendirmek için kullanılan bir istatistiksel testtir. Bu test, kategorik verilerle çalışır ve iki bağımsız grup arasındaki oran farklarını belirlemek için kullanışlıdır.\n",
    "\n",
    "İki Örneklem Oran Testi'nin temel adımları şunlardır:\n",
    "\n",
    "1. **Null Hipotez (H0):** İki grup arasındaki oranlar arasında bir fark yoktur. Yani, iki grup aynı oranlara sahiptir.\n",
    "2. **Alternatif Hipotez (H1):** İki grup arasındaki oranlar arasında bir fark vardır. İki grup farklı oranlara sahiptir.\n",
    "\n",
    "Bu test, her iki grubun kategorik verilerini kullanarak her iki grubun oranlarını karşılaştırır. İlk olarak, her iki grubun kategorik verileriyle oranlar hesaplanır. Daha sonra, bu oranlar arasındaki farkın istatistiksel olarak anlamlı olup olmadığını değerlendirmek için bir test istatistiği hesaplanır. Bu test istatistiği genellikle **Z testi** veya **Ki-kare testi** kullanılarak hesaplanır.\n",
    "\n",
    "Sonuç olarak, elde edilen p-value değeri, null hipotezin (H0) kabul edilip edilmeyeceğini belirler. Eğer p-value, belirli bir anlamlılık seviyesinden (genellikle 0.05 olarak kabul edilir) daha küçükse, null hipotez reddedilir ve iki grup arasında oran farkı olduğu kabul edilir. Eğer p-value, anlamlılık seviyesinden büyükse, null hipotez kabul edilir ve iki grup arasında oran farkı olmadığı düşünülür."
   ]
  },
  {
   "cell_type": "markdown",
   "id": "e6a4db41",
   "metadata": {
    "papermill": {
     "duration": 0.040538,
     "end_time": "2023-11-13T14:32:04.065920",
     "exception": false,
     "start_time": "2023-11-13T14:32:04.025382",
     "status": "completed"
    },
    "tags": []
   },
   "source": [
    "<div style=\"border-radius:10px; border:#D0C2F0 solid; padding: 15px; background-color: #F8E8EE; font-size:100%; text-align:left\">\n",
    "\n",
    "<h3 align=\"left\"><font color='#5E5273'>📄 Notes: </font></h3>\n",
    "    \n",
    "**Z-test**, örneklemlerden elde edilen verilerin bir popülasyon parametresiyle karşılaştırılmasını ve bu karşılaştırmanın istatistiksel olarak anlamlı olup olmadığını değerlendirmek için kullanılan bir istatistiksel testtir. Z-testi, özellikle büyük örneklem büyüklükleri için ve popülasyon standart sapması bilindiğinde uygulanabilir.\n",
    "\n",
    "Z-testinin temel amacı, bir örneklem verisinin popülasyon parametresi (genellikle popülasyon ortalaması) ile karşılaştırılmasıdır. Bu karşılaştırma sonucunda, örneklem verisi ile popülasyon parametresi arasındaki farkın tesadüfen oluşup oluşmadığını belirlemek amaçlanır.\n",
    "\n",
    "Z-testi, aşağıdaki adımları izler:\n",
    "\n",
    "1. **Null Hipotez (H0):** Örneklem verisi ile popülasyon parametresi arasında anlamlı bir fark yoktur.\n",
    "2. **Alternatif Hipotez (H1):** Örneklem verisi ile popülasyon parametresi arasında anlamlı bir fark vardır.\n",
    "\n",
    "Z-testi, öncelikle örneklem verisinin ortalama değeri ile popülasyon parametresi (genellikle popülasyon ortalaması) arasındaki farkı hesaplar. Bu hesaplama sonucunda bir test istatistiği (Z değeri) elde edilir. Daha sonra, bu test istatistiği kullanılarak bir p-value hesaplanır. Eğer p-value, belirli bir anlamlılık seviyesinden (genellikle 0.05) daha küçükse, null hipotez (H0) reddedilir ve örneklem verisi ile popülasyon parametresi arasında anlamlı bir fark olduğu kabul edilir. Eğer p-value, anlamlılık seviyesinden büyükse, null hipotez kabul edilir ve örneklem verisi ile popülasyon parametresi arasında anlamlı bir fark olmadığı düşünülür.\n",
    "    \n",
    "---\n",
    "    \n",
    "**Ki-kare testi (Chi-Square Test)**, iki veya daha fazla kategorik değişken arasındaki bağlantıyı veya ilişkiyi değerlendirmek için kullanılan bir istatistiksel testtir. Bu test, iki kategorik değişken arasındaki bağımsızlık veya ilişkiyi belirlemek amacıyla kullanılır. Ki-kare testi, özellikle gözlemlenmiş ve beklenen frekanslar arasındaki farkları karşılaştırarak çalışır.\n",
    "\n",
    "Ki-kare testinin temel amacı, iki kategorik değişken arasındaki bağımsızlığı veya ilişkiyi test etmektir. Bu test şu temel adımları izler:\n",
    "\n",
    "1. **Null Hipotez (H0):** İki kategorik değişken arasında bağımsızlık vardır. Yani, bu değişkenler birbirinden bağımsızdır.\n",
    "2. **Alternatif Hipotez (H1):** İki kategorik değişken arasında bağımsızlık yoktur. Yani, bu değişkenler arasında bir ilişki vardır.\n",
    "\n",
    "Ki-kare testi, önce iki kategorik değişken arasında bir krosstabülasyon tablosu oluşturur. Bu tablo, iki değişkenin gözlemlenmiş frekanslarını içerir. Daha sonra, beklenen frekanslar hesaplanır. Beklenen frekanslar, eğer iki değişken bağımsızsa, gözlemlenmiş frekansların rastgele olasılık dağılımına göre nasıl dağılması gerektiğini gösterir.\n",
    "\n",
    "Ki-kare testi, gözlemlenmiş ve beklenen frekanslar arasındaki farkları karşılaştırarak bir test istatistiği hesaplar. Bu test istatistiği, bir ki-kare değeri olarak ifade edilir. Daha sonra, bu ki-kare değeri ile serbestlik derecesine dayalı olarak bir p-value hesaplanır. Eğer p-value, belirli bir anlamlılık seviyesinden (genellikle 0.05) daha küçükse, null hipotez (H0) reddedilir ve iki kategorik değişken arasında bağımsızlık olmadığı kabul edilir. Eğer p-value, anlamlılık seviyesinden büyükse, null hipotez kabul edilir ve iki değişken arasında bağımsızlık olduğu düşünülür."
   ]
  },
  {
   "cell_type": "markdown",
   "id": "bb97a019",
   "metadata": {
    "papermill": {
     "duration": 0.03917,
     "end_time": "2023-11-13T14:32:04.145799",
     "exception": false,
     "start_time": "2023-11-13T14:32:04.106629",
     "status": "completed"
    },
    "tags": []
   },
   "source": [
    "> **Soru: Kadın ve erkeklerin hayatta kalma oranları arasında istatistiki olarak anlamlı bir farklılık var mıdır?**"
   ]
  },
  {
   "cell_type": "code",
   "execution_count": 52,
   "id": "4e657aa1",
   "metadata": {
    "execution": {
     "iopub.execute_input": "2023-11-13T14:32:04.229200Z",
     "iopub.status.busy": "2023-11-13T14:32:04.228616Z",
     "iopub.status.idle": "2023-11-13T14:32:04.242113Z",
     "shell.execute_reply": "2023-11-13T14:32:04.240812Z"
    },
    "papermill": {
     "duration": 0.059607,
     "end_time": "2023-11-13T14:32:04.245389",
     "exception": false,
     "start_time": "2023-11-13T14:32:04.185782",
     "status": "completed"
    },
    "tags": []
   },
   "outputs": [],
   "source": [
    "df = pd.read_csv(\"/kaggle/input/titanic/train.csv\")"
   ]
  },
  {
   "cell_type": "code",
   "execution_count": 53,
   "id": "b773a122",
   "metadata": {
    "execution": {
     "iopub.execute_input": "2023-11-13T14:32:04.328939Z",
     "iopub.status.busy": "2023-11-13T14:32:04.327573Z",
     "iopub.status.idle": "2023-11-13T14:32:04.348246Z",
     "shell.execute_reply": "2023-11-13T14:32:04.346951Z"
    },
    "papermill": {
     "duration": 0.0651,
     "end_time": "2023-11-13T14:32:04.351098",
     "exception": false,
     "start_time": "2023-11-13T14:32:04.285998",
     "status": "completed"
    },
    "tags": []
   },
   "outputs": [
    {
     "data": {
      "text/html": [
       "<div>\n",
       "<style scoped>\n",
       "    .dataframe tbody tr th:only-of-type {\n",
       "        vertical-align: middle;\n",
       "    }\n",
       "\n",
       "    .dataframe tbody tr th {\n",
       "        vertical-align: top;\n",
       "    }\n",
       "\n",
       "    .dataframe thead th {\n",
       "        text-align: right;\n",
       "    }\n",
       "</style>\n",
       "<table border=\"1\" class=\"dataframe\">\n",
       "  <thead>\n",
       "    <tr style=\"text-align: right;\">\n",
       "      <th></th>\n",
       "      <th>PassengerId</th>\n",
       "      <th>Survived</th>\n",
       "      <th>Pclass</th>\n",
       "      <th>Name</th>\n",
       "      <th>Sex</th>\n",
       "      <th>Age</th>\n",
       "      <th>SibSp</th>\n",
       "      <th>Parch</th>\n",
       "      <th>Ticket</th>\n",
       "      <th>Fare</th>\n",
       "      <th>Cabin</th>\n",
       "      <th>Embarked</th>\n",
       "    </tr>\n",
       "  </thead>\n",
       "  <tbody>\n",
       "    <tr>\n",
       "      <th>0</th>\n",
       "      <td>1</td>\n",
       "      <td>0</td>\n",
       "      <td>3</td>\n",
       "      <td>Braund, Mr. Owen Harris</td>\n",
       "      <td>male</td>\n",
       "      <td>22.0</td>\n",
       "      <td>1</td>\n",
       "      <td>0</td>\n",
       "      <td>A/5 21171</td>\n",
       "      <td>7.2500</td>\n",
       "      <td>NaN</td>\n",
       "      <td>S</td>\n",
       "    </tr>\n",
       "    <tr>\n",
       "      <th>1</th>\n",
       "      <td>2</td>\n",
       "      <td>1</td>\n",
       "      <td>1</td>\n",
       "      <td>Cumings, Mrs. John Bradley (Florence Briggs Th...</td>\n",
       "      <td>female</td>\n",
       "      <td>38.0</td>\n",
       "      <td>1</td>\n",
       "      <td>0</td>\n",
       "      <td>PC 17599</td>\n",
       "      <td>71.2833</td>\n",
       "      <td>C85</td>\n",
       "      <td>C</td>\n",
       "    </tr>\n",
       "    <tr>\n",
       "      <th>2</th>\n",
       "      <td>3</td>\n",
       "      <td>1</td>\n",
       "      <td>3</td>\n",
       "      <td>Heikkinen, Miss. Laina</td>\n",
       "      <td>female</td>\n",
       "      <td>26.0</td>\n",
       "      <td>0</td>\n",
       "      <td>0</td>\n",
       "      <td>STON/O2. 3101282</td>\n",
       "      <td>7.9250</td>\n",
       "      <td>NaN</td>\n",
       "      <td>S</td>\n",
       "    </tr>\n",
       "    <tr>\n",
       "      <th>3</th>\n",
       "      <td>4</td>\n",
       "      <td>1</td>\n",
       "      <td>1</td>\n",
       "      <td>Futrelle, Mrs. Jacques Heath (Lily May Peel)</td>\n",
       "      <td>female</td>\n",
       "      <td>35.0</td>\n",
       "      <td>1</td>\n",
       "      <td>0</td>\n",
       "      <td>113803</td>\n",
       "      <td>53.1000</td>\n",
       "      <td>C123</td>\n",
       "      <td>S</td>\n",
       "    </tr>\n",
       "    <tr>\n",
       "      <th>4</th>\n",
       "      <td>5</td>\n",
       "      <td>0</td>\n",
       "      <td>3</td>\n",
       "      <td>Allen, Mr. William Henry</td>\n",
       "      <td>male</td>\n",
       "      <td>35.0</td>\n",
       "      <td>0</td>\n",
       "      <td>0</td>\n",
       "      <td>373450</td>\n",
       "      <td>8.0500</td>\n",
       "      <td>NaN</td>\n",
       "      <td>S</td>\n",
       "    </tr>\n",
       "  </tbody>\n",
       "</table>\n",
       "</div>"
      ],
      "text/plain": [
       "   PassengerId  Survived  Pclass  \\\n",
       "0            1         0       3   \n",
       "1            2         1       1   \n",
       "2            3         1       3   \n",
       "3            4         1       1   \n",
       "4            5         0       3   \n",
       "\n",
       "                                                Name     Sex   Age  SibSp  \\\n",
       "0                            Braund, Mr. Owen Harris    male  22.0      1   \n",
       "1  Cumings, Mrs. John Bradley (Florence Briggs Th...  female  38.0      1   \n",
       "2                             Heikkinen, Miss. Laina  female  26.0      0   \n",
       "3       Futrelle, Mrs. Jacques Heath (Lily May Peel)  female  35.0      1   \n",
       "4                           Allen, Mr. William Henry    male  35.0      0   \n",
       "\n",
       "   Parch            Ticket     Fare Cabin Embarked  \n",
       "0      0         A/5 21171   7.2500   NaN        S  \n",
       "1      0          PC 17599  71.2833   C85        C  \n",
       "2      0  STON/O2. 3101282   7.9250   NaN        S  \n",
       "3      0            113803  53.1000  C123        S  \n",
       "4      0            373450   8.0500   NaN        S  "
      ]
     },
     "execution_count": 53,
     "metadata": {},
     "output_type": "execute_result"
    }
   ],
   "source": [
    "df.head()"
   ]
  },
  {
   "cell_type": "code",
   "execution_count": 54,
   "id": "93f1429b",
   "metadata": {
    "execution": {
     "iopub.execute_input": "2023-11-13T14:32:04.437534Z",
     "iopub.status.busy": "2023-11-13T14:32:04.436989Z",
     "iopub.status.idle": "2023-11-13T14:32:04.448591Z",
     "shell.execute_reply": "2023-11-13T14:32:04.447032Z"
    },
    "papermill": {
     "duration": 0.05897,
     "end_time": "2023-11-13T14:32:04.451507",
     "exception": false,
     "start_time": "2023-11-13T14:32:04.392537",
     "status": "completed"
    },
    "tags": []
   },
   "outputs": [
    {
     "data": {
      "text/plain": [
       "0.7420382165605095"
      ]
     },
     "execution_count": 54,
     "metadata": {},
     "output_type": "execute_result"
    }
   ],
   "source": [
    "df.loc[df[\"Sex\"] == \"female\", \"Survived\"].mean()"
   ]
  },
  {
   "cell_type": "code",
   "execution_count": 55,
   "id": "7355652b",
   "metadata": {
    "execution": {
     "iopub.execute_input": "2023-11-13T14:32:04.535063Z",
     "iopub.status.busy": "2023-11-13T14:32:04.534552Z",
     "iopub.status.idle": "2023-11-13T14:32:04.544060Z",
     "shell.execute_reply": "2023-11-13T14:32:04.542983Z"
    },
    "papermill": {
     "duration": 0.054214,
     "end_time": "2023-11-13T14:32:04.546851",
     "exception": false,
     "start_time": "2023-11-13T14:32:04.492637",
     "status": "completed"
    },
    "tags": []
   },
   "outputs": [
    {
     "data": {
      "text/plain": [
       "0.18890814558058924"
      ]
     },
     "execution_count": 55,
     "metadata": {},
     "output_type": "execute_result"
    }
   ],
   "source": [
    "df.loc[df[\"Sex\"] == \"male\", \"Survived\"].mean()"
   ]
  },
  {
   "cell_type": "markdown",
   "id": "ad9622ea",
   "metadata": {
    "papermill": {
     "duration": 0.040768,
     "end_time": "2023-11-13T14:32:04.630742",
     "exception": false,
     "start_time": "2023-11-13T14:32:04.589974",
     "status": "completed"
    },
    "tags": []
   },
   "source": [
    "> **Kesin olarak fark olduğu söylenebilir ama istatistiksel yorumlama pratiği yapmak için devam edebiliriz.**"
   ]
  },
  {
   "cell_type": "code",
   "execution_count": 56,
   "id": "e9484362",
   "metadata": {
    "execution": {
     "iopub.execute_input": "2023-11-13T14:32:04.720461Z",
     "iopub.status.busy": "2023-11-13T14:32:04.719877Z",
     "iopub.status.idle": "2023-11-13T14:32:04.728048Z",
     "shell.execute_reply": "2023-11-13T14:32:04.726549Z"
    },
    "papermill": {
     "duration": 0.056555,
     "end_time": "2023-11-13T14:32:04.730808",
     "exception": false,
     "start_time": "2023-11-13T14:32:04.674253",
     "status": "completed"
    },
    "tags": []
   },
   "outputs": [],
   "source": [
    "female_succ_count = df.loc[df[\"Sex\"] == \"female\", \"Survived\"].sum()"
   ]
  },
  {
   "cell_type": "code",
   "execution_count": 57,
   "id": "62d634ef",
   "metadata": {
    "execution": {
     "iopub.execute_input": "2023-11-13T14:32:04.823692Z",
     "iopub.status.busy": "2023-11-13T14:32:04.823193Z",
     "iopub.status.idle": "2023-11-13T14:32:04.830878Z",
     "shell.execute_reply": "2023-11-13T14:32:04.829493Z"
    },
    "papermill": {
     "duration": 0.058357,
     "end_time": "2023-11-13T14:32:04.833891",
     "exception": false,
     "start_time": "2023-11-13T14:32:04.775534",
     "status": "completed"
    },
    "tags": []
   },
   "outputs": [],
   "source": [
    "male_succ_count = df.loc[df[\"Sex\"] == \"male\", \"Survived\"].sum()"
   ]
  },
  {
   "cell_type": "code",
   "execution_count": 58,
   "id": "e54a0d6c",
   "metadata": {
    "execution": {
     "iopub.execute_input": "2023-11-13T14:32:04.919778Z",
     "iopub.status.busy": "2023-11-13T14:32:04.919279Z",
     "iopub.status.idle": "2023-11-13T14:32:04.930852Z",
     "shell.execute_reply": "2023-11-13T14:32:04.929540Z"
    },
    "papermill": {
     "duration": 0.057978,
     "end_time": "2023-11-13T14:32:04.933804",
     "exception": false,
     "start_time": "2023-11-13T14:32:04.875826",
     "status": "completed"
    },
    "tags": []
   },
   "outputs": [
    {
     "name": "stdout",
     "output_type": "stream",
     "text": [
      "Test Stat = 16.2188, p-value = 0.0000\n"
     ]
    }
   ],
   "source": [
    "test_stat, pvalue = proportions_ztest(count=[female_succ_count, male_succ_count],\n",
    "                                      nobs=[df.loc[df[\"Sex\"] == \"female\", \"Survived\"].shape[0],\n",
    "                                            df.loc[df[\"Sex\"] == \"male\", \"Survived\"].shape[0]])\n",
    "\n",
    "print('Test Stat = %.4f, p-value = %.4f' % (test_stat, pvalue))"
   ]
  },
  {
   "cell_type": "markdown",
   "id": "b54234ac",
   "metadata": {
    "papermill": {
     "duration": 0.041951,
     "end_time": "2023-11-13T14:32:05.016567",
     "exception": false,
     "start_time": "2023-11-13T14:32:04.974616",
     "status": "completed"
    },
    "tags": []
   },
   "source": [
    "<a id=\"11\"></a>\n",
    "<h1 style=\"border-radius: 10px; border: 2px solid #6B8E23; background-color: #F5F5DC; font-family: 'Pacifico', cursive; font-size: 200%; text-align: center; border-radius: 15px 50px; padding: 15px; box-shadow: 5px 5px 5px #556B2F; color: #556B2F;\">💠ANOVA - Analysis of Variance💠</h1>"
   ]
  },
  {
   "cell_type": "markdown",
   "id": "0588b99c",
   "metadata": {
    "papermill": {
     "duration": 0.04492,
     "end_time": "2023-11-13T14:32:05.104860",
     "exception": false,
     "start_time": "2023-11-13T14:32:05.059940",
     "status": "completed"
    },
    "tags": []
   },
   "source": [
    "ANOVA (Analysis of Variance), istatistiksel bir teknik olup, farklı gruplar arasındaki varyansın istatistiksel olarak anlamlı olup olmadığını değerlendirmek için kullanılır. Bu analiz, gruplar arasındaki ortalama farkları incelemek ve her bir grup arasındaki farkların varyansına dayalı olarak bir sonuca varmak için yaygın olarak kullanılır.\n",
    "\n",
    "ANOVA, bir veya daha fazla grup arasındaki ortalama farklılıklarını belirlemek amacıyla kullanılır. Temel olarak şu adımları takip eder:\n",
    "\n",
    "1. **Null Hypothesis (H0):** Tüm grupların ortalamaları aynıdır (hiçbir grup diğerlerinden farklı değildir).\n",
    "\n",
    "2. **Alternative Hypothesis (H1):** En az iki grup arasında anlamlı bir ortalama farkı vardır (en az bir grup diğerlerinden farklıdır).\n",
    "\n",
    "ANOVA analizi, gruplar arasındaki varyansı ölçen iki farklı özelliği kullanır: bir grup içindeki varyans ve gruplar arası varyans. ANOVA, bu iki varyansı karşılaştırarak gruplar arasındaki farkın istatistiksel olarak anlamlı olup olmadığını belirler. Eğer gruplar arasındaki farklar büyükse ve grup içi varyans küçükse, ANOVA testi sonuçları istatistiksel olarak anlamlı bir fark olduğunu gösterir.\n",
    "\n",
    "ANOVA, genellikle bir bağımlı değişkenin bir veya daha fazla bağımsız değişkenle ilişkisini değerlendirmek için kullanılır."
   ]
  },
  {
   "cell_type": "markdown",
   "id": "2b934af9",
   "metadata": {
    "papermill": {
     "duration": 0.039736,
     "end_time": "2023-11-13T14:32:05.187055",
     "exception": false,
     "start_time": "2023-11-13T14:32:05.147319",
     "status": "completed"
    },
    "tags": []
   },
   "source": [
    "> **Soru: Haftanın günleri açısından ödenen hesaplarda farklılık var mıdır? (Pazartesi ile Salı, Salı ile Çarşamba...şeklinde)**"
   ]
  },
  {
   "cell_type": "code",
   "execution_count": 59,
   "id": "1871fb52",
   "metadata": {
    "execution": {
     "iopub.execute_input": "2023-11-13T14:32:05.277216Z",
     "iopub.status.busy": "2023-11-13T14:32:05.276611Z",
     "iopub.status.idle": "2023-11-13T14:32:05.287312Z",
     "shell.execute_reply": "2023-11-13T14:32:05.286065Z"
    },
    "papermill": {
     "duration": 0.057103,
     "end_time": "2023-11-13T14:32:05.290124",
     "exception": false,
     "start_time": "2023-11-13T14:32:05.233021",
     "status": "completed"
    },
    "tags": []
   },
   "outputs": [],
   "source": [
    "df = pd.read_csv(\"/kaggle/input/tips-dataset/tips.csv\")"
   ]
  },
  {
   "cell_type": "code",
   "execution_count": 60,
   "id": "d0153a61",
   "metadata": {
    "execution": {
     "iopub.execute_input": "2023-11-13T14:32:05.379507Z",
     "iopub.status.busy": "2023-11-13T14:32:05.378830Z",
     "iopub.status.idle": "2023-11-13T14:32:05.396680Z",
     "shell.execute_reply": "2023-11-13T14:32:05.394691Z"
    },
    "papermill": {
     "duration": 0.066499,
     "end_time": "2023-11-13T14:32:05.400461",
     "exception": false,
     "start_time": "2023-11-13T14:32:05.333962",
     "status": "completed"
    },
    "tags": []
   },
   "outputs": [
    {
     "data": {
      "text/html": [
       "<div>\n",
       "<style scoped>\n",
       "    .dataframe tbody tr th:only-of-type {\n",
       "        vertical-align: middle;\n",
       "    }\n",
       "\n",
       "    .dataframe tbody tr th {\n",
       "        vertical-align: top;\n",
       "    }\n",
       "\n",
       "    .dataframe thead th {\n",
       "        text-align: right;\n",
       "    }\n",
       "</style>\n",
       "<table border=\"1\" class=\"dataframe\">\n",
       "  <thead>\n",
       "    <tr style=\"text-align: right;\">\n",
       "      <th></th>\n",
       "      <th>Total_bill</th>\n",
       "      <th>Tip</th>\n",
       "      <th>Sex</th>\n",
       "      <th>Smoker</th>\n",
       "      <th>Day</th>\n",
       "      <th>Time</th>\n",
       "      <th>Size</th>\n",
       "    </tr>\n",
       "  </thead>\n",
       "  <tbody>\n",
       "    <tr>\n",
       "      <th>0</th>\n",
       "      <td>16.99</td>\n",
       "      <td>1.01</td>\n",
       "      <td>Female</td>\n",
       "      <td>No</td>\n",
       "      <td>Sun</td>\n",
       "      <td>Dinner</td>\n",
       "      <td>2</td>\n",
       "    </tr>\n",
       "    <tr>\n",
       "      <th>1</th>\n",
       "      <td>10.34</td>\n",
       "      <td>1.66</td>\n",
       "      <td>Male</td>\n",
       "      <td>No</td>\n",
       "      <td>Sun</td>\n",
       "      <td>Dinner</td>\n",
       "      <td>3</td>\n",
       "    </tr>\n",
       "    <tr>\n",
       "      <th>2</th>\n",
       "      <td>21.01</td>\n",
       "      <td>3.50</td>\n",
       "      <td>Male</td>\n",
       "      <td>No</td>\n",
       "      <td>Sun</td>\n",
       "      <td>Dinner</td>\n",
       "      <td>3</td>\n",
       "    </tr>\n",
       "    <tr>\n",
       "      <th>3</th>\n",
       "      <td>23.68</td>\n",
       "      <td>3.31</td>\n",
       "      <td>Male</td>\n",
       "      <td>No</td>\n",
       "      <td>Sun</td>\n",
       "      <td>Dinner</td>\n",
       "      <td>2</td>\n",
       "    </tr>\n",
       "    <tr>\n",
       "      <th>4</th>\n",
       "      <td>24.59</td>\n",
       "      <td>3.61</td>\n",
       "      <td>Female</td>\n",
       "      <td>No</td>\n",
       "      <td>Sun</td>\n",
       "      <td>Dinner</td>\n",
       "      <td>4</td>\n",
       "    </tr>\n",
       "  </tbody>\n",
       "</table>\n",
       "</div>"
      ],
      "text/plain": [
       "   Total_bill   Tip     Sex Smoker  Day    Time  Size\n",
       "0       16.99  1.01  Female     No  Sun  Dinner     2\n",
       "1       10.34  1.66    Male     No  Sun  Dinner     3\n",
       "2       21.01  3.50    Male     No  Sun  Dinner     3\n",
       "3       23.68  3.31    Male     No  Sun  Dinner     2\n",
       "4       24.59  3.61  Female     No  Sun  Dinner     4"
      ]
     },
     "execution_count": 60,
     "metadata": {},
     "output_type": "execute_result"
    }
   ],
   "source": [
    "df.head()"
   ]
  },
  {
   "cell_type": "code",
   "execution_count": 61,
   "id": "1869c1af",
   "metadata": {
    "execution": {
     "iopub.execute_input": "2023-11-13T14:32:05.491066Z",
     "iopub.status.busy": "2023-11-13T14:32:05.490585Z",
     "iopub.status.idle": "2023-11-13T14:32:05.500350Z",
     "shell.execute_reply": "2023-11-13T14:32:05.499203Z"
    },
    "papermill": {
     "duration": 0.058338,
     "end_time": "2023-11-13T14:32:05.502753",
     "exception": false,
     "start_time": "2023-11-13T14:32:05.444415",
     "status": "completed"
    },
    "tags": []
   },
   "outputs": [
    {
     "data": {
      "text/plain": [
       "Day\n",
       "Fri     17.151579\n",
       "Sat     20.441379\n",
       "Sun     21.410000\n",
       "Thur    17.682742\n",
       "Name: Total_bill, dtype: float64"
      ]
     },
     "execution_count": 61,
     "metadata": {},
     "output_type": "execute_result"
    }
   ],
   "source": [
    "df.groupby(\"Day\")[\"Total_bill\"].mean()"
   ]
  },
  {
   "cell_type": "markdown",
   "id": "6a2d3b1a",
   "metadata": {
    "papermill": {
     "duration": 0.041429,
     "end_time": "2023-11-13T14:32:05.587577",
     "exception": false,
     "start_time": "2023-11-13T14:32:05.546148",
     "status": "completed"
    },
    "tags": []
   },
   "source": [
    "<div style=\"border-radius:10px; border:#D0C2F0 solid; padding: 15px; background-color: #F8E8EE; font-size:100%; text-align:left\">\n",
    "\n",
    "<h3 align=\"left\"><font color='#5E5273'>📄 Notes: </font></h3>\n",
    "\n",
    "* Haftaiçi ortalamalarının birbirine yakın olduğunu,aynı şekilde haftasonu ortalamalarının da birbirine yakın olduğunu gözlemleyebiliriz. Lakin haftaiçi ile haftasonu arasında bir farklılık mevcuttur. Peki bu farklılık şans eseri mi çıktı? İstatistiki açıdan kanıtlanması gerekmektedir.\n",
    "\n",
    "1. Dört grup için ANOVA hipotez kurulumu;\n",
    "\n",
    "    * H0: μ1 = μ2 = μ3 = μ4 : Tüm grupların ortalamaları eşittir.\n",
    "    * H1: En az bir grup diğerlerinden farklıdır.\n",
    "\n",
    "Bu hipotezler, dört grup arasındaki ortalama farkın istatistiksel olarak anlamlı olup olmadığını test etmek için kullanılır. Eğer H0 reddedilirse, en az bir grup diğerlerinden farklıdır ve ANOVA analizi bu farkı tanımlar.\n",
    "    \n",
    "2. Varsayım kontrolü;\n",
    "    \n",
    "    * Normallik varsayımı\n",
    "    * Varyans homojenliği varsayımı\n",
    "    \n",
    "* Varsayım sağlanıyorsa: **One Way Anova**\n",
    "* Varsayım sağlanmıyorsa: **Kruskal**\n",
    "    \n",
    "---\n",
    "    \n",
    "**Kruskal-Wallis testi**, istatistiksel verilerin analizi için kullanılan bir non-parametrik testtir. Bu test, farklı gruplar arasında istatistiksel olarak anlamlı bir farklılık olup olmadığını değerlendirmek amacıyla kullanılır. Kruskal-Wallis testi, grupların bağımsız olması ve verilerin normallik ve homojenlik varsayımlarını karşılamaması durumlarında tercih edilir.\n",
    "\n",
    "Kruskal-Wallis testi, grupların medyanlarını karşılaştırır ve gruplar arasındaki dağılımın istatistiksel olarak anlamlı bir farklılık gösterip göstermediğini belirler. Temel olarak şu adımları içerir:\n",
    "\n",
    "1. **Null Hypothesis (H0):** Tüm grupların medyanları eşittir (hiçbiri diğerlerinden farklı değildir).\n",
    "\n",
    "2. **Alternative Hypothesis (H1):** En az bir grup diğerlerinden istatistiksel olarak farklıdır (en az bir grup diğerlerinden farklıdır).\n",
    "\n",
    "3. İstatistiksel bir test istatistiği hesaplanarak gruplar arasındaki medyan farkları değerlendirilir.\n",
    "\n",
    "4. Eğer test sonucunda p-value belirli bir anlamlılık seviyesinden (genellikle 0.05) daha küçükse, H0 reddedilir ve en az bir grup diğerlerinden farklıdır.\n",
    "\n",
    "Kruskal-Wallis testi, veri analizinde parametrik olmayan bir alternatif sunar ve gruplar arasındaki farklılıkları değerlendirmek için kullanılır. Bu test, gruplar arasındaki medyan farklarını değerlendirmek ve sonuçları yorumlamak için önemli bir araçtır."
   ]
  },
  {
   "cell_type": "code",
   "execution_count": 62,
   "id": "e1fde51e",
   "metadata": {
    "execution": {
     "iopub.execute_input": "2023-11-13T14:32:05.675133Z",
     "iopub.status.busy": "2023-11-13T14:32:05.673865Z",
     "iopub.status.idle": "2023-11-13T14:32:05.685223Z",
     "shell.execute_reply": "2023-11-13T14:32:05.683573Z"
    },
    "papermill": {
     "duration": 0.058179,
     "end_time": "2023-11-13T14:32:05.687876",
     "exception": false,
     "start_time": "2023-11-13T14:32:05.629697",
     "status": "completed"
    },
    "tags": []
   },
   "outputs": [
    {
     "name": "stdout",
     "output_type": "stream",
     "text": [
      "Sun p-value: 0.0036\n",
      "Sat p-value: 0.0000\n",
      "Thur p-value: 0.0000\n",
      "Fri p-value: 0.0409\n"
     ]
    }
   ],
   "source": [
    "for group in list(df[\"Day\"].unique()):\n",
    "    \n",
    "    pvalue = shapiro(df.loc[df[\"Day\"] == group, \"Total_bill\"])[1]\n",
    "    \n",
    "    print(group, 'p-value: %.4f' % pvalue)\n",
    "    \n",
    "# Bütün gruplar için H0 reddedilir. Hiçbiri için normallik varsayımını sağlamaz."
   ]
  },
  {
   "cell_type": "code",
   "execution_count": 63,
   "id": "22d317cf",
   "metadata": {
    "execution": {
     "iopub.execute_input": "2023-11-13T14:32:05.774417Z",
     "iopub.status.busy": "2023-11-13T14:32:05.773748Z",
     "iopub.status.idle": "2023-11-13T14:32:05.784093Z",
     "shell.execute_reply": "2023-11-13T14:32:05.782729Z"
    },
    "papermill": {
     "duration": 0.056796,
     "end_time": "2023-11-13T14:32:05.786909",
     "exception": false,
     "start_time": "2023-11-13T14:32:05.730113",
     "status": "completed"
    },
    "tags": []
   },
   "outputs": [
    {
     "name": "stdout",
     "output_type": "stream",
     "text": [
      "Test Stat = 0.6654, p-value = 0.5741\n"
     ]
    }
   ],
   "source": [
    "test_stat, pvalue = levene(df.loc[df[\"Day\"] == \"Sun\", \"Total_bill\"],\n",
    "                           df.loc[df[\"Day\"] == \"Sat\", \"Total_bill\"],\n",
    "                           df.loc[df[\"Day\"] == \"Thur\", \"Total_bill\"],\n",
    "                           df.loc[df[\"Day\"] == \"Fri\", \"Total_bill\"])\n",
    "\n",
    "print('Test Stat = %.4f, p-value = %.4f' % (test_stat, pvalue))\n",
    "\n",
    "# H0 reddedilemez. Varyans homojenliği varsayımı sağlanmaktadır.\n",
    "# Fakat normallik varsayımı sağlanmadığından zaten non-parametrik devam edeceğiz."
   ]
  },
  {
   "cell_type": "code",
   "execution_count": 64,
   "id": "48ffa644",
   "metadata": {
    "execution": {
     "iopub.execute_input": "2023-11-13T14:32:05.872676Z",
     "iopub.status.busy": "2023-11-13T14:32:05.871807Z",
     "iopub.status.idle": "2023-11-13T14:32:05.893862Z",
     "shell.execute_reply": "2023-11-13T14:32:05.892752Z"
    },
    "papermill": {
     "duration": 0.067371,
     "end_time": "2023-11-13T14:32:05.896398",
     "exception": false,
     "start_time": "2023-11-13T14:32:05.829027",
     "status": "completed"
    },
    "tags": []
   },
   "outputs": [
    {
     "data": {
      "text/html": [
       "<div>\n",
       "<style scoped>\n",
       "    .dataframe tbody tr th:only-of-type {\n",
       "        vertical-align: middle;\n",
       "    }\n",
       "\n",
       "    .dataframe tbody tr th {\n",
       "        vertical-align: top;\n",
       "    }\n",
       "\n",
       "    .dataframe thead tr th {\n",
       "        text-align: left;\n",
       "    }\n",
       "\n",
       "    .dataframe thead tr:last-of-type th {\n",
       "        text-align: right;\n",
       "    }\n",
       "</style>\n",
       "<table border=\"1\" class=\"dataframe\">\n",
       "  <thead>\n",
       "    <tr>\n",
       "      <th></th>\n",
       "      <th colspan=\"2\" halign=\"left\">Total_bill</th>\n",
       "    </tr>\n",
       "    <tr>\n",
       "      <th></th>\n",
       "      <th>mean</th>\n",
       "      <th>median</th>\n",
       "    </tr>\n",
       "    <tr>\n",
       "      <th>Day</th>\n",
       "      <th></th>\n",
       "      <th></th>\n",
       "    </tr>\n",
       "  </thead>\n",
       "  <tbody>\n",
       "    <tr>\n",
       "      <th>Fri</th>\n",
       "      <td>17.151579</td>\n",
       "      <td>15.38</td>\n",
       "    </tr>\n",
       "    <tr>\n",
       "      <th>Sat</th>\n",
       "      <td>20.441379</td>\n",
       "      <td>18.24</td>\n",
       "    </tr>\n",
       "    <tr>\n",
       "      <th>Sun</th>\n",
       "      <td>21.410000</td>\n",
       "      <td>19.63</td>\n",
       "    </tr>\n",
       "    <tr>\n",
       "      <th>Thur</th>\n",
       "      <td>17.682742</td>\n",
       "      <td>16.20</td>\n",
       "    </tr>\n",
       "  </tbody>\n",
       "</table>\n",
       "</div>"
      ],
      "text/plain": [
       "     Total_bill       \n",
       "           mean median\n",
       "Day                   \n",
       "Fri   17.151579  15.38\n",
       "Sat   20.441379  18.24\n",
       "Sun   21.410000  19.63\n",
       "Thur  17.682742  16.20"
      ]
     },
     "execution_count": 64,
     "metadata": {},
     "output_type": "execute_result"
    }
   ],
   "source": [
    "df.groupby(\"Day\").agg({\"Total_bill\": [\"mean\", \"median\"]})"
   ]
  },
  {
   "cell_type": "code",
   "execution_count": 65,
   "id": "89946b1f",
   "metadata": {
    "execution": {
     "iopub.execute_input": "2023-11-13T14:32:05.980059Z",
     "iopub.status.busy": "2023-11-13T14:32:05.979612Z",
     "iopub.status.idle": "2023-11-13T14:32:05.992860Z",
     "shell.execute_reply": "2023-11-13T14:32:05.991669Z"
    },
    "papermill": {
     "duration": 0.059067,
     "end_time": "2023-11-13T14:32:05.995436",
     "exception": false,
     "start_time": "2023-11-13T14:32:05.936369",
     "status": "completed"
    },
    "tags": []
   },
   "outputs": [
    {
     "data": {
      "text/plain": [
       "F_onewayResult(statistic=2.7674794432863363, pvalue=0.04245383328952047)"
      ]
     },
     "execution_count": 65,
     "metadata": {},
     "output_type": "execute_result"
    }
   ],
   "source": [
    "# Parametrik Anova Testi: bur örnek için sağlanmıyor, sadece oneway pratiği olması açısından deniyoruz;\n",
    "\n",
    "f_oneway(df.loc[df[\"Day\"] == \"Thur\", \"Total_bill\"],\n",
    "         df.loc[df[\"Day\"] == \"Fri\", \"Total_bill\"],\n",
    "         df.loc[df[\"Day\"] == \"Sat\", \"Total_bill\"],\n",
    "         df.loc[df[\"Day\"] == \"Sun\", \"Total_bill\"])"
   ]
  },
  {
   "cell_type": "code",
   "execution_count": 66,
   "id": "135c613a",
   "metadata": {
    "execution": {
     "iopub.execute_input": "2023-11-13T14:32:06.081131Z",
     "iopub.status.busy": "2023-11-13T14:32:06.080646Z",
     "iopub.status.idle": "2023-11-13T14:32:06.095290Z",
     "shell.execute_reply": "2023-11-13T14:32:06.093920Z"
    },
    "papermill": {
     "duration": 0.059389,
     "end_time": "2023-11-13T14:32:06.097964",
     "exception": false,
     "start_time": "2023-11-13T14:32:06.038575",
     "status": "completed"
    },
    "tags": []
   },
   "outputs": [
    {
     "data": {
      "text/plain": [
       "KruskalResult(statistic=10.403076391437086, pvalue=0.01543300820104127)"
      ]
     },
     "execution_count": 66,
     "metadata": {},
     "output_type": "execute_result"
    }
   ],
   "source": [
    "# Nonparametrik Anova Testi (Kruskal):\n",
    "\n",
    "kruskal(df.loc[df[\"Day\"] == \"Thur\", \"Total_bill\"],\n",
    "        df.loc[df[\"Day\"] == \"Fri\", \"Total_bill\"],\n",
    "        df.loc[df[\"Day\"] == \"Sat\", \"Total_bill\"],\n",
    "        df.loc[df[\"Day\"] == \"Sun\", \"Total_bill\"])\n",
    "\n",
    "# H0 reddedilmiştir. Bu gruplar arasında anlamlı bir farklılık vardır."
   ]
  },
  {
   "cell_type": "code",
   "execution_count": 67,
   "id": "8b317960",
   "metadata": {
    "execution": {
     "iopub.execute_input": "2023-11-13T14:32:06.184295Z",
     "iopub.status.busy": "2023-11-13T14:32:06.183774Z",
     "iopub.status.idle": "2023-11-13T14:32:06.611940Z",
     "shell.execute_reply": "2023-11-13T14:32:06.610490Z"
    },
    "papermill": {
     "duration": 0.475156,
     "end_time": "2023-11-13T14:32:06.614412",
     "exception": false,
     "start_time": "2023-11-13T14:32:06.139256",
     "status": "completed"
    },
    "tags": []
   },
   "outputs": [
    {
     "name": "stdout",
     "output_type": "stream",
     "text": [
      "Multiple Comparison of Means - Tukey HSD, FWER=0.05 \n",
      "====================================================\n",
      "group1 group2 meandiff p-adj   lower   upper  reject\n",
      "----------------------------------------------------\n",
      "   Fri    Sat   3.2898 0.4541 -2.4799  9.0595  False\n",
      "   Fri    Sun   4.2584 0.2371 -1.5856 10.1025  False\n",
      "   Fri   Thur   0.5312 0.9957 -5.4434  6.5057  False\n",
      "   Sat    Sun   0.9686 0.8968 -2.6088   4.546  False\n",
      "   Sat   Thur  -2.7586 0.2374 -6.5455  1.0282  False\n",
      "   Sun   Thur  -3.7273 0.0668 -7.6264  0.1719  False\n",
      "----------------------------------------------------\n"
     ]
    }
   ],
   "source": [
    "# Peki bu fark hangi gruptan kaynaklanıyor?;\n",
    "\n",
    "from statsmodels.stats.multicomp import MultiComparison\n",
    "\n",
    "comparison = MultiComparison(df['Total_bill'], df['Day'])\n",
    "tukey = comparison.tukeyhsd(0.05)\n",
    "\n",
    "print(tukey.summary())\n",
    "\n",
    "# Görüyoruz ki ikili karşılaştırma yapıldığında anlamlı bir farklılık bulunamamış.\n",
    "# Buradan şöyle kabul yapabiliriz ki; ikili karşılaştırmalarda farklılık bulamadığından, grup genelinde de fark yoktur demek yanlış olmaz.\n",
    "# Bir başka yol alpha ve p-value değerleri değiştirilebilir.\n",
    "# p-adj'e baktığımızda p-value değerine en yakın olan Sun-Thur karşılaştırmasıdır. \n",
    "# Bu yüzden tahminsel olarak o gruptan kaynaklıdır çıkarımı da yapabiliriz."
   ]
  },
  {
   "cell_type": "code",
   "execution_count": 68,
   "id": "e8e42b1c",
   "metadata": {
    "execution": {
     "iopub.execute_input": "2023-11-13T14:32:06.705412Z",
     "iopub.status.busy": "2023-11-13T14:32:06.704971Z",
     "iopub.status.idle": "2023-11-13T14:32:07.067464Z",
     "shell.execute_reply": "2023-11-13T14:32:07.065958Z"
    },
    "papermill": {
     "duration": 0.413258,
     "end_time": "2023-11-13T14:32:07.070314",
     "exception": false,
     "start_time": "2023-11-13T14:32:06.657056",
     "status": "completed"
    },
    "tags": []
   },
   "outputs": [
    {
     "name": "stdout",
     "output_type": "stream",
     "text": [
      "Multiple Comparison of Means - Tukey HSD, FWER=0.10\n",
      "===================================================\n",
      "group1 group2 meandiff p-adj   lower  upper  reject\n",
      "---------------------------------------------------\n",
      "   Fri    Sat   3.2898 0.4541 -1.8481 8.4277  False\n",
      "   Fri    Sun   4.2584 0.2371 -0.9457 9.4626  False\n",
      "   Fri   Thur   0.5312 0.9957 -4.7892 5.8515  False\n",
      "   Sat    Sun   0.9686 0.8968  -2.217 4.1543  False\n",
      "   Sat   Thur  -2.7586 0.2374 -6.1308 0.6135  False\n",
      "   Sun   Thur  -3.7273 0.0668 -7.1995 -0.255   True\n",
      "---------------------------------------------------\n"
     ]
    }
   ],
   "source": [
    "from statsmodels.stats.multicomp import MultiComparison\n",
    "\n",
    "comparison = MultiComparison(df['Total_bill'], df['Day'])\n",
    "tukey = comparison.tukeyhsd(0.10)\n",
    "\n",
    "print(tukey.summary())\n",
    "\n",
    "# Görüldüğü üzere Sun-Thur arasında fark buldu. Fakat yaygın kabul p-value değerinin 0.05 olmasıdır.\n",
    "# Bu yüzden 0.05 olarak alınmalıdır. "
   ]
  }
 ],
 "metadata": {
  "kernelspec": {
   "display_name": "Python 3",
   "language": "python",
   "name": "python3"
  },
  "language_info": {
   "codemirror_mode": {
    "name": "ipython",
    "version": 3
   },
   "file_extension": ".py",
   "mimetype": "text/x-python",
   "name": "python",
   "nbconvert_exporter": "python",
   "pygments_lexer": "ipython3",
   "version": "3.10.12"
  },
  "papermill": {
   "default_parameters": {},
   "duration": 19.063747,
   "end_time": "2023-11-13T14:32:08.040854",
   "environment_variables": {},
   "exception": null,
   "input_path": "__notebook__.ipynb",
   "output_path": "__notebook__.ipynb",
   "parameters": {},
   "start_time": "2023-11-13T14:31:48.977107",
   "version": "2.4.0"
  }
 },
 "nbformat": 4,
 "nbformat_minor": 5
}
