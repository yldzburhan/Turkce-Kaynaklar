{
 "cells": [
  {
   "cell_type": "markdown",
   "id": "f190ce42",
   "metadata": {
    "papermill": {
     "duration": 0.038455,
     "end_time": "2023-11-13T12:55:03.414557",
     "exception": false,
     "start_time": "2023-11-13T12:55:03.376102",
     "status": "completed"
    },
    "tags": []
   },
   "source": [
    "<div style=\"border-radius: 10px; border: #6B8E23 solid; padding: 15px; background-color: #F5F5DC; font-size: 100%; text-align: left\">\n",
    "\n",
    "<h3 align=\"left\"><font color='#556B2F'>📜 Introduction : </font></h3>\n",
    "    \n",
    "**Feature Engineering Nedir?**\n",
    "\n",
    "Feature engineering, verinin işlenmesi ve zenginleştirilmesi sürecidir. Bu süreç, bu verileri kullanarak eğitilen makine öğrenimi algoritmalarının performansını artırmak için kullanılır.\n",
    "\n",
    "Feature engineering, verinin ölçeklendirilmesi veya normalleştirilmesi, metin veya görüntü gibi sayısal olmayan verilerin kodlanması, zaman veya varlık tarafından verilerin bir araya getirilmesi, farklı kaynaklardan veri birleştirme veya diğer modellerden bilgi transferi gibi adımları içerir. Bu dönüşümlerin amacı, makine öğrenimi algoritmalarının veri kümesinden öğrenme yeteneğini artırarak daha doğru tahminler yapmalarını sağlamaktır.\n",
    "\n",
    "**Feature Engineering Neden Önemlidir?**\n",
    "\n",
    "Feature engineering, birkaç nedenle önemlidir. İlk olarak, yukarıda belirtildiği gibi, makine öğrenimi modelleri bazen ham veriler üzerinde çalışamazlar ve bu nedenle veri, modelin anlayabileceği sayısal bir forma dönüştürülmelidir. Bu, metin veya görüntü verilerini sayısal forma dönüştürmek veya bir müşteri için ortalama işlem değerleri gibi toplu özellikler oluşturmayı içerebilir.\n",
    "\n",
    "Bazen makine öğrenimi sorunları için ilgili özellikler birden fazla veri kaynağından gelir ve etkili özellik mühendisliği, bu veri kaynaklarını birleştirerek tek bir kullanılabilir veri kümesi oluşturmayı içerir. Bu, modelinizi eğitmek için kullanabileceğiniz tüm verileri kullanmanıza olanak tanır ve bu, modelinizin doğruluğunu ve performansını artırabilir.\n",
    "\n",
    "Başka bir yaygın senaryo, başka bir sorun için özellik olarak diğer modellerin çıktısını ve öğrenmelerini yeniden kullanabilmenizdir ve bu sürece transfer öğrenme denir. Bu, büyük ve karmaşık veri setleriyle uğraşırken sıfırdan bir modeli eğitmek mantıklı olmadığında özellikle yararlı olabilir.\n",
    "\n",
    "Etkili bir özellik mühendisliği ayrıca, modelin yeni veriler üzerinde tahminlerde bulunduğu çıkarımlar zamanında güvenilir özellikler gerektirir. Bu, tahmin anında kullanılan özelliklerin eğitim anında kullanılan özelliklerle aynı olması gerektiğinden \"çevrimdışı/anlık\" sapmaya yol açan bir durumu önlemek için önemlidir.\n",
    "\n",
    "**Feature Engineering, Diğer Veri Dönüşümlerinden Nasıl Farklıdır?**\n",
    "\n",
    "Feature mühendisliğinin amacı, bir makine öğrenme modeli inşa etmek için eğitilebilecek bir veri kümesi oluşturmaktır. Veri dönüşümleri için kullanılan araçlar ve tekniklerin birçoğu veri mühendisliği için de kullanılır.\n",
    "\n",
    "Çünkü feature mühendisliğinin vurgusu bir model geliştirmek olduğu için, tüm özellik dönüşümleriyle karşılaşılmayan bazı gereksinimler vardır. Örneğin, özelliklerin birden fazla modelde veya organizasyonunuzun farklı ekipleri arasında yeniden kullanılabilir olması gerekebilir. Bu, özelliklerin keşfedilmesi için sağlam bir yöntem gerektirir.\n",
    "\n",
    "Ayrıca, özelliklerin yeniden kullanılması durumunda özelliklerin nasıl ve nerede hesaplandığını izlemek için bir yönteme ihtiyacınız olacaktır. Buna \"özellik kökeni\" denir. Tekrar üretilebilir özellik hesaplamaları, özellikle makine öğrenimi için önemlidir, çünkü özellik, sadece modeli eğitmek için hesaplanmakla kalmaz, aynı şekilde model tahminleri yapılırken de aynı şekilde yeniden hesaplanmalıdır.\n",
    "\n",
    "**Etkili özellik mühendisliğinin faydaları nelerdir?**\n",
    "\n",
    "Etkili bir özellik mühendisliği işlemi, daha sağlam modelleme süreçleri ve sonuçta daha güvenilir ve yüksek performanslı modeller anlamına gelir. Hem eğitim hem de çıkarım için kullanılan özelliklerin iyileştirilmesi, model kalitesi üzerinde inanılmaz bir etki yapabilir, bu nedenle daha iyi özellikler daha iyi modeller anlamına gelir.\n",
    "\n",
    "Farklı bir bakış açısından, etkili özellik mühendisliği, sadece uygulayıcıların zaman kazanmasına değil, aynı zamanda modellerinin kalitesini artırmasına da teşvik eder. Bu özellik yeniden kullanma, iki nedenle önemlidir: zaman kazandırır ve sağlam bir şekilde tanımlanmış özellikler, modellerinizin eğitim ve çıkarım arasında farklı özellik verileri kullanmasını engellemeye yardımcı olur, ki bu genellikle \"çevrimdışı/çevrimiçi\" sapmalara yol açar."
   ]
  },
  {
   "cell_type": "markdown",
   "id": "39498677",
   "metadata": {
    "papermill": {
     "duration": 0.039152,
     "end_time": "2023-11-13T12:55:03.546707",
     "exception": false,
     "start_time": "2023-11-13T12:55:03.507555",
     "status": "completed"
    },
    "tags": []
   },
   "source": [
    "<center><img src=\"https://i.imgur.com/UVB8v8B.png\" width=\"800\" height=\"800\"></center>"
   ]
  },
  {
   "cell_type": "markdown",
   "id": "ba05bdc1",
   "metadata": {
    "papermill": {
     "duration": 0.038572,
     "end_time": "2023-11-13T12:55:03.624075",
     "exception": false,
     "start_time": "2023-11-13T12:55:03.585503",
     "status": "completed"
    },
    "tags": []
   },
   "source": [
    "# Content\n",
    "\n",
    "1. [☠️Aykırı Değerler (Outliers)☠️](#1)\n",
    "    * [Aykırı Değerleri Yakalama](#2)\n",
    "    * [Aykırı Değerlere Erişmek](#3)\n",
    "    * [Aykırı Değerleri Silmek](#4)\n",
    "    * [Aykırı Değerleri Baskılama](#5)\n",
    "    * [Çok Değişkenli Aykırı Değer Analizi (Local Outlier Factor)](#6)\n",
    "1. [🤔Eksik Değerler (Missing Values)🤔](#7)\n",
    "    * [Eksik Değerlerin Yakalanması](#8)\n",
    "    * [Eksik Değerler Problemini Çözme](#9)\n",
    "    * [Eksik Değerleri Makine Öğrenmesi İle Tahmin Etme](#10)\n",
    "    * [Eksik Değerlerin Bağımlı Değişken ile İlişkisinin İncelenmesi](#11)\n",
    "1. [0️⃣Encoding1️⃣](#12)\n",
    "    * [Label Encoding](#13)\n",
    "    * [One Hot Encoding](#14)\n",
    "    * [Rare Encoding](#15)\n",
    "    * [Özellik Ölçeklendirme (Feature Scaling)](#16)\n",
    "1. [🔍Feature Extraction🔎](#17)\n",
    "    * [Binary Features: Flag, Bool, True-False](#18)\n",
    "    * [Text Features](#19)\n",
    "    * [Regex Features](#20)\n",
    "    * [Date Features](#21)\n",
    "    * [Feature Interaction](#22)"
   ]
  },
  {
   "cell_type": "markdown",
   "id": "2159f769",
   "metadata": {
    "_cell_guid": "b1076dfc-b9ad-4769-8c92-a6c4dae69d19",
    "_uuid": "8f2839f25d086af736a60e9eeb907d3b93b6e0e5",
    "papermill": {
     "duration": 0.038187,
     "end_time": "2023-11-13T12:55:03.701082",
     "exception": false,
     "start_time": "2023-11-13T12:55:03.662895",
     "status": "completed"
    },
    "tags": []
   },
   "source": [
    "<a id=\"1\"></a><br>\n",
    "<h1 style=\"border-radius: 10px; border: 2px solid #6B8E23; background-color: #F5F5DC; font-family: 'Pacifico', cursive; font-size: 200%; text-align: center; border-radius: 15px 50px; padding: 15px; box-shadow: 5px 5px 5px #556B2F; color: #556B2F;\">☠️Aykırı Değerler (Outliers)☠️</h1>"
   ]
  },
  {
   "cell_type": "markdown",
   "id": "ab08f9d3",
   "metadata": {
    "papermill": {
     "duration": 0.038416,
     "end_time": "2023-11-13T12:55:03.777412",
     "exception": false,
     "start_time": "2023-11-13T12:55:03.738996",
     "status": "completed"
    },
    "tags": []
   },
   "source": [
    "**Aykırı Değer Nedir?**\n",
    "\n",
    "Veri analitiğinde aykırı değerler, veri seti içinde diğer değerlerden önemli ölçüde farklılık gösteren değerlerdir, ya çok daha büyük ya da belirgin şekilde daha küçüktürler. Aykırı değerler bir ölçümdeki değişkenlikleri, deney hatalarını veya yeni ve önemli bilgileri gösterebilirler.\n",
    "\n",
    "Gerçek bir örnek olarak, bir zürafa ortalama olarak yaklaşık 16 feet (4.8 metre) boyundadır. Ancak son zamanlarda 9 feet (2.7 metre) ve 8.5 feet (2.6 metre) boyunda iki zürafa keşfedilmiştir. Bu iki zürafa, genel zürafa popülasyonu ile karşılaştırıldığında aykırı değerler olarak kabul edilir.\n",
    "\n",
    "Veri analizi sürecinde, aykırı değerler sonuçlar üzerinde anormalliklere neden olabilir. Bu, veriyi etkili bir şekilde analiz etmek için bazı özel dikkat gerektirdiği anlamına gelir ve bazı durumlarda verileri analiz etmek için kaldırılması gerekebilir.\n",
    "\n",
    "**Aykırı Değer Türleri**\n",
    "\n",
    "* İki tür aykırı değer bulunur:\n",
    "\n",
    "    * **Tek değişkenli aykırı değer** sadece bir değişkenle ilişkilendirilen aşırı bir değerdir. Örneğin, Sultan Kösen şu anda hayatta olan en uzun erkek, 251 cm boyundadır. Bu durum sadece bir faktörle ilgili aşırı bir durum olduğundan bu bir tek değişkenli aykırı değer olarak kabul edilebilir: boy.\n",
    "    * **Çok değişkenli aykırı değer** en az iki değişken için sıradışı veya aşırı değerlerin bir kombinasyonudur. Örneğin, bir grup yetişkinin hem boyunu hem de kilosunu incelediğinizi varsayalım. Veri setinizde boyu normal bir aralığa düşen bir kişi olduğunu gözlemleyebilirsiniz - ki bu, bu belirli değişken için normal aralığın içine düşen bir ölçümdür. Ayrıca bu kişinin 110 pound ağırlığında olduğunu gözlemleyebilirsiniz - ki bu ölçüm yine ilgi çeken değişken için normal aralığın içinde bulunmaktadır. Ancak bu iki gözlemi bir arada düşündüğünüzde, 5ft 9 inç boyunda ve 110 pound ağırlığında bir yetişkinle karşı karşıya kalırsınız - bu beklenmedik bir kombinasyondur ve bu çoklu değişkenli bir aykırı değerdir.\n",
    "\n",
    "* Tek değişkenli ve çok değişkenli aykırı değerlerin yanı sıra aykırı değerler aşağıdaki şekillerde sınıflandırılabilir:\n",
    "\n",
    "    * Global aykırı değerler (diğer adıyla nokta aykırı değerler), veri dağılımının geri kalanından büyük ölçüde uzakta bulunan tek veri noktalarıdır.\n",
    "    * Bağlamsal aykırı değerler (diğer adıyla koşullu aykırı değerler), aynı bağlamdaki diğer veri noktalarından önemli ölçüde sapma gösteren değerlerdir, bu da aynı değerin farklı bir bağlamda aykırı değer olarak kabul edilmeyebileceği anlamına gelir. Bu kategoriye ait aykırı değerler genellikle zaman serisi verilerinde bulunur.\n",
    "    * Toplu aykırı değerler, tam veri kümesine göre tamamen farklı olan bir veri noktaları alt kümesidir."
   ]
  },
  {
   "cell_type": "markdown",
   "id": "29c57327",
   "metadata": {
    "papermill": {
     "duration": 0.038611,
     "end_time": "2023-11-13T12:55:03.854128",
     "exception": false,
     "start_time": "2023-11-13T12:55:03.815517",
     "status": "completed"
    },
    "tags": []
   },
   "source": [
    "<a id = \"2\"></a><br>\n",
    "<p style=\"font-family: 'Pacifico', cursive; font-weight: bold; letter-spacing: 2px; color: #556B2F; font-size: 160%; text-align: left; padding: 0px; border-bottom: 3px solid\">✨Aykırı Değerleri Yakalama✨</p>"
   ]
  },
  {
   "cell_type": "code",
   "execution_count": 1,
   "id": "c86d62e8",
   "metadata": {
    "execution": {
     "iopub.execute_input": "2023-11-13T12:55:03.933168Z",
     "iopub.status.busy": "2023-11-13T12:55:03.932710Z",
     "iopub.status.idle": "2023-11-13T12:55:06.798727Z",
     "shell.execute_reply": "2023-11-13T12:55:06.797521Z"
    },
    "papermill": {
     "duration": 2.908297,
     "end_time": "2023-11-13T12:55:06.800972",
     "exception": false,
     "start_time": "2023-11-13T12:55:03.892675",
     "status": "completed"
    },
    "tags": []
   },
   "outputs": [
    {
     "name": "stdout",
     "output_type": "stream",
     "text": [
      "--2023-11-13 12:55:06--  https://raw.githubusercontent.com/h4pZ/rose-pine-matplotlib/main/themes/rose-pine-dawn.mplstyle\r\n",
      "Resolving raw.githubusercontent.com (raw.githubusercontent.com)... 185.199.108.133, 185.199.109.133, 185.199.111.133, ...\r\n",
      "Connecting to raw.githubusercontent.com (raw.githubusercontent.com)|185.199.108.133|:443... connected.\r\n",
      "HTTP request sent, awaiting response... 200 OK\r\n",
      "Length: 40905 (40K) [text/plain]\r\n",
      "Saving to: ‘/tmp/rose-pine-dawn.mplstyle’\r\n",
      "\r\n",
      "rose-pine-dawn.mpls 100%[===================>]  39.95K  --.-KB/s    in 0.01s   \r\n",
      "\r\n",
      "2023-11-13 12:55:06 (3.19 MB/s) - ‘/tmp/rose-pine-dawn.mplstyle’ saved [40905/40905]\r\n",
      "\r\n"
     ]
    }
   ],
   "source": [
    "import numpy as np\n",
    "import pandas as pd\n",
    "import seaborn as sns\n",
    "from matplotlib import pyplot as plt\n",
    "\n",
    "# !pip install missingno\n",
    "import missingno as msno\n",
    "\n",
    "from datetime import date\n",
    "\n",
    "from sklearn.metrics import accuracy_score\n",
    "from sklearn.model_selection import train_test_split\n",
    "from sklearn.neighbors import LocalOutlierFactor\n",
    "from sklearn.preprocessing import MinMaxScaler, LabelEncoder, StandardScaler, RobustScaler\n",
    "\n",
    "import warnings\n",
    "warnings.filterwarnings(\"ignore\")\n",
    "\n",
    "# pd.set_option('display.max_columns', None)\n",
    "# pd.set_option('display.max_rows', None)\n",
    "# pd.set_option('display.float_format', lambda x: '%.3f' % x)\n",
    "# pd.set_option('display.width', 500)\n",
    "\n",
    "!wget https://raw.githubusercontent.com/h4pZ/rose-pine-matplotlib/main/themes/rose-pine-dawn.mplstyle -P /tmp\n",
    "plt.style.use(\"/tmp/rose-pine-dawn.mplstyle\")"
   ]
  },
  {
   "cell_type": "code",
   "execution_count": 2,
   "id": "c1a033ed",
   "metadata": {
    "execution": {
     "iopub.execute_input": "2023-11-13T12:55:06.882665Z",
     "iopub.status.busy": "2023-11-13T12:55:06.882118Z",
     "iopub.status.idle": "2023-11-13T12:55:11.849891Z",
     "shell.execute_reply": "2023-11-13T12:55:11.848919Z"
    },
    "papermill": {
     "duration": 5.012069,
     "end_time": "2023-11-13T12:55:11.852326",
     "exception": false,
     "start_time": "2023-11-13T12:55:06.840257",
     "status": "completed"
    },
    "tags": []
   },
   "outputs": [],
   "source": [
    "home_credit = pd.read_csv(\"/kaggle/input/home-credit-default-risk/application_train.csv\")\n",
    "titanic_ = pd.read_csv(\"/kaggle/input/titanic/train.csv\")"
   ]
  },
  {
   "cell_type": "code",
   "execution_count": 3,
   "id": "4e93bc12",
   "metadata": {
    "execution": {
     "iopub.execute_input": "2023-11-13T12:55:11.932599Z",
     "iopub.status.busy": "2023-11-13T12:55:11.932228Z",
     "iopub.status.idle": "2023-11-13T12:55:11.936606Z",
     "shell.execute_reply": "2023-11-13T12:55:11.935747Z"
    },
    "papermill": {
     "duration": 0.046616,
     "end_time": "2023-11-13T12:55:11.938847",
     "exception": false,
     "start_time": "2023-11-13T12:55:11.892231",
     "status": "completed"
    },
    "tags": []
   },
   "outputs": [],
   "source": [
    "titanic = titanic_.copy()"
   ]
  },
  {
   "cell_type": "code",
   "execution_count": 4,
   "id": "cb64eac3",
   "metadata": {
    "execution": {
     "iopub.execute_input": "2023-11-13T12:55:12.017059Z",
     "iopub.status.busy": "2023-11-13T12:55:12.016713Z",
     "iopub.status.idle": "2023-11-13T12:55:12.055911Z",
     "shell.execute_reply": "2023-11-13T12:55:12.054815Z"
    },
    "papermill": {
     "duration": 0.080503,
     "end_time": "2023-11-13T12:55:12.057869",
     "exception": false,
     "start_time": "2023-11-13T12:55:11.977366",
     "status": "completed"
    },
    "tags": []
   },
   "outputs": [
    {
     "data": {
      "text/html": [
       "<div>\n",
       "<style scoped>\n",
       "    .dataframe tbody tr th:only-of-type {\n",
       "        vertical-align: middle;\n",
       "    }\n",
       "\n",
       "    .dataframe tbody tr th {\n",
       "        vertical-align: top;\n",
       "    }\n",
       "\n",
       "    .dataframe thead th {\n",
       "        text-align: right;\n",
       "    }\n",
       "</style>\n",
       "<table border=\"1\" class=\"dataframe\">\n",
       "  <thead>\n",
       "    <tr style=\"text-align: right;\">\n",
       "      <th></th>\n",
       "      <th>count</th>\n",
       "      <th>mean</th>\n",
       "      <th>std</th>\n",
       "      <th>min</th>\n",
       "      <th>1%</th>\n",
       "      <th>50%</th>\n",
       "      <th>99%</th>\n",
       "      <th>max</th>\n",
       "    </tr>\n",
       "  </thead>\n",
       "  <tbody>\n",
       "    <tr>\n",
       "      <th>PassengerId</th>\n",
       "      <td>891.0</td>\n",
       "      <td>446.000000</td>\n",
       "      <td>257.353842</td>\n",
       "      <td>1.00</td>\n",
       "      <td>9.9</td>\n",
       "      <td>446.0000</td>\n",
       "      <td>882.10000</td>\n",
       "      <td>891.0000</td>\n",
       "    </tr>\n",
       "    <tr>\n",
       "      <th>Survived</th>\n",
       "      <td>891.0</td>\n",
       "      <td>0.383838</td>\n",
       "      <td>0.486592</td>\n",
       "      <td>0.00</td>\n",
       "      <td>0.0</td>\n",
       "      <td>0.0000</td>\n",
       "      <td>1.00000</td>\n",
       "      <td>1.0000</td>\n",
       "    </tr>\n",
       "    <tr>\n",
       "      <th>Pclass</th>\n",
       "      <td>891.0</td>\n",
       "      <td>2.308642</td>\n",
       "      <td>0.836071</td>\n",
       "      <td>1.00</td>\n",
       "      <td>1.0</td>\n",
       "      <td>3.0000</td>\n",
       "      <td>3.00000</td>\n",
       "      <td>3.0000</td>\n",
       "    </tr>\n",
       "    <tr>\n",
       "      <th>Age</th>\n",
       "      <td>714.0</td>\n",
       "      <td>29.699118</td>\n",
       "      <td>14.526497</td>\n",
       "      <td>0.42</td>\n",
       "      <td>1.0</td>\n",
       "      <td>28.0000</td>\n",
       "      <td>65.87000</td>\n",
       "      <td>80.0000</td>\n",
       "    </tr>\n",
       "    <tr>\n",
       "      <th>SibSp</th>\n",
       "      <td>891.0</td>\n",
       "      <td>0.523008</td>\n",
       "      <td>1.102743</td>\n",
       "      <td>0.00</td>\n",
       "      <td>0.0</td>\n",
       "      <td>0.0000</td>\n",
       "      <td>5.00000</td>\n",
       "      <td>8.0000</td>\n",
       "    </tr>\n",
       "    <tr>\n",
       "      <th>Parch</th>\n",
       "      <td>891.0</td>\n",
       "      <td>0.381594</td>\n",
       "      <td>0.806057</td>\n",
       "      <td>0.00</td>\n",
       "      <td>0.0</td>\n",
       "      <td>0.0000</td>\n",
       "      <td>4.00000</td>\n",
       "      <td>6.0000</td>\n",
       "    </tr>\n",
       "    <tr>\n",
       "      <th>Fare</th>\n",
       "      <td>891.0</td>\n",
       "      <td>32.204208</td>\n",
       "      <td>49.693429</td>\n",
       "      <td>0.00</td>\n",
       "      <td>0.0</td>\n",
       "      <td>14.4542</td>\n",
       "      <td>249.00622</td>\n",
       "      <td>512.3292</td>\n",
       "    </tr>\n",
       "  </tbody>\n",
       "</table>\n",
       "</div>"
      ],
      "text/plain": [
       "             count        mean         std   min   1%       50%        99%  \\\n",
       "PassengerId  891.0  446.000000  257.353842  1.00  9.9  446.0000  882.10000   \n",
       "Survived     891.0    0.383838    0.486592  0.00  0.0    0.0000    1.00000   \n",
       "Pclass       891.0    2.308642    0.836071  1.00  1.0    3.0000    3.00000   \n",
       "Age          714.0   29.699118   14.526497  0.42  1.0   28.0000   65.87000   \n",
       "SibSp        891.0    0.523008    1.102743  0.00  0.0    0.0000    5.00000   \n",
       "Parch        891.0    0.381594    0.806057  0.00  0.0    0.0000    4.00000   \n",
       "Fare         891.0   32.204208   49.693429  0.00  0.0   14.4542  249.00622   \n",
       "\n",
       "                  max  \n",
       "PassengerId  891.0000  \n",
       "Survived       1.0000  \n",
       "Pclass         3.0000  \n",
       "Age           80.0000  \n",
       "SibSp          8.0000  \n",
       "Parch          6.0000  \n",
       "Fare         512.3292  "
      ]
     },
     "execution_count": 4,
     "metadata": {},
     "output_type": "execute_result"
    }
   ],
   "source": [
    "titanic.describe([0.01,0.99]).T"
   ]
  },
  {
   "cell_type": "code",
   "execution_count": 5,
   "id": "6a909f05",
   "metadata": {
    "execution": {
     "iopub.execute_input": "2023-11-13T12:55:12.139043Z",
     "iopub.status.busy": "2023-11-13T12:55:12.138670Z",
     "iopub.status.idle": "2023-11-13T12:55:12.298433Z",
     "shell.execute_reply": "2023-11-13T12:55:12.297489Z"
    },
    "papermill": {
     "duration": 0.202673,
     "end_time": "2023-11-13T12:55:12.300270",
     "exception": false,
     "start_time": "2023-11-13T12:55:12.097597",
     "status": "completed"
    },
    "tags": []
   },
   "outputs": [
    {
     "data": {
      "image/png": "[encoded data removed]",
      "text/plain": [
       "<Figure size 640x480 with 1 Axes>"
      ]
     },
     "metadata": {},
     "output_type": "display_data"
    }
   ],
   "source": [
    "# Boxplot, bir sayısal değişkenin dağılım bilgisini verir. İkinci bir yöntem Histogram grafiği olabilir.\n",
    "\n",
    "sns.boxplot(x = titanic[\"Age\"])\n",
    "plt.show()"
   ]
  },
  {
   "cell_type": "code",
   "execution_count": 6,
   "id": "c5a078d7",
   "metadata": {
    "execution": {
     "iopub.execute_input": "2023-11-13T12:55:12.384394Z",
     "iopub.status.busy": "2023-11-13T12:55:12.384001Z",
     "iopub.status.idle": "2023-11-13T12:55:12.390978Z",
     "shell.execute_reply": "2023-11-13T12:55:12.390084Z"
    },
    "papermill": {
     "duration": 0.050702,
     "end_time": "2023-11-13T12:55:12.392862",
     "exception": false,
     "start_time": "2023-11-13T12:55:12.342160",
     "status": "completed"
    },
    "tags": []
   },
   "outputs": [],
   "source": [
    "q1 = titanic[\"Age\"].quantile(0.25)\n",
    "q3 = titanic[\"Age\"].quantile(0.75)\n",
    "IQR = q3 - q1\n",
    "up = q3 + 1.5 * IQR\n",
    "low = q1 - 1.5 * IQR"
   ]
  },
  {
   "cell_type": "code",
   "execution_count": 7,
   "id": "c50c2823",
   "metadata": {
    "execution": {
     "iopub.execute_input": "2023-11-13T12:55:12.474490Z",
     "iopub.status.busy": "2023-11-13T12:55:12.474129Z",
     "iopub.status.idle": "2023-11-13T12:55:12.494769Z",
     "shell.execute_reply": "2023-11-13T12:55:12.493691Z"
    },
    "papermill": {
     "duration": 0.063868,
     "end_time": "2023-11-13T12:55:12.496768",
     "exception": false,
     "start_time": "2023-11-13T12:55:12.432900",
     "status": "completed"
    },
    "tags": []
   },
   "outputs": [
    {
     "data": {
      "text/html": [
       "<div>\n",
       "<style scoped>\n",
       "    .dataframe tbody tr th:only-of-type {\n",
       "        vertical-align: middle;\n",
       "    }\n",
       "\n",
       "    .dataframe tbody tr th {\n",
       "        vertical-align: top;\n",
       "    }\n",
       "\n",
       "    .dataframe thead th {\n",
       "        text-align: right;\n",
       "    }\n",
       "</style>\n",
       "<table border=\"1\" class=\"dataframe\">\n",
       "  <thead>\n",
       "    <tr style=\"text-align: right;\">\n",
       "      <th></th>\n",
       "      <th>PassengerId</th>\n",
       "      <th>Survived</th>\n",
       "      <th>Pclass</th>\n",
       "      <th>Name</th>\n",
       "      <th>Sex</th>\n",
       "      <th>Age</th>\n",
       "      <th>SibSp</th>\n",
       "      <th>Parch</th>\n",
       "      <th>Ticket</th>\n",
       "      <th>Fare</th>\n",
       "      <th>Cabin</th>\n",
       "      <th>Embarked</th>\n",
       "    </tr>\n",
       "  </thead>\n",
       "  <tbody>\n",
       "    <tr>\n",
       "      <th>33</th>\n",
       "      <td>34</td>\n",
       "      <td>0</td>\n",
       "      <td>2</td>\n",
       "      <td>Wheadon, Mr. Edward H</td>\n",
       "      <td>male</td>\n",
       "      <td>66.0</td>\n",
       "      <td>0</td>\n",
       "      <td>0</td>\n",
       "      <td>C.A. 24579</td>\n",
       "      <td>10.5000</td>\n",
       "      <td>NaN</td>\n",
       "      <td>S</td>\n",
       "    </tr>\n",
       "    <tr>\n",
       "      <th>54</th>\n",
       "      <td>55</td>\n",
       "      <td>0</td>\n",
       "      <td>1</td>\n",
       "      <td>Ostby, Mr. Engelhart Cornelius</td>\n",
       "      <td>male</td>\n",
       "      <td>65.0</td>\n",
       "      <td>0</td>\n",
       "      <td>1</td>\n",
       "      <td>113509</td>\n",
       "      <td>61.9792</td>\n",
       "      <td>B30</td>\n",
       "      <td>C</td>\n",
       "    </tr>\n",
       "    <tr>\n",
       "      <th>96</th>\n",
       "      <td>97</td>\n",
       "      <td>0</td>\n",
       "      <td>1</td>\n",
       "      <td>Goldschmidt, Mr. George B</td>\n",
       "      <td>male</td>\n",
       "      <td>71.0</td>\n",
       "      <td>0</td>\n",
       "      <td>0</td>\n",
       "      <td>PC 17754</td>\n",
       "      <td>34.6542</td>\n",
       "      <td>A5</td>\n",
       "      <td>C</td>\n",
       "    </tr>\n",
       "    <tr>\n",
       "      <th>116</th>\n",
       "      <td>117</td>\n",
       "      <td>0</td>\n",
       "      <td>3</td>\n",
       "      <td>Connors, Mr. Patrick</td>\n",
       "      <td>male</td>\n",
       "      <td>70.5</td>\n",
       "      <td>0</td>\n",
       "      <td>0</td>\n",
       "      <td>370369</td>\n",
       "      <td>7.7500</td>\n",
       "      <td>NaN</td>\n",
       "      <td>Q</td>\n",
       "    </tr>\n",
       "    <tr>\n",
       "      <th>280</th>\n",
       "      <td>281</td>\n",
       "      <td>0</td>\n",
       "      <td>3</td>\n",
       "      <td>Duane, Mr. Frank</td>\n",
       "      <td>male</td>\n",
       "      <td>65.0</td>\n",
       "      <td>0</td>\n",
       "      <td>0</td>\n",
       "      <td>336439</td>\n",
       "      <td>7.7500</td>\n",
       "      <td>NaN</td>\n",
       "      <td>Q</td>\n",
       "    </tr>\n",
       "    <tr>\n",
       "      <th>456</th>\n",
       "      <td>457</td>\n",
       "      <td>0</td>\n",
       "      <td>1</td>\n",
       "      <td>Millet, Mr. Francis Davis</td>\n",
       "      <td>male</td>\n",
       "      <td>65.0</td>\n",
       "      <td>0</td>\n",
       "      <td>0</td>\n",
       "      <td>13509</td>\n",
       "      <td>26.5500</td>\n",
       "      <td>E38</td>\n",
       "      <td>S</td>\n",
       "    </tr>\n",
       "    <tr>\n",
       "      <th>493</th>\n",
       "      <td>494</td>\n",
       "      <td>0</td>\n",
       "      <td>1</td>\n",
       "      <td>Artagaveytia, Mr. Ramon</td>\n",
       "      <td>male</td>\n",
       "      <td>71.0</td>\n",
       "      <td>0</td>\n",
       "      <td>0</td>\n",
       "      <td>PC 17609</td>\n",
       "      <td>49.5042</td>\n",
       "      <td>NaN</td>\n",
       "      <td>C</td>\n",
       "    </tr>\n",
       "    <tr>\n",
       "      <th>630</th>\n",
       "      <td>631</td>\n",
       "      <td>1</td>\n",
       "      <td>1</td>\n",
       "      <td>Barkworth, Mr. Algernon Henry Wilson</td>\n",
       "      <td>male</td>\n",
       "      <td>80.0</td>\n",
       "      <td>0</td>\n",
       "      <td>0</td>\n",
       "      <td>27042</td>\n",
       "      <td>30.0000</td>\n",
       "      <td>A23</td>\n",
       "      <td>S</td>\n",
       "    </tr>\n",
       "    <tr>\n",
       "      <th>672</th>\n",
       "      <td>673</td>\n",
       "      <td>0</td>\n",
       "      <td>2</td>\n",
       "      <td>Mitchell, Mr. Henry Michael</td>\n",
       "      <td>male</td>\n",
       "      <td>70.0</td>\n",
       "      <td>0</td>\n",
       "      <td>0</td>\n",
       "      <td>C.A. 24580</td>\n",
       "      <td>10.5000</td>\n",
       "      <td>NaN</td>\n",
       "      <td>S</td>\n",
       "    </tr>\n",
       "    <tr>\n",
       "      <th>745</th>\n",
       "      <td>746</td>\n",
       "      <td>0</td>\n",
       "      <td>1</td>\n",
       "      <td>Crosby, Capt. Edward Gifford</td>\n",
       "      <td>male</td>\n",
       "      <td>70.0</td>\n",
       "      <td>1</td>\n",
       "      <td>1</td>\n",
       "      <td>WE/P 5735</td>\n",
       "      <td>71.0000</td>\n",
       "      <td>B22</td>\n",
       "      <td>S</td>\n",
       "    </tr>\n",
       "    <tr>\n",
       "      <th>851</th>\n",
       "      <td>852</td>\n",
       "      <td>0</td>\n",
       "      <td>3</td>\n",
       "      <td>Svensson, Mr. Johan</td>\n",
       "      <td>male</td>\n",
       "      <td>74.0</td>\n",
       "      <td>0</td>\n",
       "      <td>0</td>\n",
       "      <td>347060</td>\n",
       "      <td>7.7750</td>\n",
       "      <td>NaN</td>\n",
       "      <td>S</td>\n",
       "    </tr>\n",
       "  </tbody>\n",
       "</table>\n",
       "</div>"
      ],
      "text/plain": [
       "     PassengerId  Survived  Pclass                                  Name  \\\n",
       "33            34         0       2                 Wheadon, Mr. Edward H   \n",
       "54            55         0       1        Ostby, Mr. Engelhart Cornelius   \n",
       "96            97         0       1             Goldschmidt, Mr. George B   \n",
       "116          117         0       3                  Connors, Mr. Patrick   \n",
       "280          281         0       3                      Duane, Mr. Frank   \n",
       "456          457         0       1             Millet, Mr. Francis Davis   \n",
       "493          494         0       1               Artagaveytia, Mr. Ramon   \n",
       "630          631         1       1  Barkworth, Mr. Algernon Henry Wilson   \n",
       "672          673         0       2           Mitchell, Mr. Henry Michael   \n",
       "745          746         0       1          Crosby, Capt. Edward Gifford   \n",
       "851          852         0       3                   Svensson, Mr. Johan   \n",
       "\n",
       "      Sex   Age  SibSp  Parch      Ticket     Fare Cabin Embarked  \n",
       "33   male  66.0      0      0  C.A. 24579  10.5000   NaN        S  \n",
       "54   male  65.0      0      1      113509  61.9792   B30        C  \n",
       "96   male  71.0      0      0    PC 17754  34.6542    A5        C  \n",
       "116  male  70.5      0      0      370369   7.7500   NaN        Q  \n",
       "280  male  65.0      0      0      336439   7.7500   NaN        Q  \n",
       "456  male  65.0      0      0       13509  26.5500   E38        S  \n",
       "493  male  71.0      0      0    PC 17609  49.5042   NaN        C  \n",
       "630  male  80.0      0      0       27042  30.0000   A23        S  \n",
       "672  male  70.0      0      0  C.A. 24580  10.5000   NaN        S  \n",
       "745  male  70.0      1      1   WE/P 5735  71.0000   B22        S  \n",
       "851  male  74.0      0      0      347060   7.7750   NaN        S  "
      ]
     },
     "execution_count": 7,
     "metadata": {},
     "output_type": "execute_result"
    }
   ],
   "source": [
    "# Aykırı değerleri elde etmek istersek?\n",
    "titanic[(titanic[\"Age\"] < low) | (titanic[\"Age\"] > up)]"
   ]
  },
  {
   "cell_type": "code",
   "execution_count": 8,
   "id": "1e47fce3",
   "metadata": {
    "execution": {
     "iopub.execute_input": "2023-11-13T12:55:12.578333Z",
     "iopub.status.busy": "2023-11-13T12:55:12.577571Z",
     "iopub.status.idle": "2023-11-13T12:55:12.587875Z",
     "shell.execute_reply": "2023-11-13T12:55:12.586908Z"
    },
    "papermill": {
     "duration": 0.05259,
     "end_time": "2023-11-13T12:55:12.589654",
     "exception": false,
     "start_time": "2023-11-13T12:55:12.537064",
     "status": "completed"
    },
    "tags": []
   },
   "outputs": [
    {
     "data": {
      "text/plain": [
       "Index([33, 54, 96, 116, 280, 456, 493, 630, 672, 745, 851], dtype='int64')"
      ]
     },
     "execution_count": 8,
     "metadata": {},
     "output_type": "execute_result"
    }
   ],
   "source": [
    "# Aykırı değer içeren satırların indeks bilgisini aldık.\n",
    "titanic[(titanic[\"Age\"] < low) | (titanic[\"Age\"] > up)].index"
   ]
  },
  {
   "cell_type": "code",
   "execution_count": 9,
   "id": "19cd9809",
   "metadata": {
    "execution": {
     "iopub.execute_input": "2023-11-13T12:55:12.670910Z",
     "iopub.status.busy": "2023-11-13T12:55:12.670564Z",
     "iopub.status.idle": "2023-11-13T12:55:12.679016Z",
     "shell.execute_reply": "2023-11-13T12:55:12.678078Z"
    },
    "papermill": {
     "duration": 0.050842,
     "end_time": "2023-11-13T12:55:12.681384",
     "exception": false,
     "start_time": "2023-11-13T12:55:12.630542",
     "status": "completed"
    },
    "tags": []
   },
   "outputs": [
    {
     "data": {
      "text/plain": [
       "True"
      ]
     },
     "execution_count": 9,
     "metadata": {},
     "output_type": "execute_result"
    }
   ],
   "source": [
    "titanic[(titanic[\"Age\"] < low) | (titanic[\"Age\"] > up)].any(axis=None)"
   ]
  },
  {
   "cell_type": "code",
   "execution_count": 10,
   "id": "f4d22d5d",
   "metadata": {
    "execution": {
     "iopub.execute_input": "2023-11-13T12:55:12.761388Z",
     "iopub.status.busy": "2023-11-13T12:55:12.761085Z",
     "iopub.status.idle": "2023-11-13T12:55:12.768721Z",
     "shell.execute_reply": "2023-11-13T12:55:12.767783Z"
    },
    "papermill": {
     "duration": 0.049121,
     "end_time": "2023-11-13T12:55:12.770436",
     "exception": false,
     "start_time": "2023-11-13T12:55:12.721315",
     "status": "completed"
    },
    "tags": []
   },
   "outputs": [
    {
     "data": {
      "text/plain": [
       "False"
      ]
     },
     "execution_count": 10,
     "metadata": {},
     "output_type": "execute_result"
    }
   ],
   "source": [
    "titanic[(titanic[\"Age\"] < low)].any(axis=None)"
   ]
  },
  {
   "cell_type": "markdown",
   "id": "fc859bb3",
   "metadata": {
    "papermill": {
     "duration": 0.038897,
     "end_time": "2023-11-13T12:55:12.848768",
     "exception": false,
     "start_time": "2023-11-13T12:55:12.809871",
     "status": "completed"
    },
    "tags": []
   },
   "source": [
    "----"
   ]
  },
  {
   "cell_type": "code",
   "execution_count": 11,
   "id": "7ada1152",
   "metadata": {
    "execution": {
     "iopub.execute_input": "2023-11-13T12:55:12.928402Z",
     "iopub.status.busy": "2023-11-13T12:55:12.928074Z",
     "iopub.status.idle": "2023-11-13T12:55:12.933150Z",
     "shell.execute_reply": "2023-11-13T12:55:12.931823Z"
    },
    "papermill": {
     "duration": 0.047367,
     "end_time": "2023-11-13T12:55:12.935266",
     "exception": false,
     "start_time": "2023-11-13T12:55:12.887899",
     "status": "completed"
    },
    "tags": []
   },
   "outputs": [],
   "source": [
    "def outlier_thresholds(dataframe, col_name, q1=0.05, q3=0.95):\n",
    "    \n",
    "    quartile1 = dataframe[col_name].quantile(q1)\n",
    "    quartile3 = dataframe[col_name].quantile(q3)\n",
    "    IQR = quartile3 - quartile1\n",
    "    up_limit = quartile3 + 1.5 * IQR\n",
    "    low_limit = quartile1 - 1.5 * IQR\n",
    "    \n",
    "    return low_limit, up_limit"
   ]
  },
  {
   "cell_type": "markdown",
   "id": "c3f48aa8",
   "metadata": {
    "papermill": {
     "duration": 0.039547,
     "end_time": "2023-11-13T12:55:13.014159",
     "exception": false,
     "start_time": "2023-11-13T12:55:12.974612",
     "status": "completed"
    },
    "tags": []
   },
   "source": [
    "----"
   ]
  },
  {
   "cell_type": "code",
   "execution_count": 12,
   "id": "1d3c91b1",
   "metadata": {
    "execution": {
     "iopub.execute_input": "2023-11-13T12:55:13.094641Z",
     "iopub.status.busy": "2023-11-13T12:55:13.094298Z",
     "iopub.status.idle": "2023-11-13T12:55:13.099630Z",
     "shell.execute_reply": "2023-11-13T12:55:13.098773Z"
    },
    "papermill": {
     "duration": 0.047914,
     "end_time": "2023-11-13T12:55:13.101488",
     "exception": false,
     "start_time": "2023-11-13T12:55:13.053574",
     "status": "completed"
    },
    "tags": []
   },
   "outputs": [],
   "source": [
    "def check_outlier(dataframe, col_name):\n",
    "    \n",
    "    low_limit, up_limit = outlier_thresholds(dataframe, col_name)\n",
    "    \n",
    "    if dataframe[(dataframe[col_name] > up_limit) | (dataframe[col_name] < low_limit)].any(axis=None):\n",
    "        \n",
    "        return True\n",
    "    \n",
    "    else:\n",
    "        \n",
    "        return False"
   ]
  },
  {
   "cell_type": "code",
   "execution_count": 13,
   "id": "9ab7f7dd",
   "metadata": {
    "execution": {
     "iopub.execute_input": "2023-11-13T12:55:13.183543Z",
     "iopub.status.busy": "2023-11-13T12:55:13.183168Z",
     "iopub.status.idle": "2023-11-13T12:55:13.192760Z",
     "shell.execute_reply": "2023-11-13T12:55:13.191887Z"
    },
    "papermill": {
     "duration": 0.052171,
     "end_time": "2023-11-13T12:55:13.194624",
     "exception": false,
     "start_time": "2023-11-13T12:55:13.142453",
     "status": "completed"
    },
    "tags": []
   },
   "outputs": [
    {
     "data": {
      "text/plain": [
       "False"
      ]
     },
     "execution_count": 13,
     "metadata": {},
     "output_type": "execute_result"
    }
   ],
   "source": [
    "check_outlier(titanic, \"Age\")"
   ]
  },
  {
   "cell_type": "markdown",
   "id": "42a3474d",
   "metadata": {
    "papermill": {
     "duration": 0.042069,
     "end_time": "2023-11-13T12:55:13.276710",
     "exception": false,
     "start_time": "2023-11-13T12:55:13.234641",
     "status": "completed"
    },
    "tags": []
   },
   "source": [
    "----"
   ]
  },
  {
   "cell_type": "code",
   "execution_count": 14,
   "id": "07f30246",
   "metadata": {
    "execution": {
     "iopub.execute_input": "2023-11-13T12:55:13.361436Z",
     "iopub.status.busy": "2023-11-13T12:55:13.361109Z",
     "iopub.status.idle": "2023-11-13T12:55:13.370234Z",
     "shell.execute_reply": "2023-11-13T12:55:13.369255Z"
    },
    "papermill": {
     "duration": 0.054342,
     "end_time": "2023-11-13T12:55:13.372440",
     "exception": false,
     "start_time": "2023-11-13T12:55:13.318098",
     "status": "completed"
    },
    "tags": []
   },
   "outputs": [],
   "source": [
    "def grab_col_names(dataframe, cat_th=10, car_th=20):\n",
    "    \n",
    "    \"\"\"\n",
    "    Veri setindeki kategorik, numerik ve kategorik fakat kardinal değişkenlerin isimlerini verir.\n",
    "    Not: Kategorik değişkenlerin içerisine numerik görünümlü kategorik değişkenler de dahildir.\n",
    "\n",
    "    Parameters\n",
    "    ------\n",
    "        dataframe: dataframe\n",
    "                Değişken isimleri alınmak istenilen dataframe\n",
    "        cat_th: int, optional\n",
    "                numerik fakat kategorik olan değişkenler için sınıf eşik değeri\n",
    "        car_th: int, optinal\n",
    "                kategorik fakat kardinal değişkenler için sınıf eşik değeri\n",
    "\n",
    "    Returns\n",
    "    ------\n",
    "        cat_cols: list\n",
    "                Kategorik değişken listesi\n",
    "        num_cols: list\n",
    "                Numerik değişken listesi\n",
    "        cat_but_car: list\n",
    "                Kategorik görünümlü kardinal değişken listesi\n",
    "\n",
    "    Examples\n",
    "    ------\n",
    "        import seaborn as sns\n",
    "        df = sns.load_dataset(\"iris\")\n",
    "        print(grab_col_names(df))\n",
    "\n",
    "\n",
    "    Notes\n",
    "    ------\n",
    "        cat_cols + num_cols + cat_but_car = toplam değişken sayısı\n",
    "        num_but_cat cat_cols'un içerisinde.\n",
    "        Return olan 3 liste toplamı toplam değişken sayısına eşittir: cat_cols + num_cols + cat_but_car = değişken sayısı\n",
    "\n",
    "    \"\"\"\n",
    "\n",
    "    # cat_cols, cat_but_car\n",
    "    \n",
    "    cat_cols = [col for col in dataframe.columns if dataframe[col].dtypes == \"O\"]\n",
    "    num_but_cat = [col for col in dataframe.columns if dataframe[col].nunique() < cat_th and\n",
    "                   dataframe[col].dtypes != \"O\"]\n",
    "    cat_but_car = [col for col in dataframe.columns if dataframe[col].nunique() > car_th and\n",
    "                   dataframe[col].dtypes == \"O\"]\n",
    "    cat_cols = cat_cols + num_but_cat\n",
    "    cat_cols = [col for col in cat_cols if col not in cat_but_car]\n",
    "\n",
    "    # num_cols\n",
    "    \n",
    "    num_cols = [col for col in dataframe.columns if dataframe[col].dtypes != \"O\"]\n",
    "    num_cols = [col for col in num_cols if col not in num_but_cat]\n",
    "\n",
    "    print(f\"Observations: {dataframe.shape[0]}\")\n",
    "    print(f\"Variables: {dataframe.shape[1]}\")\n",
    "    print(f'cat_cols: {len(cat_cols)}')\n",
    "    print(f'num_cols: {len(num_cols)}')\n",
    "    print(f'cat_but_car: {len(cat_but_car)}')\n",
    "    print(f'num_but_cat: {len(num_but_cat)}')\n",
    "    \n",
    "    return cat_cols, num_cols, cat_but_car"
   ]
  },
  {
   "cell_type": "code",
   "execution_count": 15,
   "id": "87d5aeb0",
   "metadata": {
    "execution": {
     "iopub.execute_input": "2023-11-13T12:55:13.453348Z",
     "iopub.status.busy": "2023-11-13T12:55:13.452699Z",
     "iopub.status.idle": "2023-11-13T12:55:13.466974Z",
     "shell.execute_reply": "2023-11-13T12:55:13.465887Z"
    },
    "papermill": {
     "duration": 0.057117,
     "end_time": "2023-11-13T12:55:13.468977",
     "exception": false,
     "start_time": "2023-11-13T12:55:13.411860",
     "status": "completed"
    },
    "tags": []
   },
   "outputs": [
    {
     "name": "stdout",
     "output_type": "stream",
     "text": [
      "Observations: 891\n",
      "Variables: 12\n",
      "cat_cols: 6\n",
      "num_cols: 3\n",
      "cat_but_car: 3\n",
      "num_but_cat: 4\n"
     ]
    }
   ],
   "source": [
    "cat_cols, num_cols, cat_but_car = grab_col_names(titanic)"
   ]
  },
  {
   "cell_type": "markdown",
   "id": "c812ff89",
   "metadata": {
    "papermill": {
     "duration": 0.039127,
     "end_time": "2023-11-13T12:55:13.547911",
     "exception": false,
     "start_time": "2023-11-13T12:55:13.508784",
     "status": "completed"
    },
    "tags": []
   },
   "source": [
    "<div style=\"border-radius:10px; border:#65647C solid; padding: 15px; background-color: #F8EDE3; font-size:100%; text-align:left\">\n",
    "\n",
    "<h3 align=\"left\"><font color='#7D6E83'><b>🗨️ Comment: </b></font></h3>\n",
    "\n",
    "    \n",
    "* num_but_cat sayısı zaten cat_cols içinde sadece tespit edilen miktar gösterilmiştir."
   ]
  },
  {
   "cell_type": "code",
   "execution_count": 16,
   "id": "71dfd5f2",
   "metadata": {
    "execution": {
     "iopub.execute_input": "2023-11-13T12:55:13.628136Z",
     "iopub.status.busy": "2023-11-13T12:55:13.627794Z",
     "iopub.status.idle": "2023-11-13T12:55:13.634231Z",
     "shell.execute_reply": "2023-11-13T12:55:13.633200Z"
    },
    "papermill": {
     "duration": 0.049299,
     "end_time": "2023-11-13T12:55:13.636340",
     "exception": false,
     "start_time": "2023-11-13T12:55:13.587041",
     "status": "completed"
    },
    "tags": []
   },
   "outputs": [
    {
     "data": {
      "text/plain": [
       "['Age', 'Fare']"
      ]
     },
     "execution_count": 16,
     "metadata": {},
     "output_type": "execute_result"
    }
   ],
   "source": [
    "num_cols = [col for col in num_cols if col not in \"PassengerId\"]\n",
    "num_cols\n",
    "\n",
    "# Id veya tarih değişkenlerinide sayısal olarak alabileceğinden bunları da ayırt etmemiz gerekir."
   ]
  },
  {
   "cell_type": "markdown",
   "id": "4c99302b",
   "metadata": {
    "papermill": {
     "duration": 0.042645,
     "end_time": "2023-11-13T12:55:13.718368",
     "exception": false,
     "start_time": "2023-11-13T12:55:13.675723",
     "status": "completed"
    },
    "tags": []
   },
   "source": [
    "<div style=\"border-radius:10px; border:#65647C solid; padding: 15px; background-color: #F8EDE3; font-size:100%; text-align:left\">\n",
    "\n",
    "<h3 align=\"left\"><font color='#7D6E83'><b>🗨️ Comment: </b></font></h3>\n",
    "    \n",
    "* Id veya tarih değişkenlerinide sayısal olarak alabileceğinden bunları da ayırt etmemiz gerekir."
   ]
  },
  {
   "cell_type": "code",
   "execution_count": 17,
   "id": "a0d2d32b",
   "metadata": {
    "execution": {
     "iopub.execute_input": "2023-11-13T12:55:13.802679Z",
     "iopub.status.busy": "2023-11-13T12:55:13.802068Z",
     "iopub.status.idle": "2023-11-13T12:55:13.813369Z",
     "shell.execute_reply": "2023-11-13T12:55:13.811888Z"
    },
    "papermill": {
     "duration": 0.056499,
     "end_time": "2023-11-13T12:55:13.815423",
     "exception": false,
     "start_time": "2023-11-13T12:55:13.758924",
     "status": "completed"
    },
    "tags": []
   },
   "outputs": [
    {
     "name": "stdout",
     "output_type": "stream",
     "text": [
      "Age False\n",
      "Fare True\n"
     ]
    }
   ],
   "source": [
    "for col in num_cols:\n",
    "    \n",
    "    print(col, check_outlier(titanic, col))"
   ]
  },
  {
   "cell_type": "markdown",
   "id": "de607ade",
   "metadata": {
    "papermill": {
     "duration": 0.040237,
     "end_time": "2023-11-13T12:55:13.897231",
     "exception": false,
     "start_time": "2023-11-13T12:55:13.856994",
     "status": "completed"
    },
    "tags": []
   },
   "source": [
    "-----"
   ]
  },
  {
   "cell_type": "code",
   "execution_count": 18,
   "id": "65ccbfeb",
   "metadata": {
    "execution": {
     "iopub.execute_input": "2023-11-13T12:55:13.980756Z",
     "iopub.status.busy": "2023-11-13T12:55:13.980437Z",
     "iopub.status.idle": "2023-11-13T12:55:13.987325Z",
     "shell.execute_reply": "2023-11-13T12:55:13.985802Z"
    },
    "papermill": {
     "duration": 0.051521,
     "end_time": "2023-11-13T12:55:13.989818",
     "exception": false,
     "start_time": "2023-11-13T12:55:13.938297",
     "status": "completed"
    },
    "tags": []
   },
   "outputs": [],
   "source": [
    "def outliner_detecter(df,cols):\n",
    "    temp = pd.DataFrame()\n",
    "    for col in cols:\n",
    "        q1 = df[col].quantile(0.01)\n",
    "        q3 = df[col].quantile(0.99)\n",
    "        IQR = q3 - q1\n",
    "        up = q3 + 1.5 * IQR\n",
    "        low = q1 - 1.5 * IQR\n",
    "        temp.loc[col, \"Min\"] = df[col].min()\n",
    "        temp.loc[col, \"Low_Limit\"] = low\n",
    "        temp.loc[col,\"Up_Limit\"] = up\n",
    "        temp.loc[col, \"Max\"] = df[col].max()\n",
    "    return print(temp.astype(int).to_markdown())"
   ]
  },
  {
   "cell_type": "code",
   "execution_count": 19,
   "id": "3ae1a90e",
   "metadata": {
    "execution": {
     "iopub.execute_input": "2023-11-13T12:55:14.071424Z",
     "iopub.status.busy": "2023-11-13T12:55:14.071128Z",
     "iopub.status.idle": "2023-11-13T12:55:14.103391Z",
     "shell.execute_reply": "2023-11-13T12:55:14.102716Z"
    },
    "papermill": {
     "duration": 0.074261,
     "end_time": "2023-11-13T12:55:14.104916",
     "exception": false,
     "start_time": "2023-11-13T12:55:14.030655",
     "status": "completed"
    },
    "tags": []
   },
   "outputs": [
    {
     "name": "stdout",
     "output_type": "stream",
     "text": [
      "|      |   Min |   Low_Limit |   Up_Limit |   Max |\n",
      "|:-----|------:|------------:|-----------:|------:|\n",
      "| Age  |     0 |         -96 |        163 |    80 |\n",
      "| Fare |     0 |        -373 |        622 |   512 |\n"
     ]
    }
   ],
   "source": [
    "outliner_detecter(titanic,num_cols )"
   ]
  },
  {
   "cell_type": "markdown",
   "id": "612ff46e",
   "metadata": {
    "papermill": {
     "duration": 0.042007,
     "end_time": "2023-11-13T12:55:14.187626",
     "exception": false,
     "start_time": "2023-11-13T12:55:14.145619",
     "status": "completed"
    },
    "tags": []
   },
   "source": [
    "<div style=\"border-radius:10px; border:#D0C2F0 solid; padding: 15px; background-color: #F8E8EE; font-size:100%; text-align:left\">\n",
    "\n",
    "<h3 align=\"left\"><font color='#5E5273'>📄 Notes: </font></h3>\n",
    "    \n",
    "* **outlier_thresholds** : Bu fonksiyon ile alt ve üst limitleri görüntüleyebiliriz.\n",
    "* **check_outlier** : Bu fonksiyon ile bir değişkende outlier olup olmadığı kontrol edilebilir.\n",
    "* **grab_col_names** : Bu fonksiyon da sayısal, kategorik, sayısal görünümlü kategorik veya bir anlam ifade etmeyen kategorik değişkenleri tespit edebiliriz. Parametreler veri setine göre farklılık gösterebilir.\n",
    "* **outliner_detecter** : Bu fonksiyonda ise yine alt ve üst limitleri görüntülerken aynı zaman min ve max değerleri de görebiliriz. İstenirse medyan gibi değerlerde eklenebilir."
   ]
  },
  {
   "cell_type": "markdown",
   "id": "adb184e6",
   "metadata": {
    "papermill": {
     "duration": 0.038944,
     "end_time": "2023-11-13T12:55:14.267541",
     "exception": false,
     "start_time": "2023-11-13T12:55:14.228597",
     "status": "completed"
    },
    "tags": []
   },
   "source": [
    "<a id = \"3\"></a><br>\n",
    "<p style=\"font-family: 'Pacifico', cursive; font-weight: bold; letter-spacing: 2px; color: #556B2F; font-size: 160%; text-align: left; padding: 0px; border-bottom: 3px solid\">✨Aykırı Değerlere Erişmek✨</p>"
   ]
  },
  {
   "cell_type": "code",
   "execution_count": 20,
   "id": "cc74b3f7",
   "metadata": {
    "execution": {
     "iopub.execute_input": "2023-11-13T12:55:14.354031Z",
     "iopub.status.busy": "2023-11-13T12:55:14.353667Z",
     "iopub.status.idle": "2023-11-13T12:55:14.359917Z",
     "shell.execute_reply": "2023-11-13T12:55:14.358759Z"
    },
    "papermill": {
     "duration": 0.052603,
     "end_time": "2023-11-13T12:55:14.361853",
     "exception": false,
     "start_time": "2023-11-13T12:55:14.309250",
     "status": "completed"
    },
    "tags": []
   },
   "outputs": [],
   "source": [
    "def grab_outliers(dataframe, col_name, index=False):\n",
    "    \n",
    "    low, up = outlier_thresholds(dataframe, col_name)\n",
    "\n",
    "    if dataframe[((dataframe[col_name] < low) | (dataframe[col_name] > up))].shape[0] > 10:\n",
    "        print(dataframe[((dataframe[col_name] < low) | (dataframe[col_name] > up))].head())\n",
    "    else:\n",
    "        print(dataframe[((dataframe[col_name] < low) | (dataframe[col_name] > up))])\n",
    "\n",
    "    if index:\n",
    "        outlier_index = dataframe[((dataframe[col_name] < low) | (dataframe[col_name] > up))].index\n",
    "        \n",
    "        return outlier_index"
   ]
  },
  {
   "cell_type": "code",
   "execution_count": 21,
   "id": "cca03af0",
   "metadata": {
    "execution": {
     "iopub.execute_input": "2023-11-13T12:55:14.447603Z",
     "iopub.status.busy": "2023-11-13T12:55:14.446190Z",
     "iopub.status.idle": "2023-11-13T12:55:14.463543Z",
     "shell.execute_reply": "2023-11-13T12:55:14.461451Z"
    },
    "papermill": {
     "duration": 0.064135,
     "end_time": "2023-11-13T12:55:14.466414",
     "exception": false,
     "start_time": "2023-11-13T12:55:14.402279",
     "status": "completed"
    },
    "tags": []
   },
   "outputs": [
    {
     "name": "stdout",
     "output_type": "stream",
     "text": [
      "     PassengerId  Survived  Pclass                                Name  \\\n",
      "258          259         1       1                    Ward, Miss. Anna   \n",
      "679          680         1       1  Cardeza, Mr. Thomas Drake Martinez   \n",
      "737          738         1       1              Lesurer, Mr. Gustave J   \n",
      "\n",
      "        Sex   Age  SibSp  Parch    Ticket      Fare        Cabin Embarked  \n",
      "258  female  35.0      0      0  PC 17755  512.3292          NaN        C  \n",
      "679    male  36.0      0      1  PC 17755  512.3292  B51 B53 B55        C  \n",
      "737    male  35.0      0      0  PC 17755  512.3292         B101        C  \n"
     ]
    }
   ],
   "source": [
    "grab_outliers(titanic, \"Fare\")"
   ]
  },
  {
   "cell_type": "code",
   "execution_count": 22,
   "id": "f3d53a14",
   "metadata": {
    "execution": {
     "iopub.execute_input": "2023-11-13T12:55:14.562435Z",
     "iopub.status.busy": "2023-11-13T12:55:14.561559Z",
     "iopub.status.idle": "2023-11-13T12:55:14.573763Z",
     "shell.execute_reply": "2023-11-13T12:55:14.572659Z"
    },
    "papermill": {
     "duration": 0.059368,
     "end_time": "2023-11-13T12:55:14.576201",
     "exception": false,
     "start_time": "2023-11-13T12:55:14.516833",
     "status": "completed"
    },
    "tags": []
   },
   "outputs": [
    {
     "name": "stdout",
     "output_type": "stream",
     "text": [
      "     PassengerId  Survived  Pclass                                Name  \\\n",
      "258          259         1       1                    Ward, Miss. Anna   \n",
      "679          680         1       1  Cardeza, Mr. Thomas Drake Martinez   \n",
      "737          738         1       1              Lesurer, Mr. Gustave J   \n",
      "\n",
      "        Sex   Age  SibSp  Parch    Ticket      Fare        Cabin Embarked  \n",
      "258  female  35.0      0      0  PC 17755  512.3292          NaN        C  \n",
      "679    male  36.0      0      1  PC 17755  512.3292  B51 B53 B55        C  \n",
      "737    male  35.0      0      0  PC 17755  512.3292         B101        C  \n"
     ]
    }
   ],
   "source": [
    "age_indexes = grab_outliers(titanic, \"Fare\", True)"
   ]
  },
  {
   "cell_type": "code",
   "execution_count": 23,
   "id": "c7ef1f64",
   "metadata": {
    "execution": {
     "iopub.execute_input": "2023-11-13T12:55:14.667944Z",
     "iopub.status.busy": "2023-11-13T12:55:14.666996Z",
     "iopub.status.idle": "2023-11-13T12:55:14.673725Z",
     "shell.execute_reply": "2023-11-13T12:55:14.672842Z"
    },
    "papermill": {
     "duration": 0.053073,
     "end_time": "2023-11-13T12:55:14.675696",
     "exception": false,
     "start_time": "2023-11-13T12:55:14.622623",
     "status": "completed"
    },
    "tags": []
   },
   "outputs": [
    {
     "data": {
      "text/plain": [
       "Index([258, 679, 737], dtype='int64')"
      ]
     },
     "execution_count": 23,
     "metadata": {},
     "output_type": "execute_result"
    }
   ],
   "source": [
    "age_indexes"
   ]
  },
  {
   "cell_type": "markdown",
   "id": "7f9bfcee",
   "metadata": {
    "papermill": {
     "duration": 0.041201,
     "end_time": "2023-11-13T12:55:14.761055",
     "exception": false,
     "start_time": "2023-11-13T12:55:14.719854",
     "status": "completed"
    },
    "tags": []
   },
   "source": [
    "<div style=\"border-radius:10px; border:#65647C solid; padding: 15px; background-color: #F8EDE3; font-size:100%; text-align:left\">\n",
    "\n",
    "<h3 align=\"left\"><font color='#7D6E83'><b>🗨️ Comment: </b></font></h3>\n",
    "    \n",
    "* Eğer 10'dan daha fazla Outlier tespit ederse ilk 5 satırı yazdırıyoruz.\n",
    "* İndeks bilgilerine erişmek istersek \"index=False\" parametresini **True** yapabiliriz."
   ]
  },
  {
   "cell_type": "markdown",
   "id": "98c1ecc9",
   "metadata": {
    "papermill": {
     "duration": 0.041066,
     "end_time": "2023-11-13T12:55:14.847882",
     "exception": false,
     "start_time": "2023-11-13T12:55:14.806816",
     "status": "completed"
    },
    "tags": []
   },
   "source": [
    "<a id = \"4\"></a><br>\n",
    "<p style=\"font-family: 'Pacifico', cursive; font-weight: bold; letter-spacing: 2px; color: #556B2F; font-size: 160%; text-align: left; padding: 0px; border-bottom: 3px solid\">✨Aykırı Değerleri Silmek✨</p>"
   ]
  },
  {
   "cell_type": "code",
   "execution_count": 24,
   "id": "130845dc",
   "metadata": {
    "execution": {
     "iopub.execute_input": "2023-11-13T12:55:14.931686Z",
     "iopub.status.busy": "2023-11-13T12:55:14.930963Z",
     "iopub.status.idle": "2023-11-13T12:55:14.936315Z",
     "shell.execute_reply": "2023-11-13T12:55:14.935650Z"
    },
    "papermill": {
     "duration": 0.04841,
     "end_time": "2023-11-13T12:55:14.937893",
     "exception": false,
     "start_time": "2023-11-13T12:55:14.889483",
     "status": "completed"
    },
    "tags": []
   },
   "outputs": [
    {
     "data": {
      "text/plain": [
       "(891, 12)"
      ]
     },
     "execution_count": 24,
     "metadata": {},
     "output_type": "execute_result"
    }
   ],
   "source": [
    "titanic.shape"
   ]
  },
  {
   "cell_type": "markdown",
   "id": "472bbc0b",
   "metadata": {
    "papermill": {
     "duration": 0.040227,
     "end_time": "2023-11-13T12:55:15.018238",
     "exception": false,
     "start_time": "2023-11-13T12:55:14.978011",
     "status": "completed"
    },
    "tags": []
   },
   "source": [
    "-----"
   ]
  },
  {
   "cell_type": "code",
   "execution_count": 25,
   "id": "eee880d0",
   "metadata": {
    "execution": {
     "iopub.execute_input": "2023-11-13T12:55:15.101795Z",
     "iopub.status.busy": "2023-11-13T12:55:15.101099Z",
     "iopub.status.idle": "2023-11-13T12:55:15.105634Z",
     "shell.execute_reply": "2023-11-13T12:55:15.104996Z"
    },
    "papermill": {
     "duration": 0.048543,
     "end_time": "2023-11-13T12:55:15.107304",
     "exception": false,
     "start_time": "2023-11-13T12:55:15.058761",
     "status": "completed"
    },
    "tags": []
   },
   "outputs": [],
   "source": [
    "def remove_outlier(dataframe, col_name):\n",
    "    \n",
    "    low_limit, up_limit = outlier_thresholds(dataframe, col_name)\n",
    "    df_without_outliers = dataframe[~((dataframe[col_name] < low_limit) | (dataframe[col_name] > up_limit))]\n",
    "    \n",
    "    return df_without_outliers"
   ]
  },
  {
   "cell_type": "code",
   "execution_count": 26,
   "id": "e71760ce",
   "metadata": {
    "execution": {
     "iopub.execute_input": "2023-11-13T12:55:15.190811Z",
     "iopub.status.busy": "2023-11-13T12:55:15.190129Z",
     "iopub.status.idle": "2023-11-13T12:55:15.198811Z",
     "shell.execute_reply": "2023-11-13T12:55:15.198083Z"
    },
    "papermill": {
     "duration": 0.053643,
     "end_time": "2023-11-13T12:55:15.200997",
     "exception": false,
     "start_time": "2023-11-13T12:55:15.147354",
     "status": "completed"
    },
    "tags": []
   },
   "outputs": [],
   "source": [
    "for col in num_cols:\n",
    "    \n",
    "    new_df = remove_outlier(titanic, col)"
   ]
  },
  {
   "cell_type": "markdown",
   "id": "ed043d83",
   "metadata": {
    "papermill": {
     "duration": 0.041514,
     "end_time": "2023-11-13T12:55:15.284389",
     "exception": false,
     "start_time": "2023-11-13T12:55:15.242875",
     "status": "completed"
    },
    "tags": []
   },
   "source": [
    "-----"
   ]
  },
  {
   "cell_type": "code",
   "execution_count": 27,
   "id": "45d4d3bc",
   "metadata": {
    "execution": {
     "iopub.execute_input": "2023-11-13T12:55:15.370861Z",
     "iopub.status.busy": "2023-11-13T12:55:15.370242Z",
     "iopub.status.idle": "2023-11-13T12:55:15.375956Z",
     "shell.execute_reply": "2023-11-13T12:55:15.375098Z"
    },
    "papermill": {
     "duration": 0.050422,
     "end_time": "2023-11-13T12:55:15.378249",
     "exception": false,
     "start_time": "2023-11-13T12:55:15.327827",
     "status": "completed"
    },
    "tags": []
   },
   "outputs": [
    {
     "data": {
      "text/plain": [
       "3"
      ]
     },
     "execution_count": 27,
     "metadata": {},
     "output_type": "execute_result"
    }
   ],
   "source": [
    "titanic.shape[0] - new_df.shape[0]"
   ]
  },
  {
   "cell_type": "code",
   "execution_count": 28,
   "id": "d65b4916",
   "metadata": {
    "execution": {
     "iopub.execute_input": "2023-11-13T12:55:15.461845Z",
     "iopub.status.busy": "2023-11-13T12:55:15.461463Z",
     "iopub.status.idle": "2023-11-13T12:55:15.487830Z",
     "shell.execute_reply": "2023-11-13T12:55:15.487087Z"
    },
    "papermill": {
     "duration": 0.069322,
     "end_time": "2023-11-13T12:55:15.489396",
     "exception": false,
     "start_time": "2023-11-13T12:55:15.420074",
     "status": "completed"
    },
    "tags": []
   },
   "outputs": [
    {
     "data": {
      "text/html": [
       "<div>\n",
       "<style scoped>\n",
       "    .dataframe tbody tr th:only-of-type {\n",
       "        vertical-align: middle;\n",
       "    }\n",
       "\n",
       "    .dataframe tbody tr th {\n",
       "        vertical-align: top;\n",
       "    }\n",
       "\n",
       "    .dataframe thead th {\n",
       "        text-align: right;\n",
       "    }\n",
       "</style>\n",
       "<table border=\"1\" class=\"dataframe\">\n",
       "  <thead>\n",
       "    <tr style=\"text-align: right;\">\n",
       "      <th></th>\n",
       "      <th>count</th>\n",
       "      <th>mean</th>\n",
       "      <th>std</th>\n",
       "      <th>min</th>\n",
       "      <th>1%</th>\n",
       "      <th>50%</th>\n",
       "      <th>99%</th>\n",
       "      <th>max</th>\n",
       "    </tr>\n",
       "  </thead>\n",
       "  <tbody>\n",
       "    <tr>\n",
       "      <th>PassengerId</th>\n",
       "      <td>891.0</td>\n",
       "      <td>446.000000</td>\n",
       "      <td>257.353842</td>\n",
       "      <td>1.00</td>\n",
       "      <td>9.9</td>\n",
       "      <td>446.0000</td>\n",
       "      <td>882.10000</td>\n",
       "      <td>891.0000</td>\n",
       "    </tr>\n",
       "    <tr>\n",
       "      <th>Survived</th>\n",
       "      <td>891.0</td>\n",
       "      <td>0.383838</td>\n",
       "      <td>0.486592</td>\n",
       "      <td>0.00</td>\n",
       "      <td>0.0</td>\n",
       "      <td>0.0000</td>\n",
       "      <td>1.00000</td>\n",
       "      <td>1.0000</td>\n",
       "    </tr>\n",
       "    <tr>\n",
       "      <th>Pclass</th>\n",
       "      <td>891.0</td>\n",
       "      <td>2.308642</td>\n",
       "      <td>0.836071</td>\n",
       "      <td>1.00</td>\n",
       "      <td>1.0</td>\n",
       "      <td>3.0000</td>\n",
       "      <td>3.00000</td>\n",
       "      <td>3.0000</td>\n",
       "    </tr>\n",
       "    <tr>\n",
       "      <th>Age</th>\n",
       "      <td>714.0</td>\n",
       "      <td>29.699118</td>\n",
       "      <td>14.526497</td>\n",
       "      <td>0.42</td>\n",
       "      <td>1.0</td>\n",
       "      <td>28.0000</td>\n",
       "      <td>65.87000</td>\n",
       "      <td>80.0000</td>\n",
       "    </tr>\n",
       "    <tr>\n",
       "      <th>SibSp</th>\n",
       "      <td>891.0</td>\n",
       "      <td>0.523008</td>\n",
       "      <td>1.102743</td>\n",
       "      <td>0.00</td>\n",
       "      <td>0.0</td>\n",
       "      <td>0.0000</td>\n",
       "      <td>5.00000</td>\n",
       "      <td>8.0000</td>\n",
       "    </tr>\n",
       "    <tr>\n",
       "      <th>Parch</th>\n",
       "      <td>891.0</td>\n",
       "      <td>0.381594</td>\n",
       "      <td>0.806057</td>\n",
       "      <td>0.00</td>\n",
       "      <td>0.0</td>\n",
       "      <td>0.0000</td>\n",
       "      <td>4.00000</td>\n",
       "      <td>6.0000</td>\n",
       "    </tr>\n",
       "    <tr>\n",
       "      <th>Fare</th>\n",
       "      <td>891.0</td>\n",
       "      <td>32.204208</td>\n",
       "      <td>49.693429</td>\n",
       "      <td>0.00</td>\n",
       "      <td>0.0</td>\n",
       "      <td>14.4542</td>\n",
       "      <td>249.00622</td>\n",
       "      <td>512.3292</td>\n",
       "    </tr>\n",
       "  </tbody>\n",
       "</table>\n",
       "</div>"
      ],
      "text/plain": [
       "             count        mean         std   min   1%       50%        99%  \\\n",
       "PassengerId  891.0  446.000000  257.353842  1.00  9.9  446.0000  882.10000   \n",
       "Survived     891.0    0.383838    0.486592  0.00  0.0    0.0000    1.00000   \n",
       "Pclass       891.0    2.308642    0.836071  1.00  1.0    3.0000    3.00000   \n",
       "Age          714.0   29.699118   14.526497  0.42  1.0   28.0000   65.87000   \n",
       "SibSp        891.0    0.523008    1.102743  0.00  0.0    0.0000    5.00000   \n",
       "Parch        891.0    0.381594    0.806057  0.00  0.0    0.0000    4.00000   \n",
       "Fare         891.0   32.204208   49.693429  0.00  0.0   14.4542  249.00622   \n",
       "\n",
       "                  max  \n",
       "PassengerId  891.0000  \n",
       "Survived       1.0000  \n",
       "Pclass         3.0000  \n",
       "Age           80.0000  \n",
       "SibSp          8.0000  \n",
       "Parch          6.0000  \n",
       "Fare         512.3292  "
      ]
     },
     "execution_count": 28,
     "metadata": {},
     "output_type": "execute_result"
    }
   ],
   "source": [
    "titanic.describe([0.01,0.99]).T"
   ]
  },
  {
   "cell_type": "markdown",
   "id": "af8f04e0",
   "metadata": {
    "papermill": {
     "duration": 0.041905,
     "end_time": "2023-11-13T12:55:15.571788",
     "exception": false,
     "start_time": "2023-11-13T12:55:15.529883",
     "status": "completed"
    },
    "tags": []
   },
   "source": [
    "<div style=\"border-radius:10px; border:#65647C solid; padding: 15px; background-color: #F8EDE3; font-size:100%; text-align:left\">\n",
    "\n",
    "<h3 align=\"left\"><font color='#7D6E83'><b>🗨️ Comment: </b></font></h3>\n",
    "    \n",
    "* Bir hücredeki aykırı değerleri sildiğimizde diğer değişkenlerdeki olan verileri de gitmektedir. Bu yüzden bazen silmek yerine baskılama işlemine gidilmesi daha uygun olacaktır."
   ]
  },
  {
   "cell_type": "markdown",
   "id": "110f58c5",
   "metadata": {
    "papermill": {
     "duration": 0.040627,
     "end_time": "2023-11-13T12:55:15.652991",
     "exception": false,
     "start_time": "2023-11-13T12:55:15.612364",
     "status": "completed"
    },
    "tags": []
   },
   "source": [
    "<a id = \"5\"></a><br>\n",
    "<p style=\"font-family: 'Pacifico', cursive; font-weight: bold; letter-spacing: 2px; color: #556B2F; font-size: 160%; text-align: left; padding: 0px; border-bottom: 3px solid\">✨Aykırı Değerleri Baskılama✨</p>"
   ]
  },
  {
   "cell_type": "code",
   "execution_count": 29,
   "id": "251b5a31",
   "metadata": {
    "execution": {
     "iopub.execute_input": "2023-11-13T12:55:15.734812Z",
     "iopub.status.busy": "2023-11-13T12:55:15.734187Z",
     "iopub.status.idle": "2023-11-13T12:55:15.737931Z",
     "shell.execute_reply": "2023-11-13T12:55:15.737316Z"
    },
    "papermill": {
     "duration": 0.045876,
     "end_time": "2023-11-13T12:55:15.739437",
     "exception": false,
     "start_time": "2023-11-13T12:55:15.693561",
     "status": "completed"
    },
    "tags": []
   },
   "outputs": [],
   "source": [
    "titanic = titanic_.copy()"
   ]
  },
  {
   "cell_type": "code",
   "execution_count": 30,
   "id": "17ed167e",
   "metadata": {
    "execution": {
     "iopub.execute_input": "2023-11-13T12:55:15.825294Z",
     "iopub.status.busy": "2023-11-13T12:55:15.824656Z",
     "iopub.status.idle": "2023-11-13T12:55:15.829564Z",
     "shell.execute_reply": "2023-11-13T12:55:15.828956Z"
    },
    "papermill": {
     "duration": 0.049571,
     "end_time": "2023-11-13T12:55:15.831603",
     "exception": false,
     "start_time": "2023-11-13T12:55:15.782032",
     "status": "completed"
    },
    "tags": []
   },
   "outputs": [
    {
     "data": {
      "text/plain": [
       "(891, 12)"
      ]
     },
     "execution_count": 30,
     "metadata": {},
     "output_type": "execute_result"
    }
   ],
   "source": [
    "titanic.shape"
   ]
  },
  {
   "cell_type": "code",
   "execution_count": 31,
   "id": "f15f5c56",
   "metadata": {
    "execution": {
     "iopub.execute_input": "2023-11-13T12:55:15.914223Z",
     "iopub.status.busy": "2023-11-13T12:55:15.913906Z",
     "iopub.status.idle": "2023-11-13T12:55:15.924923Z",
     "shell.execute_reply": "2023-11-13T12:55:15.924021Z"
    },
    "papermill": {
     "duration": 0.053997,
     "end_time": "2023-11-13T12:55:15.926463",
     "exception": false,
     "start_time": "2023-11-13T12:55:15.872466",
     "status": "completed"
    },
    "tags": []
   },
   "outputs": [
    {
     "name": "stdout",
     "output_type": "stream",
     "text": [
      "Age False\n",
      "Fare True\n"
     ]
    }
   ],
   "source": [
    "for col in num_cols:\n",
    "    \n",
    "    print(col, check_outlier(titanic, col))"
   ]
  },
  {
   "cell_type": "code",
   "execution_count": 32,
   "id": "b098e52b",
   "metadata": {
    "execution": {
     "iopub.execute_input": "2023-11-13T12:55:16.009325Z",
     "iopub.status.busy": "2023-11-13T12:55:16.008689Z",
     "iopub.status.idle": "2023-11-13T12:55:16.032419Z",
     "shell.execute_reply": "2023-11-13T12:55:16.031783Z"
    },
    "papermill": {
     "duration": 0.067046,
     "end_time": "2023-11-13T12:55:16.034038",
     "exception": false,
     "start_time": "2023-11-13T12:55:15.966992",
     "status": "completed"
    },
    "tags": []
   },
   "outputs": [
    {
     "data": {
      "text/html": [
       "<div>\n",
       "<style scoped>\n",
       "    .dataframe tbody tr th:only-of-type {\n",
       "        vertical-align: middle;\n",
       "    }\n",
       "\n",
       "    .dataframe tbody tr th {\n",
       "        vertical-align: top;\n",
       "    }\n",
       "\n",
       "    .dataframe thead th {\n",
       "        text-align: right;\n",
       "    }\n",
       "</style>\n",
       "<table border=\"1\" class=\"dataframe\">\n",
       "  <thead>\n",
       "    <tr style=\"text-align: right;\">\n",
       "      <th></th>\n",
       "      <th>count</th>\n",
       "      <th>mean</th>\n",
       "      <th>std</th>\n",
       "      <th>min</th>\n",
       "      <th>1%</th>\n",
       "      <th>50%</th>\n",
       "      <th>99%</th>\n",
       "      <th>max</th>\n",
       "    </tr>\n",
       "  </thead>\n",
       "  <tbody>\n",
       "    <tr>\n",
       "      <th>PassengerId</th>\n",
       "      <td>891.0</td>\n",
       "      <td>446.000000</td>\n",
       "      <td>257.353842</td>\n",
       "      <td>1.00</td>\n",
       "      <td>9.9</td>\n",
       "      <td>446.0000</td>\n",
       "      <td>882.10000</td>\n",
       "      <td>891.0000</td>\n",
       "    </tr>\n",
       "    <tr>\n",
       "      <th>Survived</th>\n",
       "      <td>891.0</td>\n",
       "      <td>0.383838</td>\n",
       "      <td>0.486592</td>\n",
       "      <td>0.00</td>\n",
       "      <td>0.0</td>\n",
       "      <td>0.0000</td>\n",
       "      <td>1.00000</td>\n",
       "      <td>1.0000</td>\n",
       "    </tr>\n",
       "    <tr>\n",
       "      <th>Pclass</th>\n",
       "      <td>891.0</td>\n",
       "      <td>2.308642</td>\n",
       "      <td>0.836071</td>\n",
       "      <td>1.00</td>\n",
       "      <td>1.0</td>\n",
       "      <td>3.0000</td>\n",
       "      <td>3.00000</td>\n",
       "      <td>3.0000</td>\n",
       "    </tr>\n",
       "    <tr>\n",
       "      <th>Age</th>\n",
       "      <td>714.0</td>\n",
       "      <td>29.699118</td>\n",
       "      <td>14.526497</td>\n",
       "      <td>0.42</td>\n",
       "      <td>1.0</td>\n",
       "      <td>28.0000</td>\n",
       "      <td>65.87000</td>\n",
       "      <td>80.0000</td>\n",
       "    </tr>\n",
       "    <tr>\n",
       "      <th>SibSp</th>\n",
       "      <td>891.0</td>\n",
       "      <td>0.523008</td>\n",
       "      <td>1.102743</td>\n",
       "      <td>0.00</td>\n",
       "      <td>0.0</td>\n",
       "      <td>0.0000</td>\n",
       "      <td>5.00000</td>\n",
       "      <td>8.0000</td>\n",
       "    </tr>\n",
       "    <tr>\n",
       "      <th>Parch</th>\n",
       "      <td>891.0</td>\n",
       "      <td>0.381594</td>\n",
       "      <td>0.806057</td>\n",
       "      <td>0.00</td>\n",
       "      <td>0.0</td>\n",
       "      <td>0.0000</td>\n",
       "      <td>4.00000</td>\n",
       "      <td>6.0000</td>\n",
       "    </tr>\n",
       "    <tr>\n",
       "      <th>Fare</th>\n",
       "      <td>891.0</td>\n",
       "      <td>32.204208</td>\n",
       "      <td>49.693429</td>\n",
       "      <td>0.00</td>\n",
       "      <td>0.0</td>\n",
       "      <td>14.4542</td>\n",
       "      <td>249.00622</td>\n",
       "      <td>512.3292</td>\n",
       "    </tr>\n",
       "  </tbody>\n",
       "</table>\n",
       "</div>"
      ],
      "text/plain": [
       "             count        mean         std   min   1%       50%        99%  \\\n",
       "PassengerId  891.0  446.000000  257.353842  1.00  9.9  446.0000  882.10000   \n",
       "Survived     891.0    0.383838    0.486592  0.00  0.0    0.0000    1.00000   \n",
       "Pclass       891.0    2.308642    0.836071  1.00  1.0    3.0000    3.00000   \n",
       "Age          714.0   29.699118   14.526497  0.42  1.0   28.0000   65.87000   \n",
       "SibSp        891.0    0.523008    1.102743  0.00  0.0    0.0000    5.00000   \n",
       "Parch        891.0    0.381594    0.806057  0.00  0.0    0.0000    4.00000   \n",
       "Fare         891.0   32.204208   49.693429  0.00  0.0   14.4542  249.00622   \n",
       "\n",
       "                  max  \n",
       "PassengerId  891.0000  \n",
       "Survived       1.0000  \n",
       "Pclass         3.0000  \n",
       "Age           80.0000  \n",
       "SibSp          8.0000  \n",
       "Parch          6.0000  \n",
       "Fare         512.3292  "
      ]
     },
     "execution_count": 32,
     "metadata": {},
     "output_type": "execute_result"
    }
   ],
   "source": [
    "titanic.describe([0.01,0.99]).T"
   ]
  },
  {
   "cell_type": "code",
   "execution_count": 33,
   "id": "36bef7ac",
   "metadata": {
    "execution": {
     "iopub.execute_input": "2023-11-13T12:55:16.116799Z",
     "iopub.status.busy": "2023-11-13T12:55:16.116199Z",
     "iopub.status.idle": "2023-11-13T12:55:16.120889Z",
     "shell.execute_reply": "2023-11-13T12:55:16.120192Z"
    },
    "papermill": {
     "duration": 0.047925,
     "end_time": "2023-11-13T12:55:16.122511",
     "exception": false,
     "start_time": "2023-11-13T12:55:16.074586",
     "status": "completed"
    },
    "tags": []
   },
   "outputs": [],
   "source": [
    "def corr_skew_outliner(df, cols):\n",
    "\n",
    "    for col in cols:\n",
    "        \n",
    "        Q1 = df[col].quantile(0.05)\n",
    "        Q3 = df[col].quantile(0.95)\n",
    "        df.loc[df[col] < Q1, col] = Q1\n",
    "        df.loc[df[col] > Q3, col] = Q3\n",
    "        df[col] = np.sqrt(df[col])\n",
    "        \n",
    "    return df"
   ]
  },
  {
   "cell_type": "code",
   "execution_count": 34,
   "id": "8f04d32f",
   "metadata": {
    "execution": {
     "iopub.execute_input": "2023-11-13T12:55:16.204300Z",
     "iopub.status.busy": "2023-11-13T12:55:16.203942Z",
     "iopub.status.idle": "2023-11-13T12:55:16.223599Z",
     "shell.execute_reply": "2023-11-13T12:55:16.222916Z"
    },
    "papermill": {
     "duration": 0.063226,
     "end_time": "2023-11-13T12:55:16.225813",
     "exception": false,
     "start_time": "2023-11-13T12:55:16.162587",
     "status": "completed"
    },
    "tags": []
   },
   "outputs": [
    {
     "data": {
      "text/html": [
       "<div>\n",
       "<style scoped>\n",
       "    .dataframe tbody tr th:only-of-type {\n",
       "        vertical-align: middle;\n",
       "    }\n",
       "\n",
       "    .dataframe tbody tr th {\n",
       "        vertical-align: top;\n",
       "    }\n",
       "\n",
       "    .dataframe thead th {\n",
       "        text-align: right;\n",
       "    }\n",
       "</style>\n",
       "<table border=\"1\" class=\"dataframe\">\n",
       "  <thead>\n",
       "    <tr style=\"text-align: right;\">\n",
       "      <th></th>\n",
       "      <th>PassengerId</th>\n",
       "      <th>Survived</th>\n",
       "      <th>Pclass</th>\n",
       "      <th>Name</th>\n",
       "      <th>Sex</th>\n",
       "      <th>Age</th>\n",
       "      <th>SibSp</th>\n",
       "      <th>Parch</th>\n",
       "      <th>Ticket</th>\n",
       "      <th>Fare</th>\n",
       "      <th>Cabin</th>\n",
       "      <th>Embarked</th>\n",
       "    </tr>\n",
       "  </thead>\n",
       "  <tbody>\n",
       "    <tr>\n",
       "      <th>0</th>\n",
       "      <td>1</td>\n",
       "      <td>0</td>\n",
       "      <td>3</td>\n",
       "      <td>Braund, Mr. Owen Harris</td>\n",
       "      <td>male</td>\n",
       "      <td>4.690416</td>\n",
       "      <td>1</td>\n",
       "      <td>0</td>\n",
       "      <td>A/5 21171</td>\n",
       "      <td>2.692582</td>\n",
       "      <td>NaN</td>\n",
       "      <td>S</td>\n",
       "    </tr>\n",
       "    <tr>\n",
       "      <th>1</th>\n",
       "      <td>2</td>\n",
       "      <td>1</td>\n",
       "      <td>1</td>\n",
       "      <td>Cumings, Mrs. John Bradley (Florence Briggs Th...</td>\n",
       "      <td>female</td>\n",
       "      <td>6.164414</td>\n",
       "      <td>1</td>\n",
       "      <td>0</td>\n",
       "      <td>PC 17599</td>\n",
       "      <td>8.442944</td>\n",
       "      <td>C85</td>\n",
       "      <td>C</td>\n",
       "    </tr>\n",
       "    <tr>\n",
       "      <th>2</th>\n",
       "      <td>3</td>\n",
       "      <td>1</td>\n",
       "      <td>3</td>\n",
       "      <td>Heikkinen, Miss. Laina</td>\n",
       "      <td>female</td>\n",
       "      <td>5.099020</td>\n",
       "      <td>0</td>\n",
       "      <td>0</td>\n",
       "      <td>STON/O2. 3101282</td>\n",
       "      <td>2.815138</td>\n",
       "      <td>NaN</td>\n",
       "      <td>S</td>\n",
       "    </tr>\n",
       "    <tr>\n",
       "      <th>3</th>\n",
       "      <td>4</td>\n",
       "      <td>1</td>\n",
       "      <td>1</td>\n",
       "      <td>Futrelle, Mrs. Jacques Heath (Lily May Peel)</td>\n",
       "      <td>female</td>\n",
       "      <td>5.916080</td>\n",
       "      <td>1</td>\n",
       "      <td>0</td>\n",
       "      <td>113803</td>\n",
       "      <td>7.286975</td>\n",
       "      <td>C123</td>\n",
       "      <td>S</td>\n",
       "    </tr>\n",
       "    <tr>\n",
       "      <th>4</th>\n",
       "      <td>5</td>\n",
       "      <td>0</td>\n",
       "      <td>3</td>\n",
       "      <td>Allen, Mr. William Henry</td>\n",
       "      <td>male</td>\n",
       "      <td>5.916080</td>\n",
       "      <td>0</td>\n",
       "      <td>0</td>\n",
       "      <td>373450</td>\n",
       "      <td>2.837252</td>\n",
       "      <td>NaN</td>\n",
       "      <td>S</td>\n",
       "    </tr>\n",
       "  </tbody>\n",
       "</table>\n",
       "</div>"
      ],
      "text/plain": [
       "   PassengerId  Survived  Pclass  \\\n",
       "0            1         0       3   \n",
       "1            2         1       1   \n",
       "2            3         1       3   \n",
       "3            4         1       1   \n",
       "4            5         0       3   \n",
       "\n",
       "                                                Name     Sex       Age  SibSp  \\\n",
       "0                            Braund, Mr. Owen Harris    male  4.690416      1   \n",
       "1  Cumings, Mrs. John Bradley (Florence Briggs Th...  female  6.164414      1   \n",
       "2                             Heikkinen, Miss. Laina  female  5.099020      0   \n",
       "3       Futrelle, Mrs. Jacques Heath (Lily May Peel)  female  5.916080      1   \n",
       "4                           Allen, Mr. William Henry    male  5.916080      0   \n",
       "\n",
       "   Parch            Ticket      Fare Cabin Embarked  \n",
       "0      0         A/5 21171  2.692582   NaN        S  \n",
       "1      0          PC 17599  8.442944   C85        C  \n",
       "2      0  STON/O2. 3101282  2.815138   NaN        S  \n",
       "3      0            113803  7.286975  C123        S  \n",
       "4      0            373450  2.837252   NaN        S  "
      ]
     },
     "execution_count": 34,
     "metadata": {},
     "output_type": "execute_result"
    }
   ],
   "source": [
    "corr_skew_outliner(titanic, num_cols).head()"
   ]
  },
  {
   "cell_type": "code",
   "execution_count": 35,
   "id": "bd168e17",
   "metadata": {
    "execution": {
     "iopub.execute_input": "2023-11-13T12:55:16.310211Z",
     "iopub.status.busy": "2023-11-13T12:55:16.309215Z",
     "iopub.status.idle": "2023-11-13T12:55:16.336828Z",
     "shell.execute_reply": "2023-11-13T12:55:16.335710Z"
    },
    "papermill": {
     "duration": 0.071113,
     "end_time": "2023-11-13T12:55:16.338609",
     "exception": false,
     "start_time": "2023-11-13T12:55:16.267496",
     "status": "completed"
    },
    "tags": []
   },
   "outputs": [
    {
     "data": {
      "text/html": [
       "<div>\n",
       "<style scoped>\n",
       "    .dataframe tbody tr th:only-of-type {\n",
       "        vertical-align: middle;\n",
       "    }\n",
       "\n",
       "    .dataframe tbody tr th {\n",
       "        vertical-align: top;\n",
       "    }\n",
       "\n",
       "    .dataframe thead th {\n",
       "        text-align: right;\n",
       "    }\n",
       "</style>\n",
       "<table border=\"1\" class=\"dataframe\">\n",
       "  <thead>\n",
       "    <tr style=\"text-align: right;\">\n",
       "      <th></th>\n",
       "      <th>count</th>\n",
       "      <th>mean</th>\n",
       "      <th>std</th>\n",
       "      <th>min</th>\n",
       "      <th>1%</th>\n",
       "      <th>50%</th>\n",
       "      <th>99%</th>\n",
       "      <th>max</th>\n",
       "    </tr>\n",
       "  </thead>\n",
       "  <tbody>\n",
       "    <tr>\n",
       "      <th>PassengerId</th>\n",
       "      <td>891.0</td>\n",
       "      <td>446.000000</td>\n",
       "      <td>257.353842</td>\n",
       "      <td>1.000000</td>\n",
       "      <td>9.900000</td>\n",
       "      <td>446.000000</td>\n",
       "      <td>882.100000</td>\n",
       "      <td>891.000000</td>\n",
       "    </tr>\n",
       "    <tr>\n",
       "      <th>Survived</th>\n",
       "      <td>891.0</td>\n",
       "      <td>0.383838</td>\n",
       "      <td>0.486592</td>\n",
       "      <td>0.000000</td>\n",
       "      <td>0.000000</td>\n",
       "      <td>0.000000</td>\n",
       "      <td>1.000000</td>\n",
       "      <td>1.000000</td>\n",
       "    </tr>\n",
       "    <tr>\n",
       "      <th>Pclass</th>\n",
       "      <td>891.0</td>\n",
       "      <td>2.308642</td>\n",
       "      <td>0.836071</td>\n",
       "      <td>1.000000</td>\n",
       "      <td>1.000000</td>\n",
       "      <td>3.000000</td>\n",
       "      <td>3.000000</td>\n",
       "      <td>3.000000</td>\n",
       "    </tr>\n",
       "    <tr>\n",
       "      <th>Age</th>\n",
       "      <td>714.0</td>\n",
       "      <td>5.252825</td>\n",
       "      <td>1.360475</td>\n",
       "      <td>2.000000</td>\n",
       "      <td>2.000000</td>\n",
       "      <td>5.291503</td>\n",
       "      <td>7.483315</td>\n",
       "      <td>7.483315</td>\n",
       "    </tr>\n",
       "    <tr>\n",
       "      <th>SibSp</th>\n",
       "      <td>891.0</td>\n",
       "      <td>0.523008</td>\n",
       "      <td>1.102743</td>\n",
       "      <td>0.000000</td>\n",
       "      <td>0.000000</td>\n",
       "      <td>0.000000</td>\n",
       "      <td>5.000000</td>\n",
       "      <td>8.000000</td>\n",
       "    </tr>\n",
       "    <tr>\n",
       "      <th>Parch</th>\n",
       "      <td>891.0</td>\n",
       "      <td>0.381594</td>\n",
       "      <td>0.806057</td>\n",
       "      <td>0.000000</td>\n",
       "      <td>0.000000</td>\n",
       "      <td>0.000000</td>\n",
       "      <td>4.000000</td>\n",
       "      <td>6.000000</td>\n",
       "    </tr>\n",
       "    <tr>\n",
       "      <th>Fare</th>\n",
       "      <td>891.0</td>\n",
       "      <td>4.734635</td>\n",
       "      <td>2.333863</td>\n",
       "      <td>2.687936</td>\n",
       "      <td>2.687936</td>\n",
       "      <td>3.801868</td>\n",
       "      <td>10.586744</td>\n",
       "      <td>10.586744</td>\n",
       "    </tr>\n",
       "  </tbody>\n",
       "</table>\n",
       "</div>"
      ],
      "text/plain": [
       "             count        mean         std       min        1%         50%  \\\n",
       "PassengerId  891.0  446.000000  257.353842  1.000000  9.900000  446.000000   \n",
       "Survived     891.0    0.383838    0.486592  0.000000  0.000000    0.000000   \n",
       "Pclass       891.0    2.308642    0.836071  1.000000  1.000000    3.000000   \n",
       "Age          714.0    5.252825    1.360475  2.000000  2.000000    5.291503   \n",
       "SibSp        891.0    0.523008    1.102743  0.000000  0.000000    0.000000   \n",
       "Parch        891.0    0.381594    0.806057  0.000000  0.000000    0.000000   \n",
       "Fare         891.0    4.734635    2.333863  2.687936  2.687936    3.801868   \n",
       "\n",
       "                    99%         max  \n",
       "PassengerId  882.100000  891.000000  \n",
       "Survived       1.000000    1.000000  \n",
       "Pclass         3.000000    3.000000  \n",
       "Age            7.483315    7.483315  \n",
       "SibSp          5.000000    8.000000  \n",
       "Parch          4.000000    6.000000  \n",
       "Fare          10.586744   10.586744  "
      ]
     },
     "execution_count": 35,
     "metadata": {},
     "output_type": "execute_result"
    }
   ],
   "source": [
    "titanic.describe([0.01,0.99]).T"
   ]
  },
  {
   "cell_type": "code",
   "execution_count": 36,
   "id": "47211f96",
   "metadata": {
    "execution": {
     "iopub.execute_input": "2023-11-13T12:55:16.425941Z",
     "iopub.status.busy": "2023-11-13T12:55:16.425412Z",
     "iopub.status.idle": "2023-11-13T12:55:16.432891Z",
     "shell.execute_reply": "2023-11-13T12:55:16.431650Z"
    },
    "papermill": {
     "duration": 0.052952,
     "end_time": "2023-11-13T12:55:16.434662",
     "exception": false,
     "start_time": "2023-11-13T12:55:16.381710",
     "status": "completed"
    },
    "tags": []
   },
   "outputs": [
    {
     "data": {
      "text/plain": [
       "(891, 12)"
      ]
     },
     "execution_count": 36,
     "metadata": {},
     "output_type": "execute_result"
    }
   ],
   "source": [
    "titanic.shape"
   ]
  },
  {
   "cell_type": "markdown",
   "id": "05d1387f",
   "metadata": {
    "papermill": {
     "duration": 0.041185,
     "end_time": "2023-11-13T12:55:16.558333",
     "exception": false,
     "start_time": "2023-11-13T12:55:16.517148",
     "status": "completed"
    },
    "tags": []
   },
   "source": [
    "<div style=\"border-radius:10px; border:#65647C solid; padding: 15px; background-color: #F8EDE3; font-size:100%; text-align:left\">\n",
    "\n",
    "<h3 align=\"left\"><font color='#7D6E83'><b>🗨️ Comment: </b></font></h3>\n",
    "    \n",
    "* Görüldüğü üzere bu sefer veri kaybetmek yerine baskılama yöntemiyle bütün verileri tutmuş olduk. Lakin silme veya baskılama yöntemleri veri setine göre farklılık göstermektedir. Tamamen yoruma dayalı bir tercih sürecidir."
   ]
  },
  {
   "cell_type": "markdown",
   "id": "b7ee6724",
   "metadata": {
    "papermill": {
     "duration": 0.041071,
     "end_time": "2023-11-13T12:55:16.640720",
     "exception": false,
     "start_time": "2023-11-13T12:55:16.599649",
     "status": "completed"
    },
    "tags": []
   },
   "source": [
    "<a id = \"6\"></a><br>\n",
    "<p style=\"font-family: 'Pacifico', cursive; font-weight: bold; letter-spacing: 2px; color: #556B2F; font-size: 160%; text-align: left; padding: 0px; border-bottom: 3px solid\">✨Çok Değişkenli Aykırı Değer Analizi (Local Outlier Factor)✨</p>"
   ]
  },
  {
   "cell_type": "markdown",
   "id": "60a80205",
   "metadata": {
    "papermill": {
     "duration": 0.040274,
     "end_time": "2023-11-13T12:55:16.722182",
     "exception": false,
     "start_time": "2023-11-13T12:55:16.681908",
     "status": "completed"
    },
    "tags": []
   },
   "source": [
    "Yerel Aykırı Değer Faktörü, bir dağılımdaki veri noktalarının komşularının yoğunluğuna göre aykırı değerlerini veya sapmasını tespit eder. Bir veri kümesindeki, veri kümesinin başka bir bölgesindeki aykırı değerler olmayan yerel aykırı değerleri tanımlar.\n",
    "\n",
    "Örneğin, bir veri kümesindeki çok yoğun bir veri noktası kümesini düşünün. Veri noktalarından biri yoğun kümeden küçük bir mesafededir. Bu veri noktası aykırı değer olarak kabul edilir. Aynı veri setinde, seyrek bir kümedeki bir veri noktası aykırı gibi görünebilir ancak komşularının her birinden benzer uzaklıkta olduğu tespit edilir.\n",
    "\n",
    "Normal bir veri noktasının LOF'si 1 ile 1,5 arasındayken, aykırı değerin LOF'si çok daha yüksektir. Bir veri noktasının LOF'sinin 10 olması, komşularının ortalama yoğunluğunun, veri noktasının yerel yoğunluğundan on kat daha yüksek olduğu anlamına gelir.\n",
    "\n",
    "Yerel Aykırı Değer Faktörü yöntemi, coğrafi verilerde, video akışlarında veya ağ izinsiz giriş tespitinde aykırı değerlerin tespitinde kullanılır.\n",
    "\n",
    "* Bir veri noktasının LOF puanı aşağıdakiler kullanılarak belirlenir:\n",
    "\n",
    "    * Komşu sayısı\n",
    "    * Verileri yapılandırmak için kullanılan bir ağaç algoritması\n",
    "    * Ağaç algoritmasının derinliğini tanımlamak için yaprak boyutu\n",
    "    * İki nokta arasındaki mesafeyi tanımlayan bir metrik fonksiyon\n",
    "    * Hiperparametre ayarı\n",
    "    * Boyut azaltma ve varyans\n",
    "    \n",
    "Bir örnek: Gözlemleri bulundukları konumda yoğunluklarını değerlendirerek aykırı değerleri tanımlamamıza olanak sağlar. Yoğunluk, o gözlem biriminin komşularıyla olan anlamsal benzerliğidir. Örneğin, yalnızca 17 yaşında olmak başlı başına bir aykırı gibi görünmeyebilir. Ancak, 17 yaşında olmak ve 3 kez evlenmiş olmak pek normal görünmeyebilir. Bunu bir aykırı değer olarak düşünebiliriz."
   ]
  },
  {
   "cell_type": "markdown",
   "id": "00586291",
   "metadata": {
    "papermill": {
     "duration": 0.040471,
     "end_time": "2023-11-13T12:55:16.802935",
     "exception": false,
     "start_time": "2023-11-13T12:55:16.762464",
     "status": "completed"
    },
    "tags": []
   },
   "source": [
    "<center><img src=\"https://i.imgur.com/5GNOE8s.png\" width=\"800\" height=\"800\"></center>"
   ]
  },
  {
   "cell_type": "code",
   "execution_count": 37,
   "id": "c4e55785",
   "metadata": {
    "execution": {
     "iopub.execute_input": "2023-11-13T12:55:16.891030Z",
     "iopub.status.busy": "2023-11-13T12:55:16.890400Z",
     "iopub.status.idle": "2023-11-13T12:55:17.497379Z",
     "shell.execute_reply": "2023-11-13T12:55:17.496421Z"
    },
    "papermill": {
     "duration": 0.655697,
     "end_time": "2023-11-13T12:55:17.499368",
     "exception": false,
     "start_time": "2023-11-13T12:55:16.843671",
     "status": "completed"
    },
    "tags": []
   },
   "outputs": [],
   "source": [
    "df = sns.load_dataset('diamonds')\n",
    "df = df.select_dtypes(include=['float64', 'int64'])"
   ]
  },
  {
   "cell_type": "code",
   "execution_count": 38,
   "id": "41bd53dc",
   "metadata": {
    "execution": {
     "iopub.execute_input": "2023-11-13T12:55:17.592090Z",
     "iopub.status.busy": "2023-11-13T12:55:17.591727Z",
     "iopub.status.idle": "2023-11-13T12:55:17.600352Z",
     "shell.execute_reply": "2023-11-13T12:55:17.599094Z"
    },
    "papermill": {
     "duration": 0.061111,
     "end_time": "2023-11-13T12:55:17.602750",
     "exception": false,
     "start_time": "2023-11-13T12:55:17.541639",
     "status": "completed"
    },
    "tags": []
   },
   "outputs": [
    {
     "data": {
      "text/plain": [
       "carat    0\n",
       "depth    0\n",
       "table    0\n",
       "price    0\n",
       "x        0\n",
       "y        0\n",
       "z        0\n",
       "dtype: int64"
      ]
     },
     "execution_count": 38,
     "metadata": {},
     "output_type": "execute_result"
    }
   ],
   "source": [
    "df.isnull().sum() # seems there is not any NaN value."
   ]
  },
  {
   "cell_type": "code",
   "execution_count": 39,
   "id": "a1dae279",
   "metadata": {
    "execution": {
     "iopub.execute_input": "2023-11-13T12:55:17.687217Z",
     "iopub.status.busy": "2023-11-13T12:55:17.686916Z",
     "iopub.status.idle": "2023-11-13T12:55:17.699821Z",
     "shell.execute_reply": "2023-11-13T12:55:17.698919Z"
    },
    "papermill": {
     "duration": 0.056797,
     "end_time": "2023-11-13T12:55:17.701661",
     "exception": false,
     "start_time": "2023-11-13T12:55:17.644864",
     "status": "completed"
    },
    "tags": []
   },
   "outputs": [
    {
     "data": {
      "text/html": [
       "<div>\n",
       "<style scoped>\n",
       "    .dataframe tbody tr th:only-of-type {\n",
       "        vertical-align: middle;\n",
       "    }\n",
       "\n",
       "    .dataframe tbody tr th {\n",
       "        vertical-align: top;\n",
       "    }\n",
       "\n",
       "    .dataframe thead th {\n",
       "        text-align: right;\n",
       "    }\n",
       "</style>\n",
       "<table border=\"1\" class=\"dataframe\">\n",
       "  <thead>\n",
       "    <tr style=\"text-align: right;\">\n",
       "      <th></th>\n",
       "      <th>carat</th>\n",
       "      <th>depth</th>\n",
       "      <th>table</th>\n",
       "      <th>price</th>\n",
       "      <th>x</th>\n",
       "      <th>y</th>\n",
       "      <th>z</th>\n",
       "    </tr>\n",
       "  </thead>\n",
       "  <tbody>\n",
       "    <tr>\n",
       "      <th>0</th>\n",
       "      <td>0.23</td>\n",
       "      <td>61.5</td>\n",
       "      <td>55.0</td>\n",
       "      <td>326</td>\n",
       "      <td>3.95</td>\n",
       "      <td>3.98</td>\n",
       "      <td>2.43</td>\n",
       "    </tr>\n",
       "    <tr>\n",
       "      <th>1</th>\n",
       "      <td>0.21</td>\n",
       "      <td>59.8</td>\n",
       "      <td>61.0</td>\n",
       "      <td>326</td>\n",
       "      <td>3.89</td>\n",
       "      <td>3.84</td>\n",
       "      <td>2.31</td>\n",
       "    </tr>\n",
       "    <tr>\n",
       "      <th>2</th>\n",
       "      <td>0.23</td>\n",
       "      <td>56.9</td>\n",
       "      <td>65.0</td>\n",
       "      <td>327</td>\n",
       "      <td>4.05</td>\n",
       "      <td>4.07</td>\n",
       "      <td>2.31</td>\n",
       "    </tr>\n",
       "    <tr>\n",
       "      <th>3</th>\n",
       "      <td>0.29</td>\n",
       "      <td>62.4</td>\n",
       "      <td>58.0</td>\n",
       "      <td>334</td>\n",
       "      <td>4.20</td>\n",
       "      <td>4.23</td>\n",
       "      <td>2.63</td>\n",
       "    </tr>\n",
       "    <tr>\n",
       "      <th>4</th>\n",
       "      <td>0.31</td>\n",
       "      <td>63.3</td>\n",
       "      <td>58.0</td>\n",
       "      <td>335</td>\n",
       "      <td>4.34</td>\n",
       "      <td>4.35</td>\n",
       "      <td>2.75</td>\n",
       "    </tr>\n",
       "  </tbody>\n",
       "</table>\n",
       "</div>"
      ],
      "text/plain": [
       "   carat  depth  table  price     x     y     z\n",
       "0   0.23   61.5   55.0    326  3.95  3.98  2.43\n",
       "1   0.21   59.8   61.0    326  3.89  3.84  2.31\n",
       "2   0.23   56.9   65.0    327  4.05  4.07  2.31\n",
       "3   0.29   62.4   58.0    334  4.20  4.23  2.63\n",
       "4   0.31   63.3   58.0    335  4.34  4.35  2.75"
      ]
     },
     "execution_count": 39,
     "metadata": {},
     "output_type": "execute_result"
    }
   ],
   "source": [
    "df.head()"
   ]
  },
  {
   "cell_type": "code",
   "execution_count": 40,
   "id": "c69a6fbc",
   "metadata": {
    "execution": {
     "iopub.execute_input": "2023-11-13T12:55:17.786777Z",
     "iopub.status.busy": "2023-11-13T12:55:17.786449Z",
     "iopub.status.idle": "2023-11-13T12:55:17.793776Z",
     "shell.execute_reply": "2023-11-13T12:55:17.792153Z"
    },
    "papermill": {
     "duration": 0.052717,
     "end_time": "2023-11-13T12:55:17.795986",
     "exception": false,
     "start_time": "2023-11-13T12:55:17.743269",
     "status": "completed"
    },
    "tags": []
   },
   "outputs": [
    {
     "data": {
      "text/plain": [
       "(53940, 7)"
      ]
     },
     "execution_count": 40,
     "metadata": {},
     "output_type": "execute_result"
    }
   ],
   "source": [
    "df.shape"
   ]
  },
  {
   "cell_type": "code",
   "execution_count": 41,
   "id": "1d2509b6",
   "metadata": {
    "execution": {
     "iopub.execute_input": "2023-11-13T12:55:17.884884Z",
     "iopub.status.busy": "2023-11-13T12:55:17.884503Z",
     "iopub.status.idle": "2023-11-13T12:55:17.914044Z",
     "shell.execute_reply": "2023-11-13T12:55:17.912767Z"
    },
    "papermill": {
     "duration": 0.0761,
     "end_time": "2023-11-13T12:55:17.916641",
     "exception": false,
     "start_time": "2023-11-13T12:55:17.840541",
     "status": "completed"
    },
    "tags": []
   },
   "outputs": [
    {
     "name": "stdout",
     "output_type": "stream",
     "text": [
      "carat True\n",
      "depth True\n",
      "table True\n",
      "price False\n",
      "x False\n",
      "y True\n",
      "z True\n"
     ]
    }
   ],
   "source": [
    "for col in df.columns:\n",
    "    \n",
    "    print(col, check_outlier(df, col))"
   ]
  },
  {
   "cell_type": "code",
   "execution_count": 42,
   "id": "0d8180b5",
   "metadata": {
    "execution": {
     "iopub.execute_input": "2023-11-13T12:55:18.002953Z",
     "iopub.status.busy": "2023-11-13T12:55:18.001815Z",
     "iopub.status.idle": "2023-11-13T12:55:18.329288Z",
     "shell.execute_reply": "2023-11-13T12:55:18.328157Z"
    },
    "papermill": {
     "duration": 0.37342,
     "end_time": "2023-11-13T12:55:18.332494",
     "exception": false,
     "start_time": "2023-11-13T12:55:17.959074",
     "status": "completed"
    },
    "tags": []
   },
   "outputs": [
    {
     "data": {
      "text/plain": [
       "array([-1, -1, -1, ...,  1,  1,  1])"
      ]
     },
     "execution_count": 42,
     "metadata": {},
     "output_type": "execute_result"
    }
   ],
   "source": [
    "clf = LocalOutlierFactor(n_neighbors=20)\n",
    "clf.fit_predict(df)"
   ]
  },
  {
   "cell_type": "code",
   "execution_count": 43,
   "id": "e890d890",
   "metadata": {
    "execution": {
     "iopub.execute_input": "2023-11-13T12:55:18.419132Z",
     "iopub.status.busy": "2023-11-13T12:55:18.418797Z",
     "iopub.status.idle": "2023-11-13T12:55:18.425101Z",
     "shell.execute_reply": "2023-11-13T12:55:18.424243Z"
    },
    "papermill": {
     "duration": 0.051821,
     "end_time": "2023-11-13T12:55:18.427034",
     "exception": false,
     "start_time": "2023-11-13T12:55:18.375213",
     "status": "completed"
    },
    "tags": []
   },
   "outputs": [
    {
     "data": {
      "text/plain": [
       "array([-1.58352526, -1.59732899, -1.62278873, -1.33002541, -1.30712521])"
      ]
     },
     "execution_count": 43,
     "metadata": {},
     "output_type": "execute_result"
    }
   ],
   "source": [
    "# Local Outlier Factor Scores\n",
    "\n",
    "df_scores = clf.negative_outlier_factor_\n",
    "df_scores[0:5]\n",
    "# df_scores = -df_scores (eğer pozisif değerleri tutmak istersek)"
   ]
  },
  {
   "cell_type": "code",
   "execution_count": 44,
   "id": "45b96d04",
   "metadata": {
    "execution": {
     "iopub.execute_input": "2023-11-13T12:55:18.514142Z",
     "iopub.status.busy": "2023-11-13T12:55:18.513765Z",
     "iopub.status.idle": "2023-11-13T12:55:18.735717Z",
     "shell.execute_reply": "2023-11-13T12:55:18.734855Z"
    },
    "papermill": {
     "duration": 0.267158,
     "end_time": "2023-11-13T12:55:18.737442",
     "exception": false,
     "start_time": "2023-11-13T12:55:18.470284",
     "status": "completed"
    },
    "tags": []
   },
   "outputs": [
    {
     "data": {
      "image/png": "[encoded data removed]",
      "text/plain": [
       "<Figure size 640x480 with 1 Axes>"
      ]
     },
     "metadata": {},
     "output_type": "display_data"
    }
   ],
   "source": [
    "scores = pd.DataFrame(np.sort(df_scores))\n",
    "scores.plot(stacked=True, xlim=[0, 50], style='.-')\n",
    "plt.show()"
   ]
  },
  {
   "cell_type": "markdown",
   "id": "8a950199",
   "metadata": {
    "papermill": {
     "duration": 0.045901,
     "end_time": "2023-11-13T12:55:18.827518",
     "exception": false,
     "start_time": "2023-11-13T12:55:18.781617",
     "status": "completed"
    },
    "tags": []
   },
   "source": [
    "<div style=\"border-radius:10px; border:#65647C solid; padding: 15px; background-color: #F8EDE3; font-size:100%; text-align:left\">\n",
    "\n",
    "<h3 align=\"left\"><font color='#7D6E83'><b>🗨️ Comment: </b></font></h3>\n",
    "\n",
    "* LOF skor -10'a ne kadar yakınsa o kadar kötüdür. Fakat bir threshold belirlememiz gerekiyor.\n",
    "* Gördüğümüz üzere 3. noktadan sonra büyük bir eğim değişikliği mevcuttur."
   ]
  },
  {
   "cell_type": "code",
   "execution_count": 45,
   "id": "58e96e19",
   "metadata": {
    "execution": {
     "iopub.execute_input": "2023-11-13T12:55:18.915265Z",
     "iopub.status.busy": "2023-11-13T12:55:18.914918Z",
     "iopub.status.idle": "2023-11-13T12:55:18.924273Z",
     "shell.execute_reply": "2023-11-13T12:55:18.923708Z"
    },
    "papermill": {
     "duration": 0.054512,
     "end_time": "2023-11-13T12:55:18.925679",
     "exception": false,
     "start_time": "2023-11-13T12:55:18.871167",
     "status": "completed"
    },
    "tags": []
   },
   "outputs": [
    {
     "data": {
      "text/plain": [
       "-4.984151747711709"
      ]
     },
     "execution_count": 45,
     "metadata": {},
     "output_type": "execute_result"
    }
   ],
   "source": [
    "th = np.sort(df_scores)[3]\n",
    "th"
   ]
  },
  {
   "cell_type": "markdown",
   "id": "d008b84a",
   "metadata": {
    "papermill": {
     "duration": 0.04344,
     "end_time": "2023-11-13T12:55:19.011803",
     "exception": false,
     "start_time": "2023-11-13T12:55:18.968363",
     "status": "completed"
    },
    "tags": []
   },
   "source": [
    "<div style=\"border-radius:10px; border:#65647C solid; padding: 15px; background-color: #F8EDE3; font-size:100%; text-align:left\">\n",
    "\n",
    "<h3 align=\"left\"><font color='#7D6E83'><b>🗨️ Comment: </b></font></h3>\n",
    "\n",
    "* Bu değeri eşik değer olarak belirledik. Bu değerden daha küçük olanları aykırı değer olarak belirleyeceğiz."
   ]
  },
  {
   "cell_type": "code",
   "execution_count": 46,
   "id": "cc5fab14",
   "metadata": {
    "execution": {
     "iopub.execute_input": "2023-11-13T12:55:19.101384Z",
     "iopub.status.busy": "2023-11-13T12:55:19.100332Z",
     "iopub.status.idle": "2023-11-13T12:55:19.111649Z",
     "shell.execute_reply": "2023-11-13T12:55:19.111028Z"
    },
    "papermill": {
     "duration": 0.058014,
     "end_time": "2023-11-13T12:55:19.113397",
     "exception": false,
     "start_time": "2023-11-13T12:55:19.055383",
     "status": "completed"
    },
    "tags": []
   },
   "outputs": [
    {
     "data": {
      "text/html": [
       "<div>\n",
       "<style scoped>\n",
       "    .dataframe tbody tr th:only-of-type {\n",
       "        vertical-align: middle;\n",
       "    }\n",
       "\n",
       "    .dataframe tbody tr th {\n",
       "        vertical-align: top;\n",
       "    }\n",
       "\n",
       "    .dataframe thead th {\n",
       "        text-align: right;\n",
       "    }\n",
       "</style>\n",
       "<table border=\"1\" class=\"dataframe\">\n",
       "  <thead>\n",
       "    <tr style=\"text-align: right;\">\n",
       "      <th></th>\n",
       "      <th>carat</th>\n",
       "      <th>depth</th>\n",
       "      <th>table</th>\n",
       "      <th>price</th>\n",
       "      <th>x</th>\n",
       "      <th>y</th>\n",
       "      <th>z</th>\n",
       "    </tr>\n",
       "  </thead>\n",
       "  <tbody>\n",
       "    <tr>\n",
       "      <th>41918</th>\n",
       "      <td>1.03</td>\n",
       "      <td>78.2</td>\n",
       "      <td>54.0</td>\n",
       "      <td>1262</td>\n",
       "      <td>5.72</td>\n",
       "      <td>5.59</td>\n",
       "      <td>4.42</td>\n",
       "    </tr>\n",
       "    <tr>\n",
       "      <th>48410</th>\n",
       "      <td>0.51</td>\n",
       "      <td>61.8</td>\n",
       "      <td>54.7</td>\n",
       "      <td>1970</td>\n",
       "      <td>5.12</td>\n",
       "      <td>5.15</td>\n",
       "      <td>31.80</td>\n",
       "    </tr>\n",
       "    <tr>\n",
       "      <th>49189</th>\n",
       "      <td>0.51</td>\n",
       "      <td>61.8</td>\n",
       "      <td>55.0</td>\n",
       "      <td>2075</td>\n",
       "      <td>5.15</td>\n",
       "      <td>31.80</td>\n",
       "      <td>5.12</td>\n",
       "    </tr>\n",
       "  </tbody>\n",
       "</table>\n",
       "</div>"
      ],
      "text/plain": [
       "       carat  depth  table  price     x      y      z\n",
       "41918   1.03   78.2   54.0   1262  5.72   5.59   4.42\n",
       "48410   0.51   61.8   54.7   1970  5.12   5.15  31.80\n",
       "49189   0.51   61.8   55.0   2075  5.15  31.80   5.12"
      ]
     },
     "execution_count": 46,
     "metadata": {},
     "output_type": "execute_result"
    }
   ],
   "source": [
    "df[df_scores < th]"
   ]
  },
  {
   "cell_type": "code",
   "execution_count": 47,
   "id": "db9d05ba",
   "metadata": {
    "execution": {
     "iopub.execute_input": "2023-11-13T12:55:19.201902Z",
     "iopub.status.busy": "2023-11-13T12:55:19.201534Z",
     "iopub.status.idle": "2023-11-13T12:55:19.208282Z",
     "shell.execute_reply": "2023-11-13T12:55:19.207299Z"
    },
    "papermill": {
     "duration": 0.053237,
     "end_time": "2023-11-13T12:55:19.210528",
     "exception": false,
     "start_time": "2023-11-13T12:55:19.157291",
     "status": "completed"
    },
    "tags": []
   },
   "outputs": [
    {
     "data": {
      "text/plain": [
       "(3, 7)"
      ]
     },
     "execution_count": 47,
     "metadata": {},
     "output_type": "execute_result"
    }
   ],
   "source": [
    "df[df_scores < th].shape"
   ]
  },
  {
   "cell_type": "code",
   "execution_count": 48,
   "id": "aca88198",
   "metadata": {
    "execution": {
     "iopub.execute_input": "2023-11-13T12:55:19.301297Z",
     "iopub.status.busy": "2023-11-13T12:55:19.300960Z",
     "iopub.status.idle": "2023-11-13T12:55:19.342099Z",
     "shell.execute_reply": "2023-11-13T12:55:19.340424Z"
    },
    "papermill": {
     "duration": 0.090146,
     "end_time": "2023-11-13T12:55:19.344616",
     "exception": false,
     "start_time": "2023-11-13T12:55:19.254470",
     "status": "completed"
    },
    "tags": []
   },
   "outputs": [
    {
     "data": {
      "text/html": [
       "<div>\n",
       "<style scoped>\n",
       "    .dataframe tbody tr th:only-of-type {\n",
       "        vertical-align: middle;\n",
       "    }\n",
       "\n",
       "    .dataframe tbody tr th {\n",
       "        vertical-align: top;\n",
       "    }\n",
       "\n",
       "    .dataframe thead th {\n",
       "        text-align: right;\n",
       "    }\n",
       "</style>\n",
       "<table border=\"1\" class=\"dataframe\">\n",
       "  <thead>\n",
       "    <tr style=\"text-align: right;\">\n",
       "      <th></th>\n",
       "      <th>count</th>\n",
       "      <th>mean</th>\n",
       "      <th>std</th>\n",
       "      <th>min</th>\n",
       "      <th>1%</th>\n",
       "      <th>5%</th>\n",
       "      <th>50%</th>\n",
       "      <th>75%</th>\n",
       "      <th>90%</th>\n",
       "      <th>99%</th>\n",
       "      <th>max</th>\n",
       "    </tr>\n",
       "  </thead>\n",
       "  <tbody>\n",
       "    <tr>\n",
       "      <th>carat</th>\n",
       "      <td>53940.0</td>\n",
       "      <td>0.797940</td>\n",
       "      <td>0.474011</td>\n",
       "      <td>0.2</td>\n",
       "      <td>0.24</td>\n",
       "      <td>0.30</td>\n",
       "      <td>0.70</td>\n",
       "      <td>1.04</td>\n",
       "      <td>1.51</td>\n",
       "      <td>2.18</td>\n",
       "      <td>5.01</td>\n",
       "    </tr>\n",
       "    <tr>\n",
       "      <th>depth</th>\n",
       "      <td>53940.0</td>\n",
       "      <td>61.749405</td>\n",
       "      <td>1.432621</td>\n",
       "      <td>43.0</td>\n",
       "      <td>57.90</td>\n",
       "      <td>59.30</td>\n",
       "      <td>61.80</td>\n",
       "      <td>62.50</td>\n",
       "      <td>63.30</td>\n",
       "      <td>65.60</td>\n",
       "      <td>79.00</td>\n",
       "    </tr>\n",
       "    <tr>\n",
       "      <th>table</th>\n",
       "      <td>53940.0</td>\n",
       "      <td>57.457184</td>\n",
       "      <td>2.234491</td>\n",
       "      <td>43.0</td>\n",
       "      <td>53.00</td>\n",
       "      <td>54.00</td>\n",
       "      <td>57.00</td>\n",
       "      <td>59.00</td>\n",
       "      <td>60.00</td>\n",
       "      <td>64.00</td>\n",
       "      <td>95.00</td>\n",
       "    </tr>\n",
       "    <tr>\n",
       "      <th>price</th>\n",
       "      <td>53940.0</td>\n",
       "      <td>3932.799722</td>\n",
       "      <td>3989.439738</td>\n",
       "      <td>326.0</td>\n",
       "      <td>429.00</td>\n",
       "      <td>544.00</td>\n",
       "      <td>2401.00</td>\n",
       "      <td>5324.25</td>\n",
       "      <td>9821.00</td>\n",
       "      <td>17378.22</td>\n",
       "      <td>18823.00</td>\n",
       "    </tr>\n",
       "    <tr>\n",
       "      <th>x</th>\n",
       "      <td>53940.0</td>\n",
       "      <td>5.731157</td>\n",
       "      <td>1.121761</td>\n",
       "      <td>0.0</td>\n",
       "      <td>4.02</td>\n",
       "      <td>4.29</td>\n",
       "      <td>5.70</td>\n",
       "      <td>6.54</td>\n",
       "      <td>7.31</td>\n",
       "      <td>8.36</td>\n",
       "      <td>10.74</td>\n",
       "    </tr>\n",
       "    <tr>\n",
       "      <th>y</th>\n",
       "      <td>53940.0</td>\n",
       "      <td>5.734526</td>\n",
       "      <td>1.142135</td>\n",
       "      <td>0.0</td>\n",
       "      <td>4.04</td>\n",
       "      <td>4.30</td>\n",
       "      <td>5.71</td>\n",
       "      <td>6.54</td>\n",
       "      <td>7.30</td>\n",
       "      <td>8.34</td>\n",
       "      <td>58.90</td>\n",
       "    </tr>\n",
       "    <tr>\n",
       "      <th>z</th>\n",
       "      <td>53940.0</td>\n",
       "      <td>3.538734</td>\n",
       "      <td>0.705699</td>\n",
       "      <td>0.0</td>\n",
       "      <td>2.48</td>\n",
       "      <td>2.65</td>\n",
       "      <td>3.53</td>\n",
       "      <td>4.04</td>\n",
       "      <td>4.52</td>\n",
       "      <td>5.15</td>\n",
       "      <td>31.80</td>\n",
       "    </tr>\n",
       "  </tbody>\n",
       "</table>\n",
       "</div>"
      ],
      "text/plain": [
       "         count         mean          std    min      1%      5%      50%  \\\n",
       "carat  53940.0     0.797940     0.474011    0.2    0.24    0.30     0.70   \n",
       "depth  53940.0    61.749405     1.432621   43.0   57.90   59.30    61.80   \n",
       "table  53940.0    57.457184     2.234491   43.0   53.00   54.00    57.00   \n",
       "price  53940.0  3932.799722  3989.439738  326.0  429.00  544.00  2401.00   \n",
       "x      53940.0     5.731157     1.121761    0.0    4.02    4.29     5.70   \n",
       "y      53940.0     5.734526     1.142135    0.0    4.04    4.30     5.71   \n",
       "z      53940.0     3.538734     0.705699    0.0    2.48    2.65     3.53   \n",
       "\n",
       "           75%      90%       99%       max  \n",
       "carat     1.04     1.51      2.18      5.01  \n",
       "depth    62.50    63.30     65.60     79.00  \n",
       "table    59.00    60.00     64.00     95.00  \n",
       "price  5324.25  9821.00  17378.22  18823.00  \n",
       "x         6.54     7.31      8.36     10.74  \n",
       "y         6.54     7.30      8.34     58.90  \n",
       "z         4.04     4.52      5.15     31.80  "
      ]
     },
     "execution_count": 48,
     "metadata": {},
     "output_type": "execute_result"
    }
   ],
   "source": [
    "df.describe([0.01, 0.05, 0.75, 0.90, 0.99]).T"
   ]
  },
  {
   "cell_type": "markdown",
   "id": "2aa367a9",
   "metadata": {
    "papermill": {
     "duration": 0.04304,
     "end_time": "2023-11-13T12:55:19.433132",
     "exception": false,
     "start_time": "2023-11-13T12:55:19.390092",
     "status": "completed"
    },
    "tags": []
   },
   "source": [
    "<div style=\"border-radius:10px; border:#D0C2F0 solid; padding: 15px; background-color: #F8E8EE; font-size:100%; text-align:left\">\n",
    "\n",
    "<h3 align=\"left\"><font color='#5E5273'>📄 Notes: </font></h3>\n",
    "\n",
    "Peki neden bu 3 gözlem birimini aykırı olarak kabul etti? İnceleyelim.\n",
    "\n",
    "* İlk göze çarpan detay; \"41918\" numaralı gözlem biriminin depth değerinin \"78.200\" olarak görüyoruz. Ana veri setimizde depth değişkeninin maksimum değeri \"79.000\" olarak görüntülenmektedir. Peki ama neden en yüksek değeri almadı da max değerden daha düşük bir seçim yaptı. Sadece bir çıkarım. Çünkü burada çok değişkenli bir etki söz konusu, depth değeri o iken diğer değişkenler ile olan etkileşimde bir tutarsızlık olmuş olabilir. İncelemeye devam edelim.\n",
    "* \"48410\" numaralı gözlem biriminin z değerini \"31.800\" olarak görüyoruz. Aynı zamanda bu z değerinin maksimum değerine denk geliyor. Tabi bu durum da bir önceki gibi diğer değişkenlerle bağlantılı bir aykırılık içinde yer alıyor. Bir değişken bir değer aldığında bir başka değişkenin değeriyle tutarsız kalıyor. Şeklinde yorumlar çıkartılabilir."
   ]
  },
  {
   "cell_type": "code",
   "execution_count": 49,
   "id": "0e2e9fd8",
   "metadata": {
    "execution": {
     "iopub.execute_input": "2023-11-13T12:55:19.520886Z",
     "iopub.status.busy": "2023-11-13T12:55:19.520529Z",
     "iopub.status.idle": "2023-11-13T12:55:19.527814Z",
     "shell.execute_reply": "2023-11-13T12:55:19.526798Z"
    },
    "papermill": {
     "duration": 0.053555,
     "end_time": "2023-11-13T12:55:19.529891",
     "exception": false,
     "start_time": "2023-11-13T12:55:19.476336",
     "status": "completed"
    },
    "tags": []
   },
   "outputs": [
    {
     "data": {
      "text/plain": [
       "Index([41918, 48410, 49189], dtype='int64')"
      ]
     },
     "execution_count": 49,
     "metadata": {},
     "output_type": "execute_result"
    }
   ],
   "source": [
    "df[df_scores < th].index"
   ]
  },
  {
   "cell_type": "code",
   "execution_count": 50,
   "id": "d1a60103",
   "metadata": {
    "execution": {
     "iopub.execute_input": "2023-11-13T12:55:19.618260Z",
     "iopub.status.busy": "2023-11-13T12:55:19.617948Z",
     "iopub.status.idle": "2023-11-13T12:55:19.629887Z",
     "shell.execute_reply": "2023-11-13T12:55:19.628978Z"
    },
    "papermill": {
     "duration": 0.058547,
     "end_time": "2023-11-13T12:55:19.631581",
     "exception": false,
     "start_time": "2023-11-13T12:55:19.573034",
     "status": "completed"
    },
    "tags": []
   },
   "outputs": [
    {
     "data": {
      "text/html": [
       "<div>\n",
       "<style scoped>\n",
       "    .dataframe tbody tr th:only-of-type {\n",
       "        vertical-align: middle;\n",
       "    }\n",
       "\n",
       "    .dataframe tbody tr th {\n",
       "        vertical-align: top;\n",
       "    }\n",
       "\n",
       "    .dataframe thead th {\n",
       "        text-align: right;\n",
       "    }\n",
       "</style>\n",
       "<table border=\"1\" class=\"dataframe\">\n",
       "  <thead>\n",
       "    <tr style=\"text-align: right;\">\n",
       "      <th></th>\n",
       "      <th>carat</th>\n",
       "      <th>depth</th>\n",
       "      <th>table</th>\n",
       "      <th>price</th>\n",
       "      <th>x</th>\n",
       "      <th>y</th>\n",
       "      <th>z</th>\n",
       "    </tr>\n",
       "  </thead>\n",
       "  <tbody>\n",
       "  </tbody>\n",
       "</table>\n",
       "</div>"
      ],
      "text/plain": [
       "Empty DataFrame\n",
       "Columns: [carat, depth, table, price, x, y, z]\n",
       "Index: []"
      ]
     },
     "execution_count": 50,
     "metadata": {},
     "output_type": "execute_result"
    }
   ],
   "source": [
    "df[df_scores < th].drop(axis=0, labels=df[df_scores < th].index)"
   ]
  },
  {
   "cell_type": "markdown",
   "id": "e010687d",
   "metadata": {
    "papermill": {
     "duration": 0.043945,
     "end_time": "2023-11-13T12:55:19.720514",
     "exception": false,
     "start_time": "2023-11-13T12:55:19.676569",
     "status": "completed"
    },
    "tags": []
   },
   "source": [
    "<div style=\"border-radius:10px; border:#65647C solid; padding: 15px; background-color: #F8EDE3; font-size:100%; text-align:left\">\n",
    "\n",
    "<h3 align=\"left\"><font color='#7D6E83'><b>🗨️ Comment: </b></font></h3>\n",
    "\n",
    "* Eğer ağaç yöntemleriyle ilgileniyorsak bu noktada aykırı değer silme ve baskılama yöntemlerine en temelde hiç dokunmamayı tercih etmemiz gerekiyor. Ama bir miktar düzeltme ihtiyacı varsa, çok ufak düzeltmeler (0.01 - 0.99) yapılabilir.\n",
    "* Doğrusal yöntemler tercih ediliyorsa; doldurmak yerine, az sayıda ise silmek tercih edilebilir veya tek değişkenli bir yaklaşım olarak baskılama yapılabilir."
   ]
  },
  {
   "cell_type": "code",
   "execution_count": 51,
   "id": "060e936a",
   "metadata": {
    "execution": {
     "iopub.execute_input": "2023-11-13T12:55:19.808775Z",
     "iopub.status.busy": "2023-11-13T12:55:19.808036Z",
     "iopub.status.idle": "2023-11-13T12:55:19.814027Z",
     "shell.execute_reply": "2023-11-13T12:55:19.813336Z"
    },
    "papermill": {
     "duration": 0.052649,
     "end_time": "2023-11-13T12:55:19.815986",
     "exception": false,
     "start_time": "2023-11-13T12:55:19.763337",
     "status": "completed"
    },
    "tags": []
   },
   "outputs": [],
   "source": [
    "def take_a_look(df):\n",
    "    \n",
    "    print(pd.DataFrame({'Rows': [df.shape[0]], 'Columns': [df.shape[1]]}, index=[\"Shape\"]).to_markdown())\n",
    "    print(\"\\n\")\n",
    "    print(pd.DataFrame(df.dtypes, columns=[\"Type\"]).to_markdown())\n",
    "    print(\"\\n\")\n",
    "    print(df.head().to_markdown(index=False))\n",
    "    print(\"\\n\")\n",
    "    print(df.isnull().sum().to_markdown())\n",
    "    print(\"\\n\")\n",
    "    print(df.describe([0.01, 0.25, 0.75, 0.99]).astype(int).T.to_markdown())"
   ]
  },
  {
   "cell_type": "code",
   "execution_count": 52,
   "id": "18888e13",
   "metadata": {
    "execution": {
     "iopub.execute_input": "2023-11-13T12:55:19.907830Z",
     "iopub.status.busy": "2023-11-13T12:55:19.907455Z",
     "iopub.status.idle": "2023-11-13T12:55:19.940501Z",
     "shell.execute_reply": "2023-11-13T12:55:19.938981Z"
    },
    "papermill": {
     "duration": 0.080862,
     "end_time": "2023-11-13T12:55:19.942334",
     "exception": false,
     "start_time": "2023-11-13T12:55:19.861472",
     "status": "completed"
    },
    "tags": []
   },
   "outputs": [
    {
     "name": "stdout",
     "output_type": "stream",
     "text": [
      "|       |   Rows |   Columns |\n",
      "|:------|-------:|----------:|\n",
      "| Shape |  53940 |         7 |\n",
      "\n",
      "\n",
      "|       | Type    |\n",
      "|:------|:--------|\n",
      "| carat | float64 |\n",
      "| depth | float64 |\n",
      "| table | float64 |\n",
      "| price | int64   |\n",
      "| x     | float64 |\n",
      "| y     | float64 |\n",
      "| z     | float64 |\n",
      "\n",
      "\n",
      "|   carat |   depth |   table |   price |    x |    y |    z |\n",
      "|--------:|--------:|--------:|--------:|-----:|-----:|-----:|\n",
      "|    0.23 |    61.5 |      55 |     326 | 3.95 | 3.98 | 2.43 |\n",
      "|    0.21 |    59.8 |      61 |     326 | 3.89 | 3.84 | 2.31 |\n",
      "|    0.23 |    56.9 |      65 |     327 | 4.05 | 4.07 | 2.31 |\n",
      "|    0.29 |    62.4 |      58 |     334 | 4.2  | 4.23 | 2.63 |\n",
      "|    0.31 |    63.3 |      58 |     335 | 4.34 | 4.35 | 2.75 |\n",
      "\n",
      "\n",
      "|       |   0 |\n",
      "|:------|----:|\n",
      "| carat |   0 |\n",
      "| depth |   0 |\n",
      "| table |   0 |\n",
      "| price |   0 |\n",
      "| x     |   0 |\n",
      "| y     |   0 |\n",
      "| z     |   0 |\n",
      "\n",
      "\n",
      "|       |   count |   mean |   std |   min |   1% |   25% |   50% |   75% |   99% |   max |\n",
      "|:------|--------:|-------:|------:|------:|-----:|------:|------:|------:|------:|------:|\n",
      "| carat |   53940 |      0 |     0 |     0 |    0 |     0 |     0 |     1 |     2 |     5 |\n",
      "| depth |   53940 |     61 |     1 |    43 |   57 |    61 |    61 |    62 |    65 |    79 |\n",
      "| table |   53940 |     57 |     2 |    43 |   53 |    56 |    57 |    59 |    64 |    95 |\n",
      "| price |   53940 |   3932 |  3989 |   326 |  429 |   950 |  2401 |  5324 | 17378 | 18823 |\n",
      "| x     |   53940 |      5 |     1 |     0 |    4 |     4 |     5 |     6 |     8 |    10 |\n",
      "| y     |   53940 |      5 |     1 |     0 |    4 |     4 |     5 |     6 |     8 |    58 |\n",
      "| z     |   53940 |      3 |     0 |     0 |    2 |     2 |     3 |     4 |     5 |    31 |\n"
     ]
    }
   ],
   "source": [
    "take_a_look(df)"
   ]
  },
  {
   "cell_type": "markdown",
   "id": "9c359973",
   "metadata": {
    "papermill": {
     "duration": 0.043246,
     "end_time": "2023-11-13T12:55:20.028803",
     "exception": false,
     "start_time": "2023-11-13T12:55:19.985557",
     "status": "completed"
    },
    "tags": []
   },
   "source": [
    "<a id=\"7\"></a><br>\n",
    "<h1 style=\"border-radius: 10px; border: 2px solid #6B8E23; background-color: #F5F5DC; font-family: 'Pacifico', cursive; font-size: 200%; text-align: center; border-radius: 15px 50px; padding: 15px; box-shadow: 5px 5px 5px #556B2F; color: #556B2F;\">🤔Eksik Değerler (Missing Values)🤔</h1>"
   ]
  },
  {
   "cell_type": "markdown",
   "id": "400aed28",
   "metadata": {
    "papermill": {
     "duration": 0.042183,
     "end_time": "2023-11-13T12:55:20.114324",
     "exception": false,
     "start_time": "2023-11-13T12:55:20.072141",
     "status": "completed"
    },
    "tags": []
   },
   "source": [
    "Eksik veriler, bir veri setindeki belirli değişkenlerde eksik veya tanımsız değerlerin bulunduğu durumları ifade eder. Eksik veriler, veri analizi ve makine öğrenimi uygulamaları için yaygın bir sorundur ve bu eksikliklerin işlenmesi çok önemlidir. Eksik verilerin daha detaylı bir incelemesi:\n",
    "\n",
    "**Eksik Veri Türleri:**\n",
    "1. **Tamamen Raslantısal Kayıp (MCAR - Missing Completely At Random):** Bu tür eksiklikler, eksik verilerin rastgele ve diğer değişkenlerle ilişkisiz olduğu durumları ifade eder. Örneğin, bir anketin bir bölümünü doldurmayı unutma durumu bu türe örnektir.\n",
    "\n",
    "2. **Raslantısal Kayıp (MAR - Missing At Random):** Bu tür eksiklikler, eksik verilerin diğer gözlenen değişkenlerle ilişkili olduğu, ancak eksik verilerin seviyesini tahmin etmek için kullanılabilecek başka değişkenlerin olduğu durumları ifade eder. Örneğin, yaş verisi eksikse, cinsiyet verisi mevcutsa, yaş ile cinsiyet arasındaki ilişkiyi kullanarak yaş verisini tahmin etmek mümkün olabilir.\n",
    "\n",
    "3. **Raslantısal Olmayan Kayıp (MNAR - Missing Not At Random):** Bu tür eksiklikler, eksik verilerin diğer değişkenlerle ilişkili olduğu ve eksik verilerin seviyesini tahmin etmek için kullanılabilecek başka değişkenlerin eksik olduğu durumları ifade eder. MNAR, en zorlu eksik veri türüdür ve sıklıkla eksik verilerin nedenleri hakkında daha fazla anlayış gerektirir.\n",
    "\n",
    "**Eksik Verilerin İşlenmesi:**\n",
    "\n",
    "Eksik verilerin işlenmesi, birkaç farklı yöntemle gerçekleştirilebilir:\n",
    "\n",
    "1. **Eksik Verilerin Silinmesi:** Bu, eksik verilere sahip gözlemlerin tamamen veri setinden çıkarılması anlamına gelir. Ancak, bu yöntem bazen önemli bilgilerin kaybına neden olabilir ve özellikle veri seti küçükse kullanılmamalıdır.\n",
    "\n",
    "2. **Eksik Verilerin Doldurulması:** Eksik veriler, eksikliklerin nedenlerine bağlı olarak çeşitli yöntemlerle doldurulabilir. Bu doldurma işlemi medyan, ortalama, mod gibi istatistiksel değerler kullanılarak yapılabilir. Ayrıca, eksik verileri tahmin etmek için makine öğrenimi modelleri de kullanılabilir.\n",
    "\n",
    "3. **Eksik Verilerin Kategorize Edilmesi:** Eksik veriler, eksik olma durumuna göre ayrı bir kategori olarak ele alınabilir. Bu, eksik verilerin kaybını önlemek için kullanışlı bir yaklaşım olabilir.\n",
    "\n",
    "**Eksik Verilerin Modellemeye Etkileri:**\n",
    "\n",
    "Eksik veriler, model sonuçlarını ve sonuçlarını olumsuz etkileyebilir. Eksik verilere sahip gözlemler, modelin yanıltıcı sonuçlar üretmesine neden olabilir. Ayrıca, eksik verilerin yönetimi, model performansını da etkileyebilir. Dolayısıyla eksik verilerin işlenmesi, modelin doğruluğu üzerinde büyük bir etkiye sahip olabilir."
   ]
  },
  {
   "cell_type": "markdown",
   "id": "ffd2dadc",
   "metadata": {
    "papermill": {
     "duration": 0.041964,
     "end_time": "2023-11-13T12:55:20.199132",
     "exception": false,
     "start_time": "2023-11-13T12:55:20.157168",
     "status": "completed"
    },
    "tags": []
   },
   "source": [
    "<a id = \"8\"></a><br>\n",
    "<p style=\"font-family: 'Pacifico', cursive; font-weight: bold; letter-spacing: 2px; color: #556B2F; font-size: 160%; text-align: left; padding: 0px; border-bottom: 3px solid\">✨Eksik Değerlerin Yakalanması✨</p>"
   ]
  },
  {
   "cell_type": "code",
   "execution_count": 53,
   "id": "8f8bad84",
   "metadata": {
    "execution": {
     "iopub.execute_input": "2023-11-13T12:55:20.287654Z",
     "iopub.status.busy": "2023-11-13T12:55:20.286816Z",
     "iopub.status.idle": "2023-11-13T12:55:20.293495Z",
     "shell.execute_reply": "2023-11-13T12:55:20.292765Z"
    },
    "papermill": {
     "duration": 0.053049,
     "end_time": "2023-11-13T12:55:20.295245",
     "exception": false,
     "start_time": "2023-11-13T12:55:20.242196",
     "status": "completed"
    },
    "tags": []
   },
   "outputs": [
    {
     "data": {
      "text/plain": [
       "True"
      ]
     },
     "execution_count": 53,
     "metadata": {},
     "output_type": "execute_result"
    }
   ],
   "source": [
    "# Eksik gözlem olup olmadığını sorgular;\n",
    "\n",
    "titanic.isnull().values.any()"
   ]
  },
  {
   "cell_type": "code",
   "execution_count": 54,
   "id": "4ab18580",
   "metadata": {
    "execution": {
     "iopub.execute_input": "2023-11-13T12:55:20.389314Z",
     "iopub.status.busy": "2023-11-13T12:55:20.388796Z",
     "iopub.status.idle": "2023-11-13T12:55:20.396083Z",
     "shell.execute_reply": "2023-11-13T12:55:20.395179Z"
    },
    "papermill": {
     "duration": 0.057421,
     "end_time": "2023-11-13T12:55:20.397680",
     "exception": false,
     "start_time": "2023-11-13T12:55:20.340259",
     "status": "completed"
    },
    "tags": []
   },
   "outputs": [
    {
     "data": {
      "text/plain": [
       "PassengerId      0\n",
       "Survived         0\n",
       "Pclass           0\n",
       "Name             0\n",
       "Sex              0\n",
       "Age            177\n",
       "SibSp            0\n",
       "Parch            0\n",
       "Ticket           0\n",
       "Fare             0\n",
       "Cabin          687\n",
       "Embarked         2\n",
       "dtype: int64"
      ]
     },
     "execution_count": 54,
     "metadata": {},
     "output_type": "execute_result"
    }
   ],
   "source": [
    "# Değişkenlerdeki eksik değer sayısı;\n",
    "\n",
    "titanic.isnull().sum()"
   ]
  },
  {
   "cell_type": "code",
   "execution_count": 55,
   "id": "cd722d4d",
   "metadata": {
    "execution": {
     "iopub.execute_input": "2023-11-13T12:55:20.486259Z",
     "iopub.status.busy": "2023-11-13T12:55:20.485728Z",
     "iopub.status.idle": "2023-11-13T12:55:20.492399Z",
     "shell.execute_reply": "2023-11-13T12:55:20.491793Z"
    },
    "papermill": {
     "duration": 0.052531,
     "end_time": "2023-11-13T12:55:20.494013",
     "exception": false,
     "start_time": "2023-11-13T12:55:20.441482",
     "status": "completed"
    },
    "tags": []
   },
   "outputs": [
    {
     "data": {
      "text/plain": [
       "PassengerId    891\n",
       "Survived       891\n",
       "Pclass         891\n",
       "Name           891\n",
       "Sex            891\n",
       "Age            714\n",
       "SibSp          891\n",
       "Parch          891\n",
       "Ticket         891\n",
       "Fare           891\n",
       "Cabin          204\n",
       "Embarked       889\n",
       "dtype: int64"
      ]
     },
     "execution_count": 55,
     "metadata": {},
     "output_type": "execute_result"
    }
   ],
   "source": [
    "# Değişkenlerde tam değer sayısı;\n",
    "\n",
    "titanic.notnull().sum()"
   ]
  },
  {
   "cell_type": "code",
   "execution_count": 56,
   "id": "913ecaf2",
   "metadata": {
    "execution": {
     "iopub.execute_input": "2023-11-13T12:55:20.581900Z",
     "iopub.status.busy": "2023-11-13T12:55:20.581388Z",
     "iopub.status.idle": "2023-11-13T12:55:20.589294Z",
     "shell.execute_reply": "2023-11-13T12:55:20.588332Z"
    },
    "papermill": {
     "duration": 0.053954,
     "end_time": "2023-11-13T12:55:20.590904",
     "exception": false,
     "start_time": "2023-11-13T12:55:20.536950",
     "status": "completed"
    },
    "tags": []
   },
   "outputs": [
    {
     "data": {
      "text/plain": [
       "866"
      ]
     },
     "execution_count": 56,
     "metadata": {},
     "output_type": "execute_result"
    }
   ],
   "source": [
    "# Veri setindeki toplam eksik değer;\n",
    "\n",
    "titanic.isnull().sum().sum()"
   ]
  },
  {
   "cell_type": "code",
   "execution_count": 57,
   "id": "c4b0ca36",
   "metadata": {
    "execution": {
     "iopub.execute_input": "2023-11-13T12:55:20.680798Z",
     "iopub.status.busy": "2023-11-13T12:55:20.680316Z",
     "iopub.status.idle": "2023-11-13T12:55:20.694433Z",
     "shell.execute_reply": "2023-11-13T12:55:20.693072Z"
    },
    "papermill": {
     "duration": 0.060943,
     "end_time": "2023-11-13T12:55:20.696313",
     "exception": false,
     "start_time": "2023-11-13T12:55:20.635370",
     "status": "completed"
    },
    "tags": []
   },
   "outputs": [
    {
     "data": {
      "text/html": [
       "<div>\n",
       "<style scoped>\n",
       "    .dataframe tbody tr th:only-of-type {\n",
       "        vertical-align: middle;\n",
       "    }\n",
       "\n",
       "    .dataframe tbody tr th {\n",
       "        vertical-align: top;\n",
       "    }\n",
       "\n",
       "    .dataframe thead th {\n",
       "        text-align: right;\n",
       "    }\n",
       "</style>\n",
       "<table border=\"1\" class=\"dataframe\">\n",
       "  <thead>\n",
       "    <tr style=\"text-align: right;\">\n",
       "      <th></th>\n",
       "      <th>PassengerId</th>\n",
       "      <th>Survived</th>\n",
       "      <th>Pclass</th>\n",
       "      <th>Name</th>\n",
       "      <th>Sex</th>\n",
       "      <th>Age</th>\n",
       "      <th>SibSp</th>\n",
       "      <th>Parch</th>\n",
       "      <th>Ticket</th>\n",
       "      <th>Fare</th>\n",
       "      <th>Cabin</th>\n",
       "      <th>Embarked</th>\n",
       "    </tr>\n",
       "  </thead>\n",
       "  <tbody>\n",
       "    <tr>\n",
       "      <th>0</th>\n",
       "      <td>1</td>\n",
       "      <td>0</td>\n",
       "      <td>3</td>\n",
       "      <td>Braund, Mr. Owen Harris</td>\n",
       "      <td>male</td>\n",
       "      <td>4.690416</td>\n",
       "      <td>1</td>\n",
       "      <td>0</td>\n",
       "      <td>A/5 21171</td>\n",
       "      <td>2.692582</td>\n",
       "      <td>NaN</td>\n",
       "      <td>S</td>\n",
       "    </tr>\n",
       "    <tr>\n",
       "      <th>2</th>\n",
       "      <td>3</td>\n",
       "      <td>1</td>\n",
       "      <td>3</td>\n",
       "      <td>Heikkinen, Miss. Laina</td>\n",
       "      <td>female</td>\n",
       "      <td>5.099020</td>\n",
       "      <td>0</td>\n",
       "      <td>0</td>\n",
       "      <td>STON/O2. 3101282</td>\n",
       "      <td>2.815138</td>\n",
       "      <td>NaN</td>\n",
       "      <td>S</td>\n",
       "    </tr>\n",
       "    <tr>\n",
       "      <th>4</th>\n",
       "      <td>5</td>\n",
       "      <td>0</td>\n",
       "      <td>3</td>\n",
       "      <td>Allen, Mr. William Henry</td>\n",
       "      <td>male</td>\n",
       "      <td>5.916080</td>\n",
       "      <td>0</td>\n",
       "      <td>0</td>\n",
       "      <td>373450</td>\n",
       "      <td>2.837252</td>\n",
       "      <td>NaN</td>\n",
       "      <td>S</td>\n",
       "    </tr>\n",
       "    <tr>\n",
       "      <th>5</th>\n",
       "      <td>6</td>\n",
       "      <td>0</td>\n",
       "      <td>3</td>\n",
       "      <td>Moran, Mr. James</td>\n",
       "      <td>male</td>\n",
       "      <td>NaN</td>\n",
       "      <td>0</td>\n",
       "      <td>0</td>\n",
       "      <td>330877</td>\n",
       "      <td>2.908316</td>\n",
       "      <td>NaN</td>\n",
       "      <td>Q</td>\n",
       "    </tr>\n",
       "    <tr>\n",
       "      <th>7</th>\n",
       "      <td>8</td>\n",
       "      <td>0</td>\n",
       "      <td>3</td>\n",
       "      <td>Palsson, Master. Gosta Leonard</td>\n",
       "      <td>male</td>\n",
       "      <td>2.000000</td>\n",
       "      <td>3</td>\n",
       "      <td>1</td>\n",
       "      <td>349909</td>\n",
       "      <td>4.590752</td>\n",
       "      <td>NaN</td>\n",
       "      <td>S</td>\n",
       "    </tr>\n",
       "  </tbody>\n",
       "</table>\n",
       "</div>"
      ],
      "text/plain": [
       "   PassengerId  Survived  Pclass                            Name     Sex  \\\n",
       "0            1         0       3         Braund, Mr. Owen Harris    male   \n",
       "2            3         1       3          Heikkinen, Miss. Laina  female   \n",
       "4            5         0       3        Allen, Mr. William Henry    male   \n",
       "5            6         0       3                Moran, Mr. James    male   \n",
       "7            8         0       3  Palsson, Master. Gosta Leonard    male   \n",
       "\n",
       "        Age  SibSp  Parch            Ticket      Fare Cabin Embarked  \n",
       "0  4.690416      1      0         A/5 21171  2.692582   NaN        S  \n",
       "2  5.099020      0      0  STON/O2. 3101282  2.815138   NaN        S  \n",
       "4  5.916080      0      0            373450  2.837252   NaN        S  \n",
       "5       NaN      0      0            330877  2.908316   NaN        Q  \n",
       "7  2.000000      3      1            349909  4.590752   NaN        S  "
      ]
     },
     "execution_count": 57,
     "metadata": {},
     "output_type": "execute_result"
    }
   ],
   "source": [
    "# En az bir tane eksik değere sahip olan gözlem birimleri;\n",
    "\n",
    "titanic[titanic.isnull().any(axis=1)].head()"
   ]
  },
  {
   "cell_type": "code",
   "execution_count": 58,
   "id": "513e41b5",
   "metadata": {
    "execution": {
     "iopub.execute_input": "2023-11-13T12:55:20.784176Z",
     "iopub.status.busy": "2023-11-13T12:55:20.783866Z",
     "iopub.status.idle": "2023-11-13T12:55:20.799009Z",
     "shell.execute_reply": "2023-11-13T12:55:20.797953Z"
    },
    "papermill": {
     "duration": 0.061061,
     "end_time": "2023-11-13T12:55:20.800713",
     "exception": false,
     "start_time": "2023-11-13T12:55:20.739652",
     "status": "completed"
    },
    "tags": []
   },
   "outputs": [
    {
     "data": {
      "text/html": [
       "<div>\n",
       "<style scoped>\n",
       "    .dataframe tbody tr th:only-of-type {\n",
       "        vertical-align: middle;\n",
       "    }\n",
       "\n",
       "    .dataframe tbody tr th {\n",
       "        vertical-align: top;\n",
       "    }\n",
       "\n",
       "    .dataframe thead th {\n",
       "        text-align: right;\n",
       "    }\n",
       "</style>\n",
       "<table border=\"1\" class=\"dataframe\">\n",
       "  <thead>\n",
       "    <tr style=\"text-align: right;\">\n",
       "      <th></th>\n",
       "      <th>PassengerId</th>\n",
       "      <th>Survived</th>\n",
       "      <th>Pclass</th>\n",
       "      <th>Name</th>\n",
       "      <th>Sex</th>\n",
       "      <th>Age</th>\n",
       "      <th>SibSp</th>\n",
       "      <th>Parch</th>\n",
       "      <th>Ticket</th>\n",
       "      <th>Fare</th>\n",
       "      <th>Cabin</th>\n",
       "      <th>Embarked</th>\n",
       "    </tr>\n",
       "  </thead>\n",
       "  <tbody>\n",
       "    <tr>\n",
       "      <th>1</th>\n",
       "      <td>2</td>\n",
       "      <td>1</td>\n",
       "      <td>1</td>\n",
       "      <td>Cumings, Mrs. John Bradley (Florence Briggs Th...</td>\n",
       "      <td>female</td>\n",
       "      <td>6.164414</td>\n",
       "      <td>1</td>\n",
       "      <td>0</td>\n",
       "      <td>PC 17599</td>\n",
       "      <td>8.442944</td>\n",
       "      <td>C85</td>\n",
       "      <td>C</td>\n",
       "    </tr>\n",
       "    <tr>\n",
       "      <th>3</th>\n",
       "      <td>4</td>\n",
       "      <td>1</td>\n",
       "      <td>1</td>\n",
       "      <td>Futrelle, Mrs. Jacques Heath (Lily May Peel)</td>\n",
       "      <td>female</td>\n",
       "      <td>5.916080</td>\n",
       "      <td>1</td>\n",
       "      <td>0</td>\n",
       "      <td>113803</td>\n",
       "      <td>7.286975</td>\n",
       "      <td>C123</td>\n",
       "      <td>S</td>\n",
       "    </tr>\n",
       "    <tr>\n",
       "      <th>6</th>\n",
       "      <td>7</td>\n",
       "      <td>0</td>\n",
       "      <td>1</td>\n",
       "      <td>McCarthy, Mr. Timothy J</td>\n",
       "      <td>male</td>\n",
       "      <td>7.348469</td>\n",
       "      <td>0</td>\n",
       "      <td>0</td>\n",
       "      <td>17463</td>\n",
       "      <td>7.201562</td>\n",
       "      <td>E46</td>\n",
       "      <td>S</td>\n",
       "    </tr>\n",
       "    <tr>\n",
       "      <th>10</th>\n",
       "      <td>11</td>\n",
       "      <td>1</td>\n",
       "      <td>3</td>\n",
       "      <td>Sandstrom, Miss. Marguerite Rut</td>\n",
       "      <td>female</td>\n",
       "      <td>2.000000</td>\n",
       "      <td>1</td>\n",
       "      <td>1</td>\n",
       "      <td>PP 9549</td>\n",
       "      <td>4.086563</td>\n",
       "      <td>G6</td>\n",
       "      <td>S</td>\n",
       "    </tr>\n",
       "    <tr>\n",
       "      <th>11</th>\n",
       "      <td>12</td>\n",
       "      <td>1</td>\n",
       "      <td>1</td>\n",
       "      <td>Bonnell, Miss. Elizabeth</td>\n",
       "      <td>female</td>\n",
       "      <td>7.483315</td>\n",
       "      <td>0</td>\n",
       "      <td>0</td>\n",
       "      <td>113783</td>\n",
       "      <td>5.152669</td>\n",
       "      <td>C103</td>\n",
       "      <td>S</td>\n",
       "    </tr>\n",
       "  </tbody>\n",
       "</table>\n",
       "</div>"
      ],
      "text/plain": [
       "    PassengerId  Survived  Pclass  \\\n",
       "1             2         1       1   \n",
       "3             4         1       1   \n",
       "6             7         0       1   \n",
       "10           11         1       3   \n",
       "11           12         1       1   \n",
       "\n",
       "                                                 Name     Sex       Age  \\\n",
       "1   Cumings, Mrs. John Bradley (Florence Briggs Th...  female  6.164414   \n",
       "3        Futrelle, Mrs. Jacques Heath (Lily May Peel)  female  5.916080   \n",
       "6                             McCarthy, Mr. Timothy J    male  7.348469   \n",
       "10                    Sandstrom, Miss. Marguerite Rut  female  2.000000   \n",
       "11                           Bonnell, Miss. Elizabeth  female  7.483315   \n",
       "\n",
       "    SibSp  Parch    Ticket      Fare Cabin Embarked  \n",
       "1       1      0  PC 17599  8.442944   C85        C  \n",
       "3       1      0    113803  7.286975  C123        S  \n",
       "6       0      0     17463  7.201562   E46        S  \n",
       "10      1      1   PP 9549  4.086563    G6        S  \n",
       "11      0      0    113783  5.152669  C103        S  "
      ]
     },
     "execution_count": 58,
     "metadata": {},
     "output_type": "execute_result"
    }
   ],
   "source": [
    "# Tam olan gözlem birimleri;\n",
    "\n",
    "titanic[titanic.notnull().all(axis=1)].head()"
   ]
  },
  {
   "cell_type": "code",
   "execution_count": 59,
   "id": "3d528cc8",
   "metadata": {
    "execution": {
     "iopub.execute_input": "2023-11-13T12:55:20.890488Z",
     "iopub.status.busy": "2023-11-13T12:55:20.890139Z",
     "iopub.status.idle": "2023-11-13T12:55:20.896902Z",
     "shell.execute_reply": "2023-11-13T12:55:20.895951Z"
    },
    "papermill": {
     "duration": 0.053709,
     "end_time": "2023-11-13T12:55:20.898577",
     "exception": false,
     "start_time": "2023-11-13T12:55:20.844868",
     "status": "completed"
    },
    "tags": []
   },
   "outputs": [],
   "source": [
    "def missing_values_table(dataframe, na_name=False):\n",
    "    \n",
    "    na_columns = [col for col in dataframe.columns if dataframe[col].isnull().sum() > 0]\n",
    "\n",
    "    n_miss = dataframe[na_columns].isnull().sum().sort_values(ascending=False)\n",
    "    ratio = (dataframe[na_columns].isnull().sum() / dataframe.shape[0] * 100).sort_values(ascending=False)\n",
    "\n",
    "    missing_df = pd.concat([n_miss, np.round(ratio, 2)], axis=1, keys=['n_miss', 'ratio']).to_markdown()\n",
    "    \n",
    "    print(missing_df, end=\"\\n\")\n",
    "    \n",
    "    if na_name:\n",
    "        \n",
    "        return na_columns"
   ]
  },
  {
   "cell_type": "code",
   "execution_count": 60,
   "id": "fb8e11da",
   "metadata": {
    "execution": {
     "iopub.execute_input": "2023-11-13T12:55:20.987571Z",
     "iopub.status.busy": "2023-11-13T12:55:20.987217Z",
     "iopub.status.idle": "2023-11-13T12:55:21.000926Z",
     "shell.execute_reply": "2023-11-13T12:55:20.999754Z"
    },
    "papermill": {
     "duration": 0.060478,
     "end_time": "2023-11-13T12:55:21.002557",
     "exception": false,
     "start_time": "2023-11-13T12:55:20.942079",
     "status": "completed"
    },
    "tags": []
   },
   "outputs": [
    {
     "name": "stdout",
     "output_type": "stream",
     "text": [
      "|          |   n_miss |   ratio |\n",
      "|:---------|---------:|--------:|\n",
      "| Cabin    |      687 |   77.1  |\n",
      "| Age      |      177 |   19.87 |\n",
      "| Embarked |        2 |    0.22 |\n"
     ]
    }
   ],
   "source": [
    "missing_values_table(titanic)"
   ]
  },
  {
   "cell_type": "markdown",
   "id": "9eaced19",
   "metadata": {
    "papermill": {
     "duration": 0.043594,
     "end_time": "2023-11-13T12:55:21.090838",
     "exception": false,
     "start_time": "2023-11-13T12:55:21.047244",
     "status": "completed"
    },
    "tags": []
   },
   "source": [
    "<a id = \"9\"></a><br>\n",
    "<p style=\"font-family: 'Pacifico', cursive; font-weight: bold; letter-spacing: 2px; color: #556B2F; font-size: 160%; text-align: left; padding: 0px; border-bottom: 3px solid\">✨Eksik Değer Problemini Çözme✨</p>"
   ]
  },
  {
   "cell_type": "code",
   "execution_count": 61,
   "id": "1a7b2673",
   "metadata": {
    "execution": {
     "iopub.execute_input": "2023-11-13T12:55:21.179891Z",
     "iopub.status.busy": "2023-11-13T12:55:21.179578Z",
     "iopub.status.idle": "2023-11-13T12:55:21.184474Z",
     "shell.execute_reply": "2023-11-13T12:55:21.183678Z"
    },
    "papermill": {
     "duration": 0.051572,
     "end_time": "2023-11-13T12:55:21.186112",
     "exception": false,
     "start_time": "2023-11-13T12:55:21.134540",
     "status": "completed"
    },
    "tags": []
   },
   "outputs": [
    {
     "data": {
      "text/plain": [
       "(891, 12)"
      ]
     },
     "execution_count": 61,
     "metadata": {},
     "output_type": "execute_result"
    }
   ],
   "source": [
    "titanic.shape"
   ]
  },
  {
   "cell_type": "code",
   "execution_count": 62,
   "id": "32a10016",
   "metadata": {
    "execution": {
     "iopub.execute_input": "2023-11-13T12:55:21.277469Z",
     "iopub.status.busy": "2023-11-13T12:55:21.277103Z",
     "iopub.status.idle": "2023-11-13T12:55:21.284880Z",
     "shell.execute_reply": "2023-11-13T12:55:21.283961Z"
    },
    "papermill": {
     "duration": 0.057269,
     "end_time": "2023-11-13T12:55:21.286770",
     "exception": false,
     "start_time": "2023-11-13T12:55:21.229501",
     "status": "completed"
    },
    "tags": []
   },
   "outputs": [
    {
     "data": {
      "text/plain": [
       "866"
      ]
     },
     "execution_count": 62,
     "metadata": {},
     "output_type": "execute_result"
    }
   ],
   "source": [
    "titanic.isnull().sum().sum()"
   ]
  },
  {
   "cell_type": "code",
   "execution_count": 63,
   "id": "e32ab53c",
   "metadata": {
    "execution": {
     "iopub.execute_input": "2023-11-13T12:55:21.382428Z",
     "iopub.status.busy": "2023-11-13T12:55:21.382119Z",
     "iopub.status.idle": "2023-11-13T12:55:21.390380Z",
     "shell.execute_reply": "2023-11-13T12:55:21.389187Z"
    },
    "papermill": {
     "duration": 0.05837,
     "end_time": "2023-11-13T12:55:21.392374",
     "exception": false,
     "start_time": "2023-11-13T12:55:21.334004",
     "status": "completed"
    },
    "tags": []
   },
   "outputs": [
    {
     "data": {
      "text/plain": [
       "(183, 12)"
      ]
     },
     "execution_count": 63,
     "metadata": {},
     "output_type": "execute_result"
    }
   ],
   "source": [
    "titanic.dropna().shape"
   ]
  },
  {
   "cell_type": "markdown",
   "id": "7ee5bf44",
   "metadata": {
    "papermill": {
     "duration": 0.043599,
     "end_time": "2023-11-13T12:55:21.480320",
     "exception": false,
     "start_time": "2023-11-13T12:55:21.436721",
     "status": "completed"
    },
    "tags": []
   },
   "source": [
    "<div style=\"border-radius:10px; border:#65647C solid; padding: 15px; background-color: #F8EDE3; font-size:100%; text-align:left\">\n",
    "\n",
    "<h3 align=\"left\"><font color='#7D6E83'><b>🗨️ Comment: </b></font></h3>\n",
    "\n",
    "* Burada dropna metodu ile eksik değer olan satırları silebiliriz. Fakat görüldüğü üzere çok fazla veri kaybı oluşturabilir."
   ]
  },
  {
   "cell_type": "markdown",
   "id": "93e727a7",
   "metadata": {
    "papermill": {
     "duration": 0.043716,
     "end_time": "2023-11-13T12:55:21.567366",
     "exception": false,
     "start_time": "2023-11-13T12:55:21.523650",
     "status": "completed"
    },
    "tags": []
   },
   "source": [
    "----"
   ]
  },
  {
   "cell_type": "code",
   "execution_count": 64,
   "id": "f31d8093",
   "metadata": {
    "execution": {
     "iopub.execute_input": "2023-11-13T12:55:21.657934Z",
     "iopub.status.busy": "2023-11-13T12:55:21.657556Z",
     "iopub.status.idle": "2023-11-13T12:55:21.662437Z",
     "shell.execute_reply": "2023-11-13T12:55:21.661580Z"
    },
    "papermill": {
     "duration": 0.053189,
     "end_time": "2023-11-13T12:55:21.664696",
     "exception": false,
     "start_time": "2023-11-13T12:55:21.611507",
     "status": "completed"
    },
    "tags": []
   },
   "outputs": [],
   "source": [
    "titanic = titanic_.copy()"
   ]
  },
  {
   "cell_type": "code",
   "execution_count": 65,
   "id": "7f9797d1",
   "metadata": {
    "execution": {
     "iopub.execute_input": "2023-11-13T12:55:21.756563Z",
     "iopub.status.busy": "2023-11-13T12:55:21.756262Z",
     "iopub.status.idle": "2023-11-13T12:55:21.764278Z",
     "shell.execute_reply": "2023-11-13T12:55:21.763189Z"
    },
    "papermill": {
     "duration": 0.055863,
     "end_time": "2023-11-13T12:55:21.766308",
     "exception": false,
     "start_time": "2023-11-13T12:55:21.710445",
     "status": "completed"
    },
    "tags": []
   },
   "outputs": [
    {
     "data": {
      "text/plain": [
       "0"
      ]
     },
     "execution_count": 65,
     "metadata": {},
     "output_type": "execute_result"
    }
   ],
   "source": [
    "titanic[\"Age\"].fillna(titanic[\"Age\"].mean()).isnull().sum()"
   ]
  },
  {
   "cell_type": "code",
   "execution_count": 66,
   "id": "2ad0af11",
   "metadata": {
    "execution": {
     "iopub.execute_input": "2023-11-13T12:55:21.863121Z",
     "iopub.status.busy": "2023-11-13T12:55:21.862788Z",
     "iopub.status.idle": "2023-11-13T12:55:21.872078Z",
     "shell.execute_reply": "2023-11-13T12:55:21.871046Z"
    },
    "papermill": {
     "duration": 0.060118,
     "end_time": "2023-11-13T12:55:21.873893",
     "exception": false,
     "start_time": "2023-11-13T12:55:21.813775",
     "status": "completed"
    },
    "tags": []
   },
   "outputs": [
    {
     "data": {
      "text/plain": [
       "0"
      ]
     },
     "execution_count": 66,
     "metadata": {},
     "output_type": "execute_result"
    }
   ],
   "source": [
    "titanic[\"Age\"].fillna(titanic[\"Age\"].median()).isnull().sum()"
   ]
  },
  {
   "cell_type": "code",
   "execution_count": 67,
   "id": "9707d278",
   "metadata": {
    "execution": {
     "iopub.execute_input": "2023-11-13T12:55:21.965581Z",
     "iopub.status.busy": "2023-11-13T12:55:21.965280Z",
     "iopub.status.idle": "2023-11-13T12:55:21.971727Z",
     "shell.execute_reply": "2023-11-13T12:55:21.970829Z"
    },
    "papermill": {
     "duration": 0.054393,
     "end_time": "2023-11-13T12:55:21.973477",
     "exception": false,
     "start_time": "2023-11-13T12:55:21.919084",
     "status": "completed"
    },
    "tags": []
   },
   "outputs": [
    {
     "data": {
      "text/plain": [
       "0"
      ]
     },
     "execution_count": 67,
     "metadata": {},
     "output_type": "execute_result"
    }
   ],
   "source": [
    "titanic[\"Age\"].fillna(0).isnull().sum()"
   ]
  },
  {
   "cell_type": "markdown",
   "id": "12997934",
   "metadata": {
    "papermill": {
     "duration": 0.044568,
     "end_time": "2023-11-13T12:55:22.062664",
     "exception": false,
     "start_time": "2023-11-13T12:55:22.018096",
     "status": "completed"
    },
    "tags": []
   },
   "source": [
    "<div style=\"border-radius:10px; border:#65647C solid; padding: 15px; background-color: #F8EDE3; font-size:100%; text-align:left\">\n",
    "\n",
    "<h3 align=\"left\"><font color='#7D6E83'><b>🗨️ Comment: </b></font></h3>\n",
    "\n",
    "* Şeklinde ortalama, medyan veya istenilen sabit bir değer ile de doldurulabilir."
   ]
  },
  {
   "cell_type": "markdown",
   "id": "03c7e75e",
   "metadata": {
    "papermill": {
     "duration": 0.044108,
     "end_time": "2023-11-13T12:55:22.150724",
     "exception": false,
     "start_time": "2023-11-13T12:55:22.106616",
     "status": "completed"
    },
    "tags": []
   },
   "source": [
    "----"
   ]
  },
  {
   "cell_type": "code",
   "execution_count": 68,
   "id": "c0922009",
   "metadata": {
    "execution": {
     "iopub.execute_input": "2023-11-13T12:55:22.242854Z",
     "iopub.status.busy": "2023-11-13T12:55:22.242538Z",
     "iopub.status.idle": "2023-11-13T12:55:22.246295Z",
     "shell.execute_reply": "2023-11-13T12:55:22.245660Z"
    },
    "papermill": {
     "duration": 0.051848,
     "end_time": "2023-11-13T12:55:22.247925",
     "exception": false,
     "start_time": "2023-11-13T12:55:22.196077",
     "status": "completed"
    },
    "tags": []
   },
   "outputs": [],
   "source": [
    "titanic = titanic_.copy()"
   ]
  },
  {
   "cell_type": "code",
   "execution_count": 69,
   "id": "082224fa",
   "metadata": {
    "execution": {
     "iopub.execute_input": "2023-11-13T12:55:22.341106Z",
     "iopub.status.busy": "2023-11-13T12:55:22.340759Z",
     "iopub.status.idle": "2023-11-13T12:55:22.363075Z",
     "shell.execute_reply": "2023-11-13T12:55:22.361713Z"
    },
    "papermill": {
     "duration": 0.071555,
     "end_time": "2023-11-13T12:55:22.365529",
     "exception": false,
     "start_time": "2023-11-13T12:55:22.293974",
     "status": "completed"
    },
    "tags": []
   },
   "outputs": [
    {
     "data": {
      "text/html": [
       "<div>\n",
       "<style scoped>\n",
       "    .dataframe tbody tr th:only-of-type {\n",
       "        vertical-align: middle;\n",
       "    }\n",
       "\n",
       "    .dataframe tbody tr th {\n",
       "        vertical-align: top;\n",
       "    }\n",
       "\n",
       "    .dataframe thead th {\n",
       "        text-align: right;\n",
       "    }\n",
       "</style>\n",
       "<table border=\"1\" class=\"dataframe\">\n",
       "  <thead>\n",
       "    <tr style=\"text-align: right;\">\n",
       "      <th></th>\n",
       "      <th>PassengerId</th>\n",
       "      <th>Survived</th>\n",
       "      <th>Pclass</th>\n",
       "      <th>Name</th>\n",
       "      <th>Sex</th>\n",
       "      <th>Age</th>\n",
       "      <th>SibSp</th>\n",
       "      <th>Parch</th>\n",
       "      <th>Ticket</th>\n",
       "      <th>Fare</th>\n",
       "      <th>Cabin</th>\n",
       "      <th>Embarked</th>\n",
       "    </tr>\n",
       "  </thead>\n",
       "  <tbody>\n",
       "    <tr>\n",
       "      <th>0</th>\n",
       "      <td>1</td>\n",
       "      <td>0</td>\n",
       "      <td>3</td>\n",
       "      <td>Braund, Mr. Owen Harris</td>\n",
       "      <td>male</td>\n",
       "      <td>22.0</td>\n",
       "      <td>1</td>\n",
       "      <td>0</td>\n",
       "      <td>A/5 21171</td>\n",
       "      <td>7.2500</td>\n",
       "      <td>NaN</td>\n",
       "      <td>S</td>\n",
       "    </tr>\n",
       "    <tr>\n",
       "      <th>1</th>\n",
       "      <td>2</td>\n",
       "      <td>1</td>\n",
       "      <td>1</td>\n",
       "      <td>Cumings, Mrs. John Bradley (Florence Briggs Th...</td>\n",
       "      <td>female</td>\n",
       "      <td>38.0</td>\n",
       "      <td>1</td>\n",
       "      <td>0</td>\n",
       "      <td>PC 17599</td>\n",
       "      <td>71.2833</td>\n",
       "      <td>C85</td>\n",
       "      <td>C</td>\n",
       "    </tr>\n",
       "    <tr>\n",
       "      <th>2</th>\n",
       "      <td>3</td>\n",
       "      <td>1</td>\n",
       "      <td>3</td>\n",
       "      <td>Heikkinen, Miss. Laina</td>\n",
       "      <td>female</td>\n",
       "      <td>26.0</td>\n",
       "      <td>0</td>\n",
       "      <td>0</td>\n",
       "      <td>STON/O2. 3101282</td>\n",
       "      <td>7.9250</td>\n",
       "      <td>NaN</td>\n",
       "      <td>S</td>\n",
       "    </tr>\n",
       "    <tr>\n",
       "      <th>3</th>\n",
       "      <td>4</td>\n",
       "      <td>1</td>\n",
       "      <td>1</td>\n",
       "      <td>Futrelle, Mrs. Jacques Heath (Lily May Peel)</td>\n",
       "      <td>female</td>\n",
       "      <td>35.0</td>\n",
       "      <td>1</td>\n",
       "      <td>0</td>\n",
       "      <td>113803</td>\n",
       "      <td>53.1000</td>\n",
       "      <td>C123</td>\n",
       "      <td>S</td>\n",
       "    </tr>\n",
       "    <tr>\n",
       "      <th>4</th>\n",
       "      <td>5</td>\n",
       "      <td>0</td>\n",
       "      <td>3</td>\n",
       "      <td>Allen, Mr. William Henry</td>\n",
       "      <td>male</td>\n",
       "      <td>35.0</td>\n",
       "      <td>0</td>\n",
       "      <td>0</td>\n",
       "      <td>373450</td>\n",
       "      <td>8.0500</td>\n",
       "      <td>NaN</td>\n",
       "      <td>S</td>\n",
       "    </tr>\n",
       "  </tbody>\n",
       "</table>\n",
       "</div>"
      ],
      "text/plain": [
       "   PassengerId  Survived  Pclass  \\\n",
       "0            1         0       3   \n",
       "1            2         1       1   \n",
       "2            3         1       3   \n",
       "3            4         1       1   \n",
       "4            5         0       3   \n",
       "\n",
       "                                                Name     Sex   Age  SibSp  \\\n",
       "0                            Braund, Mr. Owen Harris    male  22.0      1   \n",
       "1  Cumings, Mrs. John Bradley (Florence Briggs Th...  female  38.0      1   \n",
       "2                             Heikkinen, Miss. Laina  female  26.0      0   \n",
       "3       Futrelle, Mrs. Jacques Heath (Lily May Peel)  female  35.0      1   \n",
       "4                           Allen, Mr. William Henry    male  35.0      0   \n",
       "\n",
       "   Parch            Ticket     Fare Cabin Embarked  \n",
       "0      0         A/5 21171   7.2500   NaN        S  \n",
       "1      0          PC 17599  71.2833   C85        C  \n",
       "2      0  STON/O2. 3101282   7.9250   NaN        S  \n",
       "3      0            113803  53.1000  C123        S  \n",
       "4      0            373450   8.0500   NaN        S  "
      ]
     },
     "execution_count": 69,
     "metadata": {},
     "output_type": "execute_result"
    }
   ],
   "source": [
    "# Sayısal değişkenler için;\n",
    "\n",
    "titanic.apply(lambda x: x.fillna(x.mean()) if x.dtype != \"O\" else x, axis=0).head()"
   ]
  },
  {
   "cell_type": "code",
   "execution_count": 70,
   "id": "0f178663",
   "metadata": {
    "execution": {
     "iopub.execute_input": "2023-11-13T12:55:22.460421Z",
     "iopub.status.busy": "2023-11-13T12:55:22.460128Z",
     "iopub.status.idle": "2023-11-13T12:55:22.463626Z",
     "shell.execute_reply": "2023-11-13T12:55:22.462821Z"
    },
    "papermill": {
     "duration": 0.05262,
     "end_time": "2023-11-13T12:55:22.465307",
     "exception": false,
     "start_time": "2023-11-13T12:55:22.412687",
     "status": "completed"
    },
    "tags": []
   },
   "outputs": [],
   "source": [
    "# Kategorik değişkendeki eksiklikler için;\n",
    "\n",
    "# titanic[\"Embarked\"].fillna(titanic[\"Embarked\"].mode()[0]).isnull().sum()\n",
    "# titanic[\"Embarked\"].fillna(\"missing\")\n",
    "# \"missing\" ifadesi ile doldurma da yapılabilir."
   ]
  },
  {
   "cell_type": "code",
   "execution_count": 71,
   "id": "8f1033db",
   "metadata": {
    "execution": {
     "iopub.execute_input": "2023-11-13T12:55:22.555057Z",
     "iopub.status.busy": "2023-11-13T12:55:22.554638Z",
     "iopub.status.idle": "2023-11-13T12:55:22.571813Z",
     "shell.execute_reply": "2023-11-13T12:55:22.570756Z"
    },
    "papermill": {
     "duration": 0.065201,
     "end_time": "2023-11-13T12:55:22.574142",
     "exception": false,
     "start_time": "2023-11-13T12:55:22.508941",
     "status": "completed"
    },
    "tags": []
   },
   "outputs": [
    {
     "data": {
      "text/plain": [
       "PassengerId      0\n",
       "Survived         0\n",
       "Pclass           0\n",
       "Name             0\n",
       "Sex              0\n",
       "Age            177\n",
       "SibSp            0\n",
       "Parch            0\n",
       "Ticket           0\n",
       "Fare             0\n",
       "Cabin          687\n",
       "Embarked         0\n",
       "dtype: int64"
      ]
     },
     "execution_count": 71,
     "metadata": {},
     "output_type": "execute_result"
    }
   ],
   "source": [
    "titanic.apply(lambda x: x.fillna(x.mode()[0]) if (x.dtype == \"O\" and len(x.unique()) <= 10) else x, axis=0).isnull().sum()"
   ]
  },
  {
   "cell_type": "markdown",
   "id": "15915641",
   "metadata": {
    "papermill": {
     "duration": 0.045945,
     "end_time": "2023-11-13T12:55:22.665842",
     "exception": false,
     "start_time": "2023-11-13T12:55:22.619897",
     "status": "completed"
    },
    "tags": []
   },
   "source": [
    "---"
   ]
  },
  {
   "cell_type": "code",
   "execution_count": 72,
   "id": "00a90cc5",
   "metadata": {
    "execution": {
     "iopub.execute_input": "2023-11-13T12:55:22.759554Z",
     "iopub.status.busy": "2023-11-13T12:55:22.757558Z",
     "iopub.status.idle": "2023-11-13T12:55:22.770749Z",
     "shell.execute_reply": "2023-11-13T12:55:22.770038Z"
    },
    "papermill": {
     "duration": 0.0616,
     "end_time": "2023-11-13T12:55:22.772581",
     "exception": false,
     "start_time": "2023-11-13T12:55:22.710981",
     "status": "completed"
    },
    "tags": []
   },
   "outputs": [],
   "source": [
    "titanic.loc[(titanic[\"Age\"].isnull()) & (titanic[\"Sex\"]==\"female\"), \"Age\"] = titanic.groupby(\"Sex\")[\"Age\"].mean()[\"female\"]\n",
    "\n",
    "titanic.loc[(titanic[\"Age\"].isnull()) & (titanic[\"Sex\"]==\"male\"), \"Age\"] = titanic.groupby(\"Sex\")[\"Age\"].mean()[\"male\"]"
   ]
  },
  {
   "cell_type": "code",
   "execution_count": 73,
   "id": "8de03bbf",
   "metadata": {
    "execution": {
     "iopub.execute_input": "2023-11-13T12:55:22.865680Z",
     "iopub.status.busy": "2023-11-13T12:55:22.864620Z",
     "iopub.status.idle": "2023-11-13T12:55:22.873187Z",
     "shell.execute_reply": "2023-11-13T12:55:22.872239Z"
    },
    "papermill": {
     "duration": 0.057071,
     "end_time": "2023-11-13T12:55:22.874925",
     "exception": false,
     "start_time": "2023-11-13T12:55:22.817854",
     "status": "completed"
    },
    "tags": []
   },
   "outputs": [
    {
     "data": {
      "text/plain": [
       "PassengerId      0\n",
       "Survived         0\n",
       "Pclass           0\n",
       "Name             0\n",
       "Sex              0\n",
       "Age              0\n",
       "SibSp            0\n",
       "Parch            0\n",
       "Ticket           0\n",
       "Fare             0\n",
       "Cabin          687\n",
       "Embarked         2\n",
       "dtype: int64"
      ]
     },
     "execution_count": 73,
     "metadata": {},
     "output_type": "execute_result"
    }
   ],
   "source": [
    "titanic.isnull().sum()"
   ]
  },
  {
   "cell_type": "markdown",
   "id": "b75d51eb",
   "metadata": {
    "papermill": {
     "duration": 0.044274,
     "end_time": "2023-11-13T12:55:22.964442",
     "exception": false,
     "start_time": "2023-11-13T12:55:22.920168",
     "status": "completed"
    },
    "tags": []
   },
   "source": [
    "<div style=\"border-radius:10px; border:#65647C solid; padding: 15px; background-color: #F8EDE3; font-size:100%; text-align:left\">\n",
    "\n",
    "<h3 align=\"left\"><font color='#7D6E83'><b>🗨️ Comment: </b></font></h3>\n",
    "\n",
    "* Eksik yaş değerleri cinsiyete göre medyan değerlerle değiştirilebilir."
   ]
  },
  {
   "cell_type": "markdown",
   "id": "c82b27d5",
   "metadata": {
    "papermill": {
     "duration": 0.095388,
     "end_time": "2023-11-13T12:55:23.104789",
     "exception": false,
     "start_time": "2023-11-13T12:55:23.009401",
     "status": "completed"
    },
    "tags": []
   },
   "source": [
    "<a id = \"10\"></a><br>\n",
    "<p style=\"font-family: 'Pacifico', cursive; font-weight: bold; letter-spacing: 2px; color: #556B2F; font-size: 160%; text-align: left; padding: 0px; border-bottom: 3px solid\">✨Eksik Değerleri Makine Öğrenmesi İle Tahmin Etme✨</p>"
   ]
  },
  {
   "cell_type": "code",
   "execution_count": 74,
   "id": "9307e3d1",
   "metadata": {
    "execution": {
     "iopub.execute_input": "2023-11-13T12:55:23.195723Z",
     "iopub.status.busy": "2023-11-13T12:55:23.195378Z",
     "iopub.status.idle": "2023-11-13T12:55:23.199936Z",
     "shell.execute_reply": "2023-11-13T12:55:23.199032Z"
    },
    "papermill": {
     "duration": 0.051545,
     "end_time": "2023-11-13T12:55:23.201450",
     "exception": false,
     "start_time": "2023-11-13T12:55:23.149905",
     "status": "completed"
    },
    "tags": []
   },
   "outputs": [],
   "source": [
    "titanic = titanic_.copy()"
   ]
  },
  {
   "cell_type": "code",
   "execution_count": 75,
   "id": "eb49e059",
   "metadata": {
    "execution": {
     "iopub.execute_input": "2023-11-13T12:55:23.293570Z",
     "iopub.status.busy": "2023-11-13T12:55:23.293209Z",
     "iopub.status.idle": "2023-11-13T12:55:23.302640Z",
     "shell.execute_reply": "2023-11-13T12:55:23.301514Z"
    },
    "papermill": {
     "duration": 0.057695,
     "end_time": "2023-11-13T12:55:23.304328",
     "exception": false,
     "start_time": "2023-11-13T12:55:23.246633",
     "status": "completed"
    },
    "tags": []
   },
   "outputs": [
    {
     "name": "stdout",
     "output_type": "stream",
     "text": [
      "Observations: 891\n",
      "Variables: 12\n",
      "cat_cols: 6\n",
      "num_cols: 3\n",
      "cat_but_car: 3\n",
      "num_but_cat: 4\n"
     ]
    }
   ],
   "source": [
    "cat_cols, num_cols, cat_but_car = grab_col_names(titanic)"
   ]
  },
  {
   "cell_type": "code",
   "execution_count": 76,
   "id": "6de2dfcc",
   "metadata": {
    "execution": {
     "iopub.execute_input": "2023-11-13T12:55:23.401945Z",
     "iopub.status.busy": "2023-11-13T12:55:23.401180Z",
     "iopub.status.idle": "2023-11-13T12:55:23.407624Z",
     "shell.execute_reply": "2023-11-13T12:55:23.406338Z"
    },
    "papermill": {
     "duration": 0.058532,
     "end_time": "2023-11-13T12:55:23.409623",
     "exception": false,
     "start_time": "2023-11-13T12:55:23.351091",
     "status": "completed"
    },
    "tags": []
   },
   "outputs": [
    {
     "name": "stdout",
     "output_type": "stream",
     "text": [
      "Kategorik Sütunlar: ['Sex', 'Embarked', 'Survived', 'Pclass', 'SibSp', 'Parch']\n",
      "Sayısal Sütunlar: ['PassengerId', 'Age', 'Fare']\n",
      "Cardinals (Kategori fakat anlam ifade etmiyor): ['Name', 'Ticket', 'Cabin']\n"
     ]
    }
   ],
   "source": [
    "print(\"Kategorik Sütunlar:\", cat_cols)\n",
    "print(\"Sayısal Sütunlar:\", num_cols)\n",
    "print(\"Cardinals (Kategori fakat anlam ifade etmiyor):\", cat_but_car)"
   ]
  },
  {
   "cell_type": "code",
   "execution_count": 77,
   "id": "cbfa2f10",
   "metadata": {
    "execution": {
     "iopub.execute_input": "2023-11-13T12:55:23.501307Z",
     "iopub.status.busy": "2023-11-13T12:55:23.500969Z",
     "iopub.status.idle": "2023-11-13T12:55:23.506320Z",
     "shell.execute_reply": "2023-11-13T12:55:23.504773Z"
    },
    "papermill": {
     "duration": 0.053005,
     "end_time": "2023-11-13T12:55:23.507903",
     "exception": false,
     "start_time": "2023-11-13T12:55:23.454898",
     "status": "completed"
    },
    "tags": []
   },
   "outputs": [],
   "source": [
    "num_cols = [col for col in num_cols if col not in \"PassengerId\"]"
   ]
  },
  {
   "cell_type": "code",
   "execution_count": 78,
   "id": "0614ac05",
   "metadata": {
    "execution": {
     "iopub.execute_input": "2023-11-13T12:55:23.599594Z",
     "iopub.status.busy": "2023-11-13T12:55:23.599245Z",
     "iopub.status.idle": "2023-11-13T12:55:23.618433Z",
     "shell.execute_reply": "2023-11-13T12:55:23.617493Z"
    },
    "papermill": {
     "duration": 0.067417,
     "end_time": "2023-11-13T12:55:23.620463",
     "exception": false,
     "start_time": "2023-11-13T12:55:23.553046",
     "status": "completed"
    },
    "tags": []
   },
   "outputs": [
    {
     "data": {
      "text/html": [
       "<div>\n",
       "<style scoped>\n",
       "    .dataframe tbody tr th:only-of-type {\n",
       "        vertical-align: middle;\n",
       "    }\n",
       "\n",
       "    .dataframe tbody tr th {\n",
       "        vertical-align: top;\n",
       "    }\n",
       "\n",
       "    .dataframe thead th {\n",
       "        text-align: right;\n",
       "    }\n",
       "</style>\n",
       "<table border=\"1\" class=\"dataframe\">\n",
       "  <thead>\n",
       "    <tr style=\"text-align: right;\">\n",
       "      <th></th>\n",
       "      <th>Survived</th>\n",
       "      <th>Pclass</th>\n",
       "      <th>SibSp</th>\n",
       "      <th>Parch</th>\n",
       "      <th>Age</th>\n",
       "      <th>Fare</th>\n",
       "      <th>Sex_male</th>\n",
       "      <th>Embarked_Q</th>\n",
       "      <th>Embarked_S</th>\n",
       "    </tr>\n",
       "  </thead>\n",
       "  <tbody>\n",
       "    <tr>\n",
       "      <th>0</th>\n",
       "      <td>0</td>\n",
       "      <td>3</td>\n",
       "      <td>1</td>\n",
       "      <td>0</td>\n",
       "      <td>22.0</td>\n",
       "      <td>7.2500</td>\n",
       "      <td>True</td>\n",
       "      <td>False</td>\n",
       "      <td>True</td>\n",
       "    </tr>\n",
       "    <tr>\n",
       "      <th>1</th>\n",
       "      <td>1</td>\n",
       "      <td>1</td>\n",
       "      <td>1</td>\n",
       "      <td>0</td>\n",
       "      <td>38.0</td>\n",
       "      <td>71.2833</td>\n",
       "      <td>False</td>\n",
       "      <td>False</td>\n",
       "      <td>False</td>\n",
       "    </tr>\n",
       "    <tr>\n",
       "      <th>2</th>\n",
       "      <td>1</td>\n",
       "      <td>3</td>\n",
       "      <td>0</td>\n",
       "      <td>0</td>\n",
       "      <td>26.0</td>\n",
       "      <td>7.9250</td>\n",
       "      <td>False</td>\n",
       "      <td>False</td>\n",
       "      <td>True</td>\n",
       "    </tr>\n",
       "    <tr>\n",
       "      <th>3</th>\n",
       "      <td>1</td>\n",
       "      <td>1</td>\n",
       "      <td>1</td>\n",
       "      <td>0</td>\n",
       "      <td>35.0</td>\n",
       "      <td>53.1000</td>\n",
       "      <td>False</td>\n",
       "      <td>False</td>\n",
       "      <td>True</td>\n",
       "    </tr>\n",
       "    <tr>\n",
       "      <th>4</th>\n",
       "      <td>0</td>\n",
       "      <td>3</td>\n",
       "      <td>0</td>\n",
       "      <td>0</td>\n",
       "      <td>35.0</td>\n",
       "      <td>8.0500</td>\n",
       "      <td>True</td>\n",
       "      <td>False</td>\n",
       "      <td>True</td>\n",
       "    </tr>\n",
       "  </tbody>\n",
       "</table>\n",
       "</div>"
      ],
      "text/plain": [
       "   Survived  Pclass  SibSp  Parch   Age     Fare  Sex_male  Embarked_Q  \\\n",
       "0         0       3      1      0  22.0   7.2500      True       False   \n",
       "1         1       1      1      0  38.0  71.2833     False       False   \n",
       "2         1       3      0      0  26.0   7.9250     False       False   \n",
       "3         1       1      1      0  35.0  53.1000     False       False   \n",
       "4         0       3      0      0  35.0   8.0500      True       False   \n",
       "\n",
       "   Embarked_S  \n",
       "0        True  \n",
       "1       False  \n",
       "2        True  \n",
       "3        True  \n",
       "4        True  "
      ]
     },
     "execution_count": 78,
     "metadata": {},
     "output_type": "execute_result"
    }
   ],
   "source": [
    "for_predict = pd.get_dummies(titanic[cat_cols + num_cols], drop_first=True)\n",
    "for_predict.head()"
   ]
  },
  {
   "cell_type": "code",
   "execution_count": 79,
   "id": "91115e2a",
   "metadata": {
    "execution": {
     "iopub.execute_input": "2023-11-13T12:55:23.717192Z",
     "iopub.status.busy": "2023-11-13T12:55:23.716844Z",
     "iopub.status.idle": "2023-11-13T12:55:23.736951Z",
     "shell.execute_reply": "2023-11-13T12:55:23.735861Z"
    },
    "papermill": {
     "duration": 0.068788,
     "end_time": "2023-11-13T12:55:23.738715",
     "exception": false,
     "start_time": "2023-11-13T12:55:23.669927",
     "status": "completed"
    },
    "tags": []
   },
   "outputs": [
    {
     "data": {
      "text/html": [
       "<div>\n",
       "<style scoped>\n",
       "    .dataframe tbody tr th:only-of-type {\n",
       "        vertical-align: middle;\n",
       "    }\n",
       "\n",
       "    .dataframe tbody tr th {\n",
       "        vertical-align: top;\n",
       "    }\n",
       "\n",
       "    .dataframe thead th {\n",
       "        text-align: right;\n",
       "    }\n",
       "</style>\n",
       "<table border=\"1\" class=\"dataframe\">\n",
       "  <thead>\n",
       "    <tr style=\"text-align: right;\">\n",
       "      <th></th>\n",
       "      <th>Survived</th>\n",
       "      <th>Pclass</th>\n",
       "      <th>SibSp</th>\n",
       "      <th>Parch</th>\n",
       "      <th>Age</th>\n",
       "      <th>Fare</th>\n",
       "      <th>Sex_male</th>\n",
       "      <th>Embarked_Q</th>\n",
       "      <th>Embarked_S</th>\n",
       "    </tr>\n",
       "  </thead>\n",
       "  <tbody>\n",
       "    <tr>\n",
       "      <th>0</th>\n",
       "      <td>0.0</td>\n",
       "      <td>1.0</td>\n",
       "      <td>0.125</td>\n",
       "      <td>0.0</td>\n",
       "      <td>0.271174</td>\n",
       "      <td>0.014151</td>\n",
       "      <td>1.0</td>\n",
       "      <td>0.0</td>\n",
       "      <td>1.0</td>\n",
       "    </tr>\n",
       "    <tr>\n",
       "      <th>1</th>\n",
       "      <td>1.0</td>\n",
       "      <td>0.0</td>\n",
       "      <td>0.125</td>\n",
       "      <td>0.0</td>\n",
       "      <td>0.472229</td>\n",
       "      <td>0.139136</td>\n",
       "      <td>0.0</td>\n",
       "      <td>0.0</td>\n",
       "      <td>0.0</td>\n",
       "    </tr>\n",
       "    <tr>\n",
       "      <th>2</th>\n",
       "      <td>1.0</td>\n",
       "      <td>1.0</td>\n",
       "      <td>0.000</td>\n",
       "      <td>0.0</td>\n",
       "      <td>0.321438</td>\n",
       "      <td>0.015469</td>\n",
       "      <td>0.0</td>\n",
       "      <td>0.0</td>\n",
       "      <td>1.0</td>\n",
       "    </tr>\n",
       "    <tr>\n",
       "      <th>3</th>\n",
       "      <td>1.0</td>\n",
       "      <td>0.0</td>\n",
       "      <td>0.125</td>\n",
       "      <td>0.0</td>\n",
       "      <td>0.434531</td>\n",
       "      <td>0.103644</td>\n",
       "      <td>0.0</td>\n",
       "      <td>0.0</td>\n",
       "      <td>1.0</td>\n",
       "    </tr>\n",
       "    <tr>\n",
       "      <th>4</th>\n",
       "      <td>0.0</td>\n",
       "      <td>1.0</td>\n",
       "      <td>0.000</td>\n",
       "      <td>0.0</td>\n",
       "      <td>0.434531</td>\n",
       "      <td>0.015713</td>\n",
       "      <td>1.0</td>\n",
       "      <td>0.0</td>\n",
       "      <td>1.0</td>\n",
       "    </tr>\n",
       "  </tbody>\n",
       "</table>\n",
       "</div>"
      ],
      "text/plain": [
       "   Survived  Pclass  SibSp  Parch       Age      Fare  Sex_male  Embarked_Q  \\\n",
       "0       0.0     1.0  0.125    0.0  0.271174  0.014151       1.0         0.0   \n",
       "1       1.0     0.0  0.125    0.0  0.472229  0.139136       0.0         0.0   \n",
       "2       1.0     1.0  0.000    0.0  0.321438  0.015469       0.0         0.0   \n",
       "3       1.0     0.0  0.125    0.0  0.434531  0.103644       0.0         0.0   \n",
       "4       0.0     1.0  0.000    0.0  0.434531  0.015713       1.0         0.0   \n",
       "\n",
       "   Embarked_S  \n",
       "0         1.0  \n",
       "1         0.0  \n",
       "2         1.0  \n",
       "3         1.0  \n",
       "4         1.0  "
      ]
     },
     "execution_count": 79,
     "metadata": {},
     "output_type": "execute_result"
    }
   ],
   "source": [
    "scaler = MinMaxScaler()\n",
    "for_predict = pd.DataFrame(scaler.fit_transform(for_predict), columns=for_predict.columns)\n",
    "for_predict.head()"
   ]
  },
  {
   "cell_type": "markdown",
   "id": "31ddfdb2",
   "metadata": {
    "papermill": {
     "duration": 0.0462,
     "end_time": "2023-11-13T12:55:23.831095",
     "exception": false,
     "start_time": "2023-11-13T12:55:23.784895",
     "status": "completed"
    },
    "tags": []
   },
   "source": [
    "<div style=\"border-radius:10px; border:#65647C solid; padding: 15px; background-color: #F8EDE3; font-size:100%; text-align:left\">\n",
    "\n",
    "<h3 align=\"left\"><font color='#7D6E83'><b>🗨️ Comment: </b></font></h3>\n",
    "\n",
    "* Veri içindeki değerlere 0 ile 1 arasında standartlaştırma işlemi uyguladık. Makine öğrenmesi modeli kullanmadan önce bu forma getirmemiz gerekiyordu."
   ]
  },
  {
   "cell_type": "code",
   "execution_count": 80,
   "id": "44f1ce28",
   "metadata": {
    "execution": {
     "iopub.execute_input": "2023-11-13T12:55:23.924369Z",
     "iopub.status.busy": "2023-11-13T12:55:23.923931Z",
     "iopub.status.idle": "2023-11-13T12:55:23.965268Z",
     "shell.execute_reply": "2023-11-13T12:55:23.964376Z"
    },
    "papermill": {
     "duration": 0.089589,
     "end_time": "2023-11-13T12:55:23.967089",
     "exception": false,
     "start_time": "2023-11-13T12:55:23.877500",
     "status": "completed"
    },
    "tags": []
   },
   "outputs": [
    {
     "data": {
      "text/html": [
       "<div>\n",
       "<style scoped>\n",
       "    .dataframe tbody tr th:only-of-type {\n",
       "        vertical-align: middle;\n",
       "    }\n",
       "\n",
       "    .dataframe tbody tr th {\n",
       "        vertical-align: top;\n",
       "    }\n",
       "\n",
       "    .dataframe thead th {\n",
       "        text-align: right;\n",
       "    }\n",
       "</style>\n",
       "<table border=\"1\" class=\"dataframe\">\n",
       "  <thead>\n",
       "    <tr style=\"text-align: right;\">\n",
       "      <th></th>\n",
       "      <th>Survived</th>\n",
       "      <th>Pclass</th>\n",
       "      <th>SibSp</th>\n",
       "      <th>Parch</th>\n",
       "      <th>Age</th>\n",
       "      <th>Fare</th>\n",
       "      <th>Sex_male</th>\n",
       "      <th>Embarked_Q</th>\n",
       "      <th>Embarked_S</th>\n",
       "    </tr>\n",
       "  </thead>\n",
       "  <tbody>\n",
       "    <tr>\n",
       "      <th>0</th>\n",
       "      <td>0.0</td>\n",
       "      <td>1.0</td>\n",
       "      <td>0.125</td>\n",
       "      <td>0.0</td>\n",
       "      <td>0.271174</td>\n",
       "      <td>0.014151</td>\n",
       "      <td>1.0</td>\n",
       "      <td>0.0</td>\n",
       "      <td>1.0</td>\n",
       "    </tr>\n",
       "    <tr>\n",
       "      <th>1</th>\n",
       "      <td>1.0</td>\n",
       "      <td>0.0</td>\n",
       "      <td>0.125</td>\n",
       "      <td>0.0</td>\n",
       "      <td>0.472229</td>\n",
       "      <td>0.139136</td>\n",
       "      <td>0.0</td>\n",
       "      <td>0.0</td>\n",
       "      <td>0.0</td>\n",
       "    </tr>\n",
       "    <tr>\n",
       "      <th>2</th>\n",
       "      <td>1.0</td>\n",
       "      <td>1.0</td>\n",
       "      <td>0.000</td>\n",
       "      <td>0.0</td>\n",
       "      <td>0.321438</td>\n",
       "      <td>0.015469</td>\n",
       "      <td>0.0</td>\n",
       "      <td>0.0</td>\n",
       "      <td>1.0</td>\n",
       "    </tr>\n",
       "    <tr>\n",
       "      <th>3</th>\n",
       "      <td>1.0</td>\n",
       "      <td>0.0</td>\n",
       "      <td>0.125</td>\n",
       "      <td>0.0</td>\n",
       "      <td>0.434531</td>\n",
       "      <td>0.103644</td>\n",
       "      <td>0.0</td>\n",
       "      <td>0.0</td>\n",
       "      <td>1.0</td>\n",
       "    </tr>\n",
       "    <tr>\n",
       "      <th>4</th>\n",
       "      <td>0.0</td>\n",
       "      <td>1.0</td>\n",
       "      <td>0.000</td>\n",
       "      <td>0.0</td>\n",
       "      <td>0.434531</td>\n",
       "      <td>0.015713</td>\n",
       "      <td>1.0</td>\n",
       "      <td>0.0</td>\n",
       "      <td>1.0</td>\n",
       "    </tr>\n",
       "  </tbody>\n",
       "</table>\n",
       "</div>"
      ],
      "text/plain": [
       "   Survived  Pclass  SibSp  Parch       Age      Fare  Sex_male  Embarked_Q  \\\n",
       "0       0.0     1.0  0.125    0.0  0.271174  0.014151       1.0         0.0   \n",
       "1       1.0     0.0  0.125    0.0  0.472229  0.139136       0.0         0.0   \n",
       "2       1.0     1.0  0.000    0.0  0.321438  0.015469       0.0         0.0   \n",
       "3       1.0     0.0  0.125    0.0  0.434531  0.103644       0.0         0.0   \n",
       "4       0.0     1.0  0.000    0.0  0.434531  0.015713       1.0         0.0   \n",
       "\n",
       "   Embarked_S  \n",
       "0         1.0  \n",
       "1         0.0  \n",
       "2         1.0  \n",
       "3         1.0  \n",
       "4         1.0  "
      ]
     },
     "execution_count": 80,
     "metadata": {},
     "output_type": "execute_result"
    }
   ],
   "source": [
    "from sklearn.impute import KNNImputer\n",
    "\n",
    "imputer = KNNImputer(n_neighbors=5)\n",
    "\n",
    "for_predict = pd.DataFrame(imputer.fit_transform(for_predict), columns=for_predict.columns)\n",
    "for_predict.head()"
   ]
  },
  {
   "cell_type": "markdown",
   "id": "fc7ffe1c",
   "metadata": {
    "papermill": {
     "duration": 0.053469,
     "end_time": "2023-11-13T12:55:24.079838",
     "exception": false,
     "start_time": "2023-11-13T12:55:24.026369",
     "status": "completed"
    },
    "tags": []
   },
   "source": [
    "<div style=\"border-radius:10px; border:#65647C solid; padding: 15px; background-color: #F8EDE3; font-size:100%; text-align:left\">\n",
    "\n",
    "<h3 align=\"left\"><font color='#7D6E83'><b>🗨️ Comment: </b></font></h3>\n",
    "\n",
    "* Makine öğrenmesi modeli ile tahmine dayalı eksik değerleri doldurma yapabiliriz.\n",
    "* KNN uzaklık temelli bir yöntem olarak bir noktanın (değerin) komşularına bakıp, ona en uygun değeri tahmin eder. \n",
    "* En yakın komşularından 5 tanesinin ortalamasını alarak yeni değeri ekler.\n",
    "* Buraya kadar eksik değerlerin doldurulması tamamlandı. Fakat görünüme bakacak olursanız halen standartlaştırılmış formda durmaktadır. Bu yüzden işlemi geri alıp, normal formuna dönüştürmeliyiz."
   ]
  },
  {
   "cell_type": "code",
   "execution_count": 81,
   "id": "b5ce0e68",
   "metadata": {
    "execution": {
     "iopub.execute_input": "2023-11-13T12:55:24.174677Z",
     "iopub.status.busy": "2023-11-13T12:55:24.174366Z",
     "iopub.status.idle": "2023-11-13T12:55:24.189422Z",
     "shell.execute_reply": "2023-11-13T12:55:24.188855Z"
    },
    "papermill": {
     "duration": 0.064473,
     "end_time": "2023-11-13T12:55:24.191108",
     "exception": false,
     "start_time": "2023-11-13T12:55:24.126635",
     "status": "completed"
    },
    "tags": []
   },
   "outputs": [
    {
     "data": {
      "text/html": [
       "<div>\n",
       "<style scoped>\n",
       "    .dataframe tbody tr th:only-of-type {\n",
       "        vertical-align: middle;\n",
       "    }\n",
       "\n",
       "    .dataframe tbody tr th {\n",
       "        vertical-align: top;\n",
       "    }\n",
       "\n",
       "    .dataframe thead th {\n",
       "        text-align: right;\n",
       "    }\n",
       "</style>\n",
       "<table border=\"1\" class=\"dataframe\">\n",
       "  <thead>\n",
       "    <tr style=\"text-align: right;\">\n",
       "      <th></th>\n",
       "      <th>Survived</th>\n",
       "      <th>Pclass</th>\n",
       "      <th>SibSp</th>\n",
       "      <th>Parch</th>\n",
       "      <th>Age</th>\n",
       "      <th>Fare</th>\n",
       "      <th>Sex_male</th>\n",
       "      <th>Embarked_Q</th>\n",
       "      <th>Embarked_S</th>\n",
       "    </tr>\n",
       "  </thead>\n",
       "  <tbody>\n",
       "    <tr>\n",
       "      <th>0</th>\n",
       "      <td>0.0</td>\n",
       "      <td>3.0</td>\n",
       "      <td>1.0</td>\n",
       "      <td>0.0</td>\n",
       "      <td>22.0</td>\n",
       "      <td>7.2500</td>\n",
       "      <td>1.0</td>\n",
       "      <td>0.0</td>\n",
       "      <td>1.0</td>\n",
       "    </tr>\n",
       "    <tr>\n",
       "      <th>1</th>\n",
       "      <td>1.0</td>\n",
       "      <td>1.0</td>\n",
       "      <td>1.0</td>\n",
       "      <td>0.0</td>\n",
       "      <td>38.0</td>\n",
       "      <td>71.2833</td>\n",
       "      <td>0.0</td>\n",
       "      <td>0.0</td>\n",
       "      <td>0.0</td>\n",
       "    </tr>\n",
       "    <tr>\n",
       "      <th>2</th>\n",
       "      <td>1.0</td>\n",
       "      <td>3.0</td>\n",
       "      <td>0.0</td>\n",
       "      <td>0.0</td>\n",
       "      <td>26.0</td>\n",
       "      <td>7.9250</td>\n",
       "      <td>0.0</td>\n",
       "      <td>0.0</td>\n",
       "      <td>1.0</td>\n",
       "    </tr>\n",
       "    <tr>\n",
       "      <th>3</th>\n",
       "      <td>1.0</td>\n",
       "      <td>1.0</td>\n",
       "      <td>1.0</td>\n",
       "      <td>0.0</td>\n",
       "      <td>35.0</td>\n",
       "      <td>53.1000</td>\n",
       "      <td>0.0</td>\n",
       "      <td>0.0</td>\n",
       "      <td>1.0</td>\n",
       "    </tr>\n",
       "    <tr>\n",
       "      <th>4</th>\n",
       "      <td>0.0</td>\n",
       "      <td>3.0</td>\n",
       "      <td>0.0</td>\n",
       "      <td>0.0</td>\n",
       "      <td>35.0</td>\n",
       "      <td>8.0500</td>\n",
       "      <td>1.0</td>\n",
       "      <td>0.0</td>\n",
       "      <td>1.0</td>\n",
       "    </tr>\n",
       "  </tbody>\n",
       "</table>\n",
       "</div>"
      ],
      "text/plain": [
       "   Survived  Pclass  SibSp  Parch   Age     Fare  Sex_male  Embarked_Q  \\\n",
       "0       0.0     3.0    1.0    0.0  22.0   7.2500       1.0         0.0   \n",
       "1       1.0     1.0    1.0    0.0  38.0  71.2833       0.0         0.0   \n",
       "2       1.0     3.0    0.0    0.0  26.0   7.9250       0.0         0.0   \n",
       "3       1.0     1.0    1.0    0.0  35.0  53.1000       0.0         0.0   \n",
       "4       0.0     3.0    0.0    0.0  35.0   8.0500       1.0         0.0   \n",
       "\n",
       "   Embarked_S  \n",
       "0         1.0  \n",
       "1         0.0  \n",
       "2         1.0  \n",
       "3         1.0  \n",
       "4         1.0  "
      ]
     },
     "execution_count": 81,
     "metadata": {},
     "output_type": "execute_result"
    }
   ],
   "source": [
    "for_predict = pd.DataFrame(scaler.inverse_transform(for_predict), columns=for_predict.columns)\n",
    "for_predict.head()"
   ]
  },
  {
   "cell_type": "markdown",
   "id": "3d14c955",
   "metadata": {
    "papermill": {
     "duration": 0.046852,
     "end_time": "2023-11-13T12:55:24.286210",
     "exception": false,
     "start_time": "2023-11-13T12:55:24.239358",
     "status": "completed"
    },
    "tags": []
   },
   "source": [
    "<div style=\"border-radius:10px; border:#65647C solid; padding: 15px; background-color: #F8EDE3; font-size:100%; text-align:left\">\n",
    "\n",
    "<h3 align=\"left\"><font color='#7D6E83'><b>🗨️ Comment: </b></font></h3>\n",
    "    \n",
    "* Peki hangi değerleri atadığını veya yapılan değişiklikleri gözlemlemek istersek?"
   ]
  },
  {
   "cell_type": "code",
   "execution_count": 82,
   "id": "e5ae51ca",
   "metadata": {
    "execution": {
     "iopub.execute_input": "2023-11-13T12:55:24.385141Z",
     "iopub.status.busy": "2023-11-13T12:55:24.384509Z",
     "iopub.status.idle": "2023-11-13T12:55:24.390819Z",
     "shell.execute_reply": "2023-11-13T12:55:24.389809Z"
    },
    "papermill": {
     "duration": 0.059652,
     "end_time": "2023-11-13T12:55:24.393181",
     "exception": false,
     "start_time": "2023-11-13T12:55:24.333529",
     "status": "completed"
    },
    "tags": []
   },
   "outputs": [],
   "source": [
    "titanic[\"Age_Imputed_KNN\"] = for_predict[[\"Age\"]]"
   ]
  },
  {
   "cell_type": "code",
   "execution_count": 83,
   "id": "878c6571",
   "metadata": {
    "execution": {
     "iopub.execute_input": "2023-11-13T12:55:24.487930Z",
     "iopub.status.busy": "2023-11-13T12:55:24.487420Z",
     "iopub.status.idle": "2023-11-13T12:55:24.497232Z",
     "shell.execute_reply": "2023-11-13T12:55:24.496145Z"
    },
    "papermill": {
     "duration": 0.058813,
     "end_time": "2023-11-13T12:55:24.498992",
     "exception": false,
     "start_time": "2023-11-13T12:55:24.440179",
     "status": "completed"
    },
    "tags": []
   },
   "outputs": [
    {
     "data": {
      "text/html": [
       "<div>\n",
       "<style scoped>\n",
       "    .dataframe tbody tr th:only-of-type {\n",
       "        vertical-align: middle;\n",
       "    }\n",
       "\n",
       "    .dataframe tbody tr th {\n",
       "        vertical-align: top;\n",
       "    }\n",
       "\n",
       "    .dataframe thead th {\n",
       "        text-align: right;\n",
       "    }\n",
       "</style>\n",
       "<table border=\"1\" class=\"dataframe\">\n",
       "  <thead>\n",
       "    <tr style=\"text-align: right;\">\n",
       "      <th></th>\n",
       "      <th>Age</th>\n",
       "      <th>Age_Imputed_KNN</th>\n",
       "    </tr>\n",
       "  </thead>\n",
       "  <tbody>\n",
       "    <tr>\n",
       "      <th>5</th>\n",
       "      <td>NaN</td>\n",
       "      <td>47.8</td>\n",
       "    </tr>\n",
       "    <tr>\n",
       "      <th>17</th>\n",
       "      <td>NaN</td>\n",
       "      <td>37.6</td>\n",
       "    </tr>\n",
       "    <tr>\n",
       "      <th>19</th>\n",
       "      <td>NaN</td>\n",
       "      <td>12.2</td>\n",
       "    </tr>\n",
       "    <tr>\n",
       "      <th>26</th>\n",
       "      <td>NaN</td>\n",
       "      <td>32.8</td>\n",
       "    </tr>\n",
       "    <tr>\n",
       "      <th>28</th>\n",
       "      <td>NaN</td>\n",
       "      <td>17.6</td>\n",
       "    </tr>\n",
       "  </tbody>\n",
       "</table>\n",
       "</div>"
      ],
      "text/plain": [
       "    Age  Age_Imputed_KNN\n",
       "5   NaN             47.8\n",
       "17  NaN             37.6\n",
       "19  NaN             12.2\n",
       "26  NaN             32.8\n",
       "28  NaN             17.6"
      ]
     },
     "execution_count": 83,
     "metadata": {},
     "output_type": "execute_result"
    }
   ],
   "source": [
    "titanic.loc[titanic[\"Age\"].isnull(), [\"Age\", \"Age_Imputed_KNN\"]].head()"
   ]
  },
  {
   "cell_type": "code",
   "execution_count": 84,
   "id": "f9e95bc5",
   "metadata": {
    "execution": {
     "iopub.execute_input": "2023-11-13T12:55:24.593629Z",
     "iopub.status.busy": "2023-11-13T12:55:24.593287Z",
     "iopub.status.idle": "2023-11-13T12:55:24.609318Z",
     "shell.execute_reply": "2023-11-13T12:55:24.607804Z"
    },
    "papermill": {
     "duration": 0.06662,
     "end_time": "2023-11-13T12:55:24.612148",
     "exception": false,
     "start_time": "2023-11-13T12:55:24.545528",
     "status": "completed"
    },
    "tags": []
   },
   "outputs": [
    {
     "data": {
      "text/html": [
       "<div>\n",
       "<style scoped>\n",
       "    .dataframe tbody tr th:only-of-type {\n",
       "        vertical-align: middle;\n",
       "    }\n",
       "\n",
       "    .dataframe tbody tr th {\n",
       "        vertical-align: top;\n",
       "    }\n",
       "\n",
       "    .dataframe thead th {\n",
       "        text-align: right;\n",
       "    }\n",
       "</style>\n",
       "<table border=\"1\" class=\"dataframe\">\n",
       "  <thead>\n",
       "    <tr style=\"text-align: right;\">\n",
       "      <th></th>\n",
       "      <th>PassengerId</th>\n",
       "      <th>Survived</th>\n",
       "      <th>Pclass</th>\n",
       "      <th>Name</th>\n",
       "      <th>Sex</th>\n",
       "      <th>Age</th>\n",
       "      <th>SibSp</th>\n",
       "      <th>Parch</th>\n",
       "      <th>Ticket</th>\n",
       "      <th>Fare</th>\n",
       "      <th>Cabin</th>\n",
       "      <th>Embarked</th>\n",
       "      <th>Age_Imputed_KNN</th>\n",
       "    </tr>\n",
       "  </thead>\n",
       "  <tbody>\n",
       "    <tr>\n",
       "      <th>5</th>\n",
       "      <td>6</td>\n",
       "      <td>0</td>\n",
       "      <td>3</td>\n",
       "      <td>Moran, Mr. James</td>\n",
       "      <td>male</td>\n",
       "      <td>NaN</td>\n",
       "      <td>0</td>\n",
       "      <td>0</td>\n",
       "      <td>330877</td>\n",
       "      <td>8.4583</td>\n",
       "      <td>NaN</td>\n",
       "      <td>Q</td>\n",
       "      <td>47.8</td>\n",
       "    </tr>\n",
       "    <tr>\n",
       "      <th>17</th>\n",
       "      <td>18</td>\n",
       "      <td>1</td>\n",
       "      <td>2</td>\n",
       "      <td>Williams, Mr. Charles Eugene</td>\n",
       "      <td>male</td>\n",
       "      <td>NaN</td>\n",
       "      <td>0</td>\n",
       "      <td>0</td>\n",
       "      <td>244373</td>\n",
       "      <td>13.0000</td>\n",
       "      <td>NaN</td>\n",
       "      <td>S</td>\n",
       "      <td>37.6</td>\n",
       "    </tr>\n",
       "    <tr>\n",
       "      <th>19</th>\n",
       "      <td>20</td>\n",
       "      <td>1</td>\n",
       "      <td>3</td>\n",
       "      <td>Masselmani, Mrs. Fatima</td>\n",
       "      <td>female</td>\n",
       "      <td>NaN</td>\n",
       "      <td>0</td>\n",
       "      <td>0</td>\n",
       "      <td>2649</td>\n",
       "      <td>7.2250</td>\n",
       "      <td>NaN</td>\n",
       "      <td>C</td>\n",
       "      <td>12.2</td>\n",
       "    </tr>\n",
       "    <tr>\n",
       "      <th>26</th>\n",
       "      <td>27</td>\n",
       "      <td>0</td>\n",
       "      <td>3</td>\n",
       "      <td>Emir, Mr. Farred Chehab</td>\n",
       "      <td>male</td>\n",
       "      <td>NaN</td>\n",
       "      <td>0</td>\n",
       "      <td>0</td>\n",
       "      <td>2631</td>\n",
       "      <td>7.2250</td>\n",
       "      <td>NaN</td>\n",
       "      <td>C</td>\n",
       "      <td>32.8</td>\n",
       "    </tr>\n",
       "    <tr>\n",
       "      <th>28</th>\n",
       "      <td>29</td>\n",
       "      <td>1</td>\n",
       "      <td>3</td>\n",
       "      <td>O'Dwyer, Miss. Ellen \"Nellie\"</td>\n",
       "      <td>female</td>\n",
       "      <td>NaN</td>\n",
       "      <td>0</td>\n",
       "      <td>0</td>\n",
       "      <td>330959</td>\n",
       "      <td>7.8792</td>\n",
       "      <td>NaN</td>\n",
       "      <td>Q</td>\n",
       "      <td>17.6</td>\n",
       "    </tr>\n",
       "  </tbody>\n",
       "</table>\n",
       "</div>"
      ],
      "text/plain": [
       "    PassengerId  Survived  Pclass                           Name     Sex  Age  \\\n",
       "5             6         0       3               Moran, Mr. James    male  NaN   \n",
       "17           18         1       2   Williams, Mr. Charles Eugene    male  NaN   \n",
       "19           20         1       3        Masselmani, Mrs. Fatima  female  NaN   \n",
       "26           27         0       3        Emir, Mr. Farred Chehab    male  NaN   \n",
       "28           29         1       3  O'Dwyer, Miss. Ellen \"Nellie\"  female  NaN   \n",
       "\n",
       "    SibSp  Parch  Ticket     Fare Cabin Embarked  Age_Imputed_KNN  \n",
       "5       0      0  330877   8.4583   NaN        Q             47.8  \n",
       "17      0      0  244373  13.0000   NaN        S             37.6  \n",
       "19      0      0    2649   7.2250   NaN        C             12.2  \n",
       "26      0      0    2631   7.2250   NaN        C             32.8  \n",
       "28      0      0  330959   7.8792   NaN        Q             17.6  "
      ]
     },
     "execution_count": 84,
     "metadata": {},
     "output_type": "execute_result"
    }
   ],
   "source": [
    "titanic.loc[titanic[\"Age\"].isnull()].head()"
   ]
  },
  {
   "cell_type": "markdown",
   "id": "1439b313",
   "metadata": {
    "papermill": {
     "duration": 0.046934,
     "end_time": "2023-11-13T12:55:24.713351",
     "exception": false,
     "start_time": "2023-11-13T12:55:24.666417",
     "status": "completed"
    },
    "tags": []
   },
   "source": [
    "<a id = \"11\"></a><br>\n",
    "<p style=\"font-family: 'Pacifico', cursive; font-weight: bold; letter-spacing: 2px; color: #556B2F; font-size: 160%; text-align: left; padding: 0px; border-bottom: 3px solid\">✨Eksik Değerlerin Bağımlı Değişken ile İlişkisinin İncelenmesi✨</p>"
   ]
  },
  {
   "cell_type": "code",
   "execution_count": 85,
   "id": "6f959e50",
   "metadata": {
    "execution": {
     "iopub.execute_input": "2023-11-13T12:55:24.808778Z",
     "iopub.status.busy": "2023-11-13T12:55:24.808409Z",
     "iopub.status.idle": "2023-11-13T12:55:24.813505Z",
     "shell.execute_reply": "2023-11-13T12:55:24.812483Z"
    },
    "papermill": {
     "duration": 0.055534,
     "end_time": "2023-11-13T12:55:24.815344",
     "exception": false,
     "start_time": "2023-11-13T12:55:24.759810",
     "status": "completed"
    },
    "tags": []
   },
   "outputs": [],
   "source": [
    "titanic = titanic_.copy()"
   ]
  },
  {
   "cell_type": "code",
   "execution_count": 86,
   "id": "0ecd8db9",
   "metadata": {
    "execution": {
     "iopub.execute_input": "2023-11-13T12:55:24.913327Z",
     "iopub.status.busy": "2023-11-13T12:55:24.912909Z",
     "iopub.status.idle": "2023-11-13T12:55:25.719102Z",
     "shell.execute_reply": "2023-11-13T12:55:25.718356Z"
    },
    "papermill": {
     "duration": 0.856813,
     "end_time": "2023-11-13T12:55:25.721241",
     "exception": false,
     "start_time": "2023-11-13T12:55:24.864428",
     "status": "completed"
    },
    "tags": []
   },
   "outputs": [
    {
     "data": {
      "image/png": "[encoded data removed]",
      "text/plain": [
       "<Figure size 1000x400 with 3 Axes>"
      ]
     },
     "metadata": {},
     "output_type": "display_data"
    }
   ],
   "source": [
    "msno.bar(titanic)\n",
    "fig = plt.gcf()\n",
    "fig.set_size_inches(10, 4)\n",
    "plt.show()"
   ]
  },
  {
   "cell_type": "code",
   "execution_count": 87,
   "id": "ef63854f",
   "metadata": {
    "execution": {
     "iopub.execute_input": "2023-11-13T12:55:25.825026Z",
     "iopub.status.busy": "2023-11-13T12:55:25.824623Z",
     "iopub.status.idle": "2023-11-13T12:55:26.072683Z",
     "shell.execute_reply": "2023-11-13T12:55:26.071713Z"
    },
    "papermill": {
     "duration": 0.299509,
     "end_time": "2023-11-13T12:55:26.074424",
     "exception": false,
     "start_time": "2023-11-13T12:55:25.774915",
     "status": "completed"
    },
    "tags": []
   },
   "outputs": [
    {
     "data": {
      "image/png": "[encoded data removed]",
      "text/plain": [
       "<Figure size 900x400 with 2 Axes>"
      ]
     },
     "metadata": {},
     "output_type": "display_data"
    }
   ],
   "source": [
    "msno.heatmap(titanic)\n",
    "fig = plt.gcf()\n",
    "fig.set_size_inches(9, 4)\n",
    "plt.show()"
   ]
  },
  {
   "cell_type": "code",
   "execution_count": 88,
   "id": "2b5c8043",
   "metadata": {
    "execution": {
     "iopub.execute_input": "2023-11-13T12:55:26.171218Z",
     "iopub.status.busy": "2023-11-13T12:55:26.170645Z",
     "iopub.status.idle": "2023-11-13T12:55:26.577629Z",
     "shell.execute_reply": "2023-11-13T12:55:26.576715Z"
    },
    "papermill": {
     "duration": 0.457533,
     "end_time": "2023-11-13T12:55:26.579392",
     "exception": false,
     "start_time": "2023-11-13T12:55:26.121859",
     "status": "completed"
    },
    "tags": []
   },
   "outputs": [
    {
     "data": {
      "image/png": "[encoded data removed]",
      "text/plain": [
       "<Figure size 1400x600 with 2 Axes>"
      ]
     },
     "metadata": {},
     "output_type": "display_data"
    }
   ],
   "source": [
    "plt.figure(figsize=(14,len(num_cols)*3))\n",
    "for idx,column in enumerate(num_cols):\n",
    "    plt.subplot(len(num_cols)//2+1,2,idx+1)\n",
    "    sns.boxplot(x=\"Pclass\", y=column, data=titanic,palette=\"pastel\")\n",
    "    plt.title(f\"{column} Distribution\")\n",
    "    plt.tight_layout()"
   ]
  },
  {
   "cell_type": "code",
   "execution_count": 89,
   "id": "a7484b8c",
   "metadata": {
    "execution": {
     "iopub.execute_input": "2023-11-13T12:55:26.680622Z",
     "iopub.status.busy": "2023-11-13T12:55:26.679969Z",
     "iopub.status.idle": "2023-11-13T12:55:26.691798Z",
     "shell.execute_reply": "2023-11-13T12:55:26.690768Z"
    },
    "papermill": {
     "duration": 0.064458,
     "end_time": "2023-11-13T12:55:26.693413",
     "exception": false,
     "start_time": "2023-11-13T12:55:26.628955",
     "status": "completed"
    },
    "tags": []
   },
   "outputs": [
    {
     "name": "stdout",
     "output_type": "stream",
     "text": [
      "|          |   n_miss |   ratio |\n",
      "|:---------|---------:|--------:|\n",
      "| Cabin    |      687 |   77.1  |\n",
      "| Age      |      177 |   19.87 |\n",
      "| Embarked |        2 |    0.22 |\n"
     ]
    }
   ],
   "source": [
    "missing_cols = missing_values_table(titanic, True)"
   ]
  },
  {
   "cell_type": "code",
   "execution_count": 90,
   "id": "61614ee2",
   "metadata": {
    "execution": {
     "iopub.execute_input": "2023-11-13T12:55:26.791535Z",
     "iopub.status.busy": "2023-11-13T12:55:26.790926Z",
     "iopub.status.idle": "2023-11-13T12:55:26.796810Z",
     "shell.execute_reply": "2023-11-13T12:55:26.795932Z"
    },
    "papermill": {
     "duration": 0.057854,
     "end_time": "2023-11-13T12:55:26.798702",
     "exception": false,
     "start_time": "2023-11-13T12:55:26.740848",
     "status": "completed"
    },
    "tags": []
   },
   "outputs": [
    {
     "data": {
      "text/plain": [
       "['Age', 'Cabin', 'Embarked']"
      ]
     },
     "execution_count": 90,
     "metadata": {},
     "output_type": "execute_result"
    }
   ],
   "source": [
    "missing_cols"
   ]
  },
  {
   "cell_type": "code",
   "execution_count": 91,
   "id": "a8d8b6c7",
   "metadata": {
    "execution": {
     "iopub.execute_input": "2023-11-13T12:55:26.900131Z",
     "iopub.status.busy": "2023-11-13T12:55:26.899768Z",
     "iopub.status.idle": "2023-11-13T12:55:26.906567Z",
     "shell.execute_reply": "2023-11-13T12:55:26.905249Z"
    },
    "papermill": {
     "duration": 0.058175,
     "end_time": "2023-11-13T12:55:26.908562",
     "exception": false,
     "start_time": "2023-11-13T12:55:26.850387",
     "status": "completed"
    },
    "tags": []
   },
   "outputs": [],
   "source": [
    "def missing_vs_target(dataframe, target, na_columns):\n",
    "    temp_df = dataframe.copy()\n",
    "\n",
    "    for col in na_columns:\n",
    "        temp_df[col + '_NA_FLAG'] = np.where(temp_df[col].isnull(), 1, 0)\n",
    "\n",
    "    na_flags = temp_df.loc[:, temp_df.columns.str.contains(\"_NA_\")].columns\n",
    "\n",
    "    for col in na_flags:\n",
    "        result_df = pd.DataFrame({\"TARGET_MEAN\": temp_df.groupby(col)[target].mean(),\n",
    "                                  \"Count\": temp_df.groupby(col)[target].count()})\n",
    "        print(result_df.to_markdown(), end=\"\\n\\n\\n\")"
   ]
  },
  {
   "cell_type": "code",
   "execution_count": 92,
   "id": "1895db64",
   "metadata": {
    "execution": {
     "iopub.execute_input": "2023-11-13T12:55:27.007682Z",
     "iopub.status.busy": "2023-11-13T12:55:27.006857Z",
     "iopub.status.idle": "2023-11-13T12:55:27.019766Z",
     "shell.execute_reply": "2023-11-13T12:55:27.018786Z"
    },
    "papermill": {
     "duration": 0.06376,
     "end_time": "2023-11-13T12:55:27.021872",
     "exception": false,
     "start_time": "2023-11-13T12:55:26.958112",
     "status": "completed"
    },
    "tags": []
   },
   "outputs": [
    {
     "name": "stdout",
     "output_type": "stream",
     "text": [
      "|   Age_NA_FLAG |   TARGET_MEAN |   Count |\n",
      "|--------------:|--------------:|--------:|\n",
      "|             0 |      0.406162 |     714 |\n",
      "|             1 |      0.293785 |     177 |\n",
      "\n",
      "\n",
      "|   Cabin_NA_FLAG |   TARGET_MEAN |   Count |\n",
      "|----------------:|--------------:|--------:|\n",
      "|               0 |      0.666667 |     204 |\n",
      "|               1 |      0.299854 |     687 |\n",
      "\n",
      "\n",
      "|   Embarked_NA_FLAG |   TARGET_MEAN |   Count |\n",
      "|-------------------:|--------------:|--------:|\n",
      "|                  0 |      0.382452 |     889 |\n",
      "|                  1 |      1        |       2 |\n",
      "\n",
      "\n"
     ]
    }
   ],
   "source": [
    "missing_vs_target(titanic, \"Survived\", missing_cols)"
   ]
  },
  {
   "cell_type": "markdown",
   "id": "ca5d1c08",
   "metadata": {
    "papermill": {
     "duration": 0.04723,
     "end_time": "2023-11-13T12:55:27.117376",
     "exception": false,
     "start_time": "2023-11-13T12:55:27.070146",
     "status": "completed"
    },
    "tags": []
   },
   "source": [
    "<div style=\"border-radius:10px; border:#65647C solid; padding: 15px; background-color: #F8EDE3; font-size:100%; text-align:left\">\n",
    "\n",
    "<h3 align=\"left\"><font color='#7D6E83'><b>🗨️ Comment: </b></font></h3>\n",
    "\n",
    "* Burada \"1\" eksik değere sahip olanları, \"0\" eksik değer içermeyenleri temsil ediyor\n",
    "* Age_NA_FLAG değerlerine bakacak olursak; eksik değer içerenlerin hayatta kalma ortalaması \"0.293785\" iken eksik değer içermeyen yaş değerlerinin hayatta kalma oranı \"0.406162\" gözükmektedir.\n",
    "* Cabin_NA_FLAG değişkenine bakalım; bu değişken %77.1 oranında eksik değer içermekteydi. Eksik değer içeren gözlem birimlerinin hayatta kalma oranı \"0.299854\" , eksik değer içermeyen satırların hayatta kalma oranı ise \"0.666667\" gözüküyor. Çok ciddi bir fark var.\n",
    "* Aslında bunun genel bir hikayesi mevcut; \"Cabin\" değişkenindeki veri kaybının bu denli yüksek olmasının bir sebebi, gemi görevlilerinin bir çoğunun kabinlerinin numarası olmaması sayılabilir. Kabinlerde kalmadıkları için böyle bir değer atanmamıştır. Kabinlerde kalanların büyük çoğunluğu yolculardır. Anlaşılıyor ki bu kayıp değerlerin bir kısmı gemi çalışanlarına aittir.\n",
    "* Tüm bu yorumlarla analiz/yorumlama yapılmaya çalışılıyor."
   ]
  },
  {
   "cell_type": "markdown",
   "id": "8d881d78",
   "metadata": {
    "papermill": {
     "duration": 0.046947,
     "end_time": "2023-11-13T12:55:27.211724",
     "exception": false,
     "start_time": "2023-11-13T12:55:27.164777",
     "status": "completed"
    },
    "tags": []
   },
   "source": [
    "<a id=\"12\"></a><br>\n",
    "<h1 style=\"border-radius: 10px; border: 2px solid #6B8E23; background-color: #F5F5DC; font-family: 'Pacifico', cursive; font-size: 200%; text-align: center; border-radius: 15px 50px; padding: 15px; box-shadow: 5px 5px 5px #556B2F; color: #556B2F;\">0️⃣Encoding1️⃣</h1>"
   ]
  },
  {
   "cell_type": "markdown",
   "id": "e83028d8",
   "metadata": {
    "papermill": {
     "duration": 0.049219,
     "end_time": "2023-11-13T12:55:27.312062",
     "exception": false,
     "start_time": "2023-11-13T12:55:27.262843",
     "status": "completed"
    },
    "tags": []
   },
   "source": [
    "**Encoding**, kategorik verileri sayısal formata dönüştürmek amacıyla kullanılan bir veri ön işleme tekniğidir. Kategorik veriler, metin tabanlı veya sembollerle ifade edilen verilerdir ve birçok makine öğrenme algoritması bu tür verileri işleyemez. Yaygın olarak kullanılan Encoding yöntemleri:\n",
    "\n",
    "1. **Label Encoding:** Bu yöntem her farklı kategoriye benzersiz bir sayı atar. Örneğin, \"Kırmızı,\" \"Mavi\" ve \"Yeşil\" gibi kategoriler 0, 1 ve 2 gibi sayılarla kodlanır. Label Encoding, sıralı (ordinal) kategorik veriler için uygundur, yani verilerin sırasının önemli olduğu durumlarda kullanılır.\n",
    "\n",
    "2. **One Hot Encoding:** Bu yöntem her kategori için bir sütun oluşturur ve her sütunun içinde bir gözlem birimi için 1 veya 0 değeri bulunur. Örneğin, \"Kırmızı,\" \"Mavi\" ve \"Yeşil\" kategorileri için üç ayrı sütun oluşturulur. Bir gözlem birimi \"Kırmızı\" ise \"Kırmızı\" sütunu için 1, diğer sütunlar için 0 değerine sahiptir. One Hot Encoding, sırasız (nominal) kategorik veriler için uygundur.\n",
    "\n",
    "3. **Rare Encoding:** Bu yöntem nadir veya düşük frekansta görünen kategorik değerleri birleştirir. Özellikle çok fazla farklı kategori içeren değişkenlerde kullanışlıdır. Rare Encoding, nadir görülen kategorileri tek bir \"Nadir\" kategorisi altında toplar ve diğer kategorileri korur. Bu, modelin nadir sınıfları daha iyi öğrenmesine yardımcı olabilir.\n",
    "\n",
    "Encoding yöntemlerinin seçimi, verinin özelliklerine ve işleme gereksinimlerine bağlıdır. Doğru Encoding yöntemi, veri ön işleme sürecinin kritik bir parçasıdır ve modelin performansını önemli ölçüde etkileyebilir.\n",
    "\n",
    "Encoding yöntemlerini kullanırken dikkate alınması gereken bazı önemli parametreler bulunmaktadır:\n",
    "\n",
    "1. **Kategori Sayısı:** Kodlama yapmadan önce kategorik değişkenlerde kaç farklı kategori olduğunu anlamak önemlidir. Çok fazla kategori, One Hot Encoding kullanırken çok fazla sütun oluşturabilir ve modelin karmaşıklığını artırabilir. Rare Encoding kullanırken, nadir kategorilerin sıklığını belirlemek için bu bilgiye ihtiyaç vardır.\n",
    "\n",
    "2. **Sıralama (Ordinality):** Eğer veriler sıralı ise (örneğin, \"Düşük,\" \"Orta,\" \"Yüksek\" gibi), Label Encoding kullanılabilir. Ancak sırasız ise (örneğin, \"Kırmızı,\" \"Mavi,\" \"Yeşil\" gibi), One Hot Encoding daha uygun olabilir.\n",
    "\n",
    "3. **Ayırıcı Güç:** Kategorik değişkenlerin ayırıcı gücü, bir kategorinin hedef değişken üzerinde ne kadar etkili olduğunu belirler. Bu, özellikle Rare Encoding kullanılırken dikkate alınmalıdır. Nadir kategoriler, hedef değişkeni ayırmada daha fazla güce sahip olabilir.\n",
    "\n",
    "4. **Rare Encoding Eşik Değeri:** Rare Encoding kullanırken, nadir kabul edilen bir kategoriyi \"Nadir\" kategorisi altında birleştirmek için bir eşik değeri seçmek gerekebilir. Bu eşik değeri, verinin yapısına ve problem alanına bağlı olarak değişebilir.\n",
    "\n",
    "5. **One Hot Encoding Dummy Değişken Tuzağı:** One Hot Encoding kullanırken, aynı kategoriyi temsil eden sütunları birleştirmek ve dummy değişken tuzağına düşmemek için \"drop_first\" parametresini kullanmak önemlidir.\n",
    "\n",
    "6. **Label Encoding ve Hedef Değişken İlişkisi:** Label Encoding kullanırken, kategorik değişkenin hedef değişkenle olan ilişkisini göz önünde bulundurmalısınız. Eğer bu ilişki zayıfsa, Label Encoding kullanımı sınırlı olabilir."
   ]
  },
  {
   "cell_type": "markdown",
   "id": "745f84c8",
   "metadata": {
    "papermill": {
     "duration": 0.049354,
     "end_time": "2023-11-13T12:55:27.425639",
     "exception": false,
     "start_time": "2023-11-13T12:55:27.376285",
     "status": "completed"
    },
    "tags": []
   },
   "source": [
    "<a id = \"13\"></a><br>\n",
    "<p style=\"font-family: 'Pacifico', cursive; font-weight: bold; letter-spacing: 2px; color: #556B2F; font-size: 160%; text-align: left; padding: 0px; border-bottom: 3px solid\">✨Label Encoding✨</p>"
   ]
  },
  {
   "cell_type": "code",
   "execution_count": 93,
   "id": "d744577c",
   "metadata": {
    "execution": {
     "iopub.execute_input": "2023-11-13T12:55:27.526577Z",
     "iopub.status.busy": "2023-11-13T12:55:27.526214Z",
     "iopub.status.idle": "2023-11-13T12:55:27.531597Z",
     "shell.execute_reply": "2023-11-13T12:55:27.530246Z"
    },
    "papermill": {
     "duration": 0.057616,
     "end_time": "2023-11-13T12:55:27.533668",
     "exception": false,
     "start_time": "2023-11-13T12:55:27.476052",
     "status": "completed"
    },
    "tags": []
   },
   "outputs": [],
   "source": [
    "titanic = titanic_.copy()"
   ]
  },
  {
   "cell_type": "code",
   "execution_count": 94,
   "id": "c22b5e3f",
   "metadata": {
    "execution": {
     "iopub.execute_input": "2023-11-13T12:55:27.635345Z",
     "iopub.status.busy": "2023-11-13T12:55:27.634542Z",
     "iopub.status.idle": "2023-11-13T12:55:27.642273Z",
     "shell.execute_reply": "2023-11-13T12:55:27.641317Z"
    },
    "papermill": {
     "duration": 0.060811,
     "end_time": "2023-11-13T12:55:27.644255",
     "exception": false,
     "start_time": "2023-11-13T12:55:27.583444",
     "status": "completed"
    },
    "tags": []
   },
   "outputs": [
    {
     "data": {
      "text/plain": [
       "0      male\n",
       "1    female\n",
       "2    female\n",
       "3    female\n",
       "4      male\n",
       "Name: Sex, dtype: object"
      ]
     },
     "execution_count": 94,
     "metadata": {},
     "output_type": "execute_result"
    }
   ],
   "source": [
    "titanic[\"Sex\"].head()"
   ]
  },
  {
   "cell_type": "markdown",
   "id": "44814a24",
   "metadata": {
    "papermill": {
     "duration": 0.048361,
     "end_time": "2023-11-13T12:55:27.741569",
     "exception": false,
     "start_time": "2023-11-13T12:55:27.693208",
     "status": "completed"
    },
    "tags": []
   },
   "source": [
    "<div style=\"border-radius:10px; border:#65647C solid; padding: 15px; background-color: #F8EDE3; font-size:100%; text-align:left\">\n",
    "\n",
    "<h3 align=\"left\"><font color='#7D6E83'><b>🗨️ Comment: </b></font></h3>\n",
    "\n",
    "* Makine öğrenmesi için \"male\" ve \"female\" gözlem birimlerini matematiksel ifadelere (binary) dönüştürmemiz gerekiyor."
   ]
  },
  {
   "cell_type": "code",
   "execution_count": 95,
   "id": "4b105250",
   "metadata": {
    "execution": {
     "iopub.execute_input": "2023-11-13T12:55:27.841026Z",
     "iopub.status.busy": "2023-11-13T12:55:27.840690Z",
     "iopub.status.idle": "2023-11-13T12:55:27.846785Z",
     "shell.execute_reply": "2023-11-13T12:55:27.845989Z"
    },
    "papermill": {
     "duration": 0.058078,
     "end_time": "2023-11-13T12:55:27.848339",
     "exception": false,
     "start_time": "2023-11-13T12:55:27.790261",
     "status": "completed"
    },
    "tags": []
   },
   "outputs": [
    {
     "data": {
      "text/plain": [
       "array([1, 0, 0, 0, 1])"
      ]
     },
     "execution_count": 95,
     "metadata": {},
     "output_type": "execute_result"
    }
   ],
   "source": [
    "le = LabelEncoder()\n",
    "le.fit_transform(titanic[\"Sex\"])[0:5]"
   ]
  },
  {
   "cell_type": "code",
   "execution_count": 96,
   "id": "876dca27",
   "metadata": {
    "execution": {
     "iopub.execute_input": "2023-11-13T12:55:27.945871Z",
     "iopub.status.busy": "2023-11-13T12:55:27.944655Z",
     "iopub.status.idle": "2023-11-13T12:55:27.951463Z",
     "shell.execute_reply": "2023-11-13T12:55:27.950612Z"
    },
    "papermill": {
     "duration": 0.057003,
     "end_time": "2023-11-13T12:55:27.953258",
     "exception": false,
     "start_time": "2023-11-13T12:55:27.896255",
     "status": "completed"
    },
    "tags": []
   },
   "outputs": [
    {
     "data": {
      "text/plain": [
       "array(['female', 'male'], dtype=object)"
      ]
     },
     "execution_count": 96,
     "metadata": {},
     "output_type": "execute_result"
    }
   ],
   "source": [
    "# 0 ve 1 değerlerinin karşılığını merak edersek;\n",
    "\n",
    "le.inverse_transform([0, 1])"
   ]
  },
  {
   "cell_type": "markdown",
   "id": "4212a7a3",
   "metadata": {
    "papermill": {
     "duration": 0.04919,
     "end_time": "2023-11-13T12:55:28.053543",
     "exception": false,
     "start_time": "2023-11-13T12:55:28.004353",
     "status": "completed"
    },
    "tags": []
   },
   "source": [
    "-----"
   ]
  },
  {
   "cell_type": "code",
   "execution_count": 97,
   "id": "535553d6",
   "metadata": {
    "execution": {
     "iopub.execute_input": "2023-11-13T12:55:28.154314Z",
     "iopub.status.busy": "2023-11-13T12:55:28.153849Z",
     "iopub.status.idle": "2023-11-13T12:55:28.158230Z",
     "shell.execute_reply": "2023-11-13T12:55:28.157285Z"
    },
    "papermill": {
     "duration": 0.057442,
     "end_time": "2023-11-13T12:55:28.160081",
     "exception": false,
     "start_time": "2023-11-13T12:55:28.102639",
     "status": "completed"
    },
    "tags": []
   },
   "outputs": [],
   "source": [
    "def label_encoder(dataframe, binary_col):\n",
    "    \n",
    "    labelencoder = LabelEncoder()\n",
    "    dataframe[binary_col] = labelencoder.fit_transform(dataframe[binary_col])\n",
    "    \n",
    "    return dataframe"
   ]
  },
  {
   "cell_type": "markdown",
   "id": "adab9036",
   "metadata": {
    "papermill": {
     "duration": 0.04759,
     "end_time": "2023-11-13T12:55:28.255619",
     "exception": false,
     "start_time": "2023-11-13T12:55:28.208029",
     "status": "completed"
    },
    "tags": []
   },
   "source": [
    "----"
   ]
  },
  {
   "cell_type": "code",
   "execution_count": 98,
   "id": "822f2308",
   "metadata": {
    "execution": {
     "iopub.execute_input": "2023-11-13T12:55:28.354204Z",
     "iopub.status.busy": "2023-11-13T12:55:28.353831Z",
     "iopub.status.idle": "2023-11-13T12:55:28.359092Z",
     "shell.execute_reply": "2023-11-13T12:55:28.357692Z"
    },
    "papermill": {
     "duration": 0.057047,
     "end_time": "2023-11-13T12:55:28.360937",
     "exception": false,
     "start_time": "2023-11-13T12:55:28.303890",
     "status": "completed"
    },
    "tags": []
   },
   "outputs": [],
   "source": [
    "titanic = titanic_.copy()"
   ]
  },
  {
   "cell_type": "code",
   "execution_count": 99,
   "id": "5566ad77",
   "metadata": {
    "execution": {
     "iopub.execute_input": "2023-11-13T12:55:28.461605Z",
     "iopub.status.busy": "2023-11-13T12:55:28.461287Z",
     "iopub.status.idle": "2023-11-13T12:55:28.470421Z",
     "shell.execute_reply": "2023-11-13T12:55:28.469414Z"
    },
    "papermill": {
     "duration": 0.060996,
     "end_time": "2023-11-13T12:55:28.472331",
     "exception": false,
     "start_time": "2023-11-13T12:55:28.411335",
     "status": "completed"
    },
    "tags": []
   },
   "outputs": [
    {
     "data": {
      "text/plain": [
       "['Sex']"
      ]
     },
     "execution_count": 99,
     "metadata": {},
     "output_type": "execute_result"
    }
   ],
   "source": [
    "binary_cols = [col for col in titanic.columns if titanic[col].dtype not in [int, float]\n",
    "               and titanic[col].nunique() == 2]\n",
    "\n",
    "binary_cols"
   ]
  },
  {
   "cell_type": "code",
   "execution_count": 100,
   "id": "abf9af61",
   "metadata": {
    "execution": {
     "iopub.execute_input": "2023-11-13T12:55:28.571666Z",
     "iopub.status.busy": "2023-11-13T12:55:28.571307Z",
     "iopub.status.idle": "2023-11-13T12:55:28.581259Z",
     "shell.execute_reply": "2023-11-13T12:55:28.580441Z"
    },
    "papermill": {
     "duration": 0.062268,
     "end_time": "2023-11-13T12:55:28.583412",
     "exception": false,
     "start_time": "2023-11-13T12:55:28.521144",
     "status": "completed"
    },
    "tags": []
   },
   "outputs": [
    {
     "data": {
      "text/html": [
       "<div>\n",
       "<style scoped>\n",
       "    .dataframe tbody tr th:only-of-type {\n",
       "        vertical-align: middle;\n",
       "    }\n",
       "\n",
       "    .dataframe tbody tr th {\n",
       "        vertical-align: top;\n",
       "    }\n",
       "\n",
       "    .dataframe thead th {\n",
       "        text-align: right;\n",
       "    }\n",
       "</style>\n",
       "<table border=\"1\" class=\"dataframe\">\n",
       "  <thead>\n",
       "    <tr style=\"text-align: right;\">\n",
       "      <th></th>\n",
       "      <th>Sex</th>\n",
       "    </tr>\n",
       "  </thead>\n",
       "  <tbody>\n",
       "    <tr>\n",
       "      <th>0</th>\n",
       "      <td>male</td>\n",
       "    </tr>\n",
       "    <tr>\n",
       "      <th>1</th>\n",
       "      <td>female</td>\n",
       "    </tr>\n",
       "    <tr>\n",
       "      <th>2</th>\n",
       "      <td>female</td>\n",
       "    </tr>\n",
       "    <tr>\n",
       "      <th>3</th>\n",
       "      <td>female</td>\n",
       "    </tr>\n",
       "    <tr>\n",
       "      <th>4</th>\n",
       "      <td>male</td>\n",
       "    </tr>\n",
       "  </tbody>\n",
       "</table>\n",
       "</div>"
      ],
      "text/plain": [
       "      Sex\n",
       "0    male\n",
       "1  female\n",
       "2  female\n",
       "3  female\n",
       "4    male"
      ]
     },
     "execution_count": 100,
     "metadata": {},
     "output_type": "execute_result"
    }
   ],
   "source": [
    "titanic[binary_cols].head()"
   ]
  },
  {
   "cell_type": "code",
   "execution_count": 101,
   "id": "5bd372ce",
   "metadata": {
    "execution": {
     "iopub.execute_input": "2023-11-13T12:55:28.686180Z",
     "iopub.status.busy": "2023-11-13T12:55:28.685792Z",
     "iopub.status.idle": "2023-11-13T12:55:28.699658Z",
     "shell.execute_reply": "2023-11-13T12:55:28.698771Z"
    },
    "papermill": {
     "duration": 0.066389,
     "end_time": "2023-11-13T12:55:28.701773",
     "exception": false,
     "start_time": "2023-11-13T12:55:28.635384",
     "status": "completed"
    },
    "tags": []
   },
   "outputs": [
    {
     "data": {
      "text/html": [
       "<div>\n",
       "<style scoped>\n",
       "    .dataframe tbody tr th:only-of-type {\n",
       "        vertical-align: middle;\n",
       "    }\n",
       "\n",
       "    .dataframe tbody tr th {\n",
       "        vertical-align: top;\n",
       "    }\n",
       "\n",
       "    .dataframe thead th {\n",
       "        text-align: right;\n",
       "    }\n",
       "</style>\n",
       "<table border=\"1\" class=\"dataframe\">\n",
       "  <thead>\n",
       "    <tr style=\"text-align: right;\">\n",
       "      <th></th>\n",
       "      <th>PassengerId</th>\n",
       "      <th>Survived</th>\n",
       "      <th>Pclass</th>\n",
       "      <th>Name</th>\n",
       "      <th>Sex</th>\n",
       "      <th>Age</th>\n",
       "      <th>SibSp</th>\n",
       "      <th>Parch</th>\n",
       "      <th>Ticket</th>\n",
       "      <th>Fare</th>\n",
       "      <th>Cabin</th>\n",
       "      <th>Embarked</th>\n",
       "    </tr>\n",
       "  </thead>\n",
       "  <tbody>\n",
       "    <tr>\n",
       "      <th>0</th>\n",
       "      <td>1</td>\n",
       "      <td>0</td>\n",
       "      <td>3</td>\n",
       "      <td>Braund, Mr. Owen Harris</td>\n",
       "      <td>1</td>\n",
       "      <td>22.0</td>\n",
       "      <td>1</td>\n",
       "      <td>0</td>\n",
       "      <td>A/5 21171</td>\n",
       "      <td>7.2500</td>\n",
       "      <td>NaN</td>\n",
       "      <td>S</td>\n",
       "    </tr>\n",
       "    <tr>\n",
       "      <th>1</th>\n",
       "      <td>2</td>\n",
       "      <td>1</td>\n",
       "      <td>1</td>\n",
       "      <td>Cumings, Mrs. John Bradley (Florence Briggs Th...</td>\n",
       "      <td>0</td>\n",
       "      <td>38.0</td>\n",
       "      <td>1</td>\n",
       "      <td>0</td>\n",
       "      <td>PC 17599</td>\n",
       "      <td>71.2833</td>\n",
       "      <td>C85</td>\n",
       "      <td>C</td>\n",
       "    </tr>\n",
       "    <tr>\n",
       "      <th>2</th>\n",
       "      <td>3</td>\n",
       "      <td>1</td>\n",
       "      <td>3</td>\n",
       "      <td>Heikkinen, Miss. Laina</td>\n",
       "      <td>0</td>\n",
       "      <td>26.0</td>\n",
       "      <td>0</td>\n",
       "      <td>0</td>\n",
       "      <td>STON/O2. 3101282</td>\n",
       "      <td>7.9250</td>\n",
       "      <td>NaN</td>\n",
       "      <td>S</td>\n",
       "    </tr>\n",
       "    <tr>\n",
       "      <th>3</th>\n",
       "      <td>4</td>\n",
       "      <td>1</td>\n",
       "      <td>1</td>\n",
       "      <td>Futrelle, Mrs. Jacques Heath (Lily May Peel)</td>\n",
       "      <td>0</td>\n",
       "      <td>35.0</td>\n",
       "      <td>1</td>\n",
       "      <td>0</td>\n",
       "      <td>113803</td>\n",
       "      <td>53.1000</td>\n",
       "      <td>C123</td>\n",
       "      <td>S</td>\n",
       "    </tr>\n",
       "    <tr>\n",
       "      <th>4</th>\n",
       "      <td>5</td>\n",
       "      <td>0</td>\n",
       "      <td>3</td>\n",
       "      <td>Allen, Mr. William Henry</td>\n",
       "      <td>1</td>\n",
       "      <td>35.0</td>\n",
       "      <td>0</td>\n",
       "      <td>0</td>\n",
       "      <td>373450</td>\n",
       "      <td>8.0500</td>\n",
       "      <td>NaN</td>\n",
       "      <td>S</td>\n",
       "    </tr>\n",
       "  </tbody>\n",
       "</table>\n",
       "</div>"
      ],
      "text/plain": [
       "   PassengerId  Survived  Pclass  \\\n",
       "0            1         0       3   \n",
       "1            2         1       1   \n",
       "2            3         1       3   \n",
       "3            4         1       1   \n",
       "4            5         0       3   \n",
       "\n",
       "                                                Name  Sex   Age  SibSp  Parch  \\\n",
       "0                            Braund, Mr. Owen Harris    1  22.0      1      0   \n",
       "1  Cumings, Mrs. John Bradley (Florence Briggs Th...    0  38.0      1      0   \n",
       "2                             Heikkinen, Miss. Laina    0  26.0      0      0   \n",
       "3       Futrelle, Mrs. Jacques Heath (Lily May Peel)    0  35.0      1      0   \n",
       "4                           Allen, Mr. William Henry    1  35.0      0      0   \n",
       "\n",
       "             Ticket     Fare Cabin Embarked  \n",
       "0         A/5 21171   7.2500   NaN        S  \n",
       "1          PC 17599  71.2833   C85        C  \n",
       "2  STON/O2. 3101282   7.9250   NaN        S  \n",
       "3            113803  53.1000  C123        S  \n",
       "4            373450   8.0500   NaN        S  "
      ]
     },
     "execution_count": 101,
     "metadata": {},
     "output_type": "execute_result"
    }
   ],
   "source": [
    "for col in binary_cols:\n",
    "    \n",
    "    label_encoder(titanic, col)\n",
    "    \n",
    "titanic. head()"
   ]
  },
  {
   "cell_type": "markdown",
   "id": "b4a02929",
   "metadata": {
    "papermill": {
     "duration": 0.048376,
     "end_time": "2023-11-13T12:55:28.800527",
     "exception": false,
     "start_time": "2023-11-13T12:55:28.752151",
     "status": "completed"
    },
    "tags": []
   },
   "source": [
    "<a id = \"14\"></a><br>\n",
    "<p style=\"font-family: 'Pacifico', cursive; font-weight: bold; letter-spacing: 2px; color: #556B2F; font-size: 160%; text-align: left; padding: 0px; border-bottom: 3px solid\">✨One Hot Encoding✨</p>"
   ]
  },
  {
   "cell_type": "code",
   "execution_count": 102,
   "id": "ca3a91db",
   "metadata": {
    "execution": {
     "iopub.execute_input": "2023-11-13T12:55:28.903662Z",
     "iopub.status.busy": "2023-11-13T12:55:28.903302Z",
     "iopub.status.idle": "2023-11-13T12:55:28.908341Z",
     "shell.execute_reply": "2023-11-13T12:55:28.906946Z"
    },
    "papermill": {
     "duration": 0.05857,
     "end_time": "2023-11-13T12:55:28.910222",
     "exception": false,
     "start_time": "2023-11-13T12:55:28.851652",
     "status": "completed"
    },
    "tags": []
   },
   "outputs": [],
   "source": [
    "titanic = titanic_.copy()"
   ]
  },
  {
   "cell_type": "code",
   "execution_count": 103,
   "id": "0164692b",
   "metadata": {
    "execution": {
     "iopub.execute_input": "2023-11-13T12:55:29.010776Z",
     "iopub.status.busy": "2023-11-13T12:55:29.009650Z",
     "iopub.status.idle": "2023-11-13T12:55:29.018219Z",
     "shell.execute_reply": "2023-11-13T12:55:29.016884Z"
    },
    "papermill": {
     "duration": 0.060487,
     "end_time": "2023-11-13T12:55:29.019906",
     "exception": false,
     "start_time": "2023-11-13T12:55:28.959419",
     "status": "completed"
    },
    "tags": []
   },
   "outputs": [
    {
     "data": {
      "text/plain": [
       "Embarked\n",
       "S    644\n",
       "C    168\n",
       "Q     77\n",
       "Name: count, dtype: int64"
      ]
     },
     "execution_count": 103,
     "metadata": {},
     "output_type": "execute_result"
    }
   ],
   "source": [
    "titanic[\"Embarked\"].value_counts()"
   ]
  },
  {
   "cell_type": "code",
   "execution_count": 104,
   "id": "6c0c8490",
   "metadata": {
    "execution": {
     "iopub.execute_input": "2023-11-13T12:55:29.119693Z",
     "iopub.status.busy": "2023-11-13T12:55:29.119114Z",
     "iopub.status.idle": "2023-11-13T12:55:29.135890Z",
     "shell.execute_reply": "2023-11-13T12:55:29.135059Z"
    },
    "papermill": {
     "duration": 0.069378,
     "end_time": "2023-11-13T12:55:29.138398",
     "exception": false,
     "start_time": "2023-11-13T12:55:29.069020",
     "status": "completed"
    },
    "tags": []
   },
   "outputs": [
    {
     "data": {
      "text/html": [
       "<div>\n",
       "<style scoped>\n",
       "    .dataframe tbody tr th:only-of-type {\n",
       "        vertical-align: middle;\n",
       "    }\n",
       "\n",
       "    .dataframe tbody tr th {\n",
       "        vertical-align: top;\n",
       "    }\n",
       "\n",
       "    .dataframe thead th {\n",
       "        text-align: right;\n",
       "    }\n",
       "</style>\n",
       "<table border=\"1\" class=\"dataframe\">\n",
       "  <thead>\n",
       "    <tr style=\"text-align: right;\">\n",
       "      <th></th>\n",
       "      <th>PassengerId</th>\n",
       "      <th>Survived</th>\n",
       "      <th>Pclass</th>\n",
       "      <th>Name</th>\n",
       "      <th>Sex</th>\n",
       "      <th>Age</th>\n",
       "      <th>SibSp</th>\n",
       "      <th>Parch</th>\n",
       "      <th>Ticket</th>\n",
       "      <th>Fare</th>\n",
       "      <th>Cabin</th>\n",
       "      <th>Embarked_Q</th>\n",
       "      <th>Embarked_S</th>\n",
       "    </tr>\n",
       "  </thead>\n",
       "  <tbody>\n",
       "    <tr>\n",
       "      <th>0</th>\n",
       "      <td>1</td>\n",
       "      <td>0</td>\n",
       "      <td>3</td>\n",
       "      <td>Braund, Mr. Owen Harris</td>\n",
       "      <td>male</td>\n",
       "      <td>22.0</td>\n",
       "      <td>1</td>\n",
       "      <td>0</td>\n",
       "      <td>A/5 21171</td>\n",
       "      <td>7.2500</td>\n",
       "      <td>NaN</td>\n",
       "      <td>False</td>\n",
       "      <td>True</td>\n",
       "    </tr>\n",
       "    <tr>\n",
       "      <th>1</th>\n",
       "      <td>2</td>\n",
       "      <td>1</td>\n",
       "      <td>1</td>\n",
       "      <td>Cumings, Mrs. John Bradley (Florence Briggs Th...</td>\n",
       "      <td>female</td>\n",
       "      <td>38.0</td>\n",
       "      <td>1</td>\n",
       "      <td>0</td>\n",
       "      <td>PC 17599</td>\n",
       "      <td>71.2833</td>\n",
       "      <td>C85</td>\n",
       "      <td>False</td>\n",
       "      <td>False</td>\n",
       "    </tr>\n",
       "    <tr>\n",
       "      <th>2</th>\n",
       "      <td>3</td>\n",
       "      <td>1</td>\n",
       "      <td>3</td>\n",
       "      <td>Heikkinen, Miss. Laina</td>\n",
       "      <td>female</td>\n",
       "      <td>26.0</td>\n",
       "      <td>0</td>\n",
       "      <td>0</td>\n",
       "      <td>STON/O2. 3101282</td>\n",
       "      <td>7.9250</td>\n",
       "      <td>NaN</td>\n",
       "      <td>False</td>\n",
       "      <td>True</td>\n",
       "    </tr>\n",
       "    <tr>\n",
       "      <th>3</th>\n",
       "      <td>4</td>\n",
       "      <td>1</td>\n",
       "      <td>1</td>\n",
       "      <td>Futrelle, Mrs. Jacques Heath (Lily May Peel)</td>\n",
       "      <td>female</td>\n",
       "      <td>35.0</td>\n",
       "      <td>1</td>\n",
       "      <td>0</td>\n",
       "      <td>113803</td>\n",
       "      <td>53.1000</td>\n",
       "      <td>C123</td>\n",
       "      <td>False</td>\n",
       "      <td>True</td>\n",
       "    </tr>\n",
       "    <tr>\n",
       "      <th>4</th>\n",
       "      <td>5</td>\n",
       "      <td>0</td>\n",
       "      <td>3</td>\n",
       "      <td>Allen, Mr. William Henry</td>\n",
       "      <td>male</td>\n",
       "      <td>35.0</td>\n",
       "      <td>0</td>\n",
       "      <td>0</td>\n",
       "      <td>373450</td>\n",
       "      <td>8.0500</td>\n",
       "      <td>NaN</td>\n",
       "      <td>False</td>\n",
       "      <td>True</td>\n",
       "    </tr>\n",
       "  </tbody>\n",
       "</table>\n",
       "</div>"
      ],
      "text/plain": [
       "   PassengerId  Survived  Pclass  \\\n",
       "0            1         0       3   \n",
       "1            2         1       1   \n",
       "2            3         1       3   \n",
       "3            4         1       1   \n",
       "4            5         0       3   \n",
       "\n",
       "                                                Name     Sex   Age  SibSp  \\\n",
       "0                            Braund, Mr. Owen Harris    male  22.0      1   \n",
       "1  Cumings, Mrs. John Bradley (Florence Briggs Th...  female  38.0      1   \n",
       "2                             Heikkinen, Miss. Laina  female  26.0      0   \n",
       "3       Futrelle, Mrs. Jacques Heath (Lily May Peel)  female  35.0      1   \n",
       "4                           Allen, Mr. William Henry    male  35.0      0   \n",
       "\n",
       "   Parch            Ticket     Fare Cabin  Embarked_Q  Embarked_S  \n",
       "0      0         A/5 21171   7.2500   NaN       False        True  \n",
       "1      0          PC 17599  71.2833   C85       False       False  \n",
       "2      0  STON/O2. 3101282   7.9250   NaN       False        True  \n",
       "3      0            113803  53.1000  C123       False        True  \n",
       "4      0            373450   8.0500   NaN       False        True  "
      ]
     },
     "execution_count": 104,
     "metadata": {},
     "output_type": "execute_result"
    }
   ],
   "source": [
    "pd.get_dummies(titanic, columns=[\"Embarked\"], drop_first=True).head()"
   ]
  },
  {
   "cell_type": "markdown",
   "id": "3fd0da17",
   "metadata": {
    "papermill": {
     "duration": 0.052411,
     "end_time": "2023-11-13T12:55:29.240597",
     "exception": false,
     "start_time": "2023-11-13T12:55:29.188186",
     "status": "completed"
    },
    "tags": []
   },
   "source": [
    "<div style=\"border-radius:10px; border:#65647C solid; padding: 15px; background-color: #F8EDE3; font-size:100%; text-align:left\">\n",
    "\n",
    "<h3 align=\"left\"><font color='#7D6E83'><b>🗨️ Comment: </b></font></h3>\n",
    "    \n",
    "* Değişkenler birbiri üzerinden üretilebilir olmaması, dummy değişken tuzağına kapılmamak için \"drop_first = True\" ile ilk sınıfı kaldırıyoruz."
   ]
  },
  {
   "cell_type": "code",
   "execution_count": 105,
   "id": "95447108",
   "metadata": {
    "execution": {
     "iopub.execute_input": "2023-11-13T12:55:29.345828Z",
     "iopub.status.busy": "2023-11-13T12:55:29.344907Z",
     "iopub.status.idle": "2023-11-13T12:55:29.362325Z",
     "shell.execute_reply": "2023-11-13T12:55:29.361452Z"
    },
    "papermill": {
     "duration": 0.071563,
     "end_time": "2023-11-13T12:55:29.364281",
     "exception": false,
     "start_time": "2023-11-13T12:55:29.292718",
     "status": "completed"
    },
    "tags": []
   },
   "outputs": [
    {
     "data": {
      "text/html": [
       "<div>\n",
       "<style scoped>\n",
       "    .dataframe tbody tr th:only-of-type {\n",
       "        vertical-align: middle;\n",
       "    }\n",
       "\n",
       "    .dataframe tbody tr th {\n",
       "        vertical-align: top;\n",
       "    }\n",
       "\n",
       "    .dataframe thead th {\n",
       "        text-align: right;\n",
       "    }\n",
       "</style>\n",
       "<table border=\"1\" class=\"dataframe\">\n",
       "  <thead>\n",
       "    <tr style=\"text-align: right;\">\n",
       "      <th></th>\n",
       "      <th>PassengerId</th>\n",
       "      <th>Survived</th>\n",
       "      <th>Pclass</th>\n",
       "      <th>Name</th>\n",
       "      <th>Sex</th>\n",
       "      <th>Age</th>\n",
       "      <th>SibSp</th>\n",
       "      <th>Parch</th>\n",
       "      <th>Ticket</th>\n",
       "      <th>Fare</th>\n",
       "      <th>Cabin</th>\n",
       "      <th>Embarked_C</th>\n",
       "      <th>Embarked_Q</th>\n",
       "      <th>Embarked_S</th>\n",
       "      <th>Embarked_nan</th>\n",
       "    </tr>\n",
       "  </thead>\n",
       "  <tbody>\n",
       "    <tr>\n",
       "      <th>0</th>\n",
       "      <td>1</td>\n",
       "      <td>0</td>\n",
       "      <td>3</td>\n",
       "      <td>Braund, Mr. Owen Harris</td>\n",
       "      <td>male</td>\n",
       "      <td>22.0</td>\n",
       "      <td>1</td>\n",
       "      <td>0</td>\n",
       "      <td>A/5 21171</td>\n",
       "      <td>7.2500</td>\n",
       "      <td>NaN</td>\n",
       "      <td>False</td>\n",
       "      <td>False</td>\n",
       "      <td>True</td>\n",
       "      <td>False</td>\n",
       "    </tr>\n",
       "    <tr>\n",
       "      <th>1</th>\n",
       "      <td>2</td>\n",
       "      <td>1</td>\n",
       "      <td>1</td>\n",
       "      <td>Cumings, Mrs. John Bradley (Florence Briggs Th...</td>\n",
       "      <td>female</td>\n",
       "      <td>38.0</td>\n",
       "      <td>1</td>\n",
       "      <td>0</td>\n",
       "      <td>PC 17599</td>\n",
       "      <td>71.2833</td>\n",
       "      <td>C85</td>\n",
       "      <td>True</td>\n",
       "      <td>False</td>\n",
       "      <td>False</td>\n",
       "      <td>False</td>\n",
       "    </tr>\n",
       "    <tr>\n",
       "      <th>2</th>\n",
       "      <td>3</td>\n",
       "      <td>1</td>\n",
       "      <td>3</td>\n",
       "      <td>Heikkinen, Miss. Laina</td>\n",
       "      <td>female</td>\n",
       "      <td>26.0</td>\n",
       "      <td>0</td>\n",
       "      <td>0</td>\n",
       "      <td>STON/O2. 3101282</td>\n",
       "      <td>7.9250</td>\n",
       "      <td>NaN</td>\n",
       "      <td>False</td>\n",
       "      <td>False</td>\n",
       "      <td>True</td>\n",
       "      <td>False</td>\n",
       "    </tr>\n",
       "    <tr>\n",
       "      <th>3</th>\n",
       "      <td>4</td>\n",
       "      <td>1</td>\n",
       "      <td>1</td>\n",
       "      <td>Futrelle, Mrs. Jacques Heath (Lily May Peel)</td>\n",
       "      <td>female</td>\n",
       "      <td>35.0</td>\n",
       "      <td>1</td>\n",
       "      <td>0</td>\n",
       "      <td>113803</td>\n",
       "      <td>53.1000</td>\n",
       "      <td>C123</td>\n",
       "      <td>False</td>\n",
       "      <td>False</td>\n",
       "      <td>True</td>\n",
       "      <td>False</td>\n",
       "    </tr>\n",
       "    <tr>\n",
       "      <th>4</th>\n",
       "      <td>5</td>\n",
       "      <td>0</td>\n",
       "      <td>3</td>\n",
       "      <td>Allen, Mr. William Henry</td>\n",
       "      <td>male</td>\n",
       "      <td>35.0</td>\n",
       "      <td>0</td>\n",
       "      <td>0</td>\n",
       "      <td>373450</td>\n",
       "      <td>8.0500</td>\n",
       "      <td>NaN</td>\n",
       "      <td>False</td>\n",
       "      <td>False</td>\n",
       "      <td>True</td>\n",
       "      <td>False</td>\n",
       "    </tr>\n",
       "  </tbody>\n",
       "</table>\n",
       "</div>"
      ],
      "text/plain": [
       "   PassengerId  Survived  Pclass  \\\n",
       "0            1         0       3   \n",
       "1            2         1       1   \n",
       "2            3         1       3   \n",
       "3            4         1       1   \n",
       "4            5         0       3   \n",
       "\n",
       "                                                Name     Sex   Age  SibSp  \\\n",
       "0                            Braund, Mr. Owen Harris    male  22.0      1   \n",
       "1  Cumings, Mrs. John Bradley (Florence Briggs Th...  female  38.0      1   \n",
       "2                             Heikkinen, Miss. Laina  female  26.0      0   \n",
       "3       Futrelle, Mrs. Jacques Heath (Lily May Peel)  female  35.0      1   \n",
       "4                           Allen, Mr. William Henry    male  35.0      0   \n",
       "\n",
       "   Parch            Ticket     Fare Cabin  Embarked_C  Embarked_Q  Embarked_S  \\\n",
       "0      0         A/5 21171   7.2500   NaN       False       False        True   \n",
       "1      0          PC 17599  71.2833   C85        True       False       False   \n",
       "2      0  STON/O2. 3101282   7.9250   NaN       False       False        True   \n",
       "3      0            113803  53.1000  C123       False       False        True   \n",
       "4      0            373450   8.0500   NaN       False       False        True   \n",
       "\n",
       "   Embarked_nan  \n",
       "0         False  \n",
       "1         False  \n",
       "2         False  \n",
       "3         False  \n",
       "4         False  "
      ]
     },
     "execution_count": 105,
     "metadata": {},
     "output_type": "execute_result"
    }
   ],
   "source": [
    "pd.get_dummies(titanic, columns=[\"Embarked\"], dummy_na=True).head()"
   ]
  },
  {
   "cell_type": "markdown",
   "id": "745a0c58",
   "metadata": {
    "papermill": {
     "duration": 0.048936,
     "end_time": "2023-11-13T12:55:29.466037",
     "exception": false,
     "start_time": "2023-11-13T12:55:29.417101",
     "status": "completed"
    },
    "tags": []
   },
   "source": [
    "<div style=\"border-radius:10px; border:#65647C solid; padding: 15px; background-color: #F8EDE3; font-size:100%; text-align:left\">\n",
    "\n",
    "<h3 align=\"left\"><font color='#7D6E83'><b>🗨️ Comment: </b></font></h3>\n",
    "\n",
    "* Eğer değişkendeki eksik değerlerinde bir sınıf olarak gelmesini istersek, \"dummy_na = True\" kullanabiliriz."
   ]
  },
  {
   "cell_type": "code",
   "execution_count": 106,
   "id": "5ff780d2",
   "metadata": {
    "execution": {
     "iopub.execute_input": "2023-11-13T12:55:29.565120Z",
     "iopub.status.busy": "2023-11-13T12:55:29.564565Z",
     "iopub.status.idle": "2023-11-13T12:55:29.581220Z",
     "shell.execute_reply": "2023-11-13T12:55:29.580178Z"
    },
    "papermill": {
     "duration": 0.068682,
     "end_time": "2023-11-13T12:55:29.583174",
     "exception": false,
     "start_time": "2023-11-13T12:55:29.514492",
     "status": "completed"
    },
    "tags": []
   },
   "outputs": [
    {
     "data": {
      "text/html": [
       "<div>\n",
       "<style scoped>\n",
       "    .dataframe tbody tr th:only-of-type {\n",
       "        vertical-align: middle;\n",
       "    }\n",
       "\n",
       "    .dataframe tbody tr th {\n",
       "        vertical-align: top;\n",
       "    }\n",
       "\n",
       "    .dataframe thead th {\n",
       "        text-align: right;\n",
       "    }\n",
       "</style>\n",
       "<table border=\"1\" class=\"dataframe\">\n",
       "  <thead>\n",
       "    <tr style=\"text-align: right;\">\n",
       "      <th></th>\n",
       "      <th>PassengerId</th>\n",
       "      <th>Survived</th>\n",
       "      <th>Pclass</th>\n",
       "      <th>Name</th>\n",
       "      <th>Age</th>\n",
       "      <th>SibSp</th>\n",
       "      <th>Parch</th>\n",
       "      <th>Ticket</th>\n",
       "      <th>Fare</th>\n",
       "      <th>Cabin</th>\n",
       "      <th>Sex_male</th>\n",
       "      <th>Embarked_Q</th>\n",
       "      <th>Embarked_S</th>\n",
       "    </tr>\n",
       "  </thead>\n",
       "  <tbody>\n",
       "    <tr>\n",
       "      <th>0</th>\n",
       "      <td>1</td>\n",
       "      <td>0</td>\n",
       "      <td>3</td>\n",
       "      <td>Braund, Mr. Owen Harris</td>\n",
       "      <td>22.0</td>\n",
       "      <td>1</td>\n",
       "      <td>0</td>\n",
       "      <td>A/5 21171</td>\n",
       "      <td>7.2500</td>\n",
       "      <td>NaN</td>\n",
       "      <td>True</td>\n",
       "      <td>False</td>\n",
       "      <td>True</td>\n",
       "    </tr>\n",
       "    <tr>\n",
       "      <th>1</th>\n",
       "      <td>2</td>\n",
       "      <td>1</td>\n",
       "      <td>1</td>\n",
       "      <td>Cumings, Mrs. John Bradley (Florence Briggs Th...</td>\n",
       "      <td>38.0</td>\n",
       "      <td>1</td>\n",
       "      <td>0</td>\n",
       "      <td>PC 17599</td>\n",
       "      <td>71.2833</td>\n",
       "      <td>C85</td>\n",
       "      <td>False</td>\n",
       "      <td>False</td>\n",
       "      <td>False</td>\n",
       "    </tr>\n",
       "    <tr>\n",
       "      <th>2</th>\n",
       "      <td>3</td>\n",
       "      <td>1</td>\n",
       "      <td>3</td>\n",
       "      <td>Heikkinen, Miss. Laina</td>\n",
       "      <td>26.0</td>\n",
       "      <td>0</td>\n",
       "      <td>0</td>\n",
       "      <td>STON/O2. 3101282</td>\n",
       "      <td>7.9250</td>\n",
       "      <td>NaN</td>\n",
       "      <td>False</td>\n",
       "      <td>False</td>\n",
       "      <td>True</td>\n",
       "    </tr>\n",
       "    <tr>\n",
       "      <th>3</th>\n",
       "      <td>4</td>\n",
       "      <td>1</td>\n",
       "      <td>1</td>\n",
       "      <td>Futrelle, Mrs. Jacques Heath (Lily May Peel)</td>\n",
       "      <td>35.0</td>\n",
       "      <td>1</td>\n",
       "      <td>0</td>\n",
       "      <td>113803</td>\n",
       "      <td>53.1000</td>\n",
       "      <td>C123</td>\n",
       "      <td>False</td>\n",
       "      <td>False</td>\n",
       "      <td>True</td>\n",
       "    </tr>\n",
       "    <tr>\n",
       "      <th>4</th>\n",
       "      <td>5</td>\n",
       "      <td>0</td>\n",
       "      <td>3</td>\n",
       "      <td>Allen, Mr. William Henry</td>\n",
       "      <td>35.0</td>\n",
       "      <td>0</td>\n",
       "      <td>0</td>\n",
       "      <td>373450</td>\n",
       "      <td>8.0500</td>\n",
       "      <td>NaN</td>\n",
       "      <td>True</td>\n",
       "      <td>False</td>\n",
       "      <td>True</td>\n",
       "    </tr>\n",
       "  </tbody>\n",
       "</table>\n",
       "</div>"
      ],
      "text/plain": [
       "   PassengerId  Survived  Pclass  \\\n",
       "0            1         0       3   \n",
       "1            2         1       1   \n",
       "2            3         1       3   \n",
       "3            4         1       1   \n",
       "4            5         0       3   \n",
       "\n",
       "                                                Name   Age  SibSp  Parch  \\\n",
       "0                            Braund, Mr. Owen Harris  22.0      1      0   \n",
       "1  Cumings, Mrs. John Bradley (Florence Briggs Th...  38.0      1      0   \n",
       "2                             Heikkinen, Miss. Laina  26.0      0      0   \n",
       "3       Futrelle, Mrs. Jacques Heath (Lily May Peel)  35.0      1      0   \n",
       "4                           Allen, Mr. William Henry  35.0      0      0   \n",
       "\n",
       "             Ticket     Fare Cabin  Sex_male  Embarked_Q  Embarked_S  \n",
       "0         A/5 21171   7.2500   NaN      True       False        True  \n",
       "1          PC 17599  71.2833   C85     False       False       False  \n",
       "2  STON/O2. 3101282   7.9250   NaN     False       False        True  \n",
       "3            113803  53.1000  C123     False       False        True  \n",
       "4            373450   8.0500   NaN      True       False        True  "
      ]
     },
     "execution_count": 106,
     "metadata": {},
     "output_type": "execute_result"
    }
   ],
   "source": [
    "pd.get_dummies(titanic, columns=[\"Sex\", \"Embarked\"], drop_first=True).head()"
   ]
  },
  {
   "cell_type": "code",
   "execution_count": 107,
   "id": "04293d3b",
   "metadata": {
    "execution": {
     "iopub.execute_input": "2023-11-13T12:55:29.685881Z",
     "iopub.status.busy": "2023-11-13T12:55:29.685515Z",
     "iopub.status.idle": "2023-11-13T12:55:29.690486Z",
     "shell.execute_reply": "2023-11-13T12:55:29.689529Z"
    },
    "papermill": {
     "duration": 0.058403,
     "end_time": "2023-11-13T12:55:29.692253",
     "exception": false,
     "start_time": "2023-11-13T12:55:29.633850",
     "status": "completed"
    },
    "tags": []
   },
   "outputs": [],
   "source": [
    "def one_hot_encoder(dataframe, categorical_cols, drop_first=True):\n",
    "    \n",
    "    dataframe = pd.get_dummies(dataframe, columns=categorical_cols, drop_first=drop_first)\n",
    "    \n",
    "    return dataframe"
   ]
  },
  {
   "cell_type": "code",
   "execution_count": 108,
   "id": "5d092034",
   "metadata": {
    "execution": {
     "iopub.execute_input": "2023-11-13T12:55:29.798033Z",
     "iopub.status.busy": "2023-11-13T12:55:29.797683Z",
     "iopub.status.idle": "2023-11-13T12:55:29.805823Z",
     "shell.execute_reply": "2023-11-13T12:55:29.804978Z"
    },
    "papermill": {
     "duration": 0.064959,
     "end_time": "2023-11-13T12:55:29.807892",
     "exception": false,
     "start_time": "2023-11-13T12:55:29.742933",
     "status": "completed"
    },
    "tags": []
   },
   "outputs": [
    {
     "name": "stdout",
     "output_type": "stream",
     "text": [
      "Observations: 891\n",
      "Variables: 12\n",
      "cat_cols: 6\n",
      "num_cols: 3\n",
      "cat_but_car: 3\n",
      "num_but_cat: 4\n"
     ]
    }
   ],
   "source": [
    "cat_cols, num_cols, cat_but_car = grab_col_names(titanic)"
   ]
  },
  {
   "cell_type": "code",
   "execution_count": 109,
   "id": "10c7145a",
   "metadata": {
    "execution": {
     "iopub.execute_input": "2023-11-13T12:55:29.913634Z",
     "iopub.status.busy": "2023-11-13T12:55:29.913325Z",
     "iopub.status.idle": "2023-11-13T12:55:29.918568Z",
     "shell.execute_reply": "2023-11-13T12:55:29.917887Z"
    },
    "papermill": {
     "duration": 0.060065,
     "end_time": "2023-11-13T12:55:29.920643",
     "exception": false,
     "start_time": "2023-11-13T12:55:29.860578",
     "status": "completed"
    },
    "tags": []
   },
   "outputs": [
    {
     "data": {
      "text/plain": [
       "['Sex', 'Embarked', 'Survived', 'Pclass', 'SibSp', 'Parch']"
      ]
     },
     "execution_count": 109,
     "metadata": {},
     "output_type": "execute_result"
    }
   ],
   "source": [
    "cat_cols"
   ]
  },
  {
   "cell_type": "code",
   "execution_count": 110,
   "id": "9b05967b",
   "metadata": {
    "execution": {
     "iopub.execute_input": "2023-11-13T12:55:30.022588Z",
     "iopub.status.busy": "2023-11-13T12:55:30.022267Z",
     "iopub.status.idle": "2023-11-13T12:55:30.032159Z",
     "shell.execute_reply": "2023-11-13T12:55:30.031161Z"
    },
    "papermill": {
     "duration": 0.063142,
     "end_time": "2023-11-13T12:55:30.034030",
     "exception": false,
     "start_time": "2023-11-13T12:55:29.970888",
     "status": "completed"
    },
    "tags": []
   },
   "outputs": [
    {
     "data": {
      "text/plain": [
       "['Pclass', 'SibSp', 'Parch', 'Embarked']"
      ]
     },
     "execution_count": 110,
     "metadata": {},
     "output_type": "execute_result"
    }
   ],
   "source": [
    "ohe_cols = [col for col in titanic.columns if 10 >= titanic[col].nunique() > 2] # one-hot-encoding cols\n",
    "ohe_cols"
   ]
  },
  {
   "cell_type": "code",
   "execution_count": 111,
   "id": "48c7b599",
   "metadata": {
    "execution": {
     "iopub.execute_input": "2023-11-13T12:55:30.134829Z",
     "iopub.status.busy": "2023-11-13T12:55:30.134482Z",
     "iopub.status.idle": "2023-11-13T12:55:30.157100Z",
     "shell.execute_reply": "2023-11-13T12:55:30.156368Z"
    },
    "papermill": {
     "duration": 0.074455,
     "end_time": "2023-11-13T12:55:30.158915",
     "exception": false,
     "start_time": "2023-11-13T12:55:30.084460",
     "status": "completed"
    },
    "tags": []
   },
   "outputs": [
    {
     "data": {
      "text/html": [
       "<div>\n",
       "<style scoped>\n",
       "    .dataframe tbody tr th:only-of-type {\n",
       "        vertical-align: middle;\n",
       "    }\n",
       "\n",
       "    .dataframe tbody tr th {\n",
       "        vertical-align: top;\n",
       "    }\n",
       "\n",
       "    .dataframe thead th {\n",
       "        text-align: right;\n",
       "    }\n",
       "</style>\n",
       "<table border=\"1\" class=\"dataframe\">\n",
       "  <thead>\n",
       "    <tr style=\"text-align: right;\">\n",
       "      <th></th>\n",
       "      <th>PassengerId</th>\n",
       "      <th>Survived</th>\n",
       "      <th>Name</th>\n",
       "      <th>Sex</th>\n",
       "      <th>Age</th>\n",
       "      <th>Ticket</th>\n",
       "      <th>Fare</th>\n",
       "      <th>Cabin</th>\n",
       "      <th>Pclass_2</th>\n",
       "      <th>Pclass_3</th>\n",
       "      <th>...</th>\n",
       "      <th>SibSp_5</th>\n",
       "      <th>SibSp_8</th>\n",
       "      <th>Parch_1</th>\n",
       "      <th>Parch_2</th>\n",
       "      <th>Parch_3</th>\n",
       "      <th>Parch_4</th>\n",
       "      <th>Parch_5</th>\n",
       "      <th>Parch_6</th>\n",
       "      <th>Embarked_Q</th>\n",
       "      <th>Embarked_S</th>\n",
       "    </tr>\n",
       "  </thead>\n",
       "  <tbody>\n",
       "    <tr>\n",
       "      <th>0</th>\n",
       "      <td>1</td>\n",
       "      <td>0</td>\n",
       "      <td>Braund, Mr. Owen Harris</td>\n",
       "      <td>male</td>\n",
       "      <td>22.0</td>\n",
       "      <td>A/5 21171</td>\n",
       "      <td>7.2500</td>\n",
       "      <td>NaN</td>\n",
       "      <td>False</td>\n",
       "      <td>True</td>\n",
       "      <td>...</td>\n",
       "      <td>False</td>\n",
       "      <td>False</td>\n",
       "      <td>False</td>\n",
       "      <td>False</td>\n",
       "      <td>False</td>\n",
       "      <td>False</td>\n",
       "      <td>False</td>\n",
       "      <td>False</td>\n",
       "      <td>False</td>\n",
       "      <td>True</td>\n",
       "    </tr>\n",
       "    <tr>\n",
       "      <th>1</th>\n",
       "      <td>2</td>\n",
       "      <td>1</td>\n",
       "      <td>Cumings, Mrs. John Bradley (Florence Briggs Th...</td>\n",
       "      <td>female</td>\n",
       "      <td>38.0</td>\n",
       "      <td>PC 17599</td>\n",
       "      <td>71.2833</td>\n",
       "      <td>C85</td>\n",
       "      <td>False</td>\n",
       "      <td>False</td>\n",
       "      <td>...</td>\n",
       "      <td>False</td>\n",
       "      <td>False</td>\n",
       "      <td>False</td>\n",
       "      <td>False</td>\n",
       "      <td>False</td>\n",
       "      <td>False</td>\n",
       "      <td>False</td>\n",
       "      <td>False</td>\n",
       "      <td>False</td>\n",
       "      <td>False</td>\n",
       "    </tr>\n",
       "    <tr>\n",
       "      <th>2</th>\n",
       "      <td>3</td>\n",
       "      <td>1</td>\n",
       "      <td>Heikkinen, Miss. Laina</td>\n",
       "      <td>female</td>\n",
       "      <td>26.0</td>\n",
       "      <td>STON/O2. 3101282</td>\n",
       "      <td>7.9250</td>\n",
       "      <td>NaN</td>\n",
       "      <td>False</td>\n",
       "      <td>True</td>\n",
       "      <td>...</td>\n",
       "      <td>False</td>\n",
       "      <td>False</td>\n",
       "      <td>False</td>\n",
       "      <td>False</td>\n",
       "      <td>False</td>\n",
       "      <td>False</td>\n",
       "      <td>False</td>\n",
       "      <td>False</td>\n",
       "      <td>False</td>\n",
       "      <td>True</td>\n",
       "    </tr>\n",
       "    <tr>\n",
       "      <th>3</th>\n",
       "      <td>4</td>\n",
       "      <td>1</td>\n",
       "      <td>Futrelle, Mrs. Jacques Heath (Lily May Peel)</td>\n",
       "      <td>female</td>\n",
       "      <td>35.0</td>\n",
       "      <td>113803</td>\n",
       "      <td>53.1000</td>\n",
       "      <td>C123</td>\n",
       "      <td>False</td>\n",
       "      <td>False</td>\n",
       "      <td>...</td>\n",
       "      <td>False</td>\n",
       "      <td>False</td>\n",
       "      <td>False</td>\n",
       "      <td>False</td>\n",
       "      <td>False</td>\n",
       "      <td>False</td>\n",
       "      <td>False</td>\n",
       "      <td>False</td>\n",
       "      <td>False</td>\n",
       "      <td>True</td>\n",
       "    </tr>\n",
       "    <tr>\n",
       "      <th>4</th>\n",
       "      <td>5</td>\n",
       "      <td>0</td>\n",
       "      <td>Allen, Mr. William Henry</td>\n",
       "      <td>male</td>\n",
       "      <td>35.0</td>\n",
       "      <td>373450</td>\n",
       "      <td>8.0500</td>\n",
       "      <td>NaN</td>\n",
       "      <td>False</td>\n",
       "      <td>True</td>\n",
       "      <td>...</td>\n",
       "      <td>False</td>\n",
       "      <td>False</td>\n",
       "      <td>False</td>\n",
       "      <td>False</td>\n",
       "      <td>False</td>\n",
       "      <td>False</td>\n",
       "      <td>False</td>\n",
       "      <td>False</td>\n",
       "      <td>False</td>\n",
       "      <td>True</td>\n",
       "    </tr>\n",
       "  </tbody>\n",
       "</table>\n",
       "<p>5 rows × 24 columns</p>\n",
       "</div>"
      ],
      "text/plain": [
       "   PassengerId  Survived                                               Name  \\\n",
       "0            1         0                            Braund, Mr. Owen Harris   \n",
       "1            2         1  Cumings, Mrs. John Bradley (Florence Briggs Th...   \n",
       "2            3         1                             Heikkinen, Miss. Laina   \n",
       "3            4         1       Futrelle, Mrs. Jacques Heath (Lily May Peel)   \n",
       "4            5         0                           Allen, Mr. William Henry   \n",
       "\n",
       "      Sex   Age            Ticket     Fare Cabin  Pclass_2  Pclass_3  ...  \\\n",
       "0    male  22.0         A/5 21171   7.2500   NaN     False      True  ...   \n",
       "1  female  38.0          PC 17599  71.2833   C85     False     False  ...   \n",
       "2  female  26.0  STON/O2. 3101282   7.9250   NaN     False      True  ...   \n",
       "3  female  35.0            113803  53.1000  C123     False     False  ...   \n",
       "4    male  35.0            373450   8.0500   NaN     False      True  ...   \n",
       "\n",
       "   SibSp_5  SibSp_8  Parch_1  Parch_2  Parch_3  Parch_4  Parch_5  Parch_6  \\\n",
       "0    False    False    False    False    False    False    False    False   \n",
       "1    False    False    False    False    False    False    False    False   \n",
       "2    False    False    False    False    False    False    False    False   \n",
       "3    False    False    False    False    False    False    False    False   \n",
       "4    False    False    False    False    False    False    False    False   \n",
       "\n",
       "   Embarked_Q  Embarked_S  \n",
       "0       False        True  \n",
       "1       False       False  \n",
       "2       False        True  \n",
       "3       False        True  \n",
       "4       False        True  \n",
       "\n",
       "[5 rows x 24 columns]"
      ]
     },
     "execution_count": 111,
     "metadata": {},
     "output_type": "execute_result"
    }
   ],
   "source": [
    "one_hot_encoder(titanic, ohe_cols).head() # kalıcı bir değişiklik için \"titanic\" olarak atamak gerekir."
   ]
  },
  {
   "cell_type": "code",
   "execution_count": 112,
   "id": "aa315a7e",
   "metadata": {
    "execution": {
     "iopub.execute_input": "2023-11-13T12:55:30.263949Z",
     "iopub.status.busy": "2023-11-13T12:55:30.263135Z",
     "iopub.status.idle": "2023-11-13T12:55:30.275507Z",
     "shell.execute_reply": "2023-11-13T12:55:30.274864Z"
    },
    "papermill": {
     "duration": 0.066941,
     "end_time": "2023-11-13T12:55:30.277189",
     "exception": false,
     "start_time": "2023-11-13T12:55:30.210248",
     "status": "completed"
    },
    "tags": []
   },
   "outputs": [
    {
     "data": {
      "text/html": [
       "<div>\n",
       "<style scoped>\n",
       "    .dataframe tbody tr th:only-of-type {\n",
       "        vertical-align: middle;\n",
       "    }\n",
       "\n",
       "    .dataframe tbody tr th {\n",
       "        vertical-align: top;\n",
       "    }\n",
       "\n",
       "    .dataframe thead th {\n",
       "        text-align: right;\n",
       "    }\n",
       "</style>\n",
       "<table border=\"1\" class=\"dataframe\">\n",
       "  <thead>\n",
       "    <tr style=\"text-align: right;\">\n",
       "      <th></th>\n",
       "      <th>PassengerId</th>\n",
       "      <th>Survived</th>\n",
       "      <th>Pclass</th>\n",
       "      <th>Name</th>\n",
       "      <th>Sex</th>\n",
       "      <th>Age</th>\n",
       "      <th>SibSp</th>\n",
       "      <th>Parch</th>\n",
       "      <th>Ticket</th>\n",
       "      <th>Fare</th>\n",
       "      <th>Cabin</th>\n",
       "      <th>Embarked</th>\n",
       "    </tr>\n",
       "  </thead>\n",
       "  <tbody>\n",
       "    <tr>\n",
       "      <th>0</th>\n",
       "      <td>1</td>\n",
       "      <td>0</td>\n",
       "      <td>3</td>\n",
       "      <td>Braund, Mr. Owen Harris</td>\n",
       "      <td>male</td>\n",
       "      <td>22.0</td>\n",
       "      <td>1</td>\n",
       "      <td>0</td>\n",
       "      <td>A/5 21171</td>\n",
       "      <td>7.2500</td>\n",
       "      <td>NaN</td>\n",
       "      <td>S</td>\n",
       "    </tr>\n",
       "    <tr>\n",
       "      <th>1</th>\n",
       "      <td>2</td>\n",
       "      <td>1</td>\n",
       "      <td>1</td>\n",
       "      <td>Cumings, Mrs. John Bradley (Florence Briggs Th...</td>\n",
       "      <td>female</td>\n",
       "      <td>38.0</td>\n",
       "      <td>1</td>\n",
       "      <td>0</td>\n",
       "      <td>PC 17599</td>\n",
       "      <td>71.2833</td>\n",
       "      <td>C85</td>\n",
       "      <td>C</td>\n",
       "    </tr>\n",
       "    <tr>\n",
       "      <th>2</th>\n",
       "      <td>3</td>\n",
       "      <td>1</td>\n",
       "      <td>3</td>\n",
       "      <td>Heikkinen, Miss. Laina</td>\n",
       "      <td>female</td>\n",
       "      <td>26.0</td>\n",
       "      <td>0</td>\n",
       "      <td>0</td>\n",
       "      <td>STON/O2. 3101282</td>\n",
       "      <td>7.9250</td>\n",
       "      <td>NaN</td>\n",
       "      <td>S</td>\n",
       "    </tr>\n",
       "    <tr>\n",
       "      <th>3</th>\n",
       "      <td>4</td>\n",
       "      <td>1</td>\n",
       "      <td>1</td>\n",
       "      <td>Futrelle, Mrs. Jacques Heath (Lily May Peel)</td>\n",
       "      <td>female</td>\n",
       "      <td>35.0</td>\n",
       "      <td>1</td>\n",
       "      <td>0</td>\n",
       "      <td>113803</td>\n",
       "      <td>53.1000</td>\n",
       "      <td>C123</td>\n",
       "      <td>S</td>\n",
       "    </tr>\n",
       "    <tr>\n",
       "      <th>4</th>\n",
       "      <td>5</td>\n",
       "      <td>0</td>\n",
       "      <td>3</td>\n",
       "      <td>Allen, Mr. William Henry</td>\n",
       "      <td>male</td>\n",
       "      <td>35.0</td>\n",
       "      <td>0</td>\n",
       "      <td>0</td>\n",
       "      <td>373450</td>\n",
       "      <td>8.0500</td>\n",
       "      <td>NaN</td>\n",
       "      <td>S</td>\n",
       "    </tr>\n",
       "  </tbody>\n",
       "</table>\n",
       "</div>"
      ],
      "text/plain": [
       "   PassengerId  Survived  Pclass  \\\n",
       "0            1         0       3   \n",
       "1            2         1       1   \n",
       "2            3         1       3   \n",
       "3            4         1       1   \n",
       "4            5         0       3   \n",
       "\n",
       "                                                Name     Sex   Age  SibSp  \\\n",
       "0                            Braund, Mr. Owen Harris    male  22.0      1   \n",
       "1  Cumings, Mrs. John Bradley (Florence Briggs Th...  female  38.0      1   \n",
       "2                             Heikkinen, Miss. Laina  female  26.0      0   \n",
       "3       Futrelle, Mrs. Jacques Heath (Lily May Peel)  female  35.0      1   \n",
       "4                           Allen, Mr. William Henry    male  35.0      0   \n",
       "\n",
       "   Parch            Ticket     Fare Cabin Embarked  \n",
       "0      0         A/5 21171   7.2500   NaN        S  \n",
       "1      0          PC 17599  71.2833   C85        C  \n",
       "2      0  STON/O2. 3101282   7.9250   NaN        S  \n",
       "3      0            113803  53.1000  C123        S  \n",
       "4      0            373450   8.0500   NaN        S  "
      ]
     },
     "execution_count": 112,
     "metadata": {},
     "output_type": "execute_result"
    }
   ],
   "source": [
    "titanic.head()"
   ]
  },
  {
   "cell_type": "markdown",
   "id": "f0a0d4ba",
   "metadata": {
    "papermill": {
     "duration": 0.054666,
     "end_time": "2023-11-13T12:55:30.383799",
     "exception": false,
     "start_time": "2023-11-13T12:55:30.329133",
     "status": "completed"
    },
    "tags": []
   },
   "source": [
    "<a id = \"15\"></a><br>\n",
    "<p style=\"font-family: 'Pacifico', cursive; font-weight: bold; letter-spacing: 2px; color: #556B2F; font-size: 160%; text-align: left; padding: 0px; border-bottom: 3px solid\">✨Rare Encoding✨</p>"
   ]
  },
  {
   "cell_type": "markdown",
   "id": "420eabf8",
   "metadata": {
    "papermill": {
     "duration": 0.050162,
     "end_time": "2023-11-13T12:55:30.486324",
     "exception": false,
     "start_time": "2023-11-13T12:55:30.436162",
     "status": "completed"
    },
    "tags": []
   },
   "source": [
    "> **Kategorik değişkenlerin azlık-çokluk durumuna göre analiz edilmesi;**"
   ]
  },
  {
   "cell_type": "code",
   "execution_count": 113,
   "id": "aaf4a1e5",
   "metadata": {
    "execution": {
     "iopub.execute_input": "2023-11-13T12:55:30.588364Z",
     "iopub.status.busy": "2023-11-13T12:55:30.587777Z",
     "iopub.status.idle": "2023-11-13T12:55:30.609518Z",
     "shell.execute_reply": "2023-11-13T12:55:30.608906Z"
    },
    "papermill": {
     "duration": 0.074416,
     "end_time": "2023-11-13T12:55:30.611129",
     "exception": false,
     "start_time": "2023-11-13T12:55:30.536713",
     "status": "completed"
    },
    "tags": []
   },
   "outputs": [
    {
     "data": {
      "text/plain": [
       "NAME_EDUCATION_TYPE\n",
       "Secondary / secondary special    218391\n",
       "Higher education                  74863\n",
       "Incomplete higher                 10277\n",
       "Lower secondary                    3816\n",
       "Academic degree                     164\n",
       "Name: count, dtype: int64"
      ]
     },
     "execution_count": 113,
     "metadata": {},
     "output_type": "execute_result"
    }
   ],
   "source": [
    "home_credit[\"NAME_EDUCATION_TYPE\"].value_counts()"
   ]
  },
  {
   "cell_type": "code",
   "execution_count": 114,
   "id": "c1932711",
   "metadata": {
    "execution": {
     "iopub.execute_input": "2023-11-13T12:55:30.715455Z",
     "iopub.status.busy": "2023-11-13T12:55:30.714862Z",
     "iopub.status.idle": "2023-11-13T12:55:31.704886Z",
     "shell.execute_reply": "2023-11-13T12:55:31.703130Z"
    },
    "papermill": {
     "duration": 1.043999,
     "end_time": "2023-11-13T12:55:31.707394",
     "exception": false,
     "start_time": "2023-11-13T12:55:30.663395",
     "status": "completed"
    },
    "tags": []
   },
   "outputs": [
    {
     "name": "stdout",
     "output_type": "stream",
     "text": [
      "Observations: 307511\n",
      "Variables: 122\n",
      "cat_cols: 54\n",
      "num_cols: 67\n",
      "cat_but_car: 1\n",
      "num_but_cat: 39\n"
     ]
    }
   ],
   "source": [
    "cat_cols, num_cols, cat_but_car = grab_col_names(home_credit)"
   ]
  },
  {
   "cell_type": "code",
   "execution_count": 115,
   "id": "965946b2",
   "metadata": {
    "execution": {
     "iopub.execute_input": "2023-11-13T12:55:31.871927Z",
     "iopub.status.busy": "2023-11-13T12:55:31.871558Z",
     "iopub.status.idle": "2023-11-13T12:55:31.878249Z",
     "shell.execute_reply": "2023-11-13T12:55:31.877320Z"
    },
    "papermill": {
     "duration": 0.06385,
     "end_time": "2023-11-13T12:55:31.880891",
     "exception": false,
     "start_time": "2023-11-13T12:55:31.817041",
     "status": "completed"
    },
    "tags": []
   },
   "outputs": [
    {
     "data": {
      "text/plain": [
       "['NAME_CONTRACT_TYPE',\n",
       " 'CODE_GENDER',\n",
       " 'FLAG_OWN_CAR',\n",
       " 'FLAG_OWN_REALTY',\n",
       " 'NAME_TYPE_SUITE',\n",
       " 'NAME_INCOME_TYPE',\n",
       " 'NAME_EDUCATION_TYPE',\n",
       " 'NAME_FAMILY_STATUS',\n",
       " 'NAME_HOUSING_TYPE',\n",
       " 'OCCUPATION_TYPE',\n",
       " 'WEEKDAY_APPR_PROCESS_START',\n",
       " 'FONDKAPREMONT_MODE',\n",
       " 'HOUSETYPE_MODE',\n",
       " 'WALLSMATERIAL_MODE',\n",
       " 'EMERGENCYSTATE_MODE',\n",
       " 'TARGET',\n",
       " 'FLAG_MOBIL',\n",
       " 'FLAG_EMP_PHONE',\n",
       " 'FLAG_WORK_PHONE',\n",
       " 'FLAG_CONT_MOBILE',\n",
       " 'FLAG_PHONE',\n",
       " 'FLAG_EMAIL',\n",
       " 'REGION_RATING_CLIENT',\n",
       " 'REGION_RATING_CLIENT_W_CITY',\n",
       " 'REG_REGION_NOT_LIVE_REGION',\n",
       " 'REG_REGION_NOT_WORK_REGION',\n",
       " 'LIVE_REGION_NOT_WORK_REGION',\n",
       " 'REG_CITY_NOT_LIVE_CITY',\n",
       " 'REG_CITY_NOT_WORK_CITY',\n",
       " 'LIVE_CITY_NOT_WORK_CITY',\n",
       " 'DEF_60_CNT_SOCIAL_CIRCLE',\n",
       " 'FLAG_DOCUMENT_2',\n",
       " 'FLAG_DOCUMENT_3',\n",
       " 'FLAG_DOCUMENT_4',\n",
       " 'FLAG_DOCUMENT_5',\n",
       " 'FLAG_DOCUMENT_6',\n",
       " 'FLAG_DOCUMENT_7',\n",
       " 'FLAG_DOCUMENT_8',\n",
       " 'FLAG_DOCUMENT_9',\n",
       " 'FLAG_DOCUMENT_10',\n",
       " 'FLAG_DOCUMENT_11',\n",
       " 'FLAG_DOCUMENT_12',\n",
       " 'FLAG_DOCUMENT_13',\n",
       " 'FLAG_DOCUMENT_14',\n",
       " 'FLAG_DOCUMENT_15',\n",
       " 'FLAG_DOCUMENT_16',\n",
       " 'FLAG_DOCUMENT_17',\n",
       " 'FLAG_DOCUMENT_18',\n",
       " 'FLAG_DOCUMENT_19',\n",
       " 'FLAG_DOCUMENT_20',\n",
       " 'FLAG_DOCUMENT_21',\n",
       " 'AMT_REQ_CREDIT_BUREAU_HOUR',\n",
       " 'AMT_REQ_CREDIT_BUREAU_DAY',\n",
       " 'AMT_REQ_CREDIT_BUREAU_WEEK']"
      ]
     },
     "execution_count": 115,
     "metadata": {},
     "output_type": "execute_result"
    }
   ],
   "source": [
    "cat_cols"
   ]
  },
  {
   "cell_type": "markdown",
   "id": "4ef68327",
   "metadata": {
    "papermill": {
     "duration": 0.04957,
     "end_time": "2023-11-13T12:55:31.981912",
     "exception": false,
     "start_time": "2023-11-13T12:55:31.932342",
     "status": "completed"
    },
    "tags": []
   },
   "source": [
    "----"
   ]
  },
  {
   "cell_type": "code",
   "execution_count": 116,
   "id": "107a9601",
   "metadata": {
    "execution": {
     "iopub.execute_input": "2023-11-13T12:55:32.083877Z",
     "iopub.status.busy": "2023-11-13T12:55:32.083522Z",
     "iopub.status.idle": "2023-11-13T12:55:32.089544Z",
     "shell.execute_reply": "2023-11-13T12:55:32.088521Z"
    },
    "papermill": {
     "duration": 0.058994,
     "end_time": "2023-11-13T12:55:32.091194",
     "exception": false,
     "start_time": "2023-11-13T12:55:32.032200",
     "status": "completed"
    },
    "tags": []
   },
   "outputs": [],
   "source": [
    "def cat_summary(dataframe, col_name, plot=False):\n",
    "    \n",
    "    summary_df = pd.DataFrame({col_name: dataframe[col_name].value_counts(),\n",
    "                               \"Ratio\": 100 * dataframe[col_name].value_counts() / len(dataframe)})\n",
    "    \n",
    "    print(summary_df.to_markdown(), end=\"\\n\\n\")\n",
    "    \n",
    "    if plot:\n",
    "        \n",
    "        sns.countplot(x=dataframe[col_name], data=dataframe)\n",
    "        plt.show()"
   ]
  },
  {
   "cell_type": "code",
   "execution_count": 117,
   "id": "e8c77fa2",
   "metadata": {
    "execution": {
     "iopub.execute_input": "2023-11-13T12:55:32.195928Z",
     "iopub.status.busy": "2023-11-13T12:55:32.195116Z",
     "iopub.status.idle": "2023-11-13T12:55:32.930455Z",
     "shell.execute_reply": "2023-11-13T12:55:32.928092Z"
    },
    "papermill": {
     "duration": 0.788953,
     "end_time": "2023-11-13T12:55:32.932442",
     "exception": false,
     "start_time": "2023-11-13T12:55:32.143489",
     "status": "completed"
    },
    "tags": []
   },
   "outputs": [
    {
     "name": "stdout",
     "output_type": "stream",
     "text": [
      "| NAME_CONTRACT_TYPE   |   NAME_CONTRACT_TYPE |    Ratio |\n",
      "|:---------------------|---------------------:|---------:|\n",
      "| Cash loans           |               278232 | 90.4787  |\n",
      "| Revolving loans      |                29279 |  9.52129 |\n",
      "\n",
      "| CODE_GENDER   |   CODE_GENDER |       Ratio |\n",
      "|:--------------|--------------:|------------:|\n",
      "| F             |        202448 | 65.8344     |\n",
      "| M             |        105059 | 34.1643     |\n",
      "| XNA           |             4 |  0.00130077 |\n",
      "\n",
      "| FLAG_OWN_CAR   |   FLAG_OWN_CAR |   Ratio |\n",
      "|:---------------|---------------:|--------:|\n",
      "| N              |         202924 | 65.9892 |\n",
      "| Y              |         104587 | 34.0108 |\n",
      "\n",
      "| FLAG_OWN_REALTY   |   FLAG_OWN_REALTY |   Ratio |\n",
      "|:------------------|------------------:|--------:|\n",
      "| Y                 |            213312 | 69.3673 |\n",
      "| N                 |             94199 | 30.6327 |\n",
      "\n",
      "| NAME_TYPE_SUITE   |   NAME_TYPE_SUITE |      Ratio |\n",
      "|:------------------|------------------:|-----------:|\n",
      "| Unaccompanied     |            248526 | 80.8186    |\n",
      "| Family            |             40149 | 13.0561    |\n",
      "| Spouse, partner   |             11370 |  3.69743   |\n",
      "| Children          |              3267 |  1.0624    |\n",
      "| Other_B           |              1770 |  0.575589  |\n",
      "| Other_A           |               866 |  0.281616  |\n",
      "| Group of people   |               271 |  0.0881269 |\n",
      "\n",
      "| NAME_INCOME_TYPE     |   NAME_INCOME_TYPE |       Ratio |\n",
      "|:---------------------|-------------------:|------------:|\n",
      "| Working              |             158774 | 51.632      |\n",
      "| Commercial associate |              71617 | 23.2892     |\n",
      "| Pensioner            |              55362 | 18.0033     |\n",
      "| State servant        |              21703 |  7.05763    |\n",
      "| Unemployed           |                 22 |  0.00715422 |\n",
      "| Student              |                 18 |  0.00585345 |\n",
      "| Businessman          |                 10 |  0.00325192 |\n",
      "| Maternity leave      |                  5 |  0.00162596 |\n",
      "\n",
      "| NAME_EDUCATION_TYPE           |   NAME_EDUCATION_TYPE |      Ratio |\n",
      "|:------------------------------|----------------------:|-----------:|\n",
      "| Secondary / secondary special |                218391 | 71.0189    |\n",
      "| Higher education              |                 74863 | 24.3448    |\n",
      "| Incomplete higher             |                 10277 |  3.34199   |\n",
      "| Lower secondary               |                  3816 |  1.24093   |\n",
      "| Academic degree               |                   164 |  0.0533314 |\n",
      "\n",
      "| NAME_FAMILY_STATUS   |   NAME_FAMILY_STATUS |        Ratio |\n",
      "|:---------------------|---------------------:|-------------:|\n",
      "| Married              |               196432 | 63.878       |\n",
      "| Single / not married |                45444 | 14.778       |\n",
      "| Civil marriage       |                29775 |  9.68258     |\n",
      "| Separated            |                19770 |  6.42904     |\n",
      "| Widow                |                16088 |  5.23168     |\n",
      "| Unknown              |                    2 |  0.000650383 |\n",
      "\n",
      "| NAME_HOUSING_TYPE   |   NAME_HOUSING_TYPE |     Ratio |\n",
      "|:--------------------|--------------------:|----------:|\n",
      "| House / apartment   |              272868 | 88.7344   |\n",
      "| With parents        |               14840 |  4.82584  |\n",
      "| Municipal apartment |               11183 |  3.63662  |\n",
      "| Rented apartment    |                4881 |  1.58726  |\n",
      "| Office apartment    |                2617 |  0.851026 |\n",
      "| Co-op apartment     |                1122 |  0.364865 |\n",
      "\n",
      "| OCCUPATION_TYPE       |   OCCUPATION_TYPE |     Ratio |\n",
      "|:----------------------|------------------:|----------:|\n",
      "| Laborers              |             55186 | 17.946    |\n",
      "| Sales staff           |             32102 | 10.4393   |\n",
      "| Core staff            |             27570 |  8.96553  |\n",
      "| Managers              |             21371 |  6.94967  |\n",
      "| Drivers               |             18603 |  6.04954  |\n",
      "| High skill tech staff |             11380 |  3.70068  |\n",
      "| Accountants           |              9813 |  3.19111  |\n",
      "| Medicine staff        |              8537 |  2.77616  |\n",
      "| Security staff        |              6721 |  2.18561  |\n",
      "| Cooking staff         |              5946 |  1.93359  |\n",
      "| Cleaning staff        |              4653 |  1.51312  |\n",
      "| Private service staff |              2652 |  0.862408 |\n",
      "| Low-skill Laborers    |              2093 |  0.680626 |\n",
      "| Waiters/barmen staff  |              1348 |  0.438358 |\n",
      "| Secretaries           |              1305 |  0.424375 |\n",
      "| Realty agents         |               751 |  0.244219 |\n",
      "| HR staff              |               563 |  0.183083 |\n",
      "| IT staff              |               526 |  0.171051 |\n",
      "\n",
      "| WEEKDAY_APPR_PROCESS_START   |   WEEKDAY_APPR_PROCESS_START |    Ratio |\n",
      "|:-----------------------------|-----------------------------:|---------:|\n",
      "| TUESDAY                      |                        53901 | 17.5282  |\n",
      "| WEDNESDAY                    |                        51934 | 16.8885  |\n",
      "| MONDAY                       |                        50714 | 16.4918  |\n",
      "| THURSDAY                     |                        50591 | 16.4518  |\n",
      "| FRIDAY                       |                        50338 | 16.3695  |\n",
      "| SATURDAY                     |                        33852 | 11.0084  |\n",
      "| SUNDAY                       |                        16181 |  5.26193 |\n",
      "\n",
      "| FONDKAPREMONT_MODE    |   FONDKAPREMONT_MODE |    Ratio |\n",
      "|:----------------------|---------------------:|---------:|\n",
      "| reg oper account      |                73830 | 24.0089  |\n",
      "| reg oper spec account |                12080 |  3.92831 |\n",
      "| not specified         |                 5687 |  1.84936 |\n",
      "| org spec account      |                 5619 |  1.82725 |\n",
      "\n",
      "| HOUSETYPE_MODE   |   HOUSETYPE_MODE |     Ratio |\n",
      "|:-----------------|-----------------:|----------:|\n",
      "| block of flats   |           150503 | 48.9423   |\n",
      "| specific housing |             1499 |  0.487462 |\n",
      "| terraced house   |             1212 |  0.394132 |\n",
      "\n",
      "| WALLSMATERIAL_MODE   |   WALLSMATERIAL_MODE |     Ratio |\n",
      "|:---------------------|---------------------:|----------:|\n",
      "| Panel                |                66040 | 21.4757   |\n",
      "| Stone, brick         |                64815 | 21.0773   |\n",
      "| Block                |                 9253 |  3.009    |\n",
      "| Wooden               |                 5362 |  1.74368  |\n",
      "| Mixed                |                 2296 |  0.74664  |\n",
      "| Monolithic           |                 1779 |  0.578516 |\n",
      "| Others               |                 1625 |  0.528436 |\n",
      "\n",
      "| EMERGENCYSTATE_MODE   |   EMERGENCYSTATE_MODE |     Ratio |\n",
      "|:----------------------|----------------------:|----------:|\n",
      "| No                    |                159428 | 51.8446   |\n",
      "| Yes                   |                  2328 |  0.757046 |\n",
      "\n",
      "|   TARGET |   TARGET |    Ratio |\n",
      "|---------:|---------:|---------:|\n",
      "|        0 |   282686 | 91.9271  |\n",
      "|        1 |    24825 |  8.07288 |\n",
      "\n",
      "|   FLAG_MOBIL |   FLAG_MOBIL |        Ratio |\n",
      "|-------------:|-------------:|-------------:|\n",
      "|            1 |       307510 | 99.9997      |\n",
      "|            0 |            1 |  0.000325192 |\n",
      "\n",
      "|   FLAG_EMP_PHONE |   FLAG_EMP_PHONE |   Ratio |\n",
      "|-----------------:|-----------------:|--------:|\n",
      "|                1 |           252125 | 81.9889 |\n",
      "|                0 |            55386 | 18.0111 |\n",
      "\n",
      "|   FLAG_WORK_PHONE |   FLAG_WORK_PHONE |   Ratio |\n",
      "|------------------:|------------------:|--------:|\n",
      "|                 0 |            246203 | 80.0632 |\n",
      "|                 1 |             61308 | 19.9368 |\n",
      "\n",
      "|   FLAG_CONT_MOBILE |   FLAG_CONT_MOBILE |    Ratio |\n",
      "|-------------------:|-------------------:|---------:|\n",
      "|                  1 |             306937 | 99.8133  |\n",
      "|                  0 |                574 |  0.18666 |\n",
      "\n",
      "|   FLAG_PHONE |   FLAG_PHONE |   Ratio |\n",
      "|-------------:|-------------:|--------:|\n",
      "|            0 |       221080 | 71.8934 |\n",
      "|            1 |        86431 | 28.1066 |\n",
      "\n",
      "|   FLAG_EMAIL |   FLAG_EMAIL |    Ratio |\n",
      "|-------------:|-------------:|---------:|\n",
      "|            0 |       290069 | 94.328   |\n",
      "|            1 |        17442 |  5.67199 |\n",
      "\n",
      "|   REGION_RATING_CLIENT |   REGION_RATING_CLIENT |   Ratio |\n",
      "|-----------------------:|-----------------------:|--------:|\n",
      "|                      2 |                 226984 | 73.8133 |\n",
      "|                      3 |                  48330 | 15.7165 |\n",
      "|                      1 |                  32197 | 10.4702 |\n",
      "\n",
      "|   REGION_RATING_CLIENT_W_CITY |   REGION_RATING_CLIENT_W_CITY |   Ratio |\n",
      "|------------------------------:|------------------------------:|--------:|\n",
      "|                             2 |                        229484 | 74.6263 |\n",
      "|                             3 |                         43860 | 14.2629 |\n",
      "|                             1 |                         34167 | 11.1108 |\n",
      "\n",
      "|   REG_REGION_NOT_LIVE_REGION |   REG_REGION_NOT_LIVE_REGION |    Ratio |\n",
      "|-----------------------------:|-----------------------------:|---------:|\n",
      "|                            0 |                       302854 | 98.4856  |\n",
      "|                            1 |                         4657 |  1.51442 |\n",
      "\n",
      "|   REG_REGION_NOT_WORK_REGION |   REG_REGION_NOT_WORK_REGION |    Ratio |\n",
      "|-----------------------------:|-----------------------------:|---------:|\n",
      "|                            0 |                       291899 | 94.9231  |\n",
      "|                            1 |                        15612 |  5.07689 |\n",
      "\n",
      "|   LIVE_REGION_NOT_WORK_REGION |   LIVE_REGION_NOT_WORK_REGION |    Ratio |\n",
      "|------------------------------:|------------------------------:|---------:|\n",
      "|                             0 |                        295008 | 95.9341  |\n",
      "|                             1 |                         12503 |  4.06587 |\n",
      "\n",
      "|   REG_CITY_NOT_LIVE_CITY |   REG_CITY_NOT_LIVE_CITY |    Ratio |\n",
      "|-------------------------:|-------------------------:|---------:|\n",
      "|                        0 |                   283472 | 92.1827  |\n",
      "|                        1 |                    24039 |  7.81728 |\n",
      "\n",
      "|   REG_CITY_NOT_WORK_CITY |   REG_CITY_NOT_WORK_CITY |   Ratio |\n",
      "|-------------------------:|-------------------------:|--------:|\n",
      "|                        0 |                   236644 | 76.9546 |\n",
      "|                        1 |                    70867 | 23.0454 |\n",
      "\n",
      "|   LIVE_CITY_NOT_WORK_CITY |   LIVE_CITY_NOT_WORK_CITY |   Ratio |\n",
      "|--------------------------:|--------------------------:|--------:|\n",
      "|                         0 |                    252296 | 82.0445 |\n",
      "|                         1 |                     55215 | 17.9555 |\n",
      "\n",
      "|   DEF_60_CNT_SOCIAL_CIRCLE |   DEF_60_CNT_SOCIAL_CIRCLE |        Ratio |\n",
      "|---------------------------:|---------------------------:|-------------:|\n",
      "|                          0 |                     280721 | 91.2881      |\n",
      "|                          1 |                      21841 |  7.10251     |\n",
      "|                          2 |                       3170 |  1.03086     |\n",
      "|                          3 |                        598 |  0.194465    |\n",
      "|                          4 |                        135 |  0.0439009   |\n",
      "|                          5 |                         20 |  0.00650383  |\n",
      "|                          6 |                          3 |  0.000975575 |\n",
      "|                          7 |                          1 |  0.000325192 |\n",
      "|                         24 |                          1 |  0.000325192 |\n",
      "\n",
      "|   FLAG_DOCUMENT_2 |   FLAG_DOCUMENT_2 |       Ratio |\n",
      "|------------------:|------------------:|------------:|\n",
      "|                 0 |            307498 | 99.9958     |\n",
      "|                 1 |                13 |  0.00422749 |\n",
      "\n",
      "|   FLAG_DOCUMENT_3 |   FLAG_DOCUMENT_3 |   Ratio |\n",
      "|------------------:|------------------:|--------:|\n",
      "|                 1 |            218340 | 71.0023 |\n",
      "|                 0 |             89171 | 28.9977 |\n",
      "\n",
      "|   FLAG_DOCUMENT_4 |   FLAG_DOCUMENT_4 |       Ratio |\n",
      "|------------------:|------------------:|------------:|\n",
      "|                 0 |            307486 | 99.9919     |\n",
      "|                 1 |                25 |  0.00812979 |\n",
      "\n",
      "|   FLAG_DOCUMENT_5 |   FLAG_DOCUMENT_5 |    Ratio |\n",
      "|------------------:|------------------:|---------:|\n",
      "|                 0 |            302863 | 98.4885  |\n",
      "|                 1 |              4648 |  1.51149 |\n",
      "\n",
      "|   FLAG_DOCUMENT_6 |   FLAG_DOCUMENT_6 |    Ratio |\n",
      "|------------------:|------------------:|---------:|\n",
      "|                 0 |            280433 | 91.1945  |\n",
      "|                 1 |             27078 |  8.80554 |\n",
      "\n",
      "|   FLAG_DOCUMENT_7 |   FLAG_DOCUMENT_7 |      Ratio |\n",
      "|------------------:|------------------:|-----------:|\n",
      "|                 0 |            307452 | 99.9808    |\n",
      "|                 1 |                59 |  0.0191863 |\n",
      "\n",
      "|   FLAG_DOCUMENT_8 |   FLAG_DOCUMENT_8 |   Ratio |\n",
      "|------------------:|------------------:|--------:|\n",
      "|                 0 |            282487 | 91.8624 |\n",
      "|                 1 |             25024 |  8.1376 |\n",
      "\n",
      "|   FLAG_DOCUMENT_9 |   FLAG_DOCUMENT_9 |    Ratio |\n",
      "|------------------:|------------------:|---------:|\n",
      "|                 0 |            306313 | 99.6104  |\n",
      "|                 1 |              1198 |  0.38958 |\n",
      "\n",
      "|   FLAG_DOCUMENT_10 |   FLAG_DOCUMENT_10 |       Ratio |\n",
      "|-------------------:|-------------------:|------------:|\n",
      "|                  0 |             307504 | 99.9977     |\n",
      "|                  1 |                  7 |  0.00227634 |\n",
      "\n",
      "|   FLAG_DOCUMENT_11 |   FLAG_DOCUMENT_11 |     Ratio |\n",
      "|-------------------:|-------------------:|----------:|\n",
      "|                  0 |             306308 | 99.6088   |\n",
      "|                  1 |               1203 |  0.391206 |\n",
      "\n",
      "|   FLAG_DOCUMENT_12 |   FLAG_DOCUMENT_12 |        Ratio |\n",
      "|-------------------:|-------------------:|-------------:|\n",
      "|                  0 |             307509 | 99.9993      |\n",
      "|                  1 |                  2 |  0.000650383 |\n",
      "\n",
      "|   FLAG_DOCUMENT_13 |   FLAG_DOCUMENT_13 |     Ratio |\n",
      "|-------------------:|-------------------:|----------:|\n",
      "|                  0 |             306427 | 99.6475   |\n",
      "|                  1 |               1084 |  0.352508 |\n",
      "\n",
      "|   FLAG_DOCUMENT_14 |   FLAG_DOCUMENT_14 |     Ratio |\n",
      "|-------------------:|-------------------:|----------:|\n",
      "|                  0 |             306608 | 99.7064   |\n",
      "|                  1 |                903 |  0.293648 |\n",
      "\n",
      "|   FLAG_DOCUMENT_15 |   FLAG_DOCUMENT_15 |     Ratio |\n",
      "|-------------------:|-------------------:|----------:|\n",
      "|                  0 |             307139 | 99.879    |\n",
      "|                  1 |                372 |  0.120971 |\n",
      "\n",
      "|   FLAG_DOCUMENT_16 |   FLAG_DOCUMENT_16 |    Ratio |\n",
      "|-------------------:|-------------------:|---------:|\n",
      "|                  0 |             304458 | 99.0072  |\n",
      "|                  1 |               3053 |  0.99281 |\n",
      "\n",
      "|   FLAG_DOCUMENT_17 |   FLAG_DOCUMENT_17 |      Ratio |\n",
      "|-------------------:|-------------------:|-----------:|\n",
      "|                  0 |             307429 | 99.9733    |\n",
      "|                  1 |                 82 |  0.0266657 |\n",
      "\n",
      "|   FLAG_DOCUMENT_18 |   FLAG_DOCUMENT_18 |     Ratio |\n",
      "|-------------------:|-------------------:|----------:|\n",
      "|                  0 |             305011 | 99.187    |\n",
      "|                  1 |               2500 |  0.812979 |\n",
      "\n",
      "|   FLAG_DOCUMENT_19 |   FLAG_DOCUMENT_19 |      Ratio |\n",
      "|-------------------:|-------------------:|-----------:|\n",
      "|                  0 |             307328 | 99.9405    |\n",
      "|                  1 |                183 |  0.0595101 |\n",
      "\n",
      "|   FLAG_DOCUMENT_20 |   FLAG_DOCUMENT_20 |      Ratio |\n",
      "|-------------------:|-------------------:|-----------:|\n",
      "|                  0 |             307355 | 99.9493    |\n",
      "|                  1 |                156 |  0.0507299 |\n",
      "\n",
      "|   FLAG_DOCUMENT_21 |   FLAG_DOCUMENT_21 |      Ratio |\n",
      "|-------------------:|-------------------:|-----------:|\n",
      "|                  0 |             307408 | 99.9665    |\n",
      "|                  1 |                103 |  0.0334947 |\n",
      "\n",
      "|   AMT_REQ_CREDIT_BUREAU_HOUR |   AMT_REQ_CREDIT_BUREAU_HOUR |        Ratio |\n",
      "|-----------------------------:|-----------------------------:|-------------:|\n",
      "|                            0 |                       264366 | 85.9696      |\n",
      "|                            1 |                         1560 |  0.507299    |\n",
      "|                            2 |                           56 |  0.0182107   |\n",
      "|                            3 |                            9 |  0.00292672  |\n",
      "|                            4 |                            1 |  0.000325192 |\n",
      "\n",
      "|   AMT_REQ_CREDIT_BUREAU_DAY |   AMT_REQ_CREDIT_BUREAU_DAY |        Ratio |\n",
      "|----------------------------:|----------------------------:|-------------:|\n",
      "|                           0 |                      264503 | 86.0142      |\n",
      "|                           1 |                        1292 |  0.420148    |\n",
      "|                           2 |                         106 |  0.0344703   |\n",
      "|                           3 |                          45 |  0.0146336   |\n",
      "|                           4 |                          26 |  0.00845498  |\n",
      "|                           5 |                           9 |  0.00292672  |\n",
      "|                           6 |                           8 |  0.00260153  |\n",
      "|                           9 |                           2 |  0.000650383 |\n",
      "|                           8 |                           1 |  0.000325192 |\n",
      "\n",
      "|   AMT_REQ_CREDIT_BUREAU_WEEK |   AMT_REQ_CREDIT_BUREAU_WEEK |        Ratio |\n",
      "|-----------------------------:|-----------------------------:|-------------:|\n",
      "|                            0 |                       257456 | 83.7225      |\n",
      "|                            1 |                         8208 |  2.66917     |\n",
      "|                            2 |                          199 |  0.0647131   |\n",
      "|                            3 |                           58 |  0.0188611   |\n",
      "|                            4 |                           34 |  0.0110565   |\n",
      "|                            6 |                           20 |  0.00650383  |\n",
      "|                            5 |                           10 |  0.00325192  |\n",
      "|                            8 |                            5 |  0.00162596  |\n",
      "|                            7 |                            2 |  0.000650383 |\n",
      "\n"
     ]
    }
   ],
   "source": [
    "for col in cat_cols:\n",
    "    \n",
    "    cat_summary(home_credit, col)"
   ]
  },
  {
   "cell_type": "markdown",
   "id": "696c0817",
   "metadata": {
    "papermill": {
     "duration": 0.056011,
     "end_time": "2023-11-13T12:55:33.040512",
     "exception": false,
     "start_time": "2023-11-13T12:55:32.984501",
     "status": "completed"
    },
    "tags": []
   },
   "source": [
    "<div style=\"border-radius:10px; border:#65647C solid; padding: 15px; background-color: #F8EDE3; font-size:100%; text-align:left\">\n",
    "\n",
    "<h3 align=\"left\"><font color='#7D6E83'><b>🗨️ Comment: </b></font></h3>\n",
    "\n",
    "* Görüldüğü üzere değişkenlerin içinde çok düşük oranda gözükme olasılığı olan gözlem birimleri mevcuttur. Bu değerlerin hepsine one-hot-encoding yöntemi uygulamak yerine, düşük orana sahip gözlem birimlerini bir grup yapıp daha sonrasında encoding uygulayabiliriz."
   ]
  },
  {
   "cell_type": "markdown",
   "id": "0d7fef76",
   "metadata": {
    "papermill": {
     "duration": 0.050927,
     "end_time": "2023-11-13T12:55:33.142758",
     "exception": false,
     "start_time": "2023-11-13T12:55:33.091831",
     "status": "completed"
    },
    "tags": []
   },
   "source": [
    "-------"
   ]
  },
  {
   "cell_type": "markdown",
   "id": "b9a3382b",
   "metadata": {
    "papermill": {
     "duration": 0.05315,
     "end_time": "2023-11-13T12:55:33.247125",
     "exception": false,
     "start_time": "2023-11-13T12:55:33.193975",
     "status": "completed"
    },
    "tags": []
   },
   "source": [
    "**Rare kategoriler ile bağımlı değişken arasındaki ilişkinin analiz edilmesi;**"
   ]
  },
  {
   "cell_type": "code",
   "execution_count": 118,
   "id": "cd30ab1a",
   "metadata": {
    "execution": {
     "iopub.execute_input": "2023-11-13T12:55:33.356441Z",
     "iopub.status.busy": "2023-11-13T12:55:33.355365Z",
     "iopub.status.idle": "2023-11-13T12:55:33.382537Z",
     "shell.execute_reply": "2023-11-13T12:55:33.381576Z"
    },
    "papermill": {
     "duration": 0.083798,
     "end_time": "2023-11-13T12:55:33.384905",
     "exception": false,
     "start_time": "2023-11-13T12:55:33.301107",
     "status": "completed"
    },
    "tags": []
   },
   "outputs": [
    {
     "data": {
      "text/plain": [
       "NAME_INCOME_TYPE\n",
       "Working                 158774\n",
       "Commercial associate     71617\n",
       "Pensioner                55362\n",
       "State servant            21703\n",
       "Unemployed                  22\n",
       "Student                     18\n",
       "Businessman                 10\n",
       "Maternity leave              5\n",
       "Name: count, dtype: int64"
      ]
     },
     "execution_count": 118,
     "metadata": {},
     "output_type": "execute_result"
    }
   ],
   "source": [
    "home_credit[\"NAME_INCOME_TYPE\"].value_counts()"
   ]
  },
  {
   "cell_type": "markdown",
   "id": "41340ff0",
   "metadata": {
    "papermill": {
     "duration": 0.051007,
     "end_time": "2023-11-13T12:55:33.489353",
     "exception": false,
     "start_time": "2023-11-13T12:55:33.438346",
     "status": "completed"
    },
    "tags": []
   },
   "source": [
    "<div style=\"border-radius:10px; border:#65647C solid; padding: 15px; background-color: #F8EDE3; font-size:100%; text-align:left\">\n",
    "\n",
    "<h3 align=\"left\"><font color='#7D6E83'><b>🗨️ Comment: </b></font></h3>\n",
    "\n",
    "Bazı yorumlar ele alabiliriz; \n",
    "\n",
    "* \"Unemployed,Student,Businessman ve Maternity leave\" sınıfları tek bir grup olarak ele alınabilir.\n",
    "* Tabiki bu noktada kişisel yorumlar söz konusudur. Makine Öğrenmesi öncesinde yapılan bu birleştirme model tarafından bir gürültü olarak algılanabilir.\n",
    "* Ayrıca tam tersi bir durum olarak başarılı modelleme sonuçları da verebilir. \n",
    "* Rare encoding sürecinde çok dikkatli hareket edip, kişisel kararlar iyi denetlenmelidir."
   ]
  },
  {
   "cell_type": "code",
   "execution_count": 119,
   "id": "95ff4aba",
   "metadata": {
    "execution": {
     "iopub.execute_input": "2023-11-13T12:55:33.594447Z",
     "iopub.status.busy": "2023-11-13T12:55:33.594085Z",
     "iopub.status.idle": "2023-11-13T12:55:33.624428Z",
     "shell.execute_reply": "2023-11-13T12:55:33.623387Z"
    },
    "papermill": {
     "duration": 0.085276,
     "end_time": "2023-11-13T12:55:33.626336",
     "exception": false,
     "start_time": "2023-11-13T12:55:33.541060",
     "status": "completed"
    },
    "tags": []
   },
   "outputs": [
    {
     "data": {
      "text/plain": [
       "NAME_INCOME_TYPE\n",
       "Businessman             0.000000\n",
       "Commercial associate    0.074843\n",
       "Maternity leave         0.400000\n",
       "Pensioner               0.053864\n",
       "State servant           0.057550\n",
       "Student                 0.000000\n",
       "Unemployed              0.363636\n",
       "Working                 0.095885\n",
       "Name: TARGET, dtype: float64"
      ]
     },
     "execution_count": 119,
     "metadata": {},
     "output_type": "execute_result"
    }
   ],
   "source": [
    "home_credit.groupby(\"NAME_INCOME_TYPE\")[\"TARGET\"].mean()"
   ]
  },
  {
   "cell_type": "code",
   "execution_count": 120,
   "id": "61671dab",
   "metadata": {
    "execution": {
     "iopub.execute_input": "2023-11-13T12:55:33.737444Z",
     "iopub.status.busy": "2023-11-13T12:55:33.736205Z",
     "iopub.status.idle": "2023-11-13T12:55:33.742474Z",
     "shell.execute_reply": "2023-11-13T12:55:33.741508Z"
    },
    "papermill": {
     "duration": 0.064999,
     "end_time": "2023-11-13T12:55:33.744870",
     "exception": false,
     "start_time": "2023-11-13T12:55:33.679871",
     "status": "completed"
    },
    "tags": []
   },
   "outputs": [],
   "source": [
    "def rare_analyser(dataframe, target, cat_cols):\n",
    "    \n",
    "    for col in cat_cols:\n",
    "        \n",
    "        print(f\"{col} : {len(dataframe[col].value_counts())}\\n\")\n",
    "        \n",
    "        summary_df = pd.DataFrame({\n",
    "            \"COUNT\": dataframe[col].value_counts(),\n",
    "            \"RATIO\": dataframe[col].value_counts() / len(dataframe),\n",
    "            \"TARGET_MEAN\": dataframe.groupby(col)[target].mean()\n",
    "        })\n",
    "        \n",
    "        print(summary_df.to_markdown(), end=\"\\n\\n\\n\")"
   ]
  },
  {
   "cell_type": "code",
   "execution_count": 121,
   "id": "bb352faf",
   "metadata": {
    "execution": {
     "iopub.execute_input": "2023-11-13T12:55:33.854103Z",
     "iopub.status.busy": "2023-11-13T12:55:33.853708Z",
     "iopub.status.idle": "2023-11-13T12:55:33.857551Z",
     "shell.execute_reply": "2023-11-13T12:55:33.856674Z"
    },
    "papermill": {
     "duration": 0.060133,
     "end_time": "2023-11-13T12:55:33.859269",
     "exception": false,
     "start_time": "2023-11-13T12:55:33.799136",
     "status": "completed"
    },
    "tags": []
   },
   "outputs": [],
   "source": [
    "# rare_analyser(home_credit, \"TARGET\", cat_cols)"
   ]
  },
  {
   "cell_type": "markdown",
   "id": "c18fb479",
   "metadata": {
    "papermill": {
     "duration": 0.053862,
     "end_time": "2023-11-13T12:55:33.969223",
     "exception": false,
     "start_time": "2023-11-13T12:55:33.915361",
     "status": "completed"
    },
    "tags": []
   },
   "source": [
    "-----"
   ]
  },
  {
   "cell_type": "markdown",
   "id": "064e51ef",
   "metadata": {
    "papermill": {
     "duration": 0.051991,
     "end_time": "2023-11-13T12:55:34.074033",
     "exception": false,
     "start_time": "2023-11-13T12:55:34.022042",
     "status": "completed"
    },
    "tags": []
   },
   "source": [
    "> **Rare Encoding Fonksiyonu**"
   ]
  },
  {
   "cell_type": "code",
   "execution_count": 122,
   "id": "fc783385",
   "metadata": {
    "execution": {
     "iopub.execute_input": "2023-11-13T12:55:34.180469Z",
     "iopub.status.busy": "2023-11-13T12:55:34.180131Z",
     "iopub.status.idle": "2023-11-13T12:55:34.185864Z",
     "shell.execute_reply": "2023-11-13T12:55:34.184990Z"
    },
    "papermill": {
     "duration": 0.061002,
     "end_time": "2023-11-13T12:55:34.187518",
     "exception": false,
     "start_time": "2023-11-13T12:55:34.126516",
     "status": "completed"
    },
    "tags": []
   },
   "outputs": [],
   "source": [
    "def rare_encoder(dataframe, rare_perc):\n",
    "    \n",
    "    temp_df = dataframe.copy()\n",
    "\n",
    "    rare_columns = [col for col in temp_df.columns if temp_df[col].dtypes == 'O'\n",
    "                    and (temp_df[col].value_counts() / len(temp_df) < rare_perc).any(axis=None)]\n",
    "\n",
    "    for var in rare_columns:\n",
    "        \n",
    "        tmp = temp_df[var].value_counts() / len(temp_df)\n",
    "        rare_labels = tmp[tmp < rare_perc].index\n",
    "        temp_df[var] = np.where(temp_df[var].isin(rare_labels), 'Rare', temp_df[var])\n",
    "\n",
    "    return temp_df"
   ]
  },
  {
   "cell_type": "code",
   "execution_count": 123,
   "id": "3210c118",
   "metadata": {
    "execution": {
     "iopub.execute_input": "2023-11-13T12:55:34.293113Z",
     "iopub.status.busy": "2023-11-13T12:55:34.292513Z",
     "iopub.status.idle": "2023-11-13T12:55:34.903140Z",
     "shell.execute_reply": "2023-11-13T12:55:34.901716Z"
    },
    "papermill": {
     "duration": 0.665949,
     "end_time": "2023-11-13T12:55:34.905545",
     "exception": false,
     "start_time": "2023-11-13T12:55:34.239596",
     "status": "completed"
    },
    "tags": []
   },
   "outputs": [],
   "source": [
    "new_df = rare_encoder(home_credit, 0.01)"
   ]
  },
  {
   "cell_type": "code",
   "execution_count": 124,
   "id": "f56e14fd",
   "metadata": {
    "execution": {
     "iopub.execute_input": "2023-11-13T12:55:35.010563Z",
     "iopub.status.busy": "2023-11-13T12:55:35.010243Z",
     "iopub.status.idle": "2023-11-13T12:55:36.708526Z",
     "shell.execute_reply": "2023-11-13T12:55:36.706925Z"
    },
    "papermill": {
     "duration": 1.752148,
     "end_time": "2023-11-13T12:55:36.710439",
     "exception": false,
     "start_time": "2023-11-13T12:55:34.958291",
     "status": "completed"
    },
    "tags": []
   },
   "outputs": [
    {
     "name": "stdout",
     "output_type": "stream",
     "text": [
      "NAME_CONTRACT_TYPE : 2\n",
      "\n",
      "| NAME_CONTRACT_TYPE   |   COUNT |     RATIO |   TARGET_MEAN |\n",
      "|:---------------------|--------:|----------:|--------------:|\n",
      "| Cash loans           |  278232 | 0.904787  |     0.0834591 |\n",
      "| Revolving loans      |   29279 | 0.0952129 |     0.0547833 |\n",
      "\n",
      "\n",
      "CODE_GENDER : 3\n",
      "\n",
      "| CODE_GENDER   |   COUNT |       RATIO |   TARGET_MEAN |\n",
      "|:--------------|--------:|------------:|--------------:|\n",
      "| F             |  202448 | 0.658344    |     0.0699933 |\n",
      "| M             |  105059 | 0.341643    |     0.101419  |\n",
      "| Rare          |       4 | 1.30077e-05 |     0         |\n",
      "\n",
      "\n",
      "FLAG_OWN_CAR : 2\n",
      "\n",
      "| FLAG_OWN_CAR   |   COUNT |    RATIO |   TARGET_MEAN |\n",
      "|:---------------|--------:|---------:|--------------:|\n",
      "| N              |  202924 | 0.659892 |     0.0850023 |\n",
      "| Y              |  104587 | 0.340108 |     0.0724373 |\n",
      "\n",
      "\n",
      "FLAG_OWN_REALTY : 2\n",
      "\n",
      "| FLAG_OWN_REALTY   |   COUNT |    RATIO |   TARGET_MEAN |\n",
      "|:------------------|--------:|---------:|--------------:|\n",
      "| N                 |   94199 | 0.306327 |     0.0832493 |\n",
      "| Y                 |  213312 | 0.693673 |     0.0796158 |\n",
      "\n",
      "\n",
      "NAME_TYPE_SUITE : 5\n",
      "\n",
      "| NAME_TYPE_SUITE   |   COUNT |      RATIO |   TARGET_MEAN |\n",
      "|:------------------|--------:|-----------:|--------------:|\n",
      "| Children          |    3267 | 0.010624   |     0.073768  |\n",
      "| Family            |   40149 | 0.130561   |     0.0749458 |\n",
      "| Rare              |    2907 | 0.00945332 |     0.0939112 |\n",
      "| Spouse, partner   |   11370 | 0.0369743  |     0.0787159 |\n",
      "| Unaccompanied     |  248526 | 0.808186   |     0.0818305 |\n",
      "\n",
      "\n",
      "NAME_INCOME_TYPE : 5\n",
      "\n",
      "| NAME_INCOME_TYPE     |   COUNT |       RATIO |   TARGET_MEAN |\n",
      "|:---------------------|--------:|------------:|--------------:|\n",
      "| Commercial associate |   71617 | 0.232892    |     0.0748426 |\n",
      "| Pensioner            |   55362 | 0.180033    |     0.0538637 |\n",
      "| Rare                 |      55 | 0.000178855 |     0.181818  |\n",
      "| State servant        |   21703 | 0.0705763   |     0.0575496 |\n",
      "| Working              |  158774 | 0.51632     |     0.0958847 |\n",
      "\n",
      "\n",
      "NAME_EDUCATION_TYPE : 5\n",
      "\n",
      "| NAME_EDUCATION_TYPE           |   COUNT |       RATIO |   TARGET_MEAN |\n",
      "|:------------------------------|--------:|------------:|--------------:|\n",
      "| Higher education              |   74863 | 0.243448    |     0.0535512 |\n",
      "| Incomplete higher             |   10277 | 0.0334199   |     0.0848497 |\n",
      "| Lower secondary               |    3816 | 0.0124093   |     0.109277  |\n",
      "| Rare                          |     164 | 0.000533314 |     0.0182927 |\n",
      "| Secondary / secondary special |  218391 | 0.710189    |     0.0893993 |\n",
      "\n",
      "\n",
      "NAME_FAMILY_STATUS : 6\n",
      "\n",
      "| NAME_FAMILY_STATUS   |   COUNT |       RATIO |   TARGET_MEAN |\n",
      "|:---------------------|--------:|------------:|--------------:|\n",
      "| Civil marriage       |   29775 | 0.0968258   |     0.0994458 |\n",
      "| Married              |  196432 | 0.63878     |     0.0755987 |\n",
      "| Rare                 |       2 | 6.50383e-06 |     0         |\n",
      "| Separated            |   19770 | 0.0642904   |     0.0819423 |\n",
      "| Single / not married |   45444 | 0.14778     |     0.0980768 |\n",
      "| Widow                |   16088 | 0.0523168   |     0.0582422 |\n",
      "\n",
      "\n",
      "NAME_HOUSING_TYPE : 5\n",
      "\n",
      "| NAME_HOUSING_TYPE   |   COUNT |     RATIO |   TARGET_MEAN |\n",
      "|:--------------------|--------:|----------:|--------------:|\n",
      "| House / apartment   |  272868 | 0.887344  |     0.0779571 |\n",
      "| Municipal apartment |   11183 | 0.0363662 |     0.0853975 |\n",
      "| Rare                |    3739 | 0.0121589 |     0.0698048 |\n",
      "| Rented apartment    |    4881 | 0.0158726 |     0.123131  |\n",
      "| With parents        |   14840 | 0.0482584 |     0.116981  |\n",
      "\n",
      "\n",
      "OCCUPATION_TYPE : 12\n",
      "\n",
      "| OCCUPATION_TYPE       |   COUNT |     RATIO |   TARGET_MEAN |\n",
      "|:----------------------|--------:|----------:|--------------:|\n",
      "| Accountants           |    9813 | 0.0319111 |     0.0483033 |\n",
      "| Cleaning staff        |    4653 | 0.0151312 |     0.0960671 |\n",
      "| Cooking staff         |    5946 | 0.0193359 |     0.10444   |\n",
      "| Core staff            |   27570 | 0.0896553 |     0.0630395 |\n",
      "| Drivers               |   18603 | 0.0604954 |     0.113261  |\n",
      "| High skill tech staff |   11380 | 0.0370068 |     0.0615993 |\n",
      "| Laborers              |   55186 | 0.17946   |     0.105788  |\n",
      "| Managers              |   21371 | 0.0694967 |     0.0621403 |\n",
      "| Medicine staff        |    8537 | 0.0277616 |     0.0670025 |\n",
      "| Rare                  |    9238 | 0.0300412 |     0.0981814 |\n",
      "| Sales staff           |   32102 | 0.104393  |     0.096318  |\n",
      "| Security staff        |    6721 | 0.0218561 |     0.107424  |\n",
      "\n",
      "\n",
      "WEEKDAY_APPR_PROCESS_START : 7\n",
      "\n",
      "| WEEKDAY_APPR_PROCESS_START   |   COUNT |     RATIO |   TARGET_MEAN |\n",
      "|:-----------------------------|--------:|----------:|--------------:|\n",
      "| FRIDAY                       |   50338 | 0.163695  |     0.0814693 |\n",
      "| MONDAY                       |   50714 | 0.164918  |     0.0775723 |\n",
      "| SATURDAY                     |   33852 | 0.110084  |     0.0788727 |\n",
      "| SUNDAY                       |   16181 | 0.0526193 |     0.0792905 |\n",
      "| THURSDAY                     |   50591 | 0.164518  |     0.0810025 |\n",
      "| TUESDAY                      |   53901 | 0.175282  |     0.0835049 |\n",
      "| WEDNESDAY                    |   51934 | 0.168885  |     0.0816036 |\n",
      "\n",
      "\n",
      "FONDKAPREMONT_MODE : 4\n",
      "\n",
      "| FONDKAPREMONT_MODE    |   COUNT |     RATIO |   TARGET_MEAN |\n",
      "|:----------------------|--------:|----------:|--------------:|\n",
      "| not specified         |    5687 | 0.0184936 |     0.0754352 |\n",
      "| org spec account      |    5619 | 0.0182725 |     0.0581954 |\n",
      "| reg oper account      |   73830 | 0.240089  |     0.0697819 |\n",
      "| reg oper spec account |   12080 | 0.0392831 |     0.0655629 |\n",
      "\n",
      "\n",
      "HOUSETYPE_MODE : 2\n",
      "\n",
      "| HOUSETYPE_MODE   |   COUNT |      RATIO |   TARGET_MEAN |\n",
      "|:-----------------|--------:|-----------:|--------------:|\n",
      "| Rare             |    2711 | 0.00881594 |     0.0940612 |\n",
      "| block of flats   |  150503 | 0.489423   |     0.0694338 |\n",
      "\n",
      "\n",
      "WALLSMATERIAL_MODE : 5\n",
      "\n",
      "| WALLSMATERIAL_MODE   |   COUNT |     RATIO |   TARGET_MEAN |\n",
      "|:---------------------|--------:|----------:|--------------:|\n",
      "| Block                |    9253 | 0.03009   |     0.0702475 |\n",
      "| Panel                |   66040 | 0.214757  |     0.0634767 |\n",
      "| Rare                 |    5700 | 0.0185359 |     0.0687719 |\n",
      "| Stone, brick         |   64815 | 0.210773  |     0.0740569 |\n",
      "| Wooden               |    5362 | 0.0174368 |     0.0969787 |\n",
      "\n",
      "\n",
      "EMERGENCYSTATE_MODE : 2\n",
      "\n",
      "| EMERGENCYSTATE_MODE   |   COUNT |      RATIO |   TARGET_MEAN |\n",
      "|:----------------------|--------:|-----------:|--------------:|\n",
      "| No                    |  159428 | 0.518446   |     0.069649  |\n",
      "| Rare                  |    2328 | 0.00757046 |     0.0957904 |\n",
      "\n",
      "\n",
      "TARGET : 2\n",
      "\n",
      "|   TARGET |   COUNT |     RATIO |   TARGET_MEAN |\n",
      "|---------:|--------:|----------:|--------------:|\n",
      "|        0 |  282686 | 0.919271  |             0 |\n",
      "|        1 |   24825 | 0.0807288 |             1 |\n",
      "\n",
      "\n",
      "FLAG_MOBIL : 2\n",
      "\n",
      "|   FLAG_MOBIL |   COUNT |       RATIO |   TARGET_MEAN |\n",
      "|-------------:|--------:|------------:|--------------:|\n",
      "|            0 |       1 | 3.25192e-06 |     0         |\n",
      "|            1 |  307510 | 0.999997    |     0.0807291 |\n",
      "\n",
      "\n",
      "FLAG_EMP_PHONE : 2\n",
      "\n",
      "|   FLAG_EMP_PHONE |   COUNT |    RATIO |   TARGET_MEAN |\n",
      "|-----------------:|--------:|---------:|--------------:|\n",
      "|                0 |   55386 | 0.180111 |     0.0540028 |\n",
      "|                1 |  252125 | 0.819889 |     0.0865999 |\n",
      "\n",
      "\n",
      "FLAG_WORK_PHONE : 2\n",
      "\n",
      "|   FLAG_WORK_PHONE |   COUNT |    RATIO |   TARGET_MEAN |\n",
      "|------------------:|--------:|---------:|--------------:|\n",
      "|                 0 |  246203 | 0.800632 |     0.0768512 |\n",
      "|                 1 |   61308 | 0.199368 |     0.0963006 |\n",
      "\n",
      "\n",
      "FLAG_CONT_MOBILE : 2\n",
      "\n",
      "|   FLAG_CONT_MOBILE |   COUNT |     RATIO |   TARGET_MEAN |\n",
      "|-------------------:|--------:|----------:|--------------:|\n",
      "|                  0 |     574 | 0.0018666 |     0.0783972 |\n",
      "|                  1 |  306937 | 0.998133  |     0.0807332 |\n",
      "\n",
      "\n",
      "FLAG_PHONE : 2\n",
      "\n",
      "|   FLAG_PHONE |   COUNT |    RATIO |   TARGET_MEAN |\n",
      "|-------------:|--------:|---------:|--------------:|\n",
      "|            0 |  221080 | 0.718934 |     0.0847838 |\n",
      "|            1 |   86431 | 0.281066 |     0.0703567 |\n",
      "\n",
      "\n",
      "FLAG_EMAIL : 2\n",
      "\n",
      "|   FLAG_EMAIL |   COUNT |     RATIO |   TARGET_MEAN |\n",
      "|-------------:|--------:|----------:|--------------:|\n",
      "|            0 |  290069 | 0.94328   |     0.0808463 |\n",
      "|            1 |   17442 | 0.0567199 |     0.0787754 |\n",
      "\n",
      "\n",
      "REGION_RATING_CLIENT : 3\n",
      "\n",
      "|   REGION_RATING_CLIENT |   COUNT |    RATIO |   TARGET_MEAN |\n",
      "|-----------------------:|--------:|---------:|--------------:|\n",
      "|                      1 |   32197 | 0.104702 |     0.0482032 |\n",
      "|                      2 |  226984 | 0.738133 |     0.078891  |\n",
      "|                      3 |   48330 | 0.157165 |     0.111028  |\n",
      "\n",
      "\n",
      "REGION_RATING_CLIENT_W_CITY : 3\n",
      "\n",
      "|   REGION_RATING_CLIENT_W_CITY |   COUNT |    RATIO |   TARGET_MEAN |\n",
      "|------------------------------:|--------:|---------:|--------------:|\n",
      "|                             1 |   34167 | 0.111108 |     0.0484093 |\n",
      "|                             2 |  229484 | 0.746263 |     0.0791776 |\n",
      "|                             3 |   43860 | 0.142629 |     0.114022  |\n",
      "\n",
      "\n",
      "REG_REGION_NOT_LIVE_REGION : 2\n",
      "\n",
      "|   REG_REGION_NOT_LIVE_REGION |   COUNT |     RATIO |   TARGET_MEAN |\n",
      "|-----------------------------:|--------:|----------:|--------------:|\n",
      "|                            0 |  302854 | 0.984856  |     0.0805405 |\n",
      "|                            1 |    4657 | 0.0151442 |     0.0929783 |\n",
      "\n",
      "\n",
      "REG_REGION_NOT_WORK_REGION : 2\n",
      "\n",
      "|   REG_REGION_NOT_WORK_REGION |   COUNT |     RATIO |   TARGET_MEAN |\n",
      "|-----------------------------:|--------:|----------:|--------------:|\n",
      "|                            0 |  291899 | 0.949231  |     0.0802915 |\n",
      "|                            1 |   15612 | 0.0507689 |     0.088906  |\n",
      "\n",
      "\n",
      "LIVE_REGION_NOT_WORK_REGION : 2\n",
      "\n",
      "|   LIVE_REGION_NOT_WORK_REGION |   COUNT |     RATIO |   TARGET_MEAN |\n",
      "|------------------------------:|--------:|----------:|--------------:|\n",
      "|                             0 |  295008 | 0.959341  |     0.0805707 |\n",
      "|                             1 |   12503 | 0.0406587 |     0.0844597 |\n",
      "\n",
      "\n",
      "REG_CITY_NOT_LIVE_CITY : 2\n",
      "\n",
      "|   REG_CITY_NOT_LIVE_CITY |   COUNT |     RATIO |   TARGET_MEAN |\n",
      "|-------------------------:|--------:|----------:|--------------:|\n",
      "|                        0 |  283472 | 0.921827  |     0.0772069 |\n",
      "|                        1 |   24039 | 0.0781728 |     0.12226   |\n",
      "\n",
      "\n",
      "REG_CITY_NOT_WORK_CITY : 2\n",
      "\n",
      "|   REG_CITY_NOT_WORK_CITY |   COUNT |    RATIO |   TARGET_MEAN |\n",
      "|-------------------------:|--------:|---------:|--------------:|\n",
      "|                        0 |  236644 | 0.769546 |     0.0731267 |\n",
      "|                        1 |   70867 | 0.230454 |     0.106114  |\n",
      "\n",
      "\n",
      "LIVE_CITY_NOT_WORK_CITY : 2\n",
      "\n",
      "|   LIVE_CITY_NOT_WORK_CITY |   COUNT |    RATIO |   TARGET_MEAN |\n",
      "|--------------------------:|--------:|---------:|--------------:|\n",
      "|                         0 |  252296 | 0.820445 |     0.0765846 |\n",
      "|                         1 |   55215 | 0.179555 |     0.0996649 |\n",
      "\n",
      "\n",
      "DEF_60_CNT_SOCIAL_CIRCLE : 9\n",
      "\n",
      "|   DEF_60_CNT_SOCIAL_CIRCLE |   COUNT |       RATIO |   TARGET_MEAN |\n",
      "|---------------------------:|--------:|------------:|--------------:|\n",
      "|                          0 |  280721 | 0.912881    |     0.0783483 |\n",
      "|                          1 |   21841 | 0.0710251   |     0.105169  |\n",
      "|                          2 |    3170 | 0.0103086   |     0.121451  |\n",
      "|                          3 |     598 | 0.00194465  |     0.158863  |\n",
      "|                          4 |     135 | 0.000439009 |     0.111111  |\n",
      "|                          5 |      20 | 6.50383e-05 |     0.15      |\n",
      "|                          6 |       3 | 9.75575e-06 |     0         |\n",
      "|                          7 |       1 | 3.25192e-06 |     0         |\n",
      "|                         24 |       1 | 3.25192e-06 |     0         |\n",
      "\n",
      "\n",
      "FLAG_DOCUMENT_2 : 2\n",
      "\n",
      "|   FLAG_DOCUMENT_2 |   COUNT |       RATIO |   TARGET_MEAN |\n",
      "|------------------:|--------:|------------:|--------------:|\n",
      "|                 0 |  307498 | 0.999958    |     0.0807192 |\n",
      "|                 1 |      13 | 4.22749e-05 |     0.307692  |\n",
      "\n",
      "\n",
      "FLAG_DOCUMENT_3 : 2\n",
      "\n",
      "|   FLAG_DOCUMENT_3 |   COUNT |    RATIO |   TARGET_MEAN |\n",
      "|------------------:|--------:|---------:|--------------:|\n",
      "|                 0 |   89171 | 0.289977 |     0.061825  |\n",
      "|                 1 |  218340 | 0.710023 |     0.0884492 |\n",
      "\n",
      "\n",
      "FLAG_DOCUMENT_4 : 2\n",
      "\n",
      "|   FLAG_DOCUMENT_4 |   COUNT |       RATIO |   TARGET_MEAN |\n",
      "|------------------:|--------:|------------:|--------------:|\n",
      "|                 0 |  307486 | 0.999919    |     0.0807354 |\n",
      "|                 1 |      25 | 8.12979e-05 |     0         |\n",
      "\n",
      "\n",
      "FLAG_DOCUMENT_5 : 2\n",
      "\n",
      "|   FLAG_DOCUMENT_5 |   COUNT |     RATIO |   TARGET_MEAN |\n",
      "|------------------:|--------:|----------:|--------------:|\n",
      "|                 0 |  302863 | 0.984885  |     0.0807395 |\n",
      "|                 1 |    4648 | 0.0151149 |     0.0800344 |\n",
      "\n",
      "\n",
      "FLAG_DOCUMENT_6 : 2\n",
      "\n",
      "|   FLAG_DOCUMENT_6 |   COUNT |     RATIO |   TARGET_MEAN |\n",
      "|------------------:|--------:|----------:|--------------:|\n",
      "|                 0 |  280433 | 0.911945  |      0.08315  |\n",
      "|                 1 |   27078 | 0.0880554 |      0.055654 |\n",
      "\n",
      "\n",
      "FLAG_DOCUMENT_7 : 2\n",
      "\n",
      "|   FLAG_DOCUMENT_7 |   COUNT |       RATIO |   TARGET_MEAN |\n",
      "|------------------:|--------:|------------:|--------------:|\n",
      "|                 0 |  307452 | 0.999808    |     0.0807346 |\n",
      "|                 1 |      59 | 0.000191863 |     0.0508475 |\n",
      "\n",
      "\n",
      "FLAG_DOCUMENT_8 : 2\n",
      "\n",
      "|   FLAG_DOCUMENT_8 |   COUNT |    RATIO |   TARGET_MEAN |\n",
      "|------------------:|--------:|---------:|--------------:|\n",
      "|                 0 |  282487 | 0.918624 |     0.0813807 |\n",
      "|                 1 |   25024 | 0.081376 |     0.0733696 |\n",
      "\n",
      "\n",
      "FLAG_DOCUMENT_9 : 2\n",
      "\n",
      "|   FLAG_DOCUMENT_9 |   COUNT |     RATIO |   TARGET_MEAN |\n",
      "|------------------:|--------:|----------:|--------------:|\n",
      "|                 0 |  306313 | 0.996104  |     0.080803  |\n",
      "|                 1 |    1198 | 0.0038958 |     0.0617696 |\n",
      "\n",
      "\n",
      "FLAG_DOCUMENT_10 : 2\n",
      "\n",
      "|   FLAG_DOCUMENT_10 |   COUNT |       RATIO |   TARGET_MEAN |\n",
      "|-------------------:|--------:|------------:|--------------:|\n",
      "|                  0 |  307504 | 0.999977    |     0.0807307 |\n",
      "|                  1 |       7 | 2.27634e-05 |     0         |\n",
      "\n",
      "\n",
      "FLAG_DOCUMENT_11 : 2\n",
      "\n",
      "|   FLAG_DOCUMENT_11 |   COUNT |      RATIO |   TARGET_MEAN |\n",
      "|-------------------:|--------:|-----------:|--------------:|\n",
      "|                  0 |  306308 | 0.996088   |     0.080801  |\n",
      "|                  1 |    1203 | 0.00391206 |     0.0623441 |\n",
      "\n",
      "\n",
      "FLAG_DOCUMENT_12 : 2\n",
      "\n",
      "|   FLAG_DOCUMENT_12 |   COUNT |       RATIO |   TARGET_MEAN |\n",
      "|-------------------:|--------:|------------:|--------------:|\n",
      "|                  0 |  307509 | 0.999993    |     0.0807293 |\n",
      "|                  1 |       2 | 6.50383e-06 |     0         |\n",
      "\n",
      "\n",
      "FLAG_DOCUMENT_13 : 2\n",
      "\n",
      "|   FLAG_DOCUMENT_13 |   COUNT |      RATIO |   TARGET_MEAN |\n",
      "|-------------------:|--------:|-----------:|--------------:|\n",
      "|                  0 |  306427 | 0.996475   |     0.0809165 |\n",
      "|                  1 |    1084 | 0.00352508 |     0.0276753 |\n",
      "\n",
      "\n",
      "FLAG_DOCUMENT_14 : 2\n",
      "\n",
      "|   FLAG_DOCUMENT_14 |   COUNT |      RATIO |   TARGET_MEAN |\n",
      "|-------------------:|--------:|-----------:|--------------:|\n",
      "|                  0 |  306608 | 0.997064   |     0.0808687 |\n",
      "|                  1 |     903 | 0.00293648 |     0.0332226 |\n",
      "\n",
      "\n",
      "FLAG_DOCUMENT_15 : 2\n",
      "\n",
      "|   FLAG_DOCUMENT_15 |   COUNT |      RATIO |   TARGET_MEAN |\n",
      "|-------------------:|--------:|-----------:|--------------:|\n",
      "|                  0 |  307139 | 0.99879    |     0.0807908 |\n",
      "|                  1 |     372 | 0.00120971 |     0.0295699 |\n",
      "\n",
      "\n",
      "FLAG_DOCUMENT_16 : 2\n",
      "\n",
      "|   FLAG_DOCUMENT_16 |   COUNT |     RATIO |   TARGET_MEAN |\n",
      "|-------------------:|--------:|----------:|--------------:|\n",
      "|                  0 |  304458 | 0.990072  |     0.0810457 |\n",
      "|                  1 |    3053 | 0.0099281 |     0.049132  |\n",
      "\n",
      "\n",
      "FLAG_DOCUMENT_17 : 2\n",
      "\n",
      "|   FLAG_DOCUMENT_17 |   COUNT |       RATIO |   TARGET_MEAN |\n",
      "|-------------------:|--------:|------------:|--------------:|\n",
      "|                  0 |  307429 | 0.999733    |     0.0807438 |\n",
      "|                  1 |      82 | 0.000266657 |     0.0243902 |\n",
      "\n",
      "\n",
      "FLAG_DOCUMENT_18 : 2\n",
      "\n",
      "|   FLAG_DOCUMENT_18 |   COUNT |      RATIO |   TARGET_MEAN |\n",
      "|-------------------:|--------:|-----------:|--------------:|\n",
      "|                  0 |  305011 | 0.99187    |      0.080925 |\n",
      "|                  1 |    2500 | 0.00812979 |      0.0568   |\n",
      "\n",
      "\n",
      "FLAG_DOCUMENT_19 : 2\n",
      "\n",
      "|   FLAG_DOCUMENT_19 |   COUNT |       RATIO |   TARGET_MEAN |\n",
      "|-------------------:|--------:|------------:|--------------:|\n",
      "|                  0 |  307328 | 0.999405    |     0.0807378 |\n",
      "|                  1 |     183 | 0.000595101 |     0.0655738 |\n",
      "\n",
      "\n",
      "FLAG_DOCUMENT_20 : 2\n",
      "\n",
      "|   FLAG_DOCUMENT_20 |   COUNT |       RATIO |   TARGET_MEAN |\n",
      "|-------------------:|--------:|------------:|--------------:|\n",
      "|                  0 |  307355 | 0.999493    |     0.0807275 |\n",
      "|                  1 |     156 | 0.000507299 |     0.0833333 |\n",
      "\n",
      "\n",
      "FLAG_DOCUMENT_21 : 2\n",
      "\n",
      "|   FLAG_DOCUMENT_21 |   COUNT |       RATIO |   TARGET_MEAN |\n",
      "|-------------------:|--------:|------------:|--------------:|\n",
      "|                  0 |  307408 | 0.999665    |     0.0807103 |\n",
      "|                  1 |     103 | 0.000334947 |     0.135922  |\n",
      "\n",
      "\n",
      "AMT_REQ_CREDIT_BUREAU_HOUR : 5\n",
      "\n",
      "|   AMT_REQ_CREDIT_BUREAU_HOUR |   COUNT |       RATIO |   TARGET_MEAN |\n",
      "|-----------------------------:|--------:|------------:|--------------:|\n",
      "|                            0 |  264366 | 0.859696    |     0.0771733 |\n",
      "|                            1 |    1560 | 0.00507299  |     0.0801282 |\n",
      "|                            2 |      56 | 0.000182107 |     0.107143  |\n",
      "|                            3 |       9 | 2.92672e-05 |     0         |\n",
      "|                            4 |       1 | 3.25192e-06 |     0         |\n",
      "\n",
      "\n",
      "AMT_REQ_CREDIT_BUREAU_DAY : 9\n",
      "\n",
      "|   AMT_REQ_CREDIT_BUREAU_DAY |   COUNT |       RATIO |   TARGET_MEAN |\n",
      "|----------------------------:|--------:|------------:|--------------:|\n",
      "|                           0 |  264503 | 0.860142    |     0.0770955 |\n",
      "|                           1 |    1292 | 0.00420148  |     0.0967492 |\n",
      "|                           2 |     106 | 0.000344703 |     0.103774  |\n",
      "|                           3 |      45 | 0.000146336 |     0.0444444 |\n",
      "|                           4 |      26 | 8.45498e-05 |     0.115385  |\n",
      "|                           5 |       9 | 2.92672e-05 |     0         |\n",
      "|                           6 |       8 | 2.60153e-05 |     0         |\n",
      "|                           8 |       1 | 3.25192e-06 |     0         |\n",
      "|                           9 |       2 | 6.50383e-06 |     0         |\n",
      "\n",
      "\n",
      "AMT_REQ_CREDIT_BUREAU_WEEK : 9\n",
      "\n",
      "|   AMT_REQ_CREDIT_BUREAU_WEEK |   COUNT |       RATIO |   TARGET_MEAN |\n",
      "|-----------------------------:|--------:|------------:|--------------:|\n",
      "|                            0 |  257456 | 0.837225    |     0.0771588 |\n",
      "|                            1 |    8208 | 0.0266917   |     0.077729  |\n",
      "|                            2 |     199 | 0.000647131 |     0.100503  |\n",
      "|                            3 |      58 | 0.000188611 |     0.0689655 |\n",
      "|                            4 |      34 | 0.000110565 |     0.117647  |\n",
      "|                            5 |      10 | 3.25192e-05 |     0.1       |\n",
      "|                            6 |      20 | 6.50383e-05 |     0.05      |\n",
      "|                            7 |       2 | 6.50383e-06 |     0         |\n",
      "|                            8 |       5 | 1.62596e-05 |     0         |\n",
      "\n",
      "\n"
     ]
    }
   ],
   "source": [
    "rare_analyser(new_df, \"TARGET\", cat_cols)"
   ]
  },
  {
   "cell_type": "markdown",
   "id": "945f1018",
   "metadata": {
    "papermill": {
     "duration": 0.05059,
     "end_time": "2023-11-13T12:55:36.812421",
     "exception": false,
     "start_time": "2023-11-13T12:55:36.761831",
     "status": "completed"
    },
    "tags": []
   },
   "source": [
    "<div style=\"border-radius:10px; border:#65647C solid; padding: 15px; background-color: #F8EDE3; font-size:100%; text-align:left\">\n",
    "\n",
    "<h3 align=\"left\"><font color='#7D6E83'><b>🗨️ Comment: </b></font></h3>\n",
    "    \n",
    "* Gözlemleneceği üzere Rare sınıfı %1'den daha düşük ortalamaya sahip sınıfların toplulaştırılmış halidir."
   ]
  },
  {
   "cell_type": "markdown",
   "id": "738752e6",
   "metadata": {
    "papermill": {
     "duration": 0.054403,
     "end_time": "2023-11-13T12:55:36.918920",
     "exception": false,
     "start_time": "2023-11-13T12:55:36.864517",
     "status": "completed"
    },
    "tags": []
   },
   "source": [
    "<a id = \"14\"></a><br>\n",
    "<p style=\"font-family: 'Pacifico', cursive; font-weight: bold; letter-spacing: 2px; color: #556B2F; font-size: 160%; text-align: left; padding: 0px; border-bottom: 3px solid\">✨Özellik Ölçeklendirme (Feature Scaling)✨</p>"
   ]
  },
  {
   "cell_type": "markdown",
   "id": "5af3bd3a",
   "metadata": {
    "papermill": {
     "duration": 0.054096,
     "end_time": "2023-11-13T12:55:37.027387",
     "exception": false,
     "start_time": "2023-11-13T12:55:36.973291",
     "status": "completed"
    },
    "tags": []
   },
   "source": [
    "Feature scaling, veri madenciliği ve makine öğrenme alanında kullanılan bir terimdir ve sayısal değişkenlerin farklı aralıklardaki değerlerini aynı aralığa veya ölçeklere getirmek amacıyla kullanılır. Bu, verinin işlenmesi ve modelleme süreçlerinde yardımcı olur ve birçok algoritmanın daha iyi performans göstermesini sağlar. İşte bazı yaygın kullanılan feature scaling yöntemleri:\n",
    "\n",
    "1. **StandardScaler (Z-Score Scaling):** Bu yöntem, verinin her bir özelliğini ortalaması 0 ve standart sapması 1 olacak şekilde dönüştürür. Verinin normal dağıldığı varsayılır ve aykırı değerlere karşı hassastır. StandardScaler, çoğu durumda kullanılan varsayılan ölçekleme yöntemidir.\n",
    "\n",
    "2. **RobustScaler:** Bu yöntem, medyan ve yüzdelikler kullanarak özellikleri ölçekler. Aykırı değerlere karşı daha dirençlidir, çünkü medyan ve yüzdelikler robust istatistiklerdir ve aykırı değerlerin etkisi sınırlıdır.\n",
    "\n",
    "3. **MinMaxScaler:** Bu yöntem, verinin değerlerini belirli bir aralıkta (genellikle 0 ile 1 arasında) ölçekler. Veri minimum ve maksimum değerlere dönüştürülür. MinMaxScaler, özelliklerin orijinal aralığını korur.\n",
    "\n",
    "4. **MaxAbsScaler:** Bu yöntem, her bir özelliği en büyük mutlak değeri 1 olacak şekilde ölçekler. Özelliklerin orijinal işareti (pozitif veya negatif) korunur, bu nedenle verilerin ortalaması ve varyansı üzerinde etkisi yoktur.\n",
    "\n",
    "Bu yöntemler, veriye bağlı olarak ve kullanılan algoritmanın türüne bağlı olarak farklı sonuçlar verebilir. Hangi yöntemin kullanılacağı, verinin özelliklerine ve modelin gereksinimlerine bağlıdır. Ölçekleme işlemi, veri ön işleme aşamasının önemli bir parçasıdır ve modelin başarı oranını önemli ölçüde etkileyebilir."
   ]
  },
  {
   "cell_type": "markdown",
   "id": "7282c484",
   "metadata": {
    "papermill": {
     "duration": 0.052653,
     "end_time": "2023-11-13T12:55:37.133126",
     "exception": false,
     "start_time": "2023-11-13T12:55:37.080473",
     "status": "completed"
    },
    "tags": []
   },
   "source": [
    "<div style=\"border-radius:10px; border:#D0C2F0 solid; padding: 15px; background-color: #F8E8EE; font-size:100%; text-align:left\">\n",
    "\n",
    "<h3 align=\"left\"><font color='#5E5273'>📄 Notes: </font></h3>\n",
    "    \n",
    "* Feature scaling yöntemlerini kullanırken dikkat edilmesi gereken bazı önemli parametreler:\n",
    "\n",
    "    1. **Robustluk (Robustness):** Aykırı değerlere karşı ne kadar dirençli olduğumuza dikkat etmek gerekir. Özellikle RobustScaler, aykırı değerlere karşı daha dirençlidir, bu nedenle aykırı değer içeren veriler için daha uygun olabilir.\n",
    "    \n",
    "    2. **Veri Dağılımı:** Verinin dağılımını inceleyin. StandardScaler, verinin normal dağıldığı varsayımıyla çalışır. Veri normalden sapıyorsa veya daha karmaşık bir dağılıma sahipse, farklı bir ölçekleme yöntemi seçmek daha iyi olabilir.\n",
    "    \n",
    "    3. **Orjinal Veriyi Koruma:** MinMaxScaler ve MaxAbsScaler, orijinal verinin değerlerini korur. Diğer yöntemler, veriyi değiştirebilir. Bu nedenle, orijinal veriyi korumak önemliyse, bu ölçekleme yöntemlerini tercih edebiliriz.\n",
    "    \n",
    "    4. **Sıfır Merkezli Olup Olmama:** StandardScaler, verinin merkezini sıfır yapar. Bu, bazı modeller için gereklidir, ancak bazı durumlarda gereksiz olabilir. Verinin merkezini sıfır yapmanın modelin performansını nasıl etkilediğini göz önünde bulundurmak gerekir.\n",
    "    \n",
    "    5. **Normalization:** Bazı yöntemler, özellikleri belirli bir aralığa sıkıştırmak için kullanılırken, diğerleri veriyi normalleştirmek için kullanılır. Verinin hangi tür ölçekleme ile daha iyi performans göstereceğini belirleyin.\n",
    "    \n",
    "    6. **Aşırı Örnek Sayısı:** Verinizdeki aykırı değerlerin miktarını dikkate alın. Aykırı değerlerin bulunma sıklığı veya miktarı, hangi ölçekleme yönteminin daha uygun olduğunu etkileyebilir."
   ]
  },
  {
   "cell_type": "code",
   "execution_count": 125,
   "id": "3468a6e5",
   "metadata": {
    "execution": {
     "iopub.execute_input": "2023-11-13T12:55:37.241674Z",
     "iopub.status.busy": "2023-11-13T12:55:37.241053Z",
     "iopub.status.idle": "2023-11-13T12:55:37.258954Z",
     "shell.execute_reply": "2023-11-13T12:55:37.257924Z"
    },
    "papermill": {
     "duration": 0.073978,
     "end_time": "2023-11-13T12:55:37.260681",
     "exception": false,
     "start_time": "2023-11-13T12:55:37.186703",
     "status": "completed"
    },
    "tags": []
   },
   "outputs": [
    {
     "data": {
      "text/html": [
       "<div>\n",
       "<style scoped>\n",
       "    .dataframe tbody tr th:only-of-type {\n",
       "        vertical-align: middle;\n",
       "    }\n",
       "\n",
       "    .dataframe tbody tr th {\n",
       "        vertical-align: top;\n",
       "    }\n",
       "\n",
       "    .dataframe thead th {\n",
       "        text-align: right;\n",
       "    }\n",
       "</style>\n",
       "<table border=\"1\" class=\"dataframe\">\n",
       "  <thead>\n",
       "    <tr style=\"text-align: right;\">\n",
       "      <th></th>\n",
       "      <th>PassengerId</th>\n",
       "      <th>Survived</th>\n",
       "      <th>Pclass</th>\n",
       "      <th>Name</th>\n",
       "      <th>Sex</th>\n",
       "      <th>Age</th>\n",
       "      <th>SibSp</th>\n",
       "      <th>Parch</th>\n",
       "      <th>Ticket</th>\n",
       "      <th>Fare</th>\n",
       "      <th>Cabin</th>\n",
       "      <th>Embarked</th>\n",
       "      <th>Age_Standard_Scaler</th>\n",
       "    </tr>\n",
       "  </thead>\n",
       "  <tbody>\n",
       "    <tr>\n",
       "      <th>0</th>\n",
       "      <td>1</td>\n",
       "      <td>0</td>\n",
       "      <td>3</td>\n",
       "      <td>Braund, Mr. Owen Harris</td>\n",
       "      <td>male</td>\n",
       "      <td>22.0</td>\n",
       "      <td>1</td>\n",
       "      <td>0</td>\n",
       "      <td>A/5 21171</td>\n",
       "      <td>7.2500</td>\n",
       "      <td>NaN</td>\n",
       "      <td>S</td>\n",
       "      <td>-0.530377</td>\n",
       "    </tr>\n",
       "    <tr>\n",
       "      <th>1</th>\n",
       "      <td>2</td>\n",
       "      <td>1</td>\n",
       "      <td>1</td>\n",
       "      <td>Cumings, Mrs. John Bradley (Florence Briggs Th...</td>\n",
       "      <td>female</td>\n",
       "      <td>38.0</td>\n",
       "      <td>1</td>\n",
       "      <td>0</td>\n",
       "      <td>PC 17599</td>\n",
       "      <td>71.2833</td>\n",
       "      <td>C85</td>\n",
       "      <td>C</td>\n",
       "      <td>0.571831</td>\n",
       "    </tr>\n",
       "    <tr>\n",
       "      <th>2</th>\n",
       "      <td>3</td>\n",
       "      <td>1</td>\n",
       "      <td>3</td>\n",
       "      <td>Heikkinen, Miss. Laina</td>\n",
       "      <td>female</td>\n",
       "      <td>26.0</td>\n",
       "      <td>0</td>\n",
       "      <td>0</td>\n",
       "      <td>STON/O2. 3101282</td>\n",
       "      <td>7.9250</td>\n",
       "      <td>NaN</td>\n",
       "      <td>S</td>\n",
       "      <td>-0.254825</td>\n",
       "    </tr>\n",
       "    <tr>\n",
       "      <th>3</th>\n",
       "      <td>4</td>\n",
       "      <td>1</td>\n",
       "      <td>1</td>\n",
       "      <td>Futrelle, Mrs. Jacques Heath (Lily May Peel)</td>\n",
       "      <td>female</td>\n",
       "      <td>35.0</td>\n",
       "      <td>1</td>\n",
       "      <td>0</td>\n",
       "      <td>113803</td>\n",
       "      <td>53.1000</td>\n",
       "      <td>C123</td>\n",
       "      <td>S</td>\n",
       "      <td>0.365167</td>\n",
       "    </tr>\n",
       "    <tr>\n",
       "      <th>4</th>\n",
       "      <td>5</td>\n",
       "      <td>0</td>\n",
       "      <td>3</td>\n",
       "      <td>Allen, Mr. William Henry</td>\n",
       "      <td>male</td>\n",
       "      <td>35.0</td>\n",
       "      <td>0</td>\n",
       "      <td>0</td>\n",
       "      <td>373450</td>\n",
       "      <td>8.0500</td>\n",
       "      <td>NaN</td>\n",
       "      <td>S</td>\n",
       "      <td>0.365167</td>\n",
       "    </tr>\n",
       "  </tbody>\n",
       "</table>\n",
       "</div>"
      ],
      "text/plain": [
       "   PassengerId  Survived  Pclass  \\\n",
       "0            1         0       3   \n",
       "1            2         1       1   \n",
       "2            3         1       3   \n",
       "3            4         1       1   \n",
       "4            5         0       3   \n",
       "\n",
       "                                                Name     Sex   Age  SibSp  \\\n",
       "0                            Braund, Mr. Owen Harris    male  22.0      1   \n",
       "1  Cumings, Mrs. John Bradley (Florence Briggs Th...  female  38.0      1   \n",
       "2                             Heikkinen, Miss. Laina  female  26.0      0   \n",
       "3       Futrelle, Mrs. Jacques Heath (Lily May Peel)  female  35.0      1   \n",
       "4                           Allen, Mr. William Henry    male  35.0      0   \n",
       "\n",
       "   Parch            Ticket     Fare Cabin Embarked  Age_Standard_Scaler  \n",
       "0      0         A/5 21171   7.2500   NaN        S            -0.530377  \n",
       "1      0          PC 17599  71.2833   C85        C             0.571831  \n",
       "2      0  STON/O2. 3101282   7.9250   NaN        S            -0.254825  \n",
       "3      0            113803  53.1000  C123        S             0.365167  \n",
       "4      0            373450   8.0500   NaN        S             0.365167  "
      ]
     },
     "execution_count": 125,
     "metadata": {},
     "output_type": "execute_result"
    }
   ],
   "source": [
    "standard = StandardScaler()\n",
    "titanic[\"Age_Standard_Scaler\"] = standard.fit_transform(titanic[[\"Age\"]])\n",
    "titanic.head()"
   ]
  },
  {
   "cell_type": "code",
   "execution_count": 126,
   "id": "ed2f5438",
   "metadata": {
    "execution": {
     "iopub.execute_input": "2023-11-13T12:55:37.380966Z",
     "iopub.status.busy": "2023-11-13T12:55:37.380407Z",
     "iopub.status.idle": "2023-11-13T12:55:37.397396Z",
     "shell.execute_reply": "2023-11-13T12:55:37.396792Z"
    },
    "papermill": {
     "duration": 0.083033,
     "end_time": "2023-11-13T12:55:37.399128",
     "exception": false,
     "start_time": "2023-11-13T12:55:37.316095",
     "status": "completed"
    },
    "tags": []
   },
   "outputs": [
    {
     "data": {
      "text/html": [
       "<div>\n",
       "<style scoped>\n",
       "    .dataframe tbody tr th:only-of-type {\n",
       "        vertical-align: middle;\n",
       "    }\n",
       "\n",
       "    .dataframe tbody tr th {\n",
       "        vertical-align: top;\n",
       "    }\n",
       "\n",
       "    .dataframe thead th {\n",
       "        text-align: right;\n",
       "    }\n",
       "</style>\n",
       "<table border=\"1\" class=\"dataframe\">\n",
       "  <thead>\n",
       "    <tr style=\"text-align: right;\">\n",
       "      <th></th>\n",
       "      <th>PassengerId</th>\n",
       "      <th>Survived</th>\n",
       "      <th>Pclass</th>\n",
       "      <th>Name</th>\n",
       "      <th>Sex</th>\n",
       "      <th>Age</th>\n",
       "      <th>SibSp</th>\n",
       "      <th>Parch</th>\n",
       "      <th>Ticket</th>\n",
       "      <th>Fare</th>\n",
       "      <th>Cabin</th>\n",
       "      <th>Embarked</th>\n",
       "      <th>Age_Standard_Scaler</th>\n",
       "      <th>Age_Robuts_Scaler</th>\n",
       "    </tr>\n",
       "  </thead>\n",
       "  <tbody>\n",
       "    <tr>\n",
       "      <th>0</th>\n",
       "      <td>1</td>\n",
       "      <td>0</td>\n",
       "      <td>3</td>\n",
       "      <td>Braund, Mr. Owen Harris</td>\n",
       "      <td>male</td>\n",
       "      <td>22.0</td>\n",
       "      <td>1</td>\n",
       "      <td>0</td>\n",
       "      <td>A/5 21171</td>\n",
       "      <td>7.2500</td>\n",
       "      <td>NaN</td>\n",
       "      <td>S</td>\n",
       "      <td>-0.530377</td>\n",
       "      <td>-0.335664</td>\n",
       "    </tr>\n",
       "    <tr>\n",
       "      <th>1</th>\n",
       "      <td>2</td>\n",
       "      <td>1</td>\n",
       "      <td>1</td>\n",
       "      <td>Cumings, Mrs. John Bradley (Florence Briggs Th...</td>\n",
       "      <td>female</td>\n",
       "      <td>38.0</td>\n",
       "      <td>1</td>\n",
       "      <td>0</td>\n",
       "      <td>PC 17599</td>\n",
       "      <td>71.2833</td>\n",
       "      <td>C85</td>\n",
       "      <td>C</td>\n",
       "      <td>0.571831</td>\n",
       "      <td>0.559441</td>\n",
       "    </tr>\n",
       "    <tr>\n",
       "      <th>2</th>\n",
       "      <td>3</td>\n",
       "      <td>1</td>\n",
       "      <td>3</td>\n",
       "      <td>Heikkinen, Miss. Laina</td>\n",
       "      <td>female</td>\n",
       "      <td>26.0</td>\n",
       "      <td>0</td>\n",
       "      <td>0</td>\n",
       "      <td>STON/O2. 3101282</td>\n",
       "      <td>7.9250</td>\n",
       "      <td>NaN</td>\n",
       "      <td>S</td>\n",
       "      <td>-0.254825</td>\n",
       "      <td>-0.111888</td>\n",
       "    </tr>\n",
       "    <tr>\n",
       "      <th>3</th>\n",
       "      <td>4</td>\n",
       "      <td>1</td>\n",
       "      <td>1</td>\n",
       "      <td>Futrelle, Mrs. Jacques Heath (Lily May Peel)</td>\n",
       "      <td>female</td>\n",
       "      <td>35.0</td>\n",
       "      <td>1</td>\n",
       "      <td>0</td>\n",
       "      <td>113803</td>\n",
       "      <td>53.1000</td>\n",
       "      <td>C123</td>\n",
       "      <td>S</td>\n",
       "      <td>0.365167</td>\n",
       "      <td>0.391608</td>\n",
       "    </tr>\n",
       "    <tr>\n",
       "      <th>4</th>\n",
       "      <td>5</td>\n",
       "      <td>0</td>\n",
       "      <td>3</td>\n",
       "      <td>Allen, Mr. William Henry</td>\n",
       "      <td>male</td>\n",
       "      <td>35.0</td>\n",
       "      <td>0</td>\n",
       "      <td>0</td>\n",
       "      <td>373450</td>\n",
       "      <td>8.0500</td>\n",
       "      <td>NaN</td>\n",
       "      <td>S</td>\n",
       "      <td>0.365167</td>\n",
       "      <td>0.391608</td>\n",
       "    </tr>\n",
       "  </tbody>\n",
       "</table>\n",
       "</div>"
      ],
      "text/plain": [
       "   PassengerId  Survived  Pclass  \\\n",
       "0            1         0       3   \n",
       "1            2         1       1   \n",
       "2            3         1       3   \n",
       "3            4         1       1   \n",
       "4            5         0       3   \n",
       "\n",
       "                                                Name     Sex   Age  SibSp  \\\n",
       "0                            Braund, Mr. Owen Harris    male  22.0      1   \n",
       "1  Cumings, Mrs. John Bradley (Florence Briggs Th...  female  38.0      1   \n",
       "2                             Heikkinen, Miss. Laina  female  26.0      0   \n",
       "3       Futrelle, Mrs. Jacques Heath (Lily May Peel)  female  35.0      1   \n",
       "4                           Allen, Mr. William Henry    male  35.0      0   \n",
       "\n",
       "   Parch            Ticket     Fare Cabin Embarked  Age_Standard_Scaler  \\\n",
       "0      0         A/5 21171   7.2500   NaN        S            -0.530377   \n",
       "1      0          PC 17599  71.2833   C85        C             0.571831   \n",
       "2      0  STON/O2. 3101282   7.9250   NaN        S            -0.254825   \n",
       "3      0            113803  53.1000  C123        S             0.365167   \n",
       "4      0            373450   8.0500   NaN        S             0.365167   \n",
       "\n",
       "   Age_Robuts_Scaler  \n",
       "0          -0.335664  \n",
       "1           0.559441  \n",
       "2          -0.111888  \n",
       "3           0.391608  \n",
       "4           0.391608  "
      ]
     },
     "execution_count": 126,
     "metadata": {},
     "output_type": "execute_result"
    }
   ],
   "source": [
    "rs = RobustScaler()\n",
    "titanic[\"Age_Robuts_Scaler\"] = rs.fit_transform(titanic[[\"Age\"]])\n",
    "titanic.head()"
   ]
  },
  {
   "cell_type": "code",
   "execution_count": 127,
   "id": "b56e926d",
   "metadata": {
    "execution": {
     "iopub.execute_input": "2023-11-13T12:55:37.513367Z",
     "iopub.status.busy": "2023-11-13T12:55:37.512724Z",
     "iopub.status.idle": "2023-11-13T12:55:37.527808Z",
     "shell.execute_reply": "2023-11-13T12:55:37.526475Z"
    },
    "papermill": {
     "duration": 0.073007,
     "end_time": "2023-11-13T12:55:37.529627",
     "exception": false,
     "start_time": "2023-11-13T12:55:37.456620",
     "status": "completed"
    },
    "tags": []
   },
   "outputs": [
    {
     "data": {
      "text/html": [
       "<div>\n",
       "<style scoped>\n",
       "    .dataframe tbody tr th:only-of-type {\n",
       "        vertical-align: middle;\n",
       "    }\n",
       "\n",
       "    .dataframe tbody tr th {\n",
       "        vertical-align: top;\n",
       "    }\n",
       "\n",
       "    .dataframe thead th {\n",
       "        text-align: right;\n",
       "    }\n",
       "</style>\n",
       "<table border=\"1\" class=\"dataframe\">\n",
       "  <thead>\n",
       "    <tr style=\"text-align: right;\">\n",
       "      <th></th>\n",
       "      <th>PassengerId</th>\n",
       "      <th>Survived</th>\n",
       "      <th>Pclass</th>\n",
       "      <th>Name</th>\n",
       "      <th>Sex</th>\n",
       "      <th>Age</th>\n",
       "      <th>SibSp</th>\n",
       "      <th>Parch</th>\n",
       "      <th>Ticket</th>\n",
       "      <th>Fare</th>\n",
       "      <th>Cabin</th>\n",
       "      <th>Embarked</th>\n",
       "      <th>Age_Standard_Scaler</th>\n",
       "      <th>Age_Robuts_Scaler</th>\n",
       "    </tr>\n",
       "  </thead>\n",
       "  <tbody>\n",
       "    <tr>\n",
       "      <th>0</th>\n",
       "      <td>1</td>\n",
       "      <td>0</td>\n",
       "      <td>3</td>\n",
       "      <td>Braund, Mr. Owen Harris</td>\n",
       "      <td>male</td>\n",
       "      <td>22.0</td>\n",
       "      <td>1</td>\n",
       "      <td>0</td>\n",
       "      <td>A/5 21171</td>\n",
       "      <td>7.2500</td>\n",
       "      <td>NaN</td>\n",
       "      <td>S</td>\n",
       "      <td>-0.530377</td>\n",
       "      <td>-0.335664</td>\n",
       "    </tr>\n",
       "    <tr>\n",
       "      <th>1</th>\n",
       "      <td>2</td>\n",
       "      <td>1</td>\n",
       "      <td>1</td>\n",
       "      <td>Cumings, Mrs. John Bradley (Florence Briggs Th...</td>\n",
       "      <td>female</td>\n",
       "      <td>38.0</td>\n",
       "      <td>1</td>\n",
       "      <td>0</td>\n",
       "      <td>PC 17599</td>\n",
       "      <td>71.2833</td>\n",
       "      <td>C85</td>\n",
       "      <td>C</td>\n",
       "      <td>0.571831</td>\n",
       "      <td>0.559441</td>\n",
       "    </tr>\n",
       "    <tr>\n",
       "      <th>2</th>\n",
       "      <td>3</td>\n",
       "      <td>1</td>\n",
       "      <td>3</td>\n",
       "      <td>Heikkinen, Miss. Laina</td>\n",
       "      <td>female</td>\n",
       "      <td>26.0</td>\n",
       "      <td>0</td>\n",
       "      <td>0</td>\n",
       "      <td>STON/O2. 3101282</td>\n",
       "      <td>7.9250</td>\n",
       "      <td>NaN</td>\n",
       "      <td>S</td>\n",
       "      <td>-0.254825</td>\n",
       "      <td>-0.111888</td>\n",
       "    </tr>\n",
       "    <tr>\n",
       "      <th>3</th>\n",
       "      <td>4</td>\n",
       "      <td>1</td>\n",
       "      <td>1</td>\n",
       "      <td>Futrelle, Mrs. Jacques Heath (Lily May Peel)</td>\n",
       "      <td>female</td>\n",
       "      <td>35.0</td>\n",
       "      <td>1</td>\n",
       "      <td>0</td>\n",
       "      <td>113803</td>\n",
       "      <td>53.1000</td>\n",
       "      <td>C123</td>\n",
       "      <td>S</td>\n",
       "      <td>0.365167</td>\n",
       "      <td>0.391608</td>\n",
       "    </tr>\n",
       "    <tr>\n",
       "      <th>4</th>\n",
       "      <td>5</td>\n",
       "      <td>0</td>\n",
       "      <td>3</td>\n",
       "      <td>Allen, Mr. William Henry</td>\n",
       "      <td>male</td>\n",
       "      <td>35.0</td>\n",
       "      <td>0</td>\n",
       "      <td>0</td>\n",
       "      <td>373450</td>\n",
       "      <td>8.0500</td>\n",
       "      <td>NaN</td>\n",
       "      <td>S</td>\n",
       "      <td>0.365167</td>\n",
       "      <td>0.391608</td>\n",
       "    </tr>\n",
       "  </tbody>\n",
       "</table>\n",
       "</div>"
      ],
      "text/plain": [
       "   PassengerId  Survived  Pclass  \\\n",
       "0            1         0       3   \n",
       "1            2         1       1   \n",
       "2            3         1       3   \n",
       "3            4         1       1   \n",
       "4            5         0       3   \n",
       "\n",
       "                                                Name     Sex   Age  SibSp  \\\n",
       "0                            Braund, Mr. Owen Harris    male  22.0      1   \n",
       "1  Cumings, Mrs. John Bradley (Florence Briggs Th...  female  38.0      1   \n",
       "2                             Heikkinen, Miss. Laina  female  26.0      0   \n",
       "3       Futrelle, Mrs. Jacques Heath (Lily May Peel)  female  35.0      1   \n",
       "4                           Allen, Mr. William Henry    male  35.0      0   \n",
       "\n",
       "   Parch            Ticket     Fare Cabin Embarked  Age_Standard_Scaler  \\\n",
       "0      0         A/5 21171   7.2500   NaN        S            -0.530377   \n",
       "1      0          PC 17599  71.2833   C85        C             0.571831   \n",
       "2      0  STON/O2. 3101282   7.9250   NaN        S            -0.254825   \n",
       "3      0            113803  53.1000  C123        S             0.365167   \n",
       "4      0            373450   8.0500   NaN        S             0.365167   \n",
       "\n",
       "   Age_Robuts_Scaler  \n",
       "0          -0.335664  \n",
       "1           0.559441  \n",
       "2          -0.111888  \n",
       "3           0.391608  \n",
       "4           0.391608  "
      ]
     },
     "execution_count": 127,
     "metadata": {},
     "output_type": "execute_result"
    }
   ],
   "source": [
    "titanic.head()"
   ]
  },
  {
   "cell_type": "code",
   "execution_count": 128,
   "id": "75d6cc8a",
   "metadata": {
    "execution": {
     "iopub.execute_input": "2023-11-13T12:55:37.643411Z",
     "iopub.status.busy": "2023-11-13T12:55:37.642866Z",
     "iopub.status.idle": "2023-11-13T12:55:37.673681Z",
     "shell.execute_reply": "2023-11-13T12:55:37.673100Z"
    },
    "papermill": {
     "duration": 0.090452,
     "end_time": "2023-11-13T12:55:37.675452",
     "exception": false,
     "start_time": "2023-11-13T12:55:37.585000",
     "status": "completed"
    },
    "tags": []
   },
   "outputs": [
    {
     "data": {
      "text/html": [
       "<div>\n",
       "<style scoped>\n",
       "    .dataframe tbody tr th:only-of-type {\n",
       "        vertical-align: middle;\n",
       "    }\n",
       "\n",
       "    .dataframe tbody tr th {\n",
       "        vertical-align: top;\n",
       "    }\n",
       "\n",
       "    .dataframe thead th {\n",
       "        text-align: right;\n",
       "    }\n",
       "</style>\n",
       "<table border=\"1\" class=\"dataframe\">\n",
       "  <thead>\n",
       "    <tr style=\"text-align: right;\">\n",
       "      <th></th>\n",
       "      <th>count</th>\n",
       "      <th>mean</th>\n",
       "      <th>std</th>\n",
       "      <th>min</th>\n",
       "      <th>25%</th>\n",
       "      <th>50%</th>\n",
       "      <th>75%</th>\n",
       "      <th>max</th>\n",
       "    </tr>\n",
       "  </thead>\n",
       "  <tbody>\n",
       "    <tr>\n",
       "      <th>PassengerId</th>\n",
       "      <td>891.0</td>\n",
       "      <td>4.460000e+02</td>\n",
       "      <td>257.353842</td>\n",
       "      <td>1.000000</td>\n",
       "      <td>223.500000</td>\n",
       "      <td>446.000000</td>\n",
       "      <td>668.500000</td>\n",
       "      <td>891.000000</td>\n",
       "    </tr>\n",
       "    <tr>\n",
       "      <th>Survived</th>\n",
       "      <td>891.0</td>\n",
       "      <td>3.838384e-01</td>\n",
       "      <td>0.486592</td>\n",
       "      <td>0.000000</td>\n",
       "      <td>0.000000</td>\n",
       "      <td>0.000000</td>\n",
       "      <td>1.000000</td>\n",
       "      <td>1.000000</td>\n",
       "    </tr>\n",
       "    <tr>\n",
       "      <th>Pclass</th>\n",
       "      <td>891.0</td>\n",
       "      <td>2.308642e+00</td>\n",
       "      <td>0.836071</td>\n",
       "      <td>1.000000</td>\n",
       "      <td>2.000000</td>\n",
       "      <td>3.000000</td>\n",
       "      <td>3.000000</td>\n",
       "      <td>3.000000</td>\n",
       "    </tr>\n",
       "    <tr>\n",
       "      <th>Age</th>\n",
       "      <td>714.0</td>\n",
       "      <td>2.969912e+01</td>\n",
       "      <td>14.526497</td>\n",
       "      <td>0.420000</td>\n",
       "      <td>20.125000</td>\n",
       "      <td>28.000000</td>\n",
       "      <td>38.000000</td>\n",
       "      <td>80.000000</td>\n",
       "    </tr>\n",
       "    <tr>\n",
       "      <th>SibSp</th>\n",
       "      <td>891.0</td>\n",
       "      <td>5.230079e-01</td>\n",
       "      <td>1.102743</td>\n",
       "      <td>0.000000</td>\n",
       "      <td>0.000000</td>\n",
       "      <td>0.000000</td>\n",
       "      <td>1.000000</td>\n",
       "      <td>8.000000</td>\n",
       "    </tr>\n",
       "    <tr>\n",
       "      <th>Parch</th>\n",
       "      <td>891.0</td>\n",
       "      <td>3.815937e-01</td>\n",
       "      <td>0.806057</td>\n",
       "      <td>0.000000</td>\n",
       "      <td>0.000000</td>\n",
       "      <td>0.000000</td>\n",
       "      <td>0.000000</td>\n",
       "      <td>6.000000</td>\n",
       "    </tr>\n",
       "    <tr>\n",
       "      <th>Fare</th>\n",
       "      <td>891.0</td>\n",
       "      <td>3.220421e+01</td>\n",
       "      <td>49.693429</td>\n",
       "      <td>0.000000</td>\n",
       "      <td>7.910400</td>\n",
       "      <td>14.454200</td>\n",
       "      <td>31.000000</td>\n",
       "      <td>512.329200</td>\n",
       "    </tr>\n",
       "    <tr>\n",
       "      <th>Age_Standard_Scaler</th>\n",
       "      <td>714.0</td>\n",
       "      <td>2.388379e-16</td>\n",
       "      <td>1.000701</td>\n",
       "      <td>-2.016979</td>\n",
       "      <td>-0.659542</td>\n",
       "      <td>-0.117049</td>\n",
       "      <td>0.571831</td>\n",
       "      <td>3.465126</td>\n",
       "    </tr>\n",
       "    <tr>\n",
       "      <th>Age_Robuts_Scaler</th>\n",
       "      <td>714.0</td>\n",
       "      <td>9.505553e-02</td>\n",
       "      <td>0.812671</td>\n",
       "      <td>-1.542937</td>\n",
       "      <td>-0.440559</td>\n",
       "      <td>0.000000</td>\n",
       "      <td>0.559441</td>\n",
       "      <td>2.909091</td>\n",
       "    </tr>\n",
       "    <tr>\n",
       "      <th>Age_Min_Max_Scaler</th>\n",
       "      <td>714.0</td>\n",
       "      <td>3.679206e-01</td>\n",
       "      <td>0.182540</td>\n",
       "      <td>0.000000</td>\n",
       "      <td>0.247612</td>\n",
       "      <td>0.346569</td>\n",
       "      <td>0.472229</td>\n",
       "      <td>1.000000</td>\n",
       "    </tr>\n",
       "  </tbody>\n",
       "</table>\n",
       "</div>"
      ],
      "text/plain": [
       "                     count          mean         std       min         25%  \\\n",
       "PassengerId          891.0  4.460000e+02  257.353842  1.000000  223.500000   \n",
       "Survived             891.0  3.838384e-01    0.486592  0.000000    0.000000   \n",
       "Pclass               891.0  2.308642e+00    0.836071  1.000000    2.000000   \n",
       "Age                  714.0  2.969912e+01   14.526497  0.420000   20.125000   \n",
       "SibSp                891.0  5.230079e-01    1.102743  0.000000    0.000000   \n",
       "Parch                891.0  3.815937e-01    0.806057  0.000000    0.000000   \n",
       "Fare                 891.0  3.220421e+01   49.693429  0.000000    7.910400   \n",
       "Age_Standard_Scaler  714.0  2.388379e-16    1.000701 -2.016979   -0.659542   \n",
       "Age_Robuts_Scaler    714.0  9.505553e-02    0.812671 -1.542937   -0.440559   \n",
       "Age_Min_Max_Scaler   714.0  3.679206e-01    0.182540  0.000000    0.247612   \n",
       "\n",
       "                            50%         75%         max  \n",
       "PassengerId          446.000000  668.500000  891.000000  \n",
       "Survived               0.000000    1.000000    1.000000  \n",
       "Pclass                 3.000000    3.000000    3.000000  \n",
       "Age                   28.000000   38.000000   80.000000  \n",
       "SibSp                  0.000000    1.000000    8.000000  \n",
       "Parch                  0.000000    0.000000    6.000000  \n",
       "Fare                  14.454200   31.000000  512.329200  \n",
       "Age_Standard_Scaler   -0.117049    0.571831    3.465126  \n",
       "Age_Robuts_Scaler      0.000000    0.559441    2.909091  \n",
       "Age_Min_Max_Scaler     0.346569    0.472229    1.000000  "
      ]
     },
     "execution_count": 128,
     "metadata": {},
     "output_type": "execute_result"
    }
   ],
   "source": [
    "mms = MinMaxScaler()\n",
    "titanic[\"Age_Min_Max_Scaler\"] = mms.fit_transform(titanic[[\"Age\"]])\n",
    "titanic.describe().T"
   ]
  },
  {
   "cell_type": "code",
   "execution_count": 129,
   "id": "caceaf93",
   "metadata": {
    "execution": {
     "iopub.execute_input": "2023-11-13T12:55:37.785639Z",
     "iopub.status.busy": "2023-11-13T12:55:37.785310Z",
     "iopub.status.idle": "2023-11-13T12:55:37.799989Z",
     "shell.execute_reply": "2023-11-13T12:55:37.799188Z"
    },
    "papermill": {
     "duration": 0.071886,
     "end_time": "2023-11-13T12:55:37.801560",
     "exception": false,
     "start_time": "2023-11-13T12:55:37.729674",
     "status": "completed"
    },
    "tags": []
   },
   "outputs": [
    {
     "data": {
      "text/html": [
       "<div>\n",
       "<style scoped>\n",
       "    .dataframe tbody tr th:only-of-type {\n",
       "        vertical-align: middle;\n",
       "    }\n",
       "\n",
       "    .dataframe tbody tr th {\n",
       "        vertical-align: top;\n",
       "    }\n",
       "\n",
       "    .dataframe thead th {\n",
       "        text-align: right;\n",
       "    }\n",
       "</style>\n",
       "<table border=\"1\" class=\"dataframe\">\n",
       "  <thead>\n",
       "    <tr style=\"text-align: right;\">\n",
       "      <th></th>\n",
       "      <th>PassengerId</th>\n",
       "      <th>Survived</th>\n",
       "      <th>Pclass</th>\n",
       "      <th>Name</th>\n",
       "      <th>Sex</th>\n",
       "      <th>Age</th>\n",
       "      <th>SibSp</th>\n",
       "      <th>Parch</th>\n",
       "      <th>Ticket</th>\n",
       "      <th>Fare</th>\n",
       "      <th>Cabin</th>\n",
       "      <th>Embarked</th>\n",
       "      <th>Age_Standard_Scaler</th>\n",
       "      <th>Age_Robuts_Scaler</th>\n",
       "      <th>Age_Min_Max_Scaler</th>\n",
       "    </tr>\n",
       "  </thead>\n",
       "  <tbody>\n",
       "    <tr>\n",
       "      <th>0</th>\n",
       "      <td>1</td>\n",
       "      <td>0</td>\n",
       "      <td>3</td>\n",
       "      <td>Braund, Mr. Owen Harris</td>\n",
       "      <td>male</td>\n",
       "      <td>22.0</td>\n",
       "      <td>1</td>\n",
       "      <td>0</td>\n",
       "      <td>A/5 21171</td>\n",
       "      <td>7.2500</td>\n",
       "      <td>NaN</td>\n",
       "      <td>S</td>\n",
       "      <td>-0.530377</td>\n",
       "      <td>-0.335664</td>\n",
       "      <td>0.271174</td>\n",
       "    </tr>\n",
       "    <tr>\n",
       "      <th>1</th>\n",
       "      <td>2</td>\n",
       "      <td>1</td>\n",
       "      <td>1</td>\n",
       "      <td>Cumings, Mrs. John Bradley (Florence Briggs Th...</td>\n",
       "      <td>female</td>\n",
       "      <td>38.0</td>\n",
       "      <td>1</td>\n",
       "      <td>0</td>\n",
       "      <td>PC 17599</td>\n",
       "      <td>71.2833</td>\n",
       "      <td>C85</td>\n",
       "      <td>C</td>\n",
       "      <td>0.571831</td>\n",
       "      <td>0.559441</td>\n",
       "      <td>0.472229</td>\n",
       "    </tr>\n",
       "    <tr>\n",
       "      <th>2</th>\n",
       "      <td>3</td>\n",
       "      <td>1</td>\n",
       "      <td>3</td>\n",
       "      <td>Heikkinen, Miss. Laina</td>\n",
       "      <td>female</td>\n",
       "      <td>26.0</td>\n",
       "      <td>0</td>\n",
       "      <td>0</td>\n",
       "      <td>STON/O2. 3101282</td>\n",
       "      <td>7.9250</td>\n",
       "      <td>NaN</td>\n",
       "      <td>S</td>\n",
       "      <td>-0.254825</td>\n",
       "      <td>-0.111888</td>\n",
       "      <td>0.321438</td>\n",
       "    </tr>\n",
       "    <tr>\n",
       "      <th>3</th>\n",
       "      <td>4</td>\n",
       "      <td>1</td>\n",
       "      <td>1</td>\n",
       "      <td>Futrelle, Mrs. Jacques Heath (Lily May Peel)</td>\n",
       "      <td>female</td>\n",
       "      <td>35.0</td>\n",
       "      <td>1</td>\n",
       "      <td>0</td>\n",
       "      <td>113803</td>\n",
       "      <td>53.1000</td>\n",
       "      <td>C123</td>\n",
       "      <td>S</td>\n",
       "      <td>0.365167</td>\n",
       "      <td>0.391608</td>\n",
       "      <td>0.434531</td>\n",
       "    </tr>\n",
       "    <tr>\n",
       "      <th>4</th>\n",
       "      <td>5</td>\n",
       "      <td>0</td>\n",
       "      <td>3</td>\n",
       "      <td>Allen, Mr. William Henry</td>\n",
       "      <td>male</td>\n",
       "      <td>35.0</td>\n",
       "      <td>0</td>\n",
       "      <td>0</td>\n",
       "      <td>373450</td>\n",
       "      <td>8.0500</td>\n",
       "      <td>NaN</td>\n",
       "      <td>S</td>\n",
       "      <td>0.365167</td>\n",
       "      <td>0.391608</td>\n",
       "      <td>0.434531</td>\n",
       "    </tr>\n",
       "  </tbody>\n",
       "</table>\n",
       "</div>"
      ],
      "text/plain": [
       "   PassengerId  Survived  Pclass  \\\n",
       "0            1         0       3   \n",
       "1            2         1       1   \n",
       "2            3         1       3   \n",
       "3            4         1       1   \n",
       "4            5         0       3   \n",
       "\n",
       "                                                Name     Sex   Age  SibSp  \\\n",
       "0                            Braund, Mr. Owen Harris    male  22.0      1   \n",
       "1  Cumings, Mrs. John Bradley (Florence Briggs Th...  female  38.0      1   \n",
       "2                             Heikkinen, Miss. Laina  female  26.0      0   \n",
       "3       Futrelle, Mrs. Jacques Heath (Lily May Peel)  female  35.0      1   \n",
       "4                           Allen, Mr. William Henry    male  35.0      0   \n",
       "\n",
       "   Parch            Ticket     Fare Cabin Embarked  Age_Standard_Scaler  \\\n",
       "0      0         A/5 21171   7.2500   NaN        S            -0.530377   \n",
       "1      0          PC 17599  71.2833   C85        C             0.571831   \n",
       "2      0  STON/O2. 3101282   7.9250   NaN        S            -0.254825   \n",
       "3      0            113803  53.1000  C123        S             0.365167   \n",
       "4      0            373450   8.0500   NaN        S             0.365167   \n",
       "\n",
       "   Age_Robuts_Scaler  Age_Min_Max_Scaler  \n",
       "0          -0.335664            0.271174  \n",
       "1           0.559441            0.472229  \n",
       "2          -0.111888            0.321438  \n",
       "3           0.391608            0.434531  \n",
       "4           0.391608            0.434531  "
      ]
     },
     "execution_count": 129,
     "metadata": {},
     "output_type": "execute_result"
    }
   ],
   "source": [
    "titanic.head()"
   ]
  },
  {
   "cell_type": "markdown",
   "id": "2d682324",
   "metadata": {
    "papermill": {
     "duration": 0.055983,
     "end_time": "2023-11-13T12:55:37.911377",
     "exception": false,
     "start_time": "2023-11-13T12:55:37.855394",
     "status": "completed"
    },
    "tags": []
   },
   "source": [
    "----"
   ]
  },
  {
   "cell_type": "code",
   "execution_count": 130,
   "id": "cac969f1",
   "metadata": {
    "execution": {
     "iopub.execute_input": "2023-11-13T12:55:38.024302Z",
     "iopub.status.busy": "2023-11-13T12:55:38.023688Z",
     "iopub.status.idle": "2023-11-13T12:55:38.849640Z",
     "shell.execute_reply": "2023-11-13T12:55:38.848312Z"
    },
    "papermill": {
     "duration": 0.884457,
     "end_time": "2023-11-13T12:55:38.851559",
     "exception": false,
     "start_time": "2023-11-13T12:55:37.967102",
     "status": "completed"
    },
    "tags": []
   },
   "outputs": [
    {
     "name": "stdout",
     "output_type": "stream",
     "text": [
      "Summary for Age:\n"
     ]
    },
    {
     "data": {
      "image/png": "[encoded data removed]",
      "text/plain": [
       "<Figure size 800x600 with 1 Axes>"
      ]
     },
     "metadata": {},
     "output_type": "display_data"
    },
    {
     "name": "stdout",
     "output_type": "stream",
     "text": [
      "count    714.000000\n",
      "mean      29.699118\n",
      "std       14.526497\n",
      "min        0.420000\n",
      "5%         4.000000\n",
      "10%       14.000000\n",
      "20%       19.000000\n",
      "30%       22.000000\n",
      "40%       25.000000\n",
      "50%       28.000000\n",
      "60%       31.800000\n",
      "70%       36.000000\n",
      "80%       41.000000\n",
      "90%       50.000000\n",
      "95%       56.000000\n",
      "99%       65.870000\n",
      "max       80.000000\n",
      "Name: Age, dtype: float64\n",
      "\n",
      "--------------------------------------------------\n",
      "\n",
      "Summary for Age_Standard_Scaler:\n"
     ]
    },
    {
     "data": {
      "image/png": "[encoded data removed]",
      "text/plain": [
       "<Figure size 800x600 with 1 Axes>"
      ]
     },
     "metadata": {},
     "output_type": "display_data"
    },
    {
     "name": "stdout",
     "output_type": "stream",
     "text": [
      "count    7.140000e+02\n",
      "mean     2.388379e-16\n",
      "std      1.000701e+00\n",
      "min     -2.016979e+00\n",
      "5%      -1.770360e+00\n",
      "10%     -1.081480e+00\n",
      "20%     -7.370406e-01\n",
      "30%     -5.303766e-01\n",
      "40%     -3.237127e-01\n",
      "50%     -1.170488e-01\n",
      "60%      1.447255e-01\n",
      "70%      4.340550e-01\n",
      "80%      7.784949e-01\n",
      "90%      1.398487e+00\n",
      "95%      1.811815e+00\n",
      "99%      2.491739e+00\n",
      "max      3.465126e+00\n",
      "Name: Age_Standard_Scaler, dtype: float64\n",
      "\n",
      "--------------------------------------------------\n",
      "\n",
      "Summary for Age_Robuts_Scaler:\n"
     ]
    },
    {
     "data": {
      "image/png": "[encoded data removed]",
      "text/plain": [
       "<Figure size 800x600 with 1 Axes>"
      ]
     },
     "metadata": {},
     "output_type": "display_data"
    },
    {
     "name": "stdout",
     "output_type": "stream",
     "text": [
      "count    714.000000\n",
      "mean       0.095056\n",
      "std        0.812671\n",
      "min       -1.542937\n",
      "5%        -1.342657\n",
      "10%       -0.783217\n",
      "20%       -0.503497\n",
      "30%       -0.335664\n",
      "40%       -0.167832\n",
      "50%        0.000000\n",
      "60%        0.212587\n",
      "70%        0.447552\n",
      "80%        0.727273\n",
      "90%        1.230769\n",
      "95%        1.566434\n",
      "99%        2.118601\n",
      "max        2.909091\n",
      "Name: Age_Robuts_Scaler, dtype: float64\n",
      "\n",
      "--------------------------------------------------\n",
      "\n",
      "Summary for Age_Min_Max_Scaler:\n"
     ]
    },
    {
     "data": {
      "image/png": "[encoded data removed]",
      "text/plain": [
       "<Figure size 800x600 with 1 Axes>"
      ]
     },
     "metadata": {},
     "output_type": "display_data"
    },
    {
     "name": "stdout",
     "output_type": "stream",
     "text": [
      "count    714.000000\n",
      "mean       0.367921\n",
      "std        0.182540\n",
      "min        0.000000\n",
      "5%         0.044986\n",
      "10%        0.170646\n",
      "20%        0.233476\n",
      "30%        0.271174\n",
      "40%        0.308872\n",
      "50%        0.346569\n",
      "60%        0.394320\n",
      "70%        0.447097\n",
      "80%        0.509927\n",
      "90%        0.623021\n",
      "95%        0.698417\n",
      "99%        0.822443\n",
      "max        1.000000\n",
      "Name: Age_Min_Max_Scaler, dtype: float64\n",
      "\n",
      "--------------------------------------------------\n",
      "\n"
     ]
    }
   ],
   "source": [
    "def summarize_numeric_data(dataframe, numerical_col, plot=False):\n",
    "    quantiles = [0.05, 0.10, 0.20, 0.30, 0.40, 0.50, 0.60, 0.70, 0.80, 0.90, 0.95, 0.99]\n",
    "    summary = dataframe[numerical_col].describe(quantiles)\n",
    "    \n",
    "    if plot:\n",
    "        plt.figure(figsize=(8, 6))\n",
    "        dataframe[numerical_col].hist(bins=20, color='lightseagreen', edgecolor='black')\n",
    "        plt.xlabel(numerical_col)\n",
    "        plt.title(f'{numerical_col} Distribution')\n",
    "        plt.show()\n",
    "\n",
    "    return summary\n",
    "\n",
    "age_cols = [col for col in titanic.columns if \"Age\" in col]\n",
    "\n",
    "for col in age_cols:\n",
    "    print(f\"Summary for {col}:\")\n",
    "    summary = summarize_numeric_data(titanic, col, plot=True)\n",
    "    print(summary)\n",
    "    print('\\n' + '-'*50 + '\\n')"
   ]
  },
  {
   "cell_type": "markdown",
   "id": "4b934c83",
   "metadata": {
    "papermill": {
     "duration": 0.057057,
     "end_time": "2023-11-13T12:55:38.969664",
     "exception": false,
     "start_time": "2023-11-13T12:55:38.912607",
     "status": "completed"
    },
    "tags": []
   },
   "source": [
    "<div style=\"border-radius:10px; border:#65647C solid; padding: 15px; background-color: #F8EDE3; font-size:100%; text-align:left\">\n",
    "\n",
    "<h3 align=\"left\"><font color='#7D6E83'><b>🗨️ Comment: </b></font></h3>\n",
    "\n",
    "* Numeric to Categorical (Sayısal Değişkenleri Kateorik Değişkenlere Çevirme (Binning)) dönüşümü, sayısal değişkenleri kategorik değişkenlere dönüştürmek için kullanılır. Örneğin, yaş değişkeni çeyrek değerlere göre bölünerek bir kategorik değişken haline getirildi. Bu, veriyi daha anlamlı bir şekilde gruplamak veya modellemek için kullanışlı olabilir."
   ]
  },
  {
   "cell_type": "markdown",
   "id": "64aff551",
   "metadata": {
    "papermill": {
     "duration": 0.056275,
     "end_time": "2023-11-13T12:55:39.082048",
     "exception": false,
     "start_time": "2023-11-13T12:55:39.025773",
     "status": "completed"
    },
    "tags": []
   },
   "source": [
    "----"
   ]
  },
  {
   "cell_type": "code",
   "execution_count": 131,
   "id": "ce6f0e86",
   "metadata": {
    "execution": {
     "iopub.execute_input": "2023-11-13T12:55:39.197096Z",
     "iopub.status.busy": "2023-11-13T12:55:39.196703Z",
     "iopub.status.idle": "2023-11-13T12:55:39.221039Z",
     "shell.execute_reply": "2023-11-13T12:55:39.220087Z"
    },
    "papermill": {
     "duration": 0.084904,
     "end_time": "2023-11-13T12:55:39.223218",
     "exception": false,
     "start_time": "2023-11-13T12:55:39.138314",
     "status": "completed"
    },
    "tags": []
   },
   "outputs": [
    {
     "data": {
      "text/html": [
       "<div>\n",
       "<style scoped>\n",
       "    .dataframe tbody tr th:only-of-type {\n",
       "        vertical-align: middle;\n",
       "    }\n",
       "\n",
       "    .dataframe tbody tr th {\n",
       "        vertical-align: top;\n",
       "    }\n",
       "\n",
       "    .dataframe thead th {\n",
       "        text-align: right;\n",
       "    }\n",
       "</style>\n",
       "<table border=\"1\" class=\"dataframe\">\n",
       "  <thead>\n",
       "    <tr style=\"text-align: right;\">\n",
       "      <th></th>\n",
       "      <th>PassengerId</th>\n",
       "      <th>Survived</th>\n",
       "      <th>Pclass</th>\n",
       "      <th>Name</th>\n",
       "      <th>Sex</th>\n",
       "      <th>Age</th>\n",
       "      <th>SibSp</th>\n",
       "      <th>Parch</th>\n",
       "      <th>Ticket</th>\n",
       "      <th>Fare</th>\n",
       "      <th>Cabin</th>\n",
       "      <th>Embarked</th>\n",
       "      <th>Age_Standard_Scaler</th>\n",
       "      <th>Age_Robuts_Scaler</th>\n",
       "      <th>Age_Min_Max_Scaler</th>\n",
       "      <th>Age_qcut</th>\n",
       "    </tr>\n",
       "  </thead>\n",
       "  <tbody>\n",
       "    <tr>\n",
       "      <th>0</th>\n",
       "      <td>1</td>\n",
       "      <td>0</td>\n",
       "      <td>3</td>\n",
       "      <td>Braund, Mr. Owen Harris</td>\n",
       "      <td>male</td>\n",
       "      <td>22.0</td>\n",
       "      <td>1</td>\n",
       "      <td>0</td>\n",
       "      <td>A/5 21171</td>\n",
       "      <td>7.2500</td>\n",
       "      <td>NaN</td>\n",
       "      <td>S</td>\n",
       "      <td>-0.530377</td>\n",
       "      <td>-0.335664</td>\n",
       "      <td>0.271174</td>\n",
       "      <td>(19.0, 25.0]</td>\n",
       "    </tr>\n",
       "    <tr>\n",
       "      <th>1</th>\n",
       "      <td>2</td>\n",
       "      <td>1</td>\n",
       "      <td>1</td>\n",
       "      <td>Cumings, Mrs. John Bradley (Florence Briggs Th...</td>\n",
       "      <td>female</td>\n",
       "      <td>38.0</td>\n",
       "      <td>1</td>\n",
       "      <td>0</td>\n",
       "      <td>PC 17599</td>\n",
       "      <td>71.2833</td>\n",
       "      <td>C85</td>\n",
       "      <td>C</td>\n",
       "      <td>0.571831</td>\n",
       "      <td>0.559441</td>\n",
       "      <td>0.472229</td>\n",
       "      <td>(31.8, 41.0]</td>\n",
       "    </tr>\n",
       "    <tr>\n",
       "      <th>2</th>\n",
       "      <td>3</td>\n",
       "      <td>1</td>\n",
       "      <td>3</td>\n",
       "      <td>Heikkinen, Miss. Laina</td>\n",
       "      <td>female</td>\n",
       "      <td>26.0</td>\n",
       "      <td>0</td>\n",
       "      <td>0</td>\n",
       "      <td>STON/O2. 3101282</td>\n",
       "      <td>7.9250</td>\n",
       "      <td>NaN</td>\n",
       "      <td>S</td>\n",
       "      <td>-0.254825</td>\n",
       "      <td>-0.111888</td>\n",
       "      <td>0.321438</td>\n",
       "      <td>(25.0, 31.8]</td>\n",
       "    </tr>\n",
       "    <tr>\n",
       "      <th>3</th>\n",
       "      <td>4</td>\n",
       "      <td>1</td>\n",
       "      <td>1</td>\n",
       "      <td>Futrelle, Mrs. Jacques Heath (Lily May Peel)</td>\n",
       "      <td>female</td>\n",
       "      <td>35.0</td>\n",
       "      <td>1</td>\n",
       "      <td>0</td>\n",
       "      <td>113803</td>\n",
       "      <td>53.1000</td>\n",
       "      <td>C123</td>\n",
       "      <td>S</td>\n",
       "      <td>0.365167</td>\n",
       "      <td>0.391608</td>\n",
       "      <td>0.434531</td>\n",
       "      <td>(31.8, 41.0]</td>\n",
       "    </tr>\n",
       "    <tr>\n",
       "      <th>4</th>\n",
       "      <td>5</td>\n",
       "      <td>0</td>\n",
       "      <td>3</td>\n",
       "      <td>Allen, Mr. William Henry</td>\n",
       "      <td>male</td>\n",
       "      <td>35.0</td>\n",
       "      <td>0</td>\n",
       "      <td>0</td>\n",
       "      <td>373450</td>\n",
       "      <td>8.0500</td>\n",
       "      <td>NaN</td>\n",
       "      <td>S</td>\n",
       "      <td>0.365167</td>\n",
       "      <td>0.391608</td>\n",
       "      <td>0.434531</td>\n",
       "      <td>(31.8, 41.0]</td>\n",
       "    </tr>\n",
       "  </tbody>\n",
       "</table>\n",
       "</div>"
      ],
      "text/plain": [
       "   PassengerId  Survived  Pclass  \\\n",
       "0            1         0       3   \n",
       "1            2         1       1   \n",
       "2            3         1       3   \n",
       "3            4         1       1   \n",
       "4            5         0       3   \n",
       "\n",
       "                                                Name     Sex   Age  SibSp  \\\n",
       "0                            Braund, Mr. Owen Harris    male  22.0      1   \n",
       "1  Cumings, Mrs. John Bradley (Florence Briggs Th...  female  38.0      1   \n",
       "2                             Heikkinen, Miss. Laina  female  26.0      0   \n",
       "3       Futrelle, Mrs. Jacques Heath (Lily May Peel)  female  35.0      1   \n",
       "4                           Allen, Mr. William Henry    male  35.0      0   \n",
       "\n",
       "   Parch            Ticket     Fare Cabin Embarked  Age_Standard_Scaler  \\\n",
       "0      0         A/5 21171   7.2500   NaN        S            -0.530377   \n",
       "1      0          PC 17599  71.2833   C85        C             0.571831   \n",
       "2      0  STON/O2. 3101282   7.9250   NaN        S            -0.254825   \n",
       "3      0            113803  53.1000  C123        S             0.365167   \n",
       "4      0            373450   8.0500   NaN        S             0.365167   \n",
       "\n",
       "   Age_Robuts_Scaler  Age_Min_Max_Scaler      Age_qcut  \n",
       "0          -0.335664            0.271174  (19.0, 25.0]  \n",
       "1           0.559441            0.472229  (31.8, 41.0]  \n",
       "2          -0.111888            0.321438  (25.0, 31.8]  \n",
       "3           0.391608            0.434531  (31.8, 41.0]  \n",
       "4           0.391608            0.434531  (31.8, 41.0]  "
      ]
     },
     "execution_count": 131,
     "metadata": {},
     "output_type": "execute_result"
    }
   ],
   "source": [
    "titanic[\"Age_qcut\"] = pd.qcut(titanic['Age'], 5)\n",
    "titanic.head()"
   ]
  },
  {
   "cell_type": "markdown",
   "id": "507e1054",
   "metadata": {
    "papermill": {
     "duration": 0.056096,
     "end_time": "2023-11-13T12:55:39.335854",
     "exception": false,
     "start_time": "2023-11-13T12:55:39.279758",
     "status": "completed"
    },
    "tags": []
   },
   "source": [
    "<a id=\"17\"></a><br>\n",
    "<h1 style=\"border-radius: 10px; border: 2px solid #6B8E23; background-color: #F5F5DC; font-family: 'Pacifico', cursive; font-size: 200%; text-align: center; border-radius: 15px 50px; padding: 15px; box-shadow: 5px 5px 5px #556B2F; color: #556B2F;\">🔍Özellik Çıkarımı (Feature Extraction)🔎</h1>"
   ]
  },
  {
   "cell_type": "markdown",
   "id": "6f3a4dd3",
   "metadata": {
    "papermill": {
     "duration": 0.058292,
     "end_time": "2023-11-13T12:55:39.451016",
     "exception": false,
     "start_time": "2023-11-13T12:55:39.392724",
     "status": "completed"
    },
    "tags": []
   },
   "source": [
    "<a id = \"18\"></a><br>\n",
    "<p style=\"font-family: 'Pacifico', cursive; font-weight: bold; letter-spacing: 2px; color: #556B2F; font-size: 160%; text-align: left; padding: 0px; border-bottom: 3px solid\">✨Binary Features: Flag, Bool, True-False✨</p>"
   ]
  },
  {
   "cell_type": "code",
   "execution_count": 132,
   "id": "313e2828",
   "metadata": {
    "execution": {
     "iopub.execute_input": "2023-11-13T12:55:39.567281Z",
     "iopub.status.busy": "2023-11-13T12:55:39.566976Z",
     "iopub.status.idle": "2023-11-13T12:55:39.571988Z",
     "shell.execute_reply": "2023-11-13T12:55:39.570511Z"
    },
    "papermill": {
     "duration": 0.063933,
     "end_time": "2023-11-13T12:55:39.573982",
     "exception": false,
     "start_time": "2023-11-13T12:55:39.510049",
     "status": "completed"
    },
    "tags": []
   },
   "outputs": [],
   "source": [
    "titanic = titanic_.copy()"
   ]
  },
  {
   "cell_type": "code",
   "execution_count": 133,
   "id": "dd5811d5",
   "metadata": {
    "execution": {
     "iopub.execute_input": "2023-11-13T12:55:39.686581Z",
     "iopub.status.busy": "2023-11-13T12:55:39.686243Z",
     "iopub.status.idle": "2023-11-13T12:55:39.703198Z",
     "shell.execute_reply": "2023-11-13T12:55:39.702137Z"
    },
    "papermill": {
     "duration": 0.075986,
     "end_time": "2023-11-13T12:55:39.705698",
     "exception": false,
     "start_time": "2023-11-13T12:55:39.629712",
     "status": "completed"
    },
    "tags": []
   },
   "outputs": [
    {
     "data": {
      "text/html": [
       "<div>\n",
       "<style scoped>\n",
       "    .dataframe tbody tr th:only-of-type {\n",
       "        vertical-align: middle;\n",
       "    }\n",
       "\n",
       "    .dataframe tbody tr th {\n",
       "        vertical-align: top;\n",
       "    }\n",
       "\n",
       "    .dataframe thead th {\n",
       "        text-align: right;\n",
       "    }\n",
       "</style>\n",
       "<table border=\"1\" class=\"dataframe\">\n",
       "  <thead>\n",
       "    <tr style=\"text-align: right;\">\n",
       "      <th></th>\n",
       "      <th>PassengerId</th>\n",
       "      <th>Survived</th>\n",
       "      <th>Pclass</th>\n",
       "      <th>Name</th>\n",
       "      <th>Sex</th>\n",
       "      <th>Age</th>\n",
       "      <th>SibSp</th>\n",
       "      <th>Parch</th>\n",
       "      <th>Ticket</th>\n",
       "      <th>Fare</th>\n",
       "      <th>Cabin</th>\n",
       "      <th>Embarked</th>\n",
       "      <th>Cabin_Bool</th>\n",
       "    </tr>\n",
       "  </thead>\n",
       "  <tbody>\n",
       "    <tr>\n",
       "      <th>0</th>\n",
       "      <td>1</td>\n",
       "      <td>0</td>\n",
       "      <td>3</td>\n",
       "      <td>Braund, Mr. Owen Harris</td>\n",
       "      <td>male</td>\n",
       "      <td>22.0</td>\n",
       "      <td>1</td>\n",
       "      <td>0</td>\n",
       "      <td>A/5 21171</td>\n",
       "      <td>7.2500</td>\n",
       "      <td>NaN</td>\n",
       "      <td>S</td>\n",
       "      <td>0</td>\n",
       "    </tr>\n",
       "    <tr>\n",
       "      <th>1</th>\n",
       "      <td>2</td>\n",
       "      <td>1</td>\n",
       "      <td>1</td>\n",
       "      <td>Cumings, Mrs. John Bradley (Florence Briggs Th...</td>\n",
       "      <td>female</td>\n",
       "      <td>38.0</td>\n",
       "      <td>1</td>\n",
       "      <td>0</td>\n",
       "      <td>PC 17599</td>\n",
       "      <td>71.2833</td>\n",
       "      <td>C85</td>\n",
       "      <td>C</td>\n",
       "      <td>1</td>\n",
       "    </tr>\n",
       "    <tr>\n",
       "      <th>2</th>\n",
       "      <td>3</td>\n",
       "      <td>1</td>\n",
       "      <td>3</td>\n",
       "      <td>Heikkinen, Miss. Laina</td>\n",
       "      <td>female</td>\n",
       "      <td>26.0</td>\n",
       "      <td>0</td>\n",
       "      <td>0</td>\n",
       "      <td>STON/O2. 3101282</td>\n",
       "      <td>7.9250</td>\n",
       "      <td>NaN</td>\n",
       "      <td>S</td>\n",
       "      <td>0</td>\n",
       "    </tr>\n",
       "    <tr>\n",
       "      <th>3</th>\n",
       "      <td>4</td>\n",
       "      <td>1</td>\n",
       "      <td>1</td>\n",
       "      <td>Futrelle, Mrs. Jacques Heath (Lily May Peel)</td>\n",
       "      <td>female</td>\n",
       "      <td>35.0</td>\n",
       "      <td>1</td>\n",
       "      <td>0</td>\n",
       "      <td>113803</td>\n",
       "      <td>53.1000</td>\n",
       "      <td>C123</td>\n",
       "      <td>S</td>\n",
       "      <td>1</td>\n",
       "    </tr>\n",
       "    <tr>\n",
       "      <th>4</th>\n",
       "      <td>5</td>\n",
       "      <td>0</td>\n",
       "      <td>3</td>\n",
       "      <td>Allen, Mr. William Henry</td>\n",
       "      <td>male</td>\n",
       "      <td>35.0</td>\n",
       "      <td>0</td>\n",
       "      <td>0</td>\n",
       "      <td>373450</td>\n",
       "      <td>8.0500</td>\n",
       "      <td>NaN</td>\n",
       "      <td>S</td>\n",
       "      <td>0</td>\n",
       "    </tr>\n",
       "  </tbody>\n",
       "</table>\n",
       "</div>"
      ],
      "text/plain": [
       "   PassengerId  Survived  Pclass  \\\n",
       "0            1         0       3   \n",
       "1            2         1       1   \n",
       "2            3         1       3   \n",
       "3            4         1       1   \n",
       "4            5         0       3   \n",
       "\n",
       "                                                Name     Sex   Age  SibSp  \\\n",
       "0                            Braund, Mr. Owen Harris    male  22.0      1   \n",
       "1  Cumings, Mrs. John Bradley (Florence Briggs Th...  female  38.0      1   \n",
       "2                             Heikkinen, Miss. Laina  female  26.0      0   \n",
       "3       Futrelle, Mrs. Jacques Heath (Lily May Peel)  female  35.0      1   \n",
       "4                           Allen, Mr. William Henry    male  35.0      0   \n",
       "\n",
       "   Parch            Ticket     Fare Cabin Embarked  Cabin_Bool  \n",
       "0      0         A/5 21171   7.2500   NaN        S           0  \n",
       "1      0          PC 17599  71.2833   C85        C           1  \n",
       "2      0  STON/O2. 3101282   7.9250   NaN        S           0  \n",
       "3      0            113803  53.1000  C123        S           1  \n",
       "4      0            373450   8.0500   NaN        S           0  "
      ]
     },
     "execution_count": 133,
     "metadata": {},
     "output_type": "execute_result"
    }
   ],
   "source": [
    "titanic[\"Cabin_Bool\"] = titanic[\"Cabin\"].notnull().astype('int')\n",
    "titanic.head()\n",
    "\n",
    "# NaN lar 0 diğerleri 1 oldu"
   ]
  },
  {
   "cell_type": "code",
   "execution_count": 134,
   "id": "fca1494b",
   "metadata": {
    "execution": {
     "iopub.execute_input": "2023-11-13T12:55:39.826324Z",
     "iopub.status.busy": "2023-11-13T12:55:39.825872Z",
     "iopub.status.idle": "2023-11-13T12:55:39.837701Z",
     "shell.execute_reply": "2023-11-13T12:55:39.836978Z"
    },
    "papermill": {
     "duration": 0.074158,
     "end_time": "2023-11-13T12:55:39.839588",
     "exception": false,
     "start_time": "2023-11-13T12:55:39.765430",
     "status": "completed"
    },
    "tags": []
   },
   "outputs": [
    {
     "data": {
      "text/html": [
       "<div>\n",
       "<style scoped>\n",
       "    .dataframe tbody tr th:only-of-type {\n",
       "        vertical-align: middle;\n",
       "    }\n",
       "\n",
       "    .dataframe tbody tr th {\n",
       "        vertical-align: top;\n",
       "    }\n",
       "\n",
       "    .dataframe thead th {\n",
       "        text-align: right;\n",
       "    }\n",
       "</style>\n",
       "<table border=\"1\" class=\"dataframe\">\n",
       "  <thead>\n",
       "    <tr style=\"text-align: right;\">\n",
       "      <th></th>\n",
       "      <th>Survived</th>\n",
       "    </tr>\n",
       "    <tr>\n",
       "      <th>Cabin_Bool</th>\n",
       "      <th></th>\n",
       "    </tr>\n",
       "  </thead>\n",
       "  <tbody>\n",
       "    <tr>\n",
       "      <th>0</th>\n",
       "      <td>0.299854</td>\n",
       "    </tr>\n",
       "    <tr>\n",
       "      <th>1</th>\n",
       "      <td>0.666667</td>\n",
       "    </tr>\n",
       "  </tbody>\n",
       "</table>\n",
       "</div>"
      ],
      "text/plain": [
       "            Survived\n",
       "Cabin_Bool          \n",
       "0           0.299854\n",
       "1           0.666667"
      ]
     },
     "execution_count": 134,
     "metadata": {},
     "output_type": "execute_result"
    }
   ],
   "source": [
    "titanic.groupby(\"Cabin_Bool\").agg({\"Survived\": \"mean\"})"
   ]
  },
  {
   "cell_type": "markdown",
   "id": "824d2eb6",
   "metadata": {
    "papermill": {
     "duration": 0.056709,
     "end_time": "2023-11-13T12:55:39.956400",
     "exception": false,
     "start_time": "2023-11-13T12:55:39.899691",
     "status": "completed"
    },
    "tags": []
   },
   "source": [
    "<div style=\"border-radius:10px; border:#65647C solid; padding: 15px; background-color: #F8EDE3; font-size:100%; text-align:left\">\n",
    "\n",
    "<h3 align=\"left\"><font color='#7D6E83'><b>🗨️ Comment: </b></font></h3>\n",
    "\n",
    "* Bu oluşturduğumuz yeni değişkenin bağımlı değişken ile arasındaki ilişkiyi istatistiki olarak incelememiz gerekiyor. Çünkü şans eseri oluşmuş bir durum olabilir. Bu durumu kanıtlamak gerekiyor."
   ]
  },
  {
   "cell_type": "markdown",
   "id": "d68a433a",
   "metadata": {
    "papermill": {
     "duration": 0.056037,
     "end_time": "2023-11-13T12:55:40.067781",
     "exception": false,
     "start_time": "2023-11-13T12:55:40.011744",
     "status": "completed"
    },
    "tags": []
   },
   "source": [
    "---"
   ]
  },
  {
   "cell_type": "code",
   "execution_count": 135,
   "id": "9ee5427d",
   "metadata": {
    "execution": {
     "iopub.execute_input": "2023-11-13T12:55:40.180356Z",
     "iopub.status.busy": "2023-11-13T12:55:40.180004Z",
     "iopub.status.idle": "2023-11-13T12:55:40.211386Z",
     "shell.execute_reply": "2023-11-13T12:55:40.210628Z"
    },
    "papermill": {
     "duration": 0.089398,
     "end_time": "2023-11-13T12:55:40.213274",
     "exception": false,
     "start_time": "2023-11-13T12:55:40.123876",
     "status": "completed"
    },
    "tags": []
   },
   "outputs": [
    {
     "name": "stdout",
     "output_type": "stream",
     "text": [
      "Test Stat = 9.4597, p-value = 0.0000\n"
     ]
    }
   ],
   "source": [
    "from statsmodels.stats.proportion import proportions_ztest\n",
    "\n",
    "test_stat, pvalue = proportions_ztest(count=[titanic.loc[titanic[\"Cabin_Bool\"] == 1, \"Survived\"].sum(),\n",
    "                                             titanic.loc[titanic[\"Cabin_Bool\"] == 0, \"Survived\"].sum()],\n",
    "\n",
    "                                      nobs=[titanic.loc[titanic[\"Cabin_Bool\"] == 1, \"Survived\"].shape[0],\n",
    "                                            titanic.loc[titanic[\"Cabin_Bool\"] == 0, \"Survived\"].shape[0]])\n",
    "\n",
    "print('Test Stat = %.4f, p-value = %.4f' % (test_stat, pvalue))"
   ]
  },
  {
   "cell_type": "markdown",
   "id": "e48d774e",
   "metadata": {
    "papermill": {
     "duration": 0.057596,
     "end_time": "2023-11-13T12:55:40.328839",
     "exception": false,
     "start_time": "2023-11-13T12:55:40.271243",
     "status": "completed"
    },
    "tags": []
   },
   "source": [
    "<div style=\"border-radius:10px; border:#65647C solid; padding: 15px; background-color: #F8EDE3; font-size:100%; text-align:left\">\n",
    "\n",
    "<h3 align=\"left\"><font color='#7D6E83'><b>🗨️ Comment: </b></font></h3>\n",
    "\n",
    "* Testimiz p1 ve p2 oranları arasında fark olup, olmadığıdır.\n",
    "* p1 ve p2; kabin numarası olan ve olmayanların hayatta kalma oranlarıdır.\n",
    "* p-value < 0.05 olduğundan H0 reddedilmiştir.\n",
    "* p1 ile p2 arasında istatistiki olarak anlamlı bir fark vardır."
   ]
  },
  {
   "cell_type": "markdown",
   "id": "95c5bf0d",
   "metadata": {
    "papermill": {
     "duration": 0.055059,
     "end_time": "2023-11-13T12:55:40.440577",
     "exception": false,
     "start_time": "2023-11-13T12:55:40.385518",
     "status": "completed"
    },
    "tags": []
   },
   "source": [
    "----"
   ]
  },
  {
   "cell_type": "code",
   "execution_count": 136,
   "id": "b4ef901d",
   "metadata": {
    "execution": {
     "iopub.execute_input": "2023-11-13T12:55:40.552554Z",
     "iopub.status.busy": "2023-11-13T12:55:40.552192Z",
     "iopub.status.idle": "2023-11-13T12:55:40.560281Z",
     "shell.execute_reply": "2023-11-13T12:55:40.559355Z"
    },
    "papermill": {
     "duration": 0.06646,
     "end_time": "2023-11-13T12:55:40.562032",
     "exception": false,
     "start_time": "2023-11-13T12:55:40.495572",
     "status": "completed"
    },
    "tags": []
   },
   "outputs": [],
   "source": [
    "titanic.loc[((titanic['SibSp'] + titanic['Parch']) > 0), \"NEW_IS_ALONE\"] = \"NO\"\n",
    "titanic.loc[((titanic['SibSp'] + titanic['Parch']) == 0), \"NEW_IS_ALONE\"] = \"YES\""
   ]
  },
  {
   "cell_type": "code",
   "execution_count": 137,
   "id": "080de939",
   "metadata": {
    "execution": {
     "iopub.execute_input": "2023-11-13T12:55:40.677651Z",
     "iopub.status.busy": "2023-11-13T12:55:40.677334Z",
     "iopub.status.idle": "2023-11-13T12:55:40.686883Z",
     "shell.execute_reply": "2023-11-13T12:55:40.686066Z"
    },
    "papermill": {
     "duration": 0.068953,
     "end_time": "2023-11-13T12:55:40.688474",
     "exception": false,
     "start_time": "2023-11-13T12:55:40.619521",
     "status": "completed"
    },
    "tags": []
   },
   "outputs": [
    {
     "data": {
      "text/html": [
       "<div>\n",
       "<style scoped>\n",
       "    .dataframe tbody tr th:only-of-type {\n",
       "        vertical-align: middle;\n",
       "    }\n",
       "\n",
       "    .dataframe tbody tr th {\n",
       "        vertical-align: top;\n",
       "    }\n",
       "\n",
       "    .dataframe thead th {\n",
       "        text-align: right;\n",
       "    }\n",
       "</style>\n",
       "<table border=\"1\" class=\"dataframe\">\n",
       "  <thead>\n",
       "    <tr style=\"text-align: right;\">\n",
       "      <th></th>\n",
       "      <th>Survived</th>\n",
       "    </tr>\n",
       "    <tr>\n",
       "      <th>NEW_IS_ALONE</th>\n",
       "      <th></th>\n",
       "    </tr>\n",
       "  </thead>\n",
       "  <tbody>\n",
       "    <tr>\n",
       "      <th>NO</th>\n",
       "      <td>0.505650</td>\n",
       "    </tr>\n",
       "    <tr>\n",
       "      <th>YES</th>\n",
       "      <td>0.303538</td>\n",
       "    </tr>\n",
       "  </tbody>\n",
       "</table>\n",
       "</div>"
      ],
      "text/plain": [
       "              Survived\n",
       "NEW_IS_ALONE          \n",
       "NO            0.505650\n",
       "YES           0.303538"
      ]
     },
     "execution_count": 137,
     "metadata": {},
     "output_type": "execute_result"
    }
   ],
   "source": [
    "titanic.groupby(\"NEW_IS_ALONE\").agg({\"Survived\": \"mean\"})"
   ]
  },
  {
   "cell_type": "markdown",
   "id": "a86d4acb",
   "metadata": {
    "papermill": {
     "duration": 0.055416,
     "end_time": "2023-11-13T12:55:40.799722",
     "exception": false,
     "start_time": "2023-11-13T12:55:40.744306",
     "status": "completed"
    },
    "tags": []
   },
   "source": [
    "<div style=\"border-radius:10px; border:#65647C solid; padding: 15px; background-color: #F8EDE3; font-size:100%; text-align:left\">\n",
    "\n",
    "<h3 align=\"left\"><font color='#7D6E83'><b>🗨️ Comment: </b></font></h3>\n",
    "\n",
    "* NO : yanında ailesi olanlar, YES: yalnız olanlar\n",
    "* Görüldüğü üzere yanında ailesi olanların hayatta kalma oranı daha yüksek gözükmektedir. Fakat bunu istatistiki olarak kanıtlamamız gerekmektedir. Çünkü şans eseri ortaya çıkmış veya çok değişkenli etkiler olabilir."
   ]
  },
  {
   "cell_type": "code",
   "execution_count": 138,
   "id": "580e14fa",
   "metadata": {
    "execution": {
     "iopub.execute_input": "2023-11-13T12:55:40.914447Z",
     "iopub.status.busy": "2023-11-13T12:55:40.914102Z",
     "iopub.status.idle": "2023-11-13T12:55:40.923232Z",
     "shell.execute_reply": "2023-11-13T12:55:40.922000Z"
    },
    "papermill": {
     "duration": 0.068927,
     "end_time": "2023-11-13T12:55:40.925009",
     "exception": false,
     "start_time": "2023-11-13T12:55:40.856082",
     "status": "completed"
    },
    "tags": []
   },
   "outputs": [
    {
     "name": "stdout",
     "output_type": "stream",
     "text": [
      "Test Stat = -6.0704, p-value = 0.0000\n"
     ]
    }
   ],
   "source": [
    "test_stat, pvalue = proportions_ztest(count=[titanic.loc[titanic[\"NEW_IS_ALONE\"] == \"YES\", \"Survived\"].sum(),\n",
    "                                             titanic.loc[titanic[\"NEW_IS_ALONE\"] == \"NO\", \"Survived\"].sum()],\n",
    "\n",
    "                                      nobs=[titanic.loc[titanic[\"NEW_IS_ALONE\"] == \"YES\", \"Survived\"].shape[0],\n",
    "                                            titanic.loc[titanic[\"NEW_IS_ALONE\"] == \"NO\", \"Survived\"].shape[0]])\n",
    "\n",
    "print('Test Stat = %.4f, p-value = %.4f' % (test_stat, pvalue))"
   ]
  },
  {
   "cell_type": "markdown",
   "id": "1fab489f",
   "metadata": {
    "papermill": {
     "duration": 0.055318,
     "end_time": "2023-11-13T12:55:41.037929",
     "exception": false,
     "start_time": "2023-11-13T12:55:40.982611",
     "status": "completed"
    },
    "tags": []
   },
   "source": [
    "<div style=\"border-radius:10px; border:#65647C solid; padding: 15px; background-color: #F8EDE3; font-size:100%; text-align:left\">\n",
    "\n",
    "<h3 align=\"left\"><font color='#7D6E83'><b>🗨️ Comment: </b></font></h3>\n",
    "\n",
    "* p-value < 0.05 olduğundan H0 reddedilmiştir.\n",
    "* Bu değişken bir anlam ifade edebilir."
   ]
  },
  {
   "cell_type": "markdown",
   "id": "dcec60a6",
   "metadata": {
    "papermill": {
     "duration": 0.055227,
     "end_time": "2023-11-13T12:55:41.148609",
     "exception": false,
     "start_time": "2023-11-13T12:55:41.093382",
     "status": "completed"
    },
    "tags": []
   },
   "source": [
    "<a id = \"19\"></a><br>\n",
    "<p style=\"font-family: 'Pacifico', cursive; font-weight: bold; letter-spacing: 2px; color: #556B2F; font-size: 160%; text-align: left; padding: 0px; border-bottom: 3px solid\">✨Text Features✨</p>"
   ]
  },
  {
   "cell_type": "code",
   "execution_count": 139,
   "id": "ffef0879",
   "metadata": {
    "execution": {
     "iopub.execute_input": "2023-11-13T12:55:41.260303Z",
     "iopub.status.busy": "2023-11-13T12:55:41.259952Z",
     "iopub.status.idle": "2023-11-13T12:55:41.265029Z",
     "shell.execute_reply": "2023-11-13T12:55:41.264249Z"
    },
    "papermill": {
     "duration": 0.063649,
     "end_time": "2023-11-13T12:55:41.267122",
     "exception": false,
     "start_time": "2023-11-13T12:55:41.203473",
     "status": "completed"
    },
    "tags": []
   },
   "outputs": [],
   "source": [
    "titanic = titanic_.copy()"
   ]
  },
  {
   "cell_type": "code",
   "execution_count": 140,
   "id": "0ba0beaf",
   "metadata": {
    "execution": {
     "iopub.execute_input": "2023-11-13T12:55:41.385820Z",
     "iopub.status.busy": "2023-11-13T12:55:41.385464Z",
     "iopub.status.idle": "2023-11-13T12:55:41.390860Z",
     "shell.execute_reply": "2023-11-13T12:55:41.389963Z"
    },
    "papermill": {
     "duration": 0.067377,
     "end_time": "2023-11-13T12:55:41.393194",
     "exception": false,
     "start_time": "2023-11-13T12:55:41.325817",
     "status": "completed"
    },
    "tags": []
   },
   "outputs": [],
   "source": [
    "# Letter count;\n",
    "\n",
    "titanic[\"New_Name_Count\"] = titanic[\"Name\"].str.len()"
   ]
  },
  {
   "cell_type": "code",
   "execution_count": 141,
   "id": "393cf4b9",
   "metadata": {
    "execution": {
     "iopub.execute_input": "2023-11-13T12:55:41.510903Z",
     "iopub.status.busy": "2023-11-13T12:55:41.510534Z",
     "iopub.status.idle": "2023-11-13T12:55:41.517316Z",
     "shell.execute_reply": "2023-11-13T12:55:41.516116Z"
    },
    "papermill": {
     "duration": 0.066168,
     "end_time": "2023-11-13T12:55:41.519205",
     "exception": false,
     "start_time": "2023-11-13T12:55:41.453037",
     "status": "completed"
    },
    "tags": []
   },
   "outputs": [],
   "source": [
    "# Word count;\n",
    "\n",
    "titanic[\"New_Name_Word_Count\"] = titanic[\"Name\"].apply(lambda x: len(str(x).split(\" \")))"
   ]
  },
  {
   "cell_type": "code",
   "execution_count": 142,
   "id": "0a323e61",
   "metadata": {
    "execution": {
     "iopub.execute_input": "2023-11-13T12:55:41.635259Z",
     "iopub.status.busy": "2023-11-13T12:55:41.634887Z",
     "iopub.status.idle": "2023-11-13T12:55:41.650780Z",
     "shell.execute_reply": "2023-11-13T12:55:41.649521Z"
    },
    "papermill": {
     "duration": 0.07637,
     "end_time": "2023-11-13T12:55:41.652954",
     "exception": false,
     "start_time": "2023-11-13T12:55:41.576584",
     "status": "completed"
    },
    "tags": []
   },
   "outputs": [
    {
     "data": {
      "text/html": [
       "<div>\n",
       "<style scoped>\n",
       "    .dataframe tbody tr th:only-of-type {\n",
       "        vertical-align: middle;\n",
       "    }\n",
       "\n",
       "    .dataframe tbody tr th {\n",
       "        vertical-align: top;\n",
       "    }\n",
       "\n",
       "    .dataframe thead tr th {\n",
       "        text-align: left;\n",
       "    }\n",
       "\n",
       "    .dataframe thead tr:last-of-type th {\n",
       "        text-align: right;\n",
       "    }\n",
       "</style>\n",
       "<table border=\"1\" class=\"dataframe\">\n",
       "  <thead>\n",
       "    <tr>\n",
       "      <th></th>\n",
       "      <th colspan=\"2\" halign=\"left\">Survived</th>\n",
       "    </tr>\n",
       "    <tr>\n",
       "      <th></th>\n",
       "      <th>mean</th>\n",
       "      <th>count</th>\n",
       "    </tr>\n",
       "    <tr>\n",
       "      <th>New_Special</th>\n",
       "      <th></th>\n",
       "      <th></th>\n",
       "    </tr>\n",
       "  </thead>\n",
       "  <tbody>\n",
       "    <tr>\n",
       "      <th>0</th>\n",
       "      <td>0.38252</td>\n",
       "      <td>881</td>\n",
       "    </tr>\n",
       "    <tr>\n",
       "      <th>1</th>\n",
       "      <td>0.50000</td>\n",
       "      <td>10</td>\n",
       "    </tr>\n",
       "  </tbody>\n",
       "</table>\n",
       "</div>"
      ],
      "text/plain": [
       "            Survived      \n",
       "                mean count\n",
       "New_Special               \n",
       "0            0.38252   881\n",
       "1            0.50000    10"
      ]
     },
     "execution_count": 142,
     "metadata": {},
     "output_type": "execute_result"
    }
   ],
   "source": [
    "# Catching Special Words;\n",
    "\n",
    "titanic[\"New_Special\"] = titanic[\"Name\"].apply(lambda x: len([x for x in x.split() if x.startswith(\"Dr\")]))\n",
    "\n",
    "titanic.groupby(\"New_Special\").agg({\"Survived\": [\"mean\",\"count\"]})"
   ]
  },
  {
   "cell_type": "markdown",
   "id": "4c9776eb",
   "metadata": {
    "papermill": {
     "duration": 0.054918,
     "end_time": "2023-11-13T12:55:41.764594",
     "exception": false,
     "start_time": "2023-11-13T12:55:41.709676",
     "status": "completed"
    },
    "tags": []
   },
   "source": [
    "<div style=\"border-radius:10px; border:#65647C solid; padding: 15px; background-color: #F8EDE3; font-size:100%; text-align:left\">\n",
    "\n",
    "<h3 align=\"left\"><font color='#7D6E83'><b>🗨️ Comment: </b></font></h3>\n",
    "\n",
    "* Bu bölümde bir değişken üzerinden yeni değişkenler çıkartmak için denemeler yaptık.\n",
    "* İsimler içeren bir değişkenden gerektiği zaman isimlerin uzunluğu, kelime sayıları veya içinde özel ünvanlar içeren kişilerin sayısını tespit edip bu değerleri yeni değişkenlere atayabiliriz.\n",
    "    \n",
    "Örneğin; isminde \"Dr\" olan kişi sayısı 10'muş."
   ]
  },
  {
   "cell_type": "markdown",
   "id": "ea399bac",
   "metadata": {
    "papermill": {
     "duration": 0.059337,
     "end_time": "2023-11-13T12:55:41.880778",
     "exception": false,
     "start_time": "2023-11-13T12:55:41.821441",
     "status": "completed"
    },
    "tags": []
   },
   "source": [
    "<a id = \"20\"></a><br>\n",
    "<p style=\"font-family: 'Pacifico', cursive; font-weight: bold; letter-spacing: 2px; color: #556B2F; font-size: 160%; text-align: left; padding: 0px; border-bottom: 3px solid\">✨Regex Features✨</p>"
   ]
  },
  {
   "cell_type": "code",
   "execution_count": 143,
   "id": "0ebf16c9",
   "metadata": {
    "execution": {
     "iopub.execute_input": "2023-11-13T12:55:41.998493Z",
     "iopub.status.busy": "2023-11-13T12:55:41.997910Z",
     "iopub.status.idle": "2023-11-13T12:55:42.011948Z",
     "shell.execute_reply": "2023-11-13T12:55:42.011016Z"
    },
    "papermill": {
     "duration": 0.07641,
     "end_time": "2023-11-13T12:55:42.013478",
     "exception": false,
     "start_time": "2023-11-13T12:55:41.937068",
     "status": "completed"
    },
    "tags": []
   },
   "outputs": [
    {
     "data": {
      "text/html": [
       "<div>\n",
       "<style scoped>\n",
       "    .dataframe tbody tr th:only-of-type {\n",
       "        vertical-align: middle;\n",
       "    }\n",
       "\n",
       "    .dataframe tbody tr th {\n",
       "        vertical-align: top;\n",
       "    }\n",
       "\n",
       "    .dataframe thead th {\n",
       "        text-align: right;\n",
       "    }\n",
       "</style>\n",
       "<table border=\"1\" class=\"dataframe\">\n",
       "  <thead>\n",
       "    <tr style=\"text-align: right;\">\n",
       "      <th></th>\n",
       "      <th>PassengerId</th>\n",
       "      <th>Survived</th>\n",
       "      <th>Pclass</th>\n",
       "      <th>Name</th>\n",
       "      <th>Sex</th>\n",
       "      <th>Age</th>\n",
       "      <th>SibSp</th>\n",
       "      <th>Parch</th>\n",
       "      <th>Ticket</th>\n",
       "      <th>Fare</th>\n",
       "      <th>Cabin</th>\n",
       "      <th>Embarked</th>\n",
       "      <th>New_Name_Count</th>\n",
       "      <th>New_Name_Word_Count</th>\n",
       "      <th>New_Special</th>\n",
       "    </tr>\n",
       "  </thead>\n",
       "  <tbody>\n",
       "    <tr>\n",
       "      <th>0</th>\n",
       "      <td>1</td>\n",
       "      <td>0</td>\n",
       "      <td>3</td>\n",
       "      <td>Braund, Mr. Owen Harris</td>\n",
       "      <td>male</td>\n",
       "      <td>22.0</td>\n",
       "      <td>1</td>\n",
       "      <td>0</td>\n",
       "      <td>A/5 21171</td>\n",
       "      <td>7.2500</td>\n",
       "      <td>NaN</td>\n",
       "      <td>S</td>\n",
       "      <td>23</td>\n",
       "      <td>4</td>\n",
       "      <td>0</td>\n",
       "    </tr>\n",
       "    <tr>\n",
       "      <th>1</th>\n",
       "      <td>2</td>\n",
       "      <td>1</td>\n",
       "      <td>1</td>\n",
       "      <td>Cumings, Mrs. John Bradley (Florence Briggs Th...</td>\n",
       "      <td>female</td>\n",
       "      <td>38.0</td>\n",
       "      <td>1</td>\n",
       "      <td>0</td>\n",
       "      <td>PC 17599</td>\n",
       "      <td>71.2833</td>\n",
       "      <td>C85</td>\n",
       "      <td>C</td>\n",
       "      <td>51</td>\n",
       "      <td>7</td>\n",
       "      <td>0</td>\n",
       "    </tr>\n",
       "    <tr>\n",
       "      <th>2</th>\n",
       "      <td>3</td>\n",
       "      <td>1</td>\n",
       "      <td>3</td>\n",
       "      <td>Heikkinen, Miss. Laina</td>\n",
       "      <td>female</td>\n",
       "      <td>26.0</td>\n",
       "      <td>0</td>\n",
       "      <td>0</td>\n",
       "      <td>STON/O2. 3101282</td>\n",
       "      <td>7.9250</td>\n",
       "      <td>NaN</td>\n",
       "      <td>S</td>\n",
       "      <td>22</td>\n",
       "      <td>3</td>\n",
       "      <td>0</td>\n",
       "    </tr>\n",
       "    <tr>\n",
       "      <th>3</th>\n",
       "      <td>4</td>\n",
       "      <td>1</td>\n",
       "      <td>1</td>\n",
       "      <td>Futrelle, Mrs. Jacques Heath (Lily May Peel)</td>\n",
       "      <td>female</td>\n",
       "      <td>35.0</td>\n",
       "      <td>1</td>\n",
       "      <td>0</td>\n",
       "      <td>113803</td>\n",
       "      <td>53.1000</td>\n",
       "      <td>C123</td>\n",
       "      <td>S</td>\n",
       "      <td>44</td>\n",
       "      <td>7</td>\n",
       "      <td>0</td>\n",
       "    </tr>\n",
       "    <tr>\n",
       "      <th>4</th>\n",
       "      <td>5</td>\n",
       "      <td>0</td>\n",
       "      <td>3</td>\n",
       "      <td>Allen, Mr. William Henry</td>\n",
       "      <td>male</td>\n",
       "      <td>35.0</td>\n",
       "      <td>0</td>\n",
       "      <td>0</td>\n",
       "      <td>373450</td>\n",
       "      <td>8.0500</td>\n",
       "      <td>NaN</td>\n",
       "      <td>S</td>\n",
       "      <td>24</td>\n",
       "      <td>4</td>\n",
       "      <td>0</td>\n",
       "    </tr>\n",
       "  </tbody>\n",
       "</table>\n",
       "</div>"
      ],
      "text/plain": [
       "   PassengerId  Survived  Pclass  \\\n",
       "0            1         0       3   \n",
       "1            2         1       1   \n",
       "2            3         1       3   \n",
       "3            4         1       1   \n",
       "4            5         0       3   \n",
       "\n",
       "                                                Name     Sex   Age  SibSp  \\\n",
       "0                            Braund, Mr. Owen Harris    male  22.0      1   \n",
       "1  Cumings, Mrs. John Bradley (Florence Briggs Th...  female  38.0      1   \n",
       "2                             Heikkinen, Miss. Laina  female  26.0      0   \n",
       "3       Futrelle, Mrs. Jacques Heath (Lily May Peel)  female  35.0      1   \n",
       "4                           Allen, Mr. William Henry    male  35.0      0   \n",
       "\n",
       "   Parch            Ticket     Fare Cabin Embarked  New_Name_Count  \\\n",
       "0      0         A/5 21171   7.2500   NaN        S              23   \n",
       "1      0          PC 17599  71.2833   C85        C              51   \n",
       "2      0  STON/O2. 3101282   7.9250   NaN        S              22   \n",
       "3      0            113803  53.1000  C123        S              44   \n",
       "4      0            373450   8.0500   NaN        S              24   \n",
       "\n",
       "   New_Name_Word_Count  New_Special  \n",
       "0                    4            0  \n",
       "1                    7            0  \n",
       "2                    3            0  \n",
       "3                    7            0  \n",
       "4                    4            0  "
      ]
     },
     "execution_count": 143,
     "metadata": {},
     "output_type": "execute_result"
    }
   ],
   "source": [
    "titanic.head()"
   ]
  },
  {
   "cell_type": "code",
   "execution_count": 144,
   "id": "fe994f6b",
   "metadata": {
    "execution": {
     "iopub.execute_input": "2023-11-13T12:55:42.129065Z",
     "iopub.status.busy": "2023-11-13T12:55:42.128687Z",
     "iopub.status.idle": "2023-11-13T12:55:42.135029Z",
     "shell.execute_reply": "2023-11-13T12:55:42.133898Z"
    },
    "papermill": {
     "duration": 0.066514,
     "end_time": "2023-11-13T12:55:42.136979",
     "exception": false,
     "start_time": "2023-11-13T12:55:42.070465",
     "status": "completed"
    },
    "tags": []
   },
   "outputs": [],
   "source": [
    "titanic['New_Title'] = titanic.Name.str.extract(' ([A-Za-z]+)\\.', expand=False)"
   ]
  },
  {
   "cell_type": "code",
   "execution_count": 145,
   "id": "ba880900",
   "metadata": {
    "execution": {
     "iopub.execute_input": "2023-11-13T12:55:42.259388Z",
     "iopub.status.busy": "2023-11-13T12:55:42.257476Z",
     "iopub.status.idle": "2023-11-13T12:55:42.274089Z",
     "shell.execute_reply": "2023-11-13T12:55:42.273027Z"
    },
    "papermill": {
     "duration": 0.080281,
     "end_time": "2023-11-13T12:55:42.275718",
     "exception": false,
     "start_time": "2023-11-13T12:55:42.195437",
     "status": "completed"
    },
    "tags": []
   },
   "outputs": [
    {
     "data": {
      "text/html": [
       "<div>\n",
       "<style scoped>\n",
       "    .dataframe tbody tr th:only-of-type {\n",
       "        vertical-align: middle;\n",
       "    }\n",
       "\n",
       "    .dataframe tbody tr th {\n",
       "        vertical-align: top;\n",
       "    }\n",
       "\n",
       "    .dataframe thead tr th {\n",
       "        text-align: left;\n",
       "    }\n",
       "\n",
       "    .dataframe thead tr:last-of-type th {\n",
       "        text-align: right;\n",
       "    }\n",
       "</style>\n",
       "<table border=\"1\" class=\"dataframe\">\n",
       "  <thead>\n",
       "    <tr>\n",
       "      <th></th>\n",
       "      <th>Survived</th>\n",
       "      <th colspan=\"2\" halign=\"left\">Age</th>\n",
       "    </tr>\n",
       "    <tr>\n",
       "      <th></th>\n",
       "      <th>mean</th>\n",
       "      <th>count</th>\n",
       "      <th>mean</th>\n",
       "    </tr>\n",
       "    <tr>\n",
       "      <th>New_Title</th>\n",
       "      <th></th>\n",
       "      <th></th>\n",
       "      <th></th>\n",
       "    </tr>\n",
       "  </thead>\n",
       "  <tbody>\n",
       "    <tr>\n",
       "      <th>Capt</th>\n",
       "      <td>0.000000</td>\n",
       "      <td>1</td>\n",
       "      <td>70.000000</td>\n",
       "    </tr>\n",
       "    <tr>\n",
       "      <th>Col</th>\n",
       "      <td>0.500000</td>\n",
       "      <td>2</td>\n",
       "      <td>58.000000</td>\n",
       "    </tr>\n",
       "    <tr>\n",
       "      <th>Countess</th>\n",
       "      <td>1.000000</td>\n",
       "      <td>1</td>\n",
       "      <td>33.000000</td>\n",
       "    </tr>\n",
       "    <tr>\n",
       "      <th>Don</th>\n",
       "      <td>0.000000</td>\n",
       "      <td>1</td>\n",
       "      <td>40.000000</td>\n",
       "    </tr>\n",
       "    <tr>\n",
       "      <th>Dr</th>\n",
       "      <td>0.428571</td>\n",
       "      <td>6</td>\n",
       "      <td>42.000000</td>\n",
       "    </tr>\n",
       "    <tr>\n",
       "      <th>Jonkheer</th>\n",
       "      <td>0.000000</td>\n",
       "      <td>1</td>\n",
       "      <td>38.000000</td>\n",
       "    </tr>\n",
       "    <tr>\n",
       "      <th>Lady</th>\n",
       "      <td>1.000000</td>\n",
       "      <td>1</td>\n",
       "      <td>48.000000</td>\n",
       "    </tr>\n",
       "    <tr>\n",
       "      <th>Major</th>\n",
       "      <td>0.500000</td>\n",
       "      <td>2</td>\n",
       "      <td>48.500000</td>\n",
       "    </tr>\n",
       "    <tr>\n",
       "      <th>Master</th>\n",
       "      <td>0.575000</td>\n",
       "      <td>36</td>\n",
       "      <td>4.574167</td>\n",
       "    </tr>\n",
       "    <tr>\n",
       "      <th>Miss</th>\n",
       "      <td>0.697802</td>\n",
       "      <td>146</td>\n",
       "      <td>21.773973</td>\n",
       "    </tr>\n",
       "    <tr>\n",
       "      <th>Mlle</th>\n",
       "      <td>1.000000</td>\n",
       "      <td>2</td>\n",
       "      <td>24.000000</td>\n",
       "    </tr>\n",
       "    <tr>\n",
       "      <th>Mme</th>\n",
       "      <td>1.000000</td>\n",
       "      <td>1</td>\n",
       "      <td>24.000000</td>\n",
       "    </tr>\n",
       "    <tr>\n",
       "      <th>Mr</th>\n",
       "      <td>0.156673</td>\n",
       "      <td>398</td>\n",
       "      <td>32.368090</td>\n",
       "    </tr>\n",
       "    <tr>\n",
       "      <th>Mrs</th>\n",
       "      <td>0.792000</td>\n",
       "      <td>108</td>\n",
       "      <td>35.898148</td>\n",
       "    </tr>\n",
       "    <tr>\n",
       "      <th>Ms</th>\n",
       "      <td>1.000000</td>\n",
       "      <td>1</td>\n",
       "      <td>28.000000</td>\n",
       "    </tr>\n",
       "    <tr>\n",
       "      <th>Rev</th>\n",
       "      <td>0.000000</td>\n",
       "      <td>6</td>\n",
       "      <td>43.166667</td>\n",
       "    </tr>\n",
       "    <tr>\n",
       "      <th>Sir</th>\n",
       "      <td>1.000000</td>\n",
       "      <td>1</td>\n",
       "      <td>49.000000</td>\n",
       "    </tr>\n",
       "  </tbody>\n",
       "</table>\n",
       "</div>"
      ],
      "text/plain": [
       "           Survived   Age           \n",
       "               mean count       mean\n",
       "New_Title                           \n",
       "Capt       0.000000     1  70.000000\n",
       "Col        0.500000     2  58.000000\n",
       "Countess   1.000000     1  33.000000\n",
       "Don        0.000000     1  40.000000\n",
       "Dr         0.428571     6  42.000000\n",
       "Jonkheer   0.000000     1  38.000000\n",
       "Lady       1.000000     1  48.000000\n",
       "Major      0.500000     2  48.500000\n",
       "Master     0.575000    36   4.574167\n",
       "Miss       0.697802   146  21.773973\n",
       "Mlle       1.000000     2  24.000000\n",
       "Mme        1.000000     1  24.000000\n",
       "Mr         0.156673   398  32.368090\n",
       "Mrs        0.792000   108  35.898148\n",
       "Ms         1.000000     1  28.000000\n",
       "Rev        0.000000     6  43.166667\n",
       "Sir        1.000000     1  49.000000"
      ]
     },
     "execution_count": 145,
     "metadata": {},
     "output_type": "execute_result"
    }
   ],
   "source": [
    "titanic[[\"New_Title\", \"Survived\", \"Age\"]].groupby([\"New_Title\"]).agg({\"Survived\": \"mean\", \"Age\": [\"count\", \"mean\"]})"
   ]
  },
  {
   "cell_type": "markdown",
   "id": "678566be",
   "metadata": {
    "papermill": {
     "duration": 0.058684,
     "end_time": "2023-11-13T12:55:42.392402",
     "exception": false,
     "start_time": "2023-11-13T12:55:42.333718",
     "status": "completed"
    },
    "tags": []
   },
   "source": [
    "<div style=\"border-radius:10px; border:#65647C solid; padding: 15px; background-color: #F8EDE3; font-size:100%; text-align:left\">\n",
    "\n",
    "<h3 align=\"left\"><font color='#7D6E83'><b>🗨️ Comment: </b></font></h3>\n",
    "\n",
    "* Burada yeni oluşturulan sınıfların frekanslarını ve ortalamalarını görüp çıkarımlarda bulunabiliriz."
   ]
  },
  {
   "cell_type": "markdown",
   "id": "5d3cef40",
   "metadata": {
    "papermill": {
     "duration": 0.056386,
     "end_time": "2023-11-13T12:55:42.507748",
     "exception": false,
     "start_time": "2023-11-13T12:55:42.451362",
     "status": "completed"
    },
    "tags": []
   },
   "source": [
    "<a id = \"14\"></a><br>\n",
    "<p style=\"font-family: 'Pacifico', cursive; font-weight: bold; letter-spacing: 2px; color: #556B2F; font-size: 160%; text-align: left; padding: 0px; border-bottom: 3px solid\">✨Date Features✨</p>"
   ]
  },
  {
   "cell_type": "code",
   "execution_count": 146,
   "id": "e503025b",
   "metadata": {
    "execution": {
     "iopub.execute_input": "2023-11-13T12:55:42.624111Z",
     "iopub.status.busy": "2023-11-13T12:55:42.622593Z",
     "iopub.status.idle": "2023-11-13T12:55:42.649452Z",
     "shell.execute_reply": "2023-11-13T12:55:42.648637Z"
    },
    "papermill": {
     "duration": 0.086992,
     "end_time": "2023-11-13T12:55:42.651637",
     "exception": false,
     "start_time": "2023-11-13T12:55:42.564645",
     "status": "completed"
    },
    "tags": []
   },
   "outputs": [],
   "source": [
    "course = pd.read_csv(\"/kaggle/input/course-reviewsdataset/course_reviews.csv\")"
   ]
  },
  {
   "cell_type": "code",
   "execution_count": 147,
   "id": "1c1b80ec",
   "metadata": {
    "execution": {
     "iopub.execute_input": "2023-11-13T12:55:42.770547Z",
     "iopub.status.busy": "2023-11-13T12:55:42.769755Z",
     "iopub.status.idle": "2023-11-13T12:55:42.784178Z",
     "shell.execute_reply": "2023-11-13T12:55:42.782649Z"
    },
    "papermill": {
     "duration": 0.0749,
     "end_time": "2023-11-13T12:55:42.786086",
     "exception": false,
     "start_time": "2023-11-13T12:55:42.711186",
     "status": "completed"
    },
    "tags": []
   },
   "outputs": [
    {
     "data": {
      "text/html": [
       "<div>\n",
       "<style scoped>\n",
       "    .dataframe tbody tr th:only-of-type {\n",
       "        vertical-align: middle;\n",
       "    }\n",
       "\n",
       "    .dataframe tbody tr th {\n",
       "        vertical-align: top;\n",
       "    }\n",
       "\n",
       "    .dataframe thead th {\n",
       "        text-align: right;\n",
       "    }\n",
       "</style>\n",
       "<table border=\"1\" class=\"dataframe\">\n",
       "  <thead>\n",
       "    <tr style=\"text-align: right;\">\n",
       "      <th></th>\n",
       "      <th>Rating</th>\n",
       "      <th>Timestamp</th>\n",
       "      <th>Enrolled</th>\n",
       "      <th>Progress</th>\n",
       "      <th>Questions Asked</th>\n",
       "      <th>Questions Answered</th>\n",
       "    </tr>\n",
       "  </thead>\n",
       "  <tbody>\n",
       "    <tr>\n",
       "      <th>0</th>\n",
       "      <td>5.0</td>\n",
       "      <td>2021-02-05 07:45:55</td>\n",
       "      <td>2021-01-25 15:12:08</td>\n",
       "      <td>5.0</td>\n",
       "      <td>0.0</td>\n",
       "      <td>0.0</td>\n",
       "    </tr>\n",
       "    <tr>\n",
       "      <th>1</th>\n",
       "      <td>5.0</td>\n",
       "      <td>2021-02-04 21:05:32</td>\n",
       "      <td>2021-02-04 20:43:40</td>\n",
       "      <td>1.0</td>\n",
       "      <td>0.0</td>\n",
       "      <td>0.0</td>\n",
       "    </tr>\n",
       "    <tr>\n",
       "      <th>2</th>\n",
       "      <td>4.5</td>\n",
       "      <td>2021-02-04 20:34:03</td>\n",
       "      <td>2019-07-04 23:23:27</td>\n",
       "      <td>1.0</td>\n",
       "      <td>0.0</td>\n",
       "      <td>0.0</td>\n",
       "    </tr>\n",
       "    <tr>\n",
       "      <th>3</th>\n",
       "      <td>5.0</td>\n",
       "      <td>2021-02-04 16:56:28</td>\n",
       "      <td>2021-02-04 14:41:29</td>\n",
       "      <td>10.0</td>\n",
       "      <td>0.0</td>\n",
       "      <td>0.0</td>\n",
       "    </tr>\n",
       "    <tr>\n",
       "      <th>4</th>\n",
       "      <td>4.0</td>\n",
       "      <td>2021-02-04 15:00:24</td>\n",
       "      <td>2020-10-13 03:10:07</td>\n",
       "      <td>10.0</td>\n",
       "      <td>0.0</td>\n",
       "      <td>0.0</td>\n",
       "    </tr>\n",
       "  </tbody>\n",
       "</table>\n",
       "</div>"
      ],
      "text/plain": [
       "   Rating            Timestamp             Enrolled  Progress  \\\n",
       "0     5.0  2021-02-05 07:45:55  2021-01-25 15:12:08       5.0   \n",
       "1     5.0  2021-02-04 21:05:32  2021-02-04 20:43:40       1.0   \n",
       "2     4.5  2021-02-04 20:34:03  2019-07-04 23:23:27       1.0   \n",
       "3     5.0  2021-02-04 16:56:28  2021-02-04 14:41:29      10.0   \n",
       "4     4.0  2021-02-04 15:00:24  2020-10-13 03:10:07      10.0   \n",
       "\n",
       "   Questions Asked  Questions Answered  \n",
       "0              0.0                 0.0  \n",
       "1              0.0                 0.0  \n",
       "2              0.0                 0.0  \n",
       "3              0.0                 0.0  \n",
       "4              0.0                 0.0  "
      ]
     },
     "execution_count": 147,
     "metadata": {},
     "output_type": "execute_result"
    }
   ],
   "source": [
    "course.head()"
   ]
  },
  {
   "cell_type": "code",
   "execution_count": 148,
   "id": "38002675",
   "metadata": {
    "execution": {
     "iopub.execute_input": "2023-11-13T12:55:42.905591Z",
     "iopub.status.busy": "2023-11-13T12:55:42.904552Z",
     "iopub.status.idle": "2023-11-13T12:55:42.918363Z",
     "shell.execute_reply": "2023-11-13T12:55:42.917102Z"
    },
    "papermill": {
     "duration": 0.075068,
     "end_time": "2023-11-13T12:55:42.920307",
     "exception": false,
     "start_time": "2023-11-13T12:55:42.845239",
     "status": "completed"
    },
    "tags": []
   },
   "outputs": [
    {
     "name": "stdout",
     "output_type": "stream",
     "text": [
      "<class 'pandas.core.frame.DataFrame'>\n",
      "RangeIndex: 4323 entries, 0 to 4322\n",
      "Data columns (total 6 columns):\n",
      " #   Column              Non-Null Count  Dtype  \n",
      "---  ------              --------------  -----  \n",
      " 0   Rating              4323 non-null   float64\n",
      " 1   Timestamp           4323 non-null   object \n",
      " 2   Enrolled            4323 non-null   object \n",
      " 3   Progress            4323 non-null   float64\n",
      " 4   Questions Asked     4323 non-null   float64\n",
      " 5   Questions Answered  4323 non-null   float64\n",
      "dtypes: float64(4), object(2)\n",
      "memory usage: 202.8+ KB\n"
     ]
    }
   ],
   "source": [
    "course.info()"
   ]
  },
  {
   "cell_type": "code",
   "execution_count": 149,
   "id": "23852f2e",
   "metadata": {
    "execution": {
     "iopub.execute_input": "2023-11-13T12:55:43.040248Z",
     "iopub.status.busy": "2023-11-13T12:55:43.039945Z",
     "iopub.status.idle": "2023-11-13T12:55:43.047357Z",
     "shell.execute_reply": "2023-11-13T12:55:43.046785Z"
    },
    "papermill": {
     "duration": 0.068348,
     "end_time": "2023-11-13T12:55:43.049052",
     "exception": false,
     "start_time": "2023-11-13T12:55:42.980704",
     "status": "completed"
    },
    "tags": []
   },
   "outputs": [],
   "source": [
    "course['Timestamp'] = pd.to_datetime(course[\"Timestamp\"], format=\"%Y-%m-%d %H:%M:%S\")"
   ]
  },
  {
   "cell_type": "code",
   "execution_count": 150,
   "id": "130c36be",
   "metadata": {
    "execution": {
     "iopub.execute_input": "2023-11-13T12:55:43.167099Z",
     "iopub.status.busy": "2023-11-13T12:55:43.166432Z",
     "iopub.status.idle": "2023-11-13T12:55:43.173543Z",
     "shell.execute_reply": "2023-11-13T12:55:43.172270Z"
    },
    "papermill": {
     "duration": 0.068949,
     "end_time": "2023-11-13T12:55:43.175674",
     "exception": false,
     "start_time": "2023-11-13T12:55:43.106725",
     "status": "completed"
    },
    "tags": []
   },
   "outputs": [],
   "source": [
    "course['Year'] = course['Timestamp'].dt.year"
   ]
  },
  {
   "cell_type": "code",
   "execution_count": 151,
   "id": "f0c4839e",
   "metadata": {
    "execution": {
     "iopub.execute_input": "2023-11-13T12:55:43.294196Z",
     "iopub.status.busy": "2023-11-13T12:55:43.293636Z",
     "iopub.status.idle": "2023-11-13T12:55:43.299179Z",
     "shell.execute_reply": "2023-11-13T12:55:43.298177Z"
    },
    "papermill": {
     "duration": 0.0679,
     "end_time": "2023-11-13T12:55:43.301229",
     "exception": false,
     "start_time": "2023-11-13T12:55:43.233329",
     "status": "completed"
    },
    "tags": []
   },
   "outputs": [],
   "source": [
    "course['Month'] = course['Timestamp'].dt.month"
   ]
  },
  {
   "cell_type": "code",
   "execution_count": 152,
   "id": "ed8129ed",
   "metadata": {
    "execution": {
     "iopub.execute_input": "2023-11-13T12:55:43.419621Z",
     "iopub.status.busy": "2023-11-13T12:55:43.419284Z",
     "iopub.status.idle": "2023-11-13T12:55:43.426158Z",
     "shell.execute_reply": "2023-11-13T12:55:43.425008Z"
    },
    "papermill": {
     "duration": 0.067344,
     "end_time": "2023-11-13T12:55:43.428520",
     "exception": false,
     "start_time": "2023-11-13T12:55:43.361176",
     "status": "completed"
    },
    "tags": []
   },
   "outputs": [],
   "source": [
    "# İki tarih arasındaki yıl farkı;\n",
    "course['Year_Diff'] = date.today().year - course['Timestamp'].dt.year"
   ]
  },
  {
   "cell_type": "code",
   "execution_count": 153,
   "id": "5fa54948",
   "metadata": {
    "execution": {
     "iopub.execute_input": "2023-11-13T12:55:43.547097Z",
     "iopub.status.busy": "2023-11-13T12:55:43.546343Z",
     "iopub.status.idle": "2023-11-13T12:55:43.552649Z",
     "shell.execute_reply": "2023-11-13T12:55:43.551935Z"
    },
    "papermill": {
     "duration": 0.067309,
     "end_time": "2023-11-13T12:55:43.555225",
     "exception": false,
     "start_time": "2023-11-13T12:55:43.487916",
     "status": "completed"
    },
    "tags": []
   },
   "outputs": [],
   "source": [
    "# İki tarih arasındaki ay farkı;\n",
    "\n",
    "course['Month_Diff'] = (date.today().year - course['Timestamp'].dt.year) * 12 + date.today().month - course['Timestamp'].dt.month"
   ]
  },
  {
   "cell_type": "code",
   "execution_count": 154,
   "id": "973b08a5",
   "metadata": {
    "execution": {
     "iopub.execute_input": "2023-11-13T12:55:43.676156Z",
     "iopub.status.busy": "2023-11-13T12:55:43.675698Z",
     "iopub.status.idle": "2023-11-13T12:55:43.682604Z",
     "shell.execute_reply": "2023-11-13T12:55:43.681128Z"
    },
    "papermill": {
     "duration": 0.068423,
     "end_time": "2023-11-13T12:55:43.684615",
     "exception": false,
     "start_time": "2023-11-13T12:55:43.616192",
     "status": "completed"
    },
    "tags": []
   },
   "outputs": [],
   "source": [
    "# Day names;\n",
    "\n",
    "course['Day_Name'] = course['Timestamp'].dt.day_name()"
   ]
  },
  {
   "cell_type": "code",
   "execution_count": 155,
   "id": "f047068b",
   "metadata": {
    "execution": {
     "iopub.execute_input": "2023-11-13T12:55:43.802175Z",
     "iopub.status.busy": "2023-11-13T12:55:43.801571Z",
     "iopub.status.idle": "2023-11-13T12:55:43.816032Z",
     "shell.execute_reply": "2023-11-13T12:55:43.815131Z"
    },
    "papermill": {
     "duration": 0.075938,
     "end_time": "2023-11-13T12:55:43.818343",
     "exception": false,
     "start_time": "2023-11-13T12:55:43.742405",
     "status": "completed"
    },
    "tags": []
   },
   "outputs": [
    {
     "data": {
      "text/html": [
       "<div>\n",
       "<style scoped>\n",
       "    .dataframe tbody tr th:only-of-type {\n",
       "        vertical-align: middle;\n",
       "    }\n",
       "\n",
       "    .dataframe tbody tr th {\n",
       "        vertical-align: top;\n",
       "    }\n",
       "\n",
       "    .dataframe thead th {\n",
       "        text-align: right;\n",
       "    }\n",
       "</style>\n",
       "<table border=\"1\" class=\"dataframe\">\n",
       "  <thead>\n",
       "    <tr style=\"text-align: right;\">\n",
       "      <th></th>\n",
       "      <th>Rating</th>\n",
       "      <th>Timestamp</th>\n",
       "      <th>Enrolled</th>\n",
       "      <th>Progress</th>\n",
       "      <th>Questions Asked</th>\n",
       "      <th>Questions Answered</th>\n",
       "      <th>Year</th>\n",
       "      <th>Month</th>\n",
       "      <th>Year_Diff</th>\n",
       "      <th>Month_Diff</th>\n",
       "      <th>Day_Name</th>\n",
       "    </tr>\n",
       "  </thead>\n",
       "  <tbody>\n",
       "    <tr>\n",
       "      <th>0</th>\n",
       "      <td>5.0</td>\n",
       "      <td>2021-02-05 07:45:55</td>\n",
       "      <td>2021-01-25 15:12:08</td>\n",
       "      <td>5.0</td>\n",
       "      <td>0.0</td>\n",
       "      <td>0.0</td>\n",
       "      <td>2021</td>\n",
       "      <td>2</td>\n",
       "      <td>2</td>\n",
       "      <td>33</td>\n",
       "      <td>Friday</td>\n",
       "    </tr>\n",
       "    <tr>\n",
       "      <th>1</th>\n",
       "      <td>5.0</td>\n",
       "      <td>2021-02-04 21:05:32</td>\n",
       "      <td>2021-02-04 20:43:40</td>\n",
       "      <td>1.0</td>\n",
       "      <td>0.0</td>\n",
       "      <td>0.0</td>\n",
       "      <td>2021</td>\n",
       "      <td>2</td>\n",
       "      <td>2</td>\n",
       "      <td>33</td>\n",
       "      <td>Thursday</td>\n",
       "    </tr>\n",
       "    <tr>\n",
       "      <th>2</th>\n",
       "      <td>4.5</td>\n",
       "      <td>2021-02-04 20:34:03</td>\n",
       "      <td>2019-07-04 23:23:27</td>\n",
       "      <td>1.0</td>\n",
       "      <td>0.0</td>\n",
       "      <td>0.0</td>\n",
       "      <td>2021</td>\n",
       "      <td>2</td>\n",
       "      <td>2</td>\n",
       "      <td>33</td>\n",
       "      <td>Thursday</td>\n",
       "    </tr>\n",
       "    <tr>\n",
       "      <th>3</th>\n",
       "      <td>5.0</td>\n",
       "      <td>2021-02-04 16:56:28</td>\n",
       "      <td>2021-02-04 14:41:29</td>\n",
       "      <td>10.0</td>\n",
       "      <td>0.0</td>\n",
       "      <td>0.0</td>\n",
       "      <td>2021</td>\n",
       "      <td>2</td>\n",
       "      <td>2</td>\n",
       "      <td>33</td>\n",
       "      <td>Thursday</td>\n",
       "    </tr>\n",
       "    <tr>\n",
       "      <th>4</th>\n",
       "      <td>4.0</td>\n",
       "      <td>2021-02-04 15:00:24</td>\n",
       "      <td>2020-10-13 03:10:07</td>\n",
       "      <td>10.0</td>\n",
       "      <td>0.0</td>\n",
       "      <td>0.0</td>\n",
       "      <td>2021</td>\n",
       "      <td>2</td>\n",
       "      <td>2</td>\n",
       "      <td>33</td>\n",
       "      <td>Thursday</td>\n",
       "    </tr>\n",
       "  </tbody>\n",
       "</table>\n",
       "</div>"
      ],
      "text/plain": [
       "   Rating           Timestamp             Enrolled  Progress  Questions Asked  \\\n",
       "0     5.0 2021-02-05 07:45:55  2021-01-25 15:12:08       5.0              0.0   \n",
       "1     5.0 2021-02-04 21:05:32  2021-02-04 20:43:40       1.0              0.0   \n",
       "2     4.5 2021-02-04 20:34:03  2019-07-04 23:23:27       1.0              0.0   \n",
       "3     5.0 2021-02-04 16:56:28  2021-02-04 14:41:29      10.0              0.0   \n",
       "4     4.0 2021-02-04 15:00:24  2020-10-13 03:10:07      10.0              0.0   \n",
       "\n",
       "   Questions Answered  Year  Month  Year_Diff  Month_Diff  Day_Name  \n",
       "0                 0.0  2021      2          2          33    Friday  \n",
       "1                 0.0  2021      2          2          33  Thursday  \n",
       "2                 0.0  2021      2          2          33  Thursday  \n",
       "3                 0.0  2021      2          2          33  Thursday  \n",
       "4                 0.0  2021      2          2          33  Thursday  "
      ]
     },
     "execution_count": 155,
     "metadata": {},
     "output_type": "execute_result"
    }
   ],
   "source": [
    "course.head()"
   ]
  },
  {
   "cell_type": "markdown",
   "id": "6c8d900d",
   "metadata": {
    "papermill": {
     "duration": 0.059541,
     "end_time": "2023-11-13T12:55:43.935585",
     "exception": false,
     "start_time": "2023-11-13T12:55:43.876044",
     "status": "completed"
    },
    "tags": []
   },
   "source": [
    "<a id = \"22\"></a><br>\n",
    "<p style=\"font-family: 'Pacifico', cursive; font-weight: bold; letter-spacing: 2px; color: #556B2F; font-size: 160%; text-align: left; padding: 0px; border-bottom: 3px solid\">✨Özellik Etkileşimleri (Feature Interaction)✨</p>"
   ]
  },
  {
   "cell_type": "code",
   "execution_count": 156,
   "id": "4b237c9a",
   "metadata": {
    "execution": {
     "iopub.execute_input": "2023-11-13T12:55:44.057061Z",
     "iopub.status.busy": "2023-11-13T12:55:44.056116Z",
     "iopub.status.idle": "2023-11-13T12:55:44.061290Z",
     "shell.execute_reply": "2023-11-13T12:55:44.060140Z"
    },
    "papermill": {
     "duration": 0.065965,
     "end_time": "2023-11-13T12:55:44.063129",
     "exception": false,
     "start_time": "2023-11-13T12:55:43.997164",
     "status": "completed"
    },
    "tags": []
   },
   "outputs": [],
   "source": [
    "titanic = titanic_.copy()"
   ]
  },
  {
   "cell_type": "code",
   "execution_count": 157,
   "id": "2abd7ec9",
   "metadata": {
    "execution": {
     "iopub.execute_input": "2023-11-13T12:55:44.179097Z",
     "iopub.status.busy": "2023-11-13T12:55:44.178749Z",
     "iopub.status.idle": "2023-11-13T12:55:44.193431Z",
     "shell.execute_reply": "2023-11-13T12:55:44.192098Z"
    },
    "papermill": {
     "duration": 0.074924,
     "end_time": "2023-11-13T12:55:44.195271",
     "exception": false,
     "start_time": "2023-11-13T12:55:44.120347",
     "status": "completed"
    },
    "tags": []
   },
   "outputs": [
    {
     "data": {
      "text/html": [
       "<div>\n",
       "<style scoped>\n",
       "    .dataframe tbody tr th:only-of-type {\n",
       "        vertical-align: middle;\n",
       "    }\n",
       "\n",
       "    .dataframe tbody tr th {\n",
       "        vertical-align: top;\n",
       "    }\n",
       "\n",
       "    .dataframe thead th {\n",
       "        text-align: right;\n",
       "    }\n",
       "</style>\n",
       "<table border=\"1\" class=\"dataframe\">\n",
       "  <thead>\n",
       "    <tr style=\"text-align: right;\">\n",
       "      <th></th>\n",
       "      <th>PassengerId</th>\n",
       "      <th>Survived</th>\n",
       "      <th>Pclass</th>\n",
       "      <th>Name</th>\n",
       "      <th>Sex</th>\n",
       "      <th>Age</th>\n",
       "      <th>SibSp</th>\n",
       "      <th>Parch</th>\n",
       "      <th>Ticket</th>\n",
       "      <th>Fare</th>\n",
       "      <th>Cabin</th>\n",
       "      <th>Embarked</th>\n",
       "    </tr>\n",
       "  </thead>\n",
       "  <tbody>\n",
       "    <tr>\n",
       "      <th>0</th>\n",
       "      <td>1</td>\n",
       "      <td>0</td>\n",
       "      <td>3</td>\n",
       "      <td>Braund, Mr. Owen Harris</td>\n",
       "      <td>male</td>\n",
       "      <td>22.0</td>\n",
       "      <td>1</td>\n",
       "      <td>0</td>\n",
       "      <td>A/5 21171</td>\n",
       "      <td>7.2500</td>\n",
       "      <td>NaN</td>\n",
       "      <td>S</td>\n",
       "    </tr>\n",
       "    <tr>\n",
       "      <th>1</th>\n",
       "      <td>2</td>\n",
       "      <td>1</td>\n",
       "      <td>1</td>\n",
       "      <td>Cumings, Mrs. John Bradley (Florence Briggs Th...</td>\n",
       "      <td>female</td>\n",
       "      <td>38.0</td>\n",
       "      <td>1</td>\n",
       "      <td>0</td>\n",
       "      <td>PC 17599</td>\n",
       "      <td>71.2833</td>\n",
       "      <td>C85</td>\n",
       "      <td>C</td>\n",
       "    </tr>\n",
       "    <tr>\n",
       "      <th>2</th>\n",
       "      <td>3</td>\n",
       "      <td>1</td>\n",
       "      <td>3</td>\n",
       "      <td>Heikkinen, Miss. Laina</td>\n",
       "      <td>female</td>\n",
       "      <td>26.0</td>\n",
       "      <td>0</td>\n",
       "      <td>0</td>\n",
       "      <td>STON/O2. 3101282</td>\n",
       "      <td>7.9250</td>\n",
       "      <td>NaN</td>\n",
       "      <td>S</td>\n",
       "    </tr>\n",
       "    <tr>\n",
       "      <th>3</th>\n",
       "      <td>4</td>\n",
       "      <td>1</td>\n",
       "      <td>1</td>\n",
       "      <td>Futrelle, Mrs. Jacques Heath (Lily May Peel)</td>\n",
       "      <td>female</td>\n",
       "      <td>35.0</td>\n",
       "      <td>1</td>\n",
       "      <td>0</td>\n",
       "      <td>113803</td>\n",
       "      <td>53.1000</td>\n",
       "      <td>C123</td>\n",
       "      <td>S</td>\n",
       "    </tr>\n",
       "    <tr>\n",
       "      <th>4</th>\n",
       "      <td>5</td>\n",
       "      <td>0</td>\n",
       "      <td>3</td>\n",
       "      <td>Allen, Mr. William Henry</td>\n",
       "      <td>male</td>\n",
       "      <td>35.0</td>\n",
       "      <td>0</td>\n",
       "      <td>0</td>\n",
       "      <td>373450</td>\n",
       "      <td>8.0500</td>\n",
       "      <td>NaN</td>\n",
       "      <td>S</td>\n",
       "    </tr>\n",
       "  </tbody>\n",
       "</table>\n",
       "</div>"
      ],
      "text/plain": [
       "   PassengerId  Survived  Pclass  \\\n",
       "0            1         0       3   \n",
       "1            2         1       1   \n",
       "2            3         1       3   \n",
       "3            4         1       1   \n",
       "4            5         0       3   \n",
       "\n",
       "                                                Name     Sex   Age  SibSp  \\\n",
       "0                            Braund, Mr. Owen Harris    male  22.0      1   \n",
       "1  Cumings, Mrs. John Bradley (Florence Briggs Th...  female  38.0      1   \n",
       "2                             Heikkinen, Miss. Laina  female  26.0      0   \n",
       "3       Futrelle, Mrs. Jacques Heath (Lily May Peel)  female  35.0      1   \n",
       "4                           Allen, Mr. William Henry    male  35.0      0   \n",
       "\n",
       "   Parch            Ticket     Fare Cabin Embarked  \n",
       "0      0         A/5 21171   7.2500   NaN        S  \n",
       "1      0          PC 17599  71.2833   C85        C  \n",
       "2      0  STON/O2. 3101282   7.9250   NaN        S  \n",
       "3      0            113803  53.1000  C123        S  \n",
       "4      0            373450   8.0500   NaN        S  "
      ]
     },
     "execution_count": 157,
     "metadata": {},
     "output_type": "execute_result"
    }
   ],
   "source": [
    "titanic.head()"
   ]
  },
  {
   "cell_type": "code",
   "execution_count": 158,
   "id": "4194ebfa",
   "metadata": {
    "execution": {
     "iopub.execute_input": "2023-11-13T12:55:44.312293Z",
     "iopub.status.busy": "2023-11-13T12:55:44.311652Z",
     "iopub.status.idle": "2023-11-13T12:55:44.328587Z",
     "shell.execute_reply": "2023-11-13T12:55:44.327573Z"
    },
    "papermill": {
     "duration": 0.077468,
     "end_time": "2023-11-13T12:55:44.330445",
     "exception": false,
     "start_time": "2023-11-13T12:55:44.252977",
     "status": "completed"
    },
    "tags": []
   },
   "outputs": [],
   "source": [
    "titanic[\"NEW_AGE_PCLASS\"] = titanic[\"Age\"] * titanic[\"Pclass\"] # Age için stanartlaştırma işlemi gerekebilir.\n",
    "\n",
    "titanic[\"NEW_FAMILY_SIZE\"] = titanic[\"SibSp\"] + titanic[\"Parch\"] + 1 \n",
    "\n",
    "titanic.loc[(titanic['Sex'] == 'male') & (titanic['Age'] <= 21), 'NEW_SEX_CAT'] = 'youngmale'\n",
    "\n",
    "titanic.loc[(titanic['Sex'] == 'male') & (titanic['Age'] > 21) & (titanic['Age'] < 50), 'NEW_SEX_CAT'] = 'maturemale'\n",
    "\n",
    "titanic.loc[(titanic['Sex'] == 'male') & (titanic['Age'] >= 50), 'NEW_SEX_CAT'] = 'seniormale'\n",
    "\n",
    "titanic.loc[(titanic['Sex'] == 'female') & (titanic['Age'] <= 21), 'NEW_SEX_CAT'] = 'youngfemale'\n",
    "\n",
    "titanic.loc[(titanic['Sex'] == 'female') & (titanic['Age'] > 21) & (titanic['Age'] < 50), 'NEW_SEX_CAT'] = 'maturefemale'\n",
    "\n",
    "titanic.loc[(titanic['Sex'] == 'female') & (titanic['Age'] >= 50), 'NEW_SEX_CAT'] = 'seniorfemale'"
   ]
  },
  {
   "cell_type": "code",
   "execution_count": 159,
   "id": "77cdf4bb",
   "metadata": {
    "execution": {
     "iopub.execute_input": "2023-11-13T12:55:44.450844Z",
     "iopub.status.busy": "2023-11-13T12:55:44.449629Z",
     "iopub.status.idle": "2023-11-13T12:55:44.465363Z",
     "shell.execute_reply": "2023-11-13T12:55:44.464172Z"
    },
    "papermill": {
     "duration": 0.077807,
     "end_time": "2023-11-13T12:55:44.467091",
     "exception": false,
     "start_time": "2023-11-13T12:55:44.389284",
     "status": "completed"
    },
    "tags": []
   },
   "outputs": [
    {
     "data": {
      "text/html": [
       "<div>\n",
       "<style scoped>\n",
       "    .dataframe tbody tr th:only-of-type {\n",
       "        vertical-align: middle;\n",
       "    }\n",
       "\n",
       "    .dataframe tbody tr th {\n",
       "        vertical-align: top;\n",
       "    }\n",
       "\n",
       "    .dataframe thead th {\n",
       "        text-align: right;\n",
       "    }\n",
       "</style>\n",
       "<table border=\"1\" class=\"dataframe\">\n",
       "  <thead>\n",
       "    <tr style=\"text-align: right;\">\n",
       "      <th></th>\n",
       "      <th>PassengerId</th>\n",
       "      <th>Survived</th>\n",
       "      <th>Pclass</th>\n",
       "      <th>Name</th>\n",
       "      <th>Sex</th>\n",
       "      <th>Age</th>\n",
       "      <th>SibSp</th>\n",
       "      <th>Parch</th>\n",
       "      <th>Ticket</th>\n",
       "      <th>Fare</th>\n",
       "      <th>Cabin</th>\n",
       "      <th>Embarked</th>\n",
       "      <th>NEW_AGE_PCLASS</th>\n",
       "      <th>NEW_FAMILY_SIZE</th>\n",
       "      <th>NEW_SEX_CAT</th>\n",
       "    </tr>\n",
       "  </thead>\n",
       "  <tbody>\n",
       "    <tr>\n",
       "      <th>0</th>\n",
       "      <td>1</td>\n",
       "      <td>0</td>\n",
       "      <td>3</td>\n",
       "      <td>Braund, Mr. Owen Harris</td>\n",
       "      <td>male</td>\n",
       "      <td>22.0</td>\n",
       "      <td>1</td>\n",
       "      <td>0</td>\n",
       "      <td>A/5 21171</td>\n",
       "      <td>7.2500</td>\n",
       "      <td>NaN</td>\n",
       "      <td>S</td>\n",
       "      <td>66.0</td>\n",
       "      <td>2</td>\n",
       "      <td>maturemale</td>\n",
       "    </tr>\n",
       "    <tr>\n",
       "      <th>1</th>\n",
       "      <td>2</td>\n",
       "      <td>1</td>\n",
       "      <td>1</td>\n",
       "      <td>Cumings, Mrs. John Bradley (Florence Briggs Th...</td>\n",
       "      <td>female</td>\n",
       "      <td>38.0</td>\n",
       "      <td>1</td>\n",
       "      <td>0</td>\n",
       "      <td>PC 17599</td>\n",
       "      <td>71.2833</td>\n",
       "      <td>C85</td>\n",
       "      <td>C</td>\n",
       "      <td>38.0</td>\n",
       "      <td>2</td>\n",
       "      <td>maturefemale</td>\n",
       "    </tr>\n",
       "    <tr>\n",
       "      <th>2</th>\n",
       "      <td>3</td>\n",
       "      <td>1</td>\n",
       "      <td>3</td>\n",
       "      <td>Heikkinen, Miss. Laina</td>\n",
       "      <td>female</td>\n",
       "      <td>26.0</td>\n",
       "      <td>0</td>\n",
       "      <td>0</td>\n",
       "      <td>STON/O2. 3101282</td>\n",
       "      <td>7.9250</td>\n",
       "      <td>NaN</td>\n",
       "      <td>S</td>\n",
       "      <td>78.0</td>\n",
       "      <td>1</td>\n",
       "      <td>maturefemale</td>\n",
       "    </tr>\n",
       "    <tr>\n",
       "      <th>3</th>\n",
       "      <td>4</td>\n",
       "      <td>1</td>\n",
       "      <td>1</td>\n",
       "      <td>Futrelle, Mrs. Jacques Heath (Lily May Peel)</td>\n",
       "      <td>female</td>\n",
       "      <td>35.0</td>\n",
       "      <td>1</td>\n",
       "      <td>0</td>\n",
       "      <td>113803</td>\n",
       "      <td>53.1000</td>\n",
       "      <td>C123</td>\n",
       "      <td>S</td>\n",
       "      <td>35.0</td>\n",
       "      <td>2</td>\n",
       "      <td>maturefemale</td>\n",
       "    </tr>\n",
       "    <tr>\n",
       "      <th>4</th>\n",
       "      <td>5</td>\n",
       "      <td>0</td>\n",
       "      <td>3</td>\n",
       "      <td>Allen, Mr. William Henry</td>\n",
       "      <td>male</td>\n",
       "      <td>35.0</td>\n",
       "      <td>0</td>\n",
       "      <td>0</td>\n",
       "      <td>373450</td>\n",
       "      <td>8.0500</td>\n",
       "      <td>NaN</td>\n",
       "      <td>S</td>\n",
       "      <td>105.0</td>\n",
       "      <td>1</td>\n",
       "      <td>maturemale</td>\n",
       "    </tr>\n",
       "  </tbody>\n",
       "</table>\n",
       "</div>"
      ],
      "text/plain": [
       "   PassengerId  Survived  Pclass  \\\n",
       "0            1         0       3   \n",
       "1            2         1       1   \n",
       "2            3         1       3   \n",
       "3            4         1       1   \n",
       "4            5         0       3   \n",
       "\n",
       "                                                Name     Sex   Age  SibSp  \\\n",
       "0                            Braund, Mr. Owen Harris    male  22.0      1   \n",
       "1  Cumings, Mrs. John Bradley (Florence Briggs Th...  female  38.0      1   \n",
       "2                             Heikkinen, Miss. Laina  female  26.0      0   \n",
       "3       Futrelle, Mrs. Jacques Heath (Lily May Peel)  female  35.0      1   \n",
       "4                           Allen, Mr. William Henry    male  35.0      0   \n",
       "\n",
       "   Parch            Ticket     Fare Cabin Embarked  NEW_AGE_PCLASS  \\\n",
       "0      0         A/5 21171   7.2500   NaN        S            66.0   \n",
       "1      0          PC 17599  71.2833   C85        C            38.0   \n",
       "2      0  STON/O2. 3101282   7.9250   NaN        S            78.0   \n",
       "3      0            113803  53.1000  C123        S            35.0   \n",
       "4      0            373450   8.0500   NaN        S           105.0   \n",
       "\n",
       "   NEW_FAMILY_SIZE   NEW_SEX_CAT  \n",
       "0                2    maturemale  \n",
       "1                2  maturefemale  \n",
       "2                1  maturefemale  \n",
       "3                2  maturefemale  \n",
       "4                1    maturemale  "
      ]
     },
     "execution_count": 159,
     "metadata": {},
     "output_type": "execute_result"
    }
   ],
   "source": [
    "titanic.head()"
   ]
  },
  {
   "cell_type": "markdown",
   "id": "5952910a",
   "metadata": {
    "papermill": {
     "duration": 0.05864,
     "end_time": "2023-11-13T12:55:44.583812",
     "exception": false,
     "start_time": "2023-11-13T12:55:44.525172",
     "status": "completed"
    },
    "tags": []
   },
   "source": [
    "<div style=\"border-radius:10px; border:#D0C2F0 solid; padding: 15px; background-color: #FFF0F4; font-size:100%; text-align:left\">\n",
    "\n",
    "<h3 align=\"left\"><font color='#5E5273'>👻 Analysis Results: </font></h3>\n",
    "    \n",
    "Feature Engineering, veri bilimi projelerinin önemli bir aşamasıdır ve veri setlerini daha anlamlı ve modellemeye uygun hale getirmek için bir dizi teknik içerir. Bu başlıkta, aykırı değerlerin tespiti ve işlenmesi, eksik değerlerin ele alınması, değişkenlerin kodlanması ve ölçeklendirilmesi, yeni özelliklerin çıkarılması ve tarih, metin ve düzenli ifadelerle çalışma gibi önemli konulara odaklandık.\n",
    "\n",
    "Aykırı değerlerin ele alınması, veri setinin temizlenmesi ve model performansını iyileştirmek için önemlidir. Eksik değerlerin uygun bir şekilde ele alınması, veri kaybını minimize ederken modelin güvenilirliğini artırabilir. Değişkenlerin kodlanması, kategorik verileri sayısal biçimlere dönüştürmek için kullanılır ve modelin daha iyi çalışmasına yardımcı olabilir. Ayrıca yeni özellikler oluşturmak, veriyi daha fazla anlam kazandırabilir ve modelin performansını artırabilir. Son olarak, tarih, metin ve düzenli ifadelerle çalışarak, daha karmaşık veri türlerini işlemek mümkün hale gelir.\n",
    "\n",
    "Bu başlıklar, veri mühendislerinin ve veri bilimcilerinin veri setlerini düzenlerken ve model geliştirirken kullanabilecekleri önemli araçlar sunar. Feature Engineering, veri setlerini daha iyi anlayarak ve modelleme yeteneklerini artırarak daha iyi sonuçlar elde etmek için kritik bir adımdır."
   ]
  },
  {
   "cell_type": "markdown",
   "id": "69a50ff4",
   "metadata": {
    "papermill": {
     "duration": 0.061033,
     "end_time": "2023-11-13T12:55:44.703338",
     "exception": false,
     "start_time": "2023-11-13T12:55:44.642305",
     "status": "completed"
    },
    "tags": []
   },
   "source": [
    "**Sources;**\n",
    "\n",
    "* https://www.databricks.com/glossary/feature-engineering\n",
    "* https://careerfoundry.com/en/blog/data-analytics/what-is-an-outlier/#:~:text=In%20data%20analytics%2C%20outliers%20are,experimental%20errors%2C%20or%20a%20novelty.\n",
    "* https://help.rubiscape.io/rarg/machine-learning/anomaly-detection/local-outlier-factor\n",
    "* https://www.kaggle.com/dumanmesut"
   ]
  }
 ],
 "metadata": {
  "kernelspec": {
   "display_name": "Python 3",
   "language": "python",
   "name": "python3"
  },
  "language_info": {
   "codemirror_mode": {
    "name": "ipython",
    "version": 3
   },
   "file_extension": ".py",
   "mimetype": "text/x-python",
   "name": "python",
   "nbconvert_exporter": "python",
   "pygments_lexer": "ipython3",
   "version": "3.10.12"
  },
  "papermill": {
   "default_parameters": {},
   "duration": 45.184174,
   "end_time": "2023-11-13T12:55:45.384486",
   "environment_variables": {},
   "exception": null,
   "input_path": "__notebook__.ipynb",
   "output_path": "__notebook__.ipynb",
   "parameters": {},
   "start_time": "2023-11-13T12:55:00.200312",
   "version": "2.4.0"
  }
 },
 "nbformat": 4,
 "nbformat_minor": 5
}
