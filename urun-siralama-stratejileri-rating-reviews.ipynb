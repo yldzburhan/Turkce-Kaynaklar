{
 "cells": [
  {
   "cell_type": "markdown",
   "id": "1a593210",
   "metadata": {
    "papermill": {
     "duration": 0.048703,
     "end_time": "2023-11-13T13:55:40.001592",
     "exception": false,
     "start_time": "2023-11-13T13:55:39.952889",
     "status": "completed"
    },
    "tags": []
   },
   "source": [
    "<div style=\"border-radius: 10px; border: #6B8E23 solid; padding: 15px; background-color: #F5F5DC; font-size: 100%; text-align: left\">\n",
    "\n",
    "<h3 align=\"left\"><font color='#556B2F'>📜 Introduction : </font></h3>\n",
    "\n",
    "**Bir ürünü satın aldıran nedir?**\n",
    "\n",
    "Örneğin; bir kullanıcı ürün almaya karar verdi ve bir e-ticaret sitesine gidip arattırdığında karşısına ürünle alakalı öneriler ve alternatifler çıkmaktadır. Bu kişiye ürünü aldıran en önemli unsurlardan birisi sosyal ispat (Social Proof) kavramıdır. Bir kullanıcının satın almasını en fazla etkileyen sebeplerden birisidir. Bu ürünü daha önce almış kişilerin ürün incelemeleri, puanlamaları incelenir ve böylelikle kişi ürün hakkında bir kanaate varabilir. Bu durum da en temel sebebi ise kalabalıkların bilgeliğine olan inançtır. (The Wisdom of Crowds)\n",
    "\n",
    "Şimdi kullanıcımızın birçok üründen iki seçeneğe kadar indirgediğini varsayalım. Ürünlerin markasıyla ve fiyatıyla ilgilenmiyoruz. Bu iki ürünün sadece puanlarına odaklandığımızı varsayalım. Algılarımız en yüksek puanı alan ürüne kayar ve onun en iyisi olduğunu düşünürüz.\n",
    "\n",
    "Bir başka durumda; ürünlerin puanları ve sayılarını aynı anda gösterdiğini varsayalım. 5 puan almış olan ürünün 7 oylama aldığını, 4.5 puan alan ürünün 256 oy aldığını düşünelim. İşte bu noktada bu sefer 4.5 puana sahip ürünü satın alırız çünkü sosyal ispat (Social Proof) kavramı etkilidir.\n",
    "\n",
    "Yani bu noktada alıcının en temel hedefi; fiyat ve performans açısından en iyi ürüne ulaşmaktır. Pazar Yeri/Satıcının da hedefi kullanıcılara en doğru şekilde ürünleri ulaştırmaktır. Hatta satıcı sponsorluk alarak ürünlerinin aramalarda üst sıralarda gözükmesini sağlayabilir. Mademki kullanıcıların en çok satın almasını etkileyen faktör sosyal ispattır, o zaman bu sosyal ispat olarak adlandırdığımız şey her neredeyse, bunu pazarı manipüle etmekten sakınacak şekilde, en doğru şekilde sunmamız lazım. Bu konuda ürünlere yapılan yorumların ve puanları hesaplanmasına denk gelmektedir.\n",
    "\n",
    "Bu sürece girildiğinde karşılaşılacak bazı problemler vardır. Bir kullanıcı satın alma sürecine girdiğinde geliştiricileri ilgilendirecek başlıklar şunlardır;\n",
    "\n",
    "* Ürün puanlarının hesaplanması\n",
    "* Ürünlerin sıralanması\n",
    "* Ürünlerin detay sayfalarındaki kullanıcı yorumlarının sıralanması\n",
    "* Sayfa, süreç ve etkileşim alanlarının tasarımları\n",
    "* Özellik denemeleri\n",
    "* Olası aksiyonların ve reaksiyonların test edilmesi\n",
    "\n",
    "Bu sureçte kullanıcının deneyimini etkileyen başlıkların bir çoğunda birlikte bilimsel bir formda literatürdeki bu başlıkları inceleyeceğiz;\n",
    "\n",
    "* Ürün Puanlandırma (Rating Products)\n",
    "* Ürünleri Sıralama (Sorting Products)\n",
    "* Yorumları Sıralama (Sorting Reviews)"
   ]
  },
  {
   "cell_type": "markdown",
   "id": "9939479c",
   "metadata": {
    "papermill": {
     "duration": 0.047935,
     "end_time": "2023-11-13T13:55:40.098838",
     "exception": false,
     "start_time": "2023-11-13T13:55:40.050903",
     "status": "completed"
    },
    "tags": []
   },
   "source": [
    "<center><img src=\"https://i.imgur.com/jIuU22M.png\" width=\"800\" height=\"800\"></center>"
   ]
  },
  {
   "cell_type": "markdown",
   "id": "80224d96",
   "metadata": {
    "papermill": {
     "duration": 0.112964,
     "end_time": "2023-11-13T13:55:40.259200",
     "exception": false,
     "start_time": "2023-11-13T13:55:40.146236",
     "status": "completed"
    },
    "tags": []
   },
   "source": [
    "# Content\n",
    "\n",
    "1. [💯 Rating Products 💯](#1)\n",
    "    * [Average](#2)\n",
    "    * [Time-Based Weighted Average](#3)\n",
    "    * [User-Based Weighted Average](#4)\n",
    "    * [Weighted Rating](#5)\n",
    "1. [🤩 Sorting Products 🤩](#6)\n",
    "    * [Sorting by Rating](#7)\n",
    "    * [Sorting by Comment Count or Purchase Count](#8)\n",
    "    * [Sorting by Rating, Comment and Purchase](#9)\n",
    "    * [Bayesian Average Rating Score](#10)\n",
    "    * [Hybrid Sorting](#11)\n",
    "    * [IMDB Movie Scoring and Sorting](#12)\n",
    "        * [Importing Libraries & First Look](#13)\n",
    "        * [Sorting by Vote Average](#14)\n",
    "    * [IMDB Weighted Rating](#15)\n",
    "    * [Bayesian Average Rating Score (BAR Score)](#16)\n",
    "1. [🙏 Sorting Reviews 🙏](#17)\n",
    "    * [Up-Down Difference Score](#18)\n",
    "    * [Average Rating (Up Ratio)](#19)\n",
    "    * [Wilson Lower Bound Score](#20)\n",
    "    * [Case Study](#21)"
   ]
  },
  {
   "cell_type": "markdown",
   "id": "81a905f0",
   "metadata": {
    "papermill": {
     "duration": 0.048074,
     "end_time": "2023-11-13T13:55:40.355811",
     "exception": false,
     "start_time": "2023-11-13T13:55:40.307737",
     "status": "completed"
    },
    "tags": []
   },
   "source": [
    "<a id=\"1\"></a>\n",
    "<h1 style=\"border-radius: 10px; border: 2px solid #6B8E23; background-color: #F5F5DC; font-family: 'Pacifico', cursive; font-size: 200%; text-align: center; border-radius: 15px 50px; padding: 15px; box-shadow: 5px 5px 5px #556B2F; color: #556B2F;\">💯 Rating Products 💯</h1>"
   ]
  },
  {
   "cell_type": "markdown",
   "id": "0ccbc341",
   "metadata": {
    "papermill": {
     "duration": 0.045499,
     "end_time": "2023-11-13T13:55:40.447691",
     "exception": false,
     "start_time": "2023-11-13T13:55:40.402192",
     "status": "completed"
    },
    "tags": []
   },
   "source": [
    "\"Rating Products,\" çeşitli ürün, hizmet veya eşyalar için puanların atandığı veya gösterildiği bir uygulamayı ifade eder. Bu, potansiyel müşterilere veya kullanıcılara ürünlerin kalitesi, memnuniyeti veya performansı hakkında bir gösterge sunmak amacıyla yapılır. Puanlar genellikle sayısal bir değer olarak sunulur, genellikle 1 ile 5 yıldız gibi bir ölçekte, daha yüksek bir puan daha iyi veya daha olumlu bir ürünü gösterir.\n",
    "\n",
    "Ürünleri puanlama, kullanıcıların farklı seçenekler arasında bilinçli kararlar almalarına yardımcı olmak amacıyla yapılır. Kullanıcılar, diğer müşteriler tarafından sunulan puanları ve yorumları, ürünün genel kalitesini ve kendi ihtiyaçlarına uygunluğunu değerlendirmek için kullanabilirler. Yüksek puanlar genellikle olumlu kullanıcı deneyimleriyle ilişkilendirilir ve potansiyel alıcıları yüksek puanlı bir ürünü tercih etmeye yönlendirebilir.\n",
    "\n",
    "Ürünleri puanlama, e-ticaret web siteleri, online pazar yerleri, mobil uygulamalar ve ürün inceleme web siteleri gibi çeşitli platformlarda bulunabilir. Kullanıcılar, kendi kişisel deneyimlerini ve görüşlerini paylaşmak için puanlarını ve yazılı yorumlarını bırakmaya teşvik edilirler, bu da pazar yerinde güveni ve şeffaflığı artırmaya yardımcı olabilir."
   ]
  },
  {
   "cell_type": "markdown",
   "id": "375e0582",
   "metadata": {
    "papermill": {
     "duration": 0.045684,
     "end_time": "2023-11-13T13:55:40.539494",
     "exception": false,
     "start_time": "2023-11-13T13:55:40.493810",
     "status": "completed"
    },
    "tags": []
   },
   "source": [
    "<a id = \"2\"></a><br>\n",
    "<p style=\"font-family: 'Pacifico', cursive; font-weight: bold; letter-spacing: 2px; color: #556B2F; font-size: 160%; text-align: left; padding: 0px; border-bottom: 3px solid\">✨Ortalama (Average)✨</p>"
   ]
  },
  {
   "cell_type": "code",
   "execution_count": 1,
   "id": "81f5bcf2",
   "metadata": {
    "execution": {
     "iopub.execute_input": "2023-11-13T13:55:40.634992Z",
     "iopub.status.busy": "2023-11-13T13:55:40.634513Z",
     "iopub.status.idle": "2023-11-13T13:55:42.238013Z",
     "shell.execute_reply": "2023-11-13T13:55:42.236982Z"
    },
    "papermill": {
     "duration": 1.654632,
     "end_time": "2023-11-13T13:55:42.240881",
     "exception": false,
     "start_time": "2023-11-13T13:55:40.586249",
     "status": "completed"
    },
    "tags": []
   },
   "outputs": [],
   "source": [
    "import pandas as pd\n",
    "import math\n",
    "import scipy.stats as st\n",
    "from sklearn.preprocessing import MinMaxScaler\n",
    "\n",
    "import warnings\n",
    "\n",
    "warnings.filterwarnings(\"ignore\")\n",
    "\n",
    "# pd.set_option('display.max_columns', None)\n",
    "# pd.set_option('display.max_rows', None)\n",
    "# pd.set_option('display.width', 500)\n",
    "# pd.set_option('display.expand_frame_repr', False)\n",
    "# pd.set_option('display.float_format', lambda x: '%.5f' % x)"
   ]
  },
  {
   "cell_type": "markdown",
   "id": "f329eb22",
   "metadata": {
    "papermill": {
     "duration": 0.045703,
     "end_time": "2023-11-13T13:55:42.334802",
     "exception": false,
     "start_time": "2023-11-13T13:55:42.289099",
     "status": "completed"
    },
    "tags": []
   },
   "source": [
    "<div style=\"border-radius:10px; border:#D0C2F0 solid; padding: 15px; background-color: #F8E8EE; font-size:100%; text-align:left\">\n",
    "\n",
    "<h3 align=\"left\"><font color='#5E5273'>📄 Notes: </font></h3>\n",
    "\n",
    "**İncelenecek örnek senaryo;**\n",
    "\n",
    "* (50+ Saat) Python A-Z™: Veri Bilimi ve Machine Learning\n",
    "* Puan: 4.8 (4.764925)\n",
    "* Toplam Puan: 4611\n",
    "* Puan Yüzdeleri: 75, 20, 4, 1, <1\n",
    "* Yaklaşık Sayısal Karşılıkları: 3458, 922, 184, 46, 6"
   ]
  },
  {
   "cell_type": "code",
   "execution_count": 2,
   "id": "99ff7e3c",
   "metadata": {
    "execution": {
     "iopub.execute_input": "2023-11-13T13:55:42.431616Z",
     "iopub.status.busy": "2023-11-13T13:55:42.431013Z",
     "iopub.status.idle": "2023-11-13T13:55:42.465113Z",
     "shell.execute_reply": "2023-11-13T13:55:42.464045Z"
    },
    "papermill": {
     "duration": 0.085178,
     "end_time": "2023-11-13T13:55:42.468160",
     "exception": false,
     "start_time": "2023-11-13T13:55:42.382982",
     "status": "completed"
    },
    "tags": []
   },
   "outputs": [],
   "source": [
    "df = pd.read_csv(\"/kaggle/input/course-reviewscsv/course_reviews.csv\")"
   ]
  },
  {
   "cell_type": "code",
   "execution_count": 3,
   "id": "56e6e2c0",
   "metadata": {
    "execution": {
     "iopub.execute_input": "2023-11-13T13:55:42.565339Z",
     "iopub.status.busy": "2023-11-13T13:55:42.564649Z",
     "iopub.status.idle": "2023-11-13T13:55:42.591669Z",
     "shell.execute_reply": "2023-11-13T13:55:42.590807Z"
    },
    "papermill": {
     "duration": 0.077642,
     "end_time": "2023-11-13T13:55:42.593874",
     "exception": false,
     "start_time": "2023-11-13T13:55:42.516232",
     "status": "completed"
    },
    "tags": []
   },
   "outputs": [
    {
     "data": {
      "text/html": [
       "<div>\n",
       "<style scoped>\n",
       "    .dataframe tbody tr th:only-of-type {\n",
       "        vertical-align: middle;\n",
       "    }\n",
       "\n",
       "    .dataframe tbody tr th {\n",
       "        vertical-align: top;\n",
       "    }\n",
       "\n",
       "    .dataframe thead th {\n",
       "        text-align: right;\n",
       "    }\n",
       "</style>\n",
       "<table border=\"1\" class=\"dataframe\">\n",
       "  <thead>\n",
       "    <tr style=\"text-align: right;\">\n",
       "      <th></th>\n",
       "      <th>Rating</th>\n",
       "      <th>Timestamp</th>\n",
       "      <th>Enrolled</th>\n",
       "      <th>Progress</th>\n",
       "      <th>Questions Asked</th>\n",
       "      <th>Questions Answered</th>\n",
       "    </tr>\n",
       "  </thead>\n",
       "  <tbody>\n",
       "    <tr>\n",
       "      <th>0</th>\n",
       "      <td>5.0</td>\n",
       "      <td>2021-02-05 07:45:55</td>\n",
       "      <td>2021-01-25 15:12:08</td>\n",
       "      <td>5.0</td>\n",
       "      <td>0.0</td>\n",
       "      <td>0.0</td>\n",
       "    </tr>\n",
       "    <tr>\n",
       "      <th>1</th>\n",
       "      <td>5.0</td>\n",
       "      <td>2021-02-04 21:05:32</td>\n",
       "      <td>2021-02-04 20:43:40</td>\n",
       "      <td>1.0</td>\n",
       "      <td>0.0</td>\n",
       "      <td>0.0</td>\n",
       "    </tr>\n",
       "    <tr>\n",
       "      <th>2</th>\n",
       "      <td>4.5</td>\n",
       "      <td>2021-02-04 20:34:03</td>\n",
       "      <td>2019-07-04 23:23:27</td>\n",
       "      <td>1.0</td>\n",
       "      <td>0.0</td>\n",
       "      <td>0.0</td>\n",
       "    </tr>\n",
       "    <tr>\n",
       "      <th>3</th>\n",
       "      <td>5.0</td>\n",
       "      <td>2021-02-04 16:56:28</td>\n",
       "      <td>2021-02-04 14:41:29</td>\n",
       "      <td>10.0</td>\n",
       "      <td>0.0</td>\n",
       "      <td>0.0</td>\n",
       "    </tr>\n",
       "    <tr>\n",
       "      <th>4</th>\n",
       "      <td>4.0</td>\n",
       "      <td>2021-02-04 15:00:24</td>\n",
       "      <td>2020-10-13 03:10:07</td>\n",
       "      <td>10.0</td>\n",
       "      <td>0.0</td>\n",
       "      <td>0.0</td>\n",
       "    </tr>\n",
       "  </tbody>\n",
       "</table>\n",
       "</div>"
      ],
      "text/plain": [
       "   Rating            Timestamp             Enrolled  Progress  \\\n",
       "0     5.0  2021-02-05 07:45:55  2021-01-25 15:12:08       5.0   \n",
       "1     5.0  2021-02-04 21:05:32  2021-02-04 20:43:40       1.0   \n",
       "2     4.5  2021-02-04 20:34:03  2019-07-04 23:23:27       1.0   \n",
       "3     5.0  2021-02-04 16:56:28  2021-02-04 14:41:29      10.0   \n",
       "4     4.0  2021-02-04 15:00:24  2020-10-13 03:10:07      10.0   \n",
       "\n",
       "   Questions Asked  Questions Answered  \n",
       "0              0.0                 0.0  \n",
       "1              0.0                 0.0  \n",
       "2              0.0                 0.0  \n",
       "3              0.0                 0.0  \n",
       "4              0.0                 0.0  "
      ]
     },
     "execution_count": 3,
     "metadata": {},
     "output_type": "execute_result"
    }
   ],
   "source": [
    "df.head()"
   ]
  },
  {
   "cell_type": "markdown",
   "id": "b582ac0f",
   "metadata": {
    "papermill": {
     "duration": 0.049787,
     "end_time": "2023-11-13T13:55:42.692650",
     "exception": false,
     "start_time": "2023-11-13T13:55:42.642863",
     "status": "completed"
    },
    "tags": []
   },
   "source": [
    "<div style=\"border-radius: 10px; border: #6B8E23 solid; padding: 15px; background-color: #F5F5DC; font-size: 100%; text-align: left\">\n",
    "\n",
    "<h3 align=\"left\"><font color='#556B2F'>👀 Features : </font></h3>\n",
    "    \n",
    "1. **Rating:** kursa verilen puan\n",
    "1. **Timestamp:** puanı hangi tarihte verdiği\n",
    "1. **Enrolled:** üye olduğu tarih\n",
    "1. **Progress:** kursun yüzde kaçının izlendiği\n",
    "1. **Questions Asked:** sorulan soru sayısı\n",
    "1. **Questions Answered:** aldığı yanıt sayısı"
   ]
  },
  {
   "cell_type": "code",
   "execution_count": 4,
   "id": "d3c1220b",
   "metadata": {
    "execution": {
     "iopub.execute_input": "2023-11-13T13:55:42.788962Z",
     "iopub.status.busy": "2023-11-13T13:55:42.788187Z",
     "iopub.status.idle": "2023-11-13T13:55:42.794384Z",
     "shell.execute_reply": "2023-11-13T13:55:42.793551Z"
    },
    "papermill": {
     "duration": 0.056731,
     "end_time": "2023-11-13T13:55:42.796516",
     "exception": false,
     "start_time": "2023-11-13T13:55:42.739785",
     "status": "completed"
    },
    "tags": []
   },
   "outputs": [
    {
     "data": {
      "text/plain": [
       "(4323, 6)"
      ]
     },
     "execution_count": 4,
     "metadata": {},
     "output_type": "execute_result"
    }
   ],
   "source": [
    "df.shape # 4323 değerlendirme vardır."
   ]
  },
  {
   "cell_type": "code",
   "execution_count": 5,
   "id": "4d561788",
   "metadata": {
    "execution": {
     "iopub.execute_input": "2023-11-13T13:55:42.897661Z",
     "iopub.status.busy": "2023-11-13T13:55:42.896910Z",
     "iopub.status.idle": "2023-11-13T13:55:42.911605Z",
     "shell.execute_reply": "2023-11-13T13:55:42.910412Z"
    },
    "papermill": {
     "duration": 0.067349,
     "end_time": "2023-11-13T13:55:42.913978",
     "exception": false,
     "start_time": "2023-11-13T13:55:42.846629",
     "status": "completed"
    },
    "tags": []
   },
   "outputs": [
    {
     "data": {
      "text/plain": [
       "Rating\n",
       "5.0    3267\n",
       "4.5     475\n",
       "4.0     383\n",
       "3.5      96\n",
       "3.0      62\n",
       "1.0      15\n",
       "2.0      12\n",
       "2.5      11\n",
       "1.5       2\n",
       "Name: count, dtype: int64"
      ]
     },
     "execution_count": 5,
     "metadata": {},
     "output_type": "execute_result"
    }
   ],
   "source": [
    "df[\"Rating\"].value_counts() # yapılan değerlendirme sayısına göre rating dağılımı"
   ]
  },
  {
   "cell_type": "code",
   "execution_count": 6,
   "id": "6b6b2390",
   "metadata": {
    "execution": {
     "iopub.execute_input": "2023-11-13T13:55:43.015198Z",
     "iopub.status.busy": "2023-11-13T13:55:43.014180Z",
     "iopub.status.idle": "2023-11-13T13:55:43.024659Z",
     "shell.execute_reply": "2023-11-13T13:55:43.023297Z"
    },
    "papermill": {
     "duration": 0.063662,
     "end_time": "2023-11-13T13:55:43.027046",
     "exception": false,
     "start_time": "2023-11-13T13:55:42.963384",
     "status": "completed"
    },
    "tags": []
   },
   "outputs": [
    {
     "data": {
      "text/plain": [
       "Questions Asked\n",
       "0.0     3867\n",
       "1.0      276\n",
       "2.0       80\n",
       "3.0       43\n",
       "4.0       15\n",
       "5.0       13\n",
       "6.0        9\n",
       "8.0        5\n",
       "9.0        3\n",
       "14.0       2\n",
       "11.0       2\n",
       "7.0        2\n",
       "10.0       2\n",
       "15.0       2\n",
       "22.0       1\n",
       "12.0       1\n",
       "Name: count, dtype: int64"
      ]
     },
     "execution_count": 6,
     "metadata": {},
     "output_type": "execute_result"
    }
   ],
   "source": [
    "df[\"Questions Asked\"].value_counts() # yapılan değerlendirme sayısına göre sorulan soru dağılımı"
   ]
  },
  {
   "cell_type": "code",
   "execution_count": 7,
   "id": "e0b0a954",
   "metadata": {
    "execution": {
     "iopub.execute_input": "2023-11-13T13:55:43.124577Z",
     "iopub.status.busy": "2023-11-13T13:55:43.123686Z",
     "iopub.status.idle": "2023-11-13T13:55:43.147053Z",
     "shell.execute_reply": "2023-11-13T13:55:43.146138Z"
    },
    "papermill": {
     "duration": 0.0742,
     "end_time": "2023-11-13T13:55:43.149438",
     "exception": false,
     "start_time": "2023-11-13T13:55:43.075238",
     "status": "completed"
    },
    "tags": []
   },
   "outputs": [
    {
     "data": {
      "text/html": [
       "<div>\n",
       "<style scoped>\n",
       "    .dataframe tbody tr th:only-of-type {\n",
       "        vertical-align: middle;\n",
       "    }\n",
       "\n",
       "    .dataframe tbody tr th {\n",
       "        vertical-align: top;\n",
       "    }\n",
       "\n",
       "    .dataframe thead th {\n",
       "        text-align: right;\n",
       "    }\n",
       "</style>\n",
       "<table border=\"1\" class=\"dataframe\">\n",
       "  <thead>\n",
       "    <tr style=\"text-align: right;\">\n",
       "      <th></th>\n",
       "      <th>Questions Asked</th>\n",
       "      <th>Rating</th>\n",
       "    </tr>\n",
       "    <tr>\n",
       "      <th>Questions Asked</th>\n",
       "      <th></th>\n",
       "      <th></th>\n",
       "    </tr>\n",
       "  </thead>\n",
       "  <tbody>\n",
       "    <tr>\n",
       "      <th>0.0</th>\n",
       "      <td>3867</td>\n",
       "      <td>4.765193</td>\n",
       "    </tr>\n",
       "    <tr>\n",
       "      <th>1.0</th>\n",
       "      <td>276</td>\n",
       "      <td>4.740942</td>\n",
       "    </tr>\n",
       "    <tr>\n",
       "      <th>2.0</th>\n",
       "      <td>80</td>\n",
       "      <td>4.806250</td>\n",
       "    </tr>\n",
       "    <tr>\n",
       "      <th>3.0</th>\n",
       "      <td>43</td>\n",
       "      <td>4.744186</td>\n",
       "    </tr>\n",
       "    <tr>\n",
       "      <th>4.0</th>\n",
       "      <td>15</td>\n",
       "      <td>4.833333</td>\n",
       "    </tr>\n",
       "    <tr>\n",
       "      <th>5.0</th>\n",
       "      <td>13</td>\n",
       "      <td>4.653846</td>\n",
       "    </tr>\n",
       "    <tr>\n",
       "      <th>6.0</th>\n",
       "      <td>9</td>\n",
       "      <td>5.000000</td>\n",
       "    </tr>\n",
       "    <tr>\n",
       "      <th>7.0</th>\n",
       "      <td>2</td>\n",
       "      <td>4.750000</td>\n",
       "    </tr>\n",
       "    <tr>\n",
       "      <th>8.0</th>\n",
       "      <td>5</td>\n",
       "      <td>4.900000</td>\n",
       "    </tr>\n",
       "    <tr>\n",
       "      <th>9.0</th>\n",
       "      <td>3</td>\n",
       "      <td>5.000000</td>\n",
       "    </tr>\n",
       "    <tr>\n",
       "      <th>10.0</th>\n",
       "      <td>2</td>\n",
       "      <td>5.000000</td>\n",
       "    </tr>\n",
       "    <tr>\n",
       "      <th>11.0</th>\n",
       "      <td>2</td>\n",
       "      <td>5.000000</td>\n",
       "    </tr>\n",
       "    <tr>\n",
       "      <th>12.0</th>\n",
       "      <td>1</td>\n",
       "      <td>5.000000</td>\n",
       "    </tr>\n",
       "    <tr>\n",
       "      <th>14.0</th>\n",
       "      <td>2</td>\n",
       "      <td>4.500000</td>\n",
       "    </tr>\n",
       "    <tr>\n",
       "      <th>15.0</th>\n",
       "      <td>2</td>\n",
       "      <td>3.000000</td>\n",
       "    </tr>\n",
       "    <tr>\n",
       "      <th>22.0</th>\n",
       "      <td>1</td>\n",
       "      <td>5.000000</td>\n",
       "    </tr>\n",
       "  </tbody>\n",
       "</table>\n",
       "</div>"
      ],
      "text/plain": [
       "                 Questions Asked    Rating\n",
       "Questions Asked                           \n",
       "0.0                         3867  4.765193\n",
       "1.0                          276  4.740942\n",
       "2.0                           80  4.806250\n",
       "3.0                           43  4.744186\n",
       "4.0                           15  4.833333\n",
       "5.0                           13  4.653846\n",
       "6.0                            9  5.000000\n",
       "7.0                            2  4.750000\n",
       "8.0                            5  4.900000\n",
       "9.0                            3  5.000000\n",
       "10.0                           2  5.000000\n",
       "11.0                           2  5.000000\n",
       "12.0                           1  5.000000\n",
       "14.0                           2  4.500000\n",
       "15.0                           2  3.000000\n",
       "22.0                           1  5.000000"
      ]
     },
     "execution_count": 7,
     "metadata": {},
     "output_type": "execute_result"
    }
   ],
   "source": [
    "# Sorulan soruların sayılarına göre ortalama kaç puan verdikleri?\n",
    "\n",
    "df.groupby(\"Questions Asked\").agg({\"Questions Asked\": \"count\",\n",
    "                                   \"Rating\": \"mean\"})"
   ]
  },
  {
   "cell_type": "code",
   "execution_count": 8,
   "id": "3de91e2a",
   "metadata": {
    "execution": {
     "iopub.execute_input": "2023-11-13T13:55:43.247787Z",
     "iopub.status.busy": "2023-11-13T13:55:43.247137Z",
     "iopub.status.idle": "2023-11-13T13:55:43.253842Z",
     "shell.execute_reply": "2023-11-13T13:55:43.252766Z"
    },
    "papermill": {
     "duration": 0.058214,
     "end_time": "2023-11-13T13:55:43.256209",
     "exception": false,
     "start_time": "2023-11-13T13:55:43.197995",
     "status": "completed"
    },
    "tags": []
   },
   "outputs": [
    {
     "data": {
      "text/plain": [
       "4.764284061993986"
      ]
     },
     "execution_count": 8,
     "metadata": {},
     "output_type": "execute_result"
    }
   ],
   "source": [
    "df[\"Rating\"].mean()"
   ]
  },
  {
   "cell_type": "markdown",
   "id": "47b86be9",
   "metadata": {
    "papermill": {
     "duration": 0.04735,
     "end_time": "2023-11-13T13:55:43.351397",
     "exception": false,
     "start_time": "2023-11-13T13:55:43.304047",
     "status": "completed"
    },
    "tags": []
   },
   "source": [
    "<div style=\"border-radius:10px; border:#65647C solid; padding: 15px; background-color: #F8EDE3; font-size:100%; text-align:left\">\n",
    "\n",
    "<h3 align=\"left\"><font color='#7D6E83'><b>🗨️ Comment: </b></font></h3>\n",
    "\n",
    "* Ortalama hesabı için \"**mean()**\" kullanılabilir.\n",
    "* Fakat doğru veya yanlış yorumu yapılamaz. Tamamen tercihe bağlıdır.\n",
    "* Diğer kurslar içinde aynı puanlama hesabı yapıldığından, ortaya çıkacak yanlılıkları göz ardı etmemiz gerekecektir.\n",
    "* Sonuç bu durum bir tercihtir, göstergedir, kullanılabilir.\n",
    "* Dezavantajı; son zamanlarda oluşan memnuniyet trendlerini kaçırıyor olabiliriz. Örneğin; kursun yayınladığı tarih itibariyle ilk 3 ayda yüksek memnuniyete sahipken, sonraki 3 ayda negatif bir trende girmiş olabilir. Bu yüzden başka faktörleride göz önünde bulundurmak gerekmektedir.\n",
    "* Tabiki bu durum kurs haricinde alışveriş sitesindeki bir ürünün puanlamasıda olabilir."
   ]
  },
  {
   "cell_type": "markdown",
   "id": "2413443e",
   "metadata": {
    "papermill": {
     "duration": 0.047192,
     "end_time": "2023-11-13T13:55:43.446907",
     "exception": false,
     "start_time": "2023-11-13T13:55:43.399715",
     "status": "completed"
    },
    "tags": []
   },
   "source": [
    "<a id = \"3\"></a><br>\n",
    "<p style=\"font-family: 'Pacifico', cursive; font-weight: bold; letter-spacing: 2px; color: #556B2F; font-size: 160%; text-align: left; padding: 0px; border-bottom: 3px solid\">✨Puan Zamanlarına Göre Ağırlıklı Ortalama (Time-Based Weighted Average)✨</p>"
   ]
  },
  {
   "cell_type": "markdown",
   "id": "359b2ca9",
   "metadata": {
    "papermill": {
     "duration": 0.047218,
     "end_time": "2023-11-13T13:55:43.541536",
     "exception": false,
     "start_time": "2023-11-13T13:55:43.494318",
     "status": "completed"
    },
    "tags": []
   },
   "source": [
    "\"Time-Based Weighted Average\" (Zamana Göre Ağırlıklı Ortalama), bir veri dizisi içindeki değerlerin zaman açısından farklı ağırlıklarla hesaplanan bir ortalama değerini ifade eder. Bu yöntem, veri setindeki daha yeni veya daha güncel verilere daha fazla önem atfetmek istendiği durumlarda kullanılır. Çünkü sadece ortalamaya göre işlem yapıldığında son zamanlardaki sistemin kalitesi, e-ticaret sitesindeki kargo hizmetleri,paketleme hizmetleri vb. veya müşterilerin son zamanlardaki memnuniyetlerini kaçırıyor olabiliriz.\n",
    "\n",
    "Time-Based Weighted Average hesaplaması, her veri noktasının ağırlığı belirlenirken verinin yaşına veya zamanlamasına dayanır. Yani, geçmiş verilere göre daha yakın veya daha yeni veriler, daha yüksek ağırlığa sahip olurken, daha eski veriler daha düşük ağırlığa sahip olur. Bu, gelecekteki tahminlerin veya analizlerin daha güncel bilgilere dayandırılmasına yardımcı olur.\n",
    "\n",
    "Örnek olarak, bir finansal analist, hisse senetlerinin fiyat hareketlerini tahmin etmek için Time-Based Weighted Average kullanabilir. Bu durumda, geçmiş birkaç günün hisse senedi fiyatlarına daha fazla ağırlık verilirken, daha önceki dönemlerin fiyatlarına daha düşük ağırlık verilir. Bu sayede, tahminlerin daha güncel ve geçerli olması sağlanır."
   ]
  },
  {
   "cell_type": "code",
   "execution_count": 9,
   "id": "006d1f76",
   "metadata": {
    "execution": {
     "iopub.execute_input": "2023-11-13T13:55:43.641000Z",
     "iopub.status.busy": "2023-11-13T13:55:43.639826Z",
     "iopub.status.idle": "2023-11-13T13:55:43.658254Z",
     "shell.execute_reply": "2023-11-13T13:55:43.656740Z"
    },
    "papermill": {
     "duration": 0.07195,
     "end_time": "2023-11-13T13:55:43.660941",
     "exception": false,
     "start_time": "2023-11-13T13:55:43.588991",
     "status": "completed"
    },
    "tags": []
   },
   "outputs": [
    {
     "data": {
      "text/html": [
       "<div>\n",
       "<style scoped>\n",
       "    .dataframe tbody tr th:only-of-type {\n",
       "        vertical-align: middle;\n",
       "    }\n",
       "\n",
       "    .dataframe tbody tr th {\n",
       "        vertical-align: top;\n",
       "    }\n",
       "\n",
       "    .dataframe thead th {\n",
       "        text-align: right;\n",
       "    }\n",
       "</style>\n",
       "<table border=\"1\" class=\"dataframe\">\n",
       "  <thead>\n",
       "    <tr style=\"text-align: right;\">\n",
       "      <th></th>\n",
       "      <th>Rating</th>\n",
       "      <th>Timestamp</th>\n",
       "      <th>Enrolled</th>\n",
       "      <th>Progress</th>\n",
       "      <th>Questions Asked</th>\n",
       "      <th>Questions Answered</th>\n",
       "    </tr>\n",
       "  </thead>\n",
       "  <tbody>\n",
       "    <tr>\n",
       "      <th>0</th>\n",
       "      <td>5.0</td>\n",
       "      <td>2021-02-05 07:45:55</td>\n",
       "      <td>2021-01-25 15:12:08</td>\n",
       "      <td>5.0</td>\n",
       "      <td>0.0</td>\n",
       "      <td>0.0</td>\n",
       "    </tr>\n",
       "    <tr>\n",
       "      <th>1</th>\n",
       "      <td>5.0</td>\n",
       "      <td>2021-02-04 21:05:32</td>\n",
       "      <td>2021-02-04 20:43:40</td>\n",
       "      <td>1.0</td>\n",
       "      <td>0.0</td>\n",
       "      <td>0.0</td>\n",
       "    </tr>\n",
       "    <tr>\n",
       "      <th>2</th>\n",
       "      <td>4.5</td>\n",
       "      <td>2021-02-04 20:34:03</td>\n",
       "      <td>2019-07-04 23:23:27</td>\n",
       "      <td>1.0</td>\n",
       "      <td>0.0</td>\n",
       "      <td>0.0</td>\n",
       "    </tr>\n",
       "    <tr>\n",
       "      <th>3</th>\n",
       "      <td>5.0</td>\n",
       "      <td>2021-02-04 16:56:28</td>\n",
       "      <td>2021-02-04 14:41:29</td>\n",
       "      <td>10.0</td>\n",
       "      <td>0.0</td>\n",
       "      <td>0.0</td>\n",
       "    </tr>\n",
       "    <tr>\n",
       "      <th>4</th>\n",
       "      <td>4.0</td>\n",
       "      <td>2021-02-04 15:00:24</td>\n",
       "      <td>2020-10-13 03:10:07</td>\n",
       "      <td>10.0</td>\n",
       "      <td>0.0</td>\n",
       "      <td>0.0</td>\n",
       "    </tr>\n",
       "  </tbody>\n",
       "</table>\n",
       "</div>"
      ],
      "text/plain": [
       "   Rating            Timestamp             Enrolled  Progress  \\\n",
       "0     5.0  2021-02-05 07:45:55  2021-01-25 15:12:08       5.0   \n",
       "1     5.0  2021-02-04 21:05:32  2021-02-04 20:43:40       1.0   \n",
       "2     4.5  2021-02-04 20:34:03  2019-07-04 23:23:27       1.0   \n",
       "3     5.0  2021-02-04 16:56:28  2021-02-04 14:41:29      10.0   \n",
       "4     4.0  2021-02-04 15:00:24  2020-10-13 03:10:07      10.0   \n",
       "\n",
       "   Questions Asked  Questions Answered  \n",
       "0              0.0                 0.0  \n",
       "1              0.0                 0.0  \n",
       "2              0.0                 0.0  \n",
       "3              0.0                 0.0  \n",
       "4              0.0                 0.0  "
      ]
     },
     "execution_count": 9,
     "metadata": {},
     "output_type": "execute_result"
    }
   ],
   "source": [
    "df.head()"
   ]
  },
  {
   "cell_type": "code",
   "execution_count": 10,
   "id": "44af6a3f",
   "metadata": {
    "execution": {
     "iopub.execute_input": "2023-11-13T13:55:43.758657Z",
     "iopub.status.busy": "2023-11-13T13:55:43.758178Z",
     "iopub.status.idle": "2023-11-13T13:55:43.783260Z",
     "shell.execute_reply": "2023-11-13T13:55:43.781475Z"
    },
    "papermill": {
     "duration": 0.076879,
     "end_time": "2023-11-13T13:55:43.785752",
     "exception": false,
     "start_time": "2023-11-13T13:55:43.708873",
     "status": "completed"
    },
    "tags": []
   },
   "outputs": [
    {
     "name": "stdout",
     "output_type": "stream",
     "text": [
      "<class 'pandas.core.frame.DataFrame'>\n",
      "RangeIndex: 4323 entries, 0 to 4322\n",
      "Data columns (total 6 columns):\n",
      " #   Column              Non-Null Count  Dtype  \n",
      "---  ------              --------------  -----  \n",
      " 0   Rating              4323 non-null   float64\n",
      " 1   Timestamp           4323 non-null   object \n",
      " 2   Enrolled            4323 non-null   object \n",
      " 3   Progress            4323 non-null   float64\n",
      " 4   Questions Asked     4323 non-null   float64\n",
      " 5   Questions Answered  4323 non-null   float64\n",
      "dtypes: float64(4), object(2)\n",
      "memory usage: 202.8+ KB\n"
     ]
    }
   ],
   "source": [
    "df.info()"
   ]
  },
  {
   "cell_type": "code",
   "execution_count": 11,
   "id": "d1cf11f7",
   "metadata": {
    "execution": {
     "iopub.execute_input": "2023-11-13T13:55:43.888789Z",
     "iopub.status.busy": "2023-11-13T13:55:43.888354Z",
     "iopub.status.idle": "2023-11-13T13:55:43.903306Z",
     "shell.execute_reply": "2023-11-13T13:55:43.902257Z"
    },
    "papermill": {
     "duration": 0.071978,
     "end_time": "2023-11-13T13:55:43.906416",
     "exception": false,
     "start_time": "2023-11-13T13:55:43.834438",
     "status": "completed"
    },
    "tags": []
   },
   "outputs": [],
   "source": [
    "df[\"Timestamp\"] = pd.to_datetime(df[\"Timestamp\"]) # veri tipini objeden datetime'a çevirmek"
   ]
  },
  {
   "cell_type": "code",
   "execution_count": 12,
   "id": "dea254a3",
   "metadata": {
    "execution": {
     "iopub.execute_input": "2023-11-13T13:55:44.004677Z",
     "iopub.status.busy": "2023-11-13T13:55:44.004267Z",
     "iopub.status.idle": "2023-11-13T13:55:44.010799Z",
     "shell.execute_reply": "2023-11-13T13:55:44.009621Z"
    },
    "papermill": {
     "duration": 0.058455,
     "end_time": "2023-11-13T13:55:44.013083",
     "exception": false,
     "start_time": "2023-11-13T13:55:43.954628",
     "status": "completed"
    },
    "tags": []
   },
   "outputs": [],
   "source": [
    "current_date = pd.to_datetime('2021-02-10 0:0:0') # bir string değer veriyoruz, bunu datetime tipine çevirip current_time olarak atıyoruz."
   ]
  },
  {
   "cell_type": "code",
   "execution_count": 13,
   "id": "cf9fa28b",
   "metadata": {
    "execution": {
     "iopub.execute_input": "2023-11-13T13:55:44.116307Z",
     "iopub.status.busy": "2023-11-13T13:55:44.115872Z",
     "iopub.status.idle": "2023-11-13T13:55:44.125416Z",
     "shell.execute_reply": "2023-11-13T13:55:44.124232Z"
    },
    "papermill": {
     "duration": 0.066241,
     "end_time": "2023-11-13T13:55:44.128584",
     "exception": false,
     "start_time": "2023-11-13T13:55:44.062343",
     "status": "completed"
    },
    "tags": []
   },
   "outputs": [],
   "source": [
    "df[\"days\"] = (current_date - df[\"Timestamp\"]).dt.days # son işlem üzerinden kaç gün geçtiği"
   ]
  },
  {
   "cell_type": "code",
   "execution_count": 14,
   "id": "7c94c216",
   "metadata": {
    "execution": {
     "iopub.execute_input": "2023-11-13T13:55:44.235197Z",
     "iopub.status.busy": "2023-11-13T13:55:44.234791Z",
     "iopub.status.idle": "2023-11-13T13:55:44.251510Z",
     "shell.execute_reply": "2023-11-13T13:55:44.250573Z"
    },
    "papermill": {
     "duration": 0.073019,
     "end_time": "2023-11-13T13:55:44.253799",
     "exception": false,
     "start_time": "2023-11-13T13:55:44.180780",
     "status": "completed"
    },
    "tags": []
   },
   "outputs": [
    {
     "data": {
      "text/html": [
       "<div>\n",
       "<style scoped>\n",
       "    .dataframe tbody tr th:only-of-type {\n",
       "        vertical-align: middle;\n",
       "    }\n",
       "\n",
       "    .dataframe tbody tr th {\n",
       "        vertical-align: top;\n",
       "    }\n",
       "\n",
       "    .dataframe thead th {\n",
       "        text-align: right;\n",
       "    }\n",
       "</style>\n",
       "<table border=\"1\" class=\"dataframe\">\n",
       "  <thead>\n",
       "    <tr style=\"text-align: right;\">\n",
       "      <th></th>\n",
       "      <th>Rating</th>\n",
       "      <th>Timestamp</th>\n",
       "      <th>Enrolled</th>\n",
       "      <th>Progress</th>\n",
       "      <th>Questions Asked</th>\n",
       "      <th>Questions Answered</th>\n",
       "      <th>days</th>\n",
       "    </tr>\n",
       "  </thead>\n",
       "  <tbody>\n",
       "    <tr>\n",
       "      <th>0</th>\n",
       "      <td>5.0</td>\n",
       "      <td>2021-02-05 07:45:55</td>\n",
       "      <td>2021-01-25 15:12:08</td>\n",
       "      <td>5.0</td>\n",
       "      <td>0.0</td>\n",
       "      <td>0.0</td>\n",
       "      <td>4</td>\n",
       "    </tr>\n",
       "    <tr>\n",
       "      <th>1</th>\n",
       "      <td>5.0</td>\n",
       "      <td>2021-02-04 21:05:32</td>\n",
       "      <td>2021-02-04 20:43:40</td>\n",
       "      <td>1.0</td>\n",
       "      <td>0.0</td>\n",
       "      <td>0.0</td>\n",
       "      <td>5</td>\n",
       "    </tr>\n",
       "    <tr>\n",
       "      <th>2</th>\n",
       "      <td>4.5</td>\n",
       "      <td>2021-02-04 20:34:03</td>\n",
       "      <td>2019-07-04 23:23:27</td>\n",
       "      <td>1.0</td>\n",
       "      <td>0.0</td>\n",
       "      <td>0.0</td>\n",
       "      <td>5</td>\n",
       "    </tr>\n",
       "    <tr>\n",
       "      <th>3</th>\n",
       "      <td>5.0</td>\n",
       "      <td>2021-02-04 16:56:28</td>\n",
       "      <td>2021-02-04 14:41:29</td>\n",
       "      <td>10.0</td>\n",
       "      <td>0.0</td>\n",
       "      <td>0.0</td>\n",
       "      <td>5</td>\n",
       "    </tr>\n",
       "    <tr>\n",
       "      <th>4</th>\n",
       "      <td>4.0</td>\n",
       "      <td>2021-02-04 15:00:24</td>\n",
       "      <td>2020-10-13 03:10:07</td>\n",
       "      <td>10.0</td>\n",
       "      <td>0.0</td>\n",
       "      <td>0.0</td>\n",
       "      <td>5</td>\n",
       "    </tr>\n",
       "  </tbody>\n",
       "</table>\n",
       "</div>"
      ],
      "text/plain": [
       "   Rating           Timestamp             Enrolled  Progress  Questions Asked  \\\n",
       "0     5.0 2021-02-05 07:45:55  2021-01-25 15:12:08       5.0              0.0   \n",
       "1     5.0 2021-02-04 21:05:32  2021-02-04 20:43:40       1.0              0.0   \n",
       "2     4.5 2021-02-04 20:34:03  2019-07-04 23:23:27       1.0              0.0   \n",
       "3     5.0 2021-02-04 16:56:28  2021-02-04 14:41:29      10.0              0.0   \n",
       "4     4.0 2021-02-04 15:00:24  2020-10-13 03:10:07      10.0              0.0   \n",
       "\n",
       "   Questions Answered  days  \n",
       "0                 0.0     4  \n",
       "1                 0.0     5  \n",
       "2                 0.0     5  \n",
       "3                 0.0     5  \n",
       "4                 0.0     5  "
      ]
     },
     "execution_count": 14,
     "metadata": {},
     "output_type": "execute_result"
    }
   ],
   "source": [
    "df.head()"
   ]
  },
  {
   "cell_type": "code",
   "execution_count": 15,
   "id": "e0a963ca",
   "metadata": {
    "execution": {
     "iopub.execute_input": "2023-11-13T13:55:44.356225Z",
     "iopub.status.busy": "2023-11-13T13:55:44.355782Z",
     "iopub.status.idle": "2023-11-13T13:55:44.372447Z",
     "shell.execute_reply": "2023-11-13T13:55:44.371227Z"
    },
    "papermill": {
     "duration": 0.069548,
     "end_time": "2023-11-13T13:55:44.375139",
     "exception": false,
     "start_time": "2023-11-13T13:55:44.305591",
     "status": "completed"
    },
    "tags": []
   },
   "outputs": [
    {
     "data": {
      "text/plain": [
       "Rating                194\n",
       "Timestamp             194\n",
       "Enrolled              194\n",
       "Progress              194\n",
       "Questions Asked       194\n",
       "Questions Answered    194\n",
       "days                  194\n",
       "dtype: int64"
      ]
     },
     "execution_count": 15,
     "metadata": {},
     "output_type": "execute_result"
    }
   ],
   "source": [
    "df[df[\"days\"] <= 30].count() # Son 30 günde 194 tane yorum yapılmıştır."
   ]
  },
  {
   "cell_type": "code",
   "execution_count": 16,
   "id": "f52adf9c",
   "metadata": {
    "execution": {
     "iopub.execute_input": "2023-11-13T13:55:44.481281Z",
     "iopub.status.busy": "2023-11-13T13:55:44.480879Z",
     "iopub.status.idle": "2023-11-13T13:55:44.489652Z",
     "shell.execute_reply": "2023-11-13T13:55:44.488436Z"
    },
    "papermill": {
     "duration": 0.063412,
     "end_time": "2023-11-13T13:55:44.492193",
     "exception": false,
     "start_time": "2023-11-13T13:55:44.428781",
     "status": "completed"
    },
    "tags": []
   },
   "outputs": [
    {
     "data": {
      "text/plain": [
       "4.775773195876289"
      ]
     },
     "execution_count": 16,
     "metadata": {},
     "output_type": "execute_result"
    }
   ],
   "source": [
    "df.loc[df[\"days\"] <= 30, \"Rating\"].mean() # Bu veri setindeki son 30 günde ürün puanı ortalamaları"
   ]
  },
  {
   "cell_type": "code",
   "execution_count": 17,
   "id": "2e478859",
   "metadata": {
    "execution": {
     "iopub.execute_input": "2023-11-13T13:55:44.592994Z",
     "iopub.status.busy": "2023-11-13T13:55:44.592586Z",
     "iopub.status.idle": "2023-11-13T13:55:44.602158Z",
     "shell.execute_reply": "2023-11-13T13:55:44.600885Z"
    },
    "papermill": {
     "duration": 0.062543,
     "end_time": "2023-11-13T13:55:44.604729",
     "exception": false,
     "start_time": "2023-11-13T13:55:44.542186",
     "status": "completed"
    },
    "tags": []
   },
   "outputs": [
    {
     "data": {
      "text/plain": [
       "4.763833992094861"
      ]
     },
     "execution_count": 17,
     "metadata": {},
     "output_type": "execute_result"
    }
   ],
   "source": [
    "df.loc[(df[\"days\"] > 30) & (df[\"days\"] <= 90), \"Rating\"].mean() # 30'dan büyük ve 90 günden küçük veya eşit ürün puanı ortalamaları"
   ]
  },
  {
   "cell_type": "code",
   "execution_count": 18,
   "id": "ef021e83",
   "metadata": {
    "execution": {
     "iopub.execute_input": "2023-11-13T13:55:44.711453Z",
     "iopub.status.busy": "2023-11-13T13:55:44.710469Z",
     "iopub.status.idle": "2023-11-13T13:55:44.720124Z",
     "shell.execute_reply": "2023-11-13T13:55:44.719004Z"
    },
    "papermill": {
     "duration": 0.066112,
     "end_time": "2023-11-13T13:55:44.722609",
     "exception": false,
     "start_time": "2023-11-13T13:55:44.656497",
     "status": "completed"
    },
    "tags": []
   },
   "outputs": [
    {
     "data": {
      "text/plain": [
       "4.752503576537912"
      ]
     },
     "execution_count": 18,
     "metadata": {},
     "output_type": "execute_result"
    }
   ],
   "source": [
    "df.loc[(df[\"days\"] > 90) & (df[\"days\"] <= 180), \"Rating\"].mean() # 90 günden büyük ve 180 günden küçük veya eşit ürün puanı ortalamaları"
   ]
  },
  {
   "cell_type": "code",
   "execution_count": 19,
   "id": "c8907a11",
   "metadata": {
    "execution": {
     "iopub.execute_input": "2023-11-13T13:55:44.824624Z",
     "iopub.status.busy": "2023-11-13T13:55:44.824192Z",
     "iopub.status.idle": "2023-11-13T13:55:44.833288Z",
     "shell.execute_reply": "2023-11-13T13:55:44.832173Z"
    },
    "papermill": {
     "duration": 0.062917,
     "end_time": "2023-11-13T13:55:44.835702",
     "exception": false,
     "start_time": "2023-11-13T13:55:44.772785",
     "status": "completed"
    },
    "tags": []
   },
   "outputs": [
    {
     "data": {
      "text/plain": [
       "4.76641586867305"
      ]
     },
     "execution_count": 19,
     "metadata": {},
     "output_type": "execute_result"
    }
   ],
   "source": [
    "df.loc[(df[\"days\"] > 180), \"Rating\"].mean() # Daha da eskiye gidip 180 günden eski kayıtlara bakmak istersek"
   ]
  },
  {
   "cell_type": "markdown",
   "id": "7aefac3c",
   "metadata": {
    "papermill": {
     "duration": 0.050355,
     "end_time": "2023-11-13T13:55:44.937194",
     "exception": false,
     "start_time": "2023-11-13T13:55:44.886839",
     "status": "completed"
    },
    "tags": []
   },
   "source": [
    "<div style=\"border-radius:10px; border:#65647C solid; padding: 15px; background-color: #F8EDE3; font-size:100%; text-align:left\">\n",
    "\n",
    "<h3 align=\"left\"><font color='#7D6E83'><b>🗨️ Comment: </b></font></h3>\n",
    "\n",
    "* Gördüğümüz üzere son günlerde kursun memnuniyetin artış vardır.\n",
    "* Bu farklı zaman aralıklarında ortalamaları hesapladık lakin amacımız bu zaman aralıkları için bir ağırlık parametresini eklemeliyiz."
   ]
  },
  {
   "cell_type": "code",
   "execution_count": 20,
   "id": "295808b9",
   "metadata": {
    "execution": {
     "iopub.execute_input": "2023-11-13T13:55:45.038792Z",
     "iopub.status.busy": "2023-11-13T13:55:45.038390Z",
     "iopub.status.idle": "2023-11-13T13:55:45.053191Z",
     "shell.execute_reply": "2023-11-13T13:55:45.052214Z"
    },
    "papermill": {
     "duration": 0.068981,
     "end_time": "2023-11-13T13:55:45.055649",
     "exception": false,
     "start_time": "2023-11-13T13:55:44.986668",
     "status": "completed"
    },
    "tags": []
   },
   "outputs": [
    {
     "data": {
      "text/plain": [
       "4.765025682267194"
      ]
     },
     "execution_count": 20,
     "metadata": {},
     "output_type": "execute_result"
    }
   ],
   "source": [
    "# Zamana göre ortalama ağırlıklı puan hesabı;\n",
    "\n",
    "df.loc[df[\"days\"] <= 30, \"Rating\"].mean() * 28/100 + \\\n",
    "    df.loc[(df[\"days\"] > 30) & (df[\"days\"] <= 90), \"Rating\"].mean() * 26/100 + \\\n",
    "    df.loc[(df[\"days\"] > 90) & (df[\"days\"] <= 180), \"Rating\"].mean() * 24/100 + \\\n",
    "    df.loc[(df[\"days\"] > 180), \"Rating\"].mean() * 22/100"
   ]
  },
  {
   "cell_type": "code",
   "execution_count": 21,
   "id": "38afe0c8",
   "metadata": {
    "execution": {
     "iopub.execute_input": "2023-11-13T13:55:45.158435Z",
     "iopub.status.busy": "2023-11-13T13:55:45.158020Z",
     "iopub.status.idle": "2023-11-13T13:55:45.165842Z",
     "shell.execute_reply": "2023-11-13T13:55:45.164502Z"
    },
    "papermill": {
     "duration": 0.061955,
     "end_time": "2023-11-13T13:55:45.168258",
     "exception": false,
     "start_time": "2023-11-13T13:55:45.106303",
     "status": "completed"
    },
    "tags": []
   },
   "outputs": [],
   "source": [
    "def time_based_weighted_average(dataframe, w1=28, w2=26, w3=24, w4=22):\n",
    "    \n",
    "    return dataframe.loc[df[\"days\"] <= 30, \"Rating\"].mean() * w1 / 100 + \\\n",
    "           dataframe.loc[(dataframe[\"days\"] > 30) & (dataframe[\"days\"] <= 90), \"Rating\"].mean() * w2 / 100 + \\\n",
    "           dataframe.loc[(dataframe[\"days\"] > 90) & (dataframe[\"days\"] <= 180), \"Rating\"].mean() * w3 / 100 + \\\n",
    "           dataframe.loc[(dataframe[\"days\"] > 180), \"Rating\"].mean() * w4 / 100"
   ]
  },
  {
   "cell_type": "code",
   "execution_count": 22,
   "id": "95968b72",
   "metadata": {
    "execution": {
     "iopub.execute_input": "2023-11-13T13:55:45.276503Z",
     "iopub.status.busy": "2023-11-13T13:55:45.275839Z",
     "iopub.status.idle": "2023-11-13T13:55:45.288260Z",
     "shell.execute_reply": "2023-11-13T13:55:45.287100Z"
    },
    "papermill": {
     "duration": 0.068514,
     "end_time": "2023-11-13T13:55:45.291575",
     "exception": false,
     "start_time": "2023-11-13T13:55:45.223061",
     "status": "completed"
    },
    "tags": []
   },
   "outputs": [
    {
     "data": {
      "text/plain": [
       "4.765025682267194"
      ]
     },
     "execution_count": 22,
     "metadata": {},
     "output_type": "execute_result"
    }
   ],
   "source": [
    "time_based_weighted_average(df)"
   ]
  },
  {
   "cell_type": "code",
   "execution_count": 23,
   "id": "fb20f4a0",
   "metadata": {
    "execution": {
     "iopub.execute_input": "2023-11-13T13:55:45.393331Z",
     "iopub.status.busy": "2023-11-13T13:55:45.392642Z",
     "iopub.status.idle": "2023-11-13T13:55:45.403792Z",
     "shell.execute_reply": "2023-11-13T13:55:45.402334Z"
    },
    "papermill": {
     "duration": 0.064988,
     "end_time": "2023-11-13T13:55:45.406356",
     "exception": false,
     "start_time": "2023-11-13T13:55:45.341368",
     "status": "completed"
    },
    "tags": []
   },
   "outputs": [
    {
     "data": {
      "text/plain": [
       "4.765491074653962"
      ]
     },
     "execution_count": 23,
     "metadata": {},
     "output_type": "execute_result"
    }
   ],
   "source": [
    "# Ağırlık değerlerini değiştirebiliriz;\n",
    "\n",
    "time_based_weighted_average(df, 30, 26, 22, 22)"
   ]
  },
  {
   "cell_type": "markdown",
   "id": "de55e97a",
   "metadata": {
    "papermill": {
     "duration": 0.049688,
     "end_time": "2023-11-13T13:55:45.505503",
     "exception": false,
     "start_time": "2023-11-13T13:55:45.455815",
     "status": "completed"
    },
    "tags": []
   },
   "source": [
    "<div style=\"border-radius:10px; border:#65647C solid; padding: 15px; background-color: #F8EDE3; font-size:100%; text-align:left\">\n",
    "\n",
    "<h3 align=\"left\"><font color='#7D6E83'><b>🗨️ Comment: </b></font></h3>\n",
    "\n",
    "* Bu ağırlık ortalamalarını toplamları **100** olmak zorundadır.\n",
    "* Virgülden sonraki rakamların önemi büyüktür. E-ticaret sitelelerinde büyük karlılıklara sebep olduğu görülür. Bu yüzden dikkate almalıyız."
   ]
  },
  {
   "cell_type": "markdown",
   "id": "cf1150d6",
   "metadata": {
    "papermill": {
     "duration": 0.049638,
     "end_time": "2023-11-13T13:55:45.606038",
     "exception": false,
     "start_time": "2023-11-13T13:55:45.556400",
     "status": "completed"
    },
    "tags": []
   },
   "source": [
    "<a id = \"4\"></a><br>\n",
    "<p style=\"font-family: 'Pacifico', cursive; font-weight: bold; letter-spacing: 2px; color: #556B2F; font-size: 160%; text-align: left; padding: 0px; border-bottom: 3px solid\">✨Kullanıcı Temelli Ağırlıklı Ortalama (User-Based Weighted Average)✨</p>"
   ]
  },
  {
   "cell_type": "markdown",
   "id": "8d589435",
   "metadata": {
    "papermill": {
     "duration": 0.049018,
     "end_time": "2023-11-13T13:55:45.705484",
     "exception": false,
     "start_time": "2023-11-13T13:55:45.656466",
     "status": "completed"
    },
    "tags": []
   },
   "source": [
    "\"User-Based Weighted Average\" (Kullanıcı Temelli Ağırlıklı Ortalama), bir kullanıcının veya kişinin tercihlerine veya özelliklerine dayalı olarak hesaplanan ağırlıklı bir ortalama değerini ifade eder. Bu tür bir ortalama, kullanıcıların farklı özelliklere veya faktörlere farklı ağırlıklar verdiği durumlarda kullanılır. Genellikle pazarlama, öneri sistemleri ve kişiselleştirilmiş içerik sağlama gibi alanlarda kullanılır.\n",
    "\n",
    "User-Based Weighted Average hesaplaması, her kullanıcının veya kişinin belirli bir özellik veya tercihe ne kadar önem verdiğini yansıtan ağırlıkları içerir. Bu ağırlıklar, kullanıcıların verilerini daha iyi anlamak ve onlara daha özgün hizmetler veya içerikler sunmak için kullanılır.\n",
    "\n",
    "Örnek olarak, bir çevrimiçi alışveriş platformu, kullanıcıların geçmiş alışveriş geçmişi ve tercihlerine dayalı olarak ürünlerin önerilerini sunmak için User-Based Weighted Average kullanabilir. Kullanıcılarının daha önceki satın alma alışkanlıklarına ve tercihlerine daha fazla ağırlık vererek, kişiselleştirilmiş ürün önerileri sunar. Bu, kullanıcı deneyimini iyileştirmeye ve satışları artırmaya yardımcı olabilir."
   ]
  },
  {
   "cell_type": "markdown",
   "id": "a82c5b70",
   "metadata": {
    "papermill": {
     "duration": 0.050263,
     "end_time": "2023-11-13T13:55:45.806249",
     "exception": false,
     "start_time": "2023-11-13T13:55:45.755986",
     "status": "completed"
    },
    "tags": []
   },
   "source": [
    "<div style=\"border-radius:10px; border:#65647C solid; padding: 15px; background-color: #F8EDE3; font-size:100%; text-align:left\">\n",
    "\n",
    "<h3 align=\"left\"><font color='#7D6E83'><b>🗨️ Comment: </b></font></h3>\n",
    "\n",
    "1. Farklı Kullanıcı Gruplarının Farklı Ağırlıkları Olabilir: Kullanıcıların verdiği puanlar aynı ağırlığa sahip olmamalıdır. Çünkü bazı kullanıcılar kursun sadece küçük bir kısmını izleyip bırakmış olabilirler, bu nedenle bu kullanıcıların puanları, kursun daha büyük bir kısmını izleyen ve katkı sağlayan kullanıcıların puanlarından farklı bir ağırlığa sahip olabilir. Bu, kullanıcıların gerçek katkılarını daha iyi yansıtmak ve sahte puanlamaları önlemek için önemlidir.\n",
    "\n",
    "2. Sosyal İspat Kavramı ve Sahte Puanlamalar: Özellikle tek bir alışveriş yapmış veya veri setine göre kursun sadece küçük bir kısmını izleyip yüksek puan veren kullanıcıların puanları, \"Sosyal İspat\" kavramını doğru bir şekilde yansıtmayabilir. Bu tür puanlamaların, ürün veya hizmetin kalitesini objektif bir şekilde yansıtmayabileceği ve sahte puanlamaların oluşma ihtimali olduğu göz önünde bulundurulmalıdır. Bu nedenle, farklı kullanıcı gruplarının farklı ağırlıkları olması, daha dengeli ve güvenilir bir puanlama sistemi oluşturmak için önemlidir."
   ]
  },
  {
   "cell_type": "code",
   "execution_count": 24,
   "id": "9f5779f3",
   "metadata": {
    "execution": {
     "iopub.execute_input": "2023-11-13T13:55:45.932299Z",
     "iopub.status.busy": "2023-11-13T13:55:45.930954Z",
     "iopub.status.idle": "2023-11-13T13:55:45.955504Z",
     "shell.execute_reply": "2023-11-13T13:55:45.953314Z"
    },
    "papermill": {
     "duration": 0.089726,
     "end_time": "2023-11-13T13:55:45.959895",
     "exception": false,
     "start_time": "2023-11-13T13:55:45.870169",
     "status": "completed"
    },
    "tags": []
   },
   "outputs": [
    {
     "data": {
      "text/html": [
       "<div>\n",
       "<style scoped>\n",
       "    .dataframe tbody tr th:only-of-type {\n",
       "        vertical-align: middle;\n",
       "    }\n",
       "\n",
       "    .dataframe tbody tr th {\n",
       "        vertical-align: top;\n",
       "    }\n",
       "\n",
       "    .dataframe thead th {\n",
       "        text-align: right;\n",
       "    }\n",
       "</style>\n",
       "<table border=\"1\" class=\"dataframe\">\n",
       "  <thead>\n",
       "    <tr style=\"text-align: right;\">\n",
       "      <th></th>\n",
       "      <th>Rating</th>\n",
       "      <th>Timestamp</th>\n",
       "      <th>Enrolled</th>\n",
       "      <th>Progress</th>\n",
       "      <th>Questions Asked</th>\n",
       "      <th>Questions Answered</th>\n",
       "      <th>days</th>\n",
       "    </tr>\n",
       "  </thead>\n",
       "  <tbody>\n",
       "    <tr>\n",
       "      <th>0</th>\n",
       "      <td>5.0</td>\n",
       "      <td>2021-02-05 07:45:55</td>\n",
       "      <td>2021-01-25 15:12:08</td>\n",
       "      <td>5.0</td>\n",
       "      <td>0.0</td>\n",
       "      <td>0.0</td>\n",
       "      <td>4</td>\n",
       "    </tr>\n",
       "    <tr>\n",
       "      <th>1</th>\n",
       "      <td>5.0</td>\n",
       "      <td>2021-02-04 21:05:32</td>\n",
       "      <td>2021-02-04 20:43:40</td>\n",
       "      <td>1.0</td>\n",
       "      <td>0.0</td>\n",
       "      <td>0.0</td>\n",
       "      <td>5</td>\n",
       "    </tr>\n",
       "    <tr>\n",
       "      <th>2</th>\n",
       "      <td>4.5</td>\n",
       "      <td>2021-02-04 20:34:03</td>\n",
       "      <td>2019-07-04 23:23:27</td>\n",
       "      <td>1.0</td>\n",
       "      <td>0.0</td>\n",
       "      <td>0.0</td>\n",
       "      <td>5</td>\n",
       "    </tr>\n",
       "    <tr>\n",
       "      <th>3</th>\n",
       "      <td>5.0</td>\n",
       "      <td>2021-02-04 16:56:28</td>\n",
       "      <td>2021-02-04 14:41:29</td>\n",
       "      <td>10.0</td>\n",
       "      <td>0.0</td>\n",
       "      <td>0.0</td>\n",
       "      <td>5</td>\n",
       "    </tr>\n",
       "    <tr>\n",
       "      <th>4</th>\n",
       "      <td>4.0</td>\n",
       "      <td>2021-02-04 15:00:24</td>\n",
       "      <td>2020-10-13 03:10:07</td>\n",
       "      <td>10.0</td>\n",
       "      <td>0.0</td>\n",
       "      <td>0.0</td>\n",
       "      <td>5</td>\n",
       "    </tr>\n",
       "  </tbody>\n",
       "</table>\n",
       "</div>"
      ],
      "text/plain": [
       "   Rating           Timestamp             Enrolled  Progress  Questions Asked  \\\n",
       "0     5.0 2021-02-05 07:45:55  2021-01-25 15:12:08       5.0              0.0   \n",
       "1     5.0 2021-02-04 21:05:32  2021-02-04 20:43:40       1.0              0.0   \n",
       "2     4.5 2021-02-04 20:34:03  2019-07-04 23:23:27       1.0              0.0   \n",
       "3     5.0 2021-02-04 16:56:28  2021-02-04 14:41:29      10.0              0.0   \n",
       "4     4.0 2021-02-04 15:00:24  2020-10-13 03:10:07      10.0              0.0   \n",
       "\n",
       "   Questions Answered  days  \n",
       "0                 0.0     4  \n",
       "1                 0.0     5  \n",
       "2                 0.0     5  \n",
       "3                 0.0     5  \n",
       "4                 0.0     5  "
      ]
     },
     "execution_count": 24,
     "metadata": {},
     "output_type": "execute_result"
    }
   ],
   "source": [
    "df.head()"
   ]
  },
  {
   "cell_type": "code",
   "execution_count": 25,
   "id": "1b35550b",
   "metadata": {
    "execution": {
     "iopub.execute_input": "2023-11-13T13:55:46.071247Z",
     "iopub.status.busy": "2023-11-13T13:55:46.070538Z",
     "iopub.status.idle": "2023-11-13T13:55:46.084700Z",
     "shell.execute_reply": "2023-11-13T13:55:46.083187Z"
    },
    "papermill": {
     "duration": 0.06963,
     "end_time": "2023-11-13T13:55:46.087061",
     "exception": false,
     "start_time": "2023-11-13T13:55:46.017431",
     "status": "completed"
    },
    "tags": []
   },
   "outputs": [
    {
     "data": {
      "text/html": [
       "<div>\n",
       "<style scoped>\n",
       "    .dataframe tbody tr th:only-of-type {\n",
       "        vertical-align: middle;\n",
       "    }\n",
       "\n",
       "    .dataframe tbody tr th {\n",
       "        vertical-align: top;\n",
       "    }\n",
       "\n",
       "    .dataframe thead th {\n",
       "        text-align: right;\n",
       "    }\n",
       "</style>\n",
       "<table border=\"1\" class=\"dataframe\">\n",
       "  <thead>\n",
       "    <tr style=\"text-align: right;\">\n",
       "      <th></th>\n",
       "      <th>Rating</th>\n",
       "    </tr>\n",
       "    <tr>\n",
       "      <th>Progress</th>\n",
       "      <th></th>\n",
       "    </tr>\n",
       "  </thead>\n",
       "  <tbody>\n",
       "    <tr>\n",
       "      <th>0.0</th>\n",
       "      <td>4.673913</td>\n",
       "    </tr>\n",
       "    <tr>\n",
       "      <th>1.0</th>\n",
       "      <td>4.642691</td>\n",
       "    </tr>\n",
       "    <tr>\n",
       "      <th>2.0</th>\n",
       "      <td>4.654762</td>\n",
       "    </tr>\n",
       "    <tr>\n",
       "      <th>3.0</th>\n",
       "      <td>4.663551</td>\n",
       "    </tr>\n",
       "    <tr>\n",
       "      <th>4.0</th>\n",
       "      <td>4.777328</td>\n",
       "    </tr>\n",
       "    <tr>\n",
       "      <th>5.0</th>\n",
       "      <td>4.698210</td>\n",
       "    </tr>\n",
       "    <tr>\n",
       "      <th>6.0</th>\n",
       "      <td>4.755102</td>\n",
       "    </tr>\n",
       "    <tr>\n",
       "      <th>7.0</th>\n",
       "      <td>4.732558</td>\n",
       "    </tr>\n",
       "    <tr>\n",
       "      <th>8.0</th>\n",
       "      <td>4.741935</td>\n",
       "    </tr>\n",
       "    <tr>\n",
       "      <th>9.0</th>\n",
       "      <td>4.831250</td>\n",
       "    </tr>\n",
       "  </tbody>\n",
       "</table>\n",
       "</div>"
      ],
      "text/plain": [
       "            Rating\n",
       "Progress          \n",
       "0.0       4.673913\n",
       "1.0       4.642691\n",
       "2.0       4.654762\n",
       "3.0       4.663551\n",
       "4.0       4.777328\n",
       "5.0       4.698210\n",
       "6.0       4.755102\n",
       "7.0       4.732558\n",
       "8.0       4.741935\n",
       "9.0       4.831250"
      ]
     },
     "execution_count": 25,
     "metadata": {},
     "output_type": "execute_result"
    }
   ],
   "source": [
    "df.groupby(\"Progress\").agg({\"Rating\": \"mean\"}).head(10) # kursun bitirilme oranına göre verilen puan ortalamaları"
   ]
  },
  {
   "cell_type": "code",
   "execution_count": 26,
   "id": "5041d4de",
   "metadata": {
    "execution": {
     "iopub.execute_input": "2023-11-13T13:55:46.192203Z",
     "iopub.status.busy": "2023-11-13T13:55:46.191777Z",
     "iopub.status.idle": "2023-11-13T13:55:46.207266Z",
     "shell.execute_reply": "2023-11-13T13:55:46.205927Z"
    },
    "papermill": {
     "duration": 0.071166,
     "end_time": "2023-11-13T13:55:46.209746",
     "exception": false,
     "start_time": "2023-11-13T13:55:46.138580",
     "status": "completed"
    },
    "tags": []
   },
   "outputs": [
    {
     "data": {
      "text/html": [
       "<div>\n",
       "<style scoped>\n",
       "    .dataframe tbody tr th:only-of-type {\n",
       "        vertical-align: middle;\n",
       "    }\n",
       "\n",
       "    .dataframe tbody tr th {\n",
       "        vertical-align: top;\n",
       "    }\n",
       "\n",
       "    .dataframe thead th {\n",
       "        text-align: right;\n",
       "    }\n",
       "</style>\n",
       "<table border=\"1\" class=\"dataframe\">\n",
       "  <thead>\n",
       "    <tr style=\"text-align: right;\">\n",
       "      <th></th>\n",
       "      <th>Rating</th>\n",
       "    </tr>\n",
       "    <tr>\n",
       "      <th>Progress</th>\n",
       "      <th></th>\n",
       "    </tr>\n",
       "  </thead>\n",
       "  <tbody>\n",
       "    <tr>\n",
       "      <th>87.0</th>\n",
       "      <td>5.000000</td>\n",
       "    </tr>\n",
       "    <tr>\n",
       "      <th>89.0</th>\n",
       "      <td>4.794118</td>\n",
       "    </tr>\n",
       "    <tr>\n",
       "      <th>90.0</th>\n",
       "      <td>4.923077</td>\n",
       "    </tr>\n",
       "    <tr>\n",
       "      <th>91.0</th>\n",
       "      <td>5.000000</td>\n",
       "    </tr>\n",
       "    <tr>\n",
       "      <th>93.0</th>\n",
       "      <td>4.833333</td>\n",
       "    </tr>\n",
       "    <tr>\n",
       "      <th>94.0</th>\n",
       "      <td>5.000000</td>\n",
       "    </tr>\n",
       "    <tr>\n",
       "      <th>95.0</th>\n",
       "      <td>4.794118</td>\n",
       "    </tr>\n",
       "    <tr>\n",
       "      <th>97.0</th>\n",
       "      <td>5.000000</td>\n",
       "    </tr>\n",
       "    <tr>\n",
       "      <th>98.0</th>\n",
       "      <td>5.000000</td>\n",
       "    </tr>\n",
       "    <tr>\n",
       "      <th>100.0</th>\n",
       "      <td>4.866319</td>\n",
       "    </tr>\n",
       "  </tbody>\n",
       "</table>\n",
       "</div>"
      ],
      "text/plain": [
       "            Rating\n",
       "Progress          \n",
       "87.0      5.000000\n",
       "89.0      4.794118\n",
       "90.0      4.923077\n",
       "91.0      5.000000\n",
       "93.0      4.833333\n",
       "94.0      5.000000\n",
       "95.0      4.794118\n",
       "97.0      5.000000\n",
       "98.0      5.000000\n",
       "100.0     4.866319"
      ]
     },
     "execution_count": 26,
     "metadata": {},
     "output_type": "execute_result"
    }
   ],
   "source": [
    "df.groupby(\"Progress\").agg({\"Rating\": \"mean\"}).tail(10) # kursun bitirilme oranına göre verilen puan ortalamaları"
   ]
  },
  {
   "cell_type": "markdown",
   "id": "b124c02c",
   "metadata": {
    "papermill": {
     "duration": 0.057269,
     "end_time": "2023-11-13T13:55:46.324886",
     "exception": false,
     "start_time": "2023-11-13T13:55:46.267617",
     "status": "completed"
    },
    "tags": []
   },
   "source": [
    "<div style=\"border-radius:10px; border:#65647C solid; padding: 15px; background-color: #F8EDE3; font-size:100%; text-align:left\">\n",
    "\n",
    "<h3 align=\"left\"><font color='#7D6E83'><b>🗨️ Comment: </b></font></h3>\n",
    "    \n",
    "* Kurs ilerledikçe verilen puanlarda artışlar söz konusudur. \n",
    "* Kursun ilerleme yüzdesiyle verilen puan arasında bir ilişki olduğunu söyleyebiliriz.\n",
    "* Bu sayede bazı sahtekarlıkların veya yanıltıcı hesaplamaların önüne geçmek için, kursun izlenmesiyle ağırlıklı puan hesabı yapabiliriz."
   ]
  },
  {
   "cell_type": "code",
   "execution_count": 27,
   "id": "94f70794",
   "metadata": {
    "execution": {
     "iopub.execute_input": "2023-11-13T13:55:46.433017Z",
     "iopub.status.busy": "2023-11-13T13:55:46.432570Z",
     "iopub.status.idle": "2023-11-13T13:55:46.447967Z",
     "shell.execute_reply": "2023-11-13T13:55:46.446784Z"
    },
    "papermill": {
     "duration": 0.070578,
     "end_time": "2023-11-13T13:55:46.450358",
     "exception": false,
     "start_time": "2023-11-13T13:55:46.379780",
     "status": "completed"
    },
    "tags": []
   },
   "outputs": [
    {
     "data": {
      "text/plain": [
       "4.800257704672543"
      ]
     },
     "execution_count": 27,
     "metadata": {},
     "output_type": "execute_result"
    }
   ],
   "source": [
    "df.loc[df[\"Progress\"] <= 10, \"Rating\"].mean() * 22 / 100 + \\\n",
    "    df.loc[(df[\"Progress\"] > 10) & (df[\"Progress\"] <= 45), \"Rating\"].mean() * 24 / 100 + \\\n",
    "    df.loc[(df[\"Progress\"] > 45) & (df[\"Progress\"] <= 75), \"Rating\"].mean() * 26 / 100 + \\\n",
    "    df.loc[(df[\"Progress\"] > 75), \"Rating\"].mean() * 28 / 100"
   ]
  },
  {
   "cell_type": "code",
   "execution_count": 28,
   "id": "6d7c2747",
   "metadata": {
    "execution": {
     "iopub.execute_input": "2023-11-13T13:55:46.561161Z",
     "iopub.status.busy": "2023-11-13T13:55:46.560713Z",
     "iopub.status.idle": "2023-11-13T13:55:46.568883Z",
     "shell.execute_reply": "2023-11-13T13:55:46.567795Z"
    },
    "papermill": {
     "duration": 0.065126,
     "end_time": "2023-11-13T13:55:46.571181",
     "exception": false,
     "start_time": "2023-11-13T13:55:46.506055",
     "status": "completed"
    },
    "tags": []
   },
   "outputs": [],
   "source": [
    "def user_based_weighted_average(dataframe, w1=22, w2=24, w3=26, w4=28):\n",
    "    \n",
    "    return dataframe.loc[dataframe[\"Progress\"] <= 10, \"Rating\"].mean() * w1 / 100 + \\\n",
    "           dataframe.loc[(dataframe[\"Progress\"] > 10) & (dataframe[\"Progress\"] <= 45), \"Rating\"].mean() * w2 / 100 + \\\n",
    "           dataframe.loc[(dataframe[\"Progress\"] > 45) & (dataframe[\"Progress\"] <= 75), \"Rating\"].mean() * w3 / 100 + \\\n",
    "           dataframe.loc[(dataframe[\"Progress\"] > 75), \"Rating\"].mean() * w4 / 100"
   ]
  },
  {
   "cell_type": "code",
   "execution_count": 29,
   "id": "faf12985",
   "metadata": {
    "execution": {
     "iopub.execute_input": "2023-11-13T13:55:46.683130Z",
     "iopub.status.busy": "2023-11-13T13:55:46.682520Z",
     "iopub.status.idle": "2023-11-13T13:55:46.693047Z",
     "shell.execute_reply": "2023-11-13T13:55:46.692202Z"
    },
    "papermill": {
     "duration": 0.068757,
     "end_time": "2023-11-13T13:55:46.695142",
     "exception": false,
     "start_time": "2023-11-13T13:55:46.626385",
     "status": "completed"
    },
    "tags": []
   },
   "outputs": [
    {
     "data": {
      "text/plain": [
       "4.803286469062915"
      ]
     },
     "execution_count": 29,
     "metadata": {},
     "output_type": "execute_result"
    }
   ],
   "source": [
    "user_based_weighted_average(df, 20, 24, 26, 30)"
   ]
  },
  {
   "cell_type": "markdown",
   "id": "a7dee8a1",
   "metadata": {
    "papermill": {
     "duration": 0.058071,
     "end_time": "2023-11-13T13:55:46.811489",
     "exception": false,
     "start_time": "2023-11-13T13:55:46.753418",
     "status": "completed"
    },
    "tags": []
   },
   "source": [
    "<a id = \"5\"></a><br>\n",
    "<p style=\"font-family: 'Pacifico', cursive; font-weight: bold; letter-spacing: 2px; color: #556B2F; font-size: 160%; text-align: left; padding: 0px; border-bottom: 3px solid\">✨Ağırlıklı Derecelendirme (Weighted Rating)✨</p>"
   ]
  },
  {
   "cell_type": "markdown",
   "id": "b1c6ebe2",
   "metadata": {
    "papermill": {
     "duration": 0.051749,
     "end_time": "2023-11-13T13:55:46.917175",
     "exception": false,
     "start_time": "2023-11-13T13:55:46.865426",
     "status": "completed"
    },
    "tags": []
   },
   "source": [
    "\"Weighted Rating,\" belirli bir öğenin veya ürünün puanlamasının hesaplanmasında, farklı faktörlere veya özelliklere farklı ağırlıklar verilerek hesaplanan bir ortalama değeri ifade eder. Bu, bir ürünün veya öğenin kalitesini veya değerini daha hassas bir şekilde değerlendirmek için kullanılır. Ağırlıklar, belirli faktörlerin veya özelliklerin önem sırasına göre belirlenir.\n",
    "\n",
    "Örneğin, bir film incelemesi sitesinde, filmin ortalama puanı hesaplanırken eleştirmenlerin puanlarına ve kullanıcıların puanlarına farklı ağırlıklar verilebilir. Eleştirmenlerin puanlarına daha yüksek bir ağırlık verilerek, eleştirmenlerin genellikle filmin sanatsal veya teknik kalitesi üzerinde daha fazla etkisi olduğu varsayılırken, kullanıcıların puanlarına daha düşük bir ağırlık verilerek, genel izleyici kitlesinin filmi nasıl değerlendirdiği göz ardı edilmiş olur."
   ]
  },
  {
   "cell_type": "markdown",
   "id": "50e43020",
   "metadata": {
    "papermill": {
     "duration": 0.052935,
     "end_time": "2023-11-13T13:55:47.024452",
     "exception": false,
     "start_time": "2023-11-13T13:55:46.971517",
     "status": "completed"
    },
    "tags": []
   },
   "source": [
    "<div style=\"border-radius:10px; border:#65647C solid; padding: 15px; background-color: #F8EDE3; font-size:100%; text-align:left\">\n",
    "\n",
    "<h3 align=\"left\"><font color='#7D6E83'><b>🗨️ Comment: </b></font></h3>\n",
    "\n",
    "* Bu aşamada zaman temelli ve kullanıcı temelli ağırlık hesaplamalarını bir araya getirerek tek fonksiyon ile daha tutarlı bir sonuç elde etmeye çalışacağız."
   ]
  },
  {
   "cell_type": "code",
   "execution_count": 30,
   "id": "4a7d92c6",
   "metadata": {
    "execution": {
     "iopub.execute_input": "2023-11-13T13:55:47.131821Z",
     "iopub.status.busy": "2023-11-13T13:55:47.131055Z",
     "iopub.status.idle": "2023-11-13T13:55:47.136395Z",
     "shell.execute_reply": "2023-11-13T13:55:47.135618Z"
    },
    "papermill": {
     "duration": 0.061396,
     "end_time": "2023-11-13T13:55:47.138653",
     "exception": false,
     "start_time": "2023-11-13T13:55:47.077257",
     "status": "completed"
    },
    "tags": []
   },
   "outputs": [],
   "source": [
    "def course_weighted_rating(dataframe, time_w=50, user_w=50):\n",
    "    \n",
    "    return time_based_weighted_average(dataframe) * time_w/100 + user_based_weighted_average(dataframe)*user_w/100"
   ]
  },
  {
   "cell_type": "markdown",
   "id": "ea09663f",
   "metadata": {
    "papermill": {
     "duration": 0.05187,
     "end_time": "2023-11-13T13:55:47.243293",
     "exception": false,
     "start_time": "2023-11-13T13:55:47.191423",
     "status": "completed"
    },
    "tags": []
   },
   "source": [
    "<div style=\"border-radius:10px; border:#65647C solid; padding: 15px; background-color: #F8EDE3; font-size:100%; text-align:left\">\n",
    "\n",
    "<h3 align=\"left\"><font color='#7D6E83'><b>🗨️ Comment: </b></font></h3>\n",
    "    \n",
    "* **time_w:** zamandan gelecek olan puanın ağırlığı\n",
    "* **user_w:** kullanıcıdan gelecek olan puanın ağırlığı"
   ]
  },
  {
   "cell_type": "code",
   "execution_count": 31,
   "id": "7385b4e1",
   "metadata": {
    "execution": {
     "iopub.execute_input": "2023-11-13T13:55:47.348817Z",
     "iopub.status.busy": "2023-11-13T13:55:47.348063Z",
     "iopub.status.idle": "2023-11-13T13:55:47.360075Z",
     "shell.execute_reply": "2023-11-13T13:55:47.359191Z"
    },
    "papermill": {
     "duration": 0.067355,
     "end_time": "2023-11-13T13:55:47.362403",
     "exception": false,
     "start_time": "2023-11-13T13:55:47.295048",
     "status": "completed"
    },
    "tags": []
   },
   "outputs": [
    {
     "data": {
      "text/plain": [
       "4.782641693469868"
      ]
     },
     "execution_count": 31,
     "metadata": {},
     "output_type": "execute_result"
    }
   ],
   "source": [
    "course_weighted_rating(df)"
   ]
  },
  {
   "cell_type": "code",
   "execution_count": 32,
   "id": "b476e5a5",
   "metadata": {
    "execution": {
     "iopub.execute_input": "2023-11-13T13:55:47.470932Z",
     "iopub.status.busy": "2023-11-13T13:55:47.470161Z",
     "iopub.status.idle": "2023-11-13T13:55:47.483427Z",
     "shell.execute_reply": "2023-11-13T13:55:47.482423Z"
    },
    "papermill": {
     "duration": 0.070495,
     "end_time": "2023-11-13T13:55:47.485633",
     "exception": false,
     "start_time": "2023-11-13T13:55:47.415138",
     "status": "completed"
    },
    "tags": []
   },
   "outputs": [
    {
     "data": {
      "text/plain": [
       "4.786164895710403"
      ]
     },
     "execution_count": 32,
     "metadata": {},
     "output_type": "execute_result"
    }
   ],
   "source": [
    "course_weighted_rating(df, time_w=40, user_w=60)"
   ]
  },
  {
   "cell_type": "markdown",
   "id": "ec6a2c7e",
   "metadata": {
    "papermill": {
     "duration": 0.054061,
     "end_time": "2023-11-13T13:55:47.592149",
     "exception": false,
     "start_time": "2023-11-13T13:55:47.538088",
     "status": "completed"
    },
    "tags": []
   },
   "source": [
    "<a id=\"6\"></a>\n",
    "<h1 style=\"border-radius: 10px; border: 2px solid #6B8E23; background-color: #F5F5DC; font-family: 'Pacifico', cursive; font-size: 200%; text-align: center; border-radius: 15px 50px; padding: 15px; box-shadow: 5px 5px 5px #556B2F; color: #556B2F;\">🤩 Sorting Products 🤩</h1>"
   ]
  },
  {
   "cell_type": "markdown",
   "id": "d86cc5ed",
   "metadata": {
    "papermill": {
     "duration": 0.053451,
     "end_time": "2023-11-13T13:55:47.697766",
     "exception": false,
     "start_time": "2023-11-13T13:55:47.644315",
     "status": "completed"
    },
    "tags": []
   },
   "source": [
    "\"Sorting Products,\" bir çevrimiçi alışveriş platformu veya e-ticaret web sitesi üzerinde sunulan ürünlerin, kullanıcıların belirli kriterlere göre sıralandığı bir işlemdir. Kullanıcılar, genellikle çevrimiçi alışveriş sırasında ürünleri fiyata, boyuta, rengine, markasına, popülerliğine veya diğer özelliklere göre sıralamak isteyebilirler. \n",
    "\n",
    "Örneğin, bir giyim web sitesinde, bir kullanıcı \"fiyat düşükten yükseğe\" sıralama seçeneğini seçerek, bütçesine uygun ürünleri hızla bulabilir. Bu, kullanıcıların istedikleri ürünü veya kategoriyi daha kolay seçmelerine ve karşılaştırmalarına olanak tanır."
   ]
  },
  {
   "cell_type": "markdown",
   "id": "b6e4b4d7",
   "metadata": {
    "papermill": {
     "duration": 0.053166,
     "end_time": "2023-11-13T13:55:47.803622",
     "exception": false,
     "start_time": "2023-11-13T13:55:47.750456",
     "status": "completed"
    },
    "tags": []
   },
   "source": [
    "<a id = \"7\"></a><br>\n",
    "<p style=\"font-family: 'Pacifico', cursive; font-weight: bold; letter-spacing: 2px; color: #556B2F; font-size: 160%; text-align: left; padding: 0px; border-bottom: 3px solid\">✨Derecelendirmeye Göre Sıralama (Sorting by Rating)✨</p>"
   ]
  },
  {
   "cell_type": "code",
   "execution_count": 33,
   "id": "93178404",
   "metadata": {
    "execution": {
     "iopub.execute_input": "2023-11-13T13:55:47.911583Z",
     "iopub.status.busy": "2023-11-13T13:55:47.910893Z",
     "iopub.status.idle": "2023-11-13T13:55:47.915529Z",
     "shell.execute_reply": "2023-11-13T13:55:47.914759Z"
    },
    "papermill": {
     "duration": 0.061527,
     "end_time": "2023-11-13T13:55:47.917774",
     "exception": false,
     "start_time": "2023-11-13T13:55:47.856247",
     "status": "completed"
    },
    "tags": []
   },
   "outputs": [],
   "source": [
    "import pandas as pd\n",
    "import math\n",
    "import scipy.stats as st\n",
    "from sklearn.preprocessing import MinMaxScaler\n",
    "\n",
    "# pd.set_option('display.max_columns', None)\n",
    "# pd.set_option('display.max_rows', None)\n",
    "# pd.set_option('display.expand_frame_repr', False)\n",
    "# pd.set_option('display.float_format', lambda x: '%.5f' % x)"
   ]
  },
  {
   "cell_type": "code",
   "execution_count": 34,
   "id": "78cd286a",
   "metadata": {
    "execution": {
     "iopub.execute_input": "2023-11-13T13:55:48.026860Z",
     "iopub.status.busy": "2023-11-13T13:55:48.025829Z",
     "iopub.status.idle": "2023-11-13T13:55:48.039490Z",
     "shell.execute_reply": "2023-11-13T13:55:48.038173Z"
    },
    "papermill": {
     "duration": 0.070145,
     "end_time": "2023-11-13T13:55:48.042276",
     "exception": false,
     "start_time": "2023-11-13T13:55:47.972131",
     "status": "completed"
    },
    "tags": []
   },
   "outputs": [],
   "source": [
    "df = pd.read_csv(\"/kaggle/input/product-sortingdataset/product_sorting.csv\")"
   ]
  },
  {
   "cell_type": "code",
   "execution_count": 35,
   "id": "a4278a47",
   "metadata": {
    "execution": {
     "iopub.execute_input": "2023-11-13T13:55:48.150672Z",
     "iopub.status.busy": "2023-11-13T13:55:48.150247Z",
     "iopub.status.idle": "2023-11-13T13:55:48.156624Z",
     "shell.execute_reply": "2023-11-13T13:55:48.155812Z"
    },
    "papermill": {
     "duration": 0.063703,
     "end_time": "2023-11-13T13:55:48.158689",
     "exception": false,
     "start_time": "2023-11-13T13:55:48.094986",
     "status": "completed"
    },
    "tags": []
   },
   "outputs": [
    {
     "data": {
      "text/plain": [
       "(32, 10)"
      ]
     },
     "execution_count": 35,
     "metadata": {},
     "output_type": "execute_result"
    }
   ],
   "source": [
    "df.shape"
   ]
  },
  {
   "cell_type": "code",
   "execution_count": 36,
   "id": "5dfbc118",
   "metadata": {
    "execution": {
     "iopub.execute_input": "2023-11-13T13:55:48.265605Z",
     "iopub.status.busy": "2023-11-13T13:55:48.264852Z",
     "iopub.status.idle": "2023-11-13T13:55:48.280180Z",
     "shell.execute_reply": "2023-11-13T13:55:48.278358Z"
    },
    "papermill": {
     "duration": 0.071573,
     "end_time": "2023-11-13T13:55:48.282614",
     "exception": false,
     "start_time": "2023-11-13T13:55:48.211041",
     "status": "completed"
    },
    "tags": []
   },
   "outputs": [
    {
     "data": {
      "text/html": [
       "<div>\n",
       "<style scoped>\n",
       "    .dataframe tbody tr th:only-of-type {\n",
       "        vertical-align: middle;\n",
       "    }\n",
       "\n",
       "    .dataframe tbody tr th {\n",
       "        vertical-align: top;\n",
       "    }\n",
       "\n",
       "    .dataframe thead th {\n",
       "        text-align: right;\n",
       "    }\n",
       "</style>\n",
       "<table border=\"1\" class=\"dataframe\">\n",
       "  <thead>\n",
       "    <tr style=\"text-align: right;\">\n",
       "      <th></th>\n",
       "      <th>course_name</th>\n",
       "      <th>instructor_name</th>\n",
       "      <th>purchase_count</th>\n",
       "      <th>rating</th>\n",
       "      <th>commment_count</th>\n",
       "      <th>5_point</th>\n",
       "      <th>4_point</th>\n",
       "      <th>3_point</th>\n",
       "      <th>2_point</th>\n",
       "      <th>1_point</th>\n",
       "    </tr>\n",
       "  </thead>\n",
       "  <tbody>\n",
       "    <tr>\n",
       "      <th>0</th>\n",
       "      <td>(50+ Saat) Python A-Z™: Veri Bilimi ve Machine...</td>\n",
       "      <td>Veri Bilimi Okulu</td>\n",
       "      <td>17380</td>\n",
       "      <td>4.8</td>\n",
       "      <td>4621</td>\n",
       "      <td>3466</td>\n",
       "      <td>924</td>\n",
       "      <td>185</td>\n",
       "      <td>46</td>\n",
       "      <td>6</td>\n",
       "    </tr>\n",
       "    <tr>\n",
       "      <th>1</th>\n",
       "      <td>Python: Yapay Zeka ve Veri Bilimi için Python ...</td>\n",
       "      <td>Veri Bilimi Okulu</td>\n",
       "      <td>48291</td>\n",
       "      <td>4.6</td>\n",
       "      <td>4488</td>\n",
       "      <td>2962</td>\n",
       "      <td>1122</td>\n",
       "      <td>314</td>\n",
       "      <td>45</td>\n",
       "      <td>45</td>\n",
       "    </tr>\n",
       "    <tr>\n",
       "      <th>2</th>\n",
       "      <td>5 Saatte Veri Bilimci Olun (Valla Billa)</td>\n",
       "      <td>Instructor_1</td>\n",
       "      <td>18693</td>\n",
       "      <td>4.4</td>\n",
       "      <td>2362</td>\n",
       "      <td>1582</td>\n",
       "      <td>567</td>\n",
       "      <td>165</td>\n",
       "      <td>24</td>\n",
       "      <td>24</td>\n",
       "    </tr>\n",
       "    <tr>\n",
       "      <th>3</th>\n",
       "      <td>R ile Veri Bilimi ve Machine Learning (35 Saat)</td>\n",
       "      <td>Veri Bilimi Okulu</td>\n",
       "      <td>6626</td>\n",
       "      <td>4.6</td>\n",
       "      <td>1027</td>\n",
       "      <td>688</td>\n",
       "      <td>257</td>\n",
       "      <td>51</td>\n",
       "      <td>10</td>\n",
       "      <td>21</td>\n",
       "    </tr>\n",
       "    <tr>\n",
       "      <th>4</th>\n",
       "      <td>(2020) Python ile Makine Öğrenmesi (Machine Le...</td>\n",
       "      <td>Veri Bilimi Okulu</td>\n",
       "      <td>11314</td>\n",
       "      <td>4.6</td>\n",
       "      <td>969</td>\n",
       "      <td>717</td>\n",
       "      <td>194</td>\n",
       "      <td>38</td>\n",
       "      <td>10</td>\n",
       "      <td>10</td>\n",
       "    </tr>\n",
       "  </tbody>\n",
       "</table>\n",
       "</div>"
      ],
      "text/plain": [
       "                                         course_name    instructor_name  \\\n",
       "0  (50+ Saat) Python A-Z™: Veri Bilimi ve Machine...  Veri Bilimi Okulu   \n",
       "1  Python: Yapay Zeka ve Veri Bilimi için Python ...  Veri Bilimi Okulu   \n",
       "2           5 Saatte Veri Bilimci Olun (Valla Billa)       Instructor_1   \n",
       "3    R ile Veri Bilimi ve Machine Learning (35 Saat)  Veri Bilimi Okulu   \n",
       "4  (2020) Python ile Makine Öğrenmesi (Machine Le...  Veri Bilimi Okulu   \n",
       "\n",
       "   purchase_count  rating  commment_count  5_point  4_point  3_point  2_point  \\\n",
       "0           17380     4.8            4621     3466      924      185       46   \n",
       "1           48291     4.6            4488     2962     1122      314       45   \n",
       "2           18693     4.4            2362     1582      567      165       24   \n",
       "3            6626     4.6            1027      688      257       51       10   \n",
       "4           11314     4.6             969      717      194       38       10   \n",
       "\n",
       "   1_point  \n",
       "0        6  \n",
       "1       45  \n",
       "2       24  \n",
       "3       21  \n",
       "4       10  "
      ]
     },
     "execution_count": 36,
     "metadata": {},
     "output_type": "execute_result"
    }
   ],
   "source": [
    "df.head()"
   ]
  },
  {
   "cell_type": "markdown",
   "id": "2860fd97",
   "metadata": {
    "papermill": {
     "duration": 0.053012,
     "end_time": "2023-11-13T13:55:48.388388",
     "exception": false,
     "start_time": "2023-11-13T13:55:48.335376",
     "status": "completed"
    },
    "tags": []
   },
   "source": [
    "<div style=\"border-radius: 10px; border: #6B8E23 solid; padding: 15px; background-color: #F5F5DC; font-size: 100%; text-align: left\">\n",
    "\n",
    "<h3 align=\"left\"><font color='#556B2F'>👀 Features : </font></h3>\n",
    "    \n",
    "* **course_name:** \"Veri Bilimi Okulu\" eğitmenine ait kursların dışındakiler \"Course_1,Course_2...\" şeklinde sıralanmış durumdadır.\n",
    "* **instructor_name:** sadece \"Veri Bilimi Okulu\" eğitmenin ismi açık, diğerlerinin ismi \"Instructor_1,Instructor_2...\" şeklinde sıralanmış durumdadır.\n",
    "* **purchase_count:** satın alma sayıları\n",
    "* **rating:** kursun ortalama puanı\n",
    "* **commment_count:** kursun aldığı yorum sayısı\n",
    "* **5_point,4_point,3_point,2_point,1_point:** yorumların puan cinsinden dağılımı"
   ]
  },
  {
   "cell_type": "code",
   "execution_count": 37,
   "id": "fa78b699",
   "metadata": {
    "execution": {
     "iopub.execute_input": "2023-11-13T13:55:48.494798Z",
     "iopub.status.busy": "2023-11-13T13:55:48.494071Z",
     "iopub.status.idle": "2023-11-13T13:55:48.514042Z",
     "shell.execute_reply": "2023-11-13T13:55:48.512821Z"
    },
    "papermill": {
     "duration": 0.077081,
     "end_time": "2023-11-13T13:55:48.516512",
     "exception": false,
     "start_time": "2023-11-13T13:55:48.439431",
     "status": "completed"
    },
    "tags": []
   },
   "outputs": [
    {
     "data": {
      "text/html": [
       "<div>\n",
       "<style scoped>\n",
       "    .dataframe tbody tr th:only-of-type {\n",
       "        vertical-align: middle;\n",
       "    }\n",
       "\n",
       "    .dataframe tbody tr th {\n",
       "        vertical-align: top;\n",
       "    }\n",
       "\n",
       "    .dataframe thead th {\n",
       "        text-align: right;\n",
       "    }\n",
       "</style>\n",
       "<table border=\"1\" class=\"dataframe\">\n",
       "  <thead>\n",
       "    <tr style=\"text-align: right;\">\n",
       "      <th></th>\n",
       "      <th>course_name</th>\n",
       "      <th>instructor_name</th>\n",
       "      <th>purchase_count</th>\n",
       "      <th>rating</th>\n",
       "      <th>commment_count</th>\n",
       "      <th>5_point</th>\n",
       "      <th>4_point</th>\n",
       "      <th>3_point</th>\n",
       "      <th>2_point</th>\n",
       "      <th>1_point</th>\n",
       "    </tr>\n",
       "  </thead>\n",
       "  <tbody>\n",
       "    <tr>\n",
       "      <th>0</th>\n",
       "      <td>(50+ Saat) Python A-Z™: Veri Bilimi ve Machine...</td>\n",
       "      <td>Veri Bilimi Okulu</td>\n",
       "      <td>17380</td>\n",
       "      <td>4.8</td>\n",
       "      <td>4621</td>\n",
       "      <td>3466</td>\n",
       "      <td>924</td>\n",
       "      <td>185</td>\n",
       "      <td>46</td>\n",
       "      <td>6</td>\n",
       "    </tr>\n",
       "    <tr>\n",
       "      <th>10</th>\n",
       "      <td>İleri Düzey Excel|Dashboard|Excel İp Uçları</td>\n",
       "      <td>Veri Bilimi Okulu</td>\n",
       "      <td>9554</td>\n",
       "      <td>4.8</td>\n",
       "      <td>2266</td>\n",
       "      <td>1654</td>\n",
       "      <td>499</td>\n",
       "      <td>91</td>\n",
       "      <td>22</td>\n",
       "      <td>0</td>\n",
       "    </tr>\n",
       "    <tr>\n",
       "      <th>19</th>\n",
       "      <td>Alıştırmalarla SQL Öğreniyorum</td>\n",
       "      <td>Veri Bilimi Okulu</td>\n",
       "      <td>3155</td>\n",
       "      <td>4.8</td>\n",
       "      <td>235</td>\n",
       "      <td>200</td>\n",
       "      <td>31</td>\n",
       "      <td>4</td>\n",
       "      <td>0</td>\n",
       "      <td>0</td>\n",
       "    </tr>\n",
       "    <tr>\n",
       "      <th>5</th>\n",
       "      <td>Course_1</td>\n",
       "      <td>Instructor_2</td>\n",
       "      <td>4601</td>\n",
       "      <td>4.8</td>\n",
       "      <td>213</td>\n",
       "      <td>164</td>\n",
       "      <td>45</td>\n",
       "      <td>4</td>\n",
       "      <td>0</td>\n",
       "      <td>0</td>\n",
       "    </tr>\n",
       "    <tr>\n",
       "      <th>6</th>\n",
       "      <td>Course_2</td>\n",
       "      <td>Instructor_3</td>\n",
       "      <td>3171</td>\n",
       "      <td>4.7</td>\n",
       "      <td>856</td>\n",
       "      <td>582</td>\n",
       "      <td>205</td>\n",
       "      <td>51</td>\n",
       "      <td>9</td>\n",
       "      <td>9</td>\n",
       "    </tr>\n",
       "    <tr>\n",
       "      <th>14</th>\n",
       "      <td>Uçtan Uca SQL Server Eğitimi</td>\n",
       "      <td>Veri Bilimi Okulu</td>\n",
       "      <td>12893</td>\n",
       "      <td>4.7</td>\n",
       "      <td>2425</td>\n",
       "      <td>1722</td>\n",
       "      <td>510</td>\n",
       "      <td>145</td>\n",
       "      <td>24</td>\n",
       "      <td>24</td>\n",
       "    </tr>\n",
       "    <tr>\n",
       "      <th>8</th>\n",
       "      <td>A'dan Z'ye Apache Spark (Scala &amp; Python)</td>\n",
       "      <td>Veri Bilimi Okulu</td>\n",
       "      <td>6920</td>\n",
       "      <td>4.7</td>\n",
       "      <td>214</td>\n",
       "      <td>154</td>\n",
       "      <td>41</td>\n",
       "      <td>13</td>\n",
       "      <td>2</td>\n",
       "      <td>4</td>\n",
       "    </tr>\n",
       "    <tr>\n",
       "      <th>13</th>\n",
       "      <td>Course_5</td>\n",
       "      <td>Instructor_6</td>\n",
       "      <td>6056</td>\n",
       "      <td>4.7</td>\n",
       "      <td>144</td>\n",
       "      <td>82</td>\n",
       "      <td>46</td>\n",
       "      <td>12</td>\n",
       "      <td>1</td>\n",
       "      <td>3</td>\n",
       "    </tr>\n",
       "    <tr>\n",
       "      <th>27</th>\n",
       "      <td>Course_15</td>\n",
       "      <td>Instructor_1</td>\n",
       "      <td>1164</td>\n",
       "      <td>4.6</td>\n",
       "      <td>98</td>\n",
       "      <td>65</td>\n",
       "      <td>24</td>\n",
       "      <td>6</td>\n",
       "      <td>0</td>\n",
       "      <td>3</td>\n",
       "    </tr>\n",
       "    <tr>\n",
       "      <th>1</th>\n",
       "      <td>Python: Yapay Zeka ve Veri Bilimi için Python ...</td>\n",
       "      <td>Veri Bilimi Okulu</td>\n",
       "      <td>48291</td>\n",
       "      <td>4.6</td>\n",
       "      <td>4488</td>\n",
       "      <td>2962</td>\n",
       "      <td>1122</td>\n",
       "      <td>314</td>\n",
       "      <td>45</td>\n",
       "      <td>45</td>\n",
       "    </tr>\n",
       "    <tr>\n",
       "      <th>16</th>\n",
       "      <td>Course_6</td>\n",
       "      <td>Instructor_7</td>\n",
       "      <td>140</td>\n",
       "      <td>4.6</td>\n",
       "      <td>20</td>\n",
       "      <td>10</td>\n",
       "      <td>10</td>\n",
       "      <td>0</td>\n",
       "      <td>0</td>\n",
       "      <td>0</td>\n",
       "    </tr>\n",
       "    <tr>\n",
       "      <th>4</th>\n",
       "      <td>(2020) Python ile Makine Öğrenmesi (Machine Le...</td>\n",
       "      <td>Veri Bilimi Okulu</td>\n",
       "      <td>11314</td>\n",
       "      <td>4.6</td>\n",
       "      <td>969</td>\n",
       "      <td>717</td>\n",
       "      <td>194</td>\n",
       "      <td>38</td>\n",
       "      <td>10</td>\n",
       "      <td>10</td>\n",
       "    </tr>\n",
       "    <tr>\n",
       "      <th>3</th>\n",
       "      <td>R ile Veri Bilimi ve Machine Learning (35 Saat)</td>\n",
       "      <td>Veri Bilimi Okulu</td>\n",
       "      <td>6626</td>\n",
       "      <td>4.6</td>\n",
       "      <td>1027</td>\n",
       "      <td>688</td>\n",
       "      <td>257</td>\n",
       "      <td>51</td>\n",
       "      <td>10</td>\n",
       "      <td>21</td>\n",
       "    </tr>\n",
       "    <tr>\n",
       "      <th>21</th>\n",
       "      <td>Course_10</td>\n",
       "      <td>Instructor_10</td>\n",
       "      <td>723</td>\n",
       "      <td>4.5</td>\n",
       "      <td>130</td>\n",
       "      <td>68</td>\n",
       "      <td>47</td>\n",
       "      <td>9</td>\n",
       "      <td>3</td>\n",
       "      <td>3</td>\n",
       "    </tr>\n",
       "    <tr>\n",
       "      <th>7</th>\n",
       "      <td>Veri Bilimi için İstatistik: Python ile İstati...</td>\n",
       "      <td>Veri Bilimi Okulu</td>\n",
       "      <td>929</td>\n",
       "      <td>4.5</td>\n",
       "      <td>126</td>\n",
       "      <td>88</td>\n",
       "      <td>26</td>\n",
       "      <td>9</td>\n",
       "      <td>0</td>\n",
       "      <td>3</td>\n",
       "    </tr>\n",
       "  </tbody>\n",
       "</table>\n",
       "</div>"
      ],
      "text/plain": [
       "                                          course_name    instructor_name  \\\n",
       "0   (50+ Saat) Python A-Z™: Veri Bilimi ve Machine...  Veri Bilimi Okulu   \n",
       "10        İleri Düzey Excel|Dashboard|Excel İp Uçları  Veri Bilimi Okulu   \n",
       "19                     Alıştırmalarla SQL Öğreniyorum  Veri Bilimi Okulu   \n",
       "5                                            Course_1       Instructor_2   \n",
       "6                                            Course_2       Instructor_3   \n",
       "14                       Uçtan Uca SQL Server Eğitimi  Veri Bilimi Okulu   \n",
       "8            A'dan Z'ye Apache Spark (Scala & Python)  Veri Bilimi Okulu   \n",
       "13                                           Course_5       Instructor_6   \n",
       "27                                          Course_15       Instructor_1   \n",
       "1   Python: Yapay Zeka ve Veri Bilimi için Python ...  Veri Bilimi Okulu   \n",
       "16                                           Course_6       Instructor_7   \n",
       "4   (2020) Python ile Makine Öğrenmesi (Machine Le...  Veri Bilimi Okulu   \n",
       "3     R ile Veri Bilimi ve Machine Learning (35 Saat)  Veri Bilimi Okulu   \n",
       "21                                          Course_10      Instructor_10   \n",
       "7   Veri Bilimi için İstatistik: Python ile İstati...  Veri Bilimi Okulu   \n",
       "\n",
       "    purchase_count  rating  commment_count  5_point  4_point  3_point  \\\n",
       "0            17380     4.8            4621     3466      924      185   \n",
       "10            9554     4.8            2266     1654      499       91   \n",
       "19            3155     4.8             235      200       31        4   \n",
       "5             4601     4.8             213      164       45        4   \n",
       "6             3171     4.7             856      582      205       51   \n",
       "14           12893     4.7            2425     1722      510      145   \n",
       "8             6920     4.7             214      154       41       13   \n",
       "13            6056     4.7             144       82       46       12   \n",
       "27            1164     4.6              98       65       24        6   \n",
       "1            48291     4.6            4488     2962     1122      314   \n",
       "16             140     4.6              20       10       10        0   \n",
       "4            11314     4.6             969      717      194       38   \n",
       "3             6626     4.6            1027      688      257       51   \n",
       "21             723     4.5             130       68       47        9   \n",
       "7              929     4.5             126       88       26        9   \n",
       "\n",
       "    2_point  1_point  \n",
       "0        46        6  \n",
       "10       22        0  \n",
       "19        0        0  \n",
       "5         0        0  \n",
       "6         9        9  \n",
       "14       24       24  \n",
       "8         2        4  \n",
       "13        1        3  \n",
       "27        0        3  \n",
       "1        45       45  \n",
       "16        0        0  \n",
       "4        10       10  \n",
       "3        10       21  \n",
       "21        3        3  \n",
       "7         0        3  "
      ]
     },
     "execution_count": 37,
     "metadata": {},
     "output_type": "execute_result"
    }
   ],
   "source": [
    "df.sort_values(\"rating\", ascending=False).head(15)"
   ]
  },
  {
   "cell_type": "markdown",
   "id": "efb79597",
   "metadata": {
    "papermill": {
     "duration": 0.05299,
     "end_time": "2023-11-13T13:55:48.621972",
     "exception": false,
     "start_time": "2023-11-13T13:55:48.568982",
     "status": "completed"
    },
    "tags": []
   },
   "source": [
    "<div style=\"border-radius:10px; border:#65647C solid; padding: 15px; background-color: #F8EDE3; font-size:100%; text-align:left\">\n",
    "\n",
    "<h3 align=\"left\"><font color='#7D6E83'><b>🗨️ Comment: </b></font></h3>\n",
    "\n",
    "* **\"Course_1\"** baktığımızda satın alma sayısına göre yorum sayısı oldukça düşüktür.\n",
    "* **\"purchase_count\"** ve **\"commment_count\"** sosyal ispatı en çok etkileyen faktörlerdir."
   ]
  },
  {
   "cell_type": "markdown",
   "id": "6df62ce2",
   "metadata": {
    "papermill": {
     "duration": 0.053787,
     "end_time": "2023-11-13T13:55:48.728135",
     "exception": false,
     "start_time": "2023-11-13T13:55:48.674348",
     "status": "completed"
    },
    "tags": []
   },
   "source": [
    "<a id = \"8\"></a><br>\n",
    "<p style=\"font-family: 'Pacifico', cursive; font-weight: bold; letter-spacing: 2px; color: #556B2F; font-size: 160%; text-align: left; padding: 0px; border-bottom: 3px solid\">✨Yorum ve Satın Alma Sayısına Göre Sıralama (Sorting by Comment Count or Purchase Count)✨</p>"
   ]
  },
  {
   "cell_type": "code",
   "execution_count": 38,
   "id": "ee42e806",
   "metadata": {
    "execution": {
     "iopub.execute_input": "2023-11-13T13:55:48.836089Z",
     "iopub.status.busy": "2023-11-13T13:55:48.834992Z",
     "iopub.status.idle": "2023-11-13T13:55:48.854455Z",
     "shell.execute_reply": "2023-11-13T13:55:48.853215Z"
    },
    "papermill": {
     "duration": 0.075254,
     "end_time": "2023-11-13T13:55:48.857053",
     "exception": false,
     "start_time": "2023-11-13T13:55:48.781799",
     "status": "completed"
    },
    "tags": []
   },
   "outputs": [
    {
     "data": {
      "text/html": [
       "<div>\n",
       "<style scoped>\n",
       "    .dataframe tbody tr th:only-of-type {\n",
       "        vertical-align: middle;\n",
       "    }\n",
       "\n",
       "    .dataframe tbody tr th {\n",
       "        vertical-align: top;\n",
       "    }\n",
       "\n",
       "    .dataframe thead th {\n",
       "        text-align: right;\n",
       "    }\n",
       "</style>\n",
       "<table border=\"1\" class=\"dataframe\">\n",
       "  <thead>\n",
       "    <tr style=\"text-align: right;\">\n",
       "      <th></th>\n",
       "      <th>course_name</th>\n",
       "      <th>instructor_name</th>\n",
       "      <th>purchase_count</th>\n",
       "      <th>rating</th>\n",
       "      <th>commment_count</th>\n",
       "      <th>5_point</th>\n",
       "      <th>4_point</th>\n",
       "      <th>3_point</th>\n",
       "      <th>2_point</th>\n",
       "      <th>1_point</th>\n",
       "    </tr>\n",
       "  </thead>\n",
       "  <tbody>\n",
       "    <tr>\n",
       "      <th>1</th>\n",
       "      <td>Python: Yapay Zeka ve Veri Bilimi için Python ...</td>\n",
       "      <td>Veri Bilimi Okulu</td>\n",
       "      <td>48291</td>\n",
       "      <td>4.6</td>\n",
       "      <td>4488</td>\n",
       "      <td>2962</td>\n",
       "      <td>1122</td>\n",
       "      <td>314</td>\n",
       "      <td>45</td>\n",
       "      <td>45</td>\n",
       "    </tr>\n",
       "    <tr>\n",
       "      <th>11</th>\n",
       "      <td>Course_3</td>\n",
       "      <td>Instructor_4</td>\n",
       "      <td>24809</td>\n",
       "      <td>4.3</td>\n",
       "      <td>250</td>\n",
       "      <td>95</td>\n",
       "      <td>87</td>\n",
       "      <td>51</td>\n",
       "      <td>12</td>\n",
       "      <td>5</td>\n",
       "    </tr>\n",
       "    <tr>\n",
       "      <th>2</th>\n",
       "      <td>5 Saatte Veri Bilimci Olun (Valla Billa)</td>\n",
       "      <td>Instructor_1</td>\n",
       "      <td>18693</td>\n",
       "      <td>4.4</td>\n",
       "      <td>2362</td>\n",
       "      <td>1582</td>\n",
       "      <td>567</td>\n",
       "      <td>165</td>\n",
       "      <td>24</td>\n",
       "      <td>24</td>\n",
       "    </tr>\n",
       "    <tr>\n",
       "      <th>0</th>\n",
       "      <td>(50+ Saat) Python A-Z™: Veri Bilimi ve Machine...</td>\n",
       "      <td>Veri Bilimi Okulu</td>\n",
       "      <td>17380</td>\n",
       "      <td>4.8</td>\n",
       "      <td>4621</td>\n",
       "      <td>3466</td>\n",
       "      <td>924</td>\n",
       "      <td>185</td>\n",
       "      <td>46</td>\n",
       "      <td>6</td>\n",
       "    </tr>\n",
       "    <tr>\n",
       "      <th>20</th>\n",
       "      <td>Course_9</td>\n",
       "      <td>Instructor_3</td>\n",
       "      <td>12946</td>\n",
       "      <td>4.5</td>\n",
       "      <td>3371</td>\n",
       "      <td>2191</td>\n",
       "      <td>877</td>\n",
       "      <td>203</td>\n",
       "      <td>33</td>\n",
       "      <td>67</td>\n",
       "    </tr>\n",
       "    <tr>\n",
       "      <th>14</th>\n",
       "      <td>Uçtan Uca SQL Server Eğitimi</td>\n",
       "      <td>Veri Bilimi Okulu</td>\n",
       "      <td>12893</td>\n",
       "      <td>4.7</td>\n",
       "      <td>2425</td>\n",
       "      <td>1722</td>\n",
       "      <td>510</td>\n",
       "      <td>145</td>\n",
       "      <td>24</td>\n",
       "      <td>24</td>\n",
       "    </tr>\n",
       "    <tr>\n",
       "      <th>15</th>\n",
       "      <td>Uygulamalarla SQL Öğreniyorum</td>\n",
       "      <td>Veri Bilimi Okulu</td>\n",
       "      <td>11397</td>\n",
       "      <td>4.5</td>\n",
       "      <td>2353</td>\n",
       "      <td>1435</td>\n",
       "      <td>705</td>\n",
       "      <td>165</td>\n",
       "      <td>24</td>\n",
       "      <td>24</td>\n",
       "    </tr>\n",
       "    <tr>\n",
       "      <th>4</th>\n",
       "      <td>(2020) Python ile Makine Öğrenmesi (Machine Le...</td>\n",
       "      <td>Veri Bilimi Okulu</td>\n",
       "      <td>11314</td>\n",
       "      <td>4.6</td>\n",
       "      <td>969</td>\n",
       "      <td>717</td>\n",
       "      <td>194</td>\n",
       "      <td>38</td>\n",
       "      <td>10</td>\n",
       "      <td>10</td>\n",
       "    </tr>\n",
       "    <tr>\n",
       "      <th>10</th>\n",
       "      <td>İleri Düzey Excel|Dashboard|Excel İp Uçları</td>\n",
       "      <td>Veri Bilimi Okulu</td>\n",
       "      <td>9554</td>\n",
       "      <td>4.8</td>\n",
       "      <td>2266</td>\n",
       "      <td>1654</td>\n",
       "      <td>499</td>\n",
       "      <td>91</td>\n",
       "      <td>22</td>\n",
       "      <td>0</td>\n",
       "    </tr>\n",
       "    <tr>\n",
       "      <th>8</th>\n",
       "      <td>A'dan Z'ye Apache Spark (Scala &amp; Python)</td>\n",
       "      <td>Veri Bilimi Okulu</td>\n",
       "      <td>6920</td>\n",
       "      <td>4.7</td>\n",
       "      <td>214</td>\n",
       "      <td>154</td>\n",
       "      <td>41</td>\n",
       "      <td>13</td>\n",
       "      <td>2</td>\n",
       "      <td>4</td>\n",
       "    </tr>\n",
       "  </tbody>\n",
       "</table>\n",
       "</div>"
      ],
      "text/plain": [
       "                                          course_name    instructor_name  \\\n",
       "1   Python: Yapay Zeka ve Veri Bilimi için Python ...  Veri Bilimi Okulu   \n",
       "11                                           Course_3       Instructor_4   \n",
       "2            5 Saatte Veri Bilimci Olun (Valla Billa)       Instructor_1   \n",
       "0   (50+ Saat) Python A-Z™: Veri Bilimi ve Machine...  Veri Bilimi Okulu   \n",
       "20                                           Course_9       Instructor_3   \n",
       "14                       Uçtan Uca SQL Server Eğitimi  Veri Bilimi Okulu   \n",
       "15                      Uygulamalarla SQL Öğreniyorum  Veri Bilimi Okulu   \n",
       "4   (2020) Python ile Makine Öğrenmesi (Machine Le...  Veri Bilimi Okulu   \n",
       "10        İleri Düzey Excel|Dashboard|Excel İp Uçları  Veri Bilimi Okulu   \n",
       "8            A'dan Z'ye Apache Spark (Scala & Python)  Veri Bilimi Okulu   \n",
       "\n",
       "    purchase_count  rating  commment_count  5_point  4_point  3_point  \\\n",
       "1            48291     4.6            4488     2962     1122      314   \n",
       "11           24809     4.3             250       95       87       51   \n",
       "2            18693     4.4            2362     1582      567      165   \n",
       "0            17380     4.8            4621     3466      924      185   \n",
       "20           12946     4.5            3371     2191      877      203   \n",
       "14           12893     4.7            2425     1722      510      145   \n",
       "15           11397     4.5            2353     1435      705      165   \n",
       "4            11314     4.6             969      717      194       38   \n",
       "10            9554     4.8            2266     1654      499       91   \n",
       "8             6920     4.7             214      154       41       13   \n",
       "\n",
       "    2_point  1_point  \n",
       "1        45       45  \n",
       "11       12        5  \n",
       "2        24       24  \n",
       "0        46        6  \n",
       "20       33       67  \n",
       "14       24       24  \n",
       "15       24       24  \n",
       "4        10       10  \n",
       "10       22        0  \n",
       "8         2        4  "
      ]
     },
     "execution_count": 38,
     "metadata": {},
     "output_type": "execute_result"
    }
   ],
   "source": [
    "df.sort_values(\"purchase_count\", ascending=False).head(10)"
   ]
  },
  {
   "cell_type": "markdown",
   "id": "db64b5e3",
   "metadata": {
    "papermill": {
     "duration": 0.054977,
     "end_time": "2023-11-13T13:55:48.971592",
     "exception": false,
     "start_time": "2023-11-13T13:55:48.916615",
     "status": "completed"
    },
    "tags": []
   },
   "source": [
    "<div style=\"border-radius:10px; border:#65647C solid; padding: 15px; background-color: #F8EDE3; font-size:100%; text-align:left\">\n",
    "\n",
    "<h3 align=\"left\"><font color='#7D6E83'><b>🗨️ Comment: </b></font></h3>\n",
    "    \n",
    "* **\"Course_3\"** direkt dikkat çekmektedir. Muhtemelen ücretsiz şekilde açılma ihtimali olabilir.Çünkü en yüksek ikinci satın alınmaya sahip olsada yorum sayısı oldukça düşüktür.\n",
    "* Bu metrikte tek başına başarılı değil gibi görünüyor.\n",
    "* Ayrıca aşağıda yaptığımız üzere yorum sayılarıda kendi başına bir anlam ifade etmede yetersiz kalmaktadır."
   ]
  },
  {
   "cell_type": "code",
   "execution_count": 39,
   "id": "a234e5b7",
   "metadata": {
    "execution": {
     "iopub.execute_input": "2023-11-13T13:55:49.080472Z",
     "iopub.status.busy": "2023-11-13T13:55:49.079980Z",
     "iopub.status.idle": "2023-11-13T13:55:49.098710Z",
     "shell.execute_reply": "2023-11-13T13:55:49.097380Z"
    },
    "papermill": {
     "duration": 0.075839,
     "end_time": "2023-11-13T13:55:49.101293",
     "exception": false,
     "start_time": "2023-11-13T13:55:49.025454",
     "status": "completed"
    },
    "tags": []
   },
   "outputs": [
    {
     "data": {
      "text/html": [
       "<div>\n",
       "<style scoped>\n",
       "    .dataframe tbody tr th:only-of-type {\n",
       "        vertical-align: middle;\n",
       "    }\n",
       "\n",
       "    .dataframe tbody tr th {\n",
       "        vertical-align: top;\n",
       "    }\n",
       "\n",
       "    .dataframe thead th {\n",
       "        text-align: right;\n",
       "    }\n",
       "</style>\n",
       "<table border=\"1\" class=\"dataframe\">\n",
       "  <thead>\n",
       "    <tr style=\"text-align: right;\">\n",
       "      <th></th>\n",
       "      <th>course_name</th>\n",
       "      <th>instructor_name</th>\n",
       "      <th>purchase_count</th>\n",
       "      <th>rating</th>\n",
       "      <th>commment_count</th>\n",
       "      <th>5_point</th>\n",
       "      <th>4_point</th>\n",
       "      <th>3_point</th>\n",
       "      <th>2_point</th>\n",
       "      <th>1_point</th>\n",
       "    </tr>\n",
       "  </thead>\n",
       "  <tbody>\n",
       "    <tr>\n",
       "      <th>0</th>\n",
       "      <td>(50+ Saat) Python A-Z™: Veri Bilimi ve Machine...</td>\n",
       "      <td>Veri Bilimi Okulu</td>\n",
       "      <td>17380</td>\n",
       "      <td>4.8</td>\n",
       "      <td>4621</td>\n",
       "      <td>3466</td>\n",
       "      <td>924</td>\n",
       "      <td>185</td>\n",
       "      <td>46</td>\n",
       "      <td>6</td>\n",
       "    </tr>\n",
       "    <tr>\n",
       "      <th>1</th>\n",
       "      <td>Python: Yapay Zeka ve Veri Bilimi için Python ...</td>\n",
       "      <td>Veri Bilimi Okulu</td>\n",
       "      <td>48291</td>\n",
       "      <td>4.6</td>\n",
       "      <td>4488</td>\n",
       "      <td>2962</td>\n",
       "      <td>1122</td>\n",
       "      <td>314</td>\n",
       "      <td>45</td>\n",
       "      <td>45</td>\n",
       "    </tr>\n",
       "    <tr>\n",
       "      <th>20</th>\n",
       "      <td>Course_9</td>\n",
       "      <td>Instructor_3</td>\n",
       "      <td>12946</td>\n",
       "      <td>4.5</td>\n",
       "      <td>3371</td>\n",
       "      <td>2191</td>\n",
       "      <td>877</td>\n",
       "      <td>203</td>\n",
       "      <td>33</td>\n",
       "      <td>67</td>\n",
       "    </tr>\n",
       "    <tr>\n",
       "      <th>14</th>\n",
       "      <td>Uçtan Uca SQL Server Eğitimi</td>\n",
       "      <td>Veri Bilimi Okulu</td>\n",
       "      <td>12893</td>\n",
       "      <td>4.7</td>\n",
       "      <td>2425</td>\n",
       "      <td>1722</td>\n",
       "      <td>510</td>\n",
       "      <td>145</td>\n",
       "      <td>24</td>\n",
       "      <td>24</td>\n",
       "    </tr>\n",
       "    <tr>\n",
       "      <th>2</th>\n",
       "      <td>5 Saatte Veri Bilimci Olun (Valla Billa)</td>\n",
       "      <td>Instructor_1</td>\n",
       "      <td>18693</td>\n",
       "      <td>4.4</td>\n",
       "      <td>2362</td>\n",
       "      <td>1582</td>\n",
       "      <td>567</td>\n",
       "      <td>165</td>\n",
       "      <td>24</td>\n",
       "      <td>24</td>\n",
       "    </tr>\n",
       "    <tr>\n",
       "      <th>15</th>\n",
       "      <td>Uygulamalarla SQL Öğreniyorum</td>\n",
       "      <td>Veri Bilimi Okulu</td>\n",
       "      <td>11397</td>\n",
       "      <td>4.5</td>\n",
       "      <td>2353</td>\n",
       "      <td>1435</td>\n",
       "      <td>705</td>\n",
       "      <td>165</td>\n",
       "      <td>24</td>\n",
       "      <td>24</td>\n",
       "    </tr>\n",
       "    <tr>\n",
       "      <th>10</th>\n",
       "      <td>İleri Düzey Excel|Dashboard|Excel İp Uçları</td>\n",
       "      <td>Veri Bilimi Okulu</td>\n",
       "      <td>9554</td>\n",
       "      <td>4.8</td>\n",
       "      <td>2266</td>\n",
       "      <td>1654</td>\n",
       "      <td>499</td>\n",
       "      <td>91</td>\n",
       "      <td>22</td>\n",
       "      <td>0</td>\n",
       "    </tr>\n",
       "    <tr>\n",
       "      <th>3</th>\n",
       "      <td>R ile Veri Bilimi ve Machine Learning (35 Saat)</td>\n",
       "      <td>Veri Bilimi Okulu</td>\n",
       "      <td>6626</td>\n",
       "      <td>4.6</td>\n",
       "      <td>1027</td>\n",
       "      <td>688</td>\n",
       "      <td>257</td>\n",
       "      <td>51</td>\n",
       "      <td>10</td>\n",
       "      <td>21</td>\n",
       "    </tr>\n",
       "    <tr>\n",
       "      <th>4</th>\n",
       "      <td>(2020) Python ile Makine Öğrenmesi (Machine Le...</td>\n",
       "      <td>Veri Bilimi Okulu</td>\n",
       "      <td>11314</td>\n",
       "      <td>4.6</td>\n",
       "      <td>969</td>\n",
       "      <td>717</td>\n",
       "      <td>194</td>\n",
       "      <td>38</td>\n",
       "      <td>10</td>\n",
       "      <td>10</td>\n",
       "    </tr>\n",
       "    <tr>\n",
       "      <th>9</th>\n",
       "      <td>Modern R Programlama Eğitimi</td>\n",
       "      <td>Veri Bilimi Okulu</td>\n",
       "      <td>6537</td>\n",
       "      <td>4.4</td>\n",
       "      <td>901</td>\n",
       "      <td>559</td>\n",
       "      <td>252</td>\n",
       "      <td>72</td>\n",
       "      <td>9</td>\n",
       "      <td>9</td>\n",
       "    </tr>\n",
       "  </tbody>\n",
       "</table>\n",
       "</div>"
      ],
      "text/plain": [
       "                                          course_name    instructor_name  \\\n",
       "0   (50+ Saat) Python A-Z™: Veri Bilimi ve Machine...  Veri Bilimi Okulu   \n",
       "1   Python: Yapay Zeka ve Veri Bilimi için Python ...  Veri Bilimi Okulu   \n",
       "20                                           Course_9       Instructor_3   \n",
       "14                       Uçtan Uca SQL Server Eğitimi  Veri Bilimi Okulu   \n",
       "2            5 Saatte Veri Bilimci Olun (Valla Billa)       Instructor_1   \n",
       "15                      Uygulamalarla SQL Öğreniyorum  Veri Bilimi Okulu   \n",
       "10        İleri Düzey Excel|Dashboard|Excel İp Uçları  Veri Bilimi Okulu   \n",
       "3     R ile Veri Bilimi ve Machine Learning (35 Saat)  Veri Bilimi Okulu   \n",
       "4   (2020) Python ile Makine Öğrenmesi (Machine Le...  Veri Bilimi Okulu   \n",
       "9                        Modern R Programlama Eğitimi  Veri Bilimi Okulu   \n",
       "\n",
       "    purchase_count  rating  commment_count  5_point  4_point  3_point  \\\n",
       "0            17380     4.8            4621     3466      924      185   \n",
       "1            48291     4.6            4488     2962     1122      314   \n",
       "20           12946     4.5            3371     2191      877      203   \n",
       "14           12893     4.7            2425     1722      510      145   \n",
       "2            18693     4.4            2362     1582      567      165   \n",
       "15           11397     4.5            2353     1435      705      165   \n",
       "10            9554     4.8            2266     1654      499       91   \n",
       "3             6626     4.6            1027      688      257       51   \n",
       "4            11314     4.6             969      717      194       38   \n",
       "9             6537     4.4             901      559      252       72   \n",
       "\n",
       "    2_point  1_point  \n",
       "0        46        6  \n",
       "1        45       45  \n",
       "20       33       67  \n",
       "14       24       24  \n",
       "2        24       24  \n",
       "15       24       24  \n",
       "10       22        0  \n",
       "3        10       21  \n",
       "4        10       10  \n",
       "9         9        9  "
      ]
     },
     "execution_count": 39,
     "metadata": {},
     "output_type": "execute_result"
    }
   ],
   "source": [
    "df.sort_values(\"commment_count\", ascending=False).head(10)"
   ]
  },
  {
   "cell_type": "markdown",
   "id": "700c7c3a",
   "metadata": {
    "papermill": {
     "duration": 0.054757,
     "end_time": "2023-11-13T13:55:49.212110",
     "exception": false,
     "start_time": "2023-11-13T13:55:49.157353",
     "status": "completed"
    },
    "tags": []
   },
   "source": [
    "<a id = \"9\"></a><br>\n",
    "<p style=\"font-family: 'Pacifico', cursive; font-weight: bold; letter-spacing: 2px; color: #556B2F; font-size: 160%; text-align: left; padding: 0px; border-bottom: 3px solid\">✨Derecelendirme, Satın Alma, Yoruma Göre Sıralama (Sorting by Rating, Comment and Purchase)✨</p>"
   ]
  },
  {
   "cell_type": "markdown",
   "id": "2f3060fa",
   "metadata": {
    "papermill": {
     "duration": 0.054746,
     "end_time": "2023-11-13T13:55:49.321478",
     "exception": false,
     "start_time": "2023-11-13T13:55:49.266732",
     "status": "completed"
    },
    "tags": []
   },
   "source": [
    "<div style=\"border-radius:10px; border:#65647C solid; padding: 15px; background-color: #F8EDE3; font-size:100%; text-align:left\">\n",
    "\n",
    "<h3 align=\"left\"><font color='#7D6E83'><b>🗨️ Comment: </b></font></h3>\n",
    "\n",
    "* Hedefimiz bu üç faktörü (derecelendirme,satın alma ve yorumlar) birlikte inceleyebilmektir.\n",
    "* Eğer 3 faktörü birbiyle çarpalım gibi bir fikri değerlendirecek olursak; **\"purchase_count\"** ve **\"comment_count\"** sayıları **\"rating\"** sayılarına göre çok büyük olduğundan, böyle bir durumda **\"rating\"** değerlerinin hiçbir etkisi kalmaz. Bunun sebebi ölçeklerinin birbirinden farklı olmasıdır.\n",
    "* Buradan çıkacak sonuç ile; 3 değişkeni de **\"rating\"** cinsinden aynı ölçeğe alabiliriz."
   ]
  },
  {
   "cell_type": "code",
   "execution_count": 40,
   "id": "054f2777",
   "metadata": {
    "execution": {
     "iopub.execute_input": "2023-11-13T13:55:49.434785Z",
     "iopub.status.busy": "2023-11-13T13:55:49.434387Z",
     "iopub.status.idle": "2023-11-13T13:55:49.446204Z",
     "shell.execute_reply": "2023-11-13T13:55:49.445117Z"
    },
    "papermill": {
     "duration": 0.071943,
     "end_time": "2023-11-13T13:55:49.448921",
     "exception": false,
     "start_time": "2023-11-13T13:55:49.376978",
     "status": "completed"
    },
    "tags": []
   },
   "outputs": [],
   "source": [
    "df[\"purchase_count_scaled\"] = MinMaxScaler(feature_range=(1, 5)). \\\n",
    "    fit(df[[\"purchase_count\"]]). \\\n",
    "    transform(df[[\"purchase_count\"]])"
   ]
  },
  {
   "cell_type": "code",
   "execution_count": 41,
   "id": "46337cb4",
   "metadata": {
    "execution": {
     "iopub.execute_input": "2023-11-13T13:55:49.564628Z",
     "iopub.status.busy": "2023-11-13T13:55:49.563999Z",
     "iopub.status.idle": "2023-11-13T13:55:49.605285Z",
     "shell.execute_reply": "2023-11-13T13:55:49.604144Z"
    },
    "papermill": {
     "duration": 0.102468,
     "end_time": "2023-11-13T13:55:49.607774",
     "exception": false,
     "start_time": "2023-11-13T13:55:49.505306",
     "status": "completed"
    },
    "tags": []
   },
   "outputs": [
    {
     "data": {
      "text/html": [
       "<div>\n",
       "<style scoped>\n",
       "    .dataframe tbody tr th:only-of-type {\n",
       "        vertical-align: middle;\n",
       "    }\n",
       "\n",
       "    .dataframe tbody tr th {\n",
       "        vertical-align: top;\n",
       "    }\n",
       "\n",
       "    .dataframe thead th {\n",
       "        text-align: right;\n",
       "    }\n",
       "</style>\n",
       "<table border=\"1\" class=\"dataframe\">\n",
       "  <thead>\n",
       "    <tr style=\"text-align: right;\">\n",
       "      <th></th>\n",
       "      <th>count</th>\n",
       "      <th>mean</th>\n",
       "      <th>std</th>\n",
       "      <th>min</th>\n",
       "      <th>25%</th>\n",
       "      <th>50%</th>\n",
       "      <th>75%</th>\n",
       "      <th>max</th>\n",
       "    </tr>\n",
       "  </thead>\n",
       "  <tbody>\n",
       "    <tr>\n",
       "      <th>purchase_count</th>\n",
       "      <td>32.0</td>\n",
       "      <td>7110.718750</td>\n",
       "      <td>9760.893396</td>\n",
       "      <td>30.0</td>\n",
       "      <td>877.500000</td>\n",
       "      <td>3687.500000</td>\n",
       "      <td>9994.000000</td>\n",
       "      <td>48291.0</td>\n",
       "    </tr>\n",
       "    <tr>\n",
       "      <th>rating</th>\n",
       "      <td>32.0</td>\n",
       "      <td>4.356250</td>\n",
       "      <td>0.447889</td>\n",
       "      <td>3.1</td>\n",
       "      <td>4.275000</td>\n",
       "      <td>4.500000</td>\n",
       "      <td>4.625000</td>\n",
       "      <td>4.8</td>\n",
       "    </tr>\n",
       "    <tr>\n",
       "      <th>commment_count</th>\n",
       "      <td>32.0</td>\n",
       "      <td>882.062500</td>\n",
       "      <td>1321.498903</td>\n",
       "      <td>7.0</td>\n",
       "      <td>87.750000</td>\n",
       "      <td>194.500000</td>\n",
       "      <td>983.500000</td>\n",
       "      <td>4621.0</td>\n",
       "    </tr>\n",
       "    <tr>\n",
       "      <th>5_point</th>\n",
       "      <td>32.0</td>\n",
       "      <td>598.093750</td>\n",
       "      <td>920.140114</td>\n",
       "      <td>1.0</td>\n",
       "      <td>49.250000</td>\n",
       "      <td>112.500000</td>\n",
       "      <td>695.250000</td>\n",
       "      <td>3466.0</td>\n",
       "    </tr>\n",
       "    <tr>\n",
       "      <th>4_point</th>\n",
       "      <td>32.0</td>\n",
       "      <td>211.531250</td>\n",
       "      <td>312.262915</td>\n",
       "      <td>2.0</td>\n",
       "      <td>19.750000</td>\n",
       "      <td>45.500000</td>\n",
       "      <td>253.250000</td>\n",
       "      <td>1122.0</td>\n",
       "    </tr>\n",
       "    <tr>\n",
       "      <th>3_point</th>\n",
       "      <td>32.0</td>\n",
       "      <td>54.125000</td>\n",
       "      <td>76.576232</td>\n",
       "      <td>0.0</td>\n",
       "      <td>6.750000</td>\n",
       "      <td>14.500000</td>\n",
       "      <td>56.250000</td>\n",
       "      <td>314.0</td>\n",
       "    </tr>\n",
       "    <tr>\n",
       "      <th>2_point</th>\n",
       "      <td>32.0</td>\n",
       "      <td>9.531250</td>\n",
       "      <td>12.991273</td>\n",
       "      <td>0.0</td>\n",
       "      <td>0.750000</td>\n",
       "      <td>3.000000</td>\n",
       "      <td>10.500000</td>\n",
       "      <td>46.0</td>\n",
       "    </tr>\n",
       "    <tr>\n",
       "      <th>1_point</th>\n",
       "      <td>32.0</td>\n",
       "      <td>8.968750</td>\n",
       "      <td>14.570151</td>\n",
       "      <td>0.0</td>\n",
       "      <td>2.000000</td>\n",
       "      <td>3.000000</td>\n",
       "      <td>9.000000</td>\n",
       "      <td>67.0</td>\n",
       "    </tr>\n",
       "    <tr>\n",
       "      <th>purchase_count_scaled</th>\n",
       "      <td>32.0</td>\n",
       "      <td>1.586869</td>\n",
       "      <td>0.809009</td>\n",
       "      <td>1.0</td>\n",
       "      <td>1.070243</td>\n",
       "      <td>1.303143</td>\n",
       "      <td>1.825843</td>\n",
       "      <td>5.0</td>\n",
       "    </tr>\n",
       "  </tbody>\n",
       "</table>\n",
       "</div>"
      ],
      "text/plain": [
       "                       count         mean          std   min         25%  \\\n",
       "purchase_count          32.0  7110.718750  9760.893396  30.0  877.500000   \n",
       "rating                  32.0     4.356250     0.447889   3.1    4.275000   \n",
       "commment_count          32.0   882.062500  1321.498903   7.0   87.750000   \n",
       "5_point                 32.0   598.093750   920.140114   1.0   49.250000   \n",
       "4_point                 32.0   211.531250   312.262915   2.0   19.750000   \n",
       "3_point                 32.0    54.125000    76.576232   0.0    6.750000   \n",
       "2_point                 32.0     9.531250    12.991273   0.0    0.750000   \n",
       "1_point                 32.0     8.968750    14.570151   0.0    2.000000   \n",
       "purchase_count_scaled   32.0     1.586869     0.809009   1.0    1.070243   \n",
       "\n",
       "                               50%          75%      max  \n",
       "purchase_count         3687.500000  9994.000000  48291.0  \n",
       "rating                    4.500000     4.625000      4.8  \n",
       "commment_count          194.500000   983.500000   4621.0  \n",
       "5_point                 112.500000   695.250000   3466.0  \n",
       "4_point                  45.500000   253.250000   1122.0  \n",
       "3_point                  14.500000    56.250000    314.0  \n",
       "2_point                   3.000000    10.500000     46.0  \n",
       "1_point                   3.000000     9.000000     67.0  \n",
       "purchase_count_scaled     1.303143     1.825843      5.0  "
      ]
     },
     "execution_count": 41,
     "metadata": {},
     "output_type": "execute_result"
    }
   ],
   "source": [
    "df.describe().T"
   ]
  },
  {
   "cell_type": "code",
   "execution_count": 42,
   "id": "9747b850",
   "metadata": {
    "execution": {
     "iopub.execute_input": "2023-11-13T13:55:49.725292Z",
     "iopub.status.busy": "2023-11-13T13:55:49.724426Z",
     "iopub.status.idle": "2023-11-13T13:55:49.735611Z",
     "shell.execute_reply": "2023-11-13T13:55:49.734627Z"
    },
    "papermill": {
     "duration": 0.072593,
     "end_time": "2023-11-13T13:55:49.738262",
     "exception": false,
     "start_time": "2023-11-13T13:55:49.665669",
     "status": "completed"
    },
    "tags": []
   },
   "outputs": [],
   "source": [
    "df[\"comment_count_scaled\"] = MinMaxScaler(feature_range=(1, 5)). \\\n",
    "    fit(df[[\"commment_count\"]]). \\\n",
    "    transform(df[[\"commment_count\"]])"
   ]
  },
  {
   "cell_type": "code",
   "execution_count": 43,
   "id": "e39eb34f",
   "metadata": {
    "execution": {
     "iopub.execute_input": "2023-11-13T13:55:49.852895Z",
     "iopub.status.busy": "2023-11-13T13:55:49.852451Z",
     "iopub.status.idle": "2023-11-13T13:55:49.871357Z",
     "shell.execute_reply": "2023-11-13T13:55:49.869652Z"
    },
    "papermill": {
     "duration": 0.081694,
     "end_time": "2023-11-13T13:55:49.874750",
     "exception": false,
     "start_time": "2023-11-13T13:55:49.793056",
     "status": "completed"
    },
    "tags": []
   },
   "outputs": [
    {
     "data": {
      "text/html": [
       "<div>\n",
       "<style scoped>\n",
       "    .dataframe tbody tr th:only-of-type {\n",
       "        vertical-align: middle;\n",
       "    }\n",
       "\n",
       "    .dataframe tbody tr th {\n",
       "        vertical-align: top;\n",
       "    }\n",
       "\n",
       "    .dataframe thead th {\n",
       "        text-align: right;\n",
       "    }\n",
       "</style>\n",
       "<table border=\"1\" class=\"dataframe\">\n",
       "  <thead>\n",
       "    <tr style=\"text-align: right;\">\n",
       "      <th></th>\n",
       "      <th>course_name</th>\n",
       "      <th>instructor_name</th>\n",
       "      <th>purchase_count</th>\n",
       "      <th>rating</th>\n",
       "      <th>commment_count</th>\n",
       "      <th>5_point</th>\n",
       "      <th>4_point</th>\n",
       "      <th>3_point</th>\n",
       "      <th>2_point</th>\n",
       "      <th>1_point</th>\n",
       "      <th>purchase_count_scaled</th>\n",
       "      <th>comment_count_scaled</th>\n",
       "    </tr>\n",
       "  </thead>\n",
       "  <tbody>\n",
       "    <tr>\n",
       "      <th>0</th>\n",
       "      <td>(50+ Saat) Python A-Z™: Veri Bilimi ve Machine...</td>\n",
       "      <td>Veri Bilimi Okulu</td>\n",
       "      <td>17380</td>\n",
       "      <td>4.8</td>\n",
       "      <td>4621</td>\n",
       "      <td>3466</td>\n",
       "      <td>924</td>\n",
       "      <td>185</td>\n",
       "      <td>46</td>\n",
       "      <td>6</td>\n",
       "      <td>2.438014</td>\n",
       "      <td>5.000000</td>\n",
       "    </tr>\n",
       "    <tr>\n",
       "      <th>1</th>\n",
       "      <td>Python: Yapay Zeka ve Veri Bilimi için Python ...</td>\n",
       "      <td>Veri Bilimi Okulu</td>\n",
       "      <td>48291</td>\n",
       "      <td>4.6</td>\n",
       "      <td>4488</td>\n",
       "      <td>2962</td>\n",
       "      <td>1122</td>\n",
       "      <td>314</td>\n",
       "      <td>45</td>\n",
       "      <td>45</td>\n",
       "      <td>5.000000</td>\n",
       "      <td>4.884699</td>\n",
       "    </tr>\n",
       "    <tr>\n",
       "      <th>2</th>\n",
       "      <td>5 Saatte Veri Bilimci Olun (Valla Billa)</td>\n",
       "      <td>Instructor_1</td>\n",
       "      <td>18693</td>\n",
       "      <td>4.4</td>\n",
       "      <td>2362</td>\n",
       "      <td>1582</td>\n",
       "      <td>567</td>\n",
       "      <td>165</td>\n",
       "      <td>24</td>\n",
       "      <td>24</td>\n",
       "      <td>2.546839</td>\n",
       "      <td>3.041612</td>\n",
       "    </tr>\n",
       "    <tr>\n",
       "      <th>3</th>\n",
       "      <td>R ile Veri Bilimi ve Machine Learning (35 Saat)</td>\n",
       "      <td>Veri Bilimi Okulu</td>\n",
       "      <td>6626</td>\n",
       "      <td>4.6</td>\n",
       "      <td>1027</td>\n",
       "      <td>688</td>\n",
       "      <td>257</td>\n",
       "      <td>51</td>\n",
       "      <td>10</td>\n",
       "      <td>21</td>\n",
       "      <td>1.546694</td>\n",
       "      <td>1.884265</td>\n",
       "    </tr>\n",
       "    <tr>\n",
       "      <th>4</th>\n",
       "      <td>(2020) Python ile Makine Öğrenmesi (Machine Le...</td>\n",
       "      <td>Veri Bilimi Okulu</td>\n",
       "      <td>11314</td>\n",
       "      <td>4.6</td>\n",
       "      <td>969</td>\n",
       "      <td>717</td>\n",
       "      <td>194</td>\n",
       "      <td>38</td>\n",
       "      <td>10</td>\n",
       "      <td>10</td>\n",
       "      <td>1.935248</td>\n",
       "      <td>1.833984</td>\n",
       "    </tr>\n",
       "  </tbody>\n",
       "</table>\n",
       "</div>"
      ],
      "text/plain": [
       "                                         course_name    instructor_name  \\\n",
       "0  (50+ Saat) Python A-Z™: Veri Bilimi ve Machine...  Veri Bilimi Okulu   \n",
       "1  Python: Yapay Zeka ve Veri Bilimi için Python ...  Veri Bilimi Okulu   \n",
       "2           5 Saatte Veri Bilimci Olun (Valla Billa)       Instructor_1   \n",
       "3    R ile Veri Bilimi ve Machine Learning (35 Saat)  Veri Bilimi Okulu   \n",
       "4  (2020) Python ile Makine Öğrenmesi (Machine Le...  Veri Bilimi Okulu   \n",
       "\n",
       "   purchase_count  rating  commment_count  5_point  4_point  3_point  2_point  \\\n",
       "0           17380     4.8            4621     3466      924      185       46   \n",
       "1           48291     4.6            4488     2962     1122      314       45   \n",
       "2           18693     4.4            2362     1582      567      165       24   \n",
       "3            6626     4.6            1027      688      257       51       10   \n",
       "4           11314     4.6             969      717      194       38       10   \n",
       "\n",
       "   1_point  purchase_count_scaled  comment_count_scaled  \n",
       "0        6               2.438014              5.000000  \n",
       "1       45               5.000000              4.884699  \n",
       "2       24               2.546839              3.041612  \n",
       "3       21               1.546694              1.884265  \n",
       "4       10               1.935248              1.833984  "
      ]
     },
     "execution_count": 43,
     "metadata": {},
     "output_type": "execute_result"
    }
   ],
   "source": [
    "df.head()"
   ]
  },
  {
   "cell_type": "code",
   "execution_count": 44,
   "id": "da1d9322",
   "metadata": {
    "execution": {
     "iopub.execute_input": "2023-11-13T13:55:49.988920Z",
     "iopub.status.busy": "2023-11-13T13:55:49.988471Z",
     "iopub.status.idle": "2023-11-13T13:55:49.999818Z",
     "shell.execute_reply": "2023-11-13T13:55:49.998677Z"
    },
    "papermill": {
     "duration": 0.070082,
     "end_time": "2023-11-13T13:55:50.002216",
     "exception": false,
     "start_time": "2023-11-13T13:55:49.932134",
     "status": "completed"
    },
    "tags": []
   },
   "outputs": [
    {
     "data": {
      "text/plain": [
       "0     4.249884\n",
       "1     4.795104\n",
       "2     3.483494\n",
       "3     2.937105\n",
       "4     3.022039\n",
       "5     2.751651\n",
       "6     2.857214\n",
       "7     2.522386\n",
       "8     2.759901\n",
       "9     2.816233\n",
       "10    3.427921\n",
       "11    2.987387\n",
       "12    2.528686\n",
       "13    2.721863\n",
       "14    3.501984\n",
       "15    3.365772\n",
       "16    2.517977\n",
       "17    2.282315\n",
       "18    2.458066\n",
       "19    2.726593\n",
       "20    3.681563\n",
       "21    2.519056\n",
       "22    2.538280\n",
       "23    2.354586\n",
       "24    2.264794\n",
       "25    2.021050\n",
       "26    2.436116\n",
       "27    2.561682\n",
       "28    2.544666\n",
       "29    1.925836\n",
       "30    1.924000\n",
       "31    2.273764\n",
       "dtype: float64"
      ]
     },
     "execution_count": 44,
     "metadata": {},
     "output_type": "execute_result"
    }
   ],
   "source": [
    "(df[\"comment_count_scaled\"] * 32 / 100 +\n",
    " df[\"purchase_count_scaled\"] * 26 / 100 +\n",
    " df[\"rating\"] * 42 / 100)"
   ]
  },
  {
   "cell_type": "markdown",
   "id": "54fc7d28",
   "metadata": {
    "papermill": {
     "duration": 0.059938,
     "end_time": "2023-11-13T13:55:50.120265",
     "exception": false,
     "start_time": "2023-11-13T13:55:50.060327",
     "status": "completed"
    },
    "tags": []
   },
   "source": [
    "<div style=\"border-radius:10px; border:#65647C solid; padding: 15px; background-color: #F8EDE3; font-size:100%; text-align:left\">\n",
    "\n",
    "<h3 align=\"left\"><font color='#7D6E83'><b>🗨️ Comment: </b></font></h3>\n",
    "\n",
    "* Bu gördüğümüzde değerler skorelardır. Belirlediğimiz koşulların bir araya gelip ağırlıkları verilmiş skorlardır.\n",
    "* Bu skoru oluştururken bizim için en önemlisi **\"rating\"**, daha sonra **\"comment_count_scaled\"** ve son olarakta **\"purchase_count_scaled\"** tir.\n",
    "* Bunun sebebi kursun \"purchase_count_scaled\" değerleri içinde ücretsiz satılan verilerinde olma ihtimalidir. Fakat genel bir çıkarım yapmak adına da tamamen görmezden gelmek yerine skore hesabı içerisinde kullanmalıyız."
   ]
  },
  {
   "cell_type": "code",
   "execution_count": 45,
   "id": "3590652c",
   "metadata": {
    "execution": {
     "iopub.execute_input": "2023-11-13T13:55:50.236562Z",
     "iopub.status.busy": "2023-11-13T13:55:50.236100Z",
     "iopub.status.idle": "2023-11-13T13:55:50.242518Z",
     "shell.execute_reply": "2023-11-13T13:55:50.241031Z"
    },
    "papermill": {
     "duration": 0.067633,
     "end_time": "2023-11-13T13:55:50.244901",
     "exception": false,
     "start_time": "2023-11-13T13:55:50.177268",
     "status": "completed"
    },
    "tags": []
   },
   "outputs": [],
   "source": [
    "def weighted_sorting_score(dataframe, w1=32, w2=26, w3=42):\n",
    "    \n",
    "    return (dataframe[\"comment_count_scaled\"] * w1 / 100 +\n",
    "            dataframe[\"purchase_count_scaled\"] * w2 / 100 +\n",
    "            dataframe[\"rating\"] * w3 / 100)"
   ]
  },
  {
   "cell_type": "code",
   "execution_count": 46,
   "id": "46675629",
   "metadata": {
    "execution": {
     "iopub.execute_input": "2023-11-13T13:55:50.356598Z",
     "iopub.status.busy": "2023-11-13T13:55:50.356171Z",
     "iopub.status.idle": "2023-11-13T13:55:50.363582Z",
     "shell.execute_reply": "2023-11-13T13:55:50.362500Z"
    },
    "papermill": {
     "duration": 0.066238,
     "end_time": "2023-11-13T13:55:50.365935",
     "exception": false,
     "start_time": "2023-11-13T13:55:50.299697",
     "status": "completed"
    },
    "tags": []
   },
   "outputs": [],
   "source": [
    "df[\"weighted_sorting_score\"] = weighted_sorting_score(df)"
   ]
  },
  {
   "cell_type": "code",
   "execution_count": 47,
   "id": "425e5aae",
   "metadata": {
    "execution": {
     "iopub.execute_input": "2023-11-13T13:55:50.478412Z",
     "iopub.status.busy": "2023-11-13T13:55:50.477984Z",
     "iopub.status.idle": "2023-11-13T13:55:50.501392Z",
     "shell.execute_reply": "2023-11-13T13:55:50.500187Z"
    },
    "papermill": {
     "duration": 0.083149,
     "end_time": "2023-11-13T13:55:50.504681",
     "exception": false,
     "start_time": "2023-11-13T13:55:50.421532",
     "status": "completed"
    },
    "tags": []
   },
   "outputs": [
    {
     "data": {
      "text/html": [
       "<div>\n",
       "<style scoped>\n",
       "    .dataframe tbody tr th:only-of-type {\n",
       "        vertical-align: middle;\n",
       "    }\n",
       "\n",
       "    .dataframe tbody tr th {\n",
       "        vertical-align: top;\n",
       "    }\n",
       "\n",
       "    .dataframe thead th {\n",
       "        text-align: right;\n",
       "    }\n",
       "</style>\n",
       "<table border=\"1\" class=\"dataframe\">\n",
       "  <thead>\n",
       "    <tr style=\"text-align: right;\">\n",
       "      <th></th>\n",
       "      <th>course_name</th>\n",
       "      <th>instructor_name</th>\n",
       "      <th>purchase_count</th>\n",
       "      <th>rating</th>\n",
       "      <th>commment_count</th>\n",
       "      <th>5_point</th>\n",
       "      <th>4_point</th>\n",
       "      <th>3_point</th>\n",
       "      <th>2_point</th>\n",
       "      <th>1_point</th>\n",
       "      <th>purchase_count_scaled</th>\n",
       "      <th>comment_count_scaled</th>\n",
       "      <th>weighted_sorting_score</th>\n",
       "    </tr>\n",
       "  </thead>\n",
       "  <tbody>\n",
       "    <tr>\n",
       "      <th>1</th>\n",
       "      <td>Python: Yapay Zeka ve Veri Bilimi için Python ...</td>\n",
       "      <td>Veri Bilimi Okulu</td>\n",
       "      <td>48291</td>\n",
       "      <td>4.6</td>\n",
       "      <td>4488</td>\n",
       "      <td>2962</td>\n",
       "      <td>1122</td>\n",
       "      <td>314</td>\n",
       "      <td>45</td>\n",
       "      <td>45</td>\n",
       "      <td>5.000000</td>\n",
       "      <td>4.884699</td>\n",
       "      <td>4.795104</td>\n",
       "    </tr>\n",
       "    <tr>\n",
       "      <th>0</th>\n",
       "      <td>(50+ Saat) Python A-Z™: Veri Bilimi ve Machine...</td>\n",
       "      <td>Veri Bilimi Okulu</td>\n",
       "      <td>17380</td>\n",
       "      <td>4.8</td>\n",
       "      <td>4621</td>\n",
       "      <td>3466</td>\n",
       "      <td>924</td>\n",
       "      <td>185</td>\n",
       "      <td>46</td>\n",
       "      <td>6</td>\n",
       "      <td>2.438014</td>\n",
       "      <td>5.000000</td>\n",
       "      <td>4.249884</td>\n",
       "    </tr>\n",
       "    <tr>\n",
       "      <th>20</th>\n",
       "      <td>Course_9</td>\n",
       "      <td>Instructor_3</td>\n",
       "      <td>12946</td>\n",
       "      <td>4.5</td>\n",
       "      <td>3371</td>\n",
       "      <td>2191</td>\n",
       "      <td>877</td>\n",
       "      <td>203</td>\n",
       "      <td>33</td>\n",
       "      <td>67</td>\n",
       "      <td>2.070512</td>\n",
       "      <td>3.916342</td>\n",
       "      <td>3.681563</td>\n",
       "    </tr>\n",
       "    <tr>\n",
       "      <th>14</th>\n",
       "      <td>Uçtan Uca SQL Server Eğitimi</td>\n",
       "      <td>Veri Bilimi Okulu</td>\n",
       "      <td>12893</td>\n",
       "      <td>4.7</td>\n",
       "      <td>2425</td>\n",
       "      <td>1722</td>\n",
       "      <td>510</td>\n",
       "      <td>145</td>\n",
       "      <td>24</td>\n",
       "      <td>24</td>\n",
       "      <td>2.066120</td>\n",
       "      <td>3.096229</td>\n",
       "      <td>3.501984</td>\n",
       "    </tr>\n",
       "    <tr>\n",
       "      <th>2</th>\n",
       "      <td>5 Saatte Veri Bilimci Olun (Valla Billa)</td>\n",
       "      <td>Instructor_1</td>\n",
       "      <td>18693</td>\n",
       "      <td>4.4</td>\n",
       "      <td>2362</td>\n",
       "      <td>1582</td>\n",
       "      <td>567</td>\n",
       "      <td>165</td>\n",
       "      <td>24</td>\n",
       "      <td>24</td>\n",
       "      <td>2.546839</td>\n",
       "      <td>3.041612</td>\n",
       "      <td>3.483494</td>\n",
       "    </tr>\n",
       "    <tr>\n",
       "      <th>10</th>\n",
       "      <td>İleri Düzey Excel|Dashboard|Excel İp Uçları</td>\n",
       "      <td>Veri Bilimi Okulu</td>\n",
       "      <td>9554</td>\n",
       "      <td>4.8</td>\n",
       "      <td>2266</td>\n",
       "      <td>1654</td>\n",
       "      <td>499</td>\n",
       "      <td>91</td>\n",
       "      <td>22</td>\n",
       "      <td>0</td>\n",
       "      <td>1.789374</td>\n",
       "      <td>2.958388</td>\n",
       "      <td>3.427921</td>\n",
       "    </tr>\n",
       "    <tr>\n",
       "      <th>15</th>\n",
       "      <td>Uygulamalarla SQL Öğreniyorum</td>\n",
       "      <td>Veri Bilimi Okulu</td>\n",
       "      <td>11397</td>\n",
       "      <td>4.5</td>\n",
       "      <td>2353</td>\n",
       "      <td>1435</td>\n",
       "      <td>705</td>\n",
       "      <td>165</td>\n",
       "      <td>24</td>\n",
       "      <td>24</td>\n",
       "      <td>1.942127</td>\n",
       "      <td>3.033810</td>\n",
       "      <td>3.365772</td>\n",
       "    </tr>\n",
       "    <tr>\n",
       "      <th>4</th>\n",
       "      <td>(2020) Python ile Makine Öğrenmesi (Machine Le...</td>\n",
       "      <td>Veri Bilimi Okulu</td>\n",
       "      <td>11314</td>\n",
       "      <td>4.6</td>\n",
       "      <td>969</td>\n",
       "      <td>717</td>\n",
       "      <td>194</td>\n",
       "      <td>38</td>\n",
       "      <td>10</td>\n",
       "      <td>10</td>\n",
       "      <td>1.935248</td>\n",
       "      <td>1.833984</td>\n",
       "      <td>3.022039</td>\n",
       "    </tr>\n",
       "    <tr>\n",
       "      <th>11</th>\n",
       "      <td>Course_3</td>\n",
       "      <td>Instructor_4</td>\n",
       "      <td>24809</td>\n",
       "      <td>4.3</td>\n",
       "      <td>250</td>\n",
       "      <td>95</td>\n",
       "      <td>87</td>\n",
       "      <td>51</td>\n",
       "      <td>12</td>\n",
       "      <td>5</td>\n",
       "      <td>3.053749</td>\n",
       "      <td>1.210663</td>\n",
       "      <td>2.987387</td>\n",
       "    </tr>\n",
       "    <tr>\n",
       "      <th>3</th>\n",
       "      <td>R ile Veri Bilimi ve Machine Learning (35 Saat)</td>\n",
       "      <td>Veri Bilimi Okulu</td>\n",
       "      <td>6626</td>\n",
       "      <td>4.6</td>\n",
       "      <td>1027</td>\n",
       "      <td>688</td>\n",
       "      <td>257</td>\n",
       "      <td>51</td>\n",
       "      <td>10</td>\n",
       "      <td>21</td>\n",
       "      <td>1.546694</td>\n",
       "      <td>1.884265</td>\n",
       "      <td>2.937105</td>\n",
       "    </tr>\n",
       "  </tbody>\n",
       "</table>\n",
       "</div>"
      ],
      "text/plain": [
       "                                          course_name    instructor_name  \\\n",
       "1   Python: Yapay Zeka ve Veri Bilimi için Python ...  Veri Bilimi Okulu   \n",
       "0   (50+ Saat) Python A-Z™: Veri Bilimi ve Machine...  Veri Bilimi Okulu   \n",
       "20                                           Course_9       Instructor_3   \n",
       "14                       Uçtan Uca SQL Server Eğitimi  Veri Bilimi Okulu   \n",
       "2            5 Saatte Veri Bilimci Olun (Valla Billa)       Instructor_1   \n",
       "10        İleri Düzey Excel|Dashboard|Excel İp Uçları  Veri Bilimi Okulu   \n",
       "15                      Uygulamalarla SQL Öğreniyorum  Veri Bilimi Okulu   \n",
       "4   (2020) Python ile Makine Öğrenmesi (Machine Le...  Veri Bilimi Okulu   \n",
       "11                                           Course_3       Instructor_4   \n",
       "3     R ile Veri Bilimi ve Machine Learning (35 Saat)  Veri Bilimi Okulu   \n",
       "\n",
       "    purchase_count  rating  commment_count  5_point  4_point  3_point  \\\n",
       "1            48291     4.6            4488     2962     1122      314   \n",
       "0            17380     4.8            4621     3466      924      185   \n",
       "20           12946     4.5            3371     2191      877      203   \n",
       "14           12893     4.7            2425     1722      510      145   \n",
       "2            18693     4.4            2362     1582      567      165   \n",
       "10            9554     4.8            2266     1654      499       91   \n",
       "15           11397     4.5            2353     1435      705      165   \n",
       "4            11314     4.6             969      717      194       38   \n",
       "11           24809     4.3             250       95       87       51   \n",
       "3             6626     4.6            1027      688      257       51   \n",
       "\n",
       "    2_point  1_point  purchase_count_scaled  comment_count_scaled  \\\n",
       "1        45       45               5.000000              4.884699   \n",
       "0        46        6               2.438014              5.000000   \n",
       "20       33       67               2.070512              3.916342   \n",
       "14       24       24               2.066120              3.096229   \n",
       "2        24       24               2.546839              3.041612   \n",
       "10       22        0               1.789374              2.958388   \n",
       "15       24       24               1.942127              3.033810   \n",
       "4        10       10               1.935248              1.833984   \n",
       "11       12        5               3.053749              1.210663   \n",
       "3        10       21               1.546694              1.884265   \n",
       "\n",
       "    weighted_sorting_score  \n",
       "1                 4.795104  \n",
       "0                 4.249884  \n",
       "20                3.681563  \n",
       "14                3.501984  \n",
       "2                 3.483494  \n",
       "10                3.427921  \n",
       "15                3.365772  \n",
       "4                 3.022039  \n",
       "11                2.987387  \n",
       "3                 2.937105  "
      ]
     },
     "execution_count": 47,
     "metadata": {},
     "output_type": "execute_result"
    }
   ],
   "source": [
    "df.sort_values(\"weighted_sorting_score\", ascending=False).head(10)"
   ]
  },
  {
   "cell_type": "markdown",
   "id": "ebe53e65",
   "metadata": {
    "papermill": {
     "duration": 0.054168,
     "end_time": "2023-11-13T13:55:50.614467",
     "exception": false,
     "start_time": "2023-11-13T13:55:50.560299",
     "status": "completed"
    },
    "tags": []
   },
   "source": [
    "<div style=\"border-radius:10px; border:#65647C solid; padding: 15px; background-color: #F8EDE3; font-size:100%; text-align:left\">\n",
    "\n",
    "<h3 align=\"left\"><font color='#7D6E83'><b>🗨️ Comment: </b></font></h3>\n",
    "\n",
    "* 3 etkiyi göz önünde bulundurduğumuzda, ağırlıklarına göre sıralamada değişiklik oldu.\n",
    "* Artık bu veriye eski haline göre daha fazla güvenebiliriz."
   ]
  },
  {
   "cell_type": "code",
   "execution_count": 48,
   "id": "a13fc310",
   "metadata": {
    "execution": {
     "iopub.execute_input": "2023-11-13T13:55:50.725441Z",
     "iopub.status.busy": "2023-11-13T13:55:50.724969Z",
     "iopub.status.idle": "2023-11-13T13:55:50.745289Z",
     "shell.execute_reply": "2023-11-13T13:55:50.744267Z"
    },
    "papermill": {
     "duration": 0.078813,
     "end_time": "2023-11-13T13:55:50.747770",
     "exception": false,
     "start_time": "2023-11-13T13:55:50.668957",
     "status": "completed"
    },
    "tags": []
   },
   "outputs": [
    {
     "data": {
      "text/html": [
       "<div>\n",
       "<style scoped>\n",
       "    .dataframe tbody tr th:only-of-type {\n",
       "        vertical-align: middle;\n",
       "    }\n",
       "\n",
       "    .dataframe tbody tr th {\n",
       "        vertical-align: top;\n",
       "    }\n",
       "\n",
       "    .dataframe thead th {\n",
       "        text-align: right;\n",
       "    }\n",
       "</style>\n",
       "<table border=\"1\" class=\"dataframe\">\n",
       "  <thead>\n",
       "    <tr style=\"text-align: right;\">\n",
       "      <th></th>\n",
       "      <th>course_name</th>\n",
       "      <th>instructor_name</th>\n",
       "      <th>purchase_count</th>\n",
       "      <th>rating</th>\n",
       "      <th>commment_count</th>\n",
       "      <th>5_point</th>\n",
       "      <th>4_point</th>\n",
       "      <th>3_point</th>\n",
       "      <th>2_point</th>\n",
       "      <th>1_point</th>\n",
       "      <th>purchase_count_scaled</th>\n",
       "      <th>comment_count_scaled</th>\n",
       "      <th>weighted_sorting_score</th>\n",
       "    </tr>\n",
       "  </thead>\n",
       "  <tbody>\n",
       "    <tr>\n",
       "      <th>1</th>\n",
       "      <td>Python: Yapay Zeka ve Veri Bilimi için Python ...</td>\n",
       "      <td>Veri Bilimi Okulu</td>\n",
       "      <td>48291</td>\n",
       "      <td>4.6</td>\n",
       "      <td>4488</td>\n",
       "      <td>2962</td>\n",
       "      <td>1122</td>\n",
       "      <td>314</td>\n",
       "      <td>45</td>\n",
       "      <td>45</td>\n",
       "      <td>5.000000</td>\n",
       "      <td>4.884699</td>\n",
       "      <td>4.795104</td>\n",
       "    </tr>\n",
       "    <tr>\n",
       "      <th>0</th>\n",
       "      <td>(50+ Saat) Python A-Z™: Veri Bilimi ve Machine...</td>\n",
       "      <td>Veri Bilimi Okulu</td>\n",
       "      <td>17380</td>\n",
       "      <td>4.8</td>\n",
       "      <td>4621</td>\n",
       "      <td>3466</td>\n",
       "      <td>924</td>\n",
       "      <td>185</td>\n",
       "      <td>46</td>\n",
       "      <td>6</td>\n",
       "      <td>2.438014</td>\n",
       "      <td>5.000000</td>\n",
       "      <td>4.249884</td>\n",
       "    </tr>\n",
       "    <tr>\n",
       "      <th>3</th>\n",
       "      <td>R ile Veri Bilimi ve Machine Learning (35 Saat)</td>\n",
       "      <td>Veri Bilimi Okulu</td>\n",
       "      <td>6626</td>\n",
       "      <td>4.6</td>\n",
       "      <td>1027</td>\n",
       "      <td>688</td>\n",
       "      <td>257</td>\n",
       "      <td>51</td>\n",
       "      <td>10</td>\n",
       "      <td>21</td>\n",
       "      <td>1.546694</td>\n",
       "      <td>1.884265</td>\n",
       "      <td>2.937105</td>\n",
       "    </tr>\n",
       "    <tr>\n",
       "      <th>7</th>\n",
       "      <td>Veri Bilimi için İstatistik: Python ile İstati...</td>\n",
       "      <td>Veri Bilimi Okulu</td>\n",
       "      <td>929</td>\n",
       "      <td>4.5</td>\n",
       "      <td>126</td>\n",
       "      <td>88</td>\n",
       "      <td>26</td>\n",
       "      <td>9</td>\n",
       "      <td>0</td>\n",
       "      <td>3</td>\n",
       "      <td>1.074512</td>\n",
       "      <td>1.103164</td>\n",
       "      <td>2.522386</td>\n",
       "    </tr>\n",
       "  </tbody>\n",
       "</table>\n",
       "</div>"
      ],
      "text/plain": [
       "                                         course_name    instructor_name  \\\n",
       "1  Python: Yapay Zeka ve Veri Bilimi için Python ...  Veri Bilimi Okulu   \n",
       "0  (50+ Saat) Python A-Z™: Veri Bilimi ve Machine...  Veri Bilimi Okulu   \n",
       "3    R ile Veri Bilimi ve Machine Learning (35 Saat)  Veri Bilimi Okulu   \n",
       "7  Veri Bilimi için İstatistik: Python ile İstati...  Veri Bilimi Okulu   \n",
       "\n",
       "   purchase_count  rating  commment_count  5_point  4_point  3_point  2_point  \\\n",
       "1           48291     4.6            4488     2962     1122      314       45   \n",
       "0           17380     4.8            4621     3466      924      185       46   \n",
       "3            6626     4.6            1027      688      257       51       10   \n",
       "7             929     4.5             126       88       26        9        0   \n",
       "\n",
       "   1_point  purchase_count_scaled  comment_count_scaled  \\\n",
       "1       45               5.000000              4.884699   \n",
       "0        6               2.438014              5.000000   \n",
       "3       21               1.546694              1.884265   \n",
       "7        3               1.074512              1.103164   \n",
       "\n",
       "   weighted_sorting_score  \n",
       "1                4.795104  \n",
       "0                4.249884  \n",
       "3                2.937105  \n",
       "7                2.522386  "
      ]
     },
     "execution_count": 48,
     "metadata": {},
     "output_type": "execute_result"
    }
   ],
   "source": [
    "df[df[\"course_name\"].str.contains(\"Veri Bilimi\")].sort_values(\"weighted_sorting_score\", ascending=False)"
   ]
  },
  {
   "cell_type": "markdown",
   "id": "faaf245f",
   "metadata": {
    "papermill": {
     "duration": 0.05497,
     "end_time": "2023-11-13T13:55:50.858910",
     "exception": false,
     "start_time": "2023-11-13T13:55:50.803940",
     "status": "completed"
    },
    "tags": []
   },
   "source": [
    "<a id = \"10\"></a><br>\n",
    "<p style=\"font-family: 'Pacifico', cursive; font-weight: bold; letter-spacing: 2px; color: #556B2F; font-size: 160%; text-align: left; padding: 0px; border-bottom: 3px solid\">✨Bayes Ortalama Derecelendirme Puanı (Bayesian Average Rating Score)✨</p>"
   ]
  },
  {
   "cell_type": "markdown",
   "id": "7cda3309",
   "metadata": {
    "papermill": {
     "duration": 0.055788,
     "end_time": "2023-11-13T13:55:50.970980",
     "exception": false,
     "start_time": "2023-11-13T13:55:50.915192",
     "status": "completed"
    },
    "tags": []
   },
   "source": [
    "Bayesian Average Rating Score, özellikle kullanıcı yorumları ve derecelendirmelerini analiz etmek için kullanılan bir yöntemdir. Bu yöntem, kullanıcı geri bildirimlerini ve derecelendirmelerini daha doğru bir şekilde değerlendirmek ve analiz etmek amacıyla Bayesian istatistiklerini kullanır.\n",
    "\n",
    "Geleneksel ortalama derecelendirme hesaplamaları, kullanıcıların verdiği puanların basit bir ortalamasını alır. Ancak bu yaklaşım, nadiren puan veren veya aşırı puan veren kullanıcıların verileri üzerinde olumsuz etkilere neden olabilir. Bayesian Average Rating Score ise bu tür etkileri en aza indirgemeye yardımcı olur.\n",
    "\n",
    "Bayesian yaklaşım, kullanıcıların verdiği puanları, bir prior (öncül) dağılım ile birleştirir. Prior dağılım, verinin önceden tahmin edilen veya bilinen bir dağılıma sahip olduğunu ifade eder. Bu prior dağılım, kullanıcıların veri setine katkılarını hesaplarken göz önünde bulundurulur. Bu sayede, nadiren puan veren veya aşırı puan veren kullanıcıların etkileri daha dengelenir, ve sonuçlar daha güvenilir hale gelir."
   ]
  },
  {
   "cell_type": "markdown",
   "id": "28c7127f",
   "metadata": {
    "papermill": {
     "duration": 0.055569,
     "end_time": "2023-11-13T13:55:51.081285",
     "exception": false,
     "start_time": "2023-11-13T13:55:51.025716",
     "status": "completed"
    },
    "tags": []
   },
   "source": [
    "<div style=\"border-radius:10px; border:#D0C2F0 solid; padding: 15px; background-color: #F8E8EE; font-size:100%; text-align:left\">\n",
    "\n",
    "<h3 align=\"left\"><font color='#5E5273'>📄 Notes: </font></h3>\n",
    "\n",
    "* Another names about this topic;\n",
    "    * Sorting Products with 5 Star Rated\n",
    "    * Sorting Products According to Distribution of 5 Star Rating"
   ]
  },
  {
   "cell_type": "code",
   "execution_count": 49,
   "id": "f22a0eb6",
   "metadata": {
    "execution": {
     "iopub.execute_input": "2023-11-13T13:55:51.196508Z",
     "iopub.status.busy": "2023-11-13T13:55:51.195648Z",
     "iopub.status.idle": "2023-11-13T13:55:51.203436Z",
     "shell.execute_reply": "2023-11-13T13:55:51.202608Z"
    },
    "papermill": {
     "duration": 0.068975,
     "end_time": "2023-11-13T13:55:51.205889",
     "exception": false,
     "start_time": "2023-11-13T13:55:51.136914",
     "status": "completed"
    },
    "tags": []
   },
   "outputs": [],
   "source": [
    "def bayesian_average_rating(n, confidence=0.95):\n",
    "    \n",
    "    if sum(n) == 0:\n",
    "        \n",
    "        return 0\n",
    "    \n",
    "    K = len(n)\n",
    "    z = st.norm.ppf(1 - (1 - confidence) / 2)\n",
    "    N = sum(n)\n",
    "    first_part = 0.0\n",
    "    second_part = 0.0\n",
    "    \n",
    "    for k, n_k in enumerate(n):\n",
    "        \n",
    "        first_part += (k + 1) * (n[k] + 1) / (N + K)\n",
    "        second_part += (k + 1) * (k + 1) * (n[k] + 1) / (N + K)\n",
    "        \n",
    "    score = first_part - z * math.sqrt((second_part - first_part * first_part) / (N + K + 1))\n",
    "    \n",
    "    return score"
   ]
  },
  {
   "cell_type": "markdown",
   "id": "9d562cde",
   "metadata": {
    "papermill": {
     "duration": 0.055267,
     "end_time": "2023-11-13T13:55:51.317770",
     "exception": false,
     "start_time": "2023-11-13T13:55:51.262503",
     "status": "completed"
    },
    "tags": []
   },
   "source": [
    "<div style=\"border-radius:10px; border:#65647C solid; padding: 15px; background-color: #F8EDE3; font-size:100%; text-align:left\">\n",
    "\n",
    "<h3 align=\"left\"><font color='#7D6E83'><b>🗨️ Comment: </b></font></h3>\n",
    "    \n",
    "Bayesion Average Rating, puan dağılımlarının üzerinden ağırlıklı bir şekilde olasılıksal ortalama hesabı yapar.\n",
    "    \n",
    "Bu yöntem veri setindeki 1'den 5'e kadar olan puanların dağılım bilgisini kullanarak bize ortalama puan hesabı yapacak.\n",
    "    \n",
    "* n: girilecek olan ratinglerin ve bu ratinglere ait gözlenme frekansını ifade etmektedir.\n",
    "* confidence: hesaplanacak olan Z-tablo değerine ilişkin, bir değer elde edebilme adına girilmiş bir değerdir."
   ]
  },
  {
   "cell_type": "code",
   "execution_count": 50,
   "id": "edfa4079",
   "metadata": {
    "execution": {
     "iopub.execute_input": "2023-11-13T13:55:51.430072Z",
     "iopub.status.busy": "2023-11-13T13:55:51.429427Z",
     "iopub.status.idle": "2023-11-13T13:55:51.446118Z",
     "shell.execute_reply": "2023-11-13T13:55:51.445321Z"
    },
    "papermill": {
     "duration": 0.075923,
     "end_time": "2023-11-13T13:55:51.448342",
     "exception": false,
     "start_time": "2023-11-13T13:55:51.372419",
     "status": "completed"
    },
    "tags": []
   },
   "outputs": [
    {
     "data": {
      "text/html": [
       "<div>\n",
       "<style scoped>\n",
       "    .dataframe tbody tr th:only-of-type {\n",
       "        vertical-align: middle;\n",
       "    }\n",
       "\n",
       "    .dataframe tbody tr th {\n",
       "        vertical-align: top;\n",
       "    }\n",
       "\n",
       "    .dataframe thead th {\n",
       "        text-align: right;\n",
       "    }\n",
       "</style>\n",
       "<table border=\"1\" class=\"dataframe\">\n",
       "  <thead>\n",
       "    <tr style=\"text-align: right;\">\n",
       "      <th></th>\n",
       "      <th>course_name</th>\n",
       "      <th>instructor_name</th>\n",
       "      <th>purchase_count</th>\n",
       "      <th>rating</th>\n",
       "      <th>commment_count</th>\n",
       "      <th>5_point</th>\n",
       "      <th>4_point</th>\n",
       "      <th>3_point</th>\n",
       "      <th>2_point</th>\n",
       "      <th>1_point</th>\n",
       "      <th>purchase_count_scaled</th>\n",
       "      <th>comment_count_scaled</th>\n",
       "      <th>weighted_sorting_score</th>\n",
       "    </tr>\n",
       "  </thead>\n",
       "  <tbody>\n",
       "    <tr>\n",
       "      <th>0</th>\n",
       "      <td>(50+ Saat) Python A-Z™: Veri Bilimi ve Machine...</td>\n",
       "      <td>Veri Bilimi Okulu</td>\n",
       "      <td>17380</td>\n",
       "      <td>4.8</td>\n",
       "      <td>4621</td>\n",
       "      <td>3466</td>\n",
       "      <td>924</td>\n",
       "      <td>185</td>\n",
       "      <td>46</td>\n",
       "      <td>6</td>\n",
       "      <td>2.438014</td>\n",
       "      <td>5.000000</td>\n",
       "      <td>4.249884</td>\n",
       "    </tr>\n",
       "    <tr>\n",
       "      <th>1</th>\n",
       "      <td>Python: Yapay Zeka ve Veri Bilimi için Python ...</td>\n",
       "      <td>Veri Bilimi Okulu</td>\n",
       "      <td>48291</td>\n",
       "      <td>4.6</td>\n",
       "      <td>4488</td>\n",
       "      <td>2962</td>\n",
       "      <td>1122</td>\n",
       "      <td>314</td>\n",
       "      <td>45</td>\n",
       "      <td>45</td>\n",
       "      <td>5.000000</td>\n",
       "      <td>4.884699</td>\n",
       "      <td>4.795104</td>\n",
       "    </tr>\n",
       "    <tr>\n",
       "      <th>2</th>\n",
       "      <td>5 Saatte Veri Bilimci Olun (Valla Billa)</td>\n",
       "      <td>Instructor_1</td>\n",
       "      <td>18693</td>\n",
       "      <td>4.4</td>\n",
       "      <td>2362</td>\n",
       "      <td>1582</td>\n",
       "      <td>567</td>\n",
       "      <td>165</td>\n",
       "      <td>24</td>\n",
       "      <td>24</td>\n",
       "      <td>2.546839</td>\n",
       "      <td>3.041612</td>\n",
       "      <td>3.483494</td>\n",
       "    </tr>\n",
       "    <tr>\n",
       "      <th>3</th>\n",
       "      <td>R ile Veri Bilimi ve Machine Learning (35 Saat)</td>\n",
       "      <td>Veri Bilimi Okulu</td>\n",
       "      <td>6626</td>\n",
       "      <td>4.6</td>\n",
       "      <td>1027</td>\n",
       "      <td>688</td>\n",
       "      <td>257</td>\n",
       "      <td>51</td>\n",
       "      <td>10</td>\n",
       "      <td>21</td>\n",
       "      <td>1.546694</td>\n",
       "      <td>1.884265</td>\n",
       "      <td>2.937105</td>\n",
       "    </tr>\n",
       "    <tr>\n",
       "      <th>4</th>\n",
       "      <td>(2020) Python ile Makine Öğrenmesi (Machine Le...</td>\n",
       "      <td>Veri Bilimi Okulu</td>\n",
       "      <td>11314</td>\n",
       "      <td>4.6</td>\n",
       "      <td>969</td>\n",
       "      <td>717</td>\n",
       "      <td>194</td>\n",
       "      <td>38</td>\n",
       "      <td>10</td>\n",
       "      <td>10</td>\n",
       "      <td>1.935248</td>\n",
       "      <td>1.833984</td>\n",
       "      <td>3.022039</td>\n",
       "    </tr>\n",
       "  </tbody>\n",
       "</table>\n",
       "</div>"
      ],
      "text/plain": [
       "                                         course_name    instructor_name  \\\n",
       "0  (50+ Saat) Python A-Z™: Veri Bilimi ve Machine...  Veri Bilimi Okulu   \n",
       "1  Python: Yapay Zeka ve Veri Bilimi için Python ...  Veri Bilimi Okulu   \n",
       "2           5 Saatte Veri Bilimci Olun (Valla Billa)       Instructor_1   \n",
       "3    R ile Veri Bilimi ve Machine Learning (35 Saat)  Veri Bilimi Okulu   \n",
       "4  (2020) Python ile Makine Öğrenmesi (Machine Le...  Veri Bilimi Okulu   \n",
       "\n",
       "   purchase_count  rating  commment_count  5_point  4_point  3_point  2_point  \\\n",
       "0           17380     4.8            4621     3466      924      185       46   \n",
       "1           48291     4.6            4488     2962     1122      314       45   \n",
       "2           18693     4.4            2362     1582      567      165       24   \n",
       "3            6626     4.6            1027      688      257       51       10   \n",
       "4           11314     4.6             969      717      194       38       10   \n",
       "\n",
       "   1_point  purchase_count_scaled  comment_count_scaled  \\\n",
       "0        6               2.438014              5.000000   \n",
       "1       45               5.000000              4.884699   \n",
       "2       24               2.546839              3.041612   \n",
       "3       21               1.546694              1.884265   \n",
       "4       10               1.935248              1.833984   \n",
       "\n",
       "   weighted_sorting_score  \n",
       "0                4.249884  \n",
       "1                4.795104  \n",
       "2                3.483494  \n",
       "3                2.937105  \n",
       "4                3.022039  "
      ]
     },
     "execution_count": 50,
     "metadata": {},
     "output_type": "execute_result"
    }
   ],
   "source": [
    "df.head()"
   ]
  },
  {
   "cell_type": "code",
   "execution_count": 51,
   "id": "ca94648b",
   "metadata": {
    "execution": {
     "iopub.execute_input": "2023-11-13T13:55:51.563438Z",
     "iopub.status.busy": "2023-11-13T13:55:51.562202Z",
     "iopub.status.idle": "2023-11-13T13:55:51.601847Z",
     "shell.execute_reply": "2023-11-13T13:55:51.600478Z"
    },
    "papermill": {
     "duration": 0.100485,
     "end_time": "2023-11-13T13:55:51.604793",
     "exception": false,
     "start_time": "2023-11-13T13:55:51.504308",
     "status": "completed"
    },
    "tags": []
   },
   "outputs": [],
   "source": [
    "df[\"bar_score\"] = df.apply(lambda x: bayesian_average_rating(x[[\"1_point\",\n",
    "                                                                \"2_point\",\n",
    "                                                                \"3_point\",\n",
    "                                                                \"4_point\",\n",
    "                                                                \"5_point\"]]), axis=1)\n",
    "\n",
    "# bar_sorting_score,bar_rating,bar_average_rating şeklinde de isimlendirilebilir."
   ]
  },
  {
   "cell_type": "code",
   "execution_count": 52,
   "id": "79196135",
   "metadata": {
    "execution": {
     "iopub.execute_input": "2023-11-13T13:55:51.734613Z",
     "iopub.status.busy": "2023-11-13T13:55:51.733514Z",
     "iopub.status.idle": "2023-11-13T13:55:51.764848Z",
     "shell.execute_reply": "2023-11-13T13:55:51.763538Z"
    },
    "papermill": {
     "duration": 0.105047,
     "end_time": "2023-11-13T13:55:51.767961",
     "exception": false,
     "start_time": "2023-11-13T13:55:51.662914",
     "status": "completed"
    },
    "tags": []
   },
   "outputs": [
    {
     "data": {
      "text/html": [
       "<div>\n",
       "<style scoped>\n",
       "    .dataframe tbody tr th:only-of-type {\n",
       "        vertical-align: middle;\n",
       "    }\n",
       "\n",
       "    .dataframe tbody tr th {\n",
       "        vertical-align: top;\n",
       "    }\n",
       "\n",
       "    .dataframe thead th {\n",
       "        text-align: right;\n",
       "    }\n",
       "</style>\n",
       "<table border=\"1\" class=\"dataframe\">\n",
       "  <thead>\n",
       "    <tr style=\"text-align: right;\">\n",
       "      <th></th>\n",
       "      <th>course_name</th>\n",
       "      <th>instructor_name</th>\n",
       "      <th>purchase_count</th>\n",
       "      <th>rating</th>\n",
       "      <th>commment_count</th>\n",
       "      <th>5_point</th>\n",
       "      <th>4_point</th>\n",
       "      <th>3_point</th>\n",
       "      <th>2_point</th>\n",
       "      <th>1_point</th>\n",
       "      <th>purchase_count_scaled</th>\n",
       "      <th>comment_count_scaled</th>\n",
       "      <th>weighted_sorting_score</th>\n",
       "      <th>bar_score</th>\n",
       "    </tr>\n",
       "  </thead>\n",
       "  <tbody>\n",
       "    <tr>\n",
       "      <th>1</th>\n",
       "      <td>Python: Yapay Zeka ve Veri Bilimi için Python ...</td>\n",
       "      <td>Veri Bilimi Okulu</td>\n",
       "      <td>48291</td>\n",
       "      <td>4.6</td>\n",
       "      <td>4488</td>\n",
       "      <td>2962</td>\n",
       "      <td>1122</td>\n",
       "      <td>314</td>\n",
       "      <td>45</td>\n",
       "      <td>45</td>\n",
       "      <td>5.000000</td>\n",
       "      <td>4.884699</td>\n",
       "      <td>4.795104</td>\n",
       "      <td>4.516038</td>\n",
       "    </tr>\n",
       "    <tr>\n",
       "      <th>0</th>\n",
       "      <td>(50+ Saat) Python A-Z™: Veri Bilimi ve Machine...</td>\n",
       "      <td>Veri Bilimi Okulu</td>\n",
       "      <td>17380</td>\n",
       "      <td>4.8</td>\n",
       "      <td>4621</td>\n",
       "      <td>3466</td>\n",
       "      <td>924</td>\n",
       "      <td>185</td>\n",
       "      <td>46</td>\n",
       "      <td>6</td>\n",
       "      <td>2.438014</td>\n",
       "      <td>5.000000</td>\n",
       "      <td>4.249884</td>\n",
       "      <td>4.665857</td>\n",
       "    </tr>\n",
       "    <tr>\n",
       "      <th>20</th>\n",
       "      <td>Course_9</td>\n",
       "      <td>Instructor_3</td>\n",
       "      <td>12946</td>\n",
       "      <td>4.5</td>\n",
       "      <td>3371</td>\n",
       "      <td>2191</td>\n",
       "      <td>877</td>\n",
       "      <td>203</td>\n",
       "      <td>33</td>\n",
       "      <td>67</td>\n",
       "      <td>2.070512</td>\n",
       "      <td>3.916342</td>\n",
       "      <td>3.681563</td>\n",
       "      <td>4.480627</td>\n",
       "    </tr>\n",
       "    <tr>\n",
       "      <th>14</th>\n",
       "      <td>Uçtan Uca SQL Server Eğitimi</td>\n",
       "      <td>Veri Bilimi Okulu</td>\n",
       "      <td>12893</td>\n",
       "      <td>4.7</td>\n",
       "      <td>2425</td>\n",
       "      <td>1722</td>\n",
       "      <td>510</td>\n",
       "      <td>145</td>\n",
       "      <td>24</td>\n",
       "      <td>24</td>\n",
       "      <td>2.066120</td>\n",
       "      <td>3.096229</td>\n",
       "      <td>3.501984</td>\n",
       "      <td>4.568162</td>\n",
       "    </tr>\n",
       "    <tr>\n",
       "      <th>2</th>\n",
       "      <td>5 Saatte Veri Bilimci Olun (Valla Billa)</td>\n",
       "      <td>Instructor_1</td>\n",
       "      <td>18693</td>\n",
       "      <td>4.4</td>\n",
       "      <td>2362</td>\n",
       "      <td>1582</td>\n",
       "      <td>567</td>\n",
       "      <td>165</td>\n",
       "      <td>24</td>\n",
       "      <td>24</td>\n",
       "      <td>2.546839</td>\n",
       "      <td>3.041612</td>\n",
       "      <td>3.483494</td>\n",
       "      <td>4.515210</td>\n",
       "    </tr>\n",
       "    <tr>\n",
       "      <th>10</th>\n",
       "      <td>İleri Düzey Excel|Dashboard|Excel İp Uçları</td>\n",
       "      <td>Veri Bilimi Okulu</td>\n",
       "      <td>9554</td>\n",
       "      <td>4.8</td>\n",
       "      <td>2266</td>\n",
       "      <td>1654</td>\n",
       "      <td>499</td>\n",
       "      <td>91</td>\n",
       "      <td>22</td>\n",
       "      <td>0</td>\n",
       "      <td>1.789374</td>\n",
       "      <td>2.958388</td>\n",
       "      <td>3.427921</td>\n",
       "      <td>4.641679</td>\n",
       "    </tr>\n",
       "    <tr>\n",
       "      <th>15</th>\n",
       "      <td>Uygulamalarla SQL Öğreniyorum</td>\n",
       "      <td>Veri Bilimi Okulu</td>\n",
       "      <td>11397</td>\n",
       "      <td>4.5</td>\n",
       "      <td>2353</td>\n",
       "      <td>1435</td>\n",
       "      <td>705</td>\n",
       "      <td>165</td>\n",
       "      <td>24</td>\n",
       "      <td>24</td>\n",
       "      <td>1.942127</td>\n",
       "      <td>3.033810</td>\n",
       "      <td>3.365772</td>\n",
       "      <td>4.454811</td>\n",
       "    </tr>\n",
       "    <tr>\n",
       "      <th>4</th>\n",
       "      <td>(2020) Python ile Makine Öğrenmesi (Machine Le...</td>\n",
       "      <td>Veri Bilimi Okulu</td>\n",
       "      <td>11314</td>\n",
       "      <td>4.6</td>\n",
       "      <td>969</td>\n",
       "      <td>717</td>\n",
       "      <td>194</td>\n",
       "      <td>38</td>\n",
       "      <td>10</td>\n",
       "      <td>10</td>\n",
       "      <td>1.935248</td>\n",
       "      <td>1.833984</td>\n",
       "      <td>3.022039</td>\n",
       "      <td>4.595674</td>\n",
       "    </tr>\n",
       "    <tr>\n",
       "      <th>11</th>\n",
       "      <td>Course_3</td>\n",
       "      <td>Instructor_4</td>\n",
       "      <td>24809</td>\n",
       "      <td>4.3</td>\n",
       "      <td>250</td>\n",
       "      <td>95</td>\n",
       "      <td>87</td>\n",
       "      <td>51</td>\n",
       "      <td>12</td>\n",
       "      <td>5</td>\n",
       "      <td>3.053749</td>\n",
       "      <td>1.210663</td>\n",
       "      <td>2.987387</td>\n",
       "      <td>3.877743</td>\n",
       "    </tr>\n",
       "    <tr>\n",
       "      <th>3</th>\n",
       "      <td>R ile Veri Bilimi ve Machine Learning (35 Saat)</td>\n",
       "      <td>Veri Bilimi Okulu</td>\n",
       "      <td>6626</td>\n",
       "      <td>4.6</td>\n",
       "      <td>1027</td>\n",
       "      <td>688</td>\n",
       "      <td>257</td>\n",
       "      <td>51</td>\n",
       "      <td>10</td>\n",
       "      <td>21</td>\n",
       "      <td>1.546694</td>\n",
       "      <td>1.884265</td>\n",
       "      <td>2.937105</td>\n",
       "      <td>4.482079</td>\n",
       "    </tr>\n",
       "  </tbody>\n",
       "</table>\n",
       "</div>"
      ],
      "text/plain": [
       "                                          course_name    instructor_name  \\\n",
       "1   Python: Yapay Zeka ve Veri Bilimi için Python ...  Veri Bilimi Okulu   \n",
       "0   (50+ Saat) Python A-Z™: Veri Bilimi ve Machine...  Veri Bilimi Okulu   \n",
       "20                                           Course_9       Instructor_3   \n",
       "14                       Uçtan Uca SQL Server Eğitimi  Veri Bilimi Okulu   \n",
       "2            5 Saatte Veri Bilimci Olun (Valla Billa)       Instructor_1   \n",
       "10        İleri Düzey Excel|Dashboard|Excel İp Uçları  Veri Bilimi Okulu   \n",
       "15                      Uygulamalarla SQL Öğreniyorum  Veri Bilimi Okulu   \n",
       "4   (2020) Python ile Makine Öğrenmesi (Machine Le...  Veri Bilimi Okulu   \n",
       "11                                           Course_3       Instructor_4   \n",
       "3     R ile Veri Bilimi ve Machine Learning (35 Saat)  Veri Bilimi Okulu   \n",
       "\n",
       "    purchase_count  rating  commment_count  5_point  4_point  3_point  \\\n",
       "1            48291     4.6            4488     2962     1122      314   \n",
       "0            17380     4.8            4621     3466      924      185   \n",
       "20           12946     4.5            3371     2191      877      203   \n",
       "14           12893     4.7            2425     1722      510      145   \n",
       "2            18693     4.4            2362     1582      567      165   \n",
       "10            9554     4.8            2266     1654      499       91   \n",
       "15           11397     4.5            2353     1435      705      165   \n",
       "4            11314     4.6             969      717      194       38   \n",
       "11           24809     4.3             250       95       87       51   \n",
       "3             6626     4.6            1027      688      257       51   \n",
       "\n",
       "    2_point  1_point  purchase_count_scaled  comment_count_scaled  \\\n",
       "1        45       45               5.000000              4.884699   \n",
       "0        46        6               2.438014              5.000000   \n",
       "20       33       67               2.070512              3.916342   \n",
       "14       24       24               2.066120              3.096229   \n",
       "2        24       24               2.546839              3.041612   \n",
       "10       22        0               1.789374              2.958388   \n",
       "15       24       24               1.942127              3.033810   \n",
       "4        10       10               1.935248              1.833984   \n",
       "11       12        5               3.053749              1.210663   \n",
       "3        10       21               1.546694              1.884265   \n",
       "\n",
       "    weighted_sorting_score  bar_score  \n",
       "1                 4.795104   4.516038  \n",
       "0                 4.249884   4.665857  \n",
       "20                3.681563   4.480627  \n",
       "14                3.501984   4.568162  \n",
       "2                 3.483494   4.515210  \n",
       "10                3.427921   4.641679  \n",
       "15                3.365772   4.454811  \n",
       "4                 3.022039   4.595674  \n",
       "11                2.987387   3.877743  \n",
       "3                 2.937105   4.482079  "
      ]
     },
     "execution_count": 52,
     "metadata": {},
     "output_type": "execute_result"
    }
   ],
   "source": [
    "df.sort_values(\"weighted_sorting_score\", ascending=False).head(10)"
   ]
  },
  {
   "cell_type": "code",
   "execution_count": 53,
   "id": "83d796a1",
   "metadata": {
    "execution": {
     "iopub.execute_input": "2023-11-13T13:55:51.902182Z",
     "iopub.status.busy": "2023-11-13T13:55:51.900653Z",
     "iopub.status.idle": "2023-11-13T13:55:51.930346Z",
     "shell.execute_reply": "2023-11-13T13:55:51.929276Z"
    },
    "papermill": {
     "duration": 0.097709,
     "end_time": "2023-11-13T13:55:51.932958",
     "exception": false,
     "start_time": "2023-11-13T13:55:51.835249",
     "status": "completed"
    },
    "tags": []
   },
   "outputs": [
    {
     "data": {
      "text/html": [
       "<div>\n",
       "<style scoped>\n",
       "    .dataframe tbody tr th:only-of-type {\n",
       "        vertical-align: middle;\n",
       "    }\n",
       "\n",
       "    .dataframe tbody tr th {\n",
       "        vertical-align: top;\n",
       "    }\n",
       "\n",
       "    .dataframe thead th {\n",
       "        text-align: right;\n",
       "    }\n",
       "</style>\n",
       "<table border=\"1\" class=\"dataframe\">\n",
       "  <thead>\n",
       "    <tr style=\"text-align: right;\">\n",
       "      <th></th>\n",
       "      <th>course_name</th>\n",
       "      <th>instructor_name</th>\n",
       "      <th>purchase_count</th>\n",
       "      <th>rating</th>\n",
       "      <th>commment_count</th>\n",
       "      <th>5_point</th>\n",
       "      <th>4_point</th>\n",
       "      <th>3_point</th>\n",
       "      <th>2_point</th>\n",
       "      <th>1_point</th>\n",
       "      <th>purchase_count_scaled</th>\n",
       "      <th>comment_count_scaled</th>\n",
       "      <th>weighted_sorting_score</th>\n",
       "      <th>bar_score</th>\n",
       "    </tr>\n",
       "  </thead>\n",
       "  <tbody>\n",
       "    <tr>\n",
       "      <th>19</th>\n",
       "      <td>Alıştırmalarla SQL Öğreniyorum</td>\n",
       "      <td>Veri Bilimi Okulu</td>\n",
       "      <td>3155</td>\n",
       "      <td>4.8</td>\n",
       "      <td>235</td>\n",
       "      <td>200</td>\n",
       "      <td>31</td>\n",
       "      <td>4</td>\n",
       "      <td>0</td>\n",
       "      <td>0</td>\n",
       "      <td>1.259008</td>\n",
       "      <td>1.197659</td>\n",
       "      <td>2.726593</td>\n",
       "      <td>4.729128</td>\n",
       "    </tr>\n",
       "    <tr>\n",
       "      <th>0</th>\n",
       "      <td>(50+ Saat) Python A-Z™: Veri Bilimi ve Machine...</td>\n",
       "      <td>Veri Bilimi Okulu</td>\n",
       "      <td>17380</td>\n",
       "      <td>4.8</td>\n",
       "      <td>4621</td>\n",
       "      <td>3466</td>\n",
       "      <td>924</td>\n",
       "      <td>185</td>\n",
       "      <td>46</td>\n",
       "      <td>6</td>\n",
       "      <td>2.438014</td>\n",
       "      <td>5.000000</td>\n",
       "      <td>4.249884</td>\n",
       "      <td>4.665857</td>\n",
       "    </tr>\n",
       "    <tr>\n",
       "      <th>10</th>\n",
       "      <td>İleri Düzey Excel|Dashboard|Excel İp Uçları</td>\n",
       "      <td>Veri Bilimi Okulu</td>\n",
       "      <td>9554</td>\n",
       "      <td>4.8</td>\n",
       "      <td>2266</td>\n",
       "      <td>1654</td>\n",
       "      <td>499</td>\n",
       "      <td>91</td>\n",
       "      <td>22</td>\n",
       "      <td>0</td>\n",
       "      <td>1.789374</td>\n",
       "      <td>2.958388</td>\n",
       "      <td>3.427921</td>\n",
       "      <td>4.641679</td>\n",
       "    </tr>\n",
       "    <tr>\n",
       "      <th>5</th>\n",
       "      <td>Course_1</td>\n",
       "      <td>Instructor_2</td>\n",
       "      <td>4601</td>\n",
       "      <td>4.8</td>\n",
       "      <td>213</td>\n",
       "      <td>164</td>\n",
       "      <td>45</td>\n",
       "      <td>4</td>\n",
       "      <td>0</td>\n",
       "      <td>0</td>\n",
       "      <td>1.378857</td>\n",
       "      <td>1.178587</td>\n",
       "      <td>2.751651</td>\n",
       "      <td>4.634477</td>\n",
       "    </tr>\n",
       "    <tr>\n",
       "      <th>4</th>\n",
       "      <td>(2020) Python ile Makine Öğrenmesi (Machine Le...</td>\n",
       "      <td>Veri Bilimi Okulu</td>\n",
       "      <td>11314</td>\n",
       "      <td>4.6</td>\n",
       "      <td>969</td>\n",
       "      <td>717</td>\n",
       "      <td>194</td>\n",
       "      <td>38</td>\n",
       "      <td>10</td>\n",
       "      <td>10</td>\n",
       "      <td>1.935248</td>\n",
       "      <td>1.833984</td>\n",
       "      <td>3.022039</td>\n",
       "      <td>4.595674</td>\n",
       "    </tr>\n",
       "    <tr>\n",
       "      <th>14</th>\n",
       "      <td>Uçtan Uca SQL Server Eğitimi</td>\n",
       "      <td>Veri Bilimi Okulu</td>\n",
       "      <td>12893</td>\n",
       "      <td>4.7</td>\n",
       "      <td>2425</td>\n",
       "      <td>1722</td>\n",
       "      <td>510</td>\n",
       "      <td>145</td>\n",
       "      <td>24</td>\n",
       "      <td>24</td>\n",
       "      <td>2.066120</td>\n",
       "      <td>3.096229</td>\n",
       "      <td>3.501984</td>\n",
       "      <td>4.568162</td>\n",
       "    </tr>\n",
       "    <tr>\n",
       "      <th>1</th>\n",
       "      <td>Python: Yapay Zeka ve Veri Bilimi için Python ...</td>\n",
       "      <td>Veri Bilimi Okulu</td>\n",
       "      <td>48291</td>\n",
       "      <td>4.6</td>\n",
       "      <td>4488</td>\n",
       "      <td>2962</td>\n",
       "      <td>1122</td>\n",
       "      <td>314</td>\n",
       "      <td>45</td>\n",
       "      <td>45</td>\n",
       "      <td>5.000000</td>\n",
       "      <td>4.884699</td>\n",
       "      <td>4.795104</td>\n",
       "      <td>4.516038</td>\n",
       "    </tr>\n",
       "    <tr>\n",
       "      <th>2</th>\n",
       "      <td>5 Saatte Veri Bilimci Olun (Valla Billa)</td>\n",
       "      <td>Instructor_1</td>\n",
       "      <td>18693</td>\n",
       "      <td>4.4</td>\n",
       "      <td>2362</td>\n",
       "      <td>1582</td>\n",
       "      <td>567</td>\n",
       "      <td>165</td>\n",
       "      <td>24</td>\n",
       "      <td>24</td>\n",
       "      <td>2.546839</td>\n",
       "      <td>3.041612</td>\n",
       "      <td>3.483494</td>\n",
       "      <td>4.515210</td>\n",
       "    </tr>\n",
       "    <tr>\n",
       "      <th>6</th>\n",
       "      <td>Course_2</td>\n",
       "      <td>Instructor_3</td>\n",
       "      <td>3171</td>\n",
       "      <td>4.7</td>\n",
       "      <td>856</td>\n",
       "      <td>582</td>\n",
       "      <td>205</td>\n",
       "      <td>51</td>\n",
       "      <td>9</td>\n",
       "      <td>9</td>\n",
       "      <td>1.260334</td>\n",
       "      <td>1.736021</td>\n",
       "      <td>2.857214</td>\n",
       "      <td>4.507970</td>\n",
       "    </tr>\n",
       "    <tr>\n",
       "      <th>3</th>\n",
       "      <td>R ile Veri Bilimi ve Machine Learning (35 Saat)</td>\n",
       "      <td>Veri Bilimi Okulu</td>\n",
       "      <td>6626</td>\n",
       "      <td>4.6</td>\n",
       "      <td>1027</td>\n",
       "      <td>688</td>\n",
       "      <td>257</td>\n",
       "      <td>51</td>\n",
       "      <td>10</td>\n",
       "      <td>21</td>\n",
       "      <td>1.546694</td>\n",
       "      <td>1.884265</td>\n",
       "      <td>2.937105</td>\n",
       "      <td>4.482079</td>\n",
       "    </tr>\n",
       "  </tbody>\n",
       "</table>\n",
       "</div>"
      ],
      "text/plain": [
       "                                          course_name    instructor_name  \\\n",
       "19                     Alıştırmalarla SQL Öğreniyorum  Veri Bilimi Okulu   \n",
       "0   (50+ Saat) Python A-Z™: Veri Bilimi ve Machine...  Veri Bilimi Okulu   \n",
       "10        İleri Düzey Excel|Dashboard|Excel İp Uçları  Veri Bilimi Okulu   \n",
       "5                                            Course_1       Instructor_2   \n",
       "4   (2020) Python ile Makine Öğrenmesi (Machine Le...  Veri Bilimi Okulu   \n",
       "14                       Uçtan Uca SQL Server Eğitimi  Veri Bilimi Okulu   \n",
       "1   Python: Yapay Zeka ve Veri Bilimi için Python ...  Veri Bilimi Okulu   \n",
       "2            5 Saatte Veri Bilimci Olun (Valla Billa)       Instructor_1   \n",
       "6                                            Course_2       Instructor_3   \n",
       "3     R ile Veri Bilimi ve Machine Learning (35 Saat)  Veri Bilimi Okulu   \n",
       "\n",
       "    purchase_count  rating  commment_count  5_point  4_point  3_point  \\\n",
       "19            3155     4.8             235      200       31        4   \n",
       "0            17380     4.8            4621     3466      924      185   \n",
       "10            9554     4.8            2266     1654      499       91   \n",
       "5             4601     4.8             213      164       45        4   \n",
       "4            11314     4.6             969      717      194       38   \n",
       "14           12893     4.7            2425     1722      510      145   \n",
       "1            48291     4.6            4488     2962     1122      314   \n",
       "2            18693     4.4            2362     1582      567      165   \n",
       "6             3171     4.7             856      582      205       51   \n",
       "3             6626     4.6            1027      688      257       51   \n",
       "\n",
       "    2_point  1_point  purchase_count_scaled  comment_count_scaled  \\\n",
       "19        0        0               1.259008              1.197659   \n",
       "0        46        6               2.438014              5.000000   \n",
       "10       22        0               1.789374              2.958388   \n",
       "5         0        0               1.378857              1.178587   \n",
       "4        10       10               1.935248              1.833984   \n",
       "14       24       24               2.066120              3.096229   \n",
       "1        45       45               5.000000              4.884699   \n",
       "2        24       24               2.546839              3.041612   \n",
       "6         9        9               1.260334              1.736021   \n",
       "3        10       21               1.546694              1.884265   \n",
       "\n",
       "    weighted_sorting_score  bar_score  \n",
       "19                2.726593   4.729128  \n",
       "0                 4.249884   4.665857  \n",
       "10                3.427921   4.641679  \n",
       "5                 2.751651   4.634477  \n",
       "4                 3.022039   4.595674  \n",
       "14                3.501984   4.568162  \n",
       "1                 4.795104   4.516038  \n",
       "2                 3.483494   4.515210  \n",
       "6                 2.857214   4.507970  \n",
       "3                 2.937105   4.482079  "
      ]
     },
     "execution_count": 53,
     "metadata": {},
     "output_type": "execute_result"
    }
   ],
   "source": [
    "df.sort_values(\"bar_score\", ascending=False).head(10)"
   ]
  },
  {
   "cell_type": "markdown",
   "id": "f324052d",
   "metadata": {
    "papermill": {
     "duration": 0.062545,
     "end_time": "2023-11-13T13:55:52.059065",
     "exception": false,
     "start_time": "2023-11-13T13:55:51.996520",
     "status": "completed"
    },
    "tags": []
   },
   "source": [
    "<div style=\"border-radius:10px; border:#65647C solid; padding: 15px; background-color: #F8EDE3; font-size:100%; text-align:left\">\n",
    "\n",
    "<h3 align=\"left\"><font color='#7D6E83'><b>🗨️ Comment: </b></font></h3>\n",
    "\n",
    "**\"bar_score\"**, yalnızca puanlamalara dayalı bir sıralama sağlar. Bu nedenle, puanların dağılımına dayalı olarak oluşturulan bu skor, puan hesaplaması içinde bilimsel olarak hesaplanmış bir skor olarak kabul edilebilir.\n",
    "\n",
    "Yukarıdaki sıralamaya baktığımızda, yine düşük yorum ve satın alma sayılarına sahip kurslar üst sırada kalır. Bunun temel nedeni, \"bar_score\"un yalnızca puanlara dayalı olarak oluşturulmuş olmasıdır.\n",
    "\n",
    "Aşağıda 1. ve 5. indekslere baktığımızda, bunun nedeninin **\"1_point\"** ve **\"2_point\"** değerlerinin sıfır olmasından kaynaklandığını anlayabiliriz. Bu yüzden düşük yüzdelerine rağmen yüksek bir skora sahiptirler."
   ]
  },
  {
   "cell_type": "code",
   "execution_count": 54,
   "id": "6c9be4c7",
   "metadata": {
    "execution": {
     "iopub.execute_input": "2023-11-13T13:55:52.204198Z",
     "iopub.status.busy": "2023-11-13T13:55:52.201462Z",
     "iopub.status.idle": "2023-11-13T13:55:52.224850Z",
     "shell.execute_reply": "2023-11-13T13:55:52.223440Z"
    },
    "papermill": {
     "duration": 0.102359,
     "end_time": "2023-11-13T13:55:52.228129",
     "exception": false,
     "start_time": "2023-11-13T13:55:52.125770",
     "status": "completed"
    },
    "tags": []
   },
   "outputs": [
    {
     "data": {
      "text/html": [
       "<div>\n",
       "<style scoped>\n",
       "    .dataframe tbody tr th:only-of-type {\n",
       "        vertical-align: middle;\n",
       "    }\n",
       "\n",
       "    .dataframe tbody tr th {\n",
       "        vertical-align: top;\n",
       "    }\n",
       "\n",
       "    .dataframe thead th {\n",
       "        text-align: right;\n",
       "    }\n",
       "</style>\n",
       "<table border=\"1\" class=\"dataframe\">\n",
       "  <thead>\n",
       "    <tr style=\"text-align: right;\">\n",
       "      <th></th>\n",
       "      <th>course_name</th>\n",
       "      <th>instructor_name</th>\n",
       "      <th>purchase_count</th>\n",
       "      <th>rating</th>\n",
       "      <th>commment_count</th>\n",
       "      <th>5_point</th>\n",
       "      <th>4_point</th>\n",
       "      <th>3_point</th>\n",
       "      <th>2_point</th>\n",
       "      <th>1_point</th>\n",
       "      <th>purchase_count_scaled</th>\n",
       "      <th>comment_count_scaled</th>\n",
       "      <th>weighted_sorting_score</th>\n",
       "      <th>bar_score</th>\n",
       "    </tr>\n",
       "  </thead>\n",
       "  <tbody>\n",
       "    <tr>\n",
       "      <th>5</th>\n",
       "      <td>Course_1</td>\n",
       "      <td>Instructor_2</td>\n",
       "      <td>4601</td>\n",
       "      <td>4.8</td>\n",
       "      <td>213</td>\n",
       "      <td>164</td>\n",
       "      <td>45</td>\n",
       "      <td>4</td>\n",
       "      <td>0</td>\n",
       "      <td>0</td>\n",
       "      <td>1.378857</td>\n",
       "      <td>1.178587</td>\n",
       "      <td>2.751651</td>\n",
       "      <td>4.634477</td>\n",
       "    </tr>\n",
       "    <tr>\n",
       "      <th>1</th>\n",
       "      <td>Python: Yapay Zeka ve Veri Bilimi için Python ...</td>\n",
       "      <td>Veri Bilimi Okulu</td>\n",
       "      <td>48291</td>\n",
       "      <td>4.6</td>\n",
       "      <td>4488</td>\n",
       "      <td>2962</td>\n",
       "      <td>1122</td>\n",
       "      <td>314</td>\n",
       "      <td>45</td>\n",
       "      <td>45</td>\n",
       "      <td>5.000000</td>\n",
       "      <td>4.884699</td>\n",
       "      <td>4.795104</td>\n",
       "      <td>4.516038</td>\n",
       "    </tr>\n",
       "  </tbody>\n",
       "</table>\n",
       "</div>"
      ],
      "text/plain": [
       "                                         course_name    instructor_name  \\\n",
       "5                                           Course_1       Instructor_2   \n",
       "1  Python: Yapay Zeka ve Veri Bilimi için Python ...  Veri Bilimi Okulu   \n",
       "\n",
       "   purchase_count  rating  commment_count  5_point  4_point  3_point  2_point  \\\n",
       "5            4601     4.8             213      164       45        4        0   \n",
       "1           48291     4.6            4488     2962     1122      314       45   \n",
       "\n",
       "   1_point  purchase_count_scaled  comment_count_scaled  \\\n",
       "5        0               1.378857              1.178587   \n",
       "1       45               5.000000              4.884699   \n",
       "\n",
       "   weighted_sorting_score  bar_score  \n",
       "5                2.751651   4.634477  \n",
       "1                4.795104   4.516038  "
      ]
     },
     "execution_count": 54,
     "metadata": {},
     "output_type": "execute_result"
    }
   ],
   "source": [
    "df[df[\"course_name\"].index.isin([5, 1])].sort_values(\"bar_score\", ascending=False)"
   ]
  },
  {
   "cell_type": "markdown",
   "id": "e31c73e9",
   "metadata": {
    "papermill": {
     "duration": 0.061836,
     "end_time": "2023-11-13T13:55:52.352736",
     "exception": false,
     "start_time": "2023-11-13T13:55:52.290900",
     "status": "completed"
    },
    "tags": []
   },
   "source": [
    "<a id = \"11\"></a><br>\n",
    "<p style=\"font-family: 'Pacifico', cursive; font-weight: bold; letter-spacing: 2px; color: #556B2F; font-size: 160%; text-align: left; padding: 0px; border-bottom: 3px solid\">✨Hibrit Sıralama (Hybrid Sorting)✨</p>"
   ]
  },
  {
   "cell_type": "markdown",
   "id": "e741c20d",
   "metadata": {
    "papermill": {
     "duration": 0.064401,
     "end_time": "2023-11-13T13:55:52.478923",
     "exception": false,
     "start_time": "2023-11-13T13:55:52.414522",
     "status": "completed"
    },
    "tags": []
   },
   "source": [
    "<div style=\"border-radius:10px; border:#65647C solid; padding: 15px; background-color: #F8EDE3; font-size:100%; text-align:left\">\n",
    "\n",
    "<h3 align=\"left\"><font color='#7D6E83'><b>🗨️ Comment: </b></font></h3>\n",
    "\n",
    "* Buraya kadar yapılan adımlar:\n",
    "    - İlk olarak, Ortalama, Zaman Tabanlı Ağırlıklı Ortalama ve Kullanıcı Tabanlı Ağırlıklı Ortalama için ortalama hesapladık.\n",
    "    - Bunları hesapladıktan sonra bu üç değerin ağırlıklı ortalamalarına baktık.\n",
    "    - Gördüğümüz üzere, Skor hesaplamak için Bayesian Ortalama Puan Skoru'nu da kullanabiliriz. Sadece Bayesian hesaplamalara dayalı olarak puanlar hesapladığımızda, mevcut puanları bir miktar düşürebilir ve kullanımı tartışmalı hale getirebilir.\n",
    "    - Başka bir yöntem, Bayesian değerini hesaplanmış puanlara bir ağırlık olarak eklemektir.\n",
    "    - Ayrıca fark ettik ki yalnızca Derecelendirme, Yorum veya Satın Alma (WSS) faktörleri kullanarak Ürünleri sıralayamıyorduk. Bu üç faktörü kullanan bir skorlama sistemini oluşturduk ve bu, birçok sorunumuza çözüm olabilir.\n",
    "    - Bir adım daha ileri giderek, Derecelendirmelerin dağılımına dayalı yeni bir skorlama sistemini hesapladık.\n",
    "    - Şimdi, Bar Skoru'nu Derecelendirme, Yorum veya Satın Alma faktörleriyle birleştireceğiz.\n",
    "    - Bar Skoru bilimsel olarak güvenilir olsa da, gözden kaçmış faktörleri hesaba katmak için hibrit bir hesaplama yapılabilir."
   ]
  },
  {
   "cell_type": "code",
   "execution_count": 55,
   "id": "e7f5bb02",
   "metadata": {
    "execution": {
     "iopub.execute_input": "2023-11-13T13:55:52.608562Z",
     "iopub.status.busy": "2023-11-13T13:55:52.607685Z",
     "iopub.status.idle": "2023-11-13T13:55:52.614664Z",
     "shell.execute_reply": "2023-11-13T13:55:52.613780Z"
    },
    "papermill": {
     "duration": 0.07567,
     "end_time": "2023-11-13T13:55:52.617246",
     "exception": false,
     "start_time": "2023-11-13T13:55:52.541576",
     "status": "completed"
    },
    "tags": []
   },
   "outputs": [],
   "source": [
    "def hybrid_sorting_score(dataframe, bar_w=60, wss_w=40):\n",
    "    \n",
    "    bar_score = dataframe.apply(lambda x: bayesian_average_rating(x[[\"1_point\",\n",
    "                                                                     \"2_point\",\n",
    "                                                                     \"3_point\",\n",
    "                                                                     \"4_point\",\n",
    "                                                                     \"5_point\"]]), axis=1)\n",
    "    wss_score = weighted_sorting_score(dataframe)\n",
    "\n",
    "    return bar_score*bar_w/100 + wss_score*wss_w/100"
   ]
  },
  {
   "cell_type": "code",
   "execution_count": 56,
   "id": "f36528c7",
   "metadata": {
    "execution": {
     "iopub.execute_input": "2023-11-13T13:55:52.741451Z",
     "iopub.status.busy": "2023-11-13T13:55:52.740615Z",
     "iopub.status.idle": "2023-11-13T13:55:52.778744Z",
     "shell.execute_reply": "2023-11-13T13:55:52.777869Z"
    },
    "papermill": {
     "duration": 0.10329,
     "end_time": "2023-11-13T13:55:52.782649",
     "exception": false,
     "start_time": "2023-11-13T13:55:52.679359",
     "status": "completed"
    },
    "tags": []
   },
   "outputs": [],
   "source": [
    "df[\"hybrid_sorting_score\"] = hybrid_sorting_score(df)"
   ]
  },
  {
   "cell_type": "code",
   "execution_count": 57,
   "id": "91ddf760",
   "metadata": {
    "execution": {
     "iopub.execute_input": "2023-11-13T13:55:52.913010Z",
     "iopub.status.busy": "2023-11-13T13:55:52.911812Z",
     "iopub.status.idle": "2023-11-13T13:55:52.937678Z",
     "shell.execute_reply": "2023-11-13T13:55:52.936390Z"
    },
    "papermill": {
     "duration": 0.095486,
     "end_time": "2023-11-13T13:55:52.940470",
     "exception": false,
     "start_time": "2023-11-13T13:55:52.844984",
     "status": "completed"
    },
    "tags": []
   },
   "outputs": [
    {
     "data": {
      "text/html": [
       "<div>\n",
       "<style scoped>\n",
       "    .dataframe tbody tr th:only-of-type {\n",
       "        vertical-align: middle;\n",
       "    }\n",
       "\n",
       "    .dataframe tbody tr th {\n",
       "        vertical-align: top;\n",
       "    }\n",
       "\n",
       "    .dataframe thead th {\n",
       "        text-align: right;\n",
       "    }\n",
       "</style>\n",
       "<table border=\"1\" class=\"dataframe\">\n",
       "  <thead>\n",
       "    <tr style=\"text-align: right;\">\n",
       "      <th></th>\n",
       "      <th>course_name</th>\n",
       "      <th>instructor_name</th>\n",
       "      <th>purchase_count</th>\n",
       "      <th>rating</th>\n",
       "      <th>commment_count</th>\n",
       "      <th>5_point</th>\n",
       "      <th>4_point</th>\n",
       "      <th>3_point</th>\n",
       "      <th>2_point</th>\n",
       "      <th>1_point</th>\n",
       "      <th>purchase_count_scaled</th>\n",
       "      <th>comment_count_scaled</th>\n",
       "      <th>weighted_sorting_score</th>\n",
       "      <th>bar_score</th>\n",
       "      <th>hybrid_sorting_score</th>\n",
       "    </tr>\n",
       "  </thead>\n",
       "  <tbody>\n",
       "    <tr>\n",
       "      <th>1</th>\n",
       "      <td>Python: Yapay Zeka ve Veri Bilimi için Python ...</td>\n",
       "      <td>Veri Bilimi Okulu</td>\n",
       "      <td>48291</td>\n",
       "      <td>4.6</td>\n",
       "      <td>4488</td>\n",
       "      <td>2962</td>\n",
       "      <td>1122</td>\n",
       "      <td>314</td>\n",
       "      <td>45</td>\n",
       "      <td>45</td>\n",
       "      <td>5.000000</td>\n",
       "      <td>4.884699</td>\n",
       "      <td>4.795104</td>\n",
       "      <td>4.516038</td>\n",
       "      <td>4.627664</td>\n",
       "    </tr>\n",
       "    <tr>\n",
       "      <th>0</th>\n",
       "      <td>(50+ Saat) Python A-Z™: Veri Bilimi ve Machine...</td>\n",
       "      <td>Veri Bilimi Okulu</td>\n",
       "      <td>17380</td>\n",
       "      <td>4.8</td>\n",
       "      <td>4621</td>\n",
       "      <td>3466</td>\n",
       "      <td>924</td>\n",
       "      <td>185</td>\n",
       "      <td>46</td>\n",
       "      <td>6</td>\n",
       "      <td>2.438014</td>\n",
       "      <td>5.000000</td>\n",
       "      <td>4.249884</td>\n",
       "      <td>4.665857</td>\n",
       "      <td>4.499468</td>\n",
       "    </tr>\n",
       "    <tr>\n",
       "      <th>20</th>\n",
       "      <td>Course_9</td>\n",
       "      <td>Instructor_3</td>\n",
       "      <td>12946</td>\n",
       "      <td>4.5</td>\n",
       "      <td>3371</td>\n",
       "      <td>2191</td>\n",
       "      <td>877</td>\n",
       "      <td>203</td>\n",
       "      <td>33</td>\n",
       "      <td>67</td>\n",
       "      <td>2.070512</td>\n",
       "      <td>3.916342</td>\n",
       "      <td>3.681563</td>\n",
       "      <td>4.480627</td>\n",
       "      <td>4.161001</td>\n",
       "    </tr>\n",
       "    <tr>\n",
       "      <th>10</th>\n",
       "      <td>İleri Düzey Excel|Dashboard|Excel İp Uçları</td>\n",
       "      <td>Veri Bilimi Okulu</td>\n",
       "      <td>9554</td>\n",
       "      <td>4.8</td>\n",
       "      <td>2266</td>\n",
       "      <td>1654</td>\n",
       "      <td>499</td>\n",
       "      <td>91</td>\n",
       "      <td>22</td>\n",
       "      <td>0</td>\n",
       "      <td>1.789374</td>\n",
       "      <td>2.958388</td>\n",
       "      <td>3.427921</td>\n",
       "      <td>4.641679</td>\n",
       "      <td>4.156176</td>\n",
       "    </tr>\n",
       "    <tr>\n",
       "      <th>14</th>\n",
       "      <td>Uçtan Uca SQL Server Eğitimi</td>\n",
       "      <td>Veri Bilimi Okulu</td>\n",
       "      <td>12893</td>\n",
       "      <td>4.7</td>\n",
       "      <td>2425</td>\n",
       "      <td>1722</td>\n",
       "      <td>510</td>\n",
       "      <td>145</td>\n",
       "      <td>24</td>\n",
       "      <td>24</td>\n",
       "      <td>2.066120</td>\n",
       "      <td>3.096229</td>\n",
       "      <td>3.501984</td>\n",
       "      <td>4.568162</td>\n",
       "      <td>4.141691</td>\n",
       "    </tr>\n",
       "    <tr>\n",
       "      <th>2</th>\n",
       "      <td>5 Saatte Veri Bilimci Olun (Valla Billa)</td>\n",
       "      <td>Instructor_1</td>\n",
       "      <td>18693</td>\n",
       "      <td>4.4</td>\n",
       "      <td>2362</td>\n",
       "      <td>1582</td>\n",
       "      <td>567</td>\n",
       "      <td>165</td>\n",
       "      <td>24</td>\n",
       "      <td>24</td>\n",
       "      <td>2.546839</td>\n",
       "      <td>3.041612</td>\n",
       "      <td>3.483494</td>\n",
       "      <td>4.515210</td>\n",
       "      <td>4.102524</td>\n",
       "    </tr>\n",
       "    <tr>\n",
       "      <th>15</th>\n",
       "      <td>Uygulamalarla SQL Öğreniyorum</td>\n",
       "      <td>Veri Bilimi Okulu</td>\n",
       "      <td>11397</td>\n",
       "      <td>4.5</td>\n",
       "      <td>2353</td>\n",
       "      <td>1435</td>\n",
       "      <td>705</td>\n",
       "      <td>165</td>\n",
       "      <td>24</td>\n",
       "      <td>24</td>\n",
       "      <td>1.942127</td>\n",
       "      <td>3.033810</td>\n",
       "      <td>3.365772</td>\n",
       "      <td>4.454811</td>\n",
       "      <td>4.019195</td>\n",
       "    </tr>\n",
       "    <tr>\n",
       "      <th>4</th>\n",
       "      <td>(2020) Python ile Makine Öğrenmesi (Machine Le...</td>\n",
       "      <td>Veri Bilimi Okulu</td>\n",
       "      <td>11314</td>\n",
       "      <td>4.6</td>\n",
       "      <td>969</td>\n",
       "      <td>717</td>\n",
       "      <td>194</td>\n",
       "      <td>38</td>\n",
       "      <td>10</td>\n",
       "      <td>10</td>\n",
       "      <td>1.935248</td>\n",
       "      <td>1.833984</td>\n",
       "      <td>3.022039</td>\n",
       "      <td>4.595674</td>\n",
       "      <td>3.966220</td>\n",
       "    </tr>\n",
       "    <tr>\n",
       "      <th>19</th>\n",
       "      <td>Alıştırmalarla SQL Öğreniyorum</td>\n",
       "      <td>Veri Bilimi Okulu</td>\n",
       "      <td>3155</td>\n",
       "      <td>4.8</td>\n",
       "      <td>235</td>\n",
       "      <td>200</td>\n",
       "      <td>31</td>\n",
       "      <td>4</td>\n",
       "      <td>0</td>\n",
       "      <td>0</td>\n",
       "      <td>1.259008</td>\n",
       "      <td>1.197659</td>\n",
       "      <td>2.726593</td>\n",
       "      <td>4.729128</td>\n",
       "      <td>3.928114</td>\n",
       "    </tr>\n",
       "    <tr>\n",
       "      <th>5</th>\n",
       "      <td>Course_1</td>\n",
       "      <td>Instructor_2</td>\n",
       "      <td>4601</td>\n",
       "      <td>4.8</td>\n",
       "      <td>213</td>\n",
       "      <td>164</td>\n",
       "      <td>45</td>\n",
       "      <td>4</td>\n",
       "      <td>0</td>\n",
       "      <td>0</td>\n",
       "      <td>1.378857</td>\n",
       "      <td>1.178587</td>\n",
       "      <td>2.751651</td>\n",
       "      <td>4.634477</td>\n",
       "      <td>3.881346</td>\n",
       "    </tr>\n",
       "  </tbody>\n",
       "</table>\n",
       "</div>"
      ],
      "text/plain": [
       "                                          course_name    instructor_name  \\\n",
       "1   Python: Yapay Zeka ve Veri Bilimi için Python ...  Veri Bilimi Okulu   \n",
       "0   (50+ Saat) Python A-Z™: Veri Bilimi ve Machine...  Veri Bilimi Okulu   \n",
       "20                                           Course_9       Instructor_3   \n",
       "10        İleri Düzey Excel|Dashboard|Excel İp Uçları  Veri Bilimi Okulu   \n",
       "14                       Uçtan Uca SQL Server Eğitimi  Veri Bilimi Okulu   \n",
       "2            5 Saatte Veri Bilimci Olun (Valla Billa)       Instructor_1   \n",
       "15                      Uygulamalarla SQL Öğreniyorum  Veri Bilimi Okulu   \n",
       "4   (2020) Python ile Makine Öğrenmesi (Machine Le...  Veri Bilimi Okulu   \n",
       "19                     Alıştırmalarla SQL Öğreniyorum  Veri Bilimi Okulu   \n",
       "5                                            Course_1       Instructor_2   \n",
       "\n",
       "    purchase_count  rating  commment_count  5_point  4_point  3_point  \\\n",
       "1            48291     4.6            4488     2962     1122      314   \n",
       "0            17380     4.8            4621     3466      924      185   \n",
       "20           12946     4.5            3371     2191      877      203   \n",
       "10            9554     4.8            2266     1654      499       91   \n",
       "14           12893     4.7            2425     1722      510      145   \n",
       "2            18693     4.4            2362     1582      567      165   \n",
       "15           11397     4.5            2353     1435      705      165   \n",
       "4            11314     4.6             969      717      194       38   \n",
       "19            3155     4.8             235      200       31        4   \n",
       "5             4601     4.8             213      164       45        4   \n",
       "\n",
       "    2_point  1_point  purchase_count_scaled  comment_count_scaled  \\\n",
       "1        45       45               5.000000              4.884699   \n",
       "0        46        6               2.438014              5.000000   \n",
       "20       33       67               2.070512              3.916342   \n",
       "10       22        0               1.789374              2.958388   \n",
       "14       24       24               2.066120              3.096229   \n",
       "2        24       24               2.546839              3.041612   \n",
       "15       24       24               1.942127              3.033810   \n",
       "4        10       10               1.935248              1.833984   \n",
       "19        0        0               1.259008              1.197659   \n",
       "5         0        0               1.378857              1.178587   \n",
       "\n",
       "    weighted_sorting_score  bar_score  hybrid_sorting_score  \n",
       "1                 4.795104   4.516038              4.627664  \n",
       "0                 4.249884   4.665857              4.499468  \n",
       "20                3.681563   4.480627              4.161001  \n",
       "10                3.427921   4.641679              4.156176  \n",
       "14                3.501984   4.568162              4.141691  \n",
       "2                 3.483494   4.515210              4.102524  \n",
       "15                3.365772   4.454811              4.019195  \n",
       "4                 3.022039   4.595674              3.966220  \n",
       "19                2.726593   4.729128              3.928114  \n",
       "5                 2.751651   4.634477              3.881346  "
      ]
     },
     "execution_count": 57,
     "metadata": {},
     "output_type": "execute_result"
    }
   ],
   "source": [
    "df.sort_values(\"hybrid_sorting_score\", ascending=False).head(10)"
   ]
  },
  {
   "cell_type": "markdown",
   "id": "13213d0b",
   "metadata": {
    "papermill": {
     "duration": 0.061726,
     "end_time": "2023-11-13T13:55:53.066761",
     "exception": false,
     "start_time": "2023-11-13T13:55:53.005035",
     "status": "completed"
    },
    "tags": []
   },
   "source": [
    "<div style=\"border-radius:10px; border:#65647C solid; padding: 15px; background-color: #F8EDE3; font-size:100%; text-align:left\">\n",
    "\n",
    "<h3 align=\"left\"><font color='#7D6E83'><b>🗨️ Comment: </b></font></h3>\n",
    "\n",
    "* **Course_9**'un konumunun önemi daha belirgin hale geliyor. Yeni hesaplamamızla daha gerçekçi bir sıralama elde ettik. Ayrıca, Course_1'in 10. sıraya ulaşmasının önemi, bu kursun yeni bir kurs olduğu bilgisine sahip olmamızdır. Bu nedenle, gelecekte vaat eden bir kurs olarak kabul ediyoruz ve ona gereken önemi veriyoruz. Bunu sağlayan etken, bar_score'a %60 ağırlık verilmesidir. Bu sayede potansiyel vaat eden kursları da öne çıkarıyoruz."
   ]
  },
  {
   "cell_type": "code",
   "execution_count": 58,
   "id": "fac586d4",
   "metadata": {
    "execution": {
     "iopub.execute_input": "2023-11-13T13:55:53.192052Z",
     "iopub.status.busy": "2023-11-13T13:55:53.191630Z",
     "iopub.status.idle": "2023-11-13T13:55:53.217980Z",
     "shell.execute_reply": "2023-11-13T13:55:53.216566Z"
    },
    "papermill": {
     "duration": 0.093311,
     "end_time": "2023-11-13T13:55:53.221115",
     "exception": false,
     "start_time": "2023-11-13T13:55:53.127804",
     "status": "completed"
    },
    "tags": []
   },
   "outputs": [
    {
     "data": {
      "text/html": [
       "<div>\n",
       "<style scoped>\n",
       "    .dataframe tbody tr th:only-of-type {\n",
       "        vertical-align: middle;\n",
       "    }\n",
       "\n",
       "    .dataframe tbody tr th {\n",
       "        vertical-align: top;\n",
       "    }\n",
       "\n",
       "    .dataframe thead th {\n",
       "        text-align: right;\n",
       "    }\n",
       "</style>\n",
       "<table border=\"1\" class=\"dataframe\">\n",
       "  <thead>\n",
       "    <tr style=\"text-align: right;\">\n",
       "      <th></th>\n",
       "      <th>course_name</th>\n",
       "      <th>instructor_name</th>\n",
       "      <th>purchase_count</th>\n",
       "      <th>rating</th>\n",
       "      <th>commment_count</th>\n",
       "      <th>5_point</th>\n",
       "      <th>4_point</th>\n",
       "      <th>3_point</th>\n",
       "      <th>2_point</th>\n",
       "      <th>1_point</th>\n",
       "      <th>purchase_count_scaled</th>\n",
       "      <th>comment_count_scaled</th>\n",
       "      <th>weighted_sorting_score</th>\n",
       "      <th>bar_score</th>\n",
       "      <th>hybrid_sorting_score</th>\n",
       "    </tr>\n",
       "  </thead>\n",
       "  <tbody>\n",
       "    <tr>\n",
       "      <th>1</th>\n",
       "      <td>Python: Yapay Zeka ve Veri Bilimi için Python ...</td>\n",
       "      <td>Veri Bilimi Okulu</td>\n",
       "      <td>48291</td>\n",
       "      <td>4.6</td>\n",
       "      <td>4488</td>\n",
       "      <td>2962</td>\n",
       "      <td>1122</td>\n",
       "      <td>314</td>\n",
       "      <td>45</td>\n",
       "      <td>45</td>\n",
       "      <td>5.000000</td>\n",
       "      <td>4.884699</td>\n",
       "      <td>4.795104</td>\n",
       "      <td>4.516038</td>\n",
       "      <td>4.627664</td>\n",
       "    </tr>\n",
       "    <tr>\n",
       "      <th>0</th>\n",
       "      <td>(50+ Saat) Python A-Z™: Veri Bilimi ve Machine...</td>\n",
       "      <td>Veri Bilimi Okulu</td>\n",
       "      <td>17380</td>\n",
       "      <td>4.8</td>\n",
       "      <td>4621</td>\n",
       "      <td>3466</td>\n",
       "      <td>924</td>\n",
       "      <td>185</td>\n",
       "      <td>46</td>\n",
       "      <td>6</td>\n",
       "      <td>2.438014</td>\n",
       "      <td>5.000000</td>\n",
       "      <td>4.249884</td>\n",
       "      <td>4.665857</td>\n",
       "      <td>4.499468</td>\n",
       "    </tr>\n",
       "    <tr>\n",
       "      <th>3</th>\n",
       "      <td>R ile Veri Bilimi ve Machine Learning (35 Saat)</td>\n",
       "      <td>Veri Bilimi Okulu</td>\n",
       "      <td>6626</td>\n",
       "      <td>4.6</td>\n",
       "      <td>1027</td>\n",
       "      <td>688</td>\n",
       "      <td>257</td>\n",
       "      <td>51</td>\n",
       "      <td>10</td>\n",
       "      <td>21</td>\n",
       "      <td>1.546694</td>\n",
       "      <td>1.884265</td>\n",
       "      <td>2.937105</td>\n",
       "      <td>4.482079</td>\n",
       "      <td>3.864090</td>\n",
       "    </tr>\n",
       "    <tr>\n",
       "      <th>7</th>\n",
       "      <td>Veri Bilimi için İstatistik: Python ile İstati...</td>\n",
       "      <td>Veri Bilimi Okulu</td>\n",
       "      <td>929</td>\n",
       "      <td>4.5</td>\n",
       "      <td>126</td>\n",
       "      <td>88</td>\n",
       "      <td>26</td>\n",
       "      <td>9</td>\n",
       "      <td>0</td>\n",
       "      <td>3</td>\n",
       "      <td>1.074512</td>\n",
       "      <td>1.103164</td>\n",
       "      <td>2.522386</td>\n",
       "      <td>4.342189</td>\n",
       "      <td>3.614267</td>\n",
       "    </tr>\n",
       "  </tbody>\n",
       "</table>\n",
       "</div>"
      ],
      "text/plain": [
       "                                         course_name    instructor_name  \\\n",
       "1  Python: Yapay Zeka ve Veri Bilimi için Python ...  Veri Bilimi Okulu   \n",
       "0  (50+ Saat) Python A-Z™: Veri Bilimi ve Machine...  Veri Bilimi Okulu   \n",
       "3    R ile Veri Bilimi ve Machine Learning (35 Saat)  Veri Bilimi Okulu   \n",
       "7  Veri Bilimi için İstatistik: Python ile İstati...  Veri Bilimi Okulu   \n",
       "\n",
       "   purchase_count  rating  commment_count  5_point  4_point  3_point  2_point  \\\n",
       "1           48291     4.6            4488     2962     1122      314       45   \n",
       "0           17380     4.8            4621     3466      924      185       46   \n",
       "3            6626     4.6            1027      688      257       51       10   \n",
       "7             929     4.5             126       88       26        9        0   \n",
       "\n",
       "   1_point  purchase_count_scaled  comment_count_scaled  \\\n",
       "1       45               5.000000              4.884699   \n",
       "0        6               2.438014              5.000000   \n",
       "3       21               1.546694              1.884265   \n",
       "7        3               1.074512              1.103164   \n",
       "\n",
       "   weighted_sorting_score  bar_score  hybrid_sorting_score  \n",
       "1                4.795104   4.516038              4.627664  \n",
       "0                4.249884   4.665857              4.499468  \n",
       "3                2.937105   4.482079              3.864090  \n",
       "7                2.522386   4.342189              3.614267  "
      ]
     },
     "execution_count": 58,
     "metadata": {},
     "output_type": "execute_result"
    }
   ],
   "source": [
    "df[df[\"course_name\"].str.contains(\"Veri Bilimi\")].sort_values(\"hybrid_sorting_score\", ascending=False).head()"
   ]
  },
  {
   "cell_type": "markdown",
   "id": "965043a7",
   "metadata": {
    "papermill": {
     "duration": 0.059899,
     "end_time": "2023-11-13T13:55:53.344257",
     "exception": false,
     "start_time": "2023-11-13T13:55:53.284358",
     "status": "completed"
    },
    "tags": []
   },
   "source": [
    "<a id = \"12\"></a><br>\n",
    "<p style=\"font-family: 'Pacifico', cursive; font-weight: bold; letter-spacing: 2px; color: #556B2F; font-size: 160%; text-align: left; padding: 0px; border-bottom: 3px solid\">✨IMDB Movie Scoring and Sorting✨</p>"
   ]
  },
  {
   "cell_type": "markdown",
   "id": "dbbe1e4e",
   "metadata": {
    "papermill": {
     "duration": 0.0592,
     "end_time": "2023-11-13T13:55:53.466084",
     "exception": false,
     "start_time": "2023-11-13T13:55:53.406884",
     "status": "completed"
    },
    "tags": []
   },
   "source": [
    "<a id = \"13\"></a><br>\n",
    "<div style=\"font-family:JetBrains Mono; font-weight:bold; letter-spacing: 2px; color:#E5788F; font-size:150%; text-align:left; padding: 0px;\">Importing Libraries & First Look</div>"
   ]
  },
  {
   "cell_type": "code",
   "execution_count": 59,
   "id": "4e8e2f4a",
   "metadata": {
    "execution": {
     "iopub.execute_input": "2023-11-13T13:55:53.590655Z",
     "iopub.status.busy": "2023-11-13T13:55:53.590224Z",
     "iopub.status.idle": "2023-11-13T13:55:53.595784Z",
     "shell.execute_reply": "2023-11-13T13:55:53.594418Z"
    },
    "papermill": {
     "duration": 0.071404,
     "end_time": "2023-11-13T13:55:53.598304",
     "exception": false,
     "start_time": "2023-11-13T13:55:53.526900",
     "status": "completed"
    },
    "tags": []
   },
   "outputs": [],
   "source": [
    "import pandas as pd\n",
    "import math\n",
    "import scipy.stats as st\n",
    "from sklearn.preprocessing import MinMaxScaler\n",
    "\n",
    "# pd.set_option('display.max_columns', None)\n",
    "# pd.set_option('display.expand_frame_repr', False)\n",
    "# pd.set_option('display.float_format', lambda x: '%.5f' % x)"
   ]
  },
  {
   "cell_type": "code",
   "execution_count": 60,
   "id": "7c73e117",
   "metadata": {
    "execution": {
     "iopub.execute_input": "2023-11-13T13:55:53.720579Z",
     "iopub.status.busy": "2023-11-13T13:55:53.720176Z",
     "iopub.status.idle": "2023-11-13T13:55:54.499057Z",
     "shell.execute_reply": "2023-11-13T13:55:54.497791Z"
    },
    "papermill": {
     "duration": 0.84273,
     "end_time": "2023-11-13T13:55:54.502351",
     "exception": false,
     "start_time": "2023-11-13T13:55:53.659621",
     "status": "completed"
    },
    "tags": []
   },
   "outputs": [],
   "source": [
    "df = pd.read_csv(\"/kaggle/input/imdb-movies/movies_metadata.csv\",\n",
    "                 usecols=[\"title\", \"vote_average\", \"vote_count\"])"
   ]
  },
  {
   "cell_type": "code",
   "execution_count": 61,
   "id": "0b445e23",
   "metadata": {
    "execution": {
     "iopub.execute_input": "2023-11-13T13:55:54.623620Z",
     "iopub.status.busy": "2023-11-13T13:55:54.622397Z",
     "iopub.status.idle": "2023-11-13T13:55:54.635792Z",
     "shell.execute_reply": "2023-11-13T13:55:54.634704Z"
    },
    "papermill": {
     "duration": 0.075498,
     "end_time": "2023-11-13T13:55:54.638693",
     "exception": false,
     "start_time": "2023-11-13T13:55:54.563195",
     "status": "completed"
    },
    "tags": []
   },
   "outputs": [
    {
     "data": {
      "text/html": [
       "<div>\n",
       "<style scoped>\n",
       "    .dataframe tbody tr th:only-of-type {\n",
       "        vertical-align: middle;\n",
       "    }\n",
       "\n",
       "    .dataframe tbody tr th {\n",
       "        vertical-align: top;\n",
       "    }\n",
       "\n",
       "    .dataframe thead th {\n",
       "        text-align: right;\n",
       "    }\n",
       "</style>\n",
       "<table border=\"1\" class=\"dataframe\">\n",
       "  <thead>\n",
       "    <tr style=\"text-align: right;\">\n",
       "      <th></th>\n",
       "      <th>title</th>\n",
       "      <th>vote_average</th>\n",
       "      <th>vote_count</th>\n",
       "    </tr>\n",
       "  </thead>\n",
       "  <tbody>\n",
       "    <tr>\n",
       "      <th>0</th>\n",
       "      <td>Toy Story</td>\n",
       "      <td>7.7</td>\n",
       "      <td>5415.0</td>\n",
       "    </tr>\n",
       "    <tr>\n",
       "      <th>1</th>\n",
       "      <td>Jumanji</td>\n",
       "      <td>6.9</td>\n",
       "      <td>2413.0</td>\n",
       "    </tr>\n",
       "    <tr>\n",
       "      <th>2</th>\n",
       "      <td>Grumpier Old Men</td>\n",
       "      <td>6.5</td>\n",
       "      <td>92.0</td>\n",
       "    </tr>\n",
       "    <tr>\n",
       "      <th>3</th>\n",
       "      <td>Waiting to Exhale</td>\n",
       "      <td>6.1</td>\n",
       "      <td>34.0</td>\n",
       "    </tr>\n",
       "    <tr>\n",
       "      <th>4</th>\n",
       "      <td>Father of the Bride Part II</td>\n",
       "      <td>5.7</td>\n",
       "      <td>173.0</td>\n",
       "    </tr>\n",
       "  </tbody>\n",
       "</table>\n",
       "</div>"
      ],
      "text/plain": [
       "                         title  vote_average  vote_count\n",
       "0                    Toy Story           7.7      5415.0\n",
       "1                      Jumanji           6.9      2413.0\n",
       "2             Grumpier Old Men           6.5        92.0\n",
       "3            Waiting to Exhale           6.1        34.0\n",
       "4  Father of the Bride Part II           5.7       173.0"
      ]
     },
     "execution_count": 61,
     "metadata": {},
     "output_type": "execute_result"
    }
   ],
   "source": [
    "df.head()"
   ]
  },
  {
   "cell_type": "code",
   "execution_count": 62,
   "id": "283c9219",
   "metadata": {
    "execution": {
     "iopub.execute_input": "2023-11-13T13:55:54.763172Z",
     "iopub.status.busy": "2023-11-13T13:55:54.762792Z",
     "iopub.status.idle": "2023-11-13T13:55:54.769778Z",
     "shell.execute_reply": "2023-11-13T13:55:54.768499Z"
    },
    "papermill": {
     "duration": 0.072774,
     "end_time": "2023-11-13T13:55:54.772673",
     "exception": false,
     "start_time": "2023-11-13T13:55:54.699899",
     "status": "completed"
    },
    "tags": []
   },
   "outputs": [
    {
     "data": {
      "text/plain": [
       "(45466, 3)"
      ]
     },
     "execution_count": 62,
     "metadata": {},
     "output_type": "execute_result"
    }
   ],
   "source": [
    "df.shape # 45466 tane film vardır."
   ]
  },
  {
   "cell_type": "markdown",
   "id": "76376a68",
   "metadata": {
    "papermill": {
     "duration": 0.058657,
     "end_time": "2023-11-13T13:55:54.889635",
     "exception": false,
     "start_time": "2023-11-13T13:55:54.830978",
     "status": "completed"
    },
    "tags": []
   },
   "source": [
    "<a id = \"14\"></a><br>\n",
    "<div style=\"font-family:JetBrains Mono; font-weight:bold; letter-spacing: 2px; color:#E5788F; font-size:150%; text-align:left; padding: 0px;\">Vote Average'a Göre Sıralama</div>"
   ]
  },
  {
   "cell_type": "code",
   "execution_count": 63,
   "id": "ea848785",
   "metadata": {
    "execution": {
     "iopub.execute_input": "2023-11-13T13:55:55.011935Z",
     "iopub.status.busy": "2023-11-13T13:55:55.011493Z",
     "iopub.status.idle": "2023-11-13T13:55:55.034522Z",
     "shell.execute_reply": "2023-11-13T13:55:55.033073Z"
    },
    "papermill": {
     "duration": 0.088544,
     "end_time": "2023-11-13T13:55:55.037121",
     "exception": false,
     "start_time": "2023-11-13T13:55:54.948577",
     "status": "completed"
    },
    "tags": []
   },
   "outputs": [
    {
     "data": {
      "text/html": [
       "<div>\n",
       "<style scoped>\n",
       "    .dataframe tbody tr th:only-of-type {\n",
       "        vertical-align: middle;\n",
       "    }\n",
       "\n",
       "    .dataframe tbody tr th {\n",
       "        vertical-align: top;\n",
       "    }\n",
       "\n",
       "    .dataframe thead th {\n",
       "        text-align: right;\n",
       "    }\n",
       "</style>\n",
       "<table border=\"1\" class=\"dataframe\">\n",
       "  <thead>\n",
       "    <tr style=\"text-align: right;\">\n",
       "      <th></th>\n",
       "      <th>title</th>\n",
       "      <th>vote_average</th>\n",
       "      <th>vote_count</th>\n",
       "    </tr>\n",
       "  </thead>\n",
       "  <tbody>\n",
       "    <tr>\n",
       "      <th>21642</th>\n",
       "      <td>Ice Age Columbus: Who Were the First Americans?</td>\n",
       "      <td>10.0</td>\n",
       "      <td>1.0</td>\n",
       "    </tr>\n",
       "    <tr>\n",
       "      <th>15710</th>\n",
       "      <td>If God Is Willing and da Creek Don't Rise</td>\n",
       "      <td>10.0</td>\n",
       "      <td>1.0</td>\n",
       "    </tr>\n",
       "    <tr>\n",
       "      <th>22396</th>\n",
       "      <td>Meat the Truth</td>\n",
       "      <td>10.0</td>\n",
       "      <td>1.0</td>\n",
       "    </tr>\n",
       "    <tr>\n",
       "      <th>22395</th>\n",
       "      <td>Marvin Hamlisch: What He Did For Love</td>\n",
       "      <td>10.0</td>\n",
       "      <td>1.0</td>\n",
       "    </tr>\n",
       "    <tr>\n",
       "      <th>35343</th>\n",
       "      <td>Elaine Stritch: At Liberty</td>\n",
       "      <td>10.0</td>\n",
       "      <td>1.0</td>\n",
       "    </tr>\n",
       "    <tr>\n",
       "      <th>186</th>\n",
       "      <td>Reckless</td>\n",
       "      <td>10.0</td>\n",
       "      <td>1.0</td>\n",
       "    </tr>\n",
       "    <tr>\n",
       "      <th>45047</th>\n",
       "      <td>The Human Surge</td>\n",
       "      <td>10.0</td>\n",
       "      <td>1.0</td>\n",
       "    </tr>\n",
       "    <tr>\n",
       "      <th>22377</th>\n",
       "      <td>The Guide</td>\n",
       "      <td>10.0</td>\n",
       "      <td>1.0</td>\n",
       "    </tr>\n",
       "    <tr>\n",
       "      <th>22346</th>\n",
       "      <td>هیچ کجا هیچ کس</td>\n",
       "      <td>10.0</td>\n",
       "      <td>1.0</td>\n",
       "    </tr>\n",
       "    <tr>\n",
       "      <th>1634</th>\n",
       "      <td>Other Voices Other Rooms</td>\n",
       "      <td>10.0</td>\n",
       "      <td>1.0</td>\n",
       "    </tr>\n",
       "  </tbody>\n",
       "</table>\n",
       "</div>"
      ],
      "text/plain": [
       "                                                 title  vote_average  \\\n",
       "21642  Ice Age Columbus: Who Were the First Americans?          10.0   \n",
       "15710        If God Is Willing and da Creek Don't Rise          10.0   \n",
       "22396                                   Meat the Truth          10.0   \n",
       "22395            Marvin Hamlisch: What He Did For Love          10.0   \n",
       "35343                       Elaine Stritch: At Liberty          10.0   \n",
       "186                                           Reckless          10.0   \n",
       "45047                                  The Human Surge          10.0   \n",
       "22377                                        The Guide          10.0   \n",
       "22346                                   هیچ کجا هیچ کس          10.0   \n",
       "1634                          Other Voices Other Rooms          10.0   \n",
       "\n",
       "       vote_count  \n",
       "21642         1.0  \n",
       "15710         1.0  \n",
       "22396         1.0  \n",
       "22395         1.0  \n",
       "35343         1.0  \n",
       "186           1.0  \n",
       "45047         1.0  \n",
       "22377         1.0  \n",
       "22346         1.0  \n",
       "1634          1.0  "
      ]
     },
     "execution_count": 63,
     "metadata": {},
     "output_type": "execute_result"
    }
   ],
   "source": [
    "df.sort_values(\"vote_average\", ascending=False).head(10)"
   ]
  },
  {
   "cell_type": "code",
   "execution_count": 64,
   "id": "8e71b692",
   "metadata": {
    "execution": {
     "iopub.execute_input": "2023-11-13T13:55:55.161257Z",
     "iopub.status.busy": "2023-11-13T13:55:55.160437Z",
     "iopub.status.idle": "2023-11-13T13:55:55.178756Z",
     "shell.execute_reply": "2023-11-13T13:55:55.177365Z"
    },
    "papermill": {
     "duration": 0.081747,
     "end_time": "2023-11-13T13:55:55.181234",
     "exception": false,
     "start_time": "2023-11-13T13:55:55.099487",
     "status": "completed"
    },
    "tags": []
   },
   "outputs": [
    {
     "data": {
      "text/plain": [
       "count    45460.000000\n",
       "mean       109.897338\n",
       "std        491.310374\n",
       "min          0.000000\n",
       "10%          1.000000\n",
       "25%          3.000000\n",
       "50%         10.000000\n",
       "70%         25.000000\n",
       "80%         50.000000\n",
       "90%        160.000000\n",
       "95%        434.000000\n",
       "99%       2183.820000\n",
       "max      14075.000000\n",
       "Name: vote_count, dtype: float64"
      ]
     },
     "execution_count": 64,
     "metadata": {},
     "output_type": "execute_result"
    }
   ],
   "source": [
    "df[\"vote_count\"].describe([0.10, 0.25, 0.50, 0.70, 0.80, 0.90, 0.95, 0.99]).T"
   ]
  },
  {
   "cell_type": "markdown",
   "id": "22c4f773",
   "metadata": {
    "papermill": {
     "duration": 0.059253,
     "end_time": "2023-11-13T13:55:55.300199",
     "exception": false,
     "start_time": "2023-11-13T13:55:55.240946",
     "status": "completed"
    },
    "tags": []
   },
   "source": [
    "<div style=\"border-radius:10px; border:#65647C solid; padding: 15px; background-color: #F8EDE3; font-size:100%; text-align:left\">\n",
    "\n",
    "<h3 align=\"left\"><font color='#7D6E83'><b>🗨️ Comment: </b></font></h3>\n",
    "\n",
    "* Az oy alan filmleri istemiyoruz. Bir filtre ayarlamak için tanımlamadaki dağılımlara bakıyoruz.\n",
    "* Bu oyların medyan değeri 10'dur. Ortalamaları 109 civarındadır ve 95. yüzdeliğe baktığımızda 400 civarında oy alan filmler bulunmaktadır. Bu değeri bir filtre olarak kullanmayı deneyelim."
   ]
  },
  {
   "cell_type": "code",
   "execution_count": 65,
   "id": "b321a593",
   "metadata": {
    "execution": {
     "iopub.execute_input": "2023-11-13T13:55:55.425988Z",
     "iopub.status.busy": "2023-11-13T13:55:55.425132Z",
     "iopub.status.idle": "2023-11-13T13:55:55.444246Z",
     "shell.execute_reply": "2023-11-13T13:55:55.442806Z"
    },
    "papermill": {
     "duration": 0.084879,
     "end_time": "2023-11-13T13:55:55.447694",
     "exception": false,
     "start_time": "2023-11-13T13:55:55.362815",
     "status": "completed"
    },
    "tags": []
   },
   "outputs": [
    {
     "data": {
      "text/html": [
       "<div>\n",
       "<style scoped>\n",
       "    .dataframe tbody tr th:only-of-type {\n",
       "        vertical-align: middle;\n",
       "    }\n",
       "\n",
       "    .dataframe tbody tr th {\n",
       "        vertical-align: top;\n",
       "    }\n",
       "\n",
       "    .dataframe thead th {\n",
       "        text-align: right;\n",
       "    }\n",
       "</style>\n",
       "<table border=\"1\" class=\"dataframe\">\n",
       "  <thead>\n",
       "    <tr style=\"text-align: right;\">\n",
       "      <th></th>\n",
       "      <th>title</th>\n",
       "      <th>vote_average</th>\n",
       "      <th>vote_count</th>\n",
       "    </tr>\n",
       "  </thead>\n",
       "  <tbody>\n",
       "    <tr>\n",
       "      <th>10309</th>\n",
       "      <td>Dilwale Dulhania Le Jayenge</td>\n",
       "      <td>9.1</td>\n",
       "      <td>661.0</td>\n",
       "    </tr>\n",
       "    <tr>\n",
       "      <th>40251</th>\n",
       "      <td>Your Name.</td>\n",
       "      <td>8.5</td>\n",
       "      <td>1030.0</td>\n",
       "    </tr>\n",
       "    <tr>\n",
       "      <th>834</th>\n",
       "      <td>The Godfather</td>\n",
       "      <td>8.5</td>\n",
       "      <td>6024.0</td>\n",
       "    </tr>\n",
       "    <tr>\n",
       "      <th>314</th>\n",
       "      <td>The Shawshank Redemption</td>\n",
       "      <td>8.5</td>\n",
       "      <td>8358.0</td>\n",
       "    </tr>\n",
       "    <tr>\n",
       "      <th>1152</th>\n",
       "      <td>One Flew Over the Cuckoo's Nest</td>\n",
       "      <td>8.3</td>\n",
       "      <td>3001.0</td>\n",
       "    </tr>\n",
       "    <tr>\n",
       "      <th>1176</th>\n",
       "      <td>Psycho</td>\n",
       "      <td>8.3</td>\n",
       "      <td>2405.0</td>\n",
       "    </tr>\n",
       "    <tr>\n",
       "      <th>1178</th>\n",
       "      <td>The Godfather: Part II</td>\n",
       "      <td>8.3</td>\n",
       "      <td>3418.0</td>\n",
       "    </tr>\n",
       "    <tr>\n",
       "      <th>292</th>\n",
       "      <td>Pulp Fiction</td>\n",
       "      <td>8.3</td>\n",
       "      <td>8670.0</td>\n",
       "    </tr>\n",
       "    <tr>\n",
       "      <th>1184</th>\n",
       "      <td>Once Upon a Time in America</td>\n",
       "      <td>8.3</td>\n",
       "      <td>1104.0</td>\n",
       "    </tr>\n",
       "    <tr>\n",
       "      <th>5481</th>\n",
       "      <td>Spirited Away</td>\n",
       "      <td>8.3</td>\n",
       "      <td>3968.0</td>\n",
       "    </tr>\n",
       "  </tbody>\n",
       "</table>\n",
       "</div>"
      ],
      "text/plain": [
       "                                 title  vote_average  vote_count\n",
       "10309      Dilwale Dulhania Le Jayenge           9.1       661.0\n",
       "40251                       Your Name.           8.5      1030.0\n",
       "834                      The Godfather           8.5      6024.0\n",
       "314           The Shawshank Redemption           8.5      8358.0\n",
       "1152   One Flew Over the Cuckoo's Nest           8.3      3001.0\n",
       "1176                            Psycho           8.3      2405.0\n",
       "1178            The Godfather: Part II           8.3      3418.0\n",
       "292                       Pulp Fiction           8.3      8670.0\n",
       "1184       Once Upon a Time in America           8.3      1104.0\n",
       "5481                     Spirited Away           8.3      3968.0"
      ]
     },
     "execution_count": 65,
     "metadata": {},
     "output_type": "execute_result"
    }
   ],
   "source": [
    "df[df[\"vote_count\"] > 400].sort_values(\"vote_average\", ascending=False).head(10)"
   ]
  },
  {
   "cell_type": "markdown",
   "id": "50f0e743",
   "metadata": {
    "papermill": {
     "duration": 0.061075,
     "end_time": "2023-11-13T13:55:55.567963",
     "exception": false,
     "start_time": "2023-11-13T13:55:55.506888",
     "status": "completed"
    },
    "tags": []
   },
   "source": [
    "<div style=\"border-radius:10px; border:#65647C solid; padding: 15px; background-color: #F8EDE3; font-size:100%; text-align:left\">\n",
    "\n",
    "<h3 align=\"left\"><font color='#7D6E83'><b>🗨️ Comment: </b></font></h3>\n",
    "\n",
    "* Burada \"**vote_average**\" ve \"**vote_count**\" kendi başlarına bir şey ifade etmiyor gibi duruyor. Bu yüzden \"**vote_count**\" değerlerini 1-10 arasında scale ederek, yorumlanabilir bir skalaya alalım."
   ]
  },
  {
   "cell_type": "code",
   "execution_count": 66,
   "id": "5f30195a",
   "metadata": {
    "execution": {
     "iopub.execute_input": "2023-11-13T13:55:55.699605Z",
     "iopub.status.busy": "2023-11-13T13:55:55.699154Z",
     "iopub.status.idle": "2023-11-13T13:55:55.712366Z",
     "shell.execute_reply": "2023-11-13T13:55:55.711235Z"
    },
    "papermill": {
     "duration": 0.084769,
     "end_time": "2023-11-13T13:55:55.715092",
     "exception": false,
     "start_time": "2023-11-13T13:55:55.630323",
     "status": "completed"
    },
    "tags": []
   },
   "outputs": [],
   "source": [
    "df[\"vote_count_score\"] = MinMaxScaler(feature_range=(1, 10)). \\\n",
    "    fit(df[[\"vote_count\"]]). \\\n",
    "    transform(df[[\"vote_count\"]])"
   ]
  },
  {
   "cell_type": "code",
   "execution_count": 67,
   "id": "4e4d7075",
   "metadata": {
    "execution": {
     "iopub.execute_input": "2023-11-13T13:55:55.852401Z",
     "iopub.status.busy": "2023-11-13T13:55:55.851406Z",
     "iopub.status.idle": "2023-11-13T13:55:55.870493Z",
     "shell.execute_reply": "2023-11-13T13:55:55.869654Z"
    },
    "papermill": {
     "duration": 0.094766,
     "end_time": "2023-11-13T13:55:55.872792",
     "exception": false,
     "start_time": "2023-11-13T13:55:55.778026",
     "status": "completed"
    },
    "tags": []
   },
   "outputs": [
    {
     "data": {
      "text/html": [
       "<div>\n",
       "<style scoped>\n",
       "    .dataframe tbody tr th:only-of-type {\n",
       "        vertical-align: middle;\n",
       "    }\n",
       "\n",
       "    .dataframe tbody tr th {\n",
       "        vertical-align: top;\n",
       "    }\n",
       "\n",
       "    .dataframe thead th {\n",
       "        text-align: right;\n",
       "    }\n",
       "</style>\n",
       "<table border=\"1\" class=\"dataframe\">\n",
       "  <thead>\n",
       "    <tr style=\"text-align: right;\">\n",
       "      <th></th>\n",
       "      <th>title</th>\n",
       "      <th>vote_average</th>\n",
       "      <th>vote_count</th>\n",
       "      <th>vote_count_score</th>\n",
       "    </tr>\n",
       "  </thead>\n",
       "  <tbody>\n",
       "    <tr>\n",
       "      <th>0</th>\n",
       "      <td>Toy Story</td>\n",
       "      <td>7.7</td>\n",
       "      <td>5415.0</td>\n",
       "      <td>4.462522</td>\n",
       "    </tr>\n",
       "    <tr>\n",
       "      <th>1</th>\n",
       "      <td>Jumanji</td>\n",
       "      <td>6.9</td>\n",
       "      <td>2413.0</td>\n",
       "      <td>2.542948</td>\n",
       "    </tr>\n",
       "    <tr>\n",
       "      <th>2</th>\n",
       "      <td>Grumpier Old Men</td>\n",
       "      <td>6.5</td>\n",
       "      <td>92.0</td>\n",
       "      <td>1.058828</td>\n",
       "    </tr>\n",
       "    <tr>\n",
       "      <th>3</th>\n",
       "      <td>Waiting to Exhale</td>\n",
       "      <td>6.1</td>\n",
       "      <td>34.0</td>\n",
       "      <td>1.021741</td>\n",
       "    </tr>\n",
       "    <tr>\n",
       "      <th>4</th>\n",
       "      <td>Father of the Bride Part II</td>\n",
       "      <td>5.7</td>\n",
       "      <td>173.0</td>\n",
       "      <td>1.110622</td>\n",
       "    </tr>\n",
       "  </tbody>\n",
       "</table>\n",
       "</div>"
      ],
      "text/plain": [
       "                         title  vote_average  vote_count  vote_count_score\n",
       "0                    Toy Story           7.7      5415.0          4.462522\n",
       "1                      Jumanji           6.9      2413.0          2.542948\n",
       "2             Grumpier Old Men           6.5        92.0          1.058828\n",
       "3            Waiting to Exhale           6.1        34.0          1.021741\n",
       "4  Father of the Bride Part II           5.7       173.0          1.110622"
      ]
     },
     "execution_count": 67,
     "metadata": {},
     "output_type": "execute_result"
    }
   ],
   "source": [
    "df.head()"
   ]
  },
  {
   "cell_type": "code",
   "execution_count": 68,
   "id": "c6c6ddb2",
   "metadata": {
    "execution": {
     "iopub.execute_input": "2023-11-13T13:55:56.024025Z",
     "iopub.status.busy": "2023-11-13T13:55:56.022947Z",
     "iopub.status.idle": "2023-11-13T13:55:56.030567Z",
     "shell.execute_reply": "2023-11-13T13:55:56.029374Z"
    },
    "papermill": {
     "duration": 0.083995,
     "end_time": "2023-11-13T13:55:56.033210",
     "exception": false,
     "start_time": "2023-11-13T13:55:55.949215",
     "status": "completed"
    },
    "tags": []
   },
   "outputs": [],
   "source": [
    "df[\"average_count_score\"] = df[\"vote_average\"] * df[\"vote_count_score\"]"
   ]
  },
  {
   "cell_type": "code",
   "execution_count": 69,
   "id": "ed1ded13",
   "metadata": {
    "execution": {
     "iopub.execute_input": "2023-11-13T13:55:56.159293Z",
     "iopub.status.busy": "2023-11-13T13:55:56.158734Z",
     "iopub.status.idle": "2023-11-13T13:55:56.186501Z",
     "shell.execute_reply": "2023-11-13T13:55:56.185303Z"
    },
    "papermill": {
     "duration": 0.094543,
     "end_time": "2023-11-13T13:55:56.189163",
     "exception": false,
     "start_time": "2023-11-13T13:55:56.094620",
     "status": "completed"
    },
    "tags": []
   },
   "outputs": [
    {
     "data": {
      "text/html": [
       "<div>\n",
       "<style scoped>\n",
       "    .dataframe tbody tr th:only-of-type {\n",
       "        vertical-align: middle;\n",
       "    }\n",
       "\n",
       "    .dataframe tbody tr th {\n",
       "        vertical-align: top;\n",
       "    }\n",
       "\n",
       "    .dataframe thead th {\n",
       "        text-align: right;\n",
       "    }\n",
       "</style>\n",
       "<table border=\"1\" class=\"dataframe\">\n",
       "  <thead>\n",
       "    <tr style=\"text-align: right;\">\n",
       "      <th></th>\n",
       "      <th>title</th>\n",
       "      <th>vote_average</th>\n",
       "      <th>vote_count</th>\n",
       "      <th>vote_count_score</th>\n",
       "      <th>average_count_score</th>\n",
       "    </tr>\n",
       "  </thead>\n",
       "  <tbody>\n",
       "    <tr>\n",
       "      <th>15480</th>\n",
       "      <td>Inception</td>\n",
       "      <td>8.1</td>\n",
       "      <td>14075.0</td>\n",
       "      <td>10.000000</td>\n",
       "      <td>81.000000</td>\n",
       "    </tr>\n",
       "    <tr>\n",
       "      <th>12481</th>\n",
       "      <td>The Dark Knight</td>\n",
       "      <td>8.3</td>\n",
       "      <td>12269.0</td>\n",
       "      <td>8.845187</td>\n",
       "      <td>73.415048</td>\n",
       "    </tr>\n",
       "    <tr>\n",
       "      <th>22879</th>\n",
       "      <td>Interstellar</td>\n",
       "      <td>8.1</td>\n",
       "      <td>11187.0</td>\n",
       "      <td>8.153321</td>\n",
       "      <td>66.041904</td>\n",
       "    </tr>\n",
       "    <tr>\n",
       "      <th>17818</th>\n",
       "      <td>The Avengers</td>\n",
       "      <td>7.4</td>\n",
       "      <td>12000.0</td>\n",
       "      <td>8.673179</td>\n",
       "      <td>64.181528</td>\n",
       "    </tr>\n",
       "    <tr>\n",
       "      <th>14551</th>\n",
       "      <td>Avatar</td>\n",
       "      <td>7.2</td>\n",
       "      <td>12114.0</td>\n",
       "      <td>8.746075</td>\n",
       "      <td>62.971737</td>\n",
       "    </tr>\n",
       "    <tr>\n",
       "      <th>26564</th>\n",
       "      <td>Deadpool</td>\n",
       "      <td>7.4</td>\n",
       "      <td>11444.0</td>\n",
       "      <td>8.317655</td>\n",
       "      <td>61.550650</td>\n",
       "    </tr>\n",
       "    <tr>\n",
       "      <th>2843</th>\n",
       "      <td>Fight Club</td>\n",
       "      <td>8.3</td>\n",
       "      <td>9678.0</td>\n",
       "      <td>7.188419</td>\n",
       "      <td>59.663879</td>\n",
       "    </tr>\n",
       "    <tr>\n",
       "      <th>20051</th>\n",
       "      <td>Django Unchained</td>\n",
       "      <td>7.8</td>\n",
       "      <td>10297.0</td>\n",
       "      <td>7.584227</td>\n",
       "      <td>59.156973</td>\n",
       "    </tr>\n",
       "    <tr>\n",
       "      <th>23753</th>\n",
       "      <td>Guardians of the Galaxy</td>\n",
       "      <td>7.9</td>\n",
       "      <td>10014.0</td>\n",
       "      <td>7.403268</td>\n",
       "      <td>58.485819</td>\n",
       "    </tr>\n",
       "    <tr>\n",
       "      <th>292</th>\n",
       "      <td>Pulp Fiction</td>\n",
       "      <td>8.3</td>\n",
       "      <td>8670.0</td>\n",
       "      <td>6.543872</td>\n",
       "      <td>54.314139</td>\n",
       "    </tr>\n",
       "  </tbody>\n",
       "</table>\n",
       "</div>"
      ],
      "text/plain": [
       "                         title  vote_average  vote_count  vote_count_score  \\\n",
       "15480                Inception           8.1     14075.0         10.000000   \n",
       "12481          The Dark Knight           8.3     12269.0          8.845187   \n",
       "22879             Interstellar           8.1     11187.0          8.153321   \n",
       "17818             The Avengers           7.4     12000.0          8.673179   \n",
       "14551                   Avatar           7.2     12114.0          8.746075   \n",
       "26564                 Deadpool           7.4     11444.0          8.317655   \n",
       "2843                Fight Club           8.3      9678.0          7.188419   \n",
       "20051         Django Unchained           7.8     10297.0          7.584227   \n",
       "23753  Guardians of the Galaxy           7.9     10014.0          7.403268   \n",
       "292               Pulp Fiction           8.3      8670.0          6.543872   \n",
       "\n",
       "       average_count_score  \n",
       "15480            81.000000  \n",
       "12481            73.415048  \n",
       "22879            66.041904  \n",
       "17818            64.181528  \n",
       "14551            62.971737  \n",
       "26564            61.550650  \n",
       "2843             59.663879  \n",
       "20051            59.156973  \n",
       "23753            58.485819  \n",
       "292              54.314139  "
      ]
     },
     "execution_count": 69,
     "metadata": {},
     "output_type": "execute_result"
    }
   ],
   "source": [
    "df.sort_values(\"average_count_score\", ascending=False).head(10)"
   ]
  },
  {
   "cell_type": "markdown",
   "id": "47a20367",
   "metadata": {
    "papermill": {
     "duration": 0.063693,
     "end_time": "2023-11-13T13:55:56.314984",
     "exception": false,
     "start_time": "2023-11-13T13:55:56.251291",
     "status": "completed"
    },
    "tags": []
   },
   "source": [
    "<a id = \"15\"></a><br>\n",
    "<p style=\"font-family: 'Pacifico', cursive; font-weight: bold; letter-spacing: 2px; color: #556B2F; font-size: 160%; text-align: left; padding: 0px; border-bottom: 3px solid\">✨IMDB Ağırlıklı Derecelendirme (IMDB Weighted Rating)✨</p>"
   ]
  },
  {
   "cell_type": "markdown",
   "id": "4d36e68a",
   "metadata": {
    "papermill": {
     "duration": 0.059788,
     "end_time": "2023-11-13T13:55:56.434982",
     "exception": false,
     "start_time": "2023-11-13T13:55:56.375194",
     "status": "completed"
    },
    "tags": []
   },
   "source": [
    "<div style=\"border-radius:10px; border:#D0C2F0 solid; padding: 15px; background-color: #F8E8EE; font-size:100%; text-align:left\">\n",
    "\n",
    "<h3 align=\"left\"><font color='#5E5273'>📄 Notes: </font></h3>\n",
    "\n",
    "weighted_rating = (v/(v+M) * r) + (M/(v+M) * C)\n",
    "\n",
    "* r = vote average, ilgili filmin puanı\n",
    "* v = vote count\n",
    "* M = minimum votes required to be listed in the Top 250\n",
    "* C = the mean vote across the whole report (currently 7.0)\n",
    "\n",
    "IMDB ağırlıklı rating hesabı yaparken 2 durum ön plana çıkar;\n",
    "\n",
    "* Tüm filmlerin genel ortalaması olan \"C\" değeri\n",
    "* Sıralamaya girebilmek için gerekli olan minimum \"M\" değeri\n",
    "    \n",
    "Formüle genel bakacak olursak;\n",
    "\n",
    "* v : filmin oy sayısı\n",
    "* (v+M) : gereken oy sayısı\n",
    "* \"v\" ile \"v+M\" arasındaki ilişkiye göre puana bir düzeltme yapılacak."
   ]
  },
  {
   "cell_type": "markdown",
   "id": "4f96d7a5",
   "metadata": {
    "papermill": {
     "duration": 0.065572,
     "end_time": "2023-11-13T13:55:56.564093",
     "exception": false,
     "start_time": "2023-11-13T13:55:56.498521",
     "status": "completed"
    },
    "tags": []
   },
   "source": [
    "<div style=\"border-radius:10px; border:#632626 solid; padding: 15px; background-color: #FDF6EC; font-size:100%; text-align:left\">\n",
    "\n",
    "<h3 align=\"left\"><font color='#11324D'>💡 An Example: </font></h3>\n",
    "\n",
    "* İlk Bölüm: (v/(v+M) * r)\n",
    "* İkinci Bölüm: (M/(v+M) * C)\n",
    "\n",
    "İki filmi ele alalım:\n",
    "\n",
    "* Film-1: 1,000 oy alan bir film olsun.\n",
    "\n",
    "    * r = 8\n",
    "    * M = 500\n",
    "    * v = 1,000\n",
    "    * C = 7\n",
    "\n",
    "(1,000 / (1,000 + 500)) * 8 = 5.33\n",
    "\n",
    "(500 / (1,000+500)) * 7 = 2.33\n",
    "\n",
    "Toplam Puan = 5.33 + 2.33 = 7.66\n",
    "\n",
    "* Film-2: Film-1'den daha fazla oy almış bir film olsun.\n",
    "\n",
    "    * r = 8\n",
    "    * M = 500\n",
    "    * v = 3,000\n",
    "    * C = 7\n",
    "\n",
    "(3,000 / (3,000 + 500)) * 8 = 6.85\n",
    "\n",
    "(500 / (3,000 + 500)) * 7 = 1\n",
    "\n",
    "Toplam Puan = 6.85 + 1 = 7.85\n",
    "\n",
    "Oy sayısı arttıkça puan düzeltilmesinin nasıl değiştiğini görebiliriz. Gereken oy sayısından daha fazla puan alındığında, bu durum yakalanmıştır. Bu şekilde, izleyici kitlesinin genel ortalamasından da bir puan elde edildiğini görüyoruz.\n",
    "\n",
    "Buradan çıkarılabilecek sonuçlardan biri, bir işletmenin kendi skorlama yöntemini oluşturabileceği ve kullanabileceğidir.\n",
    "\n",
    "Şimdi kodlama kısmına devam edelim."
   ]
  },
  {
   "cell_type": "code",
   "execution_count": 70,
   "id": "0d9fb679",
   "metadata": {
    "execution": {
     "iopub.execute_input": "2023-11-13T13:55:56.692771Z",
     "iopub.status.busy": "2023-11-13T13:55:56.692356Z",
     "iopub.status.idle": "2023-11-13T13:55:56.698193Z",
     "shell.execute_reply": "2023-11-13T13:55:56.696951Z"
    },
    "papermill": {
     "duration": 0.07311,
     "end_time": "2023-11-13T13:55:56.700595",
     "exception": false,
     "start_time": "2023-11-13T13:55:56.627485",
     "status": "completed"
    },
    "tags": []
   },
   "outputs": [],
   "source": [
    "# M ve C değerlerimizi atayalım;\n",
    "\n",
    "M = 2500\n",
    "C = df['vote_average'].mean()"
   ]
  },
  {
   "cell_type": "code",
   "execution_count": 71,
   "id": "16c6c6a5",
   "metadata": {
    "execution": {
     "iopub.execute_input": "2023-11-13T13:55:56.824684Z",
     "iopub.status.busy": "2023-11-13T13:55:56.823655Z",
     "iopub.status.idle": "2023-11-13T13:55:56.830372Z",
     "shell.execute_reply": "2023-11-13T13:55:56.829284Z"
    },
    "papermill": {
     "duration": 0.071933,
     "end_time": "2023-11-13T13:55:56.832907",
     "exception": false,
     "start_time": "2023-11-13T13:55:56.760974",
     "status": "completed"
    },
    "tags": []
   },
   "outputs": [],
   "source": [
    "def weighted_rating(r, v, M, C):\n",
    "    \n",
    "    return (v / (v + M) * r) + (M / (v + M) * C)"
   ]
  },
  {
   "cell_type": "code",
   "execution_count": 72,
   "id": "d8c46f26",
   "metadata": {
    "execution": {
     "iopub.execute_input": "2023-11-13T13:55:56.957556Z",
     "iopub.status.busy": "2023-11-13T13:55:56.956728Z",
     "iopub.status.idle": "2023-11-13T13:55:56.986016Z",
     "shell.execute_reply": "2023-11-13T13:55:56.984903Z"
    },
    "papermill": {
     "duration": 0.095552,
     "end_time": "2023-11-13T13:55:56.988954",
     "exception": false,
     "start_time": "2023-11-13T13:55:56.893402",
     "status": "completed"
    },
    "tags": []
   },
   "outputs": [
    {
     "data": {
      "text/html": [
       "<div>\n",
       "<style scoped>\n",
       "    .dataframe tbody tr th:only-of-type {\n",
       "        vertical-align: middle;\n",
       "    }\n",
       "\n",
       "    .dataframe tbody tr th {\n",
       "        vertical-align: top;\n",
       "    }\n",
       "\n",
       "    .dataframe thead th {\n",
       "        text-align: right;\n",
       "    }\n",
       "</style>\n",
       "<table border=\"1\" class=\"dataframe\">\n",
       "  <thead>\n",
       "    <tr style=\"text-align: right;\">\n",
       "      <th></th>\n",
       "      <th>title</th>\n",
       "      <th>vote_average</th>\n",
       "      <th>vote_count</th>\n",
       "      <th>vote_count_score</th>\n",
       "      <th>average_count_score</th>\n",
       "    </tr>\n",
       "  </thead>\n",
       "  <tbody>\n",
       "    <tr>\n",
       "      <th>15480</th>\n",
       "      <td>Inception</td>\n",
       "      <td>8.1</td>\n",
       "      <td>14075.0</td>\n",
       "      <td>10.000000</td>\n",
       "      <td>81.000000</td>\n",
       "    </tr>\n",
       "    <tr>\n",
       "      <th>12481</th>\n",
       "      <td>The Dark Knight</td>\n",
       "      <td>8.3</td>\n",
       "      <td>12269.0</td>\n",
       "      <td>8.845187</td>\n",
       "      <td>73.415048</td>\n",
       "    </tr>\n",
       "    <tr>\n",
       "      <th>22879</th>\n",
       "      <td>Interstellar</td>\n",
       "      <td>8.1</td>\n",
       "      <td>11187.0</td>\n",
       "      <td>8.153321</td>\n",
       "      <td>66.041904</td>\n",
       "    </tr>\n",
       "    <tr>\n",
       "      <th>17818</th>\n",
       "      <td>The Avengers</td>\n",
       "      <td>7.4</td>\n",
       "      <td>12000.0</td>\n",
       "      <td>8.673179</td>\n",
       "      <td>64.181528</td>\n",
       "    </tr>\n",
       "    <tr>\n",
       "      <th>14551</th>\n",
       "      <td>Avatar</td>\n",
       "      <td>7.2</td>\n",
       "      <td>12114.0</td>\n",
       "      <td>8.746075</td>\n",
       "      <td>62.971737</td>\n",
       "    </tr>\n",
       "    <tr>\n",
       "      <th>26564</th>\n",
       "      <td>Deadpool</td>\n",
       "      <td>7.4</td>\n",
       "      <td>11444.0</td>\n",
       "      <td>8.317655</td>\n",
       "      <td>61.550650</td>\n",
       "    </tr>\n",
       "    <tr>\n",
       "      <th>2843</th>\n",
       "      <td>Fight Club</td>\n",
       "      <td>8.3</td>\n",
       "      <td>9678.0</td>\n",
       "      <td>7.188419</td>\n",
       "      <td>59.663879</td>\n",
       "    </tr>\n",
       "    <tr>\n",
       "      <th>20051</th>\n",
       "      <td>Django Unchained</td>\n",
       "      <td>7.8</td>\n",
       "      <td>10297.0</td>\n",
       "      <td>7.584227</td>\n",
       "      <td>59.156973</td>\n",
       "    </tr>\n",
       "    <tr>\n",
       "      <th>23753</th>\n",
       "      <td>Guardians of the Galaxy</td>\n",
       "      <td>7.9</td>\n",
       "      <td>10014.0</td>\n",
       "      <td>7.403268</td>\n",
       "      <td>58.485819</td>\n",
       "    </tr>\n",
       "    <tr>\n",
       "      <th>292</th>\n",
       "      <td>Pulp Fiction</td>\n",
       "      <td>8.3</td>\n",
       "      <td>8670.0</td>\n",
       "      <td>6.543872</td>\n",
       "      <td>54.314139</td>\n",
       "    </tr>\n",
       "    <tr>\n",
       "      <th>314</th>\n",
       "      <td>The Shawshank Redemption</td>\n",
       "      <td>8.5</td>\n",
       "      <td>8358.0</td>\n",
       "      <td>6.344369</td>\n",
       "      <td>53.927140</td>\n",
       "    </tr>\n",
       "    <tr>\n",
       "      <th>2458</th>\n",
       "      <td>The Matrix</td>\n",
       "      <td>7.9</td>\n",
       "      <td>9079.0</td>\n",
       "      <td>6.805400</td>\n",
       "      <td>53.762657</td>\n",
       "    </tr>\n",
       "    <tr>\n",
       "      <th>4863</th>\n",
       "      <td>The Lord of the Rings: The Fellowship of the Ring</td>\n",
       "      <td>8.0</td>\n",
       "      <td>8892.0</td>\n",
       "      <td>6.685826</td>\n",
       "      <td>53.486607</td>\n",
       "    </tr>\n",
       "    <tr>\n",
       "      <th>18252</th>\n",
       "      <td>The Dark Knight Rises</td>\n",
       "      <td>7.6</td>\n",
       "      <td>9263.0</td>\n",
       "      <td>6.923055</td>\n",
       "      <td>52.615218</td>\n",
       "    </tr>\n",
       "    <tr>\n",
       "      <th>26553</th>\n",
       "      <td>Mad Max: Fury Road</td>\n",
       "      <td>7.3</td>\n",
       "      <td>9629.0</td>\n",
       "      <td>7.157087</td>\n",
       "      <td>52.246735</td>\n",
       "    </tr>\n",
       "  </tbody>\n",
       "</table>\n",
       "</div>"
      ],
      "text/plain": [
       "                                                   title  vote_average  \\\n",
       "15480                                          Inception           8.1   \n",
       "12481                                    The Dark Knight           8.3   \n",
       "22879                                       Interstellar           8.1   \n",
       "17818                                       The Avengers           7.4   \n",
       "14551                                             Avatar           7.2   \n",
       "26564                                           Deadpool           7.4   \n",
       "2843                                          Fight Club           8.3   \n",
       "20051                                   Django Unchained           7.8   \n",
       "23753                            Guardians of the Galaxy           7.9   \n",
       "292                                         Pulp Fiction           8.3   \n",
       "314                             The Shawshank Redemption           8.5   \n",
       "2458                                          The Matrix           7.9   \n",
       "4863   The Lord of the Rings: The Fellowship of the Ring           8.0   \n",
       "18252                              The Dark Knight Rises           7.6   \n",
       "26553                                 Mad Max: Fury Road           7.3   \n",
       "\n",
       "       vote_count  vote_count_score  average_count_score  \n",
       "15480     14075.0         10.000000            81.000000  \n",
       "12481     12269.0          8.845187            73.415048  \n",
       "22879     11187.0          8.153321            66.041904  \n",
       "17818     12000.0          8.673179            64.181528  \n",
       "14551     12114.0          8.746075            62.971737  \n",
       "26564     11444.0          8.317655            61.550650  \n",
       "2843       9678.0          7.188419            59.663879  \n",
       "20051     10297.0          7.584227            59.156973  \n",
       "23753     10014.0          7.403268            58.485819  \n",
       "292        8670.0          6.543872            54.314139  \n",
       "314        8358.0          6.344369            53.927140  \n",
       "2458       9079.0          6.805400            53.762657  \n",
       "4863       8892.0          6.685826            53.486607  \n",
       "18252      9263.0          6.923055            52.615218  \n",
       "26553      9629.0          7.157087            52.246735  "
      ]
     },
     "execution_count": 72,
     "metadata": {},
     "output_type": "execute_result"
    }
   ],
   "source": [
    "df.sort_values(\"average_count_score\", ascending=False).head(15)"
   ]
  },
  {
   "cell_type": "markdown",
   "id": "ef30f57d",
   "metadata": {
    "papermill": {
     "duration": 0.060721,
     "end_time": "2023-11-13T13:55:57.111407",
     "exception": false,
     "start_time": "2023-11-13T13:55:57.050686",
     "status": "completed"
    },
    "tags": []
   },
   "source": [
    "<div style=\"border-radius:10px; border:#65647C solid; padding: 15px; background-color: #F8EDE3; font-size:100%; text-align:left\">\n",
    "\n",
    "<h3 align=\"left\"><font color='#7D6E83'><b>🗨️ Comment: </b></font></h3>\n",
    "\n",
    "* Bu sıralamada bazı şüpheler var. Örneğin; Deadpool filminin sırası gibi.. şimdide bunları inceleyelim."
   ]
  },
  {
   "cell_type": "code",
   "execution_count": 73,
   "id": "85de986b",
   "metadata": {
    "execution": {
     "iopub.execute_input": "2023-11-13T13:55:57.233061Z",
     "iopub.status.busy": "2023-11-13T13:55:57.232669Z",
     "iopub.status.idle": "2023-11-13T13:55:57.239364Z",
     "shell.execute_reply": "2023-11-13T13:55:57.238586Z"
    },
    "papermill": {
     "duration": 0.069377,
     "end_time": "2023-11-13T13:55:57.241393",
     "exception": false,
     "start_time": "2023-11-13T13:55:57.172016",
     "status": "completed"
    },
    "tags": []
   },
   "outputs": [
    {
     "data": {
      "text/plain": [
       "7.080544896574546"
      ]
     },
     "execution_count": 73,
     "metadata": {},
     "output_type": "execute_result"
    }
   ],
   "source": [
    "weighted_rating(7.40000, 11444.00000, M, C) # Deadpool"
   ]
  },
  {
   "cell_type": "code",
   "execution_count": 74,
   "id": "2661dbe4",
   "metadata": {
    "execution": {
     "iopub.execute_input": "2023-11-13T13:55:57.375522Z",
     "iopub.status.busy": "2023-11-13T13:55:57.374854Z",
     "iopub.status.idle": "2023-11-13T13:55:57.381444Z",
     "shell.execute_reply": "2023-11-13T13:55:57.380566Z"
    },
    "papermill": {
     "duration": 0.075747,
     "end_time": "2023-11-13T13:55:57.383936",
     "exception": false,
     "start_time": "2023-11-13T13:55:57.308189",
     "status": "completed"
    },
    "tags": []
   },
   "outputs": [
    {
     "data": {
      "text/plain": [
       "7.725672279809078"
      ]
     },
     "execution_count": 74,
     "metadata": {},
     "output_type": "execute_result"
    }
   ],
   "source": [
    "weighted_rating(8.10000, 14075.00000, M, C) # Inception"
   ]
  },
  {
   "cell_type": "code",
   "execution_count": 75,
   "id": "f790ed4c",
   "metadata": {
    "execution": {
     "iopub.execute_input": "2023-11-13T13:55:57.517353Z",
     "iopub.status.busy": "2023-11-13T13:55:57.516149Z",
     "iopub.status.idle": "2023-11-13T13:55:57.523319Z",
     "shell.execute_reply": "2023-11-13T13:55:57.522448Z"
    },
    "papermill": {
     "duration": 0.078476,
     "end_time": "2023-11-13T13:55:57.527308",
     "exception": false,
     "start_time": "2023-11-13T13:55:57.448832",
     "status": "completed"
    },
    "tags": []
   },
   "outputs": [
    {
     "data": {
      "text/plain": [
       "7.83648167598411"
      ]
     },
     "execution_count": 75,
     "metadata": {},
     "output_type": "execute_result"
    }
   ],
   "source": [
    "weighted_rating(8.50000, 8358.00000, M, C) # The Shawshank Redemption"
   ]
  },
  {
   "cell_type": "code",
   "execution_count": 76,
   "id": "08c60540",
   "metadata": {
    "execution": {
     "iopub.execute_input": "2023-11-13T13:55:57.664700Z",
     "iopub.status.busy": "2023-11-13T13:55:57.664026Z",
     "iopub.status.idle": "2023-11-13T13:55:57.672102Z",
     "shell.execute_reply": "2023-11-13T13:55:57.670910Z"
    },
    "papermill": {
     "duration": 0.080364,
     "end_time": "2023-11-13T13:55:57.675167",
     "exception": false,
     "start_time": "2023-11-13T13:55:57.594803",
     "status": "completed"
    },
    "tags": []
   },
   "outputs": [],
   "source": [
    "df[\"weighted_rating\"] = weighted_rating(df[\"vote_average\"],\n",
    "                                        df[\"vote_count\"], M, C)"
   ]
  },
  {
   "cell_type": "code",
   "execution_count": 77,
   "id": "ed35fdc9",
   "metadata": {
    "execution": {
     "iopub.execute_input": "2023-11-13T13:55:57.805848Z",
     "iopub.status.busy": "2023-11-13T13:55:57.805155Z",
     "iopub.status.idle": "2023-11-13T13:55:57.837428Z",
     "shell.execute_reply": "2023-11-13T13:55:57.836216Z"
    },
    "papermill": {
     "duration": 0.100232,
     "end_time": "2023-11-13T13:55:57.840981",
     "exception": false,
     "start_time": "2023-11-13T13:55:57.740749",
     "status": "completed"
    },
    "tags": []
   },
   "outputs": [
    {
     "data": {
      "text/html": [
       "<div>\n",
       "<style scoped>\n",
       "    .dataframe tbody tr th:only-of-type {\n",
       "        vertical-align: middle;\n",
       "    }\n",
       "\n",
       "    .dataframe tbody tr th {\n",
       "        vertical-align: top;\n",
       "    }\n",
       "\n",
       "    .dataframe thead th {\n",
       "        text-align: right;\n",
       "    }\n",
       "</style>\n",
       "<table border=\"1\" class=\"dataframe\">\n",
       "  <thead>\n",
       "    <tr style=\"text-align: right;\">\n",
       "      <th></th>\n",
       "      <th>title</th>\n",
       "      <th>vote_average</th>\n",
       "      <th>vote_count</th>\n",
       "      <th>vote_count_score</th>\n",
       "      <th>average_count_score</th>\n",
       "      <th>weighted_rating</th>\n",
       "    </tr>\n",
       "  </thead>\n",
       "  <tbody>\n",
       "    <tr>\n",
       "      <th>12481</th>\n",
       "      <td>The Dark Knight</td>\n",
       "      <td>8.3</td>\n",
       "      <td>12269.0</td>\n",
       "      <td>8.845187</td>\n",
       "      <td>73.415048</td>\n",
       "      <td>7.846044</td>\n",
       "    </tr>\n",
       "    <tr>\n",
       "      <th>314</th>\n",
       "      <td>The Shawshank Redemption</td>\n",
       "      <td>8.5</td>\n",
       "      <td>8358.0</td>\n",
       "      <td>6.344369</td>\n",
       "      <td>53.927140</td>\n",
       "      <td>7.836482</td>\n",
       "    </tr>\n",
       "    <tr>\n",
       "      <th>2843</th>\n",
       "      <td>Fight Club</td>\n",
       "      <td>8.3</td>\n",
       "      <td>9678.0</td>\n",
       "      <td>7.188419</td>\n",
       "      <td>59.663879</td>\n",
       "      <td>7.749460</td>\n",
       "    </tr>\n",
       "    <tr>\n",
       "      <th>15480</th>\n",
       "      <td>Inception</td>\n",
       "      <td>8.1</td>\n",
       "      <td>14075.0</td>\n",
       "      <td>10.000000</td>\n",
       "      <td>81.000000</td>\n",
       "      <td>7.725672</td>\n",
       "    </tr>\n",
       "    <tr>\n",
       "      <th>292</th>\n",
       "      <td>Pulp Fiction</td>\n",
       "      <td>8.3</td>\n",
       "      <td>8670.0</td>\n",
       "      <td>6.543872</td>\n",
       "      <td>54.314139</td>\n",
       "      <td>7.699778</td>\n",
       "    </tr>\n",
       "    <tr>\n",
       "      <th>834</th>\n",
       "      <td>The Godfather</td>\n",
       "      <td>8.5</td>\n",
       "      <td>6024.0</td>\n",
       "      <td>4.851936</td>\n",
       "      <td>41.241456</td>\n",
       "      <td>7.654800</td>\n",
       "    </tr>\n",
       "    <tr>\n",
       "      <th>22879</th>\n",
       "      <td>Interstellar</td>\n",
       "      <td>8.1</td>\n",
       "      <td>11187.0</td>\n",
       "      <td>8.153321</td>\n",
       "      <td>66.041904</td>\n",
       "      <td>7.646688</td>\n",
       "    </tr>\n",
       "    <tr>\n",
       "      <th>351</th>\n",
       "      <td>Forrest Gump</td>\n",
       "      <td>8.2</td>\n",
       "      <td>8147.0</td>\n",
       "      <td>6.209449</td>\n",
       "      <td>50.917485</td>\n",
       "      <td>7.593775</td>\n",
       "    </tr>\n",
       "    <tr>\n",
       "      <th>7000</th>\n",
       "      <td>The Lord of the Rings: The Return of the King</td>\n",
       "      <td>8.1</td>\n",
       "      <td>8226.0</td>\n",
       "      <td>6.259964</td>\n",
       "      <td>50.705712</td>\n",
       "      <td>7.521547</td>\n",
       "    </tr>\n",
       "    <tr>\n",
       "      <th>4863</th>\n",
       "      <td>The Lord of the Rings: The Fellowship of the Ring</td>\n",
       "      <td>8.0</td>\n",
       "      <td>8892.0</td>\n",
       "      <td>6.685826</td>\n",
       "      <td>53.486607</td>\n",
       "      <td>7.477310</td>\n",
       "    </tr>\n",
       "  </tbody>\n",
       "</table>\n",
       "</div>"
      ],
      "text/plain": [
       "                                                   title  vote_average  \\\n",
       "12481                                    The Dark Knight           8.3   \n",
       "314                             The Shawshank Redemption           8.5   \n",
       "2843                                          Fight Club           8.3   \n",
       "15480                                          Inception           8.1   \n",
       "292                                         Pulp Fiction           8.3   \n",
       "834                                        The Godfather           8.5   \n",
       "22879                                       Interstellar           8.1   \n",
       "351                                         Forrest Gump           8.2   \n",
       "7000       The Lord of the Rings: The Return of the King           8.1   \n",
       "4863   The Lord of the Rings: The Fellowship of the Ring           8.0   \n",
       "\n",
       "       vote_count  vote_count_score  average_count_score  weighted_rating  \n",
       "12481     12269.0          8.845187            73.415048         7.846044  \n",
       "314        8358.0          6.344369            53.927140         7.836482  \n",
       "2843       9678.0          7.188419            59.663879         7.749460  \n",
       "15480     14075.0         10.000000            81.000000         7.725672  \n",
       "292        8670.0          6.543872            54.314139         7.699778  \n",
       "834        6024.0          4.851936            41.241456         7.654800  \n",
       "22879     11187.0          8.153321            66.041904         7.646688  \n",
       "351        8147.0          6.209449            50.917485         7.593775  \n",
       "7000       8226.0          6.259964            50.705712         7.521547  \n",
       "4863       8892.0          6.685826            53.486607         7.477310  "
      ]
     },
     "execution_count": 77,
     "metadata": {},
     "output_type": "execute_result"
    }
   ],
   "source": [
    "df.sort_values(\"weighted_rating\", ascending=False).head(10)"
   ]
  },
  {
   "cell_type": "markdown",
   "id": "46a7d5d2",
   "metadata": {
    "papermill": {
     "duration": 0.0698,
     "end_time": "2023-11-13T13:55:57.978171",
     "exception": false,
     "start_time": "2023-11-13T13:55:57.908371",
     "status": "completed"
    },
    "tags": []
   },
   "source": [
    "<div style=\"border-radius:10px; border:#65647C solid; padding: 15px; background-color: #F8EDE3; font-size:100%; text-align:left\">\n",
    "\n",
    "<h3 align=\"left\"><font color='#7D6E83'><b>🗨️ Comment: </b></font></h3>\n",
    "\n",
    "* Böylelikle daha güven verici bir sıralama elde ettik."
   ]
  },
  {
   "cell_type": "markdown",
   "id": "b2641fc6",
   "metadata": {
    "papermill": {
     "duration": 0.06438,
     "end_time": "2023-11-13T13:55:58.109589",
     "exception": false,
     "start_time": "2023-11-13T13:55:58.045209",
     "status": "completed"
    },
    "tags": []
   },
   "source": [
    "<a id = \"16\"></a><br>\n",
    "<p style=\"font-family: 'Pacifico', cursive; font-weight: bold; letter-spacing: 2px; color: #556B2F; font-size: 160%; text-align: left; padding: 0px; border-bottom: 3px solid\">✨Bayes Ortalama Derecelendirme Puanı (BAR Score)✨</p>"
   ]
  },
  {
   "cell_type": "markdown",
   "id": "461427f0",
   "metadata": {
    "papermill": {
     "duration": 0.064906,
     "end_time": "2023-11-13T13:55:58.235937",
     "exception": false,
     "start_time": "2023-11-13T13:55:58.171031",
     "status": "completed"
    },
    "tags": []
   },
   "source": [
    "<div style=\"border-radius:10px; border:#65647C solid; padding: 15px; background-color: #F8EDE3; font-size:100%; text-align:left\">\n",
    "\n",
    "<h3 align=\"left\"><font color='#7D6E83'><b>🗨️ Comment: </b></font></h3>\n",
    "\n",
    "* Buraya kadar IMDB'nin 2015 yılına kadarki kullanmış olduğu puanlama sistemiyle elde ettiğimiz ilk 5 film şu şekildeydi;\n",
    "\n",
    "     * 12481 - The Dark Knight\n",
    "     * 314 - The Shawshank Redemption\n",
    "     * 2843 - Fight Club\n",
    "     * 15480 - Inception\n",
    "     * 292 - Pulp Fiction"
   ]
  },
  {
   "cell_type": "code",
   "execution_count": 78,
   "id": "62f65c4e",
   "metadata": {
    "execution": {
     "iopub.execute_input": "2023-11-13T13:55:58.365949Z",
     "iopub.status.busy": "2023-11-13T13:55:58.365570Z",
     "iopub.status.idle": "2023-11-13T13:55:58.373880Z",
     "shell.execute_reply": "2023-11-13T13:55:58.372634Z"
    },
    "papermill": {
     "duration": 0.076803,
     "end_time": "2023-11-13T13:55:58.376292",
     "exception": false,
     "start_time": "2023-11-13T13:55:58.299489",
     "status": "completed"
    },
    "tags": []
   },
   "outputs": [],
   "source": [
    "def bayesian_average_rating(n, confidence=0.95):\n",
    "    \n",
    "    if sum(n) == 0:\n",
    "        \n",
    "        return 0\n",
    "    \n",
    "    K = len(n)\n",
    "    z = st.norm.ppf(1 - (1 - confidence) / 2)\n",
    "    N = sum(n)\n",
    "    first_part = 0.0\n",
    "    second_part = 0.0\n",
    "    \n",
    "    for k, n_k in enumerate(n):\n",
    "        \n",
    "        first_part += (k + 1) * (n[k] + 1) / (N + K)\n",
    "        second_part += (k + 1) * (k + 1) * (n[k] + 1) / (N + K)\n",
    "        \n",
    "    score = first_part - z * math.sqrt((second_part - first_part * first_part) / (N + K + 1))\n",
    "    \n",
    "    return score"
   ]
  },
  {
   "cell_type": "code",
   "execution_count": 79,
   "id": "98400d90",
   "metadata": {
    "execution": {
     "iopub.execute_input": "2023-11-13T13:55:58.506473Z",
     "iopub.status.busy": "2023-11-13T13:55:58.506035Z",
     "iopub.status.idle": "2023-11-13T13:55:58.513518Z",
     "shell.execute_reply": "2023-11-13T13:55:58.512734Z"
    },
    "papermill": {
     "duration": 0.077992,
     "end_time": "2023-11-13T13:55:58.515807",
     "exception": false,
     "start_time": "2023-11-13T13:55:58.437815",
     "status": "completed"
    },
    "tags": []
   },
   "outputs": [
    {
     "data": {
      "text/plain": [
       "9.14538444560111"
      ]
     },
     "execution_count": 79,
     "metadata": {},
     "output_type": "execute_result"
    }
   ],
   "source": [
    "bayesian_average_rating([34733, 4355, 4704, 6561, 13515, 26183, 87368, 273082, 600260, 1295351])"
   ]
  },
  {
   "cell_type": "code",
   "execution_count": 80,
   "id": "4a2cde43",
   "metadata": {
    "execution": {
     "iopub.execute_input": "2023-11-13T13:55:58.647682Z",
     "iopub.status.busy": "2023-11-13T13:55:58.646964Z",
     "iopub.status.idle": "2023-11-13T13:55:58.654433Z",
     "shell.execute_reply": "2023-11-13T13:55:58.653218Z"
    },
    "papermill": {
     "duration": 0.075882,
     "end_time": "2023-11-13T13:55:58.656710",
     "exception": false,
     "start_time": "2023-11-13T13:55:58.580828",
     "status": "completed"
    },
    "tags": []
   },
   "outputs": [
    {
     "data": {
      "text/plain": [
       "9.14538444560111"
      ]
     },
     "execution_count": 80,
     "metadata": {},
     "output_type": "execute_result"
    }
   ],
   "source": [
    "bayesian_average_rating([34733, 4355, 4704, 6561, 13515, 26183, 87368, 273082, 600260, 1295351])\n",
    "\n",
    "# The Shawshank Redemption için 1'den 10 yıldıza kadarki değerlendirme sayılarını girdik."
   ]
  },
  {
   "cell_type": "code",
   "execution_count": 81,
   "id": "3e7bb5cf",
   "metadata": {
    "execution": {
     "iopub.execute_input": "2023-11-13T13:55:58.790437Z",
     "iopub.status.busy": "2023-11-13T13:55:58.789780Z",
     "iopub.status.idle": "2023-11-13T13:55:58.796689Z",
     "shell.execute_reply": "2023-11-13T13:55:58.795770Z"
    },
    "papermill": {
     "duration": 0.077251,
     "end_time": "2023-11-13T13:55:58.799055",
     "exception": false,
     "start_time": "2023-11-13T13:55:58.721804",
     "status": "completed"
    },
    "tags": []
   },
   "outputs": [
    {
     "data": {
      "text/plain": [
       "8.940007324860396"
      ]
     },
     "execution_count": 81,
     "metadata": {},
     "output_type": "execute_result"
    }
   ],
   "source": [
    "bayesian_average_rating([37128, 5879, 6268, 8419, 16603, 30016, 78538, 199430, 402518, 837905])\n",
    "\n",
    "# The God Father için 1'den 10 yıldıza kadarki değerlendirme sayılarını girdik."
   ]
  },
  {
   "cell_type": "markdown",
   "id": "73cc041e",
   "metadata": {
    "papermill": {
     "duration": 0.062738,
     "end_time": "2023-11-13T13:55:58.923660",
     "exception": false,
     "start_time": "2023-11-13T13:55:58.860922",
     "status": "completed"
    },
    "tags": []
   },
   "source": [
    "<div style=\"border-radius:10px; border:#65647C solid; padding: 15px; background-color: #F8EDE3; font-size:100%; text-align:left\">\n",
    "\n",
    "<h3 align=\"left\"><font color='#7D6E83'><b>🗨️ Comment: </b></font></h3>\n",
    "\n",
    "* Son Bayesian ağırlıklı hesaplamamızla, güncel IMDb puanlarına yaklaşıyor gibi görünüyoruz. Güncel IMDb puanları ile hesaplamamız arasındaki küçük farkın nedeni, kullanıcı kalitesi faktörünü dikkate almadan yapılan hesaplamadır.\n",
    "* Kullanıcı Kalitesi, kullanıcının yorum sayısı ve platformdaki etkisi gibi faktörlere dayalı olarak belirlenen bir metriktir.\n",
    "* \"movies_metadata.csv\" veri kümesinde oyların toplam sayısı bulunsa da oyların dağılımı mevcut değil. Bu dağılımları içeren \"imdb_ratings.csv\" veri kümesiyle devam edelim ve filmleri sıralamak için genel bir hesaplama yapalım."
   ]
  },
  {
   "cell_type": "code",
   "execution_count": 82,
   "id": "a8d6aa5d",
   "metadata": {
    "execution": {
     "iopub.execute_input": "2023-11-13T13:55:59.054325Z",
     "iopub.status.busy": "2023-11-13T13:55:59.053900Z",
     "iopub.status.idle": "2023-11-13T13:55:59.065453Z",
     "shell.execute_reply": "2023-11-13T13:55:59.064616Z"
    },
    "papermill": {
     "duration": 0.08098,
     "end_time": "2023-11-13T13:55:59.067950",
     "exception": false,
     "start_time": "2023-11-13T13:55:58.986970",
     "status": "completed"
    },
    "tags": []
   },
   "outputs": [],
   "source": [
    "df = pd.read_csv(\"/kaggle/input/imdb-rating/imdb_ratings.csv\")"
   ]
  },
  {
   "cell_type": "code",
   "execution_count": 83,
   "id": "ddc36592",
   "metadata": {
    "execution": {
     "iopub.execute_input": "2023-11-13T13:55:59.197665Z",
     "iopub.status.busy": "2023-11-13T13:55:59.197022Z",
     "iopub.status.idle": "2023-11-13T13:55:59.202640Z",
     "shell.execute_reply": "2023-11-13T13:55:59.201135Z"
    },
    "papermill": {
     "duration": 0.073973,
     "end_time": "2023-11-13T13:55:59.205333",
     "exception": false,
     "start_time": "2023-11-13T13:55:59.131360",
     "status": "completed"
    },
    "tags": []
   },
   "outputs": [],
   "source": [
    "df = df.iloc[0:, 1:]"
   ]
  },
  {
   "cell_type": "code",
   "execution_count": 84,
   "id": "5fa2bd18",
   "metadata": {
    "execution": {
     "iopub.execute_input": "2023-11-13T13:55:59.335681Z",
     "iopub.status.busy": "2023-11-13T13:55:59.335239Z",
     "iopub.status.idle": "2023-11-13T13:55:59.351561Z",
     "shell.execute_reply": "2023-11-13T13:55:59.350437Z"
    },
    "papermill": {
     "duration": 0.084037,
     "end_time": "2023-11-13T13:55:59.353912",
     "exception": false,
     "start_time": "2023-11-13T13:55:59.269875",
     "status": "completed"
    },
    "tags": []
   },
   "outputs": [
    {
     "data": {
      "text/html": [
       "<div>\n",
       "<style scoped>\n",
       "    .dataframe tbody tr th:only-of-type {\n",
       "        vertical-align: middle;\n",
       "    }\n",
       "\n",
       "    .dataframe tbody tr th {\n",
       "        vertical-align: top;\n",
       "    }\n",
       "\n",
       "    .dataframe thead th {\n",
       "        text-align: right;\n",
       "    }\n",
       "</style>\n",
       "<table border=\"1\" class=\"dataframe\">\n",
       "  <thead>\n",
       "    <tr style=\"text-align: right;\">\n",
       "      <th></th>\n",
       "      <th>id</th>\n",
       "      <th>movieName</th>\n",
       "      <th>rating</th>\n",
       "      <th>ten</th>\n",
       "      <th>nine</th>\n",
       "      <th>eight</th>\n",
       "      <th>seven</th>\n",
       "      <th>six</th>\n",
       "      <th>five</th>\n",
       "      <th>four</th>\n",
       "      <th>three</th>\n",
       "      <th>two</th>\n",
       "      <th>one</th>\n",
       "    </tr>\n",
       "  </thead>\n",
       "  <tbody>\n",
       "    <tr>\n",
       "      <th>0</th>\n",
       "      <td>111161</td>\n",
       "      <td>1.       The Shawshank Redemption (1994)</td>\n",
       "      <td>9.2</td>\n",
       "      <td>1295382</td>\n",
       "      <td>600284</td>\n",
       "      <td>273091</td>\n",
       "      <td>87368</td>\n",
       "      <td>26184</td>\n",
       "      <td>13515</td>\n",
       "      <td>6561</td>\n",
       "      <td>4704</td>\n",
       "      <td>4355</td>\n",
       "      <td>34733</td>\n",
       "    </tr>\n",
       "    <tr>\n",
       "      <th>1</th>\n",
       "      <td>68646</td>\n",
       "      <td>2.       The Godfather (1972)</td>\n",
       "      <td>9.1</td>\n",
       "      <td>837932</td>\n",
       "      <td>402527</td>\n",
       "      <td>199440</td>\n",
       "      <td>78541</td>\n",
       "      <td>30016</td>\n",
       "      <td>16603</td>\n",
       "      <td>8419</td>\n",
       "      <td>6268</td>\n",
       "      <td>5879</td>\n",
       "      <td>37128</td>\n",
       "    </tr>\n",
       "    <tr>\n",
       "      <th>2</th>\n",
       "      <td>71562</td>\n",
       "      <td>3.       The Godfather: Part II (1974)</td>\n",
       "      <td>9.0</td>\n",
       "      <td>486356</td>\n",
       "      <td>324905</td>\n",
       "      <td>175507</td>\n",
       "      <td>70847</td>\n",
       "      <td>26349</td>\n",
       "      <td>12657</td>\n",
       "      <td>6210</td>\n",
       "      <td>4347</td>\n",
       "      <td>3892</td>\n",
       "      <td>20469</td>\n",
       "    </tr>\n",
       "    <tr>\n",
       "      <th>3</th>\n",
       "      <td>468569</td>\n",
       "      <td>4.       The Dark Knight (2008)</td>\n",
       "      <td>9.0</td>\n",
       "      <td>1034863</td>\n",
       "      <td>649123</td>\n",
       "      <td>354610</td>\n",
       "      <td>137748</td>\n",
       "      <td>49483</td>\n",
       "      <td>23237</td>\n",
       "      <td>11429</td>\n",
       "      <td>8082</td>\n",
       "      <td>7173</td>\n",
       "      <td>30345</td>\n",
       "    </tr>\n",
       "    <tr>\n",
       "      <th>4</th>\n",
       "      <td>50083</td>\n",
       "      <td>5.       12 Angry Men (1957)</td>\n",
       "      <td>8.9</td>\n",
       "      <td>246765</td>\n",
       "      <td>225437</td>\n",
       "      <td>133998</td>\n",
       "      <td>48341</td>\n",
       "      <td>15773</td>\n",
       "      <td>6278</td>\n",
       "      <td>2866</td>\n",
       "      <td>1723</td>\n",
       "      <td>1478</td>\n",
       "      <td>8318</td>\n",
       "    </tr>\n",
       "  </tbody>\n",
       "</table>\n",
       "</div>"
      ],
      "text/plain": [
       "       id                                 movieName  rating      ten    nine  \\\n",
       "0  111161  1.       The Shawshank Redemption (1994)     9.2  1295382  600284   \n",
       "1   68646             2.       The Godfather (1972)     9.1   837932  402527   \n",
       "2   71562    3.       The Godfather: Part II (1974)     9.0   486356  324905   \n",
       "3  468569           4.       The Dark Knight (2008)     9.0  1034863  649123   \n",
       "4   50083              5.       12 Angry Men (1957)     8.9   246765  225437   \n",
       "\n",
       "    eight   seven    six   five   four  three   two    one  \n",
       "0  273091   87368  26184  13515   6561   4704  4355  34733  \n",
       "1  199440   78541  30016  16603   8419   6268  5879  37128  \n",
       "2  175507   70847  26349  12657   6210   4347  3892  20469  \n",
       "3  354610  137748  49483  23237  11429   8082  7173  30345  \n",
       "4  133998   48341  15773   6278   2866   1723  1478   8318  "
      ]
     },
     "execution_count": 84,
     "metadata": {},
     "output_type": "execute_result"
    }
   ],
   "source": [
    "df.head()"
   ]
  },
  {
   "cell_type": "code",
   "execution_count": 85,
   "id": "7b6f07ac",
   "metadata": {
    "execution": {
     "iopub.execute_input": "2023-11-13T13:55:59.484701Z",
     "iopub.status.busy": "2023-11-13T13:55:59.484253Z",
     "iopub.status.idle": "2023-11-13T13:55:59.722505Z",
     "shell.execute_reply": "2023-11-13T13:55:59.720766Z"
    },
    "papermill": {
     "duration": 0.307524,
     "end_time": "2023-11-13T13:55:59.725931",
     "exception": false,
     "start_time": "2023-11-13T13:55:59.418407",
     "status": "completed"
    },
    "tags": []
   },
   "outputs": [],
   "source": [
    "df[\"bar_score\"] = df.apply(lambda x: bayesian_average_rating(x[[\"one\", \"two\", \"three\", \"four\", \"five\",\n",
    "                                                                \"six\", \"seven\", \"eight\", \"nine\", \"ten\"]]), axis=1)"
   ]
  },
  {
   "cell_type": "code",
   "execution_count": 86,
   "id": "2572ee25",
   "metadata": {
    "execution": {
     "iopub.execute_input": "2023-11-13T13:55:59.858314Z",
     "iopub.status.busy": "2023-11-13T13:55:59.857347Z",
     "iopub.status.idle": "2023-11-13T13:55:59.883797Z",
     "shell.execute_reply": "2023-11-13T13:55:59.882703Z"
    },
    "papermill": {
     "duration": 0.096658,
     "end_time": "2023-11-13T13:55:59.886557",
     "exception": false,
     "start_time": "2023-11-13T13:55:59.789899",
     "status": "completed"
    },
    "tags": []
   },
   "outputs": [
    {
     "data": {
      "text/html": [
       "<div>\n",
       "<style scoped>\n",
       "    .dataframe tbody tr th:only-of-type {\n",
       "        vertical-align: middle;\n",
       "    }\n",
       "\n",
       "    .dataframe tbody tr th {\n",
       "        vertical-align: top;\n",
       "    }\n",
       "\n",
       "    .dataframe thead th {\n",
       "        text-align: right;\n",
       "    }\n",
       "</style>\n",
       "<table border=\"1\" class=\"dataframe\">\n",
       "  <thead>\n",
       "    <tr style=\"text-align: right;\">\n",
       "      <th></th>\n",
       "      <th>id</th>\n",
       "      <th>movieName</th>\n",
       "      <th>rating</th>\n",
       "      <th>ten</th>\n",
       "      <th>nine</th>\n",
       "      <th>eight</th>\n",
       "      <th>seven</th>\n",
       "      <th>six</th>\n",
       "      <th>five</th>\n",
       "      <th>four</th>\n",
       "      <th>three</th>\n",
       "      <th>two</th>\n",
       "      <th>one</th>\n",
       "      <th>bar_score</th>\n",
       "    </tr>\n",
       "  </thead>\n",
       "  <tbody>\n",
       "    <tr>\n",
       "      <th>0</th>\n",
       "      <td>111161</td>\n",
       "      <td>1.       The Shawshank Redemption (1994)</td>\n",
       "      <td>9.2</td>\n",
       "      <td>1295382</td>\n",
       "      <td>600284</td>\n",
       "      <td>273091</td>\n",
       "      <td>87368</td>\n",
       "      <td>26184</td>\n",
       "      <td>13515</td>\n",
       "      <td>6561</td>\n",
       "      <td>4704</td>\n",
       "      <td>4355</td>\n",
       "      <td>34733</td>\n",
       "      <td>9.145389</td>\n",
       "    </tr>\n",
       "    <tr>\n",
       "      <th>1</th>\n",
       "      <td>68646</td>\n",
       "      <td>2.       The Godfather (1972)</td>\n",
       "      <td>9.1</td>\n",
       "      <td>837932</td>\n",
       "      <td>402527</td>\n",
       "      <td>199440</td>\n",
       "      <td>78541</td>\n",
       "      <td>30016</td>\n",
       "      <td>16603</td>\n",
       "      <td>8419</td>\n",
       "      <td>6268</td>\n",
       "      <td>5879</td>\n",
       "      <td>37128</td>\n",
       "      <td>8.940016</td>\n",
       "    </tr>\n",
       "    <tr>\n",
       "      <th>3</th>\n",
       "      <td>468569</td>\n",
       "      <td>4.       The Dark Knight (2008)</td>\n",
       "      <td>9.0</td>\n",
       "      <td>1034863</td>\n",
       "      <td>649123</td>\n",
       "      <td>354610</td>\n",
       "      <td>137748</td>\n",
       "      <td>49483</td>\n",
       "      <td>23237</td>\n",
       "      <td>11429</td>\n",
       "      <td>8082</td>\n",
       "      <td>7173</td>\n",
       "      <td>30345</td>\n",
       "      <td>8.895962</td>\n",
       "    </tr>\n",
       "    <tr>\n",
       "      <th>2</th>\n",
       "      <td>71562</td>\n",
       "      <td>3.       The Godfather: Part II (1974)</td>\n",
       "      <td>9.0</td>\n",
       "      <td>486356</td>\n",
       "      <td>324905</td>\n",
       "      <td>175507</td>\n",
       "      <td>70847</td>\n",
       "      <td>26349</td>\n",
       "      <td>12657</td>\n",
       "      <td>6210</td>\n",
       "      <td>4347</td>\n",
       "      <td>3892</td>\n",
       "      <td>20469</td>\n",
       "      <td>8.812499</td>\n",
       "    </tr>\n",
       "    <tr>\n",
       "      <th>4</th>\n",
       "      <td>50083</td>\n",
       "      <td>5.       12 Angry Men (1957)</td>\n",
       "      <td>8.9</td>\n",
       "      <td>246765</td>\n",
       "      <td>225437</td>\n",
       "      <td>133998</td>\n",
       "      <td>48341</td>\n",
       "      <td>15773</td>\n",
       "      <td>6278</td>\n",
       "      <td>2866</td>\n",
       "      <td>1723</td>\n",
       "      <td>1478</td>\n",
       "      <td>8318</td>\n",
       "      <td>8.767934</td>\n",
       "    </tr>\n",
       "    <tr>\n",
       "      <th>6</th>\n",
       "      <td>167260</td>\n",
       "      <td>7.       The Lord of the Rings: The Return of ...</td>\n",
       "      <td>8.9</td>\n",
       "      <td>703093</td>\n",
       "      <td>433087</td>\n",
       "      <td>270113</td>\n",
       "      <td>117411</td>\n",
       "      <td>44760</td>\n",
       "      <td>21818</td>\n",
       "      <td>10873</td>\n",
       "      <td>7987</td>\n",
       "      <td>6554</td>\n",
       "      <td>28990</td>\n",
       "      <td>8.752038</td>\n",
       "    </tr>\n",
       "    <tr>\n",
       "      <th>5</th>\n",
       "      <td>108052</td>\n",
       "      <td>6.       Schindler's List (1993)</td>\n",
       "      <td>8.9</td>\n",
       "      <td>453906</td>\n",
       "      <td>383584</td>\n",
       "      <td>220586</td>\n",
       "      <td>82367</td>\n",
       "      <td>27219</td>\n",
       "      <td>12922</td>\n",
       "      <td>6234</td>\n",
       "      <td>4572</td>\n",
       "      <td>4289</td>\n",
       "      <td>19328</td>\n",
       "      <td>8.743609</td>\n",
       "    </tr>\n",
       "    <tr>\n",
       "      <th>11</th>\n",
       "      <td>109830</td>\n",
       "      <td>12.       Forrest Gump (1994)</td>\n",
       "      <td>8.8</td>\n",
       "      <td>622104</td>\n",
       "      <td>553654</td>\n",
       "      <td>373644</td>\n",
       "      <td>151284</td>\n",
       "      <td>51140</td>\n",
       "      <td>22720</td>\n",
       "      <td>11692</td>\n",
       "      <td>7647</td>\n",
       "      <td>5941</td>\n",
       "      <td>12110</td>\n",
       "      <td>8.699152</td>\n",
       "    </tr>\n",
       "    <tr>\n",
       "      <th>12</th>\n",
       "      <td>1375666</td>\n",
       "      <td>13.       Inception (2010)</td>\n",
       "      <td>8.7</td>\n",
       "      <td>724798</td>\n",
       "      <td>627987</td>\n",
       "      <td>408686</td>\n",
       "      <td>174229</td>\n",
       "      <td>60668</td>\n",
       "      <td>26910</td>\n",
       "      <td>13436</td>\n",
       "      <td>8703</td>\n",
       "      <td>6932</td>\n",
       "      <td>17621</td>\n",
       "      <td>8.693148</td>\n",
       "    </tr>\n",
       "    <tr>\n",
       "      <th>10</th>\n",
       "      <td>137523</td>\n",
       "      <td>11.       Fight Club (1999)</td>\n",
       "      <td>8.8</td>\n",
       "      <td>637087</td>\n",
       "      <td>572654</td>\n",
       "      <td>371752</td>\n",
       "      <td>152295</td>\n",
       "      <td>53059</td>\n",
       "      <td>24755</td>\n",
       "      <td>12648</td>\n",
       "      <td>8606</td>\n",
       "      <td>6948</td>\n",
       "      <td>17435</td>\n",
       "      <td>8.674475</td>\n",
       "    </tr>\n",
       "    <tr>\n",
       "      <th>7</th>\n",
       "      <td>110912</td>\n",
       "      <td>8.       Pulp Fiction (1994)</td>\n",
       "      <td>8.8</td>\n",
       "      <td>674884</td>\n",
       "      <td>541946</td>\n",
       "      <td>332876</td>\n",
       "      <td>140886</td>\n",
       "      <td>52091</td>\n",
       "      <td>26828</td>\n",
       "      <td>14203</td>\n",
       "      <td>10425</td>\n",
       "      <td>8912</td>\n",
       "      <td>25610</td>\n",
       "      <td>8.667174</td>\n",
       "    </tr>\n",
       "    <tr>\n",
       "      <th>9</th>\n",
       "      <td>120737</td>\n",
       "      <td>10.       The Lord of the Rings: The Fellowshi...</td>\n",
       "      <td>8.8</td>\n",
       "      <td>631020</td>\n",
       "      <td>460809</td>\n",
       "      <td>316221</td>\n",
       "      <td>132929</td>\n",
       "      <td>46699</td>\n",
       "      <td>22658</td>\n",
       "      <td>11002</td>\n",
       "      <td>8295</td>\n",
       "      <td>6911</td>\n",
       "      <td>27013</td>\n",
       "      <td>8.666174</td>\n",
       "    </tr>\n",
       "    <tr>\n",
       "      <th>8</th>\n",
       "      <td>60196</td>\n",
       "      <td>9.       Il buono, il brutto, il cattivo (1966)</td>\n",
       "      <td>8.8</td>\n",
       "      <td>246549</td>\n",
       "      <td>199725</td>\n",
       "      <td>138309</td>\n",
       "      <td>58595</td>\n",
       "      <td>18777</td>\n",
       "      <td>8607</td>\n",
       "      <td>3903</td>\n",
       "      <td>2451</td>\n",
       "      <td>2032</td>\n",
       "      <td>10319</td>\n",
       "      <td>8.661433</td>\n",
       "    </tr>\n",
       "    <tr>\n",
       "      <th>28</th>\n",
       "      <td>816692</td>\n",
       "      <td>29.       Interstellar (2014)</td>\n",
       "      <td>8.5</td>\n",
       "      <td>541682</td>\n",
       "      <td>412079</td>\n",
       "      <td>292240</td>\n",
       "      <td>149125</td>\n",
       "      <td>57253</td>\n",
       "      <td>24501</td>\n",
       "      <td>12271</td>\n",
       "      <td>7595</td>\n",
       "      <td>5618</td>\n",
       "      <td>12841</td>\n",
       "      <td>8.622887</td>\n",
       "    </tr>\n",
       "    <tr>\n",
       "      <th>13</th>\n",
       "      <td>167261</td>\n",
       "      <td>14.       The Lord of the Rings: The Two Tower...</td>\n",
       "      <td>8.7</td>\n",
       "      <td>517453</td>\n",
       "      <td>420229</td>\n",
       "      <td>310443</td>\n",
       "      <td>130399</td>\n",
       "      <td>44743</td>\n",
       "      <td>20787</td>\n",
       "      <td>9690</td>\n",
       "      <td>6815</td>\n",
       "      <td>5851</td>\n",
       "      <td>20950</td>\n",
       "      <td>8.614751</td>\n",
       "    </tr>\n",
       "  </tbody>\n",
       "</table>\n",
       "</div>"
      ],
      "text/plain": [
       "         id                                          movieName  rating  \\\n",
       "0    111161           1.       The Shawshank Redemption (1994)     9.2   \n",
       "1     68646                      2.       The Godfather (1972)     9.1   \n",
       "3    468569                    4.       The Dark Knight (2008)     9.0   \n",
       "2     71562             3.       The Godfather: Part II (1974)     9.0   \n",
       "4     50083                       5.       12 Angry Men (1957)     8.9   \n",
       "6    167260  7.       The Lord of the Rings: The Return of ...     8.9   \n",
       "5    108052                   6.       Schindler's List (1993)     8.9   \n",
       "11   109830                      12.       Forrest Gump (1994)     8.8   \n",
       "12  1375666                         13.       Inception (2010)     8.7   \n",
       "10   137523                        11.       Fight Club (1999)     8.8   \n",
       "7    110912                       8.       Pulp Fiction (1994)     8.8   \n",
       "9    120737  10.       The Lord of the Rings: The Fellowshi...     8.8   \n",
       "8     60196    9.       Il buono, il brutto, il cattivo (1966)     8.8   \n",
       "28   816692                      29.       Interstellar (2014)     8.5   \n",
       "13   167261  14.       The Lord of the Rings: The Two Tower...     8.7   \n",
       "\n",
       "        ten    nine   eight   seven    six   five   four  three   two    one  \\\n",
       "0   1295382  600284  273091   87368  26184  13515   6561   4704  4355  34733   \n",
       "1    837932  402527  199440   78541  30016  16603   8419   6268  5879  37128   \n",
       "3   1034863  649123  354610  137748  49483  23237  11429   8082  7173  30345   \n",
       "2    486356  324905  175507   70847  26349  12657   6210   4347  3892  20469   \n",
       "4    246765  225437  133998   48341  15773   6278   2866   1723  1478   8318   \n",
       "6    703093  433087  270113  117411  44760  21818  10873   7987  6554  28990   \n",
       "5    453906  383584  220586   82367  27219  12922   6234   4572  4289  19328   \n",
       "11   622104  553654  373644  151284  51140  22720  11692   7647  5941  12110   \n",
       "12   724798  627987  408686  174229  60668  26910  13436   8703  6932  17621   \n",
       "10   637087  572654  371752  152295  53059  24755  12648   8606  6948  17435   \n",
       "7    674884  541946  332876  140886  52091  26828  14203  10425  8912  25610   \n",
       "9    631020  460809  316221  132929  46699  22658  11002   8295  6911  27013   \n",
       "8    246549  199725  138309   58595  18777   8607   3903   2451  2032  10319   \n",
       "28   541682  412079  292240  149125  57253  24501  12271   7595  5618  12841   \n",
       "13   517453  420229  310443  130399  44743  20787   9690   6815  5851  20950   \n",
       "\n",
       "    bar_score  \n",
       "0    9.145389  \n",
       "1    8.940016  \n",
       "3    8.895962  \n",
       "2    8.812499  \n",
       "4    8.767934  \n",
       "6    8.752038  \n",
       "5    8.743609  \n",
       "11   8.699152  \n",
       "12   8.693148  \n",
       "10   8.674475  \n",
       "7    8.667174  \n",
       "9    8.666174  \n",
       "8    8.661433  \n",
       "28   8.622887  \n",
       "13   8.614751  "
      ]
     },
     "execution_count": 86,
     "metadata": {},
     "output_type": "execute_result"
    }
   ],
   "source": [
    "df.sort_values(\"bar_score\", ascending=False).head(15)"
   ]
  },
  {
   "cell_type": "markdown",
   "id": "62814d9d",
   "metadata": {
    "papermill": {
     "duration": 0.064681,
     "end_time": "2023-11-13T13:56:00.015758",
     "exception": false,
     "start_time": "2023-11-13T13:55:59.951077",
     "status": "completed"
    },
    "tags": []
   },
   "source": [
    "<div style=\"border-radius:10px; border:#65647C solid; padding: 15px; background-color: #F8EDE3; font-size:100%; text-align:left\">\n",
    "\n",
    "<h3 align=\"left\"><font color='#7D6E83'><b>🗨️ Comment: </b></font></h3>\n",
    "\n",
    "* Bu şekilde, şu anki sıralamayla uyumlu hale getirdik. Çeşitli faktörleri dahil ederek ve ağırlıklı bilimsel hesaplamalar yaparak, en doğru sonuçlara yaklaşıyoruz.\n",
    "    \n",
    "* Bu başlığa kadar ürünleri sıralama ile ilgilendik. Ürün sıralama konusuna dair şu farkındalıklara ulaştık;\n",
    "\n",
    "    * İş bilgisi açısından önemli olabilecek faktörler göz önünde bulundurulmalıdır.\n",
    "    * Eğer birden fazla faktör varsa, bu faktörlerin etkileri aynı anda göz önünde bulundurulmak üzere önce standartlaştırılmalı, daha sonra etkilerin farkı varsa bu ağırlık ile ifade edilmelidir.\n",
    "    * Literatüre göre bazı istatistiksel yöntemler tek başına güvenilir gözüküyor olsa da, bu yöntemleri tek başına kullanmak yerine yine iş bilgisiyle birleştirecek şekilde kullanmak gerekiyor."
   ]
  },
  {
   "cell_type": "markdown",
   "id": "26c6f0d3",
   "metadata": {
    "papermill": {
     "duration": 0.064407,
     "end_time": "2023-11-13T13:56:00.146774",
     "exception": false,
     "start_time": "2023-11-13T13:56:00.082367",
     "status": "completed"
    },
    "tags": []
   },
   "source": [
    "<a id=\"17\"></a>\n",
    "<h1 style=\"border-radius: 10px; border: 2px solid #6B8E23; background-color: #F5F5DC; font-family: 'Pacifico', cursive; font-size: 200%; text-align: center; border-radius: 15px 50px; padding: 15px; box-shadow: 5px 5px 5px #556B2F; color: #556B2F;\">🙏 Sorting Reviews 🙏</h1>"
   ]
  },
  {
   "cell_type": "markdown",
   "id": "3c952702",
   "metadata": {
    "papermill": {
     "duration": 0.063948,
     "end_time": "2023-11-13T13:56:00.275835",
     "exception": false,
     "start_time": "2023-11-13T13:56:00.211887",
     "status": "completed"
    },
    "tags": []
   },
   "source": [
    "\"Sorting Reviews\" terimi, genellikle müşteri yorumlarının veya incelemelerin belirli bir düzen veya kategorilere göre sıralanması anlamına gelir. Bu, bir ürün, hizmet veya başka bir konuyla ilgili olan çok sayıda kullanıcı yorumunu daha anlamlı ve erişilebilir hale getirmek için kullanılır. İncelemeler genellikle belirli ölçütler, puanlar veya konular etrafında toplanabilir ve kullanıcılara bu bilgileri daha iyi anlamalarına yardımcı olacak bir düzen içinde sunulabilir.\n",
    "\n",
    "Örneğin, bir e-ticaret sitesinde bir ürünün kullanıcı yorumlarını gözden geçirirken, kullanıcılar genellikle \"en yararlı\", \"en son\", \"en çok oy alan\" veya \"en düşük puan alan\" gibi seçeneklere göre sıralama yapabilirler.\n",
    "\n",
    "Ayrıca bu başlıkta yorumların puanlarının yüksek veya düşük olmasıyla ilgilenmiyoruz. Pazar yeri olarak kullanıcılara en doğru sosyal ispatı ulaştırmaya çalışıyoruz. Bu yüzden kötü yorum bile olsa topluluğun ortak fikir birliği sağladığı, faydalı bulduğu yorumlar öne çıkarılır.\n",
    "\n",
    "Yine burada \"User Quality Score\" gibi faktörlerinde önemi vardır. Aynı oranda faydalılığa sahip yorumlarında kendi içindeki sıralaması için önemli bir faktördür."
   ]
  },
  {
   "cell_type": "markdown",
   "id": "369087b9",
   "metadata": {
    "papermill": {
     "duration": 0.063216,
     "end_time": "2023-11-13T13:56:00.403386",
     "exception": false,
     "start_time": "2023-11-13T13:56:00.340170",
     "status": "completed"
    },
    "tags": []
   },
   "source": [
    "<a id = \"18\"></a><br>\n",
    "<p style=\"font-family: 'Pacifico', cursive; font-weight: bold; letter-spacing: 2px; color: #556B2F; font-size: 160%; text-align: left; padding: 0px; border-bottom: 3px solid\">✨Üst-Alt Farkı Skoru (Up-Down Difference Score)✨</p>"
   ]
  },
  {
   "cell_type": "markdown",
   "id": "f727757f",
   "metadata": {
    "papermill": {
     "duration": 0.0646,
     "end_time": "2023-11-13T13:56:00.530368",
     "exception": false,
     "start_time": "2023-11-13T13:56:00.465768",
     "status": "completed"
    },
    "tags": []
   },
   "source": [
    "<div style=\"border-radius:10px; border:#D0C2F0 solid; padding: 15px; background-color: #F8E8EE; font-size:100%; text-align:left\">\n",
    "\n",
    "<h3 align=\"left\"><font color='#5E5273'>📄 Notes: </font></h3>\n",
    "\n",
    "* Review 1: 600 up 400 down total 1000\n",
    "* Review 2: 5500 up 4500 down total 10000"
   ]
  },
  {
   "cell_type": "code",
   "execution_count": 87,
   "id": "0c8560c7",
   "metadata": {
    "execution": {
     "iopub.execute_input": "2023-11-13T13:56:00.661973Z",
     "iopub.status.busy": "2023-11-13T13:56:00.660747Z",
     "iopub.status.idle": "2023-11-13T13:56:00.667262Z",
     "shell.execute_reply": "2023-11-13T13:56:00.666190Z"
    },
    "papermill": {
     "duration": 0.073608,
     "end_time": "2023-11-13T13:56:00.669851",
     "exception": false,
     "start_time": "2023-11-13T13:56:00.596243",
     "status": "completed"
    },
    "tags": []
   },
   "outputs": [],
   "source": [
    "def score_up_down_diff(up, down):\n",
    "    \n",
    "    return up - down"
   ]
  },
  {
   "cell_type": "code",
   "execution_count": 88,
   "id": "996e8582",
   "metadata": {
    "execution": {
     "iopub.execute_input": "2023-11-13T13:56:00.799197Z",
     "iopub.status.busy": "2023-11-13T13:56:00.798797Z",
     "iopub.status.idle": "2023-11-13T13:56:00.805709Z",
     "shell.execute_reply": "2023-11-13T13:56:00.804605Z"
    },
    "papermill": {
     "duration": 0.075085,
     "end_time": "2023-11-13T13:56:00.808192",
     "exception": false,
     "start_time": "2023-11-13T13:56:00.733107",
     "status": "completed"
    },
    "tags": []
   },
   "outputs": [
    {
     "data": {
      "text/plain": [
       "200"
      ]
     },
     "execution_count": 88,
     "metadata": {},
     "output_type": "execute_result"
    }
   ],
   "source": [
    "# Review 1 Score:\n",
    "\n",
    "score_up_down_diff(600, 400)"
   ]
  },
  {
   "cell_type": "code",
   "execution_count": 89,
   "id": "e6d6adbf",
   "metadata": {
    "execution": {
     "iopub.execute_input": "2023-11-13T13:56:00.941374Z",
     "iopub.status.busy": "2023-11-13T13:56:00.940995Z",
     "iopub.status.idle": "2023-11-13T13:56:00.947017Z",
     "shell.execute_reply": "2023-11-13T13:56:00.946223Z"
    },
    "papermill": {
     "duration": 0.07422,
     "end_time": "2023-11-13T13:56:00.949155",
     "exception": false,
     "start_time": "2023-11-13T13:56:00.874935",
     "status": "completed"
    },
    "tags": []
   },
   "outputs": [
    {
     "data": {
      "text/plain": [
       "1000"
      ]
     },
     "execution_count": 89,
     "metadata": {},
     "output_type": "execute_result"
    }
   ],
   "source": [
    "# Review 2 Score:\n",
    "\n",
    "score_up_down_diff(5500, 4500)"
   ]
  },
  {
   "cell_type": "markdown",
   "id": "f44cb5cf",
   "metadata": {
    "papermill": {
     "duration": 0.065872,
     "end_time": "2023-11-13T13:56:01.078538",
     "exception": false,
     "start_time": "2023-11-13T13:56:01.012666",
     "status": "completed"
    },
    "tags": []
   },
   "source": [
    "<div style=\"border-radius:10px; border:#65647C solid; padding: 15px; background-color: #F8EDE3; font-size:100%; text-align:left\">\n",
    "\n",
    "<h3 align=\"left\"><font color='#7D6E83'><b>🗨️ Comment: </b></font></h3>\n",
    "\n",
    "* Bu sonuçlara göre, Review 2 daha yukarıda sıralanmış gibi görünüyor. Ancak, farklılıklara rağmen, Review 1'in yukarı yüzdesi %60 iken, Review 2'nin yukarı yüzdesi yüzde 55'tir yüzdelik dilimlerde. Bu nedenle, Review 1'in daha yukarıda olup olmaması konusunda bazı şüphecilikle yaklaşmamız gerekiyor. Bu yöntem güvenilir bir sonuç sağlama konusunda eksik kalmaktadır."
   ]
  },
  {
   "cell_type": "markdown",
   "id": "413057f8",
   "metadata": {
    "papermill": {
     "duration": 0.065661,
     "end_time": "2023-11-13T13:56:01.211808",
     "exception": false,
     "start_time": "2023-11-13T13:56:01.146147",
     "status": "completed"
    },
    "tags": []
   },
   "source": [
    "<a id = \"19\"></a><br>\n",
    "<p style=\"font-family: 'Pacifico', cursive; font-weight: bold; letter-spacing: 2px; color: #556B2F; font-size: 160%; text-align: left; padding: 0px; border-bottom: 3px solid\">✨Average Rating (Up Ratio)✨</p>"
   ]
  },
  {
   "cell_type": "code",
   "execution_count": 90,
   "id": "09d85c2c",
   "metadata": {
    "execution": {
     "iopub.execute_input": "2023-11-13T13:56:01.343999Z",
     "iopub.status.busy": "2023-11-13T13:56:01.342970Z",
     "iopub.status.idle": "2023-11-13T13:56:01.349259Z",
     "shell.execute_reply": "2023-11-13T13:56:01.348242Z"
    },
    "papermill": {
     "duration": 0.073862,
     "end_time": "2023-11-13T13:56:01.352126",
     "exception": false,
     "start_time": "2023-11-13T13:56:01.278264",
     "status": "completed"
    },
    "tags": []
   },
   "outputs": [],
   "source": [
    "def score_average_rating(up, down):\n",
    "    \n",
    "    if up + down == 0:\n",
    "        \n",
    "        return 0\n",
    "    \n",
    "    return up / (up + down)"
   ]
  },
  {
   "cell_type": "code",
   "execution_count": 91,
   "id": "bdee0c2c",
   "metadata": {
    "execution": {
     "iopub.execute_input": "2023-11-13T13:56:01.485659Z",
     "iopub.status.busy": "2023-11-13T13:56:01.484225Z",
     "iopub.status.idle": "2023-11-13T13:56:01.491125Z",
     "shell.execute_reply": "2023-11-13T13:56:01.490239Z"
    },
    "papermill": {
     "duration": 0.076427,
     "end_time": "2023-11-13T13:56:01.493519",
     "exception": false,
     "start_time": "2023-11-13T13:56:01.417092",
     "status": "completed"
    },
    "tags": []
   },
   "outputs": [
    {
     "data": {
      "text/plain": [
       "0.6"
      ]
     },
     "execution_count": 91,
     "metadata": {},
     "output_type": "execute_result"
    }
   ],
   "source": [
    "score_average_rating(600, 400)"
   ]
  },
  {
   "cell_type": "code",
   "execution_count": 92,
   "id": "179a79b1",
   "metadata": {
    "execution": {
     "iopub.execute_input": "2023-11-13T13:56:01.626030Z",
     "iopub.status.busy": "2023-11-13T13:56:01.624395Z",
     "iopub.status.idle": "2023-11-13T13:56:01.633453Z",
     "shell.execute_reply": "2023-11-13T13:56:01.632320Z"
    },
    "papermill": {
     "duration": 0.078321,
     "end_time": "2023-11-13T13:56:01.635891",
     "exception": false,
     "start_time": "2023-11-13T13:56:01.557570",
     "status": "completed"
    },
    "tags": []
   },
   "outputs": [
    {
     "data": {
      "text/plain": [
       "0.55"
      ]
     },
     "execution_count": 92,
     "metadata": {},
     "output_type": "execute_result"
    }
   ],
   "source": [
    "score_average_rating(5500, 4500)"
   ]
  },
  {
   "cell_type": "markdown",
   "id": "23c1904b",
   "metadata": {
    "papermill": {
     "duration": 0.066656,
     "end_time": "2023-11-13T13:56:01.768387",
     "exception": false,
     "start_time": "2023-11-13T13:56:01.701731",
     "status": "completed"
    },
    "tags": []
   },
   "source": [
    "<div style=\"border-radius:10px; border:#D0C2F0 solid; padding: 15px; background-color: #F8E8EE; font-size:100%; text-align:left\">\n",
    "\n",
    "<h3 align=\"left\"><font color='#5E5273'>📄 Notes: </font></h3>\n",
    "\n",
    "Diğer senaryo;\n",
    "\n",
    "* Review 1: 2 up 0 down total 2\n",
    "* Review 2: 100 up 1 down total 101"
   ]
  },
  {
   "cell_type": "code",
   "execution_count": 93,
   "id": "5dc8e5ed",
   "metadata": {
    "execution": {
     "iopub.execute_input": "2023-11-13T13:56:01.902458Z",
     "iopub.status.busy": "2023-11-13T13:56:01.902067Z",
     "iopub.status.idle": "2023-11-13T13:56:01.909509Z",
     "shell.execute_reply": "2023-11-13T13:56:01.908031Z"
    },
    "papermill": {
     "duration": 0.076208,
     "end_time": "2023-11-13T13:56:01.912416",
     "exception": false,
     "start_time": "2023-11-13T13:56:01.836208",
     "status": "completed"
    },
    "tags": []
   },
   "outputs": [
    {
     "data": {
      "text/plain": [
       "1.0"
      ]
     },
     "execution_count": 93,
     "metadata": {},
     "output_type": "execute_result"
    }
   ],
   "source": [
    "score_average_rating(2, 0)"
   ]
  },
  {
   "cell_type": "code",
   "execution_count": 94,
   "id": "83577db3",
   "metadata": {
    "execution": {
     "iopub.execute_input": "2023-11-13T13:56:02.049913Z",
     "iopub.status.busy": "2023-11-13T13:56:02.049498Z",
     "iopub.status.idle": "2023-11-13T13:56:02.056738Z",
     "shell.execute_reply": "2023-11-13T13:56:02.055629Z"
    },
    "papermill": {
     "duration": 0.076967,
     "end_time": "2023-11-13T13:56:02.059751",
     "exception": false,
     "start_time": "2023-11-13T13:56:01.982784",
     "status": "completed"
    },
    "tags": []
   },
   "outputs": [
    {
     "data": {
      "text/plain": [
       "0.9900990099009901"
      ]
     },
     "execution_count": 94,
     "metadata": {},
     "output_type": "execute_result"
    }
   ],
   "source": [
    "score_average_rating(100, 1)"
   ]
  },
  {
   "cell_type": "markdown",
   "id": "60793d0e",
   "metadata": {
    "papermill": {
     "duration": 0.067097,
     "end_time": "2023-11-13T13:56:02.194473",
     "exception": false,
     "start_time": "2023-11-13T13:56:02.127376",
     "status": "completed"
    },
    "tags": []
   },
   "source": [
    "<div style=\"border-radius:10px; border:#65647C solid; padding: 15px; background-color: #F8EDE3; font-size:100%; text-align:left\">\n",
    "\n",
    "<h3 align=\"left\"><font color='#7D6E83'><b>🗨️ Comment: </b></font></h3>\n",
    "\n",
    "* 2. durumda ise Review 1 kazanmış gibi duruyor. Fakat sadece 2 up almış bir yorumun, 100 up almış bir duruma göre üstte olmasının da mantıksız olduğunu görebiliyoruz. Bu yöntemde yetersiz kalmıştır. Çünkü oran bilgisini alırken, frekans bilgisini kaçırdı."
   ]
  },
  {
   "cell_type": "markdown",
   "id": "9638756c",
   "metadata": {
    "papermill": {
     "duration": 0.063662,
     "end_time": "2023-11-13T13:56:02.325322",
     "exception": false,
     "start_time": "2023-11-13T13:56:02.261660",
     "status": "completed"
    },
    "tags": []
   },
   "source": [
    "<a id = \"20\"></a><br>\n",
    "<p style=\"font-family: 'Pacifico', cursive; font-weight: bold; letter-spacing: 2px; color: #556B2F; font-size: 160%; text-align: left; padding: 0px; border-bottom: 3px solid\">✨Wilson Alt Sınır Puanı (Wilson Lower Bound Score)✨</p>"
   ]
  },
  {
   "cell_type": "code",
   "execution_count": 95,
   "id": "d91f9e2c",
   "metadata": {
    "execution": {
     "iopub.execute_input": "2023-11-13T13:56:02.457911Z",
     "iopub.status.busy": "2023-11-13T13:56:02.457490Z",
     "iopub.status.idle": "2023-11-13T13:56:02.465708Z",
     "shell.execute_reply": "2023-11-13T13:56:02.464506Z"
    },
    "papermill": {
     "duration": 0.077695,
     "end_time": "2023-11-13T13:56:02.468092",
     "exception": false,
     "start_time": "2023-11-13T13:56:02.390397",
     "status": "completed"
    },
    "tags": []
   },
   "outputs": [],
   "source": [
    "def wilson_lower_bound(up, down, confidence=0.95): # The confidence level is typically set to 0.95.\n",
    "    \n",
    "    \"\"\"\n",
    "    Calculate the Wilson Lower Bound Score\n",
    "\n",
    "    - The lower limit of the confidence interval to be calculated for the Bernoulli parameter p is considered as the WLB score.\n",
    "    - The calculated score is used for product ranking.\n",
    "    - Note:\n",
    "    If the scores are in the range of 1-5, they are marked as 1-3 negative and 4-5 positive, making them suitable for Bernoulli distribution.\n",
    "    However, this introduces some problems. Therefore, Bayesian average rating should be used.\n",
    "\n",
    "    Parameters\n",
    "    ----------\n",
    "    up: int\n",
    "        up count\n",
    "    down: int\n",
    "        down count\n",
    "    confidence: float\n",
    "        confidence\n",
    "\n",
    "    Returns\n",
    "    -------\n",
    "    wilson score: float\n",
    "\n",
    "    \"\"\"\n",
    "    n = up + down\n",
    "    \n",
    "    if n == 0:\n",
    "        \n",
    "        return 0\n",
    "    \n",
    "    z = st.norm.ppf(1 - (1 - confidence) / 2)\n",
    "    phat = 1.0 * up / n\n",
    "    \n",
    "    return (phat + z * z / (2 * n) - z * math.sqrt((phat * (1 - phat) + z * z / (4 * n)) / n)) / (1 + z * z / n)"
   ]
  },
  {
   "cell_type": "markdown",
   "id": "c7edfae0",
   "metadata": {
    "papermill": {
     "duration": 0.066062,
     "end_time": "2023-11-13T13:56:02.598187",
     "exception": false,
     "start_time": "2023-11-13T13:56:02.532125",
     "status": "completed"
    },
    "tags": []
   },
   "source": [
    "<div style=\"border-radius:10px; border:#D0C2F0 solid; padding: 15px; background-color: #F8E8EE; font-size:100%; text-align:left\">\n",
    "\n",
    "<h3 align=\"left\"><font color='#5E5273'>📄 Notes: </font></h3>\n",
    "\n",
    "`wilson_lower_bound` işlevi, kullanıcı yorumlarına dayalı ürünleri sıralamak için kullanılan Wilson Alt Sınır Skorunu hesaplar. Bu skor, Bernoulli parametresi \"p\" için hesaplanan güven aralığının alt sınırını temsil eder. \"p,\" ikili bir sonucun (örneğin, bir ürünün olumlu veya olumsuz incelemeleri) başarı olasılığını temsil eder.\n",
    "\n",
    "İşlevin ayrıntıları şunlardır:\n",
    "\n",
    "- Üç parametre alır:\n",
    "\n",
    "  - `up`: \"olumlu\" sonuç sayısı (örneğin, olumlu oy veya olumlu incelemeler).\n",
    "  - `down`: \"olumsuz\" sonuç sayısı (örneğin, olumsuz oy veya olumsuz incelemeler).\n",
    "  - `confidence`: Alt sınır puanı için istenen güven düzeyi (varsayılan olarak %95 için 0,95).\n",
    "\n",
    "- İşlev önce deneme (inceleme) sayısını `n = up + down` olarak hesaplar.\n",
    "\n",
    "- Eğer inceleme yoksa (yani `n == 0`), işlev, bir puan hesaplamak için veri olmadığını belirten bir puan olan 0 döndürür.\n",
    "\n",
    "- İşlev ardından, istenen güven düzeyine dayalı olarak kritik bir değer olan `z`'yi, standart normal dağılımın ters kümülatif dağılım fonksiyonunu (PPF) kullanarak hesaplar.\n",
    "\n",
    "- İnceleme sayısının toplamı `n`, başarı olasılığının tahmini `phat`'ı olumlu oy sayısının toplam inceleme sayısına oran olarak hesaplar.\n",
    "\n",
    "- Son olarak, Wilson Alt Sınır Skoru hesaplar. Bu hesaplama, Wilson Skoru aralığı formülünü kullanır ve kritik değer `z`, tahmini başarı olasılığı `phat` ve toplam inceleme sayısı `n`'ı içerir.\n",
    "\n",
    "Wilson Alt Sınır Skoru, kullanıcı geri bildirimlerine dayalı ürünleri sıralamak için kullanılan faydalı bir ölçüttür ve az sayıda inceleme ile ilişkilendirilen belirsizliği hesaba katar. Wilson Alt Sınır Skoru daha yüksek olan ürünler daha yüksek sıralanır, bu da kullanıcıların ürün hakkında daha fazla güven düzeyini gösterir. Bu yöntem, özellikle ikili derecelendirme sistemleriyle (örneğin, beğen veya beğenme) uğraşırken kullanışlıdır ve birkaç olumlu derecelendirmeye sahip ürünlerin yüksek bir sıraya yerleştirilmesini önlemeye yardımcı olabilir."
   ]
  },
  {
   "cell_type": "markdown",
   "id": "5e70ec0e",
   "metadata": {
    "papermill": {
     "duration": 0.064691,
     "end_time": "2023-11-13T13:56:02.727991",
     "exception": false,
     "start_time": "2023-11-13T13:56:02.663300",
     "status": "completed"
    },
    "tags": []
   },
   "source": [
    "<div style=\"border-radius:10px; border:#D0C2F0 solid; padding: 15px; background-color: #F8E8EE; font-size:100%; text-align:left\">\n",
    "\n",
    "<h3 align=\"left\"><font color='#5E5273'>📄 Notes: </font></h3>\n",
    "    \n",
    "Bernoulli parametresi \"p,\" bir Bernoulli dağılımının olasılık parametresidir. Bernoulli dağılımı, yalnızca iki sonuçla sonuçlanan rastgele denemeleri modeller. Bu sonuçlar genellikle \"başarı\" ve \"başarısızlık\" olarak adlandırılır.\n",
    "\n",
    "Parametre \"p,\" herhangi bir deneme sırasında başarının olasılığını ifade eder. Örneğin, bir madeni para atışında, \"başarılı\" sonucun (örneğin, yazı gelmesi) olasılığı \"p\" ile ifade edilir. Genellikle, \"p\" ifadesi 0 ile 1 arasında bir değer alır, çünkü başarılı bir sonucun olasılığı 0 ile 1 arasında bir değere sahiptir.\n",
    "\n",
    "Bernoulli dağılımı, genellikle iki sonuçlu rastgele denemeleri modellemek için kullanılır. Örnek olarak, bir reklamın tıklanıp tıklanmaması, bir ürünün hatalı olup olmaması veya bir öğrencinin sınavı geçip geçmemesi gibi olaylar Bernoulli dağılımı ile modellenebilir. \"p\" parametresi, bu tür denemelerde başarının olasılığını temsil eder."
   ]
  },
  {
   "cell_type": "markdown",
   "id": "1df9e930",
   "metadata": {
    "papermill": {
     "duration": 0.06521,
     "end_time": "2023-11-13T13:56:02.860084",
     "exception": false,
     "start_time": "2023-11-13T13:56:02.794874",
     "status": "completed"
    },
    "tags": []
   },
   "source": [
    "<div style=\"border-radius:10px; border:#D0C2F0 solid; padding: 15px; background-color: #F8E8EE; font-size:100%; text-align:left\">\n",
    "\n",
    "<h3 align=\"left\"><font color='#5E5273'>📄 Notes: </font></h3>\n",
    "    \n",
    "Standart normal dağılımın ters kümülatif dağılım fonksiyonu, İngilizce'de \"Percent Point Function\" veya kısaca \"PPF\" olarak bilinir. Bu fonksiyon, belirli bir olasılık seviyesi (genellikle alfa olarak gösterilir) altında kalan değerleri hesaplamak için kullanılır. Standart normal dağılım, ortalaması (mean) 0 ve standart sapması (standard deviation) 1 olan normal bir olasılık dağılımıdır.\n",
    "\n",
    "PPF, belirli bir olasılık seviyesi (alfa) için, bu olasılığa sahip bir rastgele değişkenin değeri için eşik değeri sağlar. Yani, standart normal dağılımın kümülatif dağılım fonksiyonunun (CDF) tersi olarak düşünülebilir. CDF, belirli bir değerin altında veya onunla eşit olma olasılığını hesaplar, PPF ise belirli bir olasılık seviyesi altında veya onunla eşit olan değeri hesaplar.\n",
    "\n",
    "Özellikle istatistiksel analizlerde ve hipotez testlerinde kullanılır. Örneğin, bir p değeri hesaplarken, PPF kullanılabilir. Bir p değeri, bir test istatistiğinin belirli bir olasılık seviyesi altında veya eşit olma olasılığını ifade eder. Eğer eldeki test istatistiği belirli bir alfa düzeyini karşılıyorsa, bu test sonucu anlamlı kabul edilir.\n",
    "\n",
    "Özetle, PPF, standart normal dağılımın olasılık değerlerini tersine çevirerek, belirli bir olasılık seviyesi için kritik değerleri hesaplamak için kullanılır. Bu, istatistiksel analizlerde, hipotez testlerinde ve güven aralıklarının hesaplanmasında yaygın olarak kullanılan bir araçtır."
   ]
  },
  {
   "cell_type": "markdown",
   "id": "34e56115",
   "metadata": {
    "papermill": {
     "duration": 0.063364,
     "end_time": "2023-11-13T13:56:02.989627",
     "exception": false,
     "start_time": "2023-11-13T13:56:02.926263",
     "status": "completed"
    },
    "tags": []
   },
   "source": [
    "**Durum - 1**"
   ]
  },
  {
   "cell_type": "code",
   "execution_count": 96,
   "id": "80a69a40",
   "metadata": {
    "execution": {
     "iopub.execute_input": "2023-11-13T13:56:03.120474Z",
     "iopub.status.busy": "2023-11-13T13:56:03.120069Z",
     "iopub.status.idle": "2023-11-13T13:56:03.128530Z",
     "shell.execute_reply": "2023-11-13T13:56:03.126818Z"
    },
    "papermill": {
     "duration": 0.078226,
     "end_time": "2023-11-13T13:56:03.130958",
     "exception": false,
     "start_time": "2023-11-13T13:56:03.052732",
     "status": "completed"
    },
    "tags": []
   },
   "outputs": [
    {
     "data": {
      "text/plain": [
       "0.5693094295142663"
      ]
     },
     "execution_count": 96,
     "metadata": {},
     "output_type": "execute_result"
    }
   ],
   "source": [
    "wilson_lower_bound(600, 400)"
   ]
  },
  {
   "cell_type": "code",
   "execution_count": 97,
   "id": "b06cb606",
   "metadata": {
    "execution": {
     "iopub.execute_input": "2023-11-13T13:56:03.262347Z",
     "iopub.status.busy": "2023-11-13T13:56:03.261703Z",
     "iopub.status.idle": "2023-11-13T13:56:03.271231Z",
     "shell.execute_reply": "2023-11-13T13:56:03.270077Z"
    },
    "papermill": {
     "duration": 0.077604,
     "end_time": "2023-11-13T13:56:03.273860",
     "exception": false,
     "start_time": "2023-11-13T13:56:03.196256",
     "status": "completed"
    },
    "tags": []
   },
   "outputs": [
    {
     "data": {
      "text/plain": [
       "0.5402319557715324"
      ]
     },
     "execution_count": 97,
     "metadata": {},
     "output_type": "execute_result"
    }
   ],
   "source": [
    "wilson_lower_bound(5500, 4500)"
   ]
  },
  {
   "cell_type": "markdown",
   "id": "b29dfb0b",
   "metadata": {
    "papermill": {
     "duration": 0.067807,
     "end_time": "2023-11-13T13:56:03.408817",
     "exception": false,
     "start_time": "2023-11-13T13:56:03.341010",
     "status": "completed"
    },
    "tags": []
   },
   "source": [
    "**Durum - 2**"
   ]
  },
  {
   "cell_type": "code",
   "execution_count": 98,
   "id": "b7debf0e",
   "metadata": {
    "execution": {
     "iopub.execute_input": "2023-11-13T13:56:03.548447Z",
     "iopub.status.busy": "2023-11-13T13:56:03.548042Z",
     "iopub.status.idle": "2023-11-13T13:56:03.554678Z",
     "shell.execute_reply": "2023-11-13T13:56:03.553811Z"
    },
    "papermill": {
     "duration": 0.080981,
     "end_time": "2023-11-13T13:56:03.556772",
     "exception": false,
     "start_time": "2023-11-13T13:56:03.475791",
     "status": "completed"
    },
    "tags": []
   },
   "outputs": [
    {
     "data": {
      "text/plain": [
       "0.3423802275066531"
      ]
     },
     "execution_count": 98,
     "metadata": {},
     "output_type": "execute_result"
    }
   ],
   "source": [
    "wilson_lower_bound(2, 0)"
   ]
  },
  {
   "cell_type": "code",
   "execution_count": 99,
   "id": "35001368",
   "metadata": {
    "execution": {
     "iopub.execute_input": "2023-11-13T13:56:03.694721Z",
     "iopub.status.busy": "2023-11-13T13:56:03.693854Z",
     "iopub.status.idle": "2023-11-13T13:56:03.700640Z",
     "shell.execute_reply": "2023-11-13T13:56:03.699600Z"
    },
    "papermill": {
     "duration": 0.080639,
     "end_time": "2023-11-13T13:56:03.703538",
     "exception": false,
     "start_time": "2023-11-13T13:56:03.622899",
     "status": "completed"
    },
    "tags": []
   },
   "outputs": [
    {
     "data": {
      "text/plain": [
       "0.9460328420055449"
      ]
     },
     "execution_count": 99,
     "metadata": {},
     "output_type": "execute_result"
    }
   ],
   "source": [
    "wilson_lower_bound(100, 1)"
   ]
  },
  {
   "cell_type": "markdown",
   "id": "50961b90",
   "metadata": {
    "papermill": {
     "duration": 0.06709,
     "end_time": "2023-11-13T13:56:03.841448",
     "exception": false,
     "start_time": "2023-11-13T13:56:03.774358",
     "status": "completed"
    },
    "tags": []
   },
   "source": [
    "<div style=\"border-radius:10px; border:#65647C solid; padding: 15px; background-color: #F8EDE3; font-size:100%; text-align:left\">\n",
    "\n",
    "<h3 align=\"left\"><font color='#7D6E83'><b>🗨️ Comment: </b></font></h3>\n",
    "    \n",
    "* Bu sonuçlar ile artık daha güvenilir çıktılar elde ettik."
   ]
  },
  {
   "cell_type": "markdown",
   "id": "99725cae",
   "metadata": {
    "papermill": {
     "duration": 0.068305,
     "end_time": "2023-11-13T13:56:03.979046",
     "exception": false,
     "start_time": "2023-11-13T13:56:03.910741",
     "status": "completed"
    },
    "tags": []
   },
   "source": [
    "<a id = \"21\"></a><br>\n",
    "<p style=\"font-family: 'Pacifico', cursive; font-weight: bold; letter-spacing: 2px; color: #556B2F; font-size: 160%; text-align: left; padding: 0px; border-bottom: 3px solid\">✨Örnek Uygulama (Case Study)✨</p>"
   ]
  },
  {
   "cell_type": "code",
   "execution_count": 100,
   "id": "4c3d03e3",
   "metadata": {
    "execution": {
     "iopub.execute_input": "2023-11-13T13:56:04.113701Z",
     "iopub.status.busy": "2023-11-13T13:56:04.112927Z",
     "iopub.status.idle": "2023-11-13T13:56:04.119059Z",
     "shell.execute_reply": "2023-11-13T13:56:04.117975Z"
    },
    "papermill": {
     "duration": 0.076822,
     "end_time": "2023-11-13T13:56:04.121513",
     "exception": false,
     "start_time": "2023-11-13T13:56:04.044691",
     "status": "completed"
    },
    "tags": []
   },
   "outputs": [],
   "source": [
    "up = [15, 70, 14, 4, 2, 5, 8, 37, 21, 52, 28, 147, 61, 30, 23, 40, 37, 61, 54, 18, 12, 68]\n",
    "\n",
    "down = [0, 2, 2, 2, 15, 2, 6, 5, 23, 8, 12, 2, 1, 1, 5, 1, 2, 6, 2, 0, 2, 2]"
   ]
  },
  {
   "cell_type": "code",
   "execution_count": 101,
   "id": "9d41777b",
   "metadata": {
    "execution": {
     "iopub.execute_input": "2023-11-13T13:56:04.252485Z",
     "iopub.status.busy": "2023-11-13T13:56:04.251735Z",
     "iopub.status.idle": "2023-11-13T13:56:04.257215Z",
     "shell.execute_reply": "2023-11-13T13:56:04.256175Z"
    },
    "papermill": {
     "duration": 0.073909,
     "end_time": "2023-11-13T13:56:04.259484",
     "exception": false,
     "start_time": "2023-11-13T13:56:04.185575",
     "status": "completed"
    },
    "tags": []
   },
   "outputs": [],
   "source": [
    "comments = pd.DataFrame({\"up\": up, \"down\": down})"
   ]
  },
  {
   "cell_type": "code",
   "execution_count": 102,
   "id": "512f6aba",
   "metadata": {
    "execution": {
     "iopub.execute_input": "2023-11-13T13:56:04.392704Z",
     "iopub.status.busy": "2023-11-13T13:56:04.391976Z",
     "iopub.status.idle": "2023-11-13T13:56:04.400778Z",
     "shell.execute_reply": "2023-11-13T13:56:04.399970Z"
    },
    "papermill": {
     "duration": 0.078088,
     "end_time": "2023-11-13T13:56:04.402866",
     "exception": false,
     "start_time": "2023-11-13T13:56:04.324778",
     "status": "completed"
    },
    "tags": []
   },
   "outputs": [
    {
     "data": {
      "text/html": [
       "<div>\n",
       "<style scoped>\n",
       "    .dataframe tbody tr th:only-of-type {\n",
       "        vertical-align: middle;\n",
       "    }\n",
       "\n",
       "    .dataframe tbody tr th {\n",
       "        vertical-align: top;\n",
       "    }\n",
       "\n",
       "    .dataframe thead th {\n",
       "        text-align: right;\n",
       "    }\n",
       "</style>\n",
       "<table border=\"1\" class=\"dataframe\">\n",
       "  <thead>\n",
       "    <tr style=\"text-align: right;\">\n",
       "      <th></th>\n",
       "      <th>up</th>\n",
       "      <th>down</th>\n",
       "    </tr>\n",
       "  </thead>\n",
       "  <tbody>\n",
       "    <tr>\n",
       "      <th>0</th>\n",
       "      <td>15</td>\n",
       "      <td>0</td>\n",
       "    </tr>\n",
       "    <tr>\n",
       "      <th>1</th>\n",
       "      <td>70</td>\n",
       "      <td>2</td>\n",
       "    </tr>\n",
       "    <tr>\n",
       "      <th>2</th>\n",
       "      <td>14</td>\n",
       "      <td>2</td>\n",
       "    </tr>\n",
       "    <tr>\n",
       "      <th>3</th>\n",
       "      <td>4</td>\n",
       "      <td>2</td>\n",
       "    </tr>\n",
       "    <tr>\n",
       "      <th>4</th>\n",
       "      <td>2</td>\n",
       "      <td>15</td>\n",
       "    </tr>\n",
       "  </tbody>\n",
       "</table>\n",
       "</div>"
      ],
      "text/plain": [
       "   up  down\n",
       "0  15     0\n",
       "1  70     2\n",
       "2  14     2\n",
       "3   4     2\n",
       "4   2    15"
      ]
     },
     "execution_count": 102,
     "metadata": {},
     "output_type": "execute_result"
    }
   ],
   "source": [
    "comments.head()\n",
    "\n",
    "# Her bir satır bir yoruma denk gelmektedir ve o yorumun aldığı up-down değerlerini görmekteyiz."
   ]
  },
  {
   "cell_type": "code",
   "execution_count": 103,
   "id": "eea874ec",
   "metadata": {
    "execution": {
     "iopub.execute_input": "2023-11-13T13:56:04.538673Z",
     "iopub.status.busy": "2023-11-13T13:56:04.538238Z",
     "iopub.status.idle": "2023-11-13T13:56:04.548390Z",
     "shell.execute_reply": "2023-11-13T13:56:04.546670Z"
    },
    "papermill": {
     "duration": 0.082094,
     "end_time": "2023-11-13T13:56:04.551537",
     "exception": false,
     "start_time": "2023-11-13T13:56:04.469443",
     "status": "completed"
    },
    "tags": []
   },
   "outputs": [],
   "source": [
    "# score_pos_neg_diff\n",
    "\n",
    "comments[\"score_pos_neg_diff\"] = comments.apply(lambda x: score_up_down_diff(x[\"up\"],\n",
    "                                                                             x[\"down\"]), axis=1)"
   ]
  },
  {
   "cell_type": "code",
   "execution_count": 104,
   "id": "95fb5f1e",
   "metadata": {
    "execution": {
     "iopub.execute_input": "2023-11-13T13:56:04.692618Z",
     "iopub.status.busy": "2023-11-13T13:56:04.691450Z",
     "iopub.status.idle": "2023-11-13T13:56:04.698973Z",
     "shell.execute_reply": "2023-11-13T13:56:04.697839Z"
    },
    "papermill": {
     "duration": 0.082661,
     "end_time": "2023-11-13T13:56:04.702636",
     "exception": false,
     "start_time": "2023-11-13T13:56:04.619975",
     "status": "completed"
    },
    "tags": []
   },
   "outputs": [],
   "source": [
    "# score_average_rating\n",
    "\n",
    "comments[\"score_average_rating\"] = comments.apply(lambda x: score_average_rating(x[\"up\"], x[\"down\"]), axis=1)"
   ]
  },
  {
   "cell_type": "code",
   "execution_count": 105,
   "id": "d04ea037",
   "metadata": {
    "execution": {
     "iopub.execute_input": "2023-11-13T13:56:04.849189Z",
     "iopub.status.busy": "2023-11-13T13:56:04.848198Z",
     "iopub.status.idle": "2023-11-13T13:56:04.860477Z",
     "shell.execute_reply": "2023-11-13T13:56:04.859394Z"
    },
    "papermill": {
     "duration": 0.088378,
     "end_time": "2023-11-13T13:56:04.863155",
     "exception": false,
     "start_time": "2023-11-13T13:56:04.774777",
     "status": "completed"
    },
    "tags": []
   },
   "outputs": [],
   "source": [
    "# Wilson Lower Bound\n",
    "\n",
    "comments[\"wilson_lower_bound\"] = comments.apply(lambda x: wilson_lower_bound(x[\"up\"], x[\"down\"]), axis=1)"
   ]
  },
  {
   "cell_type": "code",
   "execution_count": 106,
   "id": "db213a86",
   "metadata": {
    "execution": {
     "iopub.execute_input": "2023-11-13T13:56:05.005460Z",
     "iopub.status.busy": "2023-11-13T13:56:05.004358Z",
     "iopub.status.idle": "2023-11-13T13:56:05.018555Z",
     "shell.execute_reply": "2023-11-13T13:56:05.017587Z"
    },
    "papermill": {
     "duration": 0.084767,
     "end_time": "2023-11-13T13:56:05.020926",
     "exception": false,
     "start_time": "2023-11-13T13:56:04.936159",
     "status": "completed"
    },
    "tags": []
   },
   "outputs": [
    {
     "data": {
      "text/html": [
       "<div>\n",
       "<style scoped>\n",
       "    .dataframe tbody tr th:only-of-type {\n",
       "        vertical-align: middle;\n",
       "    }\n",
       "\n",
       "    .dataframe tbody tr th {\n",
       "        vertical-align: top;\n",
       "    }\n",
       "\n",
       "    .dataframe thead th {\n",
       "        text-align: right;\n",
       "    }\n",
       "</style>\n",
       "<table border=\"1\" class=\"dataframe\">\n",
       "  <thead>\n",
       "    <tr style=\"text-align: right;\">\n",
       "      <th></th>\n",
       "      <th>up</th>\n",
       "      <th>down</th>\n",
       "      <th>score_pos_neg_diff</th>\n",
       "      <th>score_average_rating</th>\n",
       "      <th>wilson_lower_bound</th>\n",
       "    </tr>\n",
       "  </thead>\n",
       "  <tbody>\n",
       "    <tr>\n",
       "      <th>11</th>\n",
       "      <td>147</td>\n",
       "      <td>2</td>\n",
       "      <td>145</td>\n",
       "      <td>0.986577</td>\n",
       "      <td>0.952384</td>\n",
       "    </tr>\n",
       "    <tr>\n",
       "      <th>12</th>\n",
       "      <td>61</td>\n",
       "      <td>1</td>\n",
       "      <td>60</td>\n",
       "      <td>0.983871</td>\n",
       "      <td>0.914133</td>\n",
       "    </tr>\n",
       "    <tr>\n",
       "      <th>1</th>\n",
       "      <td>70</td>\n",
       "      <td>2</td>\n",
       "      <td>68</td>\n",
       "      <td>0.972222</td>\n",
       "      <td>0.904258</td>\n",
       "    </tr>\n",
       "    <tr>\n",
       "      <th>21</th>\n",
       "      <td>68</td>\n",
       "      <td>2</td>\n",
       "      <td>66</td>\n",
       "      <td>0.971429</td>\n",
       "      <td>0.901677</td>\n",
       "    </tr>\n",
       "    <tr>\n",
       "      <th>18</th>\n",
       "      <td>54</td>\n",
       "      <td>2</td>\n",
       "      <td>52</td>\n",
       "      <td>0.964286</td>\n",
       "      <td>0.878812</td>\n",
       "    </tr>\n",
       "    <tr>\n",
       "      <th>15</th>\n",
       "      <td>40</td>\n",
       "      <td>1</td>\n",
       "      <td>39</td>\n",
       "      <td>0.975610</td>\n",
       "      <td>0.874049</td>\n",
       "    </tr>\n",
       "    <tr>\n",
       "      <th>13</th>\n",
       "      <td>30</td>\n",
       "      <td>1</td>\n",
       "      <td>29</td>\n",
       "      <td>0.967742</td>\n",
       "      <td>0.838059</td>\n",
       "    </tr>\n",
       "    <tr>\n",
       "      <th>16</th>\n",
       "      <td>37</td>\n",
       "      <td>2</td>\n",
       "      <td>35</td>\n",
       "      <td>0.948718</td>\n",
       "      <td>0.831144</td>\n",
       "    </tr>\n",
       "    <tr>\n",
       "      <th>19</th>\n",
       "      <td>18</td>\n",
       "      <td>0</td>\n",
       "      <td>18</td>\n",
       "      <td>1.000000</td>\n",
       "      <td>0.824121</td>\n",
       "    </tr>\n",
       "    <tr>\n",
       "      <th>17</th>\n",
       "      <td>61</td>\n",
       "      <td>6</td>\n",
       "      <td>55</td>\n",
       "      <td>0.910448</td>\n",
       "      <td>0.818072</td>\n",
       "    </tr>\n",
       "  </tbody>\n",
       "</table>\n",
       "</div>"
      ],
      "text/plain": [
       "     up  down  score_pos_neg_diff  score_average_rating  wilson_lower_bound\n",
       "11  147     2                 145              0.986577            0.952384\n",
       "12   61     1                  60              0.983871            0.914133\n",
       "1    70     2                  68              0.972222            0.904258\n",
       "21   68     2                  66              0.971429            0.901677\n",
       "18   54     2                  52              0.964286            0.878812\n",
       "15   40     1                  39              0.975610            0.874049\n",
       "13   30     1                  29              0.967742            0.838059\n",
       "16   37     2                  35              0.948718            0.831144\n",
       "19   18     0                  18              1.000000            0.824121\n",
       "17   61     6                  55              0.910448            0.818072"
      ]
     },
     "execution_count": 106,
     "metadata": {},
     "output_type": "execute_result"
    }
   ],
   "source": [
    "comments.sort_values(\"wilson_lower_bound\", ascending=False).head(10)"
   ]
  },
  {
   "cell_type": "markdown",
   "id": "0bc4c30a",
   "metadata": {
    "papermill": {
     "duration": 0.065769,
     "end_time": "2023-11-13T13:56:05.152767",
     "exception": false,
     "start_time": "2023-11-13T13:56:05.086998",
     "status": "completed"
    },
    "tags": []
   },
   "source": [
    "<div style=\"border-radius:10px; border:#D0C2F0 solid; padding: 15px; background-color: #F8E8EE; font-size:100%; text-align:left\">\n",
    "\n",
    "<h3 align=\"left\"><font color='#5E5273'>👻 Analysis Results: </font></h3>\n",
    "    \n",
    "Bu kapsamlı Kaggle notebook'ta, özellikle ürün değerlendirmeleri ve ortalama puanlamaların incelenmesine odaklanarak içeriği değerlendirmek için çeşitli metodolojilere daldık. Zaman Temelli Ağırlıklı Ortalama, Kullanıcı Temelli Ağırlıklı Ortalama, Ağırlıklı Ortalama ve Bayesian Average Rating Score gibi gelişmiş teknikleri keşfettik ve bunların daha ince ve doğru değerlendirmeler sağlamadaki önemini vurguladık. Tartışma, ürünleri sıralamanın pratik yönlerine genişledi ve puanlama, yorum sayısı ve satın alma sayısı gibi faktörleri dikkate alarak bu konudaki karmaşık stratejilere odaklandı. Ayrıca, hibrid sıralama yöntemlerine de giriş yaptık ve IMDB Film Puanlama ve Sıralama gibi bilinen uygulamalardan görüşler çıkardık, içeriğin değerlendirilmesi için sofistike yaklaşımların önemini vurgulayarak.\n",
    "\n",
    "Notebook'un sonraki kısmında, kütüphanelerin ithalatından veri incelemeye ve vaka çalışmalarının sunumuna kadar pratik uygulamalara odaklandık. Özellikle Vote Average'a göre sıralama, IMDB Weighted Rating, Bayesian Average Rating Score (BAR Score) ve incelemeler ve kullanıcı etkileşimleri temelinde çeşitli sıralama stratejilerini inceledik. Ayrıca, Up-Down Difference Score, Average Rating (Up Ratio) ve Wilson Lower Bound Score gibi benzersiz skorlama yöntemlerini tanıttık, her biri içeriğin daha kapsamlı bir şekilde değerlendirilmesine katkıda bulunarak.\n",
    "\n",
    "Sonuç olarak, bu Kaggle notebook, derinlemesine bir içerik değerlendirme tekniğine yönelik ileri düzey bilgi arayan veri meraklıları ve analistler için değerli bir kaynak olarak hizmet ediyor. Teorik tartışmaları pratik vaka çalışmalarıyla birleştirerek, okuyuculara içeriği etkili bir şekilde değerlendirme yeteneklerini geliştirmeleri için çeşitli araç setleri sunuyor."
   ]
  }
 ],
 "metadata": {
  "kernelspec": {
   "display_name": "Python 3",
   "language": "python",
   "name": "python3"
  },
  "language_info": {
   "codemirror_mode": {
    "name": "ipython",
    "version": 3
   },
   "file_extension": ".py",
   "mimetype": "text/x-python",
   "name": "python",
   "nbconvert_exporter": "python",
   "pygments_lexer": "ipython3",
   "version": "3.10.12"
  },
  "papermill": {
   "default_parameters": {},
   "duration": 29.489898,
   "end_time": "2023-11-13T13:56:05.842796",
   "environment_variables": {},
   "exception": null,
   "input_path": "__notebook__.ipynb",
   "output_path": "__notebook__.ipynb",
   "parameters": {},
   "start_time": "2023-11-13T13:55:36.352898",
   "version": "2.4.0"
  }
 },
 "nbformat": 4,
 "nbformat_minor": 5
}
