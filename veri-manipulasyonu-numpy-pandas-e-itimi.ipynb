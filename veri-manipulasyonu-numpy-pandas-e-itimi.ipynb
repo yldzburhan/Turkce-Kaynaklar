{
 "cells": [
  {
   "cell_type": "markdown",
   "id": "2ea9e6cc",
   "metadata": {
    "_cell_guid": "b1076dfc-b9ad-4769-8c92-a6c4dae69d19",
    "_uuid": "8f2839f25d086af736a60e9eeb907d3b93b6e0e5",
    "papermill": {
     "duration": 0.059409,
     "end_time": "2023-10-11T14:44:12.831311",
     "exception": false,
     "start_time": "2023-10-11T14:44:12.771902",
     "status": "completed"
    },
    "tags": []
   },
   "source": [
    "<h1 style=\"background-color:#fbb714;font-family:courier;font-size:350%;font-style: oblique;font-weight: bold;font-variant: small-caps;text-align:center;border-radius: 15px 50px;\"> Veri Manipülasyonu: NumPy & Pandas Eğitimi  </h1>"
   ]
  },
  {
   "cell_type": "markdown",
   "id": "b450339b",
   "metadata": {
    "papermill": {
     "duration": 0.057396,
     "end_time": "2023-10-11T14:44:12.947261",
     "exception": false,
     "start_time": "2023-10-11T14:44:12.889865",
     "status": "completed"
    },
    "tags": []
   },
   "source": [
    "# Content:\n",
    "\n",
    "1. [NumPy](#1)\n",
    "    * [Giriş](#2)\n",
    "    * [Dizi Nedir?](#3)\n",
    "    * [Dizi Oluşturma](#4)\n",
    "    * [Dizi Özellikleri](#5)\n",
    "    * [ReShape: Yeniden Şekillendirme](#6)\n",
    "    * [Concatenation: Birleştirme](#7)\n",
    "    * [Splitting: Ayırma](#8)\n",
    "    * [Sorting: Sıralama](#9)\n",
    "    * [Indeks İşlemleri](#10)\n",
    "    * [Alt Kümelerde İşlem Yapma](#11)\n",
    "    * [Koşullu Eleman İşlemleri](#12)\n",
    "    * [Matematiksel İşlemler](#13)\n",
    "1. [Pandas](#14)\n",
    "    * [Giriş](#15)\n",
    "    * [Seri Oluşturma](#16)\n",
    "    * [DataFrame Oluşturma](#17)\n",
    "    * [DataFrame İşlemleri](#18)\n",
    "    * [loc - iloc Farkı](#19)\n",
    "    * [Koşullu Eleman İşlemleri](#20)\n",
    "    * [Birleştirme İşlemleri](#21)\n",
    "    * [Toplulaştırma ve Gruplama](#22)\n",
    "    * [Pivot Tablosu](#23)\n",
    "    * [Veri Okuma](#24)\n",
    "    * [Kural Tabanlı Sınıflandırma](#25)"
   ]
  },
  {
   "cell_type": "markdown",
   "id": "3edcc2e9",
   "metadata": {
    "papermill": {
     "duration": 0.057515,
     "end_time": "2023-10-11T14:44:13.062220",
     "exception": false,
     "start_time": "2023-10-11T14:44:13.004705",
     "status": "completed"
    },
    "tags": []
   },
   "source": [
    "<a id = \"1\"></a><br>\n",
    "<h1 style=\"background-color:#3d85c6;font-family:courier;font-size:300%;font-style: oblique;font-weight: bold;font-variant: small-caps;text-align:center;border-radius: 15px 50px;\"> NumPy </h1>"
   ]
  },
  {
   "cell_type": "markdown",
   "id": "c72a861f",
   "metadata": {
    "papermill": {
     "duration": 0.056529,
     "end_time": "2023-10-11T14:44:13.175225",
     "exception": false,
     "start_time": "2023-10-11T14:44:13.118696",
     "status": "completed"
    },
    "tags": []
   },
   "source": [
    "<a id = \"2\"></a><br>\n",
    "<h1 style=\"background-color:#98AFC7;font-family:courier;font-size:250%;font-style: oblique;font-weight: bold;font-variant: small-caps;text-align:center;border-radius: 15px 50px;\"> Giriş </h1>\n",
    "\n",
    "NumPy (Numerical Python), Python dilinde bilimsel hesaplamalar ve veri işleme için kullanılan güçlü bir kütüphanedir. NumPy, Python'da yüksek performanslı çok boyutlu diziler (arrays) ve matematiksel fonksiyonlar için temel veri yapısı olan ndarray (N-dimensional array) sağlar. Bu nedenle, NumPy, büyük miktarda veriyle çalışan bilimsel ve mühendislik uygulamalarında özellikle tercih edilen bir araçtır.\n",
    "\n",
    "NumPy'nin temel özellikleri şunlardır:\n",
    "\n",
    "* **Numpy Dizi:** NumPy, ndarray adı verilen çok boyutlu dizileri temel veri yapısı olarak kullanır. Bu çok boyutlu diziler, Python'ın yerleşik listelerinden daha hızlı ve daha verimli bir şekilde veri saklama ve işleme olanağı sağlar. Numpy array'leri, vektörler, matrisler ve daha karmaşık veri yapıları için kullanılabilir.\n",
    "\n",
    "* **Broadcasting:** NumPy'de broadcasting, farklı şekillere sahip array'ler üzerinde matematiksel işlemler yaparken, boyut uyumsuzluğu sorunlarını otomatik olarak ele alarak işlemi gerçekleştirmenizi sağlar. Bu, programlamayı daha kolay ve esnek hale getirir.\n",
    "\n",
    "* **Hızlı ve Verimli:** NumPy, C dilinde yazılmış alt seviye kodları kullanarak yüksek performanslı matematiksel işlemler gerçekleştirir. Bu, büyük veri kümeleri ve karmaşık matematiksel hesaplamalarla uğraşan uygulamalarda performans artışı sağlar.\n",
    "\n",
    "* **Matematiksel Fonksiyonlar:** NumPy, matematiksel fonksiyonlar, istatistik fonksiyonlar, rastgele sayı üretme, doğrusal cebir, integral ve türev alma gibi birçok matematiksel işlemi içeren kapsamlı bir matematik kütüphanesine sahiptir.\n",
    "\n",
    "* **Veri Dizisi İşlemleri:** NumPy, veri işleme ve manipülasyonu için zengin fonksiyonlara sahiptir. Veri dizileri üzerinde filtreleme, sıralama, yeniden şekillendirme, döndürme, birleştirme gibi işlemler yapabilirsiniz.\n",
    "\n",
    "NumPy, bilimsel hesaplamalardan veri analizine, makine öğrenmesinden görüntü işlemeye kadar birçok alanda yaygın olarak kullanılmaktadır. NumPy kütüphanesi, çoğu veri bilimci ve araştırmacının temel araçlarından biridir ve onlara güçlü ve hızlı bir şekilde veri manipülasyonu ve analizi yapma imkanı sağlar."
   ]
  },
  {
   "cell_type": "markdown",
   "id": "a5accca0",
   "metadata": {
    "papermill": {
     "duration": 0.055922,
     "end_time": "2023-10-11T14:44:13.287884",
     "exception": false,
     "start_time": "2023-10-11T14:44:13.231962",
     "status": "completed"
    },
    "tags": []
   },
   "source": [
    "<a id = \"3\"></a><br>\n",
    "<h1 style=\"background-color:#98AFC7;font-family:courier;font-size:250%;font-style: oblique;font-weight: bold;font-variant: small-caps;text-align:center;border-radius: 15px 50px;\"> Dizi Nedir? </h1>\n",
    "\n",
    "Bir dizi, aynı veri türündeki öğeleri bir araya getiren ve hepsini ardışık bir bellek bloğunda depolayan bir veri yapısıdır. Diziler, birden çok değeri veya veri öğesini tek bir isim altında tutmak için kullanılır. Bir dizideki her bir öğe, dizideki konumunu belirleyen bir indeks tarafından tanımlanır. Bu indeks, öğenin dizideki konumunu belirtmek için kullanılan bir tamsayı değeridir.\n",
    "\n",
    "Programlamada, diziler aynı türdeki verileri etkin bir şekilde depolamak ve erişmek için önemlidir. Çeşitli programlama dillerinde, veri koleksiyonlarıyla, matematiksel hesaplamalarla ve bilgileri düzenli bir yapıda düzenleme konusunda kullanılırlar.\n",
    "\n",
    "* Python'da farklı türde diziler vardır:\n",
    "\n",
    "    1. Listeler (Lists): Listeler, farklı veri türündeki öğeleri tutabilen Python'a özgü bir veri türüdür. Esnek yapıları sayesinde, heterojen veri koleksiyonlarını ele almak için uygundurlar.\n",
    "\n",
    "    2. NumPy Dizileri (NumPy Arrays): NumPy dizileri, NumPy kütüphanesi tarafından sağlanan bir veri yapısıdır. Python listelerinin aksine, NumPy dizileri homojen verileri depolar ve büyük miktarda sayısal veriyi etkin bir şekilde işleyebilirler. Bilimsel hesaplamalar, veri analizi ve sayısal işlemler için yaygın olarak kullanılırlar.\n",
    "\n",
    "* Dizilerin birçok avantajı vardır:\n",
    "\n",
    "    * Verimli bellek kullanımı: Diziler, öğeleri ardışık bellek konumlarında depolar, bu nedenle bellek kullanımını azaltır ve öğelere hızlı erişime olanak sağlar.\n",
    "\n",
    "    * Hızlı öğe erişimi: Dizilerdeki öğelere doğrudan indeks kullanarak erişilebilir, bu nedenle diğer veri yapılarında öğe aramaktan daha hızlıdır.\n",
    "\n",
    "    * Verimli matematiksel işlemler: Diziler, vektörleştirilmiş işlemlere olanak tanır, bu da matematiksel işlemlerin tüm dizilerde aynı anda gerçekleştirilmesini sağlar ve sayısal hesaplamalar için performansı artırır.\n",
    "\n",
    "    * Basit veri manipülasyonu: Diziler, gelişmiş indeksleme ve dilimleme tekniklerini destekler, bu nedenle veri alt kümelerini çıkarmak veya belirli öğelerde işlemler yapmak kolaydır.\n",
    "\n",
    "    * Daha iyi performans: Birden çok öğede aynı anda işlem yapabilme yeteneği ve dizilerin verimli bellek düzeni, genel performansı artırır.\n",
    "    \n",
    "Özetle, bir dizi, aynı veri türündeki öğeleri ardışık bir bellek bloğunda depolayan bir veri yapısıdır. Verimli bellek kullanımı, hızlı öğe erişimi ve matematiksel işlemlere olanak sağlaması gibi avantajları, programlama ve veri manipülasyon işlemlerinde temel bir araç haline gelmesini sağlar."
   ]
  },
  {
   "cell_type": "markdown",
   "id": "dffd6f8d",
   "metadata": {
    "papermill": {
     "duration": 0.05684,
     "end_time": "2023-10-11T14:44:13.400710",
     "exception": false,
     "start_time": "2023-10-11T14:44:13.343870",
     "status": "completed"
    },
    "tags": []
   },
   "source": [
    "<a id = \"4\"></a><br>\n",
    "<h1 style=\"background-color:#98AFC7;font-family:courier;font-size:250%;font-style: oblique;font-weight: bold;font-variant: small-caps;text-align:center;border-radius: 15px 50px;\"> Dizi Oluşturma </h1>\n",
    "\n",
    "NumPy dizisi oluşturmak için numpy.array() fonksiyonunu veya belirli diziler oluşturan diğer NumPy fonksiyonlarını kullanabilirsiniz. \n",
    "\n",
    "NumPy dizileri oluşturmanın bazı yaygın yöntemleri:"
   ]
  },
  {
   "cell_type": "markdown",
   "id": "cff53879",
   "metadata": {
    "papermill": {
     "duration": 0.057226,
     "end_time": "2023-10-11T14:44:13.515199",
     "exception": false,
     "start_time": "2023-10-11T14:44:13.457973",
     "status": "completed"
    },
    "tags": []
   },
   "source": [
    "* **numpy.array()** fonksiyonu ile oluşturma: NumPy dizisi oluşturmak için Python listesi veya tuple'ını numpy.array() fonksiyonuna geçirebilirsiniz."
   ]
  },
  {
   "cell_type": "code",
   "execution_count": 1,
   "id": "7ebe65b9",
   "metadata": {
    "execution": {
     "iopub.execute_input": "2023-10-11T14:44:13.632056Z",
     "iopub.status.busy": "2023-10-11T14:44:13.631288Z",
     "iopub.status.idle": "2023-10-11T14:44:13.644669Z",
     "shell.execute_reply": "2023-10-11T14:44:13.643889Z"
    },
    "papermill": {
     "duration": 0.073793,
     "end_time": "2023-10-11T14:44:13.646494",
     "exception": false,
     "start_time": "2023-10-11T14:44:13.572701",
     "status": "completed"
    },
    "tags": []
   },
   "outputs": [
    {
     "name": "stdout",
     "output_type": "stream",
     "text": [
      "[1 2 3 4 5]\n"
     ]
    }
   ],
   "source": [
    "import numpy as np\n",
    "\n",
    "# Listeden dizi oluşturma:\n",
    "\n",
    "data_list = [1, 2, 3, 4, 5]\n",
    "numpy_dizi = np.array(data_list)\n",
    "\n",
    "print(numpy_dizi)"
   ]
  },
  {
   "cell_type": "code",
   "execution_count": 2,
   "id": "9337d807",
   "metadata": {
    "execution": {
     "iopub.execute_input": "2023-10-11T14:44:13.766805Z",
     "iopub.status.busy": "2023-10-11T14:44:13.766243Z",
     "iopub.status.idle": "2023-10-11T14:44:13.771683Z",
     "shell.execute_reply": "2023-10-11T14:44:13.770652Z"
    },
    "papermill": {
     "duration": 0.069744,
     "end_time": "2023-10-11T14:44:13.773663",
     "exception": false,
     "start_time": "2023-10-11T14:44:13.703919",
     "status": "completed"
    },
    "tags": []
   },
   "outputs": [
    {
     "name": "stdout",
     "output_type": "stream",
     "text": [
      "[ 6  7  8  9 10]\n"
     ]
    }
   ],
   "source": [
    "# Tuple'dan dizi oluşturma:\n",
    "\n",
    "data_tuple = (6, 7, 8, 9, 10)\n",
    "numpy_dizi = np.array(data_tuple)\n",
    "\n",
    "print(numpy_dizi)"
   ]
  },
  {
   "cell_type": "code",
   "execution_count": 3,
   "id": "da89da5d",
   "metadata": {
    "execution": {
     "iopub.execute_input": "2023-10-11T14:44:13.892229Z",
     "iopub.status.busy": "2023-10-11T14:44:13.891626Z",
     "iopub.status.idle": "2023-10-11T14:44:13.897604Z",
     "shell.execute_reply": "2023-10-11T14:44:13.896667Z"
    },
    "papermill": {
     "duration": 0.0685,
     "end_time": "2023-10-11T14:44:13.899350",
     "exception": false,
     "start_time": "2023-10-11T14:44:13.830850",
     "status": "completed"
    },
    "tags": []
   },
   "outputs": [
    {
     "data": {
      "text/plain": [
       "numpy.ndarray"
      ]
     },
     "execution_count": 3,
     "metadata": {},
     "output_type": "execute_result"
    }
   ],
   "source": [
    "type(numpy_dizi)"
   ]
  },
  {
   "cell_type": "markdown",
   "id": "5fbce50d",
   "metadata": {
    "papermill": {
     "duration": 0.057024,
     "end_time": "2023-10-11T14:44:14.013349",
     "exception": false,
     "start_time": "2023-10-11T14:44:13.956325",
     "status": "completed"
    },
    "tags": []
   },
   "source": [
    "* NumPy fonksiyonları ile oluşturma: NumPy, **numpy.zeros(), numpy.ones(), numpy.arange()** gibi belirli değerlerle diziler oluşturan fonksiyonlar sağlar."
   ]
  },
  {
   "cell_type": "code",
   "execution_count": 4,
   "id": "5c84106e",
   "metadata": {
    "execution": {
     "iopub.execute_input": "2023-10-11T14:44:14.128340Z",
     "iopub.status.busy": "2023-10-11T14:44:14.127694Z",
     "iopub.status.idle": "2023-10-11T14:44:14.132929Z",
     "shell.execute_reply": "2023-10-11T14:44:14.131916Z"
    },
    "papermill": {
     "duration": 0.065162,
     "end_time": "2023-10-11T14:44:14.134709",
     "exception": false,
     "start_time": "2023-10-11T14:44:14.069547",
     "status": "completed"
    },
    "tags": []
   },
   "outputs": [
    {
     "name": "stdout",
     "output_type": "stream",
     "text": [
      "[0. 0. 0. 0. 0.]\n"
     ]
    }
   ],
   "source": [
    "# Sıfırlardan oluşan dizi oluşturma:\n",
    "\n",
    "sifir_dizi = np.zeros(5)\n",
    "\n",
    "print(sifir_dizi)"
   ]
  },
  {
   "cell_type": "code",
   "execution_count": 5,
   "id": "b34f00dd",
   "metadata": {
    "execution": {
     "iopub.execute_input": "2023-10-11T14:44:14.249332Z",
     "iopub.status.busy": "2023-10-11T14:44:14.248249Z",
     "iopub.status.idle": "2023-10-11T14:44:14.255004Z",
     "shell.execute_reply": "2023-10-11T14:44:14.253961Z"
    },
    "papermill": {
     "duration": 0.065964,
     "end_time": "2023-10-11T14:44:14.256788",
     "exception": false,
     "start_time": "2023-10-11T14:44:14.190824",
     "status": "completed"
    },
    "tags": []
   },
   "outputs": [
    {
     "name": "stdout",
     "output_type": "stream",
     "text": [
      "[1. 1. 1.]\n"
     ]
    }
   ],
   "source": [
    "# Birlerden oluşan dizi oluşturma:\n",
    "\n",
    "bir_dizi = np.ones(3)\n",
    "\n",
    "print(bir_dizi)"
   ]
  },
  {
   "cell_type": "code",
   "execution_count": 6,
   "id": "1bcdcf0c",
   "metadata": {
    "execution": {
     "iopub.execute_input": "2023-10-11T14:44:14.373424Z",
     "iopub.status.busy": "2023-10-11T14:44:14.372779Z",
     "iopub.status.idle": "2023-10-11T14:44:14.377954Z",
     "shell.execute_reply": "2023-10-11T14:44:14.376825Z"
    },
    "papermill": {
     "duration": 0.066114,
     "end_time": "2023-10-11T14:44:14.380064",
     "exception": false,
     "start_time": "2023-10-11T14:44:14.313950",
     "status": "completed"
    },
    "tags": []
   },
   "outputs": [
    {
     "name": "stdout",
     "output_type": "stream",
     "text": [
      "[1 2 3 4 5]\n"
     ]
    }
   ],
   "source": [
    "# Belirli aralıktaki değerlerle dizi oluşturma:\n",
    "\n",
    "aralik_dizi = np.arange(1, 6)\n",
    "\n",
    "print(aralik_dizi)"
   ]
  },
  {
   "cell_type": "markdown",
   "id": "04c763cf",
   "metadata": {
    "papermill": {
     "duration": 0.057024,
     "end_time": "2023-10-11T14:44:14.495442",
     "exception": false,
     "start_time": "2023-10-11T14:44:14.438418",
     "status": "completed"
    },
    "tags": []
   },
   "source": [
    "* Rastgele sayı üretimi ile oluşturma: NumPy, **numpy.random** modülü ile rastgele değerlerle diziler oluşturan fonksiyonlar sağlar."
   ]
  },
  {
   "cell_type": "code",
   "execution_count": 7,
   "id": "1ceaa805",
   "metadata": {
    "execution": {
     "iopub.execute_input": "2023-10-11T14:44:14.611519Z",
     "iopub.status.busy": "2023-10-11T14:44:14.610879Z",
     "iopub.status.idle": "2023-10-11T14:44:14.616597Z",
     "shell.execute_reply": "2023-10-11T14:44:14.615714Z"
    },
    "papermill": {
     "duration": 0.065703,
     "end_time": "2023-10-11T14:44:14.618459",
     "exception": false,
     "start_time": "2023-10-11T14:44:14.552756",
     "status": "completed"
    },
    "tags": []
   },
   "outputs": [
    {
     "name": "stdout",
     "output_type": "stream",
     "text": [
      "[0.80024322 0.52050475 0.50149241 0.84615294 0.04385201 0.38444502]\n"
     ]
    }
   ],
   "source": [
    "# 0 ile 1 arasında rastgele değerlerle dizi oluşturma:\n",
    "\n",
    "rastgele_dizi = np.random.random(6)\n",
    "\n",
    "print(rastgele_dizi)"
   ]
  },
  {
   "cell_type": "markdown",
   "id": "cec7112e",
   "metadata": {
    "papermill": {
     "duration": 0.056275,
     "end_time": "2023-10-11T14:44:14.731450",
     "exception": false,
     "start_time": "2023-10-11T14:44:14.675175",
     "status": "completed"
    },
    "tags": []
   },
   "source": [
    "* **randint()** metodu, NumPy kütüphanesinin **numpy.random** modülü altında bulunan bir fonksiyondur. Bu metod, rastgele tamsayılar içeren bir NumPy dizisi oluşturmak için kullanılır."
   ]
  },
  {
   "cell_type": "code",
   "execution_count": 8,
   "id": "e845449b",
   "metadata": {
    "execution": {
     "iopub.execute_input": "2023-10-11T14:44:14.915220Z",
     "iopub.status.busy": "2023-10-11T14:44:14.914603Z",
     "iopub.status.idle": "2023-10-11T14:44:14.923070Z",
     "shell.execute_reply": "2023-10-11T14:44:14.921881Z"
    },
    "papermill": {
     "duration": 0.132959,
     "end_time": "2023-10-11T14:44:14.924984",
     "exception": false,
     "start_time": "2023-10-11T14:44:14.792025",
     "status": "completed"
    },
    "tags": []
   },
   "outputs": [
    {
     "name": "stdout",
     "output_type": "stream",
     "text": [
      "[10  1  3 10 10]\n",
      "[[69 99 76]\n",
      " [91 38 50]\n",
      " [31 85 81]]\n"
     ]
    }
   ],
   "source": [
    "import numpy as np\n",
    "\n",
    "# 1 ile 10 arasında rastgele tamsayılardan oluşan 1 boyutlu bir dizi oluşturma:\n",
    "\n",
    "random_array = np.random.randint(1, 11, size=5)\n",
    "print(random_array)\n",
    "# Örnek Çıktı: [4 8 2 9 1]\n",
    "\n",
    "# 1 ile 100 arasında rastgele tamsayılardan oluşan 2 boyutlu bir dizi oluşturma (3x3):\n",
    "\n",
    "random_matrix = np.random.randint(1, 101, size=(3, 3))\n",
    "print(random_matrix)\n",
    "# Örnek Çıktı:\n",
    "# [[36 27  9]\n",
    "#  [34  1 53]\n",
    "#  [97 77 95]]\n"
   ]
  },
  {
   "cell_type": "markdown",
   "id": "57755ce1",
   "metadata": {
    "papermill": {
     "duration": 0.056707,
     "end_time": "2023-10-11T14:44:15.039068",
     "exception": false,
     "start_time": "2023-10-11T14:44:14.982361",
     "status": "completed"
    },
    "tags": []
   },
   "source": [
    "* Diğer NumPy fonksiyonları ile oluşturma: NumPy, **numpy.linspace(), numpy.full(),** gibi belirli özelliklere sahip diziler oluşturan fonksiyonlar sağlar."
   ]
  },
  {
   "cell_type": "code",
   "execution_count": 9,
   "id": "401535fd",
   "metadata": {
    "execution": {
     "iopub.execute_input": "2023-10-11T14:44:15.155754Z",
     "iopub.status.busy": "2023-10-11T14:44:15.155039Z",
     "iopub.status.idle": "2023-10-11T14:44:15.161135Z",
     "shell.execute_reply": "2023-10-11T14:44:15.160049Z"
    },
    "papermill": {
     "duration": 0.066675,
     "end_time": "2023-10-11T14:44:15.162850",
     "exception": false,
     "start_time": "2023-10-11T14:44:15.096175",
     "status": "completed"
    },
    "tags": []
   },
   "outputs": [
    {
     "name": "stdout",
     "output_type": "stream",
     "text": [
      "[0.   0.25 0.5  0.75 1.  ]\n"
     ]
    }
   ],
   "source": [
    "# Eşit aralıklı değerlerle dizi oluşturma:\n",
    "\n",
    "aralik_dizi = np.linspace(0, 1, num=5)\n",
    "\n",
    "print(aralik_dizi)"
   ]
  },
  {
   "cell_type": "code",
   "execution_count": 10,
   "id": "cf1cb4da",
   "metadata": {
    "execution": {
     "iopub.execute_input": "2023-10-11T14:44:15.279433Z",
     "iopub.status.busy": "2023-10-11T14:44:15.278749Z",
     "iopub.status.idle": "2023-10-11T14:44:15.284713Z",
     "shell.execute_reply": "2023-10-11T14:44:15.283677Z"
    },
    "papermill": {
     "duration": 0.0663,
     "end_time": "2023-10-11T14:44:15.286361",
     "exception": false,
     "start_time": "2023-10-11T14:44:15.220061",
     "status": "completed"
    },
    "tags": []
   },
   "outputs": [
    {
     "name": "stdout",
     "output_type": "stream",
     "text": [
      "[[5 5]\n",
      " [5 5]]\n"
     ]
    }
   ],
   "source": [
    "# Belirli bir değerle 2x2'lik dizi oluşturma (örn. 5 ile):\n",
    "\n",
    "dolu_dizi = np.full((2, 2), 5)\n",
    "\n",
    "print(dolu_dizi)"
   ]
  },
  {
   "cell_type": "markdown",
   "id": "5a68e799",
   "metadata": {
    "papermill": {
     "duration": 0.056738,
     "end_time": "2023-10-11T14:44:15.400652",
     "exception": false,
     "start_time": "2023-10-11T14:44:15.343914",
     "status": "completed"
    },
    "tags": []
   },
   "source": [
    "<a id = \"5\"></a><br>\n",
    "<h1 style=\"background-color:#98AFC7;font-family:courier;font-size:250%;font-style: oblique;font-weight: bold;font-variant: small-caps;text-align:center;border-radius: 15px 50px;\"> Dizi Özellikleri </h1>\n",
    "\n",
    "* **ndim:**  NumPy'da yer alan ve bir NumPy dizisinin boyutlarının (eksenlerin) sayısını belirlemek için kullanılan yerleşik bir işlevdir. Bu yöntem, dizinin boyutları hakkında bilgi sağlar. ndim yöntemi bir NumPy dizisine çağrılır ve herhangi bir argüman almaz. Dizinin boyutlarının sayısını temsil eden bir tamsayı değeri döndürür.\n",
    "\n",
    "* **shape:** bir NumPy dizisinin şeklini belirlemek için kullanılan yerleşik bir fonksiyondur. Bu yöntem, dizinin boyutları ve büyüklüğü hakkında bilgi sağlar. shape yöntemi, bir NumPy dizisine çağrılır ve herhangi bir argüman almaz. Dizinin her bir ekseni boyunca boyutları temsil eden tamsayılar içeren bir demet (tuple) döndürür.\n",
    "\n",
    "* **size:** bir NumPy dizisinin boyutunu almak için, size özniteliğini yöntem olarak çağırmadan kullanabilirsiniz. Bu, dizideki toplam eleman sayısını temsil eden bir tamsayı değeri döndürür.\n",
    "\n",
    "* **dtype:** NumPy'da bir NumPy dizisindeki öğelerin veri türünü belirlemek için kullanılan yerleşik bir işlevdir. Dizideki verilerin tipini belirten bilgi sağlar. dtype yöntemi, bir NumPy dizisine çağrılır ve herhangi bir argüman almaz. Dizideki öğelerin veri türünü temsil eden bir NumPy veri türü nesnesi döndürür. NumPy veri tipleri arasında tamsayılar, kayan noktalı sayılar, karmaşık sayılar ve diğer özel veri tipleri bulunur."
   ]
  },
  {
   "cell_type": "code",
   "execution_count": 11,
   "id": "3693efc1",
   "metadata": {
    "execution": {
     "iopub.execute_input": "2023-10-11T14:44:15.517400Z",
     "iopub.status.busy": "2023-10-11T14:44:15.517073Z",
     "iopub.status.idle": "2023-10-11T14:44:15.522907Z",
     "shell.execute_reply": "2023-10-11T14:44:15.521794Z"
    },
    "papermill": {
     "duration": 0.066858,
     "end_time": "2023-10-11T14:44:15.524928",
     "exception": false,
     "start_time": "2023-10-11T14:44:15.458070",
     "status": "completed"
    },
    "tags": []
   },
   "outputs": [
    {
     "name": "stdout",
     "output_type": "stream",
     "text": [
      "1\n"
     ]
    }
   ],
   "source": [
    "import numpy as np\n",
    "\n",
    "# 1D NumPy dizisi:\n",
    "\n",
    "arr_1d = np.array([1, 2, 3, 4, 5])\n",
    "\n",
    "print(arr_1d.ndim)"
   ]
  },
  {
   "cell_type": "code",
   "execution_count": 12,
   "id": "40b1c5f8",
   "metadata": {
    "execution": {
     "iopub.execute_input": "2023-10-11T14:44:15.643540Z",
     "iopub.status.busy": "2023-10-11T14:44:15.643167Z",
     "iopub.status.idle": "2023-10-11T14:44:15.648418Z",
     "shell.execute_reply": "2023-10-11T14:44:15.647415Z"
    },
    "papermill": {
     "duration": 0.066212,
     "end_time": "2023-10-11T14:44:15.650775",
     "exception": false,
     "start_time": "2023-10-11T14:44:15.584563",
     "status": "completed"
    },
    "tags": []
   },
   "outputs": [
    {
     "name": "stdout",
     "output_type": "stream",
     "text": [
      "2\n"
     ]
    }
   ],
   "source": [
    "# 2D NumPy dizisi (matris):\n",
    "\n",
    "arr_2d = np.array([[1, 2, 3], [4, 5, 6]])\n",
    "\n",
    "print(arr_2d.ndim)"
   ]
  },
  {
   "cell_type": "code",
   "execution_count": 13,
   "id": "3e87865e",
   "metadata": {
    "execution": {
     "iopub.execute_input": "2023-10-11T14:44:15.770051Z",
     "iopub.status.busy": "2023-10-11T14:44:15.769412Z",
     "iopub.status.idle": "2023-10-11T14:44:15.775670Z",
     "shell.execute_reply": "2023-10-11T14:44:15.774578Z"
    },
    "papermill": {
     "duration": 0.069366,
     "end_time": "2023-10-11T14:44:15.777609",
     "exception": false,
     "start_time": "2023-10-11T14:44:15.708243",
     "status": "completed"
    },
    "tags": []
   },
   "outputs": [
    {
     "name": "stdout",
     "output_type": "stream",
     "text": [
      "3\n"
     ]
    }
   ],
   "source": [
    "# 3D NumPy dizisi (3 boyutlu tensör):\n",
    "\n",
    "arr_3d = np.array([[[1, 2], [3, 4]], [[5, 6], [7, 8]]])\n",
    "\n",
    "print(arr_3d.ndim)"
   ]
  },
  {
   "cell_type": "code",
   "execution_count": 14,
   "id": "629aff4f",
   "metadata": {
    "execution": {
     "iopub.execute_input": "2023-10-11T14:44:15.896612Z",
     "iopub.status.busy": "2023-10-11T14:44:15.896241Z",
     "iopub.status.idle": "2023-10-11T14:44:15.902081Z",
     "shell.execute_reply": "2023-10-11T14:44:15.900998Z"
    },
    "papermill": {
     "duration": 0.068432,
     "end_time": "2023-10-11T14:44:15.904297",
     "exception": false,
     "start_time": "2023-10-11T14:44:15.835865",
     "status": "completed"
    },
    "tags": []
   },
   "outputs": [
    {
     "name": "stdout",
     "output_type": "stream",
     "text": [
      "(5,)\n"
     ]
    }
   ],
   "source": [
    "# 1D NumPy dizisi:\n",
    "\n",
    "arr_1d = np.array([1, 2, 3, 4, 5])\n",
    "\n",
    "print(arr_1d.shape)"
   ]
  },
  {
   "cell_type": "code",
   "execution_count": 15,
   "id": "bdf39627",
   "metadata": {
    "execution": {
     "iopub.execute_input": "2023-10-11T14:44:16.025444Z",
     "iopub.status.busy": "2023-10-11T14:44:16.025085Z",
     "iopub.status.idle": "2023-10-11T14:44:16.030016Z",
     "shell.execute_reply": "2023-10-11T14:44:16.029305Z"
    },
    "papermill": {
     "duration": 0.067087,
     "end_time": "2023-10-11T14:44:16.031814",
     "exception": false,
     "start_time": "2023-10-11T14:44:15.964727",
     "status": "completed"
    },
    "tags": []
   },
   "outputs": [
    {
     "name": "stdout",
     "output_type": "stream",
     "text": [
      "(2, 3)\n"
     ]
    }
   ],
   "source": [
    "# 2D NumPy dizisi (matris):\n",
    "\n",
    "arr_2d = np.array([[1, 2, 3], [4, 5, 6]])\n",
    "\n",
    "print(arr_2d.shape)"
   ]
  },
  {
   "cell_type": "code",
   "execution_count": 16,
   "id": "0bdd2f32",
   "metadata": {
    "execution": {
     "iopub.execute_input": "2023-10-11T14:44:16.150890Z",
     "iopub.status.busy": "2023-10-11T14:44:16.150154Z",
     "iopub.status.idle": "2023-10-11T14:44:16.156338Z",
     "shell.execute_reply": "2023-10-11T14:44:16.155058Z"
    },
    "papermill": {
     "duration": 0.067722,
     "end_time": "2023-10-11T14:44:16.158294",
     "exception": false,
     "start_time": "2023-10-11T14:44:16.090572",
     "status": "completed"
    },
    "tags": []
   },
   "outputs": [
    {
     "name": "stdout",
     "output_type": "stream",
     "text": [
      "(2, 2, 2)\n"
     ]
    }
   ],
   "source": [
    "# 3D NumPy dizisi (3-boyutlu tensör):\n",
    "\n",
    "arr_3d = np.array([[[1, 2], [3, 4]], [[5, 6], [7, 8]]])\n",
    "\n",
    "print(arr_3d.shape)"
   ]
  },
  {
   "cell_type": "markdown",
   "id": "b6865cbf",
   "metadata": {
    "papermill": {
     "duration": 0.058146,
     "end_time": "2023-10-11T14:44:16.275364",
     "exception": false,
     "start_time": "2023-10-11T14:44:16.217218",
     "status": "completed"
    },
    "tags": []
   },
   "source": [
    "* Bu, arr_3d dizisinin üç boyutlu olduğunu ve her boyutta sırasıyla 2, 2 ve 2 öğe içerdiğini gösterir. Yani, bu dizi toplamda 2 x 2 x 2 = 8 öğe içerir."
   ]
  },
  {
   "cell_type": "code",
   "execution_count": 17,
   "id": "f5cc6aa8",
   "metadata": {
    "execution": {
     "iopub.execute_input": "2023-10-11T14:44:16.395426Z",
     "iopub.status.busy": "2023-10-11T14:44:16.395033Z",
     "iopub.status.idle": "2023-10-11T14:44:16.399953Z",
     "shell.execute_reply": "2023-10-11T14:44:16.399169Z"
    },
    "papermill": {
     "duration": 0.067894,
     "end_time": "2023-10-11T14:44:16.402432",
     "exception": false,
     "start_time": "2023-10-11T14:44:16.334538",
     "status": "completed"
    },
    "tags": []
   },
   "outputs": [
    {
     "name": "stdout",
     "output_type": "stream",
     "text": [
      "5\n"
     ]
    }
   ],
   "source": [
    "# 1D NumPy dizisi oluşturma:\n",
    "\n",
    "arr_1d = np.array([1, 2, 3, 4, 5])\n",
    "\n",
    "print(arr_1d.size)"
   ]
  },
  {
   "cell_type": "code",
   "execution_count": 18,
   "id": "a28bb222",
   "metadata": {
    "execution": {
     "iopub.execute_input": "2023-10-11T14:44:16.520496Z",
     "iopub.status.busy": "2023-10-11T14:44:16.520128Z",
     "iopub.status.idle": "2023-10-11T14:44:16.525191Z",
     "shell.execute_reply": "2023-10-11T14:44:16.524482Z"
    },
    "papermill": {
     "duration": 0.066253,
     "end_time": "2023-10-11T14:44:16.527165",
     "exception": false,
     "start_time": "2023-10-11T14:44:16.460912",
     "status": "completed"
    },
    "tags": []
   },
   "outputs": [
    {
     "name": "stdout",
     "output_type": "stream",
     "text": [
      "6\n"
     ]
    }
   ],
   "source": [
    "# 2D NumPy dizisi oluşturma:\n",
    "\n",
    "arr_2d = np.array([[1, 2, 3], [4, 5, 6]])\n",
    "\n",
    "print(arr_2d.size)"
   ]
  },
  {
   "cell_type": "code",
   "execution_count": 19,
   "id": "e19daf2f",
   "metadata": {
    "execution": {
     "iopub.execute_input": "2023-10-11T14:44:16.646155Z",
     "iopub.status.busy": "2023-10-11T14:44:16.645775Z",
     "iopub.status.idle": "2023-10-11T14:44:16.651603Z",
     "shell.execute_reply": "2023-10-11T14:44:16.650499Z"
    },
    "papermill": {
     "duration": 0.067288,
     "end_time": "2023-10-11T14:44:16.653279",
     "exception": false,
     "start_time": "2023-10-11T14:44:16.585991",
     "status": "completed"
    },
    "tags": []
   },
   "outputs": [
    {
     "name": "stdout",
     "output_type": "stream",
     "text": [
      "8\n"
     ]
    }
   ],
   "source": [
    "# 3D NumPy dizisi oluşturma:\n",
    "\n",
    "arr_3d = np.array([[[1, 2], [3, 4]], [[5, 6], [7, 8]]])\n",
    "\n",
    "print(arr_3d.size)"
   ]
  },
  {
   "cell_type": "code",
   "execution_count": 20,
   "id": "739c74bb",
   "metadata": {
    "execution": {
     "iopub.execute_input": "2023-10-11T14:44:16.773219Z",
     "iopub.status.busy": "2023-10-11T14:44:16.772910Z",
     "iopub.status.idle": "2023-10-11T14:44:16.777730Z",
     "shell.execute_reply": "2023-10-11T14:44:16.776708Z"
    },
    "papermill": {
     "duration": 0.068352,
     "end_time": "2023-10-11T14:44:16.779900",
     "exception": false,
     "start_time": "2023-10-11T14:44:16.711548",
     "status": "completed"
    },
    "tags": []
   },
   "outputs": [
    {
     "name": "stdout",
     "output_type": "stream",
     "text": [
      "int64\n"
     ]
    }
   ],
   "source": [
    "# Tamsayılarla bir NumPy dizisi oluşturma:\n",
    "\n",
    "arr_int = np.array([1, 2, 3, 4, 5])\n",
    "\n",
    "print(arr_int.dtype)"
   ]
  },
  {
   "cell_type": "code",
   "execution_count": 21,
   "id": "09df8cd8",
   "metadata": {
    "execution": {
     "iopub.execute_input": "2023-10-11T14:44:16.899026Z",
     "iopub.status.busy": "2023-10-11T14:44:16.898608Z",
     "iopub.status.idle": "2023-10-11T14:44:16.904375Z",
     "shell.execute_reply": "2023-10-11T14:44:16.903129Z"
    },
    "papermill": {
     "duration": 0.067499,
     "end_time": "2023-10-11T14:44:16.906364",
     "exception": false,
     "start_time": "2023-10-11T14:44:16.838865",
     "status": "completed"
    },
    "tags": []
   },
   "outputs": [
    {
     "name": "stdout",
     "output_type": "stream",
     "text": [
      "float64\n"
     ]
    }
   ],
   "source": [
    "# Ondalıklı sayılarla bir NumPy dizisi oluşturma:\n",
    "\n",
    "arr_float = np.array([1.1, 2.2, 3.3])\n",
    "\n",
    "print(arr_float.dtype)"
   ]
  },
  {
   "cell_type": "code",
   "execution_count": 22,
   "id": "30ea518e",
   "metadata": {
    "execution": {
     "iopub.execute_input": "2023-10-11T14:44:17.025396Z",
     "iopub.status.busy": "2023-10-11T14:44:17.025045Z",
     "iopub.status.idle": "2023-10-11T14:44:17.030282Z",
     "shell.execute_reply": "2023-10-11T14:44:17.029322Z"
    },
    "papermill": {
     "duration": 0.066952,
     "end_time": "2023-10-11T14:44:17.031971",
     "exception": false,
     "start_time": "2023-10-11T14:44:16.965019",
     "status": "completed"
    },
    "tags": []
   },
   "outputs": [
    {
     "name": "stdout",
     "output_type": "stream",
     "text": [
      "complex128\n"
     ]
    }
   ],
   "source": [
    "# Karmaşık sayılarla bir NumPy dizisi oluşturma:\n",
    "\n",
    "arr_complex = np.array([1 + 2j, 3 + 4j])\n",
    "\n",
    "print(arr_complex.dtype)"
   ]
  },
  {
   "cell_type": "markdown",
   "id": "fb9a5765",
   "metadata": {
    "papermill": {
     "duration": 0.058893,
     "end_time": "2023-10-11T14:44:17.149015",
     "exception": false,
     "start_time": "2023-10-11T14:44:17.090122",
     "status": "completed"
    },
    "tags": []
   },
   "source": [
    "* Dizideki öğelerin veri türü 128-bit karmaşık sayıdır."
   ]
  },
  {
   "cell_type": "markdown",
   "id": "bc80be1d",
   "metadata": {
    "papermill": {
     "duration": 0.057975,
     "end_time": "2023-10-11T14:44:17.265767",
     "exception": false,
     "start_time": "2023-10-11T14:44:17.207792",
     "status": "completed"
    },
    "tags": []
   },
   "source": [
    "<a id = \"6\"></a><br>\n",
    "<h1 style=\"background-color:#98AFC7;font-family:courier;font-size:250%;font-style: oblique;font-weight: bold;font-variant: small-caps;text-align:center;border-radius: 15px 50px;\"> ReShape: Yeniden Şekillendirme </h1>\n",
    "\n",
    "NumPy'da **reshape()** yöntemi, bir NumPy dizisinin şeklini değiştirmek ve veriyi değiştirmeden yeni bir şekle dönüştürmek için kullanılır.\n",
    "\n",
    "**reshape()** yöntemi, diziyi yeniden şekillendirmek için bir tuple alır. Tuple içindeki elemanlar, yeni şekilde her eksene denk gelen boyutları belirtir. Orijinal dizideki toplam eleman sayısı, yeni şekildeki toplam eleman sayısına eşit olmalıdır; aksi takdirde **ValueError** hatası oluşur."
   ]
  },
  {
   "cell_type": "code",
   "execution_count": 23,
   "id": "c5b0f59c",
   "metadata": {
    "execution": {
     "iopub.execute_input": "2023-10-11T14:44:17.383811Z",
     "iopub.status.busy": "2023-10-11T14:44:17.383420Z",
     "iopub.status.idle": "2023-10-11T14:44:17.388375Z",
     "shell.execute_reply": "2023-10-11T14:44:17.387736Z"
    },
    "papermill": {
     "duration": 0.066182,
     "end_time": "2023-10-11T14:44:17.390136",
     "exception": false,
     "start_time": "2023-10-11T14:44:17.323954",
     "status": "completed"
    },
    "tags": []
   },
   "outputs": [
    {
     "name": "stdout",
     "output_type": "stream",
     "text": [
      "[ 1  2  3  4  5  6  7  8  9 10 11 12]\n"
     ]
    }
   ],
   "source": [
    "import numpy as np\n",
    "\n",
    "# 12 elemanlı 1D NumPy dizisi oluşturma:\n",
    "\n",
    "dizi_1d = np.arange(1, 13)\n",
    "\n",
    "print(dizi_1d)"
   ]
  },
  {
   "cell_type": "code",
   "execution_count": 24,
   "id": "383b5e69",
   "metadata": {
    "execution": {
     "iopub.execute_input": "2023-10-11T14:44:17.571332Z",
     "iopub.status.busy": "2023-10-11T14:44:17.570992Z",
     "iopub.status.idle": "2023-10-11T14:44:17.575970Z",
     "shell.execute_reply": "2023-10-11T14:44:17.574972Z"
    },
    "papermill": {
     "duration": 0.127945,
     "end_time": "2023-10-11T14:44:17.577966",
     "exception": false,
     "start_time": "2023-10-11T14:44:17.450021",
     "status": "completed"
    },
    "tags": []
   },
   "outputs": [
    {
     "name": "stdout",
     "output_type": "stream",
     "text": [
      "[[ 1  2  3  4]\n",
      " [ 5  6  7  8]\n",
      " [ 9 10 11 12]]\n"
     ]
    }
   ],
   "source": [
    "# 1D diziyi 3x4'lük bir 2D diziye dönüştürme:\n",
    "\n",
    "dizi_2d = dizi_1d.reshape((3, 4))\n",
    "\n",
    "print(dizi_2d)"
   ]
  },
  {
   "cell_type": "code",
   "execution_count": 25,
   "id": "ef031a1d",
   "metadata": {
    "execution": {
     "iopub.execute_input": "2023-10-11T14:44:17.698323Z",
     "iopub.status.busy": "2023-10-11T14:44:17.697985Z",
     "iopub.status.idle": "2023-10-11T14:44:17.703938Z",
     "shell.execute_reply": "2023-10-11T14:44:17.702625Z"
    },
    "papermill": {
     "duration": 0.068009,
     "end_time": "2023-10-11T14:44:17.706042",
     "exception": false,
     "start_time": "2023-10-11T14:44:17.638033",
     "status": "completed"
    },
    "tags": []
   },
   "outputs": [
    {
     "name": "stdout",
     "output_type": "stream",
     "text": [
      "[ 1  2  3  4  5  6  7  8  9 10 11 12 13 14 15 16 17 18 19 20]\n"
     ]
    }
   ],
   "source": [
    "# 20 elemanlı başka bir 1D NumPy dizisi oluşturma:\n",
    "\n",
    "dizi_1d_2 = np.arange(1, 21)\n",
    "\n",
    "print(dizi_1d_2)"
   ]
  },
  {
   "cell_type": "code",
   "execution_count": 26,
   "id": "47356f8c",
   "metadata": {
    "execution": {
     "iopub.execute_input": "2023-10-11T14:44:17.830767Z",
     "iopub.status.busy": "2023-10-11T14:44:17.830411Z",
     "iopub.status.idle": "2023-10-11T14:44:17.836382Z",
     "shell.execute_reply": "2023-10-11T14:44:17.835198Z"
    },
    "papermill": {
     "duration": 0.069495,
     "end_time": "2023-10-11T14:44:17.838234",
     "exception": false,
     "start_time": "2023-10-11T14:44:17.768739",
     "status": "completed"
    },
    "tags": []
   },
   "outputs": [
    {
     "name": "stdout",
     "output_type": "stream",
     "text": [
      "[[ 1  2  3  4  5]\n",
      " [ 6  7  8  9 10]\n",
      " [11 12 13 14 15]\n",
      " [16 17 18 19 20]]\n"
     ]
    }
   ],
   "source": [
    "# 1D diziyi 4x5'lik bir 2D diziye dönüştürme:\n",
    "\n",
    "dizi_2d_2 = dizi_1d_2.reshape((4, 5))\n",
    "\n",
    "print(dizi_2d_2)"
   ]
  },
  {
   "cell_type": "markdown",
   "id": "4545498b",
   "metadata": {
    "papermill": {
     "duration": 0.060524,
     "end_time": "2023-10-11T14:44:17.959310",
     "exception": false,
     "start_time": "2023-10-11T14:44:17.898786",
     "status": "completed"
    },
    "tags": []
   },
   "source": [
    "* Bu örneklerde, **np.arange()** ile 1D NumPy dizileri oluşturduk ve ardından **reshape()** yöntemini kullanarak farklı şekillere sahip 2D dizilere dönüştürdük. Her dizideki toplam eleman sayısı aynı kalırken, yalnızca elemanların düzeni **reshape()** yöntemiyle belirtilen yeni şekle göre değişti."
   ]
  },
  {
   "cell_type": "markdown",
   "id": "b65fb257",
   "metadata": {
    "papermill": {
     "duration": 0.057734,
     "end_time": "2023-10-11T14:44:18.076857",
     "exception": false,
     "start_time": "2023-10-11T14:44:18.019123",
     "status": "completed"
    },
    "tags": []
   },
   "source": [
    "<a id = \"7\"></a><br>\n",
    "<h1 style=\"background-color:#98AFC7;font-family:courier;font-size:250%;font-style: oblique;font-weight: bold;font-variant: small-caps;text-align:center;border-radius: 15px 50px;\"> Concatenation: Birleştirme </h1>\n",
    "\n",
    "NumPy'da, concatenate() işlevi birden fazla diziyi belirtilen bir eksende birleştirmek için kullanılır. Birleştirme, birden fazla diziyi tek bir dizi olarak birleştirmeyi ifade eder.\n",
    "\n",
    "NumPy, dizileri birleştirmek için **numpy.concatenate(), numpy.stack(), numpy.hstack() ve numpy.vstack()** gibi birkaç işlev sağlar. Her biri giriş dizilerinin şekli ve boyutları açısından farklı davranışlara sahiptir.\n",
    "\n",
    "* **numpy.concatenate():** Bu işlev, belirtilen bir eksen boyunca dizileri birleştirmek için kullanılır. Giriş olarak bir dizi dizisi alır ve belirtilen eksen boyunca birleştirilmiş yeni bir dizi döndürür. Birleştirilen diziler, birleştirme ekseni boyunca aynı şekilde olmalıdır.\n",
    "\n",
    "* **numpy.stack():** Bu işlev, dizileri yeni bir eksende birleştirmek için kullanılır. Giriş olarak bir dizi dizisi alır ve yeni bir dizi olarak ek bir boyut eklenmiş bir dizi döndürür. Bu, dizileri yeni bir eksende birleştirmek istediğinizde kullanışlıdır.\n",
    "\n",
    "* **numpy.hstack():** Bu işlev, dizileri yatay olarak (sütunlar boyunca) birleştirmek için kullanılır. Giriş olarak bir dizi dizisi alır ve giriş dizilerinin sütunları birleştirilmiş yeni bir dizi döndürür.\n",
    "\n",
    "* **numpy.vstack():** Bu işlev, dizileri dikey olarak (satırlar boyunca) birleştirmek için kullanılır. Giriş olarak bir dizi dizisi alır ve giriş dizilerinin satırları birleştirilmiş yeni bir dizi döndürür."
   ]
  },
  {
   "cell_type": "markdown",
   "id": "7d12a58f",
   "metadata": {
    "papermill": {
     "duration": 0.05765,
     "end_time": "2023-10-11T14:44:18.193006",
     "exception": false,
     "start_time": "2023-10-11T14:44:18.135356",
     "status": "completed"
    },
    "tags": []
   },
   "source": [
    "<div style=\"border-radius:10px; border:#DEB887 solid; padding: 15px; background-color: #FFFAF0; font-size:100%; text-align:left\">\n",
    "\n",
    "<h3 align=\"left\"><font color='#DEB887'>💡 Notlar: </font></h3>\n",
    "\n",
    "* numpy.concatenate() işlevi ve axis parametresinin detaylı açıklaması:\n",
    "\n",
    "    1. **numpy.concatenate():** Bu işlev, iki veya daha fazla diziyi tek bir dizi olarak birleştirmek için kullanılır. Giriş olarak bir dizi dizisi alır ve bu dizilerin birleştirilmesiyle oluşan yeni bir dizi döndürür. Birleştirilen diziler, birleştirme ekseni boyunca aynı şekle sahip olmalıdır, ancak birleştirme işlemi yapılan boyutta farklılık olabilir.\n",
    "\n",
    "    2. **axis parametresi:** axis parametresi, numpy.concatenate() işlevinde isteğe bağlı bir argümandır ve birleştirme işleminin yapılacağı ekseni belirtir. Bu parametre dizilerin birleştirilme yönünü kontrol eder. axis parametresi bir tamsayı değeri olmalıdır ve şu şekilde kullanılır:\n",
    "\n",
    "        * **axis=0:** Dikey birleştirme yapılacağını belirtir (satırlar boyunca birleştirme). Diziler birbirinin üzerine yığılır.\n",
    "        * **axis=1:** Yatay birleştirme yapılacağını belirtir (sütunlar boyunca birleştirme). Diziler yan yana birleştirilir."
   ]
  },
  {
   "cell_type": "code",
   "execution_count": 27,
   "id": "62686644",
   "metadata": {
    "execution": {
     "iopub.execute_input": "2023-10-11T14:44:18.311191Z",
     "iopub.status.busy": "2023-10-11T14:44:18.310505Z",
     "iopub.status.idle": "2023-10-11T14:44:18.315679Z",
     "shell.execute_reply": "2023-10-11T14:44:18.314620Z"
    },
    "papermill": {
     "duration": 0.066322,
     "end_time": "2023-10-11T14:44:18.317534",
     "exception": false,
     "start_time": "2023-10-11T14:44:18.251212",
     "status": "completed"
    },
    "tags": []
   },
   "outputs": [],
   "source": [
    "# Örnek diziler:\n",
    "\n",
    "dizi1 = np.array([[1, 2], [3, 4]])\n",
    "dizi2 = np.array([[5, 6]])"
   ]
  },
  {
   "cell_type": "code",
   "execution_count": 28,
   "id": "c8c20f1f",
   "metadata": {
    "execution": {
     "iopub.execute_input": "2023-10-11T14:44:18.436380Z",
     "iopub.status.busy": "2023-10-11T14:44:18.435669Z",
     "iopub.status.idle": "2023-10-11T14:44:18.441749Z",
     "shell.execute_reply": "2023-10-11T14:44:18.440547Z"
    },
    "papermill": {
     "duration": 0.067398,
     "end_time": "2023-10-11T14:44:18.443801",
     "exception": false,
     "start_time": "2023-10-11T14:44:18.376403",
     "status": "completed"
    },
    "tags": []
   },
   "outputs": [
    {
     "name": "stdout",
     "output_type": "stream",
     "text": [
      "Dikey birleştirme:\n",
      "[[1 2]\n",
      " [3 4]\n",
      " [5 6]]\n"
     ]
    }
   ],
   "source": [
    "# Dikey birleştirme (satırlar boyunca) için axis=0 kullanımı:\n",
    "\n",
    "sonuc_dikey = np.concatenate((dizi1, dizi2), axis=0)\n",
    "\n",
    "print(\"Dikey birleştirme:\")\n",
    "\n",
    "print(sonuc_dikey)"
   ]
  },
  {
   "cell_type": "code",
   "execution_count": 29,
   "id": "8b8e7388",
   "metadata": {
    "execution": {
     "iopub.execute_input": "2023-10-11T14:44:18.564747Z",
     "iopub.status.busy": "2023-10-11T14:44:18.564358Z",
     "iopub.status.idle": "2023-10-11T14:44:18.569708Z",
     "shell.execute_reply": "2023-10-11T14:44:18.569037Z"
    },
    "papermill": {
     "duration": 0.067374,
     "end_time": "2023-10-11T14:44:18.571565",
     "exception": false,
     "start_time": "2023-10-11T14:44:18.504191",
     "status": "completed"
    },
    "tags": []
   },
   "outputs": [
    {
     "name": "stdout",
     "output_type": "stream",
     "text": [
      "\n",
      "Yatay birleştirme:\n",
      "[[1 2 7]\n",
      " [3 4 8]]\n"
     ]
    }
   ],
   "source": [
    "# Yatay birleştirme (sütunlar boyunca) için axis=1 kullanımı:\n",
    "\n",
    "dizi3 = np.array([[7], [8]])\n",
    "sonuc_yatay = np.concatenate((dizi1, dizi3), axis=1)\n",
    "\n",
    "print(\"\\nYatay birleştirme:\")\n",
    "\n",
    "print(sonuc_yatay)"
   ]
  },
  {
   "cell_type": "code",
   "execution_count": 30,
   "id": "0f9fdea6",
   "metadata": {
    "execution": {
     "iopub.execute_input": "2023-10-11T14:44:18.692865Z",
     "iopub.status.busy": "2023-10-11T14:44:18.692501Z",
     "iopub.status.idle": "2023-10-11T14:44:18.697894Z",
     "shell.execute_reply": "2023-10-11T14:44:18.697129Z"
    },
    "papermill": {
     "duration": 0.068952,
     "end_time": "2023-10-11T14:44:18.699742",
     "exception": false,
     "start_time": "2023-10-11T14:44:18.630790",
     "status": "completed"
    },
    "tags": []
   },
   "outputs": [
    {
     "name": "stdout",
     "output_type": "stream",
     "text": [
      "[1 2 3 4 5 6]\n"
     ]
    }
   ],
   "source": [
    "# İki 1D diziyi birleştirme:\n",
    "\n",
    "dizi1 = np.array([1, 2, 3])\n",
    "dizi2 = np.array([4, 5, 6])\n",
    "sonuc = np.concatenate((dizi1, dizi2))\n",
    "\n",
    "print(sonuc)"
   ]
  },
  {
   "cell_type": "code",
   "execution_count": 31,
   "id": "a34d3ed5",
   "metadata": {
    "execution": {
     "iopub.execute_input": "2023-10-11T14:44:18.823133Z",
     "iopub.status.busy": "2023-10-11T14:44:18.822768Z",
     "iopub.status.idle": "2023-10-11T14:44:18.829421Z",
     "shell.execute_reply": "2023-10-11T14:44:18.828180Z"
    },
    "papermill": {
     "duration": 0.070336,
     "end_time": "2023-10-11T14:44:18.831458",
     "exception": false,
     "start_time": "2023-10-11T14:44:18.761122",
     "status": "completed"
    },
    "tags": []
   },
   "outputs": [
    {
     "name": "stdout",
     "output_type": "stream",
     "text": [
      "[[1 2 3]\n",
      " [4 5 6]]\n"
     ]
    }
   ],
   "source": [
    "# İki 1D diziyi yeni bir eksende birleştirme:\n",
    "\n",
    "sonuc = np.stack((dizi1, dizi2))\n",
    "\n",
    "print(sonuc)"
   ]
  },
  {
   "cell_type": "code",
   "execution_count": 32,
   "id": "79c037d9",
   "metadata": {
    "execution": {
     "iopub.execute_input": "2023-10-11T14:44:18.952122Z",
     "iopub.status.busy": "2023-10-11T14:44:18.951747Z",
     "iopub.status.idle": "2023-10-11T14:44:18.957382Z",
     "shell.execute_reply": "2023-10-11T14:44:18.956340Z"
    },
    "papermill": {
     "duration": 0.068018,
     "end_time": "2023-10-11T14:44:18.959229",
     "exception": false,
     "start_time": "2023-10-11T14:44:18.891211",
     "status": "completed"
    },
    "tags": []
   },
   "outputs": [
    {
     "name": "stdout",
     "output_type": "stream",
     "text": [
      "[1 2 3 4 5 6]\n"
     ]
    }
   ],
   "source": [
    "# İki 1D diziyi yatay olarak birleştirme:\n",
    "\n",
    "sonuc = np.hstack((dizi1, dizi2))\n",
    "\n",
    "print(sonuc)"
   ]
  },
  {
   "cell_type": "code",
   "execution_count": 33,
   "id": "ff325196",
   "metadata": {
    "execution": {
     "iopub.execute_input": "2023-10-11T14:44:19.080125Z",
     "iopub.status.busy": "2023-10-11T14:44:19.079744Z",
     "iopub.status.idle": "2023-10-11T14:44:19.084589Z",
     "shell.execute_reply": "2023-10-11T14:44:19.083962Z"
    },
    "papermill": {
     "duration": 0.06748,
     "end_time": "2023-10-11T14:44:19.086502",
     "exception": false,
     "start_time": "2023-10-11T14:44:19.019022",
     "status": "completed"
    },
    "tags": []
   },
   "outputs": [
    {
     "name": "stdout",
     "output_type": "stream",
     "text": [
      "[[1 2 3]\n",
      " [4 5 6]]\n"
     ]
    }
   ],
   "source": [
    "# İki 1D diziyi dikey olarak birleştirme:\n",
    "\n",
    "sonuc = np.vstack((dizi1, dizi2))\n",
    "\n",
    "print(sonuc)"
   ]
  },
  {
   "cell_type": "markdown",
   "id": "9dec684c",
   "metadata": {
    "papermill": {
     "duration": 0.058762,
     "end_time": "2023-10-11T14:44:19.205740",
     "exception": false,
     "start_time": "2023-10-11T14:44:19.146978",
     "status": "completed"
    },
    "tags": []
   },
   "source": [
    "<a id = \"8\"></a><br>\n",
    "<h1 style=\"background-color:#98AFC7;font-family:courier;font-size:250%;font-style: oblique;font-weight: bold;font-variant: small-caps;text-align:center;border-radius: 15px 50px;\"> Splitting: Ayırma </h1>\n",
    "\n",
    "NumPy'da, bölme işlemi, belirtilen bir eksende tek bir diziyi birden çok küçük diziye bölmek anlamına gelir. Bir diziyi belirli bir ölçüt temelinde daha küçük parçalara bölmeyi sağlar. NumPy, dizileri bölmek için **numpy.split(), numpy.array_split(), numpy.hsplit() ve numpy.vsplit()** gibi birkaç işlev sağlar.\n",
    "\n",
    "* **numpy.split():** Bu işlev, bir diziyi belirtilen bir eksende birden çok alt dizilere böler. İki veya daha fazla argüman alır: bölünecek dizi, oluşturulacak eşit boyutlu alt dizilerin sayısı ve bölmenin yapılacağı eksen. Dizi, alt dizilerin sayısı ile tam bölünebilecek bir boyuta sahip olmalıdır, aksi takdirde ValueError hatası oluşur.\n",
    "\n",
    "* **numpy.array_split():** Bu işlev, numpy.split() işlevine benzer, ancak dizinin boyutunun alt dizilerin sayısına tam bölünmesini gerektirmez. Alt diziler farklı boyutlarda olabilir.\n",
    "\n",
    "* **numpy.hsplit():** Bu işlev, bir diziyi yatay olarak (sütunlar boyunca) birden çok alt dizilere böler. İki argüman alır: bölünecek dizi ve oluşturulacak eşit boyutlu alt dizilerin sayısı.\n",
    "\n",
    "* **numpy.vsplit():** Bu işlev, bir diziyi dikey olarak (satırlar boyunca) birden çok alt dizilere böler. İki argüman alır: bölünecek dizi ve oluşturulacak eşit boyutlu alt dizilerin sayısı."
   ]
  },
  {
   "cell_type": "code",
   "execution_count": 34,
   "id": "1aafb2b3",
   "metadata": {
    "execution": {
     "iopub.execute_input": "2023-10-11T14:44:19.325586Z",
     "iopub.status.busy": "2023-10-11T14:44:19.325225Z",
     "iopub.status.idle": "2023-10-11T14:44:19.329958Z",
     "shell.execute_reply": "2023-10-11T14:44:19.329003Z"
    },
    "papermill": {
     "duration": 0.066838,
     "end_time": "2023-10-11T14:44:19.331882",
     "exception": false,
     "start_time": "2023-10-11T14:44:19.265044",
     "status": "completed"
    },
    "tags": []
   },
   "outputs": [],
   "source": [
    "import numpy as np\n",
    "\n",
    "# Örnek dizi:\n",
    "\n",
    "dizi = np.array([1, 2, 3, 4, 5, 6, 7, 8, 9, 10])"
   ]
  },
  {
   "cell_type": "code",
   "execution_count": 35,
   "id": "803fa11d",
   "metadata": {
    "execution": {
     "iopub.execute_input": "2023-10-11T14:44:19.451310Z",
     "iopub.status.busy": "2023-10-11T14:44:19.450931Z",
     "iopub.status.idle": "2023-10-11T14:44:19.456912Z",
     "shell.execute_reply": "2023-10-11T14:44:19.455820Z"
    },
    "papermill": {
     "duration": 0.067856,
     "end_time": "2023-10-11T14:44:19.458813",
     "exception": false,
     "start_time": "2023-10-11T14:44:19.390957",
     "status": "completed"
    },
    "tags": []
   },
   "outputs": [
    {
     "name": "stdout",
     "output_type": "stream",
     "text": [
      "numpy.split() sonucu:\n",
      "[array([1, 2]), array([3, 4]), array([5, 6]), array([7, 8]), array([ 9, 10])]\n"
     ]
    }
   ],
   "source": [
    "# numpy.split() kullanımı:\n",
    "\n",
    "sonuc_split = np.split(dizi, 5)\n",
    "\n",
    "print(\"numpy.split() sonucu:\")\n",
    "\n",
    "print(sonuc_split)"
   ]
  },
  {
   "cell_type": "code",
   "execution_count": 36,
   "id": "a648bbb9",
   "metadata": {
    "execution": {
     "iopub.execute_input": "2023-10-11T14:44:19.578454Z",
     "iopub.status.busy": "2023-10-11T14:44:19.577844Z",
     "iopub.status.idle": "2023-10-11T14:44:19.583104Z",
     "shell.execute_reply": "2023-10-11T14:44:19.582131Z"
    },
    "papermill": {
     "duration": 0.067286,
     "end_time": "2023-10-11T14:44:19.585116",
     "exception": false,
     "start_time": "2023-10-11T14:44:19.517830",
     "status": "completed"
    },
    "tags": []
   },
   "outputs": [
    {
     "name": "stdout",
     "output_type": "stream",
     "text": [
      "\n",
      "numpy.array_split() sonucu:\n",
      "[array([1, 2, 3, 4]), array([5, 6, 7]), array([ 8,  9, 10])]\n"
     ]
    }
   ],
   "source": [
    "# numpy.array_split() kullanımı:\n",
    "\n",
    "sonuc_array_split = np.array_split(dizi, 3)\n",
    "\n",
    "print(\"\\nnumpy.array_split() sonucu:\")\n",
    "\n",
    "print(sonuc_array_split)"
   ]
  },
  {
   "cell_type": "code",
   "execution_count": 37,
   "id": "024c6842",
   "metadata": {
    "execution": {
     "iopub.execute_input": "2023-10-11T14:44:19.707451Z",
     "iopub.status.busy": "2023-10-11T14:44:19.707096Z",
     "iopub.status.idle": "2023-10-11T14:44:19.713608Z",
     "shell.execute_reply": "2023-10-11T14:44:19.712748Z"
    },
    "papermill": {
     "duration": 0.06979,
     "end_time": "2023-10-11T14:44:19.715505",
     "exception": false,
     "start_time": "2023-10-11T14:44:19.645715",
     "status": "completed"
    },
    "tags": []
   },
   "outputs": [
    {
     "name": "stdout",
     "output_type": "stream",
     "text": [
      "\n",
      "numpy.hsplit() sonucu:\n",
      "[array([[ 1],\n",
      "       [ 4],\n",
      "       [ 7],\n",
      "       [10]]), array([[ 2],\n",
      "       [ 5],\n",
      "       [ 8],\n",
      "       [11]]), array([[ 3],\n",
      "       [ 6],\n",
      "       [ 9],\n",
      "       [12]])]\n"
     ]
    }
   ],
   "source": [
    "# 2D dizi örneği:\n",
    "\n",
    "dizi_2d = np.array([[1, 2, 3], [4, 5, 6], [7, 8, 9], [10, 11, 12]])\n",
    "\n",
    "# numpy.hsplit() kullanımı:\n",
    "\n",
    "sonuc_hsplit = np.hsplit(dizi_2d, 3)\n",
    "\n",
    "print(\"\\nnumpy.hsplit() sonucu:\")\n",
    "\n",
    "print(sonuc_hsplit)"
   ]
  },
  {
   "cell_type": "code",
   "execution_count": 38,
   "id": "6aa65436",
   "metadata": {
    "execution": {
     "iopub.execute_input": "2023-10-11T14:44:19.839075Z",
     "iopub.status.busy": "2023-10-11T14:44:19.838473Z",
     "iopub.status.idle": "2023-10-11T14:44:19.843876Z",
     "shell.execute_reply": "2023-10-11T14:44:19.842792Z"
    },
    "papermill": {
     "duration": 0.069486,
     "end_time": "2023-10-11T14:44:19.845838",
     "exception": false,
     "start_time": "2023-10-11T14:44:19.776352",
     "status": "completed"
    },
    "tags": []
   },
   "outputs": [
    {
     "name": "stdout",
     "output_type": "stream",
     "text": [
      "\n",
      "numpy.vsplit() sonucu:\n",
      "[array([[1, 2, 3],\n",
      "       [4, 5, 6]]), array([[ 7,  8,  9],\n",
      "       [10, 11, 12]])]\n"
     ]
    }
   ],
   "source": [
    "# numpy.vsplit() kullanımı:\n",
    "\n",
    "sonuc_vsplit = np.vsplit(dizi_2d, 2)\n",
    "\n",
    "print(\"\\nnumpy.vsplit() sonucu:\")\n",
    "\n",
    "print(sonuc_vsplit)"
   ]
  },
  {
   "cell_type": "markdown",
   "id": "5a27a5d0",
   "metadata": {
    "papermill": {
     "duration": 0.059391,
     "end_time": "2023-10-11T14:44:19.967226",
     "exception": false,
     "start_time": "2023-10-11T14:44:19.907835",
     "status": "completed"
    },
    "tags": []
   },
   "source": [
    "<a id = \"9\"></a><br>\n",
    "<h1 style=\"background-color:#98AFC7;font-family:courier;font-size:250%;font-style: oblique;font-weight: bold;font-variant: small-caps;text-align:center;border-radius: 15px 50px;\"> Sorting: Sıralama </h1>\n",
    "\n",
    "NumPy'da sıralama, bir dizinin elemanlarını belirli bir sıraya göre, ya artan ya da azalan şekilde düzenleme işlemine denir. Dizileri sıralama işlemi, veri analizi ve işleme görevlerinde sıkça kullanılan bir işlemdir. NumPy, diziler üzerinde sıralama işlemlerini gerçekleştirmek için birkaç işlev sağlar.\n",
    "\n",
    "NumPy'daki temel sıralama işlevleri şunlardır:\n",
    "\n",
    "* **numpy.sort():** Bu işlev, bir dizinin sıralanmış bir kopyasını döndürür. Varsayılan olarak, diziyi son eksende artan sırayla sıralar.\n",
    "\n",
    "* **numpy.argsort():** Bu işlev, bir diziyi sıralamak için kullanılan dizinleri döndürür. Sıralanmış diziyi döndürmek yerine, orijinal diziyi sıralamak için kullanılan dizinlerden oluşan bir dizi döndürür.\n",
    "\n",
    "* **numpy.lexsort():** Bu işlev, bir dizi üzerinde dolaylı bir sıralama yapar. Birden çok anahtar üzerinde diziyi sıralar ve her anahtar için belirtilen sıra ile sıralamayı gerçekleştirir.\n",
    "\n",
    "* **numpy.msort():** Bu işlev, numpy.sort() işlevine benzer, ancak kararlı bir sıralama yapar. Yani, aynı değere sahip elemanların göreceli sırasını korur.\n",
    "\n",
    "* **numpy.sort_complex():** Bu işlev, karmaşık sayıları büyüklüklerine göre sıralar."
   ]
  },
  {
   "cell_type": "code",
   "execution_count": 39,
   "id": "7280058b",
   "metadata": {
    "execution": {
     "iopub.execute_input": "2023-10-11T14:44:20.088169Z",
     "iopub.status.busy": "2023-10-11T14:44:20.087123Z",
     "iopub.status.idle": "2023-10-11T14:44:20.094774Z",
     "shell.execute_reply": "2023-10-11T14:44:20.093433Z"
    },
    "papermill": {
     "duration": 0.070191,
     "end_time": "2023-10-11T14:44:20.096822",
     "exception": false,
     "start_time": "2023-10-11T14:44:20.026631",
     "status": "completed"
    },
    "tags": []
   },
   "outputs": [
    {
     "name": "stdout",
     "output_type": "stream",
     "text": [
      "Sıralanmış dizi:\n",
      "[1 1 2 3 4 5 5 6 9]\n"
     ]
    }
   ],
   "source": [
    "import numpy as np\n",
    "\n",
    "# Örnek dizi:\n",
    "\n",
    "dizi = np.array([3, 1, 4, 1, 5, 9, 2, 6, 5])\n",
    "\n",
    "# numpy.sort() kullanımı:\n",
    "\n",
    "siralanmis_dizi = np.sort(dizi)\n",
    "\n",
    "print(\"Sıralanmış dizi:\")\n",
    "\n",
    "print(siralanmis_dizi)"
   ]
  },
  {
   "cell_type": "code",
   "execution_count": 40,
   "id": "b00f104b",
   "metadata": {
    "execution": {
     "iopub.execute_input": "2023-10-11T14:44:20.219720Z",
     "iopub.status.busy": "2023-10-11T14:44:20.219321Z",
     "iopub.status.idle": "2023-10-11T14:44:20.224091Z",
     "shell.execute_reply": "2023-10-11T14:44:20.223414Z"
    },
    "papermill": {
     "duration": 0.067439,
     "end_time": "2023-10-11T14:44:20.225816",
     "exception": false,
     "start_time": "2023-10-11T14:44:20.158377",
     "status": "completed"
    },
    "tags": []
   },
   "outputs": [
    {
     "name": "stdout",
     "output_type": "stream",
     "text": [
      "\n",
      "Sıralı dizinler:\n",
      "[1 3 6 0 2 4 8 7 5]\n"
     ]
    }
   ],
   "source": [
    "# numpy.argsort() kullanımı:\n",
    "\n",
    "sirali_dizinler = np.argsort(dizi)\n",
    "\n",
    "print(\"\\nSıralı dizinler:\")\n",
    "\n",
    "print(sirali_dizinler)"
   ]
  },
  {
   "cell_type": "code",
   "execution_count": 41,
   "id": "05069135",
   "metadata": {
    "execution": {
     "iopub.execute_input": "2023-10-11T14:44:20.348335Z",
     "iopub.status.busy": "2023-10-11T14:44:20.347709Z",
     "iopub.status.idle": "2023-10-11T14:44:20.354784Z",
     "shell.execute_reply": "2023-10-11T14:44:20.353726Z"
    },
    "papermill": {
     "duration": 0.070841,
     "end_time": "2023-10-11T14:44:20.356758",
     "exception": false,
     "start_time": "2023-10-11T14:44:20.285917",
     "status": "completed"
    },
    "tags": []
   },
   "outputs": [
    {
     "name": "stdout",
     "output_type": "stream",
     "text": [
      "\n",
      "lexsort() ile sıralı dizinler:\n",
      "[1 0 4 2 3]\n"
     ]
    }
   ],
   "source": [
    "# numpy.lexsort() kullanımı:\n",
    "\n",
    "isimler = np.array(['Alice', 'Bob', 'Cathy', 'David', 'Eva'])\n",
    "yaslar = np.array([25, 22, 29, 32, 28])\n",
    "sirali_dizinler_lex = np.lexsort((isimler, yaslar))\n",
    "\n",
    "print(\"\\nlexsort() ile sıralı dizinler:\")\n",
    "\n",
    "print(sirali_dizinler_lex)"
   ]
  },
  {
   "cell_type": "code",
   "execution_count": 42,
   "id": "05a5ce95",
   "metadata": {
    "execution": {
     "iopub.execute_input": "2023-10-11T14:44:20.476671Z",
     "iopub.status.busy": "2023-10-11T14:44:20.476159Z",
     "iopub.status.idle": "2023-10-11T14:44:20.481177Z",
     "shell.execute_reply": "2023-10-11T14:44:20.480101Z"
    },
    "papermill": {
     "duration": 0.06753,
     "end_time": "2023-10-11T14:44:20.483051",
     "exception": false,
     "start_time": "2023-10-11T14:44:20.415521",
     "status": "completed"
    },
    "tags": []
   },
   "outputs": [
    {
     "name": "stdout",
     "output_type": "stream",
     "text": [
      "\n",
      "Kararlı sıralanmış dizi:\n",
      "[1 1 2 3 4 5 5 6 9]\n"
     ]
    }
   ],
   "source": [
    "# numpy.msort() kullanımı:\n",
    "\n",
    "dizi2 = np.array([3, 1, 4, 1, 5, 9, 2, 6, 5])\n",
    "stabil_siralanmis_dizi = np.msort(dizi2)\n",
    "\n",
    "print(\"\\nKararlı sıralanmış dizi:\")\n",
    "\n",
    "print(stabil_siralanmis_dizi)"
   ]
  },
  {
   "cell_type": "markdown",
   "id": "bc2a85b4",
   "metadata": {
    "papermill": {
     "duration": 0.060258,
     "end_time": "2023-10-11T14:44:20.603878",
     "exception": false,
     "start_time": "2023-10-11T14:44:20.543620",
     "status": "completed"
    },
    "tags": []
   },
   "source": [
    "<a id = \"10\"></a><br>\n",
    "<h1 style=\"background-color:#98AFC7;font-family:courier;font-size:250%;font-style: oblique;font-weight: bold;font-variant: small-caps;text-align:center;border-radius: 15px 50px;\"> Indeks İşlemleri </h1>\n",
    "\n",
    "NumPy'da, NumPy dizilerinde belirli elemanlara veya alt dizilere erişmek için kullanılan çeşitli index metodları ve işlemleri bulunmaktadır. İşte NumPy'da yaygın olarak kullanılan bazı index metodları ve işlemleri:\n",
    "\n",
    "* **Integer İndeksleme:** Dizinin belirli elemanlarına erişmek için tamsayıları indeks olarak kullanabilirsiniz.\n",
    "\n",
    "* **Slicing (Dilimleme):** Dilimleme, bir dizinin belirli bir bölümünü (alt diziyi) belirli bir indeks aralığı ile almanıza olanak tanır.\n",
    "\n",
    "* **Boolean İndeksleme:** Boolean indeksleme, bir koşula dayalı olarak diziden elemanları filtrelemek için bir boolean maske kullanmanızı sağlar.\n",
    "\n",
    "* **Fancy İndeksleme:** Fancy indeksleme, dizilere erişmek için bir dizi indeks sağlayarak belirli elemanlara veya alt dizilere erişmenizi sağlar.\n",
    "\n",
    "* **İki Boyutlu İndeksleme:** İki boyutlu dizilerde, satır ve sütun indeksleri kullanarak belirli elemanlara veya alt dizilere erişebilirsiniz.\n",
    "\n",
    "* **İndeksleri Değiştirme:** Dizi elemanlarının indekslerini değiştirerek dizinin elemanlarını yeniden düzenleyebilirsiniz.\n",
    "\n",
    "Aşağıda her bir index yöntemini kullanarak bazı örnekler verilmiştir:"
   ]
  },
  {
   "cell_type": "code",
   "execution_count": 43,
   "id": "69a3b925",
   "metadata": {
    "execution": {
     "iopub.execute_input": "2023-10-11T14:44:20.725261Z",
     "iopub.status.busy": "2023-10-11T14:44:20.724900Z",
     "iopub.status.idle": "2023-10-11T14:44:20.731460Z",
     "shell.execute_reply": "2023-10-11T14:44:20.730465Z"
    },
    "papermill": {
     "duration": 0.069614,
     "end_time": "2023-10-11T14:44:20.733539",
     "exception": false,
     "start_time": "2023-10-11T14:44:20.663925",
     "status": "completed"
    },
    "tags": []
   },
   "outputs": [
    {
     "data": {
      "text/plain": [
       "30"
      ]
     },
     "execution_count": 43,
     "metadata": {},
     "output_type": "execute_result"
    }
   ],
   "source": [
    "import numpy as np\n",
    "\n",
    "# Örnek dizi:\n",
    "\n",
    "arr = np.array([10, 20, 30, 40, 50])\n",
    "\n",
    "# Integer İndeksleme:\n",
    "\n",
    "arr[2]"
   ]
  },
  {
   "cell_type": "code",
   "execution_count": 44,
   "id": "028b1892",
   "metadata": {
    "execution": {
     "iopub.execute_input": "2023-10-11T14:44:20.858992Z",
     "iopub.status.busy": "2023-10-11T14:44:20.858588Z",
     "iopub.status.idle": "2023-10-11T14:44:20.864480Z",
     "shell.execute_reply": "2023-10-11T14:44:20.863421Z"
    },
    "papermill": {
     "duration": 0.069802,
     "end_time": "2023-10-11T14:44:20.866504",
     "exception": false,
     "start_time": "2023-10-11T14:44:20.796702",
     "status": "completed"
    },
    "tags": []
   },
   "outputs": [
    {
     "data": {
      "text/plain": [
       "30"
      ]
     },
     "execution_count": 44,
     "metadata": {},
     "output_type": "execute_result"
    }
   ],
   "source": [
    "arr[2]"
   ]
  },
  {
   "cell_type": "code",
   "execution_count": 45,
   "id": "994ff255",
   "metadata": {
    "execution": {
     "iopub.execute_input": "2023-10-11T14:44:20.989912Z",
     "iopub.status.busy": "2023-10-11T14:44:20.989533Z",
     "iopub.status.idle": "2023-10-11T14:44:20.995901Z",
     "shell.execute_reply": "2023-10-11T14:44:20.994894Z"
    },
    "papermill": {
     "duration": 0.070243,
     "end_time": "2023-10-11T14:44:20.997858",
     "exception": false,
     "start_time": "2023-10-11T14:44:20.927615",
     "status": "completed"
    },
    "tags": []
   },
   "outputs": [
    {
     "data": {
      "text/plain": [
       "array([20, 30, 40])"
      ]
     },
     "execution_count": 45,
     "metadata": {},
     "output_type": "execute_result"
    }
   ],
   "source": [
    "# Slicing (Dilimleme):\n",
    "\n",
    "arr[1:4]"
   ]
  },
  {
   "cell_type": "code",
   "execution_count": 46,
   "id": "deee4031",
   "metadata": {
    "execution": {
     "iopub.execute_input": "2023-10-11T14:44:21.123096Z",
     "iopub.status.busy": "2023-10-11T14:44:21.122720Z",
     "iopub.status.idle": "2023-10-11T14:44:21.129240Z",
     "shell.execute_reply": "2023-10-11T14:44:21.128262Z"
    },
    "papermill": {
     "duration": 0.070961,
     "end_time": "2023-10-11T14:44:21.131234",
     "exception": false,
     "start_time": "2023-10-11T14:44:21.060273",
     "status": "completed"
    },
    "tags": []
   },
   "outputs": [
    {
     "data": {
      "text/plain": [
       "array([40, 50])"
      ]
     },
     "execution_count": 46,
     "metadata": {},
     "output_type": "execute_result"
    }
   ],
   "source": [
    "# Boolean İndeksleme:\n",
    "\n",
    "mask = arr > 30\n",
    "arr[mask]"
   ]
  },
  {
   "cell_type": "code",
   "execution_count": 47,
   "id": "b63533ec",
   "metadata": {
    "execution": {
     "iopub.execute_input": "2023-10-11T14:44:21.256353Z",
     "iopub.status.busy": "2023-10-11T14:44:21.255740Z",
     "iopub.status.idle": "2023-10-11T14:44:21.261684Z",
     "shell.execute_reply": "2023-10-11T14:44:21.260603Z"
    },
    "papermill": {
     "duration": 0.072037,
     "end_time": "2023-10-11T14:44:21.263920",
     "exception": false,
     "start_time": "2023-10-11T14:44:21.191883",
     "status": "completed"
    },
    "tags": []
   },
   "outputs": [
    {
     "data": {
      "text/plain": [
       "array([10, 30, 50])"
      ]
     },
     "execution_count": 47,
     "metadata": {},
     "output_type": "execute_result"
    }
   ],
   "source": [
    "# Fancy İndeksleme:\n",
    "\n",
    "indices = [0, 2, 4]\n",
    "arr[indices]"
   ]
  },
  {
   "cell_type": "code",
   "execution_count": 48,
   "id": "8bb1d9ad",
   "metadata": {
    "execution": {
     "iopub.execute_input": "2023-10-11T14:44:21.387488Z",
     "iopub.status.busy": "2023-10-11T14:44:21.386816Z",
     "iopub.status.idle": "2023-10-11T14:44:21.393245Z",
     "shell.execute_reply": "2023-10-11T14:44:21.392346Z"
    },
    "papermill": {
     "duration": 0.0693,
     "end_time": "2023-10-11T14:44:21.395174",
     "exception": false,
     "start_time": "2023-10-11T14:44:21.325874",
     "status": "completed"
    },
    "tags": []
   },
   "outputs": [
    {
     "data": {
      "text/plain": [
       "6"
      ]
     },
     "execution_count": 48,
     "metadata": {},
     "output_type": "execute_result"
    }
   ],
   "source": [
    "# İki Boyutlu İndeksleme:\n",
    "\n",
    "arr_2d = np.array([[1, 2, 3], [4, 5, 6], [7, 8, 9]])\n",
    "\n",
    "arr_2d[1, 2]"
   ]
  },
  {
   "cell_type": "code",
   "execution_count": 49,
   "id": "ac3c4993",
   "metadata": {
    "execution": {
     "iopub.execute_input": "2023-10-11T14:44:21.516536Z",
     "iopub.status.busy": "2023-10-11T14:44:21.516171Z",
     "iopub.status.idle": "2023-10-11T14:44:21.522601Z",
     "shell.execute_reply": "2023-10-11T14:44:21.521674Z"
    },
    "papermill": {
     "duration": 0.069292,
     "end_time": "2023-10-11T14:44:21.524686",
     "exception": false,
     "start_time": "2023-10-11T14:44:21.455394",
     "status": "completed"
    },
    "tags": []
   },
   "outputs": [
    {
     "data": {
      "text/plain": [
       "array([10, 40, 30, 20, 50])"
      ]
     },
     "execution_count": 49,
     "metadata": {},
     "output_type": "execute_result"
    }
   ],
   "source": [
    "# İndeksleri Değiştirme:\n",
    "\n",
    "arr[1], arr[3] = arr[3], arr[1]\n",
    "\n",
    "arr"
   ]
  },
  {
   "cell_type": "code",
   "execution_count": 50,
   "id": "1fc8060f",
   "metadata": {
    "execution": {
     "iopub.execute_input": "2023-10-11T14:44:21.646909Z",
     "iopub.status.busy": "2023-10-11T14:44:21.646537Z",
     "iopub.status.idle": "2023-10-11T14:44:21.652328Z",
     "shell.execute_reply": "2023-10-11T14:44:21.651657Z"
    },
    "papermill": {
     "duration": 0.0688,
     "end_time": "2023-10-11T14:44:21.654004",
     "exception": false,
     "start_time": "2023-10-11T14:44:21.585204",
     "status": "completed"
    },
    "tags": []
   },
   "outputs": [
    {
     "data": {
      "text/plain": [
       "array([[1, 2, 3],\n",
       "       [4, 5, 6],\n",
       "       [7, 8, 9]])"
      ]
     },
     "execution_count": 50,
     "metadata": {},
     "output_type": "execute_result"
    }
   ],
   "source": [
    "import numpy as np\n",
    "\n",
    "# Örnek 2B dizi:\n",
    "\n",
    "dizi_2b = np.array([[1, 2, 3], [4, 5, 6], [7, 8, 9]])\n",
    "\n",
    "dizi_2b"
   ]
  },
  {
   "cell_type": "code",
   "execution_count": 51,
   "id": "49dea191",
   "metadata": {
    "execution": {
     "iopub.execute_input": "2023-10-11T14:44:21.778361Z",
     "iopub.status.busy": "2023-10-11T14:44:21.777967Z",
     "iopub.status.idle": "2023-10-11T14:44:21.784165Z",
     "shell.execute_reply": "2023-10-11T14:44:21.783166Z"
    },
    "papermill": {
     "duration": 0.070332,
     "end_time": "2023-10-11T14:44:21.786230",
     "exception": false,
     "start_time": "2023-10-11T14:44:21.715898",
     "status": "completed"
    },
    "tags": []
   },
   "outputs": [
    {
     "data": {
      "text/plain": [
       "6"
      ]
     },
     "execution_count": 51,
     "metadata": {},
     "output_type": "execute_result"
    }
   ],
   "source": [
    "# Tek bir elemanı seçme:\n",
    "\n",
    "dizi_2b[1, 2]"
   ]
  },
  {
   "cell_type": "code",
   "execution_count": 52,
   "id": "ab58e289",
   "metadata": {
    "execution": {
     "iopub.execute_input": "2023-10-11T14:44:21.937811Z",
     "iopub.status.busy": "2023-10-11T14:44:21.937423Z",
     "iopub.status.idle": "2023-10-11T14:44:21.943945Z",
     "shell.execute_reply": "2023-10-11T14:44:21.942977Z"
    },
    "papermill": {
     "duration": 0.084768,
     "end_time": "2023-10-11T14:44:21.945750",
     "exception": false,
     "start_time": "2023-10-11T14:44:21.860982",
     "status": "completed"
    },
    "tags": []
   },
   "outputs": [
    {
     "data": {
      "text/plain": [
       "array([4, 5, 6])"
      ]
     },
     "execution_count": 52,
     "metadata": {},
     "output_type": "execute_result"
    }
   ],
   "source": [
    "# Bir satırı seçme:\n",
    "\n",
    "dizi_2b[1, :]"
   ]
  },
  {
   "cell_type": "code",
   "execution_count": 53,
   "id": "a612d429",
   "metadata": {
    "execution": {
     "iopub.execute_input": "2023-10-11T14:44:22.067840Z",
     "iopub.status.busy": "2023-10-11T14:44:22.067139Z",
     "iopub.status.idle": "2023-10-11T14:44:22.073679Z",
     "shell.execute_reply": "2023-10-11T14:44:22.072948Z"
    },
    "papermill": {
     "duration": 0.069745,
     "end_time": "2023-10-11T14:44:22.075548",
     "exception": false,
     "start_time": "2023-10-11T14:44:22.005803",
     "status": "completed"
    },
    "tags": []
   },
   "outputs": [
    {
     "data": {
      "text/plain": [
       "array([[1, 2, 3],\n",
       "       [7, 8, 9]])"
      ]
     },
     "execution_count": 53,
     "metadata": {},
     "output_type": "execute_result"
    }
   ],
   "source": [
    "# Birden çok satırı seçme:\n",
    "\n",
    "dizi_2b[[0, 2], :]"
   ]
  },
  {
   "cell_type": "code",
   "execution_count": 54,
   "id": "cb33f08b",
   "metadata": {
    "execution": {
     "iopub.execute_input": "2023-10-11T14:44:22.200519Z",
     "iopub.status.busy": "2023-10-11T14:44:22.199388Z",
     "iopub.status.idle": "2023-10-11T14:44:22.206102Z",
     "shell.execute_reply": "2023-10-11T14:44:22.205358Z"
    },
    "papermill": {
     "duration": 0.070854,
     "end_time": "2023-10-11T14:44:22.207993",
     "exception": false,
     "start_time": "2023-10-11T14:44:22.137139",
     "status": "completed"
    },
    "tags": []
   },
   "outputs": [
    {
     "data": {
      "text/plain": [
       "array([1, 4, 7])"
      ]
     },
     "execution_count": 54,
     "metadata": {},
     "output_type": "execute_result"
    }
   ],
   "source": [
    "# Bir sütunu seçme:\n",
    "\n",
    "dizi_2b[:, 0]"
   ]
  },
  {
   "cell_type": "code",
   "execution_count": 55,
   "id": "10d3e8e3",
   "metadata": {
    "execution": {
     "iopub.execute_input": "2023-10-11T14:44:22.334727Z",
     "iopub.status.busy": "2023-10-11T14:44:22.333523Z",
     "iopub.status.idle": "2023-10-11T14:44:22.340601Z",
     "shell.execute_reply": "2023-10-11T14:44:22.339816Z"
    },
    "papermill": {
     "duration": 0.072123,
     "end_time": "2023-10-11T14:44:22.342601",
     "exception": false,
     "start_time": "2023-10-11T14:44:22.270478",
     "status": "completed"
    },
    "tags": []
   },
   "outputs": [
    {
     "data": {
      "text/plain": [
       "array([[1, 3],\n",
       "       [4, 6],\n",
       "       [7, 9]])"
      ]
     },
     "execution_count": 55,
     "metadata": {},
     "output_type": "execute_result"
    }
   ],
   "source": [
    "# Birden çok sütunu seçme:\n",
    "\n",
    "dizi_2b[:, [0, 2]]"
   ]
  },
  {
   "cell_type": "code",
   "execution_count": 56,
   "id": "01e2f99b",
   "metadata": {
    "execution": {
     "iopub.execute_input": "2023-10-11T14:44:22.466886Z",
     "iopub.status.busy": "2023-10-11T14:44:22.466141Z",
     "iopub.status.idle": "2023-10-11T14:44:22.472586Z",
     "shell.execute_reply": "2023-10-11T14:44:22.471850Z"
    },
    "papermill": {
     "duration": 0.070861,
     "end_time": "2023-10-11T14:44:22.474577",
     "exception": false,
     "start_time": "2023-10-11T14:44:22.403716",
     "status": "completed"
    },
    "tags": []
   },
   "outputs": [
    {
     "data": {
      "text/plain": [
       "array([[2, 3],\n",
       "       [5, 6]])"
      ]
     },
     "execution_count": 56,
     "metadata": {},
     "output_type": "execute_result"
    }
   ],
   "source": [
    "# Alt bir dizi seçme:\n",
    "\n",
    "dizi_2b[0:2, 1:3]"
   ]
  },
  {
   "cell_type": "markdown",
   "id": "a35b11b3",
   "metadata": {
    "papermill": {
     "duration": 0.060507,
     "end_time": "2023-10-11T14:44:22.595810",
     "exception": false,
     "start_time": "2023-10-11T14:44:22.535303",
     "status": "completed"
    },
    "tags": []
   },
   "source": [
    "<a id = \"11\"></a><br>\n",
    "<h1 style=\"background-color:#98AFC7;font-family:courier;font-size:250%;font-style: oblique;font-weight: bold;font-variant: small-caps;text-align:center;border-radius: 15px 50px;\"> Alt Kümelerde İşlem Yapma </h1>\n",
    "\n",
    "NumPy, alt kümelerle çalışırken yaygın olarak kullanılan işlem türlerini destekler ve bu işlemler genellikle daha hızlı ve verimli olabilir.\n",
    "\n",
    "Alt kümelerde işlem yapmak için, önce alt kümeyi seçmeniz ve ardından bu alt kümeye istediğiniz işlemi uygulamanız gerekir. NumPy'de alt kümeler, dilimleme (slicing) veya boolean indeksleme (boolean indexing) gibi yöntemlerle seçilebilir.\n",
    "\n",
    "Örnek olarak, bir NumPy dizisinin alt kümesine ulaşıp bazı işlemler yapalım:"
   ]
  },
  {
   "cell_type": "code",
   "execution_count": 57,
   "id": "5e15088a",
   "metadata": {
    "execution": {
     "iopub.execute_input": "2023-10-11T14:44:22.784676Z",
     "iopub.status.busy": "2023-10-11T14:44:22.783932Z",
     "iopub.status.idle": "2023-10-11T14:44:22.790517Z",
     "shell.execute_reply": "2023-10-11T14:44:22.789801Z"
    },
    "papermill": {
     "duration": 0.074267,
     "end_time": "2023-10-11T14:44:22.792424",
     "exception": false,
     "start_time": "2023-10-11T14:44:22.718157",
     "status": "completed"
    },
    "tags": []
   },
   "outputs": [
    {
     "data": {
      "text/plain": [
       "array([ 1,  2,  3,  4,  5,  6,  7,  8,  9, 10])"
      ]
     },
     "execution_count": 57,
     "metadata": {},
     "output_type": "execute_result"
    }
   ],
   "source": [
    "# Örnek dizi:\n",
    "\n",
    "arr = np.array([1, 2, 3, 4, 5, 6, 7, 8, 9, 10])\n",
    "\n",
    "arr"
   ]
  },
  {
   "cell_type": "code",
   "execution_count": 58,
   "id": "62905c89",
   "metadata": {
    "execution": {
     "iopub.execute_input": "2023-10-11T14:44:22.916543Z",
     "iopub.status.busy": "2023-10-11T14:44:22.916186Z",
     "iopub.status.idle": "2023-10-11T14:44:22.923133Z",
     "shell.execute_reply": "2023-10-11T14:44:22.922354Z"
    },
    "papermill": {
     "duration": 0.071676,
     "end_time": "2023-10-11T14:44:22.924855",
     "exception": false,
     "start_time": "2023-10-11T14:44:22.853179",
     "status": "completed"
    },
    "tags": []
   },
   "outputs": [
    {
     "data": {
      "text/plain": [
       "array([3, 4, 5, 6])"
      ]
     },
     "execution_count": 58,
     "metadata": {},
     "output_type": "execute_result"
    }
   ],
   "source": [
    "# Alt küme seçme (dilimleme):\n",
    "\n",
    "alt_kume = arr[2:6]\n",
    "\n",
    "alt_kume"
   ]
  },
  {
   "cell_type": "code",
   "execution_count": 59,
   "id": "6740ff83",
   "metadata": {
    "execution": {
     "iopub.execute_input": "2023-10-11T14:44:23.051663Z",
     "iopub.status.busy": "2023-10-11T14:44:23.050961Z",
     "iopub.status.idle": "2023-10-11T14:44:23.057430Z",
     "shell.execute_reply": "2023-10-11T14:44:23.056591Z"
    },
    "papermill": {
     "duration": 0.071633,
     "end_time": "2023-10-11T14:44:23.059226",
     "exception": false,
     "start_time": "2023-10-11T14:44:22.987593",
     "status": "completed"
    },
    "tags": []
   },
   "outputs": [
    {
     "data": {
      "text/plain": [
       "4.5"
      ]
     },
     "execution_count": 59,
     "metadata": {},
     "output_type": "execute_result"
    }
   ],
   "source": [
    "# Alt küme üzerinde işlem yapma:\n",
    "\n",
    "ortalama = np.mean(alt_kume)\n",
    "\n",
    "ortalama"
   ]
  },
  {
   "cell_type": "code",
   "execution_count": 60,
   "id": "688feb61",
   "metadata": {
    "execution": {
     "iopub.execute_input": "2023-10-11T14:44:23.184674Z",
     "iopub.status.busy": "2023-10-11T14:44:23.184323Z",
     "iopub.status.idle": "2023-10-11T14:44:23.190053Z",
     "shell.execute_reply": "2023-10-11T14:44:23.189147Z"
    },
    "papermill": {
     "duration": 0.070708,
     "end_time": "2023-10-11T14:44:23.192127",
     "exception": false,
     "start_time": "2023-10-11T14:44:23.121419",
     "status": "completed"
    },
    "tags": []
   },
   "outputs": [
    {
     "data": {
      "text/plain": [
       "array([ 1,  2, 10, 10, 10, 10,  7,  8,  9, 10])"
      ]
     },
     "execution_count": 60,
     "metadata": {},
     "output_type": "execute_result"
    }
   ],
   "source": [
    "# Alt kumeye değer atama:\n",
    "\n",
    "arr[2:6] = 10\n",
    "\n",
    "arr"
   ]
  },
  {
   "cell_type": "markdown",
   "id": "0e1e549d",
   "metadata": {
    "papermill": {
     "duration": 0.06072,
     "end_time": "2023-10-11T14:44:23.314007",
     "exception": false,
     "start_time": "2023-10-11T14:44:23.253287",
     "status": "completed"
    },
    "tags": []
   },
   "source": [
    "* NumPy alt kümelerinde **copy()** yöntemi, bir dizi alt kümesinin bağımsız bir kopyasını oluşturmak için kullanılır. Bu yöntem, alt kümeyle ilgili işlemleri gerçekleştirirken orijinal diziyi değiştirmek istemediğiniz durumlarda çok yararlıdır. **copy()** yöntemi, alt kümenin bir kopyasını oluşturur ve bu kopya üzerinde istediğiniz işlemleri yapabilirsiniz."
   ]
  },
  {
   "cell_type": "code",
   "execution_count": 61,
   "id": "076e1c57",
   "metadata": {
    "execution": {
     "iopub.execute_input": "2023-10-11T14:44:23.437571Z",
     "iopub.status.busy": "2023-10-11T14:44:23.437242Z",
     "iopub.status.idle": "2023-10-11T14:44:23.443175Z",
     "shell.execute_reply": "2023-10-11T14:44:23.442117Z"
    },
    "papermill": {
     "duration": 0.07007,
     "end_time": "2023-10-11T14:44:23.445218",
     "exception": false,
     "start_time": "2023-10-11T14:44:23.375148",
     "status": "completed"
    },
    "tags": []
   },
   "outputs": [
    {
     "data": {
      "text/plain": [
       "array([1, 2, 3, 4, 5])"
      ]
     },
     "execution_count": 61,
     "metadata": {},
     "output_type": "execute_result"
    }
   ],
   "source": [
    "# Örnek dizi:\n",
    "\n",
    "arr = np.array([1, 2, 3, 4, 5])\n",
    "\n",
    "arr"
   ]
  },
  {
   "cell_type": "code",
   "execution_count": 62,
   "id": "4556f973",
   "metadata": {
    "execution": {
     "iopub.execute_input": "2023-10-11T14:44:23.568864Z",
     "iopub.status.busy": "2023-10-11T14:44:23.568513Z",
     "iopub.status.idle": "2023-10-11T14:44:23.574396Z",
     "shell.execute_reply": "2023-10-11T14:44:23.573686Z"
    },
    "papermill": {
     "duration": 0.069953,
     "end_time": "2023-10-11T14:44:23.576225",
     "exception": false,
     "start_time": "2023-10-11T14:44:23.506272",
     "status": "completed"
    },
    "tags": []
   },
   "outputs": [
    {
     "data": {
      "text/plain": [
       "array([2, 3, 4])"
      ]
     },
     "execution_count": 62,
     "metadata": {},
     "output_type": "execute_result"
    }
   ],
   "source": [
    "# Dilimleme yöntemiyle alt küme seçme:\n",
    "\n",
    "subset = arr[1:4]\n",
    "\n",
    "subset"
   ]
  },
  {
   "cell_type": "code",
   "execution_count": 63,
   "id": "107991d0",
   "metadata": {
    "execution": {
     "iopub.execute_input": "2023-10-11T14:44:23.704771Z",
     "iopub.status.busy": "2023-10-11T14:44:23.704355Z",
     "iopub.status.idle": "2023-10-11T14:44:23.710831Z",
     "shell.execute_reply": "2023-10-11T14:44:23.709826Z"
    },
    "papermill": {
     "duration": 0.072551,
     "end_time": "2023-10-11T14:44:23.712842",
     "exception": false,
     "start_time": "2023-10-11T14:44:23.640291",
     "status": "completed"
    },
    "tags": []
   },
   "outputs": [
    {
     "data": {
      "text/plain": [
       "array([2, 3, 4])"
      ]
     },
     "execution_count": 63,
     "metadata": {},
     "output_type": "execute_result"
    }
   ],
   "source": [
    "# Alt kümenin kopyasını oluşturma:\n",
    "\n",
    "subset_copy = subset.copy()\n",
    "\n",
    "subset_copy"
   ]
  },
  {
   "cell_type": "code",
   "execution_count": 64,
   "id": "78e3c2cd",
   "metadata": {
    "execution": {
     "iopub.execute_input": "2023-10-11T14:44:23.840052Z",
     "iopub.status.busy": "2023-10-11T14:44:23.839675Z",
     "iopub.status.idle": "2023-10-11T14:44:23.845672Z",
     "shell.execute_reply": "2023-10-11T14:44:23.844630Z"
    },
    "papermill": {
     "duration": 0.071941,
     "end_time": "2023-10-11T14:44:23.847798",
     "exception": false,
     "start_time": "2023-10-11T14:44:23.775857",
     "status": "completed"
    },
    "tags": []
   },
   "outputs": [
    {
     "data": {
      "text/plain": [
       "array([ 2, 20,  4])"
      ]
     },
     "execution_count": 64,
     "metadata": {},
     "output_type": "execute_result"
    }
   ],
   "source": [
    "# Alt küme ve kopyasını değiştirme:\n",
    "\n",
    "subset[0] = 10\n",
    "subset_copy[1] = 20\n",
    "\n",
    "subset_copy"
   ]
  },
  {
   "cell_type": "markdown",
   "id": "263fc046",
   "metadata": {
    "papermill": {
     "duration": 0.06333,
     "end_time": "2023-10-11T14:44:23.973433",
     "exception": false,
     "start_time": "2023-10-11T14:44:23.910103",
     "status": "completed"
    },
    "tags": []
   },
   "source": [
    "<a id = \"12\"></a><br>\n",
    "<h1 style=\"background-color:#98AFC7;font-family:courier;font-size:250%;font-style: oblique;font-weight: bold;font-variant: small-caps;text-align:center;border-radius: 15px 50px;\"> Koşullu Eleman İşlemleri </h1>\n",
    "\n",
    "NumPy, koşullu eleman işlemleri için bir dizi güçlü fonksiyon ve yöntem sağlar. Bu işlemler, bir NumPy dizisindeki elemanları belirli koşullara göre filtrelemek veya değiştirmek için kullanılabilir. Koşullu eleman işlemleri, NumPy dizileri üzerinde veri analizi ve dönüşümleri için yaygın olarak kullanılır.\n",
    "\n",
    "* **Boolean İndeksleme:** Boolean dizileri kullanarak bir dizi içindeki elemanları filtrelemek için kullanılır.\n",
    "\n",
    "* **np.where():** Belirli bir koşulu sağlayan elemanları seçmek veya başka bir değerle değiştirmek için kullanılır.\n",
    "\n",
    "* **np.logical_and() ve np.logical_or():** İki veya daha fazla koşulu birleştirmek için kullanılır.\n",
    "\n",
    "* **np.any() ve np.all():** Dizideki elemanların en az biri veya tümü belirli bir koşulu sağlıyorsa True değeri döndürür."
   ]
  },
  {
   "cell_type": "code",
   "execution_count": 65,
   "id": "37703658",
   "metadata": {
    "execution": {
     "iopub.execute_input": "2023-10-11T14:44:24.103340Z",
     "iopub.status.busy": "2023-10-11T14:44:24.103009Z",
     "iopub.status.idle": "2023-10-11T14:44:24.109347Z",
     "shell.execute_reply": "2023-10-11T14:44:24.108343Z"
    },
    "papermill": {
     "duration": 0.07441,
     "end_time": "2023-10-11T14:44:24.111464",
     "exception": false,
     "start_time": "2023-10-11T14:44:24.037054",
     "status": "completed"
    },
    "tags": []
   },
   "outputs": [
    {
     "data": {
      "text/plain": [
       "array([1, 2, 3, 4, 5])"
      ]
     },
     "execution_count": 65,
     "metadata": {},
     "output_type": "execute_result"
    }
   ],
   "source": [
    "# Örnek dizi:\n",
    "\n",
    "arr = np.array([1, 2, 3, 4, 5])\n",
    "\n",
    "arr"
   ]
  },
  {
   "cell_type": "code",
   "execution_count": 66,
   "id": "7d29421a",
   "metadata": {
    "execution": {
     "iopub.execute_input": "2023-10-11T14:44:24.237380Z",
     "iopub.status.busy": "2023-10-11T14:44:24.236340Z",
     "iopub.status.idle": "2023-10-11T14:44:24.242908Z",
     "shell.execute_reply": "2023-10-11T14:44:24.242129Z"
    },
    "papermill": {
     "duration": 0.071269,
     "end_time": "2023-10-11T14:44:24.244805",
     "exception": false,
     "start_time": "2023-10-11T14:44:24.173536",
     "status": "completed"
    },
    "tags": []
   },
   "outputs": [
    {
     "data": {
      "text/plain": [
       "array([4, 5])"
      ]
     },
     "execution_count": 66,
     "metadata": {},
     "output_type": "execute_result"
    }
   ],
   "source": [
    "# Boolean İndeksleme ile filtreleme:\n",
    "\n",
    "arr[arr > 3]"
   ]
  },
  {
   "cell_type": "code",
   "execution_count": 67,
   "id": "f3bd4bcd",
   "metadata": {
    "execution": {
     "iopub.execute_input": "2023-10-11T14:44:24.369915Z",
     "iopub.status.busy": "2023-10-11T14:44:24.369246Z",
     "iopub.status.idle": "2023-10-11T14:44:24.375596Z",
     "shell.execute_reply": "2023-10-11T14:44:24.374581Z"
    },
    "papermill": {
     "duration": 0.071297,
     "end_time": "2023-10-11T14:44:24.377514",
     "exception": false,
     "start_time": "2023-10-11T14:44:24.306217",
     "status": "completed"
    },
    "tags": []
   },
   "outputs": [
    {
     "data": {
      "text/plain": [
       "array([ 1,  2,  3, 10, 10])"
      ]
     },
     "execution_count": 67,
     "metadata": {},
     "output_type": "execute_result"
    }
   ],
   "source": [
    "# np.where() ile değer değiştirme:\n",
    "\n",
    "arr2 = np.where(arr > 3, 10, arr)\n",
    "\n",
    "arr2"
   ]
  },
  {
   "cell_type": "code",
   "execution_count": 68,
   "id": "d46df0f0",
   "metadata": {
    "execution": {
     "iopub.execute_input": "2023-10-11T14:44:24.503939Z",
     "iopub.status.busy": "2023-10-11T14:44:24.503315Z",
     "iopub.status.idle": "2023-10-11T14:44:24.509143Z",
     "shell.execute_reply": "2023-10-11T14:44:24.508265Z"
    },
    "papermill": {
     "duration": 0.071133,
     "end_time": "2023-10-11T14:44:24.510971",
     "exception": false,
     "start_time": "2023-10-11T14:44:24.439838",
     "status": "completed"
    },
    "tags": []
   },
   "outputs": [
    {
     "data": {
      "text/plain": [
       "array([3, 4])"
      ]
     },
     "execution_count": 68,
     "metadata": {},
     "output_type": "execute_result"
    }
   ],
   "source": [
    "# np.logical_and() ve np.logical_or() ile birden fazla koşulu birleştirme:\n",
    "\n",
    "mask1 = arr > 2\n",
    "mask2 = arr < 5\n",
    "\n",
    "arr[np.logical_and(mask1, mask2)]"
   ]
  },
  {
   "cell_type": "code",
   "execution_count": 69,
   "id": "e8136b2c",
   "metadata": {
    "execution": {
     "iopub.execute_input": "2023-10-11T14:44:24.636604Z",
     "iopub.status.busy": "2023-10-11T14:44:24.636055Z",
     "iopub.status.idle": "2023-10-11T14:44:24.642057Z",
     "shell.execute_reply": "2023-10-11T14:44:24.641130Z"
    },
    "papermill": {
     "duration": 0.070929,
     "end_time": "2023-10-11T14:44:24.644262",
     "exception": false,
     "start_time": "2023-10-11T14:44:24.573333",
     "status": "completed"
    },
    "tags": []
   },
   "outputs": [
    {
     "data": {
      "text/plain": [
       "True"
      ]
     },
     "execution_count": 69,
     "metadata": {},
     "output_type": "execute_result"
    }
   ],
   "source": [
    "# np.any() ve np.all() ile koşullu değerlendirme:\n",
    "\n",
    "np.any(arr > 3)"
   ]
  },
  {
   "cell_type": "code",
   "execution_count": 70,
   "id": "ad75b510",
   "metadata": {
    "execution": {
     "iopub.execute_input": "2023-10-11T14:44:24.772382Z",
     "iopub.status.busy": "2023-10-11T14:44:24.771815Z",
     "iopub.status.idle": "2023-10-11T14:44:24.778026Z",
     "shell.execute_reply": "2023-10-11T14:44:24.776903Z"
    },
    "papermill": {
     "duration": 0.072711,
     "end_time": "2023-10-11T14:44:24.780181",
     "exception": false,
     "start_time": "2023-10-11T14:44:24.707470",
     "status": "completed"
    },
    "tags": []
   },
   "outputs": [
    {
     "data": {
      "text/plain": [
       "False"
      ]
     },
     "execution_count": 70,
     "metadata": {},
     "output_type": "execute_result"
    }
   ],
   "source": [
    "np.all(arr > 3)"
   ]
  },
  {
   "cell_type": "markdown",
   "id": "e1f073fa",
   "metadata": {
    "papermill": {
     "duration": 0.06221,
     "end_time": "2023-10-11T14:44:24.905668",
     "exception": false,
     "start_time": "2023-10-11T14:44:24.843458",
     "status": "completed"
    },
    "tags": []
   },
   "source": [
    "<a id = \"13\"></a><br>\n",
    "<h1 style=\"background-color:#98AFC7;font-family:courier;font-size:250%;font-style: oblique;font-weight: bold;font-variant: small-caps;text-align:center;border-radius: 15px 50px;\"> Matematiksel İşlemler </h1>\n",
    "\n",
    "Python'da NumPy, matematiksel işlemler için geniş bir dizi fonksiyon ve yöntem sağlar. NumPy, matematiksel işlemler için hızlı ve etkili araçlar sunar ve bilimsel hesaplamalarda yaygın olarak kullanılır.\n",
    "\n",
    "* **Temel Aritmetik İşlemler:** Toplama, çıkarma, çarpma, bölme gibi temel aritmetik işlemleri gerçekleştirebilirsiniz.\n",
    "\n",
    "* **Matris İşlemleri:** Matris toplama, matris çarpımı, matris tersi alma gibi matris işlemleri için NumPy kullanabilirsiniz.\n",
    "\n",
    "* **Trigonometrik İşlemler:** Sinüs, kosinüs, tanjant gibi trigonometrik fonksiyonları hesaplamak için NumPy'ın trigonometrik fonksiyonlarını kullanabilirsiniz.\n",
    "\n",
    "* **Logaritmik ve Üstel İşlemler:** Logaritma ve üstel işlemler için NumPy fonksiyonlarını kullanabilirsiniz.\n",
    "\n",
    "* **İstatistiksel İşlemler:** Ortalama, standart sapma, medyan gibi istatistiksel işlemleri yapmak için NumPy'ın istatistiksel fonksiyonlarını kullanabilirsiniz.\n",
    "\n",
    "* **Uzaklık ve Norm İşlemleri:** İki nokta arasındaki uzaklığı hesaplamak için NumPy fonksiyonlarını kullanabilirsiniz.\n",
    "\n",
    "* **Rastgele Sayı Üretimi:** Rastgele sayılar üretmek için NumPy'ın rastgele sayı üretme fonksiyonlarını kullanabilirsiniz.\n",
    "\n",
    "* **Doğrusal Cebir İşlemleri:** Vektör iç çarpımı, matris çarpımı, determinan hesaplama gibi doğrusal cebir işlemleri için NumPy kullanabilirsiniz."
   ]
  },
  {
   "cell_type": "code",
   "execution_count": 71,
   "id": "a90a8418",
   "metadata": {
    "execution": {
     "iopub.execute_input": "2023-10-11T14:44:25.035257Z",
     "iopub.status.busy": "2023-10-11T14:44:25.034676Z",
     "iopub.status.idle": "2023-10-11T14:44:25.039188Z",
     "shell.execute_reply": "2023-10-11T14:44:25.038337Z"
    },
    "papermill": {
     "duration": 0.07086,
     "end_time": "2023-10-11T14:44:25.040895",
     "exception": false,
     "start_time": "2023-10-11T14:44:24.970035",
     "status": "completed"
    },
    "tags": []
   },
   "outputs": [],
   "source": [
    "# Temel aritmetik işlemler:\n",
    "\n",
    "x = 5\n",
    "y = 3"
   ]
  },
  {
   "cell_type": "code",
   "execution_count": 72,
   "id": "f2e88ebd",
   "metadata": {
    "execution": {
     "iopub.execute_input": "2023-10-11T14:44:25.168344Z",
     "iopub.status.busy": "2023-10-11T14:44:25.167440Z",
     "iopub.status.idle": "2023-10-11T14:44:25.173821Z",
     "shell.execute_reply": "2023-10-11T14:44:25.173026Z"
    },
    "papermill": {
     "duration": 0.071259,
     "end_time": "2023-10-11T14:44:25.175796",
     "exception": false,
     "start_time": "2023-10-11T14:44:25.104537",
     "status": "completed"
    },
    "tags": []
   },
   "outputs": [
    {
     "data": {
      "text/plain": [
       "8"
      ]
     },
     "execution_count": 72,
     "metadata": {},
     "output_type": "execute_result"
    }
   ],
   "source": [
    "np.add(x, y)  # toplama"
   ]
  },
  {
   "cell_type": "code",
   "execution_count": 73,
   "id": "af61c406",
   "metadata": {
    "execution": {
     "iopub.execute_input": "2023-10-11T14:44:25.304167Z",
     "iopub.status.busy": "2023-10-11T14:44:25.303841Z",
     "iopub.status.idle": "2023-10-11T14:44:25.309768Z",
     "shell.execute_reply": "2023-10-11T14:44:25.308682Z"
    },
    "papermill": {
     "duration": 0.073285,
     "end_time": "2023-10-11T14:44:25.311612",
     "exception": false,
     "start_time": "2023-10-11T14:44:25.238327",
     "status": "completed"
    },
    "tags": []
   },
   "outputs": [
    {
     "data": {
      "text/plain": [
       "2"
      ]
     },
     "execution_count": 73,
     "metadata": {},
     "output_type": "execute_result"
    }
   ],
   "source": [
    "np.subtract(x, y) # çıkarma"
   ]
  },
  {
   "cell_type": "code",
   "execution_count": 74,
   "id": "ba7da0af",
   "metadata": {
    "execution": {
     "iopub.execute_input": "2023-10-11T14:44:25.439418Z",
     "iopub.status.busy": "2023-10-11T14:44:25.439105Z",
     "iopub.status.idle": "2023-10-11T14:44:25.445333Z",
     "shell.execute_reply": "2023-10-11T14:44:25.444234Z"
    },
    "papermill": {
     "duration": 0.071994,
     "end_time": "2023-10-11T14:44:25.447255",
     "exception": false,
     "start_time": "2023-10-11T14:44:25.375261",
     "status": "completed"
    },
    "tags": []
   },
   "outputs": [
    {
     "data": {
      "text/plain": [
       "15"
      ]
     },
     "execution_count": 74,
     "metadata": {},
     "output_type": "execute_result"
    }
   ],
   "source": [
    "np.multiply(x, y) # çarpma"
   ]
  },
  {
   "cell_type": "code",
   "execution_count": 75,
   "id": "b47ba2a6",
   "metadata": {
    "execution": {
     "iopub.execute_input": "2023-10-11T14:44:25.639950Z",
     "iopub.status.busy": "2023-10-11T14:44:25.639570Z",
     "iopub.status.idle": "2023-10-11T14:44:25.644851Z",
     "shell.execute_reply": "2023-10-11T14:44:25.644204Z"
    },
    "papermill": {
     "duration": 0.135353,
     "end_time": "2023-10-11T14:44:25.646446",
     "exception": false,
     "start_time": "2023-10-11T14:44:25.511093",
     "status": "completed"
    },
    "tags": []
   },
   "outputs": [
    {
     "data": {
      "text/plain": [
       "1.6666666666666667"
      ]
     },
     "execution_count": 75,
     "metadata": {},
     "output_type": "execute_result"
    }
   ],
   "source": [
    "np.divide(x, y) # bölme"
   ]
  },
  {
   "cell_type": "code",
   "execution_count": 76,
   "id": "974f442d",
   "metadata": {
    "execution": {
     "iopub.execute_input": "2023-10-11T14:44:25.773146Z",
     "iopub.status.busy": "2023-10-11T14:44:25.772834Z",
     "iopub.status.idle": "2023-10-11T14:44:25.776902Z",
     "shell.execute_reply": "2023-10-11T14:44:25.775937Z"
    },
    "papermill": {
     "duration": 0.069851,
     "end_time": "2023-10-11T14:44:25.778765",
     "exception": false,
     "start_time": "2023-10-11T14:44:25.708914",
     "status": "completed"
    },
    "tags": []
   },
   "outputs": [],
   "source": [
    "# Trigonometrik işlemler:\n",
    "\n",
    "angle = np.pi / 4"
   ]
  },
  {
   "cell_type": "code",
   "execution_count": 77,
   "id": "6b1b9948",
   "metadata": {
    "execution": {
     "iopub.execute_input": "2023-10-11T14:44:25.909240Z",
     "iopub.status.busy": "2023-10-11T14:44:25.908921Z",
     "iopub.status.idle": "2023-10-11T14:44:25.915913Z",
     "shell.execute_reply": "2023-10-11T14:44:25.914893Z"
    },
    "papermill": {
     "duration": 0.073559,
     "end_time": "2023-10-11T14:44:25.917572",
     "exception": false,
     "start_time": "2023-10-11T14:44:25.844013",
     "status": "completed"
    },
    "tags": []
   },
   "outputs": [
    {
     "data": {
      "text/plain": [
       "0.7071067811865475"
      ]
     },
     "execution_count": 77,
     "metadata": {},
     "output_type": "execute_result"
    }
   ],
   "source": [
    "np.sin(angle)  # Sinüs"
   ]
  },
  {
   "cell_type": "code",
   "execution_count": 78,
   "id": "cbfab25d",
   "metadata": {
    "execution": {
     "iopub.execute_input": "2023-10-11T14:44:26.046294Z",
     "iopub.status.busy": "2023-10-11T14:44:26.045951Z",
     "iopub.status.idle": "2023-10-11T14:44:26.052388Z",
     "shell.execute_reply": "2023-10-11T14:44:26.051271Z"
    },
    "papermill": {
     "duration": 0.073368,
     "end_time": "2023-10-11T14:44:26.054362",
     "exception": false,
     "start_time": "2023-10-11T14:44:25.980994",
     "status": "completed"
    },
    "tags": []
   },
   "outputs": [
    {
     "data": {
      "text/plain": [
       "0.7071067811865476"
      ]
     },
     "execution_count": 78,
     "metadata": {},
     "output_type": "execute_result"
    }
   ],
   "source": [
    "np.cos(angle)  # Kosinüs"
   ]
  },
  {
   "cell_type": "code",
   "execution_count": 79,
   "id": "c52bc74a",
   "metadata": {
    "execution": {
     "iopub.execute_input": "2023-10-11T14:44:26.183156Z",
     "iopub.status.busy": "2023-10-11T14:44:26.182822Z",
     "iopub.status.idle": "2023-10-11T14:44:26.189203Z",
     "shell.execute_reply": "2023-10-11T14:44:26.188092Z"
    },
    "papermill": {
     "duration": 0.073292,
     "end_time": "2023-10-11T14:44:26.191287",
     "exception": false,
     "start_time": "2023-10-11T14:44:26.117995",
     "status": "completed"
    },
    "tags": []
   },
   "outputs": [
    {
     "data": {
      "text/plain": [
       "0.9999999999999999"
      ]
     },
     "execution_count": 79,
     "metadata": {},
     "output_type": "execute_result"
    }
   ],
   "source": [
    "np.tan(angle)  # Tanjant"
   ]
  },
  {
   "cell_type": "code",
   "execution_count": 80,
   "id": "221146ed",
   "metadata": {
    "execution": {
     "iopub.execute_input": "2023-10-11T14:44:26.319247Z",
     "iopub.status.busy": "2023-10-11T14:44:26.318911Z",
     "iopub.status.idle": "2023-10-11T14:44:26.322791Z",
     "shell.execute_reply": "2023-10-11T14:44:26.321812Z"
    },
    "papermill": {
     "duration": 0.069835,
     "end_time": "2023-10-11T14:44:26.324608",
     "exception": false,
     "start_time": "2023-10-11T14:44:26.254773",
     "status": "completed"
    },
    "tags": []
   },
   "outputs": [],
   "source": [
    "# Logaritmik ve üstel işlemler:\n",
    "\n",
    "num = 10"
   ]
  },
  {
   "cell_type": "code",
   "execution_count": 81,
   "id": "77c4fb0e",
   "metadata": {
    "execution": {
     "iopub.execute_input": "2023-10-11T14:44:26.450855Z",
     "iopub.status.busy": "2023-10-11T14:44:26.450491Z",
     "iopub.status.idle": "2023-10-11T14:44:26.456002Z",
     "shell.execute_reply": "2023-10-11T14:44:26.454913Z"
    },
    "papermill": {
     "duration": 0.070814,
     "end_time": "2023-10-11T14:44:26.457849",
     "exception": false,
     "start_time": "2023-10-11T14:44:26.387035",
     "status": "completed"
    },
    "tags": []
   },
   "outputs": [
    {
     "data": {
      "text/plain": [
       "2.302585092994046"
      ]
     },
     "execution_count": 81,
     "metadata": {},
     "output_type": "execute_result"
    }
   ],
   "source": [
    "np.log(num)  # Logaritma"
   ]
  },
  {
   "cell_type": "code",
   "execution_count": 82,
   "id": "920c81c4",
   "metadata": {
    "execution": {
     "iopub.execute_input": "2023-10-11T14:44:26.585616Z",
     "iopub.status.busy": "2023-10-11T14:44:26.584476Z",
     "iopub.status.idle": "2023-10-11T14:44:26.591030Z",
     "shell.execute_reply": "2023-10-11T14:44:26.590050Z"
    },
    "papermill": {
     "duration": 0.071832,
     "end_time": "2023-10-11T14:44:26.592814",
     "exception": false,
     "start_time": "2023-10-11T14:44:26.520982",
     "status": "completed"
    },
    "tags": []
   },
   "outputs": [
    {
     "data": {
      "text/plain": [
       "22026.465794806718"
      ]
     },
     "execution_count": 82,
     "metadata": {},
     "output_type": "execute_result"
    }
   ],
   "source": [
    "np.exp(num)  # Üstel fonksiyon"
   ]
  },
  {
   "cell_type": "code",
   "execution_count": 83,
   "id": "69a484ff",
   "metadata": {
    "execution": {
     "iopub.execute_input": "2023-10-11T14:44:26.719564Z",
     "iopub.status.busy": "2023-10-11T14:44:26.719246Z",
     "iopub.status.idle": "2023-10-11T14:44:26.724089Z",
     "shell.execute_reply": "2023-10-11T14:44:26.723094Z"
    },
    "papermill": {
     "duration": 0.070541,
     "end_time": "2023-10-11T14:44:26.726235",
     "exception": false,
     "start_time": "2023-10-11T14:44:26.655694",
     "status": "completed"
    },
    "tags": []
   },
   "outputs": [],
   "source": [
    "# İstatistiksel işlemler:\n",
    "\n",
    "data = np.array([2, 5, 7, 3, 9])"
   ]
  },
  {
   "cell_type": "code",
   "execution_count": 84,
   "id": "6739434a",
   "metadata": {
    "execution": {
     "iopub.execute_input": "2023-10-11T14:44:26.857109Z",
     "iopub.status.busy": "2023-10-11T14:44:26.856752Z",
     "iopub.status.idle": "2023-10-11T14:44:26.862366Z",
     "shell.execute_reply": "2023-10-11T14:44:26.861736Z"
    },
    "papermill": {
     "duration": 0.07214,
     "end_time": "2023-10-11T14:44:26.863995",
     "exception": false,
     "start_time": "2023-10-11T14:44:26.791855",
     "status": "completed"
    },
    "tags": []
   },
   "outputs": [
    {
     "data": {
      "text/plain": [
       "5.2"
      ]
     },
     "execution_count": 84,
     "metadata": {},
     "output_type": "execute_result"
    }
   ],
   "source": [
    "np.mean(data)  # Ortalama"
   ]
  },
  {
   "cell_type": "code",
   "execution_count": 85,
   "id": "426b170c",
   "metadata": {
    "execution": {
     "iopub.execute_input": "2023-10-11T14:44:26.991783Z",
     "iopub.status.busy": "2023-10-11T14:44:26.991442Z",
     "iopub.status.idle": "2023-10-11T14:44:26.997750Z",
     "shell.execute_reply": "2023-10-11T14:44:26.996726Z"
    },
    "papermill": {
     "duration": 0.072345,
     "end_time": "2023-10-11T14:44:26.999468",
     "exception": false,
     "start_time": "2023-10-11T14:44:26.927123",
     "status": "completed"
    },
    "tags": []
   },
   "outputs": [
    {
     "data": {
      "text/plain": [
       "2.5612496949731396"
      ]
     },
     "execution_count": 85,
     "metadata": {},
     "output_type": "execute_result"
    }
   ],
   "source": [
    "np.std(data)  # Standart sapma"
   ]
  },
  {
   "cell_type": "code",
   "execution_count": 86,
   "id": "6ac274df",
   "metadata": {
    "execution": {
     "iopub.execute_input": "2023-10-11T14:44:27.132089Z",
     "iopub.status.busy": "2023-10-11T14:44:27.131713Z",
     "iopub.status.idle": "2023-10-11T14:44:27.139119Z",
     "shell.execute_reply": "2023-10-11T14:44:27.138197Z"
    },
    "papermill": {
     "duration": 0.074525,
     "end_time": "2023-10-11T14:44:27.141045",
     "exception": false,
     "start_time": "2023-10-11T14:44:27.066520",
     "status": "completed"
    },
    "tags": []
   },
   "outputs": [
    {
     "data": {
      "text/plain": [
       "5.0"
      ]
     },
     "execution_count": 86,
     "metadata": {},
     "output_type": "execute_result"
    }
   ],
   "source": [
    "np.median(data)  # Medyan"
   ]
  },
  {
   "cell_type": "code",
   "execution_count": 87,
   "id": "6c32966d",
   "metadata": {
    "execution": {
     "iopub.execute_input": "2023-10-11T14:44:27.269789Z",
     "iopub.status.busy": "2023-10-11T14:44:27.269427Z",
     "iopub.status.idle": "2023-10-11T14:44:27.275691Z",
     "shell.execute_reply": "2023-10-11T14:44:27.274709Z"
    },
    "papermill": {
     "duration": 0.073137,
     "end_time": "2023-10-11T14:44:27.277619",
     "exception": false,
     "start_time": "2023-10-11T14:44:27.204482",
     "status": "completed"
    },
    "tags": []
   },
   "outputs": [
    {
     "data": {
      "text/plain": [
       "0.3357719469807494"
      ]
     },
     "execution_count": 87,
     "metadata": {},
     "output_type": "execute_result"
    }
   ],
   "source": [
    "# Rastgele sayı üretimi:\n",
    "\n",
    "np.random.rand()  # 0 ile 1 arasında rastgele bir sayı"
   ]
  },
  {
   "cell_type": "code",
   "execution_count": 88,
   "id": "b887841e",
   "metadata": {
    "execution": {
     "iopub.execute_input": "2023-10-11T14:44:27.407698Z",
     "iopub.status.busy": "2023-10-11T14:44:27.407118Z",
     "iopub.status.idle": "2023-10-11T14:44:27.413627Z",
     "shell.execute_reply": "2023-10-11T14:44:27.412620Z"
    },
    "papermill": {
     "duration": 0.074123,
     "end_time": "2023-10-11T14:44:27.415822",
     "exception": false,
     "start_time": "2023-10-11T14:44:27.341699",
     "status": "completed"
    },
    "tags": []
   },
   "outputs": [
    {
     "data": {
      "text/plain": [
       "7"
      ]
     },
     "execution_count": 88,
     "metadata": {},
     "output_type": "execute_result"
    }
   ],
   "source": [
    "np.random.randint(1, 10)  # 1 ile 9 arasında rastgele bir tamsayı"
   ]
  },
  {
   "cell_type": "code",
   "execution_count": 89,
   "id": "7ff97f14",
   "metadata": {
    "execution": {
     "iopub.execute_input": "2023-10-11T14:44:27.545412Z",
     "iopub.status.busy": "2023-10-11T14:44:27.544762Z",
     "iopub.status.idle": "2023-10-11T14:44:27.550610Z",
     "shell.execute_reply": "2023-10-11T14:44:27.549990Z"
    },
    "papermill": {
     "duration": 0.072365,
     "end_time": "2023-10-11T14:44:27.552615",
     "exception": false,
     "start_time": "2023-10-11T14:44:27.480250",
     "status": "completed"
    },
    "tags": []
   },
   "outputs": [
    {
     "data": {
      "text/plain": [
       "32"
      ]
     },
     "execution_count": 89,
     "metadata": {},
     "output_type": "execute_result"
    }
   ],
   "source": [
    "# Doğrusal cebir işlemleri:\n",
    "\n",
    "vector1 = np.array([1, 2, 3])\n",
    "vector2 = np.array([4, 5, 6])\n",
    "\n",
    "np.dot(vector1, vector2)  # Vektör iç çarpımı"
   ]
  },
  {
   "cell_type": "code",
   "execution_count": 90,
   "id": "3c96ca0c",
   "metadata": {
    "execution": {
     "iopub.execute_input": "2023-10-11T14:44:27.682022Z",
     "iopub.status.busy": "2023-10-11T14:44:27.681716Z",
     "iopub.status.idle": "2023-10-11T14:44:27.687119Z",
     "shell.execute_reply": "2023-10-11T14:44:27.686472Z"
    },
    "papermill": {
     "duration": 0.071376,
     "end_time": "2023-10-11T14:44:27.688832",
     "exception": false,
     "start_time": "2023-10-11T14:44:27.617456",
     "status": "completed"
    },
    "tags": []
   },
   "outputs": [
    {
     "data": {
      "text/plain": [
       "array([[19, 22],\n",
       "       [43, 50]])"
      ]
     },
     "execution_count": 90,
     "metadata": {},
     "output_type": "execute_result"
    }
   ],
   "source": [
    "matrix1 = np.array([[1, 2], [3, 4]])\n",
    "matrix2 = np.array([[5, 6], [7, 8]])\n",
    "\n",
    "np.matmul(matrix1, matrix2)  # Matris çarpımı"
   ]
  },
  {
   "cell_type": "code",
   "execution_count": 91,
   "id": "f300c04c",
   "metadata": {
    "execution": {
     "iopub.execute_input": "2023-10-11T14:44:27.821764Z",
     "iopub.status.busy": "2023-10-11T14:44:27.821359Z",
     "iopub.status.idle": "2023-10-11T14:44:27.827440Z",
     "shell.execute_reply": "2023-10-11T14:44:27.826697Z"
    },
    "papermill": {
     "duration": 0.076445,
     "end_time": "2023-10-11T14:44:27.829210",
     "exception": false,
     "start_time": "2023-10-11T14:44:27.752765",
     "status": "completed"
    },
    "tags": []
   },
   "outputs": [
    {
     "data": {
      "text/plain": [
       "-2.0000000000000004"
      ]
     },
     "execution_count": 91,
     "metadata": {},
     "output_type": "execute_result"
    }
   ],
   "source": [
    "np.linalg.det(matrix1)  # Matris determinantı"
   ]
  },
  {
   "cell_type": "code",
   "execution_count": 92,
   "id": "2b6a49c4",
   "metadata": {
    "execution": {
     "iopub.execute_input": "2023-10-11T14:44:27.959593Z",
     "iopub.status.busy": "2023-10-11T14:44:27.959270Z",
     "iopub.status.idle": "2023-10-11T14:44:27.969629Z",
     "shell.execute_reply": "2023-10-11T14:44:27.968376Z"
    },
    "papermill": {
     "duration": 0.077433,
     "end_time": "2023-10-11T14:44:27.971990",
     "exception": false,
     "start_time": "2023-10-11T14:44:27.894557",
     "status": "completed"
    },
    "tags": []
   },
   "outputs": [
    {
     "data": {
      "text/plain": [
       "array([1.85714286, 2.71428571])"
      ]
     },
     "execution_count": 92,
     "metadata": {},
     "output_type": "execute_result"
    }
   ],
   "source": [
    "# NumPy ile İki Bilinmeyenli Denklem Çözümü\n",
    "\n",
    "a = np.array([[5, 1], [1, 3]])\n",
    "b = np.array([12, 10])\n",
    "\n",
    "np.linalg.solve(a, b)"
   ]
  },
  {
   "cell_type": "markdown",
   "id": "5aa5167a",
   "metadata": {
    "papermill": {
     "duration": 0.064904,
     "end_time": "2023-10-11T14:44:28.104808",
     "exception": false,
     "start_time": "2023-10-11T14:44:28.039904",
     "status": "completed"
    },
    "tags": []
   },
   "source": [
    "<a id = \"14\"></a><br>\n",
    "<h1 style=\"background-color:#F75D59;font-family:courier;font-size:300%;font-style: oblique;font-weight: bold;font-variant: small-caps;text-align:center;border-radius: 15px 50px;\"> Pandas </h1>"
   ]
  },
  {
   "cell_type": "markdown",
   "id": "f8891f8f",
   "metadata": {
    "papermill": {
     "duration": 0.063035,
     "end_time": "2023-10-11T14:44:28.231665",
     "exception": false,
     "start_time": "2023-10-11T14:44:28.168630",
     "status": "completed"
    },
    "tags": []
   },
   "source": [
    "<a id = \"15\"></a><br>\n",
    "<h1 style=\"background-color:#77BFC7;font-family:courier;font-size:250%;font-style: oblique;font-weight: bold;font-variant: small-caps;text-align:center;border-radius: 15px 50px;\"> Giriş </h1>\n",
    "\n",
    "Pandas, Python programlama dilinde veri analizi ve veri manipülasyonu için kullanılan açık kaynaklı bir kütüphanedir. Pandas, güçlü ve esnek veri yapıları ve veri analizi araçları sunarak verilerinizi etkili bir şekilde işlemenize ve analiz etmenize olanak tanır. Pandas, özellikle tablo benzeri veri yapıları (DataFrame) üzerinde yüksek performanslı ve kolay işlemler yapmak için tasarlanmıştır.\n",
    "\n",
    "Pandas'ın temel yapıları şunlardır:\n",
    "\n",
    "* **DataFrame:** Verileri tablo şeklinde saklamak ve işlemek için kullanılan iki boyutlu veri yapısıdır. DataFrame, sütunlar ve satırlar içeren bir tabloyu temsil eder ve verilerinizi etiketli bir biçimde düzenlemenize ve analiz etmenize olanak tanır.\n",
    "\n",
    "* **Series:** Tek boyutlu etiketli veri dizileridir. Series, veri noktalarını ve bunlara karşılık gelen etiketleri içeren bir dizi gibi düşünülebilir. DataFrame içindeki sütunlar veya satırlar Series olarak temsil edilir.\n",
    "\n",
    "Pandas, verileri yükleme, filtreleme, dönüştürme, birleştirme, gruplama ve istatistiksel hesaplamalar gibi çeşitli işlemler için kullanılabilir. Ayrıca, verileri farklı formatlarda (CSV, Excel, SQL, vb.) okuma ve yazma işlemleri için de geniş bir desteğe sahiptir.\n",
    "\n",
    "Pandas, veri bilimciler, analistler ve veri mühendisleri tarafından yaygın olarak kullanılmaktadır. Verilerinizi hızlı ve etkili bir şekilde işlemek ve analiz etmek için Pandas'ı kullanabilirsiniz."
   ]
  },
  {
   "cell_type": "markdown",
   "id": "4a7054ef",
   "metadata": {
    "papermill": {
     "duration": 0.063024,
     "end_time": "2023-10-11T14:44:28.358045",
     "exception": false,
     "start_time": "2023-10-11T14:44:28.295021",
     "status": "completed"
    },
    "tags": []
   },
   "source": [
    "<a id = \"16\"></a><br>\n",
    "<h1 style=\"background-color:#77BFC7;font-family:courier;font-size:250%;font-style: oblique;font-weight: bold;font-variant: small-caps;text-align:center;border-radius: 15px 50px;\"> Seri Oluşturma </h1>\n",
    "\n",
    "Pandas serilerini Python'da oluşturmak için pd.Series() yapıcısını kullanabilirsiniz. Seriler, herhangi bir veri türündeki verileri tutabilen, etiketli bir boyutlu dizi olarak düşünülebilir. NumPy dizilerine benzerdir, ancak etiketli indeksleme gibi ek özelliklere sahiptir. Bir Pandas Series oluşturmak için öncelikle import pandas as pd komutuyla Pandas kütüphanesini içe aktarmalı ve ardından pd.Series() yapıcısını kullanarak Series oluşturmalısınız."
   ]
  },
  {
   "cell_type": "code",
   "execution_count": 93,
   "id": "dbc31ea4",
   "metadata": {
    "execution": {
     "iopub.execute_input": "2023-10-11T14:44:28.548258Z",
     "iopub.status.busy": "2023-10-11T14:44:28.547895Z",
     "iopub.status.idle": "2023-10-11T14:44:28.560478Z",
     "shell.execute_reply": "2023-10-11T14:44:28.559477Z"
    },
    "papermill": {
     "duration": 0.078799,
     "end_time": "2023-10-11T14:44:28.562260",
     "exception": false,
     "start_time": "2023-10-11T14:44:28.483461",
     "status": "completed"
    },
    "tags": []
   },
   "outputs": [
    {
     "data": {
      "text/plain": [
       "0    10\n",
       "1    20\n",
       "2    30\n",
       "3    40\n",
       "4    50\n",
       "dtype: int64"
      ]
     },
     "execution_count": 93,
     "metadata": {},
     "output_type": "execute_result"
    }
   ],
   "source": [
    "import pandas as pd\n",
    "\n",
    "# Python listesinden bir Series oluşturma:\n",
    "\n",
    "veri = [10, 20, 30, 40, 50]\n",
    "seri1 = pd.Series(veri)\n",
    "\n",
    "seri1"
   ]
  },
  {
   "cell_type": "code",
   "execution_count": 94,
   "id": "a8e244f5",
   "metadata": {
    "execution": {
     "iopub.execute_input": "2023-10-11T14:44:28.690949Z",
     "iopub.status.busy": "2023-10-11T14:44:28.690548Z",
     "iopub.status.idle": "2023-10-11T14:44:28.698883Z",
     "shell.execute_reply": "2023-10-11T14:44:28.697925Z"
    },
    "papermill": {
     "duration": 0.075088,
     "end_time": "2023-10-11T14:44:28.701021",
     "exception": false,
     "start_time": "2023-10-11T14:44:28.625933",
     "status": "completed"
    },
    "tags": []
   },
   "outputs": [
    {
     "data": {
      "text/plain": [
       "0    0.1\n",
       "1    0.2\n",
       "2    0.3\n",
       "3    0.4\n",
       "4    0.5\n",
       "dtype: float64"
      ]
     },
     "execution_count": 94,
     "metadata": {},
     "output_type": "execute_result"
    }
   ],
   "source": [
    "# NumPy dizisinden bir Series oluşturma:\n",
    "\n",
    "veri_np = np.array([0.1, 0.2, 0.3, 0.4, 0.5])\n",
    "seri2 = pd.Series(veri_np)\n",
    "\n",
    "seri2"
   ]
  },
  {
   "cell_type": "code",
   "execution_count": 95,
   "id": "7bda8f5f",
   "metadata": {
    "execution": {
     "iopub.execute_input": "2023-10-11T14:44:28.831232Z",
     "iopub.status.busy": "2023-10-11T14:44:28.830871Z",
     "iopub.status.idle": "2023-10-11T14:44:28.845115Z",
     "shell.execute_reply": "2023-10-11T14:44:28.843939Z"
    },
    "papermill": {
     "duration": 0.082647,
     "end_time": "2023-10-11T14:44:28.847545",
     "exception": false,
     "start_time": "2023-10-11T14:44:28.764898",
     "status": "completed"
    },
    "tags": []
   },
   "outputs": [
    {
     "data": {
      "text/plain": [
       "A    10\n",
       "B    20\n",
       "C    30\n",
       "D    40\n",
       "E    50\n",
       "dtype: int64"
      ]
     },
     "execution_count": 95,
     "metadata": {},
     "output_type": "execute_result"
    }
   ],
   "source": [
    "# Özel indeks etiketleriyle bir Series oluşturma:\n",
    "\n",
    "veri_sozluk = {'A': 10, 'B': 20, 'C': 30, 'D': 40, 'E': 50}\n",
    "seri3 = pd.Series(veri_sozluk)\n",
    "\n",
    "seri3"
   ]
  },
  {
   "cell_type": "markdown",
   "id": "2ed5b0ce",
   "metadata": {
    "papermill": {
     "duration": 0.063274,
     "end_time": "2023-10-11T14:44:28.975029",
     "exception": false,
     "start_time": "2023-10-11T14:44:28.911755",
     "status": "completed"
    },
    "tags": []
   },
   "source": [
    "<div style=\"border-radius:10px; border:#DEB887 solid; padding: 15px; background-color: #FFFAF0; font-size:100%; text-align:left\">\n",
    "\n",
    "<h3 align=\"left\"><font color='#DEB887'>💡 Notlar: </font></h3>\n",
    "\n",
    "* Pandas Serileri için sık kullanılan bazı komutlar:\n",
    "\n",
    "**pd.Series():** Yeni bir Pandas Serisi oluşturmak için kullanılır.\n",
    "\n",
    "**head():** Serinin ilk birkaç satırını görmek için kullanılır.\n",
    "\n",
    "**tail():** Serinin son birkaç satırını görmek için kullanılır.\n",
    "\n",
    "**shape:** Serinin boyutunu (satır, sütun) gösteren bir demet döndürür.\n",
    "\n",
    "**size:** Serinin toplam eleman sayısını döndürür.\n",
    "\n",
    "**index:** Serinin indekslerini döndürür.\n",
    "\n",
    "**values:** Serinin değerlerini (verilerini) döndürür.\n",
    "\n",
    "**describe():** Serinin temel istatistiksel bilgilerini (count, mean, std, min, 25%, 50%, 75%, max) görmek için kullanılır.\n",
    "\n",
    "**unique():** Serideki benzersiz değerleri döndürür.\n",
    "\n",
    "**nunique():** Serideki benzersiz değerlerin sayısını döndürür.\n",
    "\n",
    "**count():** Serideki toplam eleman sayısını döndürür (NaN olmayan değerlerin sayısı).\n",
    "\n",
    "**sum():** Serideki değerlerin toplamını döndürür.\n",
    "\n",
    "**mean():** Serideki değerlerin ortalamasını döndürür.\n",
    "\n",
    "**median():** Serideki değerlerin ortanca değerini döndürür.\n",
    "\n",
    "**min():** Serideki en küçük değeri döndürür.\n",
    "\n",
    "**max():** Serideki en büyük değeri döndürür.\n",
    "\n",
    "**std():** Serideki değerlerin standart sapmasını döndürür.\n",
    "\n",
    "**var():** Serideki değerlerin varyansını döndürür.\n",
    "\n",
    "**sort_values():** Seriyi değerlere göre sıralar.\n",
    "\n",
    "**sort_index():** Seriyi indekslere göre sıralar.\n",
    "\n",
    "**isnull():** Her bir elemanın NaN olup olmadığını kontrol eder ve sonuçları bir boolean Seri olarak döndürür.\n",
    "\n",
    "**fillna():** NaN değerleri başka bir değerle doldurmak için kullanılır.\n",
    "\n",
    "**dropna():** NaN değerleri içeren satırları kaldırmak için kullanılır.\n",
    "\n",
    "**apply():** Her elemana bir fonksiyon uygulamak için kullanılır.\n",
    "\n",
    "**map():** Her elemana bir sözlük veya Seri uygulamak için kullanılır.\n",
    "\n",
    "**replace():** Belirli değerleri başka bir değerle değiştirmek için kullanılır.\n",
    "\n",
    "**iloc[]:** Serideki elemanlara konum indeksiyle erişmek için kullanılır.\n",
    "\n",
    "**loc[]:** Serideki elemanlara etiket indeksiyle erişmek için kullanılır.\n",
    "\n",
    "**astype():** Serinin veri türünü dönüştürmek için kullanılır.\n",
    "\n",
    "**copy():** Bir Seri üzerinde değişiklik yapmak istediğinizde, orijinal Seriyi korumak için kullanılır."
   ]
  },
  {
   "cell_type": "code",
   "execution_count": 96,
   "id": "6f2d3afb",
   "metadata": {
    "execution": {
     "iopub.execute_input": "2023-10-11T14:44:29.106105Z",
     "iopub.status.busy": "2023-10-11T14:44:29.104958Z",
     "iopub.status.idle": "2023-10-11T14:44:29.111804Z",
     "shell.execute_reply": "2023-10-11T14:44:29.110832Z"
    },
    "papermill": {
     "duration": 0.073568,
     "end_time": "2023-10-11T14:44:29.113599",
     "exception": false,
     "start_time": "2023-10-11T14:44:29.040031",
     "status": "completed"
    },
    "tags": []
   },
   "outputs": [
    {
     "data": {
      "text/plain": [
       "RangeIndex(start=0, stop=5, step=1)"
      ]
     },
     "execution_count": 96,
     "metadata": {},
     "output_type": "execute_result"
    }
   ],
   "source": [
    "seri1.index"
   ]
  },
  {
   "cell_type": "code",
   "execution_count": 97,
   "id": "fd7d3fe0",
   "metadata": {
    "execution": {
     "iopub.execute_input": "2023-10-11T14:44:29.244264Z",
     "iopub.status.busy": "2023-10-11T14:44:29.243920Z",
     "iopub.status.idle": "2023-10-11T14:44:29.250041Z",
     "shell.execute_reply": "2023-10-11T14:44:29.248963Z"
    },
    "papermill": {
     "duration": 0.074309,
     "end_time": "2023-10-11T14:44:29.252011",
     "exception": false,
     "start_time": "2023-10-11T14:44:29.177702",
     "status": "completed"
    },
    "tags": []
   },
   "outputs": [
    {
     "data": {
      "text/plain": [
       "dtype('int64')"
      ]
     },
     "execution_count": 97,
     "metadata": {},
     "output_type": "execute_result"
    }
   ],
   "source": [
    "seri1.dtype"
   ]
  },
  {
   "cell_type": "code",
   "execution_count": 98,
   "id": "92a4a386",
   "metadata": {
    "execution": {
     "iopub.execute_input": "2023-10-11T14:44:29.425113Z",
     "iopub.status.busy": "2023-10-11T14:44:29.424436Z",
     "iopub.status.idle": "2023-10-11T14:44:29.431397Z",
     "shell.execute_reply": "2023-10-11T14:44:29.430448Z"
    },
    "papermill": {
     "duration": 0.1008,
     "end_time": "2023-10-11T14:44:29.433215",
     "exception": false,
     "start_time": "2023-10-11T14:44:29.332415",
     "status": "completed"
    },
    "tags": []
   },
   "outputs": [
    {
     "data": {
      "text/plain": [
       "5"
      ]
     },
     "execution_count": 98,
     "metadata": {},
     "output_type": "execute_result"
    }
   ],
   "source": [
    "seri1.size"
   ]
  },
  {
   "cell_type": "code",
   "execution_count": 99,
   "id": "7202c92e",
   "metadata": {
    "execution": {
     "iopub.execute_input": "2023-10-11T14:44:29.579608Z",
     "iopub.status.busy": "2023-10-11T14:44:29.579140Z",
     "iopub.status.idle": "2023-10-11T14:44:29.586686Z",
     "shell.execute_reply": "2023-10-11T14:44:29.585618Z"
    },
    "papermill": {
     "duration": 0.083343,
     "end_time": "2023-10-11T14:44:29.588630",
     "exception": false,
     "start_time": "2023-10-11T14:44:29.505287",
     "status": "completed"
    },
    "tags": []
   },
   "outputs": [
    {
     "data": {
      "text/plain": [
       "1"
      ]
     },
     "execution_count": 99,
     "metadata": {},
     "output_type": "execute_result"
    }
   ],
   "source": [
    "seri1.ndim"
   ]
  },
  {
   "cell_type": "code",
   "execution_count": 100,
   "id": "9da8f9a9",
   "metadata": {
    "execution": {
     "iopub.execute_input": "2023-10-11T14:44:29.752670Z",
     "iopub.status.busy": "2023-10-11T14:44:29.752168Z",
     "iopub.status.idle": "2023-10-11T14:44:29.758931Z",
     "shell.execute_reply": "2023-10-11T14:44:29.758105Z"
    },
    "papermill": {
     "duration": 0.092485,
     "end_time": "2023-10-11T14:44:29.761489",
     "exception": false,
     "start_time": "2023-10-11T14:44:29.669004",
     "status": "completed"
    },
    "tags": []
   },
   "outputs": [
    {
     "data": {
      "text/plain": [
       "array([10, 20, 30, 40, 50])"
      ]
     },
     "execution_count": 100,
     "metadata": {},
     "output_type": "execute_result"
    }
   ],
   "source": [
    "seri1.values"
   ]
  },
  {
   "cell_type": "code",
   "execution_count": 101,
   "id": "241e6c00",
   "metadata": {
    "execution": {
     "iopub.execute_input": "2023-10-11T14:44:29.902791Z",
     "iopub.status.busy": "2023-10-11T14:44:29.901999Z",
     "iopub.status.idle": "2023-10-11T14:44:29.909384Z",
     "shell.execute_reply": "2023-10-11T14:44:29.908374Z"
    },
    "papermill": {
     "duration": 0.077348,
     "end_time": "2023-10-11T14:44:29.911361",
     "exception": false,
     "start_time": "2023-10-11T14:44:29.834013",
     "status": "completed"
    },
    "tags": []
   },
   "outputs": [
    {
     "data": {
      "text/plain": [
       "numpy.ndarray"
      ]
     },
     "execution_count": 101,
     "metadata": {},
     "output_type": "execute_result"
    }
   ],
   "source": [
    "type(seri1.values)"
   ]
  },
  {
   "cell_type": "code",
   "execution_count": 102,
   "id": "227b0e8c",
   "metadata": {
    "execution": {
     "iopub.execute_input": "2023-10-11T14:44:30.050008Z",
     "iopub.status.busy": "2023-10-11T14:44:30.049519Z",
     "iopub.status.idle": "2023-10-11T14:44:30.057824Z",
     "shell.execute_reply": "2023-10-11T14:44:30.056840Z"
    },
    "papermill": {
     "duration": 0.080293,
     "end_time": "2023-10-11T14:44:30.059961",
     "exception": false,
     "start_time": "2023-10-11T14:44:29.979668",
     "status": "completed"
    },
    "tags": []
   },
   "outputs": [
    {
     "data": {
      "text/plain": [
       "0    10\n",
       "1    20\n",
       "dtype: int64"
      ]
     },
     "execution_count": 102,
     "metadata": {},
     "output_type": "execute_result"
    }
   ],
   "source": [
    "seri1.head(2)"
   ]
  },
  {
   "cell_type": "code",
   "execution_count": 103,
   "id": "a853faad",
   "metadata": {
    "execution": {
     "iopub.execute_input": "2023-10-11T14:44:30.191875Z",
     "iopub.status.busy": "2023-10-11T14:44:30.191268Z",
     "iopub.status.idle": "2023-10-11T14:44:30.198167Z",
     "shell.execute_reply": "2023-10-11T14:44:30.197200Z"
    },
    "papermill": {
     "duration": 0.074868,
     "end_time": "2023-10-11T14:44:30.200165",
     "exception": false,
     "start_time": "2023-10-11T14:44:30.125297",
     "status": "completed"
    },
    "tags": []
   },
   "outputs": [
    {
     "data": {
      "text/plain": [
       "3    40\n",
       "4    50\n",
       "dtype: int64"
      ]
     },
     "execution_count": 103,
     "metadata": {},
     "output_type": "execute_result"
    }
   ],
   "source": [
    "seri1.tail(2)"
   ]
  },
  {
   "cell_type": "markdown",
   "id": "97709e29",
   "metadata": {
    "papermill": {
     "duration": 0.064225,
     "end_time": "2023-10-11T14:44:30.330129",
     "exception": false,
     "start_time": "2023-10-11T14:44:30.265904",
     "status": "completed"
    },
    "tags": []
   },
   "source": [
    "<a id = \"17\"></a><br>\n",
    "<h1 style=\"background-color:#77BFC7;font-family:courier;font-size:250%;font-style: oblique;font-weight: bold;font-variant: small-caps;text-align:center;border-radius: 15px 50px;\"> DataFrame Oluşturma </h1>\n",
    "\n",
    "Pandas DataFrame, Python'da tablo benzeri verileri düzenlemek ve işlemek için kullanılan güçlü bir veri yapısıdır. DataFrame, etiketli sütun ve satırlardan oluşur ve birçok veri tipini destekler."
   ]
  },
  {
   "cell_type": "code",
   "execution_count": 104,
   "id": "9db43b33",
   "metadata": {
    "execution": {
     "iopub.execute_input": "2023-10-11T14:44:30.464390Z",
     "iopub.status.busy": "2023-10-11T14:44:30.463612Z",
     "iopub.status.idle": "2023-10-11T14:44:30.477955Z",
     "shell.execute_reply": "2023-10-11T14:44:30.476999Z"
    },
    "papermill": {
     "duration": 0.0841,
     "end_time": "2023-10-11T14:44:30.479972",
     "exception": false,
     "start_time": "2023-10-11T14:44:30.395872",
     "status": "completed"
    },
    "tags": []
   },
   "outputs": [
    {
     "data": {
      "text/html": [
       "<div>\n",
       "<style scoped>\n",
       "    .dataframe tbody tr th:only-of-type {\n",
       "        vertical-align: middle;\n",
       "    }\n",
       "\n",
       "    .dataframe tbody tr th {\n",
       "        vertical-align: top;\n",
       "    }\n",
       "\n",
       "    .dataframe thead th {\n",
       "        text-align: right;\n",
       "    }\n",
       "</style>\n",
       "<table border=\"1\" class=\"dataframe\">\n",
       "  <thead>\n",
       "    <tr style=\"text-align: right;\">\n",
       "      <th></th>\n",
       "      <th>Name</th>\n",
       "      <th>Age</th>\n",
       "      <th>City</th>\n",
       "    </tr>\n",
       "  </thead>\n",
       "  <tbody>\n",
       "    <tr>\n",
       "      <th>0</th>\n",
       "      <td>John</td>\n",
       "      <td>25</td>\n",
       "      <td>New York</td>\n",
       "    </tr>\n",
       "    <tr>\n",
       "      <th>1</th>\n",
       "      <td>Jane</td>\n",
       "      <td>30</td>\n",
       "      <td>London</td>\n",
       "    </tr>\n",
       "    <tr>\n",
       "      <th>2</th>\n",
       "      <td>Mike</td>\n",
       "      <td>22</td>\n",
       "      <td>Paris</td>\n",
       "    </tr>\n",
       "  </tbody>\n",
       "</table>\n",
       "</div>"
      ],
      "text/plain": [
       "   Name  Age      City\n",
       "0  John   25  New York\n",
       "1  Jane   30    London\n",
       "2  Mike   22     Paris"
      ]
     },
     "execution_count": 104,
     "metadata": {},
     "output_type": "execute_result"
    }
   ],
   "source": [
    "import pandas as pd\n",
    "import numpy as np\n",
    "\n",
    "#  Liste veya NumPy Dizisi kullanarak:\n",
    "\n",
    "data = [['John', 25, 'New York'],\n",
    "        ['Jane', 30, 'London'],\n",
    "        ['Mike', 22, 'Paris']]\n",
    "\n",
    "columns = ['Name', 'Age', 'City']\n",
    "\n",
    "df = pd.DataFrame(data, columns=columns)\n",
    "\n",
    "df"
   ]
  },
  {
   "cell_type": "code",
   "execution_count": 105,
   "id": "a63268f2",
   "metadata": {
    "execution": {
     "iopub.execute_input": "2023-10-11T14:44:30.613519Z",
     "iopub.status.busy": "2023-10-11T14:44:30.612758Z",
     "iopub.status.idle": "2023-10-11T14:44:30.623540Z",
     "shell.execute_reply": "2023-10-11T14:44:30.622721Z"
    },
    "papermill": {
     "duration": 0.079089,
     "end_time": "2023-10-11T14:44:30.625396",
     "exception": false,
     "start_time": "2023-10-11T14:44:30.546307",
     "status": "completed"
    },
    "tags": []
   },
   "outputs": [
    {
     "data": {
      "text/html": [
       "<div>\n",
       "<style scoped>\n",
       "    .dataframe tbody tr th:only-of-type {\n",
       "        vertical-align: middle;\n",
       "    }\n",
       "\n",
       "    .dataframe tbody tr th {\n",
       "        vertical-align: top;\n",
       "    }\n",
       "\n",
       "    .dataframe thead th {\n",
       "        text-align: right;\n",
       "    }\n",
       "</style>\n",
       "<table border=\"1\" class=\"dataframe\">\n",
       "  <thead>\n",
       "    <tr style=\"text-align: right;\">\n",
       "      <th></th>\n",
       "      <th>Name</th>\n",
       "      <th>Age</th>\n",
       "      <th>City</th>\n",
       "    </tr>\n",
       "  </thead>\n",
       "  <tbody>\n",
       "    <tr>\n",
       "      <th>0</th>\n",
       "      <td>John</td>\n",
       "      <td>25</td>\n",
       "      <td>New York</td>\n",
       "    </tr>\n",
       "    <tr>\n",
       "      <th>1</th>\n",
       "      <td>Jane</td>\n",
       "      <td>30</td>\n",
       "      <td>London</td>\n",
       "    </tr>\n",
       "    <tr>\n",
       "      <th>2</th>\n",
       "      <td>Mike</td>\n",
       "      <td>22</td>\n",
       "      <td>Paris</td>\n",
       "    </tr>\n",
       "  </tbody>\n",
       "</table>\n",
       "</div>"
      ],
      "text/plain": [
       "   Name  Age      City\n",
       "0  John   25  New York\n",
       "1  Jane   30    London\n",
       "2  Mike   22     Paris"
      ]
     },
     "execution_count": 105,
     "metadata": {},
     "output_type": "execute_result"
    }
   ],
   "source": [
    "# Sözlük kullanarak:\n",
    "\n",
    "data = {'Name': ['John', 'Jane', 'Mike'],\n",
    "        'Age': [25, 30, 22],\n",
    "        'City': ['New York', 'London', 'Paris']}\n",
    "\n",
    "df = pd.DataFrame(data)\n",
    "\n",
    "df"
   ]
  },
  {
   "cell_type": "code",
   "execution_count": 106,
   "id": "38e7c83b",
   "metadata": {
    "execution": {
     "iopub.execute_input": "2023-10-11T14:44:30.757672Z",
     "iopub.status.busy": "2023-10-11T14:44:30.757302Z",
     "iopub.status.idle": "2023-10-11T14:44:30.784863Z",
     "shell.execute_reply": "2023-10-11T14:44:30.783730Z"
    },
    "papermill": {
     "duration": 0.096197,
     "end_time": "2023-10-11T14:44:30.786920",
     "exception": false,
     "start_time": "2023-10-11T14:44:30.690723",
     "status": "completed"
    },
    "tags": []
   },
   "outputs": [
    {
     "data": {
      "text/html": [
       "<div>\n",
       "<style scoped>\n",
       "    .dataframe tbody tr th:only-of-type {\n",
       "        vertical-align: middle;\n",
       "    }\n",
       "\n",
       "    .dataframe tbody tr th {\n",
       "        vertical-align: top;\n",
       "    }\n",
       "\n",
       "    .dataframe thead th {\n",
       "        text-align: right;\n",
       "    }\n",
       "</style>\n",
       "<table border=\"1\" class=\"dataframe\">\n",
       "  <thead>\n",
       "    <tr style=\"text-align: right;\">\n",
       "      <th></th>\n",
       "      <th>PassengerId</th>\n",
       "      <th>Survived</th>\n",
       "      <th>Pclass</th>\n",
       "      <th>Name</th>\n",
       "      <th>Sex</th>\n",
       "      <th>Age</th>\n",
       "      <th>SibSp</th>\n",
       "      <th>Parch</th>\n",
       "      <th>Ticket</th>\n",
       "      <th>Fare</th>\n",
       "      <th>Cabin</th>\n",
       "      <th>Embarked</th>\n",
       "    </tr>\n",
       "  </thead>\n",
       "  <tbody>\n",
       "    <tr>\n",
       "      <th>0</th>\n",
       "      <td>1</td>\n",
       "      <td>0</td>\n",
       "      <td>3</td>\n",
       "      <td>Braund, Mr. Owen Harris</td>\n",
       "      <td>male</td>\n",
       "      <td>22.0</td>\n",
       "      <td>1</td>\n",
       "      <td>0</td>\n",
       "      <td>A/5 21171</td>\n",
       "      <td>7.2500</td>\n",
       "      <td>NaN</td>\n",
       "      <td>S</td>\n",
       "    </tr>\n",
       "    <tr>\n",
       "      <th>1</th>\n",
       "      <td>2</td>\n",
       "      <td>1</td>\n",
       "      <td>1</td>\n",
       "      <td>Cumings, Mrs. John Bradley (Florence Briggs Th...</td>\n",
       "      <td>female</td>\n",
       "      <td>38.0</td>\n",
       "      <td>1</td>\n",
       "      <td>0</td>\n",
       "      <td>PC 17599</td>\n",
       "      <td>71.2833</td>\n",
       "      <td>C85</td>\n",
       "      <td>C</td>\n",
       "    </tr>\n",
       "    <tr>\n",
       "      <th>2</th>\n",
       "      <td>3</td>\n",
       "      <td>1</td>\n",
       "      <td>3</td>\n",
       "      <td>Heikkinen, Miss. Laina</td>\n",
       "      <td>female</td>\n",
       "      <td>26.0</td>\n",
       "      <td>0</td>\n",
       "      <td>0</td>\n",
       "      <td>STON/O2. 3101282</td>\n",
       "      <td>7.9250</td>\n",
       "      <td>NaN</td>\n",
       "      <td>S</td>\n",
       "    </tr>\n",
       "    <tr>\n",
       "      <th>3</th>\n",
       "      <td>4</td>\n",
       "      <td>1</td>\n",
       "      <td>1</td>\n",
       "      <td>Futrelle, Mrs. Jacques Heath (Lily May Peel)</td>\n",
       "      <td>female</td>\n",
       "      <td>35.0</td>\n",
       "      <td>1</td>\n",
       "      <td>0</td>\n",
       "      <td>113803</td>\n",
       "      <td>53.1000</td>\n",
       "      <td>C123</td>\n",
       "      <td>S</td>\n",
       "    </tr>\n",
       "    <tr>\n",
       "      <th>4</th>\n",
       "      <td>5</td>\n",
       "      <td>0</td>\n",
       "      <td>3</td>\n",
       "      <td>Allen, Mr. William Henry</td>\n",
       "      <td>male</td>\n",
       "      <td>35.0</td>\n",
       "      <td>0</td>\n",
       "      <td>0</td>\n",
       "      <td>373450</td>\n",
       "      <td>8.0500</td>\n",
       "      <td>NaN</td>\n",
       "      <td>S</td>\n",
       "    </tr>\n",
       "  </tbody>\n",
       "</table>\n",
       "</div>"
      ],
      "text/plain": [
       "   PassengerId  Survived  Pclass  \\\n",
       "0            1         0       3   \n",
       "1            2         1       1   \n",
       "2            3         1       3   \n",
       "3            4         1       1   \n",
       "4            5         0       3   \n",
       "\n",
       "                                                Name     Sex   Age  SibSp  \\\n",
       "0                            Braund, Mr. Owen Harris    male  22.0      1   \n",
       "1  Cumings, Mrs. John Bradley (Florence Briggs Th...  female  38.0      1   \n",
       "2                             Heikkinen, Miss. Laina  female  26.0      0   \n",
       "3       Futrelle, Mrs. Jacques Heath (Lily May Peel)  female  35.0      1   \n",
       "4                           Allen, Mr. William Henry    male  35.0      0   \n",
       "\n",
       "   Parch            Ticket     Fare Cabin Embarked  \n",
       "0      0         A/5 21171   7.2500   NaN        S  \n",
       "1      0          PC 17599  71.2833   C85        C  \n",
       "2      0  STON/O2. 3101282   7.9250   NaN        S  \n",
       "3      0            113803  53.1000  C123        S  \n",
       "4      0            373450   8.0500   NaN        S  "
      ]
     },
     "execution_count": 106,
     "metadata": {},
     "output_type": "execute_result"
    }
   ],
   "source": [
    "# CSV dosyasından DataFrame oluşturma:\n",
    "\n",
    "df = pd.read_csv('/kaggle/input/titanic/train.csv')\n",
    "\n",
    "df.head()"
   ]
  },
  {
   "cell_type": "code",
   "execution_count": 107,
   "id": "a895b91d",
   "metadata": {
    "execution": {
     "iopub.execute_input": "2023-10-11T14:44:30.923483Z",
     "iopub.status.busy": "2023-10-11T14:44:30.922547Z",
     "iopub.status.idle": "2023-10-11T14:44:30.926682Z",
     "shell.execute_reply": "2023-10-11T14:44:30.925859Z"
    },
    "papermill": {
     "duration": 0.071984,
     "end_time": "2023-10-11T14:44:30.928349",
     "exception": false,
     "start_time": "2023-10-11T14:44:30.856365",
     "status": "completed"
    },
    "tags": []
   },
   "outputs": [],
   "source": [
    "# Excel dosyasından DataFrame oluşturma:\n",
    "\n",
    "# df = pd.read_excel('veri.xlsx')"
   ]
  },
  {
   "cell_type": "markdown",
   "id": "e930534b",
   "metadata": {
    "papermill": {
     "duration": 0.06613,
     "end_time": "2023-10-11T14:44:31.059627",
     "exception": false,
     "start_time": "2023-10-11T14:44:30.993497",
     "status": "completed"
    },
    "tags": []
   },
   "source": [
    "<a id = \"18\"></a><br>\n",
    "<h1 style=\"background-color:#77BFC7;font-family:courier;font-size:250%;font-style: oblique;font-weight: bold;font-variant: small-caps;text-align:center;border-radius: 15px 50px;\"> DataFrame İşlemleri </h1>"
   ]
  },
  {
   "cell_type": "code",
   "execution_count": 108,
   "id": "9b717e83",
   "metadata": {
    "execution": {
     "iopub.execute_input": "2023-10-11T14:44:31.193969Z",
     "iopub.status.busy": "2023-10-11T14:44:31.193591Z",
     "iopub.status.idle": "2023-10-11T14:44:32.649065Z",
     "shell.execute_reply": "2023-10-11T14:44:32.648015Z"
    },
    "papermill": {
     "duration": 1.525062,
     "end_time": "2023-10-11T14:44:32.651785",
     "exception": false,
     "start_time": "2023-10-11T14:44:31.126723",
     "status": "completed"
    },
    "tags": []
   },
   "outputs": [
    {
     "name": "stderr",
     "output_type": "stream",
     "text": [
      "/opt/conda/lib/python3.10/site-packages/scipy/__init__.py:146: UserWarning: A NumPy version >=1.16.5 and <1.23.0 is required for this version of SciPy (detected version 1.23.5\n",
      "  warnings.warn(f\"A NumPy version >={np_minversion} and <{np_maxversion}\"\n"
     ]
    }
   ],
   "source": [
    "import pandas as pd\n",
    "import seaborn as sns\n",
    "\n",
    "df = pd.read_csv('/kaggle/input/titanic/train.csv')"
   ]
  },
  {
   "cell_type": "markdown",
   "id": "3c9141d4",
   "metadata": {
    "papermill": {
     "duration": 0.064686,
     "end_time": "2023-10-11T14:44:32.783070",
     "exception": false,
     "start_time": "2023-10-11T14:44:32.718384",
     "status": "completed"
    },
    "tags": []
   },
   "source": [
    " * **Veriye Hızlı Bakış:**"
   ]
  },
  {
   "cell_type": "code",
   "execution_count": 109,
   "id": "f244945f",
   "metadata": {
    "execution": {
     "iopub.execute_input": "2023-10-11T14:44:32.920037Z",
     "iopub.status.busy": "2023-10-11T14:44:32.919340Z",
     "iopub.status.idle": "2023-10-11T14:44:32.934814Z",
     "shell.execute_reply": "2023-10-11T14:44:32.933875Z"
    },
    "papermill": {
     "duration": 0.085111,
     "end_time": "2023-10-11T14:44:32.936829",
     "exception": false,
     "start_time": "2023-10-11T14:44:32.851718",
     "status": "completed"
    },
    "tags": []
   },
   "outputs": [
    {
     "data": {
      "text/html": [
       "<div>\n",
       "<style scoped>\n",
       "    .dataframe tbody tr th:only-of-type {\n",
       "        vertical-align: middle;\n",
       "    }\n",
       "\n",
       "    .dataframe tbody tr th {\n",
       "        vertical-align: top;\n",
       "    }\n",
       "\n",
       "    .dataframe thead th {\n",
       "        text-align: right;\n",
       "    }\n",
       "</style>\n",
       "<table border=\"1\" class=\"dataframe\">\n",
       "  <thead>\n",
       "    <tr style=\"text-align: right;\">\n",
       "      <th></th>\n",
       "      <th>PassengerId</th>\n",
       "      <th>Survived</th>\n",
       "      <th>Pclass</th>\n",
       "      <th>Name</th>\n",
       "      <th>Sex</th>\n",
       "      <th>Age</th>\n",
       "      <th>SibSp</th>\n",
       "      <th>Parch</th>\n",
       "      <th>Ticket</th>\n",
       "      <th>Fare</th>\n",
       "      <th>Cabin</th>\n",
       "      <th>Embarked</th>\n",
       "    </tr>\n",
       "  </thead>\n",
       "  <tbody>\n",
       "    <tr>\n",
       "      <th>0</th>\n",
       "      <td>1</td>\n",
       "      <td>0</td>\n",
       "      <td>3</td>\n",
       "      <td>Braund, Mr. Owen Harris</td>\n",
       "      <td>male</td>\n",
       "      <td>22.0</td>\n",
       "      <td>1</td>\n",
       "      <td>0</td>\n",
       "      <td>A/5 21171</td>\n",
       "      <td>7.2500</td>\n",
       "      <td>NaN</td>\n",
       "      <td>S</td>\n",
       "    </tr>\n",
       "    <tr>\n",
       "      <th>1</th>\n",
       "      <td>2</td>\n",
       "      <td>1</td>\n",
       "      <td>1</td>\n",
       "      <td>Cumings, Mrs. John Bradley (Florence Briggs Th...</td>\n",
       "      <td>female</td>\n",
       "      <td>38.0</td>\n",
       "      <td>1</td>\n",
       "      <td>0</td>\n",
       "      <td>PC 17599</td>\n",
       "      <td>71.2833</td>\n",
       "      <td>C85</td>\n",
       "      <td>C</td>\n",
       "    </tr>\n",
       "    <tr>\n",
       "      <th>2</th>\n",
       "      <td>3</td>\n",
       "      <td>1</td>\n",
       "      <td>3</td>\n",
       "      <td>Heikkinen, Miss. Laina</td>\n",
       "      <td>female</td>\n",
       "      <td>26.0</td>\n",
       "      <td>0</td>\n",
       "      <td>0</td>\n",
       "      <td>STON/O2. 3101282</td>\n",
       "      <td>7.9250</td>\n",
       "      <td>NaN</td>\n",
       "      <td>S</td>\n",
       "    </tr>\n",
       "    <tr>\n",
       "      <th>3</th>\n",
       "      <td>4</td>\n",
       "      <td>1</td>\n",
       "      <td>1</td>\n",
       "      <td>Futrelle, Mrs. Jacques Heath (Lily May Peel)</td>\n",
       "      <td>female</td>\n",
       "      <td>35.0</td>\n",
       "      <td>1</td>\n",
       "      <td>0</td>\n",
       "      <td>113803</td>\n",
       "      <td>53.1000</td>\n",
       "      <td>C123</td>\n",
       "      <td>S</td>\n",
       "    </tr>\n",
       "    <tr>\n",
       "      <th>4</th>\n",
       "      <td>5</td>\n",
       "      <td>0</td>\n",
       "      <td>3</td>\n",
       "      <td>Allen, Mr. William Henry</td>\n",
       "      <td>male</td>\n",
       "      <td>35.0</td>\n",
       "      <td>0</td>\n",
       "      <td>0</td>\n",
       "      <td>373450</td>\n",
       "      <td>8.0500</td>\n",
       "      <td>NaN</td>\n",
       "      <td>S</td>\n",
       "    </tr>\n",
       "  </tbody>\n",
       "</table>\n",
       "</div>"
      ],
      "text/plain": [
       "   PassengerId  Survived  Pclass  \\\n",
       "0            1         0       3   \n",
       "1            2         1       1   \n",
       "2            3         1       3   \n",
       "3            4         1       1   \n",
       "4            5         0       3   \n",
       "\n",
       "                                                Name     Sex   Age  SibSp  \\\n",
       "0                            Braund, Mr. Owen Harris    male  22.0      1   \n",
       "1  Cumings, Mrs. John Bradley (Florence Briggs Th...  female  38.0      1   \n",
       "2                             Heikkinen, Miss. Laina  female  26.0      0   \n",
       "3       Futrelle, Mrs. Jacques Heath (Lily May Peel)  female  35.0      1   \n",
       "4                           Allen, Mr. William Henry    male  35.0      0   \n",
       "\n",
       "   Parch            Ticket     Fare Cabin Embarked  \n",
       "0      0         A/5 21171   7.2500   NaN        S  \n",
       "1      0          PC 17599  71.2833   C85        C  \n",
       "2      0  STON/O2. 3101282   7.9250   NaN        S  \n",
       "3      0            113803  53.1000  C123        S  \n",
       "4      0            373450   8.0500   NaN        S  "
      ]
     },
     "execution_count": 109,
     "metadata": {},
     "output_type": "execute_result"
    }
   ],
   "source": [
    "df.head()"
   ]
  },
  {
   "cell_type": "code",
   "execution_count": 110,
   "id": "1da52089",
   "metadata": {
    "execution": {
     "iopub.execute_input": "2023-10-11T14:44:33.073714Z",
     "iopub.status.busy": "2023-10-11T14:44:33.073020Z",
     "iopub.status.idle": "2023-10-11T14:44:33.086818Z",
     "shell.execute_reply": "2023-10-11T14:44:33.085852Z"
    },
    "papermill": {
     "duration": 0.084427,
     "end_time": "2023-10-11T14:44:33.088725",
     "exception": false,
     "start_time": "2023-10-11T14:44:33.004298",
     "status": "completed"
    },
    "tags": []
   },
   "outputs": [
    {
     "data": {
      "text/html": [
       "<div>\n",
       "<style scoped>\n",
       "    .dataframe tbody tr th:only-of-type {\n",
       "        vertical-align: middle;\n",
       "    }\n",
       "\n",
       "    .dataframe tbody tr th {\n",
       "        vertical-align: top;\n",
       "    }\n",
       "\n",
       "    .dataframe thead th {\n",
       "        text-align: right;\n",
       "    }\n",
       "</style>\n",
       "<table border=\"1\" class=\"dataframe\">\n",
       "  <thead>\n",
       "    <tr style=\"text-align: right;\">\n",
       "      <th></th>\n",
       "      <th>PassengerId</th>\n",
       "      <th>Survived</th>\n",
       "      <th>Pclass</th>\n",
       "      <th>Name</th>\n",
       "      <th>Sex</th>\n",
       "      <th>Age</th>\n",
       "      <th>SibSp</th>\n",
       "      <th>Parch</th>\n",
       "      <th>Ticket</th>\n",
       "      <th>Fare</th>\n",
       "      <th>Cabin</th>\n",
       "      <th>Embarked</th>\n",
       "    </tr>\n",
       "  </thead>\n",
       "  <tbody>\n",
       "    <tr>\n",
       "      <th>886</th>\n",
       "      <td>887</td>\n",
       "      <td>0</td>\n",
       "      <td>2</td>\n",
       "      <td>Montvila, Rev. Juozas</td>\n",
       "      <td>male</td>\n",
       "      <td>27.0</td>\n",
       "      <td>0</td>\n",
       "      <td>0</td>\n",
       "      <td>211536</td>\n",
       "      <td>13.00</td>\n",
       "      <td>NaN</td>\n",
       "      <td>S</td>\n",
       "    </tr>\n",
       "    <tr>\n",
       "      <th>887</th>\n",
       "      <td>888</td>\n",
       "      <td>1</td>\n",
       "      <td>1</td>\n",
       "      <td>Graham, Miss. Margaret Edith</td>\n",
       "      <td>female</td>\n",
       "      <td>19.0</td>\n",
       "      <td>0</td>\n",
       "      <td>0</td>\n",
       "      <td>112053</td>\n",
       "      <td>30.00</td>\n",
       "      <td>B42</td>\n",
       "      <td>S</td>\n",
       "    </tr>\n",
       "    <tr>\n",
       "      <th>888</th>\n",
       "      <td>889</td>\n",
       "      <td>0</td>\n",
       "      <td>3</td>\n",
       "      <td>Johnston, Miss. Catherine Helen \"Carrie\"</td>\n",
       "      <td>female</td>\n",
       "      <td>NaN</td>\n",
       "      <td>1</td>\n",
       "      <td>2</td>\n",
       "      <td>W./C. 6607</td>\n",
       "      <td>23.45</td>\n",
       "      <td>NaN</td>\n",
       "      <td>S</td>\n",
       "    </tr>\n",
       "    <tr>\n",
       "      <th>889</th>\n",
       "      <td>890</td>\n",
       "      <td>1</td>\n",
       "      <td>1</td>\n",
       "      <td>Behr, Mr. Karl Howell</td>\n",
       "      <td>male</td>\n",
       "      <td>26.0</td>\n",
       "      <td>0</td>\n",
       "      <td>0</td>\n",
       "      <td>111369</td>\n",
       "      <td>30.00</td>\n",
       "      <td>C148</td>\n",
       "      <td>C</td>\n",
       "    </tr>\n",
       "    <tr>\n",
       "      <th>890</th>\n",
       "      <td>891</td>\n",
       "      <td>0</td>\n",
       "      <td>3</td>\n",
       "      <td>Dooley, Mr. Patrick</td>\n",
       "      <td>male</td>\n",
       "      <td>32.0</td>\n",
       "      <td>0</td>\n",
       "      <td>0</td>\n",
       "      <td>370376</td>\n",
       "      <td>7.75</td>\n",
       "      <td>NaN</td>\n",
       "      <td>Q</td>\n",
       "    </tr>\n",
       "  </tbody>\n",
       "</table>\n",
       "</div>"
      ],
      "text/plain": [
       "     PassengerId  Survived  Pclass                                      Name  \\\n",
       "886          887         0       2                     Montvila, Rev. Juozas   \n",
       "887          888         1       1              Graham, Miss. Margaret Edith   \n",
       "888          889         0       3  Johnston, Miss. Catherine Helen \"Carrie\"   \n",
       "889          890         1       1                     Behr, Mr. Karl Howell   \n",
       "890          891         0       3                       Dooley, Mr. Patrick   \n",
       "\n",
       "        Sex   Age  SibSp  Parch      Ticket   Fare Cabin Embarked  \n",
       "886    male  27.0      0      0      211536  13.00   NaN        S  \n",
       "887  female  19.0      0      0      112053  30.00   B42        S  \n",
       "888  female   NaN      1      2  W./C. 6607  23.45   NaN        S  \n",
       "889    male  26.0      0      0      111369  30.00  C148        C  \n",
       "890    male  32.0      0      0      370376   7.75   NaN        Q  "
      ]
     },
     "execution_count": 110,
     "metadata": {},
     "output_type": "execute_result"
    }
   ],
   "source": [
    "df.tail()"
   ]
  },
  {
   "cell_type": "code",
   "execution_count": 111,
   "id": "7290be2c",
   "metadata": {
    "execution": {
     "iopub.execute_input": "2023-10-11T14:44:33.221540Z",
     "iopub.status.busy": "2023-10-11T14:44:33.221174Z",
     "iopub.status.idle": "2023-10-11T14:44:33.227272Z",
     "shell.execute_reply": "2023-10-11T14:44:33.226236Z"
    },
    "papermill": {
     "duration": 0.074399,
     "end_time": "2023-10-11T14:44:33.229243",
     "exception": false,
     "start_time": "2023-10-11T14:44:33.154844",
     "status": "completed"
    },
    "tags": []
   },
   "outputs": [
    {
     "data": {
      "text/plain": [
       "(891, 12)"
      ]
     },
     "execution_count": 111,
     "metadata": {},
     "output_type": "execute_result"
    }
   ],
   "source": [
    "df.shape"
   ]
  },
  {
   "cell_type": "code",
   "execution_count": 112,
   "id": "4e17924b",
   "metadata": {
    "execution": {
     "iopub.execute_input": "2023-10-11T14:44:33.361332Z",
     "iopub.status.busy": "2023-10-11T14:44:33.361017Z",
     "iopub.status.idle": "2023-10-11T14:44:33.382583Z",
     "shell.execute_reply": "2023-10-11T14:44:33.381309Z"
    },
    "papermill": {
     "duration": 0.090037,
     "end_time": "2023-10-11T14:44:33.384780",
     "exception": false,
     "start_time": "2023-10-11T14:44:33.294743",
     "status": "completed"
    },
    "tags": []
   },
   "outputs": [
    {
     "name": "stdout",
     "output_type": "stream",
     "text": [
      "<class 'pandas.core.frame.DataFrame'>\n",
      "RangeIndex: 891 entries, 0 to 890\n",
      "Data columns (total 12 columns):\n",
      " #   Column       Non-Null Count  Dtype  \n",
      "---  ------       --------------  -----  \n",
      " 0   PassengerId  891 non-null    int64  \n",
      " 1   Survived     891 non-null    int64  \n",
      " 2   Pclass       891 non-null    int64  \n",
      " 3   Name         891 non-null    object \n",
      " 4   Sex          891 non-null    object \n",
      " 5   Age          714 non-null    float64\n",
      " 6   SibSp        891 non-null    int64  \n",
      " 7   Parch        891 non-null    int64  \n",
      " 8   Ticket       891 non-null    object \n",
      " 9   Fare         891 non-null    float64\n",
      " 10  Cabin        204 non-null    object \n",
      " 11  Embarked     889 non-null    object \n",
      "dtypes: float64(2), int64(5), object(5)\n",
      "memory usage: 83.7+ KB\n"
     ]
    }
   ],
   "source": [
    "df.info()"
   ]
  },
  {
   "cell_type": "code",
   "execution_count": 113,
   "id": "9be53886",
   "metadata": {
    "execution": {
     "iopub.execute_input": "2023-10-11T14:44:33.520070Z",
     "iopub.status.busy": "2023-10-11T14:44:33.519728Z",
     "iopub.status.idle": "2023-10-11T14:44:33.526192Z",
     "shell.execute_reply": "2023-10-11T14:44:33.525352Z"
    },
    "papermill": {
     "duration": 0.075662,
     "end_time": "2023-10-11T14:44:33.528043",
     "exception": false,
     "start_time": "2023-10-11T14:44:33.452381",
     "status": "completed"
    },
    "tags": []
   },
   "outputs": [
    {
     "data": {
      "text/plain": [
       "Index(['PassengerId', 'Survived', 'Pclass', 'Name', 'Sex', 'Age', 'SibSp',\n",
       "       'Parch', 'Ticket', 'Fare', 'Cabin', 'Embarked'],\n",
       "      dtype='object')"
      ]
     },
     "execution_count": 113,
     "metadata": {},
     "output_type": "execute_result"
    }
   ],
   "source": [
    "df.columns"
   ]
  },
  {
   "cell_type": "code",
   "execution_count": 114,
   "id": "b1ffae75",
   "metadata": {
    "execution": {
     "iopub.execute_input": "2023-10-11T14:44:33.663105Z",
     "iopub.status.busy": "2023-10-11T14:44:33.662077Z",
     "iopub.status.idle": "2023-10-11T14:44:33.668499Z",
     "shell.execute_reply": "2023-10-11T14:44:33.667681Z"
    },
    "papermill": {
     "duration": 0.075757,
     "end_time": "2023-10-11T14:44:33.670461",
     "exception": false,
     "start_time": "2023-10-11T14:44:33.594704",
     "status": "completed"
    },
    "tags": []
   },
   "outputs": [
    {
     "data": {
      "text/plain": [
       "RangeIndex(start=0, stop=891, step=1)"
      ]
     },
     "execution_count": 114,
     "metadata": {},
     "output_type": "execute_result"
    }
   ],
   "source": [
    "df.index"
   ]
  },
  {
   "cell_type": "code",
   "execution_count": 115,
   "id": "4ef52873",
   "metadata": {
    "execution": {
     "iopub.execute_input": "2023-10-11T14:44:33.872377Z",
     "iopub.status.busy": "2023-10-11T14:44:33.872046Z",
     "iopub.status.idle": "2023-10-11T14:44:33.902985Z",
     "shell.execute_reply": "2023-10-11T14:44:33.901947Z"
    },
    "papermill": {
     "duration": 0.104492,
     "end_time": "2023-10-11T14:44:33.905117",
     "exception": false,
     "start_time": "2023-10-11T14:44:33.800625",
     "status": "completed"
    },
    "tags": []
   },
   "outputs": [
    {
     "data": {
      "text/html": [
       "<div>\n",
       "<style scoped>\n",
       "    .dataframe tbody tr th:only-of-type {\n",
       "        vertical-align: middle;\n",
       "    }\n",
       "\n",
       "    .dataframe tbody tr th {\n",
       "        vertical-align: top;\n",
       "    }\n",
       "\n",
       "    .dataframe thead th {\n",
       "        text-align: right;\n",
       "    }\n",
       "</style>\n",
       "<table border=\"1\" class=\"dataframe\">\n",
       "  <thead>\n",
       "    <tr style=\"text-align: right;\">\n",
       "      <th></th>\n",
       "      <th>count</th>\n",
       "      <th>mean</th>\n",
       "      <th>std</th>\n",
       "      <th>min</th>\n",
       "      <th>25%</th>\n",
       "      <th>50%</th>\n",
       "      <th>75%</th>\n",
       "      <th>max</th>\n",
       "    </tr>\n",
       "  </thead>\n",
       "  <tbody>\n",
       "    <tr>\n",
       "      <th>PassengerId</th>\n",
       "      <td>891.0</td>\n",
       "      <td>446.000000</td>\n",
       "      <td>257.353842</td>\n",
       "      <td>1.00</td>\n",
       "      <td>223.5000</td>\n",
       "      <td>446.0000</td>\n",
       "      <td>668.5</td>\n",
       "      <td>891.0000</td>\n",
       "    </tr>\n",
       "    <tr>\n",
       "      <th>Survived</th>\n",
       "      <td>891.0</td>\n",
       "      <td>0.383838</td>\n",
       "      <td>0.486592</td>\n",
       "      <td>0.00</td>\n",
       "      <td>0.0000</td>\n",
       "      <td>0.0000</td>\n",
       "      <td>1.0</td>\n",
       "      <td>1.0000</td>\n",
       "    </tr>\n",
       "    <tr>\n",
       "      <th>Pclass</th>\n",
       "      <td>891.0</td>\n",
       "      <td>2.308642</td>\n",
       "      <td>0.836071</td>\n",
       "      <td>1.00</td>\n",
       "      <td>2.0000</td>\n",
       "      <td>3.0000</td>\n",
       "      <td>3.0</td>\n",
       "      <td>3.0000</td>\n",
       "    </tr>\n",
       "    <tr>\n",
       "      <th>Age</th>\n",
       "      <td>714.0</td>\n",
       "      <td>29.699118</td>\n",
       "      <td>14.526497</td>\n",
       "      <td>0.42</td>\n",
       "      <td>20.1250</td>\n",
       "      <td>28.0000</td>\n",
       "      <td>38.0</td>\n",
       "      <td>80.0000</td>\n",
       "    </tr>\n",
       "    <tr>\n",
       "      <th>SibSp</th>\n",
       "      <td>891.0</td>\n",
       "      <td>0.523008</td>\n",
       "      <td>1.102743</td>\n",
       "      <td>0.00</td>\n",
       "      <td>0.0000</td>\n",
       "      <td>0.0000</td>\n",
       "      <td>1.0</td>\n",
       "      <td>8.0000</td>\n",
       "    </tr>\n",
       "    <tr>\n",
       "      <th>Parch</th>\n",
       "      <td>891.0</td>\n",
       "      <td>0.381594</td>\n",
       "      <td>0.806057</td>\n",
       "      <td>0.00</td>\n",
       "      <td>0.0000</td>\n",
       "      <td>0.0000</td>\n",
       "      <td>0.0</td>\n",
       "      <td>6.0000</td>\n",
       "    </tr>\n",
       "    <tr>\n",
       "      <th>Fare</th>\n",
       "      <td>891.0</td>\n",
       "      <td>32.204208</td>\n",
       "      <td>49.693429</td>\n",
       "      <td>0.00</td>\n",
       "      <td>7.9104</td>\n",
       "      <td>14.4542</td>\n",
       "      <td>31.0</td>\n",
       "      <td>512.3292</td>\n",
       "    </tr>\n",
       "  </tbody>\n",
       "</table>\n",
       "</div>"
      ],
      "text/plain": [
       "             count        mean         std   min       25%       50%    75%  \\\n",
       "PassengerId  891.0  446.000000  257.353842  1.00  223.5000  446.0000  668.5   \n",
       "Survived     891.0    0.383838    0.486592  0.00    0.0000    0.0000    1.0   \n",
       "Pclass       891.0    2.308642    0.836071  1.00    2.0000    3.0000    3.0   \n",
       "Age          714.0   29.699118   14.526497  0.42   20.1250   28.0000   38.0   \n",
       "SibSp        891.0    0.523008    1.102743  0.00    0.0000    0.0000    1.0   \n",
       "Parch        891.0    0.381594    0.806057  0.00    0.0000    0.0000    0.0   \n",
       "Fare         891.0   32.204208   49.693429  0.00    7.9104   14.4542   31.0   \n",
       "\n",
       "                  max  \n",
       "PassengerId  891.0000  \n",
       "Survived       1.0000  \n",
       "Pclass         3.0000  \n",
       "Age           80.0000  \n",
       "SibSp          8.0000  \n",
       "Parch          6.0000  \n",
       "Fare         512.3292  "
      ]
     },
     "execution_count": 115,
     "metadata": {},
     "output_type": "execute_result"
    }
   ],
   "source": [
    "df.describe().T"
   ]
  },
  {
   "cell_type": "code",
   "execution_count": 116,
   "id": "48e6379c",
   "metadata": {
    "execution": {
     "iopub.execute_input": "2023-10-11T14:44:34.041423Z",
     "iopub.status.busy": "2023-10-11T14:44:34.041068Z",
     "iopub.status.idle": "2023-10-11T14:44:34.048711Z",
     "shell.execute_reply": "2023-10-11T14:44:34.047619Z"
    },
    "papermill": {
     "duration": 0.07837,
     "end_time": "2023-10-11T14:44:34.050843",
     "exception": false,
     "start_time": "2023-10-11T14:44:33.972473",
     "status": "completed"
    },
    "tags": []
   },
   "outputs": [
    {
     "data": {
      "text/plain": [
       "True"
      ]
     },
     "execution_count": 116,
     "metadata": {},
     "output_type": "execute_result"
    }
   ],
   "source": [
    "df.isnull().values.any()"
   ]
  },
  {
   "cell_type": "code",
   "execution_count": 117,
   "id": "7fea9912",
   "metadata": {
    "execution": {
     "iopub.execute_input": "2023-10-11T14:44:34.190756Z",
     "iopub.status.busy": "2023-10-11T14:44:34.190033Z",
     "iopub.status.idle": "2023-10-11T14:44:34.199209Z",
     "shell.execute_reply": "2023-10-11T14:44:34.198478Z"
    },
    "papermill": {
     "duration": 0.079754,
     "end_time": "2023-10-11T14:44:34.201028",
     "exception": false,
     "start_time": "2023-10-11T14:44:34.121274",
     "status": "completed"
    },
    "tags": []
   },
   "outputs": [
    {
     "data": {
      "text/plain": [
       "PassengerId      0\n",
       "Survived         0\n",
       "Pclass           0\n",
       "Name             0\n",
       "Sex              0\n",
       "Age            177\n",
       "SibSp            0\n",
       "Parch            0\n",
       "Ticket           0\n",
       "Fare             0\n",
       "Cabin          687\n",
       "Embarked         2\n",
       "dtype: int64"
      ]
     },
     "execution_count": 117,
     "metadata": {},
     "output_type": "execute_result"
    }
   ],
   "source": [
    "df.isnull().sum()"
   ]
  },
  {
   "cell_type": "code",
   "execution_count": 118,
   "id": "1f2d4a65",
   "metadata": {
    "execution": {
     "iopub.execute_input": "2023-10-11T14:44:34.335960Z",
     "iopub.status.busy": "2023-10-11T14:44:34.335619Z",
     "iopub.status.idle": "2023-10-11T14:44:34.352831Z",
     "shell.execute_reply": "2023-10-11T14:44:34.352157Z"
    },
    "papermill": {
     "duration": 0.0868,
     "end_time": "2023-10-11T14:44:34.354611",
     "exception": false,
     "start_time": "2023-10-11T14:44:34.267811",
     "status": "completed"
    },
    "tags": []
   },
   "outputs": [
    {
     "data": {
      "text/html": [
       "<div>\n",
       "<style scoped>\n",
       "    .dataframe tbody tr th:only-of-type {\n",
       "        vertical-align: middle;\n",
       "    }\n",
       "\n",
       "    .dataframe tbody tr th {\n",
       "        vertical-align: top;\n",
       "    }\n",
       "\n",
       "    .dataframe thead th {\n",
       "        text-align: right;\n",
       "    }\n",
       "</style>\n",
       "<table border=\"1\" class=\"dataframe\">\n",
       "  <thead>\n",
       "    <tr style=\"text-align: right;\">\n",
       "      <th></th>\n",
       "      <th>count</th>\n",
       "      <th>unique</th>\n",
       "      <th>top</th>\n",
       "      <th>freq</th>\n",
       "    </tr>\n",
       "  </thead>\n",
       "  <tbody>\n",
       "    <tr>\n",
       "      <th>Name</th>\n",
       "      <td>891</td>\n",
       "      <td>891</td>\n",
       "      <td>Braund, Mr. Owen Harris</td>\n",
       "      <td>1</td>\n",
       "    </tr>\n",
       "    <tr>\n",
       "      <th>Sex</th>\n",
       "      <td>891</td>\n",
       "      <td>2</td>\n",
       "      <td>male</td>\n",
       "      <td>577</td>\n",
       "    </tr>\n",
       "    <tr>\n",
       "      <th>Ticket</th>\n",
       "      <td>891</td>\n",
       "      <td>681</td>\n",
       "      <td>347082</td>\n",
       "      <td>7</td>\n",
       "    </tr>\n",
       "    <tr>\n",
       "      <th>Cabin</th>\n",
       "      <td>204</td>\n",
       "      <td>147</td>\n",
       "      <td>B96 B98</td>\n",
       "      <td>4</td>\n",
       "    </tr>\n",
       "    <tr>\n",
       "      <th>Embarked</th>\n",
       "      <td>889</td>\n",
       "      <td>3</td>\n",
       "      <td>S</td>\n",
       "      <td>644</td>\n",
       "    </tr>\n",
       "  </tbody>\n",
       "</table>\n",
       "</div>"
      ],
      "text/plain": [
       "         count unique                      top freq\n",
       "Name       891    891  Braund, Mr. Owen Harris    1\n",
       "Sex        891      2                     male  577\n",
       "Ticket     891    681                   347082    7\n",
       "Cabin      204    147                  B96 B98    4\n",
       "Embarked   889      3                        S  644"
      ]
     },
     "execution_count": 118,
     "metadata": {},
     "output_type": "execute_result"
    }
   ],
   "source": [
    "df.describe(include=[object]).T"
   ]
  },
  {
   "cell_type": "code",
   "execution_count": 119,
   "id": "389c33de",
   "metadata": {
    "execution": {
     "iopub.execute_input": "2023-10-11T14:44:34.490870Z",
     "iopub.status.busy": "2023-10-11T14:44:34.490497Z",
     "iopub.status.idle": "2023-10-11T14:44:34.497278Z",
     "shell.execute_reply": "2023-10-11T14:44:34.496325Z"
    },
    "papermill": {
     "duration": 0.077016,
     "end_time": "2023-10-11T14:44:34.499331",
     "exception": false,
     "start_time": "2023-10-11T14:44:34.422315",
     "status": "completed"
    },
    "tags": []
   },
   "outputs": [
    {
     "data": {
      "text/plain": [
       "0                                Braund, Mr. Owen Harris\n",
       "1      Cumings, Mrs. John Bradley (Florence Briggs Th...\n",
       "2                                 Heikkinen, Miss. Laina\n",
       "3           Futrelle, Mrs. Jacques Heath (Lily May Peel)\n",
       "4                               Allen, Mr. William Henry\n",
       "                             ...                        \n",
       "886                                Montvila, Rev. Juozas\n",
       "887                         Graham, Miss. Margaret Edith\n",
       "888             Johnston, Miss. Catherine Helen \"Carrie\"\n",
       "889                                Behr, Mr. Karl Howell\n",
       "890                                  Dooley, Mr. Patrick\n",
       "Name: Name, Length: 891, dtype: object"
      ]
     },
     "execution_count": 119,
     "metadata": {},
     "output_type": "execute_result"
    }
   ],
   "source": [
    "# Belirli bir başlığı almak\n",
    "\n",
    "df['Name']"
   ]
  },
  {
   "cell_type": "code",
   "execution_count": 120,
   "id": "c06b30f4",
   "metadata": {
    "execution": {
     "iopub.execute_input": "2023-10-11T14:44:34.636213Z",
     "iopub.status.busy": "2023-10-11T14:44:34.635628Z",
     "iopub.status.idle": "2023-10-11T14:44:34.647535Z",
     "shell.execute_reply": "2023-10-11T14:44:34.646604Z"
    },
    "papermill": {
     "duration": 0.082445,
     "end_time": "2023-10-11T14:44:34.649397",
     "exception": false,
     "start_time": "2023-10-11T14:44:34.566952",
     "status": "completed"
    },
    "tags": []
   },
   "outputs": [
    {
     "data": {
      "text/html": [
       "<div>\n",
       "<style scoped>\n",
       "    .dataframe tbody tr th:only-of-type {\n",
       "        vertical-align: middle;\n",
       "    }\n",
       "\n",
       "    .dataframe tbody tr th {\n",
       "        vertical-align: top;\n",
       "    }\n",
       "\n",
       "    .dataframe thead th {\n",
       "        text-align: right;\n",
       "    }\n",
       "</style>\n",
       "<table border=\"1\" class=\"dataframe\">\n",
       "  <thead>\n",
       "    <tr style=\"text-align: right;\">\n",
       "      <th></th>\n",
       "      <th>Survived</th>\n",
       "      <th>Pclass</th>\n",
       "    </tr>\n",
       "  </thead>\n",
       "  <tbody>\n",
       "    <tr>\n",
       "      <th>0</th>\n",
       "      <td>0</td>\n",
       "      <td>3</td>\n",
       "    </tr>\n",
       "    <tr>\n",
       "      <th>1</th>\n",
       "      <td>1</td>\n",
       "      <td>1</td>\n",
       "    </tr>\n",
       "    <tr>\n",
       "      <th>2</th>\n",
       "      <td>1</td>\n",
       "      <td>3</td>\n",
       "    </tr>\n",
       "    <tr>\n",
       "      <th>3</th>\n",
       "      <td>1</td>\n",
       "      <td>1</td>\n",
       "    </tr>\n",
       "    <tr>\n",
       "      <th>4</th>\n",
       "      <td>0</td>\n",
       "      <td>3</td>\n",
       "    </tr>\n",
       "    <tr>\n",
       "      <th>...</th>\n",
       "      <td>...</td>\n",
       "      <td>...</td>\n",
       "    </tr>\n",
       "    <tr>\n",
       "      <th>886</th>\n",
       "      <td>0</td>\n",
       "      <td>2</td>\n",
       "    </tr>\n",
       "    <tr>\n",
       "      <th>887</th>\n",
       "      <td>1</td>\n",
       "      <td>1</td>\n",
       "    </tr>\n",
       "    <tr>\n",
       "      <th>888</th>\n",
       "      <td>0</td>\n",
       "      <td>3</td>\n",
       "    </tr>\n",
       "    <tr>\n",
       "      <th>889</th>\n",
       "      <td>1</td>\n",
       "      <td>1</td>\n",
       "    </tr>\n",
       "    <tr>\n",
       "      <th>890</th>\n",
       "      <td>0</td>\n",
       "      <td>3</td>\n",
       "    </tr>\n",
       "  </tbody>\n",
       "</table>\n",
       "<p>891 rows × 2 columns</p>\n",
       "</div>"
      ],
      "text/plain": [
       "     Survived  Pclass\n",
       "0           0       3\n",
       "1           1       1\n",
       "2           1       3\n",
       "3           1       1\n",
       "4           0       3\n",
       "..        ...     ...\n",
       "886         0       2\n",
       "887         1       1\n",
       "888         0       3\n",
       "889         1       1\n",
       "890         0       3\n",
       "\n",
       "[891 rows x 2 columns]"
      ]
     },
     "execution_count": 120,
     "metadata": {},
     "output_type": "execute_result"
    }
   ],
   "source": [
    "# Belirli bir sütunu seçmek\n",
    "\n",
    "df[['Survived', 'Pclass']]"
   ]
  },
  {
   "cell_type": "code",
   "execution_count": 121,
   "id": "fa8999b4",
   "metadata": {
    "execution": {
     "iopub.execute_input": "2023-10-11T14:44:34.788529Z",
     "iopub.status.busy": "2023-10-11T14:44:34.787998Z",
     "iopub.status.idle": "2023-10-11T14:44:34.795296Z",
     "shell.execute_reply": "2023-10-11T14:44:34.794541Z"
    },
    "papermill": {
     "duration": 0.0797,
     "end_time": "2023-10-11T14:44:34.797179",
     "exception": false,
     "start_time": "2023-10-11T14:44:34.717479",
     "status": "completed"
    },
    "tags": []
   },
   "outputs": [
    {
     "data": {
      "text/plain": [
       "PassengerId                          1\n",
       "Survived                             0\n",
       "Pclass                               3\n",
       "Name           Braund, Mr. Owen Harris\n",
       "Sex                               male\n",
       "Age                               22.0\n",
       "SibSp                                1\n",
       "Parch                                0\n",
       "Ticket                       A/5 21171\n",
       "Fare                              7.25\n",
       "Cabin                              NaN\n",
       "Embarked                             S\n",
       "Name: 0, dtype: object"
      ]
     },
     "execution_count": 121,
     "metadata": {},
     "output_type": "execute_result"
    }
   ],
   "source": [
    "# Satır indeksi ile belirli bir satırı almak\n",
    "\n",
    "df.loc[0]"
   ]
  },
  {
   "cell_type": "code",
   "execution_count": 122,
   "id": "42bfd161",
   "metadata": {
    "execution": {
     "iopub.execute_input": "2023-10-11T14:44:34.937321Z",
     "iopub.status.busy": "2023-10-11T14:44:34.936577Z",
     "iopub.status.idle": "2023-10-11T14:44:34.943874Z",
     "shell.execute_reply": "2023-10-11T14:44:34.943079Z"
    },
    "papermill": {
     "duration": 0.078907,
     "end_time": "2023-10-11T14:44:34.945627",
     "exception": false,
     "start_time": "2023-10-11T14:44:34.866720",
     "status": "completed"
    },
    "tags": []
   },
   "outputs": [
    {
     "data": {
      "text/plain": [
       "PassengerId                          1\n",
       "Survived                             0\n",
       "Pclass                               3\n",
       "Name           Braund, Mr. Owen Harris\n",
       "Sex                               male\n",
       "Age                               22.0\n",
       "SibSp                                1\n",
       "Parch                                0\n",
       "Ticket                       A/5 21171\n",
       "Fare                              7.25\n",
       "Cabin                              NaN\n",
       "Embarked                             S\n",
       "Name: 0, dtype: object"
      ]
     },
     "execution_count": 122,
     "metadata": {},
     "output_type": "execute_result"
    }
   ],
   "source": [
    "# Satır numarası ile belirli bir satırı almak\n",
    "\n",
    "df.iloc[0]"
   ]
  },
  {
   "cell_type": "code",
   "execution_count": 123,
   "id": "df378565",
   "metadata": {
    "execution": {
     "iopub.execute_input": "2023-10-11T14:44:35.084853Z",
     "iopub.status.busy": "2023-10-11T14:44:35.084042Z",
     "iopub.status.idle": "2023-10-11T14:44:35.091604Z",
     "shell.execute_reply": "2023-10-11T14:44:35.090574Z"
    },
    "papermill": {
     "duration": 0.079701,
     "end_time": "2023-10-11T14:44:35.093609",
     "exception": false,
     "start_time": "2023-10-11T14:44:35.013908",
     "status": "completed"
    },
    "tags": []
   },
   "outputs": [
    {
     "data": {
      "text/plain": [
       "0      male\n",
       "1    female\n",
       "2    female\n",
       "3    female\n",
       "4      male\n",
       "Name: Sex, dtype: object"
      ]
     },
     "execution_count": 123,
     "metadata": {},
     "output_type": "execute_result"
    }
   ],
   "source": [
    "df[\"Sex\"].head()"
   ]
  },
  {
   "cell_type": "code",
   "execution_count": 124,
   "id": "03438f4e",
   "metadata": {
    "execution": {
     "iopub.execute_input": "2023-10-11T14:44:35.232586Z",
     "iopub.status.busy": "2023-10-11T14:44:35.232039Z",
     "iopub.status.idle": "2023-10-11T14:44:35.239487Z",
     "shell.execute_reply": "2023-10-11T14:44:35.238718Z"
    },
    "papermill": {
     "duration": 0.07934,
     "end_time": "2023-10-11T14:44:35.241302",
     "exception": false,
     "start_time": "2023-10-11T14:44:35.161962",
     "status": "completed"
    },
    "tags": []
   },
   "outputs": [
    {
     "data": {
      "text/plain": [
       "male      577\n",
       "female    314\n",
       "Name: Sex, dtype: int64"
      ]
     },
     "execution_count": 124,
     "metadata": {},
     "output_type": "execute_result"
    }
   ],
   "source": [
    "df[\"Sex\"].value_counts()"
   ]
  },
  {
   "cell_type": "markdown",
   "id": "bb18b5c7",
   "metadata": {
    "papermill": {
     "duration": 0.066947,
     "end_time": "2023-10-11T14:44:35.376264",
     "exception": false,
     "start_time": "2023-10-11T14:44:35.309317",
     "status": "completed"
    },
    "tags": []
   },
   "source": [
    "* **Veri Ekleme ve Değiştirme:**"
   ]
  },
  {
   "cell_type": "code",
   "execution_count": 125,
   "id": "e761b61d",
   "metadata": {
    "execution": {
     "iopub.execute_input": "2023-10-11T14:44:35.512557Z",
     "iopub.status.busy": "2023-10-11T14:44:35.512162Z",
     "iopub.status.idle": "2023-10-11T14:44:35.517560Z",
     "shell.execute_reply": "2023-10-11T14:44:35.516702Z"
    },
    "papermill": {
     "duration": 0.075589,
     "end_time": "2023-10-11T14:44:35.519330",
     "exception": false,
     "start_time": "2023-10-11T14:44:35.443741",
     "status": "completed"
    },
    "tags": []
   },
   "outputs": [],
   "source": [
    "df['Age'] = df['Age'] + 1"
   ]
  },
  {
   "cell_type": "markdown",
   "id": "e788c785",
   "metadata": {
    "papermill": {
     "duration": 0.067078,
     "end_time": "2023-10-11T14:44:35.655109",
     "exception": false,
     "start_time": "2023-10-11T14:44:35.588031",
     "status": "completed"
    },
    "tags": []
   },
   "source": [
    "* **Veri Filtreleme:**"
   ]
  },
  {
   "cell_type": "code",
   "execution_count": 126,
   "id": "cab78d55",
   "metadata": {
    "execution": {
     "iopub.execute_input": "2023-10-11T14:44:35.791414Z",
     "iopub.status.busy": "2023-10-11T14:44:35.791073Z",
     "iopub.status.idle": "2023-10-11T14:44:35.804913Z",
     "shell.execute_reply": "2023-10-11T14:44:35.803725Z"
    },
    "papermill": {
     "duration": 0.084226,
     "end_time": "2023-10-11T14:44:35.806554",
     "exception": false,
     "start_time": "2023-10-11T14:44:35.722328",
     "status": "completed"
    },
    "tags": []
   },
   "outputs": [
    {
     "data": {
      "text/html": [
       "<div>\n",
       "<style scoped>\n",
       "    .dataframe tbody tr th:only-of-type {\n",
       "        vertical-align: middle;\n",
       "    }\n",
       "\n",
       "    .dataframe tbody tr th {\n",
       "        vertical-align: top;\n",
       "    }\n",
       "\n",
       "    .dataframe thead th {\n",
       "        text-align: right;\n",
       "    }\n",
       "</style>\n",
       "<table border=\"1\" class=\"dataframe\">\n",
       "  <thead>\n",
       "    <tr style=\"text-align: right;\">\n",
       "      <th></th>\n",
       "      <th>PassengerId</th>\n",
       "      <th>Survived</th>\n",
       "      <th>Pclass</th>\n",
       "      <th>Name</th>\n",
       "      <th>Sex</th>\n",
       "      <th>Age</th>\n",
       "      <th>SibSp</th>\n",
       "      <th>Parch</th>\n",
       "      <th>Ticket</th>\n",
       "      <th>Fare</th>\n",
       "      <th>Cabin</th>\n",
       "      <th>Embarked</th>\n",
       "    </tr>\n",
       "  </thead>\n",
       "  <tbody>\n",
       "    <tr>\n",
       "      <th>1</th>\n",
       "      <td>2</td>\n",
       "      <td>1</td>\n",
       "      <td>1</td>\n",
       "      <td>Cumings, Mrs. John Bradley (Florence Briggs Th...</td>\n",
       "      <td>female</td>\n",
       "      <td>39.0</td>\n",
       "      <td>1</td>\n",
       "      <td>0</td>\n",
       "      <td>PC 17599</td>\n",
       "      <td>71.2833</td>\n",
       "      <td>C85</td>\n",
       "      <td>C</td>\n",
       "    </tr>\n",
       "    <tr>\n",
       "      <th>2</th>\n",
       "      <td>3</td>\n",
       "      <td>1</td>\n",
       "      <td>3</td>\n",
       "      <td>Heikkinen, Miss. Laina</td>\n",
       "      <td>female</td>\n",
       "      <td>27.0</td>\n",
       "      <td>0</td>\n",
       "      <td>0</td>\n",
       "      <td>STON/O2. 3101282</td>\n",
       "      <td>7.9250</td>\n",
       "      <td>NaN</td>\n",
       "      <td>S</td>\n",
       "    </tr>\n",
       "  </tbody>\n",
       "</table>\n",
       "</div>"
      ],
      "text/plain": [
       "   PassengerId  Survived  Pclass  \\\n",
       "1            2         1       1   \n",
       "2            3         1       3   \n",
       "\n",
       "                                                Name     Sex   Age  SibSp  \\\n",
       "1  Cumings, Mrs. John Bradley (Florence Briggs Th...  female  39.0      1   \n",
       "2                             Heikkinen, Miss. Laina  female  27.0      0   \n",
       "\n",
       "   Parch            Ticket     Fare Cabin Embarked  \n",
       "1      0          PC 17599  71.2833   C85        C  \n",
       "2      0  STON/O2. 3101282   7.9250   NaN        S  "
      ]
     },
     "execution_count": 126,
     "metadata": {},
     "output_type": "execute_result"
    }
   ],
   "source": [
    "# Koşullara göre verileri filtreleme:\n",
    "\n",
    "df[df['Age'] > 25].head(2)"
   ]
  },
  {
   "cell_type": "markdown",
   "id": "deb867ba",
   "metadata": {
    "papermill": {
     "duration": 0.068091,
     "end_time": "2023-10-11T14:44:35.946013",
     "exception": false,
     "start_time": "2023-10-11T14:44:35.877922",
     "status": "completed"
    },
    "tags": []
   },
   "source": [
    "* **NaN Değerlerini İşleme:**"
   ]
  },
  {
   "cell_type": "code",
   "execution_count": 127,
   "id": "a41d9d74",
   "metadata": {
    "execution": {
     "iopub.execute_input": "2023-10-11T14:44:36.086311Z",
     "iopub.status.busy": "2023-10-11T14:44:36.085676Z",
     "iopub.status.idle": "2023-10-11T14:44:36.099991Z",
     "shell.execute_reply": "2023-10-11T14:44:36.098954Z"
    },
    "papermill": {
     "duration": 0.086213,
     "end_time": "2023-10-11T14:44:36.102091",
     "exception": false,
     "start_time": "2023-10-11T14:44:36.015878",
     "status": "completed"
    },
    "tags": []
   },
   "outputs": [
    {
     "data": {
      "text/html": [
       "<div>\n",
       "<style scoped>\n",
       "    .dataframe tbody tr th:only-of-type {\n",
       "        vertical-align: middle;\n",
       "    }\n",
       "\n",
       "    .dataframe tbody tr th {\n",
       "        vertical-align: top;\n",
       "    }\n",
       "\n",
       "    .dataframe thead th {\n",
       "        text-align: right;\n",
       "    }\n",
       "</style>\n",
       "<table border=\"1\" class=\"dataframe\">\n",
       "  <thead>\n",
       "    <tr style=\"text-align: right;\">\n",
       "      <th></th>\n",
       "      <th>PassengerId</th>\n",
       "      <th>Survived</th>\n",
       "      <th>Pclass</th>\n",
       "      <th>Name</th>\n",
       "      <th>Sex</th>\n",
       "      <th>Age</th>\n",
       "      <th>SibSp</th>\n",
       "      <th>Parch</th>\n",
       "      <th>Ticket</th>\n",
       "      <th>Fare</th>\n",
       "      <th>Cabin</th>\n",
       "      <th>Embarked</th>\n",
       "    </tr>\n",
       "  </thead>\n",
       "  <tbody>\n",
       "    <tr>\n",
       "      <th>1</th>\n",
       "      <td>2</td>\n",
       "      <td>1</td>\n",
       "      <td>1</td>\n",
       "      <td>Cumings, Mrs. John Bradley (Florence Briggs Th...</td>\n",
       "      <td>female</td>\n",
       "      <td>39.0</td>\n",
       "      <td>1</td>\n",
       "      <td>0</td>\n",
       "      <td>PC 17599</td>\n",
       "      <td>71.2833</td>\n",
       "      <td>C85</td>\n",
       "      <td>C</td>\n",
       "    </tr>\n",
       "    <tr>\n",
       "      <th>3</th>\n",
       "      <td>4</td>\n",
       "      <td>1</td>\n",
       "      <td>1</td>\n",
       "      <td>Futrelle, Mrs. Jacques Heath (Lily May Peel)</td>\n",
       "      <td>female</td>\n",
       "      <td>36.0</td>\n",
       "      <td>1</td>\n",
       "      <td>0</td>\n",
       "      <td>113803</td>\n",
       "      <td>53.1000</td>\n",
       "      <td>C123</td>\n",
       "      <td>S</td>\n",
       "    </tr>\n",
       "    <tr>\n",
       "      <th>6</th>\n",
       "      <td>7</td>\n",
       "      <td>0</td>\n",
       "      <td>1</td>\n",
       "      <td>McCarthy, Mr. Timothy J</td>\n",
       "      <td>male</td>\n",
       "      <td>55.0</td>\n",
       "      <td>0</td>\n",
       "      <td>0</td>\n",
       "      <td>17463</td>\n",
       "      <td>51.8625</td>\n",
       "      <td>E46</td>\n",
       "      <td>S</td>\n",
       "    </tr>\n",
       "    <tr>\n",
       "      <th>10</th>\n",
       "      <td>11</td>\n",
       "      <td>1</td>\n",
       "      <td>3</td>\n",
       "      <td>Sandstrom, Miss. Marguerite Rut</td>\n",
       "      <td>female</td>\n",
       "      <td>5.0</td>\n",
       "      <td>1</td>\n",
       "      <td>1</td>\n",
       "      <td>PP 9549</td>\n",
       "      <td>16.7000</td>\n",
       "      <td>G6</td>\n",
       "      <td>S</td>\n",
       "    </tr>\n",
       "    <tr>\n",
       "      <th>11</th>\n",
       "      <td>12</td>\n",
       "      <td>1</td>\n",
       "      <td>1</td>\n",
       "      <td>Bonnell, Miss. Elizabeth</td>\n",
       "      <td>female</td>\n",
       "      <td>59.0</td>\n",
       "      <td>0</td>\n",
       "      <td>0</td>\n",
       "      <td>113783</td>\n",
       "      <td>26.5500</td>\n",
       "      <td>C103</td>\n",
       "      <td>S</td>\n",
       "    </tr>\n",
       "  </tbody>\n",
       "</table>\n",
       "</div>"
      ],
      "text/plain": [
       "    PassengerId  Survived  Pclass  \\\n",
       "1             2         1       1   \n",
       "3             4         1       1   \n",
       "6             7         0       1   \n",
       "10           11         1       3   \n",
       "11           12         1       1   \n",
       "\n",
       "                                                 Name     Sex   Age  SibSp  \\\n",
       "1   Cumings, Mrs. John Bradley (Florence Briggs Th...  female  39.0      1   \n",
       "3        Futrelle, Mrs. Jacques Heath (Lily May Peel)  female  36.0      1   \n",
       "6                             McCarthy, Mr. Timothy J    male  55.0      0   \n",
       "10                    Sandstrom, Miss. Marguerite Rut  female   5.0      1   \n",
       "11                           Bonnell, Miss. Elizabeth  female  59.0      0   \n",
       "\n",
       "    Parch    Ticket     Fare Cabin Embarked  \n",
       "1       0  PC 17599  71.2833   C85        C  \n",
       "3       0    113803  53.1000  C123        S  \n",
       "6       0     17463  51.8625   E46        S  \n",
       "10      1   PP 9549  16.7000    G6        S  \n",
       "11      0    113783  26.5500  C103        S  "
      ]
     },
     "execution_count": 127,
     "metadata": {},
     "output_type": "execute_result"
    }
   ],
   "source": [
    "# NaN değerlerini silme:\n",
    "\n",
    "df.dropna().head()"
   ]
  },
  {
   "cell_type": "code",
   "execution_count": 128,
   "id": "fbe26aba",
   "metadata": {
    "execution": {
     "iopub.execute_input": "2023-10-11T14:44:36.310511Z",
     "iopub.status.busy": "2023-10-11T14:44:36.310178Z",
     "iopub.status.idle": "2023-10-11T14:44:36.324756Z",
     "shell.execute_reply": "2023-10-11T14:44:36.323940Z"
    },
    "papermill": {
     "duration": 0.095457,
     "end_time": "2023-10-11T14:44:36.326544",
     "exception": false,
     "start_time": "2023-10-11T14:44:36.231087",
     "status": "completed"
    },
    "tags": []
   },
   "outputs": [
    {
     "data": {
      "text/html": [
       "<div>\n",
       "<style scoped>\n",
       "    .dataframe tbody tr th:only-of-type {\n",
       "        vertical-align: middle;\n",
       "    }\n",
       "\n",
       "    .dataframe tbody tr th {\n",
       "        vertical-align: top;\n",
       "    }\n",
       "\n",
       "    .dataframe thead th {\n",
       "        text-align: right;\n",
       "    }\n",
       "</style>\n",
       "<table border=\"1\" class=\"dataframe\">\n",
       "  <thead>\n",
       "    <tr style=\"text-align: right;\">\n",
       "      <th></th>\n",
       "      <th>PassengerId</th>\n",
       "      <th>Survived</th>\n",
       "      <th>Pclass</th>\n",
       "      <th>Name</th>\n",
       "      <th>Sex</th>\n",
       "      <th>Age</th>\n",
       "      <th>SibSp</th>\n",
       "      <th>Parch</th>\n",
       "      <th>Ticket</th>\n",
       "      <th>Fare</th>\n",
       "      <th>Cabin</th>\n",
       "      <th>Embarked</th>\n",
       "    </tr>\n",
       "  </thead>\n",
       "  <tbody>\n",
       "    <tr>\n",
       "      <th>0</th>\n",
       "      <td>1</td>\n",
       "      <td>0</td>\n",
       "      <td>3</td>\n",
       "      <td>Braund, Mr. Owen Harris</td>\n",
       "      <td>male</td>\n",
       "      <td>23.0</td>\n",
       "      <td>1</td>\n",
       "      <td>0</td>\n",
       "      <td>A/5 21171</td>\n",
       "      <td>7.2500</td>\n",
       "      <td>0</td>\n",
       "      <td>S</td>\n",
       "    </tr>\n",
       "    <tr>\n",
       "      <th>1</th>\n",
       "      <td>2</td>\n",
       "      <td>1</td>\n",
       "      <td>1</td>\n",
       "      <td>Cumings, Mrs. John Bradley (Florence Briggs Th...</td>\n",
       "      <td>female</td>\n",
       "      <td>39.0</td>\n",
       "      <td>1</td>\n",
       "      <td>0</td>\n",
       "      <td>PC 17599</td>\n",
       "      <td>71.2833</td>\n",
       "      <td>C85</td>\n",
       "      <td>C</td>\n",
       "    </tr>\n",
       "    <tr>\n",
       "      <th>2</th>\n",
       "      <td>3</td>\n",
       "      <td>1</td>\n",
       "      <td>3</td>\n",
       "      <td>Heikkinen, Miss. Laina</td>\n",
       "      <td>female</td>\n",
       "      <td>27.0</td>\n",
       "      <td>0</td>\n",
       "      <td>0</td>\n",
       "      <td>STON/O2. 3101282</td>\n",
       "      <td>7.9250</td>\n",
       "      <td>0</td>\n",
       "      <td>S</td>\n",
       "    </tr>\n",
       "    <tr>\n",
       "      <th>3</th>\n",
       "      <td>4</td>\n",
       "      <td>1</td>\n",
       "      <td>1</td>\n",
       "      <td>Futrelle, Mrs. Jacques Heath (Lily May Peel)</td>\n",
       "      <td>female</td>\n",
       "      <td>36.0</td>\n",
       "      <td>1</td>\n",
       "      <td>0</td>\n",
       "      <td>113803</td>\n",
       "      <td>53.1000</td>\n",
       "      <td>C123</td>\n",
       "      <td>S</td>\n",
       "    </tr>\n",
       "    <tr>\n",
       "      <th>4</th>\n",
       "      <td>5</td>\n",
       "      <td>0</td>\n",
       "      <td>3</td>\n",
       "      <td>Allen, Mr. William Henry</td>\n",
       "      <td>male</td>\n",
       "      <td>36.0</td>\n",
       "      <td>0</td>\n",
       "      <td>0</td>\n",
       "      <td>373450</td>\n",
       "      <td>8.0500</td>\n",
       "      <td>0</td>\n",
       "      <td>S</td>\n",
       "    </tr>\n",
       "  </tbody>\n",
       "</table>\n",
       "</div>"
      ],
      "text/plain": [
       "   PassengerId  Survived  Pclass  \\\n",
       "0            1         0       3   \n",
       "1            2         1       1   \n",
       "2            3         1       3   \n",
       "3            4         1       1   \n",
       "4            5         0       3   \n",
       "\n",
       "                                                Name     Sex   Age  SibSp  \\\n",
       "0                            Braund, Mr. Owen Harris    male  23.0      1   \n",
       "1  Cumings, Mrs. John Bradley (Florence Briggs Th...  female  39.0      1   \n",
       "2                             Heikkinen, Miss. Laina  female  27.0      0   \n",
       "3       Futrelle, Mrs. Jacques Heath (Lily May Peel)  female  36.0      1   \n",
       "4                           Allen, Mr. William Henry    male  36.0      0   \n",
       "\n",
       "   Parch            Ticket     Fare Cabin Embarked  \n",
       "0      0         A/5 21171   7.2500     0        S  \n",
       "1      0          PC 17599  71.2833   C85        C  \n",
       "2      0  STON/O2. 3101282   7.9250     0        S  \n",
       "3      0            113803  53.1000  C123        S  \n",
       "4      0            373450   8.0500     0        S  "
      ]
     },
     "execution_count": 128,
     "metadata": {},
     "output_type": "execute_result"
    }
   ],
   "source": [
    "# NaN değerlerini başka bir değerle doldurma:\n",
    "\n",
    "df.fillna(0).head()"
   ]
  },
  {
   "cell_type": "markdown",
   "id": "979512ef",
   "metadata": {
    "papermill": {
     "duration": 0.067581,
     "end_time": "2023-10-11T14:44:36.462799",
     "exception": false,
     "start_time": "2023-10-11T14:44:36.395218",
     "status": "completed"
    },
    "tags": []
   },
   "source": [
    "* **Veri Gruplama ve İstatistiksel İşlemler:**"
   ]
  },
  {
   "cell_type": "code",
   "execution_count": 129,
   "id": "8a3a73a9",
   "metadata": {
    "execution": {
     "iopub.execute_input": "2023-10-11T14:44:36.601819Z",
     "iopub.status.busy": "2023-10-11T14:44:36.601129Z",
     "iopub.status.idle": "2023-10-11T14:44:36.620328Z",
     "shell.execute_reply": "2023-10-11T14:44:36.619316Z"
    },
    "papermill": {
     "duration": 0.091167,
     "end_time": "2023-10-11T14:44:36.622237",
     "exception": false,
     "start_time": "2023-10-11T14:44:36.531070",
     "status": "completed"
    },
    "tags": []
   },
   "outputs": [
    {
     "data": {
      "text/html": [
       "<div>\n",
       "<style scoped>\n",
       "    .dataframe tbody tr th:only-of-type {\n",
       "        vertical-align: middle;\n",
       "    }\n",
       "\n",
       "    .dataframe tbody tr th {\n",
       "        vertical-align: top;\n",
       "    }\n",
       "\n",
       "    .dataframe thead th {\n",
       "        text-align: right;\n",
       "    }\n",
       "</style>\n",
       "<table border=\"1\" class=\"dataframe\">\n",
       "  <thead>\n",
       "    <tr style=\"text-align: right;\">\n",
       "      <th></th>\n",
       "      <th>PassengerId</th>\n",
       "      <th>Survived</th>\n",
       "      <th>Pclass</th>\n",
       "      <th>Name</th>\n",
       "      <th>Sex</th>\n",
       "      <th>Age</th>\n",
       "      <th>SibSp</th>\n",
       "      <th>Parch</th>\n",
       "      <th>Ticket</th>\n",
       "      <th>Fare</th>\n",
       "      <th>Cabin</th>\n",
       "      <th>Embarked</th>\n",
       "    </tr>\n",
       "  </thead>\n",
       "  <tbody>\n",
       "    <tr>\n",
       "      <th>0</th>\n",
       "      <td>1</td>\n",
       "      <td>0</td>\n",
       "      <td>3</td>\n",
       "      <td>Braund, Mr. Owen Harris</td>\n",
       "      <td>male</td>\n",
       "      <td>23.0</td>\n",
       "      <td>1</td>\n",
       "      <td>0</td>\n",
       "      <td>A/5 21171</td>\n",
       "      <td>7.2500</td>\n",
       "      <td>NaN</td>\n",
       "      <td>S</td>\n",
       "    </tr>\n",
       "    <tr>\n",
       "      <th>1</th>\n",
       "      <td>2</td>\n",
       "      <td>1</td>\n",
       "      <td>1</td>\n",
       "      <td>Cumings, Mrs. John Bradley (Florence Briggs Th...</td>\n",
       "      <td>female</td>\n",
       "      <td>39.0</td>\n",
       "      <td>1</td>\n",
       "      <td>0</td>\n",
       "      <td>PC 17599</td>\n",
       "      <td>71.2833</td>\n",
       "      <td>C85</td>\n",
       "      <td>C</td>\n",
       "    </tr>\n",
       "    <tr>\n",
       "      <th>2</th>\n",
       "      <td>3</td>\n",
       "      <td>1</td>\n",
       "      <td>3</td>\n",
       "      <td>Heikkinen, Miss. Laina</td>\n",
       "      <td>female</td>\n",
       "      <td>27.0</td>\n",
       "      <td>0</td>\n",
       "      <td>0</td>\n",
       "      <td>STON/O2. 3101282</td>\n",
       "      <td>7.9250</td>\n",
       "      <td>NaN</td>\n",
       "      <td>S</td>\n",
       "    </tr>\n",
       "    <tr>\n",
       "      <th>3</th>\n",
       "      <td>4</td>\n",
       "      <td>1</td>\n",
       "      <td>1</td>\n",
       "      <td>Futrelle, Mrs. Jacques Heath (Lily May Peel)</td>\n",
       "      <td>female</td>\n",
       "      <td>36.0</td>\n",
       "      <td>1</td>\n",
       "      <td>0</td>\n",
       "      <td>113803</td>\n",
       "      <td>53.1000</td>\n",
       "      <td>C123</td>\n",
       "      <td>S</td>\n",
       "    </tr>\n",
       "    <tr>\n",
       "      <th>4</th>\n",
       "      <td>5</td>\n",
       "      <td>0</td>\n",
       "      <td>3</td>\n",
       "      <td>Allen, Mr. William Henry</td>\n",
       "      <td>male</td>\n",
       "      <td>36.0</td>\n",
       "      <td>0</td>\n",
       "      <td>0</td>\n",
       "      <td>373450</td>\n",
       "      <td>8.0500</td>\n",
       "      <td>NaN</td>\n",
       "      <td>S</td>\n",
       "    </tr>\n",
       "    <tr>\n",
       "      <th>...</th>\n",
       "      <td>...</td>\n",
       "      <td>...</td>\n",
       "      <td>...</td>\n",
       "      <td>...</td>\n",
       "      <td>...</td>\n",
       "      <td>...</td>\n",
       "      <td>...</td>\n",
       "      <td>...</td>\n",
       "      <td>...</td>\n",
       "      <td>...</td>\n",
       "      <td>...</td>\n",
       "      <td>...</td>\n",
       "    </tr>\n",
       "    <tr>\n",
       "      <th>886</th>\n",
       "      <td>887</td>\n",
       "      <td>0</td>\n",
       "      <td>2</td>\n",
       "      <td>Montvila, Rev. Juozas</td>\n",
       "      <td>male</td>\n",
       "      <td>28.0</td>\n",
       "      <td>0</td>\n",
       "      <td>0</td>\n",
       "      <td>211536</td>\n",
       "      <td>13.0000</td>\n",
       "      <td>NaN</td>\n",
       "      <td>S</td>\n",
       "    </tr>\n",
       "    <tr>\n",
       "      <th>887</th>\n",
       "      <td>888</td>\n",
       "      <td>1</td>\n",
       "      <td>1</td>\n",
       "      <td>Graham, Miss. Margaret Edith</td>\n",
       "      <td>female</td>\n",
       "      <td>20.0</td>\n",
       "      <td>0</td>\n",
       "      <td>0</td>\n",
       "      <td>112053</td>\n",
       "      <td>30.0000</td>\n",
       "      <td>B42</td>\n",
       "      <td>S</td>\n",
       "    </tr>\n",
       "    <tr>\n",
       "      <th>888</th>\n",
       "      <td>889</td>\n",
       "      <td>0</td>\n",
       "      <td>3</td>\n",
       "      <td>Johnston, Miss. Catherine Helen \"Carrie\"</td>\n",
       "      <td>female</td>\n",
       "      <td>NaN</td>\n",
       "      <td>1</td>\n",
       "      <td>2</td>\n",
       "      <td>W./C. 6607</td>\n",
       "      <td>23.4500</td>\n",
       "      <td>NaN</td>\n",
       "      <td>S</td>\n",
       "    </tr>\n",
       "    <tr>\n",
       "      <th>889</th>\n",
       "      <td>890</td>\n",
       "      <td>1</td>\n",
       "      <td>1</td>\n",
       "      <td>Behr, Mr. Karl Howell</td>\n",
       "      <td>male</td>\n",
       "      <td>27.0</td>\n",
       "      <td>0</td>\n",
       "      <td>0</td>\n",
       "      <td>111369</td>\n",
       "      <td>30.0000</td>\n",
       "      <td>C148</td>\n",
       "      <td>C</td>\n",
       "    </tr>\n",
       "    <tr>\n",
       "      <th>890</th>\n",
       "      <td>891</td>\n",
       "      <td>0</td>\n",
       "      <td>3</td>\n",
       "      <td>Dooley, Mr. Patrick</td>\n",
       "      <td>male</td>\n",
       "      <td>33.0</td>\n",
       "      <td>0</td>\n",
       "      <td>0</td>\n",
       "      <td>370376</td>\n",
       "      <td>7.7500</td>\n",
       "      <td>NaN</td>\n",
       "      <td>Q</td>\n",
       "    </tr>\n",
       "  </tbody>\n",
       "</table>\n",
       "<p>882 rows × 12 columns</p>\n",
       "</div>"
      ],
      "text/plain": [
       "     PassengerId  Survived  Pclass  \\\n",
       "0              1         0       3   \n",
       "1              2         1       1   \n",
       "2              3         1       3   \n",
       "3              4         1       1   \n",
       "4              5         0       3   \n",
       "..           ...       ...     ...   \n",
       "886          887         0       2   \n",
       "887          888         1       1   \n",
       "888          889         0       3   \n",
       "889          890         1       1   \n",
       "890          891         0       3   \n",
       "\n",
       "                                                  Name     Sex   Age  SibSp  \\\n",
       "0                              Braund, Mr. Owen Harris    male  23.0      1   \n",
       "1    Cumings, Mrs. John Bradley (Florence Briggs Th...  female  39.0      1   \n",
       "2                               Heikkinen, Miss. Laina  female  27.0      0   \n",
       "3         Futrelle, Mrs. Jacques Heath (Lily May Peel)  female  36.0      1   \n",
       "4                             Allen, Mr. William Henry    male  36.0      0   \n",
       "..                                                 ...     ...   ...    ...   \n",
       "886                              Montvila, Rev. Juozas    male  28.0      0   \n",
       "887                       Graham, Miss. Margaret Edith  female  20.0      0   \n",
       "888           Johnston, Miss. Catherine Helen \"Carrie\"  female   NaN      1   \n",
       "889                              Behr, Mr. Karl Howell    male  27.0      0   \n",
       "890                                Dooley, Mr. Patrick    male  33.0      0   \n",
       "\n",
       "     Parch            Ticket     Fare Cabin Embarked  \n",
       "0        0         A/5 21171   7.2500   NaN        S  \n",
       "1        0          PC 17599  71.2833   C85        C  \n",
       "2        0  STON/O2. 3101282   7.9250   NaN        S  \n",
       "3        0            113803  53.1000  C123        S  \n",
       "4        0            373450   8.0500   NaN        S  \n",
       "..     ...               ...      ...   ...      ...  \n",
       "886      0            211536  13.0000   NaN        S  \n",
       "887      0            112053  30.0000   B42        S  \n",
       "888      2        W./C. 6607  23.4500   NaN        S  \n",
       "889      0            111369  30.0000  C148        C  \n",
       "890      0            370376   7.7500   NaN        Q  \n",
       "\n",
       "[882 rows x 12 columns]"
      ]
     },
     "execution_count": 129,
     "metadata": {},
     "output_type": "execute_result"
    }
   ],
   "source": [
    "# Bir sütuna göre verileri gruplama:\n",
    "\n",
    "grouped_df = df.groupby('Ticket')\n",
    "\n",
    "grouped_df.head()"
   ]
  },
  {
   "cell_type": "code",
   "execution_count": 130,
   "id": "1ac058b8",
   "metadata": {
    "execution": {
     "iopub.execute_input": "2023-10-11T14:44:36.764110Z",
     "iopub.status.busy": "2023-10-11T14:44:36.763578Z",
     "iopub.status.idle": "2023-10-11T14:44:36.773472Z",
     "shell.execute_reply": "2023-10-11T14:44:36.772446Z"
    },
    "papermill": {
     "duration": 0.084808,
     "end_time": "2023-10-11T14:44:36.775664",
     "exception": false,
     "start_time": "2023-10-11T14:44:36.690856",
     "status": "completed"
    },
    "tags": []
   },
   "outputs": [
    {
     "data": {
      "text/plain": [
       "Ticket\n",
       "110152         27.333333\n",
       "110413         37.333333\n",
       "110465         48.000000\n",
       "110564         29.000000\n",
       "110813         61.000000\n",
       "                 ...    \n",
       "W./C. 6608     24.500000\n",
       "W./C. 6609           NaN\n",
       "W.E.P. 5734    47.000000\n",
       "W/C 14208      31.000000\n",
       "WE/P 5735      54.000000\n",
       "Name: Age, Length: 681, dtype: float64"
      ]
     },
     "execution_count": 130,
     "metadata": {},
     "output_type": "execute_result"
    }
   ],
   "source": [
    "# Gruplanmış verilerin ortalama değerlerini hesaplama:\n",
    "\n",
    "grouped_df['Age'].mean()"
   ]
  },
  {
   "cell_type": "markdown",
   "id": "89611b9c",
   "metadata": {
    "papermill": {
     "duration": 0.069614,
     "end_time": "2023-10-11T14:44:36.920321",
     "exception": false,
     "start_time": "2023-10-11T14:44:36.850707",
     "status": "completed"
    },
    "tags": []
   },
   "source": [
    "* **Veri Sıralama:**"
   ]
  },
  {
   "cell_type": "code",
   "execution_count": 131,
   "id": "734d4fea",
   "metadata": {
    "execution": {
     "iopub.execute_input": "2023-10-11T14:44:37.061483Z",
     "iopub.status.busy": "2023-10-11T14:44:37.061160Z",
     "iopub.status.idle": "2023-10-11T14:44:37.075507Z",
     "shell.execute_reply": "2023-10-11T14:44:37.074713Z"
    },
    "papermill": {
     "duration": 0.087661,
     "end_time": "2023-10-11T14:44:37.077556",
     "exception": false,
     "start_time": "2023-10-11T14:44:36.989895",
     "status": "completed"
    },
    "tags": []
   },
   "outputs": [
    {
     "data": {
      "text/html": [
       "<div>\n",
       "<style scoped>\n",
       "    .dataframe tbody tr th:only-of-type {\n",
       "        vertical-align: middle;\n",
       "    }\n",
       "\n",
       "    .dataframe tbody tr th {\n",
       "        vertical-align: top;\n",
       "    }\n",
       "\n",
       "    .dataframe thead th {\n",
       "        text-align: right;\n",
       "    }\n",
       "</style>\n",
       "<table border=\"1\" class=\"dataframe\">\n",
       "  <thead>\n",
       "    <tr style=\"text-align: right;\">\n",
       "      <th></th>\n",
       "      <th>PassengerId</th>\n",
       "      <th>Survived</th>\n",
       "      <th>Pclass</th>\n",
       "      <th>Name</th>\n",
       "      <th>Sex</th>\n",
       "      <th>Age</th>\n",
       "      <th>SibSp</th>\n",
       "      <th>Parch</th>\n",
       "      <th>Ticket</th>\n",
       "      <th>Fare</th>\n",
       "      <th>Cabin</th>\n",
       "      <th>Embarked</th>\n",
       "    </tr>\n",
       "  </thead>\n",
       "  <tbody>\n",
       "    <tr>\n",
       "      <th>803</th>\n",
       "      <td>804</td>\n",
       "      <td>1</td>\n",
       "      <td>3</td>\n",
       "      <td>Thomas, Master. Assad Alexander</td>\n",
       "      <td>male</td>\n",
       "      <td>1.42</td>\n",
       "      <td>0</td>\n",
       "      <td>1</td>\n",
       "      <td>2625</td>\n",
       "      <td>8.5167</td>\n",
       "      <td>NaN</td>\n",
       "      <td>C</td>\n",
       "    </tr>\n",
       "    <tr>\n",
       "      <th>755</th>\n",
       "      <td>756</td>\n",
       "      <td>1</td>\n",
       "      <td>2</td>\n",
       "      <td>Hamalainen, Master. Viljo</td>\n",
       "      <td>male</td>\n",
       "      <td>1.67</td>\n",
       "      <td>1</td>\n",
       "      <td>1</td>\n",
       "      <td>250649</td>\n",
       "      <td>14.5000</td>\n",
       "      <td>NaN</td>\n",
       "      <td>S</td>\n",
       "    </tr>\n",
       "    <tr>\n",
       "      <th>644</th>\n",
       "      <td>645</td>\n",
       "      <td>1</td>\n",
       "      <td>3</td>\n",
       "      <td>Baclini, Miss. Eugenie</td>\n",
       "      <td>female</td>\n",
       "      <td>1.75</td>\n",
       "      <td>2</td>\n",
       "      <td>1</td>\n",
       "      <td>2666</td>\n",
       "      <td>19.2583</td>\n",
       "      <td>NaN</td>\n",
       "      <td>C</td>\n",
       "    </tr>\n",
       "    <tr>\n",
       "      <th>469</th>\n",
       "      <td>470</td>\n",
       "      <td>1</td>\n",
       "      <td>3</td>\n",
       "      <td>Baclini, Miss. Helene Barbara</td>\n",
       "      <td>female</td>\n",
       "      <td>1.75</td>\n",
       "      <td>2</td>\n",
       "      <td>1</td>\n",
       "      <td>2666</td>\n",
       "      <td>19.2583</td>\n",
       "      <td>NaN</td>\n",
       "      <td>C</td>\n",
       "    </tr>\n",
       "    <tr>\n",
       "      <th>78</th>\n",
       "      <td>79</td>\n",
       "      <td>1</td>\n",
       "      <td>2</td>\n",
       "      <td>Caldwell, Master. Alden Gates</td>\n",
       "      <td>male</td>\n",
       "      <td>1.83</td>\n",
       "      <td>0</td>\n",
       "      <td>2</td>\n",
       "      <td>248738</td>\n",
       "      <td>29.0000</td>\n",
       "      <td>NaN</td>\n",
       "      <td>S</td>\n",
       "    </tr>\n",
       "  </tbody>\n",
       "</table>\n",
       "</div>"
      ],
      "text/plain": [
       "     PassengerId  Survived  Pclass                             Name     Sex  \\\n",
       "803          804         1       3  Thomas, Master. Assad Alexander    male   \n",
       "755          756         1       2        Hamalainen, Master. Viljo    male   \n",
       "644          645         1       3           Baclini, Miss. Eugenie  female   \n",
       "469          470         1       3    Baclini, Miss. Helene Barbara  female   \n",
       "78            79         1       2    Caldwell, Master. Alden Gates    male   \n",
       "\n",
       "      Age  SibSp  Parch  Ticket     Fare Cabin Embarked  \n",
       "803  1.42      0      1    2625   8.5167   NaN        C  \n",
       "755  1.67      1      1  250649  14.5000   NaN        S  \n",
       "644  1.75      2      1    2666  19.2583   NaN        C  \n",
       "469  1.75      2      1    2666  19.2583   NaN        C  \n",
       "78   1.83      0      2  248738  29.0000   NaN        S  "
      ]
     },
     "execution_count": 131,
     "metadata": {},
     "output_type": "execute_result"
    }
   ],
   "source": [
    "# Sütuna göre verileri sıralama:\n",
    "\n",
    "df.sort_values('Age').head()"
   ]
  },
  {
   "cell_type": "markdown",
   "id": "27c50d45",
   "metadata": {
    "papermill": {
     "duration": 0.069099,
     "end_time": "2023-10-11T14:44:37.215828",
     "exception": false,
     "start_time": "2023-10-11T14:44:37.146729",
     "status": "completed"
    },
    "tags": []
   },
   "source": [
    "<div style=\"border-radius:10px; border:#DEB887 solid; padding: 15px; background-color: #FFFAF0; font-size:100%; text-align:left\">\n",
    "\n",
    "<h3 align=\"left\"><font color='#DEB887'>💡 Notlar: </font></h3>\n",
    "\n",
    "* Pandas DataFrame'de **axis** parametresi, bazı işlemlerde hangi eksen üzerinde işlem yapılacağını belirtmek için kullanılır.\n",
    "\n",
    "    * **axis=0**: Bu, DataFrame üzerinde işlem yaparken satırlar (gözlemler) üzerinde işlem yapılacağını belirtir. Yani, satır bazlı işlem yapmak istediğinizde axis=0 kullanılır. Varsayılan olarak çoğu DataFrame işlemi için bu kullanılır.\n",
    "    * **axis=1**: Bu, DataFrame üzerinde işlem yaparken sütunlar (değişkenler) üzerinde işlem yapılacağını belirtir. Yani, sütun bazlı işlem yapmak istediğinizde axis=1 kullanılır.\n",
    "\n",
    "* Pandas DataFrame'de **inplace** parametresi, çoğu DataFrame işlemi sırasında mevcut DataFrame'in değiştirilip değiştirilmeyeceğini belirlemek için kullanılır. Varsayılan olarak, çoğu işlemde inplace=False olarak ayarlanmıştır, bu nedenle DataFrame'iniz değiştirilmeden işlem sonucu döndürülür.\n",
    "\n",
    "* Ancak **inplace=True** olarak ayarlandığında, işlem mevcut DataFrame üzerinde uygulanır ve DataFrame değiştirilir. Bu durumda işlem sonucu ayrıca döndürülmez ve None değeri döner."
   ]
  },
  {
   "cell_type": "code",
   "execution_count": 132,
   "id": "07da7149",
   "metadata": {
    "execution": {
     "iopub.execute_input": "2023-10-11T14:44:37.355170Z",
     "iopub.status.busy": "2023-10-11T14:44:37.354520Z",
     "iopub.status.idle": "2023-10-11T14:44:37.363402Z",
     "shell.execute_reply": "2023-10-11T14:44:37.362152Z"
    },
    "papermill": {
     "duration": 0.081755,
     "end_time": "2023-10-11T14:44:37.366160",
     "exception": false,
     "start_time": "2023-10-11T14:44:37.284405",
     "status": "completed"
    },
    "tags": []
   },
   "outputs": [
    {
     "data": {
      "text/html": [
       "<div>\n",
       "<style scoped>\n",
       "    .dataframe tbody tr th:only-of-type {\n",
       "        vertical-align: middle;\n",
       "    }\n",
       "\n",
       "    .dataframe tbody tr th {\n",
       "        vertical-align: top;\n",
       "    }\n",
       "\n",
       "    .dataframe thead th {\n",
       "        text-align: right;\n",
       "    }\n",
       "</style>\n",
       "<table border=\"1\" class=\"dataframe\">\n",
       "  <thead>\n",
       "    <tr style=\"text-align: right;\">\n",
       "      <th></th>\n",
       "      <th>A</th>\n",
       "      <th>B</th>\n",
       "    </tr>\n",
       "  </thead>\n",
       "  <tbody>\n",
       "    <tr>\n",
       "      <th>0</th>\n",
       "      <td>1</td>\n",
       "      <td>4</td>\n",
       "    </tr>\n",
       "    <tr>\n",
       "      <th>1</th>\n",
       "      <td>2</td>\n",
       "      <td>5</td>\n",
       "    </tr>\n",
       "    <tr>\n",
       "      <th>2</th>\n",
       "      <td>3</td>\n",
       "      <td>6</td>\n",
       "    </tr>\n",
       "  </tbody>\n",
       "</table>\n",
       "</div>"
      ],
      "text/plain": [
       "   A  B\n",
       "0  1  4\n",
       "1  2  5\n",
       "2  3  6"
      ]
     },
     "execution_count": 132,
     "metadata": {},
     "output_type": "execute_result"
    }
   ],
   "source": [
    "import pandas as pd\n",
    "\n",
    "# DataFrame oluşturalım:\n",
    "\n",
    "data = {\n",
    "    'A': [1, 2, 3],\n",
    "    'B': [4, 5, 6]\n",
    "}\n",
    "\n",
    "df = pd.DataFrame(data)\n",
    "\n",
    "df"
   ]
  },
  {
   "cell_type": "code",
   "execution_count": 133,
   "id": "54d70ffd",
   "metadata": {
    "execution": {
     "iopub.execute_input": "2023-10-11T14:44:37.514017Z",
     "iopub.status.busy": "2023-10-11T14:44:37.512919Z",
     "iopub.status.idle": "2023-10-11T14:44:37.520043Z",
     "shell.execute_reply": "2023-10-11T14:44:37.519402Z"
    },
    "papermill": {
     "duration": 0.080523,
     "end_time": "2023-10-11T14:44:37.521681",
     "exception": false,
     "start_time": "2023-10-11T14:44:37.441158",
     "status": "completed"
    },
    "tags": []
   },
   "outputs": [
    {
     "data": {
      "text/plain": [
       "A     6\n",
       "B    15\n",
       "dtype: int64"
      ]
     },
     "execution_count": 133,
     "metadata": {},
     "output_type": "execute_result"
    }
   ],
   "source": [
    "# Axis kullanımı (Satırlar üzerinde toplama):\n",
    "\n",
    "data = df.sum(axis=0)\n",
    "\n",
    "data"
   ]
  },
  {
   "cell_type": "code",
   "execution_count": 134,
   "id": "24ac5913",
   "metadata": {
    "execution": {
     "iopub.execute_input": "2023-10-11T14:44:37.661795Z",
     "iopub.status.busy": "2023-10-11T14:44:37.660810Z",
     "iopub.status.idle": "2023-10-11T14:44:37.667564Z",
     "shell.execute_reply": "2023-10-11T14:44:37.666727Z"
    },
    "papermill": {
     "duration": 0.078507,
     "end_time": "2023-10-11T14:44:37.669423",
     "exception": false,
     "start_time": "2023-10-11T14:44:37.590916",
     "status": "completed"
    },
    "tags": []
   },
   "outputs": [
    {
     "data": {
      "text/plain": [
       "0    5\n",
       "1    7\n",
       "2    9\n",
       "dtype: int64"
      ]
     },
     "execution_count": 134,
     "metadata": {},
     "output_type": "execute_result"
    }
   ],
   "source": [
    "# Axis kullanımı (Sütunlar üzerinde toplama):\n",
    "\n",
    "data = df.sum(axis=1)\n",
    "\n",
    "data"
   ]
  },
  {
   "cell_type": "markdown",
   "id": "bd09308d",
   "metadata": {
    "papermill": {
     "duration": 0.069228,
     "end_time": "2023-10-11T14:44:37.809564",
     "exception": false,
     "start_time": "2023-10-11T14:44:37.740336",
     "status": "completed"
    },
    "tags": []
   },
   "source": [
    "* **Pandas'ta Seçim İşlemleri:**"
   ]
  },
  {
   "cell_type": "code",
   "execution_count": 135,
   "id": "88a65db0",
   "metadata": {
    "execution": {
     "iopub.execute_input": "2023-10-11T14:44:37.951033Z",
     "iopub.status.busy": "2023-10-11T14:44:37.950391Z",
     "iopub.status.idle": "2023-10-11T14:44:37.960604Z",
     "shell.execute_reply": "2023-10-11T14:44:37.959883Z"
    },
    "papermill": {
     "duration": 0.082904,
     "end_time": "2023-10-11T14:44:37.962557",
     "exception": false,
     "start_time": "2023-10-11T14:44:37.879653",
     "status": "completed"
    },
    "tags": []
   },
   "outputs": [],
   "source": [
    "import pandas as pd\n",
    "import seaborn as sns\n",
    "\n",
    "df = pd.read_csv('/kaggle/input/titanic/train.csv')"
   ]
  },
  {
   "cell_type": "code",
   "execution_count": 136,
   "id": "f44948f8",
   "metadata": {
    "execution": {
     "iopub.execute_input": "2023-10-11T14:44:38.119119Z",
     "iopub.status.busy": "2023-10-11T14:44:38.118486Z",
     "iopub.status.idle": "2023-10-11T14:44:38.131875Z",
     "shell.execute_reply": "2023-10-11T14:44:38.131157Z"
    },
    "papermill": {
     "duration": 0.098318,
     "end_time": "2023-10-11T14:44:38.133784",
     "exception": false,
     "start_time": "2023-10-11T14:44:38.035466",
     "status": "completed"
    },
    "tags": []
   },
   "outputs": [
    {
     "data": {
      "text/html": [
       "<div>\n",
       "<style scoped>\n",
       "    .dataframe tbody tr th:only-of-type {\n",
       "        vertical-align: middle;\n",
       "    }\n",
       "\n",
       "    .dataframe tbody tr th {\n",
       "        vertical-align: top;\n",
       "    }\n",
       "\n",
       "    .dataframe thead th {\n",
       "        text-align: right;\n",
       "    }\n",
       "</style>\n",
       "<table border=\"1\" class=\"dataframe\">\n",
       "  <thead>\n",
       "    <tr style=\"text-align: right;\">\n",
       "      <th></th>\n",
       "      <th>PassengerId</th>\n",
       "      <th>Survived</th>\n",
       "      <th>Pclass</th>\n",
       "      <th>Name</th>\n",
       "      <th>Sex</th>\n",
       "      <th>Age</th>\n",
       "      <th>SibSp</th>\n",
       "      <th>Parch</th>\n",
       "      <th>Ticket</th>\n",
       "      <th>Fare</th>\n",
       "      <th>Cabin</th>\n",
       "      <th>Embarked</th>\n",
       "    </tr>\n",
       "  </thead>\n",
       "  <tbody>\n",
       "    <tr>\n",
       "      <th>0</th>\n",
       "      <td>1</td>\n",
       "      <td>0</td>\n",
       "      <td>3</td>\n",
       "      <td>Braund, Mr. Owen Harris</td>\n",
       "      <td>male</td>\n",
       "      <td>22.0</td>\n",
       "      <td>1</td>\n",
       "      <td>0</td>\n",
       "      <td>A/5 21171</td>\n",
       "      <td>7.2500</td>\n",
       "      <td>NaN</td>\n",
       "      <td>S</td>\n",
       "    </tr>\n",
       "    <tr>\n",
       "      <th>1</th>\n",
       "      <td>2</td>\n",
       "      <td>1</td>\n",
       "      <td>1</td>\n",
       "      <td>Cumings, Mrs. John Bradley (Florence Briggs Th...</td>\n",
       "      <td>female</td>\n",
       "      <td>38.0</td>\n",
       "      <td>1</td>\n",
       "      <td>0</td>\n",
       "      <td>PC 17599</td>\n",
       "      <td>71.2833</td>\n",
       "      <td>C85</td>\n",
       "      <td>C</td>\n",
       "    </tr>\n",
       "    <tr>\n",
       "      <th>2</th>\n",
       "      <td>3</td>\n",
       "      <td>1</td>\n",
       "      <td>3</td>\n",
       "      <td>Heikkinen, Miss. Laina</td>\n",
       "      <td>female</td>\n",
       "      <td>26.0</td>\n",
       "      <td>0</td>\n",
       "      <td>0</td>\n",
       "      <td>STON/O2. 3101282</td>\n",
       "      <td>7.9250</td>\n",
       "      <td>NaN</td>\n",
       "      <td>S</td>\n",
       "    </tr>\n",
       "    <tr>\n",
       "      <th>3</th>\n",
       "      <td>4</td>\n",
       "      <td>1</td>\n",
       "      <td>1</td>\n",
       "      <td>Futrelle, Mrs. Jacques Heath (Lily May Peel)</td>\n",
       "      <td>female</td>\n",
       "      <td>35.0</td>\n",
       "      <td>1</td>\n",
       "      <td>0</td>\n",
       "      <td>113803</td>\n",
       "      <td>53.1000</td>\n",
       "      <td>C123</td>\n",
       "      <td>S</td>\n",
       "    </tr>\n",
       "    <tr>\n",
       "      <th>4</th>\n",
       "      <td>5</td>\n",
       "      <td>0</td>\n",
       "      <td>3</td>\n",
       "      <td>Allen, Mr. William Henry</td>\n",
       "      <td>male</td>\n",
       "      <td>35.0</td>\n",
       "      <td>0</td>\n",
       "      <td>0</td>\n",
       "      <td>373450</td>\n",
       "      <td>8.0500</td>\n",
       "      <td>NaN</td>\n",
       "      <td>S</td>\n",
       "    </tr>\n",
       "    <tr>\n",
       "      <th>5</th>\n",
       "      <td>6</td>\n",
       "      <td>0</td>\n",
       "      <td>3</td>\n",
       "      <td>Moran, Mr. James</td>\n",
       "      <td>male</td>\n",
       "      <td>NaN</td>\n",
       "      <td>0</td>\n",
       "      <td>0</td>\n",
       "      <td>330877</td>\n",
       "      <td>8.4583</td>\n",
       "      <td>NaN</td>\n",
       "      <td>Q</td>\n",
       "    </tr>\n",
       "    <tr>\n",
       "      <th>6</th>\n",
       "      <td>7</td>\n",
       "      <td>0</td>\n",
       "      <td>1</td>\n",
       "      <td>McCarthy, Mr. Timothy J</td>\n",
       "      <td>male</td>\n",
       "      <td>54.0</td>\n",
       "      <td>0</td>\n",
       "      <td>0</td>\n",
       "      <td>17463</td>\n",
       "      <td>51.8625</td>\n",
       "      <td>E46</td>\n",
       "      <td>S</td>\n",
       "    </tr>\n",
       "    <tr>\n",
       "      <th>7</th>\n",
       "      <td>8</td>\n",
       "      <td>0</td>\n",
       "      <td>3</td>\n",
       "      <td>Palsson, Master. Gosta Leonard</td>\n",
       "      <td>male</td>\n",
       "      <td>2.0</td>\n",
       "      <td>3</td>\n",
       "      <td>1</td>\n",
       "      <td>349909</td>\n",
       "      <td>21.0750</td>\n",
       "      <td>NaN</td>\n",
       "      <td>S</td>\n",
       "    </tr>\n",
       "  </tbody>\n",
       "</table>\n",
       "</div>"
      ],
      "text/plain": [
       "   PassengerId  Survived  Pclass  \\\n",
       "0            1         0       3   \n",
       "1            2         1       1   \n",
       "2            3         1       3   \n",
       "3            4         1       1   \n",
       "4            5         0       3   \n",
       "5            6         0       3   \n",
       "6            7         0       1   \n",
       "7            8         0       3   \n",
       "\n",
       "                                                Name     Sex   Age  SibSp  \\\n",
       "0                            Braund, Mr. Owen Harris    male  22.0      1   \n",
       "1  Cumings, Mrs. John Bradley (Florence Briggs Th...  female  38.0      1   \n",
       "2                             Heikkinen, Miss. Laina  female  26.0      0   \n",
       "3       Futrelle, Mrs. Jacques Heath (Lily May Peel)  female  35.0      1   \n",
       "4                           Allen, Mr. William Henry    male  35.0      0   \n",
       "5                                   Moran, Mr. James    male   NaN      0   \n",
       "6                            McCarthy, Mr. Timothy J    male  54.0      0   \n",
       "7                     Palsson, Master. Gosta Leonard    male   2.0      3   \n",
       "\n",
       "   Parch            Ticket     Fare Cabin Embarked  \n",
       "0      0         A/5 21171   7.2500   NaN        S  \n",
       "1      0          PC 17599  71.2833   C85        C  \n",
       "2      0  STON/O2. 3101282   7.9250   NaN        S  \n",
       "3      0            113803  53.1000  C123        S  \n",
       "4      0            373450   8.0500   NaN        S  \n",
       "5      0            330877   8.4583   NaN        Q  \n",
       "6      0             17463  51.8625   E46        S  \n",
       "7      1            349909  21.0750   NaN        S  "
      ]
     },
     "execution_count": 136,
     "metadata": {},
     "output_type": "execute_result"
    }
   ],
   "source": [
    "df[0:8]"
   ]
  },
  {
   "cell_type": "code",
   "execution_count": 137,
   "id": "86278ef5",
   "metadata": {
    "execution": {
     "iopub.execute_input": "2023-10-11T14:44:38.276110Z",
     "iopub.status.busy": "2023-10-11T14:44:38.275749Z",
     "iopub.status.idle": "2023-10-11T14:44:38.291216Z",
     "shell.execute_reply": "2023-10-11T14:44:38.290215Z"
    },
    "papermill": {
     "duration": 0.089219,
     "end_time": "2023-10-11T14:44:38.292988",
     "exception": false,
     "start_time": "2023-10-11T14:44:38.203769",
     "status": "completed"
    },
    "tags": []
   },
   "outputs": [
    {
     "data": {
      "text/html": [
       "<div>\n",
       "<style scoped>\n",
       "    .dataframe tbody tr th:only-of-type {\n",
       "        vertical-align: middle;\n",
       "    }\n",
       "\n",
       "    .dataframe tbody tr th {\n",
       "        vertical-align: top;\n",
       "    }\n",
       "\n",
       "    .dataframe thead th {\n",
       "        text-align: right;\n",
       "    }\n",
       "</style>\n",
       "<table border=\"1\" class=\"dataframe\">\n",
       "  <thead>\n",
       "    <tr style=\"text-align: right;\">\n",
       "      <th></th>\n",
       "      <th>PassengerId</th>\n",
       "      <th>Survived</th>\n",
       "      <th>Pclass</th>\n",
       "      <th>Name</th>\n",
       "      <th>Sex</th>\n",
       "      <th>Age</th>\n",
       "      <th>SibSp</th>\n",
       "      <th>Parch</th>\n",
       "      <th>Ticket</th>\n",
       "      <th>Fare</th>\n",
       "      <th>Cabin</th>\n",
       "      <th>Embarked</th>\n",
       "    </tr>\n",
       "  </thead>\n",
       "  <tbody>\n",
       "    <tr>\n",
       "      <th>1</th>\n",
       "      <td>2</td>\n",
       "      <td>1</td>\n",
       "      <td>1</td>\n",
       "      <td>Cumings, Mrs. John Bradley (Florence Briggs Th...</td>\n",
       "      <td>female</td>\n",
       "      <td>38.0</td>\n",
       "      <td>1</td>\n",
       "      <td>0</td>\n",
       "      <td>PC 17599</td>\n",
       "      <td>71.2833</td>\n",
       "      <td>C85</td>\n",
       "      <td>C</td>\n",
       "    </tr>\n",
       "    <tr>\n",
       "      <th>2</th>\n",
       "      <td>3</td>\n",
       "      <td>1</td>\n",
       "      <td>3</td>\n",
       "      <td>Heikkinen, Miss. Laina</td>\n",
       "      <td>female</td>\n",
       "      <td>26.0</td>\n",
       "      <td>0</td>\n",
       "      <td>0</td>\n",
       "      <td>STON/O2. 3101282</td>\n",
       "      <td>7.9250</td>\n",
       "      <td>NaN</td>\n",
       "      <td>S</td>\n",
       "    </tr>\n",
       "    <tr>\n",
       "      <th>3</th>\n",
       "      <td>4</td>\n",
       "      <td>1</td>\n",
       "      <td>1</td>\n",
       "      <td>Futrelle, Mrs. Jacques Heath (Lily May Peel)</td>\n",
       "      <td>female</td>\n",
       "      <td>35.0</td>\n",
       "      <td>1</td>\n",
       "      <td>0</td>\n",
       "      <td>113803</td>\n",
       "      <td>53.1000</td>\n",
       "      <td>C123</td>\n",
       "      <td>S</td>\n",
       "    </tr>\n",
       "    <tr>\n",
       "      <th>4</th>\n",
       "      <td>5</td>\n",
       "      <td>0</td>\n",
       "      <td>3</td>\n",
       "      <td>Allen, Mr. William Henry</td>\n",
       "      <td>male</td>\n",
       "      <td>35.0</td>\n",
       "      <td>0</td>\n",
       "      <td>0</td>\n",
       "      <td>373450</td>\n",
       "      <td>8.0500</td>\n",
       "      <td>NaN</td>\n",
       "      <td>S</td>\n",
       "    </tr>\n",
       "    <tr>\n",
       "      <th>5</th>\n",
       "      <td>6</td>\n",
       "      <td>0</td>\n",
       "      <td>3</td>\n",
       "      <td>Moran, Mr. James</td>\n",
       "      <td>male</td>\n",
       "      <td>NaN</td>\n",
       "      <td>0</td>\n",
       "      <td>0</td>\n",
       "      <td>330877</td>\n",
       "      <td>8.4583</td>\n",
       "      <td>NaN</td>\n",
       "      <td>Q</td>\n",
       "    </tr>\n",
       "  </tbody>\n",
       "</table>\n",
       "</div>"
      ],
      "text/plain": [
       "   PassengerId  Survived  Pclass  \\\n",
       "1            2         1       1   \n",
       "2            3         1       3   \n",
       "3            4         1       1   \n",
       "4            5         0       3   \n",
       "5            6         0       3   \n",
       "\n",
       "                                                Name     Sex   Age  SibSp  \\\n",
       "1  Cumings, Mrs. John Bradley (Florence Briggs Th...  female  38.0      1   \n",
       "2                             Heikkinen, Miss. Laina  female  26.0      0   \n",
       "3       Futrelle, Mrs. Jacques Heath (Lily May Peel)  female  35.0      1   \n",
       "4                           Allen, Mr. William Henry    male  35.0      0   \n",
       "5                                   Moran, Mr. James    male   NaN      0   \n",
       "\n",
       "   Parch            Ticket     Fare Cabin Embarked  \n",
       "1      0          PC 17599  71.2833   C85        C  \n",
       "2      0  STON/O2. 3101282   7.9250   NaN        S  \n",
       "3      0            113803  53.1000  C123        S  \n",
       "4      0            373450   8.0500   NaN        S  \n",
       "5      0            330877   8.4583   NaN        Q  "
      ]
     },
     "execution_count": 137,
     "metadata": {},
     "output_type": "execute_result"
    }
   ],
   "source": [
    "df.drop(0, axis=0).head()"
   ]
  },
  {
   "cell_type": "code",
   "execution_count": 138,
   "id": "3b28276b",
   "metadata": {
    "execution": {
     "iopub.execute_input": "2023-10-11T14:44:38.434710Z",
     "iopub.status.busy": "2023-10-11T14:44:38.434144Z",
     "iopub.status.idle": "2023-10-11T14:44:38.449713Z",
     "shell.execute_reply": "2023-10-11T14:44:38.448663Z"
    },
    "papermill": {
     "duration": 0.08881,
     "end_time": "2023-10-11T14:44:38.451734",
     "exception": false,
     "start_time": "2023-10-11T14:44:38.362924",
     "status": "completed"
    },
    "tags": []
   },
   "outputs": [
    {
     "data": {
      "text/html": [
       "<div>\n",
       "<style scoped>\n",
       "    .dataframe tbody tr th:only-of-type {\n",
       "        vertical-align: middle;\n",
       "    }\n",
       "\n",
       "    .dataframe tbody tr th {\n",
       "        vertical-align: top;\n",
       "    }\n",
       "\n",
       "    .dataframe thead th {\n",
       "        text-align: right;\n",
       "    }\n",
       "</style>\n",
       "<table border=\"1\" class=\"dataframe\">\n",
       "  <thead>\n",
       "    <tr style=\"text-align: right;\">\n",
       "      <th></th>\n",
       "      <th>PassengerId</th>\n",
       "      <th>Survived</th>\n",
       "      <th>Pclass</th>\n",
       "      <th>Name</th>\n",
       "      <th>Sex</th>\n",
       "      <th>Age</th>\n",
       "      <th>SibSp</th>\n",
       "      <th>Parch</th>\n",
       "      <th>Ticket</th>\n",
       "      <th>Fare</th>\n",
       "      <th>Cabin</th>\n",
       "      <th>Embarked</th>\n",
       "    </tr>\n",
       "  </thead>\n",
       "  <tbody>\n",
       "    <tr>\n",
       "      <th>0</th>\n",
       "      <td>1</td>\n",
       "      <td>0</td>\n",
       "      <td>3</td>\n",
       "      <td>Braund, Mr. Owen Harris</td>\n",
       "      <td>male</td>\n",
       "      <td>22.0</td>\n",
       "      <td>1</td>\n",
       "      <td>0</td>\n",
       "      <td>A/5 21171</td>\n",
       "      <td>7.2500</td>\n",
       "      <td>NaN</td>\n",
       "      <td>S</td>\n",
       "    </tr>\n",
       "    <tr>\n",
       "      <th>2</th>\n",
       "      <td>3</td>\n",
       "      <td>1</td>\n",
       "      <td>3</td>\n",
       "      <td>Heikkinen, Miss. Laina</td>\n",
       "      <td>female</td>\n",
       "      <td>26.0</td>\n",
       "      <td>0</td>\n",
       "      <td>0</td>\n",
       "      <td>STON/O2. 3101282</td>\n",
       "      <td>7.9250</td>\n",
       "      <td>NaN</td>\n",
       "      <td>S</td>\n",
       "    </tr>\n",
       "    <tr>\n",
       "      <th>4</th>\n",
       "      <td>5</td>\n",
       "      <td>0</td>\n",
       "      <td>3</td>\n",
       "      <td>Allen, Mr. William Henry</td>\n",
       "      <td>male</td>\n",
       "      <td>35.0</td>\n",
       "      <td>0</td>\n",
       "      <td>0</td>\n",
       "      <td>373450</td>\n",
       "      <td>8.0500</td>\n",
       "      <td>NaN</td>\n",
       "      <td>S</td>\n",
       "    </tr>\n",
       "    <tr>\n",
       "      <th>6</th>\n",
       "      <td>7</td>\n",
       "      <td>0</td>\n",
       "      <td>1</td>\n",
       "      <td>McCarthy, Mr. Timothy J</td>\n",
       "      <td>male</td>\n",
       "      <td>54.0</td>\n",
       "      <td>0</td>\n",
       "      <td>0</td>\n",
       "      <td>17463</td>\n",
       "      <td>51.8625</td>\n",
       "      <td>E46</td>\n",
       "      <td>S</td>\n",
       "    </tr>\n",
       "    <tr>\n",
       "      <th>8</th>\n",
       "      <td>9</td>\n",
       "      <td>1</td>\n",
       "      <td>3</td>\n",
       "      <td>Johnson, Mrs. Oscar W (Elisabeth Vilhelmina Berg)</td>\n",
       "      <td>female</td>\n",
       "      <td>27.0</td>\n",
       "      <td>0</td>\n",
       "      <td>2</td>\n",
       "      <td>347742</td>\n",
       "      <td>11.1333</td>\n",
       "      <td>NaN</td>\n",
       "      <td>S</td>\n",
       "    </tr>\n",
       "    <tr>\n",
       "      <th>9</th>\n",
       "      <td>10</td>\n",
       "      <td>1</td>\n",
       "      <td>2</td>\n",
       "      <td>Nasser, Mrs. Nicholas (Adele Achem)</td>\n",
       "      <td>female</td>\n",
       "      <td>14.0</td>\n",
       "      <td>1</td>\n",
       "      <td>0</td>\n",
       "      <td>237736</td>\n",
       "      <td>30.0708</td>\n",
       "      <td>NaN</td>\n",
       "      <td>C</td>\n",
       "    </tr>\n",
       "    <tr>\n",
       "      <th>10</th>\n",
       "      <td>11</td>\n",
       "      <td>1</td>\n",
       "      <td>3</td>\n",
       "      <td>Sandstrom, Miss. Marguerite Rut</td>\n",
       "      <td>female</td>\n",
       "      <td>4.0</td>\n",
       "      <td>1</td>\n",
       "      <td>1</td>\n",
       "      <td>PP 9549</td>\n",
       "      <td>16.7000</td>\n",
       "      <td>G6</td>\n",
       "      <td>S</td>\n",
       "    </tr>\n",
       "    <tr>\n",
       "      <th>11</th>\n",
       "      <td>12</td>\n",
       "      <td>1</td>\n",
       "      <td>1</td>\n",
       "      <td>Bonnell, Miss. Elizabeth</td>\n",
       "      <td>female</td>\n",
       "      <td>58.0</td>\n",
       "      <td>0</td>\n",
       "      <td>0</td>\n",
       "      <td>113783</td>\n",
       "      <td>26.5500</td>\n",
       "      <td>C103</td>\n",
       "      <td>S</td>\n",
       "    </tr>\n",
       "    <tr>\n",
       "      <th>12</th>\n",
       "      <td>13</td>\n",
       "      <td>0</td>\n",
       "      <td>3</td>\n",
       "      <td>Saundercock, Mr. William Henry</td>\n",
       "      <td>male</td>\n",
       "      <td>20.0</td>\n",
       "      <td>0</td>\n",
       "      <td>0</td>\n",
       "      <td>A/5. 2151</td>\n",
       "      <td>8.0500</td>\n",
       "      <td>NaN</td>\n",
       "      <td>S</td>\n",
       "    </tr>\n",
       "    <tr>\n",
       "      <th>13</th>\n",
       "      <td>14</td>\n",
       "      <td>0</td>\n",
       "      <td>3</td>\n",
       "      <td>Andersson, Mr. Anders Johan</td>\n",
       "      <td>male</td>\n",
       "      <td>39.0</td>\n",
       "      <td>1</td>\n",
       "      <td>5</td>\n",
       "      <td>347082</td>\n",
       "      <td>31.2750</td>\n",
       "      <td>NaN</td>\n",
       "      <td>S</td>\n",
       "    </tr>\n",
       "  </tbody>\n",
       "</table>\n",
       "</div>"
      ],
      "text/plain": [
       "    PassengerId  Survived  Pclass  \\\n",
       "0             1         0       3   \n",
       "2             3         1       3   \n",
       "4             5         0       3   \n",
       "6             7         0       1   \n",
       "8             9         1       3   \n",
       "9            10         1       2   \n",
       "10           11         1       3   \n",
       "11           12         1       1   \n",
       "12           13         0       3   \n",
       "13           14         0       3   \n",
       "\n",
       "                                                 Name     Sex   Age  SibSp  \\\n",
       "0                             Braund, Mr. Owen Harris    male  22.0      1   \n",
       "2                              Heikkinen, Miss. Laina  female  26.0      0   \n",
       "4                            Allen, Mr. William Henry    male  35.0      0   \n",
       "6                             McCarthy, Mr. Timothy J    male  54.0      0   \n",
       "8   Johnson, Mrs. Oscar W (Elisabeth Vilhelmina Berg)  female  27.0      0   \n",
       "9                 Nasser, Mrs. Nicholas (Adele Achem)  female  14.0      1   \n",
       "10                    Sandstrom, Miss. Marguerite Rut  female   4.0      1   \n",
       "11                           Bonnell, Miss. Elizabeth  female  58.0      0   \n",
       "12                     Saundercock, Mr. William Henry    male  20.0      0   \n",
       "13                        Andersson, Mr. Anders Johan    male  39.0      1   \n",
       "\n",
       "    Parch            Ticket     Fare Cabin Embarked  \n",
       "0       0         A/5 21171   7.2500   NaN        S  \n",
       "2       0  STON/O2. 3101282   7.9250   NaN        S  \n",
       "4       0            373450   8.0500   NaN        S  \n",
       "6       0             17463  51.8625   E46        S  \n",
       "8       2            347742  11.1333   NaN        S  \n",
       "9       0            237736  30.0708   NaN        C  \n",
       "10      1           PP 9549  16.7000    G6        S  \n",
       "11      0            113783  26.5500  C103        S  \n",
       "12      0         A/5. 2151   8.0500   NaN        S  \n",
       "13      5            347082  31.2750   NaN        S  "
      ]
     },
     "execution_count": 138,
     "metadata": {},
     "output_type": "execute_result"
    }
   ],
   "source": [
    "delete_indexes = [1, 3, 5, 7]\n",
    "\n",
    "df.drop(delete_indexes, axis=0).head(10)"
   ]
  },
  {
   "cell_type": "markdown",
   "id": "6b351366",
   "metadata": {
    "papermill": {
     "duration": 0.070698,
     "end_time": "2023-10-11T14:44:38.593421",
     "exception": false,
     "start_time": "2023-10-11T14:44:38.522723",
     "status": "completed"
    },
    "tags": []
   },
   "source": [
    "* **Değişkeni Indexe Çevirmek:**"
   ]
  },
  {
   "cell_type": "code",
   "execution_count": 139,
   "id": "8dd1ce36",
   "metadata": {
    "execution": {
     "iopub.execute_input": "2023-10-11T14:44:38.736053Z",
     "iopub.status.busy": "2023-10-11T14:44:38.735155Z",
     "iopub.status.idle": "2023-10-11T14:44:38.742680Z",
     "shell.execute_reply": "2023-10-11T14:44:38.741925Z"
    },
    "papermill": {
     "duration": 0.080671,
     "end_time": "2023-10-11T14:44:38.744599",
     "exception": false,
     "start_time": "2023-10-11T14:44:38.663928",
     "status": "completed"
    },
    "tags": []
   },
   "outputs": [
    {
     "data": {
      "text/plain": [
       "0    22.0\n",
       "1    38.0\n",
       "2    26.0\n",
       "3    35.0\n",
       "4    35.0\n",
       "Name: Age, dtype: float64"
      ]
     },
     "execution_count": 139,
     "metadata": {},
     "output_type": "execute_result"
    }
   ],
   "source": [
    "df[\"Age\"].head()"
   ]
  },
  {
   "cell_type": "code",
   "execution_count": 140,
   "id": "ff0dfbca",
   "metadata": {
    "execution": {
     "iopub.execute_input": "2023-10-11T14:44:38.891190Z",
     "iopub.status.busy": "2023-10-11T14:44:38.890437Z",
     "iopub.status.idle": "2023-10-11T14:44:38.895194Z",
     "shell.execute_reply": "2023-10-11T14:44:38.894537Z"
    },
    "papermill": {
     "duration": 0.081517,
     "end_time": "2023-10-11T14:44:38.897204",
     "exception": false,
     "start_time": "2023-10-11T14:44:38.815687",
     "status": "completed"
    },
    "tags": []
   },
   "outputs": [],
   "source": [
    "df.index = df[\"Age\"]"
   ]
  },
  {
   "cell_type": "code",
   "execution_count": 141,
   "id": "28c45583",
   "metadata": {
    "execution": {
     "iopub.execute_input": "2023-10-11T14:44:39.042242Z",
     "iopub.status.busy": "2023-10-11T14:44:39.041533Z",
     "iopub.status.idle": "2023-10-11T14:44:39.055772Z",
     "shell.execute_reply": "2023-10-11T14:44:39.054803Z"
    },
    "papermill": {
     "duration": 0.089908,
     "end_time": "2023-10-11T14:44:39.057658",
     "exception": false,
     "start_time": "2023-10-11T14:44:38.967750",
     "status": "completed"
    },
    "tags": []
   },
   "outputs": [
    {
     "data": {
      "text/html": [
       "<div>\n",
       "<style scoped>\n",
       "    .dataframe tbody tr th:only-of-type {\n",
       "        vertical-align: middle;\n",
       "    }\n",
       "\n",
       "    .dataframe tbody tr th {\n",
       "        vertical-align: top;\n",
       "    }\n",
       "\n",
       "    .dataframe thead th {\n",
       "        text-align: right;\n",
       "    }\n",
       "</style>\n",
       "<table border=\"1\" class=\"dataframe\">\n",
       "  <thead>\n",
       "    <tr style=\"text-align: right;\">\n",
       "      <th></th>\n",
       "      <th>PassengerId</th>\n",
       "      <th>Survived</th>\n",
       "      <th>Pclass</th>\n",
       "      <th>Name</th>\n",
       "      <th>Sex</th>\n",
       "      <th>SibSp</th>\n",
       "      <th>Parch</th>\n",
       "      <th>Ticket</th>\n",
       "      <th>Fare</th>\n",
       "      <th>Cabin</th>\n",
       "      <th>Embarked</th>\n",
       "    </tr>\n",
       "    <tr>\n",
       "      <th>Age</th>\n",
       "      <th></th>\n",
       "      <th></th>\n",
       "      <th></th>\n",
       "      <th></th>\n",
       "      <th></th>\n",
       "      <th></th>\n",
       "      <th></th>\n",
       "      <th></th>\n",
       "      <th></th>\n",
       "      <th></th>\n",
       "      <th></th>\n",
       "    </tr>\n",
       "  </thead>\n",
       "  <tbody>\n",
       "    <tr>\n",
       "      <th>22.0</th>\n",
       "      <td>1</td>\n",
       "      <td>0</td>\n",
       "      <td>3</td>\n",
       "      <td>Braund, Mr. Owen Harris</td>\n",
       "      <td>male</td>\n",
       "      <td>1</td>\n",
       "      <td>0</td>\n",
       "      <td>A/5 21171</td>\n",
       "      <td>7.2500</td>\n",
       "      <td>NaN</td>\n",
       "      <td>S</td>\n",
       "    </tr>\n",
       "    <tr>\n",
       "      <th>38.0</th>\n",
       "      <td>2</td>\n",
       "      <td>1</td>\n",
       "      <td>1</td>\n",
       "      <td>Cumings, Mrs. John Bradley (Florence Briggs Th...</td>\n",
       "      <td>female</td>\n",
       "      <td>1</td>\n",
       "      <td>0</td>\n",
       "      <td>PC 17599</td>\n",
       "      <td>71.2833</td>\n",
       "      <td>C85</td>\n",
       "      <td>C</td>\n",
       "    </tr>\n",
       "    <tr>\n",
       "      <th>26.0</th>\n",
       "      <td>3</td>\n",
       "      <td>1</td>\n",
       "      <td>3</td>\n",
       "      <td>Heikkinen, Miss. Laina</td>\n",
       "      <td>female</td>\n",
       "      <td>0</td>\n",
       "      <td>0</td>\n",
       "      <td>STON/O2. 3101282</td>\n",
       "      <td>7.9250</td>\n",
       "      <td>NaN</td>\n",
       "      <td>S</td>\n",
       "    </tr>\n",
       "    <tr>\n",
       "      <th>35.0</th>\n",
       "      <td>4</td>\n",
       "      <td>1</td>\n",
       "      <td>1</td>\n",
       "      <td>Futrelle, Mrs. Jacques Heath (Lily May Peel)</td>\n",
       "      <td>female</td>\n",
       "      <td>1</td>\n",
       "      <td>0</td>\n",
       "      <td>113803</td>\n",
       "      <td>53.1000</td>\n",
       "      <td>C123</td>\n",
       "      <td>S</td>\n",
       "    </tr>\n",
       "    <tr>\n",
       "      <th>35.0</th>\n",
       "      <td>5</td>\n",
       "      <td>0</td>\n",
       "      <td>3</td>\n",
       "      <td>Allen, Mr. William Henry</td>\n",
       "      <td>male</td>\n",
       "      <td>0</td>\n",
       "      <td>0</td>\n",
       "      <td>373450</td>\n",
       "      <td>8.0500</td>\n",
       "      <td>NaN</td>\n",
       "      <td>S</td>\n",
       "    </tr>\n",
       "  </tbody>\n",
       "</table>\n",
       "</div>"
      ],
      "text/plain": [
       "      PassengerId  Survived  Pclass  \\\n",
       "Age                                   \n",
       "22.0            1         0       3   \n",
       "38.0            2         1       1   \n",
       "26.0            3         1       3   \n",
       "35.0            4         1       1   \n",
       "35.0            5         0       3   \n",
       "\n",
       "                                                   Name     Sex  SibSp  Parch  \\\n",
       "Age                                                                             \n",
       "22.0                            Braund, Mr. Owen Harris    male      1      0   \n",
       "38.0  Cumings, Mrs. John Bradley (Florence Briggs Th...  female      1      0   \n",
       "26.0                             Heikkinen, Miss. Laina  female      0      0   \n",
       "35.0       Futrelle, Mrs. Jacques Heath (Lily May Peel)  female      1      0   \n",
       "35.0                           Allen, Mr. William Henry    male      0      0   \n",
       "\n",
       "                Ticket     Fare Cabin Embarked  \n",
       "Age                                             \n",
       "22.0         A/5 21171   7.2500   NaN        S  \n",
       "38.0          PC 17599  71.2833   C85        C  \n",
       "26.0  STON/O2. 3101282   7.9250   NaN        S  \n",
       "35.0            113803  53.1000  C123        S  \n",
       "35.0            373450   8.0500   NaN        S  "
      ]
     },
     "execution_count": 141,
     "metadata": {},
     "output_type": "execute_result"
    }
   ],
   "source": [
    "df.drop(\"Age\", axis=1).head()"
   ]
  },
  {
   "cell_type": "code",
   "execution_count": 142,
   "id": "37de59aa",
   "metadata": {
    "execution": {
     "iopub.execute_input": "2023-10-11T14:44:39.201411Z",
     "iopub.status.busy": "2023-10-11T14:44:39.201066Z",
     "iopub.status.idle": "2023-10-11T14:44:39.216782Z",
     "shell.execute_reply": "2023-10-11T14:44:39.215968Z"
    },
    "papermill": {
     "duration": 0.089102,
     "end_time": "2023-10-11T14:44:39.218421",
     "exception": false,
     "start_time": "2023-10-11T14:44:39.129319",
     "status": "completed"
    },
    "tags": []
   },
   "outputs": [
    {
     "data": {
      "text/html": [
       "<div>\n",
       "<style scoped>\n",
       "    .dataframe tbody tr th:only-of-type {\n",
       "        vertical-align: middle;\n",
       "    }\n",
       "\n",
       "    .dataframe tbody tr th {\n",
       "        vertical-align: top;\n",
       "    }\n",
       "\n",
       "    .dataframe thead th {\n",
       "        text-align: right;\n",
       "    }\n",
       "</style>\n",
       "<table border=\"1\" class=\"dataframe\">\n",
       "  <thead>\n",
       "    <tr style=\"text-align: right;\">\n",
       "      <th></th>\n",
       "      <th>PassengerId</th>\n",
       "      <th>Survived</th>\n",
       "      <th>Pclass</th>\n",
       "      <th>Name</th>\n",
       "      <th>Sex</th>\n",
       "      <th>SibSp</th>\n",
       "      <th>Parch</th>\n",
       "      <th>Ticket</th>\n",
       "      <th>Fare</th>\n",
       "      <th>Cabin</th>\n",
       "      <th>Embarked</th>\n",
       "    </tr>\n",
       "    <tr>\n",
       "      <th>Age</th>\n",
       "      <th></th>\n",
       "      <th></th>\n",
       "      <th></th>\n",
       "      <th></th>\n",
       "      <th></th>\n",
       "      <th></th>\n",
       "      <th></th>\n",
       "      <th></th>\n",
       "      <th></th>\n",
       "      <th></th>\n",
       "      <th></th>\n",
       "    </tr>\n",
       "  </thead>\n",
       "  <tbody>\n",
       "    <tr>\n",
       "      <th>22.0</th>\n",
       "      <td>1</td>\n",
       "      <td>0</td>\n",
       "      <td>3</td>\n",
       "      <td>Braund, Mr. Owen Harris</td>\n",
       "      <td>male</td>\n",
       "      <td>1</td>\n",
       "      <td>0</td>\n",
       "      <td>A/5 21171</td>\n",
       "      <td>7.2500</td>\n",
       "      <td>NaN</td>\n",
       "      <td>S</td>\n",
       "    </tr>\n",
       "    <tr>\n",
       "      <th>38.0</th>\n",
       "      <td>2</td>\n",
       "      <td>1</td>\n",
       "      <td>1</td>\n",
       "      <td>Cumings, Mrs. John Bradley (Florence Briggs Th...</td>\n",
       "      <td>female</td>\n",
       "      <td>1</td>\n",
       "      <td>0</td>\n",
       "      <td>PC 17599</td>\n",
       "      <td>71.2833</td>\n",
       "      <td>C85</td>\n",
       "      <td>C</td>\n",
       "    </tr>\n",
       "    <tr>\n",
       "      <th>26.0</th>\n",
       "      <td>3</td>\n",
       "      <td>1</td>\n",
       "      <td>3</td>\n",
       "      <td>Heikkinen, Miss. Laina</td>\n",
       "      <td>female</td>\n",
       "      <td>0</td>\n",
       "      <td>0</td>\n",
       "      <td>STON/O2. 3101282</td>\n",
       "      <td>7.9250</td>\n",
       "      <td>NaN</td>\n",
       "      <td>S</td>\n",
       "    </tr>\n",
       "    <tr>\n",
       "      <th>35.0</th>\n",
       "      <td>4</td>\n",
       "      <td>1</td>\n",
       "      <td>1</td>\n",
       "      <td>Futrelle, Mrs. Jacques Heath (Lily May Peel)</td>\n",
       "      <td>female</td>\n",
       "      <td>1</td>\n",
       "      <td>0</td>\n",
       "      <td>113803</td>\n",
       "      <td>53.1000</td>\n",
       "      <td>C123</td>\n",
       "      <td>S</td>\n",
       "    </tr>\n",
       "    <tr>\n",
       "      <th>35.0</th>\n",
       "      <td>5</td>\n",
       "      <td>0</td>\n",
       "      <td>3</td>\n",
       "      <td>Allen, Mr. William Henry</td>\n",
       "      <td>male</td>\n",
       "      <td>0</td>\n",
       "      <td>0</td>\n",
       "      <td>373450</td>\n",
       "      <td>8.0500</td>\n",
       "      <td>NaN</td>\n",
       "      <td>S</td>\n",
       "    </tr>\n",
       "  </tbody>\n",
       "</table>\n",
       "</div>"
      ],
      "text/plain": [
       "      PassengerId  Survived  Pclass  \\\n",
       "Age                                   \n",
       "22.0            1         0       3   \n",
       "38.0            2         1       1   \n",
       "26.0            3         1       3   \n",
       "35.0            4         1       1   \n",
       "35.0            5         0       3   \n",
       "\n",
       "                                                   Name     Sex  SibSp  Parch  \\\n",
       "Age                                                                             \n",
       "22.0                            Braund, Mr. Owen Harris    male      1      0   \n",
       "38.0  Cumings, Mrs. John Bradley (Florence Briggs Th...  female      1      0   \n",
       "26.0                             Heikkinen, Miss. Laina  female      0      0   \n",
       "35.0       Futrelle, Mrs. Jacques Heath (Lily May Peel)  female      1      0   \n",
       "35.0                           Allen, Mr. William Henry    male      0      0   \n",
       "\n",
       "                Ticket     Fare Cabin Embarked  \n",
       "Age                                             \n",
       "22.0         A/5 21171   7.2500   NaN        S  \n",
       "38.0          PC 17599  71.2833   C85        C  \n",
       "26.0  STON/O2. 3101282   7.9250   NaN        S  \n",
       "35.0            113803  53.1000  C123        S  \n",
       "35.0            373450   8.0500   NaN        S  "
      ]
     },
     "execution_count": 142,
     "metadata": {},
     "output_type": "execute_result"
    }
   ],
   "source": [
    "df.drop(\"Age\", axis=1, inplace=True)\n",
    "\n",
    "df.head()"
   ]
  },
  {
   "cell_type": "markdown",
   "id": "fc9c4614",
   "metadata": {
    "papermill": {
     "duration": 0.069874,
     "end_time": "2023-10-11T14:44:39.358915",
     "exception": false,
     "start_time": "2023-10-11T14:44:39.289041",
     "status": "completed"
    },
    "tags": []
   },
   "source": [
    "* **Indexi Değişkene Çevirmek:**"
   ]
  },
  {
   "cell_type": "code",
   "execution_count": 143,
   "id": "722cba0f",
   "metadata": {
    "execution": {
     "iopub.execute_input": "2023-10-11T14:44:39.501754Z",
     "iopub.status.busy": "2023-10-11T14:44:39.501073Z",
     "iopub.status.idle": "2023-10-11T14:44:39.506549Z",
     "shell.execute_reply": "2023-10-11T14:44:39.505818Z"
    },
    "papermill": {
     "duration": 0.07881,
     "end_time": "2023-10-11T14:44:39.508239",
     "exception": false,
     "start_time": "2023-10-11T14:44:39.429429",
     "status": "completed"
    },
    "tags": []
   },
   "outputs": [
    {
     "data": {
      "text/plain": [
       "Float64Index([22.0, 38.0, 26.0, 35.0, 35.0,  nan, 54.0,  2.0, 27.0, 14.0,\n",
       "              ...\n",
       "              33.0, 22.0, 28.0, 25.0, 39.0, 27.0, 19.0,  nan, 26.0, 32.0],\n",
       "             dtype='float64', name='Age', length=891)"
      ]
     },
     "execution_count": 143,
     "metadata": {},
     "output_type": "execute_result"
    }
   ],
   "source": [
    "df.index"
   ]
  },
  {
   "cell_type": "code",
   "execution_count": 144,
   "id": "495b0122",
   "metadata": {
    "execution": {
     "iopub.execute_input": "2023-10-11T14:44:39.651901Z",
     "iopub.status.busy": "2023-10-11T14:44:39.651182Z",
     "iopub.status.idle": "2023-10-11T14:44:39.655800Z",
     "shell.execute_reply": "2023-10-11T14:44:39.655057Z"
    },
    "papermill": {
     "duration": 0.078442,
     "end_time": "2023-10-11T14:44:39.657571",
     "exception": false,
     "start_time": "2023-10-11T14:44:39.579129",
     "status": "completed"
    },
    "tags": []
   },
   "outputs": [],
   "source": [
    "df[\"Age\"] = df.index"
   ]
  },
  {
   "cell_type": "code",
   "execution_count": 145,
   "id": "1f37b9a1",
   "metadata": {
    "execution": {
     "iopub.execute_input": "2023-10-11T14:44:39.801761Z",
     "iopub.status.busy": "2023-10-11T14:44:39.801102Z",
     "iopub.status.idle": "2023-10-11T14:44:39.815133Z",
     "shell.execute_reply": "2023-10-11T14:44:39.814135Z"
    },
    "papermill": {
     "duration": 0.088309,
     "end_time": "2023-10-11T14:44:39.817083",
     "exception": false,
     "start_time": "2023-10-11T14:44:39.728774",
     "status": "completed"
    },
    "tags": []
   },
   "outputs": [
    {
     "data": {
      "text/html": [
       "<div>\n",
       "<style scoped>\n",
       "    .dataframe tbody tr th:only-of-type {\n",
       "        vertical-align: middle;\n",
       "    }\n",
       "\n",
       "    .dataframe tbody tr th {\n",
       "        vertical-align: top;\n",
       "    }\n",
       "\n",
       "    .dataframe thead th {\n",
       "        text-align: right;\n",
       "    }\n",
       "</style>\n",
       "<table border=\"1\" class=\"dataframe\">\n",
       "  <thead>\n",
       "    <tr style=\"text-align: right;\">\n",
       "      <th></th>\n",
       "      <th>PassengerId</th>\n",
       "      <th>Survived</th>\n",
       "      <th>Pclass</th>\n",
       "      <th>Name</th>\n",
       "      <th>Sex</th>\n",
       "      <th>SibSp</th>\n",
       "      <th>Parch</th>\n",
       "      <th>Ticket</th>\n",
       "      <th>Fare</th>\n",
       "      <th>Cabin</th>\n",
       "      <th>Embarked</th>\n",
       "      <th>Age</th>\n",
       "    </tr>\n",
       "    <tr>\n",
       "      <th>Age</th>\n",
       "      <th></th>\n",
       "      <th></th>\n",
       "      <th></th>\n",
       "      <th></th>\n",
       "      <th></th>\n",
       "      <th></th>\n",
       "      <th></th>\n",
       "      <th></th>\n",
       "      <th></th>\n",
       "      <th></th>\n",
       "      <th></th>\n",
       "      <th></th>\n",
       "    </tr>\n",
       "  </thead>\n",
       "  <tbody>\n",
       "    <tr>\n",
       "      <th>22.0</th>\n",
       "      <td>1</td>\n",
       "      <td>0</td>\n",
       "      <td>3</td>\n",
       "      <td>Braund, Mr. Owen Harris</td>\n",
       "      <td>male</td>\n",
       "      <td>1</td>\n",
       "      <td>0</td>\n",
       "      <td>A/5 21171</td>\n",
       "      <td>7.2500</td>\n",
       "      <td>NaN</td>\n",
       "      <td>S</td>\n",
       "      <td>22.0</td>\n",
       "    </tr>\n",
       "    <tr>\n",
       "      <th>38.0</th>\n",
       "      <td>2</td>\n",
       "      <td>1</td>\n",
       "      <td>1</td>\n",
       "      <td>Cumings, Mrs. John Bradley (Florence Briggs Th...</td>\n",
       "      <td>female</td>\n",
       "      <td>1</td>\n",
       "      <td>0</td>\n",
       "      <td>PC 17599</td>\n",
       "      <td>71.2833</td>\n",
       "      <td>C85</td>\n",
       "      <td>C</td>\n",
       "      <td>38.0</td>\n",
       "    </tr>\n",
       "    <tr>\n",
       "      <th>26.0</th>\n",
       "      <td>3</td>\n",
       "      <td>1</td>\n",
       "      <td>3</td>\n",
       "      <td>Heikkinen, Miss. Laina</td>\n",
       "      <td>female</td>\n",
       "      <td>0</td>\n",
       "      <td>0</td>\n",
       "      <td>STON/O2. 3101282</td>\n",
       "      <td>7.9250</td>\n",
       "      <td>NaN</td>\n",
       "      <td>S</td>\n",
       "      <td>26.0</td>\n",
       "    </tr>\n",
       "    <tr>\n",
       "      <th>35.0</th>\n",
       "      <td>4</td>\n",
       "      <td>1</td>\n",
       "      <td>1</td>\n",
       "      <td>Futrelle, Mrs. Jacques Heath (Lily May Peel)</td>\n",
       "      <td>female</td>\n",
       "      <td>1</td>\n",
       "      <td>0</td>\n",
       "      <td>113803</td>\n",
       "      <td>53.1000</td>\n",
       "      <td>C123</td>\n",
       "      <td>S</td>\n",
       "      <td>35.0</td>\n",
       "    </tr>\n",
       "    <tr>\n",
       "      <th>35.0</th>\n",
       "      <td>5</td>\n",
       "      <td>0</td>\n",
       "      <td>3</td>\n",
       "      <td>Allen, Mr. William Henry</td>\n",
       "      <td>male</td>\n",
       "      <td>0</td>\n",
       "      <td>0</td>\n",
       "      <td>373450</td>\n",
       "      <td>8.0500</td>\n",
       "      <td>NaN</td>\n",
       "      <td>S</td>\n",
       "      <td>35.0</td>\n",
       "    </tr>\n",
       "  </tbody>\n",
       "</table>\n",
       "</div>"
      ],
      "text/plain": [
       "      PassengerId  Survived  Pclass  \\\n",
       "Age                                   \n",
       "22.0            1         0       3   \n",
       "38.0            2         1       1   \n",
       "26.0            3         1       3   \n",
       "35.0            4         1       1   \n",
       "35.0            5         0       3   \n",
       "\n",
       "                                                   Name     Sex  SibSp  Parch  \\\n",
       "Age                                                                             \n",
       "22.0                            Braund, Mr. Owen Harris    male      1      0   \n",
       "38.0  Cumings, Mrs. John Bradley (Florence Briggs Th...  female      1      0   \n",
       "26.0                             Heikkinen, Miss. Laina  female      0      0   \n",
       "35.0       Futrelle, Mrs. Jacques Heath (Lily May Peel)  female      1      0   \n",
       "35.0                           Allen, Mr. William Henry    male      0      0   \n",
       "\n",
       "                Ticket     Fare Cabin Embarked   Age  \n",
       "Age                                                   \n",
       "22.0         A/5 21171   7.2500   NaN        S  22.0  \n",
       "38.0          PC 17599  71.2833   C85        C  38.0  \n",
       "26.0  STON/O2. 3101282   7.9250   NaN        S  26.0  \n",
       "35.0            113803  53.1000  C123        S  35.0  \n",
       "35.0            373450   8.0500   NaN        S  35.0  "
      ]
     },
     "execution_count": 145,
     "metadata": {},
     "output_type": "execute_result"
    }
   ],
   "source": [
    "df.head()"
   ]
  },
  {
   "cell_type": "code",
   "execution_count": 146,
   "id": "f1e93926",
   "metadata": {
    "execution": {
     "iopub.execute_input": "2023-10-11T14:44:39.968869Z",
     "iopub.status.busy": "2023-10-11T14:44:39.968483Z",
     "iopub.status.idle": "2023-10-11T14:44:39.974830Z",
     "shell.execute_reply": "2023-10-11T14:44:39.973705Z"
    },
    "papermill": {
     "duration": 0.082885,
     "end_time": "2023-10-11T14:44:39.976780",
     "exception": false,
     "start_time": "2023-10-11T14:44:39.893895",
     "status": "completed"
    },
    "tags": []
   },
   "outputs": [],
   "source": [
    "df.drop(\"Age\", axis=1, inplace=True)"
   ]
  },
  {
   "cell_type": "code",
   "execution_count": 147,
   "id": "3c9bf76d",
   "metadata": {
    "execution": {
     "iopub.execute_input": "2023-10-11T14:44:40.122328Z",
     "iopub.status.busy": "2023-10-11T14:44:40.121961Z",
     "iopub.status.idle": "2023-10-11T14:44:40.136473Z",
     "shell.execute_reply": "2023-10-11T14:44:40.135774Z"
    },
    "papermill": {
     "duration": 0.089497,
     "end_time": "2023-10-11T14:44:40.138229",
     "exception": false,
     "start_time": "2023-10-11T14:44:40.048732",
     "status": "completed"
    },
    "tags": []
   },
   "outputs": [
    {
     "data": {
      "text/html": [
       "<div>\n",
       "<style scoped>\n",
       "    .dataframe tbody tr th:only-of-type {\n",
       "        vertical-align: middle;\n",
       "    }\n",
       "\n",
       "    .dataframe tbody tr th {\n",
       "        vertical-align: top;\n",
       "    }\n",
       "\n",
       "    .dataframe thead th {\n",
       "        text-align: right;\n",
       "    }\n",
       "</style>\n",
       "<table border=\"1\" class=\"dataframe\">\n",
       "  <thead>\n",
       "    <tr style=\"text-align: right;\">\n",
       "      <th></th>\n",
       "      <th>Age</th>\n",
       "      <th>PassengerId</th>\n",
       "      <th>Survived</th>\n",
       "      <th>Pclass</th>\n",
       "      <th>Name</th>\n",
       "      <th>Sex</th>\n",
       "      <th>SibSp</th>\n",
       "      <th>Parch</th>\n",
       "      <th>Ticket</th>\n",
       "      <th>Fare</th>\n",
       "      <th>Cabin</th>\n",
       "      <th>Embarked</th>\n",
       "    </tr>\n",
       "  </thead>\n",
       "  <tbody>\n",
       "    <tr>\n",
       "      <th>0</th>\n",
       "      <td>22.0</td>\n",
       "      <td>1</td>\n",
       "      <td>0</td>\n",
       "      <td>3</td>\n",
       "      <td>Braund, Mr. Owen Harris</td>\n",
       "      <td>male</td>\n",
       "      <td>1</td>\n",
       "      <td>0</td>\n",
       "      <td>A/5 21171</td>\n",
       "      <td>7.2500</td>\n",
       "      <td>NaN</td>\n",
       "      <td>S</td>\n",
       "    </tr>\n",
       "    <tr>\n",
       "      <th>1</th>\n",
       "      <td>38.0</td>\n",
       "      <td>2</td>\n",
       "      <td>1</td>\n",
       "      <td>1</td>\n",
       "      <td>Cumings, Mrs. John Bradley (Florence Briggs Th...</td>\n",
       "      <td>female</td>\n",
       "      <td>1</td>\n",
       "      <td>0</td>\n",
       "      <td>PC 17599</td>\n",
       "      <td>71.2833</td>\n",
       "      <td>C85</td>\n",
       "      <td>C</td>\n",
       "    </tr>\n",
       "    <tr>\n",
       "      <th>2</th>\n",
       "      <td>26.0</td>\n",
       "      <td>3</td>\n",
       "      <td>1</td>\n",
       "      <td>3</td>\n",
       "      <td>Heikkinen, Miss. Laina</td>\n",
       "      <td>female</td>\n",
       "      <td>0</td>\n",
       "      <td>0</td>\n",
       "      <td>STON/O2. 3101282</td>\n",
       "      <td>7.9250</td>\n",
       "      <td>NaN</td>\n",
       "      <td>S</td>\n",
       "    </tr>\n",
       "    <tr>\n",
       "      <th>3</th>\n",
       "      <td>35.0</td>\n",
       "      <td>4</td>\n",
       "      <td>1</td>\n",
       "      <td>1</td>\n",
       "      <td>Futrelle, Mrs. Jacques Heath (Lily May Peel)</td>\n",
       "      <td>female</td>\n",
       "      <td>1</td>\n",
       "      <td>0</td>\n",
       "      <td>113803</td>\n",
       "      <td>53.1000</td>\n",
       "      <td>C123</td>\n",
       "      <td>S</td>\n",
       "    </tr>\n",
       "    <tr>\n",
       "      <th>4</th>\n",
       "      <td>35.0</td>\n",
       "      <td>5</td>\n",
       "      <td>0</td>\n",
       "      <td>3</td>\n",
       "      <td>Allen, Mr. William Henry</td>\n",
       "      <td>male</td>\n",
       "      <td>0</td>\n",
       "      <td>0</td>\n",
       "      <td>373450</td>\n",
       "      <td>8.0500</td>\n",
       "      <td>NaN</td>\n",
       "      <td>S</td>\n",
       "    </tr>\n",
       "  </tbody>\n",
       "</table>\n",
       "</div>"
      ],
      "text/plain": [
       "    Age  PassengerId  Survived  Pclass  \\\n",
       "0  22.0            1         0       3   \n",
       "1  38.0            2         1       1   \n",
       "2  26.0            3         1       3   \n",
       "3  35.0            4         1       1   \n",
       "4  35.0            5         0       3   \n",
       "\n",
       "                                                Name     Sex  SibSp  Parch  \\\n",
       "0                            Braund, Mr. Owen Harris    male      1      0   \n",
       "1  Cumings, Mrs. John Bradley (Florence Briggs Th...  female      1      0   \n",
       "2                             Heikkinen, Miss. Laina  female      0      0   \n",
       "3       Futrelle, Mrs. Jacques Heath (Lily May Peel)  female      1      0   \n",
       "4                           Allen, Mr. William Henry    male      0      0   \n",
       "\n",
       "             Ticket     Fare Cabin Embarked  \n",
       "0         A/5 21171   7.2500   NaN        S  \n",
       "1          PC 17599  71.2833   C85        C  \n",
       "2  STON/O2. 3101282   7.9250   NaN        S  \n",
       "3            113803  53.1000  C123        S  \n",
       "4            373450   8.0500   NaN        S  "
      ]
     },
     "execution_count": 147,
     "metadata": {},
     "output_type": "execute_result"
    }
   ],
   "source": [
    "df.reset_index().head()"
   ]
  },
  {
   "cell_type": "code",
   "execution_count": 148,
   "id": "5b20808b",
   "metadata": {
    "execution": {
     "iopub.execute_input": "2023-10-11T14:44:40.344970Z",
     "iopub.status.busy": "2023-10-11T14:44:40.344222Z",
     "iopub.status.idle": "2023-10-11T14:44:40.349432Z",
     "shell.execute_reply": "2023-10-11T14:44:40.348796Z"
    },
    "papermill": {
     "duration": 0.081317,
     "end_time": "2023-10-11T14:44:40.351128",
     "exception": false,
     "start_time": "2023-10-11T14:44:40.269811",
     "status": "completed"
    },
    "tags": []
   },
   "outputs": [],
   "source": [
    "df = df.reset_index()"
   ]
  },
  {
   "cell_type": "markdown",
   "id": "62042c4a",
   "metadata": {
    "papermill": {
     "duration": 0.072814,
     "end_time": "2023-10-11T14:44:40.496876",
     "exception": false,
     "start_time": "2023-10-11T14:44:40.424062",
     "status": "completed"
    },
    "tags": []
   },
   "source": [
    "* **Değişkenler Üzerinde İşlemler:**"
   ]
  },
  {
   "cell_type": "code",
   "execution_count": 149,
   "id": "cb53e05b",
   "metadata": {
    "execution": {
     "iopub.execute_input": "2023-10-11T14:44:40.646687Z",
     "iopub.status.busy": "2023-10-11T14:44:40.646091Z",
     "iopub.status.idle": "2023-10-11T14:44:40.650840Z",
     "shell.execute_reply": "2023-10-11T14:44:40.650185Z"
    },
    "papermill": {
     "duration": 0.080897,
     "end_time": "2023-10-11T14:44:40.652584",
     "exception": false,
     "start_time": "2023-10-11T14:44:40.571687",
     "status": "completed"
    },
    "tags": []
   },
   "outputs": [
    {
     "data": {
      "text/plain": [
       "True"
      ]
     },
     "execution_count": 149,
     "metadata": {},
     "output_type": "execute_result"
    }
   ],
   "source": [
    "\"Age\" in df"
   ]
  },
  {
   "cell_type": "code",
   "execution_count": 150,
   "id": "7398b987",
   "metadata": {
    "execution": {
     "iopub.execute_input": "2023-10-11T14:44:40.799529Z",
     "iopub.status.busy": "2023-10-11T14:44:40.798931Z",
     "iopub.status.idle": "2023-10-11T14:44:40.805937Z",
     "shell.execute_reply": "2023-10-11T14:44:40.805078Z"
    },
    "papermill": {
     "duration": 0.081926,
     "end_time": "2023-10-11T14:44:40.807761",
     "exception": false,
     "start_time": "2023-10-11T14:44:40.725835",
     "status": "completed"
    },
    "tags": []
   },
   "outputs": [
    {
     "data": {
      "text/plain": [
       "0    22.0\n",
       "1    38.0\n",
       "2    26.0\n",
       "3    35.0\n",
       "4    35.0\n",
       "Name: Age, dtype: float64"
      ]
     },
     "execution_count": 150,
     "metadata": {},
     "output_type": "execute_result"
    }
   ],
   "source": [
    "df[\"Age\"].head()"
   ]
  },
  {
   "cell_type": "code",
   "execution_count": 151,
   "id": "f6b7cb63",
   "metadata": {
    "execution": {
     "iopub.execute_input": "2023-10-11T14:44:40.955865Z",
     "iopub.status.busy": "2023-10-11T14:44:40.955114Z",
     "iopub.status.idle": "2023-10-11T14:44:40.961627Z",
     "shell.execute_reply": "2023-10-11T14:44:40.960848Z"
    },
    "papermill": {
     "duration": 0.082378,
     "end_time": "2023-10-11T14:44:40.963350",
     "exception": false,
     "start_time": "2023-10-11T14:44:40.880972",
     "status": "completed"
    },
    "tags": []
   },
   "outputs": [
    {
     "data": {
      "text/plain": [
       "0    22.0\n",
       "1    38.0\n",
       "2    26.0\n",
       "3    35.0\n",
       "4    35.0\n",
       "Name: Age, dtype: float64"
      ]
     },
     "execution_count": 151,
     "metadata": {},
     "output_type": "execute_result"
    }
   ],
   "source": [
    "df.Age.head()"
   ]
  },
  {
   "cell_type": "code",
   "execution_count": 152,
   "id": "d2138be6",
   "metadata": {
    "execution": {
     "iopub.execute_input": "2023-10-11T14:44:41.110895Z",
     "iopub.status.busy": "2023-10-11T14:44:41.110519Z",
     "iopub.status.idle": "2023-10-11T14:44:41.116799Z",
     "shell.execute_reply": "2023-10-11T14:44:41.115800Z"
    },
    "papermill": {
     "duration": 0.08158,
     "end_time": "2023-10-11T14:44:41.118851",
     "exception": false,
     "start_time": "2023-10-11T14:44:41.037271",
     "status": "completed"
    },
    "tags": []
   },
   "outputs": [
    {
     "data": {
      "text/plain": [
       "pandas.core.series.Series"
      ]
     },
     "execution_count": 152,
     "metadata": {},
     "output_type": "execute_result"
    }
   ],
   "source": [
    "type(df[\"Age\"].head())"
   ]
  },
  {
   "cell_type": "code",
   "execution_count": 153,
   "id": "74c7ba7d",
   "metadata": {
    "execution": {
     "iopub.execute_input": "2023-10-11T14:44:41.266472Z",
     "iopub.status.busy": "2023-10-11T14:44:41.265823Z",
     "iopub.status.idle": "2023-10-11T14:44:41.274465Z",
     "shell.execute_reply": "2023-10-11T14:44:41.273827Z"
    },
    "papermill": {
     "duration": 0.083759,
     "end_time": "2023-10-11T14:44:41.276130",
     "exception": false,
     "start_time": "2023-10-11T14:44:41.192371",
     "status": "completed"
    },
    "tags": []
   },
   "outputs": [
    {
     "data": {
      "text/html": [
       "<div>\n",
       "<style scoped>\n",
       "    .dataframe tbody tr th:only-of-type {\n",
       "        vertical-align: middle;\n",
       "    }\n",
       "\n",
       "    .dataframe tbody tr th {\n",
       "        vertical-align: top;\n",
       "    }\n",
       "\n",
       "    .dataframe thead th {\n",
       "        text-align: right;\n",
       "    }\n",
       "</style>\n",
       "<table border=\"1\" class=\"dataframe\">\n",
       "  <thead>\n",
       "    <tr style=\"text-align: right;\">\n",
       "      <th></th>\n",
       "      <th>Age</th>\n",
       "    </tr>\n",
       "  </thead>\n",
       "  <tbody>\n",
       "    <tr>\n",
       "      <th>0</th>\n",
       "      <td>22.0</td>\n",
       "    </tr>\n",
       "    <tr>\n",
       "      <th>1</th>\n",
       "      <td>38.0</td>\n",
       "    </tr>\n",
       "    <tr>\n",
       "      <th>2</th>\n",
       "      <td>26.0</td>\n",
       "    </tr>\n",
       "    <tr>\n",
       "      <th>3</th>\n",
       "      <td>35.0</td>\n",
       "    </tr>\n",
       "    <tr>\n",
       "      <th>4</th>\n",
       "      <td>35.0</td>\n",
       "    </tr>\n",
       "  </tbody>\n",
       "</table>\n",
       "</div>"
      ],
      "text/plain": [
       "    Age\n",
       "0  22.0\n",
       "1  38.0\n",
       "2  26.0\n",
       "3  35.0\n",
       "4  35.0"
      ]
     },
     "execution_count": 153,
     "metadata": {},
     "output_type": "execute_result"
    }
   ],
   "source": [
    "df[[\"Age\"]].head()"
   ]
  },
  {
   "cell_type": "code",
   "execution_count": 154,
   "id": "39771a83",
   "metadata": {
    "execution": {
     "iopub.execute_input": "2023-10-11T14:44:41.421903Z",
     "iopub.status.busy": "2023-10-11T14:44:41.421306Z",
     "iopub.status.idle": "2023-10-11T14:44:41.427449Z",
     "shell.execute_reply": "2023-10-11T14:44:41.426805Z"
    },
    "papermill": {
     "duration": 0.080961,
     "end_time": "2023-10-11T14:44:41.429283",
     "exception": false,
     "start_time": "2023-10-11T14:44:41.348322",
     "status": "completed"
    },
    "tags": []
   },
   "outputs": [
    {
     "data": {
      "text/plain": [
       "pandas.core.frame.DataFrame"
      ]
     },
     "execution_count": 154,
     "metadata": {},
     "output_type": "execute_result"
    }
   ],
   "source": [
    "type(df[[\"Age\"]].head())"
   ]
  },
  {
   "cell_type": "code",
   "execution_count": 155,
   "id": "756ef098",
   "metadata": {
    "execution": {
     "iopub.execute_input": "2023-10-11T14:44:41.576338Z",
     "iopub.status.busy": "2023-10-11T14:44:41.575983Z",
     "iopub.status.idle": "2023-10-11T14:44:41.581863Z",
     "shell.execute_reply": "2023-10-11T14:44:41.580888Z"
    },
    "papermill": {
     "duration": 0.081623,
     "end_time": "2023-10-11T14:44:41.583610",
     "exception": false,
     "start_time": "2023-10-11T14:44:41.501987",
     "status": "completed"
    },
    "tags": []
   },
   "outputs": [],
   "source": [
    "df[\"Age2\"] = df[\"Age\"]**2"
   ]
  },
  {
   "cell_type": "code",
   "execution_count": 156,
   "id": "ba795b73",
   "metadata": {
    "execution": {
     "iopub.execute_input": "2023-10-11T14:44:41.737989Z",
     "iopub.status.busy": "2023-10-11T14:44:41.737584Z",
     "iopub.status.idle": "2023-10-11T14:44:41.743297Z",
     "shell.execute_reply": "2023-10-11T14:44:41.742115Z"
    },
    "papermill": {
     "duration": 0.087337,
     "end_time": "2023-10-11T14:44:41.745121",
     "exception": false,
     "start_time": "2023-10-11T14:44:41.657784",
     "status": "completed"
    },
    "tags": []
   },
   "outputs": [],
   "source": [
    "df[\"Age3\"] = df[\"Age\"] / df[\"Age2\"]"
   ]
  },
  {
   "cell_type": "code",
   "execution_count": 157,
   "id": "b806c3c4",
   "metadata": {
    "execution": {
     "iopub.execute_input": "2023-10-11T14:44:41.916595Z",
     "iopub.status.busy": "2023-10-11T14:44:41.915818Z",
     "iopub.status.idle": "2023-10-11T14:44:41.935952Z",
     "shell.execute_reply": "2023-10-11T14:44:41.934855Z"
    },
    "papermill": {
     "duration": 0.113242,
     "end_time": "2023-10-11T14:44:41.937953",
     "exception": false,
     "start_time": "2023-10-11T14:44:41.824711",
     "status": "completed"
    },
    "tags": []
   },
   "outputs": [
    {
     "data": {
      "text/html": [
       "<div>\n",
       "<style scoped>\n",
       "    .dataframe tbody tr th:only-of-type {\n",
       "        vertical-align: middle;\n",
       "    }\n",
       "\n",
       "    .dataframe tbody tr th {\n",
       "        vertical-align: top;\n",
       "    }\n",
       "\n",
       "    .dataframe thead th {\n",
       "        text-align: right;\n",
       "    }\n",
       "</style>\n",
       "<table border=\"1\" class=\"dataframe\">\n",
       "  <thead>\n",
       "    <tr style=\"text-align: right;\">\n",
       "      <th></th>\n",
       "      <th>Age</th>\n",
       "      <th>PassengerId</th>\n",
       "      <th>Survived</th>\n",
       "      <th>Pclass</th>\n",
       "      <th>Name</th>\n",
       "      <th>Sex</th>\n",
       "      <th>SibSp</th>\n",
       "      <th>Parch</th>\n",
       "      <th>Ticket</th>\n",
       "      <th>Fare</th>\n",
       "      <th>Cabin</th>\n",
       "      <th>Embarked</th>\n",
       "      <th>Age2</th>\n",
       "      <th>Age3</th>\n",
       "    </tr>\n",
       "  </thead>\n",
       "  <tbody>\n",
       "    <tr>\n",
       "      <th>0</th>\n",
       "      <td>22.0</td>\n",
       "      <td>1</td>\n",
       "      <td>0</td>\n",
       "      <td>3</td>\n",
       "      <td>Braund, Mr. Owen Harris</td>\n",
       "      <td>male</td>\n",
       "      <td>1</td>\n",
       "      <td>0</td>\n",
       "      <td>A/5 21171</td>\n",
       "      <td>7.2500</td>\n",
       "      <td>NaN</td>\n",
       "      <td>S</td>\n",
       "      <td>484.0</td>\n",
       "      <td>0.045455</td>\n",
       "    </tr>\n",
       "    <tr>\n",
       "      <th>1</th>\n",
       "      <td>38.0</td>\n",
       "      <td>2</td>\n",
       "      <td>1</td>\n",
       "      <td>1</td>\n",
       "      <td>Cumings, Mrs. John Bradley (Florence Briggs Th...</td>\n",
       "      <td>female</td>\n",
       "      <td>1</td>\n",
       "      <td>0</td>\n",
       "      <td>PC 17599</td>\n",
       "      <td>71.2833</td>\n",
       "      <td>C85</td>\n",
       "      <td>C</td>\n",
       "      <td>1444.0</td>\n",
       "      <td>0.026316</td>\n",
       "    </tr>\n",
       "    <tr>\n",
       "      <th>2</th>\n",
       "      <td>26.0</td>\n",
       "      <td>3</td>\n",
       "      <td>1</td>\n",
       "      <td>3</td>\n",
       "      <td>Heikkinen, Miss. Laina</td>\n",
       "      <td>female</td>\n",
       "      <td>0</td>\n",
       "      <td>0</td>\n",
       "      <td>STON/O2. 3101282</td>\n",
       "      <td>7.9250</td>\n",
       "      <td>NaN</td>\n",
       "      <td>S</td>\n",
       "      <td>676.0</td>\n",
       "      <td>0.038462</td>\n",
       "    </tr>\n",
       "    <tr>\n",
       "      <th>3</th>\n",
       "      <td>35.0</td>\n",
       "      <td>4</td>\n",
       "      <td>1</td>\n",
       "      <td>1</td>\n",
       "      <td>Futrelle, Mrs. Jacques Heath (Lily May Peel)</td>\n",
       "      <td>female</td>\n",
       "      <td>1</td>\n",
       "      <td>0</td>\n",
       "      <td>113803</td>\n",
       "      <td>53.1000</td>\n",
       "      <td>C123</td>\n",
       "      <td>S</td>\n",
       "      <td>1225.0</td>\n",
       "      <td>0.028571</td>\n",
       "    </tr>\n",
       "    <tr>\n",
       "      <th>4</th>\n",
       "      <td>35.0</td>\n",
       "      <td>5</td>\n",
       "      <td>0</td>\n",
       "      <td>3</td>\n",
       "      <td>Allen, Mr. William Henry</td>\n",
       "      <td>male</td>\n",
       "      <td>0</td>\n",
       "      <td>0</td>\n",
       "      <td>373450</td>\n",
       "      <td>8.0500</td>\n",
       "      <td>NaN</td>\n",
       "      <td>S</td>\n",
       "      <td>1225.0</td>\n",
       "      <td>0.028571</td>\n",
       "    </tr>\n",
       "  </tbody>\n",
       "</table>\n",
       "</div>"
      ],
      "text/plain": [
       "    Age  PassengerId  Survived  Pclass  \\\n",
       "0  22.0            1         0       3   \n",
       "1  38.0            2         1       1   \n",
       "2  26.0            3         1       3   \n",
       "3  35.0            4         1       1   \n",
       "4  35.0            5         0       3   \n",
       "\n",
       "                                                Name     Sex  SibSp  Parch  \\\n",
       "0                            Braund, Mr. Owen Harris    male      1      0   \n",
       "1  Cumings, Mrs. John Bradley (Florence Briggs Th...  female      1      0   \n",
       "2                             Heikkinen, Miss. Laina  female      0      0   \n",
       "3       Futrelle, Mrs. Jacques Heath (Lily May Peel)  female      1      0   \n",
       "4                           Allen, Mr. William Henry    male      0      0   \n",
       "\n",
       "             Ticket     Fare Cabin Embarked    Age2      Age3  \n",
       "0         A/5 21171   7.2500   NaN        S   484.0  0.045455  \n",
       "1          PC 17599  71.2833   C85        C  1444.0  0.026316  \n",
       "2  STON/O2. 3101282   7.9250   NaN        S   676.0  0.038462  \n",
       "3            113803  53.1000  C123        S  1225.0  0.028571  \n",
       "4            373450   8.0500   NaN        S  1225.0  0.028571  "
      ]
     },
     "execution_count": 157,
     "metadata": {},
     "output_type": "execute_result"
    }
   ],
   "source": [
    "df.head()"
   ]
  },
  {
   "cell_type": "code",
   "execution_count": 158,
   "id": "648ce36d",
   "metadata": {
    "execution": {
     "iopub.execute_input": "2023-10-11T14:44:42.090629Z",
     "iopub.status.busy": "2023-10-11T14:44:42.090299Z",
     "iopub.status.idle": "2023-10-11T14:44:42.095716Z",
     "shell.execute_reply": "2023-10-11T14:44:42.094613Z"
    },
    "papermill": {
     "duration": 0.083586,
     "end_time": "2023-10-11T14:44:42.097410",
     "exception": false,
     "start_time": "2023-10-11T14:44:42.013824",
     "status": "completed"
    },
    "tags": []
   },
   "outputs": [],
   "source": [
    "df = df.drop([\"Age3\",\"Age2\"], axis=1)"
   ]
  },
  {
   "cell_type": "code",
   "execution_count": 159,
   "id": "0aa54345",
   "metadata": {
    "execution": {
     "iopub.execute_input": "2023-10-11T14:44:42.247098Z",
     "iopub.status.busy": "2023-10-11T14:44:42.246178Z",
     "iopub.status.idle": "2023-10-11T14:44:42.259933Z",
     "shell.execute_reply": "2023-10-11T14:44:42.258912Z"
    },
    "papermill": {
     "duration": 0.089819,
     "end_time": "2023-10-11T14:44:42.261945",
     "exception": false,
     "start_time": "2023-10-11T14:44:42.172126",
     "status": "completed"
    },
    "tags": []
   },
   "outputs": [
    {
     "data": {
      "text/html": [
       "<div>\n",
       "<style scoped>\n",
       "    .dataframe tbody tr th:only-of-type {\n",
       "        vertical-align: middle;\n",
       "    }\n",
       "\n",
       "    .dataframe tbody tr th {\n",
       "        vertical-align: top;\n",
       "    }\n",
       "\n",
       "    .dataframe thead th {\n",
       "        text-align: right;\n",
       "    }\n",
       "</style>\n",
       "<table border=\"1\" class=\"dataframe\">\n",
       "  <thead>\n",
       "    <tr style=\"text-align: right;\">\n",
       "      <th></th>\n",
       "      <th>Age</th>\n",
       "      <th>PassengerId</th>\n",
       "      <th>Survived</th>\n",
       "      <th>Pclass</th>\n",
       "      <th>Name</th>\n",
       "      <th>Sex</th>\n",
       "      <th>SibSp</th>\n",
       "      <th>Parch</th>\n",
       "      <th>Ticket</th>\n",
       "      <th>Fare</th>\n",
       "      <th>Cabin</th>\n",
       "      <th>Embarked</th>\n",
       "    </tr>\n",
       "  </thead>\n",
       "  <tbody>\n",
       "    <tr>\n",
       "      <th>0</th>\n",
       "      <td>22.0</td>\n",
       "      <td>1</td>\n",
       "      <td>0</td>\n",
       "      <td>3</td>\n",
       "      <td>Braund, Mr. Owen Harris</td>\n",
       "      <td>male</td>\n",
       "      <td>1</td>\n",
       "      <td>0</td>\n",
       "      <td>A/5 21171</td>\n",
       "      <td>7.2500</td>\n",
       "      <td>NaN</td>\n",
       "      <td>S</td>\n",
       "    </tr>\n",
       "    <tr>\n",
       "      <th>1</th>\n",
       "      <td>38.0</td>\n",
       "      <td>2</td>\n",
       "      <td>1</td>\n",
       "      <td>1</td>\n",
       "      <td>Cumings, Mrs. John Bradley (Florence Briggs Th...</td>\n",
       "      <td>female</td>\n",
       "      <td>1</td>\n",
       "      <td>0</td>\n",
       "      <td>PC 17599</td>\n",
       "      <td>71.2833</td>\n",
       "      <td>C85</td>\n",
       "      <td>C</td>\n",
       "    </tr>\n",
       "    <tr>\n",
       "      <th>2</th>\n",
       "      <td>26.0</td>\n",
       "      <td>3</td>\n",
       "      <td>1</td>\n",
       "      <td>3</td>\n",
       "      <td>Heikkinen, Miss. Laina</td>\n",
       "      <td>female</td>\n",
       "      <td>0</td>\n",
       "      <td>0</td>\n",
       "      <td>STON/O2. 3101282</td>\n",
       "      <td>7.9250</td>\n",
       "      <td>NaN</td>\n",
       "      <td>S</td>\n",
       "    </tr>\n",
       "    <tr>\n",
       "      <th>3</th>\n",
       "      <td>35.0</td>\n",
       "      <td>4</td>\n",
       "      <td>1</td>\n",
       "      <td>1</td>\n",
       "      <td>Futrelle, Mrs. Jacques Heath (Lily May Peel)</td>\n",
       "      <td>female</td>\n",
       "      <td>1</td>\n",
       "      <td>0</td>\n",
       "      <td>113803</td>\n",
       "      <td>53.1000</td>\n",
       "      <td>C123</td>\n",
       "      <td>S</td>\n",
       "    </tr>\n",
       "    <tr>\n",
       "      <th>4</th>\n",
       "      <td>35.0</td>\n",
       "      <td>5</td>\n",
       "      <td>0</td>\n",
       "      <td>3</td>\n",
       "      <td>Allen, Mr. William Henry</td>\n",
       "      <td>male</td>\n",
       "      <td>0</td>\n",
       "      <td>0</td>\n",
       "      <td>373450</td>\n",
       "      <td>8.0500</td>\n",
       "      <td>NaN</td>\n",
       "      <td>S</td>\n",
       "    </tr>\n",
       "  </tbody>\n",
       "</table>\n",
       "</div>"
      ],
      "text/plain": [
       "    Age  PassengerId  Survived  Pclass  \\\n",
       "0  22.0            1         0       3   \n",
       "1  38.0            2         1       1   \n",
       "2  26.0            3         1       3   \n",
       "3  35.0            4         1       1   \n",
       "4  35.0            5         0       3   \n",
       "\n",
       "                                                Name     Sex  SibSp  Parch  \\\n",
       "0                            Braund, Mr. Owen Harris    male      1      0   \n",
       "1  Cumings, Mrs. John Bradley (Florence Briggs Th...  female      1      0   \n",
       "2                             Heikkinen, Miss. Laina  female      0      0   \n",
       "3       Futrelle, Mrs. Jacques Heath (Lily May Peel)  female      1      0   \n",
       "4                           Allen, Mr. William Henry    male      0      0   \n",
       "\n",
       "             Ticket     Fare Cabin Embarked  \n",
       "0         A/5 21171   7.2500   NaN        S  \n",
       "1          PC 17599  71.2833   C85        C  \n",
       "2  STON/O2. 3101282   7.9250   NaN        S  \n",
       "3            113803  53.1000  C123        S  \n",
       "4            373450   8.0500   NaN        S  "
      ]
     },
     "execution_count": 159,
     "metadata": {},
     "output_type": "execute_result"
    }
   ],
   "source": [
    "df.head()"
   ]
  },
  {
   "cell_type": "code",
   "execution_count": 160,
   "id": "6e674a23",
   "metadata": {
    "execution": {
     "iopub.execute_input": "2023-10-11T14:44:42.415710Z",
     "iopub.status.busy": "2023-10-11T14:44:42.415046Z",
     "iopub.status.idle": "2023-10-11T14:44:42.427959Z",
     "shell.execute_reply": "2023-10-11T14:44:42.427115Z"
    },
    "papermill": {
     "duration": 0.091185,
     "end_time": "2023-10-11T14:44:42.429965",
     "exception": false,
     "start_time": "2023-10-11T14:44:42.338780",
     "status": "completed"
    },
    "tags": []
   },
   "outputs": [
    {
     "data": {
      "text/html": [
       "<div>\n",
       "<style scoped>\n",
       "    .dataframe tbody tr th:only-of-type {\n",
       "        vertical-align: middle;\n",
       "    }\n",
       "\n",
       "    .dataframe tbody tr th {\n",
       "        vertical-align: top;\n",
       "    }\n",
       "\n",
       "    .dataframe thead th {\n",
       "        text-align: right;\n",
       "    }\n",
       "</style>\n",
       "<table border=\"1\" class=\"dataframe\">\n",
       "  <thead>\n",
       "    <tr style=\"text-align: right;\">\n",
       "      <th></th>\n",
       "      <th>PassengerId</th>\n",
       "      <th>Survived</th>\n",
       "      <th>Pclass</th>\n",
       "      <th>Name</th>\n",
       "      <th>Sex</th>\n",
       "      <th>SibSp</th>\n",
       "      <th>Parch</th>\n",
       "      <th>Ticket</th>\n",
       "      <th>Fare</th>\n",
       "      <th>Cabin</th>\n",
       "      <th>Embarked</th>\n",
       "    </tr>\n",
       "  </thead>\n",
       "  <tbody>\n",
       "    <tr>\n",
       "      <th>0</th>\n",
       "      <td>1</td>\n",
       "      <td>0</td>\n",
       "      <td>3</td>\n",
       "      <td>Braund, Mr. Owen Harris</td>\n",
       "      <td>male</td>\n",
       "      <td>1</td>\n",
       "      <td>0</td>\n",
       "      <td>A/5 21171</td>\n",
       "      <td>7.2500</td>\n",
       "      <td>NaN</td>\n",
       "      <td>S</td>\n",
       "    </tr>\n",
       "    <tr>\n",
       "      <th>1</th>\n",
       "      <td>2</td>\n",
       "      <td>1</td>\n",
       "      <td>1</td>\n",
       "      <td>Cumings, Mrs. John Bradley (Florence Briggs Th...</td>\n",
       "      <td>female</td>\n",
       "      <td>1</td>\n",
       "      <td>0</td>\n",
       "      <td>PC 17599</td>\n",
       "      <td>71.2833</td>\n",
       "      <td>C85</td>\n",
       "      <td>C</td>\n",
       "    </tr>\n",
       "    <tr>\n",
       "      <th>2</th>\n",
       "      <td>3</td>\n",
       "      <td>1</td>\n",
       "      <td>3</td>\n",
       "      <td>Heikkinen, Miss. Laina</td>\n",
       "      <td>female</td>\n",
       "      <td>0</td>\n",
       "      <td>0</td>\n",
       "      <td>STON/O2. 3101282</td>\n",
       "      <td>7.9250</td>\n",
       "      <td>NaN</td>\n",
       "      <td>S</td>\n",
       "    </tr>\n",
       "    <tr>\n",
       "      <th>3</th>\n",
       "      <td>4</td>\n",
       "      <td>1</td>\n",
       "      <td>1</td>\n",
       "      <td>Futrelle, Mrs. Jacques Heath (Lily May Peel)</td>\n",
       "      <td>female</td>\n",
       "      <td>1</td>\n",
       "      <td>0</td>\n",
       "      <td>113803</td>\n",
       "      <td>53.1000</td>\n",
       "      <td>C123</td>\n",
       "      <td>S</td>\n",
       "    </tr>\n",
       "    <tr>\n",
       "      <th>4</th>\n",
       "      <td>5</td>\n",
       "      <td>0</td>\n",
       "      <td>3</td>\n",
       "      <td>Allen, Mr. William Henry</td>\n",
       "      <td>male</td>\n",
       "      <td>0</td>\n",
       "      <td>0</td>\n",
       "      <td>373450</td>\n",
       "      <td>8.0500</td>\n",
       "      <td>NaN</td>\n",
       "      <td>S</td>\n",
       "    </tr>\n",
       "  </tbody>\n",
       "</table>\n",
       "</div>"
      ],
      "text/plain": [
       "   PassengerId  Survived  Pclass  \\\n",
       "0            1         0       3   \n",
       "1            2         1       1   \n",
       "2            3         1       3   \n",
       "3            4         1       1   \n",
       "4            5         0       3   \n",
       "\n",
       "                                                Name     Sex  SibSp  Parch  \\\n",
       "0                            Braund, Mr. Owen Harris    male      1      0   \n",
       "1  Cumings, Mrs. John Bradley (Florence Briggs Th...  female      1      0   \n",
       "2                             Heikkinen, Miss. Laina  female      0      0   \n",
       "3       Futrelle, Mrs. Jacques Heath (Lily May Peel)  female      1      0   \n",
       "4                           Allen, Mr. William Henry    male      0      0   \n",
       "\n",
       "             Ticket     Fare Cabin Embarked  \n",
       "0         A/5 21171   7.2500   NaN        S  \n",
       "1          PC 17599  71.2833   C85        C  \n",
       "2  STON/O2. 3101282   7.9250   NaN        S  \n",
       "3            113803  53.1000  C123        S  \n",
       "4            373450   8.0500   NaN        S  "
      ]
     },
     "execution_count": 160,
     "metadata": {},
     "output_type": "execute_result"
    }
   ],
   "source": [
    "df.loc[:, ~df.columns.str.contains(\"Age\")].head() # ~ ifadesi hariç ekler, contains yakalamak için kullanılır."
   ]
  },
  {
   "cell_type": "markdown",
   "id": "6dd7b6c1",
   "metadata": {
    "papermill": {
     "duration": 0.075921,
     "end_time": "2023-10-11T14:44:42.581439",
     "exception": false,
     "start_time": "2023-10-11T14:44:42.505518",
     "status": "completed"
    },
    "tags": []
   },
   "source": [
    "<div style=\"border-radius:10px; border:#DEB887 solid; padding: 15px; background-color: #FFFAF0; font-size:100%; text-align:left\">\n",
    "\n",
    "<h3 align=\"left\"><font color='#DEB887'>💡 Notlar: </font></h3>\n",
    "\n",
    "Bu Python kodu ile;\n",
    "\n",
    "1. `df` bir pandas DataFrame nesnesini temsil eder. Bu DataFrame üzerinde işlem yapmak istiyoruz.\n",
    "\n",
    "2. `.loc[]` yöntemi, veri çerçevesindeki belirli satır ve sütunlara erişmeyi sağlar. Burada sadece sütunları filtrelemek istediğimiz için satır endeksi kısmını \":\" kullanarak tüm satırları seçiyoruz.\n",
    "\n",
    "3. `~df.columns.str.contains(\"Age\")` ifadesi, DataFrame'deki sütun adlarını kontrol eder ve \"Age\" kelimesini içermeyen sütunları seçmeyi amaçlar.\n",
    "\n",
    "   - `df.columns` sütun adlarını içeren bir Index nesnesini temsil eder.\n",
    "   - `.str.contains(\"Age\")` yöntemi, sütun adlarını \"Age\" kelimesini içerip içermediğini kontrol etmek için kullanır ve sonuçta her bir sütun için bir boolean (True/False) değer döndürür.\n",
    "   - `~` işareti, bu boolean değerleri ters çevirir. Yani \"Age\" kelimesini içermeyen sütunlar `True` ve \"Age\" kelimesini içeren sütunlar `False` olarak işaretlenir.\n",
    "\n",
    "4. Sonuç olarak, `.loc[:, ~df.columns.str.contains(\"Age\")]` ifadesi, tüm satırları ve \"Age\" kelimesini içermeyen sütunları içeren bir DataFrame'i seçer.\n",
    "\n",
    "5. `.head()` yöntemi, bu filtrelenmiş DataFrame'in ilk birkaç satırını (varsayılan olarak ilk 5 satırı) döndürür."
   ]
  },
  {
   "cell_type": "markdown",
   "id": "a2ade0b0",
   "metadata": {
    "papermill": {
     "duration": 0.073184,
     "end_time": "2023-10-11T14:44:42.728986",
     "exception": false,
     "start_time": "2023-10-11T14:44:42.655802",
     "status": "completed"
    },
    "tags": []
   },
   "source": [
    "<a id = \"19\"></a><br>\n",
    "<h1 style=\"background-color:#77BFC7;font-family:courier;font-size:250%;font-style: oblique;font-weight: bold;font-variant: small-caps;text-align:center;border-radius: 15px 50px;\"> loc - iloc Farkı </h1>\n",
    "\n",
    "Öncelikle indeksler konusunu açıklayalım.\n",
    "\n",
    "Pandas'ta bir indeks, DataFrame içindeki satırları benzersiz bir şekilde tanımlayan bir öğedir. Verilere daha anlamlı ve verimli bir şekilde erişim ve başvurular sağlar. Bir DataFrame oluşturduğunuzda, varsayılan olarak pandas satırlara 0'dan başlayarak sıralı bir sayısal indeks atar. Ancak aynı zamanda, DataFrame'den bir veya birden fazla sütunu indeks olarak kullanmak üzere belirleyebilirsiniz.\n",
    "\n",
    "Pandas DataFrame indeksleri hakkında bazı önemli noktalar:\n",
    "\n",
    "* **Varsayılan İndeks:** İndeks belirtmeden bir DataFrame oluşturduğunuzda, pandas otomatik olarak 0'dan başlayarak her satıra sıralı bir sayısal indeks atar.\n",
    "\n",
    "* **İndeks Belirtme:** Mevcut bir sütunu DataFrame oluştururken indeks olarak belirtmek için index parametresini kullanabilirsiniz. Örneğin: **df = pd.DataFrame(veri, index=benim_indeks_sütunum)**.\n",
    "\n",
    "* **Sonradan İndeks Belirleme:** DataFrame içindeki indeksi sonradan da belirleyebilirsiniz. Bunun için DataFrame'in set_index() metodunu kullanabilirsiniz. Örneğin: **df.set_index('sütun_adı', inplace=True)**.\n",
    "\n",
    "* **Çok Düzeyli İndeks:** DataFrame, çok düzeyli bir indekse sahip olabilir. Birden fazla sütunu indeks olarak kullanarak hiyerarşik bir yapı oluşturabilirsiniz.\n",
    "\n",
    "* **İndeksleme ile Satırlara Erişim:** Bir indeks belirledikten sonra, DataFrame içindeki satırlara **loc[]** metodunu kullanarak indeksleme yapabilirsiniz. Örneğin: **df.loc['indeks_değeri']**.\n",
    "\n",
    "* **İndeksi Sıfırlama:** Mevcut indeksi kaldırmak ve varsayılan sayısal indekse geri dönmek isterseniz, **reset_index()** metodunu kullanabilirsiniz."
   ]
  },
  {
   "cell_type": "code",
   "execution_count": 161,
   "id": "df0b539c",
   "metadata": {
    "execution": {
     "iopub.execute_input": "2023-10-11T14:44:42.881684Z",
     "iopub.status.busy": "2023-10-11T14:44:42.881024Z",
     "iopub.status.idle": "2023-10-11T14:44:42.891067Z",
     "shell.execute_reply": "2023-10-11T14:44:42.890180Z"
    },
    "papermill": {
     "duration": 0.088507,
     "end_time": "2023-10-11T14:44:42.892817",
     "exception": false,
     "start_time": "2023-10-11T14:44:42.804310",
     "status": "completed"
    },
    "tags": []
   },
   "outputs": [
    {
     "data": {
      "text/html": [
       "<div>\n",
       "<style scoped>\n",
       "    .dataframe tbody tr th:only-of-type {\n",
       "        vertical-align: middle;\n",
       "    }\n",
       "\n",
       "    .dataframe tbody tr th {\n",
       "        vertical-align: top;\n",
       "    }\n",
       "\n",
       "    .dataframe thead th {\n",
       "        text-align: right;\n",
       "    }\n",
       "</style>\n",
       "<table border=\"1\" class=\"dataframe\">\n",
       "  <thead>\n",
       "    <tr style=\"text-align: right;\">\n",
       "      <th></th>\n",
       "      <th>İsim</th>\n",
       "      <th>Yaş</th>\n",
       "      <th>Şehir</th>\n",
       "    </tr>\n",
       "  </thead>\n",
       "  <tbody>\n",
       "    <tr>\n",
       "      <th>A</th>\n",
       "      <td>Alice</td>\n",
       "      <td>25</td>\n",
       "      <td>New York</td>\n",
       "    </tr>\n",
       "    <tr>\n",
       "      <th>B</th>\n",
       "      <td>Bob</td>\n",
       "      <td>30</td>\n",
       "      <td>San Francisco</td>\n",
       "    </tr>\n",
       "    <tr>\n",
       "      <th>C</th>\n",
       "      <td>Charlie</td>\n",
       "      <td>35</td>\n",
       "      <td>Los Angeles</td>\n",
       "    </tr>\n",
       "    <tr>\n",
       "      <th>D</th>\n",
       "      <td>David</td>\n",
       "      <td>28</td>\n",
       "      <td>Chicago</td>\n",
       "    </tr>\n",
       "  </tbody>\n",
       "</table>\n",
       "</div>"
      ],
      "text/plain": [
       "      İsim  Yaş          Şehir\n",
       "A    Alice   25       New York\n",
       "B      Bob   30  San Francisco\n",
       "C  Charlie   35    Los Angeles\n",
       "D    David   28        Chicago"
      ]
     },
     "execution_count": 161,
     "metadata": {},
     "output_type": "execute_result"
    }
   ],
   "source": [
    "import pandas as pd\n",
    "\n",
    "veri = {\n",
    "    'İsim': ['Alice', 'Bob', 'Charlie', 'David'],\n",
    "    'Yaş': [25, 30, 35, 28],\n",
    "    'Şehir': ['New York', 'San Francisco', 'Los Angeles', 'Chicago']\n",
    "}\n",
    "\n",
    "# 'İsim' sütununu indeks olarak belirleyerek DataFrame oluşturma:\n",
    "\n",
    "df = pd.DataFrame(veri, index=['A', 'B', 'C', 'D'])\n",
    "\n",
    "df"
   ]
  },
  {
   "cell_type": "markdown",
   "id": "adb1fd59",
   "metadata": {
    "papermill": {
     "duration": 0.076009,
     "end_time": "2023-10-11T14:44:43.044692",
     "exception": false,
     "start_time": "2023-10-11T14:44:42.968683",
     "status": "completed"
    },
    "tags": []
   },
   "source": [
    "<div style=\"border-radius:10px; border:#DEB887 solid; padding: 15px; background-color: #FFFAF0; font-size:100%; text-align:left\">\n",
    "\n",
    "<h3 align=\"left\"><font color='#DEB887'>💡 Notlar: </font></h3>\n",
    "\n",
    "**1. DataFrame loc[] metodu:**\n",
    "\n",
    "* loc[] metodu, satır ve sütunlara etiket adlarıyla erişim yapmak için kullanılır.\n",
    "* Bu metot, satır ve sütunların etiketlerine dayalı seçim yapmanıza olanak sağlar.\n",
    "* Etiket tabanlı işlemler yapmak için loc[] kullanılır.\n",
    "* loc[] metodu, etiketlerle çalışır ve sonucu daima etiketleri içeren bir DataFrame olarak döndürür.\n",
    "* İşlem sonucunda belirtilen etiketleri içeren satır ve sütunlardan oluşan bir alt küme elde edilir.\n",
    "\n",
    "**2. DataFrame iloc[] metodu:**\n",
    "\n",
    "* iloc[] metodu, satır ve sütunlara tamsayı tabanlı konumlarıyla erişim yapmak için kullanılır.\n",
    "* Bu metot, satır ve sütunların tamsayı indeksine dayalı seçim yapmanıza olanak sağlar.\n",
    "* Tamsayı tabanlı işlemler yapmak için iloc[] kullanılır.\n",
    "* iloc[] metodu, tamsayı indeksleriyle çalışır ve sonucu daima tamsayı indeksleri içeren bir DataFrame olarak döndürür.\n",
    "* İşlem sonucunda belirtilen tamsayı indeksleri içeren satır ve sütunlardan oluşan bir alt küme elde edilir."
   ]
  },
  {
   "cell_type": "code",
   "execution_count": 162,
   "id": "fd0b79a9",
   "metadata": {
    "execution": {
     "iopub.execute_input": "2023-10-11T14:44:43.204003Z",
     "iopub.status.busy": "2023-10-11T14:44:43.203587Z",
     "iopub.status.idle": "2023-10-11T14:44:43.212449Z",
     "shell.execute_reply": "2023-10-11T14:44:43.211432Z"
    },
    "papermill": {
     "duration": 0.085436,
     "end_time": "2023-10-11T14:44:43.214279",
     "exception": false,
     "start_time": "2023-10-11T14:44:43.128843",
     "status": "completed"
    },
    "tags": []
   },
   "outputs": [
    {
     "data": {
      "text/plain": [
       "0    25\n",
       "1    30\n",
       "2    22\n",
       "3    28\n",
       "Name: Yaş, dtype: int64"
      ]
     },
     "execution_count": 162,
     "metadata": {},
     "output_type": "execute_result"
    }
   ],
   "source": [
    "import pandas as pd\n",
    "\n",
    "# DataFrame oluşturalım\n",
    "data = {\n",
    "    'Ad': ['John', 'Jane', 'Mike', 'Emily'],\n",
    "    'Yaş': [25, 30, 22, 28],\n",
    "    'Şehir': ['New York', 'London', 'Paris', 'Sydney']\n",
    "}\n",
    "\n",
    "df = pd.DataFrame(data)\n",
    "\n",
    "# loc[] ile etiket tabanlı işlem yapalım:\n",
    "\n",
    "df.loc[0:3,\"Yaş\"]   # Etiket tabanlı olarak 'Jane' satırını alır"
   ]
  },
  {
   "cell_type": "code",
   "execution_count": 163,
   "id": "50c76e7e",
   "metadata": {
    "execution": {
     "iopub.execute_input": "2023-10-11T14:44:43.362964Z",
     "iopub.status.busy": "2023-10-11T14:44:43.362567Z",
     "iopub.status.idle": "2023-10-11T14:44:43.372033Z",
     "shell.execute_reply": "2023-10-11T14:44:43.371049Z"
    },
    "papermill": {
     "duration": 0.085447,
     "end_time": "2023-10-11T14:44:43.373836",
     "exception": false,
     "start_time": "2023-10-11T14:44:43.288389",
     "status": "completed"
    },
    "tags": []
   },
   "outputs": [
    {
     "data": {
      "text/html": [
       "<div>\n",
       "<style scoped>\n",
       "    .dataframe tbody tr th:only-of-type {\n",
       "        vertical-align: middle;\n",
       "    }\n",
       "\n",
       "    .dataframe tbody tr th {\n",
       "        vertical-align: top;\n",
       "    }\n",
       "\n",
       "    .dataframe thead th {\n",
       "        text-align: right;\n",
       "    }\n",
       "</style>\n",
       "<table border=\"1\" class=\"dataframe\">\n",
       "  <thead>\n",
       "    <tr style=\"text-align: right;\">\n",
       "      <th></th>\n",
       "      <th>Ad</th>\n",
       "      <th>Yaş</th>\n",
       "      <th>Şehir</th>\n",
       "    </tr>\n",
       "  </thead>\n",
       "  <tbody>\n",
       "    <tr>\n",
       "      <th>0</th>\n",
       "      <td>John</td>\n",
       "      <td>25</td>\n",
       "      <td>New York</td>\n",
       "    </tr>\n",
       "    <tr>\n",
       "      <th>1</th>\n",
       "      <td>Jane</td>\n",
       "      <td>30</td>\n",
       "      <td>London</td>\n",
       "    </tr>\n",
       "    <tr>\n",
       "      <th>2</th>\n",
       "      <td>Mike</td>\n",
       "      <td>22</td>\n",
       "      <td>Paris</td>\n",
       "    </tr>\n",
       "  </tbody>\n",
       "</table>\n",
       "</div>"
      ],
      "text/plain": [
       "     Ad  Yaş     Şehir\n",
       "0  John   25  New York\n",
       "1  Jane   30    London\n",
       "2  Mike   22     Paris"
      ]
     },
     "execution_count": 163,
     "metadata": {},
     "output_type": "execute_result"
    }
   ],
   "source": [
    "# iloc[] ile tamsayı tabanlı işlem yapalım:\n",
    "\n",
    "df.iloc[0:3]   # Tamsayı tabanlı olarak 1. indeksteki satırı alır"
   ]
  },
  {
   "cell_type": "code",
   "execution_count": 164,
   "id": "3bfcf5c4",
   "metadata": {
    "execution": {
     "iopub.execute_input": "2023-10-11T14:44:43.523830Z",
     "iopub.status.busy": "2023-10-11T14:44:43.523136Z",
     "iopub.status.idle": "2023-10-11T14:44:43.533812Z",
     "shell.execute_reply": "2023-10-11T14:44:43.533085Z"
    },
    "papermill": {
     "duration": 0.088099,
     "end_time": "2023-10-11T14:44:43.535683",
     "exception": false,
     "start_time": "2023-10-11T14:44:43.447584",
     "status": "completed"
    },
    "tags": []
   },
   "outputs": [],
   "source": [
    "import pandas as pd\n",
    "import seaborn as sns\n",
    "\n",
    "df = pd.read_csv('/kaggle/input/titanic/train.csv')"
   ]
  },
  {
   "cell_type": "code",
   "execution_count": 165,
   "id": "052d33f1",
   "metadata": {
    "execution": {
     "iopub.execute_input": "2023-10-11T14:44:43.685430Z",
     "iopub.status.busy": "2023-10-11T14:44:43.684791Z",
     "iopub.status.idle": "2023-10-11T14:44:43.696860Z",
     "shell.execute_reply": "2023-10-11T14:44:43.695867Z"
    },
    "papermill": {
     "duration": 0.088684,
     "end_time": "2023-10-11T14:44:43.698662",
     "exception": false,
     "start_time": "2023-10-11T14:44:43.609978",
     "status": "completed"
    },
    "tags": []
   },
   "outputs": [
    {
     "data": {
      "text/html": [
       "<div>\n",
       "<style scoped>\n",
       "    .dataframe tbody tr th:only-of-type {\n",
       "        vertical-align: middle;\n",
       "    }\n",
       "\n",
       "    .dataframe tbody tr th {\n",
       "        vertical-align: top;\n",
       "    }\n",
       "\n",
       "    .dataframe thead th {\n",
       "        text-align: right;\n",
       "    }\n",
       "</style>\n",
       "<table border=\"1\" class=\"dataframe\">\n",
       "  <thead>\n",
       "    <tr style=\"text-align: right;\">\n",
       "      <th></th>\n",
       "      <th>PassengerId</th>\n",
       "      <th>Survived</th>\n",
       "      <th>Pclass</th>\n",
       "      <th>Name</th>\n",
       "      <th>Sex</th>\n",
       "      <th>Age</th>\n",
       "      <th>SibSp</th>\n",
       "      <th>Parch</th>\n",
       "      <th>Ticket</th>\n",
       "      <th>Fare</th>\n",
       "      <th>Cabin</th>\n",
       "      <th>Embarked</th>\n",
       "    </tr>\n",
       "  </thead>\n",
       "  <tbody>\n",
       "    <tr>\n",
       "      <th>0</th>\n",
       "      <td>1</td>\n",
       "      <td>0</td>\n",
       "      <td>3</td>\n",
       "      <td>Braund, Mr. Owen Harris</td>\n",
       "      <td>male</td>\n",
       "      <td>22.0</td>\n",
       "      <td>1</td>\n",
       "      <td>0</td>\n",
       "      <td>A/5 21171</td>\n",
       "      <td>7.2500</td>\n",
       "      <td>NaN</td>\n",
       "      <td>S</td>\n",
       "    </tr>\n",
       "    <tr>\n",
       "      <th>1</th>\n",
       "      <td>2</td>\n",
       "      <td>1</td>\n",
       "      <td>1</td>\n",
       "      <td>Cumings, Mrs. John Bradley (Florence Briggs Th...</td>\n",
       "      <td>female</td>\n",
       "      <td>38.0</td>\n",
       "      <td>1</td>\n",
       "      <td>0</td>\n",
       "      <td>PC 17599</td>\n",
       "      <td>71.2833</td>\n",
       "      <td>C85</td>\n",
       "      <td>C</td>\n",
       "    </tr>\n",
       "    <tr>\n",
       "      <th>2</th>\n",
       "      <td>3</td>\n",
       "      <td>1</td>\n",
       "      <td>3</td>\n",
       "      <td>Heikkinen, Miss. Laina</td>\n",
       "      <td>female</td>\n",
       "      <td>26.0</td>\n",
       "      <td>0</td>\n",
       "      <td>0</td>\n",
       "      <td>STON/O2. 3101282</td>\n",
       "      <td>7.9250</td>\n",
       "      <td>NaN</td>\n",
       "      <td>S</td>\n",
       "    </tr>\n",
       "  </tbody>\n",
       "</table>\n",
       "</div>"
      ],
      "text/plain": [
       "   PassengerId  Survived  Pclass  \\\n",
       "0            1         0       3   \n",
       "1            2         1       1   \n",
       "2            3         1       3   \n",
       "\n",
       "                                                Name     Sex   Age  SibSp  \\\n",
       "0                            Braund, Mr. Owen Harris    male  22.0      1   \n",
       "1  Cumings, Mrs. John Bradley (Florence Briggs Th...  female  38.0      1   \n",
       "2                             Heikkinen, Miss. Laina  female  26.0      0   \n",
       "\n",
       "   Parch            Ticket     Fare Cabin Embarked  \n",
       "0      0         A/5 21171   7.2500   NaN        S  \n",
       "1      0          PC 17599  71.2833   C85        C  \n",
       "2      0  STON/O2. 3101282   7.9250   NaN        S  "
      ]
     },
     "execution_count": 165,
     "metadata": {},
     "output_type": "execute_result"
    }
   ],
   "source": [
    "# iloc: integer tabanlı seçim;\n",
    "\n",
    "df.iloc[0:3]"
   ]
  },
  {
   "cell_type": "code",
   "execution_count": 166,
   "id": "0de55497",
   "metadata": {
    "execution": {
     "iopub.execute_input": "2023-10-11T14:44:43.851041Z",
     "iopub.status.busy": "2023-10-11T14:44:43.850235Z",
     "iopub.status.idle": "2023-10-11T14:44:43.857876Z",
     "shell.execute_reply": "2023-10-11T14:44:43.856856Z"
    },
    "papermill": {
     "duration": 0.085742,
     "end_time": "2023-10-11T14:44:43.859982",
     "exception": false,
     "start_time": "2023-10-11T14:44:43.774240",
     "status": "completed"
    },
    "tags": []
   },
   "outputs": [
    {
     "data": {
      "text/plain": [
       "1"
      ]
     },
     "execution_count": 166,
     "metadata": {},
     "output_type": "execute_result"
    }
   ],
   "source": [
    "df.iloc[0, 0]"
   ]
  },
  {
   "cell_type": "code",
   "execution_count": 167,
   "id": "253eaee1",
   "metadata": {
    "execution": {
     "iopub.execute_input": "2023-10-11T14:44:44.012392Z",
     "iopub.status.busy": "2023-10-11T14:44:44.011277Z",
     "iopub.status.idle": "2023-10-11T14:44:44.024072Z",
     "shell.execute_reply": "2023-10-11T14:44:44.023301Z"
    },
    "papermill": {
     "duration": 0.090131,
     "end_time": "2023-10-11T14:44:44.025905",
     "exception": false,
     "start_time": "2023-10-11T14:44:43.935774",
     "status": "completed"
    },
    "tags": []
   },
   "outputs": [
    {
     "data": {
      "text/html": [
       "<div>\n",
       "<style scoped>\n",
       "    .dataframe tbody tr th:only-of-type {\n",
       "        vertical-align: middle;\n",
       "    }\n",
       "\n",
       "    .dataframe tbody tr th {\n",
       "        vertical-align: top;\n",
       "    }\n",
       "\n",
       "    .dataframe thead th {\n",
       "        text-align: right;\n",
       "    }\n",
       "</style>\n",
       "<table border=\"1\" class=\"dataframe\">\n",
       "  <thead>\n",
       "    <tr style=\"text-align: right;\">\n",
       "      <th></th>\n",
       "      <th>PassengerId</th>\n",
       "      <th>Survived</th>\n",
       "      <th>Pclass</th>\n",
       "      <th>Name</th>\n",
       "      <th>Sex</th>\n",
       "      <th>Age</th>\n",
       "      <th>SibSp</th>\n",
       "      <th>Parch</th>\n",
       "      <th>Ticket</th>\n",
       "      <th>Fare</th>\n",
       "      <th>Cabin</th>\n",
       "      <th>Embarked</th>\n",
       "    </tr>\n",
       "  </thead>\n",
       "  <tbody>\n",
       "    <tr>\n",
       "      <th>0</th>\n",
       "      <td>1</td>\n",
       "      <td>0</td>\n",
       "      <td>3</td>\n",
       "      <td>Braund, Mr. Owen Harris</td>\n",
       "      <td>male</td>\n",
       "      <td>22.0</td>\n",
       "      <td>1</td>\n",
       "      <td>0</td>\n",
       "      <td>A/5 21171</td>\n",
       "      <td>7.2500</td>\n",
       "      <td>NaN</td>\n",
       "      <td>S</td>\n",
       "    </tr>\n",
       "    <tr>\n",
       "      <th>1</th>\n",
       "      <td>2</td>\n",
       "      <td>1</td>\n",
       "      <td>1</td>\n",
       "      <td>Cumings, Mrs. John Bradley (Florence Briggs Th...</td>\n",
       "      <td>female</td>\n",
       "      <td>38.0</td>\n",
       "      <td>1</td>\n",
       "      <td>0</td>\n",
       "      <td>PC 17599</td>\n",
       "      <td>71.2833</td>\n",
       "      <td>C85</td>\n",
       "      <td>C</td>\n",
       "    </tr>\n",
       "    <tr>\n",
       "      <th>2</th>\n",
       "      <td>3</td>\n",
       "      <td>1</td>\n",
       "      <td>3</td>\n",
       "      <td>Heikkinen, Miss. Laina</td>\n",
       "      <td>female</td>\n",
       "      <td>26.0</td>\n",
       "      <td>0</td>\n",
       "      <td>0</td>\n",
       "      <td>STON/O2. 3101282</td>\n",
       "      <td>7.9250</td>\n",
       "      <td>NaN</td>\n",
       "      <td>S</td>\n",
       "    </tr>\n",
       "    <tr>\n",
       "      <th>3</th>\n",
       "      <td>4</td>\n",
       "      <td>1</td>\n",
       "      <td>1</td>\n",
       "      <td>Futrelle, Mrs. Jacques Heath (Lily May Peel)</td>\n",
       "      <td>female</td>\n",
       "      <td>35.0</td>\n",
       "      <td>1</td>\n",
       "      <td>0</td>\n",
       "      <td>113803</td>\n",
       "      <td>53.1000</td>\n",
       "      <td>C123</td>\n",
       "      <td>S</td>\n",
       "    </tr>\n",
       "  </tbody>\n",
       "</table>\n",
       "</div>"
      ],
      "text/plain": [
       "   PassengerId  Survived  Pclass  \\\n",
       "0            1         0       3   \n",
       "1            2         1       1   \n",
       "2            3         1       3   \n",
       "3            4         1       1   \n",
       "\n",
       "                                                Name     Sex   Age  SibSp  \\\n",
       "0                            Braund, Mr. Owen Harris    male  22.0      1   \n",
       "1  Cumings, Mrs. John Bradley (Florence Briggs Th...  female  38.0      1   \n",
       "2                             Heikkinen, Miss. Laina  female  26.0      0   \n",
       "3       Futrelle, Mrs. Jacques Heath (Lily May Peel)  female  35.0      1   \n",
       "\n",
       "   Parch            Ticket     Fare Cabin Embarked  \n",
       "0      0         A/5 21171   7.2500   NaN        S  \n",
       "1      0          PC 17599  71.2833   C85        C  \n",
       "2      0  STON/O2. 3101282   7.9250   NaN        S  \n",
       "3      0            113803  53.1000  C123        S  "
      ]
     },
     "execution_count": 167,
     "metadata": {},
     "output_type": "execute_result"
    }
   ],
   "source": [
    "# loc: etiket tabanlı seçim;\n",
    "\n",
    "df.loc[0:3]"
   ]
  },
  {
   "cell_type": "code",
   "execution_count": 168,
   "id": "38b91ad6",
   "metadata": {
    "execution": {
     "iopub.execute_input": "2023-10-11T14:44:44.178221Z",
     "iopub.status.busy": "2023-10-11T14:44:44.177850Z",
     "iopub.status.idle": "2023-10-11T14:44:44.187008Z",
     "shell.execute_reply": "2023-10-11T14:44:44.185968Z"
    },
    "papermill": {
     "duration": 0.088484,
     "end_time": "2023-10-11T14:44:44.188749",
     "exception": false,
     "start_time": "2023-10-11T14:44:44.100265",
     "status": "completed"
    },
    "tags": []
   },
   "outputs": [
    {
     "data": {
      "text/html": [
       "<div>\n",
       "<style scoped>\n",
       "    .dataframe tbody tr th:only-of-type {\n",
       "        vertical-align: middle;\n",
       "    }\n",
       "\n",
       "    .dataframe tbody tr th {\n",
       "        vertical-align: top;\n",
       "    }\n",
       "\n",
       "    .dataframe thead th {\n",
       "        text-align: right;\n",
       "    }\n",
       "</style>\n",
       "<table border=\"1\" class=\"dataframe\">\n",
       "  <thead>\n",
       "    <tr style=\"text-align: right;\">\n",
       "      <th></th>\n",
       "      <th>PassengerId</th>\n",
       "      <th>Survived</th>\n",
       "      <th>Pclass</th>\n",
       "    </tr>\n",
       "  </thead>\n",
       "  <tbody>\n",
       "    <tr>\n",
       "      <th>0</th>\n",
       "      <td>1</td>\n",
       "      <td>0</td>\n",
       "      <td>3</td>\n",
       "    </tr>\n",
       "    <tr>\n",
       "      <th>1</th>\n",
       "      <td>2</td>\n",
       "      <td>1</td>\n",
       "      <td>1</td>\n",
       "    </tr>\n",
       "    <tr>\n",
       "      <th>2</th>\n",
       "      <td>3</td>\n",
       "      <td>1</td>\n",
       "      <td>3</td>\n",
       "    </tr>\n",
       "  </tbody>\n",
       "</table>\n",
       "</div>"
      ],
      "text/plain": [
       "   PassengerId  Survived  Pclass\n",
       "0            1         0       3\n",
       "1            2         1       1\n",
       "2            3         1       3"
      ]
     },
     "execution_count": 168,
     "metadata": {},
     "output_type": "execute_result"
    }
   ],
   "source": [
    "df.iloc[0:3, 0:3]"
   ]
  },
  {
   "cell_type": "code",
   "execution_count": 169,
   "id": "ab562c4e",
   "metadata": {
    "execution": {
     "iopub.execute_input": "2023-10-11T14:44:44.404373Z",
     "iopub.status.busy": "2023-10-11T14:44:44.403677Z",
     "iopub.status.idle": "2023-10-11T14:44:44.410602Z",
     "shell.execute_reply": "2023-10-11T14:44:44.409668Z"
    },
    "papermill": {
     "duration": 0.085887,
     "end_time": "2023-10-11T14:44:44.412510",
     "exception": false,
     "start_time": "2023-10-11T14:44:44.326623",
     "status": "completed"
    },
    "tags": []
   },
   "outputs": [
    {
     "data": {
      "text/plain": [
       "0    22.0\n",
       "1    38.0\n",
       "2    26.0\n",
       "3    35.0\n",
       "Name: Age, dtype: float64"
      ]
     },
     "execution_count": 169,
     "metadata": {},
     "output_type": "execute_result"
    }
   ],
   "source": [
    "df.loc[0:3, \"Age\"] # satır veya indekslerde değerlerin bizzat kendisine göre seçmek istersek"
   ]
  },
  {
   "cell_type": "markdown",
   "id": "11a1dbbc",
   "metadata": {
    "papermill": {
     "duration": 0.075496,
     "end_time": "2023-10-11T14:44:44.567257",
     "exception": false,
     "start_time": "2023-10-11T14:44:44.491761",
     "status": "completed"
    },
    "tags": []
   },
   "source": [
    "<a id = \"20\"></a><br>\n",
    "<h1 style=\"background-color:#77BFC7;font-family:courier;font-size:250%;font-style: oblique;font-weight: bold;font-variant: small-caps;text-align:center;border-radius: 15px 50px;\"> Koşullu Eleman İşlemleri </h1>\n",
    "\n",
    "Pandas DataFrame'de koşullu eleman işlemleri, belirli koşullara göre veri seçmek, filtrelemek veya değiştirmek için kullanılan işlemlerdir. DataFrame içindeki verileri daha iyi anlamak ve manipüle etmek için koşullu eleman işlemleri oldukça önemlidir. İşte DataFrame'de yaygın olarak kullanılan koşullu eleman işlemleri:\n",
    "\n",
    "1. **Seçme (Selection):**\n",
    "\n",
    "DataFrame'de belirli bir koşulu sağlayan elemanları seçmek için kullanılır.\n",
    "Bu, DataFrame'i filtrelemek veya belirli verileri analiz etmek için kullanışlıdır.\n",
    "\n",
    "2. **Filtreleme (Filtering):**\n",
    "\n",
    "DataFrame içindeki belirli bir koşulu sağlayan elemanları filtrelemek için kullanılır.\n",
    "Filtreleme işlemi sonucunda, DataFrame içinde sadece belirli koşulu sağlayan veriler kalır.\n",
    "\n",
    "3. **Yeniden Düzenleme (Reassignment):**\n",
    "\n",
    "DataFrame içinde belirli bir koşulu sağlayan elemanları belirli bir değerle değiştirmek için kullanılır.\n",
    "Bu, DataFrame'deki verileri güncellemek veya düzenlemek için kullanışlıdır.\n",
    "\n",
    "4. **NaN Değerlerini İşleme (Handling NaN Values):**\n",
    "\n",
    "DataFrame'de NaN (Not a Number) değerlerini belirli bir değerle değiştirmek veya kaldırmak için kullanılır.\n",
    "Bu, eksik veya geçersiz verilerle başa çıkmak için kullanışlıdır."
   ]
  },
  {
   "cell_type": "markdown",
   "id": "b099048a",
   "metadata": {
    "papermill": {
     "duration": 0.074513,
     "end_time": "2023-10-11T14:44:44.716439",
     "exception": false,
     "start_time": "2023-10-11T14:44:44.641926",
     "status": "completed"
    },
    "tags": []
   },
   "source": [
    "---------------------------------------"
   ]
  },
  {
   "cell_type": "code",
   "execution_count": 170,
   "id": "fd346807",
   "metadata": {
    "execution": {
     "iopub.execute_input": "2023-10-11T14:44:44.870533Z",
     "iopub.status.busy": "2023-10-11T14:44:44.869876Z",
     "iopub.status.idle": "2023-10-11T14:44:44.880835Z",
     "shell.execute_reply": "2023-10-11T14:44:44.879770Z"
    },
    "papermill": {
     "duration": 0.089727,
     "end_time": "2023-10-11T14:44:44.882922",
     "exception": false,
     "start_time": "2023-10-11T14:44:44.793195",
     "status": "completed"
    },
    "tags": []
   },
   "outputs": [
    {
     "data": {
      "text/html": [
       "<div>\n",
       "<style scoped>\n",
       "    .dataframe tbody tr th:only-of-type {\n",
       "        vertical-align: middle;\n",
       "    }\n",
       "\n",
       "    .dataframe tbody tr th {\n",
       "        vertical-align: top;\n",
       "    }\n",
       "\n",
       "    .dataframe thead th {\n",
       "        text-align: right;\n",
       "    }\n",
       "</style>\n",
       "<table border=\"1\" class=\"dataframe\">\n",
       "  <thead>\n",
       "    <tr style=\"text-align: right;\">\n",
       "      <th></th>\n",
       "      <th>Name</th>\n",
       "      <th>Age</th>\n",
       "      <th>City</th>\n",
       "    </tr>\n",
       "  </thead>\n",
       "  <tbody>\n",
       "    <tr>\n",
       "      <th>1</th>\n",
       "      <td>Jane</td>\n",
       "      <td>30</td>\n",
       "      <td>London</td>\n",
       "    </tr>\n",
       "    <tr>\n",
       "      <th>3</th>\n",
       "      <td>Emily</td>\n",
       "      <td>28</td>\n",
       "      <td>Sydney</td>\n",
       "    </tr>\n",
       "  </tbody>\n",
       "</table>\n",
       "</div>"
      ],
      "text/plain": [
       "    Name  Age    City\n",
       "1   Jane   30  London\n",
       "3  Emily   28  Sydney"
      ]
     },
     "execution_count": 170,
     "metadata": {},
     "output_type": "execute_result"
    }
   ],
   "source": [
    "import pandas as pd\n",
    "\n",
    "# DataFrame oluşturalım:\n",
    "\n",
    "data = {\n",
    "    'Name': ['John', 'Jane', 'Mike', 'Emily'],\n",
    "    'Age': [25, 30, 22, 28],\n",
    "    'City': ['New York', 'London', 'Paris', 'Sydney']\n",
    "}\n",
    "\n",
    "df = pd.DataFrame(data)\n",
    "\n",
    "# Yaşı 25'ten büyük olan kişileri seçme:\n",
    "\n",
    "df[df['Age'] > 25]"
   ]
  },
  {
   "cell_type": "code",
   "execution_count": 171,
   "id": "119f170f",
   "metadata": {
    "execution": {
     "iopub.execute_input": "2023-10-11T14:44:45.037825Z",
     "iopub.status.busy": "2023-10-11T14:44:45.036735Z",
     "iopub.status.idle": "2023-10-11T14:44:45.046260Z",
     "shell.execute_reply": "2023-10-11T14:44:45.045560Z"
    },
    "papermill": {
     "duration": 0.088888,
     "end_time": "2023-10-11T14:44:45.048110",
     "exception": false,
     "start_time": "2023-10-11T14:44:44.959222",
     "status": "completed"
    },
    "tags": []
   },
   "outputs": [
    {
     "data": {
      "text/html": [
       "<div>\n",
       "<style scoped>\n",
       "    .dataframe tbody tr th:only-of-type {\n",
       "        vertical-align: middle;\n",
       "    }\n",
       "\n",
       "    .dataframe tbody tr th {\n",
       "        vertical-align: top;\n",
       "    }\n",
       "\n",
       "    .dataframe thead th {\n",
       "        text-align: right;\n",
       "    }\n",
       "</style>\n",
       "<table border=\"1\" class=\"dataframe\">\n",
       "  <thead>\n",
       "    <tr style=\"text-align: right;\">\n",
       "      <th></th>\n",
       "      <th>Name</th>\n",
       "      <th>Age</th>\n",
       "      <th>City</th>\n",
       "    </tr>\n",
       "  </thead>\n",
       "  <tbody>\n",
       "    <tr>\n",
       "      <th>2</th>\n",
       "      <td>Mike</td>\n",
       "      <td>22</td>\n",
       "      <td>Paris</td>\n",
       "    </tr>\n",
       "  </tbody>\n",
       "</table>\n",
       "</div>"
      ],
      "text/plain": [
       "   Name  Age   City\n",
       "2  Mike   22  Paris"
      ]
     },
     "execution_count": 171,
     "metadata": {},
     "output_type": "execute_result"
    }
   ],
   "source": [
    "# Paris'te yaşayan kişileri seçme:\n",
    "\n",
    "df[df['City'] == 'Paris']"
   ]
  },
  {
   "cell_type": "code",
   "execution_count": 172,
   "id": "60ab9200",
   "metadata": {
    "execution": {
     "iopub.execute_input": "2023-10-11T14:44:45.201002Z",
     "iopub.status.busy": "2023-10-11T14:44:45.200591Z",
     "iopub.status.idle": "2023-10-11T14:44:45.210097Z",
     "shell.execute_reply": "2023-10-11T14:44:45.209110Z"
    },
    "papermill": {
     "duration": 0.087199,
     "end_time": "2023-10-11T14:44:45.211851",
     "exception": false,
     "start_time": "2023-10-11T14:44:45.124652",
     "status": "completed"
    },
    "tags": []
   },
   "outputs": [
    {
     "data": {
      "text/html": [
       "<div>\n",
       "<style scoped>\n",
       "    .dataframe tbody tr th:only-of-type {\n",
       "        vertical-align: middle;\n",
       "    }\n",
       "\n",
       "    .dataframe tbody tr th {\n",
       "        vertical-align: top;\n",
       "    }\n",
       "\n",
       "    .dataframe thead th {\n",
       "        text-align: right;\n",
       "    }\n",
       "</style>\n",
       "<table border=\"1\" class=\"dataframe\">\n",
       "  <thead>\n",
       "    <tr style=\"text-align: right;\">\n",
       "      <th></th>\n",
       "      <th>Name</th>\n",
       "      <th>Age</th>\n",
       "      <th>City</th>\n",
       "    </tr>\n",
       "  </thead>\n",
       "  <tbody>\n",
       "    <tr>\n",
       "      <th>1</th>\n",
       "      <td>Jane</td>\n",
       "      <td>30</td>\n",
       "      <td>London</td>\n",
       "    </tr>\n",
       "  </tbody>\n",
       "</table>\n",
       "</div>"
      ],
      "text/plain": [
       "   Name  Age    City\n",
       "1  Jane   30  London"
      ]
     },
     "execution_count": 172,
     "metadata": {},
     "output_type": "execute_result"
    }
   ],
   "source": [
    "# Şehri \"London\" olan kişileri filtreleme:\n",
    "\n",
    "df[df['City'] == 'London']"
   ]
  },
  {
   "cell_type": "code",
   "execution_count": 173,
   "id": "f342212a",
   "metadata": {
    "execution": {
     "iopub.execute_input": "2023-10-11T14:44:45.362796Z",
     "iopub.status.busy": "2023-10-11T14:44:45.362406Z",
     "iopub.status.idle": "2023-10-11T14:44:45.371830Z",
     "shell.execute_reply": "2023-10-11T14:44:45.370798Z"
    },
    "papermill": {
     "duration": 0.086606,
     "end_time": "2023-10-11T14:44:45.373659",
     "exception": false,
     "start_time": "2023-10-11T14:44:45.287053",
     "status": "completed"
    },
    "tags": []
   },
   "outputs": [
    {
     "data": {
      "text/html": [
       "<div>\n",
       "<style scoped>\n",
       "    .dataframe tbody tr th:only-of-type {\n",
       "        vertical-align: middle;\n",
       "    }\n",
       "\n",
       "    .dataframe tbody tr th {\n",
       "        vertical-align: top;\n",
       "    }\n",
       "\n",
       "    .dataframe thead th {\n",
       "        text-align: right;\n",
       "    }\n",
       "</style>\n",
       "<table border=\"1\" class=\"dataframe\">\n",
       "  <thead>\n",
       "    <tr style=\"text-align: right;\">\n",
       "      <th></th>\n",
       "      <th>Name</th>\n",
       "      <th>Age</th>\n",
       "      <th>City</th>\n",
       "    </tr>\n",
       "  </thead>\n",
       "  <tbody>\n",
       "    <tr>\n",
       "      <th>1</th>\n",
       "      <td>Jane</td>\n",
       "      <td>30</td>\n",
       "      <td>London</td>\n",
       "    </tr>\n",
       "    <tr>\n",
       "      <th>3</th>\n",
       "      <td>Emily</td>\n",
       "      <td>28</td>\n",
       "      <td>Sydney</td>\n",
       "    </tr>\n",
       "  </tbody>\n",
       "</table>\n",
       "</div>"
      ],
      "text/plain": [
       "    Name  Age    City\n",
       "1   Jane   30  London\n",
       "3  Emily   28  Sydney"
      ]
     },
     "execution_count": 173,
     "metadata": {},
     "output_type": "execute_result"
    }
   ],
   "source": [
    "# Yaşı 25'ten büyük olan kişileri filtreleme:\n",
    "\n",
    "df[df['Age'] > 25]"
   ]
  },
  {
   "cell_type": "code",
   "execution_count": 174,
   "id": "185299be",
   "metadata": {
    "execution": {
     "iopub.execute_input": "2023-10-11T14:44:45.525759Z",
     "iopub.status.busy": "2023-10-11T14:44:45.524671Z",
     "iopub.status.idle": "2023-10-11T14:44:45.535764Z",
     "shell.execute_reply": "2023-10-11T14:44:45.534457Z"
    },
    "papermill": {
     "duration": 0.089171,
     "end_time": "2023-10-11T14:44:45.537714",
     "exception": false,
     "start_time": "2023-10-11T14:44:45.448543",
     "status": "completed"
    },
    "tags": []
   },
   "outputs": [
    {
     "data": {
      "text/html": [
       "<div>\n",
       "<style scoped>\n",
       "    .dataframe tbody tr th:only-of-type {\n",
       "        vertical-align: middle;\n",
       "    }\n",
       "\n",
       "    .dataframe tbody tr th {\n",
       "        vertical-align: top;\n",
       "    }\n",
       "\n",
       "    .dataframe thead th {\n",
       "        text-align: right;\n",
       "    }\n",
       "</style>\n",
       "<table border=\"1\" class=\"dataframe\">\n",
       "  <thead>\n",
       "    <tr style=\"text-align: right;\">\n",
       "      <th></th>\n",
       "      <th>Name</th>\n",
       "      <th>Age</th>\n",
       "      <th>City</th>\n",
       "    </tr>\n",
       "  </thead>\n",
       "  <tbody>\n",
       "    <tr>\n",
       "      <th>0</th>\n",
       "      <td>John</td>\n",
       "      <td>25</td>\n",
       "      <td>New York</td>\n",
       "    </tr>\n",
       "    <tr>\n",
       "      <th>1</th>\n",
       "      <td>Jane</td>\n",
       "      <td>35</td>\n",
       "      <td>London</td>\n",
       "    </tr>\n",
       "    <tr>\n",
       "      <th>2</th>\n",
       "      <td>Mike</td>\n",
       "      <td>22</td>\n",
       "      <td>Paris</td>\n",
       "    </tr>\n",
       "    <tr>\n",
       "      <th>3</th>\n",
       "      <td>Emily</td>\n",
       "      <td>28</td>\n",
       "      <td>Sydney</td>\n",
       "    </tr>\n",
       "  </tbody>\n",
       "</table>\n",
       "</div>"
      ],
      "text/plain": [
       "    Name  Age      City\n",
       "0   John   25  New York\n",
       "1   Jane   35    London\n",
       "2   Mike   22     Paris\n",
       "3  Emily   28    Sydney"
      ]
     },
     "execution_count": 174,
     "metadata": {},
     "output_type": "execute_result"
    }
   ],
   "source": [
    "# \"Jane\" adlı kişinin yaşı 35 olarak güncelleme:\n",
    "\n",
    "df.loc[df['Name'] == 'Jane', 'Age'] = 35\n",
    "\n",
    "df"
   ]
  },
  {
   "cell_type": "code",
   "execution_count": 175,
   "id": "e14f8ce3",
   "metadata": {
    "execution": {
     "iopub.execute_input": "2023-10-11T14:44:45.690884Z",
     "iopub.status.busy": "2023-10-11T14:44:45.690494Z",
     "iopub.status.idle": "2023-10-11T14:44:45.700274Z",
     "shell.execute_reply": "2023-10-11T14:44:45.699336Z"
    },
    "papermill": {
     "duration": 0.08918,
     "end_time": "2023-10-11T14:44:45.702135",
     "exception": false,
     "start_time": "2023-10-11T14:44:45.612955",
     "status": "completed"
    },
    "tags": []
   },
   "outputs": [
    {
     "data": {
      "text/html": [
       "<div>\n",
       "<style scoped>\n",
       "    .dataframe tbody tr th:only-of-type {\n",
       "        vertical-align: middle;\n",
       "    }\n",
       "\n",
       "    .dataframe tbody tr th {\n",
       "        vertical-align: top;\n",
       "    }\n",
       "\n",
       "    .dataframe thead th {\n",
       "        text-align: right;\n",
       "    }\n",
       "</style>\n",
       "<table border=\"1\" class=\"dataframe\">\n",
       "  <thead>\n",
       "    <tr style=\"text-align: right;\">\n",
       "      <th></th>\n",
       "      <th>Name</th>\n",
       "      <th>Age</th>\n",
       "      <th>City</th>\n",
       "    </tr>\n",
       "  </thead>\n",
       "  <tbody>\n",
       "    <tr>\n",
       "      <th>0</th>\n",
       "      <td>John</td>\n",
       "      <td>25</td>\n",
       "      <td>New York</td>\n",
       "    </tr>\n",
       "    <tr>\n",
       "      <th>1</th>\n",
       "      <td>Jane</td>\n",
       "      <td>35</td>\n",
       "      <td>London</td>\n",
       "    </tr>\n",
       "    <tr>\n",
       "      <th>2</th>\n",
       "      <td>Mike</td>\n",
       "      <td>22</td>\n",
       "      <td>Paris</td>\n",
       "    </tr>\n",
       "    <tr>\n",
       "      <th>3</th>\n",
       "      <td>Emily</td>\n",
       "      <td>28</td>\n",
       "      <td>Los Angeles</td>\n",
       "    </tr>\n",
       "  </tbody>\n",
       "</table>\n",
       "</div>"
      ],
      "text/plain": [
       "    Name  Age         City\n",
       "0   John   25     New York\n",
       "1   Jane   35       London\n",
       "2   Mike   22        Paris\n",
       "3  Emily   28  Los Angeles"
      ]
     },
     "execution_count": 175,
     "metadata": {},
     "output_type": "execute_result"
    }
   ],
   "source": [
    "# \"Emily\" adlı kişinin şehrini \"Los Angeles\" olarak güncelleme:\n",
    "\n",
    "df.loc[df['Name'] == 'Emily', 'City'] = 'Los Angeles'\n",
    "\n",
    "df"
   ]
  },
  {
   "cell_type": "code",
   "execution_count": 176,
   "id": "f0e62684",
   "metadata": {
    "execution": {
     "iopub.execute_input": "2023-10-11T14:44:45.856913Z",
     "iopub.status.busy": "2023-10-11T14:44:45.856544Z",
     "iopub.status.idle": "2023-10-11T14:44:45.861612Z",
     "shell.execute_reply": "2023-10-11T14:44:45.860381Z"
    },
    "papermill": {
     "duration": 0.084208,
     "end_time": "2023-10-11T14:44:45.863686",
     "exception": false,
     "start_time": "2023-10-11T14:44:45.779478",
     "status": "completed"
    },
    "tags": []
   },
   "outputs": [],
   "source": [
    "# NaN değerleri \"Bilinmiyor\" ile değiştirme:\n",
    "\n",
    "df.fillna('Bilinmiyor', inplace=True)"
   ]
  },
  {
   "cell_type": "code",
   "execution_count": 177,
   "id": "8222b5e4",
   "metadata": {
    "execution": {
     "iopub.execute_input": "2023-10-11T14:44:46.019869Z",
     "iopub.status.busy": "2023-10-11T14:44:46.019494Z",
     "iopub.status.idle": "2023-10-11T14:44:46.024676Z",
     "shell.execute_reply": "2023-10-11T14:44:46.023704Z"
    },
    "papermill": {
     "duration": 0.084708,
     "end_time": "2023-10-11T14:44:46.026857",
     "exception": false,
     "start_time": "2023-10-11T14:44:45.942149",
     "status": "completed"
    },
    "tags": []
   },
   "outputs": [],
   "source": [
    "# NaN değerleri içeren satırları kaldırma:\n",
    "\n",
    "df.dropna(inplace=True)"
   ]
  },
  {
   "cell_type": "markdown",
   "id": "b268efb6",
   "metadata": {
    "papermill": {
     "duration": 0.077174,
     "end_time": "2023-10-11T14:44:46.179205",
     "exception": false,
     "start_time": "2023-10-11T14:44:46.102031",
     "status": "completed"
    },
    "tags": []
   },
   "source": [
    "--------------------------------"
   ]
  },
  {
   "cell_type": "code",
   "execution_count": 178,
   "id": "cbb7a044",
   "metadata": {
    "execution": {
     "iopub.execute_input": "2023-10-11T14:44:46.331821Z",
     "iopub.status.busy": "2023-10-11T14:44:46.331422Z",
     "iopub.status.idle": "2023-10-11T14:44:46.341336Z",
     "shell.execute_reply": "2023-10-11T14:44:46.340258Z"
    },
    "papermill": {
     "duration": 0.088518,
     "end_time": "2023-10-11T14:44:46.343502",
     "exception": false,
     "start_time": "2023-10-11T14:44:46.254984",
     "status": "completed"
    },
    "tags": []
   },
   "outputs": [],
   "source": [
    "import pandas as pd\n",
    "import seaborn as sns\n",
    "\n",
    "df = pd.read_csv('/kaggle/input/titanic/train.csv')"
   ]
  },
  {
   "cell_type": "code",
   "execution_count": 179,
   "id": "c0763a0b",
   "metadata": {
    "execution": {
     "iopub.execute_input": "2023-10-11T14:44:46.496086Z",
     "iopub.status.busy": "2023-10-11T14:44:46.495742Z",
     "iopub.status.idle": "2023-10-11T14:44:46.510097Z",
     "shell.execute_reply": "2023-10-11T14:44:46.509015Z"
    },
    "papermill": {
     "duration": 0.093081,
     "end_time": "2023-10-11T14:44:46.511996",
     "exception": false,
     "start_time": "2023-10-11T14:44:46.418915",
     "status": "completed"
    },
    "tags": []
   },
   "outputs": [
    {
     "data": {
      "text/html": [
       "<div>\n",
       "<style scoped>\n",
       "    .dataframe tbody tr th:only-of-type {\n",
       "        vertical-align: middle;\n",
       "    }\n",
       "\n",
       "    .dataframe tbody tr th {\n",
       "        vertical-align: top;\n",
       "    }\n",
       "\n",
       "    .dataframe thead th {\n",
       "        text-align: right;\n",
       "    }\n",
       "</style>\n",
       "<table border=\"1\" class=\"dataframe\">\n",
       "  <thead>\n",
       "    <tr style=\"text-align: right;\">\n",
       "      <th></th>\n",
       "      <th>PassengerId</th>\n",
       "      <th>Survived</th>\n",
       "      <th>Pclass</th>\n",
       "      <th>Name</th>\n",
       "      <th>Sex</th>\n",
       "      <th>Age</th>\n",
       "      <th>SibSp</th>\n",
       "      <th>Parch</th>\n",
       "      <th>Ticket</th>\n",
       "      <th>Fare</th>\n",
       "      <th>Cabin</th>\n",
       "      <th>Embarked</th>\n",
       "    </tr>\n",
       "  </thead>\n",
       "  <tbody>\n",
       "    <tr>\n",
       "      <th>0</th>\n",
       "      <td>1</td>\n",
       "      <td>0</td>\n",
       "      <td>3</td>\n",
       "      <td>Braund, Mr. Owen Harris</td>\n",
       "      <td>male</td>\n",
       "      <td>22.0</td>\n",
       "      <td>1</td>\n",
       "      <td>0</td>\n",
       "      <td>A/5 21171</td>\n",
       "      <td>7.2500</td>\n",
       "      <td>NaN</td>\n",
       "      <td>S</td>\n",
       "    </tr>\n",
       "    <tr>\n",
       "      <th>1</th>\n",
       "      <td>2</td>\n",
       "      <td>1</td>\n",
       "      <td>1</td>\n",
       "      <td>Cumings, Mrs. John Bradley (Florence Briggs Th...</td>\n",
       "      <td>female</td>\n",
       "      <td>38.0</td>\n",
       "      <td>1</td>\n",
       "      <td>0</td>\n",
       "      <td>PC 17599</td>\n",
       "      <td>71.2833</td>\n",
       "      <td>C85</td>\n",
       "      <td>C</td>\n",
       "    </tr>\n",
       "    <tr>\n",
       "      <th>2</th>\n",
       "      <td>3</td>\n",
       "      <td>1</td>\n",
       "      <td>3</td>\n",
       "      <td>Heikkinen, Miss. Laina</td>\n",
       "      <td>female</td>\n",
       "      <td>26.0</td>\n",
       "      <td>0</td>\n",
       "      <td>0</td>\n",
       "      <td>STON/O2. 3101282</td>\n",
       "      <td>7.9250</td>\n",
       "      <td>NaN</td>\n",
       "      <td>S</td>\n",
       "    </tr>\n",
       "    <tr>\n",
       "      <th>3</th>\n",
       "      <td>4</td>\n",
       "      <td>1</td>\n",
       "      <td>1</td>\n",
       "      <td>Futrelle, Mrs. Jacques Heath (Lily May Peel)</td>\n",
       "      <td>female</td>\n",
       "      <td>35.0</td>\n",
       "      <td>1</td>\n",
       "      <td>0</td>\n",
       "      <td>113803</td>\n",
       "      <td>53.1000</td>\n",
       "      <td>C123</td>\n",
       "      <td>S</td>\n",
       "    </tr>\n",
       "    <tr>\n",
       "      <th>4</th>\n",
       "      <td>5</td>\n",
       "      <td>0</td>\n",
       "      <td>3</td>\n",
       "      <td>Allen, Mr. William Henry</td>\n",
       "      <td>male</td>\n",
       "      <td>35.0</td>\n",
       "      <td>0</td>\n",
       "      <td>0</td>\n",
       "      <td>373450</td>\n",
       "      <td>8.0500</td>\n",
       "      <td>NaN</td>\n",
       "      <td>S</td>\n",
       "    </tr>\n",
       "  </tbody>\n",
       "</table>\n",
       "</div>"
      ],
      "text/plain": [
       "   PassengerId  Survived  Pclass  \\\n",
       "0            1         0       3   \n",
       "1            2         1       1   \n",
       "2            3         1       3   \n",
       "3            4         1       1   \n",
       "4            5         0       3   \n",
       "\n",
       "                                                Name     Sex   Age  SibSp  \\\n",
       "0                            Braund, Mr. Owen Harris    male  22.0      1   \n",
       "1  Cumings, Mrs. John Bradley (Florence Briggs Th...  female  38.0      1   \n",
       "2                             Heikkinen, Miss. Laina  female  26.0      0   \n",
       "3       Futrelle, Mrs. Jacques Heath (Lily May Peel)  female  35.0      1   \n",
       "4                           Allen, Mr. William Henry    male  35.0      0   \n",
       "\n",
       "   Parch            Ticket     Fare Cabin Embarked  \n",
       "0      0         A/5 21171   7.2500   NaN        S  \n",
       "1      0          PC 17599  71.2833   C85        C  \n",
       "2      0  STON/O2. 3101282   7.9250   NaN        S  \n",
       "3      0            113803  53.1000  C123        S  \n",
       "4      0            373450   8.0500   NaN        S  "
      ]
     },
     "execution_count": 179,
     "metadata": {},
     "output_type": "execute_result"
    }
   ],
   "source": [
    "df.head()"
   ]
  },
  {
   "cell_type": "code",
   "execution_count": 180,
   "id": "373b27b7",
   "metadata": {
    "execution": {
     "iopub.execute_input": "2023-10-11T14:44:46.663962Z",
     "iopub.status.busy": "2023-10-11T14:44:46.663611Z",
     "iopub.status.idle": "2023-10-11T14:44:46.674191Z",
     "shell.execute_reply": "2023-10-11T14:44:46.673466Z"
    },
    "papermill": {
     "duration": 0.088797,
     "end_time": "2023-10-11T14:44:46.675869",
     "exception": false,
     "start_time": "2023-10-11T14:44:46.587072",
     "status": "completed"
    },
    "tags": []
   },
   "outputs": [
    {
     "data": {
      "text/html": [
       "<div>\n",
       "<style scoped>\n",
       "    .dataframe tbody tr th:only-of-type {\n",
       "        vertical-align: middle;\n",
       "    }\n",
       "\n",
       "    .dataframe tbody tr th {\n",
       "        vertical-align: top;\n",
       "    }\n",
       "\n",
       "    .dataframe thead th {\n",
       "        text-align: right;\n",
       "    }\n",
       "</style>\n",
       "<table border=\"1\" class=\"dataframe\">\n",
       "  <thead>\n",
       "    <tr style=\"text-align: right;\">\n",
       "      <th></th>\n",
       "      <th>Age</th>\n",
       "      <th>Pclass</th>\n",
       "    </tr>\n",
       "  </thead>\n",
       "  <tbody>\n",
       "    <tr>\n",
       "      <th>6</th>\n",
       "      <td>54.0</td>\n",
       "      <td>1</td>\n",
       "    </tr>\n",
       "    <tr>\n",
       "      <th>11</th>\n",
       "      <td>58.0</td>\n",
       "      <td>1</td>\n",
       "    </tr>\n",
       "    <tr>\n",
       "      <th>15</th>\n",
       "      <td>55.0</td>\n",
       "      <td>2</td>\n",
       "    </tr>\n",
       "    <tr>\n",
       "      <th>33</th>\n",
       "      <td>66.0</td>\n",
       "      <td>2</td>\n",
       "    </tr>\n",
       "    <tr>\n",
       "      <th>54</th>\n",
       "      <td>65.0</td>\n",
       "      <td>1</td>\n",
       "    </tr>\n",
       "  </tbody>\n",
       "</table>\n",
       "</div>"
      ],
      "text/plain": [
       "     Age  Pclass\n",
       "6   54.0       1\n",
       "11  58.0       1\n",
       "15  55.0       2\n",
       "33  66.0       2\n",
       "54  65.0       1"
      ]
     },
     "execution_count": 180,
     "metadata": {},
     "output_type": "execute_result"
    }
   ],
   "source": [
    "df.loc[df[\"Age\"] > 50, [\"Age\", \"Pclass\"]].head()"
   ]
  },
  {
   "cell_type": "code",
   "execution_count": 181,
   "id": "67bd5339",
   "metadata": {
    "execution": {
     "iopub.execute_input": "2023-10-11T14:44:46.832517Z",
     "iopub.status.busy": "2023-10-11T14:44:46.832183Z",
     "iopub.status.idle": "2023-10-11T14:44:46.842745Z",
     "shell.execute_reply": "2023-10-11T14:44:46.841891Z"
    },
    "papermill": {
     "duration": 0.090381,
     "end_time": "2023-10-11T14:44:46.844551",
     "exception": false,
     "start_time": "2023-10-11T14:44:46.754170",
     "status": "completed"
    },
    "tags": []
   },
   "outputs": [
    {
     "data": {
      "text/html": [
       "<div>\n",
       "<style scoped>\n",
       "    .dataframe tbody tr th:only-of-type {\n",
       "        vertical-align: middle;\n",
       "    }\n",
       "\n",
       "    .dataframe tbody tr th {\n",
       "        vertical-align: top;\n",
       "    }\n",
       "\n",
       "    .dataframe thead th {\n",
       "        text-align: right;\n",
       "    }\n",
       "</style>\n",
       "<table border=\"1\" class=\"dataframe\">\n",
       "  <thead>\n",
       "    <tr style=\"text-align: right;\">\n",
       "      <th></th>\n",
       "      <th>Age</th>\n",
       "      <th>Pclass</th>\n",
       "    </tr>\n",
       "  </thead>\n",
       "  <tbody>\n",
       "    <tr>\n",
       "      <th>6</th>\n",
       "      <td>54.0</td>\n",
       "      <td>1</td>\n",
       "    </tr>\n",
       "    <tr>\n",
       "      <th>33</th>\n",
       "      <td>66.0</td>\n",
       "      <td>2</td>\n",
       "    </tr>\n",
       "    <tr>\n",
       "      <th>54</th>\n",
       "      <td>65.0</td>\n",
       "      <td>1</td>\n",
       "    </tr>\n",
       "    <tr>\n",
       "      <th>94</th>\n",
       "      <td>59.0</td>\n",
       "      <td>3</td>\n",
       "    </tr>\n",
       "    <tr>\n",
       "      <th>96</th>\n",
       "      <td>71.0</td>\n",
       "      <td>1</td>\n",
       "    </tr>\n",
       "  </tbody>\n",
       "</table>\n",
       "</div>"
      ],
      "text/plain": [
       "     Age  Pclass\n",
       "6   54.0       1\n",
       "33  66.0       2\n",
       "54  65.0       1\n",
       "94  59.0       3\n",
       "96  71.0       1"
      ]
     },
     "execution_count": 181,
     "metadata": {},
     "output_type": "execute_result"
    }
   ],
   "source": [
    "df.loc[(df[\"Age\"] > 50) & (df[\"Sex\"] == \"male\"), [\"Age\", \"Pclass\"]].head()"
   ]
  },
  {
   "cell_type": "code",
   "execution_count": 182,
   "id": "9b02b11b",
   "metadata": {
    "execution": {
     "iopub.execute_input": "2023-10-11T14:44:47.064521Z",
     "iopub.status.busy": "2023-10-11T14:44:47.063875Z",
     "iopub.status.idle": "2023-10-11T14:44:47.075398Z",
     "shell.execute_reply": "2023-10-11T14:44:47.074772Z"
    },
    "papermill": {
     "duration": 0.153806,
     "end_time": "2023-10-11T14:44:47.077184",
     "exception": false,
     "start_time": "2023-10-11T14:44:46.923378",
     "status": "completed"
    },
    "tags": []
   },
   "outputs": [
    {
     "data": {
      "text/html": [
       "<div>\n",
       "<style scoped>\n",
       "    .dataframe tbody tr th:only-of-type {\n",
       "        vertical-align: middle;\n",
       "    }\n",
       "\n",
       "    .dataframe tbody tr th {\n",
       "        vertical-align: top;\n",
       "    }\n",
       "\n",
       "    .dataframe thead th {\n",
       "        text-align: right;\n",
       "    }\n",
       "</style>\n",
       "<table border=\"1\" class=\"dataframe\">\n",
       "  <thead>\n",
       "    <tr style=\"text-align: right;\">\n",
       "      <th></th>\n",
       "      <th>Age</th>\n",
       "      <th>Pclass</th>\n",
       "      <th>Embarked</th>\n",
       "    </tr>\n",
       "  </thead>\n",
       "  <tbody>\n",
       "    <tr>\n",
       "      <th>6</th>\n",
       "      <td>54.0</td>\n",
       "      <td>1</td>\n",
       "      <td>S</td>\n",
       "    </tr>\n",
       "    <tr>\n",
       "      <th>33</th>\n",
       "      <td>66.0</td>\n",
       "      <td>2</td>\n",
       "      <td>S</td>\n",
       "    </tr>\n",
       "    <tr>\n",
       "      <th>54</th>\n",
       "      <td>65.0</td>\n",
       "      <td>1</td>\n",
       "      <td>C</td>\n",
       "    </tr>\n",
       "    <tr>\n",
       "      <th>94</th>\n",
       "      <td>59.0</td>\n",
       "      <td>3</td>\n",
       "      <td>S</td>\n",
       "    </tr>\n",
       "    <tr>\n",
       "      <th>96</th>\n",
       "      <td>71.0</td>\n",
       "      <td>1</td>\n",
       "      <td>C</td>\n",
       "    </tr>\n",
       "  </tbody>\n",
       "</table>\n",
       "</div>"
      ],
      "text/plain": [
       "     Age  Pclass Embarked\n",
       "6   54.0       1        S\n",
       "33  66.0       2        S\n",
       "54  65.0       1        C\n",
       "94  59.0       3        S\n",
       "96  71.0       1        C"
      ]
     },
     "execution_count": 182,
     "metadata": {},
     "output_type": "execute_result"
    }
   ],
   "source": [
    "df.loc[(df[\"Age\"] > 50) & (df[\"Sex\"] == \"male\") & ((df[\"Embarked\"] == \"C\") | (df[\"Embarked\"] == \"S\")), [\"Age\", \"Pclass\", \"Embarked\"]].head()"
   ]
  },
  {
   "cell_type": "markdown",
   "id": "0dd41319",
   "metadata": {
    "papermill": {
     "duration": 0.076286,
     "end_time": "2023-10-11T14:44:47.230414",
     "exception": false,
     "start_time": "2023-10-11T14:44:47.154128",
     "status": "completed"
    },
    "tags": []
   },
   "source": [
    "<a id = \"21\"></a><br>\n",
    "<h1 style=\"background-color:#77BFC7;font-family:courier;font-size:250%;font-style: oblique;font-weight: bold;font-variant: small-caps;text-align:center;border-radius: 15px 50px;\"> Birleştirme İşlemleri </h1>\n",
    "\n",
    "Farklı DataFrame'leri tek bir DataFrame içinde birleştirmek için kullanılır. Bu işlemler, verileri farklı yollarla bir araya getirerek analiz ve işlemleri kolaylaştırır. Pandas, DataFrame birleştirme işlemleri için **concat(), merge(), ve join()** gibi yöntemler sağlar.\n",
    "\n",
    "1. **concat():** verilen DataFrame'leri belirtilen eksende (satır veya sütun) birleştirmek için kullanılır. Eksende birleştirme işlemi yapar ve verileri yan yana (satırlar halinde) veya alt alta (sütunlar halinde) ekler.\n",
    "\n",
    "2. **merge():** verilen DataFrame'leri belirli sütunlarda birleştirmek için kullanılır. Bu yöntem, SQL'deki \"join\" işlemine benzer ve çakışan sütunlarda verileri birleştirir.\n",
    "\n",
    "3. **join():** iki DataFrame'yi birleştirmek için kullanılır, ancak merge() yönteminden farklı olarak, DataFrame'lerin indeksleri üzerinden birleştirme yapar."
   ]
  },
  {
   "cell_type": "markdown",
   "id": "1fd3d8df",
   "metadata": {
    "papermill": {
     "duration": 0.074804,
     "end_time": "2023-10-11T14:44:47.381258",
     "exception": false,
     "start_time": "2023-10-11T14:44:47.306454",
     "status": "completed"
    },
    "tags": []
   },
   "source": [
    "---"
   ]
  },
  {
   "cell_type": "code",
   "execution_count": 183,
   "id": "f860996e",
   "metadata": {
    "execution": {
     "iopub.execute_input": "2023-10-11T14:44:47.537003Z",
     "iopub.status.busy": "2023-10-11T14:44:47.536242Z",
     "iopub.status.idle": "2023-10-11T14:44:47.543576Z",
     "shell.execute_reply": "2023-10-11T14:44:47.542841Z"
    },
    "papermill": {
     "duration": 0.088243,
     "end_time": "2023-10-11T14:44:47.545671",
     "exception": false,
     "start_time": "2023-10-11T14:44:47.457428",
     "status": "completed"
    },
    "tags": []
   },
   "outputs": [],
   "source": [
    "import pandas as pd\n",
    "\n",
    "# DataFrame'ler oluşturalım:\n",
    "\n",
    "df1 = pd.DataFrame({'A': ['A0', 'A1', 'A2'],\n",
    "                    'B': ['B0', 'B1', 'B2'],\n",
    "                    'C': ['C0', 'C1', 'C2']},\n",
    "                   index=[0, 1, 2])\n",
    "\n",
    "df2 = pd.DataFrame({'A': ['A3', 'A4', 'A5'],\n",
    "                    'B': ['B3', 'B4', 'B5'],\n",
    "                    'C': ['C3', 'C4', 'C5']},\n",
    "                   index=[3, 4, 5])"
   ]
  },
  {
   "cell_type": "code",
   "execution_count": 184,
   "id": "da21f8f9",
   "metadata": {
    "execution": {
     "iopub.execute_input": "2023-10-11T14:44:47.702056Z",
     "iopub.status.busy": "2023-10-11T14:44:47.701313Z",
     "iopub.status.idle": "2023-10-11T14:44:47.710679Z",
     "shell.execute_reply": "2023-10-11T14:44:47.709738Z"
    },
    "papermill": {
     "duration": 0.089221,
     "end_time": "2023-10-11T14:44:47.712614",
     "exception": false,
     "start_time": "2023-10-11T14:44:47.623393",
     "status": "completed"
    },
    "tags": []
   },
   "outputs": [
    {
     "data": {
      "text/html": [
       "<div>\n",
       "<style scoped>\n",
       "    .dataframe tbody tr th:only-of-type {\n",
       "        vertical-align: middle;\n",
       "    }\n",
       "\n",
       "    .dataframe tbody tr th {\n",
       "        vertical-align: top;\n",
       "    }\n",
       "\n",
       "    .dataframe thead th {\n",
       "        text-align: right;\n",
       "    }\n",
       "</style>\n",
       "<table border=\"1\" class=\"dataframe\">\n",
       "  <thead>\n",
       "    <tr style=\"text-align: right;\">\n",
       "      <th></th>\n",
       "      <th>A</th>\n",
       "      <th>B</th>\n",
       "      <th>C</th>\n",
       "    </tr>\n",
       "  </thead>\n",
       "  <tbody>\n",
       "    <tr>\n",
       "      <th>0</th>\n",
       "      <td>A0</td>\n",
       "      <td>B0</td>\n",
       "      <td>C0</td>\n",
       "    </tr>\n",
       "    <tr>\n",
       "      <th>1</th>\n",
       "      <td>A1</td>\n",
       "      <td>B1</td>\n",
       "      <td>C1</td>\n",
       "    </tr>\n",
       "    <tr>\n",
       "      <th>2</th>\n",
       "      <td>A2</td>\n",
       "      <td>B2</td>\n",
       "      <td>C2</td>\n",
       "    </tr>\n",
       "  </tbody>\n",
       "</table>\n",
       "</div>"
      ],
      "text/plain": [
       "    A   B   C\n",
       "0  A0  B0  C0\n",
       "1  A1  B1  C1\n",
       "2  A2  B2  C2"
      ]
     },
     "execution_count": 184,
     "metadata": {},
     "output_type": "execute_result"
    }
   ],
   "source": [
    "df1"
   ]
  },
  {
   "cell_type": "code",
   "execution_count": 185,
   "id": "3ba9f306",
   "metadata": {
    "execution": {
     "iopub.execute_input": "2023-10-11T14:44:47.873633Z",
     "iopub.status.busy": "2023-10-11T14:44:47.872984Z",
     "iopub.status.idle": "2023-10-11T14:44:47.881558Z",
     "shell.execute_reply": "2023-10-11T14:44:47.880750Z"
    },
    "papermill": {
     "duration": 0.091005,
     "end_time": "2023-10-11T14:44:47.883493",
     "exception": false,
     "start_time": "2023-10-11T14:44:47.792488",
     "status": "completed"
    },
    "tags": []
   },
   "outputs": [
    {
     "data": {
      "text/html": [
       "<div>\n",
       "<style scoped>\n",
       "    .dataframe tbody tr th:only-of-type {\n",
       "        vertical-align: middle;\n",
       "    }\n",
       "\n",
       "    .dataframe tbody tr th {\n",
       "        vertical-align: top;\n",
       "    }\n",
       "\n",
       "    .dataframe thead th {\n",
       "        text-align: right;\n",
       "    }\n",
       "</style>\n",
       "<table border=\"1\" class=\"dataframe\">\n",
       "  <thead>\n",
       "    <tr style=\"text-align: right;\">\n",
       "      <th></th>\n",
       "      <th>A</th>\n",
       "      <th>B</th>\n",
       "      <th>C</th>\n",
       "    </tr>\n",
       "  </thead>\n",
       "  <tbody>\n",
       "    <tr>\n",
       "      <th>3</th>\n",
       "      <td>A3</td>\n",
       "      <td>B3</td>\n",
       "      <td>C3</td>\n",
       "    </tr>\n",
       "    <tr>\n",
       "      <th>4</th>\n",
       "      <td>A4</td>\n",
       "      <td>B4</td>\n",
       "      <td>C4</td>\n",
       "    </tr>\n",
       "    <tr>\n",
       "      <th>5</th>\n",
       "      <td>A5</td>\n",
       "      <td>B5</td>\n",
       "      <td>C5</td>\n",
       "    </tr>\n",
       "  </tbody>\n",
       "</table>\n",
       "</div>"
      ],
      "text/plain": [
       "    A   B   C\n",
       "3  A3  B3  C3\n",
       "4  A4  B4  C4\n",
       "5  A5  B5  C5"
      ]
     },
     "execution_count": 185,
     "metadata": {},
     "output_type": "execute_result"
    }
   ],
   "source": [
    "df2"
   ]
  },
  {
   "cell_type": "code",
   "execution_count": 186,
   "id": "9bade612",
   "metadata": {
    "execution": {
     "iopub.execute_input": "2023-10-11T14:44:48.042955Z",
     "iopub.status.busy": "2023-10-11T14:44:48.042288Z",
     "iopub.status.idle": "2023-10-11T14:44:48.052281Z",
     "shell.execute_reply": "2023-10-11T14:44:48.051493Z"
    },
    "papermill": {
     "duration": 0.092597,
     "end_time": "2023-10-11T14:44:48.054134",
     "exception": false,
     "start_time": "2023-10-11T14:44:47.961537",
     "status": "completed"
    },
    "tags": []
   },
   "outputs": [
    {
     "data": {
      "text/html": [
       "<div>\n",
       "<style scoped>\n",
       "    .dataframe tbody tr th:only-of-type {\n",
       "        vertical-align: middle;\n",
       "    }\n",
       "\n",
       "    .dataframe tbody tr th {\n",
       "        vertical-align: top;\n",
       "    }\n",
       "\n",
       "    .dataframe thead th {\n",
       "        text-align: right;\n",
       "    }\n",
       "</style>\n",
       "<table border=\"1\" class=\"dataframe\">\n",
       "  <thead>\n",
       "    <tr style=\"text-align: right;\">\n",
       "      <th></th>\n",
       "      <th>A</th>\n",
       "      <th>B</th>\n",
       "      <th>C</th>\n",
       "    </tr>\n",
       "  </thead>\n",
       "  <tbody>\n",
       "    <tr>\n",
       "      <th>0</th>\n",
       "      <td>A0</td>\n",
       "      <td>B0</td>\n",
       "      <td>C0</td>\n",
       "    </tr>\n",
       "    <tr>\n",
       "      <th>1</th>\n",
       "      <td>A1</td>\n",
       "      <td>B1</td>\n",
       "      <td>C1</td>\n",
       "    </tr>\n",
       "    <tr>\n",
       "      <th>2</th>\n",
       "      <td>A2</td>\n",
       "      <td>B2</td>\n",
       "      <td>C2</td>\n",
       "    </tr>\n",
       "    <tr>\n",
       "      <th>3</th>\n",
       "      <td>A3</td>\n",
       "      <td>B3</td>\n",
       "      <td>C3</td>\n",
       "    </tr>\n",
       "    <tr>\n",
       "      <th>4</th>\n",
       "      <td>A4</td>\n",
       "      <td>B4</td>\n",
       "      <td>C4</td>\n",
       "    </tr>\n",
       "    <tr>\n",
       "      <th>5</th>\n",
       "      <td>A5</td>\n",
       "      <td>B5</td>\n",
       "      <td>C5</td>\n",
       "    </tr>\n",
       "  </tbody>\n",
       "</table>\n",
       "</div>"
      ],
      "text/plain": [
       "    A   B   C\n",
       "0  A0  B0  C0\n",
       "1  A1  B1  C1\n",
       "2  A2  B2  C2\n",
       "3  A3  B3  C3\n",
       "4  A4  B4  C4\n",
       "5  A5  B5  C5"
      ]
     },
     "execution_count": 186,
     "metadata": {},
     "output_type": "execute_result"
    }
   ],
   "source": [
    "# DataFrame'leri satırlar halinde birleştirme:\n",
    "\n",
    "result_concat_row = pd.concat([df1, df2])\n",
    "\n",
    "result_concat_row"
   ]
  },
  {
   "cell_type": "code",
   "execution_count": 187,
   "id": "b8b46ebf",
   "metadata": {
    "execution": {
     "iopub.execute_input": "2023-10-11T14:44:48.213563Z",
     "iopub.status.busy": "2023-10-11T14:44:48.212993Z",
     "iopub.status.idle": "2023-10-11T14:44:48.227931Z",
     "shell.execute_reply": "2023-10-11T14:44:48.226890Z"
    },
    "papermill": {
     "duration": 0.095746,
     "end_time": "2023-10-11T14:44:48.229791",
     "exception": false,
     "start_time": "2023-10-11T14:44:48.134045",
     "status": "completed"
    },
    "tags": []
   },
   "outputs": [
    {
     "data": {
      "text/html": [
       "<div>\n",
       "<style scoped>\n",
       "    .dataframe tbody tr th:only-of-type {\n",
       "        vertical-align: middle;\n",
       "    }\n",
       "\n",
       "    .dataframe tbody tr th {\n",
       "        vertical-align: top;\n",
       "    }\n",
       "\n",
       "    .dataframe thead th {\n",
       "        text-align: right;\n",
       "    }\n",
       "</style>\n",
       "<table border=\"1\" class=\"dataframe\">\n",
       "  <thead>\n",
       "    <tr style=\"text-align: right;\">\n",
       "      <th></th>\n",
       "      <th>A</th>\n",
       "      <th>B</th>\n",
       "      <th>C</th>\n",
       "      <th>A</th>\n",
       "      <th>B</th>\n",
       "      <th>C</th>\n",
       "    </tr>\n",
       "  </thead>\n",
       "  <tbody>\n",
       "    <tr>\n",
       "      <th>0</th>\n",
       "      <td>A0</td>\n",
       "      <td>B0</td>\n",
       "      <td>C0</td>\n",
       "      <td>NaN</td>\n",
       "      <td>NaN</td>\n",
       "      <td>NaN</td>\n",
       "    </tr>\n",
       "    <tr>\n",
       "      <th>1</th>\n",
       "      <td>A1</td>\n",
       "      <td>B1</td>\n",
       "      <td>C1</td>\n",
       "      <td>NaN</td>\n",
       "      <td>NaN</td>\n",
       "      <td>NaN</td>\n",
       "    </tr>\n",
       "    <tr>\n",
       "      <th>2</th>\n",
       "      <td>A2</td>\n",
       "      <td>B2</td>\n",
       "      <td>C2</td>\n",
       "      <td>NaN</td>\n",
       "      <td>NaN</td>\n",
       "      <td>NaN</td>\n",
       "    </tr>\n",
       "    <tr>\n",
       "      <th>3</th>\n",
       "      <td>NaN</td>\n",
       "      <td>NaN</td>\n",
       "      <td>NaN</td>\n",
       "      <td>A3</td>\n",
       "      <td>B3</td>\n",
       "      <td>C3</td>\n",
       "    </tr>\n",
       "    <tr>\n",
       "      <th>4</th>\n",
       "      <td>NaN</td>\n",
       "      <td>NaN</td>\n",
       "      <td>NaN</td>\n",
       "      <td>A4</td>\n",
       "      <td>B4</td>\n",
       "      <td>C4</td>\n",
       "    </tr>\n",
       "    <tr>\n",
       "      <th>5</th>\n",
       "      <td>NaN</td>\n",
       "      <td>NaN</td>\n",
       "      <td>NaN</td>\n",
       "      <td>A5</td>\n",
       "      <td>B5</td>\n",
       "      <td>C5</td>\n",
       "    </tr>\n",
       "  </tbody>\n",
       "</table>\n",
       "</div>"
      ],
      "text/plain": [
       "     A    B    C    A    B    C\n",
       "0   A0   B0   C0  NaN  NaN  NaN\n",
       "1   A1   B1   C1  NaN  NaN  NaN\n",
       "2   A2   B2   C2  NaN  NaN  NaN\n",
       "3  NaN  NaN  NaN   A3   B3   C3\n",
       "4  NaN  NaN  NaN   A4   B4   C4\n",
       "5  NaN  NaN  NaN   A5   B5   C5"
      ]
     },
     "execution_count": 187,
     "metadata": {},
     "output_type": "execute_result"
    }
   ],
   "source": [
    "# DataFrame'leri sütunlar halinde birleştirme:\n",
    "\n",
    "result_concat_column = pd.concat([df1, df2], axis=1)\n",
    "\n",
    "result_concat_column"
   ]
  },
  {
   "cell_type": "markdown",
   "id": "46dd6a5a",
   "metadata": {
    "papermill": {
     "duration": 0.07684,
     "end_time": "2023-10-11T14:44:48.385216",
     "exception": false,
     "start_time": "2023-10-11T14:44:48.308376",
     "status": "completed"
    },
    "tags": []
   },
   "source": [
    "---"
   ]
  },
  {
   "cell_type": "code",
   "execution_count": 188,
   "id": "2a3ba7c5",
   "metadata": {
    "execution": {
     "iopub.execute_input": "2023-10-11T14:44:48.541519Z",
     "iopub.status.busy": "2023-10-11T14:44:48.540865Z",
     "iopub.status.idle": "2023-10-11T14:44:48.546275Z",
     "shell.execute_reply": "2023-10-11T14:44:48.545651Z"
    },
    "papermill": {
     "duration": 0.085976,
     "end_time": "2023-10-11T14:44:48.548081",
     "exception": false,
     "start_time": "2023-10-11T14:44:48.462105",
     "status": "completed"
    },
    "tags": []
   },
   "outputs": [],
   "source": [
    "import pandas as pd\n",
    "\n",
    "# DataFrame'ler oluşturalım:\n",
    "\n",
    "df1 = pd.DataFrame({'A': ['A0', 'A1', 'A2'],\n",
    "                    'B': ['B0', 'B1', 'B2'],\n",
    "                    'key': ['K0', 'K1', 'K2']})\n",
    "\n",
    "df2 = pd.DataFrame({'C': ['C0', 'C1', 'C2'],\n",
    "                    'D': ['D0', 'D1', 'D2'],\n",
    "                    'key': ['K0', 'K1', 'K2']})"
   ]
  },
  {
   "cell_type": "code",
   "execution_count": 189,
   "id": "c84a4798",
   "metadata": {
    "execution": {
     "iopub.execute_input": "2023-10-11T14:44:48.703734Z",
     "iopub.status.busy": "2023-10-11T14:44:48.703078Z",
     "iopub.status.idle": "2023-10-11T14:44:48.711221Z",
     "shell.execute_reply": "2023-10-11T14:44:48.710323Z"
    },
    "papermill": {
     "duration": 0.08794,
     "end_time": "2023-10-11T14:44:48.713004",
     "exception": false,
     "start_time": "2023-10-11T14:44:48.625064",
     "status": "completed"
    },
    "tags": []
   },
   "outputs": [
    {
     "data": {
      "text/html": [
       "<div>\n",
       "<style scoped>\n",
       "    .dataframe tbody tr th:only-of-type {\n",
       "        vertical-align: middle;\n",
       "    }\n",
       "\n",
       "    .dataframe tbody tr th {\n",
       "        vertical-align: top;\n",
       "    }\n",
       "\n",
       "    .dataframe thead th {\n",
       "        text-align: right;\n",
       "    }\n",
       "</style>\n",
       "<table border=\"1\" class=\"dataframe\">\n",
       "  <thead>\n",
       "    <tr style=\"text-align: right;\">\n",
       "      <th></th>\n",
       "      <th>A</th>\n",
       "      <th>B</th>\n",
       "      <th>key</th>\n",
       "    </tr>\n",
       "  </thead>\n",
       "  <tbody>\n",
       "    <tr>\n",
       "      <th>0</th>\n",
       "      <td>A0</td>\n",
       "      <td>B0</td>\n",
       "      <td>K0</td>\n",
       "    </tr>\n",
       "    <tr>\n",
       "      <th>1</th>\n",
       "      <td>A1</td>\n",
       "      <td>B1</td>\n",
       "      <td>K1</td>\n",
       "    </tr>\n",
       "    <tr>\n",
       "      <th>2</th>\n",
       "      <td>A2</td>\n",
       "      <td>B2</td>\n",
       "      <td>K2</td>\n",
       "    </tr>\n",
       "  </tbody>\n",
       "</table>\n",
       "</div>"
      ],
      "text/plain": [
       "    A   B key\n",
       "0  A0  B0  K0\n",
       "1  A1  B1  K1\n",
       "2  A2  B2  K2"
      ]
     },
     "execution_count": 189,
     "metadata": {},
     "output_type": "execute_result"
    }
   ],
   "source": [
    "df1"
   ]
  },
  {
   "cell_type": "code",
   "execution_count": 190,
   "id": "162ba5eb",
   "metadata": {
    "execution": {
     "iopub.execute_input": "2023-10-11T14:44:48.871874Z",
     "iopub.status.busy": "2023-10-11T14:44:48.871497Z",
     "iopub.status.idle": "2023-10-11T14:44:48.879947Z",
     "shell.execute_reply": "2023-10-11T14:44:48.878912Z"
    },
    "papermill": {
     "duration": 0.090373,
     "end_time": "2023-10-11T14:44:48.881724",
     "exception": false,
     "start_time": "2023-10-11T14:44:48.791351",
     "status": "completed"
    },
    "tags": []
   },
   "outputs": [
    {
     "data": {
      "text/html": [
       "<div>\n",
       "<style scoped>\n",
       "    .dataframe tbody tr th:only-of-type {\n",
       "        vertical-align: middle;\n",
       "    }\n",
       "\n",
       "    .dataframe tbody tr th {\n",
       "        vertical-align: top;\n",
       "    }\n",
       "\n",
       "    .dataframe thead th {\n",
       "        text-align: right;\n",
       "    }\n",
       "</style>\n",
       "<table border=\"1\" class=\"dataframe\">\n",
       "  <thead>\n",
       "    <tr style=\"text-align: right;\">\n",
       "      <th></th>\n",
       "      <th>C</th>\n",
       "      <th>D</th>\n",
       "      <th>key</th>\n",
       "    </tr>\n",
       "  </thead>\n",
       "  <tbody>\n",
       "    <tr>\n",
       "      <th>0</th>\n",
       "      <td>C0</td>\n",
       "      <td>D0</td>\n",
       "      <td>K0</td>\n",
       "    </tr>\n",
       "    <tr>\n",
       "      <th>1</th>\n",
       "      <td>C1</td>\n",
       "      <td>D1</td>\n",
       "      <td>K1</td>\n",
       "    </tr>\n",
       "    <tr>\n",
       "      <th>2</th>\n",
       "      <td>C2</td>\n",
       "      <td>D2</td>\n",
       "      <td>K2</td>\n",
       "    </tr>\n",
       "  </tbody>\n",
       "</table>\n",
       "</div>"
      ],
      "text/plain": [
       "    C   D key\n",
       "0  C0  D0  K0\n",
       "1  C1  D1  K1\n",
       "2  C2  D2  K2"
      ]
     },
     "execution_count": 190,
     "metadata": {},
     "output_type": "execute_result"
    }
   ],
   "source": [
    "df2"
   ]
  },
  {
   "cell_type": "code",
   "execution_count": 191,
   "id": "998c9c3b",
   "metadata": {
    "execution": {
     "iopub.execute_input": "2023-10-11T14:44:49.039486Z",
     "iopub.status.busy": "2023-10-11T14:44:49.039121Z",
     "iopub.status.idle": "2023-10-11T14:44:49.058298Z",
     "shell.execute_reply": "2023-10-11T14:44:49.057598Z"
    },
    "papermill": {
     "duration": 0.100953,
     "end_time": "2023-10-11T14:44:49.059992",
     "exception": false,
     "start_time": "2023-10-11T14:44:48.959039",
     "status": "completed"
    },
    "tags": []
   },
   "outputs": [
    {
     "data": {
      "text/html": [
       "<div>\n",
       "<style scoped>\n",
       "    .dataframe tbody tr th:only-of-type {\n",
       "        vertical-align: middle;\n",
       "    }\n",
       "\n",
       "    .dataframe tbody tr th {\n",
       "        vertical-align: top;\n",
       "    }\n",
       "\n",
       "    .dataframe thead th {\n",
       "        text-align: right;\n",
       "    }\n",
       "</style>\n",
       "<table border=\"1\" class=\"dataframe\">\n",
       "  <thead>\n",
       "    <tr style=\"text-align: right;\">\n",
       "      <th></th>\n",
       "      <th>A</th>\n",
       "      <th>B</th>\n",
       "      <th>key</th>\n",
       "      <th>C</th>\n",
       "      <th>D</th>\n",
       "    </tr>\n",
       "  </thead>\n",
       "  <tbody>\n",
       "    <tr>\n",
       "      <th>0</th>\n",
       "      <td>A0</td>\n",
       "      <td>B0</td>\n",
       "      <td>K0</td>\n",
       "      <td>C0</td>\n",
       "      <td>D0</td>\n",
       "    </tr>\n",
       "    <tr>\n",
       "      <th>1</th>\n",
       "      <td>A1</td>\n",
       "      <td>B1</td>\n",
       "      <td>K1</td>\n",
       "      <td>C1</td>\n",
       "      <td>D1</td>\n",
       "    </tr>\n",
       "    <tr>\n",
       "      <th>2</th>\n",
       "      <td>A2</td>\n",
       "      <td>B2</td>\n",
       "      <td>K2</td>\n",
       "      <td>C2</td>\n",
       "      <td>D2</td>\n",
       "    </tr>\n",
       "  </tbody>\n",
       "</table>\n",
       "</div>"
      ],
      "text/plain": [
       "    A   B key   C   D\n",
       "0  A0  B0  K0  C0  D0\n",
       "1  A1  B1  K1  C1  D1\n",
       "2  A2  B2  K2  C2  D2"
      ]
     },
     "execution_count": 191,
     "metadata": {},
     "output_type": "execute_result"
    }
   ],
   "source": [
    "# 'key' sütununa göre DataFrame'leri birleştirme:\n",
    "\n",
    "result_merge = pd.merge(df1, df2, on='key')\n",
    "\n",
    "result_merge"
   ]
  },
  {
   "cell_type": "markdown",
   "id": "7ceee7d6",
   "metadata": {
    "papermill": {
     "duration": 0.078168,
     "end_time": "2023-10-11T14:44:49.216075",
     "exception": false,
     "start_time": "2023-10-11T14:44:49.137907",
     "status": "completed"
    },
    "tags": []
   },
   "source": [
    "---"
   ]
  },
  {
   "cell_type": "code",
   "execution_count": 192,
   "id": "c64e7b22",
   "metadata": {
    "execution": {
     "iopub.execute_input": "2023-10-11T14:44:49.373483Z",
     "iopub.status.busy": "2023-10-11T14:44:49.372531Z",
     "iopub.status.idle": "2023-10-11T14:44:49.379790Z",
     "shell.execute_reply": "2023-10-11T14:44:49.378706Z"
    },
    "papermill": {
     "duration": 0.087573,
     "end_time": "2023-10-11T14:44:49.381697",
     "exception": false,
     "start_time": "2023-10-11T14:44:49.294124",
     "status": "completed"
    },
    "tags": []
   },
   "outputs": [],
   "source": [
    "# DataFrame'ler oluşturalım:\n",
    "\n",
    "df1 = pd.DataFrame({'A': ['A0', 'A1', 'A2'],\n",
    "                    'B': ['B0', 'B1', 'B2']},\n",
    "                   index=['K0', 'K1', 'K2'])\n",
    "\n",
    "df2 = pd.DataFrame({'C': ['C0', 'C1', 'C2'],\n",
    "                    'D': ['D0', 'D1', 'D2']},\n",
    "                   index=['K0', 'K1', 'K3'])"
   ]
  },
  {
   "cell_type": "code",
   "execution_count": 193,
   "id": "afd5f39f",
   "metadata": {
    "execution": {
     "iopub.execute_input": "2023-10-11T14:44:49.597797Z",
     "iopub.status.busy": "2023-10-11T14:44:49.597374Z",
     "iopub.status.idle": "2023-10-11T14:44:49.606152Z",
     "shell.execute_reply": "2023-10-11T14:44:49.604927Z"
    },
    "papermill": {
     "duration": 0.149619,
     "end_time": "2023-10-11T14:44:49.608199",
     "exception": false,
     "start_time": "2023-10-11T14:44:49.458580",
     "status": "completed"
    },
    "tags": []
   },
   "outputs": [
    {
     "data": {
      "text/html": [
       "<div>\n",
       "<style scoped>\n",
       "    .dataframe tbody tr th:only-of-type {\n",
       "        vertical-align: middle;\n",
       "    }\n",
       "\n",
       "    .dataframe tbody tr th {\n",
       "        vertical-align: top;\n",
       "    }\n",
       "\n",
       "    .dataframe thead th {\n",
       "        text-align: right;\n",
       "    }\n",
       "</style>\n",
       "<table border=\"1\" class=\"dataframe\">\n",
       "  <thead>\n",
       "    <tr style=\"text-align: right;\">\n",
       "      <th></th>\n",
       "      <th>A</th>\n",
       "      <th>B</th>\n",
       "    </tr>\n",
       "  </thead>\n",
       "  <tbody>\n",
       "    <tr>\n",
       "      <th>K0</th>\n",
       "      <td>A0</td>\n",
       "      <td>B0</td>\n",
       "    </tr>\n",
       "    <tr>\n",
       "      <th>K1</th>\n",
       "      <td>A1</td>\n",
       "      <td>B1</td>\n",
       "    </tr>\n",
       "    <tr>\n",
       "      <th>K2</th>\n",
       "      <td>A2</td>\n",
       "      <td>B2</td>\n",
       "    </tr>\n",
       "  </tbody>\n",
       "</table>\n",
       "</div>"
      ],
      "text/plain": [
       "     A   B\n",
       "K0  A0  B0\n",
       "K1  A1  B1\n",
       "K2  A2  B2"
      ]
     },
     "execution_count": 193,
     "metadata": {},
     "output_type": "execute_result"
    }
   ],
   "source": [
    "df1"
   ]
  },
  {
   "cell_type": "code",
   "execution_count": 194,
   "id": "3e907552",
   "metadata": {
    "execution": {
     "iopub.execute_input": "2023-10-11T14:44:49.764544Z",
     "iopub.status.busy": "2023-10-11T14:44:49.763746Z",
     "iopub.status.idle": "2023-10-11T14:44:49.772903Z",
     "shell.execute_reply": "2023-10-11T14:44:49.772019Z"
    },
    "papermill": {
     "duration": 0.089057,
     "end_time": "2023-10-11T14:44:49.774604",
     "exception": false,
     "start_time": "2023-10-11T14:44:49.685547",
     "status": "completed"
    },
    "tags": []
   },
   "outputs": [
    {
     "data": {
      "text/html": [
       "<div>\n",
       "<style scoped>\n",
       "    .dataframe tbody tr th:only-of-type {\n",
       "        vertical-align: middle;\n",
       "    }\n",
       "\n",
       "    .dataframe tbody tr th {\n",
       "        vertical-align: top;\n",
       "    }\n",
       "\n",
       "    .dataframe thead th {\n",
       "        text-align: right;\n",
       "    }\n",
       "</style>\n",
       "<table border=\"1\" class=\"dataframe\">\n",
       "  <thead>\n",
       "    <tr style=\"text-align: right;\">\n",
       "      <th></th>\n",
       "      <th>C</th>\n",
       "      <th>D</th>\n",
       "    </tr>\n",
       "  </thead>\n",
       "  <tbody>\n",
       "    <tr>\n",
       "      <th>K0</th>\n",
       "      <td>C0</td>\n",
       "      <td>D0</td>\n",
       "    </tr>\n",
       "    <tr>\n",
       "      <th>K1</th>\n",
       "      <td>C1</td>\n",
       "      <td>D1</td>\n",
       "    </tr>\n",
       "    <tr>\n",
       "      <th>K3</th>\n",
       "      <td>C2</td>\n",
       "      <td>D2</td>\n",
       "    </tr>\n",
       "  </tbody>\n",
       "</table>\n",
       "</div>"
      ],
      "text/plain": [
       "     C   D\n",
       "K0  C0  D0\n",
       "K1  C1  D1\n",
       "K3  C2  D2"
      ]
     },
     "execution_count": 194,
     "metadata": {},
     "output_type": "execute_result"
    }
   ],
   "source": [
    "df2"
   ]
  },
  {
   "cell_type": "code",
   "execution_count": 195,
   "id": "fc81c45d",
   "metadata": {
    "execution": {
     "iopub.execute_input": "2023-10-11T14:44:49.933292Z",
     "iopub.status.busy": "2023-10-11T14:44:49.932585Z",
     "iopub.status.idle": "2023-10-11T14:44:49.945412Z",
     "shell.execute_reply": "2023-10-11T14:44:49.944728Z"
    },
    "papermill": {
     "duration": 0.094993,
     "end_time": "2023-10-11T14:44:49.947077",
     "exception": false,
     "start_time": "2023-10-11T14:44:49.852084",
     "status": "completed"
    },
    "tags": []
   },
   "outputs": [
    {
     "data": {
      "text/html": [
       "<div>\n",
       "<style scoped>\n",
       "    .dataframe tbody tr th:only-of-type {\n",
       "        vertical-align: middle;\n",
       "    }\n",
       "\n",
       "    .dataframe tbody tr th {\n",
       "        vertical-align: top;\n",
       "    }\n",
       "\n",
       "    .dataframe thead th {\n",
       "        text-align: right;\n",
       "    }\n",
       "</style>\n",
       "<table border=\"1\" class=\"dataframe\">\n",
       "  <thead>\n",
       "    <tr style=\"text-align: right;\">\n",
       "      <th></th>\n",
       "      <th>A</th>\n",
       "      <th>B</th>\n",
       "      <th>C</th>\n",
       "      <th>D</th>\n",
       "    </tr>\n",
       "  </thead>\n",
       "  <tbody>\n",
       "    <tr>\n",
       "      <th>K0</th>\n",
       "      <td>A0</td>\n",
       "      <td>B0</td>\n",
       "      <td>C0</td>\n",
       "      <td>D0</td>\n",
       "    </tr>\n",
       "    <tr>\n",
       "      <th>K1</th>\n",
       "      <td>A1</td>\n",
       "      <td>B1</td>\n",
       "      <td>C1</td>\n",
       "      <td>D1</td>\n",
       "    </tr>\n",
       "    <tr>\n",
       "      <th>K2</th>\n",
       "      <td>A2</td>\n",
       "      <td>B2</td>\n",
       "      <td>NaN</td>\n",
       "      <td>NaN</td>\n",
       "    </tr>\n",
       "    <tr>\n",
       "      <th>K3</th>\n",
       "      <td>NaN</td>\n",
       "      <td>NaN</td>\n",
       "      <td>C2</td>\n",
       "      <td>D2</td>\n",
       "    </tr>\n",
       "  </tbody>\n",
       "</table>\n",
       "</div>"
      ],
      "text/plain": [
       "      A    B    C    D\n",
       "K0   A0   B0   C0   D0\n",
       "K1   A1   B1   C1   D1\n",
       "K2   A2   B2  NaN  NaN\n",
       "K3  NaN  NaN   C2   D2"
      ]
     },
     "execution_count": 195,
     "metadata": {},
     "output_type": "execute_result"
    }
   ],
   "source": [
    "# Indeksler üzerinden DataFrame'leri birleştirme:\n",
    "\n",
    "result_join = df1.join(df2, how='outer')\n",
    "\n",
    "result_join"
   ]
  },
  {
   "cell_type": "markdown",
   "id": "f6a0840c",
   "metadata": {
    "papermill": {
     "duration": 0.077266,
     "end_time": "2023-10-11T14:44:50.102232",
     "exception": false,
     "start_time": "2023-10-11T14:44:50.024966",
     "status": "completed"
    },
    "tags": []
   },
   "source": [
    "---"
   ]
  },
  {
   "cell_type": "code",
   "execution_count": 196,
   "id": "b56df2ac",
   "metadata": {
    "execution": {
     "iopub.execute_input": "2023-10-11T14:44:50.259763Z",
     "iopub.status.busy": "2023-10-11T14:44:50.259076Z",
     "iopub.status.idle": "2023-10-11T14:44:50.264520Z",
     "shell.execute_reply": "2023-10-11T14:44:50.263817Z"
    },
    "papermill": {
     "duration": 0.087093,
     "end_time": "2023-10-11T14:44:50.266462",
     "exception": false,
     "start_time": "2023-10-11T14:44:50.179369",
     "status": "completed"
    },
    "tags": []
   },
   "outputs": [],
   "source": [
    "df1 = pd.DataFrame({'employees': ['john', 'dennis', 'mark', 'maria'],\n",
    "                    'group': ['accounting', 'engineering', 'engineering', 'hr']})\n",
    "\n",
    "df2 = pd.DataFrame({'employees': ['mark', 'john', 'dennis', 'maria'],\n",
    "                    'start_date': [2010, 2009, 2014, 2019]})"
   ]
  },
  {
   "cell_type": "code",
   "execution_count": 197,
   "id": "41b05931",
   "metadata": {
    "execution": {
     "iopub.execute_input": "2023-10-11T14:44:50.422900Z",
     "iopub.status.busy": "2023-10-11T14:44:50.422209Z",
     "iopub.status.idle": "2023-10-11T14:44:50.430340Z",
     "shell.execute_reply": "2023-10-11T14:44:50.429316Z"
    },
    "papermill": {
     "duration": 0.088656,
     "end_time": "2023-10-11T14:44:50.432251",
     "exception": false,
     "start_time": "2023-10-11T14:44:50.343595",
     "status": "completed"
    },
    "tags": []
   },
   "outputs": [
    {
     "data": {
      "text/html": [
       "<div>\n",
       "<style scoped>\n",
       "    .dataframe tbody tr th:only-of-type {\n",
       "        vertical-align: middle;\n",
       "    }\n",
       "\n",
       "    .dataframe tbody tr th {\n",
       "        vertical-align: top;\n",
       "    }\n",
       "\n",
       "    .dataframe thead th {\n",
       "        text-align: right;\n",
       "    }\n",
       "</style>\n",
       "<table border=\"1\" class=\"dataframe\">\n",
       "  <thead>\n",
       "    <tr style=\"text-align: right;\">\n",
       "      <th></th>\n",
       "      <th>employees</th>\n",
       "      <th>group</th>\n",
       "    </tr>\n",
       "  </thead>\n",
       "  <tbody>\n",
       "    <tr>\n",
       "      <th>0</th>\n",
       "      <td>john</td>\n",
       "      <td>accounting</td>\n",
       "    </tr>\n",
       "    <tr>\n",
       "      <th>1</th>\n",
       "      <td>dennis</td>\n",
       "      <td>engineering</td>\n",
       "    </tr>\n",
       "    <tr>\n",
       "      <th>2</th>\n",
       "      <td>mark</td>\n",
       "      <td>engineering</td>\n",
       "    </tr>\n",
       "    <tr>\n",
       "      <th>3</th>\n",
       "      <td>maria</td>\n",
       "      <td>hr</td>\n",
       "    </tr>\n",
       "  </tbody>\n",
       "</table>\n",
       "</div>"
      ],
      "text/plain": [
       "  employees        group\n",
       "0      john   accounting\n",
       "1    dennis  engineering\n",
       "2      mark  engineering\n",
       "3     maria           hr"
      ]
     },
     "execution_count": 197,
     "metadata": {},
     "output_type": "execute_result"
    }
   ],
   "source": [
    "df1"
   ]
  },
  {
   "cell_type": "code",
   "execution_count": 198,
   "id": "5fc1b306",
   "metadata": {
    "execution": {
     "iopub.execute_input": "2023-10-11T14:44:50.593210Z",
     "iopub.status.busy": "2023-10-11T14:44:50.592751Z",
     "iopub.status.idle": "2023-10-11T14:44:50.602202Z",
     "shell.execute_reply": "2023-10-11T14:44:50.601300Z"
    },
    "papermill": {
     "duration": 0.092435,
     "end_time": "2023-10-11T14:44:50.604033",
     "exception": false,
     "start_time": "2023-10-11T14:44:50.511598",
     "status": "completed"
    },
    "tags": []
   },
   "outputs": [
    {
     "data": {
      "text/html": [
       "<div>\n",
       "<style scoped>\n",
       "    .dataframe tbody tr th:only-of-type {\n",
       "        vertical-align: middle;\n",
       "    }\n",
       "\n",
       "    .dataframe tbody tr th {\n",
       "        vertical-align: top;\n",
       "    }\n",
       "\n",
       "    .dataframe thead th {\n",
       "        text-align: right;\n",
       "    }\n",
       "</style>\n",
       "<table border=\"1\" class=\"dataframe\">\n",
       "  <thead>\n",
       "    <tr style=\"text-align: right;\">\n",
       "      <th></th>\n",
       "      <th>employees</th>\n",
       "      <th>start_date</th>\n",
       "    </tr>\n",
       "  </thead>\n",
       "  <tbody>\n",
       "    <tr>\n",
       "      <th>0</th>\n",
       "      <td>mark</td>\n",
       "      <td>2010</td>\n",
       "    </tr>\n",
       "    <tr>\n",
       "      <th>1</th>\n",
       "      <td>john</td>\n",
       "      <td>2009</td>\n",
       "    </tr>\n",
       "    <tr>\n",
       "      <th>2</th>\n",
       "      <td>dennis</td>\n",
       "      <td>2014</td>\n",
       "    </tr>\n",
       "    <tr>\n",
       "      <th>3</th>\n",
       "      <td>maria</td>\n",
       "      <td>2019</td>\n",
       "    </tr>\n",
       "  </tbody>\n",
       "</table>\n",
       "</div>"
      ],
      "text/plain": [
       "  employees  start_date\n",
       "0      mark        2010\n",
       "1      john        2009\n",
       "2    dennis        2014\n",
       "3     maria        2019"
      ]
     },
     "execution_count": 198,
     "metadata": {},
     "output_type": "execute_result"
    }
   ],
   "source": [
    "df2"
   ]
  },
  {
   "cell_type": "code",
   "execution_count": 199,
   "id": "a0281a7d",
   "metadata": {
    "execution": {
     "iopub.execute_input": "2023-10-11T14:44:50.765621Z",
     "iopub.status.busy": "2023-10-11T14:44:50.764996Z",
     "iopub.status.idle": "2023-10-11T14:44:50.775597Z",
     "shell.execute_reply": "2023-10-11T14:44:50.774680Z"
    },
    "papermill": {
     "duration": 0.093148,
     "end_time": "2023-10-11T14:44:50.777526",
     "exception": false,
     "start_time": "2023-10-11T14:44:50.684378",
     "status": "completed"
    },
    "tags": []
   },
   "outputs": [
    {
     "data": {
      "text/html": [
       "<div>\n",
       "<style scoped>\n",
       "    .dataframe tbody tr th:only-of-type {\n",
       "        vertical-align: middle;\n",
       "    }\n",
       "\n",
       "    .dataframe tbody tr th {\n",
       "        vertical-align: top;\n",
       "    }\n",
       "\n",
       "    .dataframe thead th {\n",
       "        text-align: right;\n",
       "    }\n",
       "</style>\n",
       "<table border=\"1\" class=\"dataframe\">\n",
       "  <thead>\n",
       "    <tr style=\"text-align: right;\">\n",
       "      <th></th>\n",
       "      <th>employees</th>\n",
       "      <th>group</th>\n",
       "      <th>start_date</th>\n",
       "    </tr>\n",
       "  </thead>\n",
       "  <tbody>\n",
       "    <tr>\n",
       "      <th>0</th>\n",
       "      <td>john</td>\n",
       "      <td>accounting</td>\n",
       "      <td>2009</td>\n",
       "    </tr>\n",
       "    <tr>\n",
       "      <th>1</th>\n",
       "      <td>dennis</td>\n",
       "      <td>engineering</td>\n",
       "      <td>2014</td>\n",
       "    </tr>\n",
       "    <tr>\n",
       "      <th>2</th>\n",
       "      <td>mark</td>\n",
       "      <td>engineering</td>\n",
       "      <td>2010</td>\n",
       "    </tr>\n",
       "    <tr>\n",
       "      <th>3</th>\n",
       "      <td>maria</td>\n",
       "      <td>hr</td>\n",
       "      <td>2019</td>\n",
       "    </tr>\n",
       "  </tbody>\n",
       "</table>\n",
       "</div>"
      ],
      "text/plain": [
       "  employees        group  start_date\n",
       "0      john   accounting        2009\n",
       "1    dennis  engineering        2014\n",
       "2      mark  engineering        2010\n",
       "3     maria           hr        2019"
      ]
     },
     "execution_count": 199,
     "metadata": {},
     "output_type": "execute_result"
    }
   ],
   "source": [
    "pd.merge(df1, df2, on=\"employees\")"
   ]
  },
  {
   "cell_type": "code",
   "execution_count": 200,
   "id": "391f3397",
   "metadata": {
    "execution": {
     "iopub.execute_input": "2023-10-11T14:44:50.936750Z",
     "iopub.status.busy": "2023-10-11T14:44:50.936073Z",
     "iopub.status.idle": "2023-10-11T14:44:50.942671Z",
     "shell.execute_reply": "2023-10-11T14:44:50.941959Z"
    },
    "papermill": {
     "duration": 0.088278,
     "end_time": "2023-10-11T14:44:50.944396",
     "exception": false,
     "start_time": "2023-10-11T14:44:50.856118",
     "status": "completed"
    },
    "tags": []
   },
   "outputs": [],
   "source": [
    "df3 = pd.merge(df1, df2)"
   ]
  },
  {
   "cell_type": "code",
   "execution_count": 201,
   "id": "273917fe",
   "metadata": {
    "execution": {
     "iopub.execute_input": "2023-10-11T14:44:51.102541Z",
     "iopub.status.busy": "2023-10-11T14:44:51.101890Z",
     "iopub.status.idle": "2023-10-11T14:44:51.106474Z",
     "shell.execute_reply": "2023-10-11T14:44:51.105819Z"
    },
    "papermill": {
     "duration": 0.085891,
     "end_time": "2023-10-11T14:44:51.108181",
     "exception": false,
     "start_time": "2023-10-11T14:44:51.022290",
     "status": "completed"
    },
    "tags": []
   },
   "outputs": [],
   "source": [
    "df4 = pd.DataFrame({'group': ['accounting', 'engineering', 'hr'],\n",
    "                    'manager': ['Caner', 'Mustafa', 'Berkcan']})"
   ]
  },
  {
   "cell_type": "code",
   "execution_count": 202,
   "id": "ddd82120",
   "metadata": {
    "execution": {
     "iopub.execute_input": "2023-10-11T14:44:51.269303Z",
     "iopub.status.busy": "2023-10-11T14:44:51.268431Z",
     "iopub.status.idle": "2023-10-11T14:44:51.282116Z",
     "shell.execute_reply": "2023-10-11T14:44:51.281094Z"
    },
    "papermill": {
     "duration": 0.096641,
     "end_time": "2023-10-11T14:44:51.284105",
     "exception": false,
     "start_time": "2023-10-11T14:44:51.187464",
     "status": "completed"
    },
    "tags": []
   },
   "outputs": [
    {
     "data": {
      "text/html": [
       "<div>\n",
       "<style scoped>\n",
       "    .dataframe tbody tr th:only-of-type {\n",
       "        vertical-align: middle;\n",
       "    }\n",
       "\n",
       "    .dataframe tbody tr th {\n",
       "        vertical-align: top;\n",
       "    }\n",
       "\n",
       "    .dataframe thead th {\n",
       "        text-align: right;\n",
       "    }\n",
       "</style>\n",
       "<table border=\"1\" class=\"dataframe\">\n",
       "  <thead>\n",
       "    <tr style=\"text-align: right;\">\n",
       "      <th></th>\n",
       "      <th>employees</th>\n",
       "      <th>group</th>\n",
       "      <th>start_date</th>\n",
       "      <th>manager</th>\n",
       "    </tr>\n",
       "  </thead>\n",
       "  <tbody>\n",
       "    <tr>\n",
       "      <th>0</th>\n",
       "      <td>john</td>\n",
       "      <td>accounting</td>\n",
       "      <td>2009</td>\n",
       "      <td>Caner</td>\n",
       "    </tr>\n",
       "    <tr>\n",
       "      <th>1</th>\n",
       "      <td>dennis</td>\n",
       "      <td>engineering</td>\n",
       "      <td>2014</td>\n",
       "      <td>Mustafa</td>\n",
       "    </tr>\n",
       "    <tr>\n",
       "      <th>2</th>\n",
       "      <td>mark</td>\n",
       "      <td>engineering</td>\n",
       "      <td>2010</td>\n",
       "      <td>Mustafa</td>\n",
       "    </tr>\n",
       "    <tr>\n",
       "      <th>3</th>\n",
       "      <td>maria</td>\n",
       "      <td>hr</td>\n",
       "      <td>2019</td>\n",
       "      <td>Berkcan</td>\n",
       "    </tr>\n",
       "  </tbody>\n",
       "</table>\n",
       "</div>"
      ],
      "text/plain": [
       "  employees        group  start_date  manager\n",
       "0      john   accounting        2009    Caner\n",
       "1    dennis  engineering        2014  Mustafa\n",
       "2      mark  engineering        2010  Mustafa\n",
       "3     maria           hr        2019  Berkcan"
      ]
     },
     "execution_count": 202,
     "metadata": {},
     "output_type": "execute_result"
    }
   ],
   "source": [
    "pd.merge(df3, df4)"
   ]
  },
  {
   "cell_type": "markdown",
   "id": "e6728335",
   "metadata": {
    "papermill": {
     "duration": 0.077855,
     "end_time": "2023-10-11T14:44:51.440749",
     "exception": false,
     "start_time": "2023-10-11T14:44:51.362894",
     "status": "completed"
    },
    "tags": []
   },
   "source": [
    "<a id = \"22\"></a><br>\n",
    "<h1 style=\"background-color:#77BFC7;font-family:courier;font-size:250%;font-style: oblique;font-weight: bold;font-variant: small-caps;text-align:center;border-radius: 15px 50px;\"> Toplulaştırma ve Gruplama </h1>"
   ]
  },
  {
   "cell_type": "markdown",
   "id": "1d75d495",
   "metadata": {
    "papermill": {
     "duration": 0.078549,
     "end_time": "2023-10-11T14:44:51.598100",
     "exception": false,
     "start_time": "2023-10-11T14:44:51.519551",
     "status": "completed"
    },
    "tags": []
   },
   "source": [
    "**1. Gruplandırma İşlemleri**\n",
    "\n",
    "Pandas DataFrame gruplandırma işlemleri, verileri belirli sütunlara veya birden çok sütuna göre gruplara ayırmayı ve her grup üzerinde bağımsız olarak işlem yapmayı içerir. Gruplama, her grup içindeki verileri ayrı ayrı analiz etmenize ve özetlemenize olanak tanır.\n",
    "\n",
    "Ardından, verileri bir veya daha fazla sütuna göre gruplandırmak için DataFrame'in groupby() yöntemini kullanabilirsiniz. groupby() yöntemi, gruplanmış verileri temsil eden bir DataFrameGroupBy nesnesi döndürür.\n",
    "\n",
    "Gruplandırılmış DataFrame'e sahip olduğunuzda, üzerinde çeşitli toplama veya dönüştürme işlemleri gerçekleştirebilirsiniz. Toplama işlevleri, her grup için özet istatistikleri hesaplarken, dönüştürme işlevleri grup bazında işlemler gerçekleştirir ve orijinaliyle aynı şekle sahip bir DataFrame döndürür."
   ]
  },
  {
   "cell_type": "markdown",
   "id": "23026d43",
   "metadata": {
    "papermill": {
     "duration": 0.082499,
     "end_time": "2023-10-11T14:44:51.759092",
     "exception": false,
     "start_time": "2023-10-11T14:44:51.676593",
     "status": "completed"
    },
    "tags": []
   },
   "source": [
    "**2. Toplulaştırma (Aggregation) Fonksiyonları**\n",
    "\n",
    "Pandastaki DataFrame toplama işlevleri, gruplandırma işlemlerini gerçekleştirdikten sonra her gruptaki verilerle ilgili özet istatistikleri hesaplamak için kullanılır. Bu işlevler, verileri her grup için tek bir değerde toplayarak, belirli kategorilere veya gruplara dayalı olarak verileri hızlı bir şekilde analiz etmenize ve özetlemenize olanak tanır."
   ]
  },
  {
   "cell_type": "markdown",
   "id": "64a8e0a4",
   "metadata": {
    "papermill": {
     "duration": 0.096376,
     "end_time": "2023-10-11T14:44:51.943981",
     "exception": false,
     "start_time": "2023-10-11T14:44:51.847605",
     "status": "completed"
    },
    "tags": []
   },
   "source": [
    "<div style=\"border-radius:10px; border:#DEB887 solid; padding: 15px; background-color: #FFFAF0; font-size:100%; text-align:left\">\n",
    "\n",
    "<h3 align=\"left\"><font color='#DEB887'>💡 Notlar: </font></h3>\n",
    "\n",
    "* **sum():** Her gruptaki değerlerin toplamını hesaplar.\n",
    "* **mean():** Her gruptaki değerlerin ortalamasını (ortalama) hesaplar.\n",
    "* **median():** Her gruptaki değerlerin medyanını hesaplar.\n",
    "* **min():** Her gruptaki minimum değeri hesaplar.\n",
    "* **max():** Her gruptaki maksimum değeri hesaplar.\n",
    "* **count():** Her gruptaki oluşum sayısını sayar.\n",
    "* **first():** Her grubun ilk elemanını döndürür.\n",
    "* **last():** Her grubun son elemanını döndürür.\n",
    "* **var():** Her grubun varyansını hesaplar.\n",
    "* **std():** Her grubun standart sapmasını hesaplar."
   ]
  },
  {
   "cell_type": "code",
   "execution_count": 203,
   "id": "cfdc4bb0",
   "metadata": {
    "execution": {
     "iopub.execute_input": "2023-10-11T14:44:52.104694Z",
     "iopub.status.busy": "2023-10-11T14:44:52.104330Z",
     "iopub.status.idle": "2023-10-11T14:44:52.110401Z",
     "shell.execute_reply": "2023-10-11T14:44:52.109722Z"
    },
    "papermill": {
     "duration": 0.088188,
     "end_time": "2023-10-11T14:44:52.112287",
     "exception": false,
     "start_time": "2023-10-11T14:44:52.024099",
     "status": "completed"
    },
    "tags": []
   },
   "outputs": [],
   "source": [
    "import pandas as pd\n",
    "\n",
    "data = {\n",
    "    'Category': ['A', 'A', 'B', 'B', 'A', 'B'],\n",
    "    'Value': [10, 20, 15, 25, 5, 30]\n",
    "}\n",
    "\n",
    "df = pd.DataFrame(data)"
   ]
  },
  {
   "cell_type": "code",
   "execution_count": 204,
   "id": "e1d61a62",
   "metadata": {
    "execution": {
     "iopub.execute_input": "2023-10-11T14:44:52.271122Z",
     "iopub.status.busy": "2023-10-11T14:44:52.270790Z",
     "iopub.status.idle": "2023-10-11T14:44:52.278290Z",
     "shell.execute_reply": "2023-10-11T14:44:52.277419Z"
    },
    "papermill": {
     "duration": 0.089166,
     "end_time": "2023-10-11T14:44:52.280091",
     "exception": false,
     "start_time": "2023-10-11T14:44:52.190925",
     "status": "completed"
    },
    "tags": []
   },
   "outputs": [
    {
     "data": {
      "text/plain": [
       "Category\n",
       "A    35\n",
       "B    70\n",
       "Name: Value, dtype: int64"
      ]
     },
     "execution_count": 204,
     "metadata": {},
     "output_type": "execute_result"
    }
   ],
   "source": [
    "df.groupby('Category')['Value'].sum()"
   ]
  },
  {
   "cell_type": "code",
   "execution_count": 205,
   "id": "c16f01c8",
   "metadata": {
    "execution": {
     "iopub.execute_input": "2023-10-11T14:44:52.437274Z",
     "iopub.status.busy": "2023-10-11T14:44:52.436951Z",
     "iopub.status.idle": "2023-10-11T14:44:52.444896Z",
     "shell.execute_reply": "2023-10-11T14:44:52.443943Z"
    },
    "papermill": {
     "duration": 0.088752,
     "end_time": "2023-10-11T14:44:52.446796",
     "exception": false,
     "start_time": "2023-10-11T14:44:52.358044",
     "status": "completed"
    },
    "tags": []
   },
   "outputs": [
    {
     "data": {
      "text/plain": [
       "Category\n",
       "A    11.666667\n",
       "B    23.333333\n",
       "Name: Value, dtype: float64"
      ]
     },
     "execution_count": 205,
     "metadata": {},
     "output_type": "execute_result"
    }
   ],
   "source": [
    "df.groupby('Category')['Value'].mean()"
   ]
  },
  {
   "cell_type": "code",
   "execution_count": 206,
   "id": "52b0d2fd",
   "metadata": {
    "execution": {
     "iopub.execute_input": "2023-10-11T14:44:52.666173Z",
     "iopub.status.busy": "2023-10-11T14:44:52.665837Z",
     "iopub.status.idle": "2023-10-11T14:44:52.675459Z",
     "shell.execute_reply": "2023-10-11T14:44:52.674100Z"
    },
    "papermill": {
     "duration": 0.152441,
     "end_time": "2023-10-11T14:44:52.677769",
     "exception": false,
     "start_time": "2023-10-11T14:44:52.525328",
     "status": "completed"
    },
    "tags": []
   },
   "outputs": [
    {
     "data": {
      "text/plain": [
       "Category\n",
       "A    10.0\n",
       "B    25.0\n",
       "Name: Value, dtype: float64"
      ]
     },
     "execution_count": 206,
     "metadata": {},
     "output_type": "execute_result"
    }
   ],
   "source": [
    "df.groupby('Category')['Value'].median()"
   ]
  },
  {
   "cell_type": "code",
   "execution_count": 207,
   "id": "8838ffce",
   "metadata": {
    "execution": {
     "iopub.execute_input": "2023-10-11T14:44:52.840966Z",
     "iopub.status.busy": "2023-10-11T14:44:52.840561Z",
     "iopub.status.idle": "2023-10-11T14:44:52.850411Z",
     "shell.execute_reply": "2023-10-11T14:44:52.849419Z"
    },
    "papermill": {
     "duration": 0.093352,
     "end_time": "2023-10-11T14:44:52.852661",
     "exception": false,
     "start_time": "2023-10-11T14:44:52.759309",
     "status": "completed"
    },
    "tags": []
   },
   "outputs": [
    {
     "data": {
      "text/plain": [
       "Category\n",
       "A     5\n",
       "B    15\n",
       "Name: Value, dtype: int64"
      ]
     },
     "execution_count": 207,
     "metadata": {},
     "output_type": "execute_result"
    }
   ],
   "source": [
    "df.groupby('Category')['Value'].min()"
   ]
  },
  {
   "cell_type": "code",
   "execution_count": 208,
   "id": "e29096c7",
   "metadata": {
    "execution": {
     "iopub.execute_input": "2023-10-11T14:44:53.015445Z",
     "iopub.status.busy": "2023-10-11T14:44:53.015128Z",
     "iopub.status.idle": "2023-10-11T14:44:53.023816Z",
     "shell.execute_reply": "2023-10-11T14:44:53.022836Z"
    },
    "papermill": {
     "duration": 0.091159,
     "end_time": "2023-10-11T14:44:53.025757",
     "exception": false,
     "start_time": "2023-10-11T14:44:52.934598",
     "status": "completed"
    },
    "tags": []
   },
   "outputs": [
    {
     "data": {
      "text/plain": [
       "Category\n",
       "A    20\n",
       "B    30\n",
       "Name: Value, dtype: int64"
      ]
     },
     "execution_count": 208,
     "metadata": {},
     "output_type": "execute_result"
    }
   ],
   "source": [
    "df.groupby('Category')['Value'].max()"
   ]
  },
  {
   "cell_type": "code",
   "execution_count": 209,
   "id": "35ce86a3",
   "metadata": {
    "execution": {
     "iopub.execute_input": "2023-10-11T14:44:53.186055Z",
     "iopub.status.busy": "2023-10-11T14:44:53.185631Z",
     "iopub.status.idle": "2023-10-11T14:44:53.195094Z",
     "shell.execute_reply": "2023-10-11T14:44:53.194082Z"
    },
    "papermill": {
     "duration": 0.092522,
     "end_time": "2023-10-11T14:44:53.197047",
     "exception": false,
     "start_time": "2023-10-11T14:44:53.104525",
     "status": "completed"
    },
    "tags": []
   },
   "outputs": [
    {
     "data": {
      "text/plain": [
       "Category\n",
       "A    3\n",
       "B    3\n",
       "Name: Value, dtype: int64"
      ]
     },
     "execution_count": 209,
     "metadata": {},
     "output_type": "execute_result"
    }
   ],
   "source": [
    "df.groupby('Category')['Value'].count()"
   ]
  },
  {
   "cell_type": "code",
   "execution_count": 210,
   "id": "a3fa8436",
   "metadata": {
    "execution": {
     "iopub.execute_input": "2023-10-11T14:44:53.361165Z",
     "iopub.status.busy": "2023-10-11T14:44:53.360838Z",
     "iopub.status.idle": "2023-10-11T14:44:53.369261Z",
     "shell.execute_reply": "2023-10-11T14:44:53.368579Z"
    },
    "papermill": {
     "duration": 0.091434,
     "end_time": "2023-10-11T14:44:53.371022",
     "exception": false,
     "start_time": "2023-10-11T14:44:53.279588",
     "status": "completed"
    },
    "tags": []
   },
   "outputs": [
    {
     "data": {
      "text/plain": [
       "Category\n",
       "A    10\n",
       "B    15\n",
       "Name: Value, dtype: int64"
      ]
     },
     "execution_count": 210,
     "metadata": {},
     "output_type": "execute_result"
    }
   ],
   "source": [
    "df.groupby('Category')['Value'].first()"
   ]
  },
  {
   "cell_type": "code",
   "execution_count": 211,
   "id": "a9f216bc",
   "metadata": {
    "execution": {
     "iopub.execute_input": "2023-10-11T14:44:53.530680Z",
     "iopub.status.busy": "2023-10-11T14:44:53.529978Z",
     "iopub.status.idle": "2023-10-11T14:44:53.541032Z",
     "shell.execute_reply": "2023-10-11T14:44:53.538723Z"
    },
    "papermill": {
     "duration": 0.094165,
     "end_time": "2023-10-11T14:44:53.544204",
     "exception": false,
     "start_time": "2023-10-11T14:44:53.450039",
     "status": "completed"
    },
    "tags": []
   },
   "outputs": [
    {
     "data": {
      "text/plain": [
       "Category\n",
       "A     5\n",
       "B    30\n",
       "Name: Value, dtype: int64"
      ]
     },
     "execution_count": 211,
     "metadata": {},
     "output_type": "execute_result"
    }
   ],
   "source": [
    "df.groupby('Category')['Value'].last()"
   ]
  },
  {
   "cell_type": "code",
   "execution_count": 212,
   "id": "6f443200",
   "metadata": {
    "execution": {
     "iopub.execute_input": "2023-10-11T14:44:53.704937Z",
     "iopub.status.busy": "2023-10-11T14:44:53.704164Z",
     "iopub.status.idle": "2023-10-11T14:44:53.712446Z",
     "shell.execute_reply": "2023-10-11T14:44:53.711722Z"
    },
    "papermill": {
     "duration": 0.090741,
     "end_time": "2023-10-11T14:44:53.714342",
     "exception": false,
     "start_time": "2023-10-11T14:44:53.623601",
     "status": "completed"
    },
    "tags": []
   },
   "outputs": [
    {
     "data": {
      "text/plain": [
       "Category\n",
       "A    58.333333\n",
       "B    58.333333\n",
       "Name: Value, dtype: float64"
      ]
     },
     "execution_count": 212,
     "metadata": {},
     "output_type": "execute_result"
    }
   ],
   "source": [
    "df.groupby('Category')['Value'].var()"
   ]
  },
  {
   "cell_type": "code",
   "execution_count": 213,
   "id": "f763b202",
   "metadata": {
    "execution": {
     "iopub.execute_input": "2023-10-11T14:44:53.878603Z",
     "iopub.status.busy": "2023-10-11T14:44:53.878229Z",
     "iopub.status.idle": "2023-10-11T14:44:53.887780Z",
     "shell.execute_reply": "2023-10-11T14:44:53.886698Z"
    },
    "papermill": {
     "duration": 0.094577,
     "end_time": "2023-10-11T14:44:53.889575",
     "exception": false,
     "start_time": "2023-10-11T14:44:53.794998",
     "status": "completed"
    },
    "tags": []
   },
   "outputs": [
    {
     "data": {
      "text/plain": [
       "Category\n",
       "A    7.637626\n",
       "B    7.637626\n",
       "Name: Value, dtype: float64"
      ]
     },
     "execution_count": 213,
     "metadata": {},
     "output_type": "execute_result"
    }
   ],
   "source": [
    "df.groupby('Category')['Value'].std()"
   ]
  },
  {
   "cell_type": "markdown",
   "id": "c8ae06a9",
   "metadata": {
    "papermill": {
     "duration": 0.082257,
     "end_time": "2023-10-11T14:44:54.053727",
     "exception": false,
     "start_time": "2023-10-11T14:44:53.971470",
     "status": "completed"
    },
    "tags": []
   },
   "source": [
    "---"
   ]
  },
  {
   "cell_type": "markdown",
   "id": "966c09bb",
   "metadata": {
    "papermill": {
     "duration": 0.079531,
     "end_time": "2023-10-11T14:44:54.212998",
     "exception": false,
     "start_time": "2023-10-11T14:44:54.133467",
     "status": "completed"
    },
    "tags": []
   },
   "source": [
    "<div style=\"border-radius:10px; border:#DEB887 solid; padding: 15px; background-color: #FFFAF0; font-size:100%; text-align:left\">\n",
    "\n",
    "<h3 align=\"left\"><font color='#DEB887'>💡 Notlar: </font></h3>\n",
    "\n",
    "* **aggregate():** Pandas'daki aggregate() fonksiyonu, DataFrame içindeki verilere toplulaştırma işlemleri uygulamak için kullanılır. Bu fonksiyon, aynı anda farklı sütunlara birden fazla toplulaştırma işlevi uygulamanıza olanak tanır. aggregate() fonksiyonuna, sütun adları ve karşılık gelen toplulaştırma işlevlerini içeren bir sözlük geçirebilirsiniz.\n",
    "\n",
    "* **filter():** DataFrame içinden belirli koşullara uygun verileri filtrelemek için kullanılır. Bu fonksiyon, bir işlev, koşul veya belirli değerlerin varlığına dayanarak DataFrame'in satırlarını veya sütunlarını filtrelemenize olanak tanır.\n",
    "\n",
    "* **apply():** DataFrame'in eksen boyunca bir işlevi uygulamak için kullanılır. Bu fonksiyon, DataFrame'in her satırı veya sütunu üzerinde özel bir işlev uygulamanıza olanak tanır."
   ]
  },
  {
   "cell_type": "markdown",
   "id": "978277e4",
   "metadata": {
    "papermill": {
     "duration": 0.079379,
     "end_time": "2023-10-11T14:44:54.372903",
     "exception": false,
     "start_time": "2023-10-11T14:44:54.293524",
     "status": "completed"
    },
    "tags": []
   },
   "source": [
    "---"
   ]
  },
  {
   "cell_type": "code",
   "execution_count": 214,
   "id": "d00553c6",
   "metadata": {
    "execution": {
     "iopub.execute_input": "2023-10-11T14:44:54.534599Z",
     "iopub.status.busy": "2023-10-11T14:44:54.533889Z",
     "iopub.status.idle": "2023-10-11T14:44:54.538921Z",
     "shell.execute_reply": "2023-10-11T14:44:54.538086Z"
    },
    "papermill": {
     "duration": 0.087614,
     "end_time": "2023-10-11T14:44:54.540616",
     "exception": false,
     "start_time": "2023-10-11T14:44:54.453002",
     "status": "completed"
    },
    "tags": []
   },
   "outputs": [],
   "source": [
    "import pandas as pd\n",
    "\n",
    "veri = {\n",
    "    'Kategori': ['A', 'A', 'B', 'B', 'A', 'B'],\n",
    "    'Deger': [10, 20, 15, 25, 5, 30]\n",
    "}\n",
    "\n",
    "df = pd.DataFrame(veri)"
   ]
  },
  {
   "cell_type": "code",
   "execution_count": 215,
   "id": "51412d25",
   "metadata": {
    "execution": {
     "iopub.execute_input": "2023-10-11T14:44:54.702183Z",
     "iopub.status.busy": "2023-10-11T14:44:54.701036Z",
     "iopub.status.idle": "2023-10-11T14:44:54.716113Z",
     "shell.execute_reply": "2023-10-11T14:44:54.715160Z"
    },
    "papermill": {
     "duration": 0.097545,
     "end_time": "2023-10-11T14:44:54.717890",
     "exception": false,
     "start_time": "2023-10-11T14:44:54.620345",
     "status": "completed"
    },
    "tags": []
   },
   "outputs": [
    {
     "data": {
      "text/html": [
       "<div>\n",
       "<style scoped>\n",
       "    .dataframe tbody tr th:only-of-type {\n",
       "        vertical-align: middle;\n",
       "    }\n",
       "\n",
       "    .dataframe tbody tr th {\n",
       "        vertical-align: top;\n",
       "    }\n",
       "\n",
       "    .dataframe thead tr th {\n",
       "        text-align: left;\n",
       "    }\n",
       "\n",
       "    .dataframe thead tr:last-of-type th {\n",
       "        text-align: right;\n",
       "    }\n",
       "</style>\n",
       "<table border=\"1\" class=\"dataframe\">\n",
       "  <thead>\n",
       "    <tr>\n",
       "      <th></th>\n",
       "      <th colspan=\"3\" halign=\"left\">Deger</th>\n",
       "    </tr>\n",
       "    <tr>\n",
       "      <th></th>\n",
       "      <th>sum</th>\n",
       "      <th>mean</th>\n",
       "      <th>max</th>\n",
       "    </tr>\n",
       "    <tr>\n",
       "      <th>Kategori</th>\n",
       "      <th></th>\n",
       "      <th></th>\n",
       "      <th></th>\n",
       "    </tr>\n",
       "  </thead>\n",
       "  <tbody>\n",
       "    <tr>\n",
       "      <th>A</th>\n",
       "      <td>35</td>\n",
       "      <td>11.666667</td>\n",
       "      <td>20</td>\n",
       "    </tr>\n",
       "    <tr>\n",
       "      <th>B</th>\n",
       "      <td>70</td>\n",
       "      <td>23.333333</td>\n",
       "      <td>30</td>\n",
       "    </tr>\n",
       "  </tbody>\n",
       "</table>\n",
       "</div>"
      ],
      "text/plain": [
       "         Deger               \n",
       "           sum       mean max\n",
       "Kategori                     \n",
       "A           35  11.666667  20\n",
       "B           70  23.333333  30"
      ]
     },
     "execution_count": 215,
     "metadata": {},
     "output_type": "execute_result"
    }
   ],
   "source": [
    "# 'Deger' sütununa birden fazla toplulaştırma işlevi uygulayalım:\n",
    "\n",
    "df.groupby('Kategori').agg({'Deger': ['sum', 'mean', 'max']})"
   ]
  },
  {
   "cell_type": "code",
   "execution_count": 216,
   "id": "28bcc563",
   "metadata": {
    "execution": {
     "iopub.execute_input": "2023-10-11T14:44:54.885777Z",
     "iopub.status.busy": "2023-10-11T14:44:54.885073Z",
     "iopub.status.idle": "2023-10-11T14:44:54.895230Z",
     "shell.execute_reply": "2023-10-11T14:44:54.894518Z"
    },
    "papermill": {
     "duration": 0.097278,
     "end_time": "2023-10-11T14:44:54.896986",
     "exception": false,
     "start_time": "2023-10-11T14:44:54.799708",
     "status": "completed"
    },
    "tags": []
   },
   "outputs": [
    {
     "data": {
      "text/html": [
       "<div>\n",
       "<style scoped>\n",
       "    .dataframe tbody tr th:only-of-type {\n",
       "        vertical-align: middle;\n",
       "    }\n",
       "\n",
       "    .dataframe tbody tr th {\n",
       "        vertical-align: top;\n",
       "    }\n",
       "\n",
       "    .dataframe thead th {\n",
       "        text-align: right;\n",
       "    }\n",
       "</style>\n",
       "<table border=\"1\" class=\"dataframe\">\n",
       "  <thead>\n",
       "    <tr style=\"text-align: right;\">\n",
       "      <th></th>\n",
       "      <th>Kategori</th>\n",
       "      <th>Deger</th>\n",
       "    </tr>\n",
       "  </thead>\n",
       "  <tbody>\n",
       "    <tr>\n",
       "      <th>2</th>\n",
       "      <td>B</td>\n",
       "      <td>15</td>\n",
       "    </tr>\n",
       "    <tr>\n",
       "      <th>3</th>\n",
       "      <td>B</td>\n",
       "      <td>25</td>\n",
       "    </tr>\n",
       "    <tr>\n",
       "      <th>5</th>\n",
       "      <td>B</td>\n",
       "      <td>30</td>\n",
       "    </tr>\n",
       "  </tbody>\n",
       "</table>\n",
       "</div>"
      ],
      "text/plain": [
       "  Kategori  Deger\n",
       "2        B     15\n",
       "3        B     25\n",
       "5        B     30"
      ]
     },
     "execution_count": 216,
     "metadata": {},
     "output_type": "execute_result"
    }
   ],
   "source": [
    "# 'Deger' sütununda her gruptaki toplam değeri 40'tan büyük olan satırları filtreleyelim:\n",
    "\n",
    "df.groupby('Kategori').filter(lambda x: x['Deger'].sum() > 40)"
   ]
  },
  {
   "cell_type": "markdown",
   "id": "656f72dd",
   "metadata": {
    "papermill": {
     "duration": 0.081761,
     "end_time": "2023-10-11T14:44:55.061104",
     "exception": false,
     "start_time": "2023-10-11T14:44:54.979343",
     "status": "completed"
    },
    "tags": []
   },
   "source": [
    "---"
   ]
  },
  {
   "cell_type": "code",
   "execution_count": 217,
   "id": "1c11c30a",
   "metadata": {
    "execution": {
     "iopub.execute_input": "2023-10-11T14:44:55.285500Z",
     "iopub.status.busy": "2023-10-11T14:44:55.285140Z",
     "iopub.status.idle": "2023-10-11T14:44:55.304956Z",
     "shell.execute_reply": "2023-10-11T14:44:55.303888Z"
    },
    "papermill": {
     "duration": 0.103857,
     "end_time": "2023-10-11T14:44:55.306771",
     "exception": false,
     "start_time": "2023-10-11T14:44:55.202914",
     "status": "completed"
    },
    "tags": []
   },
   "outputs": [
    {
     "data": {
      "text/html": [
       "<div>\n",
       "<style scoped>\n",
       "    .dataframe tbody tr th:only-of-type {\n",
       "        vertical-align: middle;\n",
       "    }\n",
       "\n",
       "    .dataframe tbody tr th {\n",
       "        vertical-align: top;\n",
       "    }\n",
       "\n",
       "    .dataframe thead th {\n",
       "        text-align: right;\n",
       "    }\n",
       "</style>\n",
       "<table border=\"1\" class=\"dataframe\">\n",
       "  <thead>\n",
       "    <tr style=\"text-align: right;\">\n",
       "      <th></th>\n",
       "      <th>PassengerId</th>\n",
       "      <th>Survived</th>\n",
       "      <th>Pclass</th>\n",
       "      <th>Name</th>\n",
       "      <th>Sex</th>\n",
       "      <th>Age</th>\n",
       "      <th>SibSp</th>\n",
       "      <th>Parch</th>\n",
       "      <th>Ticket</th>\n",
       "      <th>Fare</th>\n",
       "      <th>Cabin</th>\n",
       "      <th>Embarked</th>\n",
       "    </tr>\n",
       "  </thead>\n",
       "  <tbody>\n",
       "    <tr>\n",
       "      <th>0</th>\n",
       "      <td>1</td>\n",
       "      <td>0</td>\n",
       "      <td>3</td>\n",
       "      <td>Braund, Mr. Owen Harris</td>\n",
       "      <td>male</td>\n",
       "      <td>22.0</td>\n",
       "      <td>1</td>\n",
       "      <td>0</td>\n",
       "      <td>A/5 21171</td>\n",
       "      <td>7.2500</td>\n",
       "      <td>NaN</td>\n",
       "      <td>S</td>\n",
       "    </tr>\n",
       "    <tr>\n",
       "      <th>1</th>\n",
       "      <td>2</td>\n",
       "      <td>1</td>\n",
       "      <td>1</td>\n",
       "      <td>Cumings, Mrs. John Bradley (Florence Briggs Th...</td>\n",
       "      <td>female</td>\n",
       "      <td>38.0</td>\n",
       "      <td>1</td>\n",
       "      <td>0</td>\n",
       "      <td>PC 17599</td>\n",
       "      <td>71.2833</td>\n",
       "      <td>C85</td>\n",
       "      <td>C</td>\n",
       "    </tr>\n",
       "    <tr>\n",
       "      <th>2</th>\n",
       "      <td>3</td>\n",
       "      <td>1</td>\n",
       "      <td>3</td>\n",
       "      <td>Heikkinen, Miss. Laina</td>\n",
       "      <td>female</td>\n",
       "      <td>26.0</td>\n",
       "      <td>0</td>\n",
       "      <td>0</td>\n",
       "      <td>STON/O2. 3101282</td>\n",
       "      <td>7.9250</td>\n",
       "      <td>NaN</td>\n",
       "      <td>S</td>\n",
       "    </tr>\n",
       "    <tr>\n",
       "      <th>3</th>\n",
       "      <td>4</td>\n",
       "      <td>1</td>\n",
       "      <td>1</td>\n",
       "      <td>Futrelle, Mrs. Jacques Heath (Lily May Peel)</td>\n",
       "      <td>female</td>\n",
       "      <td>35.0</td>\n",
       "      <td>1</td>\n",
       "      <td>0</td>\n",
       "      <td>113803</td>\n",
       "      <td>53.1000</td>\n",
       "      <td>C123</td>\n",
       "      <td>S</td>\n",
       "    </tr>\n",
       "    <tr>\n",
       "      <th>4</th>\n",
       "      <td>5</td>\n",
       "      <td>0</td>\n",
       "      <td>3</td>\n",
       "      <td>Allen, Mr. William Henry</td>\n",
       "      <td>male</td>\n",
       "      <td>35.0</td>\n",
       "      <td>0</td>\n",
       "      <td>0</td>\n",
       "      <td>373450</td>\n",
       "      <td>8.0500</td>\n",
       "      <td>NaN</td>\n",
       "      <td>S</td>\n",
       "    </tr>\n",
       "  </tbody>\n",
       "</table>\n",
       "</div>"
      ],
      "text/plain": [
       "   PassengerId  Survived  Pclass  \\\n",
       "0            1         0       3   \n",
       "1            2         1       1   \n",
       "2            3         1       3   \n",
       "3            4         1       1   \n",
       "4            5         0       3   \n",
       "\n",
       "                                                Name     Sex   Age  SibSp  \\\n",
       "0                            Braund, Mr. Owen Harris    male  22.0      1   \n",
       "1  Cumings, Mrs. John Bradley (Florence Briggs Th...  female  38.0      1   \n",
       "2                             Heikkinen, Miss. Laina  female  26.0      0   \n",
       "3       Futrelle, Mrs. Jacques Heath (Lily May Peel)  female  35.0      1   \n",
       "4                           Allen, Mr. William Henry    male  35.0      0   \n",
       "\n",
       "   Parch            Ticket     Fare Cabin Embarked  \n",
       "0      0         A/5 21171   7.2500   NaN        S  \n",
       "1      0          PC 17599  71.2833   C85        C  \n",
       "2      0  STON/O2. 3101282   7.9250   NaN        S  \n",
       "3      0            113803  53.1000  C123        S  \n",
       "4      0            373450   8.0500   NaN        S  "
      ]
     },
     "execution_count": 217,
     "metadata": {},
     "output_type": "execute_result"
    }
   ],
   "source": [
    "import pandas as pd\n",
    "import seaborn as sns\n",
    "\n",
    "df = pd.read_csv('/kaggle/input/titanic/train.csv')\n",
    "\n",
    "df.head()"
   ]
  },
  {
   "cell_type": "code",
   "execution_count": 218,
   "id": "c5e7a051",
   "metadata": {
    "execution": {
     "iopub.execute_input": "2023-10-11T14:44:55.468507Z",
     "iopub.status.busy": "2023-10-11T14:44:55.468172Z",
     "iopub.status.idle": "2023-10-11T14:44:55.475020Z",
     "shell.execute_reply": "2023-10-11T14:44:55.474111Z"
    },
    "papermill": {
     "duration": 0.090312,
     "end_time": "2023-10-11T14:44:55.476693",
     "exception": false,
     "start_time": "2023-10-11T14:44:55.386381",
     "status": "completed"
    },
    "tags": []
   },
   "outputs": [
    {
     "data": {
      "text/plain": [
       "29.69911764705882"
      ]
     },
     "execution_count": 218,
     "metadata": {},
     "output_type": "execute_result"
    }
   ],
   "source": [
    "df[\"Age\"].mean()"
   ]
  },
  {
   "cell_type": "code",
   "execution_count": 219,
   "id": "f85a97bf",
   "metadata": {
    "execution": {
     "iopub.execute_input": "2023-10-11T14:44:55.643891Z",
     "iopub.status.busy": "2023-10-11T14:44:55.642966Z",
     "iopub.status.idle": "2023-10-11T14:44:55.651623Z",
     "shell.execute_reply": "2023-10-11T14:44:55.650795Z"
    },
    "papermill": {
     "duration": 0.095255,
     "end_time": "2023-10-11T14:44:55.653531",
     "exception": false,
     "start_time": "2023-10-11T14:44:55.558276",
     "status": "completed"
    },
    "tags": []
   },
   "outputs": [
    {
     "data": {
      "text/plain": [
       "Sex\n",
       "female    27.915709\n",
       "male      30.726645\n",
       "Name: Age, dtype: float64"
      ]
     },
     "execution_count": 219,
     "metadata": {},
     "output_type": "execute_result"
    }
   ],
   "source": [
    "df.groupby(\"Sex\")[\"Age\"].mean()"
   ]
  },
  {
   "cell_type": "code",
   "execution_count": 220,
   "id": "c3389bb6",
   "metadata": {
    "execution": {
     "iopub.execute_input": "2023-10-11T14:44:55.818359Z",
     "iopub.status.busy": "2023-10-11T14:44:55.818009Z",
     "iopub.status.idle": "2023-10-11T14:44:55.831903Z",
     "shell.execute_reply": "2023-10-11T14:44:55.830892Z"
    },
    "papermill": {
     "duration": 0.097579,
     "end_time": "2023-10-11T14:44:55.833827",
     "exception": false,
     "start_time": "2023-10-11T14:44:55.736248",
     "status": "completed"
    },
    "tags": []
   },
   "outputs": [
    {
     "data": {
      "text/html": [
       "<div>\n",
       "<style scoped>\n",
       "    .dataframe tbody tr th:only-of-type {\n",
       "        vertical-align: middle;\n",
       "    }\n",
       "\n",
       "    .dataframe tbody tr th {\n",
       "        vertical-align: top;\n",
       "    }\n",
       "\n",
       "    .dataframe thead tr th {\n",
       "        text-align: left;\n",
       "    }\n",
       "\n",
       "    .dataframe thead tr:last-of-type th {\n",
       "        text-align: right;\n",
       "    }\n",
       "</style>\n",
       "<table border=\"1\" class=\"dataframe\">\n",
       "  <thead>\n",
       "    <tr>\n",
       "      <th></th>\n",
       "      <th colspan=\"2\" halign=\"left\">Age</th>\n",
       "    </tr>\n",
       "    <tr>\n",
       "      <th></th>\n",
       "      <th>mean</th>\n",
       "      <th>sum</th>\n",
       "    </tr>\n",
       "    <tr>\n",
       "      <th>Sex</th>\n",
       "      <th></th>\n",
       "      <th></th>\n",
       "    </tr>\n",
       "  </thead>\n",
       "  <tbody>\n",
       "    <tr>\n",
       "      <th>female</th>\n",
       "      <td>27.915709</td>\n",
       "      <td>7286.00</td>\n",
       "    </tr>\n",
       "    <tr>\n",
       "      <th>male</th>\n",
       "      <td>30.726645</td>\n",
       "      <td>13919.17</td>\n",
       "    </tr>\n",
       "  </tbody>\n",
       "</table>\n",
       "</div>"
      ],
      "text/plain": [
       "              Age          \n",
       "             mean       sum\n",
       "Sex                        \n",
       "female  27.915709   7286.00\n",
       "male    30.726645  13919.17"
      ]
     },
     "execution_count": 220,
     "metadata": {},
     "output_type": "execute_result"
    }
   ],
   "source": [
    "df.groupby(\"Sex\").agg({\"Age\": [\"mean\", \"sum\"]})"
   ]
  },
  {
   "cell_type": "code",
   "execution_count": 221,
   "id": "ba62fc17",
   "metadata": {
    "execution": {
     "iopub.execute_input": "2023-10-11T14:44:56.001803Z",
     "iopub.status.busy": "2023-10-11T14:44:56.001434Z",
     "iopub.status.idle": "2023-10-11T14:44:56.018061Z",
     "shell.execute_reply": "2023-10-11T14:44:56.017033Z"
    },
    "papermill": {
     "duration": 0.101047,
     "end_time": "2023-10-11T14:44:56.019943",
     "exception": false,
     "start_time": "2023-10-11T14:44:55.918896",
     "status": "completed"
    },
    "tags": []
   },
   "outputs": [
    {
     "data": {
      "text/html": [
       "<div>\n",
       "<style scoped>\n",
       "    .dataframe tbody tr th:only-of-type {\n",
       "        vertical-align: middle;\n",
       "    }\n",
       "\n",
       "    .dataframe tbody tr th {\n",
       "        vertical-align: top;\n",
       "    }\n",
       "\n",
       "    .dataframe thead tr th {\n",
       "        text-align: left;\n",
       "    }\n",
       "\n",
       "    .dataframe thead tr:last-of-type th {\n",
       "        text-align: right;\n",
       "    }\n",
       "</style>\n",
       "<table border=\"1\" class=\"dataframe\">\n",
       "  <thead>\n",
       "    <tr>\n",
       "      <th></th>\n",
       "      <th colspan=\"2\" halign=\"left\">Age</th>\n",
       "      <th>Survived</th>\n",
       "    </tr>\n",
       "    <tr>\n",
       "      <th></th>\n",
       "      <th>mean</th>\n",
       "      <th>sum</th>\n",
       "      <th>mean</th>\n",
       "    </tr>\n",
       "    <tr>\n",
       "      <th>Sex</th>\n",
       "      <th></th>\n",
       "      <th></th>\n",
       "      <th></th>\n",
       "    </tr>\n",
       "  </thead>\n",
       "  <tbody>\n",
       "    <tr>\n",
       "      <th>female</th>\n",
       "      <td>27.915709</td>\n",
       "      <td>7286.00</td>\n",
       "      <td>0.742038</td>\n",
       "    </tr>\n",
       "    <tr>\n",
       "      <th>male</th>\n",
       "      <td>30.726645</td>\n",
       "      <td>13919.17</td>\n",
       "      <td>0.188908</td>\n",
       "    </tr>\n",
       "  </tbody>\n",
       "</table>\n",
       "</div>"
      ],
      "text/plain": [
       "              Age            Survived\n",
       "             mean       sum      mean\n",
       "Sex                                  \n",
       "female  27.915709   7286.00  0.742038\n",
       "male    30.726645  13919.17  0.188908"
      ]
     },
     "execution_count": 221,
     "metadata": {},
     "output_type": "execute_result"
    }
   ],
   "source": [
    "df.groupby(\"Sex\").agg({\"Age\": [\"mean\", \"sum\"],\"Survived\": \"mean\"})"
   ]
  },
  {
   "cell_type": "code",
   "execution_count": 222,
   "id": "4d5ecf7d",
   "metadata": {
    "execution": {
     "iopub.execute_input": "2023-10-11T14:44:56.184364Z",
     "iopub.status.busy": "2023-10-11T14:44:56.183763Z",
     "iopub.status.idle": "2023-10-11T14:44:56.198555Z",
     "shell.execute_reply": "2023-10-11T14:44:56.197507Z"
    },
    "papermill": {
     "duration": 0.098946,
     "end_time": "2023-10-11T14:44:56.200383",
     "exception": false,
     "start_time": "2023-10-11T14:44:56.101437",
     "status": "completed"
    },
    "tags": []
   },
   "outputs": [
    {
     "data": {
      "text/html": [
       "<div>\n",
       "<style scoped>\n",
       "    .dataframe tbody tr th:only-of-type {\n",
       "        vertical-align: middle;\n",
       "    }\n",
       "\n",
       "    .dataframe tbody tr th {\n",
       "        vertical-align: top;\n",
       "    }\n",
       "\n",
       "    .dataframe thead tr th {\n",
       "        text-align: left;\n",
       "    }\n",
       "\n",
       "    .dataframe thead tr:last-of-type th {\n",
       "        text-align: right;\n",
       "    }\n",
       "</style>\n",
       "<table border=\"1\" class=\"dataframe\">\n",
       "  <thead>\n",
       "    <tr>\n",
       "      <th></th>\n",
       "      <th></th>\n",
       "      <th>Age</th>\n",
       "      <th>Survived</th>\n",
       "    </tr>\n",
       "    <tr>\n",
       "      <th></th>\n",
       "      <th></th>\n",
       "      <th>mean</th>\n",
       "      <th>mean</th>\n",
       "    </tr>\n",
       "    <tr>\n",
       "      <th>Sex</th>\n",
       "      <th>Embarked</th>\n",
       "      <th></th>\n",
       "      <th></th>\n",
       "    </tr>\n",
       "  </thead>\n",
       "  <tbody>\n",
       "    <tr>\n",
       "      <th rowspan=\"3\" valign=\"top\">female</th>\n",
       "      <th>C</th>\n",
       "      <td>28.344262</td>\n",
       "      <td>0.876712</td>\n",
       "    </tr>\n",
       "    <tr>\n",
       "      <th>Q</th>\n",
       "      <td>24.291667</td>\n",
       "      <td>0.750000</td>\n",
       "    </tr>\n",
       "    <tr>\n",
       "      <th>S</th>\n",
       "      <td>27.771505</td>\n",
       "      <td>0.689655</td>\n",
       "    </tr>\n",
       "    <tr>\n",
       "      <th rowspan=\"3\" valign=\"top\">male</th>\n",
       "      <th>C</th>\n",
       "      <td>32.998841</td>\n",
       "      <td>0.305263</td>\n",
       "    </tr>\n",
       "    <tr>\n",
       "      <th>Q</th>\n",
       "      <td>30.937500</td>\n",
       "      <td>0.073171</td>\n",
       "    </tr>\n",
       "    <tr>\n",
       "      <th>S</th>\n",
       "      <td>30.291440</td>\n",
       "      <td>0.174603</td>\n",
       "    </tr>\n",
       "  </tbody>\n",
       "</table>\n",
       "</div>"
      ],
      "text/plain": [
       "                       Age  Survived\n",
       "                      mean      mean\n",
       "Sex    Embarked                     \n",
       "female C         28.344262  0.876712\n",
       "       Q         24.291667  0.750000\n",
       "       S         27.771505  0.689655\n",
       "male   C         32.998841  0.305263\n",
       "       Q         30.937500  0.073171\n",
       "       S         30.291440  0.174603"
      ]
     },
     "execution_count": 222,
     "metadata": {},
     "output_type": "execute_result"
    }
   ],
   "source": [
    "df.groupby([\"Sex\", \"Embarked\"]).agg({\"Age\": [\"mean\"],\"Survived\": \"mean\"})"
   ]
  },
  {
   "cell_type": "code",
   "execution_count": 223,
   "id": "264cc6c0",
   "metadata": {
    "execution": {
     "iopub.execute_input": "2023-10-11T14:44:56.366352Z",
     "iopub.status.busy": "2023-10-11T14:44:56.365958Z",
     "iopub.status.idle": "2023-10-11T14:44:56.384820Z",
     "shell.execute_reply": "2023-10-11T14:44:56.383480Z"
    },
    "papermill": {
     "duration": 0.104167,
     "end_time": "2023-10-11T14:44:56.386790",
     "exception": false,
     "start_time": "2023-10-11T14:44:56.282623",
     "status": "completed"
    },
    "tags": []
   },
   "outputs": [
    {
     "data": {
      "text/html": [
       "<div>\n",
       "<style scoped>\n",
       "    .dataframe tbody tr th:only-of-type {\n",
       "        vertical-align: middle;\n",
       "    }\n",
       "\n",
       "    .dataframe tbody tr th {\n",
       "        vertical-align: top;\n",
       "    }\n",
       "\n",
       "    .dataframe thead tr th {\n",
       "        text-align: left;\n",
       "    }\n",
       "\n",
       "    .dataframe thead tr:last-of-type th {\n",
       "        text-align: right;\n",
       "    }\n",
       "</style>\n",
       "<table border=\"1\" class=\"dataframe\">\n",
       "  <thead>\n",
       "    <tr>\n",
       "      <th></th>\n",
       "      <th></th>\n",
       "      <th></th>\n",
       "      <th>Age</th>\n",
       "      <th>Survived</th>\n",
       "      <th>Sex</th>\n",
       "    </tr>\n",
       "    <tr>\n",
       "      <th></th>\n",
       "      <th></th>\n",
       "      <th></th>\n",
       "      <th>mean</th>\n",
       "      <th>mean</th>\n",
       "      <th>count</th>\n",
       "    </tr>\n",
       "    <tr>\n",
       "      <th>Sex</th>\n",
       "      <th>Embarked</th>\n",
       "      <th>Pclass</th>\n",
       "      <th></th>\n",
       "      <th></th>\n",
       "      <th></th>\n",
       "    </tr>\n",
       "  </thead>\n",
       "  <tbody>\n",
       "    <tr>\n",
       "      <th rowspan=\"9\" valign=\"top\">female</th>\n",
       "      <th rowspan=\"3\" valign=\"top\">C</th>\n",
       "      <th>1</th>\n",
       "      <td>36.052632</td>\n",
       "      <td>0.976744</td>\n",
       "      <td>43</td>\n",
       "    </tr>\n",
       "    <tr>\n",
       "      <th>2</th>\n",
       "      <td>19.142857</td>\n",
       "      <td>1.000000</td>\n",
       "      <td>7</td>\n",
       "    </tr>\n",
       "    <tr>\n",
       "      <th>3</th>\n",
       "      <td>14.062500</td>\n",
       "      <td>0.652174</td>\n",
       "      <td>23</td>\n",
       "    </tr>\n",
       "    <tr>\n",
       "      <th rowspan=\"3\" valign=\"top\">Q</th>\n",
       "      <th>1</th>\n",
       "      <td>33.000000</td>\n",
       "      <td>1.000000</td>\n",
       "      <td>1</td>\n",
       "    </tr>\n",
       "    <tr>\n",
       "      <th>2</th>\n",
       "      <td>30.000000</td>\n",
       "      <td>1.000000</td>\n",
       "      <td>2</td>\n",
       "    </tr>\n",
       "    <tr>\n",
       "      <th>3</th>\n",
       "      <td>22.850000</td>\n",
       "      <td>0.727273</td>\n",
       "      <td>33</td>\n",
       "    </tr>\n",
       "    <tr>\n",
       "      <th rowspan=\"3\" valign=\"top\">S</th>\n",
       "      <th>1</th>\n",
       "      <td>32.704545</td>\n",
       "      <td>0.958333</td>\n",
       "      <td>48</td>\n",
       "    </tr>\n",
       "    <tr>\n",
       "      <th>2</th>\n",
       "      <td>29.719697</td>\n",
       "      <td>0.910448</td>\n",
       "      <td>67</td>\n",
       "    </tr>\n",
       "    <tr>\n",
       "      <th>3</th>\n",
       "      <td>23.223684</td>\n",
       "      <td>0.375000</td>\n",
       "      <td>88</td>\n",
       "    </tr>\n",
       "    <tr>\n",
       "      <th rowspan=\"9\" valign=\"top\">male</th>\n",
       "      <th rowspan=\"3\" valign=\"top\">C</th>\n",
       "      <th>1</th>\n",
       "      <td>40.111111</td>\n",
       "      <td>0.404762</td>\n",
       "      <td>42</td>\n",
       "    </tr>\n",
       "    <tr>\n",
       "      <th>2</th>\n",
       "      <td>25.937500</td>\n",
       "      <td>0.200000</td>\n",
       "      <td>10</td>\n",
       "    </tr>\n",
       "    <tr>\n",
       "      <th>3</th>\n",
       "      <td>25.016800</td>\n",
       "      <td>0.232558</td>\n",
       "      <td>43</td>\n",
       "    </tr>\n",
       "    <tr>\n",
       "      <th rowspan=\"3\" valign=\"top\">Q</th>\n",
       "      <th>1</th>\n",
       "      <td>44.000000</td>\n",
       "      <td>0.000000</td>\n",
       "      <td>1</td>\n",
       "    </tr>\n",
       "    <tr>\n",
       "      <th>2</th>\n",
       "      <td>57.000000</td>\n",
       "      <td>0.000000</td>\n",
       "      <td>1</td>\n",
       "    </tr>\n",
       "    <tr>\n",
       "      <th>3</th>\n",
       "      <td>28.142857</td>\n",
       "      <td>0.076923</td>\n",
       "      <td>39</td>\n",
       "    </tr>\n",
       "    <tr>\n",
       "      <th rowspan=\"3\" valign=\"top\">S</th>\n",
       "      <th>1</th>\n",
       "      <td>41.897188</td>\n",
       "      <td>0.354430</td>\n",
       "      <td>79</td>\n",
       "    </tr>\n",
       "    <tr>\n",
       "      <th>2</th>\n",
       "      <td>30.875889</td>\n",
       "      <td>0.154639</td>\n",
       "      <td>97</td>\n",
       "    </tr>\n",
       "    <tr>\n",
       "      <th>3</th>\n",
       "      <td>26.574766</td>\n",
       "      <td>0.128302</td>\n",
       "      <td>265</td>\n",
       "    </tr>\n",
       "  </tbody>\n",
       "</table>\n",
       "</div>"
      ],
      "text/plain": [
       "                              Age  Survived   Sex\n",
       "                             mean      mean count\n",
       "Sex    Embarked Pclass                           \n",
       "female C        1       36.052632  0.976744    43\n",
       "                2       19.142857  1.000000     7\n",
       "                3       14.062500  0.652174    23\n",
       "       Q        1       33.000000  1.000000     1\n",
       "                2       30.000000  1.000000     2\n",
       "                3       22.850000  0.727273    33\n",
       "       S        1       32.704545  0.958333    48\n",
       "                2       29.719697  0.910448    67\n",
       "                3       23.223684  0.375000    88\n",
       "male   C        1       40.111111  0.404762    42\n",
       "                2       25.937500  0.200000    10\n",
       "                3       25.016800  0.232558    43\n",
       "       Q        1       44.000000  0.000000     1\n",
       "                2       57.000000  0.000000     1\n",
       "                3       28.142857  0.076923    39\n",
       "       S        1       41.897188  0.354430    79\n",
       "                2       30.875889  0.154639    97\n",
       "                3       26.574766  0.128302   265"
      ]
     },
     "execution_count": 223,
     "metadata": {},
     "output_type": "execute_result"
    }
   ],
   "source": [
    "df.groupby([\"Sex\", \"Embarked\", \"Pclass\"]).agg({\"Age\": [\"mean\"],\"Survived\": \"mean\",\"Sex\": \"count\"})"
   ]
  },
  {
   "cell_type": "markdown",
   "id": "c1e73bdb",
   "metadata": {
    "papermill": {
     "duration": 0.08147,
     "end_time": "2023-10-11T14:44:56.551242",
     "exception": false,
     "start_time": "2023-10-11T14:44:56.469772",
     "status": "completed"
    },
    "tags": []
   },
   "source": [
    "---"
   ]
  },
  {
   "cell_type": "code",
   "execution_count": 224,
   "id": "b7fdda61",
   "metadata": {
    "execution": {
     "iopub.execute_input": "2023-10-11T14:44:56.714829Z",
     "iopub.status.busy": "2023-10-11T14:44:56.714174Z",
     "iopub.status.idle": "2023-10-11T14:44:56.726811Z",
     "shell.execute_reply": "2023-10-11T14:44:56.725804Z"
    },
    "papermill": {
     "duration": 0.096864,
     "end_time": "2023-10-11T14:44:56.728863",
     "exception": false,
     "start_time": "2023-10-11T14:44:56.631999",
     "status": "completed"
    },
    "tags": []
   },
   "outputs": [
    {
     "data": {
      "text/html": [
       "<div>\n",
       "<style scoped>\n",
       "    .dataframe tbody tr th:only-of-type {\n",
       "        vertical-align: middle;\n",
       "    }\n",
       "\n",
       "    .dataframe tbody tr th {\n",
       "        vertical-align: top;\n",
       "    }\n",
       "\n",
       "    .dataframe thead th {\n",
       "        text-align: right;\n",
       "    }\n",
       "</style>\n",
       "<table border=\"1\" class=\"dataframe\">\n",
       "  <thead>\n",
       "    <tr style=\"text-align: right;\">\n",
       "      <th></th>\n",
       "      <th>PassengerId</th>\n",
       "      <th>Survived</th>\n",
       "      <th>Pclass</th>\n",
       "      <th>Name</th>\n",
       "      <th>Sex</th>\n",
       "      <th>Age</th>\n",
       "      <th>SibSp</th>\n",
       "      <th>Parch</th>\n",
       "      <th>Ticket</th>\n",
       "      <th>Fare</th>\n",
       "      <th>Cabin</th>\n",
       "      <th>Embarked</th>\n",
       "    </tr>\n",
       "  </thead>\n",
       "  <tbody>\n",
       "    <tr>\n",
       "      <th>0</th>\n",
       "      <td>1</td>\n",
       "      <td>0</td>\n",
       "      <td>3</td>\n",
       "      <td>Braund, Mr. Owen Harris</td>\n",
       "      <td>male</td>\n",
       "      <td>22.0</td>\n",
       "      <td>1</td>\n",
       "      <td>0</td>\n",
       "      <td>A/5 21171</td>\n",
       "      <td>7.2500</td>\n",
       "      <td>NaN</td>\n",
       "      <td>S</td>\n",
       "    </tr>\n",
       "    <tr>\n",
       "      <th>1</th>\n",
       "      <td>2</td>\n",
       "      <td>1</td>\n",
       "      <td>1</td>\n",
       "      <td>Cumings, Mrs. John Bradley (Florence Briggs Th...</td>\n",
       "      <td>female</td>\n",
       "      <td>38.0</td>\n",
       "      <td>1</td>\n",
       "      <td>0</td>\n",
       "      <td>PC 17599</td>\n",
       "      <td>71.2833</td>\n",
       "      <td>C85</td>\n",
       "      <td>C</td>\n",
       "    </tr>\n",
       "    <tr>\n",
       "      <th>2</th>\n",
       "      <td>3</td>\n",
       "      <td>1</td>\n",
       "      <td>3</td>\n",
       "      <td>Heikkinen, Miss. Laina</td>\n",
       "      <td>female</td>\n",
       "      <td>26.0</td>\n",
       "      <td>0</td>\n",
       "      <td>0</td>\n",
       "      <td>STON/O2. 3101282</td>\n",
       "      <td>7.9250</td>\n",
       "      <td>NaN</td>\n",
       "      <td>S</td>\n",
       "    </tr>\n",
       "    <tr>\n",
       "      <th>3</th>\n",
       "      <td>4</td>\n",
       "      <td>1</td>\n",
       "      <td>1</td>\n",
       "      <td>Futrelle, Mrs. Jacques Heath (Lily May Peel)</td>\n",
       "      <td>female</td>\n",
       "      <td>35.0</td>\n",
       "      <td>1</td>\n",
       "      <td>0</td>\n",
       "      <td>113803</td>\n",
       "      <td>53.1000</td>\n",
       "      <td>C123</td>\n",
       "      <td>S</td>\n",
       "    </tr>\n",
       "    <tr>\n",
       "      <th>4</th>\n",
       "      <td>5</td>\n",
       "      <td>0</td>\n",
       "      <td>3</td>\n",
       "      <td>Allen, Mr. William Henry</td>\n",
       "      <td>male</td>\n",
       "      <td>35.0</td>\n",
       "      <td>0</td>\n",
       "      <td>0</td>\n",
       "      <td>373450</td>\n",
       "      <td>8.0500</td>\n",
       "      <td>NaN</td>\n",
       "      <td>S</td>\n",
       "    </tr>\n",
       "  </tbody>\n",
       "</table>\n",
       "</div>"
      ],
      "text/plain": [
       "   PassengerId  Survived  Pclass  \\\n",
       "0            1         0       3   \n",
       "1            2         1       1   \n",
       "2            3         1       3   \n",
       "3            4         1       1   \n",
       "4            5         0       3   \n",
       "\n",
       "                                                Name     Sex   Age  SibSp  \\\n",
       "0                            Braund, Mr. Owen Harris    male  22.0      1   \n",
       "1  Cumings, Mrs. John Bradley (Florence Briggs Th...  female  38.0      1   \n",
       "2                             Heikkinen, Miss. Laina  female  26.0      0   \n",
       "3       Futrelle, Mrs. Jacques Heath (Lily May Peel)  female  35.0      1   \n",
       "4                           Allen, Mr. William Henry    male  35.0      0   \n",
       "\n",
       "   Parch            Ticket     Fare Cabin Embarked  \n",
       "0      0         A/5 21171   7.2500   NaN        S  \n",
       "1      0          PC 17599  71.2833   C85        C  \n",
       "2      0  STON/O2. 3101282   7.9250   NaN        S  \n",
       "3      0            113803  53.1000  C123        S  \n",
       "4      0            373450   8.0500   NaN        S  "
      ]
     },
     "execution_count": 224,
     "metadata": {},
     "output_type": "execute_result"
    }
   ],
   "source": [
    "df.head()"
   ]
  },
  {
   "cell_type": "code",
   "execution_count": 225,
   "id": "947c469f",
   "metadata": {
    "execution": {
     "iopub.execute_input": "2023-10-11T14:44:56.895151Z",
     "iopub.status.busy": "2023-10-11T14:44:56.894780Z",
     "iopub.status.idle": "2023-10-11T14:44:56.901222Z",
     "shell.execute_reply": "2023-10-11T14:44:56.900216Z"
    },
    "papermill": {
     "duration": 0.092591,
     "end_time": "2023-10-11T14:44:56.903095",
     "exception": false,
     "start_time": "2023-10-11T14:44:56.810504",
     "status": "completed"
    },
    "tags": []
   },
   "outputs": [],
   "source": [
    "df[\"Age2\"] = df[\"Age\"]*2\n",
    "df[\"Age3\"] = df[\"Age\"]*5"
   ]
  },
  {
   "cell_type": "code",
   "execution_count": 226,
   "id": "d125a8bf",
   "metadata": {
    "execution": {
     "iopub.execute_input": "2023-10-11T14:44:57.073004Z",
     "iopub.status.busy": "2023-10-11T14:44:57.072166Z",
     "iopub.status.idle": "2023-10-11T14:44:57.081562Z",
     "shell.execute_reply": "2023-10-11T14:44:57.080192Z"
    },
    "papermill": {
     "duration": 0.096782,
     "end_time": "2023-10-11T14:44:57.083210",
     "exception": false,
     "start_time": "2023-10-11T14:44:56.986428",
     "status": "completed"
    },
    "tags": []
   },
   "outputs": [
    {
     "name": "stdout",
     "output_type": "stream",
     "text": [
      "Age\n",
      "Age2\n",
      "Age3\n",
      "0    2.2\n",
      "1    3.8\n",
      "2    2.6\n",
      "3    3.5\n",
      "4    3.5\n",
      "Name: Age, dtype: float64\n",
      "0    4.4\n",
      "1    7.6\n",
      "2    5.2\n",
      "3    7.0\n",
      "4    7.0\n",
      "Name: Age2, dtype: float64\n",
      "0    11.0\n",
      "1    19.0\n",
      "2    13.0\n",
      "3    17.5\n",
      "4    17.5\n",
      "Name: Age3, dtype: float64\n"
     ]
    }
   ],
   "source": [
    "for col in df.columns:\n",
    "    if \"Age\" in col:\n",
    "        print(col)\n",
    "\n",
    "for col in df.columns:\n",
    "    if \"Age\" in col:\n",
    "        print((df[col]/10).head())\n",
    "\n",
    "for col in df.columns:\n",
    "    if \"Age\" in col:\n",
    "        df[col] = df[col]/10"
   ]
  },
  {
   "cell_type": "code",
   "execution_count": 227,
   "id": "c67eea0d",
   "metadata": {
    "execution": {
     "iopub.execute_input": "2023-10-11T14:44:57.248097Z",
     "iopub.status.busy": "2023-10-11T14:44:57.247522Z",
     "iopub.status.idle": "2023-10-11T14:44:57.260450Z",
     "shell.execute_reply": "2023-10-11T14:44:57.259424Z"
    },
    "papermill": {
     "duration": 0.097609,
     "end_time": "2023-10-11T14:44:57.262518",
     "exception": false,
     "start_time": "2023-10-11T14:44:57.164909",
     "status": "completed"
    },
    "tags": []
   },
   "outputs": [
    {
     "data": {
      "text/html": [
       "<div>\n",
       "<style scoped>\n",
       "    .dataframe tbody tr th:only-of-type {\n",
       "        vertical-align: middle;\n",
       "    }\n",
       "\n",
       "    .dataframe tbody tr th {\n",
       "        vertical-align: top;\n",
       "    }\n",
       "\n",
       "    .dataframe thead th {\n",
       "        text-align: right;\n",
       "    }\n",
       "</style>\n",
       "<table border=\"1\" class=\"dataframe\">\n",
       "  <thead>\n",
       "    <tr style=\"text-align: right;\">\n",
       "      <th></th>\n",
       "      <th>Age</th>\n",
       "      <th>Age2</th>\n",
       "      <th>Age3</th>\n",
       "    </tr>\n",
       "  </thead>\n",
       "  <tbody>\n",
       "    <tr>\n",
       "      <th>0</th>\n",
       "      <td>0.22</td>\n",
       "      <td>0.44</td>\n",
       "      <td>1.10</td>\n",
       "    </tr>\n",
       "    <tr>\n",
       "      <th>1</th>\n",
       "      <td>0.38</td>\n",
       "      <td>0.76</td>\n",
       "      <td>1.90</td>\n",
       "    </tr>\n",
       "    <tr>\n",
       "      <th>2</th>\n",
       "      <td>0.26</td>\n",
       "      <td>0.52</td>\n",
       "      <td>1.30</td>\n",
       "    </tr>\n",
       "    <tr>\n",
       "      <th>3</th>\n",
       "      <td>0.35</td>\n",
       "      <td>0.70</td>\n",
       "      <td>1.75</td>\n",
       "    </tr>\n",
       "    <tr>\n",
       "      <th>4</th>\n",
       "      <td>0.35</td>\n",
       "      <td>0.70</td>\n",
       "      <td>1.75</td>\n",
       "    </tr>\n",
       "  </tbody>\n",
       "</table>\n",
       "</div>"
      ],
      "text/plain": [
       "    Age  Age2  Age3\n",
       "0  0.22  0.44  1.10\n",
       "1  0.38  0.76  1.90\n",
       "2  0.26  0.52  1.30\n",
       "3  0.35  0.70  1.75\n",
       "4  0.35  0.70  1.75"
      ]
     },
     "execution_count": 227,
     "metadata": {},
     "output_type": "execute_result"
    }
   ],
   "source": [
    "df[[\"Age\", \"Age2\", \"Age3\"]].apply(lambda x: x/10).head()"
   ]
  },
  {
   "cell_type": "code",
   "execution_count": 228,
   "id": "5dc7b8e6",
   "metadata": {
    "execution": {
     "iopub.execute_input": "2023-10-11T14:44:57.428596Z",
     "iopub.status.busy": "2023-10-11T14:44:57.428038Z",
     "iopub.status.idle": "2023-10-11T14:44:57.440344Z",
     "shell.execute_reply": "2023-10-11T14:44:57.439568Z"
    },
    "papermill": {
     "duration": 0.096853,
     "end_time": "2023-10-11T14:44:57.442285",
     "exception": false,
     "start_time": "2023-10-11T14:44:57.345432",
     "status": "completed"
    },
    "tags": []
   },
   "outputs": [
    {
     "data": {
      "text/html": [
       "<div>\n",
       "<style scoped>\n",
       "    .dataframe tbody tr th:only-of-type {\n",
       "        vertical-align: middle;\n",
       "    }\n",
       "\n",
       "    .dataframe tbody tr th {\n",
       "        vertical-align: top;\n",
       "    }\n",
       "\n",
       "    .dataframe thead th {\n",
       "        text-align: right;\n",
       "    }\n",
       "</style>\n",
       "<table border=\"1\" class=\"dataframe\">\n",
       "  <thead>\n",
       "    <tr style=\"text-align: right;\">\n",
       "      <th></th>\n",
       "      <th>Age</th>\n",
       "      <th>Age2</th>\n",
       "      <th>Age3</th>\n",
       "    </tr>\n",
       "  </thead>\n",
       "  <tbody>\n",
       "    <tr>\n",
       "      <th>0</th>\n",
       "      <td>0.22</td>\n",
       "      <td>0.44</td>\n",
       "      <td>1.10</td>\n",
       "    </tr>\n",
       "    <tr>\n",
       "      <th>1</th>\n",
       "      <td>0.38</td>\n",
       "      <td>0.76</td>\n",
       "      <td>1.90</td>\n",
       "    </tr>\n",
       "    <tr>\n",
       "      <th>2</th>\n",
       "      <td>0.26</td>\n",
       "      <td>0.52</td>\n",
       "      <td>1.30</td>\n",
       "    </tr>\n",
       "    <tr>\n",
       "      <th>3</th>\n",
       "      <td>0.35</td>\n",
       "      <td>0.70</td>\n",
       "      <td>1.75</td>\n",
       "    </tr>\n",
       "    <tr>\n",
       "      <th>4</th>\n",
       "      <td>0.35</td>\n",
       "      <td>0.70</td>\n",
       "      <td>1.75</td>\n",
       "    </tr>\n",
       "  </tbody>\n",
       "</table>\n",
       "</div>"
      ],
      "text/plain": [
       "    Age  Age2  Age3\n",
       "0  0.22  0.44  1.10\n",
       "1  0.38  0.76  1.90\n",
       "2  0.26  0.52  1.30\n",
       "3  0.35  0.70  1.75\n",
       "4  0.35  0.70  1.75"
      ]
     },
     "execution_count": 228,
     "metadata": {},
     "output_type": "execute_result"
    }
   ],
   "source": [
    "df.loc[:, df.columns.str.contains(\"Age\")].apply(lambda x: x/10).head()"
   ]
  },
  {
   "cell_type": "code",
   "execution_count": 229,
   "id": "4655ae6a",
   "metadata": {
    "execution": {
     "iopub.execute_input": "2023-10-11T14:44:57.608911Z",
     "iopub.status.busy": "2023-10-11T14:44:57.608155Z",
     "iopub.status.idle": "2023-10-11T14:44:57.621437Z",
     "shell.execute_reply": "2023-10-11T14:44:57.620538Z"
    },
    "papermill": {
     "duration": 0.099185,
     "end_time": "2023-10-11T14:44:57.623310",
     "exception": false,
     "start_time": "2023-10-11T14:44:57.524125",
     "status": "completed"
    },
    "tags": []
   },
   "outputs": [
    {
     "data": {
      "text/html": [
       "<div>\n",
       "<style scoped>\n",
       "    .dataframe tbody tr th:only-of-type {\n",
       "        vertical-align: middle;\n",
       "    }\n",
       "\n",
       "    .dataframe tbody tr th {\n",
       "        vertical-align: top;\n",
       "    }\n",
       "\n",
       "    .dataframe thead th {\n",
       "        text-align: right;\n",
       "    }\n",
       "</style>\n",
       "<table border=\"1\" class=\"dataframe\">\n",
       "  <thead>\n",
       "    <tr style=\"text-align: right;\">\n",
       "      <th></th>\n",
       "      <th>Age</th>\n",
       "      <th>Age2</th>\n",
       "      <th>Age3</th>\n",
       "    </tr>\n",
       "  </thead>\n",
       "  <tbody>\n",
       "    <tr>\n",
       "      <th>0</th>\n",
       "      <td>-0.530005</td>\n",
       "      <td>-0.530005</td>\n",
       "      <td>-0.530005</td>\n",
       "    </tr>\n",
       "    <tr>\n",
       "      <th>1</th>\n",
       "      <td>0.571430</td>\n",
       "      <td>0.571430</td>\n",
       "      <td>0.571430</td>\n",
       "    </tr>\n",
       "    <tr>\n",
       "      <th>2</th>\n",
       "      <td>-0.254646</td>\n",
       "      <td>-0.254646</td>\n",
       "      <td>-0.254646</td>\n",
       "    </tr>\n",
       "    <tr>\n",
       "      <th>3</th>\n",
       "      <td>0.364911</td>\n",
       "      <td>0.364911</td>\n",
       "      <td>0.364911</td>\n",
       "    </tr>\n",
       "    <tr>\n",
       "      <th>4</th>\n",
       "      <td>0.364911</td>\n",
       "      <td>0.364911</td>\n",
       "      <td>0.364911</td>\n",
       "    </tr>\n",
       "  </tbody>\n",
       "</table>\n",
       "</div>"
      ],
      "text/plain": [
       "        Age      Age2      Age3\n",
       "0 -0.530005 -0.530005 -0.530005\n",
       "1  0.571430  0.571430  0.571430\n",
       "2 -0.254646 -0.254646 -0.254646\n",
       "3  0.364911  0.364911  0.364911\n",
       "4  0.364911  0.364911  0.364911"
      ]
     },
     "execution_count": 229,
     "metadata": {},
     "output_type": "execute_result"
    }
   ],
   "source": [
    "df.loc[:, df.columns.str.contains(\"Age\")].apply(lambda x: (x - x.mean()) / x.std()).head()"
   ]
  },
  {
   "cell_type": "code",
   "execution_count": 230,
   "id": "384c5971",
   "metadata": {
    "execution": {
     "iopub.execute_input": "2023-10-11T14:44:57.850187Z",
     "iopub.status.busy": "2023-10-11T14:44:57.849843Z",
     "iopub.status.idle": "2023-10-11T14:44:57.862827Z",
     "shell.execute_reply": "2023-10-11T14:44:57.862047Z"
    },
    "papermill": {
     "duration": 0.159022,
     "end_time": "2023-10-11T14:44:57.864729",
     "exception": false,
     "start_time": "2023-10-11T14:44:57.705707",
     "status": "completed"
    },
    "tags": []
   },
   "outputs": [
    {
     "data": {
      "text/html": [
       "<div>\n",
       "<style scoped>\n",
       "    .dataframe tbody tr th:only-of-type {\n",
       "        vertical-align: middle;\n",
       "    }\n",
       "\n",
       "    .dataframe tbody tr th {\n",
       "        vertical-align: top;\n",
       "    }\n",
       "\n",
       "    .dataframe thead th {\n",
       "        text-align: right;\n",
       "    }\n",
       "</style>\n",
       "<table border=\"1\" class=\"dataframe\">\n",
       "  <thead>\n",
       "    <tr style=\"text-align: right;\">\n",
       "      <th></th>\n",
       "      <th>Age</th>\n",
       "      <th>Age2</th>\n",
       "      <th>Age3</th>\n",
       "    </tr>\n",
       "  </thead>\n",
       "  <tbody>\n",
       "    <tr>\n",
       "      <th>0</th>\n",
       "      <td>-0.530005</td>\n",
       "      <td>-0.530005</td>\n",
       "      <td>-0.530005</td>\n",
       "    </tr>\n",
       "    <tr>\n",
       "      <th>1</th>\n",
       "      <td>0.571430</td>\n",
       "      <td>0.571430</td>\n",
       "      <td>0.571430</td>\n",
       "    </tr>\n",
       "    <tr>\n",
       "      <th>2</th>\n",
       "      <td>-0.254646</td>\n",
       "      <td>-0.254646</td>\n",
       "      <td>-0.254646</td>\n",
       "    </tr>\n",
       "    <tr>\n",
       "      <th>3</th>\n",
       "      <td>0.364911</td>\n",
       "      <td>0.364911</td>\n",
       "      <td>0.364911</td>\n",
       "    </tr>\n",
       "    <tr>\n",
       "      <th>4</th>\n",
       "      <td>0.364911</td>\n",
       "      <td>0.364911</td>\n",
       "      <td>0.364911</td>\n",
       "    </tr>\n",
       "  </tbody>\n",
       "</table>\n",
       "</div>"
      ],
      "text/plain": [
       "        Age      Age2      Age3\n",
       "0 -0.530005 -0.530005 -0.530005\n",
       "1  0.571430  0.571430  0.571430\n",
       "2 -0.254646 -0.254646 -0.254646\n",
       "3  0.364911  0.364911  0.364911\n",
       "4  0.364911  0.364911  0.364911"
      ]
     },
     "execution_count": 230,
     "metadata": {},
     "output_type": "execute_result"
    }
   ],
   "source": [
    "def standart_scaler(col_name):\n",
    "    return (col_name - col_name.mean()) / col_name.std()\n",
    "\n",
    "df.loc[:, df.columns.str.contains(\"Age\")].apply(standart_scaler).head()"
   ]
  },
  {
   "cell_type": "markdown",
   "id": "bf418935",
   "metadata": {
    "papermill": {
     "duration": 0.081379,
     "end_time": "2023-10-11T14:44:58.030289",
     "exception": false,
     "start_time": "2023-10-11T14:44:57.948910",
     "status": "completed"
    },
    "tags": []
   },
   "source": [
    "----"
   ]
  },
  {
   "cell_type": "code",
   "execution_count": 231,
   "id": "8276d3e3",
   "metadata": {
    "execution": {
     "iopub.execute_input": "2023-10-11T14:44:58.198095Z",
     "iopub.status.busy": "2023-10-11T14:44:58.197636Z",
     "iopub.status.idle": "2023-10-11T14:44:59.192908Z",
     "shell.execute_reply": "2023-10-11T14:44:59.191911Z"
    },
    "papermill": {
     "duration": 1.080397,
     "end_time": "2023-10-11T14:44:59.194985",
     "exception": false,
     "start_time": "2023-10-11T14:44:58.114588",
     "status": "completed"
    },
    "tags": []
   },
   "outputs": [
    {
     "data": {
      "text/html": [
       "<div>\n",
       "<style scoped>\n",
       "    .dataframe tbody tr th:only-of-type {\n",
       "        vertical-align: middle;\n",
       "    }\n",
       "\n",
       "    .dataframe tbody tr th {\n",
       "        vertical-align: top;\n",
       "    }\n",
       "\n",
       "    .dataframe thead th {\n",
       "        text-align: right;\n",
       "    }\n",
       "</style>\n",
       "<table border=\"1\" class=\"dataframe\">\n",
       "  <thead>\n",
       "    <tr style=\"text-align: right;\">\n",
       "      <th></th>\n",
       "      <th>total_bill</th>\n",
       "      <th>tip</th>\n",
       "      <th>sex</th>\n",
       "      <th>smoker</th>\n",
       "      <th>day</th>\n",
       "      <th>time</th>\n",
       "      <th>size</th>\n",
       "    </tr>\n",
       "  </thead>\n",
       "  <tbody>\n",
       "    <tr>\n",
       "      <th>0</th>\n",
       "      <td>16.99</td>\n",
       "      <td>1.01</td>\n",
       "      <td>Female</td>\n",
       "      <td>No</td>\n",
       "      <td>Sun</td>\n",
       "      <td>Dinner</td>\n",
       "      <td>2</td>\n",
       "    </tr>\n",
       "    <tr>\n",
       "      <th>1</th>\n",
       "      <td>10.34</td>\n",
       "      <td>1.66</td>\n",
       "      <td>Male</td>\n",
       "      <td>No</td>\n",
       "      <td>Sun</td>\n",
       "      <td>Dinner</td>\n",
       "      <td>3</td>\n",
       "    </tr>\n",
       "    <tr>\n",
       "      <th>2</th>\n",
       "      <td>21.01</td>\n",
       "      <td>3.50</td>\n",
       "      <td>Male</td>\n",
       "      <td>No</td>\n",
       "      <td>Sun</td>\n",
       "      <td>Dinner</td>\n",
       "      <td>3</td>\n",
       "    </tr>\n",
       "    <tr>\n",
       "      <th>3</th>\n",
       "      <td>23.68</td>\n",
       "      <td>3.31</td>\n",
       "      <td>Male</td>\n",
       "      <td>No</td>\n",
       "      <td>Sun</td>\n",
       "      <td>Dinner</td>\n",
       "      <td>2</td>\n",
       "    </tr>\n",
       "    <tr>\n",
       "      <th>4</th>\n",
       "      <td>24.59</td>\n",
       "      <td>3.61</td>\n",
       "      <td>Female</td>\n",
       "      <td>No</td>\n",
       "      <td>Sun</td>\n",
       "      <td>Dinner</td>\n",
       "      <td>4</td>\n",
       "    </tr>\n",
       "  </tbody>\n",
       "</table>\n",
       "</div>"
      ],
      "text/plain": [
       "   total_bill   tip     sex smoker  day    time  size\n",
       "0       16.99  1.01  Female     No  Sun  Dinner     2\n",
       "1       10.34  1.66    Male     No  Sun  Dinner     3\n",
       "2       21.01  3.50    Male     No  Sun  Dinner     3\n",
       "3       23.68  3.31    Male     No  Sun  Dinner     2\n",
       "4       24.59  3.61  Female     No  Sun  Dinner     4"
      ]
     },
     "execution_count": 231,
     "metadata": {},
     "output_type": "execute_result"
    }
   ],
   "source": [
    "data = sns.load_dataset(\"tips\")\n",
    "\n",
    "data.head()"
   ]
  },
  {
   "cell_type": "code",
   "execution_count": 232,
   "id": "f4a14de8",
   "metadata": {
    "execution": {
     "iopub.execute_input": "2023-10-11T14:44:59.361586Z",
     "iopub.status.busy": "2023-10-11T14:44:59.361249Z",
     "iopub.status.idle": "2023-10-11T14:44:59.379863Z",
     "shell.execute_reply": "2023-10-11T14:44:59.378902Z"
    },
    "papermill": {
     "duration": 0.104657,
     "end_time": "2023-10-11T14:44:59.381768",
     "exception": false,
     "start_time": "2023-10-11T14:44:59.277111",
     "status": "completed"
    },
    "tags": []
   },
   "outputs": [
    {
     "data": {
      "text/html": [
       "<div>\n",
       "<style scoped>\n",
       "    .dataframe tbody tr th:only-of-type {\n",
       "        vertical-align: middle;\n",
       "    }\n",
       "\n",
       "    .dataframe tbody tr th {\n",
       "        vertical-align: top;\n",
       "    }\n",
       "\n",
       "    .dataframe thead tr th {\n",
       "        text-align: left;\n",
       "    }\n",
       "\n",
       "    .dataframe thead tr:last-of-type th {\n",
       "        text-align: right;\n",
       "    }\n",
       "</style>\n",
       "<table border=\"1\" class=\"dataframe\">\n",
       "  <thead>\n",
       "    <tr>\n",
       "      <th></th>\n",
       "      <th colspan=\"4\" halign=\"left\">total_bill</th>\n",
       "    </tr>\n",
       "    <tr>\n",
       "      <th></th>\n",
       "      <th>sum</th>\n",
       "      <th>min</th>\n",
       "      <th>max</th>\n",
       "      <th>mean</th>\n",
       "    </tr>\n",
       "    <tr>\n",
       "      <th>time</th>\n",
       "      <th></th>\n",
       "      <th></th>\n",
       "      <th></th>\n",
       "      <th></th>\n",
       "    </tr>\n",
       "  </thead>\n",
       "  <tbody>\n",
       "    <tr>\n",
       "      <th>Lunch</th>\n",
       "      <td>1167.47</td>\n",
       "      <td>7.51</td>\n",
       "      <td>43.11</td>\n",
       "      <td>17.168676</td>\n",
       "    </tr>\n",
       "    <tr>\n",
       "      <th>Dinner</th>\n",
       "      <td>3660.30</td>\n",
       "      <td>3.07</td>\n",
       "      <td>50.81</td>\n",
       "      <td>20.797159</td>\n",
       "    </tr>\n",
       "  </tbody>\n",
       "</table>\n",
       "</div>"
      ],
      "text/plain": [
       "       total_bill                        \n",
       "              sum   min    max       mean\n",
       "time                                     \n",
       "Lunch     1167.47  7.51  43.11  17.168676\n",
       "Dinner    3660.30  3.07  50.81  20.797159"
      ]
     },
     "execution_count": 232,
     "metadata": {},
     "output_type": "execute_result"
    }
   ],
   "source": [
    "data.groupby('time').agg({\"total_bill\" : ['sum', 'min', 'max', 'mean']})"
   ]
  },
  {
   "cell_type": "code",
   "execution_count": 233,
   "id": "d3d2a870",
   "metadata": {
    "execution": {
     "iopub.execute_input": "2023-10-11T14:44:59.548186Z",
     "iopub.status.busy": "2023-10-11T14:44:59.547864Z",
     "iopub.status.idle": "2023-10-11T14:44:59.573245Z",
     "shell.execute_reply": "2023-10-11T14:44:59.572346Z"
    },
    "papermill": {
     "duration": 0.110787,
     "end_time": "2023-10-11T14:44:59.575203",
     "exception": false,
     "start_time": "2023-10-11T14:44:59.464416",
     "status": "completed"
    },
    "tags": []
   },
   "outputs": [
    {
     "data": {
      "text/html": [
       "<div>\n",
       "<style scoped>\n",
       "    .dataframe tbody tr th:only-of-type {\n",
       "        vertical-align: middle;\n",
       "    }\n",
       "\n",
       "    .dataframe tbody tr th {\n",
       "        vertical-align: top;\n",
       "    }\n",
       "\n",
       "    .dataframe thead tr th {\n",
       "        text-align: left;\n",
       "    }\n",
       "\n",
       "    .dataframe thead tr:last-of-type th {\n",
       "        text-align: right;\n",
       "    }\n",
       "</style>\n",
       "<table border=\"1\" class=\"dataframe\">\n",
       "  <thead>\n",
       "    <tr>\n",
       "      <th></th>\n",
       "      <th></th>\n",
       "      <th colspan=\"4\" halign=\"left\">total_bill</th>\n",
       "    </tr>\n",
       "    <tr>\n",
       "      <th></th>\n",
       "      <th></th>\n",
       "      <th>sum</th>\n",
       "      <th>min</th>\n",
       "      <th>max</th>\n",
       "      <th>mean</th>\n",
       "    </tr>\n",
       "    <tr>\n",
       "      <th>day</th>\n",
       "      <th>time</th>\n",
       "      <th></th>\n",
       "      <th></th>\n",
       "      <th></th>\n",
       "      <th></th>\n",
       "    </tr>\n",
       "  </thead>\n",
       "  <tbody>\n",
       "    <tr>\n",
       "      <th rowspan=\"2\" valign=\"top\">Thur</th>\n",
       "      <th>Lunch</th>\n",
       "      <td>1077.55</td>\n",
       "      <td>7.51</td>\n",
       "      <td>43.11</td>\n",
       "      <td>17.664754</td>\n",
       "    </tr>\n",
       "    <tr>\n",
       "      <th>Dinner</th>\n",
       "      <td>18.78</td>\n",
       "      <td>18.78</td>\n",
       "      <td>18.78</td>\n",
       "      <td>18.780000</td>\n",
       "    </tr>\n",
       "    <tr>\n",
       "      <th rowspan=\"2\" valign=\"top\">Fri</th>\n",
       "      <th>Lunch</th>\n",
       "      <td>89.92</td>\n",
       "      <td>8.58</td>\n",
       "      <td>16.27</td>\n",
       "      <td>12.845714</td>\n",
       "    </tr>\n",
       "    <tr>\n",
       "      <th>Dinner</th>\n",
       "      <td>235.96</td>\n",
       "      <td>5.75</td>\n",
       "      <td>40.17</td>\n",
       "      <td>19.663333</td>\n",
       "    </tr>\n",
       "    <tr>\n",
       "      <th rowspan=\"2\" valign=\"top\">Sat</th>\n",
       "      <th>Lunch</th>\n",
       "      <td>0.00</td>\n",
       "      <td>NaN</td>\n",
       "      <td>NaN</td>\n",
       "      <td>NaN</td>\n",
       "    </tr>\n",
       "    <tr>\n",
       "      <th>Dinner</th>\n",
       "      <td>1778.40</td>\n",
       "      <td>3.07</td>\n",
       "      <td>50.81</td>\n",
       "      <td>20.441379</td>\n",
       "    </tr>\n",
       "    <tr>\n",
       "      <th rowspan=\"2\" valign=\"top\">Sun</th>\n",
       "      <th>Lunch</th>\n",
       "      <td>0.00</td>\n",
       "      <td>NaN</td>\n",
       "      <td>NaN</td>\n",
       "      <td>NaN</td>\n",
       "    </tr>\n",
       "    <tr>\n",
       "      <th>Dinner</th>\n",
       "      <td>1627.16</td>\n",
       "      <td>7.25</td>\n",
       "      <td>48.17</td>\n",
       "      <td>21.410000</td>\n",
       "    </tr>\n",
       "  </tbody>\n",
       "</table>\n",
       "</div>"
      ],
      "text/plain": [
       "            total_bill                         \n",
       "                   sum    min    max       mean\n",
       "day  time                                      \n",
       "Thur Lunch     1077.55   7.51  43.11  17.664754\n",
       "     Dinner      18.78  18.78  18.78  18.780000\n",
       "Fri  Lunch       89.92   8.58  16.27  12.845714\n",
       "     Dinner     235.96   5.75  40.17  19.663333\n",
       "Sat  Lunch        0.00    NaN    NaN        NaN\n",
       "     Dinner    1778.40   3.07  50.81  20.441379\n",
       "Sun  Lunch        0.00    NaN    NaN        NaN\n",
       "     Dinner    1627.16   7.25  48.17  21.410000"
      ]
     },
     "execution_count": 233,
     "metadata": {},
     "output_type": "execute_result"
    }
   ],
   "source": [
    "data.groupby([\"day\",\"time\"]).agg({\"total_bill\" :['sum', 'min', 'max', 'mean']})"
   ]
  },
  {
   "cell_type": "code",
   "execution_count": 234,
   "id": "4f600f99",
   "metadata": {
    "execution": {
     "iopub.execute_input": "2023-10-11T14:44:59.742699Z",
     "iopub.status.busy": "2023-10-11T14:44:59.742106Z",
     "iopub.status.idle": "2023-10-11T14:44:59.762733Z",
     "shell.execute_reply": "2023-10-11T14:44:59.761631Z"
    },
    "papermill": {
     "duration": 0.10708,
     "end_time": "2023-10-11T14:44:59.765082",
     "exception": false,
     "start_time": "2023-10-11T14:44:59.658002",
     "status": "completed"
    },
    "tags": []
   },
   "outputs": [
    {
     "data": {
      "text/html": [
       "<div>\n",
       "<style scoped>\n",
       "    .dataframe tbody tr th:only-of-type {\n",
       "        vertical-align: middle;\n",
       "    }\n",
       "\n",
       "    .dataframe tbody tr th {\n",
       "        vertical-align: top;\n",
       "    }\n",
       "\n",
       "    .dataframe thead tr th {\n",
       "        text-align: left;\n",
       "    }\n",
       "\n",
       "    .dataframe thead tr:last-of-type th {\n",
       "        text-align: right;\n",
       "    }\n",
       "</style>\n",
       "<table border=\"1\" class=\"dataframe\">\n",
       "  <thead>\n",
       "    <tr>\n",
       "      <th></th>\n",
       "      <th colspan=\"4\" halign=\"left\">total_bill</th>\n",
       "      <th colspan=\"4\" halign=\"left\">tip</th>\n",
       "    </tr>\n",
       "    <tr>\n",
       "      <th></th>\n",
       "      <th>sum</th>\n",
       "      <th>min</th>\n",
       "      <th>max</th>\n",
       "      <th>mean</th>\n",
       "      <th>sum</th>\n",
       "      <th>min</th>\n",
       "      <th>max</th>\n",
       "      <th>mean</th>\n",
       "    </tr>\n",
       "    <tr>\n",
       "      <th>day</th>\n",
       "      <th></th>\n",
       "      <th></th>\n",
       "      <th></th>\n",
       "      <th></th>\n",
       "      <th></th>\n",
       "      <th></th>\n",
       "      <th></th>\n",
       "      <th></th>\n",
       "    </tr>\n",
       "  </thead>\n",
       "  <tbody>\n",
       "    <tr>\n",
       "      <th>Thur</th>\n",
       "      <td>516.11</td>\n",
       "      <td>8.35</td>\n",
       "      <td>43.11</td>\n",
       "      <td>16.64871</td>\n",
       "      <td>79.42</td>\n",
       "      <td>1.25</td>\n",
       "      <td>5.17</td>\n",
       "      <td>2.561935</td>\n",
       "    </tr>\n",
       "    <tr>\n",
       "      <th>Fri</th>\n",
       "      <td>55.76</td>\n",
       "      <td>10.09</td>\n",
       "      <td>16.27</td>\n",
       "      <td>13.94000</td>\n",
       "      <td>10.98</td>\n",
       "      <td>2.00</td>\n",
       "      <td>3.48</td>\n",
       "      <td>2.745000</td>\n",
       "    </tr>\n",
       "    <tr>\n",
       "      <th>Sat</th>\n",
       "      <td>0.00</td>\n",
       "      <td>NaN</td>\n",
       "      <td>NaN</td>\n",
       "      <td>NaN</td>\n",
       "      <td>0.00</td>\n",
       "      <td>NaN</td>\n",
       "      <td>NaN</td>\n",
       "      <td>NaN</td>\n",
       "    </tr>\n",
       "    <tr>\n",
       "      <th>Sun</th>\n",
       "      <td>0.00</td>\n",
       "      <td>NaN</td>\n",
       "      <td>NaN</td>\n",
       "      <td>NaN</td>\n",
       "      <td>0.00</td>\n",
       "      <td>NaN</td>\n",
       "      <td>NaN</td>\n",
       "      <td>NaN</td>\n",
       "    </tr>\n",
       "  </tbody>\n",
       "</table>\n",
       "</div>"
      ],
      "text/plain": [
       "     total_bill                            tip                      \n",
       "            sum    min    max      mean    sum   min   max      mean\n",
       "day                                                                 \n",
       "Thur     516.11   8.35  43.11  16.64871  79.42  1.25  5.17  2.561935\n",
       "Fri       55.76  10.09  16.27  13.94000  10.98  2.00  3.48  2.745000\n",
       "Sat        0.00    NaN    NaN       NaN   0.00   NaN   NaN       NaN\n",
       "Sun        0.00    NaN    NaN       NaN   0.00   NaN   NaN       NaN"
      ]
     },
     "execution_count": 234,
     "metadata": {},
     "output_type": "execute_result"
    }
   ],
   "source": [
    "data1 = data[(data['time'] == 'Lunch') & (data['sex'] == 'Female')]\n",
    "\n",
    "data1.groupby([\"day\"]).agg({\"total_bill\" : ['sum', 'min', 'max', 'mean'], \"tip\" : ['sum', 'min', 'max', 'mean']})"
   ]
  },
  {
   "cell_type": "code",
   "execution_count": 235,
   "id": "6876d604",
   "metadata": {
    "execution": {
     "iopub.execute_input": "2023-10-11T14:44:59.935122Z",
     "iopub.status.busy": "2023-10-11T14:44:59.934550Z",
     "iopub.status.idle": "2023-10-11T14:44:59.946185Z",
     "shell.execute_reply": "2023-10-11T14:44:59.945170Z"
    },
    "papermill": {
     "duration": 0.100106,
     "end_time": "2023-10-11T14:44:59.948086",
     "exception": false,
     "start_time": "2023-10-11T14:44:59.847980",
     "status": "completed"
    },
    "tags": []
   },
   "outputs": [
    {
     "data": {
      "text/html": [
       "<div>\n",
       "<style scoped>\n",
       "    .dataframe tbody tr th:only-of-type {\n",
       "        vertical-align: middle;\n",
       "    }\n",
       "\n",
       "    .dataframe tbody tr th {\n",
       "        vertical-align: top;\n",
       "    }\n",
       "\n",
       "    .dataframe thead th {\n",
       "        text-align: right;\n",
       "    }\n",
       "</style>\n",
       "<table border=\"1\" class=\"dataframe\">\n",
       "  <thead>\n",
       "    <tr style=\"text-align: right;\">\n",
       "      <th></th>\n",
       "      <th>total_bill</th>\n",
       "    </tr>\n",
       "  </thead>\n",
       "  <tbody>\n",
       "    <tr>\n",
       "      <th>mean</th>\n",
       "      <td>17.184965</td>\n",
       "    </tr>\n",
       "  </tbody>\n",
       "</table>\n",
       "</div>"
      ],
      "text/plain": [
       "      total_bill\n",
       "mean   17.184965"
      ]
     },
     "execution_count": 235,
     "metadata": {},
     "output_type": "execute_result"
    }
   ],
   "source": [
    "data[(data[\"size\"] < 3) & (data[\"total_bill\"] > 10)].agg({\"total_bill\" : [\"mean\"]})"
   ]
  },
  {
   "cell_type": "code",
   "execution_count": 236,
   "id": "fc0872da",
   "metadata": {
    "execution": {
     "iopub.execute_input": "2023-10-11T14:45:00.121858Z",
     "iopub.status.busy": "2023-10-11T14:45:00.120949Z",
     "iopub.status.idle": "2023-10-11T14:45:00.127618Z",
     "shell.execute_reply": "2023-10-11T14:45:00.126612Z"
    },
    "papermill": {
     "duration": 0.095189,
     "end_time": "2023-10-11T14:45:00.129788",
     "exception": false,
     "start_time": "2023-10-11T14:45:00.034599",
     "status": "completed"
    },
    "tags": []
   },
   "outputs": [],
   "source": [
    "data[\"total_bill_tip_sum\"] = data['total_bill'] + data['tip']"
   ]
  },
  {
   "cell_type": "code",
   "execution_count": 237,
   "id": "37a6fe7d",
   "metadata": {
    "execution": {
     "iopub.execute_input": "2023-10-11T14:45:00.297311Z",
     "iopub.status.busy": "2023-10-11T14:45:00.296438Z",
     "iopub.status.idle": "2023-10-11T14:45:00.311560Z",
     "shell.execute_reply": "2023-10-11T14:45:00.310558Z"
    },
    "papermill": {
     "duration": 0.100899,
     "end_time": "2023-10-11T14:45:00.313423",
     "exception": false,
     "start_time": "2023-10-11T14:45:00.212524",
     "status": "completed"
    },
    "tags": []
   },
   "outputs": [
    {
     "data": {
      "text/html": [
       "<div>\n",
       "<style scoped>\n",
       "    .dataframe tbody tr th:only-of-type {\n",
       "        vertical-align: middle;\n",
       "    }\n",
       "\n",
       "    .dataframe tbody tr th {\n",
       "        vertical-align: top;\n",
       "    }\n",
       "\n",
       "    .dataframe thead th {\n",
       "        text-align: right;\n",
       "    }\n",
       "</style>\n",
       "<table border=\"1\" class=\"dataframe\">\n",
       "  <thead>\n",
       "    <tr style=\"text-align: right;\">\n",
       "      <th></th>\n",
       "      <th>total_bill</th>\n",
       "      <th>tip</th>\n",
       "      <th>sex</th>\n",
       "      <th>smoker</th>\n",
       "      <th>day</th>\n",
       "      <th>time</th>\n",
       "      <th>size</th>\n",
       "      <th>total_bill_tip_sum</th>\n",
       "    </tr>\n",
       "  </thead>\n",
       "  <tbody>\n",
       "    <tr>\n",
       "      <th>0</th>\n",
       "      <td>50.81</td>\n",
       "      <td>10.00</td>\n",
       "      <td>Male</td>\n",
       "      <td>Yes</td>\n",
       "      <td>Sat</td>\n",
       "      <td>Dinner</td>\n",
       "      <td>3</td>\n",
       "      <td>60.81</td>\n",
       "    </tr>\n",
       "    <tr>\n",
       "      <th>1</th>\n",
       "      <td>48.33</td>\n",
       "      <td>9.00</td>\n",
       "      <td>Male</td>\n",
       "      <td>No</td>\n",
       "      <td>Sat</td>\n",
       "      <td>Dinner</td>\n",
       "      <td>4</td>\n",
       "      <td>57.33</td>\n",
       "    </tr>\n",
       "    <tr>\n",
       "      <th>2</th>\n",
       "      <td>48.27</td>\n",
       "      <td>6.73</td>\n",
       "      <td>Male</td>\n",
       "      <td>No</td>\n",
       "      <td>Sat</td>\n",
       "      <td>Dinner</td>\n",
       "      <td>4</td>\n",
       "      <td>55.00</td>\n",
       "    </tr>\n",
       "    <tr>\n",
       "      <th>3</th>\n",
       "      <td>48.17</td>\n",
       "      <td>5.00</td>\n",
       "      <td>Male</td>\n",
       "      <td>No</td>\n",
       "      <td>Sun</td>\n",
       "      <td>Dinner</td>\n",
       "      <td>6</td>\n",
       "      <td>53.17</td>\n",
       "    </tr>\n",
       "    <tr>\n",
       "      <th>4</th>\n",
       "      <td>45.35</td>\n",
       "      <td>3.50</td>\n",
       "      <td>Male</td>\n",
       "      <td>Yes</td>\n",
       "      <td>Sun</td>\n",
       "      <td>Dinner</td>\n",
       "      <td>3</td>\n",
       "      <td>48.85</td>\n",
       "    </tr>\n",
       "    <tr>\n",
       "      <th>5</th>\n",
       "      <td>43.11</td>\n",
       "      <td>5.00</td>\n",
       "      <td>Female</td>\n",
       "      <td>Yes</td>\n",
       "      <td>Thur</td>\n",
       "      <td>Lunch</td>\n",
       "      <td>4</td>\n",
       "      <td>48.11</td>\n",
       "    </tr>\n",
       "    <tr>\n",
       "      <th>6</th>\n",
       "      <td>39.42</td>\n",
       "      <td>7.58</td>\n",
       "      <td>Male</td>\n",
       "      <td>No</td>\n",
       "      <td>Sat</td>\n",
       "      <td>Dinner</td>\n",
       "      <td>4</td>\n",
       "      <td>47.00</td>\n",
       "    </tr>\n",
       "    <tr>\n",
       "      <th>7</th>\n",
       "      <td>44.30</td>\n",
       "      <td>2.50</td>\n",
       "      <td>Female</td>\n",
       "      <td>Yes</td>\n",
       "      <td>Sat</td>\n",
       "      <td>Dinner</td>\n",
       "      <td>3</td>\n",
       "      <td>46.80</td>\n",
       "    </tr>\n",
       "    <tr>\n",
       "      <th>8</th>\n",
       "      <td>41.19</td>\n",
       "      <td>5.00</td>\n",
       "      <td>Male</td>\n",
       "      <td>No</td>\n",
       "      <td>Thur</td>\n",
       "      <td>Lunch</td>\n",
       "      <td>5</td>\n",
       "      <td>46.19</td>\n",
       "    </tr>\n",
       "    <tr>\n",
       "      <th>9</th>\n",
       "      <td>40.17</td>\n",
       "      <td>4.73</td>\n",
       "      <td>Male</td>\n",
       "      <td>Yes</td>\n",
       "      <td>Fri</td>\n",
       "      <td>Dinner</td>\n",
       "      <td>4</td>\n",
       "      <td>44.90</td>\n",
       "    </tr>\n",
       "  </tbody>\n",
       "</table>\n",
       "</div>"
      ],
      "text/plain": [
       "   total_bill    tip     sex smoker   day    time  size  total_bill_tip_sum\n",
       "0       50.81  10.00    Male    Yes   Sat  Dinner     3               60.81\n",
       "1       48.33   9.00    Male     No   Sat  Dinner     4               57.33\n",
       "2       48.27   6.73    Male     No   Sat  Dinner     4               55.00\n",
       "3       48.17   5.00    Male     No   Sun  Dinner     6               53.17\n",
       "4       45.35   3.50    Male    Yes   Sun  Dinner     3               48.85\n",
       "5       43.11   5.00  Female    Yes  Thur   Lunch     4               48.11\n",
       "6       39.42   7.58    Male     No   Sat  Dinner     4               47.00\n",
       "7       44.30   2.50  Female    Yes   Sat  Dinner     3               46.80\n",
       "8       41.19   5.00    Male     No  Thur   Lunch     5               46.19\n",
       "9       40.17   4.73    Male    Yes   Fri  Dinner     4               44.90"
      ]
     },
     "execution_count": 237,
     "metadata": {},
     "output_type": "execute_result"
    }
   ],
   "source": [
    "data.sort_values(by = \"total_bill_tip_sum\",ascending=False, ignore_index=True).head(10)"
   ]
  },
  {
   "cell_type": "markdown",
   "id": "009cc287",
   "metadata": {
    "papermill": {
     "duration": 0.082968,
     "end_time": "2023-10-11T14:45:00.481863",
     "exception": false,
     "start_time": "2023-10-11T14:45:00.398895",
     "status": "completed"
    },
    "tags": []
   },
   "source": [
    "<a id = \"23\"></a><br>\n",
    "<h1 style=\"background-color:#77BFC7;font-family:courier;font-size:250%;font-style: oblique;font-weight: bold;font-variant: small-caps;text-align:center;border-radius: 15px 50px;\"> Pivot Tablosu </h1>\n",
    "\n",
    "Pandas'da, bir veri kümesini özetlemek ve yeniden şekillendirmek için kullanılan güçlü bir veri işleme aracıdır. pivot_table() fonksiyonu, bir DataFrame'i alır ve belirtilen kriterlere göre satırları ve sütunları yeniden düzenleyerek yeni bir DataFrame döndürür.\n",
    "\n",
    "pivot_table() fonksiyonunun yaygın kullanılan argümanları aşağıdaki gibidir:"
   ]
  },
  {
   "cell_type": "code",
   "execution_count": 238,
   "id": "bb9ca420",
   "metadata": {
    "execution": {
     "iopub.execute_input": "2023-10-11T14:45:00.654196Z",
     "iopub.status.busy": "2023-10-11T14:45:00.653592Z",
     "iopub.status.idle": "2023-10-11T14:45:00.658221Z",
     "shell.execute_reply": "2023-10-11T14:45:00.657437Z"
    },
    "papermill": {
     "duration": 0.092087,
     "end_time": "2023-10-11T14:45:00.659981",
     "exception": false,
     "start_time": "2023-10-11T14:45:00.567894",
     "status": "completed"
    },
    "tags": []
   },
   "outputs": [],
   "source": [
    "# pd.pivot_table(\n",
    "#     data,               # Pivot tablosunun oluşturulacağı DataFrame\n",
    "#     values=None,        # Toplulaştırılacak sütun. Birden çok sütun için liste kullanılabilir.\n",
    "#     index=None,         # Pivot tablosunun satırlarında kullanılacak sütun(lar).\n",
    "#     columns=None,       # Pivot tablosunun sütunlarında kullanılacak sütun(lar).\n",
    "#     aggfunc='mean',     # Toplulaştırma için kullanılacak işlev(ler). Varsayılan 'mean'.\n",
    "#     fill_value=None,    # Eksik değerlerin yerine kullanılacak değer. Varsayılan None.\n",
    "#     margins=False,      # True ise toplam satırı ve sütunu ekler. Varsayılan False.\n",
    "#     margins_name='All'  # Toplam satırının/sütunun adı. Varsayılan 'All'.\n",
    "# )"
   ]
  },
  {
   "cell_type": "markdown",
   "id": "0b866d68",
   "metadata": {
    "papermill": {
     "duration": 0.103402,
     "end_time": "2023-10-11T14:45:00.856473",
     "exception": false,
     "start_time": "2023-10-11T14:45:00.753071",
     "status": "completed"
    },
    "tags": []
   },
   "source": [
    "<div style=\"border-radius:10px; border:#DEB887 solid; padding: 15px; background-color: #FFFAF0; font-size:100%; text-align:left\">\n",
    "\n",
    "<h3 align=\"left\"><font color='#DEB887'>💡 Notlar: </font></h3>\n",
    "\n",
    "* **data:** Pivot tablosunun oluşturulacağı DataFrame.\n",
    "* **values:** Özet istatistiklerin hesaplanacağı sütun(lar). Tek bir sütun veya birden çok sütun için liste kullanılabilir.\n",
    "* **index:** Pivot tablosunun satırlarını oluşturacak sütun(lar).\n",
    "* **columns:** Pivot tablosunun sütunlarını oluşturacak sütun(lar).\n",
    "* **aggfunc:** Değerler için uygulanacak toplulaştırma işlevi(ler). Varsayılan olarak 'mean' (ortalama), ancak 'sum', 'count', 'min', 'max' veya özel işlevler de kullanılabilir.\n",
    "* **fill_value:** Elde edilen pivot tablosundaki eksik veya NaN değerlerin yerine geçecek değer.\n",
    "* **margins:** True olarak ayarlanırsa, toplam satırını ve sütununu içeren bir satır ve sütun ekler. Varsayılan değeri False.\n",
    "* **margins_name:** Toplam satırının/sütunun adı. Varsayılan değeri 'All'."
   ]
  },
  {
   "cell_type": "code",
   "execution_count": 239,
   "id": "1e3bf149",
   "metadata": {
    "execution": {
     "iopub.execute_input": "2023-10-11T14:45:01.104631Z",
     "iopub.status.busy": "2023-10-11T14:45:01.103902Z",
     "iopub.status.idle": "2023-10-11T14:45:01.111002Z",
     "shell.execute_reply": "2023-10-11T14:45:01.109999Z"
    },
    "papermill": {
     "duration": 0.098214,
     "end_time": "2023-10-11T14:45:01.113056",
     "exception": false,
     "start_time": "2023-10-11T14:45:01.014842",
     "status": "completed"
    },
    "tags": []
   },
   "outputs": [],
   "source": [
    "# Örnek olarak, satış verilerini içeren bir DataFrame düşünelim:\n",
    "\n",
    "import pandas as pd\n",
    "\n",
    "veri = {\n",
    "    'Kategori': ['Elektronik', 'Giyim', 'Elektronik', 'Giyim', 'Elektronik', 'Giyim'],\n",
    "    'Şehir': ['New York', 'New York', 'Los Angeles', 'Los Angeles', 'Chicago', 'Chicago'],\n",
    "    'Satışlar': [1000, 500, 800, 300, 600, 200]\n",
    "}\n",
    "\n",
    "df = pd.DataFrame(veri)"
   ]
  },
  {
   "cell_type": "code",
   "execution_count": 240,
   "id": "4220a49e",
   "metadata": {
    "execution": {
     "iopub.execute_input": "2023-10-11T14:45:01.321862Z",
     "iopub.status.busy": "2023-10-11T14:45:01.321449Z",
     "iopub.status.idle": "2023-10-11T14:45:01.342761Z",
     "shell.execute_reply": "2023-10-11T14:45:01.341730Z"
    },
    "papermill": {
     "duration": 0.120816,
     "end_time": "2023-10-11T14:45:01.344823",
     "exception": false,
     "start_time": "2023-10-11T14:45:01.224007",
     "status": "completed"
    },
    "tags": []
   },
   "outputs": [
    {
     "data": {
      "text/html": [
       "<div>\n",
       "<style scoped>\n",
       "    .dataframe tbody tr th:only-of-type {\n",
       "        vertical-align: middle;\n",
       "    }\n",
       "\n",
       "    .dataframe tbody tr th {\n",
       "        vertical-align: top;\n",
       "    }\n",
       "\n",
       "    .dataframe thead th {\n",
       "        text-align: right;\n",
       "    }\n",
       "</style>\n",
       "<table border=\"1\" class=\"dataframe\">\n",
       "  <thead>\n",
       "    <tr style=\"text-align: right;\">\n",
       "      <th>Şehir</th>\n",
       "      <th>Chicago</th>\n",
       "      <th>Los Angeles</th>\n",
       "      <th>New York</th>\n",
       "    </tr>\n",
       "    <tr>\n",
       "      <th>Kategori</th>\n",
       "      <th></th>\n",
       "      <th></th>\n",
       "      <th></th>\n",
       "    </tr>\n",
       "  </thead>\n",
       "  <tbody>\n",
       "    <tr>\n",
       "      <th>Elektronik</th>\n",
       "      <td>600</td>\n",
       "      <td>800</td>\n",
       "      <td>1000</td>\n",
       "    </tr>\n",
       "    <tr>\n",
       "      <th>Giyim</th>\n",
       "      <td>200</td>\n",
       "      <td>300</td>\n",
       "      <td>500</td>\n",
       "    </tr>\n",
       "  </tbody>\n",
       "</table>\n",
       "</div>"
      ],
      "text/plain": [
       "Şehir       Chicago  Los Angeles  New York\n",
       "Kategori                                  \n",
       "Elektronik      600          800      1000\n",
       "Giyim           200          300       500"
      ]
     },
     "execution_count": 240,
     "metadata": {},
     "output_type": "execute_result"
    }
   ],
   "source": [
    "# Bu DataFrame üzerinden her kategori ve şehir için toplam satışları içeren bir pivot tablosu oluşturalım:\n",
    "\n",
    "pivot_tablosu = pd.pivot_table(df, values='Satışlar', index='Kategori', columns='Şehir', aggfunc='sum')\n",
    "\n",
    "pivot_tablosu"
   ]
  },
  {
   "cell_type": "markdown",
   "id": "a427187c",
   "metadata": {
    "papermill": {
     "duration": 0.086724,
     "end_time": "2023-10-11T14:45:01.517252",
     "exception": false,
     "start_time": "2023-10-11T14:45:01.430528",
     "status": "completed"
    },
    "tags": []
   },
   "source": [
    "---"
   ]
  },
  {
   "cell_type": "code",
   "execution_count": 241,
   "id": "bf086594",
   "metadata": {
    "execution": {
     "iopub.execute_input": "2023-10-11T14:45:01.694725Z",
     "iopub.status.busy": "2023-10-11T14:45:01.694355Z",
     "iopub.status.idle": "2023-10-11T14:45:01.718880Z",
     "shell.execute_reply": "2023-10-11T14:45:01.717844Z"
    },
    "papermill": {
     "duration": 0.11586,
     "end_time": "2023-10-11T14:45:01.721131",
     "exception": false,
     "start_time": "2023-10-11T14:45:01.605271",
     "status": "completed"
    },
    "tags": []
   },
   "outputs": [
    {
     "data": {
      "text/html": [
       "<div>\n",
       "<style scoped>\n",
       "    .dataframe tbody tr th:only-of-type {\n",
       "        vertical-align: middle;\n",
       "    }\n",
       "\n",
       "    .dataframe tbody tr th {\n",
       "        vertical-align: top;\n",
       "    }\n",
       "\n",
       "    .dataframe thead th {\n",
       "        text-align: right;\n",
       "    }\n",
       "</style>\n",
       "<table border=\"1\" class=\"dataframe\">\n",
       "  <thead>\n",
       "    <tr style=\"text-align: right;\">\n",
       "      <th></th>\n",
       "      <th>PassengerId</th>\n",
       "      <th>Survived</th>\n",
       "      <th>Pclass</th>\n",
       "      <th>Name</th>\n",
       "      <th>Sex</th>\n",
       "      <th>Age</th>\n",
       "      <th>SibSp</th>\n",
       "      <th>Parch</th>\n",
       "      <th>Ticket</th>\n",
       "      <th>Fare</th>\n",
       "      <th>Cabin</th>\n",
       "      <th>Embarked</th>\n",
       "    </tr>\n",
       "  </thead>\n",
       "  <tbody>\n",
       "    <tr>\n",
       "      <th>0</th>\n",
       "      <td>1</td>\n",
       "      <td>0</td>\n",
       "      <td>3</td>\n",
       "      <td>Braund, Mr. Owen Harris</td>\n",
       "      <td>male</td>\n",
       "      <td>22.0</td>\n",
       "      <td>1</td>\n",
       "      <td>0</td>\n",
       "      <td>A/5 21171</td>\n",
       "      <td>7.2500</td>\n",
       "      <td>NaN</td>\n",
       "      <td>S</td>\n",
       "    </tr>\n",
       "    <tr>\n",
       "      <th>1</th>\n",
       "      <td>2</td>\n",
       "      <td>1</td>\n",
       "      <td>1</td>\n",
       "      <td>Cumings, Mrs. John Bradley (Florence Briggs Th...</td>\n",
       "      <td>female</td>\n",
       "      <td>38.0</td>\n",
       "      <td>1</td>\n",
       "      <td>0</td>\n",
       "      <td>PC 17599</td>\n",
       "      <td>71.2833</td>\n",
       "      <td>C85</td>\n",
       "      <td>C</td>\n",
       "    </tr>\n",
       "    <tr>\n",
       "      <th>2</th>\n",
       "      <td>3</td>\n",
       "      <td>1</td>\n",
       "      <td>3</td>\n",
       "      <td>Heikkinen, Miss. Laina</td>\n",
       "      <td>female</td>\n",
       "      <td>26.0</td>\n",
       "      <td>0</td>\n",
       "      <td>0</td>\n",
       "      <td>STON/O2. 3101282</td>\n",
       "      <td>7.9250</td>\n",
       "      <td>NaN</td>\n",
       "      <td>S</td>\n",
       "    </tr>\n",
       "    <tr>\n",
       "      <th>3</th>\n",
       "      <td>4</td>\n",
       "      <td>1</td>\n",
       "      <td>1</td>\n",
       "      <td>Futrelle, Mrs. Jacques Heath (Lily May Peel)</td>\n",
       "      <td>female</td>\n",
       "      <td>35.0</td>\n",
       "      <td>1</td>\n",
       "      <td>0</td>\n",
       "      <td>113803</td>\n",
       "      <td>53.1000</td>\n",
       "      <td>C123</td>\n",
       "      <td>S</td>\n",
       "    </tr>\n",
       "    <tr>\n",
       "      <th>4</th>\n",
       "      <td>5</td>\n",
       "      <td>0</td>\n",
       "      <td>3</td>\n",
       "      <td>Allen, Mr. William Henry</td>\n",
       "      <td>male</td>\n",
       "      <td>35.0</td>\n",
       "      <td>0</td>\n",
       "      <td>0</td>\n",
       "      <td>373450</td>\n",
       "      <td>8.0500</td>\n",
       "      <td>NaN</td>\n",
       "      <td>S</td>\n",
       "    </tr>\n",
       "  </tbody>\n",
       "</table>\n",
       "</div>"
      ],
      "text/plain": [
       "   PassengerId  Survived  Pclass  \\\n",
       "0            1         0       3   \n",
       "1            2         1       1   \n",
       "2            3         1       3   \n",
       "3            4         1       1   \n",
       "4            5         0       3   \n",
       "\n",
       "                                                Name     Sex   Age  SibSp  \\\n",
       "0                            Braund, Mr. Owen Harris    male  22.0      1   \n",
       "1  Cumings, Mrs. John Bradley (Florence Briggs Th...  female  38.0      1   \n",
       "2                             Heikkinen, Miss. Laina  female  26.0      0   \n",
       "3       Futrelle, Mrs. Jacques Heath (Lily May Peel)  female  35.0      1   \n",
       "4                           Allen, Mr. William Henry    male  35.0      0   \n",
       "\n",
       "   Parch            Ticket     Fare Cabin Embarked  \n",
       "0      0         A/5 21171   7.2500   NaN        S  \n",
       "1      0          PC 17599  71.2833   C85        C  \n",
       "2      0  STON/O2. 3101282   7.9250   NaN        S  \n",
       "3      0            113803  53.1000  C123        S  \n",
       "4      0            373450   8.0500   NaN        S  "
      ]
     },
     "execution_count": 241,
     "metadata": {},
     "output_type": "execute_result"
    }
   ],
   "source": [
    "import pandas as pd\n",
    "import seaborn as sns\n",
    "\n",
    "df = pd.read_csv('/kaggle/input/titanic/train.csv')\n",
    "\n",
    "df.head()"
   ]
  },
  {
   "cell_type": "code",
   "execution_count": 242,
   "id": "d00c3245",
   "metadata": {
    "execution": {
     "iopub.execute_input": "2023-10-11T14:45:01.937936Z",
     "iopub.status.busy": "2023-10-11T14:45:01.937566Z",
     "iopub.status.idle": "2023-10-11T14:45:01.955030Z",
     "shell.execute_reply": "2023-10-11T14:45:01.953983Z"
    },
    "papermill": {
     "duration": 0.149245,
     "end_time": "2023-10-11T14:45:01.956806",
     "exception": false,
     "start_time": "2023-10-11T14:45:01.807561",
     "status": "completed"
    },
    "tags": []
   },
   "outputs": [
    {
     "data": {
      "text/html": [
       "<div>\n",
       "<style scoped>\n",
       "    .dataframe tbody tr th:only-of-type {\n",
       "        vertical-align: middle;\n",
       "    }\n",
       "\n",
       "    .dataframe tbody tr th {\n",
       "        vertical-align: top;\n",
       "    }\n",
       "\n",
       "    .dataframe thead th {\n",
       "        text-align: right;\n",
       "    }\n",
       "</style>\n",
       "<table border=\"1\" class=\"dataframe\">\n",
       "  <thead>\n",
       "    <tr style=\"text-align: right;\">\n",
       "      <th>Embarked</th>\n",
       "      <th>C</th>\n",
       "      <th>Q</th>\n",
       "      <th>S</th>\n",
       "    </tr>\n",
       "    <tr>\n",
       "      <th>Sex</th>\n",
       "      <th></th>\n",
       "      <th></th>\n",
       "      <th></th>\n",
       "    </tr>\n",
       "  </thead>\n",
       "  <tbody>\n",
       "    <tr>\n",
       "      <th>female</th>\n",
       "      <td>0.876712</td>\n",
       "      <td>0.750000</td>\n",
       "      <td>0.689655</td>\n",
       "    </tr>\n",
       "    <tr>\n",
       "      <th>male</th>\n",
       "      <td>0.305263</td>\n",
       "      <td>0.073171</td>\n",
       "      <td>0.174603</td>\n",
       "    </tr>\n",
       "  </tbody>\n",
       "</table>\n",
       "</div>"
      ],
      "text/plain": [
       "Embarked         C         Q         S\n",
       "Sex                                   \n",
       "female    0.876712  0.750000  0.689655\n",
       "male      0.305263  0.073171  0.174603"
      ]
     },
     "execution_count": 242,
     "metadata": {},
     "output_type": "execute_result"
    }
   ],
   "source": [
    "df.pivot_table(\"Survived\", \"Sex\", \"Embarked\")"
   ]
  },
  {
   "cell_type": "code",
   "execution_count": 243,
   "id": "d1b380ae",
   "metadata": {
    "execution": {
     "iopub.execute_input": "2023-10-11T14:45:02.130495Z",
     "iopub.status.busy": "2023-10-11T14:45:02.130165Z",
     "iopub.status.idle": "2023-10-11T14:45:02.155915Z",
     "shell.execute_reply": "2023-10-11T14:45:02.154891Z"
    },
    "papermill": {
     "duration": 0.114692,
     "end_time": "2023-10-11T14:45:02.157870",
     "exception": false,
     "start_time": "2023-10-11T14:45:02.043178",
     "status": "completed"
    },
    "tags": []
   },
   "outputs": [
    {
     "data": {
      "text/html": [
       "<div>\n",
       "<style scoped>\n",
       "    .dataframe tbody tr th:only-of-type {\n",
       "        vertical-align: middle;\n",
       "    }\n",
       "\n",
       "    .dataframe tbody tr th {\n",
       "        vertical-align: top;\n",
       "    }\n",
       "\n",
       "    .dataframe thead tr th {\n",
       "        text-align: left;\n",
       "    }\n",
       "\n",
       "    .dataframe thead tr:last-of-type th {\n",
       "        text-align: right;\n",
       "    }\n",
       "</style>\n",
       "<table border=\"1\" class=\"dataframe\">\n",
       "  <thead>\n",
       "    <tr>\n",
       "      <th>Embarked</th>\n",
       "      <th colspan=\"3\" halign=\"left\">C</th>\n",
       "      <th colspan=\"3\" halign=\"left\">Q</th>\n",
       "      <th colspan=\"3\" halign=\"left\">S</th>\n",
       "    </tr>\n",
       "    <tr>\n",
       "      <th>Pclass</th>\n",
       "      <th>1</th>\n",
       "      <th>2</th>\n",
       "      <th>3</th>\n",
       "      <th>1</th>\n",
       "      <th>2</th>\n",
       "      <th>3</th>\n",
       "      <th>1</th>\n",
       "      <th>2</th>\n",
       "      <th>3</th>\n",
       "    </tr>\n",
       "    <tr>\n",
       "      <th>Sex</th>\n",
       "      <th></th>\n",
       "      <th></th>\n",
       "      <th></th>\n",
       "      <th></th>\n",
       "      <th></th>\n",
       "      <th></th>\n",
       "      <th></th>\n",
       "      <th></th>\n",
       "      <th></th>\n",
       "    </tr>\n",
       "  </thead>\n",
       "  <tbody>\n",
       "    <tr>\n",
       "      <th>female</th>\n",
       "      <td>0.976744</td>\n",
       "      <td>1.0</td>\n",
       "      <td>0.652174</td>\n",
       "      <td>1.0</td>\n",
       "      <td>1.0</td>\n",
       "      <td>0.727273</td>\n",
       "      <td>0.958333</td>\n",
       "      <td>0.910448</td>\n",
       "      <td>0.375000</td>\n",
       "    </tr>\n",
       "    <tr>\n",
       "      <th>male</th>\n",
       "      <td>0.404762</td>\n",
       "      <td>0.2</td>\n",
       "      <td>0.232558</td>\n",
       "      <td>0.0</td>\n",
       "      <td>0.0</td>\n",
       "      <td>0.076923</td>\n",
       "      <td>0.354430</td>\n",
       "      <td>0.154639</td>\n",
       "      <td>0.128302</td>\n",
       "    </tr>\n",
       "  </tbody>\n",
       "</table>\n",
       "</div>"
      ],
      "text/plain": [
       "Embarked         C                   Q                        S            \\\n",
       "Pclass           1    2         3    1    2         3         1         2   \n",
       "Sex                                                                         \n",
       "female    0.976744  1.0  0.652174  1.0  1.0  0.727273  0.958333  0.910448   \n",
       "male      0.404762  0.2  0.232558  0.0  0.0  0.076923  0.354430  0.154639   \n",
       "\n",
       "Embarked            \n",
       "Pclass           3  \n",
       "Sex                 \n",
       "female    0.375000  \n",
       "male      0.128302  "
      ]
     },
     "execution_count": 243,
     "metadata": {},
     "output_type": "execute_result"
    }
   ],
   "source": [
    "df.pivot_table(\"Survived\", \"Sex\", [\"Embarked\", \"Pclass\"])"
   ]
  },
  {
   "cell_type": "code",
   "execution_count": 244,
   "id": "930164b0",
   "metadata": {
    "execution": {
     "iopub.execute_input": "2023-10-11T14:45:02.331014Z",
     "iopub.status.busy": "2023-10-11T14:45:02.330656Z",
     "iopub.status.idle": "2023-10-11T14:45:02.342276Z",
     "shell.execute_reply": "2023-10-11T14:45:02.341532Z"
    },
    "papermill": {
     "duration": 0.100747,
     "end_time": "2023-10-11T14:45:02.344154",
     "exception": false,
     "start_time": "2023-10-11T14:45:02.243407",
     "status": "completed"
    },
    "tags": []
   },
   "outputs": [],
   "source": [
    "df[\"new_age\"] = pd.cut(df[\"Age\"], [0, 10, 18, 25, 40, 90])"
   ]
  },
  {
   "cell_type": "code",
   "execution_count": 245,
   "id": "b41538ab",
   "metadata": {
    "execution": {
     "iopub.execute_input": "2023-10-11T14:45:02.514710Z",
     "iopub.status.busy": "2023-10-11T14:45:02.513736Z",
     "iopub.status.idle": "2023-10-11T14:45:02.551852Z",
     "shell.execute_reply": "2023-10-11T14:45:02.550801Z"
    },
    "papermill": {
     "duration": 0.126114,
     "end_time": "2023-10-11T14:45:02.554544",
     "exception": false,
     "start_time": "2023-10-11T14:45:02.428430",
     "status": "completed"
    },
    "tags": []
   },
   "outputs": [
    {
     "data": {
      "text/html": [
       "<div>\n",
       "<style scoped>\n",
       "    .dataframe tbody tr th:only-of-type {\n",
       "        vertical-align: middle;\n",
       "    }\n",
       "\n",
       "    .dataframe tbody tr th {\n",
       "        vertical-align: top;\n",
       "    }\n",
       "\n",
       "    .dataframe thead tr th {\n",
       "        text-align: left;\n",
       "    }\n",
       "\n",
       "    .dataframe thead tr:last-of-type th {\n",
       "        text-align: right;\n",
       "    }\n",
       "</style>\n",
       "<table border=\"1\" class=\"dataframe\">\n",
       "  <thead>\n",
       "    <tr>\n",
       "      <th>new_age</th>\n",
       "      <th colspan=\"3\" halign=\"left\">(0, 10]</th>\n",
       "      <th colspan=\"3\" halign=\"left\">(10, 18]</th>\n",
       "      <th colspan=\"3\" halign=\"left\">(18, 25]</th>\n",
       "      <th colspan=\"3\" halign=\"left\">(25, 40]</th>\n",
       "      <th colspan=\"3\" halign=\"left\">(40, 90]</th>\n",
       "    </tr>\n",
       "    <tr>\n",
       "      <th>Pclass</th>\n",
       "      <th>1</th>\n",
       "      <th>2</th>\n",
       "      <th>3</th>\n",
       "      <th>1</th>\n",
       "      <th>2</th>\n",
       "      <th>3</th>\n",
       "      <th>1</th>\n",
       "      <th>2</th>\n",
       "      <th>3</th>\n",
       "      <th>1</th>\n",
       "      <th>2</th>\n",
       "      <th>3</th>\n",
       "      <th>1</th>\n",
       "      <th>2</th>\n",
       "      <th>3</th>\n",
       "    </tr>\n",
       "    <tr>\n",
       "      <th>Sex</th>\n",
       "      <th></th>\n",
       "      <th></th>\n",
       "      <th></th>\n",
       "      <th></th>\n",
       "      <th></th>\n",
       "      <th></th>\n",
       "      <th></th>\n",
       "      <th></th>\n",
       "      <th></th>\n",
       "      <th></th>\n",
       "      <th></th>\n",
       "      <th></th>\n",
       "      <th></th>\n",
       "      <th></th>\n",
       "      <th></th>\n",
       "    </tr>\n",
       "  </thead>\n",
       "  <tbody>\n",
       "    <tr>\n",
       "      <th>female</th>\n",
       "      <td>0.0</td>\n",
       "      <td>1.0</td>\n",
       "      <td>0.500000</td>\n",
       "      <td>1.000000</td>\n",
       "      <td>1.0</td>\n",
       "      <td>0.523810</td>\n",
       "      <td>0.941176</td>\n",
       "      <td>0.933333</td>\n",
       "      <td>0.500000</td>\n",
       "      <td>1.000000</td>\n",
       "      <td>0.906250</td>\n",
       "      <td>0.464286</td>\n",
       "      <td>0.961538</td>\n",
       "      <td>0.846154</td>\n",
       "      <td>0.111111</td>\n",
       "    </tr>\n",
       "    <tr>\n",
       "      <th>male</th>\n",
       "      <td>1.0</td>\n",
       "      <td>1.0</td>\n",
       "      <td>0.363636</td>\n",
       "      <td>0.666667</td>\n",
       "      <td>0.0</td>\n",
       "      <td>0.103448</td>\n",
       "      <td>0.333333</td>\n",
       "      <td>0.047619</td>\n",
       "      <td>0.115385</td>\n",
       "      <td>0.513514</td>\n",
       "      <td>0.071429</td>\n",
       "      <td>0.172043</td>\n",
       "      <td>0.280000</td>\n",
       "      <td>0.095238</td>\n",
       "      <td>0.064516</td>\n",
       "    </tr>\n",
       "  </tbody>\n",
       "</table>\n",
       "</div>"
      ],
      "text/plain": [
       "new_age (0, 10]                 (10, 18]                 (18, 25]            \\\n",
       "Pclass        1    2         3         1    2         3         1         2   \n",
       "Sex                                                                           \n",
       "female      0.0  1.0  0.500000  1.000000  1.0  0.523810  0.941176  0.933333   \n",
       "male        1.0  1.0  0.363636  0.666667  0.0  0.103448  0.333333  0.047619   \n",
       "\n",
       "new_age            (25, 40]                      (40, 90]                      \n",
       "Pclass          3         1         2         3         1         2         3  \n",
       "Sex                                                                            \n",
       "female   0.500000  1.000000  0.906250  0.464286  0.961538  0.846154  0.111111  \n",
       "male     0.115385  0.513514  0.071429  0.172043  0.280000  0.095238  0.064516  "
      ]
     },
     "execution_count": 245,
     "metadata": {},
     "output_type": "execute_result"
    }
   ],
   "source": [
    "df.pivot_table(\"Survived\", \"Sex\", [\"new_age\", \"Pclass\"])"
   ]
  },
  {
   "cell_type": "markdown",
   "id": "7ef6207f",
   "metadata": {
    "papermill": {
     "duration": 0.084494,
     "end_time": "2023-10-11T14:45:02.724352",
     "exception": false,
     "start_time": "2023-10-11T14:45:02.639858",
     "status": "completed"
    },
    "tags": []
   },
   "source": [
    "<a id = \"24\"></a><br>\n",
    "<h1 style=\"background-color:#77BFC7;font-family:courier;font-size:250%;font-style: oblique;font-weight: bold;font-variant: small-caps;text-align:center;border-radius: 15px 50px;\"> Veri Okuma </h1>\n",
    "\n",
    "Pandas'da, CSV (Virgülle Ayrılmış Değerler) dosyasından veri okumak ve DataFrame oluşturmak için kullanılan read_csv() fonksiyonudur. Pandas'ta dış kaynaklardan veri almak için en sık kullanılan fonksiyonlardan biridir. İşte read_csv() fonksiyonunun yaygın kullanılan argümanları ile sözdizimi:"
   ]
  },
  {
   "cell_type": "code",
   "execution_count": 246,
   "id": "d0236c3f",
   "metadata": {
    "execution": {
     "iopub.execute_input": "2023-10-11T14:45:02.899730Z",
     "iopub.status.busy": "2023-10-11T14:45:02.899054Z",
     "iopub.status.idle": "2023-10-11T14:45:02.903531Z",
     "shell.execute_reply": "2023-10-11T14:45:02.902900Z"
    },
    "papermill": {
     "duration": 0.095372,
     "end_time": "2023-10-11T14:45:02.905559",
     "exception": false,
     "start_time": "2023-10-11T14:45:02.810187",
     "status": "completed"
    },
    "tags": []
   },
   "outputs": [],
   "source": [
    "# pd.read_csv(\n",
    "#     filepath_or_buffer, # CSV dosyasının yolu veya URL'si veya CSV verisini içeren dosya benzeri bir nesne.\n",
    "#     sep=',',            # CSV dosyasında değerleri ayırmak için kullanılan ayraç. Varsayılan değeri ','.\n",
    "#     header='infer',     # Sütun isimleri olarak kullanılacak satır numarası(ları). Varsayılan değeri 'infer'.\n",
    "#     names=None,         # Kullanılacak sütun isimlerinin listesi. Belirtilmezse, sütun adları satır(lar) olarak kullanılır.\n",
    "#     index_col=None,     # DataFrame'in indeks (satır etiketleri) olarak kullanılacak sütun(lar). Varsayılan değeri None.\n",
    "#     usecols=None,       # Dosyadan okunacak sütun isimlerinin listesi. Varsayılan değeri None (tüm sütunları okur).\n",
    "#     dtype=None,         # Belirtilen sütunlar için zorlanacak veri türü.\n",
    "#     parse_dates=False,  # Tarih olarak ayrıştırılacak sütunların listesi. Varsayılan değeri False (tarih ayrıştırma yok).\n",
    "#     na_values=None,     # NaN (Not a Number) değeri olarak kabul edilecek ekstra değerler.\n",
    "#     skiprows=None,      # Dosyanın başlangıcında atlanacak satır sayısı.\n",
    "#     nrows=None,         # Dosyadan okunacak satır sayısı.\n",
    "#     skip_blank_lines=True,  # True ise, boş satırları atlar ve NaN değeri olarak yorumlar.\n",
    "#     encoding='utf-8',   # Dosya kodlaması (örn. 'utf-8', 'latin-1' vb.). Varsayılan değeri 'utf-8'.\n",
    "#     thousands=None,     # Sayısal verileri ayrıştırırken binler ayracı olarak kullanılacak karakter.\n",
    "#     decimal='.',        # Sayısal verileri ayrıştırırken ondalık ayracı olarak kullanılacak karakter.\n",
    "#     header=None,        # Sütun isimleri olarak kullanılacak satır numarası(ları) (kullanım dışı; yerine `header='infer'` kullanın).\n",
    "#     comment=None,       # Yorum belirteci olarak kullanılacak karakter(ler). Bu karakterle başlayan satırlar yorum olarak kabul edilir.\n",
    "#     skipfooter=0,       # Dosyanın sonundaki satır sayısı.\n",
    "#     engine='c',         # Kullanılacak ayrıştırma motoru. 'c' motoru daha hızlıdır, 'python' motoru ise daha özelliklidir.\n",
    "# )"
   ]
  },
  {
   "cell_type": "markdown",
   "id": "8ccdc05e",
   "metadata": {
    "papermill": {
     "duration": 0.086966,
     "end_time": "2023-10-11T14:45:03.079910",
     "exception": false,
     "start_time": "2023-10-11T14:45:02.992944",
     "status": "completed"
    },
    "tags": []
   },
   "source": [
    "<a id = \"25\"></a><br>\n",
    "<h1 style=\"background-color:#77BFC7;font-family:courier;font-size:250%;font-style: oblique;font-weight: bold;font-variant: small-caps;text-align:center;border-radius: 15px 50px;\"> Kural Tabanlı Sınıflandırma </h1>"
   ]
  },
  {
   "cell_type": "code",
   "execution_count": 247,
   "id": "92c3f873",
   "metadata": {
    "execution": {
     "iopub.execute_input": "2023-10-11T14:45:03.254471Z",
     "iopub.status.busy": "2023-10-11T14:45:03.253421Z",
     "iopub.status.idle": "2023-10-11T14:45:03.268869Z",
     "shell.execute_reply": "2023-10-11T14:45:03.268087Z"
    },
    "papermill": {
     "duration": 0.105428,
     "end_time": "2023-10-11T14:45:03.271092",
     "exception": false,
     "start_time": "2023-10-11T14:45:03.165664",
     "status": "completed"
    },
    "tags": []
   },
   "outputs": [],
   "source": [
    "df = pd.read_csv(\"/kaggle/input/persona/week_02_data.csv\")"
   ]
  },
  {
   "cell_type": "markdown",
   "id": "d5c47241",
   "metadata": {
    "papermill": {
     "duration": 0.0853,
     "end_time": "2023-10-11T14:45:03.504231",
     "exception": false,
     "start_time": "2023-10-11T14:45:03.418931",
     "status": "completed"
    },
    "tags": []
   },
   "source": [
    "*** İlk Bakış**"
   ]
  },
  {
   "cell_type": "code",
   "execution_count": 248,
   "id": "ab7f466c",
   "metadata": {
    "execution": {
     "iopub.execute_input": "2023-10-11T14:45:03.675996Z",
     "iopub.status.busy": "2023-10-11T14:45:03.675282Z",
     "iopub.status.idle": "2023-10-11T14:45:03.686107Z",
     "shell.execute_reply": "2023-10-11T14:45:03.684995Z"
    },
    "papermill": {
     "duration": 0.098965,
     "end_time": "2023-10-11T14:45:03.688198",
     "exception": false,
     "start_time": "2023-10-11T14:45:03.589233",
     "status": "completed"
    },
    "tags": []
   },
   "outputs": [
    {
     "data": {
      "text/html": [
       "<div>\n",
       "<style scoped>\n",
       "    .dataframe tbody tr th:only-of-type {\n",
       "        vertical-align: middle;\n",
       "    }\n",
       "\n",
       "    .dataframe tbody tr th {\n",
       "        vertical-align: top;\n",
       "    }\n",
       "\n",
       "    .dataframe thead th {\n",
       "        text-align: right;\n",
       "    }\n",
       "</style>\n",
       "<table border=\"1\" class=\"dataframe\">\n",
       "  <thead>\n",
       "    <tr style=\"text-align: right;\">\n",
       "      <th></th>\n",
       "      <th>PRICE</th>\n",
       "      <th>SOURCE</th>\n",
       "      <th>SEX</th>\n",
       "      <th>COUNTRY</th>\n",
       "      <th>AGE</th>\n",
       "    </tr>\n",
       "  </thead>\n",
       "  <tbody>\n",
       "    <tr>\n",
       "      <th>0</th>\n",
       "      <td>39</td>\n",
       "      <td>android</td>\n",
       "      <td>male</td>\n",
       "      <td>bra</td>\n",
       "      <td>17</td>\n",
       "    </tr>\n",
       "    <tr>\n",
       "      <th>1</th>\n",
       "      <td>39</td>\n",
       "      <td>android</td>\n",
       "      <td>male</td>\n",
       "      <td>bra</td>\n",
       "      <td>17</td>\n",
       "    </tr>\n",
       "    <tr>\n",
       "      <th>2</th>\n",
       "      <td>49</td>\n",
       "      <td>android</td>\n",
       "      <td>male</td>\n",
       "      <td>bra</td>\n",
       "      <td>17</td>\n",
       "    </tr>\n",
       "    <tr>\n",
       "      <th>3</th>\n",
       "      <td>29</td>\n",
       "      <td>android</td>\n",
       "      <td>male</td>\n",
       "      <td>tur</td>\n",
       "      <td>17</td>\n",
       "    </tr>\n",
       "    <tr>\n",
       "      <th>4</th>\n",
       "      <td>49</td>\n",
       "      <td>android</td>\n",
       "      <td>male</td>\n",
       "      <td>tur</td>\n",
       "      <td>17</td>\n",
       "    </tr>\n",
       "  </tbody>\n",
       "</table>\n",
       "</div>"
      ],
      "text/plain": [
       "   PRICE   SOURCE   SEX COUNTRY  AGE\n",
       "0     39  android  male     bra   17\n",
       "1     39  android  male     bra   17\n",
       "2     49  android  male     bra   17\n",
       "3     29  android  male     tur   17\n",
       "4     49  android  male     tur   17"
      ]
     },
     "execution_count": 248,
     "metadata": {},
     "output_type": "execute_result"
    }
   ],
   "source": [
    "df.head()"
   ]
  },
  {
   "cell_type": "code",
   "execution_count": 249,
   "id": "37ec7d39",
   "metadata": {
    "execution": {
     "iopub.execute_input": "2023-10-11T14:45:03.862457Z",
     "iopub.status.busy": "2023-10-11T14:45:03.861850Z",
     "iopub.status.idle": "2023-10-11T14:45:03.875791Z",
     "shell.execute_reply": "2023-10-11T14:45:03.874753Z"
    },
    "papermill": {
     "duration": 0.103932,
     "end_time": "2023-10-11T14:45:03.878244",
     "exception": false,
     "start_time": "2023-10-11T14:45:03.774312",
     "status": "completed"
    },
    "tags": []
   },
   "outputs": [
    {
     "name": "stdout",
     "output_type": "stream",
     "text": [
      "<class 'pandas.core.frame.DataFrame'>\n",
      "Int64Index: 5000 entries, 0 to 4999\n",
      "Data columns (total 5 columns):\n",
      " #   Column   Non-Null Count  Dtype \n",
      "---  ------   --------------  ----- \n",
      " 0   PRICE    5000 non-null   int64 \n",
      " 1   SOURCE   5000 non-null   object\n",
      " 2   SEX      5000 non-null   object\n",
      " 3   COUNTRY  5000 non-null   object\n",
      " 4   AGE      5000 non-null   int64 \n",
      "dtypes: int64(2), object(3)\n",
      "memory usage: 234.4+ KB\n"
     ]
    }
   ],
   "source": [
    "df.info()"
   ]
  },
  {
   "cell_type": "code",
   "execution_count": 250,
   "id": "092de494",
   "metadata": {
    "execution": {
     "iopub.execute_input": "2023-10-11T14:45:04.059581Z",
     "iopub.status.busy": "2023-10-11T14:45:04.059183Z",
     "iopub.status.idle": "2023-10-11T14:45:04.079018Z",
     "shell.execute_reply": "2023-10-11T14:45:04.077876Z"
    },
    "papermill": {
     "duration": 0.111815,
     "end_time": "2023-10-11T14:45:04.080974",
     "exception": false,
     "start_time": "2023-10-11T14:45:03.969159",
     "status": "completed"
    },
    "tags": []
   },
   "outputs": [
    {
     "data": {
      "text/html": [
       "<div>\n",
       "<style scoped>\n",
       "    .dataframe tbody tr th:only-of-type {\n",
       "        vertical-align: middle;\n",
       "    }\n",
       "\n",
       "    .dataframe tbody tr th {\n",
       "        vertical-align: top;\n",
       "    }\n",
       "\n",
       "    .dataframe thead th {\n",
       "        text-align: right;\n",
       "    }\n",
       "</style>\n",
       "<table border=\"1\" class=\"dataframe\">\n",
       "  <thead>\n",
       "    <tr style=\"text-align: right;\">\n",
       "      <th></th>\n",
       "      <th>count</th>\n",
       "      <th>mean</th>\n",
       "      <th>std</th>\n",
       "      <th>min</th>\n",
       "      <th>25%</th>\n",
       "      <th>50%</th>\n",
       "      <th>75%</th>\n",
       "      <th>max</th>\n",
       "    </tr>\n",
       "  </thead>\n",
       "  <tbody>\n",
       "    <tr>\n",
       "      <th>PRICE</th>\n",
       "      <td>5000.0</td>\n",
       "      <td>34.1320</td>\n",
       "      <td>12.464897</td>\n",
       "      <td>9.0</td>\n",
       "      <td>29.0</td>\n",
       "      <td>39.0</td>\n",
       "      <td>39.0</td>\n",
       "      <td>59.0</td>\n",
       "    </tr>\n",
       "    <tr>\n",
       "      <th>AGE</th>\n",
       "      <td>5000.0</td>\n",
       "      <td>23.5814</td>\n",
       "      <td>8.995908</td>\n",
       "      <td>15.0</td>\n",
       "      <td>17.0</td>\n",
       "      <td>21.0</td>\n",
       "      <td>27.0</td>\n",
       "      <td>66.0</td>\n",
       "    </tr>\n",
       "  </tbody>\n",
       "</table>\n",
       "</div>"
      ],
      "text/plain": [
       "        count     mean        std   min   25%   50%   75%   max\n",
       "PRICE  5000.0  34.1320  12.464897   9.0  29.0  39.0  39.0  59.0\n",
       "AGE    5000.0  23.5814   8.995908  15.0  17.0  21.0  27.0  66.0"
      ]
     },
     "execution_count": 250,
     "metadata": {},
     "output_type": "execute_result"
    }
   ],
   "source": [
    "df.describe().T"
   ]
  },
  {
   "cell_type": "code",
   "execution_count": 251,
   "id": "d9d7cec8",
   "metadata": {
    "execution": {
     "iopub.execute_input": "2023-10-11T14:45:04.254856Z",
     "iopub.status.busy": "2023-10-11T14:45:04.254440Z",
     "iopub.status.idle": "2023-10-11T14:45:04.266019Z",
     "shell.execute_reply": "2023-10-11T14:45:04.264845Z"
    },
    "papermill": {
     "duration": 0.100084,
     "end_time": "2023-10-11T14:45:04.268049",
     "exception": false,
     "start_time": "2023-10-11T14:45:04.167965",
     "status": "completed"
    },
    "tags": []
   },
   "outputs": [
    {
     "data": {
      "text/plain": [
       "PRICE      0\n",
       "SOURCE     0\n",
       "SEX        0\n",
       "COUNTRY    0\n",
       "AGE        0\n",
       "dtype: int64"
      ]
     },
     "execution_count": 251,
     "metadata": {},
     "output_type": "execute_result"
    }
   ],
   "source": [
    "df.isnull().sum()"
   ]
  },
  {
   "cell_type": "code",
   "execution_count": 252,
   "id": "3c8a8a3b",
   "metadata": {
    "execution": {
     "iopub.execute_input": "2023-10-11T14:45:04.441248Z",
     "iopub.status.busy": "2023-10-11T14:45:04.440570Z",
     "iopub.status.idle": "2023-10-11T14:45:04.457429Z",
     "shell.execute_reply": "2023-10-11T14:45:04.456461Z"
    },
    "papermill": {
     "duration": 0.105993,
     "end_time": "2023-10-11T14:45:04.459361",
     "exception": false,
     "start_time": "2023-10-11T14:45:04.353368",
     "status": "completed"
    },
    "tags": []
   },
   "outputs": [
    {
     "data": {
      "text/html": [
       "<div>\n",
       "<style scoped>\n",
       "    .dataframe tbody tr th:only-of-type {\n",
       "        vertical-align: middle;\n",
       "    }\n",
       "\n",
       "    .dataframe tbody tr th {\n",
       "        vertical-align: top;\n",
       "    }\n",
       "\n",
       "    .dataframe thead th {\n",
       "        text-align: right;\n",
       "    }\n",
       "</style>\n",
       "<table border=\"1\" class=\"dataframe\">\n",
       "  <thead>\n",
       "    <tr style=\"text-align: right;\">\n",
       "      <th></th>\n",
       "      <th>count</th>\n",
       "      <th>unique</th>\n",
       "      <th>top</th>\n",
       "      <th>freq</th>\n",
       "    </tr>\n",
       "  </thead>\n",
       "  <tbody>\n",
       "    <tr>\n",
       "      <th>SOURCE</th>\n",
       "      <td>5000</td>\n",
       "      <td>2</td>\n",
       "      <td>android</td>\n",
       "      <td>2974</td>\n",
       "    </tr>\n",
       "    <tr>\n",
       "      <th>SEX</th>\n",
       "      <td>5000</td>\n",
       "      <td>2</td>\n",
       "      <td>female</td>\n",
       "      <td>2621</td>\n",
       "    </tr>\n",
       "    <tr>\n",
       "      <th>COUNTRY</th>\n",
       "      <td>5000</td>\n",
       "      <td>6</td>\n",
       "      <td>usa</td>\n",
       "      <td>2065</td>\n",
       "    </tr>\n",
       "  </tbody>\n",
       "</table>\n",
       "</div>"
      ],
      "text/plain": [
       "        count unique      top  freq\n",
       "SOURCE   5000      2  android  2974\n",
       "SEX      5000      2   female  2621\n",
       "COUNTRY  5000      6      usa  2065"
      ]
     },
     "execution_count": 252,
     "metadata": {},
     "output_type": "execute_result"
    }
   ],
   "source": [
    "df.describe(include=[object]).T"
   ]
  },
  {
   "cell_type": "markdown",
   "id": "063af499",
   "metadata": {
    "papermill": {
     "duration": 0.08548,
     "end_time": "2023-10-11T14:45:04.630281",
     "exception": false,
     "start_time": "2023-10-11T14:45:04.544801",
     "status": "completed"
    },
    "tags": []
   },
   "source": [
    "* **Kaç unique SOURCE vardır? Frekansları nedir?**"
   ]
  },
  {
   "cell_type": "code",
   "execution_count": 253,
   "id": "7f77ecd7",
   "metadata": {
    "execution": {
     "iopub.execute_input": "2023-10-11T14:45:04.807229Z",
     "iopub.status.busy": "2023-10-11T14:45:04.806523Z",
     "iopub.status.idle": "2023-10-11T14:45:04.814917Z",
     "shell.execute_reply": "2023-10-11T14:45:04.813769Z"
    },
    "papermill": {
     "duration": 0.099697,
     "end_time": "2023-10-11T14:45:04.816939",
     "exception": false,
     "start_time": "2023-10-11T14:45:04.717242",
     "status": "completed"
    },
    "tags": []
   },
   "outputs": [
    {
     "data": {
      "text/plain": [
       "android    2974\n",
       "ios        2026\n",
       "Name: SOURCE, dtype: int64"
      ]
     },
     "execution_count": 253,
     "metadata": {},
     "output_type": "execute_result"
    }
   ],
   "source": [
    "df[\"SOURCE\"].value_counts()"
   ]
  },
  {
   "cell_type": "code",
   "execution_count": 254,
   "id": "a57a3219",
   "metadata": {
    "execution": {
     "iopub.execute_input": "2023-10-11T14:45:04.995550Z",
     "iopub.status.busy": "2023-10-11T14:45:04.994894Z",
     "iopub.status.idle": "2023-10-11T14:45:05.002906Z",
     "shell.execute_reply": "2023-10-11T14:45:05.001841Z"
    },
    "papermill": {
     "duration": 0.101103,
     "end_time": "2023-10-11T14:45:05.005060",
     "exception": false,
     "start_time": "2023-10-11T14:45:04.903957",
     "status": "completed"
    },
    "tags": []
   },
   "outputs": [
    {
     "data": {
      "text/plain": [
       "0    android\n",
       "Name: SOURCE, dtype: object"
      ]
     },
     "execution_count": 254,
     "metadata": {},
     "output_type": "execute_result"
    }
   ],
   "source": [
    "df[\"SOURCE\"].mode()"
   ]
  },
  {
   "cell_type": "markdown",
   "id": "2981eaaa",
   "metadata": {
    "papermill": {
     "duration": 0.085965,
     "end_time": "2023-10-11T14:45:05.177996",
     "exception": false,
     "start_time": "2023-10-11T14:45:05.092031",
     "status": "completed"
    },
    "tags": []
   },
   "source": [
    "* **Kaç unique PRICE vardır?**"
   ]
  },
  {
   "cell_type": "code",
   "execution_count": 255,
   "id": "70382f20",
   "metadata": {
    "execution": {
     "iopub.execute_input": "2023-10-11T14:45:05.352107Z",
     "iopub.status.busy": "2023-10-11T14:45:05.351197Z",
     "iopub.status.idle": "2023-10-11T14:45:05.357419Z",
     "shell.execute_reply": "2023-10-11T14:45:05.356697Z"
    },
    "papermill": {
     "duration": 0.09481,
     "end_time": "2023-10-11T14:45:05.359221",
     "exception": false,
     "start_time": "2023-10-11T14:45:05.264411",
     "status": "completed"
    },
    "tags": []
   },
   "outputs": [
    {
     "data": {
      "text/plain": [
       "6"
      ]
     },
     "execution_count": 255,
     "metadata": {},
     "output_type": "execute_result"
    }
   ],
   "source": [
    "df[\"PRICE\"].nunique()"
   ]
  },
  {
   "cell_type": "markdown",
   "id": "fa2f51f1",
   "metadata": {
    "papermill": {
     "duration": 0.0857,
     "end_time": "2023-10-11T14:45:05.533133",
     "exception": false,
     "start_time": "2023-10-11T14:45:05.447433",
     "status": "completed"
    },
    "tags": []
   },
   "source": [
    "* **PRICE miktarlarının satış adetleri?**"
   ]
  },
  {
   "cell_type": "code",
   "execution_count": 256,
   "id": "148569a4",
   "metadata": {
    "execution": {
     "iopub.execute_input": "2023-10-11T14:45:05.768941Z",
     "iopub.status.busy": "2023-10-11T14:45:05.768575Z",
     "iopub.status.idle": "2023-10-11T14:45:05.776158Z",
     "shell.execute_reply": "2023-10-11T14:45:05.775144Z"
    },
    "papermill": {
     "duration": 0.1588,
     "end_time": "2023-10-11T14:45:05.777999",
     "exception": false,
     "start_time": "2023-10-11T14:45:05.619199",
     "status": "completed"
    },
    "tags": []
   },
   "outputs": [
    {
     "data": {
      "text/plain": [
       "29    1305\n",
       "39    1260\n",
       "49    1031\n",
       "19     992\n",
       "59     212\n",
       "9      200\n",
       "Name: PRICE, dtype: int64"
      ]
     },
     "execution_count": 256,
     "metadata": {},
     "output_type": "execute_result"
    }
   ],
   "source": [
    "df[\"PRICE\"].value_counts()"
   ]
  },
  {
   "cell_type": "markdown",
   "id": "176aceb3",
   "metadata": {
    "papermill": {
     "duration": 0.091389,
     "end_time": "2023-10-11T14:45:05.956849",
     "exception": false,
     "start_time": "2023-10-11T14:45:05.865460",
     "status": "completed"
    },
    "tags": []
   },
   "source": [
    "* **Hangi ülkeden kaçar tane satış olmuş?**"
   ]
  },
  {
   "cell_type": "code",
   "execution_count": 257,
   "id": "99cea099",
   "metadata": {
    "execution": {
     "iopub.execute_input": "2023-10-11T14:45:06.134505Z",
     "iopub.status.busy": "2023-10-11T14:45:06.134117Z",
     "iopub.status.idle": "2023-10-11T14:45:06.142372Z",
     "shell.execute_reply": "2023-10-11T14:45:06.141631Z"
    },
    "papermill": {
     "duration": 0.099547,
     "end_time": "2023-10-11T14:45:06.144221",
     "exception": false,
     "start_time": "2023-10-11T14:45:06.044674",
     "status": "completed"
    },
    "tags": []
   },
   "outputs": [
    {
     "data": {
      "text/plain": [
       "usa    2065\n",
       "bra    1496\n",
       "deu     455\n",
       "tur     451\n",
       "fra     303\n",
       "can     230\n",
       "Name: COUNTRY, dtype: int64"
      ]
     },
     "execution_count": 257,
     "metadata": {},
     "output_type": "execute_result"
    }
   ],
   "source": [
    "df[\"COUNTRY\"].value_counts()"
   ]
  },
  {
   "cell_type": "markdown",
   "id": "15a1ce16",
   "metadata": {
    "papermill": {
     "duration": 0.085311,
     "end_time": "2023-10-11T14:45:06.315824",
     "exception": false,
     "start_time": "2023-10-11T14:45:06.230513",
     "status": "completed"
    },
    "tags": []
   },
   "source": [
    "* **Ülkelere göre satışlardan toplam ne kadar kazanılmış?**"
   ]
  },
  {
   "cell_type": "code",
   "execution_count": 258,
   "id": "6d547252",
   "metadata": {
    "execution": {
     "iopub.execute_input": "2023-10-11T14:45:06.489571Z",
     "iopub.status.busy": "2023-10-11T14:45:06.488853Z",
     "iopub.status.idle": "2023-10-11T14:45:06.499513Z",
     "shell.execute_reply": "2023-10-11T14:45:06.498589Z"
    },
    "papermill": {
     "duration": 0.101141,
     "end_time": "2023-10-11T14:45:06.501552",
     "exception": false,
     "start_time": "2023-10-11T14:45:06.400411",
     "status": "completed"
    },
    "tags": []
   },
   "outputs": [
    {
     "data": {
      "text/html": [
       "<div>\n",
       "<style scoped>\n",
       "    .dataframe tbody tr th:only-of-type {\n",
       "        vertical-align: middle;\n",
       "    }\n",
       "\n",
       "    .dataframe tbody tr th {\n",
       "        vertical-align: top;\n",
       "    }\n",
       "\n",
       "    .dataframe thead th {\n",
       "        text-align: right;\n",
       "    }\n",
       "</style>\n",
       "<table border=\"1\" class=\"dataframe\">\n",
       "  <thead>\n",
       "    <tr style=\"text-align: right;\">\n",
       "      <th></th>\n",
       "      <th>PRICE</th>\n",
       "    </tr>\n",
       "    <tr>\n",
       "      <th>COUNTRY</th>\n",
       "      <th></th>\n",
       "    </tr>\n",
       "  </thead>\n",
       "  <tbody>\n",
       "    <tr>\n",
       "      <th>bra</th>\n",
       "      <td>51354</td>\n",
       "    </tr>\n",
       "    <tr>\n",
       "      <th>can</th>\n",
       "      <td>7730</td>\n",
       "    </tr>\n",
       "    <tr>\n",
       "      <th>deu</th>\n",
       "      <td>15485</td>\n",
       "    </tr>\n",
       "    <tr>\n",
       "      <th>fra</th>\n",
       "      <td>10177</td>\n",
       "    </tr>\n",
       "    <tr>\n",
       "      <th>tur</th>\n",
       "      <td>15689</td>\n",
       "    </tr>\n",
       "    <tr>\n",
       "      <th>usa</th>\n",
       "      <td>70225</td>\n",
       "    </tr>\n",
       "  </tbody>\n",
       "</table>\n",
       "</div>"
      ],
      "text/plain": [
       "         PRICE\n",
       "COUNTRY       \n",
       "bra      51354\n",
       "can       7730\n",
       "deu      15485\n",
       "fra      10177\n",
       "tur      15689\n",
       "usa      70225"
      ]
     },
     "execution_count": 258,
     "metadata": {},
     "output_type": "execute_result"
    }
   ],
   "source": [
    "df.groupby(\"COUNTRY\").agg({\"PRICE\": \"sum\"})"
   ]
  },
  {
   "cell_type": "code",
   "execution_count": 259,
   "id": "a3404b45",
   "metadata": {
    "execution": {
     "iopub.execute_input": "2023-10-11T14:45:06.679557Z",
     "iopub.status.busy": "2023-10-11T14:45:06.679187Z",
     "iopub.status.idle": "2023-10-11T14:45:06.688230Z",
     "shell.execute_reply": "2023-10-11T14:45:06.687514Z"
    },
    "papermill": {
     "duration": 0.099529,
     "end_time": "2023-10-11T14:45:06.690149",
     "exception": false,
     "start_time": "2023-10-11T14:45:06.590620",
     "status": "completed"
    },
    "tags": []
   },
   "outputs": [
    {
     "data": {
      "text/plain": [
       "COUNTRY\n",
       "bra    51354\n",
       "can     7730\n",
       "deu    15485\n",
       "fra    10177\n",
       "tur    15689\n",
       "usa    70225\n",
       "Name: PRICE, dtype: int64"
      ]
     },
     "execution_count": 259,
     "metadata": {},
     "output_type": "execute_result"
    }
   ],
   "source": [
    "df.groupby(\"COUNTRY\")[\"PRICE\"].sum()"
   ]
  },
  {
   "cell_type": "code",
   "execution_count": 260,
   "id": "c30fad6b",
   "metadata": {
    "execution": {
     "iopub.execute_input": "2023-10-11T14:45:06.868604Z",
     "iopub.status.busy": "2023-10-11T14:45:06.867876Z",
     "iopub.status.idle": "2023-10-11T14:45:06.879344Z",
     "shell.execute_reply": "2023-10-11T14:45:06.878422Z"
    },
    "papermill": {
     "duration": 0.102563,
     "end_time": "2023-10-11T14:45:06.881364",
     "exception": false,
     "start_time": "2023-10-11T14:45:06.778801",
     "status": "completed"
    },
    "tags": []
   },
   "outputs": [
    {
     "data": {
      "text/html": [
       "<div>\n",
       "<style scoped>\n",
       "    .dataframe tbody tr th:only-of-type {\n",
       "        vertical-align: middle;\n",
       "    }\n",
       "\n",
       "    .dataframe tbody tr th {\n",
       "        vertical-align: top;\n",
       "    }\n",
       "\n",
       "    .dataframe thead th {\n",
       "        text-align: right;\n",
       "    }\n",
       "</style>\n",
       "<table border=\"1\" class=\"dataframe\">\n",
       "  <thead>\n",
       "    <tr style=\"text-align: right;\">\n",
       "      <th></th>\n",
       "      <th>PRICE</th>\n",
       "    </tr>\n",
       "    <tr>\n",
       "      <th>COUNTRY</th>\n",
       "      <th></th>\n",
       "    </tr>\n",
       "  </thead>\n",
       "  <tbody>\n",
       "    <tr>\n",
       "      <th>bra</th>\n",
       "      <td>51354</td>\n",
       "    </tr>\n",
       "    <tr>\n",
       "      <th>can</th>\n",
       "      <td>7730</td>\n",
       "    </tr>\n",
       "    <tr>\n",
       "      <th>deu</th>\n",
       "      <td>15485</td>\n",
       "    </tr>\n",
       "    <tr>\n",
       "      <th>fra</th>\n",
       "      <td>10177</td>\n",
       "    </tr>\n",
       "    <tr>\n",
       "      <th>tur</th>\n",
       "      <td>15689</td>\n",
       "    </tr>\n",
       "    <tr>\n",
       "      <th>usa</th>\n",
       "      <td>70225</td>\n",
       "    </tr>\n",
       "  </tbody>\n",
       "</table>\n",
       "</div>"
      ],
      "text/plain": [
       "         PRICE\n",
       "COUNTRY       \n",
       "bra      51354\n",
       "can       7730\n",
       "deu      15485\n",
       "fra      10177\n",
       "tur      15689\n",
       "usa      70225"
      ]
     },
     "execution_count": 260,
     "metadata": {},
     "output_type": "execute_result"
    }
   ],
   "source": [
    "df.groupby(\"COUNTRY\")[[\"PRICE\"]].sum()"
   ]
  },
  {
   "cell_type": "code",
   "execution_count": 261,
   "id": "373bbe15",
   "metadata": {
    "execution": {
     "iopub.execute_input": "2023-10-11T14:45:07.061743Z",
     "iopub.status.busy": "2023-10-11T14:45:07.061093Z",
     "iopub.status.idle": "2023-10-11T14:45:07.072776Z",
     "shell.execute_reply": "2023-10-11T14:45:07.072075Z"
    },
    "papermill": {
     "duration": 0.105324,
     "end_time": "2023-10-11T14:45:07.074564",
     "exception": false,
     "start_time": "2023-10-11T14:45:06.969240",
     "status": "completed"
    },
    "tags": []
   },
   "outputs": [
    {
     "data": {
      "text/html": [
       "<div>\n",
       "<style scoped>\n",
       "    .dataframe tbody tr th:only-of-type {\n",
       "        vertical-align: middle;\n",
       "    }\n",
       "\n",
       "    .dataframe tbody tr th {\n",
       "        vertical-align: top;\n",
       "    }\n",
       "\n",
       "    .dataframe thead th {\n",
       "        text-align: right;\n",
       "    }\n",
       "</style>\n",
       "<table border=\"1\" class=\"dataframe\">\n",
       "  <thead>\n",
       "    <tr style=\"text-align: right;\">\n",
       "      <th></th>\n",
       "      <th>PRICE</th>\n",
       "    </tr>\n",
       "    <tr>\n",
       "      <th>COUNTRY</th>\n",
       "      <th></th>\n",
       "    </tr>\n",
       "  </thead>\n",
       "  <tbody>\n",
       "    <tr>\n",
       "      <th>bra</th>\n",
       "      <td>51354</td>\n",
       "    </tr>\n",
       "    <tr>\n",
       "      <th>can</th>\n",
       "      <td>7730</td>\n",
       "    </tr>\n",
       "    <tr>\n",
       "      <th>deu</th>\n",
       "      <td>15485</td>\n",
       "    </tr>\n",
       "    <tr>\n",
       "      <th>fra</th>\n",
       "      <td>10177</td>\n",
       "    </tr>\n",
       "    <tr>\n",
       "      <th>tur</th>\n",
       "      <td>15689</td>\n",
       "    </tr>\n",
       "    <tr>\n",
       "      <th>usa</th>\n",
       "      <td>70225</td>\n",
       "    </tr>\n",
       "  </tbody>\n",
       "</table>\n",
       "</div>"
      ],
      "text/plain": [
       "         PRICE\n",
       "COUNTRY       \n",
       "bra      51354\n",
       "can       7730\n",
       "deu      15485\n",
       "fra      10177\n",
       "tur      15689\n",
       "usa      70225"
      ]
     },
     "execution_count": 261,
     "metadata": {},
     "output_type": "execute_result"
    }
   ],
   "source": [
    "df.pivot_table(\"PRICE\",\"COUNTRY\",aggfunc=\"sum\")"
   ]
  },
  {
   "cell_type": "markdown",
   "id": "b6598036",
   "metadata": {
    "papermill": {
     "duration": 0.087417,
     "end_time": "2023-10-11T14:45:07.251018",
     "exception": false,
     "start_time": "2023-10-11T14:45:07.163601",
     "status": "completed"
    },
    "tags": []
   },
   "source": [
    "* **SOURCE türlerine göre satış sayıları nedir?**"
   ]
  },
  {
   "cell_type": "code",
   "execution_count": 262,
   "id": "fcc017a5",
   "metadata": {
    "execution": {
     "iopub.execute_input": "2023-10-11T14:45:07.426261Z",
     "iopub.status.busy": "2023-10-11T14:45:07.425607Z",
     "iopub.status.idle": "2023-10-11T14:45:07.435788Z",
     "shell.execute_reply": "2023-10-11T14:45:07.434652Z"
    },
    "papermill": {
     "duration": 0.100136,
     "end_time": "2023-10-11T14:45:07.437836",
     "exception": false,
     "start_time": "2023-10-11T14:45:07.337700",
     "status": "completed"
    },
    "tags": []
   },
   "outputs": [
    {
     "data": {
      "text/html": [
       "<div>\n",
       "<style scoped>\n",
       "    .dataframe tbody tr th:only-of-type {\n",
       "        vertical-align: middle;\n",
       "    }\n",
       "\n",
       "    .dataframe tbody tr th {\n",
       "        vertical-align: top;\n",
       "    }\n",
       "\n",
       "    .dataframe thead th {\n",
       "        text-align: right;\n",
       "    }\n",
       "</style>\n",
       "<table border=\"1\" class=\"dataframe\">\n",
       "  <thead>\n",
       "    <tr style=\"text-align: right;\">\n",
       "      <th></th>\n",
       "      <th>Satış_Sayısı</th>\n",
       "    </tr>\n",
       "    <tr>\n",
       "      <th>SOURCE</th>\n",
       "      <th></th>\n",
       "    </tr>\n",
       "  </thead>\n",
       "  <tbody>\n",
       "    <tr>\n",
       "      <th>android</th>\n",
       "      <td>2974</td>\n",
       "    </tr>\n",
       "    <tr>\n",
       "      <th>ios</th>\n",
       "      <td>2026</td>\n",
       "    </tr>\n",
       "  </tbody>\n",
       "</table>\n",
       "</div>"
      ],
      "text/plain": [
       "         Satış_Sayısı\n",
       "SOURCE               \n",
       "android          2974\n",
       "ios              2026"
      ]
     },
     "execution_count": 262,
     "metadata": {},
     "output_type": "execute_result"
    }
   ],
   "source": [
    "df.groupby(\"SOURCE\")[\"SOURCE\"].agg([(\"Satış_Sayısı\",\"count\")])"
   ]
  },
  {
   "cell_type": "code",
   "execution_count": 263,
   "id": "718e2bad",
   "metadata": {
    "execution": {
     "iopub.execute_input": "2023-10-11T14:45:07.613433Z",
     "iopub.status.busy": "2023-10-11T14:45:07.613093Z",
     "iopub.status.idle": "2023-10-11T14:45:07.623691Z",
     "shell.execute_reply": "2023-10-11T14:45:07.622719Z"
    },
    "papermill": {
     "duration": 0.100677,
     "end_time": "2023-10-11T14:45:07.625522",
     "exception": false,
     "start_time": "2023-10-11T14:45:07.524845",
     "status": "completed"
    },
    "tags": []
   },
   "outputs": [
    {
     "data": {
      "text/html": [
       "<div>\n",
       "<style scoped>\n",
       "    .dataframe tbody tr th:only-of-type {\n",
       "        vertical-align: middle;\n",
       "    }\n",
       "\n",
       "    .dataframe tbody tr th {\n",
       "        vertical-align: top;\n",
       "    }\n",
       "\n",
       "    .dataframe thead th {\n",
       "        text-align: right;\n",
       "    }\n",
       "</style>\n",
       "<table border=\"1\" class=\"dataframe\">\n",
       "  <thead>\n",
       "    <tr style=\"text-align: right;\">\n",
       "      <th></th>\n",
       "      <th>SOURCE</th>\n",
       "    </tr>\n",
       "    <tr>\n",
       "      <th>SOURCE</th>\n",
       "      <th></th>\n",
       "    </tr>\n",
       "  </thead>\n",
       "  <tbody>\n",
       "    <tr>\n",
       "      <th>android</th>\n",
       "      <td>2974</td>\n",
       "    </tr>\n",
       "    <tr>\n",
       "      <th>ios</th>\n",
       "      <td>2026</td>\n",
       "    </tr>\n",
       "  </tbody>\n",
       "</table>\n",
       "</div>"
      ],
      "text/plain": [
       "         SOURCE\n",
       "SOURCE         \n",
       "android    2974\n",
       "ios        2026"
      ]
     },
     "execution_count": 263,
     "metadata": {},
     "output_type": "execute_result"
    }
   ],
   "source": [
    "df.groupby(\"SOURCE\").agg({\"SOURCE\": \"count\"})"
   ]
  },
  {
   "cell_type": "code",
   "execution_count": 264,
   "id": "808d5242",
   "metadata": {
    "execution": {
     "iopub.execute_input": "2023-10-11T14:45:07.804608Z",
     "iopub.status.busy": "2023-10-11T14:45:07.803936Z",
     "iopub.status.idle": "2023-10-11T14:45:07.810847Z",
     "shell.execute_reply": "2023-10-11T14:45:07.810125Z"
    },
    "papermill": {
     "duration": 0.096797,
     "end_time": "2023-10-11T14:45:07.812496",
     "exception": false,
     "start_time": "2023-10-11T14:45:07.715699",
     "status": "completed"
    },
    "tags": []
   },
   "outputs": [
    {
     "data": {
      "text/plain": [
       "android    2974\n",
       "ios        2026\n",
       "Name: SOURCE, dtype: int64"
      ]
     },
     "execution_count": 264,
     "metadata": {},
     "output_type": "execute_result"
    }
   ],
   "source": [
    "df[\"SOURCE\"].value_counts()"
   ]
  },
  {
   "cell_type": "markdown",
   "id": "4f0cee75",
   "metadata": {
    "papermill": {
     "duration": 0.089926,
     "end_time": "2023-10-11T14:45:07.990356",
     "exception": false,
     "start_time": "2023-10-11T14:45:07.900430",
     "status": "completed"
    },
    "tags": []
   },
   "source": [
    "* **Ülkelere göre PRICE ortalamaları nedir?**"
   ]
  },
  {
   "cell_type": "code",
   "execution_count": 265,
   "id": "4f1573fa",
   "metadata": {
    "execution": {
     "iopub.execute_input": "2023-10-11T14:45:08.169273Z",
     "iopub.status.busy": "2023-10-11T14:45:08.168937Z",
     "iopub.status.idle": "2023-10-11T14:45:08.179190Z",
     "shell.execute_reply": "2023-10-11T14:45:08.178219Z"
    },
    "papermill": {
     "duration": 0.101596,
     "end_time": "2023-10-11T14:45:08.181020",
     "exception": false,
     "start_time": "2023-10-11T14:45:08.079424",
     "status": "completed"
    },
    "tags": []
   },
   "outputs": [
    {
     "data": {
      "text/html": [
       "<div>\n",
       "<style scoped>\n",
       "    .dataframe tbody tr th:only-of-type {\n",
       "        vertical-align: middle;\n",
       "    }\n",
       "\n",
       "    .dataframe tbody tr th {\n",
       "        vertical-align: top;\n",
       "    }\n",
       "\n",
       "    .dataframe thead th {\n",
       "        text-align: right;\n",
       "    }\n",
       "</style>\n",
       "<table border=\"1\" class=\"dataframe\">\n",
       "  <thead>\n",
       "    <tr style=\"text-align: right;\">\n",
       "      <th></th>\n",
       "      <th>Fiyat_Ortalamaları</th>\n",
       "    </tr>\n",
       "    <tr>\n",
       "      <th>COUNTRY</th>\n",
       "      <th></th>\n",
       "    </tr>\n",
       "  </thead>\n",
       "  <tbody>\n",
       "    <tr>\n",
       "      <th>bra</th>\n",
       "      <td>34.327540</td>\n",
       "    </tr>\n",
       "    <tr>\n",
       "      <th>can</th>\n",
       "      <td>33.608696</td>\n",
       "    </tr>\n",
       "    <tr>\n",
       "      <th>deu</th>\n",
       "      <td>34.032967</td>\n",
       "    </tr>\n",
       "    <tr>\n",
       "      <th>fra</th>\n",
       "      <td>33.587459</td>\n",
       "    </tr>\n",
       "    <tr>\n",
       "      <th>tur</th>\n",
       "      <td>34.787140</td>\n",
       "    </tr>\n",
       "    <tr>\n",
       "      <th>usa</th>\n",
       "      <td>34.007264</td>\n",
       "    </tr>\n",
       "  </tbody>\n",
       "</table>\n",
       "</div>"
      ],
      "text/plain": [
       "         Fiyat_Ortalamaları\n",
       "COUNTRY                    \n",
       "bra               34.327540\n",
       "can               33.608696\n",
       "deu               34.032967\n",
       "fra               33.587459\n",
       "tur               34.787140\n",
       "usa               34.007264"
      ]
     },
     "execution_count": 265,
     "metadata": {},
     "output_type": "execute_result"
    }
   ],
   "source": [
    "df.groupby(\"COUNTRY\")[\"PRICE\"].agg([(\"Fiyat_Ortalamaları\",\"mean\")])"
   ]
  },
  {
   "cell_type": "code",
   "execution_count": 266,
   "id": "e755d011",
   "metadata": {
    "execution": {
     "iopub.execute_input": "2023-10-11T14:45:08.422935Z",
     "iopub.status.busy": "2023-10-11T14:45:08.422559Z",
     "iopub.status.idle": "2023-10-11T14:45:08.433897Z",
     "shell.execute_reply": "2023-10-11T14:45:08.432775Z"
    },
    "papermill": {
     "duration": 0.102641,
     "end_time": "2023-10-11T14:45:08.435939",
     "exception": false,
     "start_time": "2023-10-11T14:45:08.333298",
     "status": "completed"
    },
    "tags": []
   },
   "outputs": [
    {
     "data": {
      "text/html": [
       "<div>\n",
       "<style scoped>\n",
       "    .dataframe tbody tr th:only-of-type {\n",
       "        vertical-align: middle;\n",
       "    }\n",
       "\n",
       "    .dataframe tbody tr th {\n",
       "        vertical-align: top;\n",
       "    }\n",
       "\n",
       "    .dataframe thead th {\n",
       "        text-align: right;\n",
       "    }\n",
       "</style>\n",
       "<table border=\"1\" class=\"dataframe\">\n",
       "  <thead>\n",
       "    <tr style=\"text-align: right;\">\n",
       "      <th></th>\n",
       "      <th>PRICE</th>\n",
       "    </tr>\n",
       "    <tr>\n",
       "      <th>COUNTRY</th>\n",
       "      <th></th>\n",
       "    </tr>\n",
       "  </thead>\n",
       "  <tbody>\n",
       "    <tr>\n",
       "      <th>bra</th>\n",
       "      <td>34.327540</td>\n",
       "    </tr>\n",
       "    <tr>\n",
       "      <th>can</th>\n",
       "      <td>33.608696</td>\n",
       "    </tr>\n",
       "    <tr>\n",
       "      <th>deu</th>\n",
       "      <td>34.032967</td>\n",
       "    </tr>\n",
       "    <tr>\n",
       "      <th>fra</th>\n",
       "      <td>33.587459</td>\n",
       "    </tr>\n",
       "    <tr>\n",
       "      <th>tur</th>\n",
       "      <td>34.787140</td>\n",
       "    </tr>\n",
       "    <tr>\n",
       "      <th>usa</th>\n",
       "      <td>34.007264</td>\n",
       "    </tr>\n",
       "  </tbody>\n",
       "</table>\n",
       "</div>"
      ],
      "text/plain": [
       "             PRICE\n",
       "COUNTRY           \n",
       "bra      34.327540\n",
       "can      33.608696\n",
       "deu      34.032967\n",
       "fra      33.587459\n",
       "tur      34.787140\n",
       "usa      34.007264"
      ]
     },
     "execution_count": 266,
     "metadata": {},
     "output_type": "execute_result"
    }
   ],
   "source": [
    "df.groupby(\"COUNTRY\").agg({\"PRICE\": \"mean\"})"
   ]
  },
  {
   "cell_type": "code",
   "execution_count": 267,
   "id": "6cb9bd58",
   "metadata": {
    "execution": {
     "iopub.execute_input": "2023-10-11T14:45:08.613003Z",
     "iopub.status.busy": "2023-10-11T14:45:08.612615Z",
     "iopub.status.idle": "2023-10-11T14:45:08.621519Z",
     "shell.execute_reply": "2023-10-11T14:45:08.620530Z"
    },
    "papermill": {
     "duration": 0.099842,
     "end_time": "2023-10-11T14:45:08.623475",
     "exception": false,
     "start_time": "2023-10-11T14:45:08.523633",
     "status": "completed"
    },
    "tags": []
   },
   "outputs": [
    {
     "data": {
      "text/plain": [
       "COUNTRY\n",
       "bra    34.327540\n",
       "can    33.608696\n",
       "deu    34.032967\n",
       "fra    33.587459\n",
       "tur    34.787140\n",
       "usa    34.007264\n",
       "Name: PRICE, dtype: float64"
      ]
     },
     "execution_count": 267,
     "metadata": {},
     "output_type": "execute_result"
    }
   ],
   "source": [
    "df.groupby(\"COUNTRY\")[\"PRICE\"].mean()"
   ]
  },
  {
   "cell_type": "code",
   "execution_count": 268,
   "id": "cdf680b7",
   "metadata": {
    "execution": {
     "iopub.execute_input": "2023-10-11T14:45:08.804486Z",
     "iopub.status.busy": "2023-10-11T14:45:08.803365Z",
     "iopub.status.idle": "2023-10-11T14:45:08.817495Z",
     "shell.execute_reply": "2023-10-11T14:45:08.816739Z"
    },
    "papermill": {
     "duration": 0.108053,
     "end_time": "2023-10-11T14:45:08.819568",
     "exception": false,
     "start_time": "2023-10-11T14:45:08.711515",
     "status": "completed"
    },
    "tags": []
   },
   "outputs": [
    {
     "data": {
      "text/html": [
       "<div>\n",
       "<style scoped>\n",
       "    .dataframe tbody tr th:only-of-type {\n",
       "        vertical-align: middle;\n",
       "    }\n",
       "\n",
       "    .dataframe tbody tr th {\n",
       "        vertical-align: top;\n",
       "    }\n",
       "\n",
       "    .dataframe thead th {\n",
       "        text-align: right;\n",
       "    }\n",
       "</style>\n",
       "<table border=\"1\" class=\"dataframe\">\n",
       "  <thead>\n",
       "    <tr style=\"text-align: right;\">\n",
       "      <th></th>\n",
       "      <th>PRICE</th>\n",
       "    </tr>\n",
       "    <tr>\n",
       "      <th>COUNTRY</th>\n",
       "      <th></th>\n",
       "    </tr>\n",
       "  </thead>\n",
       "  <tbody>\n",
       "    <tr>\n",
       "      <th>bra</th>\n",
       "      <td>34.327540</td>\n",
       "    </tr>\n",
       "    <tr>\n",
       "      <th>can</th>\n",
       "      <td>33.608696</td>\n",
       "    </tr>\n",
       "    <tr>\n",
       "      <th>deu</th>\n",
       "      <td>34.032967</td>\n",
       "    </tr>\n",
       "    <tr>\n",
       "      <th>fra</th>\n",
       "      <td>33.587459</td>\n",
       "    </tr>\n",
       "    <tr>\n",
       "      <th>tur</th>\n",
       "      <td>34.787140</td>\n",
       "    </tr>\n",
       "    <tr>\n",
       "      <th>usa</th>\n",
       "      <td>34.007264</td>\n",
       "    </tr>\n",
       "  </tbody>\n",
       "</table>\n",
       "</div>"
      ],
      "text/plain": [
       "             PRICE\n",
       "COUNTRY           \n",
       "bra      34.327540\n",
       "can      33.608696\n",
       "deu      34.032967\n",
       "fra      33.587459\n",
       "tur      34.787140\n",
       "usa      34.007264"
      ]
     },
     "execution_count": 268,
     "metadata": {},
     "output_type": "execute_result"
    }
   ],
   "source": [
    "df.pivot_table(\"PRICE\",\"COUNTRY\",aggfunc=\"mean\")"
   ]
  },
  {
   "cell_type": "markdown",
   "id": "a96b0574",
   "metadata": {
    "papermill": {
     "duration": 0.091916,
     "end_time": "2023-10-11T14:45:09.002015",
     "exception": false,
     "start_time": "2023-10-11T14:45:08.910099",
     "status": "completed"
    },
    "tags": []
   },
   "source": [
    "* **SOURCE'lara göre PRICE ortalamaları nedir?**"
   ]
  },
  {
   "cell_type": "code",
   "execution_count": 269,
   "id": "4a1ed14e",
   "metadata": {
    "execution": {
     "iopub.execute_input": "2023-10-11T14:45:09.185137Z",
     "iopub.status.busy": "2023-10-11T14:45:09.184182Z",
     "iopub.status.idle": "2023-10-11T14:45:09.194575Z",
     "shell.execute_reply": "2023-10-11T14:45:09.193865Z"
    },
    "papermill": {
     "duration": 0.101761,
     "end_time": "2023-10-11T14:45:09.196628",
     "exception": false,
     "start_time": "2023-10-11T14:45:09.094867",
     "status": "completed"
    },
    "tags": []
   },
   "outputs": [
    {
     "data": {
      "text/html": [
       "<div>\n",
       "<style scoped>\n",
       "    .dataframe tbody tr th:only-of-type {\n",
       "        vertical-align: middle;\n",
       "    }\n",
       "\n",
       "    .dataframe tbody tr th {\n",
       "        vertical-align: top;\n",
       "    }\n",
       "\n",
       "    .dataframe thead th {\n",
       "        text-align: right;\n",
       "    }\n",
       "</style>\n",
       "<table border=\"1\" class=\"dataframe\">\n",
       "  <thead>\n",
       "    <tr style=\"text-align: right;\">\n",
       "      <th></th>\n",
       "      <th>Fiyat_Ortalamaları</th>\n",
       "    </tr>\n",
       "    <tr>\n",
       "      <th>SOURCE</th>\n",
       "      <th></th>\n",
       "    </tr>\n",
       "  </thead>\n",
       "  <tbody>\n",
       "    <tr>\n",
       "      <th>android</th>\n",
       "      <td>34.174849</td>\n",
       "    </tr>\n",
       "    <tr>\n",
       "      <th>ios</th>\n",
       "      <td>34.069102</td>\n",
       "    </tr>\n",
       "  </tbody>\n",
       "</table>\n",
       "</div>"
      ],
      "text/plain": [
       "         Fiyat_Ortalamaları\n",
       "SOURCE                     \n",
       "android           34.174849\n",
       "ios               34.069102"
      ]
     },
     "execution_count": 269,
     "metadata": {},
     "output_type": "execute_result"
    }
   ],
   "source": [
    "df.groupby(\"SOURCE\")[\"PRICE\"].agg([(\"Fiyat_Ortalamaları\",\"mean\")])"
   ]
  },
  {
   "cell_type": "code",
   "execution_count": 270,
   "id": "028958e6",
   "metadata": {
    "execution": {
     "iopub.execute_input": "2023-10-11T14:45:09.377657Z",
     "iopub.status.busy": "2023-10-11T14:45:09.377291Z",
     "iopub.status.idle": "2023-10-11T14:45:09.388289Z",
     "shell.execute_reply": "2023-10-11T14:45:09.387265Z"
    },
    "papermill": {
     "duration": 0.102129,
     "end_time": "2023-10-11T14:45:09.390178",
     "exception": false,
     "start_time": "2023-10-11T14:45:09.288049",
     "status": "completed"
    },
    "tags": []
   },
   "outputs": [
    {
     "data": {
      "text/html": [
       "<div>\n",
       "<style scoped>\n",
       "    .dataframe tbody tr th:only-of-type {\n",
       "        vertical-align: middle;\n",
       "    }\n",
       "\n",
       "    .dataframe tbody tr th {\n",
       "        vertical-align: top;\n",
       "    }\n",
       "\n",
       "    .dataframe thead th {\n",
       "        text-align: right;\n",
       "    }\n",
       "</style>\n",
       "<table border=\"1\" class=\"dataframe\">\n",
       "  <thead>\n",
       "    <tr style=\"text-align: right;\">\n",
       "      <th></th>\n",
       "      <th>PRICE</th>\n",
       "    </tr>\n",
       "    <tr>\n",
       "      <th>SOURCE</th>\n",
       "      <th></th>\n",
       "    </tr>\n",
       "  </thead>\n",
       "  <tbody>\n",
       "    <tr>\n",
       "      <th>android</th>\n",
       "      <td>34.174849</td>\n",
       "    </tr>\n",
       "    <tr>\n",
       "      <th>ios</th>\n",
       "      <td>34.069102</td>\n",
       "    </tr>\n",
       "  </tbody>\n",
       "</table>\n",
       "</div>"
      ],
      "text/plain": [
       "             PRICE\n",
       "SOURCE            \n",
       "android  34.174849\n",
       "ios      34.069102"
      ]
     },
     "execution_count": 270,
     "metadata": {},
     "output_type": "execute_result"
    }
   ],
   "source": [
    "df.groupby(\"SOURCE\").agg({\"PRICE\": \"mean\"})"
   ]
  },
  {
   "cell_type": "code",
   "execution_count": 271,
   "id": "b23471b1",
   "metadata": {
    "execution": {
     "iopub.execute_input": "2023-10-11T14:45:09.570384Z",
     "iopub.status.busy": "2023-10-11T14:45:09.569860Z",
     "iopub.status.idle": "2023-10-11T14:45:09.577522Z",
     "shell.execute_reply": "2023-10-11T14:45:09.576582Z"
    },
    "papermill": {
     "duration": 0.098943,
     "end_time": "2023-10-11T14:45:09.579328",
     "exception": false,
     "start_time": "2023-10-11T14:45:09.480385",
     "status": "completed"
    },
    "tags": []
   },
   "outputs": [
    {
     "data": {
      "text/plain": [
       "SOURCE\n",
       "android    34.174849\n",
       "ios        34.069102\n",
       "Name: PRICE, dtype: float64"
      ]
     },
     "execution_count": 271,
     "metadata": {},
     "output_type": "execute_result"
    }
   ],
   "source": [
    "df.groupby(\"SOURCE\")[\"PRICE\"].mean()"
   ]
  },
  {
   "cell_type": "code",
   "execution_count": 272,
   "id": "08155442",
   "metadata": {
    "execution": {
     "iopub.execute_input": "2023-10-11T14:45:09.762209Z",
     "iopub.status.busy": "2023-10-11T14:45:09.761701Z",
     "iopub.status.idle": "2023-10-11T14:45:09.773595Z",
     "shell.execute_reply": "2023-10-11T14:45:09.772706Z"
    },
    "papermill": {
     "duration": 0.105344,
     "end_time": "2023-10-11T14:45:09.775534",
     "exception": false,
     "start_time": "2023-10-11T14:45:09.670190",
     "status": "completed"
    },
    "tags": []
   },
   "outputs": [
    {
     "data": {
      "text/html": [
       "<div>\n",
       "<style scoped>\n",
       "    .dataframe tbody tr th:only-of-type {\n",
       "        vertical-align: middle;\n",
       "    }\n",
       "\n",
       "    .dataframe tbody tr th {\n",
       "        vertical-align: top;\n",
       "    }\n",
       "\n",
       "    .dataframe thead th {\n",
       "        text-align: right;\n",
       "    }\n",
       "</style>\n",
       "<table border=\"1\" class=\"dataframe\">\n",
       "  <thead>\n",
       "    <tr style=\"text-align: right;\">\n",
       "      <th></th>\n",
       "      <th>PRICE</th>\n",
       "    </tr>\n",
       "    <tr>\n",
       "      <th>SOURCE</th>\n",
       "      <th></th>\n",
       "    </tr>\n",
       "  </thead>\n",
       "  <tbody>\n",
       "    <tr>\n",
       "      <th>android</th>\n",
       "      <td>34.174849</td>\n",
       "    </tr>\n",
       "    <tr>\n",
       "      <th>ios</th>\n",
       "      <td>34.069102</td>\n",
       "    </tr>\n",
       "  </tbody>\n",
       "</table>\n",
       "</div>"
      ],
      "text/plain": [
       "             PRICE\n",
       "SOURCE            \n",
       "android  34.174849\n",
       "ios      34.069102"
      ]
     },
     "execution_count": 272,
     "metadata": {},
     "output_type": "execute_result"
    }
   ],
   "source": [
    "df.pivot_table(\"PRICE\",\"SOURCE\",aggfunc=\"mean\")"
   ]
  },
  {
   "cell_type": "markdown",
   "id": "a86c8ed9",
   "metadata": {
    "papermill": {
     "duration": 0.090202,
     "end_time": "2023-10-11T14:45:09.955899",
     "exception": false,
     "start_time": "2023-10-11T14:45:09.865697",
     "status": "completed"
    },
    "tags": []
   },
   "source": [
    "* **COUNTRY-SOURCE kırılımında PRICE ortalamaları nedir?**"
   ]
  },
  {
   "cell_type": "code",
   "execution_count": 273,
   "id": "feeba247",
   "metadata": {
    "execution": {
     "iopub.execute_input": "2023-10-11T14:45:10.199189Z",
     "iopub.status.busy": "2023-10-11T14:45:10.198572Z",
     "iopub.status.idle": "2023-10-11T14:45:10.212123Z",
     "shell.execute_reply": "2023-10-11T14:45:10.210944Z"
    },
    "papermill": {
     "duration": 0.105295,
     "end_time": "2023-10-11T14:45:10.214213",
     "exception": false,
     "start_time": "2023-10-11T14:45:10.108918",
     "status": "completed"
    },
    "tags": []
   },
   "outputs": [
    {
     "data": {
      "text/html": [
       "<div>\n",
       "<style scoped>\n",
       "    .dataframe tbody tr th:only-of-type {\n",
       "        vertical-align: middle;\n",
       "    }\n",
       "\n",
       "    .dataframe tbody tr th {\n",
       "        vertical-align: top;\n",
       "    }\n",
       "\n",
       "    .dataframe thead th {\n",
       "        text-align: right;\n",
       "    }\n",
       "</style>\n",
       "<table border=\"1\" class=\"dataframe\">\n",
       "  <thead>\n",
       "    <tr style=\"text-align: right;\">\n",
       "      <th></th>\n",
       "      <th></th>\n",
       "      <th>Fiyat_Ortalamaları</th>\n",
       "    </tr>\n",
       "    <tr>\n",
       "      <th>COUNTRY</th>\n",
       "      <th>SOURCE</th>\n",
       "      <th></th>\n",
       "    </tr>\n",
       "  </thead>\n",
       "  <tbody>\n",
       "    <tr>\n",
       "      <th rowspan=\"2\" valign=\"top\">bra</th>\n",
       "      <th>android</th>\n",
       "      <td>34.387029</td>\n",
       "    </tr>\n",
       "    <tr>\n",
       "      <th>ios</th>\n",
       "      <td>34.222222</td>\n",
       "    </tr>\n",
       "    <tr>\n",
       "      <th rowspan=\"2\" valign=\"top\">can</th>\n",
       "      <th>android</th>\n",
       "      <td>33.330709</td>\n",
       "    </tr>\n",
       "    <tr>\n",
       "      <th>ios</th>\n",
       "      <td>33.951456</td>\n",
       "    </tr>\n",
       "    <tr>\n",
       "      <th rowspan=\"2\" valign=\"top\">deu</th>\n",
       "      <th>android</th>\n",
       "      <td>33.869888</td>\n",
       "    </tr>\n",
       "    <tr>\n",
       "      <th>ios</th>\n",
       "      <td>34.268817</td>\n",
       "    </tr>\n",
       "    <tr>\n",
       "      <th rowspan=\"2\" valign=\"top\">fra</th>\n",
       "      <th>android</th>\n",
       "      <td>34.312500</td>\n",
       "    </tr>\n",
       "    <tr>\n",
       "      <th>ios</th>\n",
       "      <td>32.776224</td>\n",
       "    </tr>\n",
       "    <tr>\n",
       "      <th rowspan=\"2\" valign=\"top\">tur</th>\n",
       "      <th>android</th>\n",
       "      <td>36.229437</td>\n",
       "    </tr>\n",
       "    <tr>\n",
       "      <th>ios</th>\n",
       "      <td>33.272727</td>\n",
       "    </tr>\n",
       "    <tr>\n",
       "      <th rowspan=\"2\" valign=\"top\">usa</th>\n",
       "      <th>android</th>\n",
       "      <td>33.760357</td>\n",
       "    </tr>\n",
       "    <tr>\n",
       "      <th>ios</th>\n",
       "      <td>34.371703</td>\n",
       "    </tr>\n",
       "  </tbody>\n",
       "</table>\n",
       "</div>"
      ],
      "text/plain": [
       "                 Fiyat_Ortalamaları\n",
       "COUNTRY SOURCE                     \n",
       "bra     android           34.387029\n",
       "        ios               34.222222\n",
       "can     android           33.330709\n",
       "        ios               33.951456\n",
       "deu     android           33.869888\n",
       "        ios               34.268817\n",
       "fra     android           34.312500\n",
       "        ios               32.776224\n",
       "tur     android           36.229437\n",
       "        ios               33.272727\n",
       "usa     android           33.760357\n",
       "        ios               34.371703"
      ]
     },
     "execution_count": 273,
     "metadata": {},
     "output_type": "execute_result"
    }
   ],
   "source": [
    "df.groupby([\"COUNTRY\",\"SOURCE\"])[\"PRICE\"].agg([(\"Fiyat_Ortalamaları\",\"mean\")])"
   ]
  },
  {
   "cell_type": "code",
   "execution_count": 274,
   "id": "eb6951f8",
   "metadata": {
    "execution": {
     "iopub.execute_input": "2023-10-11T14:45:10.397468Z",
     "iopub.status.busy": "2023-10-11T14:45:10.397116Z",
     "iopub.status.idle": "2023-10-11T14:45:10.409431Z",
     "shell.execute_reply": "2023-10-11T14:45:10.408719Z"
    },
    "papermill": {
     "duration": 0.105133,
     "end_time": "2023-10-11T14:45:10.411116",
     "exception": false,
     "start_time": "2023-10-11T14:45:10.305983",
     "status": "completed"
    },
    "tags": []
   },
   "outputs": [
    {
     "data": {
      "text/html": [
       "<div>\n",
       "<style scoped>\n",
       "    .dataframe tbody tr th:only-of-type {\n",
       "        vertical-align: middle;\n",
       "    }\n",
       "\n",
       "    .dataframe tbody tr th {\n",
       "        vertical-align: top;\n",
       "    }\n",
       "\n",
       "    .dataframe thead th {\n",
       "        text-align: right;\n",
       "    }\n",
       "</style>\n",
       "<table border=\"1\" class=\"dataframe\">\n",
       "  <thead>\n",
       "    <tr style=\"text-align: right;\">\n",
       "      <th></th>\n",
       "      <th></th>\n",
       "      <th>PRICE</th>\n",
       "    </tr>\n",
       "    <tr>\n",
       "      <th>COUNTRY</th>\n",
       "      <th>SOURCE</th>\n",
       "      <th></th>\n",
       "    </tr>\n",
       "  </thead>\n",
       "  <tbody>\n",
       "    <tr>\n",
       "      <th rowspan=\"2\" valign=\"top\">bra</th>\n",
       "      <th>android</th>\n",
       "      <td>34.387029</td>\n",
       "    </tr>\n",
       "    <tr>\n",
       "      <th>ios</th>\n",
       "      <td>34.222222</td>\n",
       "    </tr>\n",
       "    <tr>\n",
       "      <th rowspan=\"2\" valign=\"top\">can</th>\n",
       "      <th>android</th>\n",
       "      <td>33.330709</td>\n",
       "    </tr>\n",
       "    <tr>\n",
       "      <th>ios</th>\n",
       "      <td>33.951456</td>\n",
       "    </tr>\n",
       "    <tr>\n",
       "      <th rowspan=\"2\" valign=\"top\">deu</th>\n",
       "      <th>android</th>\n",
       "      <td>33.869888</td>\n",
       "    </tr>\n",
       "    <tr>\n",
       "      <th>ios</th>\n",
       "      <td>34.268817</td>\n",
       "    </tr>\n",
       "    <tr>\n",
       "      <th rowspan=\"2\" valign=\"top\">fra</th>\n",
       "      <th>android</th>\n",
       "      <td>34.312500</td>\n",
       "    </tr>\n",
       "    <tr>\n",
       "      <th>ios</th>\n",
       "      <td>32.776224</td>\n",
       "    </tr>\n",
       "    <tr>\n",
       "      <th rowspan=\"2\" valign=\"top\">tur</th>\n",
       "      <th>android</th>\n",
       "      <td>36.229437</td>\n",
       "    </tr>\n",
       "    <tr>\n",
       "      <th>ios</th>\n",
       "      <td>33.272727</td>\n",
       "    </tr>\n",
       "    <tr>\n",
       "      <th rowspan=\"2\" valign=\"top\">usa</th>\n",
       "      <th>android</th>\n",
       "      <td>33.760357</td>\n",
       "    </tr>\n",
       "    <tr>\n",
       "      <th>ios</th>\n",
       "      <td>34.371703</td>\n",
       "    </tr>\n",
       "  </tbody>\n",
       "</table>\n",
       "</div>"
      ],
      "text/plain": [
       "                     PRICE\n",
       "COUNTRY SOURCE            \n",
       "bra     android  34.387029\n",
       "        ios      34.222222\n",
       "can     android  33.330709\n",
       "        ios      33.951456\n",
       "deu     android  33.869888\n",
       "        ios      34.268817\n",
       "fra     android  34.312500\n",
       "        ios      32.776224\n",
       "tur     android  36.229437\n",
       "        ios      33.272727\n",
       "usa     android  33.760357\n",
       "        ios      34.371703"
      ]
     },
     "execution_count": 274,
     "metadata": {},
     "output_type": "execute_result"
    }
   ],
   "source": [
    "df.groupby([\"COUNTRY\",\"SOURCE\"]).agg({\"PRICE\": \"mean\"})"
   ]
  },
  {
   "cell_type": "code",
   "execution_count": 275,
   "id": "948d59a2",
   "metadata": {
    "execution": {
     "iopub.execute_input": "2023-10-11T14:45:10.594483Z",
     "iopub.status.busy": "2023-10-11T14:45:10.593540Z",
     "iopub.status.idle": "2023-10-11T14:45:10.603162Z",
     "shell.execute_reply": "2023-10-11T14:45:10.602140Z"
    },
    "papermill": {
     "duration": 0.103099,
     "end_time": "2023-10-11T14:45:10.605118",
     "exception": false,
     "start_time": "2023-10-11T14:45:10.502019",
     "status": "completed"
    },
    "tags": []
   },
   "outputs": [
    {
     "data": {
      "text/plain": [
       "COUNTRY  SOURCE \n",
       "bra      android    34.387029\n",
       "         ios        34.222222\n",
       "can      android    33.330709\n",
       "         ios        33.951456\n",
       "deu      android    33.869888\n",
       "         ios        34.268817\n",
       "fra      android    34.312500\n",
       "         ios        32.776224\n",
       "tur      android    36.229437\n",
       "         ios        33.272727\n",
       "usa      android    33.760357\n",
       "         ios        34.371703\n",
       "Name: PRICE, dtype: float64"
      ]
     },
     "execution_count": 275,
     "metadata": {},
     "output_type": "execute_result"
    }
   ],
   "source": [
    "df.groupby([\"COUNTRY\",\"SOURCE\"])[\"PRICE\"].mean()"
   ]
  },
  {
   "cell_type": "code",
   "execution_count": 276,
   "id": "a289f642",
   "metadata": {
    "execution": {
     "iopub.execute_input": "2023-10-11T14:45:10.786367Z",
     "iopub.status.busy": "2023-10-11T14:45:10.786041Z",
     "iopub.status.idle": "2023-10-11T14:45:10.802166Z",
     "shell.execute_reply": "2023-10-11T14:45:10.801407Z"
    },
    "papermill": {
     "duration": 0.108915,
     "end_time": "2023-10-11T14:45:10.804054",
     "exception": false,
     "start_time": "2023-10-11T14:45:10.695139",
     "status": "completed"
    },
    "tags": []
   },
   "outputs": [
    {
     "data": {
      "text/html": [
       "<div>\n",
       "<style scoped>\n",
       "    .dataframe tbody tr th:only-of-type {\n",
       "        vertical-align: middle;\n",
       "    }\n",
       "\n",
       "    .dataframe tbody tr th {\n",
       "        vertical-align: top;\n",
       "    }\n",
       "\n",
       "    .dataframe thead th {\n",
       "        text-align: right;\n",
       "    }\n",
       "</style>\n",
       "<table border=\"1\" class=\"dataframe\">\n",
       "  <thead>\n",
       "    <tr style=\"text-align: right;\">\n",
       "      <th></th>\n",
       "      <th></th>\n",
       "      <th>PRICE</th>\n",
       "    </tr>\n",
       "    <tr>\n",
       "      <th>COUNTRY</th>\n",
       "      <th>SOURCE</th>\n",
       "      <th></th>\n",
       "    </tr>\n",
       "  </thead>\n",
       "  <tbody>\n",
       "    <tr>\n",
       "      <th rowspan=\"2\" valign=\"top\">bra</th>\n",
       "      <th>android</th>\n",
       "      <td>34.387029</td>\n",
       "    </tr>\n",
       "    <tr>\n",
       "      <th>ios</th>\n",
       "      <td>34.222222</td>\n",
       "    </tr>\n",
       "    <tr>\n",
       "      <th rowspan=\"2\" valign=\"top\">can</th>\n",
       "      <th>android</th>\n",
       "      <td>33.330709</td>\n",
       "    </tr>\n",
       "    <tr>\n",
       "      <th>ios</th>\n",
       "      <td>33.951456</td>\n",
       "    </tr>\n",
       "    <tr>\n",
       "      <th rowspan=\"2\" valign=\"top\">deu</th>\n",
       "      <th>android</th>\n",
       "      <td>33.869888</td>\n",
       "    </tr>\n",
       "    <tr>\n",
       "      <th>ios</th>\n",
       "      <td>34.268817</td>\n",
       "    </tr>\n",
       "    <tr>\n",
       "      <th rowspan=\"2\" valign=\"top\">fra</th>\n",
       "      <th>android</th>\n",
       "      <td>34.312500</td>\n",
       "    </tr>\n",
       "    <tr>\n",
       "      <th>ios</th>\n",
       "      <td>32.776224</td>\n",
       "    </tr>\n",
       "    <tr>\n",
       "      <th rowspan=\"2\" valign=\"top\">tur</th>\n",
       "      <th>android</th>\n",
       "      <td>36.229437</td>\n",
       "    </tr>\n",
       "    <tr>\n",
       "      <th>ios</th>\n",
       "      <td>33.272727</td>\n",
       "    </tr>\n",
       "    <tr>\n",
       "      <th rowspan=\"2\" valign=\"top\">usa</th>\n",
       "      <th>android</th>\n",
       "      <td>33.760357</td>\n",
       "    </tr>\n",
       "    <tr>\n",
       "      <th>ios</th>\n",
       "      <td>34.371703</td>\n",
       "    </tr>\n",
       "  </tbody>\n",
       "</table>\n",
       "</div>"
      ],
      "text/plain": [
       "                     PRICE\n",
       "COUNTRY SOURCE            \n",
       "bra     android  34.387029\n",
       "        ios      34.222222\n",
       "can     android  33.330709\n",
       "        ios      33.951456\n",
       "deu     android  33.869888\n",
       "        ios      34.268817\n",
       "fra     android  34.312500\n",
       "        ios      32.776224\n",
       "tur     android  36.229437\n",
       "        ios      33.272727\n",
       "usa     android  33.760357\n",
       "        ios      34.371703"
      ]
     },
     "execution_count": 276,
     "metadata": {},
     "output_type": "execute_result"
    }
   ],
   "source": [
    "df.pivot_table(\"PRICE\",[\"COUNTRY\",\"SOURCE\"],aggfunc=\"mean\")"
   ]
  },
  {
   "cell_type": "markdown",
   "id": "fb1f7bf6",
   "metadata": {
    "papermill": {
     "duration": 0.093235,
     "end_time": "2023-10-11T14:45:10.986788",
     "exception": false,
     "start_time": "2023-10-11T14:45:10.893553",
     "status": "completed"
    },
    "tags": []
   },
   "source": [
    "* **COUNTRY, SOURCE, SEX, AGE kırılımında ortalama kazançlar nedir?**"
   ]
  },
  {
   "cell_type": "code",
   "execution_count": 277,
   "id": "b6c1bb25",
   "metadata": {
    "execution": {
     "iopub.execute_input": "2023-10-11T14:45:11.170462Z",
     "iopub.status.busy": "2023-10-11T14:45:11.170047Z",
     "iopub.status.idle": "2023-10-11T14:45:11.184395Z",
     "shell.execute_reply": "2023-10-11T14:45:11.183167Z"
    },
    "papermill": {
     "duration": 0.108486,
     "end_time": "2023-10-11T14:45:11.186614",
     "exception": false,
     "start_time": "2023-10-11T14:45:11.078128",
     "status": "completed"
    },
    "tags": []
   },
   "outputs": [
    {
     "data": {
      "text/html": [
       "<div>\n",
       "<style scoped>\n",
       "    .dataframe tbody tr th:only-of-type {\n",
       "        vertical-align: middle;\n",
       "    }\n",
       "\n",
       "    .dataframe tbody tr th {\n",
       "        vertical-align: top;\n",
       "    }\n",
       "\n",
       "    .dataframe thead th {\n",
       "        text-align: right;\n",
       "    }\n",
       "</style>\n",
       "<table border=\"1\" class=\"dataframe\">\n",
       "  <thead>\n",
       "    <tr style=\"text-align: right;\">\n",
       "      <th></th>\n",
       "      <th></th>\n",
       "      <th></th>\n",
       "      <th></th>\n",
       "      <th>Kazanç_Ortalamaları</th>\n",
       "    </tr>\n",
       "    <tr>\n",
       "      <th>COUNTRY</th>\n",
       "      <th>SOURCE</th>\n",
       "      <th>SEX</th>\n",
       "      <th>AGE</th>\n",
       "      <th></th>\n",
       "    </tr>\n",
       "  </thead>\n",
       "  <tbody>\n",
       "    <tr>\n",
       "      <th rowspan=\"5\" valign=\"top\">bra</th>\n",
       "      <th rowspan=\"5\" valign=\"top\">android</th>\n",
       "      <th rowspan=\"5\" valign=\"top\">female</th>\n",
       "      <th>15</th>\n",
       "      <td>38.714286</td>\n",
       "    </tr>\n",
       "    <tr>\n",
       "      <th>16</th>\n",
       "      <td>35.944444</td>\n",
       "    </tr>\n",
       "    <tr>\n",
       "      <th>17</th>\n",
       "      <td>35.666667</td>\n",
       "    </tr>\n",
       "    <tr>\n",
       "      <th>18</th>\n",
       "      <td>32.255814</td>\n",
       "    </tr>\n",
       "    <tr>\n",
       "      <th>19</th>\n",
       "      <td>35.206897</td>\n",
       "    </tr>\n",
       "  </tbody>\n",
       "</table>\n",
       "</div>"
      ],
      "text/plain": [
       "                            Kazanç_Ortalamaları\n",
       "COUNTRY SOURCE  SEX    AGE                     \n",
       "bra     android female 15             38.714286\n",
       "                       16             35.944444\n",
       "                       17             35.666667\n",
       "                       18             32.255814\n",
       "                       19             35.206897"
      ]
     },
     "execution_count": 277,
     "metadata": {},
     "output_type": "execute_result"
    }
   ],
   "source": [
    "df.groupby([\"COUNTRY\",\"SOURCE\",\"SEX\",\"AGE\"])[\"PRICE\"].agg([(\"Kazanç_Ortalamaları\",\"mean\")]).head()"
   ]
  },
  {
   "cell_type": "code",
   "execution_count": 278,
   "id": "91e21a3c",
   "metadata": {
    "execution": {
     "iopub.execute_input": "2023-10-11T14:45:11.370896Z",
     "iopub.status.busy": "2023-10-11T14:45:11.370224Z",
     "iopub.status.idle": "2023-10-11T14:45:11.388102Z",
     "shell.execute_reply": "2023-10-11T14:45:11.387122Z"
    },
    "papermill": {
     "duration": 0.111501,
     "end_time": "2023-10-11T14:45:11.390128",
     "exception": false,
     "start_time": "2023-10-11T14:45:11.278627",
     "status": "completed"
    },
    "tags": []
   },
   "outputs": [
    {
     "data": {
      "text/html": [
       "<div>\n",
       "<style scoped>\n",
       "    .dataframe tbody tr th:only-of-type {\n",
       "        vertical-align: middle;\n",
       "    }\n",
       "\n",
       "    .dataframe tbody tr th {\n",
       "        vertical-align: top;\n",
       "    }\n",
       "\n",
       "    .dataframe thead th {\n",
       "        text-align: right;\n",
       "    }\n",
       "</style>\n",
       "<table border=\"1\" class=\"dataframe\">\n",
       "  <thead>\n",
       "    <tr style=\"text-align: right;\">\n",
       "      <th></th>\n",
       "      <th></th>\n",
       "      <th></th>\n",
       "      <th></th>\n",
       "      <th>PRICE</th>\n",
       "    </tr>\n",
       "    <tr>\n",
       "      <th>COUNTRY</th>\n",
       "      <th>SOURCE</th>\n",
       "      <th>SEX</th>\n",
       "      <th>AGE</th>\n",
       "      <th></th>\n",
       "    </tr>\n",
       "  </thead>\n",
       "  <tbody>\n",
       "    <tr>\n",
       "      <th rowspan=\"5\" valign=\"top\">bra</th>\n",
       "      <th rowspan=\"5\" valign=\"top\">android</th>\n",
       "      <th rowspan=\"5\" valign=\"top\">female</th>\n",
       "      <th>15</th>\n",
       "      <td>38.714286</td>\n",
       "    </tr>\n",
       "    <tr>\n",
       "      <th>16</th>\n",
       "      <td>35.944444</td>\n",
       "    </tr>\n",
       "    <tr>\n",
       "      <th>17</th>\n",
       "      <td>35.666667</td>\n",
       "    </tr>\n",
       "    <tr>\n",
       "      <th>18</th>\n",
       "      <td>32.255814</td>\n",
       "    </tr>\n",
       "    <tr>\n",
       "      <th>19</th>\n",
       "      <td>35.206897</td>\n",
       "    </tr>\n",
       "    <tr>\n",
       "      <th>...</th>\n",
       "      <th>...</th>\n",
       "      <th>...</th>\n",
       "      <th>...</th>\n",
       "      <td>...</td>\n",
       "    </tr>\n",
       "    <tr>\n",
       "      <th rowspan=\"5\" valign=\"top\">usa</th>\n",
       "      <th rowspan=\"5\" valign=\"top\">ios</th>\n",
       "      <th rowspan=\"5\" valign=\"top\">male</th>\n",
       "      <th>42</th>\n",
       "      <td>30.250000</td>\n",
       "    </tr>\n",
       "    <tr>\n",
       "      <th>50</th>\n",
       "      <td>39.000000</td>\n",
       "    </tr>\n",
       "    <tr>\n",
       "      <th>53</th>\n",
       "      <td>34.000000</td>\n",
       "    </tr>\n",
       "    <tr>\n",
       "      <th>55</th>\n",
       "      <td>29.000000</td>\n",
       "    </tr>\n",
       "    <tr>\n",
       "      <th>59</th>\n",
       "      <td>46.500000</td>\n",
       "    </tr>\n",
       "  </tbody>\n",
       "</table>\n",
       "<p>348 rows × 1 columns</p>\n",
       "</div>"
      ],
      "text/plain": [
       "                                PRICE\n",
       "COUNTRY SOURCE  SEX    AGE           \n",
       "bra     android female 15   38.714286\n",
       "                       16   35.944444\n",
       "                       17   35.666667\n",
       "                       18   32.255814\n",
       "                       19   35.206897\n",
       "...                               ...\n",
       "usa     ios     male   42   30.250000\n",
       "                       50   39.000000\n",
       "                       53   34.000000\n",
       "                       55   29.000000\n",
       "                       59   46.500000\n",
       "\n",
       "[348 rows x 1 columns]"
      ]
     },
     "execution_count": 278,
     "metadata": {},
     "output_type": "execute_result"
    }
   ],
   "source": [
    "df.groupby([\"COUNTRY\",\"SOURCE\",\"SEX\",\"AGE\"]).agg({\"PRICE\": \"mean\"})"
   ]
  },
  {
   "cell_type": "code",
   "execution_count": 279,
   "id": "cfa2c22d",
   "metadata": {
    "execution": {
     "iopub.execute_input": "2023-10-11T14:45:11.577986Z",
     "iopub.status.busy": "2023-10-11T14:45:11.576938Z",
     "iopub.status.idle": "2023-10-11T14:45:11.592325Z",
     "shell.execute_reply": "2023-10-11T14:45:11.591683Z"
    },
    "papermill": {
     "duration": 0.111501,
     "end_time": "2023-10-11T14:45:11.594066",
     "exception": false,
     "start_time": "2023-10-11T14:45:11.482565",
     "status": "completed"
    },
    "tags": []
   },
   "outputs": [
    {
     "data": {
      "text/html": [
       "<div>\n",
       "<style scoped>\n",
       "    .dataframe tbody tr th:only-of-type {\n",
       "        vertical-align: middle;\n",
       "    }\n",
       "\n",
       "    .dataframe tbody tr th {\n",
       "        vertical-align: top;\n",
       "    }\n",
       "\n",
       "    .dataframe thead th {\n",
       "        text-align: right;\n",
       "    }\n",
       "</style>\n",
       "<table border=\"1\" class=\"dataframe\">\n",
       "  <thead>\n",
       "    <tr style=\"text-align: right;\">\n",
       "      <th></th>\n",
       "      <th></th>\n",
       "      <th></th>\n",
       "      <th></th>\n",
       "      <th>PRICE</th>\n",
       "    </tr>\n",
       "    <tr>\n",
       "      <th>COUNTRY</th>\n",
       "      <th>SOURCE</th>\n",
       "      <th>SEX</th>\n",
       "      <th>AGE</th>\n",
       "      <th></th>\n",
       "    </tr>\n",
       "  </thead>\n",
       "  <tbody>\n",
       "    <tr>\n",
       "      <th rowspan=\"5\" valign=\"top\">bra</th>\n",
       "      <th rowspan=\"5\" valign=\"top\">android</th>\n",
       "      <th rowspan=\"5\" valign=\"top\">female</th>\n",
       "      <th>15</th>\n",
       "      <td>38.714286</td>\n",
       "    </tr>\n",
       "    <tr>\n",
       "      <th>16</th>\n",
       "      <td>35.944444</td>\n",
       "    </tr>\n",
       "    <tr>\n",
       "      <th>17</th>\n",
       "      <td>35.666667</td>\n",
       "    </tr>\n",
       "    <tr>\n",
       "      <th>18</th>\n",
       "      <td>32.255814</td>\n",
       "    </tr>\n",
       "    <tr>\n",
       "      <th>19</th>\n",
       "      <td>35.206897</td>\n",
       "    </tr>\n",
       "  </tbody>\n",
       "</table>\n",
       "</div>"
      ],
      "text/plain": [
       "                                PRICE\n",
       "COUNTRY SOURCE  SEX    AGE           \n",
       "bra     android female 15   38.714286\n",
       "                       16   35.944444\n",
       "                       17   35.666667\n",
       "                       18   32.255814\n",
       "                       19   35.206897"
      ]
     },
     "execution_count": 279,
     "metadata": {},
     "output_type": "execute_result"
    }
   ],
   "source": [
    "df.pivot_table(\"PRICE\",[\"COUNTRY\",\"SOURCE\",\"SEX\",\"AGE\"],aggfunc=\"mean\").head()"
   ]
  },
  {
   "cell_type": "code",
   "execution_count": 280,
   "id": "d0c1bf8e",
   "metadata": {
    "execution": {
     "iopub.execute_input": "2023-10-11T14:45:11.787967Z",
     "iopub.status.busy": "2023-10-11T14:45:11.787331Z",
     "iopub.status.idle": "2023-10-11T14:45:11.839888Z",
     "shell.execute_reply": "2023-10-11T14:45:11.839102Z"
    },
    "papermill": {
     "duration": 0.156461,
     "end_time": "2023-10-11T14:45:11.842065",
     "exception": false,
     "start_time": "2023-10-11T14:45:11.685604",
     "status": "completed"
    },
    "tags": []
   },
   "outputs": [
    {
     "data": {
      "text/plain": [
       "[                                PRICE\n",
       " COUNTRY SOURCE  SEX    AGE           \n",
       " bra     android female 15   38.714286\n",
       "                        16   35.944444\n",
       "                        17   35.666667\n",
       "                        18   32.255814\n",
       "                        19   35.206897,\n",
       "                                 PRICE\n",
       " COUNTRY SOURCE  SEX    AGE           \n",
       " usa     android female 15   32.666667\n",
       "                        16   34.901639\n",
       "                        17   34.625000\n",
       "                        18   32.404255\n",
       "                        19   35.764706,\n",
       "                                 PRICE\n",
       " COUNTRY SOURCE  SEX    AGE           \n",
       " fra     android female 15   37.571429\n",
       "                        16   36.727273\n",
       "                        17   34.652174\n",
       "                        19   27.333333\n",
       "                        21   39.000000,\n",
       "                                 PRICE\n",
       " COUNTRY SOURCE  SEX    AGE           \n",
       " can     android female 15   25.666667\n",
       "                        16   29.689655\n",
       "                        18   37.333333\n",
       "                        19   32.529412\n",
       "                        20   31.500000,\n",
       "                                 PRICE\n",
       " COUNTRY SOURCE  SEX    AGE           \n",
       " tur     android female 15   41.000000\n",
       "                        16   34.555556\n",
       "                        17   33.687500\n",
       "                        18   41.500000\n",
       "                        19   31.000000,\n",
       "                                 PRICE\n",
       " COUNTRY SOURCE  SEX    AGE           \n",
       " deu     android female 15   32.000000\n",
       "                        16   27.000000\n",
       "                        17   33.736842\n",
       "                        21   31.000000\n",
       "                        22   35.000000]"
      ]
     },
     "execution_count": 280,
     "metadata": {},
     "output_type": "execute_result"
    }
   ],
   "source": [
    "[df.groupby([\"COUNTRY\",\"SOURCE\",\"SEX\",\"AGE\"])[[\"PRICE\"]].mean().apply(lambda x : x.loc[[i]].head(5)) for i in set(df.COUNTRY)]"
   ]
  },
  {
   "cell_type": "markdown",
   "id": "41aa3dca",
   "metadata": {
    "papermill": {
     "duration": 0.095029,
     "end_time": "2023-10-11T14:45:12.054974",
     "exception": false,
     "start_time": "2023-10-11T14:45:11.959945",
     "status": "completed"
    },
    "tags": []
   },
   "source": [
    "* **Çıktıyı PRICE'a göre sıralayınız.**"
   ]
  },
  {
   "cell_type": "code",
   "execution_count": 281,
   "id": "ec4796c6",
   "metadata": {
    "execution": {
     "iopub.execute_input": "2023-10-11T14:45:12.304717Z",
     "iopub.status.busy": "2023-10-11T14:45:12.304320Z",
     "iopub.status.idle": "2023-10-11T14:45:12.313406Z",
     "shell.execute_reply": "2023-10-11T14:45:12.312708Z"
    },
    "papermill": {
     "duration": 0.167953,
     "end_time": "2023-10-11T14:45:12.315266",
     "exception": false,
     "start_time": "2023-10-11T14:45:12.147313",
     "status": "completed"
    },
    "tags": []
   },
   "outputs": [],
   "source": [
    "agg_df = df.groupby([\"COUNTRY\",\"SOURCE\",\"SEX\",\"AGE\"]).agg({\"PRICE\": \"mean\"}).sort_values(by=\"PRICE\",ascending=False)"
   ]
  },
  {
   "cell_type": "markdown",
   "id": "d0c39afc",
   "metadata": {
    "papermill": {
     "duration": 0.094267,
     "end_time": "2023-10-11T14:45:12.502855",
     "exception": false,
     "start_time": "2023-10-11T14:45:12.408588",
     "status": "completed"
    },
    "tags": []
   },
   "source": [
    "* **Indekste yer alan isimleri değişken ismine çeviriniz.**"
   ]
  },
  {
   "cell_type": "code",
   "execution_count": 282,
   "id": "e640b9c4",
   "metadata": {
    "execution": {
     "iopub.execute_input": "2023-10-11T14:45:12.691732Z",
     "iopub.status.busy": "2023-10-11T14:45:12.691122Z",
     "iopub.status.idle": "2023-10-11T14:45:12.699678Z",
     "shell.execute_reply": "2023-10-11T14:45:12.698992Z"
    },
    "papermill": {
     "duration": 0.104199,
     "end_time": "2023-10-11T14:45:12.701398",
     "exception": false,
     "start_time": "2023-10-11T14:45:12.597199",
     "status": "completed"
    },
    "tags": []
   },
   "outputs": [
    {
     "data": {
      "text/html": [
       "<div>\n",
       "<style scoped>\n",
       "    .dataframe tbody tr th:only-of-type {\n",
       "        vertical-align: middle;\n",
       "    }\n",
       "\n",
       "    .dataframe tbody tr th {\n",
       "        vertical-align: top;\n",
       "    }\n",
       "\n",
       "    .dataframe thead th {\n",
       "        text-align: right;\n",
       "    }\n",
       "</style>\n",
       "<table border=\"1\" class=\"dataframe\">\n",
       "  <thead>\n",
       "    <tr style=\"text-align: right;\">\n",
       "      <th></th>\n",
       "      <th></th>\n",
       "      <th></th>\n",
       "      <th></th>\n",
       "      <th>PRICE</th>\n",
       "    </tr>\n",
       "    <tr>\n",
       "      <th>COUNTRY</th>\n",
       "      <th>SOURCE</th>\n",
       "      <th>SEX</th>\n",
       "      <th>AGE</th>\n",
       "      <th></th>\n",
       "    </tr>\n",
       "  </thead>\n",
       "  <tbody>\n",
       "    <tr>\n",
       "      <th>bra</th>\n",
       "      <th>android</th>\n",
       "      <th>male</th>\n",
       "      <th>46</th>\n",
       "      <td>59.0</td>\n",
       "    </tr>\n",
       "    <tr>\n",
       "      <th>usa</th>\n",
       "      <th>android</th>\n",
       "      <th>male</th>\n",
       "      <th>36</th>\n",
       "      <td>59.0</td>\n",
       "    </tr>\n",
       "    <tr>\n",
       "      <th>fra</th>\n",
       "      <th>android</th>\n",
       "      <th>female</th>\n",
       "      <th>24</th>\n",
       "      <td>59.0</td>\n",
       "    </tr>\n",
       "    <tr>\n",
       "      <th>usa</th>\n",
       "      <th>ios</th>\n",
       "      <th>male</th>\n",
       "      <th>32</th>\n",
       "      <td>54.0</td>\n",
       "    </tr>\n",
       "    <tr>\n",
       "      <th>deu</th>\n",
       "      <th>android</th>\n",
       "      <th>female</th>\n",
       "      <th>36</th>\n",
       "      <td>49.0</td>\n",
       "    </tr>\n",
       "  </tbody>\n",
       "</table>\n",
       "</div>"
      ],
      "text/plain": [
       "                            PRICE\n",
       "COUNTRY SOURCE  SEX    AGE       \n",
       "bra     android male   46    59.0\n",
       "usa     android male   36    59.0\n",
       "fra     android female 24    59.0\n",
       "usa     ios     male   32    54.0\n",
       "deu     android female 36    49.0"
      ]
     },
     "execution_count": 282,
     "metadata": {},
     "output_type": "execute_result"
    }
   ],
   "source": [
    "agg_df.head()"
   ]
  },
  {
   "cell_type": "code",
   "execution_count": 283,
   "id": "098339ee",
   "metadata": {
    "execution": {
     "iopub.execute_input": "2023-10-11T14:45:12.886575Z",
     "iopub.status.busy": "2023-10-11T14:45:12.885957Z",
     "iopub.status.idle": "2023-10-11T14:45:12.891350Z",
     "shell.execute_reply": "2023-10-11T14:45:12.890705Z"
    },
    "papermill": {
     "duration": 0.099791,
     "end_time": "2023-10-11T14:45:12.893061",
     "exception": false,
     "start_time": "2023-10-11T14:45:12.793270",
     "status": "completed"
    },
    "tags": []
   },
   "outputs": [],
   "source": [
    "agg_df.reset_index(inplace=True)"
   ]
  },
  {
   "cell_type": "code",
   "execution_count": 284,
   "id": "3888da62",
   "metadata": {
    "execution": {
     "iopub.execute_input": "2023-10-11T14:45:13.083935Z",
     "iopub.status.busy": "2023-10-11T14:45:13.083412Z",
     "iopub.status.idle": "2023-10-11T14:45:13.093300Z",
     "shell.execute_reply": "2023-10-11T14:45:13.092488Z"
    },
    "papermill": {
     "duration": 0.107089,
     "end_time": "2023-10-11T14:45:13.095034",
     "exception": false,
     "start_time": "2023-10-11T14:45:12.987945",
     "status": "completed"
    },
    "tags": []
   },
   "outputs": [
    {
     "data": {
      "text/html": [
       "<div>\n",
       "<style scoped>\n",
       "    .dataframe tbody tr th:only-of-type {\n",
       "        vertical-align: middle;\n",
       "    }\n",
       "\n",
       "    .dataframe tbody tr th {\n",
       "        vertical-align: top;\n",
       "    }\n",
       "\n",
       "    .dataframe thead th {\n",
       "        text-align: right;\n",
       "    }\n",
       "</style>\n",
       "<table border=\"1\" class=\"dataframe\">\n",
       "  <thead>\n",
       "    <tr style=\"text-align: right;\">\n",
       "      <th></th>\n",
       "      <th>COUNTRY</th>\n",
       "      <th>SOURCE</th>\n",
       "      <th>SEX</th>\n",
       "      <th>AGE</th>\n",
       "      <th>PRICE</th>\n",
       "    </tr>\n",
       "  </thead>\n",
       "  <tbody>\n",
       "    <tr>\n",
       "      <th>0</th>\n",
       "      <td>bra</td>\n",
       "      <td>android</td>\n",
       "      <td>male</td>\n",
       "      <td>46</td>\n",
       "      <td>59.0</td>\n",
       "    </tr>\n",
       "    <tr>\n",
       "      <th>1</th>\n",
       "      <td>usa</td>\n",
       "      <td>android</td>\n",
       "      <td>male</td>\n",
       "      <td>36</td>\n",
       "      <td>59.0</td>\n",
       "    </tr>\n",
       "    <tr>\n",
       "      <th>2</th>\n",
       "      <td>fra</td>\n",
       "      <td>android</td>\n",
       "      <td>female</td>\n",
       "      <td>24</td>\n",
       "      <td>59.0</td>\n",
       "    </tr>\n",
       "    <tr>\n",
       "      <th>3</th>\n",
       "      <td>usa</td>\n",
       "      <td>ios</td>\n",
       "      <td>male</td>\n",
       "      <td>32</td>\n",
       "      <td>54.0</td>\n",
       "    </tr>\n",
       "    <tr>\n",
       "      <th>4</th>\n",
       "      <td>deu</td>\n",
       "      <td>android</td>\n",
       "      <td>female</td>\n",
       "      <td>36</td>\n",
       "      <td>49.0</td>\n",
       "    </tr>\n",
       "  </tbody>\n",
       "</table>\n",
       "</div>"
      ],
      "text/plain": [
       "  COUNTRY   SOURCE     SEX  AGE  PRICE\n",
       "0     bra  android    male   46   59.0\n",
       "1     usa  android    male   36   59.0\n",
       "2     fra  android  female   24   59.0\n",
       "3     usa      ios    male   32   54.0\n",
       "4     deu  android  female   36   49.0"
      ]
     },
     "execution_count": 284,
     "metadata": {},
     "output_type": "execute_result"
    }
   ],
   "source": [
    "agg_df.head()"
   ]
  },
  {
   "cell_type": "markdown",
   "id": "5f79a02e",
   "metadata": {
    "papermill": {
     "duration": 0.091326,
     "end_time": "2023-10-11T14:45:13.283184",
     "exception": false,
     "start_time": "2023-10-11T14:45:13.191858",
     "status": "completed"
    },
    "tags": []
   },
   "source": [
    "* **AGE değişkenini kategorik değişkene çeviriniz ve agg_df'e ekleyiniz.**"
   ]
  },
  {
   "cell_type": "code",
   "execution_count": 285,
   "id": "a8ff4509",
   "metadata": {
    "execution": {
     "iopub.execute_input": "2023-10-11T14:45:13.467630Z",
     "iopub.status.busy": "2023-10-11T14:45:13.466993Z",
     "iopub.status.idle": "2023-10-11T14:45:13.473482Z",
     "shell.execute_reply": "2023-10-11T14:45:13.472812Z"
    },
    "papermill": {
     "duration": 0.100864,
     "end_time": "2023-10-11T14:45:13.475345",
     "exception": false,
     "start_time": "2023-10-11T14:45:13.374481",
     "status": "completed"
    },
    "tags": []
   },
   "outputs": [],
   "source": [
    "agg_df[\"AGE_CAT\"] = pd.cut(agg_df[\"AGE\"],bins=[0,18,23,30,40,agg_df[\"AGE\"].max()],\n",
    "                                        labels=['0_18', '19_23', '24_30', '31_40', f'41_{agg_df[\"AGE\"].max()}'])"
   ]
  },
  {
   "cell_type": "code",
   "execution_count": 286,
   "id": "c6ddf682",
   "metadata": {
    "execution": {
     "iopub.execute_input": "2023-10-11T14:45:13.660808Z",
     "iopub.status.busy": "2023-10-11T14:45:13.660427Z",
     "iopub.status.idle": "2023-10-11T14:45:13.668038Z",
     "shell.execute_reply": "2023-10-11T14:45:13.667098Z"
    },
    "papermill": {
     "duration": 0.102297,
     "end_time": "2023-10-11T14:45:13.670025",
     "exception": false,
     "start_time": "2023-10-11T14:45:13.567728",
     "status": "completed"
    },
    "tags": []
   },
   "outputs": [
    {
     "data": {
      "text/plain": [
       "24_30    78\n",
       "0_18     77\n",
       "19_23    71\n",
       "31_40    65\n",
       "41_66    57\n",
       "Name: AGE_CAT, dtype: int64"
      ]
     },
     "execution_count": 286,
     "metadata": {},
     "output_type": "execute_result"
    }
   ],
   "source": [
    "agg_df[\"AGE_CAT\"].value_counts()"
   ]
  },
  {
   "cell_type": "markdown",
   "id": "c1595c62",
   "metadata": {
    "execution": {
     "iopub.execute_input": "2023-10-11T13:09:29.498268Z",
     "iopub.status.busy": "2023-10-11T13:09:29.497845Z",
     "iopub.status.idle": "2023-10-11T13:09:29.506056Z",
     "shell.execute_reply": "2023-10-11T13:09:29.504776Z",
     "shell.execute_reply.started": "2023-10-11T13:09:29.498236Z"
    },
    "papermill": {
     "duration": 0.092496,
     "end_time": "2023-10-11T14:45:13.857062",
     "exception": false,
     "start_time": "2023-10-11T14:45:13.764566",
     "status": "completed"
    },
    "tags": []
   },
   "source": [
    "* **Yeni level based müşterileri tanımlayınız ve veri setine değişken olarak ekleyiniz.**"
   ]
  },
  {
   "cell_type": "code",
   "execution_count": 287,
   "id": "e7e233d8",
   "metadata": {
    "execution": {
     "iopub.execute_input": "2023-10-11T14:45:14.048879Z",
     "iopub.status.busy": "2023-10-11T14:45:14.048522Z",
     "iopub.status.idle": "2023-10-11T14:45:14.054705Z",
     "shell.execute_reply": "2023-10-11T14:45:14.053543Z"
    },
    "papermill": {
     "duration": 0.104341,
     "end_time": "2023-10-11T14:45:14.056727",
     "exception": false,
     "start_time": "2023-10-11T14:45:13.952386",
     "status": "completed"
    },
    "tags": []
   },
   "outputs": [],
   "source": [
    "agg_df[\"customers_level_based\"] = [f\"{COUNTRY}_{SOURCE}_{SEX}_{AGE_CAT}\".upper()\n",
    "                                 for COUNTRY,SOURCE,SEX,AGE_CAT\n",
    "                                 in zip(agg_df[\"COUNTRY\"],agg_df[\"SOURCE\"],agg_df[\"SEX\"],agg_df[\"AGE_CAT\"])]"
   ]
  },
  {
   "cell_type": "code",
   "execution_count": 288,
   "id": "57373c87",
   "metadata": {
    "execution": {
     "iopub.execute_input": "2023-10-11T14:45:14.242701Z",
     "iopub.status.busy": "2023-10-11T14:45:14.242322Z",
     "iopub.status.idle": "2023-10-11T14:45:14.249507Z",
     "shell.execute_reply": "2023-10-11T14:45:14.248569Z"
    },
    "papermill": {
     "duration": 0.102485,
     "end_time": "2023-10-11T14:45:14.251425",
     "exception": false,
     "start_time": "2023-10-11T14:45:14.148940",
     "status": "completed"
    },
    "tags": []
   },
   "outputs": [],
   "source": [
    "agg_df[\"customers_level_based\"] = [f\"{i[0]}_{i[1]}_{i[2]}_{i[5]}\".upper() for i in agg_df.values]"
   ]
  },
  {
   "cell_type": "code",
   "execution_count": 289,
   "id": "bd38bb74",
   "metadata": {
    "execution": {
     "iopub.execute_input": "2023-10-11T14:45:14.438198Z",
     "iopub.status.busy": "2023-10-11T14:45:14.437551Z",
     "iopub.status.idle": "2023-10-11T14:45:14.447287Z",
     "shell.execute_reply": "2023-10-11T14:45:14.446482Z"
    },
    "papermill": {
     "duration": 0.10454,
     "end_time": "2023-10-11T14:45:14.449172",
     "exception": false,
     "start_time": "2023-10-11T14:45:14.344632",
     "status": "completed"
    },
    "tags": []
   },
   "outputs": [],
   "source": [
    "agg_df['customers_level_based'] = agg_df[['COUNTRY', 'SOURCE', 'SEX', 'AGE_CAT']].agg(lambda x: '_'.join(x).upper(), axis=1)"
   ]
  },
  {
   "cell_type": "code",
   "execution_count": 290,
   "id": "69af1fd6",
   "metadata": {
    "execution": {
     "iopub.execute_input": "2023-10-11T14:45:14.638292Z",
     "iopub.status.busy": "2023-10-11T14:45:14.637610Z",
     "iopub.status.idle": "2023-10-11T14:45:14.643529Z",
     "shell.execute_reply": "2023-10-11T14:45:14.642792Z"
    },
    "papermill": {
     "duration": 0.102123,
     "end_time": "2023-10-11T14:45:14.645461",
     "exception": false,
     "start_time": "2023-10-11T14:45:14.543338",
     "status": "completed"
    },
    "tags": []
   },
   "outputs": [],
   "source": [
    "agg_df = agg_df.groupby(\"customers_level_based\").agg({\"PRICE\":\"mean\"})"
   ]
  },
  {
   "cell_type": "markdown",
   "id": "47f6ae6c",
   "metadata": {
    "papermill": {
     "duration": 0.095337,
     "end_time": "2023-10-11T14:45:14.838629",
     "exception": false,
     "start_time": "2023-10-11T14:45:14.743292",
     "status": "completed"
    },
    "tags": []
   },
   "source": [
    "* **Yeni müşterileri (USA_ANDROID_MALE_0_18) segmentlere ayırınız.**"
   ]
  },
  {
   "cell_type": "code",
   "execution_count": 291,
   "id": "e4f09d1f",
   "metadata": {
    "execution": {
     "iopub.execute_input": "2023-10-11T14:45:15.030605Z",
     "iopub.status.busy": "2023-10-11T14:45:15.030235Z",
     "iopub.status.idle": "2023-10-11T14:45:15.038341Z",
     "shell.execute_reply": "2023-10-11T14:45:15.037337Z"
    },
    "papermill": {
     "duration": 0.106485,
     "end_time": "2023-10-11T14:45:15.040227",
     "exception": false,
     "start_time": "2023-10-11T14:45:14.933742",
     "status": "completed"
    },
    "tags": []
   },
   "outputs": [],
   "source": [
    "agg_df[\"SEGMENT\"] = pd.qcut(agg_df[\"PRICE\"],q=4,labels=[\"D\",\"C\",\"B\",\"A\"])"
   ]
  },
  {
   "cell_type": "markdown",
   "id": "b342a725",
   "metadata": {
    "papermill": {
     "duration": 0.15358,
     "end_time": "2023-10-11T14:45:15.286653",
     "exception": false,
     "start_time": "2023-10-11T14:45:15.133073",
     "status": "completed"
    },
    "tags": []
   },
   "source": [
    "* **Yeni gelen müşterileri sınıflandırınız ne kadar gelir getirebileceğini tahmin ediniz.**"
   ]
  },
  {
   "cell_type": "code",
   "execution_count": 292,
   "id": "d15179d9",
   "metadata": {
    "execution": {
     "iopub.execute_input": "2023-10-11T14:45:15.472168Z",
     "iopub.status.busy": "2023-10-11T14:45:15.471454Z",
     "iopub.status.idle": "2023-10-11T14:45:15.476001Z",
     "shell.execute_reply": "2023-10-11T14:45:15.475293Z"
    },
    "papermill": {
     "duration": 0.099627,
     "end_time": "2023-10-11T14:45:15.477691",
     "exception": false,
     "start_time": "2023-10-11T14:45:15.378064",
     "status": "completed"
    },
    "tags": []
   },
   "outputs": [],
   "source": [
    "resetli_df = agg_df.reset_index()"
   ]
  },
  {
   "cell_type": "code",
   "execution_count": 293,
   "id": "6de09a6c",
   "metadata": {
    "execution": {
     "iopub.execute_input": "2023-10-11T14:45:15.665285Z",
     "iopub.status.busy": "2023-10-11T14:45:15.664248Z",
     "iopub.status.idle": "2023-10-11T14:45:15.668368Z",
     "shell.execute_reply": "2023-10-11T14:45:15.667701Z"
    },
    "papermill": {
     "duration": 0.098854,
     "end_time": "2023-10-11T14:45:15.670037",
     "exception": false,
     "start_time": "2023-10-11T14:45:15.571183",
     "status": "completed"
    },
    "tags": []
   },
   "outputs": [],
   "source": [
    "new_customer = \"TUR_ANDROID_FEMALE_31_40\""
   ]
  },
  {
   "cell_type": "code",
   "execution_count": 294,
   "id": "9bfb5629",
   "metadata": {
    "execution": {
     "iopub.execute_input": "2023-10-11T14:45:15.860382Z",
     "iopub.status.busy": "2023-10-11T14:45:15.859724Z",
     "iopub.status.idle": "2023-10-11T14:45:15.867222Z",
     "shell.execute_reply": "2023-10-11T14:45:15.866255Z"
    },
    "papermill": {
     "duration": 0.105045,
     "end_time": "2023-10-11T14:45:15.869211",
     "exception": false,
     "start_time": "2023-10-11T14:45:15.764166",
     "status": "completed"
    },
    "tags": []
   },
   "outputs": [
    {
     "data": {
      "text/plain": [
       "PRICE      41.833333\n",
       "SEGMENT            A\n",
       "Name: TUR_ANDROID_FEMALE_31_40, dtype: object"
      ]
     },
     "execution_count": 294,
     "metadata": {},
     "output_type": "execute_result"
    }
   ],
   "source": [
    "agg_df.loc[new_customer]"
   ]
  },
  {
   "cell_type": "code",
   "execution_count": 295,
   "id": "e358f30d",
   "metadata": {
    "execution": {
     "iopub.execute_input": "2023-10-11T14:45:16.057097Z",
     "iopub.status.busy": "2023-10-11T14:45:16.056752Z",
     "iopub.status.idle": "2023-10-11T14:45:16.066968Z",
     "shell.execute_reply": "2023-10-11T14:45:16.065965Z"
    },
    "papermill": {
     "duration": 0.106784,
     "end_time": "2023-10-11T14:45:16.070093",
     "exception": false,
     "start_time": "2023-10-11T14:45:15.963309",
     "status": "completed"
    },
    "tags": []
   },
   "outputs": [
    {
     "data": {
      "text/html": [
       "<div>\n",
       "<style scoped>\n",
       "    .dataframe tbody tr th:only-of-type {\n",
       "        vertical-align: middle;\n",
       "    }\n",
       "\n",
       "    .dataframe tbody tr th {\n",
       "        vertical-align: top;\n",
       "    }\n",
       "\n",
       "    .dataframe thead th {\n",
       "        text-align: right;\n",
       "    }\n",
       "</style>\n",
       "<table border=\"1\" class=\"dataframe\">\n",
       "  <thead>\n",
       "    <tr style=\"text-align: right;\">\n",
       "      <th></th>\n",
       "      <th>customers_level_based</th>\n",
       "      <th>PRICE</th>\n",
       "      <th>SEGMENT</th>\n",
       "    </tr>\n",
       "  </thead>\n",
       "  <tbody>\n",
       "    <tr>\n",
       "      <th>0</th>\n",
       "      <td>BRA_ANDROID_FEMALE_0_18</td>\n",
       "      <td>35.645303</td>\n",
       "      <td>B</td>\n",
       "    </tr>\n",
       "    <tr>\n",
       "      <th>1</th>\n",
       "      <td>BRA_ANDROID_FEMALE_19_23</td>\n",
       "      <td>34.077340</td>\n",
       "      <td>C</td>\n",
       "    </tr>\n",
       "    <tr>\n",
       "      <th>2</th>\n",
       "      <td>BRA_ANDROID_FEMALE_24_30</td>\n",
       "      <td>33.863946</td>\n",
       "      <td>C</td>\n",
       "    </tr>\n",
       "    <tr>\n",
       "      <th>3</th>\n",
       "      <td>BRA_ANDROID_FEMALE_31_40</td>\n",
       "      <td>34.898326</td>\n",
       "      <td>B</td>\n",
       "    </tr>\n",
       "    <tr>\n",
       "      <th>4</th>\n",
       "      <td>BRA_ANDROID_FEMALE_41_66</td>\n",
       "      <td>36.737179</td>\n",
       "      <td>A</td>\n",
       "    </tr>\n",
       "  </tbody>\n",
       "</table>\n",
       "</div>"
      ],
      "text/plain": [
       "      customers_level_based      PRICE SEGMENT\n",
       "0   BRA_ANDROID_FEMALE_0_18  35.645303       B\n",
       "1  BRA_ANDROID_FEMALE_19_23  34.077340       C\n",
       "2  BRA_ANDROID_FEMALE_24_30  33.863946       C\n",
       "3  BRA_ANDROID_FEMALE_31_40  34.898326       B\n",
       "4  BRA_ANDROID_FEMALE_41_66  36.737179       A"
      ]
     },
     "execution_count": 295,
     "metadata": {},
     "output_type": "execute_result"
    }
   ],
   "source": [
    "resetli_df.head()"
   ]
  },
  {
   "cell_type": "code",
   "execution_count": 296,
   "id": "67fffdb3",
   "metadata": {
    "execution": {
     "iopub.execute_input": "2023-10-11T14:45:16.259229Z",
     "iopub.status.busy": "2023-10-11T14:45:16.258071Z",
     "iopub.status.idle": "2023-10-11T14:45:16.269538Z",
     "shell.execute_reply": "2023-10-11T14:45:16.268577Z"
    },
    "papermill": {
     "duration": 0.10683,
     "end_time": "2023-10-11T14:45:16.271325",
     "exception": false,
     "start_time": "2023-10-11T14:45:16.164495",
     "status": "completed"
    },
    "tags": []
   },
   "outputs": [
    {
     "data": {
      "text/html": [
       "<div>\n",
       "<style scoped>\n",
       "    .dataframe tbody tr th:only-of-type {\n",
       "        vertical-align: middle;\n",
       "    }\n",
       "\n",
       "    .dataframe tbody tr th {\n",
       "        vertical-align: top;\n",
       "    }\n",
       "\n",
       "    .dataframe thead th {\n",
       "        text-align: right;\n",
       "    }\n",
       "</style>\n",
       "<table border=\"1\" class=\"dataframe\">\n",
       "  <thead>\n",
       "    <tr style=\"text-align: right;\">\n",
       "      <th></th>\n",
       "      <th>PRICE</th>\n",
       "      <th>SEGMENT</th>\n",
       "    </tr>\n",
       "  </thead>\n",
       "  <tbody>\n",
       "    <tr>\n",
       "      <th>72</th>\n",
       "      <td>41.833333</td>\n",
       "      <td>A</td>\n",
       "    </tr>\n",
       "  </tbody>\n",
       "</table>\n",
       "</div>"
      ],
      "text/plain": [
       "        PRICE SEGMENT\n",
       "72  41.833333       A"
      ]
     },
     "execution_count": 296,
     "metadata": {},
     "output_type": "execute_result"
    }
   ],
   "source": [
    "resetli_df[resetli_df[\"customers_level_based\"]==new_customer][[\"PRICE\",\"SEGMENT\"]]"
   ]
  },
  {
   "cell_type": "markdown",
   "id": "cda53574",
   "metadata": {
    "papermill": {
     "duration": 0.091706,
     "end_time": "2023-10-11T14:45:16.455532",
     "exception": false,
     "start_time": "2023-10-11T14:45:16.363826",
     "status": "completed"
    },
    "tags": []
   },
   "source": [
    "* **All in One Fonksiyon**"
   ]
  },
  {
   "cell_type": "code",
   "execution_count": 297,
   "id": "01dc4c8c",
   "metadata": {
    "execution": {
     "iopub.execute_input": "2023-10-11T14:45:16.643917Z",
     "iopub.status.busy": "2023-10-11T14:45:16.643326Z",
     "iopub.status.idle": "2023-10-11T14:45:16.654958Z",
     "shell.execute_reply": "2023-10-11T14:45:16.654163Z"
    },
    "papermill": {
     "duration": 0.108041,
     "end_time": "2023-10-11T14:45:16.657310",
     "exception": false,
     "start_time": "2023-10-11T14:45:16.549269",
     "status": "completed"
    },
    "tags": []
   },
   "outputs": [],
   "source": [
    "df = pd.read_csv(\"/kaggle/input/persona/week_02_data.csv\")"
   ]
  },
  {
   "cell_type": "code",
   "execution_count": 298,
   "id": "ba376e8a",
   "metadata": {
    "execution": {
     "iopub.execute_input": "2023-10-11T14:45:16.845378Z",
     "iopub.status.busy": "2023-10-11T14:45:16.844807Z",
     "iopub.status.idle": "2023-10-11T14:45:16.870115Z",
     "shell.execute_reply": "2023-10-11T14:45:16.869042Z"
    },
    "papermill": {
     "duration": 0.121517,
     "end_time": "2023-10-11T14:45:16.872129",
     "exception": false,
     "start_time": "2023-10-11T14:45:16.750612",
     "status": "completed"
    },
    "tags": []
   },
   "outputs": [
    {
     "data": {
      "text/plain": [
       "'FRA_IOS_FEMALE_31_40 Ortalama Gelir: 32.82, Segment: C'"
      ]
     },
     "execution_count": 298,
     "metadata": {},
     "output_type": "execute_result"
    }
   ],
   "source": [
    "def all_in_one(df , customer):\n",
    "    df = df.groupby([\"COUNTRY\",\"SOURCE\",\"SEX\",\"AGE\"]).agg({\"PRICE\": \"mean\"}).sort_values(by=\"PRICE\",ascending=False).reset_index()\n",
    "    df[\"AGE_CAT\"] = pd.cut(df[\"AGE\"], bins=[0, 18, 23, 30, 40, df[\"AGE\"].max()],\n",
    "                                        labels=['0_18', '19_23', '24_30', '31_40', f'41_{df[\"AGE\"].max()}'])\n",
    "    df[\"customers_level_based\"] = [f\"{i[0]}_{i[1]}_{i[2]}_{i[5]}\".upper() for i in df.values]\n",
    "    df = df.groupby(\"customers_level_based\").agg({\"PRICE\": \"mean\"})\n",
    "    df[\"SEGMENT\"] = pd.qcut(df[\"PRICE\"], q=4, labels=[\"D\", \"C\", \"B\", \"A\"])\n",
    "    df.reset_index(inplace=True)\n",
    "    result = df[df[\"customers_level_based\"] == customer][[\"PRICE\", \"SEGMENT\"]]\n",
    "    return (f\"{new_customer} Ortalama Gelir: {result.iloc[0][0].round(2)}, Segment: {result.iloc[0][1]}\")\n",
    "\n",
    "\n",
    "new_customer = \"TUR_ANDROID_FEMALE_31_40\"\n",
    "new_customer = \"FRA_IOS_FEMALE_31_40\"\n",
    "\n",
    "all_in_one(df,new_customer)"
   ]
  }
 ],
 "metadata": {
  "kernelspec": {
   "display_name": "Python 3",
   "language": "python",
   "name": "python3"
  },
  "language_info": {
   "codemirror_mode": {
    "name": "ipython",
    "version": 3
   },
   "file_extension": ".py",
   "mimetype": "text/x-python",
   "name": "python",
   "nbconvert_exporter": "python",
   "pygments_lexer": "ipython3",
   "version": "3.10.12"
  },
  "papermill": {
   "default_parameters": {},
   "duration": 74.692985,
   "end_time": "2023-10-11T14:45:17.889102",
   "environment_variables": {},
   "exception": null,
   "input_path": "__notebook__.ipynb",
   "output_path": "__notebook__.ipynb",
   "parameters": {},
   "start_time": "2023-10-11T14:44:03.196117",
   "version": "2.4.0"
  }
 },
 "nbformat": 4,
 "nbformat_minor": 5
}
