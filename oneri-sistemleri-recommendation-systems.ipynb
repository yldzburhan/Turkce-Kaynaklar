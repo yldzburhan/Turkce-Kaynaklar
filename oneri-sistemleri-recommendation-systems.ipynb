{
 "cells": [
  {
   "cell_type": "markdown",
   "id": "8832fa65",
   "metadata": {
    "papermill": {
     "duration": 0.038057,
     "end_time": "2023-11-13T12:26:52.562095",
     "exception": false,
     "start_time": "2023-11-13T12:26:52.524038",
     "status": "completed"
    },
    "tags": []
   },
   "source": [
    "<div style=\"border-radius: 10px; border: #6B8E23 solid; padding: 15px; background-color: #F5F5DC; font-size: 100%; text-align: left\">\n",
    "\n",
    "<h3 align=\"left\"><font color='#556B2F'>📜 Introduction : </font></h3>\n",
    "\n",
    "Son zamanlarda web üzerinde büyük bir bilgi akışı bulunmakta ve bu akış sürekli olarak artmaya devam ediyor, kullanıcılara çeşitli kaynaklar sunarak ürünler, oteller, restoranlar ve çeşitli hizmetler hakkında bilgi sağlıyor. Bu bilginin faydalarına rağmen, bu büyük veri miktarı kullanıcıların bu veriyi işlemesini ve mevcut seçenekler arasından karar vermeyi zorlaştırıyor. Bu, bilgi aşırı yüklenmesine neden olur ve karar verme sürecini karmaşıklaştırır. Bu bağlamda, kullanıcıların bilgiyi sınırlı bir miktara indirgeyerek mevcut tercihlere dayalı olarak filtrelemesi, bilinçli kararlar almalarına yardımcı olması önemlidir. Bu tür bir filtreleme genellikle öneri sistemleri (RS) tarafından yapılır ve belirli müşteri tercihlerine dayalı olarak kişiselleştirilmiş hizmet önerileri sunmak için geliştirilmiştir.\n",
    "\n",
    "RS'nin ortaya çıkmasından bu yana, bu alan akademide, iş dünyasında ve endüstride büyük öneme sahiptir. E-ticaret (Amazon), müzik (Pandora), filmler (Netflix), seyahat (TripAdvisor), restoranlar (Yelp), insanlar (Facebook) ve makaleler (TED) gibi çeşitli alanlarda yaygın bir şekilde kullanılmaktadır. Son dönemdeki e-ticaret web sitelerinin gelişimi, RS'nin kullanıcıların ihtiyaçlarına uygun ürünleri bulmalarına ve tercihlerine uygun ürünleri keşfetmelerine önemli bir katkı sağladığını göstermiştir. Örneğin, 2015 yılında Amazon istatistiklerine göre, satışların %35'i kullanıcılara önerilen ürünlerden gelmektedir.\n",
    "\n",
    "* RS genellikle üç aşamadan geçer. Bu aşamalar şunlardır:\n",
    "\n",
    "    * **Modelleme Aşaması:** Bu aşama, sonraki iki aşamada kullanılacak verileri hazırlamaya odaklanır. İki vaka vardır: birincisi kullanıcıları satırlar olarak ve öğeleri sütunlar olarak içeren bir derecelendirme matrisi oluşturur, her hücre, bir kullanıcının belirli bir öğe için verdiği bir dereceyi temsil eder. İkincisi, genellikle her kullanıcı için bir vektör olan bir kullanıcı profili oluşturur, bu profil bir kullanıcının bir öğeyi bütün olarak veya öğenin bazı yönleri hakkındaki tercihlerini açıklar. Üçüncüsü, belirli bir öğenin özelliklerini içeren bir öğe profili oluşturmaktır.\n",
    "\n",
    "    * **Tahmin Aşaması:** Bu aşama, modelleme aşaması sırasında çıkarılan bilgilere dayanarak belirli bir kullanıcı için görünmeyen veya bilinmeyen öğelerin derecesini veya puanını tahmin etmeyi amaçlar.\n",
    "\n",
    "    * **Öneri Aşaması:** Bu aşama, tahmin aşamasının bir uzantısıdır ve kullanıcının kararını desteklemek için çeşitli yaklaşımlar kullanarak en uygun öğeleri filtrelemek için uygulanır. Kullanıcıya yeni öğeleri önerir (yani en yüksek tahmin edilen derecelendirmelere sahip en iyi N öğe kümesi) ve bu öğelerin onun için en çekici olma olasılığı yüksektir.\n",
    "\n",
    "Öneri sistemlerinin başlıca amacı web üzerindeki bilgi akışı sorununu çözmek ve kullanıcılara ürünler, oteller, restoranlar ve hizmetlerle ilgili farklı kaynaklar sunmaktır. Bu temel hedefi gerçekleştirmek için RS, genellikle ilgili/kesinlik, yenilik, şansa bağlı olma ve çeşitlilik gibi birkaç ortak hedefi dikkate alır. \n",
    "    \n",
    "* Bu dört hedef aşağıdaki gibi kısaca açıklanmıştır:\n",
    "    \n",
    "    * **İlgili/Kesinlik** - İlgili ve kesinlik, genellikle birbirinin yerine kullanılan ve RS için en önemli değerlendirme kriterleridir. Kullanıcılar, ilgi alanlarına daha uygun öğeleri seçmeyi önceliklendirirler. Sonuç olarak, RS, kullanıcının tercihlerine uygun öğeleri önermeye odaklanır. RS'deki kesinlik, öğenin kullanıcının ihtiyaçlarına ne kadar uygun olduğuna ve kullanıcının ne kadar beğendiğine bağlı olarak belirlenir. Kesinlik, kesinlik, hatırlama ve F-skor gibi tahmin performans metriklerinin yüksek değerleri ile iyi bir kesinliği yansıtır. Öte yandan, MAE ve MSE gibi hata metrikleri için düşük değerler, daha iyi bir RS kesinliğini gösterir.\n",
    "\n",
    "    * **Yenilik** - Yenilik, önerilerin başarısının temel bir yönü ve müşteri memnuniyetinin temel bir ölçüsüdür. RS'deki yenilik, kullanıcılar için yeni öneriler üretebilme yeteneğidir. Bir öneri, üç özelliği karşıladığında yeni kabul edilir: bilinmeyen, tatmin edici ve farklı. Bilinmeyen, kullanıcının haberdar olmadığı öğeleri temsil eder. Tatmin edici, kullanıcı tarafından tatmin edici olan öğelerle ilgilidir, farklı ise kullanıcının profilindekilerden farklı olan öğelerle ilgilidir. Yenilik, popülerliğe karşı gelir; önerilen öğeler ne kadar popülerse, RS performansı için öneriler o kadar az yeni olur.\n",
    "\n",
    "    * **Şansa Bağlı Olma** - Yenilik kavramıyla yakından ilişkilendirilen şansa bağlı olma, kullanıcıların önceden bilinmeyen, şansa bağlı öğeleri pozitif duygusal tepkilerle karşılamasını içerir. Şansa bağlı öğeleri öneren RS'ler, satışları önemli ölçüde artırabilir ve kullanıcılarla güven ilişkileri kurabilir. Şansa bağlı keşiflerin önerilmesi, kullanıcı deneyimini artırarak kullanıcının merakını teşvik eder.\n",
    "\n",
    "    * **Çeşitlilik** - Çeşitlilik, benzerlikle karşıtlık yaratır; çeşitli öneriler sunan RS'ler aşırı uydurmayı çözer ve kullanıcının RS ile deneyimini artırır. Çeşitlilik genellikle bir dizi öğeye uygulanır ve öğelerin birbirinden ne kadar farklı olduğu ile ilgilidir. Çeşitlilik, genellikle kullanıcıların sürekli aynı önerileri alarak memnun olmamalarını sağlar.\n",
    "\n",
    "**Veri ve Bilgi Kaynakları**\n",
    "\n",
    "Öneri sistemleri (RS), öneriler oluşturmak için çeşitli veri türlerini aktif olarak toplayan bilgi işleme sistemleridir. Genellikle veri, önerilecek öğeler ve bu önerileri alacak kullanıcılar hakkında bilgi içerir. Ancak, öneri sistemleri için mevcut veri ve bilgi kaynakları kullanılan öneri tekniğine bağlı olarak oldukça çeşitli olabilir.\n",
    "\n",
    "RS tarafından kullanılan veriler, üç tür varlıkla ilişkilendirilir: öğeler, kullanıcılar ve etkileşimler, yani kullanıcılar ile öğeler arasındaki ilişkileri temsil eder.\n",
    "\n",
    "**Öğeler** - Öğeler, önerilmesi gereken nesnelerdir. Öğeler, karmaşıklıkları ve kullanıcılar için değerleri veya kullanımı ile karakterize edilebilir. Bir öğenin değeri, kullanıcı için yararlı ise pozitif olabilir veya öğe kullanışlı değilse ve kullanıcı yanlış bir karar verdiyse negatif olabilir.\n",
    "\n",
    "RS, öğelerin özelliklerini temel teknolojilerine dayanarak kullanabilir. Örneğin, bir film öneri sisteminde tür (komedi, gerilim vb.), yönetmen ve oyuncular gibi özellikler, bir filmin tanımlanması ve bir öğenin neden kullanışlı olduğunu öğrenmek için kullanılabilir.\n",
    "\n",
    "**Kullanıcılar** - RS kullanıcıları farklı hedeflere ve özelliklere sahip olabilir. Önerileri ve insan-bilgisayar etkileşimini kişiselleştirmek için RS, kullanıcılar hakkında çeşitli bilgileri kullanır. Bu bilgi farklı şekillerde yapılandırılabilir ve hangi bilgilerin modellemek için seçildiği, öneri tekniğine bağlıdır.\n",
    "\n",
    "Örneğin, işbirlikçi filtreleme yönteminde, kullanıcılar kullanıcının bazı öğeler için verdiği derecelendirmeleri içeren basit bir liste olarak modellenir. Demografik bir RS'de yaş, cinsiyet, meslek ve eğitim gibi sosyodemografik özellikler kullanılır. Kullanıcı verileri, kullanıcı modelini oluşturduğu söylenir. Kullanıcı modeli, kullanıcıyı profilleştirir, yani tercihlerini ve ihtiyaçlarını kodlar.\n",
    "\n",
    "**İşlemler** - İşlemler, genellikle günlük veri olarak kaydedilen bir öneri sistemi (RS) ile kullanıcı etkileşimleridir. Bu etkileşimler, öğe seçimleri, kullanıcı bağlamı ve olası olarak öğe derecelendirmeleri gibi açık geri bildirimleri içerir. Kullanıcılar tarafından belirli bir ölçekte açıkça sağlanan veya zımni olarak toplanan derecelendirmeler, RS tarafından toplanan yaygın işlem verileridir.\n",
    "\n",
    "Derecelendirmelerin çeşitli biçimleri şunlar içerir:\n",
    "\n",
    "- Amazon.com'daki kitap önerileri ile ilişkilendirilen 1-5 yıldız gibi sayısal derecelendirmeler.\n",
    "- Kullanıcının görüşünü en iyi şekilde temsil eden terimi seçmesi istendiği, genellikle anket yoluyla gerçekleştirilen \"kesinlikle katılıyorum, katılıyorum, tarafsızım, katılmıyorum, kesinlikle katılmıyorum\" gibi sıralı derecelendirmeler.\n",
    "- Kullanıcının belirli bir öğenin iyi veya kötü olduğuna karar vermesi istenen ikili derecelendirmeler.\n",
    "\n",
    "Bu derecelendirmeler, RS tarafından öneriler yapmak ve kullanıcı deneyimini iyileştirmek için değerli verilerdir."
   ]
  },
  {
   "cell_type": "markdown",
   "id": "2072fd8a",
   "metadata": {
    "papermill": {
     "duration": 0.035303,
     "end_time": "2023-11-13T12:26:52.633226",
     "exception": false,
     "start_time": "2023-11-13T12:26:52.597923",
     "status": "completed"
    },
    "tags": []
   },
   "source": [
    "<center><img src=\"https://i.imgur.com/M1pKmtr.png\" width=\"800\" height=\"800\"></center>"
   ]
  },
  {
   "cell_type": "markdown",
   "id": "2fd8fc82",
   "metadata": {
    "papermill": {
     "duration": 0.035571,
     "end_time": "2023-11-13T12:26:52.765237",
     "exception": false,
     "start_time": "2023-11-13T12:26:52.729666",
     "status": "completed"
    },
    "tags": []
   },
   "source": [
    "# Content\n",
    "\n",
    "1. [🍔 Association Rule Learning 🍟](#1)\n",
    "    * [Apriori Algorithm](#2)\n",
    "    * [Association Rule Based Recommender System](#3)\n",
    "        * [Data Preprocessing](#4)\n",
    "        * [Preparing Invoice-StockCode (Product) Matrix](#5)\n",
    "        * [Association Rules](#6)\n",
    "        * [Product Recommendation](#7)\n",
    "1. [🧾 Content Based Filtering 🧾](#8)\n",
    "    * [Count Vector](#9)\n",
    "    * [TF-IDF](#10)\n",
    "    * [Content Based Recommender System](#11)\n",
    "        * [Data Preprocessing](#12)\n",
    "        * [Creating the TF-IDF Matrix](#13)\n",
    "        * [Movie Recommendation](#14)\n",
    "1. [🫂 Collaborative Filtering 🫂](#15)\n",
    "    * [User-Based Collaborative Filtering](#16)\n",
    "    * [User-Based Recommender System](#17)\n",
    "        * [Preparing Data](#18)\n",
    "        * [Creating User-Movie DataFrame](#19)\n",
    "        * [Determination of Similarity](#20)\n",
    "        * [Score Calculation](#21)\n",
    "    * [Item-Based Collaborative Filtering](#22)\n",
    "    * [Item-Based Recommender System](#23)\n",
    "    * [Model-Based Collaborative Filtering](#24)\n",
    "    * [Gradient Descent](#25)\n",
    "    * [Model-Based Recommender System](#26)\n",
    "        * [Preparing Data](#27)\n",
    "        * [Modelling](#28)\n",
    "        * [Model Tuning](#29)\n",
    "        * [Predict](#30)\n",
    "1. [Sources](#31)"
   ]
  },
  {
   "cell_type": "markdown",
   "id": "7fb7ed92",
   "metadata": {
    "papermill": {
     "duration": 0.035259,
     "end_time": "2023-11-13T12:26:52.835742",
     "exception": false,
     "start_time": "2023-11-13T12:26:52.800483",
     "status": "completed"
    },
    "tags": []
   },
   "source": [
    "<a id=\"1\"></a>\n",
    "<h1 style=\"border-radius: 10px; border: 2px solid #6B8E23; background-color: #F5F5DC; font-family: 'Pacifico', cursive; font-size: 200%; text-align: center; border-radius: 15px 50px; padding: 15px; box-shadow: 5px 5px 5px #556B2F; color: #556B2F;\">🍔 Birliktelik Kuralı Öğrenimi (Association Rule Learning)🍟</h1>\n"
   ]
  },
  {
   "cell_type": "markdown",
   "id": "e9c1e332",
   "metadata": {
    "papermill": {
     "duration": 0.035571,
     "end_time": "2023-11-13T12:26:52.906857",
     "exception": false,
     "start_time": "2023-11-13T12:26:52.871286",
     "status": "completed"
    },
    "tags": []
   },
   "source": [
    "İlişki kuralı öğrenme, bir veri öğesinin başka bir veri öğesine bağımlılığını kontrol eden ve buna göre haritalayan ve daha karlı hale getiren bir tür denetimsiz öğrenme tekniğidir. Bu, veri kümesinin değişkenleri arasında ilginç ilişkileri veya bağlantıları bulmaya çalışır. Veritabanındaki değişkenler arasındaki ilginç ilişkileri keşfetmek için farklı kurallara dayanır.\n",
    "\n",
    "İlişki kuralı öğrenme, makine öğrenmenin önemli kavramlarından biridir ve Pazar Sepeti Analizi, Web Kullanım Madenciliği, sürekli üretim gibi alanlarda kullanılır. Burada, pazar sepeti analizi, çeşitli büyük perakendecilerin ürünler arasındaki ilişkileri keşfetmek için kullandığı bir tekniktir. Bu konuyu bir süpermarket örneği üzerinden anlayabiliriz: Bir müşteri örneğin ekmek alıyorsa, muhtemelen tereyağı, yumurta veya süt de alabilir, bu nedenle bu ürünler genellikle aynı raf veya yakın bir konumda bulunur. Bu, ilişki kuralı öğrenme ile keşfedilen ilişkilerin bir örneğidir.\n",
    "\n",
    "Association Rule Learning, genellikle veri madenciliği ve öneri sistemleri gibi alanlarda kullanılan bir makine öğrenme yöntemidir. Bu yöntem, verilerdeki örtüşen örüntüleri ve ilişkileri keşfetmeyi amaçlar. \n",
    "\n",
    "* İlişki kuralı öğrenme üç farklı algoritma ile gerçekleştirilebilir:\n",
    "\n",
    "    1. **Apriori Algoritması:** Apriori algoritması, sık görülen veri kümelerini kullanarak ilişki kuralları oluşturan bir algoritmadır. Bu algoritma, özellikle işlem içeren veritabanları üzerinde çalışmak için tasarlanmıştır. Apriori, genellikle pazar sepeti analizi gibi alanlarda kullanılır ve ürünlerin birlikte satın alındığı ilişkileri anlamamıza yardımcı olur. Ayrıca sağlık sektöründe hastaların ilaç reaksiyonlarını bulmak gibi uygulamalarda da kullanılabilir.\n",
    "\n",
    "    1. **Eclat Algoritması:** Eclat algoritması (Equivalence Class Transformation kısaltması), veri tabanındaki sık görülen öğe kümelerini bulmak için derinlemesine bir arama tekniği kullanır. Apriori algoritmasından daha hızlı çalışır ve özellikle büyük veri kümeleriyle daha etkilidir.\n",
    "\n",
    "    1. **F-P Growth Algoritması:** F-P Growth algoritması (Frequent Pattern Growth), Apriori Algoritmasının geliştirilmiş bir versiyonudur. Bu algoritma, veritabanını sık görülen örüntülerin bir ağaç yapısı olarak temsil eder. Bu sık örüntü ağacının amacı en sık görülen örüntüleri çıkarmaktır."
   ]
  },
  {
   "cell_type": "markdown",
   "id": "9e38c5f3",
   "metadata": {
    "papermill": {
     "duration": 0.035307,
     "end_time": "2023-11-13T12:26:52.977976",
     "exception": false,
     "start_time": "2023-11-13T12:26:52.942669",
     "status": "completed"
    },
    "tags": []
   },
   "source": [
    "<center><img src=\"https://i.imgur.com/cGuc8Na.png\" width=\"400\" height=\"400\"></center>"
   ]
  },
  {
   "cell_type": "markdown",
   "id": "57600da7",
   "metadata": {
    "papermill": {
     "duration": 0.035409,
     "end_time": "2023-11-13T12:26:53.049270",
     "exception": false,
     "start_time": "2023-11-13T12:26:53.013861",
     "status": "completed"
    },
    "tags": []
   },
   "source": [
    "<div style=\"border-radius:10px; border:#632626 solid; padding: 15px; background-color: #FDF6EC; font-size:100%; text-align:left\">\n",
    "\n",
    "<h3 align=\"left\"><font color='#11324D'>💡 An Example: </font></h3>\n",
    "\n",
    "**Senaryo - Bir Kahve Dükkanının Ürün İlişkilerini Analiz Etme:**\n",
    "   \n",
    "**Açıklama:**\n",
    "    \n",
    "Bir kahve dükkanı, müşterilerinin siparişlerini takip ederek hangi ürünlerin birlikte sipariş edildiğini ve bu bilgiyi pazarlama stratejilerini geliştirmek için kullanmak istiyor. Apriori algoritması kullanarak bu ilişkileri analiz etmek istiyoruz.\n",
    "\n",
    "**Veri Toplama:**\n",
    "    \n",
    "Kahve dükkanı, her sipariş işlemi için ürün listelerini kaydeder. Aşağıda birkaç örnek sipariş işlemi bulunmaktadır:\n",
    "\n",
    "* Sipariş İşlemi 1:\n",
    "    - Espresso\n",
    "    - Scone\n",
    "    - Latte\n",
    "\n",
    "* Sipariş İşlemi 2:\n",
    "    - Cappuccino\n",
    "    - Scone\n",
    "\n",
    "* Sipariş İşlemi 3:\n",
    "    - Latte\n",
    "    - Muffin\n",
    "\n",
    "* Sipariş İşlemi 4:\n",
    "    - Espresso\n",
    "    - Cappuccino\n",
    "    - Muffin\n",
    "\n",
    "**Veri Ön İşleme:**\n",
    "    \n",
    "Verileri uygun bir formata dönüştürmek ve tekrarlayan ürünleri düzeltmek gerekecektir.\n",
    "\n",
    "**Apriori Algoritması ile Kural Çıkarma:**\n",
    "    \n",
    "Apriori algoritması kullanılarak, ürünlerin birlikte sipariş edildiği sık görülen kombinasyonları bulabiliriz. Örneğin, \"Espresso\" ve \"Cappuccino\" sıkça bir arada sipariş ediliyorsa, bu bir kural olarak çıkarılabilir. Bu işlem sonucunda, işlemdeki ürünler arasındaki ilişkileri ifade eden kurallar üretebiliriz.\n",
    "\n",
    "**Örnek Kurallar:**\n",
    "    \n",
    "Apriori algoritması sonucunda, aşağıdaki gibi kurallar oluşturabiliriz:\n",
    "\n",
    "- Espresso siparişi verildiğinde, Cappuccino de sıklıkla sipariş edilir.\n",
    "- Scone siparişi verildiğinde, Latte de sıklıkla sipariş edilir.\n",
    "- Muffin siparişi verildiğinde, Espresso veya Cappuccino da sıklıkla sipariş edilir.\n",
    "\n",
    "**Metriklerin Hesaplanması:**\n",
    "    \n",
    "Bu kuralların metriklerini hesaplayalım. Varsayalım ki Espresso siparişi verildiğinde Cappuccino da sıklıkla sipariş ediliyor. Aşağıda hesaplamalar:\n",
    "\n",
    "Destek(Espresso → Cappuccino) = (Espresso ve Cappuccino bir arada görülen işlem sayısı) / (Toplam işlem sayısı)\n",
    "\n",
    "Güven(Espresso → Cappuccino) = (Espresso ve Cappuccino bir arada görülen işlem sayısı) / (Espresso'in görüldüğü işlem sayısı)\n",
    "\n",
    "Lift(Espresso → Cappuccino) = (Güven(Espresso → Cappuccino)) / (Destek(Cappuccino))"
   ]
  },
  {
   "cell_type": "markdown",
   "id": "2e957a7b",
   "metadata": {
    "papermill": {
     "duration": 0.035373,
     "end_time": "2023-11-13T12:26:53.120569",
     "exception": false,
     "start_time": "2023-11-13T12:26:53.085196",
     "status": "completed"
    },
    "tags": []
   },
   "source": [
    "<div style=\"border-radius: 10px; border: #6B8E23 solid; padding: 15px; background-color: #F5F5DC; font-size: 100%; text-align: left\">\n",
    "\n",
    "<h3 align=\"left\"><font color='#556B2F'>👀 Birliktelik kuralları nelerdir?: </font></h3>\n",
    "\n",
    "Market basket analysis, if-then ilişkilerini içeren ilişki kurallarını kullanarak öğeler arasındaki ilişkileri keşfetmeye dayalıdır. Bir ilişki kuralı oluşturmak için en az bir önkoşul (antecedent) ve bir sonuç (consequent) olması gerekmektedir.\n",
    "\n",
    "* Bir önkoşul ve bir sonuç: Eğer { 🍪 } ise, o zaman { ☕️ }.\n",
    "* Birden fazla önkoşul: Eğer { 🍪, 🍰 } ise, o zaman { ☕️ }.\n",
    "* Birden fazla sonuç: Eğer { 🍪 } ise, o zaman { ☕️, 🥛 }.\n",
    "    \n",
    "\"Antecedent\" ve \"consequent,\" ilişki kuralı öğrenme (association rule learning) gibi birçok veri madenciliği ve veri analizi tekniğinde kullanılan terimlerdir. Bu terimlerin anlamları:\n",
    "\n",
    "**Antecedent (Önkoşul)**:\n",
    "    \n",
    "- \"Antecedent,\" bir ilişki kuralının başlangıç veya koşul bölümünü ifade eder. \n",
    "- Bu, genellikle bir kuralın \"Eğer... (if)\" bölümüdür ve bir olayın veya koşulun öncülünü temsil eder.\n",
    "- Öncül, belirli bir durumun veya koşulun gerçekleştiği bir ifadedir.\n",
    "- Örnek: Eğer bir müşteri \"kahve\" satın alıyorsa (kahve, antecedent), bu kuralın antecedent bölümünü oluşturur.\n",
    "\n",
    "**Consequent (Sonuç)**:\n",
    "    \n",
    "- \"Consequent,\" bir ilişki kuralının sonucu veya sonuç bölümünü ifade eder.\n",
    "- Bu, genellikle bir kuralın \"O zaman... (then)\" bölümüdür ve bir olayın veya koşulun sonucunu temsil eder.\n",
    "- Sonuç, öncülün gerçekleşmesi durumunda ortaya çıkacak olan olayı veya koşulu gösterir.\n",
    "- Örnek: Eğer bir müşteri \"kahve\" satın alıyorsa, o zaman \"ekmek\" satın alabilir (ekmek, consequent).\n",
    "\n",
    "İlişki kuralı öğrenme, genellikle öncül (antecedent) ve sonuç (consequent) arasındaki ilişkileri belirlemek için kullanılır. Özellikle pazar sepeti analizi gibi uygulamalarda, belirli ürünlerin birlikte satın alındığı durumları tanımlamak ve bu ilişkileri kullanarak önerilerde bulunmak için kullanılır.\n",
    "    \n",
    "Toplam kuralların sayısı, benzersiz öğelerin faktörüne göre artar. Düşünebileceğiniz gibi, tüm kurallar eşit derecede önemli olamaz ve hangi kuralların elenmesi gerektiğini ve hangilerinin düşünülmesi gerektiğini belirlememize yardımcı olacak ölçütlere ihtiyaç vardır.\n",
    "\n",
    "**Destek (Support)**\n",
    "    \n",
    "Destek, bir kuralın ne kadar ilginç ve önemli olduğunu ölçen temel bir metriktir. Tek bir öğe veya önkoşul ve sonuç çifti için uygulanabilir. Belirli bir öğeyi içeren işlemlerin sayısını toplam işlem sayısına bölen bir hesaplamadır. Destek değeri 0 ile 1 arasında değişir.\n",
    "\n",
    "Örneğin, 10 işlemimiz varsa ve bunların 6'sı kahve içeriyorsa ve 4'ü hem kahve hem de kurabiye içeriyorsa, {kahve} destek değeri %60'dır ve {kahve, kurabiye} destek değeri %40'tır.\n",
    "    \n",
    "<center><img src=\"https://i.imgur.com/it5fzCB.png\" width=\"400\" height=\"400\"></center>\n",
    "    \n",
    "**Güven (Confidence)**\n",
    "\n",
    "Güven, öğe A'nın satın alındığında öğe B'nin satın alınma olasılığını ifade eder. Güven, A&B öğesinin destek değerini A öğesinin destek değerine bölecek şekilde hesaplanır. Güven değeri 0 ile 1 arasında değişir.\n",
    "\n",
    "Sadece destek metriğini kullanırsak, popüler öğeler sonuçların yorumunu yanıltabilir, bu nedenle güveni destekle birlikte kullanmak önemlidir.\n",
    "\n",
    "Ayrıca, belirtmek önemlidir ki, güven metriği simetrik değildir ve Güven(A→B), Güven(B→A)'dan farklıdır.\n",
    "    \n",
    "<center><img src=\"https://i.imgur.com/SJPZfEd.png\" width=\"400\" height=\"400\"></center>\n",
    "        \n",
    "**Lift (Artış)**\n",
    "\n",
    "Lift metriği, ilişki kurallarının gereksiz olduğunu belirlemek için kullanılır. Bu metrik, A öğesinin bir işlemde meydana gelmesinin, B öğesinin meydana gelmesinden bağımsız olduğunu varsayar: P(A ∪ B) = P(A)P(B), aksi takdirde bu iki öğe bağımlı ve ilişkilidir. Lift, A ve B öğelerini içeren işlemlerin oranını bağımsız olarak gerçekleşen A ve B öğelerinin oranına bölecek şekilde hesaplanır. Lift değeri 0 ile sonsuz arasında değişir.\n",
    "\n",
    "* Lift(A → B) > 1, öğelerin pozitif bir ilişkisi olduğunu ve birinin meydana gelmesinin diğerinin meydana gelmesini olumlu etkilediğini gösterir.\n",
    "\n",
    "* Lift(A → B) = 1, ilişki olmadığını gösterir.\n",
    "\n",
    "* Lift(A → B) < 1, öğelerin negatif bir ilişkisi olduğunu ve birinin meydana gelmesinin diğerinin meydana gelmesini olumsuz etkilediğini gösterir.\n",
    "                                 \n",
    "<center><img src=\"https://i.imgur.com/2ULqH4g.png\" width=\"400\" height=\"400\"></center>\n",
    "\n",
    "**Leverage (Kaldıraç)**\n",
    "\n",
    "Kaldıraç, işlemde öğe A&B'nin birlikte bulunmasının, öğe A ve öğe B'nin bağımsız olarak bulunmalarından kaynaklanan farkın ölçüsüdür. Bu, öğe A ve öğe B'yi içeren işlemlerin oranından, öğe A ve öğe B'yi içermeyen işlemlerin oranını çıkartarak hesaplanır. Kaldıraç değeri -1 ile 1 arasında değişir.\n",
    "\n",
    "**Conviction (İnanç)**\n",
    "\n",
    "İnanç metriği, bir sonucun bir önkoşula ne kadar bağlı olduğunu ölçmek için kullanılır. Bu, öğe A'yı içeren işlemlerin oranını öğe B içermeyen işlemlerin oranıyla çarparak ve bunu öğe A'yı ve öğe B'yi içermeyen işlemlerin oranına bölecek şekilde hesaplanır. İnanç değeri 0 ile sonsuz arasında değişir.\n",
    "\n",
    "Eğer inanç değeri yüksekse, bu sonucun önkoşula yüksek derecede bağımlı olduğu anlamına gelir."
   ]
  },
  {
   "cell_type": "markdown",
   "id": "4f7bc144",
   "metadata": {
    "papermill": {
     "duration": 0.035865,
     "end_time": "2023-11-13T12:26:53.192483",
     "exception": false,
     "start_time": "2023-11-13T12:26:53.156618",
     "status": "completed"
    },
    "tags": []
   },
   "source": [
    "<a id = \"2\"></a><br>\n",
    "<p style=\"font-family: 'Pacifico', cursive; font-weight: bold; letter-spacing: 2px; color: #556B2F; font-size: 160%; text-align: left; padding: 0px; border-bottom: 3px solid\">✨Apriori Algoritması✨</p>"
   ]
  },
  {
   "cell_type": "markdown",
   "id": "c9b61bee",
   "metadata": {
    "papermill": {
     "duration": 0.035599,
     "end_time": "2023-11-13T12:26:53.263740",
     "exception": false,
     "start_time": "2023-11-13T12:26:53.228141",
     "status": "completed"
    },
    "tags": []
   },
   "source": [
    "Apriori algoritması, bir işlem veritabanından sık görülen öğe kümelerini çıkarmak ve ilişki kuralları oluşturmak için kullanılır. Bu algoritmanın parametreleri \"destek\" ve \"güven\"dir. Destek, öğelerin sıklığını belirtirken, güven, koşullu bir olasılıktır.\n",
    "\n",
    "Bir işlemdeki öğeler bir öğe kümesi oluşturur. Algoritma, veritabanında sık görülen, tekil öğeleri (verilen destek değerine eşit veya daha büyük bir sıklığa sahip öğeleri) tanımlayarak başlar ve bunları daha büyük, sık görülen öğe kümelerine genişletmeye devam eder.\n",
    "\n",
    "**Öğe Kümesi Nedir?**\n",
    "\n",
    "Birlikte bulunan öğelerin bir kümesine öğe kümesi denir. Herhangi bir öğe kümesi k öğeye sahipse, bu k-öğe kümesi olarak adlandırılır. Bir öğe kümesi iki veya daha fazla öğeden oluşur. Sık görülen öğe kümesi ise sıkça görülen bir öğe kümesidir. Bu nedenle sık görülen öğe kümesi maddeleme işlemi sıkça bir arada görülen öğeleri tanımlamak için kullanılan bir veri madenciliği tekniğidir.\n",
    "\n",
    "Örneğin, Ekmek ve Tereyağı, Dizüstü Bilgisayar ve Antivirüs yazılımı gibi.\n",
    "\n",
    "**Sık Görülen Öğe Kümesi Nedir?**\n",
    "\n",
    "Bir öğe kümesi, destek ve güvenlik için minimum eşik değerini karşılarsa sık olarak adlandırılır. Destek, öğelerin bir işlemde birlikte satın alındığını gösterir. Güven, öğelerin birbiri ardışık olarak satın alındığı işlemleri gösterir.\n",
    "\n",
    "Sık görülen maddeleme yöntemi için sadece destek ve güvenlik gereksinimlerini karşılayan işlemleri göz önünde bulunduruyoruz. Bu madencilik algoritmalarından elde edilen içgörüler, birçok avantaj, maliyet tasarrufu ve rekabet avantajı sunmaktadır.\n",
    "\n",
    "Sık maddeleme için veri madenciliği için zaman ve veri hacmi arasında bir denge vardır. Sık madencilik algoritması, kısa sürede ve daha az bellek tüketerek öğe kümesinin gizli desenlerini madencilik yapmak için etkili bir algoritmadır.\n",
    "\n",
    "**Sık Desen Madenciliği (FPM)**\n",
    "\n",
    "Sık desen madenciliği algoritması, veri kümesinde farklı öğeler arasındaki ilişkileri keşfetmek için kullanılan veri madenciliği tekniklerinden biridir. Bu ilişkiler, ilişki kuralları biçiminde temsil edilir. Veri analizinde, yazılım hataları, çapraz pazarlama, satış kampanyası analizi, market sepeti analizi gibi birçok uygulaması bulunmaktadır.\n",
    "\n",
    "Apriori ile bulunan sık görülen öğe kümeleri, veri madenciliği görevlerinde birçok uygulamaya sahiptir. Veritabanındaki ilginç desenleri bulma, sıra bulma ve ilişki kuralları madenciliği gibi görevlerin en önemlilerindendir.\n",
    "\n",
    "İlişki kuralları, süpermarket işlem verilerine uygulanır, yani müşterilerin satın aldığı ürünler açısından müşteri davranışını incelemek için kullanılır. İlişki kuralları, öğelerin birlikte ne sıklıkta satın alındığını tanımlar."
   ]
  },
  {
   "cell_type": "markdown",
   "id": "e962cc84",
   "metadata": {
    "papermill": {
     "duration": 0.035958,
     "end_time": "2023-11-13T12:26:53.337314",
     "exception": false,
     "start_time": "2023-11-13T12:26:53.301356",
     "status": "completed"
    },
    "tags": []
   },
   "source": [
    "<center><img src=\"https://i.imgur.com/JvxLDQo.png\" width=\"800\" height=\"800\"></center>"
   ]
  },
  {
   "cell_type": "markdown",
   "id": "635a99b8",
   "metadata": {
    "papermill": {
     "duration": 0.035656,
     "end_time": "2023-11-13T12:26:53.408354",
     "exception": false,
     "start_time": "2023-11-13T12:26:53.372698",
     "status": "completed"
    },
    "tags": []
   },
   "source": [
    "<a id = \"3\"></a><br>\n",
    "<p style=\"font-family: 'Pacifico', cursive; font-weight: bold; letter-spacing: 2px; color: #556B2F; font-size: 160%; text-align: left; padding: 0px; border-bottom: 3px solid\">✨Association Rule Based Recommender System✨</p>"
   ]
  },
  {
   "cell_type": "markdown",
   "id": "e6071ce2",
   "metadata": {
    "papermill": {
     "duration": 0.035527,
     "end_time": "2023-11-13T12:26:53.479156",
     "exception": false,
     "start_time": "2023-11-13T12:26:53.443629",
     "status": "completed"
    },
    "tags": []
   },
   "source": [
    "<a id = \"4\"></a><br>\n",
    "<div style=\"font-family:JetBrains Mono; font-weight:bold; letter-spacing: 2px; color:#E5788F; font-size:150%; text-align:left; padding: 0px;\">Data Preprocessing</div>"
   ]
  },
  {
   "cell_type": "code",
   "execution_count": 1,
   "id": "655c5465",
   "metadata": {
    "execution": {
     "iopub.execute_input": "2023-11-13T12:26:53.553475Z",
     "iopub.status.busy": "2023-11-13T12:26:53.553021Z",
     "iopub.status.idle": "2023-11-13T12:26:54.489261Z",
     "shell.execute_reply": "2023-11-13T12:26:54.487984Z"
    },
    "papermill": {
     "duration": 0.977114,
     "end_time": "2023-11-13T12:26:54.491948",
     "exception": false,
     "start_time": "2023-11-13T12:26:53.514834",
     "status": "completed"
    },
    "tags": []
   },
   "outputs": [],
   "source": [
    "# !pip install mlxtend\n",
    "\n",
    "import pandas as pd\n",
    "\n",
    "from mlxtend.frequent_patterns import apriori, association_rules, fpmax\n",
    "\n",
    "import warnings\n",
    "warnings.filterwarnings(\"ignore\")\n",
    "\n",
    "# pd.set_option('display.max_columns', None)\n",
    "# pd.set_option('display.width', 500)\n",
    "# pd.set_option('display.expand_frame_repr', False)"
   ]
  },
  {
   "cell_type": "code",
   "execution_count": 2,
   "id": "0368ae47",
   "metadata": {
    "execution": {
     "iopub.execute_input": "2023-11-13T12:26:54.567833Z",
     "iopub.status.busy": "2023-11-13T12:26:54.567293Z",
     "iopub.status.idle": "2023-11-13T12:26:55.940751Z",
     "shell.execute_reply": "2023-11-13T12:26:55.939614Z"
    },
    "papermill": {
     "duration": 1.415416,
     "end_time": "2023-11-13T12:26:55.943579",
     "exception": false,
     "start_time": "2023-11-13T12:26:54.528163",
     "status": "completed"
    },
    "tags": []
   },
   "outputs": [],
   "source": [
    "df_ = pd.read_csv(\"/kaggle/input/online-retail-ii-data-set-from-ml-repository/Year 2010-2011.csv\",encoding='iso-8859-9')"
   ]
  },
  {
   "cell_type": "code",
   "execution_count": 3,
   "id": "30973011",
   "metadata": {
    "execution": {
     "iopub.execute_input": "2023-11-13T12:26:56.018873Z",
     "iopub.status.busy": "2023-11-13T12:26:56.018068Z",
     "iopub.status.idle": "2023-11-13T12:26:56.084501Z",
     "shell.execute_reply": "2023-11-13T12:26:56.083531Z"
    },
    "papermill": {
     "duration": 0.105381,
     "end_time": "2023-11-13T12:26:56.086677",
     "exception": false,
     "start_time": "2023-11-13T12:26:55.981296",
     "status": "completed"
    },
    "tags": []
   },
   "outputs": [
    {
     "data": {
      "text/html": [
       "<div>\n",
       "<style scoped>\n",
       "    .dataframe tbody tr th:only-of-type {\n",
       "        vertical-align: middle;\n",
       "    }\n",
       "\n",
       "    .dataframe tbody tr th {\n",
       "        vertical-align: top;\n",
       "    }\n",
       "\n",
       "    .dataframe thead th {\n",
       "        text-align: right;\n",
       "    }\n",
       "</style>\n",
       "<table border=\"1\" class=\"dataframe\">\n",
       "  <thead>\n",
       "    <tr style=\"text-align: right;\">\n",
       "      <th></th>\n",
       "      <th>Invoice</th>\n",
       "      <th>StockCode</th>\n",
       "      <th>Description</th>\n",
       "      <th>Quantity</th>\n",
       "      <th>InvoiceDate</th>\n",
       "      <th>Price</th>\n",
       "      <th>Customer ID</th>\n",
       "      <th>Country</th>\n",
       "    </tr>\n",
       "  </thead>\n",
       "  <tbody>\n",
       "    <tr>\n",
       "      <th>0</th>\n",
       "      <td>536365</td>\n",
       "      <td>85123A</td>\n",
       "      <td>WHITE HANGING HEART T-LIGHT HOLDER</td>\n",
       "      <td>6</td>\n",
       "      <td>12/1/2010 8:26</td>\n",
       "      <td>2.55</td>\n",
       "      <td>17850.0</td>\n",
       "      <td>United Kingdom</td>\n",
       "    </tr>\n",
       "    <tr>\n",
       "      <th>1</th>\n",
       "      <td>536365</td>\n",
       "      <td>71053</td>\n",
       "      <td>WHITE METAL LANTERN</td>\n",
       "      <td>6</td>\n",
       "      <td>12/1/2010 8:26</td>\n",
       "      <td>3.39</td>\n",
       "      <td>17850.0</td>\n",
       "      <td>United Kingdom</td>\n",
       "    </tr>\n",
       "    <tr>\n",
       "      <th>2</th>\n",
       "      <td>536365</td>\n",
       "      <td>84406B</td>\n",
       "      <td>CREAM CUPID HEARTS COAT HANGER</td>\n",
       "      <td>8</td>\n",
       "      <td>12/1/2010 8:26</td>\n",
       "      <td>2.75</td>\n",
       "      <td>17850.0</td>\n",
       "      <td>United Kingdom</td>\n",
       "    </tr>\n",
       "    <tr>\n",
       "      <th>3</th>\n",
       "      <td>536365</td>\n",
       "      <td>84029G</td>\n",
       "      <td>KNITTED UNION FLAG HOT WATER BOTTLE</td>\n",
       "      <td>6</td>\n",
       "      <td>12/1/2010 8:26</td>\n",
       "      <td>3.39</td>\n",
       "      <td>17850.0</td>\n",
       "      <td>United Kingdom</td>\n",
       "    </tr>\n",
       "    <tr>\n",
       "      <th>4</th>\n",
       "      <td>536365</td>\n",
       "      <td>84029E</td>\n",
       "      <td>RED WOOLLY HOTTIE WHITE HEART.</td>\n",
       "      <td>6</td>\n",
       "      <td>12/1/2010 8:26</td>\n",
       "      <td>3.39</td>\n",
       "      <td>17850.0</td>\n",
       "      <td>United Kingdom</td>\n",
       "    </tr>\n",
       "  </tbody>\n",
       "</table>\n",
       "</div>"
      ],
      "text/plain": [
       "  Invoice StockCode                          Description  Quantity  \\\n",
       "0  536365    85123A   WHITE HANGING HEART T-LIGHT HOLDER         6   \n",
       "1  536365     71053                  WHITE METAL LANTERN         6   \n",
       "2  536365    84406B       CREAM CUPID HEARTS COAT HANGER         8   \n",
       "3  536365    84029G  KNITTED UNION FLAG HOT WATER BOTTLE         6   \n",
       "4  536365    84029E       RED WOOLLY HOTTIE WHITE HEART.         6   \n",
       "\n",
       "      InvoiceDate  Price  Customer ID         Country  \n",
       "0  12/1/2010 8:26   2.55      17850.0  United Kingdom  \n",
       "1  12/1/2010 8:26   3.39      17850.0  United Kingdom  \n",
       "2  12/1/2010 8:26   2.75      17850.0  United Kingdom  \n",
       "3  12/1/2010 8:26   3.39      17850.0  United Kingdom  \n",
       "4  12/1/2010 8:26   3.39      17850.0  United Kingdom  "
      ]
     },
     "execution_count": 3,
     "metadata": {},
     "output_type": "execute_result"
    }
   ],
   "source": [
    "df = df_.copy()\n",
    "df.head()"
   ]
  },
  {
   "cell_type": "code",
   "execution_count": 4,
   "id": "2b59006c",
   "metadata": {
    "execution": {
     "iopub.execute_input": "2023-11-13T12:26:56.160426Z",
     "iopub.status.busy": "2023-11-13T12:26:56.159690Z",
     "iopub.status.idle": "2023-11-13T12:26:56.165399Z",
     "shell.execute_reply": "2023-11-13T12:26:56.164600Z"
    },
    "papermill": {
     "duration": 0.045034,
     "end_time": "2023-11-13T12:26:56.167414",
     "exception": false,
     "start_time": "2023-11-13T12:26:56.122380",
     "status": "completed"
    },
    "tags": []
   },
   "outputs": [
    {
     "data": {
      "text/plain": [
       "(541910, 8)"
      ]
     },
     "execution_count": 4,
     "metadata": {},
     "output_type": "execute_result"
    }
   ],
   "source": [
    "df.shape"
   ]
  },
  {
   "cell_type": "code",
   "execution_count": 5,
   "id": "ca88fec2",
   "metadata": {
    "execution": {
     "iopub.execute_input": "2023-11-13T12:26:56.241779Z",
     "iopub.status.busy": "2023-11-13T12:26:56.241052Z",
     "iopub.status.idle": "2023-11-13T12:26:56.335504Z",
     "shell.execute_reply": "2023-11-13T12:26:56.334510Z"
    },
    "papermill": {
     "duration": 0.134457,
     "end_time": "2023-11-13T12:26:56.337955",
     "exception": false,
     "start_time": "2023-11-13T12:26:56.203498",
     "status": "completed"
    },
    "tags": []
   },
   "outputs": [
    {
     "data": {
      "text/html": [
       "<div>\n",
       "<style scoped>\n",
       "    .dataframe tbody tr th:only-of-type {\n",
       "        vertical-align: middle;\n",
       "    }\n",
       "\n",
       "    .dataframe tbody tr th {\n",
       "        vertical-align: top;\n",
       "    }\n",
       "\n",
       "    .dataframe thead th {\n",
       "        text-align: right;\n",
       "    }\n",
       "</style>\n",
       "<table border=\"1\" class=\"dataframe\">\n",
       "  <thead>\n",
       "    <tr style=\"text-align: right;\">\n",
       "      <th></th>\n",
       "      <th>count</th>\n",
       "      <th>mean</th>\n",
       "      <th>std</th>\n",
       "      <th>min</th>\n",
       "      <th>25%</th>\n",
       "      <th>50%</th>\n",
       "      <th>75%</th>\n",
       "      <th>max</th>\n",
       "    </tr>\n",
       "  </thead>\n",
       "  <tbody>\n",
       "    <tr>\n",
       "      <th>Quantity</th>\n",
       "      <td>541910.0</td>\n",
       "      <td>9.552234</td>\n",
       "      <td>218.080957</td>\n",
       "      <td>-80995.00</td>\n",
       "      <td>1.00</td>\n",
       "      <td>3.00</td>\n",
       "      <td>10.00</td>\n",
       "      <td>80995.0</td>\n",
       "    </tr>\n",
       "    <tr>\n",
       "      <th>Price</th>\n",
       "      <td>541910.0</td>\n",
       "      <td>4.611138</td>\n",
       "      <td>96.759765</td>\n",
       "      <td>-11062.06</td>\n",
       "      <td>1.25</td>\n",
       "      <td>2.08</td>\n",
       "      <td>4.13</td>\n",
       "      <td>38970.0</td>\n",
       "    </tr>\n",
       "    <tr>\n",
       "      <th>Customer ID</th>\n",
       "      <td>406830.0</td>\n",
       "      <td>15287.684160</td>\n",
       "      <td>1713.603074</td>\n",
       "      <td>12346.00</td>\n",
       "      <td>13953.00</td>\n",
       "      <td>15152.00</td>\n",
       "      <td>16791.00</td>\n",
       "      <td>18287.0</td>\n",
       "    </tr>\n",
       "  </tbody>\n",
       "</table>\n",
       "</div>"
      ],
      "text/plain": [
       "                count          mean          std       min       25%  \\\n",
       "Quantity     541910.0      9.552234   218.080957 -80995.00      1.00   \n",
       "Price        541910.0      4.611138    96.759765 -11062.06      1.25   \n",
       "Customer ID  406830.0  15287.684160  1713.603074  12346.00  13953.00   \n",
       "\n",
       "                  50%       75%      max  \n",
       "Quantity         3.00     10.00  80995.0  \n",
       "Price            2.08      4.13  38970.0  \n",
       "Customer ID  15152.00  16791.00  18287.0  "
      ]
     },
     "execution_count": 5,
     "metadata": {},
     "output_type": "execute_result"
    }
   ],
   "source": [
    "df.describe().T"
   ]
  },
  {
   "cell_type": "markdown",
   "id": "ea1d1b78",
   "metadata": {
    "papermill": {
     "duration": 0.035859,
     "end_time": "2023-11-13T12:26:56.410112",
     "exception": false,
     "start_time": "2023-11-13T12:26:56.374253",
     "status": "completed"
    },
    "tags": []
   },
   "source": [
    "<div style=\"border-radius:10px; border:#65647C solid; padding: 15px; background-color: #F8EDE3; font-size:100%; text-align:left\">\n",
    "\n",
    "<h3 align=\"left\"><font color='#7D6E83'><b>🗨️ Comment: </b></font></h3>\n",
    "    \n",
    "* Gördüğümüz gibi, negatif değerler bulunmaktadır. Bunun nedeni, iade edilen ürünlerin negatif değerlerle kaydedilmesidir. Bunları tespit edip kaldırmamız gerekiyor.\n",
    "* Ayrıca, \"ortalama\" ve \"maksimum\" değerlerine baktığımızda aykırı değerlerin varlığını anlıyoruz."
   ]
  },
  {
   "cell_type": "code",
   "execution_count": 6,
   "id": "519d0998",
   "metadata": {
    "execution": {
     "iopub.execute_input": "2023-11-13T12:26:56.485924Z",
     "iopub.status.busy": "2023-11-13T12:26:56.484812Z",
     "iopub.status.idle": "2023-11-13T12:26:56.613602Z",
     "shell.execute_reply": "2023-11-13T12:26:56.612552Z"
    },
    "papermill": {
     "duration": 0.169383,
     "end_time": "2023-11-13T12:26:56.616020",
     "exception": false,
     "start_time": "2023-11-13T12:26:56.446637",
     "status": "completed"
    },
    "tags": []
   },
   "outputs": [
    {
     "data": {
      "text/plain": [
       "Invoice             0\n",
       "StockCode           0\n",
       "Description      1454\n",
       "Quantity            0\n",
       "InvoiceDate         0\n",
       "Price               0\n",
       "Customer ID    135080\n",
       "Country             0\n",
       "dtype: int64"
      ]
     },
     "execution_count": 6,
     "metadata": {},
     "output_type": "execute_result"
    }
   ],
   "source": [
    "df.isnull().sum()"
   ]
  },
  {
   "cell_type": "markdown",
   "id": "29b6c944",
   "metadata": {
    "papermill": {
     "duration": 0.036355,
     "end_time": "2023-11-13T12:26:56.689662",
     "exception": false,
     "start_time": "2023-11-13T12:26:56.653307",
     "status": "completed"
    },
    "tags": []
   },
   "source": [
    "<div style=\"border-radius:10px; border:#65647C solid; padding: 15px; background-color: #F8EDE3; font-size:100%; text-align:left\">\n",
    "\n",
    "<h3 align=\"left\"><font color='#7D6E83'><b>🗨️ Comment: </b></font></h3>\n",
    "    \n",
    "* Görüldüğü üzere Customer ID ve Description featureları üzerinde eksik veri seti bulunmaktadır.\n",
    "* Hem bu eksik satırları kaldıralım, hem de diğer işlemleri tek tek uygulayıp veriyi hazır hale getirelim."
   ]
  },
  {
   "cell_type": "code",
   "execution_count": 7,
   "id": "71003aa1",
   "metadata": {
    "execution": {
     "iopub.execute_input": "2023-11-13T12:26:56.764495Z",
     "iopub.status.busy": "2023-11-13T12:26:56.764075Z",
     "iopub.status.idle": "2023-11-13T12:26:56.927163Z",
     "shell.execute_reply": "2023-11-13T12:26:56.926024Z"
    },
    "papermill": {
     "duration": 0.203849,
     "end_time": "2023-11-13T12:26:56.929843",
     "exception": false,
     "start_time": "2023-11-13T12:26:56.725994",
     "status": "completed"
    },
    "tags": []
   },
   "outputs": [],
   "source": [
    "  df.dropna(inplace=True)"
   ]
  },
  {
   "cell_type": "code",
   "execution_count": 8,
   "id": "f32cbf3b",
   "metadata": {
    "execution": {
     "iopub.execute_input": "2023-11-13T12:26:57.005214Z",
     "iopub.status.busy": "2023-11-13T12:26:57.004835Z",
     "iopub.status.idle": "2023-11-13T12:26:57.236553Z",
     "shell.execute_reply": "2023-11-13T12:26:57.235487Z"
    },
    "papermill": {
     "duration": 0.272621,
     "end_time": "2023-11-13T12:26:57.239166",
     "exception": false,
     "start_time": "2023-11-13T12:26:56.966545",
     "status": "completed"
    },
    "tags": []
   },
   "outputs": [],
   "source": [
    "df = df[~df[\"Invoice\"].str.contains(\"C\", na=False)]"
   ]
  },
  {
   "cell_type": "markdown",
   "id": "52103cd2",
   "metadata": {
    "execution": {
     "iopub.execute_input": "2023-10-25T10:43:19.078303Z",
     "iopub.status.busy": "2023-10-25T10:43:19.077875Z",
     "iopub.status.idle": "2023-10-25T10:43:19.149229Z",
     "shell.execute_reply": "2023-10-25T10:43:19.147940Z",
     "shell.execute_reply.started": "2023-10-25T10:43:19.078268Z"
    },
    "papermill": {
     "duration": 0.036844,
     "end_time": "2023-11-13T12:26:57.313218",
     "exception": false,
     "start_time": "2023-11-13T12:26:57.276374",
     "status": "completed"
    },
    "tags": []
   },
   "source": [
    "<div style=\"border-radius:10px; border:#65647C solid; padding: 15px; background-color: #F8EDE3; font-size:100%; text-align:left\">\n",
    "\n",
    "<h3 align=\"left\"><font color='#7D6E83'><b>🗨️ Comment: </b></font></h3>\n",
    "    \n",
    "* \"C\" ifadesi iptal edilmiş işlemleri göstermektedir. Bu yüzden bu değerler eksi olarak eklendiğinden describe kontrolünde min değerler eksik olarak gözüktü. Bu yüzden bu verileri temizlememiz gerekiyor."
   ]
  },
  {
   "cell_type": "code",
   "execution_count": 9,
   "id": "eabe0940",
   "metadata": {
    "execution": {
     "iopub.execute_input": "2023-11-13T12:26:57.399034Z",
     "iopub.status.busy": "2023-11-13T12:26:57.398271Z",
     "iopub.status.idle": "2023-11-13T12:26:57.470018Z",
     "shell.execute_reply": "2023-11-13T12:26:57.468975Z"
    },
    "papermill": {
     "duration": 0.113229,
     "end_time": "2023-11-13T12:26:57.472632",
     "exception": false,
     "start_time": "2023-11-13T12:26:57.359403",
     "status": "completed"
    },
    "tags": []
   },
   "outputs": [],
   "source": [
    "df = df[df[\"Quantity\"] > 0]\n",
    "df = df[df[\"Price\"] > 0]"
   ]
  },
  {
   "cell_type": "markdown",
   "id": "3b3f74ac",
   "metadata": {
    "papermill": {
     "duration": 0.03958,
     "end_time": "2023-11-13T12:26:57.549679",
     "exception": false,
     "start_time": "2023-11-13T12:26:57.510099",
     "status": "completed"
    },
    "tags": []
   },
   "source": [
    "<div style=\"border-radius:10px; border:#65647C solid; padding: 15px; background-color: #F8EDE3; font-size:100%; text-align:left\">\n",
    "\n",
    "<h3 align=\"left\"><font color='#7D6E83'><b>🗨️ Comment: </b></font></h3>\n",
    "    \n",
    "* Price ve Quantity değerleri sıfır ve altında bir değer alamayacağından yeni eşik değerlerimizi ayarlıyoruz."
   ]
  },
  {
   "cell_type": "markdown",
   "id": "27d14278",
   "metadata": {
    "papermill": {
     "duration": 0.036562,
     "end_time": "2023-11-13T12:26:57.624002",
     "exception": false,
     "start_time": "2023-11-13T12:26:57.587440",
     "status": "completed"
    },
    "tags": []
   },
   "source": [
    "-----"
   ]
  },
  {
   "cell_type": "code",
   "execution_count": 10,
   "id": "e66fa4bb",
   "metadata": {
    "execution": {
     "iopub.execute_input": "2023-11-13T12:26:57.701190Z",
     "iopub.status.busy": "2023-11-13T12:26:57.699897Z",
     "iopub.status.idle": "2023-11-13T12:26:57.706653Z",
     "shell.execute_reply": "2023-11-13T12:26:57.705871Z"
    },
    "papermill": {
     "duration": 0.047654,
     "end_time": "2023-11-13T12:26:57.708841",
     "exception": false,
     "start_time": "2023-11-13T12:26:57.661187",
     "status": "completed"
    },
    "tags": []
   },
   "outputs": [],
   "source": [
    "def corr_skew_outliner(df, cols):\n",
    "\n",
    "    for col in cols:\n",
    "        \n",
    "        Q1 = df[col].quantile(0.05)\n",
    "        Q3 = df[col].quantile(0.95)\n",
    "        df.loc[df[col] < Q1, col] = Q1\n",
    "        df.loc[df[col] > Q3, col] = Q3\n",
    "        #df[col] = np.sqrt(df[col])\n",
    "        \n",
    "    return df"
   ]
  },
  {
   "cell_type": "markdown",
   "id": "1c580896",
   "metadata": {
    "papermill": {
     "duration": 0.036511,
     "end_time": "2023-11-13T12:26:57.781986",
     "exception": false,
     "start_time": "2023-11-13T12:26:57.745475",
     "status": "completed"
    },
    "tags": []
   },
   "source": [
    "----"
   ]
  },
  {
   "cell_type": "code",
   "execution_count": 11,
   "id": "7c1a22cc",
   "metadata": {
    "execution": {
     "iopub.execute_input": "2023-11-13T12:26:57.856098Z",
     "iopub.status.busy": "2023-11-13T12:26:57.855489Z",
     "iopub.status.idle": "2023-11-13T12:26:57.906800Z",
     "shell.execute_reply": "2023-11-13T12:26:57.905718Z"
    },
    "papermill": {
     "duration": 0.090836,
     "end_time": "2023-11-13T12:26:57.908899",
     "exception": false,
     "start_time": "2023-11-13T12:26:57.818063",
     "status": "completed"
    },
    "tags": []
   },
   "outputs": [
    {
     "data": {
      "text/html": [
       "<div>\n",
       "<style scoped>\n",
       "    .dataframe tbody tr th:only-of-type {\n",
       "        vertical-align: middle;\n",
       "    }\n",
       "\n",
       "    .dataframe tbody tr th {\n",
       "        vertical-align: top;\n",
       "    }\n",
       "\n",
       "    .dataframe thead th {\n",
       "        text-align: right;\n",
       "    }\n",
       "</style>\n",
       "<table border=\"1\" class=\"dataframe\">\n",
       "  <thead>\n",
       "    <tr style=\"text-align: right;\">\n",
       "      <th></th>\n",
       "      <th>Invoice</th>\n",
       "      <th>StockCode</th>\n",
       "      <th>Description</th>\n",
       "      <th>Quantity</th>\n",
       "      <th>InvoiceDate</th>\n",
       "      <th>Price</th>\n",
       "      <th>Customer ID</th>\n",
       "      <th>Country</th>\n",
       "    </tr>\n",
       "  </thead>\n",
       "  <tbody>\n",
       "    <tr>\n",
       "      <th>0</th>\n",
       "      <td>536365</td>\n",
       "      <td>85123A</td>\n",
       "      <td>WHITE HANGING HEART T-LIGHT HOLDER</td>\n",
       "      <td>6</td>\n",
       "      <td>12/1/2010 8:26</td>\n",
       "      <td>2.55</td>\n",
       "      <td>17850.0</td>\n",
       "      <td>United Kingdom</td>\n",
       "    </tr>\n",
       "    <tr>\n",
       "      <th>1</th>\n",
       "      <td>536365</td>\n",
       "      <td>71053</td>\n",
       "      <td>WHITE METAL LANTERN</td>\n",
       "      <td>6</td>\n",
       "      <td>12/1/2010 8:26</td>\n",
       "      <td>3.39</td>\n",
       "      <td>17850.0</td>\n",
       "      <td>United Kingdom</td>\n",
       "    </tr>\n",
       "    <tr>\n",
       "      <th>2</th>\n",
       "      <td>536365</td>\n",
       "      <td>84406B</td>\n",
       "      <td>CREAM CUPID HEARTS COAT HANGER</td>\n",
       "      <td>8</td>\n",
       "      <td>12/1/2010 8:26</td>\n",
       "      <td>2.75</td>\n",
       "      <td>17850.0</td>\n",
       "      <td>United Kingdom</td>\n",
       "    </tr>\n",
       "    <tr>\n",
       "      <th>3</th>\n",
       "      <td>536365</td>\n",
       "      <td>84029G</td>\n",
       "      <td>KNITTED UNION FLAG HOT WATER BOTTLE</td>\n",
       "      <td>6</td>\n",
       "      <td>12/1/2010 8:26</td>\n",
       "      <td>3.39</td>\n",
       "      <td>17850.0</td>\n",
       "      <td>United Kingdom</td>\n",
       "    </tr>\n",
       "    <tr>\n",
       "      <th>4</th>\n",
       "      <td>536365</td>\n",
       "      <td>84029E</td>\n",
       "      <td>RED WOOLLY HOTTIE WHITE HEART.</td>\n",
       "      <td>6</td>\n",
       "      <td>12/1/2010 8:26</td>\n",
       "      <td>3.39</td>\n",
       "      <td>17850.0</td>\n",
       "      <td>United Kingdom</td>\n",
       "    </tr>\n",
       "    <tr>\n",
       "      <th>...</th>\n",
       "      <td>...</td>\n",
       "      <td>...</td>\n",
       "      <td>...</td>\n",
       "      <td>...</td>\n",
       "      <td>...</td>\n",
       "      <td>...</td>\n",
       "      <td>...</td>\n",
       "      <td>...</td>\n",
       "    </tr>\n",
       "    <tr>\n",
       "      <th>541905</th>\n",
       "      <td>581587</td>\n",
       "      <td>22899</td>\n",
       "      <td>CHILDREN'S APRON DOLLY GIRL</td>\n",
       "      <td>6</td>\n",
       "      <td>12/9/2011 12:50</td>\n",
       "      <td>2.10</td>\n",
       "      <td>12680.0</td>\n",
       "      <td>France</td>\n",
       "    </tr>\n",
       "    <tr>\n",
       "      <th>541906</th>\n",
       "      <td>581587</td>\n",
       "      <td>23254</td>\n",
       "      <td>CHILDRENS CUTLERY DOLLY GIRL</td>\n",
       "      <td>4</td>\n",
       "      <td>12/9/2011 12:50</td>\n",
       "      <td>4.15</td>\n",
       "      <td>12680.0</td>\n",
       "      <td>France</td>\n",
       "    </tr>\n",
       "    <tr>\n",
       "      <th>541907</th>\n",
       "      <td>581587</td>\n",
       "      <td>23255</td>\n",
       "      <td>CHILDRENS CUTLERY CIRCUS PARADE</td>\n",
       "      <td>4</td>\n",
       "      <td>12/9/2011 12:50</td>\n",
       "      <td>4.15</td>\n",
       "      <td>12680.0</td>\n",
       "      <td>France</td>\n",
       "    </tr>\n",
       "    <tr>\n",
       "      <th>541908</th>\n",
       "      <td>581587</td>\n",
       "      <td>22138</td>\n",
       "      <td>BAKING SET 9 PIECE RETROSPOT</td>\n",
       "      <td>3</td>\n",
       "      <td>12/9/2011 12:50</td>\n",
       "      <td>4.95</td>\n",
       "      <td>12680.0</td>\n",
       "      <td>France</td>\n",
       "    </tr>\n",
       "    <tr>\n",
       "      <th>541909</th>\n",
       "      <td>581587</td>\n",
       "      <td>POST</td>\n",
       "      <td>POSTAGE</td>\n",
       "      <td>1</td>\n",
       "      <td>12/9/2011 12:50</td>\n",
       "      <td>8.50</td>\n",
       "      <td>12680.0</td>\n",
       "      <td>France</td>\n",
       "    </tr>\n",
       "  </tbody>\n",
       "</table>\n",
       "<p>397885 rows × 8 columns</p>\n",
       "</div>"
      ],
      "text/plain": [
       "       Invoice StockCode                          Description  Quantity  \\\n",
       "0       536365    85123A   WHITE HANGING HEART T-LIGHT HOLDER         6   \n",
       "1       536365     71053                  WHITE METAL LANTERN         6   \n",
       "2       536365    84406B       CREAM CUPID HEARTS COAT HANGER         8   \n",
       "3       536365    84029G  KNITTED UNION FLAG HOT WATER BOTTLE         6   \n",
       "4       536365    84029E       RED WOOLLY HOTTIE WHITE HEART.         6   \n",
       "...        ...       ...                                  ...       ...   \n",
       "541905  581587     22899         CHILDREN'S APRON DOLLY GIRL          6   \n",
       "541906  581587     23254        CHILDRENS CUTLERY DOLLY GIRL          4   \n",
       "541907  581587     23255      CHILDRENS CUTLERY CIRCUS PARADE         4   \n",
       "541908  581587     22138        BAKING SET 9 PIECE RETROSPOT          3   \n",
       "541909  581587      POST                              POSTAGE         1   \n",
       "\n",
       "            InvoiceDate  Price  Customer ID         Country  \n",
       "0        12/1/2010 8:26   2.55      17850.0  United Kingdom  \n",
       "1        12/1/2010 8:26   3.39      17850.0  United Kingdom  \n",
       "2        12/1/2010 8:26   2.75      17850.0  United Kingdom  \n",
       "3        12/1/2010 8:26   3.39      17850.0  United Kingdom  \n",
       "4        12/1/2010 8:26   3.39      17850.0  United Kingdom  \n",
       "...                 ...    ...          ...             ...  \n",
       "541905  12/9/2011 12:50   2.10      12680.0          France  \n",
       "541906  12/9/2011 12:50   4.15      12680.0          France  \n",
       "541907  12/9/2011 12:50   4.15      12680.0          France  \n",
       "541908  12/9/2011 12:50   4.95      12680.0          France  \n",
       "541909  12/9/2011 12:50   8.50      12680.0          France  \n",
       "\n",
       "[397885 rows x 8 columns]"
      ]
     },
     "execution_count": 11,
     "metadata": {},
     "output_type": "execute_result"
    }
   ],
   "source": [
    "cols = [\"Quantity\",\"Price\"]\n",
    "\n",
    "corr_skew_outliner(df,cols)"
   ]
  },
  {
   "cell_type": "code",
   "execution_count": 12,
   "id": "91cd3c66",
   "metadata": {
    "execution": {
     "iopub.execute_input": "2023-11-13T12:26:57.984606Z",
     "iopub.status.busy": "2023-11-13T12:26:57.983931Z",
     "iopub.status.idle": "2023-11-13T12:26:58.045763Z",
     "shell.execute_reply": "2023-11-13T12:26:58.044444Z"
    },
    "papermill": {
     "duration": 0.103486,
     "end_time": "2023-11-13T12:26:58.048958",
     "exception": false,
     "start_time": "2023-11-13T12:26:57.945472",
     "status": "completed"
    },
    "tags": []
   },
   "outputs": [
    {
     "data": {
      "text/html": [
       "<div>\n",
       "<style scoped>\n",
       "    .dataframe tbody tr th:only-of-type {\n",
       "        vertical-align: middle;\n",
       "    }\n",
       "\n",
       "    .dataframe tbody tr th {\n",
       "        vertical-align: top;\n",
       "    }\n",
       "\n",
       "    .dataframe thead th {\n",
       "        text-align: right;\n",
       "    }\n",
       "</style>\n",
       "<table border=\"1\" class=\"dataframe\">\n",
       "  <thead>\n",
       "    <tr style=\"text-align: right;\">\n",
       "      <th></th>\n",
       "      <th>count</th>\n",
       "      <th>mean</th>\n",
       "      <th>std</th>\n",
       "      <th>min</th>\n",
       "      <th>25%</th>\n",
       "      <th>50%</th>\n",
       "      <th>75%</th>\n",
       "      <th>max</th>\n",
       "    </tr>\n",
       "  </thead>\n",
       "  <tbody>\n",
       "    <tr>\n",
       "      <th>Quantity</th>\n",
       "      <td>397885.0</td>\n",
       "      <td>8.868002</td>\n",
       "      <td>9.523421</td>\n",
       "      <td>1.00</td>\n",
       "      <td>2.00</td>\n",
       "      <td>6.00</td>\n",
       "      <td>12.00</td>\n",
       "      <td>36.0</td>\n",
       "    </tr>\n",
       "    <tr>\n",
       "      <th>Price</th>\n",
       "      <td>397885.0</td>\n",
       "      <td>2.675800</td>\n",
       "      <td>2.275069</td>\n",
       "      <td>0.42</td>\n",
       "      <td>1.25</td>\n",
       "      <td>1.95</td>\n",
       "      <td>3.75</td>\n",
       "      <td>8.5</td>\n",
       "    </tr>\n",
       "    <tr>\n",
       "      <th>Customer ID</th>\n",
       "      <td>397885.0</td>\n",
       "      <td>15294.416882</td>\n",
       "      <td>1713.144421</td>\n",
       "      <td>12346.00</td>\n",
       "      <td>13969.00</td>\n",
       "      <td>15159.00</td>\n",
       "      <td>16795.00</td>\n",
       "      <td>18287.0</td>\n",
       "    </tr>\n",
       "  </tbody>\n",
       "</table>\n",
       "</div>"
      ],
      "text/plain": [
       "                count          mean          std       min       25%  \\\n",
       "Quantity     397885.0      8.868002     9.523421      1.00      2.00   \n",
       "Price        397885.0      2.675800     2.275069      0.42      1.25   \n",
       "Customer ID  397885.0  15294.416882  1713.144421  12346.00  13969.00   \n",
       "\n",
       "                  50%       75%      max  \n",
       "Quantity         6.00     12.00     36.0  \n",
       "Price            1.95      3.75      8.5  \n",
       "Customer ID  15159.00  16795.00  18287.0  "
      ]
     },
     "execution_count": 12,
     "metadata": {},
     "output_type": "execute_result"
    }
   ],
   "source": [
    "df.describe().T"
   ]
  },
  {
   "cell_type": "markdown",
   "id": "9edd5fe6",
   "metadata": {
    "papermill": {
     "duration": 0.036568,
     "end_time": "2023-11-13T12:26:58.123265",
     "exception": false,
     "start_time": "2023-11-13T12:26:58.086697",
     "status": "completed"
    },
    "tags": []
   },
   "source": [
    "<div style=\"border-radius:10px; border:#65647C solid; padding: 15px; background-color: #F8EDE3; font-size:100%; text-align:left\">\n",
    "\n",
    "<h3 align=\"left\"><font color='#7D6E83'><b>🗨️ Comment: </b></font></h3>\n",
    "    \n",
    "* Hepsi kaldırıldı. Veri artık temizdir."
   ]
  },
  {
   "cell_type": "markdown",
   "id": "83c7c0f3",
   "metadata": {
    "papermill": {
     "duration": 0.03791,
     "end_time": "2023-11-13T12:26:58.199406",
     "exception": false,
     "start_time": "2023-11-13T12:26:58.161496",
     "status": "completed"
    },
    "tags": []
   },
   "source": [
    "<a id = \"5\"></a><br>\n",
    "<div style=\"font-family:JetBrains Mono; font-weight:bold; letter-spacing: 2px; color:#E5788F; font-size:150%; text-align:left; padding: 0px;\">Preparing Invoice-StockCode (Product) Matrix</div>"
   ]
  },
  {
   "cell_type": "code",
   "execution_count": 13,
   "id": "81532ce6",
   "metadata": {
    "execution": {
     "iopub.execute_input": "2023-11-13T12:26:58.278538Z",
     "iopub.status.busy": "2023-11-13T12:26:58.277915Z",
     "iopub.status.idle": "2023-11-13T12:26:58.291919Z",
     "shell.execute_reply": "2023-11-13T12:26:58.290737Z"
    },
    "papermill": {
     "duration": 0.054814,
     "end_time": "2023-11-13T12:26:58.294012",
     "exception": false,
     "start_time": "2023-11-13T12:26:58.239198",
     "status": "completed"
    },
    "tags": []
   },
   "outputs": [
    {
     "data": {
      "text/html": [
       "<div>\n",
       "<style scoped>\n",
       "    .dataframe tbody tr th:only-of-type {\n",
       "        vertical-align: middle;\n",
       "    }\n",
       "\n",
       "    .dataframe tbody tr th {\n",
       "        vertical-align: top;\n",
       "    }\n",
       "\n",
       "    .dataframe thead th {\n",
       "        text-align: right;\n",
       "    }\n",
       "</style>\n",
       "<table border=\"1\" class=\"dataframe\">\n",
       "  <thead>\n",
       "    <tr style=\"text-align: right;\">\n",
       "      <th></th>\n",
       "      <th>Invoice</th>\n",
       "      <th>StockCode</th>\n",
       "      <th>Description</th>\n",
       "      <th>Quantity</th>\n",
       "      <th>InvoiceDate</th>\n",
       "      <th>Price</th>\n",
       "      <th>Customer ID</th>\n",
       "      <th>Country</th>\n",
       "    </tr>\n",
       "  </thead>\n",
       "  <tbody>\n",
       "    <tr>\n",
       "      <th>0</th>\n",
       "      <td>536365</td>\n",
       "      <td>85123A</td>\n",
       "      <td>WHITE HANGING HEART T-LIGHT HOLDER</td>\n",
       "      <td>6</td>\n",
       "      <td>12/1/2010 8:26</td>\n",
       "      <td>2.55</td>\n",
       "      <td>17850.0</td>\n",
       "      <td>United Kingdom</td>\n",
       "    </tr>\n",
       "    <tr>\n",
       "      <th>1</th>\n",
       "      <td>536365</td>\n",
       "      <td>71053</td>\n",
       "      <td>WHITE METAL LANTERN</td>\n",
       "      <td>6</td>\n",
       "      <td>12/1/2010 8:26</td>\n",
       "      <td>3.39</td>\n",
       "      <td>17850.0</td>\n",
       "      <td>United Kingdom</td>\n",
       "    </tr>\n",
       "    <tr>\n",
       "      <th>2</th>\n",
       "      <td>536365</td>\n",
       "      <td>84406B</td>\n",
       "      <td>CREAM CUPID HEARTS COAT HANGER</td>\n",
       "      <td>8</td>\n",
       "      <td>12/1/2010 8:26</td>\n",
       "      <td>2.75</td>\n",
       "      <td>17850.0</td>\n",
       "      <td>United Kingdom</td>\n",
       "    </tr>\n",
       "    <tr>\n",
       "      <th>3</th>\n",
       "      <td>536365</td>\n",
       "      <td>84029G</td>\n",
       "      <td>KNITTED UNION FLAG HOT WATER BOTTLE</td>\n",
       "      <td>6</td>\n",
       "      <td>12/1/2010 8:26</td>\n",
       "      <td>3.39</td>\n",
       "      <td>17850.0</td>\n",
       "      <td>United Kingdom</td>\n",
       "    </tr>\n",
       "    <tr>\n",
       "      <th>4</th>\n",
       "      <td>536365</td>\n",
       "      <td>84029E</td>\n",
       "      <td>RED WOOLLY HOTTIE WHITE HEART.</td>\n",
       "      <td>6</td>\n",
       "      <td>12/1/2010 8:26</td>\n",
       "      <td>3.39</td>\n",
       "      <td>17850.0</td>\n",
       "      <td>United Kingdom</td>\n",
       "    </tr>\n",
       "  </tbody>\n",
       "</table>\n",
       "</div>"
      ],
      "text/plain": [
       "  Invoice StockCode                          Description  Quantity  \\\n",
       "0  536365    85123A   WHITE HANGING HEART T-LIGHT HOLDER         6   \n",
       "1  536365     71053                  WHITE METAL LANTERN         6   \n",
       "2  536365    84406B       CREAM CUPID HEARTS COAT HANGER         8   \n",
       "3  536365    84029G  KNITTED UNION FLAG HOT WATER BOTTLE         6   \n",
       "4  536365    84029E       RED WOOLLY HOTTIE WHITE HEART.         6   \n",
       "\n",
       "      InvoiceDate  Price  Customer ID         Country  \n",
       "0  12/1/2010 8:26   2.55      17850.0  United Kingdom  \n",
       "1  12/1/2010 8:26   3.39      17850.0  United Kingdom  \n",
       "2  12/1/2010 8:26   2.75      17850.0  United Kingdom  \n",
       "3  12/1/2010 8:26   3.39      17850.0  United Kingdom  \n",
       "4  12/1/2010 8:26   3.39      17850.0  United Kingdom  "
      ]
     },
     "execution_count": 13,
     "metadata": {},
     "output_type": "execute_result"
    }
   ],
   "source": [
    "df.head()"
   ]
  },
  {
   "cell_type": "markdown",
   "id": "119ada28",
   "metadata": {
    "papermill": {
     "duration": 0.036817,
     "end_time": "2023-11-13T12:26:58.373029",
     "exception": false,
     "start_time": "2023-11-13T12:26:58.336212",
     "status": "completed"
    },
    "tags": []
   },
   "source": [
    "<div style=\"border-radius:10px; border:#65647C solid; padding: 15px; background-color: #F8EDE3; font-size:100%; text-align:left\">\n",
    "\n",
    "<h3 align=\"left\"><font color='#7D6E83'><b>🗨️ Comment: </b></font></h3>\n",
    "    \n",
    "* Fatura bazında sütunlarda ürünlerin olduğu bir forma getirip, ürünün o fatura içinde olup olmadığını da binary formunda (0-1) olarak belirteceğiz"
   ]
  },
  {
   "cell_type": "code",
   "execution_count": 14,
   "id": "7ccbfa7a",
   "metadata": {
    "execution": {
     "iopub.execute_input": "2023-11-13T12:26:58.449736Z",
     "iopub.status.busy": "2023-11-13T12:26:58.449105Z",
     "iopub.status.idle": "2023-11-13T12:26:58.484016Z",
     "shell.execute_reply": "2023-11-13T12:26:58.483169Z"
    },
    "papermill": {
     "duration": 0.075869,
     "end_time": "2023-11-13T12:26:58.486362",
     "exception": false,
     "start_time": "2023-11-13T12:26:58.410493",
     "status": "completed"
    },
    "tags": []
   },
   "outputs": [],
   "source": [
    "df_fr = df[df['Country'] == \"France\"]"
   ]
  },
  {
   "cell_type": "code",
   "execution_count": 15,
   "id": "336be7d6",
   "metadata": {
    "execution": {
     "iopub.execute_input": "2023-11-13T12:26:58.562533Z",
     "iopub.status.busy": "2023-11-13T12:26:58.561917Z",
     "iopub.status.idle": "2023-11-13T12:26:58.586627Z",
     "shell.execute_reply": "2023-11-13T12:26:58.585780Z"
    },
    "papermill": {
     "duration": 0.065971,
     "end_time": "2023-11-13T12:26:58.588976",
     "exception": false,
     "start_time": "2023-11-13T12:26:58.523005",
     "status": "completed"
    },
    "tags": []
   },
   "outputs": [],
   "source": [
    "inv_pro_matrix = df_fr.groupby([\"Invoice\",\"StockCode\"])[\"Quantity\"].count().unstack().notnull()"
   ]
  },
  {
   "cell_type": "code",
   "execution_count": 16,
   "id": "430cda3a",
   "metadata": {
    "execution": {
     "iopub.execute_input": "2023-11-13T12:26:58.665940Z",
     "iopub.status.busy": "2023-11-13T12:26:58.665511Z",
     "iopub.status.idle": "2023-11-13T12:26:58.692421Z",
     "shell.execute_reply": "2023-11-13T12:26:58.691360Z"
    },
    "papermill": {
     "duration": 0.068271,
     "end_time": "2023-11-13T12:26:58.694567",
     "exception": false,
     "start_time": "2023-11-13T12:26:58.626296",
     "status": "completed"
    },
    "tags": []
   },
   "outputs": [
    {
     "data": {
      "text/html": [
       "<div>\n",
       "<style scoped>\n",
       "    .dataframe tbody tr th:only-of-type {\n",
       "        vertical-align: middle;\n",
       "    }\n",
       "\n",
       "    .dataframe tbody tr th {\n",
       "        vertical-align: top;\n",
       "    }\n",
       "\n",
       "    .dataframe thead th {\n",
       "        text-align: right;\n",
       "    }\n",
       "</style>\n",
       "<table border=\"1\" class=\"dataframe\">\n",
       "  <thead>\n",
       "    <tr style=\"text-align: right;\">\n",
       "      <th>StockCode</th>\n",
       "      <th>10002</th>\n",
       "      <th>10120</th>\n",
       "      <th>10125</th>\n",
       "      <th>10135</th>\n",
       "      <th>11001</th>\n",
       "      <th>15036</th>\n",
       "      <th>15039</th>\n",
       "      <th>15044C</th>\n",
       "      <th>15056BL</th>\n",
       "      <th>15056N</th>\n",
       "      <th>...</th>\n",
       "      <th>90030C</th>\n",
       "      <th>90031</th>\n",
       "      <th>90099</th>\n",
       "      <th>90184B</th>\n",
       "      <th>90184C</th>\n",
       "      <th>90201B</th>\n",
       "      <th>90201C</th>\n",
       "      <th>C2</th>\n",
       "      <th>M</th>\n",
       "      <th>POST</th>\n",
       "    </tr>\n",
       "    <tr>\n",
       "      <th>Invoice</th>\n",
       "      <th></th>\n",
       "      <th></th>\n",
       "      <th></th>\n",
       "      <th></th>\n",
       "      <th></th>\n",
       "      <th></th>\n",
       "      <th></th>\n",
       "      <th></th>\n",
       "      <th></th>\n",
       "      <th></th>\n",
       "      <th></th>\n",
       "      <th></th>\n",
       "      <th></th>\n",
       "      <th></th>\n",
       "      <th></th>\n",
       "      <th></th>\n",
       "      <th></th>\n",
       "      <th></th>\n",
       "      <th></th>\n",
       "      <th></th>\n",
       "      <th></th>\n",
       "    </tr>\n",
       "  </thead>\n",
       "  <tbody>\n",
       "    <tr>\n",
       "      <th>536370</th>\n",
       "      <td>True</td>\n",
       "      <td>False</td>\n",
       "      <td>False</td>\n",
       "      <td>False</td>\n",
       "      <td>False</td>\n",
       "      <td>False</td>\n",
       "      <td>False</td>\n",
       "      <td>False</td>\n",
       "      <td>False</td>\n",
       "      <td>False</td>\n",
       "      <td>...</td>\n",
       "      <td>False</td>\n",
       "      <td>False</td>\n",
       "      <td>False</td>\n",
       "      <td>False</td>\n",
       "      <td>False</td>\n",
       "      <td>False</td>\n",
       "      <td>False</td>\n",
       "      <td>False</td>\n",
       "      <td>False</td>\n",
       "      <td>True</td>\n",
       "    </tr>\n",
       "    <tr>\n",
       "      <th>536852</th>\n",
       "      <td>False</td>\n",
       "      <td>False</td>\n",
       "      <td>False</td>\n",
       "      <td>False</td>\n",
       "      <td>False</td>\n",
       "      <td>False</td>\n",
       "      <td>False</td>\n",
       "      <td>False</td>\n",
       "      <td>False</td>\n",
       "      <td>False</td>\n",
       "      <td>...</td>\n",
       "      <td>False</td>\n",
       "      <td>False</td>\n",
       "      <td>False</td>\n",
       "      <td>False</td>\n",
       "      <td>False</td>\n",
       "      <td>False</td>\n",
       "      <td>False</td>\n",
       "      <td>False</td>\n",
       "      <td>False</td>\n",
       "      <td>True</td>\n",
       "    </tr>\n",
       "    <tr>\n",
       "      <th>536974</th>\n",
       "      <td>False</td>\n",
       "      <td>False</td>\n",
       "      <td>False</td>\n",
       "      <td>False</td>\n",
       "      <td>False</td>\n",
       "      <td>False</td>\n",
       "      <td>False</td>\n",
       "      <td>False</td>\n",
       "      <td>True</td>\n",
       "      <td>False</td>\n",
       "      <td>...</td>\n",
       "      <td>False</td>\n",
       "      <td>False</td>\n",
       "      <td>False</td>\n",
       "      <td>False</td>\n",
       "      <td>False</td>\n",
       "      <td>False</td>\n",
       "      <td>False</td>\n",
       "      <td>False</td>\n",
       "      <td>False</td>\n",
       "      <td>True</td>\n",
       "    </tr>\n",
       "    <tr>\n",
       "      <th>537065</th>\n",
       "      <td>False</td>\n",
       "      <td>False</td>\n",
       "      <td>False</td>\n",
       "      <td>False</td>\n",
       "      <td>False</td>\n",
       "      <td>False</td>\n",
       "      <td>False</td>\n",
       "      <td>False</td>\n",
       "      <td>False</td>\n",
       "      <td>False</td>\n",
       "      <td>...</td>\n",
       "      <td>False</td>\n",
       "      <td>False</td>\n",
       "      <td>False</td>\n",
       "      <td>False</td>\n",
       "      <td>False</td>\n",
       "      <td>False</td>\n",
       "      <td>False</td>\n",
       "      <td>False</td>\n",
       "      <td>False</td>\n",
       "      <td>True</td>\n",
       "    </tr>\n",
       "    <tr>\n",
       "      <th>537463</th>\n",
       "      <td>False</td>\n",
       "      <td>False</td>\n",
       "      <td>False</td>\n",
       "      <td>False</td>\n",
       "      <td>False</td>\n",
       "      <td>False</td>\n",
       "      <td>False</td>\n",
       "      <td>False</td>\n",
       "      <td>False</td>\n",
       "      <td>False</td>\n",
       "      <td>...</td>\n",
       "      <td>False</td>\n",
       "      <td>False</td>\n",
       "      <td>False</td>\n",
       "      <td>False</td>\n",
       "      <td>False</td>\n",
       "      <td>False</td>\n",
       "      <td>False</td>\n",
       "      <td>False</td>\n",
       "      <td>False</td>\n",
       "      <td>True</td>\n",
       "    </tr>\n",
       "    <tr>\n",
       "      <th>...</th>\n",
       "      <td>...</td>\n",
       "      <td>...</td>\n",
       "      <td>...</td>\n",
       "      <td>...</td>\n",
       "      <td>...</td>\n",
       "      <td>...</td>\n",
       "      <td>...</td>\n",
       "      <td>...</td>\n",
       "      <td>...</td>\n",
       "      <td>...</td>\n",
       "      <td>...</td>\n",
       "      <td>...</td>\n",
       "      <td>...</td>\n",
       "      <td>...</td>\n",
       "      <td>...</td>\n",
       "      <td>...</td>\n",
       "      <td>...</td>\n",
       "      <td>...</td>\n",
       "      <td>...</td>\n",
       "      <td>...</td>\n",
       "      <td>...</td>\n",
       "    </tr>\n",
       "    <tr>\n",
       "      <th>580986</th>\n",
       "      <td>False</td>\n",
       "      <td>False</td>\n",
       "      <td>False</td>\n",
       "      <td>False</td>\n",
       "      <td>False</td>\n",
       "      <td>False</td>\n",
       "      <td>False</td>\n",
       "      <td>False</td>\n",
       "      <td>False</td>\n",
       "      <td>False</td>\n",
       "      <td>...</td>\n",
       "      <td>False</td>\n",
       "      <td>False</td>\n",
       "      <td>False</td>\n",
       "      <td>False</td>\n",
       "      <td>False</td>\n",
       "      <td>False</td>\n",
       "      <td>False</td>\n",
       "      <td>False</td>\n",
       "      <td>False</td>\n",
       "      <td>True</td>\n",
       "    </tr>\n",
       "    <tr>\n",
       "      <th>581001</th>\n",
       "      <td>False</td>\n",
       "      <td>False</td>\n",
       "      <td>False</td>\n",
       "      <td>False</td>\n",
       "      <td>False</td>\n",
       "      <td>False</td>\n",
       "      <td>False</td>\n",
       "      <td>False</td>\n",
       "      <td>False</td>\n",
       "      <td>False</td>\n",
       "      <td>...</td>\n",
       "      <td>False</td>\n",
       "      <td>False</td>\n",
       "      <td>False</td>\n",
       "      <td>False</td>\n",
       "      <td>False</td>\n",
       "      <td>False</td>\n",
       "      <td>False</td>\n",
       "      <td>False</td>\n",
       "      <td>False</td>\n",
       "      <td>True</td>\n",
       "    </tr>\n",
       "    <tr>\n",
       "      <th>581171</th>\n",
       "      <td>False</td>\n",
       "      <td>False</td>\n",
       "      <td>False</td>\n",
       "      <td>False</td>\n",
       "      <td>False</td>\n",
       "      <td>False</td>\n",
       "      <td>False</td>\n",
       "      <td>False</td>\n",
       "      <td>False</td>\n",
       "      <td>False</td>\n",
       "      <td>...</td>\n",
       "      <td>False</td>\n",
       "      <td>False</td>\n",
       "      <td>False</td>\n",
       "      <td>False</td>\n",
       "      <td>False</td>\n",
       "      <td>False</td>\n",
       "      <td>False</td>\n",
       "      <td>False</td>\n",
       "      <td>False</td>\n",
       "      <td>True</td>\n",
       "    </tr>\n",
       "    <tr>\n",
       "      <th>581279</th>\n",
       "      <td>False</td>\n",
       "      <td>False</td>\n",
       "      <td>False</td>\n",
       "      <td>False</td>\n",
       "      <td>False</td>\n",
       "      <td>False</td>\n",
       "      <td>False</td>\n",
       "      <td>False</td>\n",
       "      <td>False</td>\n",
       "      <td>False</td>\n",
       "      <td>...</td>\n",
       "      <td>False</td>\n",
       "      <td>False</td>\n",
       "      <td>False</td>\n",
       "      <td>False</td>\n",
       "      <td>False</td>\n",
       "      <td>False</td>\n",
       "      <td>False</td>\n",
       "      <td>False</td>\n",
       "      <td>False</td>\n",
       "      <td>True</td>\n",
       "    </tr>\n",
       "    <tr>\n",
       "      <th>581587</th>\n",
       "      <td>False</td>\n",
       "      <td>False</td>\n",
       "      <td>False</td>\n",
       "      <td>False</td>\n",
       "      <td>False</td>\n",
       "      <td>False</td>\n",
       "      <td>False</td>\n",
       "      <td>False</td>\n",
       "      <td>False</td>\n",
       "      <td>False</td>\n",
       "      <td>...</td>\n",
       "      <td>False</td>\n",
       "      <td>False</td>\n",
       "      <td>False</td>\n",
       "      <td>False</td>\n",
       "      <td>False</td>\n",
       "      <td>False</td>\n",
       "      <td>False</td>\n",
       "      <td>False</td>\n",
       "      <td>False</td>\n",
       "      <td>True</td>\n",
       "    </tr>\n",
       "  </tbody>\n",
       "</table>\n",
       "<p>389 rows × 1522 columns</p>\n",
       "</div>"
      ],
      "text/plain": [
       "StockCode  10002  10120  10125  10135  11001  15036  15039  15044C  15056BL  \\\n",
       "Invoice                                                                       \n",
       "536370      True  False  False  False  False  False  False   False    False   \n",
       "536852     False  False  False  False  False  False  False   False    False   \n",
       "536974     False  False  False  False  False  False  False   False     True   \n",
       "537065     False  False  False  False  False  False  False   False    False   \n",
       "537463     False  False  False  False  False  False  False   False    False   \n",
       "...          ...    ...    ...    ...    ...    ...    ...     ...      ...   \n",
       "580986     False  False  False  False  False  False  False   False    False   \n",
       "581001     False  False  False  False  False  False  False   False    False   \n",
       "581171     False  False  False  False  False  False  False   False    False   \n",
       "581279     False  False  False  False  False  False  False   False    False   \n",
       "581587     False  False  False  False  False  False  False   False    False   \n",
       "\n",
       "StockCode  15056N  ...  90030C  90031  90099  90184B  90184C  90201B  90201C  \\\n",
       "Invoice            ...                                                         \n",
       "536370      False  ...   False  False  False   False   False   False   False   \n",
       "536852      False  ...   False  False  False   False   False   False   False   \n",
       "536974      False  ...   False  False  False   False   False   False   False   \n",
       "537065      False  ...   False  False  False   False   False   False   False   \n",
       "537463      False  ...   False  False  False   False   False   False   False   \n",
       "...           ...  ...     ...    ...    ...     ...     ...     ...     ...   \n",
       "580986      False  ...   False  False  False   False   False   False   False   \n",
       "581001      False  ...   False  False  False   False   False   False   False   \n",
       "581171      False  ...   False  False  False   False   False   False   False   \n",
       "581279      False  ...   False  False  False   False   False   False   False   \n",
       "581587      False  ...   False  False  False   False   False   False   False   \n",
       "\n",
       "StockCode     C2      M  POST  \n",
       "Invoice                        \n",
       "536370     False  False  True  \n",
       "536852     False  False  True  \n",
       "536974     False  False  True  \n",
       "537065     False  False  True  \n",
       "537463     False  False  True  \n",
       "...          ...    ...   ...  \n",
       "580986     False  False  True  \n",
       "581001     False  False  True  \n",
       "581171     False  False  True  \n",
       "581279     False  False  True  \n",
       "581587     False  False  True  \n",
       "\n",
       "[389 rows x 1522 columns]"
      ]
     },
     "execution_count": 16,
     "metadata": {},
     "output_type": "execute_result"
    }
   ],
   "source": [
    "inv_pro_matrix"
   ]
  },
  {
   "cell_type": "markdown",
   "id": "42d0cd3d",
   "metadata": {
    "papermill": {
     "duration": 0.038603,
     "end_time": "2023-11-13T12:26:58.771020",
     "exception": false,
     "start_time": "2023-11-13T12:26:58.732417",
     "status": "completed"
    },
    "tags": []
   },
   "source": [
    "----"
   ]
  },
  {
   "cell_type": "code",
   "execution_count": 17,
   "id": "3e56f4a8",
   "metadata": {
    "execution": {
     "iopub.execute_input": "2023-11-13T12:26:58.848670Z",
     "iopub.status.busy": "2023-11-13T12:26:58.847532Z",
     "iopub.status.idle": "2023-11-13T12:26:58.852712Z",
     "shell.execute_reply": "2023-11-13T12:26:58.851964Z"
    },
    "papermill": {
     "duration": 0.046158,
     "end_time": "2023-11-13T12:26:58.854686",
     "exception": false,
     "start_time": "2023-11-13T12:26:58.808528",
     "status": "completed"
    },
    "tags": []
   },
   "outputs": [],
   "source": [
    "def check_id(dataframe, stock_code):\n",
    "    \n",
    "    product_name = dataframe[dataframe[\"StockCode\"] == stock_code][[\"Description\"]].values[0].tolist()\n",
    "    print(product_name)"
   ]
  },
  {
   "cell_type": "code",
   "execution_count": 18,
   "id": "d68ea86d",
   "metadata": {
    "execution": {
     "iopub.execute_input": "2023-11-13T12:26:58.933042Z",
     "iopub.status.busy": "2023-11-13T12:26:58.932335Z",
     "iopub.status.idle": "2023-11-13T12:26:58.942348Z",
     "shell.execute_reply": "2023-11-13T12:26:58.941302Z"
    },
    "papermill": {
     "duration": 0.052219,
     "end_time": "2023-11-13T12:26:58.944639",
     "exception": false,
     "start_time": "2023-11-13T12:26:58.892420",
     "status": "completed"
    },
    "tags": []
   },
   "outputs": [
    {
     "name": "stdout",
     "output_type": "stream",
     "text": [
      "['DOGGY RUBBER']\n"
     ]
    }
   ],
   "source": [
    "check_id(df_fr, \"10120\")"
   ]
  },
  {
   "cell_type": "markdown",
   "id": "cf5075a3",
   "metadata": {
    "papermill": {
     "duration": 0.037165,
     "end_time": "2023-11-13T12:26:59.019531",
     "exception": false,
     "start_time": "2023-11-13T12:26:58.982366",
     "status": "completed"
    },
    "tags": []
   },
   "source": [
    "-----"
   ]
  },
  {
   "cell_type": "markdown",
   "id": "23aef195",
   "metadata": {
    "papermill": {
     "duration": 0.037049,
     "end_time": "2023-11-13T12:26:59.094303",
     "exception": false,
     "start_time": "2023-11-13T12:26:59.057254",
     "status": "completed"
    },
    "tags": []
   },
   "source": [
    "<a id = \"6\"></a><br>\n",
    "<div style=\"font-family:JetBrains Mono; font-weight:bold; letter-spacing: 2px; color:#E5788F; font-size:150%; text-align:left; padding: 0px;\">Association Rules</div>"
   ]
  },
  {
   "cell_type": "code",
   "execution_count": 19,
   "id": "632b8bc6",
   "metadata": {
    "execution": {
     "iopub.execute_input": "2023-11-13T12:26:59.172915Z",
     "iopub.status.busy": "2023-11-13T12:26:59.171887Z",
     "iopub.status.idle": "2023-11-13T12:27:08.430544Z",
     "shell.execute_reply": "2023-11-13T12:27:08.429497Z"
    },
    "papermill": {
     "duration": 9.301523,
     "end_time": "2023-11-13T12:27:08.433224",
     "exception": false,
     "start_time": "2023-11-13T12:26:59.131701",
     "status": "completed"
    },
    "tags": []
   },
   "outputs": [],
   "source": [
    "frequent_itemsets = apriori(inv_pro_matrix,\n",
    "                            min_support=0.01,\n",
    "                            use_colnames=True)"
   ]
  },
  {
   "cell_type": "markdown",
   "id": "29d90e52",
   "metadata": {
    "papermill": {
     "duration": 0.037772,
     "end_time": "2023-11-13T12:27:08.509069",
     "exception": false,
     "start_time": "2023-11-13T12:27:08.471297",
     "status": "completed"
    },
    "tags": []
   },
   "source": [
    "<div style=\"border-radius:10px; border:#65647C solid; padding: 15px; background-color: #F8EDE3; font-size:100%; text-align:left\">\n",
    "\n",
    "<h3 align=\"left\"><font color='#7D6E83'><b>🗨️ Comment: </b></font></h3>\n",
    "\n",
    "* Burada Apriori algoritması yardımıyla sık görülen itemset'leri oluşturuyoruz.\n",
    "* min_support parametresi ile de yalnızca belirli bir eşik değerini geçen öğeleri alıyoruz.\n",
    "* use_colnames parametresi ile de öğelerin gerçek adlarını kullanıyoruz."
   ]
  },
  {
   "cell_type": "code",
   "execution_count": 20,
   "id": "94d141b8",
   "metadata": {
    "execution": {
     "iopub.execute_input": "2023-11-13T12:27:08.586623Z",
     "iopub.status.busy": "2023-11-13T12:27:08.585611Z",
     "iopub.status.idle": "2023-11-13T12:27:08.604178Z",
     "shell.execute_reply": "2023-11-13T12:27:08.603461Z"
    },
    "papermill": {
     "duration": 0.059492,
     "end_time": "2023-11-13T12:27:08.606032",
     "exception": false,
     "start_time": "2023-11-13T12:27:08.546540",
     "status": "completed"
    },
    "tags": []
   },
   "outputs": [
    {
     "data": {
      "text/html": [
       "<div>\n",
       "<style scoped>\n",
       "    .dataframe tbody tr th:only-of-type {\n",
       "        vertical-align: middle;\n",
       "    }\n",
       "\n",
       "    .dataframe tbody tr th {\n",
       "        vertical-align: top;\n",
       "    }\n",
       "\n",
       "    .dataframe thead th {\n",
       "        text-align: right;\n",
       "    }\n",
       "</style>\n",
       "<table border=\"1\" class=\"dataframe\">\n",
       "  <thead>\n",
       "    <tr style=\"text-align: right;\">\n",
       "      <th></th>\n",
       "      <th>support</th>\n",
       "      <th>itemsets</th>\n",
       "    </tr>\n",
       "  </thead>\n",
       "  <tbody>\n",
       "    <tr>\n",
       "      <th>538</th>\n",
       "      <td>0.773779</td>\n",
       "      <td>(POST)</td>\n",
       "    </tr>\n",
       "    <tr>\n",
       "      <th>392</th>\n",
       "      <td>0.187661</td>\n",
       "      <td>(23084)</td>\n",
       "    </tr>\n",
       "    <tr>\n",
       "      <th>112</th>\n",
       "      <td>0.179949</td>\n",
       "      <td>(21731)</td>\n",
       "    </tr>\n",
       "    <tr>\n",
       "      <th>248</th>\n",
       "      <td>0.172237</td>\n",
       "      <td>(22554)</td>\n",
       "    </tr>\n",
       "    <tr>\n",
       "      <th>250</th>\n",
       "      <td>0.169666</td>\n",
       "      <td>(22556)</td>\n",
       "    </tr>\n",
       "    <tr>\n",
       "      <th>...</th>\n",
       "      <td>...</td>\n",
       "      <td>...</td>\n",
       "    </tr>\n",
       "    <tr>\n",
       "      <th>18790</th>\n",
       "      <td>0.010283</td>\n",
       "      <td>(21086, 22382, 23256, 22326)</td>\n",
       "    </tr>\n",
       "    <tr>\n",
       "      <th>18789</th>\n",
       "      <td>0.010283</td>\n",
       "      <td>(21086, 22382, 22326, 22728)</td>\n",
       "    </tr>\n",
       "    <tr>\n",
       "      <th>18788</th>\n",
       "      <td>0.010283</td>\n",
       "      <td>(21086, 22382, 22326, 22727)</td>\n",
       "    </tr>\n",
       "    <tr>\n",
       "      <th>18787</th>\n",
       "      <td>0.010283</td>\n",
       "      <td>(21086, 22382, 22726, 22326)</td>\n",
       "    </tr>\n",
       "    <tr>\n",
       "      <th>40654</th>\n",
       "      <td>0.010283</td>\n",
       "      <td>(22352, 20750, 23291, 23206, 23199, 22659, 215...</td>\n",
       "    </tr>\n",
       "  </tbody>\n",
       "</table>\n",
       "<p>40655 rows × 2 columns</p>\n",
       "</div>"
      ],
      "text/plain": [
       "        support                                           itemsets\n",
       "538    0.773779                                             (POST)\n",
       "392    0.187661                                            (23084)\n",
       "112    0.179949                                            (21731)\n",
       "248    0.172237                                            (22554)\n",
       "250    0.169666                                            (22556)\n",
       "...         ...                                                ...\n",
       "18790  0.010283                       (21086, 22382, 23256, 22326)\n",
       "18789  0.010283                       (21086, 22382, 22326, 22728)\n",
       "18788  0.010283                       (21086, 22382, 22326, 22727)\n",
       "18787  0.010283                       (21086, 22382, 22726, 22326)\n",
       "40654  0.010283  (22352, 20750, 23291, 23206, 23199, 22659, 215...\n",
       "\n",
       "[40655 rows x 2 columns]"
      ]
     },
     "execution_count": 20,
     "metadata": {},
     "output_type": "execute_result"
    }
   ],
   "source": [
    "frequent_itemsets.sort_values(\"support\", ascending=False)"
   ]
  },
  {
   "cell_type": "code",
   "execution_count": 21,
   "id": "726d4940",
   "metadata": {
    "execution": {
     "iopub.execute_input": "2023-11-13T12:27:08.685022Z",
     "iopub.status.busy": "2023-11-13T12:27:08.684348Z",
     "iopub.status.idle": "2023-11-13T12:27:21.561349Z",
     "shell.execute_reply": "2023-11-13T12:27:21.560184Z"
    },
    "papermill": {
     "duration": 12.919541,
     "end_time": "2023-11-13T12:27:21.563999",
     "exception": false,
     "start_time": "2023-11-13T12:27:08.644458",
     "status": "completed"
    },
    "tags": []
   },
   "outputs": [],
   "source": [
    "rules = association_rules(frequent_itemsets,\n",
    "                          metric=\"support\",\n",
    "                          min_threshold=0.01)"
   ]
  },
  {
   "cell_type": "markdown",
   "id": "32786447",
   "metadata": {
    "papermill": {
     "duration": 0.038345,
     "end_time": "2023-11-13T12:27:21.641307",
     "exception": false,
     "start_time": "2023-11-13T12:27:21.602962",
     "status": "completed"
    },
    "tags": []
   },
   "source": [
    "<div style=\"border-radius:10px; border:#65647C solid; padding: 15px; background-color: #F8EDE3; font-size:100%; text-align:left\">\n",
    "\n",
    "<h3 align=\"left\"><font color='#7D6E83'><b>🗨️ Comment: </b></font></h3>\n",
    "\n",
    "* Bu noktada birliktelik kurallarını oluşturuyoruz.\n",
    "* Birliktelik kuralları belirli bir support destek eşiğine göre hesaplanıp, sıralanır."
   ]
  },
  {
   "cell_type": "code",
   "execution_count": 22,
   "id": "c29e792d",
   "metadata": {
    "execution": {
     "iopub.execute_input": "2023-11-13T12:27:21.719964Z",
     "iopub.status.busy": "2023-11-13T12:27:21.719522Z",
     "iopub.status.idle": "2023-11-13T12:27:22.236112Z",
     "shell.execute_reply": "2023-11-13T12:27:22.234978Z"
    },
    "papermill": {
     "duration": 0.558667,
     "end_time": "2023-11-13T12:27:22.238778",
     "exception": false,
     "start_time": "2023-11-13T12:27:21.680111",
     "status": "completed"
    },
    "tags": []
   },
   "outputs": [
    {
     "data": {
      "text/html": [
       "<div>\n",
       "<style scoped>\n",
       "    .dataframe tbody tr th:only-of-type {\n",
       "        vertical-align: middle;\n",
       "    }\n",
       "\n",
       "    .dataframe tbody tr th {\n",
       "        vertical-align: top;\n",
       "    }\n",
       "\n",
       "    .dataframe thead th {\n",
       "        text-align: right;\n",
       "    }\n",
       "</style>\n",
       "<table border=\"1\" class=\"dataframe\">\n",
       "  <thead>\n",
       "    <tr style=\"text-align: right;\">\n",
       "      <th></th>\n",
       "      <th>count</th>\n",
       "      <th>mean</th>\n",
       "      <th>std</th>\n",
       "      <th>min</th>\n",
       "      <th>25%</th>\n",
       "      <th>50%</th>\n",
       "      <th>75%</th>\n",
       "      <th>max</th>\n",
       "    </tr>\n",
       "  </thead>\n",
       "  <tbody>\n",
       "    <tr>\n",
       "      <th>antecedent support</th>\n",
       "      <td>1372704.0</td>\n",
       "      <td>0.034928</td>\n",
       "      <td>0.072807</td>\n",
       "      <td>0.010283</td>\n",
       "      <td>0.010283</td>\n",
       "      <td>0.012853</td>\n",
       "      <td>0.028278</td>\n",
       "      <td>0.773779</td>\n",
       "    </tr>\n",
       "    <tr>\n",
       "      <th>consequent support</th>\n",
       "      <td>1372704.0</td>\n",
       "      <td>0.034928</td>\n",
       "      <td>0.072807</td>\n",
       "      <td>0.010283</td>\n",
       "      <td>0.010283</td>\n",
       "      <td>0.012853</td>\n",
       "      <td>0.028278</td>\n",
       "      <td>0.773779</td>\n",
       "    </tr>\n",
       "    <tr>\n",
       "      <th>support</th>\n",
       "      <td>1372704.0</td>\n",
       "      <td>0.010810</td>\n",
       "      <td>0.002242</td>\n",
       "      <td>0.010283</td>\n",
       "      <td>0.010283</td>\n",
       "      <td>0.010283</td>\n",
       "      <td>0.010283</td>\n",
       "      <td>0.167095</td>\n",
       "    </tr>\n",
       "    <tr>\n",
       "      <th>confidence</th>\n",
       "      <td>1372704.0</td>\n",
       "      <td>0.675912</td>\n",
       "      <td>0.337215</td>\n",
       "      <td>0.013289</td>\n",
       "      <td>0.363636</td>\n",
       "      <td>0.800000</td>\n",
       "      <td>1.000000</td>\n",
       "      <td>1.000000</td>\n",
       "    </tr>\n",
       "    <tr>\n",
       "      <th>lift</th>\n",
       "      <td>1372704.0</td>\n",
       "      <td>43.230717</td>\n",
       "      <td>34.530939</td>\n",
       "      <td>0.409905</td>\n",
       "      <td>10.805556</td>\n",
       "      <td>32.416667</td>\n",
       "      <td>77.800000</td>\n",
       "      <td>97.250000</td>\n",
       "    </tr>\n",
       "    <tr>\n",
       "      <th>leverage</th>\n",
       "      <td>1372704.0</td>\n",
       "      <td>0.009889</td>\n",
       "      <td>0.001936</td>\n",
       "      <td>-0.014803</td>\n",
       "      <td>0.009595</td>\n",
       "      <td>0.010051</td>\n",
       "      <td>0.010177</td>\n",
       "      <td>0.105550</td>\n",
       "    </tr>\n",
       "    <tr>\n",
       "      <th>conviction</th>\n",
       "      <td>1372704.0</td>\n",
       "      <td>inf</td>\n",
       "      <td>NaN</td>\n",
       "      <td>0.355490</td>\n",
       "      <td>1.547191</td>\n",
       "      <td>4.845758</td>\n",
       "      <td>NaN</td>\n",
       "      <td>inf</td>\n",
       "    </tr>\n",
       "    <tr>\n",
       "      <th>zhangs_metric</th>\n",
       "      <td>1372704.0</td>\n",
       "      <td>0.954213</td>\n",
       "      <td>0.118284</td>\n",
       "      <td>-0.832938</td>\n",
       "      <td>0.960938</td>\n",
       "      <td>0.994751</td>\n",
       "      <td>1.000000</td>\n",
       "      <td>1.000000</td>\n",
       "    </tr>\n",
       "  </tbody>\n",
       "</table>\n",
       "</div>"
      ],
      "text/plain": [
       "                        count       mean        std       min        25%  \\\n",
       "antecedent support  1372704.0   0.034928   0.072807  0.010283   0.010283   \n",
       "consequent support  1372704.0   0.034928   0.072807  0.010283   0.010283   \n",
       "support             1372704.0   0.010810   0.002242  0.010283   0.010283   \n",
       "confidence          1372704.0   0.675912   0.337215  0.013289   0.363636   \n",
       "lift                1372704.0  43.230717  34.530939  0.409905  10.805556   \n",
       "leverage            1372704.0   0.009889   0.001936 -0.014803   0.009595   \n",
       "conviction          1372704.0        inf        NaN  0.355490   1.547191   \n",
       "zhangs_metric       1372704.0   0.954213   0.118284 -0.832938   0.960938   \n",
       "\n",
       "                          50%        75%        max  \n",
       "antecedent support   0.012853   0.028278   0.773779  \n",
       "consequent support   0.012853   0.028278   0.773779  \n",
       "support              0.010283   0.010283   0.167095  \n",
       "confidence           0.800000   1.000000   1.000000  \n",
       "lift                32.416667  77.800000  97.250000  \n",
       "leverage             0.010051   0.010177   0.105550  \n",
       "conviction           4.845758        NaN        inf  \n",
       "zhangs_metric        0.994751   1.000000   1.000000  "
      ]
     },
     "execution_count": 22,
     "metadata": {},
     "output_type": "execute_result"
    }
   ],
   "source": [
    "rules.describe().T"
   ]
  },
  {
   "cell_type": "code",
   "execution_count": 23,
   "id": "afc78b00",
   "metadata": {
    "execution": {
     "iopub.execute_input": "2023-11-13T12:27:22.318203Z",
     "iopub.status.busy": "2023-11-13T12:27:22.317756Z",
     "iopub.status.idle": "2023-11-13T12:27:22.351707Z",
     "shell.execute_reply": "2023-11-13T12:27:22.350689Z"
    },
    "papermill": {
     "duration": 0.076386,
     "end_time": "2023-11-13T12:27:22.354320",
     "exception": false,
     "start_time": "2023-11-13T12:27:22.277934",
     "status": "completed"
    },
    "tags": []
   },
   "outputs": [
    {
     "data": {
      "text/html": [
       "<div>\n",
       "<style scoped>\n",
       "    .dataframe tbody tr th:only-of-type {\n",
       "        vertical-align: middle;\n",
       "    }\n",
       "\n",
       "    .dataframe tbody tr th {\n",
       "        vertical-align: top;\n",
       "    }\n",
       "\n",
       "    .dataframe thead th {\n",
       "        text-align: right;\n",
       "    }\n",
       "</style>\n",
       "<table border=\"1\" class=\"dataframe\">\n",
       "  <thead>\n",
       "    <tr style=\"text-align: right;\">\n",
       "      <th></th>\n",
       "      <th>antecedents</th>\n",
       "      <th>consequents</th>\n",
       "      <th>antecedent support</th>\n",
       "      <th>consequent support</th>\n",
       "      <th>support</th>\n",
       "      <th>confidence</th>\n",
       "      <th>lift</th>\n",
       "      <th>leverage</th>\n",
       "      <th>conviction</th>\n",
       "      <th>zhangs_metric</th>\n",
       "    </tr>\n",
       "  </thead>\n",
       "  <tbody>\n",
       "    <tr>\n",
       "      <th>23826</th>\n",
       "      <td>(21080, 21086)</td>\n",
       "      <td>(21094)</td>\n",
       "      <td>0.102828</td>\n",
       "      <td>0.128535</td>\n",
       "      <td>0.100257</td>\n",
       "      <td>0.975000</td>\n",
       "      <td>7.585500</td>\n",
       "      <td>0.087040</td>\n",
       "      <td>34.858612</td>\n",
       "      <td>0.967673</td>\n",
       "    </tr>\n",
       "    <tr>\n",
       "      <th>23827</th>\n",
       "      <td>(21080, 21094)</td>\n",
       "      <td>(21086)</td>\n",
       "      <td>0.102828</td>\n",
       "      <td>0.138817</td>\n",
       "      <td>0.100257</td>\n",
       "      <td>0.975000</td>\n",
       "      <td>7.023611</td>\n",
       "      <td>0.085983</td>\n",
       "      <td>34.447301</td>\n",
       "      <td>0.955918</td>\n",
       "    </tr>\n",
       "    <tr>\n",
       "      <th>108920</th>\n",
       "      <td>(21080, 21094, POST)</td>\n",
       "      <td>(21086)</td>\n",
       "      <td>0.084833</td>\n",
       "      <td>0.138817</td>\n",
       "      <td>0.082262</td>\n",
       "      <td>0.969697</td>\n",
       "      <td>6.985410</td>\n",
       "      <td>0.070486</td>\n",
       "      <td>28.419023</td>\n",
       "      <td>0.936271</td>\n",
       "    </tr>\n",
       "    <tr>\n",
       "      <th>108919</th>\n",
       "      <td>(21080, 21086, POST)</td>\n",
       "      <td>(21094)</td>\n",
       "      <td>0.084833</td>\n",
       "      <td>0.128535</td>\n",
       "      <td>0.082262</td>\n",
       "      <td>0.969697</td>\n",
       "      <td>7.544242</td>\n",
       "      <td>0.071358</td>\n",
       "      <td>28.758355</td>\n",
       "      <td>0.947858</td>\n",
       "    </tr>\n",
       "    <tr>\n",
       "      <th>1823</th>\n",
       "      <td>(21094)</td>\n",
       "      <td>(21086)</td>\n",
       "      <td>0.128535</td>\n",
       "      <td>0.138817</td>\n",
       "      <td>0.123393</td>\n",
       "      <td>0.960000</td>\n",
       "      <td>6.915556</td>\n",
       "      <td>0.105550</td>\n",
       "      <td>21.529563</td>\n",
       "      <td>0.981563</td>\n",
       "    </tr>\n",
       "    <tr>\n",
       "      <th>26198</th>\n",
       "      <td>(21094, POST)</td>\n",
       "      <td>(21086)</td>\n",
       "      <td>0.107969</td>\n",
       "      <td>0.138817</td>\n",
       "      <td>0.102828</td>\n",
       "      <td>0.952381</td>\n",
       "      <td>6.860670</td>\n",
       "      <td>0.087840</td>\n",
       "      <td>18.084833</td>\n",
       "      <td>0.957637</td>\n",
       "    </tr>\n",
       "    <tr>\n",
       "      <th>9038</th>\n",
       "      <td>(23256)</td>\n",
       "      <td>(23254)</td>\n",
       "      <td>0.069409</td>\n",
       "      <td>0.071979</td>\n",
       "      <td>0.064267</td>\n",
       "      <td>0.925926</td>\n",
       "      <td>12.863757</td>\n",
       "      <td>0.059271</td>\n",
       "      <td>12.528278</td>\n",
       "      <td>0.991050</td>\n",
       "    </tr>\n",
       "    <tr>\n",
       "      <th>213947</th>\n",
       "      <td>(POST, 22726, 22728)</td>\n",
       "      <td>(22727)</td>\n",
       "      <td>0.064267</td>\n",
       "      <td>0.095116</td>\n",
       "      <td>0.059126</td>\n",
       "      <td>0.920000</td>\n",
       "      <td>9.672432</td>\n",
       "      <td>0.053013</td>\n",
       "      <td>11.311054</td>\n",
       "      <td>0.958194</td>\n",
       "    </tr>\n",
       "    <tr>\n",
       "      <th>3844</th>\n",
       "      <td>(21988)</td>\n",
       "      <td>(21987)</td>\n",
       "      <td>0.056555</td>\n",
       "      <td>0.064267</td>\n",
       "      <td>0.051414</td>\n",
       "      <td>0.909091</td>\n",
       "      <td>14.145455</td>\n",
       "      <td>0.047779</td>\n",
       "      <td>10.293059</td>\n",
       "      <td>0.985014</td>\n",
       "    </tr>\n",
       "    <tr>\n",
       "      <th>9039</th>\n",
       "      <td>(23254)</td>\n",
       "      <td>(23256)</td>\n",
       "      <td>0.071979</td>\n",
       "      <td>0.069409</td>\n",
       "      <td>0.064267</td>\n",
       "      <td>0.892857</td>\n",
       "      <td>12.863757</td>\n",
       "      <td>0.059271</td>\n",
       "      <td>8.685518</td>\n",
       "      <td>0.993795</td>\n",
       "    </tr>\n",
       "  </tbody>\n",
       "</table>\n",
       "</div>"
      ],
      "text/plain": [
       "                 antecedents consequents  antecedent support  \\\n",
       "23826         (21080, 21086)     (21094)            0.102828   \n",
       "23827         (21080, 21094)     (21086)            0.102828   \n",
       "108920  (21080, 21094, POST)     (21086)            0.084833   \n",
       "108919  (21080, 21086, POST)     (21094)            0.084833   \n",
       "1823                 (21094)     (21086)            0.128535   \n",
       "26198          (21094, POST)     (21086)            0.107969   \n",
       "9038                 (23256)     (23254)            0.069409   \n",
       "213947  (POST, 22726, 22728)     (22727)            0.064267   \n",
       "3844                 (21988)     (21987)            0.056555   \n",
       "9039                 (23254)     (23256)            0.071979   \n",
       "\n",
       "        consequent support   support  confidence       lift  leverage  \\\n",
       "23826             0.128535  0.100257    0.975000   7.585500  0.087040   \n",
       "23827             0.138817  0.100257    0.975000   7.023611  0.085983   \n",
       "108920            0.138817  0.082262    0.969697   6.985410  0.070486   \n",
       "108919            0.128535  0.082262    0.969697   7.544242  0.071358   \n",
       "1823              0.138817  0.123393    0.960000   6.915556  0.105550   \n",
       "26198             0.138817  0.102828    0.952381   6.860670  0.087840   \n",
       "9038              0.071979  0.064267    0.925926  12.863757  0.059271   \n",
       "213947            0.095116  0.059126    0.920000   9.672432  0.053013   \n",
       "3844              0.064267  0.051414    0.909091  14.145455  0.047779   \n",
       "9039              0.069409  0.064267    0.892857  12.863757  0.059271   \n",
       "\n",
       "        conviction  zhangs_metric  \n",
       "23826    34.858612       0.967673  \n",
       "23827    34.447301       0.955918  \n",
       "108920   28.419023       0.936271  \n",
       "108919   28.758355       0.947858  \n",
       "1823     21.529563       0.981563  \n",
       "26198    18.084833       0.957637  \n",
       "9038     12.528278       0.991050  \n",
       "213947   11.311054       0.958194  \n",
       "3844     10.293059       0.985014  \n",
       "9039      8.685518       0.993795  "
      ]
     },
     "execution_count": 23,
     "metadata": {},
     "output_type": "execute_result"
    }
   ],
   "source": [
    "rules[(rules[\"support\"]>0.05) & (rules[\"confidence\"]>0.1) & (rules[\"lift\"]>5)]. \\\n",
    "sort_values(\"confidence\", ascending=False).head(10)"
   ]
  },
  {
   "cell_type": "code",
   "execution_count": 24,
   "id": "acccbf45",
   "metadata": {
    "execution": {
     "iopub.execute_input": "2023-11-13T12:27:22.437148Z",
     "iopub.status.busy": "2023-11-13T12:27:22.436726Z",
     "iopub.status.idle": "2023-11-13T12:27:22.445119Z",
     "shell.execute_reply": "2023-11-13T12:27:22.443911Z"
    },
    "papermill": {
     "duration": 0.053347,
     "end_time": "2023-11-13T12:27:22.447704",
     "exception": false,
     "start_time": "2023-11-13T12:27:22.394357",
     "status": "completed"
    },
    "tags": []
   },
   "outputs": [
    {
     "name": "stdout",
     "output_type": "stream",
     "text": [
      "['SET/6 RED SPOTTY PAPER PLATES']\n"
     ]
    }
   ],
   "source": [
    "check_id(df_fr, \"21094\")"
   ]
  },
  {
   "cell_type": "markdown",
   "id": "b6f386be",
   "metadata": {
    "papermill": {
     "duration": 0.038205,
     "end_time": "2023-11-13T12:27:22.524851",
     "exception": false,
     "start_time": "2023-11-13T12:27:22.486646",
     "status": "completed"
    },
    "tags": []
   },
   "source": [
    "<a id = \"7\"></a><br>\n",
    "<div style=\"font-family:JetBrains Mono; font-weight:bold; letter-spacing: 2px; color:#E5788F; font-size:150%; text-align:left; padding: 0px;\">Product Recommendation</div>"
   ]
  },
  {
   "cell_type": "code",
   "execution_count": 25,
   "id": "7b992d51",
   "metadata": {
    "execution": {
     "iopub.execute_input": "2023-11-13T12:27:22.603607Z",
     "iopub.status.busy": "2023-11-13T12:27:22.603245Z",
     "iopub.status.idle": "2023-11-13T12:27:23.029300Z",
     "shell.execute_reply": "2023-11-13T12:27:23.028278Z"
    },
    "papermill": {
     "duration": 0.468557,
     "end_time": "2023-11-13T12:27:23.031787",
     "exception": false,
     "start_time": "2023-11-13T12:27:22.563230",
     "status": "completed"
    },
    "tags": []
   },
   "outputs": [],
   "source": [
    "sorted_rules = rules.sort_values(\"lift\", ascending=False)"
   ]
  },
  {
   "cell_type": "code",
   "execution_count": 26,
   "id": "a13aea3e",
   "metadata": {
    "execution": {
     "iopub.execute_input": "2023-11-13T12:27:23.112678Z",
     "iopub.status.busy": "2023-11-13T12:27:23.112276Z",
     "iopub.status.idle": "2023-11-13T12:27:23.152766Z",
     "shell.execute_reply": "2023-11-13T12:27:23.151498Z"
    },
    "papermill": {
     "duration": 0.083529,
     "end_time": "2023-11-13T12:27:23.155327",
     "exception": false,
     "start_time": "2023-11-13T12:27:23.071798",
     "status": "completed"
    },
    "tags": []
   },
   "outputs": [
    {
     "name": "stdout",
     "output_type": "stream",
     "text": [
      "['SET/20 RED RETROSPOT PAPER NAPKINS ']\n"
     ]
    }
   ],
   "source": [
    "product_id = \"21080\"\n",
    "check_id(df, product_id)"
   ]
  },
  {
   "cell_type": "code",
   "execution_count": 27,
   "id": "f049f5d4",
   "metadata": {
    "execution": {
     "iopub.execute_input": "2023-11-13T12:27:23.235742Z",
     "iopub.status.busy": "2023-11-13T12:27:23.235100Z",
     "iopub.status.idle": "2023-11-13T12:27:23.878983Z",
     "shell.execute_reply": "2023-11-13T12:27:23.877855Z"
    },
    "papermill": {
     "duration": 0.687457,
     "end_time": "2023-11-13T12:27:23.881700",
     "exception": false,
     "start_time": "2023-11-13T12:27:23.194243",
     "status": "completed"
    },
    "tags": []
   },
   "outputs": [],
   "source": [
    "recommendation_list = sorted_rules.loc[sorted_rules[\"antecedents\"].apply(lambda x: product_id in x), \"consequents\"].head(3).tolist()"
   ]
  },
  {
   "cell_type": "code",
   "execution_count": 28,
   "id": "410a2d16",
   "metadata": {
    "execution": {
     "iopub.execute_input": "2023-11-13T12:27:23.960732Z",
     "iopub.status.busy": "2023-11-13T12:27:23.960391Z",
     "iopub.status.idle": "2023-11-13T12:27:23.966529Z",
     "shell.execute_reply": "2023-11-13T12:27:23.965643Z"
    },
    "papermill": {
     "duration": 0.048349,
     "end_time": "2023-11-13T12:27:23.968549",
     "exception": false,
     "start_time": "2023-11-13T12:27:23.920200",
     "status": "completed"
    },
    "tags": []
   },
   "outputs": [
    {
     "data": {
      "text/plain": [
       "[frozenset({'21086', '21094', '22492', '22556', '22728'}),\n",
       " frozenset({'21086', '22492', '22556', '22728'}),\n",
       " frozenset({'21086', '22492', '22551', '22556'})]"
      ]
     },
     "execution_count": 28,
     "metadata": {},
     "output_type": "execute_result"
    }
   ],
   "source": [
    "recommendation_list"
   ]
  },
  {
   "cell_type": "code",
   "execution_count": 29,
   "id": "5bc9aeee",
   "metadata": {
    "execution": {
     "iopub.execute_input": "2023-11-13T12:27:24.047361Z",
     "iopub.status.busy": "2023-11-13T12:27:24.046407Z",
     "iopub.status.idle": "2023-11-13T12:27:24.053136Z",
     "shell.execute_reply": "2023-11-13T12:27:24.052147Z"
    },
    "papermill": {
     "duration": 0.048015,
     "end_time": "2023-11-13T12:27:24.055012",
     "exception": false,
     "start_time": "2023-11-13T12:27:24.006997",
     "status": "completed"
    },
    "tags": []
   },
   "outputs": [],
   "source": [
    "def arl_recommender(rules_df, product_id, rec=1):\n",
    "    \n",
    "    sorted_rules = rules_df.sort_values(\"lift\", ascending=False)\n",
    "    \n",
    "    recommendation_list = []\n",
    "    \n",
    "    for i, product in enumerate(sorted_rules[\"antecedents\"]):\n",
    "        \n",
    "        for j in list(product):\n",
    "            \n",
    "            if j == product_id:\n",
    "                \n",
    "                for k in list(sorted_rules.iloc[i][\"consequents\"]):\n",
    "                \n",
    "                    if k not in recommendation_list:\n",
    "                        \n",
    "                        recommendation_list.append(k)\n",
    "\n",
    "    return recommendation_list[0:rec]"
   ]
  },
  {
   "cell_type": "markdown",
   "id": "895592bb",
   "metadata": {
    "papermill": {
     "duration": 0.038186,
     "end_time": "2023-11-13T12:27:24.131574",
     "exception": false,
     "start_time": "2023-11-13T12:27:24.093388",
     "status": "completed"
    },
    "tags": []
   },
   "source": [
    "<div style=\"border-radius:10px; border:#65647C solid; padding: 15px; background-color: #F8EDE3; font-size:100%; text-align:left\">\n",
    "\n",
    "<h3 align=\"left\"><font color='#7D6E83'><b>🗨️ Comment: </b></font></h3>\n",
    "\n",
    "* Bu fonksiyon ile ilişki kuralları, \"lift\" metriğine göre sıralanır ve bir ürünün \"antecedents\" sütununda bulunanlar arasından tavsiyeler oluşturulur.\n",
    "* Tavsiye ürünleri \"consequents\" sütunundan çeker. Bu sayede hedef ürün ile lift metriğine göre en yüksek ilişkide olan tasviyeleri elde edebiliriz."
   ]
  },
  {
   "cell_type": "code",
   "execution_count": 30,
   "id": "ffcb38f6",
   "metadata": {
    "execution": {
     "iopub.execute_input": "2023-11-13T12:27:24.210503Z",
     "iopub.status.busy": "2023-11-13T12:27:24.209487Z",
     "iopub.status.idle": "2023-11-13T12:27:27.188813Z",
     "shell.execute_reply": "2023-11-13T12:27:27.187881Z"
    },
    "papermill": {
     "duration": 3.021599,
     "end_time": "2023-11-13T12:27:27.191374",
     "exception": false,
     "start_time": "2023-11-13T12:27:24.169775",
     "status": "completed"
    },
    "tags": []
   },
   "outputs": [
    {
     "data": {
      "text/plain": [
       "['23238']"
      ]
     },
     "execution_count": 30,
     "metadata": {},
     "output_type": "execute_result"
    }
   ],
   "source": [
    "arl_recommender(rules, \"22492\", 1)"
   ]
  },
  {
   "cell_type": "code",
   "execution_count": 31,
   "id": "e4927753",
   "metadata": {
    "execution": {
     "iopub.execute_input": "2023-11-13T12:27:27.274297Z",
     "iopub.status.busy": "2023-11-13T12:27:27.273928Z",
     "iopub.status.idle": "2023-11-13T12:27:30.292809Z",
     "shell.execute_reply": "2023-11-13T12:27:30.291802Z"
    },
    "papermill": {
     "duration": 3.06347,
     "end_time": "2023-11-13T12:27:30.295144",
     "exception": false,
     "start_time": "2023-11-13T12:27:27.231674",
     "status": "completed"
    },
    "tags": []
   },
   "outputs": [
    {
     "data": {
      "text/plain": [
       "['23238', '22551']"
      ]
     },
     "execution_count": 31,
     "metadata": {},
     "output_type": "execute_result"
    }
   ],
   "source": [
    "arl_recommender(rules, \"22492\", 2)"
   ]
  },
  {
   "cell_type": "code",
   "execution_count": 32,
   "id": "50f59d00",
   "metadata": {
    "execution": {
     "iopub.execute_input": "2023-11-13T12:27:30.374328Z",
     "iopub.status.busy": "2023-11-13T12:27:30.373957Z",
     "iopub.status.idle": "2023-11-13T12:27:33.333048Z",
     "shell.execute_reply": "2023-11-13T12:27:33.331643Z"
    },
    "papermill": {
     "duration": 3.002039,
     "end_time": "2023-11-13T12:27:33.335787",
     "exception": false,
     "start_time": "2023-11-13T12:27:30.333748",
     "status": "completed"
    },
    "tags": []
   },
   "outputs": [
    {
     "data": {
      "text/plain": [
       "['23238', '22551', '22631']"
      ]
     },
     "execution_count": 32,
     "metadata": {},
     "output_type": "execute_result"
    }
   ],
   "source": [
    "arl_recommender(rules, \"22492\", 3)"
   ]
  },
  {
   "cell_type": "code",
   "execution_count": 33,
   "id": "df4a0464",
   "metadata": {
    "execution": {
     "iopub.execute_input": "2023-11-13T12:27:33.415877Z",
     "iopub.status.busy": "2023-11-13T12:27:33.415488Z",
     "iopub.status.idle": "2023-11-13T12:27:33.430187Z",
     "shell.execute_reply": "2023-11-13T12:27:33.429153Z"
    },
    "papermill": {
     "duration": 0.057387,
     "end_time": "2023-11-13T12:27:33.432603",
     "exception": false,
     "start_time": "2023-11-13T12:27:33.375216",
     "status": "completed"
    },
    "tags": []
   },
   "outputs": [
    {
     "name": "stdout",
     "output_type": "stream",
     "text": [
      "['MINI PAINT SET VINTAGE ']\n",
      "['PLASTERS IN TIN SPACEBOY']\n",
      "['SET OF 4 KNICK KNACK TINS LONDON ']\n",
      "['CIRCUS PARADE LUNCH BOX ']\n"
     ]
    }
   ],
   "source": [
    "check_id(df_fr, \"22492\")\n",
    "check_id(df_fr, \"22551\")\n",
    "check_id(df_fr, \"23238\")\n",
    "check_id(df_fr, \"22631\")"
   ]
  },
  {
   "cell_type": "markdown",
   "id": "3ee34424",
   "metadata": {
    "papermill": {
     "duration": 0.039985,
     "end_time": "2023-11-13T12:27:33.514269",
     "exception": false,
     "start_time": "2023-11-13T12:27:33.474284",
     "status": "completed"
    },
    "tags": []
   },
   "source": [
    "<div style=\"border-radius:10px; border:#D0C2F0 solid; padding: 15px; background-color: #F8E8EE; font-size:100%; text-align:left\">\n",
    "\n",
    "<h3 align=\"left\"><font color='#5E5273'>👻 Analysis Results: </font></h3>\n",
    "\n",
    "* Öncelikle verinin temizlenmesi ve hazır hale getirilmesi gerekiyor.\n",
    "* Sık görülen öğe kümelerini ve ilişki kurallarını belirlemek için transaction - products matrisini oluşturuyoruz.\n",
    "* Belirli bir eşik değere göre birliktelik kurallarını oluşturduk.\n",
    "* Birliktelik kurallarını içeren dataframe'e filtreleme yöntemiyle bazı sınırlandırmalar yaptık.\n",
    "* En son olarakta en yüksek Lift değerine göre önerilerde bulunduk.\n",
    "* \"MINI PAINT SET VINTAGE\" alan bir kişinin aşağıdaki 3 ürünü alabileceğini ön görüp, öneride bulunduk;\n",
    "    * PLASTERS IN TIN SPACEBOY\n",
    "    * SET OF 4 KNICK KNACK TINS LONDON\n",
    "    * CIRCUS PARADE LUNCH BOX"
   ]
  },
  {
   "cell_type": "markdown",
   "id": "f8ab7cd2",
   "metadata": {
    "papermill": {
     "duration": 0.039256,
     "end_time": "2023-11-13T12:27:33.592939",
     "exception": false,
     "start_time": "2023-11-13T12:27:33.553683",
     "status": "completed"
    },
    "tags": []
   },
   "source": [
    "<a id=\"8\"></a>\n",
    "<h1 style=\"border-radius: 10px; border: 2px solid #6B8E23; background-color: #F5F5DC; font-family: 'Pacifico', cursive; font-size: 200%; text-align: center; border-radius: 15px 50px; padding: 15px; box-shadow: 5px 5px 5px #556B2F; color: #556B2F;\">🧾 Content Based Filtering 🧾</h1>"
   ]
  },
  {
   "cell_type": "markdown",
   "id": "20309051",
   "metadata": {
    "papermill": {
     "duration": 0.040427,
     "end_time": "2023-11-13T12:27:33.674468",
     "exception": false,
     "start_time": "2023-11-13T12:27:33.634041",
     "status": "completed"
    },
    "tags": []
   },
   "source": [
    "İçerik tabanlı filtreleme, her kullanıcıya oldukça kişiselleştirilmiş bir öğe önerisi sunabilen bir tür öneri sistemidir. **Marvel** filmlerini izlemeyi seviyorsanız, gelecekte **The Fault in Our Stars**'a kıyasla büyük ihtimalle Batman'i izleyeceksiniz. İçerik tabanlı filtrelemenin üstesinden gelmeye çalıştığı şey budur. Bu algoritma, geçmişte beğendiğiniz öğeye göre size öğe önerileri verir. Meta bilgilerine, dış özelliklerine göre önerilerde bulunuruz.\n",
    "\n",
    "İçerik bazlı öneri sistemini diğer öneri sistemlerinden gerçekten ayıran şey, aslında başkalarının verilerine ihtiyaç duymamasıdır. Tüm öneriler yalnızca verilerinize ve tercihlerinize göre yapılır.\n",
    "\n",
    "Şimdi şunu sorabilirsiniz: İçerik tabanlı bir öneri algoritması, benzer öğeleri önerebilecek şekilde nasıl çalışır?\n",
    "\n",
    "İçerik bazlı filtrelemenin yapılabileceği birçok farklı yol vardır; yani, bir veya daha fazla özelliğe dayalı olarak öğeler önerebilir. Örnek olarak geçmişte **The Dark Knight**'ı beğendiğinizi varsayalım. İçerik bazlı filtreleme daha sonra tür, film özeti, film yönetmeni vb. gibi bir veya daha fazla özellik açısından **The Dark Knight**'a benzeyen filmleri önerecektir.\n",
    "\n",
    "Unutulmaması gereken bir diğer önemli nokta da, bu öneri sisteminin geçmişte beğendiğiniz ürünlere benzer öğeler önermek için benzerlik algoritmaları kullanmasıdır. Benzerlik algoritmaları, ürün benzerliğine göre öneriler yapılan uzaklık temelli yöntemlerdir. Çeşitli benzerlik algoritmaları arasında **kosinüs benzerliği** , kullanılan en yaygın algoritmadır veya **Öklid benzerliği**de kullanılabilir. Özetle kosinüs benzerliği, yüksek boyutlu uzayda iki vektör arasındaki mesafeyi aşağıdaki formülle ölçer:\n",
    "\n",
    "<center><img src=\"https://i.imgur.com/3EEJSSP.png\" width=\"500\" height=\"500\"></center>\n",
    "\n",
    "Kosinüs benzerliğini kullanırsak -1 ila 1 aralığında bir değer elde ederiz. Değer 1'e ne kadar yakınsa öğeler o kadar benzer olur. Bu arada, değer -1'e ne kadar yakınsa, iki öğe de o kadar farklı olacaktır. Bu durum tahmin edebileceğiniz üzere **kosinüs(0)** açısının \"1\" ve **kosinüs(90)** açısının \"0\" almasıyla ilişkilidir.\n",
    "\n",
    "* **İçeriğe Dayalı Filtreleme: Önemli Terimler;**\n",
    "\n",
    "    1. **Kullanıcı Matrisi:**  kullanıcılara ilişkin tüm bilgileri temsil eden 2 boyutlu bir matrisi ifade eder . Bu, örneğin müşterilerinize veya abonelerinize ilişkin veriler olabilir. Matrisin her satırı normalde belirli bir kullanıcıyı temsil ederken, sütun her kullanıcının sayısal temsilini temsil eder. \n",
    "\n",
    "    2. **Öğe Matrisi:** Öğe matrisinin konsepti kullanıcı matrisiyle aynıdır. Öğelere ilişkin tüm bilgileri temsil eden 2 boyutlu bir matristen oluşur. Bu bir film, bir elektronik cihaz veya kullanıcılara sunduğunuz herhangi bir ürün olabilir. Öğe matrisinin her satırı belirli bir öğeyi temsil ederken, sütun her öğenin sayısal temsilini temsil eder.\n",
    "\n",
    "    3. **Özellikler:** Her kullanıcının ve öğenin sayısal temsilleri (kullanıcı matrisi ve öğe matrisinin sütunlarını kaplar) aynı zamanda özellikler olarak da adlandırılabilir. Bilgisayarlar yalnızca sayısal verileri işleyebildiğinden, bu özelliklerin oluşturulması, yüksek kalitede öneriler üretilebilmesi açısından çok önemli bir adımdır.\n",
    "\n",
    "Örnek olarak, belirli bir filmin özellikleri onun özeti olabilir. Ancak özete ilişkin bilgiler yalnızca metin biçiminde gelir ve bilgisayarlar, metin biçimindeki bilgileri işleyemez. Bu nedenle normalde yaptığımız şey, metni TF-IDF veya sayım vektörleştirici gibi farklı yöntemlerle sayısal temsiline dönüştürmektir."
   ]
  },
  {
   "cell_type": "markdown",
   "id": "b8203006",
   "metadata": {
    "papermill": {
     "duration": 0.040304,
     "end_time": "2023-11-13T12:27:33.753841",
     "exception": false,
     "start_time": "2023-11-13T12:27:33.713537",
     "status": "completed"
    },
    "tags": []
   },
   "source": [
    "<center><img src=\"https://i.imgur.com/X5UQ5cs.png\" width=\"700\" height=\"700\"></center>"
   ]
  },
  {
   "cell_type": "markdown",
   "id": "a9179c7a",
   "metadata": {
    "papermill": {
     "duration": 0.039413,
     "end_time": "2023-11-13T12:27:33.833095",
     "exception": false,
     "start_time": "2023-11-13T12:27:33.793682",
     "status": "completed"
    },
    "tags": []
   },
   "source": [
    "<div style=\"border-radius: 10px; border: #6B8E23 solid; padding: 15px; background-color: #F5F5DC; font-size: 100%; text-align: left\">\n",
    "\n",
    "<h3 align=\"left\"><font color='#556B2F'>📄 Content-Based Filtering: Advantages and Disadvantages:</font></h3>\n",
    "\n",
    "**Avantajlar**\n",
    "\n",
    "* Belirli bir kullanıcıya bir şey önermek için diğer kullanıcıların verilerine ihtiyaç duyulmadığından büyük bir kullanıcı sayısına kolayca ölçeklenebilir.\n",
    "* Öneriler, kullanıcının günlük aktivitelerine dayandığı için tüm tercihler ve önerilerin parametreleri kullanıcının seçimine hassas bir şekilde ayarlanır. Bu nedenle model, diğer kullanıcıların ilgisini çekmeyebilecek belirli niş öğeleri önerebilir.\n",
    "* Özellikler başlangıçtan itibaren mevcut olduğundan, en son ürünler hemen önerilebilir, bir sayım beklemek gerekmez.\n",
    "\n",
    "**Dezavantajlar**\n",
    "\n",
    "* İçerik tabanlı bir öneri motoru oluşturmak, öğelerin özellik seçiminin çoğunlukla sisteme sıkıca kodlandığından büyük bir alan bilgisi gerektirir. Bu nedenle, modeli inşa edenin bilgisi kadar iyi çalışır.\n",
    "* Model, kullanıcının mevcut ilgisine dayalı olarak yeni öğeleri önerebilir. Bu nedenle, kullanıcıyı ilgilendirebilecek yeni alanları keşfetmek ve genişletmek mümkün değildir.\n",
    "* Soğuk başlangıç problemi önemli bir dezavantajdır, çünkü motor yeni bir kullanıcı hakkında yeterli bilgiye sahip değildir ve öneri yapmaya başlamak için yetersiz bilgiye sahiptir.\n",
    "* Aktif olmayan kullanıcılara yeni önerilerde bulunmak zordur."
   ]
  },
  {
   "cell_type": "markdown",
   "id": "da7cbb53",
   "metadata": {
    "papermill": {
     "duration": 0.038696,
     "end_time": "2023-11-13T12:27:33.911086",
     "exception": false,
     "start_time": "2023-11-13T12:27:33.872390",
     "status": "completed"
    },
    "tags": []
   },
   "source": [
    "<a id = \"9\"></a><br>\n",
    "<p style=\"font-family: 'Pacifico', cursive; font-weight: bold; letter-spacing: 2px; color: #556B2F; font-size: 160%; text-align: left; padding: 0px; border-bottom: 3px solid\">✨Count Vector✨</p>"
   ]
  },
  {
   "cell_type": "markdown",
   "id": "c3728bad",
   "metadata": {
    "papermill": {
     "duration": 0.038825,
     "end_time": "2023-11-13T12:27:33.990309",
     "exception": false,
     "start_time": "2023-11-13T12:27:33.951484",
     "status": "completed"
    },
    "tags": []
   },
   "source": [
    "Count Vector, bir metin belgesini veya belgeler koleksiyonunu temsil etmek için kullanılan bir metin madenciliği ve doğal dil işleme tekniğidir. Bu yöntem, metin belgesindeki kelimelerin sıklığını sayarak bir vektör oluşturur. Count Vectorization, bir metin belgesini sayılarla temsil eder ve bu sayılar, metindeki her kelimenin kaç kez geçtiğini gösterir.\n",
    "\n",
    "Count Vectorization'in temel adımları şunlardır:\n",
    "\n",
    "1. **Metin Belgesi Hazırlığı**: Öncelikle, analiz için kullanılacak metin belgesi veya belgeleri hazırlamanız gerekir. Bu belgeler, örneğin bir dizi makale, inceleme veya metin içerebilir.\n",
    "\n",
    "2. **Tokenization**: Metni küçük parçalara (token'lar) ayırma işlemidir. Bu tokenlar genellikle kelimeler veya kelime öbekleri olur.\n",
    "\n",
    "3. **Sıklık Hesaplama**: Her bir kelimenin metinde kaç kez geçtiğini hesaplar. Bu, kelimenin frekansını ölçer.\n",
    "\n",
    "4. **Vektör Oluşturma**: Kelimelerin sıklığına dayalı olarak bir vektör oluşturulur. Her kelime vektörde bir sütun olarak temsil edilir ve bu sütunun değeri, metinde o kelimenin kaç kez geçtiğini gösterir.\n",
    "\n",
    "Count Vectorization, metin madenciliği ve doğal dil işleme uygulamalarında sıklıkla kullanılır. Bu yöntem, metin verilerini sayısal verilere dönüştürmek için temel bir yaklaşımdır ve kelime sıklıkları, metin madenciliği algoritmaları için giriş verisi olarak kullanılır."
   ]
  },
  {
   "cell_type": "markdown",
   "id": "dec5d1ea",
   "metadata": {
    "papermill": {
     "duration": 0.039139,
     "end_time": "2023-11-13T12:27:34.068491",
     "exception": false,
     "start_time": "2023-11-13T12:27:34.029352",
     "status": "completed"
    },
    "tags": []
   },
   "source": [
    "<a id = \"10\"></a><br>\n",
    "<p style=\"font-family: 'Pacifico', cursive; font-weight: bold; letter-spacing: 2px; color: #556B2F; font-size: 160%; text-align: left; padding: 0px; border-bottom: 3px solid\">✨TF-IDF✨</p>"
   ]
  },
  {
   "cell_type": "markdown",
   "id": "0e68bdeb",
   "metadata": {
    "papermill": {
     "duration": 0.039077,
     "end_time": "2023-11-13T12:27:34.146670",
     "exception": false,
     "start_time": "2023-11-13T12:27:34.107593",
     "status": "completed"
    },
    "tags": []
   },
   "source": [
    "TF-IDF (Term Frequency-Inverse Document Frequency), metin madenciliği ve bilgi çıkarma alanında yaygın olarak kullanılan bir terimdir. Metin belgelerindeki kelimelerin önem sırasını belirlemek ve metin belgelerini karşılaştırmak için kullanılır. TF-IDF, bir kelimenin bir belgedeki önemini hesaplar ve bunu tüm belgeler koleksiyonu içindeki belgelerle karşılaştırır.\n",
    "\n",
    "TF-IDF'nin anahtar bileşenleri şunlardır:\n",
    "\n",
    "1. **TF (Term Frequency - Terim Sıklığı)**: Bir belgedeki belirli bir terimin ne sıklıkla geçtiğini ölçer. Yani, bir kelimenin belirli bir belgedeki frekansını ifade eder. Bu, bir kelimenin belge içindeki önemini belirler.\n",
    "\n",
    "2. **IDF (Inverse Document Frequency - Ters Belgese Sıklığı)**: Bir kelimenin tüm belgeler koleksiyonu içinde ne kadar yaygın veya nadir olduğunu ölçer. Yani, bir kelimenin genel önemini belirler. Nadir terimler daha yüksek IDF değerlerine sahiptir, çünkü nadir terimler daha bilgilendirici kabul edilir.\n",
    "\n",
    "TF-IDF, bir kelimenin belirli bir belgedeki sıklığı ile aynı kelimenin tüm belgeler koleksiyonu içindeki sıklığının çarpımıdır. Bu, bir kelimenin belirli bir belgedeki önemini ve genel belgeler koleksiyonu içindeki önemini birleştirir.\n",
    "\n",
    "* TF-IDF'nin faydaları şunlar olabilir:\n",
    "\n",
    "    - Önemsiz veya yaygın kelimelerin ağırlığını azaltır.\n",
    "    - Özgün ve bilgilendirici kelimelerin önemini vurgular.\n",
    "    - Metin belgelerini benzerlik veya karşılaştırma amacıyla kullanabilir.\n",
    "\n",
    "TF-IDF, metin madenciliği, belge sınıflandırma, öneri sistemleri ve arama motorları gibi birçok uygulamada kullanılır. Bu sayede metin verilerinden anlamlı bilgi çıkarmak ve belgeleri karşılaştırmak daha etkili hale gelir."
   ]
  },
  {
   "cell_type": "markdown",
   "id": "52792ff8",
   "metadata": {
    "papermill": {
     "duration": 0.039569,
     "end_time": "2023-11-13T12:27:34.225607",
     "exception": false,
     "start_time": "2023-11-13T12:27:34.186038",
     "status": "completed"
    },
    "tags": []
   },
   "source": [
    "<a id = \"11\"></a><br>\n",
    "<p style=\"font-family: 'Pacifico', cursive; font-weight: bold; letter-spacing: 2px; color: #556B2F; font-size: 160%; text-align: left; padding: 0px; border-bottom: 3px solid\">✨Content Based Recommender System✨</p>"
   ]
  },
  {
   "cell_type": "markdown",
   "id": "913f2e69",
   "metadata": {
    "papermill": {
     "duration": 0.039581,
     "end_time": "2023-11-13T12:27:34.304652",
     "exception": false,
     "start_time": "2023-11-13T12:27:34.265071",
     "status": "completed"
    },
    "tags": []
   },
   "source": [
    "<a id = \"12\"></a><br>\n",
    "<div style=\"font-family:JetBrains Mono; font-weight:bold; letter-spacing: 2px; color:#E5788F; font-size:150%; text-align:left; padding: 0px;\">Data Preprocessing</div>"
   ]
  },
  {
   "cell_type": "code",
   "execution_count": 34,
   "id": "36518621",
   "metadata": {
    "execution": {
     "iopub.execute_input": "2023-11-13T12:27:34.385282Z",
     "iopub.status.busy": "2023-11-13T12:27:34.384909Z",
     "iopub.status.idle": "2023-11-13T12:27:35.630018Z",
     "shell.execute_reply": "2023-11-13T12:27:35.628833Z"
    },
    "papermill": {
     "duration": 1.288755,
     "end_time": "2023-11-13T12:27:35.632645",
     "exception": false,
     "start_time": "2023-11-13T12:27:34.343890",
     "status": "completed"
    },
    "tags": []
   },
   "outputs": [],
   "source": [
    "import pandas as pd\n",
    "\n",
    "from sklearn.feature_extraction.text import TfidfVectorizer\n",
    "from sklearn.metrics.pairwise import cosine_similarity\n",
    "\n",
    "import warnings\n",
    "warnings.filterwarnings(\"ignore\")\n",
    "\n",
    "# pd.set_option('display.max_columns', None)\n",
    "# pd.set_option('display.width', 500)\n",
    "# pd.set_option('display.expand_frame_repr', False)"
   ]
  },
  {
   "cell_type": "code",
   "execution_count": 35,
   "id": "daa485e7",
   "metadata": {
    "execution": {
     "iopub.execute_input": "2023-11-13T12:27:35.713697Z",
     "iopub.status.busy": "2023-11-13T12:27:35.713178Z",
     "iopub.status.idle": "2023-11-13T12:27:36.504032Z",
     "shell.execute_reply": "2023-11-13T12:27:36.502779Z"
    },
    "papermill": {
     "duration": 0.834269,
     "end_time": "2023-11-13T12:27:36.506681",
     "exception": false,
     "start_time": "2023-11-13T12:27:35.672412",
     "status": "completed"
    },
    "tags": []
   },
   "outputs": [],
   "source": [
    "movies = pd.read_csv(\"/kaggle/input/the-movies-dataset/movies_metadata.csv\",\n",
    "                    usecols=[\"id\",\"overview\",\"title\",\"vote_average\",\"vote_count\",\"release_date\"],low_memory=False)"
   ]
  },
  {
   "cell_type": "code",
   "execution_count": 36,
   "id": "42527ddf",
   "metadata": {
    "execution": {
     "iopub.execute_input": "2023-11-13T12:27:36.587672Z",
     "iopub.status.busy": "2023-11-13T12:27:36.587289Z",
     "iopub.status.idle": "2023-11-13T12:27:36.600980Z",
     "shell.execute_reply": "2023-11-13T12:27:36.599780Z"
    },
    "papermill": {
     "duration": 0.056553,
     "end_time": "2023-11-13T12:27:36.603402",
     "exception": false,
     "start_time": "2023-11-13T12:27:36.546849",
     "status": "completed"
    },
    "tags": []
   },
   "outputs": [
    {
     "data": {
      "text/html": [
       "<div>\n",
       "<style scoped>\n",
       "    .dataframe tbody tr th:only-of-type {\n",
       "        vertical-align: middle;\n",
       "    }\n",
       "\n",
       "    .dataframe tbody tr th {\n",
       "        vertical-align: top;\n",
       "    }\n",
       "\n",
       "    .dataframe thead th {\n",
       "        text-align: right;\n",
       "    }\n",
       "</style>\n",
       "<table border=\"1\" class=\"dataframe\">\n",
       "  <thead>\n",
       "    <tr style=\"text-align: right;\">\n",
       "      <th></th>\n",
       "      <th>id</th>\n",
       "      <th>overview</th>\n",
       "      <th>release_date</th>\n",
       "      <th>title</th>\n",
       "      <th>vote_average</th>\n",
       "      <th>vote_count</th>\n",
       "    </tr>\n",
       "  </thead>\n",
       "  <tbody>\n",
       "    <tr>\n",
       "      <th>0</th>\n",
       "      <td>862</td>\n",
       "      <td>Led by Woody, Andy's toys live happily in his ...</td>\n",
       "      <td>1995-10-30</td>\n",
       "      <td>Toy Story</td>\n",
       "      <td>7.7</td>\n",
       "      <td>5415.0</td>\n",
       "    </tr>\n",
       "    <tr>\n",
       "      <th>1</th>\n",
       "      <td>8844</td>\n",
       "      <td>When siblings Judy and Peter discover an encha...</td>\n",
       "      <td>1995-12-15</td>\n",
       "      <td>Jumanji</td>\n",
       "      <td>6.9</td>\n",
       "      <td>2413.0</td>\n",
       "    </tr>\n",
       "    <tr>\n",
       "      <th>2</th>\n",
       "      <td>15602</td>\n",
       "      <td>A family wedding reignites the ancient feud be...</td>\n",
       "      <td>1995-12-22</td>\n",
       "      <td>Grumpier Old Men</td>\n",
       "      <td>6.5</td>\n",
       "      <td>92.0</td>\n",
       "    </tr>\n",
       "    <tr>\n",
       "      <th>3</th>\n",
       "      <td>31357</td>\n",
       "      <td>Cheated on, mistreated and stepped on, the wom...</td>\n",
       "      <td>1995-12-22</td>\n",
       "      <td>Waiting to Exhale</td>\n",
       "      <td>6.1</td>\n",
       "      <td>34.0</td>\n",
       "    </tr>\n",
       "    <tr>\n",
       "      <th>4</th>\n",
       "      <td>11862</td>\n",
       "      <td>Just when George Banks has recovered from his ...</td>\n",
       "      <td>1995-02-10</td>\n",
       "      <td>Father of the Bride Part II</td>\n",
       "      <td>5.7</td>\n",
       "      <td>173.0</td>\n",
       "    </tr>\n",
       "  </tbody>\n",
       "</table>\n",
       "</div>"
      ],
      "text/plain": [
       "      id                                           overview release_date  \\\n",
       "0    862  Led by Woody, Andy's toys live happily in his ...   1995-10-30   \n",
       "1   8844  When siblings Judy and Peter discover an encha...   1995-12-15   \n",
       "2  15602  A family wedding reignites the ancient feud be...   1995-12-22   \n",
       "3  31357  Cheated on, mistreated and stepped on, the wom...   1995-12-22   \n",
       "4  11862  Just when George Banks has recovered from his ...   1995-02-10   \n",
       "\n",
       "                         title  vote_average  vote_count  \n",
       "0                    Toy Story           7.7      5415.0  \n",
       "1                      Jumanji           6.9      2413.0  \n",
       "2             Grumpier Old Men           6.5        92.0  \n",
       "3            Waiting to Exhale           6.1        34.0  \n",
       "4  Father of the Bride Part II           5.7       173.0  "
      ]
     },
     "execution_count": 36,
     "metadata": {},
     "output_type": "execute_result"
    }
   ],
   "source": [
    "movies.head()"
   ]
  },
  {
   "cell_type": "code",
   "execution_count": 37,
   "id": "74370e05",
   "metadata": {
    "execution": {
     "iopub.execute_input": "2023-11-13T12:27:36.685097Z",
     "iopub.status.busy": "2023-11-13T12:27:36.684648Z",
     "iopub.status.idle": "2023-11-13T12:27:36.691384Z",
     "shell.execute_reply": "2023-11-13T12:27:36.690167Z"
    },
    "papermill": {
     "duration": 0.049739,
     "end_time": "2023-11-13T12:27:36.693364",
     "exception": false,
     "start_time": "2023-11-13T12:27:36.643625",
     "status": "completed"
    },
    "tags": []
   },
   "outputs": [
    {
     "data": {
      "text/plain": [
       "(45466, 6)"
      ]
     },
     "execution_count": 37,
     "metadata": {},
     "output_type": "execute_result"
    }
   ],
   "source": [
    "movies.shape"
   ]
  },
  {
   "cell_type": "code",
   "execution_count": 38,
   "id": "2c528db6",
   "metadata": {
    "execution": {
     "iopub.execute_input": "2023-11-13T12:27:36.775593Z",
     "iopub.status.busy": "2023-11-13T12:27:36.774405Z",
     "iopub.status.idle": "2023-11-13T12:27:36.795679Z",
     "shell.execute_reply": "2023-11-13T12:27:36.794617Z"
    },
    "papermill": {
     "duration": 0.064777,
     "end_time": "2023-11-13T12:27:36.797899",
     "exception": false,
     "start_time": "2023-11-13T12:27:36.733122",
     "status": "completed"
    },
    "tags": []
   },
   "outputs": [
    {
     "data": {
      "text/plain": [
       "id                0\n",
       "overview        954\n",
       "release_date     87\n",
       "title             6\n",
       "vote_average      6\n",
       "vote_count        6\n",
       "dtype: int64"
      ]
     },
     "execution_count": 38,
     "metadata": {},
     "output_type": "execute_result"
    }
   ],
   "source": [
    "movies.isnull().sum()"
   ]
  },
  {
   "cell_type": "code",
   "execution_count": 39,
   "id": "6717035b",
   "metadata": {
    "execution": {
     "iopub.execute_input": "2023-11-13T12:27:36.879798Z",
     "iopub.status.busy": "2023-11-13T12:27:36.878598Z",
     "iopub.status.idle": "2023-11-13T12:27:36.901696Z",
     "shell.execute_reply": "2023-11-13T12:27:36.900435Z"
    },
    "papermill": {
     "duration": 0.066762,
     "end_time": "2023-11-13T12:27:36.904290",
     "exception": false,
     "start_time": "2023-11-13T12:27:36.837528",
     "status": "completed"
    },
    "tags": []
   },
   "outputs": [],
   "source": [
    "movies = movies.dropna()"
   ]
  },
  {
   "cell_type": "code",
   "execution_count": 40,
   "id": "f45be333",
   "metadata": {
    "execution": {
     "iopub.execute_input": "2023-11-13T12:27:36.987222Z",
     "iopub.status.busy": "2023-11-13T12:27:36.986784Z",
     "iopub.status.idle": "2023-11-13T12:27:37.074667Z",
     "shell.execute_reply": "2023-11-13T12:27:37.073389Z"
    },
    "papermill": {
     "duration": 0.131455,
     "end_time": "2023-11-13T12:27:37.076709",
     "exception": false,
     "start_time": "2023-11-13T12:27:36.945254",
     "status": "completed"
    },
    "tags": []
   },
   "outputs": [
    {
     "data": {
      "text/plain": [
       "28"
      ]
     },
     "execution_count": 40,
     "metadata": {},
     "output_type": "execute_result"
    }
   ],
   "source": [
    "movies.duplicated().sum()"
   ]
  },
  {
   "cell_type": "code",
   "execution_count": 41,
   "id": "ea24d5c3",
   "metadata": {
    "execution": {
     "iopub.execute_input": "2023-11-13T12:27:37.157998Z",
     "iopub.status.busy": "2023-11-13T12:27:37.157561Z",
     "iopub.status.idle": "2023-11-13T12:27:37.241895Z",
     "shell.execute_reply": "2023-11-13T12:27:37.240748Z"
    },
    "papermill": {
     "duration": 0.12811,
     "end_time": "2023-11-13T12:27:37.244476",
     "exception": false,
     "start_time": "2023-11-13T12:27:37.116366",
     "status": "completed"
    },
    "tags": []
   },
   "outputs": [],
   "source": [
    "movies = movies.drop_duplicates()"
   ]
  },
  {
   "cell_type": "code",
   "execution_count": 42,
   "id": "cd2cd619",
   "metadata": {
    "execution": {
     "iopub.execute_input": "2023-11-13T12:27:37.325794Z",
     "iopub.status.busy": "2023-11-13T12:27:37.325398Z",
     "iopub.status.idle": "2023-11-13T12:27:37.334968Z",
     "shell.execute_reply": "2023-11-13T12:27:37.333527Z"
    },
    "papermill": {
     "duration": 0.053237,
     "end_time": "2023-11-13T12:27:37.337483",
     "exception": false,
     "start_time": "2023-11-13T12:27:37.284246",
     "status": "completed"
    },
    "tags": []
   },
   "outputs": [],
   "source": [
    "movies = movies.rename(columns={\"id\":\"movieId\"})"
   ]
  },
  {
   "cell_type": "code",
   "execution_count": 43,
   "id": "c1718671",
   "metadata": {
    "execution": {
     "iopub.execute_input": "2023-11-13T12:27:37.421620Z",
     "iopub.status.busy": "2023-11-13T12:27:37.421221Z",
     "iopub.status.idle": "2023-11-13T12:27:37.431835Z",
     "shell.execute_reply": "2023-11-13T12:27:37.430884Z"
    },
    "papermill": {
     "duration": 0.054952,
     "end_time": "2023-11-13T12:27:37.433953",
     "exception": false,
     "start_time": "2023-11-13T12:27:37.379001",
     "status": "completed"
    },
    "tags": []
   },
   "outputs": [],
   "source": [
    "movies[\"movieId\"] = movies[\"movieId\"].astype(\"int64\")"
   ]
  },
  {
   "cell_type": "code",
   "execution_count": 44,
   "id": "2c0ac256",
   "metadata": {
    "execution": {
     "iopub.execute_input": "2023-11-13T12:27:37.518274Z",
     "iopub.status.busy": "2023-11-13T12:27:37.517903Z",
     "iopub.status.idle": "2023-11-13T12:27:37.526068Z",
     "shell.execute_reply": "2023-11-13T12:27:37.524912Z"
    },
    "papermill": {
     "duration": 0.051965,
     "end_time": "2023-11-13T12:27:37.528188",
     "exception": false,
     "start_time": "2023-11-13T12:27:37.476223",
     "status": "completed"
    },
    "tags": []
   },
   "outputs": [],
   "source": [
    "movies = movies.reset_index(drop=True)"
   ]
  },
  {
   "cell_type": "code",
   "execution_count": 45,
   "id": "bf0eb17c",
   "metadata": {
    "execution": {
     "iopub.execute_input": "2023-11-13T12:27:37.610546Z",
     "iopub.status.busy": "2023-11-13T12:27:37.610188Z",
     "iopub.status.idle": "2023-11-13T12:27:37.617773Z",
     "shell.execute_reply": "2023-11-13T12:27:37.616745Z"
    },
    "papermill": {
     "duration": 0.051622,
     "end_time": "2023-11-13T12:27:37.619957",
     "exception": false,
     "start_time": "2023-11-13T12:27:37.568335",
     "status": "completed"
    },
    "tags": []
   },
   "outputs": [
    {
     "data": {
      "text/plain": [
       "0    Led by Woody, Andy's toys live happily in his ...\n",
       "1    When siblings Judy and Peter discover an encha...\n",
       "2    A family wedding reignites the ancient feud be...\n",
       "3    Cheated on, mistreated and stepped on, the wom...\n",
       "4    Just when George Banks has recovered from his ...\n",
       "Name: overview, dtype: object"
      ]
     },
     "execution_count": 45,
     "metadata": {},
     "output_type": "execute_result"
    }
   ],
   "source": [
    "movies[\"overview\"].head()"
   ]
  },
  {
   "cell_type": "code",
   "execution_count": 46,
   "id": "048e5cac",
   "metadata": {
    "execution": {
     "iopub.execute_input": "2023-11-13T12:27:37.703285Z",
     "iopub.status.busy": "2023-11-13T12:27:37.702886Z",
     "iopub.status.idle": "2023-11-13T12:27:37.708954Z",
     "shell.execute_reply": "2023-11-13T12:27:37.708128Z"
    },
    "papermill": {
     "duration": 0.049753,
     "end_time": "2023-11-13T12:27:37.710901",
     "exception": false,
     "start_time": "2023-11-13T12:27:37.661148",
     "status": "completed"
    },
    "tags": []
   },
   "outputs": [
    {
     "data": {
      "text/plain": [
       "\"When siblings Judy and Peter discover an enchanted board game that opens the door to a magical world, they unwittingly invite Alan -- an adult who's been trapped inside the game for 26 years -- into their living room. Alan's only hope for freedom is to finish the game, which proves risky as all three find themselves running from giant rhinoceroses, evil monkeys and other terrifying creatures.\""
      ]
     },
     "execution_count": 46,
     "metadata": {},
     "output_type": "execute_result"
    }
   ],
   "source": [
    "movies[\"overview\"].loc[1]"
   ]
  },
  {
   "cell_type": "markdown",
   "id": "29f544f4",
   "metadata": {
    "papermill": {
     "duration": 0.04091,
     "end_time": "2023-11-13T12:27:37.792569",
     "exception": false,
     "start_time": "2023-11-13T12:27:37.751659",
     "status": "completed"
    },
    "tags": []
   },
   "source": [
    "<div style=\"border-radius: 10px; border: #6B8E23 solid; padding: 15px; background-color: #F5F5DC; font-size: 100%; text-align: left\">\n",
    "\n",
    "<h3 align=\"left\"><font color='#556B2F'>👀 Text Mining Terms : </font></h3>\n",
    "    \n",
    "1. **Token:** metin içinde anlamlı birimleri temsil eden parçalardır. Genellikle kelimeler, işaretler veya karakterler olabilir.\n",
    "1. **Document:** bir metin belgesini veya bir dokümanı temsil eder. Bu, herhangi bir metin parçası olabilir, örneğin bir makale, kitap, haber metni veya bir blog yazısı. Bir doküman, bir veya daha fazla token içerir.\n",
    "1. **Corpus:** genellikle bir dil veya belirli bir konuyla ilgili toplanan metin belgelerinin bir koleksiyonunu ifade eder. Corpus, bir metin madenciliği veya NLP projesinde kullanılmak üzere bir araya getirilen metin verilerini içerir.\n",
    "    \n",
    "**Bir Örnek;**\n",
    "\n",
    "\"When siblings Judy and Peter discover an enchanted board game that opens the door to a magical world, they unwittingly invite Alan -- an adult who's been trapped inside the game for 26 years -- into their living room. Alan's only hope for freedom is to finish the game, which proves risky as all three find themselves running from giant rhinoceroses, evil monkeys and other terrifying creatures.\"\n",
    "\n",
    "- Bu özet bir dokümandır.\n",
    "- \"Judy\" kelimesi doküman içinde bir tken olarak bulunur.\n",
    "- Bir \"corpus,\" tüm veri setindeki tüm cümlelerin toplamıdır."
   ]
  },
  {
   "cell_type": "markdown",
   "id": "e5bf7ce9",
   "metadata": {
    "papermill": {
     "duration": 0.040349,
     "end_time": "2023-11-13T12:27:37.873491",
     "exception": false,
     "start_time": "2023-11-13T12:27:37.833142",
     "status": "completed"
    },
    "tags": []
   },
   "source": [
    "<a id = \"13\"></a><br>\n",
    "<div style=\"font-family:JetBrains Mono; font-weight:bold; letter-spacing: 2px; color:#E5788F; font-size:150%; text-align:left; padding: 0px;\">Creating the TF-IDF Matrix</div>"
   ]
  },
  {
   "cell_type": "code",
   "execution_count": 47,
   "id": "751d4e56",
   "metadata": {
    "execution": {
     "iopub.execute_input": "2023-11-13T12:27:37.956951Z",
     "iopub.status.busy": "2023-11-13T12:27:37.956533Z",
     "iopub.status.idle": "2023-11-13T12:27:38.531507Z",
     "shell.execute_reply": "2023-11-13T12:27:38.530261Z"
    },
    "papermill": {
     "duration": 0.619622,
     "end_time": "2023-11-13T12:27:38.534214",
     "exception": false,
     "start_time": "2023-11-13T12:27:37.914592",
     "status": "completed"
    },
    "tags": []
   },
   "outputs": [],
   "source": [
    "movies[\"overview\"] = movies[\"overview\"].str.replace(r\"[^\\w\\s]\",\" \",regex=True).str.replace(r\"[\\d]\",\" \",regex=True)"
   ]
  },
  {
   "cell_type": "markdown",
   "id": "4b509849",
   "metadata": {
    "papermill": {
     "duration": 0.04322,
     "end_time": "2023-11-13T12:27:38.618106",
     "exception": false,
     "start_time": "2023-11-13T12:27:38.574886",
     "status": "completed"
    },
    "tags": []
   },
   "source": [
    "<div style=\"border-radius:10px; border:#6B8BA0 solid; padding: 15px; background-color: #F2EADF; font-size:100%; text-align:left\">\n",
    "\n",
    "<h3 align=\"left\"><font color='#6B8BA0'>🗨️ Comment: </font></h3>\n",
    "\n",
    "* \"overview\" sütunundaki her satırdaki metin verisinde, harf ve boşluk karakterleri dışındaki her karakteri boşluk karakteriyle değiştirir. Yani, noktalama işaretleri, rakamlar ve diğer özel karakterler boşluk karakterleriyle değiştirilir ve kaldırıyoruz.\n",
    "* Ayrıca metindeki rakamlarıda temizleyip, boşluk değerleriyle dönüştürüyoruz."
   ]
  },
  {
   "cell_type": "code",
   "execution_count": 48,
   "id": "c707bf6d",
   "metadata": {
    "execution": {
     "iopub.execute_input": "2023-11-13T12:27:38.702943Z",
     "iopub.status.busy": "2023-11-13T12:27:38.702545Z",
     "iopub.status.idle": "2023-11-13T12:27:40.919493Z",
     "shell.execute_reply": "2023-11-13T12:27:40.918506Z"
    },
    "papermill": {
     "duration": 2.262112,
     "end_time": "2023-11-13T12:27:40.922147",
     "exception": false,
     "start_time": "2023-11-13T12:27:38.660035",
     "status": "completed"
    },
    "tags": []
   },
   "outputs": [],
   "source": [
    "tfidf = TfidfVectorizer(stop_words=\"english\", min_df = 4)\n",
    "tfidf_matrix = tfidf.fit_transform(movies[\"overview\"])"
   ]
  },
  {
   "cell_type": "code",
   "execution_count": 49,
   "id": "dd88909c",
   "metadata": {
    "execution": {
     "iopub.execute_input": "2023-11-13T12:27:41.006917Z",
     "iopub.status.busy": "2023-11-13T12:27:41.006514Z",
     "iopub.status.idle": "2023-11-13T12:27:41.013464Z",
     "shell.execute_reply": "2023-11-13T12:27:41.012372Z"
    },
    "papermill": {
     "duration": 0.051616,
     "end_time": "2023-11-13T12:27:41.015613",
     "exception": false,
     "start_time": "2023-11-13T12:27:40.963997",
     "status": "completed"
    },
    "tags": []
   },
   "outputs": [
    {
     "data": {
      "text/plain": [
       "(44407, 23499)"
      ]
     },
     "execution_count": 49,
     "metadata": {},
     "output_type": "execute_result"
    }
   ],
   "source": [
    "tfidf_matrix.shape # 44407 movies,23499 unique words"
   ]
  },
  {
   "cell_type": "code",
   "execution_count": 50,
   "id": "16f42208",
   "metadata": {
    "execution": {
     "iopub.execute_input": "2023-11-13T12:27:41.099072Z",
     "iopub.status.busy": "2023-11-13T12:27:41.098626Z",
     "iopub.status.idle": "2023-11-13T12:28:20.781732Z",
     "shell.execute_reply": "2023-11-13T12:28:20.780727Z"
    },
    "papermill": {
     "duration": 39.727909,
     "end_time": "2023-11-13T12:28:20.784323",
     "exception": false,
     "start_time": "2023-11-13T12:27:41.056414",
     "status": "completed"
    },
    "tags": []
   },
   "outputs": [],
   "source": [
    "similarity = cosine_similarity(tfidf_matrix,tfidf_matrix)"
   ]
  },
  {
   "cell_type": "markdown",
   "id": "4e8d410f",
   "metadata": {
    "papermill": {
     "duration": 0.040102,
     "end_time": "2023-11-13T12:28:20.865128",
     "exception": false,
     "start_time": "2023-11-13T12:28:20.825026",
     "status": "completed"
    },
    "tags": []
   },
   "source": [
    "<div style=\"border-radius:10px; border:#65647C solid; padding: 15px; background-color: #F8EDE3; font-size:100%; text-align:left\">\n",
    "\n",
    "<h3 align=\"left\"><font color='#7D6E83'><b>🗨️ Comment: </b></font></h3>\n",
    "\n",
    "* `cosine_similarity` işlemi, belirli bir metin belgesi koleksiyonu üzerinde TF-IDF (Term Frequency-Inverse Document Frequency) temelli bir benzerlik ölçümü yapar. Bu ölçüm, her iki belge arasındaki benzerliği hesaplar ve sonucu bir benzerlik matrisi olarak döndürür.\n",
    "* Bu matrisin her bir elemanı, iki belge arasındaki kosinüs benzerliğini temsil eder. Kosinüs benzerliği, belgeler arasındaki benzerliği ölçer ve değeri -1 ile 1 arasında değişir. Değer 1'e ne kadar yakınsa, belgeler o kadar benzerdir; değer -1'e ne kadar yakınsa, belgeler o kadar farklıdır."
   ]
  },
  {
   "cell_type": "code",
   "execution_count": 51,
   "id": "fb4ceb88",
   "metadata": {
    "execution": {
     "iopub.execute_input": "2023-11-13T12:28:20.949126Z",
     "iopub.status.busy": "2023-11-13T12:28:20.948710Z",
     "iopub.status.idle": "2023-11-13T12:28:20.954388Z",
     "shell.execute_reply": "2023-11-13T12:28:20.953504Z"
    },
    "papermill": {
     "duration": 0.050054,
     "end_time": "2023-11-13T12:28:20.956390",
     "exception": false,
     "start_time": "2023-11-13T12:28:20.906336",
     "status": "completed"
    },
    "tags": []
   },
   "outputs": [
    {
     "data": {
      "text/plain": [
       "(44407, 44407)"
      ]
     },
     "execution_count": 51,
     "metadata": {},
     "output_type": "execute_result"
    }
   ],
   "source": [
    "similarity.shape"
   ]
  },
  {
   "cell_type": "code",
   "execution_count": 52,
   "id": "9527dc0e",
   "metadata": {
    "execution": {
     "iopub.execute_input": "2023-11-13T12:28:21.040837Z",
     "iopub.status.busy": "2023-11-13T12:28:21.039736Z",
     "iopub.status.idle": "2023-11-13T12:28:21.046123Z",
     "shell.execute_reply": "2023-11-13T12:28:21.045173Z"
    },
    "papermill": {
     "duration": 0.050869,
     "end_time": "2023-11-13T12:28:21.048336",
     "exception": false,
     "start_time": "2023-11-13T12:28:20.997467",
     "status": "completed"
    },
    "tags": []
   },
   "outputs": [
    {
     "data": {
      "text/plain": [
       "array([0.01616292, 1.        , 0.04922993, ..., 0.        , 0.02371782,\n",
       "       0.01128353])"
      ]
     },
     "execution_count": 52,
     "metadata": {},
     "output_type": "execute_result"
    }
   ],
   "source": [
    "similarity[1]"
   ]
  },
  {
   "cell_type": "code",
   "execution_count": 53,
   "id": "e3d93884",
   "metadata": {
    "execution": {
     "iopub.execute_input": "2023-11-13T12:28:21.132722Z",
     "iopub.status.busy": "2023-11-13T12:28:21.131462Z",
     "iopub.status.idle": "2023-11-13T12:28:21.137834Z",
     "shell.execute_reply": "2023-11-13T12:28:21.137020Z"
    },
    "papermill": {
     "duration": 0.050412,
     "end_time": "2023-11-13T12:28:21.139733",
     "exception": false,
     "start_time": "2023-11-13T12:28:21.089321",
     "status": "completed"
    },
    "tags": []
   },
   "outputs": [],
   "source": [
    "index = movies[movies[\"movieId\"] == 8844].index[0]"
   ]
  },
  {
   "cell_type": "code",
   "execution_count": 54,
   "id": "251c191d",
   "metadata": {
    "execution": {
     "iopub.execute_input": "2023-11-13T12:28:21.224248Z",
     "iopub.status.busy": "2023-11-13T12:28:21.223252Z",
     "iopub.status.idle": "2023-11-13T12:28:21.248268Z",
     "shell.execute_reply": "2023-11-13T12:28:21.247137Z"
    },
    "papermill": {
     "duration": 0.069639,
     "end_time": "2023-11-13T12:28:21.250657",
     "exception": false,
     "start_time": "2023-11-13T12:28:21.181018",
     "status": "completed"
    },
    "tags": []
   },
   "outputs": [
    {
     "data": {
      "text/plain": [
       "array(['aa', 'aamir', 'aaron', ..., 'не', 'но', 'по'], dtype=object)"
      ]
     },
     "execution_count": 54,
     "metadata": {},
     "output_type": "execute_result"
    }
   ],
   "source": [
    "# tfidf.get_feature_names()\n",
    "\n",
    "feature_names = tfidf.get_feature_names_out()\n",
    "\n",
    "feature_names"
   ]
  },
  {
   "cell_type": "code",
   "execution_count": 55,
   "id": "ea0e1a08",
   "metadata": {
    "execution": {
     "iopub.execute_input": "2023-11-13T12:28:21.334865Z",
     "iopub.status.busy": "2023-11-13T12:28:21.334425Z",
     "iopub.status.idle": "2023-11-13T12:28:25.542686Z",
     "shell.execute_reply": "2023-11-13T12:28:25.541599Z"
    },
    "papermill": {
     "duration": 4.253327,
     "end_time": "2023-11-13T12:28:25.545223",
     "exception": false,
     "start_time": "2023-11-13T12:28:21.291896",
     "status": "completed"
    },
    "tags": []
   },
   "outputs": [
    {
     "data": {
      "text/plain": [
       "array([[0., 0., 0., ..., 0., 0., 0.],\n",
       "       [0., 0., 0., ..., 0., 0., 0.],\n",
       "       [0., 0., 0., ..., 0., 0., 0.],\n",
       "       ...,\n",
       "       [0., 0., 0., ..., 0., 0., 0.],\n",
       "       [0., 0., 0., ..., 0., 0., 0.],\n",
       "       [0., 0., 0., ..., 0., 0., 0.]])"
      ]
     },
     "execution_count": 55,
     "metadata": {},
     "output_type": "execute_result"
    }
   ],
   "source": [
    "tfidf_matrix.toarray() # the scores at the intersection of documents and terms."
   ]
  },
  {
   "cell_type": "markdown",
   "id": "0b1cc9e3",
   "metadata": {
    "papermill": {
     "duration": 0.042008,
     "end_time": "2023-11-13T12:28:25.629393",
     "exception": false,
     "start_time": "2023-11-13T12:28:25.587385",
     "status": "completed"
    },
    "tags": []
   },
   "source": [
    "<a id = \"14\"></a><br>\n",
    "<div style=\"font-family:JetBrains Mono; font-weight:bold; letter-spacing: 2px; color:#E5788F; font-size:150%; text-align:left; padding: 0px;\">Movie Recommendation</div>"
   ]
  },
  {
   "cell_type": "code",
   "execution_count": 56,
   "id": "29c8c447",
   "metadata": {
    "execution": {
     "iopub.execute_input": "2023-11-13T12:28:25.718984Z",
     "iopub.status.busy": "2023-11-13T12:28:25.718555Z",
     "iopub.status.idle": "2023-11-13T12:28:25.723607Z",
     "shell.execute_reply": "2023-11-13T12:28:25.722377Z"
    },
    "papermill": {
     "duration": 0.05227,
     "end_time": "2023-11-13T12:28:25.726060",
     "exception": false,
     "start_time": "2023-11-13T12:28:25.673790",
     "status": "completed"
    },
    "tags": []
   },
   "outputs": [],
   "source": [
    "similarity_scores = pd.DataFrame(similarity[index],\n",
    "                                 columns=[\"similarity\"])"
   ]
  },
  {
   "cell_type": "code",
   "execution_count": 57,
   "id": "a3dff836",
   "metadata": {
    "execution": {
     "iopub.execute_input": "2023-11-13T12:28:25.811910Z",
     "iopub.status.busy": "2023-11-13T12:28:25.811248Z",
     "iopub.status.idle": "2023-11-13T12:28:25.820183Z",
     "shell.execute_reply": "2023-11-13T12:28:25.819161Z"
    },
    "papermill": {
     "duration": 0.054558,
     "end_time": "2023-11-13T12:28:25.822533",
     "exception": false,
     "start_time": "2023-11-13T12:28:25.767975",
     "status": "completed"
    },
    "tags": []
   },
   "outputs": [],
   "source": [
    "movie_indices = similarity_scores.sort_values(\"similarity\", ascending=False)[1:11].index"
   ]
  },
  {
   "cell_type": "code",
   "execution_count": 58,
   "id": "5771c5ee",
   "metadata": {
    "execution": {
     "iopub.execute_input": "2023-11-13T12:28:25.911260Z",
     "iopub.status.busy": "2023-11-13T12:28:25.910837Z",
     "iopub.status.idle": "2023-11-13T12:28:25.918323Z",
     "shell.execute_reply": "2023-11-13T12:28:25.917595Z"
    },
    "papermill": {
     "duration": 0.054046,
     "end_time": "2023-11-13T12:28:25.920228",
     "exception": false,
     "start_time": "2023-11-13T12:28:25.866182",
     "status": "completed"
    },
    "tags": []
   },
   "outputs": [
    {
     "data": {
      "text/plain": [
       "21441         Table No. 21\n",
       "43372    Liar Game: Reborn\n",
       "40696         Snowed Under\n",
       "44206                 Quiz\n",
       "34895             The Mend\n",
       "17118       The Dark Angel\n",
       "8770               Quintet\n",
       "6137             Brainscan\n",
       "9467             Word Wars\n",
       "8049               Masques\n",
       "Name: title, dtype: object"
      ]
     },
     "execution_count": 58,
     "metadata": {},
     "output_type": "execute_result"
    }
   ],
   "source": [
    "movies['title'].iloc[movie_indices]"
   ]
  },
  {
   "cell_type": "code",
   "execution_count": 59,
   "id": "c09582c7",
   "metadata": {
    "execution": {
     "iopub.execute_input": "2023-11-13T12:28:26.005976Z",
     "iopub.status.busy": "2023-11-13T12:28:26.005508Z",
     "iopub.status.idle": "2023-11-13T12:28:26.019114Z",
     "shell.execute_reply": "2023-11-13T12:28:26.018029Z"
    },
    "papermill": {
     "duration": 0.058476,
     "end_time": "2023-11-13T12:28:26.021210",
     "exception": false,
     "start_time": "2023-11-13T12:28:25.962734",
     "status": "completed"
    },
    "tags": []
   },
   "outputs": [
    {
     "data": {
      "text/html": [
       "<div>\n",
       "<style scoped>\n",
       "    .dataframe tbody tr th:only-of-type {\n",
       "        vertical-align: middle;\n",
       "    }\n",
       "\n",
       "    .dataframe tbody tr th {\n",
       "        vertical-align: top;\n",
       "    }\n",
       "\n",
       "    .dataframe thead th {\n",
       "        text-align: right;\n",
       "    }\n",
       "</style>\n",
       "<table border=\"1\" class=\"dataframe\">\n",
       "  <thead>\n",
       "    <tr style=\"text-align: right;\">\n",
       "      <th></th>\n",
       "      <th>movieId</th>\n",
       "      <th>overview</th>\n",
       "      <th>release_date</th>\n",
       "      <th>title</th>\n",
       "      <th>vote_average</th>\n",
       "      <th>vote_count</th>\n",
       "    </tr>\n",
       "  </thead>\n",
       "  <tbody>\n",
       "    <tr>\n",
       "      <th>1</th>\n",
       "      <td>8844</td>\n",
       "      <td>When siblings Judy and Peter discover an encha...</td>\n",
       "      <td>1995-12-15</td>\n",
       "      <td>Jumanji</td>\n",
       "      <td>6.9</td>\n",
       "      <td>2413.0</td>\n",
       "    </tr>\n",
       "  </tbody>\n",
       "</table>\n",
       "</div>"
      ],
      "text/plain": [
       "   movieId                                           overview release_date  \\\n",
       "1     8844  When siblings Judy and Peter discover an encha...   1995-12-15   \n",
       "\n",
       "     title  vote_average  vote_count  \n",
       "1  Jumanji           6.9      2413.0  "
      ]
     },
     "execution_count": 59,
     "metadata": {},
     "output_type": "execute_result"
    }
   ],
   "source": [
    "movies[movies[\"movieId\"] == 8844]"
   ]
  },
  {
   "cell_type": "markdown",
   "id": "cb9fd2fd",
   "metadata": {
    "papermill": {
     "duration": 0.041942,
     "end_time": "2023-11-13T12:28:26.105657",
     "exception": false,
     "start_time": "2023-11-13T12:28:26.063715",
     "status": "completed"
    },
    "tags": []
   },
   "source": [
    "<div style=\"border-radius:10px; border:#65647C solid; padding: 15px; background-color: #F8EDE3; font-size:100%; text-align:left\">\n",
    "\n",
    "<h3 align=\"left\"><font color='#7D6E83'><b>🗨️ Comment: </b></font></h3>\n",
    "\n",
    "* Jumanji filmine göre benzer 10 adet filmi önerdik. Filmlerin kendi içindeki özelliklerine göre (oyuncu,yönetmen,açıklama) önerilerde bulunuldu."
   ]
  },
  {
   "cell_type": "markdown",
   "id": "6a028e0e",
   "metadata": {
    "papermill": {
     "duration": 0.042914,
     "end_time": "2023-11-13T12:28:26.190304",
     "exception": false,
     "start_time": "2023-11-13T12:28:26.147390",
     "status": "completed"
    },
    "tags": []
   },
   "source": [
    "<a id=\"15\"></a>\n",
    "<h1 style=\"border-radius: 10px; border: 2px solid #6B8E23; background-color: #F5F5DC; font-family: 'Pacifico', cursive; font-size: 200%; text-align: center; border-radius: 15px 50px; padding: 15px; box-shadow: 5px 5px 5px #556B2F; color: #556B2F;\">🫂 Collaborative Filtering 🫂</h1>"
   ]
  },
  {
   "cell_type": "markdown",
   "id": "421b89cc",
   "metadata": {
    "papermill": {
     "duration": 0.042112,
     "end_time": "2023-11-13T12:28:26.274997",
     "exception": false,
     "start_time": "2023-11-13T12:28:26.232885",
     "status": "completed"
    },
    "tags": []
   },
   "source": [
    "**İşbirlikçi Filtreleme Nedir?**\n",
    "\n",
    "İşbirlikçi filtreleme, sistem tarafından diğer kullanıcılar tarafından sağlanan etkileşimler ve verileri kullanarak bilgiyi filtreler. Temel fikir, belirli öğelerin değerlendirmelerinde anlaşan kişilerin gelecekte de tekrar anlaşma olasılıklarının yüksek olduğu düşüncesine dayanır.\n",
    "\n",
    "Konsept oldukça basittir: Yeni bir film izlemek istediğimizde genellikle öneriler için arkadaşlarımıza danışırız. Doğal olarak, kendi zevklerimize benzer tatları paylaşan arkadaşlardan gelen önerilere daha fazla güveniriz.\n",
    "\n",
    "Çoğu işbirlikçi filtreleme sistemi, benzerlik endeks tabanlı tekniği kullanır. Yakınsama tabanlı yaklaşımda, etkin kullanıcıya benzerliklerine dayalı olarak bir dizi kullanıcı seçilir. Etkin kullanıcı için çıkarım, seçilen kullanıcıların puanlarının ağırlıklı ortalamasını hesaplayarak yapılır.\n",
    "\n",
    "İşbirlikçi filtreleme sistemleri, kullanıcılar ve öğeler arasındaki ilişki üzerine odaklanır. Öğelerin benzerliği, her iki öğeyi de puanlayan kullanıcıların puanlarının benzerliği tarafından belirlenir.\n",
    "\n",
    "**İşbirlikçi Filtrelemenin Üç Sınıfı Bulunmaktadır:**\n",
    "\n",
    "- Kullanıcı tabanlı, hedef kullanıcılar ile diğer kullanıcılar arasındaki benzerliği ölçer.\n",
    "- Öğe tabanlı, hedef kullanıcıların puanladığı veya etkileşimde bulunduğu öğeler ile diğer öğeler arasındaki benzerliği ölçer.\n",
    "- Model tabanlı, öneri sistemlerinde kullanılan bir model tabanlı yaklaşımdır. Kullanıcıların veya öğelerin benzerliklerini hesaplayarak kişiselleştirilmiş öneriler üretir. Bu yaklaşım, kullanıcıların geçmiş davranışlarına veya öğelerin özelliklerine dayanır.\n",
    "- Ayrıca, Öğe Tabanlı ve Kullanıcı Tabanlı filtreleme türleri Bellek tabanlı işbirliğine dayalı yaklaşımın alt kategorileridir.\n",
    "\n",
    "**İşbirlikçi Filtreleme Kullanılırken Karşılaşılan Bazı Zorluklar Nelerdir?**\n",
    "\n",
    "Her algoritmanın avantajları ve dezavantajları olduğu gibi İşbirlikçi Filtreleme Algoritmalarının da kendine özgü artıları ve eksileri vardır. İşbirlikçi Filtreleme algoritmaları son derece dinamik olup kullanıcı tercihlerindeki değişikliklere ayak uydurabilir. Ancak, öneri sistemleri tarafından karşılaşılan temel sorunlardan biri ölçeklenebilirlik sorunudur, çünkü kullanıcı tabanı arttıkça, hesaplama ve veri depolama alanı boyutları katlanarak artar ve yavaş ve kesin olmayan sonuçlara yol açar.\n",
    "\n",
    "Ayrıca, işbirlikçi filtreleme algoritmaları ürün çeşitliliği önermekte başarısız olur, çünkü tarih verilerine dayalıdır ve bu nedenle ilgili ürünlerle ilgili öneriler sunar."
   ]
  },
  {
   "cell_type": "markdown",
   "id": "cf1a448e",
   "metadata": {
    "papermill": {
     "duration": 0.042626,
     "end_time": "2023-11-13T12:28:26.360433",
     "exception": false,
     "start_time": "2023-11-13T12:28:26.317807",
     "status": "completed"
    },
    "tags": []
   },
   "source": [
    "<center><img src=\"https://i.imgur.com/Z6O8yW1.png\" width=\"900\" height=\"900\"></center>"
   ]
  },
  {
   "cell_type": "markdown",
   "id": "ad0350c2",
   "metadata": {
    "papermill": {
     "duration": 0.041939,
     "end_time": "2023-11-13T12:28:26.444276",
     "exception": false,
     "start_time": "2023-11-13T12:28:26.402337",
     "status": "completed"
    },
    "tags": []
   },
   "source": [
    "<a id = \"16\"></a><br>\n",
    "<p style=\"font-family: 'Pacifico', cursive; font-weight: bold; letter-spacing: 2px; color: #556B2F; font-size: 160%; text-align: left; padding: 0px; border-bottom: 3px solid\">✨User-Based Collaborative Filtering✨</p>"
   ]
  },
  {
   "cell_type": "markdown",
   "id": "cc6c4b95",
   "metadata": {
    "papermill": {
     "duration": 0.042221,
     "end_time": "2023-11-13T12:28:26.528857",
     "exception": false,
     "start_time": "2023-11-13T12:28:26.486636",
     "status": "completed"
    },
    "tags": []
   },
   "source": [
    "Kullanıcı tabanlı işbirlikçi filtreleme, önceki kullanıcı-ürün etkileşimlerine dayalı önerilerde bulunur. Algoritmanın temel varsayımı, benzer kullanıcıların benzer ürünleri beğendiğidir.\n",
    "\n",
    "Kullanıcı tabanlı işbirlikçi filtreleme algoritması genellikle aşağıdaki adımları içerir:\n",
    "\n",
    "1. Ortak öğelerle etkileşimlere dayalı benzer kullanıcıları bulun.\n",
    "2. Benzer kullanıcılar tarafından yüksek puan verilen ancak ilgi duyulan etkileşimde bulunan kullanıcının görmediği öğeleri tanımlayın.\n",
    "3. Her öğe için ağırlıklı ortalama puanı hesaplayın.\n",
    "4. Puanı esas alarak öğeleri sıralayın ve en iyi n öğeyi önermek için en üst sıradaki öğeleri seçin."
   ]
  },
  {
   "cell_type": "markdown",
   "id": "45c65bd0",
   "metadata": {
    "papermill": {
     "duration": 0.041829,
     "end_time": "2023-11-13T12:28:26.613001",
     "exception": false,
     "start_time": "2023-11-13T12:28:26.571172",
     "status": "completed"
    },
    "tags": []
   },
   "source": [
    "<center><img src=\"https://i.imgur.com/nIbVPUK.png\" width=\"500\" height=\"500\"></center>"
   ]
  },
  {
   "cell_type": "markdown",
   "id": "25e3d5f1",
   "metadata": {
    "papermill": {
     "duration": 0.042159,
     "end_time": "2023-11-13T12:28:26.697389",
     "exception": false,
     "start_time": "2023-11-13T12:28:26.655230",
     "status": "completed"
    },
    "tags": []
   },
   "source": [
    "Bu grafik, basitleştirilmiş bir örnek kullanarak kullanıcı tabanlı işbirlikçi filtrelemenin nasıl çalıştığını göstermektedir.\n",
    "\n",
    "* Sarışın bayan elma seviyor. Siyah saçlı kadın karpuz ve ananası seviyor. Mor saçlı bayan karpuz ve üzümü seviyor.\n",
    "* Siyah saçlı kadın ve Mor saçlı bayan aynı meyve olan karpuzu beğendikleri için benzer kullanıcılardır.\n",
    "* Siyah saçlı ananası seviyorsa ve Mor saçlı bayan daha önce ananasa maruz kalmadıysa, öneri sistemi Mor saçlı bayana ananası önerir."
   ]
  },
  {
   "cell_type": "markdown",
   "id": "e863cfed",
   "metadata": {
    "papermill": {
     "duration": 0.041833,
     "end_time": "2023-11-13T12:28:26.781394",
     "exception": false,
     "start_time": "2023-11-13T12:28:26.739561",
     "status": "completed"
    },
    "tags": []
   },
   "source": [
    "<a id = \"17\"></a><br>\n",
    "<p style=\"font-family: 'Pacifico', cursive; font-weight: bold; letter-spacing: 2px; color: #556B2F; font-size: 160%; text-align: left; padding: 0px; border-bottom: 3px solid\">✨User-Based Recommendation System✨</p>"
   ]
  },
  {
   "cell_type": "markdown",
   "id": "d8497a11",
   "metadata": {
    "papermill": {
     "duration": 0.041808,
     "end_time": "2023-11-13T12:28:26.865349",
     "exception": false,
     "start_time": "2023-11-13T12:28:26.823541",
     "status": "completed"
    },
    "tags": []
   },
   "source": [
    "<a id = \"18\"></a><br>\n",
    "<div style=\"font-family:JetBrains Mono; font-weight:bold; letter-spacing: 2px; color:#E5788F; font-size:150%; text-align:left; padding: 0px;\">Preparing Data</div>"
   ]
  },
  {
   "cell_type": "code",
   "execution_count": 60,
   "id": "d4fc81f5",
   "metadata": {
    "execution": {
     "iopub.execute_input": "2023-11-13T12:28:26.953444Z",
     "iopub.status.busy": "2023-11-13T12:28:26.952485Z",
     "iopub.status.idle": "2023-11-13T12:28:26.957346Z",
     "shell.execute_reply": "2023-11-13T12:28:26.956471Z"
    },
    "papermill": {
     "duration": 0.052119,
     "end_time": "2023-11-13T12:28:26.959594",
     "exception": false,
     "start_time": "2023-11-13T12:28:26.907475",
     "status": "completed"
    },
    "tags": []
   },
   "outputs": [],
   "source": [
    "import pandas as pd\n",
    "\n",
    "import warnings\n",
    "warnings.filterwarnings(\"ignore\")"
   ]
  },
  {
   "cell_type": "code",
   "execution_count": 61,
   "id": "9be61708",
   "metadata": {
    "execution": {
     "iopub.execute_input": "2023-11-13T12:28:27.048988Z",
     "iopub.status.busy": "2023-11-13T12:28:27.047737Z",
     "iopub.status.idle": "2023-11-13T12:28:27.146491Z",
     "shell.execute_reply": "2023-11-13T12:28:27.145298Z"
    },
    "papermill": {
     "duration": 0.146913,
     "end_time": "2023-11-13T12:28:27.149055",
     "exception": false,
     "start_time": "2023-11-13T12:28:27.002142",
     "status": "completed"
    },
    "tags": []
   },
   "outputs": [],
   "source": [
    "rating = pd.read_csv('/kaggle/input/the-movies-dataset/ratings_small.csv')\n",
    "\n",
    "df = pd.merge(movies,rating, how=\"inner\", on=\"movieId\")"
   ]
  },
  {
   "cell_type": "code",
   "execution_count": 62,
   "id": "27b1a50f",
   "metadata": {
    "execution": {
     "iopub.execute_input": "2023-11-13T12:28:27.236526Z",
     "iopub.status.busy": "2023-11-13T12:28:27.235475Z",
     "iopub.status.idle": "2023-11-13T12:28:27.256471Z",
     "shell.execute_reply": "2023-11-13T12:28:27.255461Z"
    },
    "papermill": {
     "duration": 0.067283,
     "end_time": "2023-11-13T12:28:27.258942",
     "exception": false,
     "start_time": "2023-11-13T12:28:27.191659",
     "status": "completed"
    },
    "tags": []
   },
   "outputs": [],
   "source": [
    "rating[\"date\"] = pd.to_datetime(rating[\"timestamp\"],unit=\"s\")"
   ]
  },
  {
   "cell_type": "code",
   "execution_count": 63,
   "id": "95511622",
   "metadata": {
    "execution": {
     "iopub.execute_input": "2023-11-13T12:28:27.347067Z",
     "iopub.status.busy": "2023-11-13T12:28:27.346239Z",
     "iopub.status.idle": "2023-11-13T12:28:27.354070Z",
     "shell.execute_reply": "2023-11-13T12:28:27.352988Z"
    },
    "papermill": {
     "duration": 0.054729,
     "end_time": "2023-11-13T12:28:27.356644",
     "exception": false,
     "start_time": "2023-11-13T12:28:27.301915",
     "status": "completed"
    },
    "tags": []
   },
   "outputs": [],
   "source": [
    "rating = rating.drop(\"timestamp\",axis=1)"
   ]
  },
  {
   "cell_type": "code",
   "execution_count": 64,
   "id": "2cf0589c",
   "metadata": {
    "execution": {
     "iopub.execute_input": "2023-11-13T12:28:27.446192Z",
     "iopub.status.busy": "2023-11-13T12:28:27.445258Z",
     "iopub.status.idle": "2023-11-13T12:28:27.473961Z",
     "shell.execute_reply": "2023-11-13T12:28:27.472658Z"
    },
    "papermill": {
     "duration": 0.075793,
     "end_time": "2023-11-13T12:28:27.476693",
     "exception": false,
     "start_time": "2023-11-13T12:28:27.400900",
     "status": "completed"
    },
    "tags": []
   },
   "outputs": [],
   "source": [
    "df = pd.merge(movies,rating, how=\"inner\", on=\"movieId\")"
   ]
  },
  {
   "cell_type": "code",
   "execution_count": 65,
   "id": "4db6ba2e",
   "metadata": {
    "execution": {
     "iopub.execute_input": "2023-11-13T12:28:27.574448Z",
     "iopub.status.busy": "2023-11-13T12:28:27.573626Z",
     "iopub.status.idle": "2023-11-13T12:28:27.588292Z",
     "shell.execute_reply": "2023-11-13T12:28:27.587418Z"
    },
    "papermill": {
     "duration": 0.065918,
     "end_time": "2023-11-13T12:28:27.590512",
     "exception": false,
     "start_time": "2023-11-13T12:28:27.524594",
     "status": "completed"
    },
    "tags": []
   },
   "outputs": [
    {
     "data": {
      "text/html": [
       "<div>\n",
       "<style scoped>\n",
       "    .dataframe tbody tr th:only-of-type {\n",
       "        vertical-align: middle;\n",
       "    }\n",
       "\n",
       "    .dataframe tbody tr th {\n",
       "        vertical-align: top;\n",
       "    }\n",
       "\n",
       "    .dataframe thead th {\n",
       "        text-align: right;\n",
       "    }\n",
       "</style>\n",
       "<table border=\"1\" class=\"dataframe\">\n",
       "  <thead>\n",
       "    <tr style=\"text-align: right;\">\n",
       "      <th></th>\n",
       "      <th>movieId</th>\n",
       "      <th>overview</th>\n",
       "      <th>release_date</th>\n",
       "      <th>title</th>\n",
       "      <th>vote_average</th>\n",
       "      <th>vote_count</th>\n",
       "      <th>userId</th>\n",
       "      <th>rating</th>\n",
       "      <th>date</th>\n",
       "    </tr>\n",
       "  </thead>\n",
       "  <tbody>\n",
       "    <tr>\n",
       "      <th>0</th>\n",
       "      <td>949</td>\n",
       "      <td>Obsessive master thief  Neil McCauley leads a ...</td>\n",
       "      <td>1995-12-15</td>\n",
       "      <td>Heat</td>\n",
       "      <td>7.7</td>\n",
       "      <td>1886.0</td>\n",
       "      <td>23</td>\n",
       "      <td>3.5</td>\n",
       "      <td>2006-05-27 09:11:32</td>\n",
       "    </tr>\n",
       "    <tr>\n",
       "      <th>1</th>\n",
       "      <td>949</td>\n",
       "      <td>Obsessive master thief  Neil McCauley leads a ...</td>\n",
       "      <td>1995-12-15</td>\n",
       "      <td>Heat</td>\n",
       "      <td>7.7</td>\n",
       "      <td>1886.0</td>\n",
       "      <td>102</td>\n",
       "      <td>4.0</td>\n",
       "      <td>2000-04-24 17:55:42</td>\n",
       "    </tr>\n",
       "    <tr>\n",
       "      <th>2</th>\n",
       "      <td>949</td>\n",
       "      <td>Obsessive master thief  Neil McCauley leads a ...</td>\n",
       "      <td>1995-12-15</td>\n",
       "      <td>Heat</td>\n",
       "      <td>7.7</td>\n",
       "      <td>1886.0</td>\n",
       "      <td>232</td>\n",
       "      <td>2.0</td>\n",
       "      <td>2000-04-07 07:31:37</td>\n",
       "    </tr>\n",
       "    <tr>\n",
       "      <th>3</th>\n",
       "      <td>949</td>\n",
       "      <td>Obsessive master thief  Neil McCauley leads a ...</td>\n",
       "      <td>1995-12-15</td>\n",
       "      <td>Heat</td>\n",
       "      <td>7.7</td>\n",
       "      <td>1886.0</td>\n",
       "      <td>242</td>\n",
       "      <td>5.0</td>\n",
       "      <td>2000-04-25 18:53:45</td>\n",
       "    </tr>\n",
       "    <tr>\n",
       "      <th>4</th>\n",
       "      <td>949</td>\n",
       "      <td>Obsessive master thief  Neil McCauley leads a ...</td>\n",
       "      <td>1995-12-15</td>\n",
       "      <td>Heat</td>\n",
       "      <td>7.7</td>\n",
       "      <td>1886.0</td>\n",
       "      <td>263</td>\n",
       "      <td>3.0</td>\n",
       "      <td>2005-06-04 00:56:15</td>\n",
       "    </tr>\n",
       "  </tbody>\n",
       "</table>\n",
       "</div>"
      ],
      "text/plain": [
       "   movieId                                           overview release_date  \\\n",
       "0      949  Obsessive master thief  Neil McCauley leads a ...   1995-12-15   \n",
       "1      949  Obsessive master thief  Neil McCauley leads a ...   1995-12-15   \n",
       "2      949  Obsessive master thief  Neil McCauley leads a ...   1995-12-15   \n",
       "3      949  Obsessive master thief  Neil McCauley leads a ...   1995-12-15   \n",
       "4      949  Obsessive master thief  Neil McCauley leads a ...   1995-12-15   \n",
       "\n",
       "  title  vote_average  vote_count  userId  rating                date  \n",
       "0  Heat           7.7      1886.0      23     3.5 2006-05-27 09:11:32  \n",
       "1  Heat           7.7      1886.0     102     4.0 2000-04-24 17:55:42  \n",
       "2  Heat           7.7      1886.0     232     2.0 2000-04-07 07:31:37  \n",
       "3  Heat           7.7      1886.0     242     5.0 2000-04-25 18:53:45  \n",
       "4  Heat           7.7      1886.0     263     3.0 2005-06-04 00:56:15  "
      ]
     },
     "execution_count": 65,
     "metadata": {},
     "output_type": "execute_result"
    }
   ],
   "source": [
    "df.head()"
   ]
  },
  {
   "cell_type": "markdown",
   "id": "7fbcdbd3",
   "metadata": {
    "papermill": {
     "duration": 0.048993,
     "end_time": "2023-11-13T12:28:27.688479",
     "exception": false,
     "start_time": "2023-11-13T12:28:27.639486",
     "status": "completed"
    },
    "tags": []
   },
   "source": [
    "<div style=\"border-radius: 10px; border: #6B8E23 solid; padding: 15px; background-color: #F5F5DC; font-size: 100%; text-align: left\">\n",
    "\n",
    "<h3 align=\"left\"><font color='#556B2F'>👀 Features: </font></h3>\n",
    "\n",
    "* **movieId:** Eşsiz film numarası (UniqueID)\n",
    "* **title:** Film adı\n",
    "* **userid:** Eşsiz kullanıcı numarası\n",
    "* **rating:** Kullanıcı tarafından filme verilen puan\n",
    "* **timestamp:** Değerlendirilme tarihi"
   ]
  },
  {
   "cell_type": "markdown",
   "id": "abc9ab09",
   "metadata": {
    "papermill": {
     "duration": 0.04894,
     "end_time": "2023-11-13T12:28:27.786777",
     "exception": false,
     "start_time": "2023-11-13T12:28:27.737837",
     "status": "completed"
    },
    "tags": []
   },
   "source": [
    "<a id = \"19\"></a><br>\n",
    "<div style=\"font-family:JetBrains Mono; font-weight:bold; letter-spacing: 2px; color:#E5788F; font-size:150%; text-align:left; padding: 0px;\">Creating User-Movie DataFrame</div>"
   ]
  },
  {
   "cell_type": "code",
   "execution_count": 66,
   "id": "d5fd2a68",
   "metadata": {
    "execution": {
     "iopub.execute_input": "2023-11-13T12:28:27.886792Z",
     "iopub.status.busy": "2023-11-13T12:28:27.886417Z",
     "iopub.status.idle": "2023-11-13T12:28:27.892485Z",
     "shell.execute_reply": "2023-11-13T12:28:27.891689Z"
    },
    "papermill": {
     "duration": 0.059164,
     "end_time": "2023-11-13T12:28:27.894582",
     "exception": false,
     "start_time": "2023-11-13T12:28:27.835418",
     "status": "completed"
    },
    "tags": []
   },
   "outputs": [
    {
     "data": {
      "text/plain": [
       "(44823, 9)"
      ]
     },
     "execution_count": 66,
     "metadata": {},
     "output_type": "execute_result"
    }
   ],
   "source": [
    "df.shape # 44823 rating"
   ]
  },
  {
   "cell_type": "code",
   "execution_count": 67,
   "id": "da8e5556",
   "metadata": {
    "execution": {
     "iopub.execute_input": "2023-11-13T12:28:27.994101Z",
     "iopub.status.busy": "2023-11-13T12:28:27.993386Z",
     "iopub.status.idle": "2023-11-13T12:28:28.003775Z",
     "shell.execute_reply": "2023-11-13T12:28:28.002650Z"
    },
    "papermill": {
     "duration": 0.062884,
     "end_time": "2023-11-13T12:28:28.006118",
     "exception": false,
     "start_time": "2023-11-13T12:28:27.943234",
     "status": "completed"
    },
    "tags": []
   },
   "outputs": [
    {
     "data": {
      "text/plain": [
       "2772"
      ]
     },
     "execution_count": 67,
     "metadata": {},
     "output_type": "execute_result"
    }
   ],
   "source": [
    "df[\"title\"].nunique() # 2772 eşsiz film sayısı"
   ]
  },
  {
   "cell_type": "code",
   "execution_count": 68,
   "id": "67474764",
   "metadata": {
    "execution": {
     "iopub.execute_input": "2023-11-13T12:28:28.105851Z",
     "iopub.status.busy": "2023-11-13T12:28:28.105108Z",
     "iopub.status.idle": "2023-11-13T12:28:28.119638Z",
     "shell.execute_reply": "2023-11-13T12:28:28.118830Z"
    },
    "papermill": {
     "duration": 0.066922,
     "end_time": "2023-11-13T12:28:28.121811",
     "exception": false,
     "start_time": "2023-11-13T12:28:28.054889",
     "status": "completed"
    },
    "tags": []
   },
   "outputs": [
    {
     "data": {
      "text/plain": [
       "title\n",
       "Terminator 3: Rise of the Machines    324\n",
       "The Million Dollar Hotel              311\n",
       "Solaris                               305\n",
       "The 39 Steps                          291\n",
       "Monsoon Wedding                       274\n",
       "                                     ... \n",
       "Things to Come                          1\n",
       "Portrait in Black                       1\n",
       "Les Visiteurs du Soir                   1\n",
       "The Warped Ones                         1\n",
       "The One-Man Band                        1\n",
       "Name: count, Length: 2772, dtype: int64"
      ]
     },
     "execution_count": 68,
     "metadata": {},
     "output_type": "execute_result"
    }
   ],
   "source": [
    "values_pd = df[\"title\"].value_counts() # hangi filme kaç yorum geldiği\n",
    "\n",
    "values_pd"
   ]
  },
  {
   "cell_type": "code",
   "execution_count": 69,
   "id": "cbf21f75",
   "metadata": {
    "execution": {
     "iopub.execute_input": "2023-11-13T12:28:28.221520Z",
     "iopub.status.busy": "2023-11-13T12:28:28.221144Z",
     "iopub.status.idle": "2023-11-13T12:28:28.226776Z",
     "shell.execute_reply": "2023-11-13T12:28:28.225900Z"
    },
    "papermill": {
     "duration": 0.058209,
     "end_time": "2023-11-13T12:28:28.228900",
     "exception": false,
     "start_time": "2023-11-13T12:28:28.170691",
     "status": "completed"
    },
    "tags": []
   },
   "outputs": [],
   "source": [
    "rare_movies = values_pd[values_pd < 5].index"
   ]
  },
  {
   "cell_type": "code",
   "execution_count": 70,
   "id": "62cab780",
   "metadata": {
    "execution": {
     "iopub.execute_input": "2023-11-13T12:28:28.329312Z",
     "iopub.status.busy": "2023-11-13T12:28:28.328911Z",
     "iopub.status.idle": "2023-11-13T12:28:28.353696Z",
     "shell.execute_reply": "2023-11-13T12:28:28.352412Z"
    },
    "papermill": {
     "duration": 0.078901,
     "end_time": "2023-11-13T12:28:28.356784",
     "exception": false,
     "start_time": "2023-11-13T12:28:28.277883",
     "status": "completed"
    },
    "tags": []
   },
   "outputs": [],
   "source": [
    "df_ = df[~df[\"title\"].isin(rare_movies)] # rating sayısı 5'ten az olanların çıkarılması"
   ]
  },
  {
   "cell_type": "code",
   "execution_count": 71,
   "id": "585f753c",
   "metadata": {
    "execution": {
     "iopub.execute_input": "2023-11-13T12:28:28.462623Z",
     "iopub.status.busy": "2023-11-13T12:28:28.462215Z",
     "iopub.status.idle": "2023-11-13T12:28:28.477515Z",
     "shell.execute_reply": "2023-11-13T12:28:28.476716Z"
    },
    "papermill": {
     "duration": 0.071852,
     "end_time": "2023-11-13T12:28:28.479631",
     "exception": false,
     "start_time": "2023-11-13T12:28:28.407779",
     "status": "completed"
    },
    "tags": []
   },
   "outputs": [
    {
     "data": {
      "text/html": [
       "<div>\n",
       "<style scoped>\n",
       "    .dataframe tbody tr th:only-of-type {\n",
       "        vertical-align: middle;\n",
       "    }\n",
       "\n",
       "    .dataframe tbody tr th {\n",
       "        vertical-align: top;\n",
       "    }\n",
       "\n",
       "    .dataframe thead th {\n",
       "        text-align: right;\n",
       "    }\n",
       "</style>\n",
       "<table border=\"1\" class=\"dataframe\">\n",
       "  <thead>\n",
       "    <tr style=\"text-align: right;\">\n",
       "      <th></th>\n",
       "      <th>movieId</th>\n",
       "      <th>overview</th>\n",
       "      <th>release_date</th>\n",
       "      <th>title</th>\n",
       "      <th>vote_average</th>\n",
       "      <th>vote_count</th>\n",
       "      <th>userId</th>\n",
       "      <th>rating</th>\n",
       "      <th>date</th>\n",
       "    </tr>\n",
       "  </thead>\n",
       "  <tbody>\n",
       "    <tr>\n",
       "      <th>0</th>\n",
       "      <td>949</td>\n",
       "      <td>Obsessive master thief  Neil McCauley leads a ...</td>\n",
       "      <td>1995-12-15</td>\n",
       "      <td>Heat</td>\n",
       "      <td>7.7</td>\n",
       "      <td>1886.0</td>\n",
       "      <td>23</td>\n",
       "      <td>3.5</td>\n",
       "      <td>2006-05-27 09:11:32</td>\n",
       "    </tr>\n",
       "    <tr>\n",
       "      <th>1</th>\n",
       "      <td>949</td>\n",
       "      <td>Obsessive master thief  Neil McCauley leads a ...</td>\n",
       "      <td>1995-12-15</td>\n",
       "      <td>Heat</td>\n",
       "      <td>7.7</td>\n",
       "      <td>1886.0</td>\n",
       "      <td>102</td>\n",
       "      <td>4.0</td>\n",
       "      <td>2000-04-24 17:55:42</td>\n",
       "    </tr>\n",
       "    <tr>\n",
       "      <th>2</th>\n",
       "      <td>949</td>\n",
       "      <td>Obsessive master thief  Neil McCauley leads a ...</td>\n",
       "      <td>1995-12-15</td>\n",
       "      <td>Heat</td>\n",
       "      <td>7.7</td>\n",
       "      <td>1886.0</td>\n",
       "      <td>232</td>\n",
       "      <td>2.0</td>\n",
       "      <td>2000-04-07 07:31:37</td>\n",
       "    </tr>\n",
       "    <tr>\n",
       "      <th>3</th>\n",
       "      <td>949</td>\n",
       "      <td>Obsessive master thief  Neil McCauley leads a ...</td>\n",
       "      <td>1995-12-15</td>\n",
       "      <td>Heat</td>\n",
       "      <td>7.7</td>\n",
       "      <td>1886.0</td>\n",
       "      <td>242</td>\n",
       "      <td>5.0</td>\n",
       "      <td>2000-04-25 18:53:45</td>\n",
       "    </tr>\n",
       "    <tr>\n",
       "      <th>4</th>\n",
       "      <td>949</td>\n",
       "      <td>Obsessive master thief  Neil McCauley leads a ...</td>\n",
       "      <td>1995-12-15</td>\n",
       "      <td>Heat</td>\n",
       "      <td>7.7</td>\n",
       "      <td>1886.0</td>\n",
       "      <td>263</td>\n",
       "      <td>3.0</td>\n",
       "      <td>2005-06-04 00:56:15</td>\n",
       "    </tr>\n",
       "  </tbody>\n",
       "</table>\n",
       "</div>"
      ],
      "text/plain": [
       "   movieId                                           overview release_date  \\\n",
       "0      949  Obsessive master thief  Neil McCauley leads a ...   1995-12-15   \n",
       "1      949  Obsessive master thief  Neil McCauley leads a ...   1995-12-15   \n",
       "2      949  Obsessive master thief  Neil McCauley leads a ...   1995-12-15   \n",
       "3      949  Obsessive master thief  Neil McCauley leads a ...   1995-12-15   \n",
       "4      949  Obsessive master thief  Neil McCauley leads a ...   1995-12-15   \n",
       "\n",
       "  title  vote_average  vote_count  userId  rating                date  \n",
       "0  Heat           7.7      1886.0      23     3.5 2006-05-27 09:11:32  \n",
       "1  Heat           7.7      1886.0     102     4.0 2000-04-24 17:55:42  \n",
       "2  Heat           7.7      1886.0     232     2.0 2000-04-07 07:31:37  \n",
       "3  Heat           7.7      1886.0     242     5.0 2000-04-25 18:53:45  \n",
       "4  Heat           7.7      1886.0     263     3.0 2005-06-04 00:56:15  "
      ]
     },
     "execution_count": 71,
     "metadata": {},
     "output_type": "execute_result"
    }
   ],
   "source": [
    "df_.head()"
   ]
  },
  {
   "cell_type": "code",
   "execution_count": 72,
   "id": "d0defc3c",
   "metadata": {
    "execution": {
     "iopub.execute_input": "2023-11-13T12:28:28.589874Z",
     "iopub.status.busy": "2023-11-13T12:28:28.589465Z",
     "iopub.status.idle": "2023-11-13T12:28:28.628219Z",
     "shell.execute_reply": "2023-11-13T12:28:28.627121Z"
    },
    "papermill": {
     "duration": 0.097962,
     "end_time": "2023-11-13T12:28:28.631256",
     "exception": false,
     "start_time": "2023-11-13T12:28:28.533294",
     "status": "completed"
    },
    "tags": []
   },
   "outputs": [],
   "source": [
    "user_title_df = df_.groupby([\"userId\",\"title\"])[\"rating\"].mean().unstack().notnull()"
   ]
  },
  {
   "cell_type": "code",
   "execution_count": 73,
   "id": "6cdaac61",
   "metadata": {
    "execution": {
     "iopub.execute_input": "2023-11-13T12:28:28.745269Z",
     "iopub.status.busy": "2023-11-13T12:28:28.744787Z",
     "iopub.status.idle": "2023-11-13T12:28:28.751288Z",
     "shell.execute_reply": "2023-11-13T12:28:28.750190Z"
    },
    "papermill": {
     "duration": 0.066499,
     "end_time": "2023-11-13T12:28:28.753756",
     "exception": false,
     "start_time": "2023-11-13T12:28:28.687257",
     "status": "completed"
    },
    "tags": []
   },
   "outputs": [
    {
     "data": {
      "text/plain": [
       "(671, 1343)"
      ]
     },
     "execution_count": 73,
     "metadata": {},
     "output_type": "execute_result"
    }
   ],
   "source": [
    "user_title_df.shape # 671 user_id , 1343 movies"
   ]
  },
  {
   "cell_type": "code",
   "execution_count": 74,
   "id": "4fc630bf",
   "metadata": {
    "execution": {
     "iopub.execute_input": "2023-11-13T12:28:28.863445Z",
     "iopub.status.busy": "2023-11-13T12:28:28.863030Z",
     "iopub.status.idle": "2023-11-13T12:28:28.886976Z",
     "shell.execute_reply": "2023-11-13T12:28:28.886189Z"
    },
    "papermill": {
     "duration": 0.082004,
     "end_time": "2023-11-13T12:28:28.889498",
     "exception": false,
     "start_time": "2023-11-13T12:28:28.807494",
     "status": "completed"
    },
    "tags": []
   },
   "outputs": [
    {
     "data": {
      "text/html": [
       "<div>\n",
       "<style scoped>\n",
       "    .dataframe tbody tr th:only-of-type {\n",
       "        vertical-align: middle;\n",
       "    }\n",
       "\n",
       "    .dataframe tbody tr th {\n",
       "        vertical-align: top;\n",
       "    }\n",
       "\n",
       "    .dataframe thead th {\n",
       "        text-align: right;\n",
       "    }\n",
       "</style>\n",
       "<table border=\"1\" class=\"dataframe\">\n",
       "  <thead>\n",
       "    <tr style=\"text-align: right;\">\n",
       "      <th>title</th>\n",
       "      <th>10 Items or Less</th>\n",
       "      <th>10 Things I Hate About You</th>\n",
       "      <th>15 Minutes</th>\n",
       "      <th>1984</th>\n",
       "      <th>2 Days in Paris</th>\n",
       "      <th>20,000 Leagues Under the Sea</th>\n",
       "      <th>2001: A Space Odyssey</th>\n",
       "      <th>24 Hour Party People</th>\n",
       "      <th>25th Hour</th>\n",
       "      <th>28 Days Later</th>\n",
       "      <th>...</th>\n",
       "      <th>Young Adam</th>\n",
       "      <th>Young Frankenstein</th>\n",
       "      <th>Young and Innocent</th>\n",
       "      <th>Z</th>\n",
       "      <th>Zatoichi</th>\n",
       "      <th>Zazie dans le métro</th>\n",
       "      <th>Zodiac</th>\n",
       "      <th>eXistenZ</th>\n",
       "      <th>xXx</th>\n",
       "      <th>À nos amours</th>\n",
       "    </tr>\n",
       "    <tr>\n",
       "      <th>userId</th>\n",
       "      <th></th>\n",
       "      <th></th>\n",
       "      <th></th>\n",
       "      <th></th>\n",
       "      <th></th>\n",
       "      <th></th>\n",
       "      <th></th>\n",
       "      <th></th>\n",
       "      <th></th>\n",
       "      <th></th>\n",
       "      <th></th>\n",
       "      <th></th>\n",
       "      <th></th>\n",
       "      <th></th>\n",
       "      <th></th>\n",
       "      <th></th>\n",
       "      <th></th>\n",
       "      <th></th>\n",
       "      <th></th>\n",
       "      <th></th>\n",
       "      <th></th>\n",
       "    </tr>\n",
       "  </thead>\n",
       "  <tbody>\n",
       "    <tr>\n",
       "      <th>1</th>\n",
       "      <td>False</td>\n",
       "      <td>False</td>\n",
       "      <td>False</td>\n",
       "      <td>False</td>\n",
       "      <td>False</td>\n",
       "      <td>False</td>\n",
       "      <td>False</td>\n",
       "      <td>False</td>\n",
       "      <td>False</td>\n",
       "      <td>False</td>\n",
       "      <td>...</td>\n",
       "      <td>False</td>\n",
       "      <td>False</td>\n",
       "      <td>False</td>\n",
       "      <td>False</td>\n",
       "      <td>False</td>\n",
       "      <td>False</td>\n",
       "      <td>False</td>\n",
       "      <td>False</td>\n",
       "      <td>False</td>\n",
       "      <td>False</td>\n",
       "    </tr>\n",
       "    <tr>\n",
       "      <th>2</th>\n",
       "      <td>False</td>\n",
       "      <td>False</td>\n",
       "      <td>False</td>\n",
       "      <td>False</td>\n",
       "      <td>False</td>\n",
       "      <td>False</td>\n",
       "      <td>True</td>\n",
       "      <td>False</td>\n",
       "      <td>False</td>\n",
       "      <td>False</td>\n",
       "      <td>...</td>\n",
       "      <td>False</td>\n",
       "      <td>False</td>\n",
       "      <td>False</td>\n",
       "      <td>False</td>\n",
       "      <td>False</td>\n",
       "      <td>False</td>\n",
       "      <td>False</td>\n",
       "      <td>False</td>\n",
       "      <td>False</td>\n",
       "      <td>False</td>\n",
       "    </tr>\n",
       "    <tr>\n",
       "      <th>3</th>\n",
       "      <td>False</td>\n",
       "      <td>False</td>\n",
       "      <td>False</td>\n",
       "      <td>False</td>\n",
       "      <td>False</td>\n",
       "      <td>False</td>\n",
       "      <td>False</td>\n",
       "      <td>False</td>\n",
       "      <td>False</td>\n",
       "      <td>False</td>\n",
       "      <td>...</td>\n",
       "      <td>False</td>\n",
       "      <td>False</td>\n",
       "      <td>True</td>\n",
       "      <td>False</td>\n",
       "      <td>False</td>\n",
       "      <td>False</td>\n",
       "      <td>False</td>\n",
       "      <td>False</td>\n",
       "      <td>False</td>\n",
       "      <td>False</td>\n",
       "    </tr>\n",
       "    <tr>\n",
       "      <th>4</th>\n",
       "      <td>False</td>\n",
       "      <td>False</td>\n",
       "      <td>False</td>\n",
       "      <td>False</td>\n",
       "      <td>False</td>\n",
       "      <td>True</td>\n",
       "      <td>False</td>\n",
       "      <td>False</td>\n",
       "      <td>False</td>\n",
       "      <td>False</td>\n",
       "      <td>...</td>\n",
       "      <td>False</td>\n",
       "      <td>True</td>\n",
       "      <td>False</td>\n",
       "      <td>False</td>\n",
       "      <td>False</td>\n",
       "      <td>False</td>\n",
       "      <td>False</td>\n",
       "      <td>False</td>\n",
       "      <td>False</td>\n",
       "      <td>False</td>\n",
       "    </tr>\n",
       "    <tr>\n",
       "      <th>5</th>\n",
       "      <td>False</td>\n",
       "      <td>False</td>\n",
       "      <td>False</td>\n",
       "      <td>False</td>\n",
       "      <td>False</td>\n",
       "      <td>False</td>\n",
       "      <td>False</td>\n",
       "      <td>False</td>\n",
       "      <td>False</td>\n",
       "      <td>False</td>\n",
       "      <td>...</td>\n",
       "      <td>False</td>\n",
       "      <td>False</td>\n",
       "      <td>True</td>\n",
       "      <td>False</td>\n",
       "      <td>False</td>\n",
       "      <td>False</td>\n",
       "      <td>False</td>\n",
       "      <td>False</td>\n",
       "      <td>False</td>\n",
       "      <td>False</td>\n",
       "    </tr>\n",
       "  </tbody>\n",
       "</table>\n",
       "<p>5 rows × 1343 columns</p>\n",
       "</div>"
      ],
      "text/plain": [
       "title   10 Items or Less  10 Things I Hate About You  15 Minutes   1984  \\\n",
       "userId                                                                    \n",
       "1                  False                       False       False  False   \n",
       "2                  False                       False       False  False   \n",
       "3                  False                       False       False  False   \n",
       "4                  False                       False       False  False   \n",
       "5                  False                       False       False  False   \n",
       "\n",
       "title   2 Days in Paris  20,000 Leagues Under the Sea  2001: A Space Odyssey  \\\n",
       "userId                                                                         \n",
       "1                 False                         False                  False   \n",
       "2                 False                         False                   True   \n",
       "3                 False                         False                  False   \n",
       "4                 False                          True                  False   \n",
       "5                 False                         False                  False   \n",
       "\n",
       "title   24 Hour Party People  25th Hour  28 Days Later  ...  Young Adam  \\\n",
       "userId                                                  ...               \n",
       "1                      False      False          False  ...       False   \n",
       "2                      False      False          False  ...       False   \n",
       "3                      False      False          False  ...       False   \n",
       "4                      False      False          False  ...       False   \n",
       "5                      False      False          False  ...       False   \n",
       "\n",
       "title   Young Frankenstein  Young and Innocent      Z  Zatoichi  \\\n",
       "userId                                                            \n",
       "1                    False               False  False     False   \n",
       "2                    False               False  False     False   \n",
       "3                    False                True  False     False   \n",
       "4                     True               False  False     False   \n",
       "5                    False                True  False     False   \n",
       "\n",
       "title   Zazie dans le métro  Zodiac  eXistenZ    xXx  À nos amours  \n",
       "userId                                                              \n",
       "1                     False   False     False  False         False  \n",
       "2                     False   False     False  False         False  \n",
       "3                     False   False     False  False         False  \n",
       "4                     False   False     False  False         False  \n",
       "5                     False   False     False  False         False  \n",
       "\n",
       "[5 rows x 1343 columns]"
      ]
     },
     "execution_count": 74,
     "metadata": {},
     "output_type": "execute_result"
    }
   ],
   "source": [
    "user_title_df.head()"
   ]
  },
  {
   "cell_type": "code",
   "execution_count": 75,
   "id": "f015aa67",
   "metadata": {
    "execution": {
     "iopub.execute_input": "2023-11-13T12:28:29.001205Z",
     "iopub.status.busy": "2023-11-13T12:28:29.000782Z",
     "iopub.status.idle": "2023-11-13T12:28:29.008160Z",
     "shell.execute_reply": "2023-11-13T12:28:29.007151Z"
    },
    "papermill": {
     "duration": 0.066144,
     "end_time": "2023-11-13T12:28:29.010431",
     "exception": false,
     "start_time": "2023-11-13T12:28:28.944287",
     "status": "completed"
    },
    "tags": []
   },
   "outputs": [
    {
     "data": {
      "text/plain": [
       "Index(['10 Items or Less', '10 Things I Hate About You', '15 Minutes', '1984',\n",
       "       '2 Days in Paris', '20,000 Leagues Under the Sea',\n",
       "       '2001: A Space Odyssey', '24 Hour Party People', '25th Hour',\n",
       "       '28 Days Later',\n",
       "       ...\n",
       "       'Young Adam', 'Young Frankenstein', 'Young and Innocent', 'Z',\n",
       "       'Zatoichi', 'Zazie dans le métro', 'Zodiac', 'eXistenZ', 'xXx',\n",
       "       'À nos amours'],\n",
       "      dtype='object', name='title', length=1343)"
      ]
     },
     "execution_count": 75,
     "metadata": {},
     "output_type": "execute_result"
    }
   ],
   "source": [
    "user_title_df.columns"
   ]
  },
  {
   "cell_type": "code",
   "execution_count": 76,
   "id": "69e213ce",
   "metadata": {
    "execution": {
     "iopub.execute_input": "2023-11-13T12:28:29.103172Z",
     "iopub.status.busy": "2023-11-13T12:28:29.102354Z",
     "iopub.status.idle": "2023-11-13T12:28:29.109377Z",
     "shell.execute_reply": "2023-11-13T12:28:29.108328Z"
    },
    "papermill": {
     "duration": 0.056152,
     "end_time": "2023-11-13T12:28:29.111988",
     "exception": false,
     "start_time": "2023-11-13T12:28:29.055836",
     "status": "completed"
    },
    "tags": []
   },
   "outputs": [],
   "source": [
    "sample_guy = user_title_df.sample(1,random_state=45).index[0] # 1 tane rastgele örnek alıyoruz."
   ]
  },
  {
   "cell_type": "code",
   "execution_count": 77,
   "id": "9fad073a",
   "metadata": {
    "execution": {
     "iopub.execute_input": "2023-11-13T12:28:29.221525Z",
     "iopub.status.busy": "2023-11-13T12:28:29.220784Z",
     "iopub.status.idle": "2023-11-13T12:28:29.225536Z",
     "shell.execute_reply": "2023-11-13T12:28:29.224838Z"
    },
    "papermill": {
     "duration": 0.061224,
     "end_time": "2023-11-13T12:28:29.227689",
     "exception": false,
     "start_time": "2023-11-13T12:28:29.166465",
     "status": "completed"
    },
    "tags": []
   },
   "outputs": [],
   "source": [
    "random_user_df = user_title_df[user_title_df.index == sample_guy] # sample'a ait gözlem birimleri"
   ]
  },
  {
   "cell_type": "code",
   "execution_count": 78,
   "id": "105d329b",
   "metadata": {
    "execution": {
     "iopub.execute_input": "2023-11-13T12:28:29.338297Z",
     "iopub.status.busy": "2023-11-13T12:28:29.337537Z",
     "iopub.status.idle": "2023-11-13T12:28:29.343138Z",
     "shell.execute_reply": "2023-11-13T12:28:29.342350Z"
    },
    "papermill": {
     "duration": 0.063702,
     "end_time": "2023-11-13T12:28:29.345490",
     "exception": false,
     "start_time": "2023-11-13T12:28:29.281788",
     "status": "completed"
    },
    "tags": []
   },
   "outputs": [],
   "source": [
    "movies_watched = random_user_df.dropna(axis=1).columns.tolist() # sample'ın oy kullandığı filmler"
   ]
  },
  {
   "cell_type": "code",
   "execution_count": 79,
   "id": "234ddbfa",
   "metadata": {
    "execution": {
     "iopub.execute_input": "2023-11-13T12:28:29.462642Z",
     "iopub.status.busy": "2023-11-13T12:28:29.462213Z",
     "iopub.status.idle": "2023-11-13T12:28:29.469676Z",
     "shell.execute_reply": "2023-11-13T12:28:29.468876Z"
    },
    "papermill": {
     "duration": 0.070399,
     "end_time": "2023-11-13T12:28:29.472360",
     "exception": false,
     "start_time": "2023-11-13T12:28:29.401961",
     "status": "completed"
    },
    "tags": []
   },
   "outputs": [],
   "source": [
    "movies_watched_df = user_title_df[movies_watched]"
   ]
  },
  {
   "cell_type": "code",
   "execution_count": 80,
   "id": "caf37bca",
   "metadata": {
    "execution": {
     "iopub.execute_input": "2023-11-13T12:28:29.585716Z",
     "iopub.status.busy": "2023-11-13T12:28:29.585270Z",
     "iopub.status.idle": "2023-11-13T12:28:29.592672Z",
     "shell.execute_reply": "2023-11-13T12:28:29.591360Z"
    },
    "papermill": {
     "duration": 0.067803,
     "end_time": "2023-11-13T12:28:29.595328",
     "exception": false,
     "start_time": "2023-11-13T12:28:29.527525",
     "status": "completed"
    },
    "tags": []
   },
   "outputs": [],
   "source": [
    "user_movie_count = movies_watched_df.notnull().sum(axis=1) # her bir kullanıcının, sample'ın kaç filmini izlediğinin sayısı"
   ]
  },
  {
   "cell_type": "code",
   "execution_count": 81,
   "id": "fc326a6c",
   "metadata": {
    "execution": {
     "iopub.execute_input": "2023-11-13T12:28:29.707463Z",
     "iopub.status.busy": "2023-11-13T12:28:29.706763Z",
     "iopub.status.idle": "2023-11-13T12:28:29.712576Z",
     "shell.execute_reply": "2023-11-13T12:28:29.711841Z"
    },
    "papermill": {
     "duration": 0.065227,
     "end_time": "2023-11-13T12:28:29.714814",
     "exception": false,
     "start_time": "2023-11-13T12:28:29.649587",
     "status": "completed"
    },
    "tags": []
   },
   "outputs": [
    {
     "data": {
      "text/plain": [
       "1343"
      ]
     },
     "execution_count": 81,
     "metadata": {},
     "output_type": "execute_result"
    }
   ],
   "source": [
    "user_movie_count.max()"
   ]
  },
  {
   "cell_type": "code",
   "execution_count": 82,
   "id": "06dfdb67",
   "metadata": {
    "execution": {
     "iopub.execute_input": "2023-11-13T12:28:29.824944Z",
     "iopub.status.busy": "2023-11-13T12:28:29.824164Z",
     "iopub.status.idle": "2023-11-13T12:28:29.831173Z",
     "shell.execute_reply": "2023-11-13T12:28:29.830424Z"
    },
    "papermill": {
     "duration": 0.064921,
     "end_time": "2023-11-13T12:28:29.833383",
     "exception": false,
     "start_time": "2023-11-13T12:28:29.768462",
     "status": "completed"
    },
    "tags": []
   },
   "outputs": [
    {
     "data": {
      "text/plain": [
       "Index([  1,   2,   3,   4,   5,   6,   7,   8,   9,  10,\n",
       "       ...\n",
       "       662, 663, 664, 665, 666, 667, 668, 669, 670, 671],\n",
       "      dtype='int64', name='userId', length=671)"
      ]
     },
     "execution_count": 82,
     "metadata": {},
     "output_type": "execute_result"
    }
   ],
   "source": [
    "users_same_movies = user_movie_count[user_movie_count > (movies_watched_df.shape[1] * 60 ) / 100].index # sample'ın izlediği filmlerin %60'ını izleyenler\n",
    "\n",
    "users_same_movies"
   ]
  },
  {
   "cell_type": "markdown",
   "id": "cafb7133",
   "metadata": {
    "papermill": {
     "duration": 0.055483,
     "end_time": "2023-11-13T12:28:29.942939",
     "exception": false,
     "start_time": "2023-11-13T12:28:29.887456",
     "status": "completed"
    },
    "tags": []
   },
   "source": [
    "<a id = \"20\"></a><br>\n",
    "<div style=\"font-family:JetBrains Mono; font-weight:bold; letter-spacing: 2px; color:#E5788F; font-size:150%; text-align:left; padding: 0px;\">Determination of Similarity</div>"
   ]
  },
  {
   "cell_type": "code",
   "execution_count": 83,
   "id": "7c8e5f1c",
   "metadata": {
    "execution": {
     "iopub.execute_input": "2023-11-13T12:28:30.054537Z",
     "iopub.status.busy": "2023-11-13T12:28:30.053791Z",
     "iopub.status.idle": "2023-11-13T12:28:30.081746Z",
     "shell.execute_reply": "2023-11-13T12:28:30.080995Z"
    },
    "papermill": {
     "duration": 0.08589,
     "end_time": "2023-11-13T12:28:30.084063",
     "exception": false,
     "start_time": "2023-11-13T12:28:29.998173",
     "status": "completed"
    },
    "tags": []
   },
   "outputs": [
    {
     "data": {
      "text/html": [
       "<div>\n",
       "<style scoped>\n",
       "    .dataframe tbody tr th:only-of-type {\n",
       "        vertical-align: middle;\n",
       "    }\n",
       "\n",
       "    .dataframe tbody tr th {\n",
       "        vertical-align: top;\n",
       "    }\n",
       "\n",
       "    .dataframe thead th {\n",
       "        text-align: right;\n",
       "    }\n",
       "</style>\n",
       "<table border=\"1\" class=\"dataframe\">\n",
       "  <thead>\n",
       "    <tr style=\"text-align: right;\">\n",
       "      <th>title</th>\n",
       "      <th>10 Items or Less</th>\n",
       "      <th>10 Things I Hate About You</th>\n",
       "      <th>15 Minutes</th>\n",
       "      <th>1984</th>\n",
       "      <th>2 Days in Paris</th>\n",
       "      <th>20,000 Leagues Under the Sea</th>\n",
       "      <th>2001: A Space Odyssey</th>\n",
       "      <th>24 Hour Party People</th>\n",
       "      <th>25th Hour</th>\n",
       "      <th>28 Days Later</th>\n",
       "      <th>...</th>\n",
       "      <th>Young Adam</th>\n",
       "      <th>Young Frankenstein</th>\n",
       "      <th>Young and Innocent</th>\n",
       "      <th>Z</th>\n",
       "      <th>Zatoichi</th>\n",
       "      <th>Zazie dans le métro</th>\n",
       "      <th>Zodiac</th>\n",
       "      <th>eXistenZ</th>\n",
       "      <th>xXx</th>\n",
       "      <th>À nos amours</th>\n",
       "    </tr>\n",
       "    <tr>\n",
       "      <th>userId</th>\n",
       "      <th></th>\n",
       "      <th></th>\n",
       "      <th></th>\n",
       "      <th></th>\n",
       "      <th></th>\n",
       "      <th></th>\n",
       "      <th></th>\n",
       "      <th></th>\n",
       "      <th></th>\n",
       "      <th></th>\n",
       "      <th></th>\n",
       "      <th></th>\n",
       "      <th></th>\n",
       "      <th></th>\n",
       "      <th></th>\n",
       "      <th></th>\n",
       "      <th></th>\n",
       "      <th></th>\n",
       "      <th></th>\n",
       "      <th></th>\n",
       "      <th></th>\n",
       "    </tr>\n",
       "  </thead>\n",
       "  <tbody>\n",
       "    <tr>\n",
       "      <th>1</th>\n",
       "      <td>False</td>\n",
       "      <td>False</td>\n",
       "      <td>False</td>\n",
       "      <td>False</td>\n",
       "      <td>False</td>\n",
       "      <td>False</td>\n",
       "      <td>False</td>\n",
       "      <td>False</td>\n",
       "      <td>False</td>\n",
       "      <td>False</td>\n",
       "      <td>...</td>\n",
       "      <td>False</td>\n",
       "      <td>False</td>\n",
       "      <td>False</td>\n",
       "      <td>False</td>\n",
       "      <td>False</td>\n",
       "      <td>False</td>\n",
       "      <td>False</td>\n",
       "      <td>False</td>\n",
       "      <td>False</td>\n",
       "      <td>False</td>\n",
       "    </tr>\n",
       "    <tr>\n",
       "      <th>2</th>\n",
       "      <td>False</td>\n",
       "      <td>False</td>\n",
       "      <td>False</td>\n",
       "      <td>False</td>\n",
       "      <td>False</td>\n",
       "      <td>False</td>\n",
       "      <td>True</td>\n",
       "      <td>False</td>\n",
       "      <td>False</td>\n",
       "      <td>False</td>\n",
       "      <td>...</td>\n",
       "      <td>False</td>\n",
       "      <td>False</td>\n",
       "      <td>False</td>\n",
       "      <td>False</td>\n",
       "      <td>False</td>\n",
       "      <td>False</td>\n",
       "      <td>False</td>\n",
       "      <td>False</td>\n",
       "      <td>False</td>\n",
       "      <td>False</td>\n",
       "    </tr>\n",
       "    <tr>\n",
       "      <th>3</th>\n",
       "      <td>False</td>\n",
       "      <td>False</td>\n",
       "      <td>False</td>\n",
       "      <td>False</td>\n",
       "      <td>False</td>\n",
       "      <td>False</td>\n",
       "      <td>False</td>\n",
       "      <td>False</td>\n",
       "      <td>False</td>\n",
       "      <td>False</td>\n",
       "      <td>...</td>\n",
       "      <td>False</td>\n",
       "      <td>False</td>\n",
       "      <td>True</td>\n",
       "      <td>False</td>\n",
       "      <td>False</td>\n",
       "      <td>False</td>\n",
       "      <td>False</td>\n",
       "      <td>False</td>\n",
       "      <td>False</td>\n",
       "      <td>False</td>\n",
       "    </tr>\n",
       "    <tr>\n",
       "      <th>4</th>\n",
       "      <td>False</td>\n",
       "      <td>False</td>\n",
       "      <td>False</td>\n",
       "      <td>False</td>\n",
       "      <td>False</td>\n",
       "      <td>True</td>\n",
       "      <td>False</td>\n",
       "      <td>False</td>\n",
       "      <td>False</td>\n",
       "      <td>False</td>\n",
       "      <td>...</td>\n",
       "      <td>False</td>\n",
       "      <td>True</td>\n",
       "      <td>False</td>\n",
       "      <td>False</td>\n",
       "      <td>False</td>\n",
       "      <td>False</td>\n",
       "      <td>False</td>\n",
       "      <td>False</td>\n",
       "      <td>False</td>\n",
       "      <td>False</td>\n",
       "    </tr>\n",
       "    <tr>\n",
       "      <th>5</th>\n",
       "      <td>False</td>\n",
       "      <td>False</td>\n",
       "      <td>False</td>\n",
       "      <td>False</td>\n",
       "      <td>False</td>\n",
       "      <td>False</td>\n",
       "      <td>False</td>\n",
       "      <td>False</td>\n",
       "      <td>False</td>\n",
       "      <td>False</td>\n",
       "      <td>...</td>\n",
       "      <td>False</td>\n",
       "      <td>False</td>\n",
       "      <td>True</td>\n",
       "      <td>False</td>\n",
       "      <td>False</td>\n",
       "      <td>False</td>\n",
       "      <td>False</td>\n",
       "      <td>False</td>\n",
       "      <td>False</td>\n",
       "      <td>False</td>\n",
       "    </tr>\n",
       "    <tr>\n",
       "      <th>...</th>\n",
       "      <td>...</td>\n",
       "      <td>...</td>\n",
       "      <td>...</td>\n",
       "      <td>...</td>\n",
       "      <td>...</td>\n",
       "      <td>...</td>\n",
       "      <td>...</td>\n",
       "      <td>...</td>\n",
       "      <td>...</td>\n",
       "      <td>...</td>\n",
       "      <td>...</td>\n",
       "      <td>...</td>\n",
       "      <td>...</td>\n",
       "      <td>...</td>\n",
       "      <td>...</td>\n",
       "      <td>...</td>\n",
       "      <td>...</td>\n",
       "      <td>...</td>\n",
       "      <td>...</td>\n",
       "      <td>...</td>\n",
       "      <td>...</td>\n",
       "    </tr>\n",
       "    <tr>\n",
       "      <th>667</th>\n",
       "      <td>False</td>\n",
       "      <td>False</td>\n",
       "      <td>False</td>\n",
       "      <td>False</td>\n",
       "      <td>False</td>\n",
       "      <td>False</td>\n",
       "      <td>False</td>\n",
       "      <td>False</td>\n",
       "      <td>False</td>\n",
       "      <td>False</td>\n",
       "      <td>...</td>\n",
       "      <td>False</td>\n",
       "      <td>False</td>\n",
       "      <td>False</td>\n",
       "      <td>False</td>\n",
       "      <td>False</td>\n",
       "      <td>False</td>\n",
       "      <td>False</td>\n",
       "      <td>False</td>\n",
       "      <td>False</td>\n",
       "      <td>False</td>\n",
       "    </tr>\n",
       "    <tr>\n",
       "      <th>668</th>\n",
       "      <td>False</td>\n",
       "      <td>False</td>\n",
       "      <td>False</td>\n",
       "      <td>False</td>\n",
       "      <td>False</td>\n",
       "      <td>False</td>\n",
       "      <td>False</td>\n",
       "      <td>False</td>\n",
       "      <td>False</td>\n",
       "      <td>False</td>\n",
       "      <td>...</td>\n",
       "      <td>False</td>\n",
       "      <td>False</td>\n",
       "      <td>False</td>\n",
       "      <td>False</td>\n",
       "      <td>False</td>\n",
       "      <td>False</td>\n",
       "      <td>False</td>\n",
       "      <td>False</td>\n",
       "      <td>False</td>\n",
       "      <td>False</td>\n",
       "    </tr>\n",
       "    <tr>\n",
       "      <th>669</th>\n",
       "      <td>False</td>\n",
       "      <td>False</td>\n",
       "      <td>False</td>\n",
       "      <td>False</td>\n",
       "      <td>False</td>\n",
       "      <td>False</td>\n",
       "      <td>False</td>\n",
       "      <td>False</td>\n",
       "      <td>False</td>\n",
       "      <td>False</td>\n",
       "      <td>...</td>\n",
       "      <td>False</td>\n",
       "      <td>False</td>\n",
       "      <td>False</td>\n",
       "      <td>False</td>\n",
       "      <td>False</td>\n",
       "      <td>False</td>\n",
       "      <td>False</td>\n",
       "      <td>False</td>\n",
       "      <td>False</td>\n",
       "      <td>False</td>\n",
       "    </tr>\n",
       "    <tr>\n",
       "      <th>670</th>\n",
       "      <td>False</td>\n",
       "      <td>False</td>\n",
       "      <td>False</td>\n",
       "      <td>False</td>\n",
       "      <td>False</td>\n",
       "      <td>False</td>\n",
       "      <td>False</td>\n",
       "      <td>False</td>\n",
       "      <td>False</td>\n",
       "      <td>False</td>\n",
       "      <td>...</td>\n",
       "      <td>False</td>\n",
       "      <td>False</td>\n",
       "      <td>False</td>\n",
       "      <td>False</td>\n",
       "      <td>False</td>\n",
       "      <td>False</td>\n",
       "      <td>False</td>\n",
       "      <td>False</td>\n",
       "      <td>False</td>\n",
       "      <td>False</td>\n",
       "    </tr>\n",
       "    <tr>\n",
       "      <th>671</th>\n",
       "      <td>False</td>\n",
       "      <td>False</td>\n",
       "      <td>False</td>\n",
       "      <td>False</td>\n",
       "      <td>False</td>\n",
       "      <td>False</td>\n",
       "      <td>False</td>\n",
       "      <td>False</td>\n",
       "      <td>False</td>\n",
       "      <td>False</td>\n",
       "      <td>...</td>\n",
       "      <td>False</td>\n",
       "      <td>False</td>\n",
       "      <td>True</td>\n",
       "      <td>False</td>\n",
       "      <td>False</td>\n",
       "      <td>False</td>\n",
       "      <td>False</td>\n",
       "      <td>False</td>\n",
       "      <td>False</td>\n",
       "      <td>False</td>\n",
       "    </tr>\n",
       "  </tbody>\n",
       "</table>\n",
       "<p>671 rows × 1343 columns</p>\n",
       "</div>"
      ],
      "text/plain": [
       "title   10 Items or Less  10 Things I Hate About You  15 Minutes   1984  \\\n",
       "userId                                                                    \n",
       "1                  False                       False       False  False   \n",
       "2                  False                       False       False  False   \n",
       "3                  False                       False       False  False   \n",
       "4                  False                       False       False  False   \n",
       "5                  False                       False       False  False   \n",
       "...                  ...                         ...         ...    ...   \n",
       "667                False                       False       False  False   \n",
       "668                False                       False       False  False   \n",
       "669                False                       False       False  False   \n",
       "670                False                       False       False  False   \n",
       "671                False                       False       False  False   \n",
       "\n",
       "title   2 Days in Paris  20,000 Leagues Under the Sea  2001: A Space Odyssey  \\\n",
       "userId                                                                         \n",
       "1                 False                         False                  False   \n",
       "2                 False                         False                   True   \n",
       "3                 False                         False                  False   \n",
       "4                 False                          True                  False   \n",
       "5                 False                         False                  False   \n",
       "...                 ...                           ...                    ...   \n",
       "667               False                         False                  False   \n",
       "668               False                         False                  False   \n",
       "669               False                         False                  False   \n",
       "670               False                         False                  False   \n",
       "671               False                         False                  False   \n",
       "\n",
       "title   24 Hour Party People  25th Hour  28 Days Later  ...  Young Adam  \\\n",
       "userId                                                  ...               \n",
       "1                      False      False          False  ...       False   \n",
       "2                      False      False          False  ...       False   \n",
       "3                      False      False          False  ...       False   \n",
       "4                      False      False          False  ...       False   \n",
       "5                      False      False          False  ...       False   \n",
       "...                      ...        ...            ...  ...         ...   \n",
       "667                    False      False          False  ...       False   \n",
       "668                    False      False          False  ...       False   \n",
       "669                    False      False          False  ...       False   \n",
       "670                    False      False          False  ...       False   \n",
       "671                    False      False          False  ...       False   \n",
       "\n",
       "title   Young Frankenstein  Young and Innocent      Z  Zatoichi  \\\n",
       "userId                                                            \n",
       "1                    False               False  False     False   \n",
       "2                    False               False  False     False   \n",
       "3                    False                True  False     False   \n",
       "4                     True               False  False     False   \n",
       "5                    False                True  False     False   \n",
       "...                    ...                 ...    ...       ...   \n",
       "667                  False               False  False     False   \n",
       "668                  False               False  False     False   \n",
       "669                  False               False  False     False   \n",
       "670                  False               False  False     False   \n",
       "671                  False                True  False     False   \n",
       "\n",
       "title   Zazie dans le métro  Zodiac  eXistenZ    xXx  À nos amours  \n",
       "userId                                                              \n",
       "1                     False   False     False  False         False  \n",
       "2                     False   False     False  False         False  \n",
       "3                     False   False     False  False         False  \n",
       "4                     False   False     False  False         False  \n",
       "5                     False   False     False  False         False  \n",
       "...                     ...     ...       ...    ...           ...  \n",
       "667                   False   False     False  False         False  \n",
       "668                   False   False     False  False         False  \n",
       "669                   False   False     False  False         False  \n",
       "670                   False   False     False  False         False  \n",
       "671                   False   False     False  False         False  \n",
       "\n",
       "[671 rows x 1343 columns]"
      ]
     },
     "execution_count": 83,
     "metadata": {},
     "output_type": "execute_result"
    }
   ],
   "source": [
    "filted_df = movies_watched_df[movies_watched_df.index.isin(users_same_movies)]\n",
    "\n",
    "filted_df"
   ]
  },
  {
   "cell_type": "code",
   "execution_count": 84,
   "id": "5beac3e9",
   "metadata": {
    "execution": {
     "iopub.execute_input": "2023-11-13T12:28:30.233154Z",
     "iopub.status.busy": "2023-11-13T12:28:30.230986Z",
     "iopub.status.idle": "2023-11-13T12:28:32.260604Z",
     "shell.execute_reply": "2023-11-13T12:28:32.259207Z"
    },
    "papermill": {
     "duration": 2.125614,
     "end_time": "2023-11-13T12:28:32.264624",
     "exception": false,
     "start_time": "2023-11-13T12:28:30.139010",
     "status": "completed"
    },
    "tags": []
   },
   "outputs": [],
   "source": [
    "corr_df = filted_df.T.corr().unstack().drop_duplicates() # kullanıcıların birbiriyle olan korelasyonları"
   ]
  },
  {
   "cell_type": "code",
   "execution_count": 85,
   "id": "3def6f47",
   "metadata": {
    "execution": {
     "iopub.execute_input": "2023-11-13T12:28:32.363610Z",
     "iopub.status.busy": "2023-11-13T12:28:32.362760Z",
     "iopub.status.idle": "2023-11-13T12:28:32.399582Z",
     "shell.execute_reply": "2023-11-13T12:28:32.398420Z"
    },
    "papermill": {
     "duration": 0.086284,
     "end_time": "2023-11-13T12:28:32.401997",
     "exception": false,
     "start_time": "2023-11-13T12:28:32.315713",
     "status": "completed"
    },
    "tags": []
   },
   "outputs": [
    {
     "data": {
      "text/plain": [
       "userId  userId\n",
       "1       1         1.000000\n",
       "151     369       0.856021\n",
       "191     513       0.840484\n",
       "151     279       0.827940\n",
       "191     317       0.818682\n",
       "151     400       0.806316\n",
       "375     568       0.802279\n",
       "279     400       0.797409\n",
       "317     415       0.796977\n",
       "279     369       0.796394\n",
       "151     535       0.780579\n",
       "47      568       0.775774\n",
       "82      400       0.774934\n",
       "191     415       0.772279\n",
       "369     400       0.772012\n",
       "225     375       0.768942\n",
       "191     568       0.767065\n",
       "145     400       0.761689\n",
       "317     375       0.759020\n",
       "225     317       0.759020\n",
       "dtype: float64"
      ]
     },
     "execution_count": 85,
     "metadata": {},
     "output_type": "execute_result"
    }
   ],
   "source": [
    "corr_df.sort_values(ascending=False).head(20)"
   ]
  },
  {
   "cell_type": "code",
   "execution_count": 86,
   "id": "bc543068",
   "metadata": {
    "execution": {
     "iopub.execute_input": "2023-11-13T12:28:32.498522Z",
     "iopub.status.busy": "2023-11-13T12:28:32.497743Z",
     "iopub.status.idle": "2023-11-13T12:28:32.508909Z",
     "shell.execute_reply": "2023-11-13T12:28:32.507852Z"
    },
    "papermill": {
     "duration": 0.059936,
     "end_time": "2023-11-13T12:28:32.511153",
     "exception": false,
     "start_time": "2023-11-13T12:28:32.451217",
     "status": "completed"
    },
    "tags": []
   },
   "outputs": [
    {
     "data": {
      "text/plain": [
       "userId  userId\n",
       "1       1         1.000000\n",
       "        2        -0.014232\n",
       "        3        -0.009226\n",
       "        4         0.100942\n",
       "        5         0.043767\n",
       "                    ...   \n",
       "666     670       0.236154\n",
       "667     671       0.082200\n",
       "668     670       0.235607\n",
       "669     670      -0.010290\n",
       "670     671       0.198403\n",
       "Length: 184836, dtype: float64"
      ]
     },
     "execution_count": 86,
     "metadata": {},
     "output_type": "execute_result"
    }
   ],
   "source": [
    "corr_df"
   ]
  },
  {
   "cell_type": "code",
   "execution_count": 87,
   "id": "187326df",
   "metadata": {
    "execution": {
     "iopub.execute_input": "2023-11-13T12:28:32.604326Z",
     "iopub.status.busy": "2023-11-13T12:28:32.603945Z",
     "iopub.status.idle": "2023-11-13T12:28:32.618612Z",
     "shell.execute_reply": "2023-11-13T12:28:32.617587Z"
    },
    "papermill": {
     "duration": 0.0644,
     "end_time": "2023-11-13T12:28:32.620794",
     "exception": false,
     "start_time": "2023-11-13T12:28:32.556394",
     "status": "completed"
    },
    "tags": []
   },
   "outputs": [
    {
     "data": {
      "text/plain": [
       "-0.009226186319220888"
      ]
     },
     "execution_count": 87,
     "metadata": {},
     "output_type": "execute_result"
    }
   ],
   "source": [
    "corr_df.loc[(1, 3)]"
   ]
  },
  {
   "cell_type": "code",
   "execution_count": 88,
   "id": "d260bec4",
   "metadata": {
    "execution": {
     "iopub.execute_input": "2023-11-13T12:28:32.714541Z",
     "iopub.status.busy": "2023-11-13T12:28:32.714113Z",
     "iopub.status.idle": "2023-11-13T12:28:32.724200Z",
     "shell.execute_reply": "2023-11-13T12:28:32.723168Z"
    },
    "papermill": {
     "duration": 0.059774,
     "end_time": "2023-11-13T12:28:32.726550",
     "exception": false,
     "start_time": "2023-11-13T12:28:32.666776",
     "status": "completed"
    },
    "tags": []
   },
   "outputs": [
    {
     "data": {
      "text/plain": [
       "userId\n",
       "541    0.246396\n",
       "476    0.146818\n",
       "525    0.132043\n",
       "592    0.110805\n",
       "463    0.104639\n",
       "         ...   \n",
       "391   -0.037857\n",
       "559   -0.040912\n",
       "287   -0.041207\n",
       "396   -0.047080\n",
       "434   -0.049696\n",
       "Length: 359, dtype: float64"
      ]
     },
     "execution_count": 88,
     "metadata": {},
     "output_type": "execute_result"
    }
   ],
   "source": [
    "corr_df[sample_guy].sort_values(ascending=False)"
   ]
  },
  {
   "cell_type": "markdown",
   "id": "734ceb99",
   "metadata": {
    "papermill": {
     "duration": 0.050516,
     "end_time": "2023-11-13T12:28:32.823165",
     "exception": false,
     "start_time": "2023-11-13T12:28:32.772649",
     "status": "completed"
    },
    "tags": []
   },
   "source": [
    "<a id = \"21\"></a><br>\n",
    "<div style=\"font-family:JetBrains Mono; font-weight:bold; letter-spacing: 2px; color:#E5788F; font-size:150%; text-align:left; padding: 0px;\">Score Calculation</div>"
   ]
  },
  {
   "cell_type": "code",
   "execution_count": 89,
   "id": "ec64678a",
   "metadata": {
    "execution": {
     "iopub.execute_input": "2023-11-13T12:28:32.916556Z",
     "iopub.status.busy": "2023-11-13T12:28:32.916140Z",
     "iopub.status.idle": "2023-11-13T12:28:32.928231Z",
     "shell.execute_reply": "2023-11-13T12:28:32.927040Z"
    },
    "papermill": {
     "duration": 0.061485,
     "end_time": "2023-11-13T12:28:32.930198",
     "exception": false,
     "start_time": "2023-11-13T12:28:32.868713",
     "status": "completed"
    },
    "tags": []
   },
   "outputs": [
    {
     "data": {
      "text/html": [
       "<div>\n",
       "<style scoped>\n",
       "    .dataframe tbody tr th:only-of-type {\n",
       "        vertical-align: middle;\n",
       "    }\n",
       "\n",
       "    .dataframe tbody tr th {\n",
       "        vertical-align: top;\n",
       "    }\n",
       "\n",
       "    .dataframe thead th {\n",
       "        text-align: right;\n",
       "    }\n",
       "</style>\n",
       "<table border=\"1\" class=\"dataframe\">\n",
       "  <thead>\n",
       "    <tr style=\"text-align: right;\">\n",
       "      <th></th>\n",
       "      <th>corr</th>\n",
       "    </tr>\n",
       "    <tr>\n",
       "      <th>userId</th>\n",
       "      <th></th>\n",
       "    </tr>\n",
       "  </thead>\n",
       "  <tbody>\n",
       "    <tr>\n",
       "      <th>294</th>\n",
       "      <td>0.102905</td>\n",
       "    </tr>\n",
       "    <tr>\n",
       "      <th>463</th>\n",
       "      <td>0.104639</td>\n",
       "    </tr>\n",
       "    <tr>\n",
       "      <th>476</th>\n",
       "      <td>0.146818</td>\n",
       "    </tr>\n",
       "    <tr>\n",
       "      <th>525</th>\n",
       "      <td>0.132043</td>\n",
       "    </tr>\n",
       "    <tr>\n",
       "      <th>541</th>\n",
       "      <td>0.246396</td>\n",
       "    </tr>\n",
       "    <tr>\n",
       "      <th>575</th>\n",
       "      <td>0.101738</td>\n",
       "    </tr>\n",
       "    <tr>\n",
       "      <th>592</th>\n",
       "      <td>0.110805</td>\n",
       "    </tr>\n",
       "  </tbody>\n",
       "</table>\n",
       "</div>"
      ],
      "text/plain": [
       "            corr\n",
       "userId          \n",
       "294     0.102905\n",
       "463     0.104639\n",
       "476     0.146818\n",
       "525     0.132043\n",
       "541     0.246396\n",
       "575     0.101738\n",
       "592     0.110805"
      ]
     },
     "execution_count": 89,
     "metadata": {},
     "output_type": "execute_result"
    }
   ],
   "source": [
    "top_users = pd.DataFrame(corr_df[sample_guy][corr_df[sample_guy] > 0.10], columns=[\"corr\"])\n",
    "\n",
    "top_users"
   ]
  },
  {
   "cell_type": "code",
   "execution_count": 90,
   "id": "5569cc54",
   "metadata": {
    "execution": {
     "iopub.execute_input": "2023-11-13T12:28:33.024355Z",
     "iopub.status.busy": "2023-11-13T12:28:33.023928Z",
     "iopub.status.idle": "2023-11-13T12:28:33.048342Z",
     "shell.execute_reply": "2023-11-13T12:28:33.047436Z"
    },
    "papermill": {
     "duration": 0.0741,
     "end_time": "2023-11-13T12:28:33.050580",
     "exception": false,
     "start_time": "2023-11-13T12:28:32.976480",
     "status": "completed"
    },
    "tags": []
   },
   "outputs": [
    {
     "data": {
      "text/html": [
       "<div>\n",
       "<style scoped>\n",
       "    .dataframe tbody tr th:only-of-type {\n",
       "        vertical-align: middle;\n",
       "    }\n",
       "\n",
       "    .dataframe tbody tr th {\n",
       "        vertical-align: top;\n",
       "    }\n",
       "\n",
       "    .dataframe thead th {\n",
       "        text-align: right;\n",
       "    }\n",
       "</style>\n",
       "<table border=\"1\" class=\"dataframe\">\n",
       "  <thead>\n",
       "    <tr style=\"text-align: right;\">\n",
       "      <th></th>\n",
       "      <th>userId</th>\n",
       "      <th>corr</th>\n",
       "      <th>movieId</th>\n",
       "      <th>rating</th>\n",
       "    </tr>\n",
       "  </thead>\n",
       "  <tbody>\n",
       "    <tr>\n",
       "      <th>0</th>\n",
       "      <td>294</td>\n",
       "      <td>0.102905</td>\n",
       "      <td>1</td>\n",
       "      <td>4.0</td>\n",
       "    </tr>\n",
       "    <tr>\n",
       "      <th>1</th>\n",
       "      <td>294</td>\n",
       "      <td>0.102905</td>\n",
       "      <td>5</td>\n",
       "      <td>3.5</td>\n",
       "    </tr>\n",
       "    <tr>\n",
       "      <th>2</th>\n",
       "      <td>294</td>\n",
       "      <td>0.102905</td>\n",
       "      <td>7</td>\n",
       "      <td>5.0</td>\n",
       "    </tr>\n",
       "    <tr>\n",
       "      <th>3</th>\n",
       "      <td>294</td>\n",
       "      <td>0.102905</td>\n",
       "      <td>10</td>\n",
       "      <td>3.5</td>\n",
       "    </tr>\n",
       "    <tr>\n",
       "      <th>4</th>\n",
       "      <td>294</td>\n",
       "      <td>0.102905</td>\n",
       "      <td>11</td>\n",
       "      <td>3.0</td>\n",
       "    </tr>\n",
       "    <tr>\n",
       "      <th>...</th>\n",
       "      <td>...</td>\n",
       "      <td>...</td>\n",
       "      <td>...</td>\n",
       "      <td>...</td>\n",
       "    </tr>\n",
       "    <tr>\n",
       "      <th>2318</th>\n",
       "      <td>592</td>\n",
       "      <td>0.110805</td>\n",
       "      <td>4299</td>\n",
       "      <td>4.0</td>\n",
       "    </tr>\n",
       "    <tr>\n",
       "      <th>2319</th>\n",
       "      <td>592</td>\n",
       "      <td>0.110805</td>\n",
       "      <td>4340</td>\n",
       "      <td>3.0</td>\n",
       "    </tr>\n",
       "    <tr>\n",
       "      <th>2320</th>\n",
       "      <td>592</td>\n",
       "      <td>0.110805</td>\n",
       "      <td>4344</td>\n",
       "      <td>5.0</td>\n",
       "    </tr>\n",
       "    <tr>\n",
       "      <th>2321</th>\n",
       "      <td>592</td>\n",
       "      <td>0.110805</td>\n",
       "      <td>4369</td>\n",
       "      <td>5.0</td>\n",
       "    </tr>\n",
       "    <tr>\n",
       "      <th>2322</th>\n",
       "      <td>592</td>\n",
       "      <td>0.110805</td>\n",
       "      <td>4453</td>\n",
       "      <td>1.0</td>\n",
       "    </tr>\n",
       "  </tbody>\n",
       "</table>\n",
       "<p>2323 rows × 4 columns</p>\n",
       "</div>"
      ],
      "text/plain": [
       "      userId      corr  movieId  rating\n",
       "0        294  0.102905        1     4.0\n",
       "1        294  0.102905        5     3.5\n",
       "2        294  0.102905        7     5.0\n",
       "3        294  0.102905       10     3.5\n",
       "4        294  0.102905       11     3.0\n",
       "...      ...       ...      ...     ...\n",
       "2318     592  0.110805     4299     4.0\n",
       "2319     592  0.110805     4340     3.0\n",
       "2320     592  0.110805     4344     5.0\n",
       "2321     592  0.110805     4369     5.0\n",
       "2322     592  0.110805     4453     1.0\n",
       "\n",
       "[2323 rows x 4 columns]"
      ]
     },
     "execution_count": 90,
     "metadata": {},
     "output_type": "execute_result"
    }
   ],
   "source": [
    "top_users_ratings = pd.merge(top_users, rating[[\"userId\", \"movieId\", \"rating\"]], how='inner', on=\"userId\")\n",
    "\n",
    "top_users_ratings"
   ]
  },
  {
   "cell_type": "code",
   "execution_count": 91,
   "id": "d1c24959",
   "metadata": {
    "execution": {
     "iopub.execute_input": "2023-11-13T12:28:33.145077Z",
     "iopub.status.busy": "2023-11-13T12:28:33.144631Z",
     "iopub.status.idle": "2023-11-13T12:28:33.150617Z",
     "shell.execute_reply": "2023-11-13T12:28:33.149521Z"
    },
    "papermill": {
     "duration": 0.056117,
     "end_time": "2023-11-13T12:28:33.152804",
     "exception": false,
     "start_time": "2023-11-13T12:28:33.096687",
     "status": "completed"
    },
    "tags": []
   },
   "outputs": [],
   "source": [
    "top_users_ratings['weighted_rating'] = top_users_ratings['corr'] * top_users_ratings['rating']"
   ]
  },
  {
   "cell_type": "code",
   "execution_count": 92,
   "id": "7363e62f",
   "metadata": {
    "execution": {
     "iopub.execute_input": "2023-11-13T12:28:33.247298Z",
     "iopub.status.busy": "2023-11-13T12:28:33.246578Z",
     "iopub.status.idle": "2023-11-13T12:28:33.262144Z",
     "shell.execute_reply": "2023-11-13T12:28:33.261156Z"
    },
    "papermill": {
     "duration": 0.065473,
     "end_time": "2023-11-13T12:28:33.264457",
     "exception": false,
     "start_time": "2023-11-13T12:28:33.198984",
     "status": "completed"
    },
    "tags": []
   },
   "outputs": [
    {
     "data": {
      "text/html": [
       "<div>\n",
       "<style scoped>\n",
       "    .dataframe tbody tr th:only-of-type {\n",
       "        vertical-align: middle;\n",
       "    }\n",
       "\n",
       "    .dataframe tbody tr th {\n",
       "        vertical-align: top;\n",
       "    }\n",
       "\n",
       "    .dataframe thead th {\n",
       "        text-align: right;\n",
       "    }\n",
       "</style>\n",
       "<table border=\"1\" class=\"dataframe\">\n",
       "  <thead>\n",
       "    <tr style=\"text-align: right;\">\n",
       "      <th></th>\n",
       "      <th>weighted_rating</th>\n",
       "    </tr>\n",
       "    <tr>\n",
       "      <th>movieId</th>\n",
       "      <th></th>\n",
       "    </tr>\n",
       "  </thead>\n",
       "  <tbody>\n",
       "    <tr>\n",
       "      <th>1</th>\n",
       "      <td>0.323708</td>\n",
       "    </tr>\n",
       "    <tr>\n",
       "      <th>2</th>\n",
       "      <td>0.335518</td>\n",
       "    </tr>\n",
       "    <tr>\n",
       "      <th>5</th>\n",
       "      <td>0.360166</td>\n",
       "    </tr>\n",
       "    <tr>\n",
       "      <th>6</th>\n",
       "      <td>0.528171</td>\n",
       "    </tr>\n",
       "    <tr>\n",
       "      <th>7</th>\n",
       "      <td>0.446676</td>\n",
       "    </tr>\n",
       "    <tr>\n",
       "      <th>...</th>\n",
       "      <td>...</td>\n",
       "    </tr>\n",
       "    <tr>\n",
       "      <th>42738</th>\n",
       "      <td>0.411618</td>\n",
       "    </tr>\n",
       "    <tr>\n",
       "      <th>44613</th>\n",
       "      <td>0.360166</td>\n",
       "    </tr>\n",
       "    <tr>\n",
       "      <th>45028</th>\n",
       "      <td>0.411618</td>\n",
       "    </tr>\n",
       "    <tr>\n",
       "      <th>45499</th>\n",
       "      <td>0.411618</td>\n",
       "    </tr>\n",
       "    <tr>\n",
       "      <th>45517</th>\n",
       "      <td>0.411618</td>\n",
       "    </tr>\n",
       "  </tbody>\n",
       "</table>\n",
       "<p>1617 rows × 1 columns</p>\n",
       "</div>"
      ],
      "text/plain": [
       "         weighted_rating\n",
       "movieId                 \n",
       "1               0.323708\n",
       "2               0.335518\n",
       "5               0.360166\n",
       "6               0.528171\n",
       "7               0.446676\n",
       "...                  ...\n",
       "42738           0.411618\n",
       "44613           0.360166\n",
       "45028           0.411618\n",
       "45499           0.411618\n",
       "45517           0.411618\n",
       "\n",
       "[1617 rows x 1 columns]"
      ]
     },
     "execution_count": 92,
     "metadata": {},
     "output_type": "execute_result"
    }
   ],
   "source": [
    "recommendation_df = top_users_ratings.pivot_table(values=\"weighted_rating\", index=\"movieId\", aggfunc=\"mean\")\n",
    "\n",
    "recommendation_df"
   ]
  },
  {
   "cell_type": "code",
   "execution_count": 93,
   "id": "dd17146c",
   "metadata": {
    "execution": {
     "iopub.execute_input": "2023-11-13T12:28:33.359567Z",
     "iopub.status.busy": "2023-11-13T12:28:33.359166Z",
     "iopub.status.idle": "2023-11-13T12:28:33.370480Z",
     "shell.execute_reply": "2023-11-13T12:28:33.369477Z"
    },
    "papermill": {
     "duration": 0.061203,
     "end_time": "2023-11-13T12:28:33.372427",
     "exception": false,
     "start_time": "2023-11-13T12:28:33.311224",
     "status": "completed"
    },
    "tags": []
   },
   "outputs": [
    {
     "data": {
      "text/html": [
       "<div>\n",
       "<style scoped>\n",
       "    .dataframe tbody tr th:only-of-type {\n",
       "        vertical-align: middle;\n",
       "    }\n",
       "\n",
       "    .dataframe tbody tr th {\n",
       "        vertical-align: top;\n",
       "    }\n",
       "\n",
       "    .dataframe thead th {\n",
       "        text-align: right;\n",
       "    }\n",
       "</style>\n",
       "<table border=\"1\" class=\"dataframe\">\n",
       "  <thead>\n",
       "    <tr style=\"text-align: right;\">\n",
       "      <th></th>\n",
       "      <th>weighted_rating</th>\n",
       "    </tr>\n",
       "    <tr>\n",
       "      <th>movieId</th>\n",
       "      <th></th>\n",
       "    </tr>\n",
       "  </thead>\n",
       "  <tbody>\n",
       "    <tr>\n",
       "      <th>2841</th>\n",
       "      <td>0.985586</td>\n",
       "    </tr>\n",
       "    <tr>\n",
       "      <th>3219</th>\n",
       "      <td>0.985586</td>\n",
       "    </tr>\n",
       "    <tr>\n",
       "      <th>2693</th>\n",
       "      <td>0.985586</td>\n",
       "    </tr>\n",
       "    <tr>\n",
       "      <th>1093</th>\n",
       "      <td>0.859838</td>\n",
       "    </tr>\n",
       "    <tr>\n",
       "      <th>2959</th>\n",
       "      <td>0.840033</td>\n",
       "    </tr>\n",
       "    <tr>\n",
       "      <th>2692</th>\n",
       "      <td>0.786429</td>\n",
       "    </tr>\n",
       "    <tr>\n",
       "      <th>2707</th>\n",
       "      <td>0.786429</td>\n",
       "    </tr>\n",
       "    <tr>\n",
       "      <th>923</th>\n",
       "      <td>0.739189</td>\n",
       "    </tr>\n",
       "    <tr>\n",
       "      <th>3160</th>\n",
       "      <td>0.734090</td>\n",
       "    </tr>\n",
       "    <tr>\n",
       "      <th>16</th>\n",
       "      <td>0.734090</td>\n",
       "    </tr>\n",
       "    <tr>\n",
       "      <th>3729</th>\n",
       "      <td>0.660213</td>\n",
       "    </tr>\n",
       "    <tr>\n",
       "      <th>2527</th>\n",
       "      <td>0.660213</td>\n",
       "    </tr>\n",
       "    <tr>\n",
       "      <th>2023</th>\n",
       "      <td>0.660213</td>\n",
       "    </tr>\n",
       "    <tr>\n",
       "      <th>1918</th>\n",
       "      <td>0.660213</td>\n",
       "    </tr>\n",
       "    <tr>\n",
       "      <th>1301</th>\n",
       "      <td>0.660213</td>\n",
       "    </tr>\n",
       "    <tr>\n",
       "      <th>4443</th>\n",
       "      <td>0.660213</td>\n",
       "    </tr>\n",
       "    <tr>\n",
       "      <th>2762</th>\n",
       "      <td>0.643166</td>\n",
       "    </tr>\n",
       "    <tr>\n",
       "      <th>2858</th>\n",
       "      <td>0.628641</td>\n",
       "    </tr>\n",
       "    <tr>\n",
       "      <th>1193</th>\n",
       "      <td>0.604664</td>\n",
       "    </tr>\n",
       "    <tr>\n",
       "      <th>2716</th>\n",
       "      <td>0.602260</td>\n",
       "    </tr>\n",
       "  </tbody>\n",
       "</table>\n",
       "</div>"
      ],
      "text/plain": [
       "         weighted_rating\n",
       "movieId                 \n",
       "2841            0.985586\n",
       "3219            0.985586\n",
       "2693            0.985586\n",
       "1093            0.859838\n",
       "2959            0.840033\n",
       "2692            0.786429\n",
       "2707            0.786429\n",
       "923             0.739189\n",
       "3160            0.734090\n",
       "16              0.734090\n",
       "3729            0.660213\n",
       "2527            0.660213\n",
       "2023            0.660213\n",
       "1918            0.660213\n",
       "1301            0.660213\n",
       "4443            0.660213\n",
       "2762            0.643166\n",
       "2858            0.628641\n",
       "1193            0.604664\n",
       "2716            0.602260"
      ]
     },
     "execution_count": 93,
     "metadata": {},
     "output_type": "execute_result"
    }
   ],
   "source": [
    "recommendation_df.sort_values(by= \"weighted_rating\" , ascending=False).head(20)"
   ]
  },
  {
   "cell_type": "code",
   "execution_count": 94,
   "id": "ac41353e",
   "metadata": {
    "execution": {
     "iopub.execute_input": "2023-11-13T12:28:33.467351Z",
     "iopub.status.busy": "2023-11-13T12:28:33.466957Z",
     "iopub.status.idle": "2023-11-13T12:28:33.473484Z",
     "shell.execute_reply": "2023-11-13T12:28:33.472202Z"
    },
    "papermill": {
     "duration": 0.056655,
     "end_time": "2023-11-13T12:28:33.475751",
     "exception": false,
     "start_time": "2023-11-13T12:28:33.419096",
     "status": "completed"
    },
    "tags": []
   },
   "outputs": [],
   "source": [
    "movies_to_be_recommend = recommendation_df[recommendation_df[\"weighted_rating\"] > 0.7].sort_values(by=\"weighted_rating\", ascending=False).head(10)"
   ]
  },
  {
   "cell_type": "code",
   "execution_count": 95,
   "id": "0cd7c253",
   "metadata": {
    "execution": {
     "iopub.execute_input": "2023-11-13T12:28:33.571467Z",
     "iopub.status.busy": "2023-11-13T12:28:33.570671Z",
     "iopub.status.idle": "2023-11-13T12:28:33.580185Z",
     "shell.execute_reply": "2023-11-13T12:28:33.579155Z"
    },
    "papermill": {
     "duration": 0.059418,
     "end_time": "2023-11-13T12:28:33.582479",
     "exception": false,
     "start_time": "2023-11-13T12:28:33.523061",
     "status": "completed"
    },
    "tags": []
   },
   "outputs": [
    {
     "data": {
      "text/plain": [
       "3763                  Dancer in the Dark\n",
       "7204                    Dawn of the Dead\n",
       "9364              A Very Long Engagement\n",
       "9768             Elevator to the Gallows\n",
       "11881                     License to Wed\n",
       "21666    Frankenstein Conquers the World\n",
       "Name: title, dtype: object"
      ]
     },
     "execution_count": 95,
     "metadata": {},
     "output_type": "execute_result"
    }
   ],
   "source": [
    "movies[\"title\"][movies[\"movieId\"].isin(movies_to_be_recommend.index)]"
   ]
  },
  {
   "cell_type": "markdown",
   "id": "eaa93e4d",
   "metadata": {
    "papermill": {
     "duration": 0.046327,
     "end_time": "2023-11-13T12:28:33.675092",
     "exception": false,
     "start_time": "2023-11-13T12:28:33.628765",
     "status": "completed"
    },
    "tags": []
   },
   "source": [
    "<div style=\"border-radius:10px; border:#65647C solid; padding: 15px; background-color: #F8EDE3; font-size:100%; text-align:left\">\n",
    "\n",
    "<h3 align=\"left\"><font color='#7D6E83'><b>🗨️ Comment: </b></font></h3>\n",
    "\n",
    "* Çok fazla ram kullanımı sebebiyle daha az gözlem birimine sahip olan ratings_small veri setini kullandık. Daha tutarlı sonuçlar için büyük veri setini seçebilirsiniz. Bu konuda sürecin nasıl ilerlediğini ele almak istendi."
   ]
  },
  {
   "cell_type": "markdown",
   "id": "9bc92e33",
   "metadata": {
    "papermill": {
     "duration": 0.047816,
     "end_time": "2023-11-13T12:28:33.771260",
     "exception": false,
     "start_time": "2023-11-13T12:28:33.723444",
     "status": "completed"
    },
    "tags": []
   },
   "source": [
    "<a id = \"22\"></a><br>\n",
    "<p style=\"font-family: 'Pacifico', cursive; font-weight: bold; letter-spacing: 2px; color: #556B2F; font-size: 160%; text-align: left; padding: 0px; border-bottom: 3px solid\">✨Item-Based Collaborative Filtering✨</p>"
   ]
  },
  {
   "cell_type": "markdown",
   "id": "5b7b63f2",
   "metadata": {
    "papermill": {
     "duration": 0.046969,
     "end_time": "2023-11-13T12:28:33.865117",
     "exception": false,
     "start_time": "2023-11-13T12:28:33.818148",
     "status": "completed"
    },
    "tags": []
   },
   "source": [
    "Öğe tabanlı filtrelemede, yeni öneriler hedef kullanıcının eski etkileşimlerine dayalı olarak seçilir. İlk olarak, kullanıcının zaten beğendiği tüm öğeler dikkate alınır. Daha sonra benzer ürünler hesaplanır ve kümeler oluşturulur (en yakın komşular). Bu kümelerden gelen yeni öğeler kullanıcıya önerilir.\n",
    "\n",
    "* Öğe Tabanlı İşbirlikçi Filtreleme nasıl çalışır:\n",
    "\n",
    "    * 1. İlk olarak, her öğenin kullanıcılar tarafından nasıl derecelendirildiğini veya tercih edildiğini temsil eden bir veri matrisi oluşturulur. Bu matris, kullanıcıları satırlar ve öğeleri sütunlar olarak temsil eder ve kullanıcı derecelendirmeleri veya tercihleri içerir.\n",
    "\n",
    "    * 2. Daha sonra, her bir öğe ile diğer öğeler arasındaki benzerlik puanları hesaplanır. Bu benzerlik puanları öğeler arasındaki ilişkileri ölçer. Ortak benzerlik metrikleri arasında kosinüs benzerliği veya Pearson korelasyon katsayısı gibi metrikler bulunur.\n",
    "\n",
    "    * 3. Bir kullanıcı bir öğe seçtiğinde, Öğe Tabanlı İşbirlikçi Filtreleme, seçilen öğeye benzer öğelere dayalı öneriler sunar. Önerilen öğeler, seçilen öğe ile benzerlik puanlarına göre sıralanır ve en yüksek benzerlik puanlarına sahip olanlar kullanıcıya önerilir.\n",
    "\n",
    "Öğe Tabanlı İşbirlikçi Filtrelemenin avantajlarından biri, kullanıcıların geçmiş tercihlerine dayalı kişiselleştirilmiş öneriler sunabilme yeteneğidir. Ancak büyük veri kümeleriyle çalışırken hesaplama maliyetleri artabilir ve soğuk başlangıç sorunu gibi bazı zorluklarla karşılaşabilir.\n",
    "\n",
    "Bu yöntem, özellikle çevrimiçi alışveriş web siteleri, müzik akış platformları ve içerik paylaşım web siteleri gibi alanlarda popüler bir öneri sistem yaklaşımıdır."
   ]
  },
  {
   "cell_type": "markdown",
   "id": "b5c25689",
   "metadata": {
    "papermill": {
     "duration": 0.045983,
     "end_time": "2023-11-13T12:28:33.958001",
     "exception": false,
     "start_time": "2023-11-13T12:28:33.912018",
     "status": "completed"
    },
    "tags": []
   },
   "source": [
    "<center><img src=\"https://i.imgur.com/aT4IveL.png\" width=\"700\" height=\"700\"></center>"
   ]
  },
  {
   "cell_type": "markdown",
   "id": "51fb8602",
   "metadata": {
    "papermill": {
     "duration": 0.04646,
     "end_time": "2023-11-13T12:28:34.051601",
     "exception": false,
     "start_time": "2023-11-13T12:28:34.005141",
     "status": "completed"
    },
    "tags": []
   },
   "source": [
    "<a id = \"23\"></a><br>\n",
    "<p style=\"font-family: 'Pacifico', cursive; font-weight: bold; letter-spacing: 2px; color: #556B2F; font-size: 160%; text-align: left; padding: 0px; border-bottom: 3px solid\">✨Item-Based Recommender System✨</p>"
   ]
  },
  {
   "cell_type": "code",
   "execution_count": 96,
   "id": "5442176c",
   "metadata": {
    "execution": {
     "iopub.execute_input": "2023-11-13T12:28:34.148728Z",
     "iopub.status.busy": "2023-11-13T12:28:34.148337Z",
     "iopub.status.idle": "2023-11-13T12:28:34.154985Z",
     "shell.execute_reply": "2023-11-13T12:28:34.154055Z"
    },
    "papermill": {
     "duration": 0.058498,
     "end_time": "2023-11-13T12:28:34.157012",
     "exception": false,
     "start_time": "2023-11-13T12:28:34.098514",
     "status": "completed"
    },
    "tags": []
   },
   "outputs": [
    {
     "data": {
      "text/plain": [
       "2808"
      ]
     },
     "execution_count": 96,
     "metadata": {},
     "output_type": "execute_result"
    }
   ],
   "source": [
    "df[\"movieId\"].nunique()"
   ]
  },
  {
   "cell_type": "code",
   "execution_count": 97,
   "id": "8b27d27e",
   "metadata": {
    "execution": {
     "iopub.execute_input": "2023-11-13T12:28:34.252441Z",
     "iopub.status.busy": "2023-11-13T12:28:34.251580Z",
     "iopub.status.idle": "2023-11-13T12:28:34.294440Z",
     "shell.execute_reply": "2023-11-13T12:28:34.292933Z"
    },
    "papermill": {
     "duration": 0.094035,
     "end_time": "2023-11-13T12:28:34.297130",
     "exception": false,
     "start_time": "2023-11-13T12:28:34.203095",
     "status": "completed"
    },
    "tags": []
   },
   "outputs": [],
   "source": [
    "user_movie_df = df.groupby([\"userId\",\"movieId\"])[\"rating\"].mean().unstack().notnull()"
   ]
  },
  {
   "cell_type": "code",
   "execution_count": 98,
   "id": "7d1467a4",
   "metadata": {
    "execution": {
     "iopub.execute_input": "2023-11-13T12:28:34.392248Z",
     "iopub.status.busy": "2023-11-13T12:28:34.391502Z",
     "iopub.status.idle": "2023-11-13T12:28:34.413384Z",
     "shell.execute_reply": "2023-11-13T12:28:34.412274Z"
    },
    "papermill": {
     "duration": 0.071994,
     "end_time": "2023-11-13T12:28:34.415704",
     "exception": false,
     "start_time": "2023-11-13T12:28:34.343710",
     "status": "completed"
    },
    "tags": []
   },
   "outputs": [
    {
     "data": {
      "text/html": [
       "<div>\n",
       "<style scoped>\n",
       "    .dataframe tbody tr th:only-of-type {\n",
       "        vertical-align: middle;\n",
       "    }\n",
       "\n",
       "    .dataframe tbody tr th {\n",
       "        vertical-align: top;\n",
       "    }\n",
       "\n",
       "    .dataframe thead th {\n",
       "        text-align: right;\n",
       "    }\n",
       "</style>\n",
       "<table border=\"1\" class=\"dataframe\">\n",
       "  <thead>\n",
       "    <tr style=\"text-align: right;\">\n",
       "      <th>movieId</th>\n",
       "      <th>2</th>\n",
       "      <th>3</th>\n",
       "      <th>5</th>\n",
       "      <th>6</th>\n",
       "      <th>11</th>\n",
       "      <th>12</th>\n",
       "      <th>13</th>\n",
       "      <th>14</th>\n",
       "      <th>15</th>\n",
       "      <th>16</th>\n",
       "      <th>...</th>\n",
       "      <th>132961</th>\n",
       "      <th>133365</th>\n",
       "      <th>134158</th>\n",
       "      <th>134569</th>\n",
       "      <th>134881</th>\n",
       "      <th>140174</th>\n",
       "      <th>142507</th>\n",
       "      <th>148652</th>\n",
       "      <th>158238</th>\n",
       "      <th>160718</th>\n",
       "    </tr>\n",
       "    <tr>\n",
       "      <th>userId</th>\n",
       "      <th></th>\n",
       "      <th></th>\n",
       "      <th></th>\n",
       "      <th></th>\n",
       "      <th></th>\n",
       "      <th></th>\n",
       "      <th></th>\n",
       "      <th></th>\n",
       "      <th></th>\n",
       "      <th></th>\n",
       "      <th></th>\n",
       "      <th></th>\n",
       "      <th></th>\n",
       "      <th></th>\n",
       "      <th></th>\n",
       "      <th></th>\n",
       "      <th></th>\n",
       "      <th></th>\n",
       "      <th></th>\n",
       "      <th></th>\n",
       "      <th></th>\n",
       "    </tr>\n",
       "  </thead>\n",
       "  <tbody>\n",
       "    <tr>\n",
       "      <th>1</th>\n",
       "      <td>False</td>\n",
       "      <td>False</td>\n",
       "      <td>False</td>\n",
       "      <td>False</td>\n",
       "      <td>False</td>\n",
       "      <td>False</td>\n",
       "      <td>False</td>\n",
       "      <td>False</td>\n",
       "      <td>False</td>\n",
       "      <td>False</td>\n",
       "      <td>...</td>\n",
       "      <td>False</td>\n",
       "      <td>False</td>\n",
       "      <td>False</td>\n",
       "      <td>False</td>\n",
       "      <td>False</td>\n",
       "      <td>False</td>\n",
       "      <td>False</td>\n",
       "      <td>False</td>\n",
       "      <td>False</td>\n",
       "      <td>False</td>\n",
       "    </tr>\n",
       "    <tr>\n",
       "      <th>2</th>\n",
       "      <td>False</td>\n",
       "      <td>False</td>\n",
       "      <td>False</td>\n",
       "      <td>False</td>\n",
       "      <td>False</td>\n",
       "      <td>False</td>\n",
       "      <td>False</td>\n",
       "      <td>False</td>\n",
       "      <td>False</td>\n",
       "      <td>False</td>\n",
       "      <td>...</td>\n",
       "      <td>False</td>\n",
       "      <td>False</td>\n",
       "      <td>False</td>\n",
       "      <td>False</td>\n",
       "      <td>False</td>\n",
       "      <td>False</td>\n",
       "      <td>False</td>\n",
       "      <td>False</td>\n",
       "      <td>False</td>\n",
       "      <td>False</td>\n",
       "    </tr>\n",
       "    <tr>\n",
       "      <th>3</th>\n",
       "      <td>False</td>\n",
       "      <td>False</td>\n",
       "      <td>False</td>\n",
       "      <td>False</td>\n",
       "      <td>False</td>\n",
       "      <td>False</td>\n",
       "      <td>False</td>\n",
       "      <td>False</td>\n",
       "      <td>False</td>\n",
       "      <td>False</td>\n",
       "      <td>...</td>\n",
       "      <td>False</td>\n",
       "      <td>False</td>\n",
       "      <td>False</td>\n",
       "      <td>False</td>\n",
       "      <td>False</td>\n",
       "      <td>False</td>\n",
       "      <td>False</td>\n",
       "      <td>False</td>\n",
       "      <td>False</td>\n",
       "      <td>False</td>\n",
       "    </tr>\n",
       "    <tr>\n",
       "      <th>4</th>\n",
       "      <td>False</td>\n",
       "      <td>False</td>\n",
       "      <td>False</td>\n",
       "      <td>False</td>\n",
       "      <td>False</td>\n",
       "      <td>False</td>\n",
       "      <td>False</td>\n",
       "      <td>False</td>\n",
       "      <td>False</td>\n",
       "      <td>False</td>\n",
       "      <td>...</td>\n",
       "      <td>False</td>\n",
       "      <td>False</td>\n",
       "      <td>False</td>\n",
       "      <td>False</td>\n",
       "      <td>False</td>\n",
       "      <td>False</td>\n",
       "      <td>False</td>\n",
       "      <td>False</td>\n",
       "      <td>False</td>\n",
       "      <td>False</td>\n",
       "    </tr>\n",
       "    <tr>\n",
       "      <th>5</th>\n",
       "      <td>False</td>\n",
       "      <td>True</td>\n",
       "      <td>False</td>\n",
       "      <td>False</td>\n",
       "      <td>False</td>\n",
       "      <td>False</td>\n",
       "      <td>False</td>\n",
       "      <td>False</td>\n",
       "      <td>False</td>\n",
       "      <td>False</td>\n",
       "      <td>...</td>\n",
       "      <td>False</td>\n",
       "      <td>False</td>\n",
       "      <td>False</td>\n",
       "      <td>False</td>\n",
       "      <td>False</td>\n",
       "      <td>False</td>\n",
       "      <td>False</td>\n",
       "      <td>False</td>\n",
       "      <td>False</td>\n",
       "      <td>False</td>\n",
       "    </tr>\n",
       "  </tbody>\n",
       "</table>\n",
       "<p>5 rows × 2808 columns</p>\n",
       "</div>"
      ],
      "text/plain": [
       "movieId  2       3       5       6       11      12      13      14      \\\n",
       "userId                                                                    \n",
       "1         False   False   False   False   False   False   False   False   \n",
       "2         False   False   False   False   False   False   False   False   \n",
       "3         False   False   False   False   False   False   False   False   \n",
       "4         False   False   False   False   False   False   False   False   \n",
       "5         False    True   False   False   False   False   False   False   \n",
       "\n",
       "movieId  15      16      ...  132961  133365  134158  134569  134881  140174  \\\n",
       "userId                   ...                                                   \n",
       "1         False   False  ...   False   False   False   False   False   False   \n",
       "2         False   False  ...   False   False   False   False   False   False   \n",
       "3         False   False  ...   False   False   False   False   False   False   \n",
       "4         False   False  ...   False   False   False   False   False   False   \n",
       "5         False   False  ...   False   False   False   False   False   False   \n",
       "\n",
       "movieId  142507  148652  158238  160718  \n",
       "userId                                   \n",
       "1         False   False   False   False  \n",
       "2         False   False   False   False  \n",
       "3         False   False   False   False  \n",
       "4         False   False   False   False  \n",
       "5         False   False   False   False  \n",
       "\n",
       "[5 rows x 2808 columns]"
      ]
     },
     "execution_count": 98,
     "metadata": {},
     "output_type": "execute_result"
    }
   ],
   "source": [
    "user_movie_df.head()"
   ]
  },
  {
   "cell_type": "code",
   "execution_count": 99,
   "id": "9e76b3b8",
   "metadata": {
    "execution": {
     "iopub.execute_input": "2023-11-13T12:28:34.513595Z",
     "iopub.status.busy": "2023-11-13T12:28:34.512918Z",
     "iopub.status.idle": "2023-11-13T12:28:34.519975Z",
     "shell.execute_reply": "2023-11-13T12:28:34.519229Z"
    },
    "papermill": {
     "duration": 0.057829,
     "end_time": "2023-11-13T12:28:34.521873",
     "exception": false,
     "start_time": "2023-11-13T12:28:34.464044",
     "status": "completed"
    },
    "tags": []
   },
   "outputs": [
    {
     "data": {
      "text/plain": [
       "196"
      ]
     },
     "execution_count": 99,
     "metadata": {},
     "output_type": "execute_result"
    }
   ],
   "source": [
    "sample_movie = user_movie_df.sample(1,random_state=45).index[0]\n",
    "\n",
    "sample_movie"
   ]
  },
  {
   "cell_type": "code",
   "execution_count": 100,
   "id": "d2e30122",
   "metadata": {
    "execution": {
     "iopub.execute_input": "2023-11-13T12:28:34.621365Z",
     "iopub.status.busy": "2023-11-13T12:28:34.620980Z",
     "iopub.status.idle": "2023-11-13T12:28:34.625774Z",
     "shell.execute_reply": "2023-11-13T12:28:34.624861Z"
    },
    "papermill": {
     "duration": 0.058232,
     "end_time": "2023-11-13T12:28:34.627890",
     "exception": false,
     "start_time": "2023-11-13T12:28:34.569658",
     "status": "completed"
    },
    "tags": []
   },
   "outputs": [],
   "source": [
    "filtered = user_movie_df[sample_movie]"
   ]
  },
  {
   "cell_type": "code",
   "execution_count": 101,
   "id": "6f8005fc",
   "metadata": {
    "execution": {
     "iopub.execute_input": "2023-11-13T12:28:34.726336Z",
     "iopub.status.busy": "2023-11-13T12:28:34.725944Z",
     "iopub.status.idle": "2023-11-13T12:28:34.733890Z",
     "shell.execute_reply": "2023-11-13T12:28:34.732540Z"
    },
    "papermill": {
     "duration": 0.060529,
     "end_time": "2023-11-13T12:28:34.736147",
     "exception": false,
     "start_time": "2023-11-13T12:28:34.675618",
     "status": "completed"
    },
    "tags": []
   },
   "outputs": [],
   "source": [
    "user_movie_df_wo = user_movie_df.drop(sample_movie,axis=1)"
   ]
  },
  {
   "cell_type": "code",
   "execution_count": 102,
   "id": "e9fbd1c5",
   "metadata": {
    "execution": {
     "iopub.execute_input": "2023-11-13T12:28:34.834117Z",
     "iopub.status.busy": "2023-11-13T12:28:34.833437Z",
     "iopub.status.idle": "2023-11-13T12:28:35.612389Z",
     "shell.execute_reply": "2023-11-13T12:28:35.611307Z"
    },
    "papermill": {
     "duration": 0.830783,
     "end_time": "2023-11-13T12:28:35.615255",
     "exception": false,
     "start_time": "2023-11-13T12:28:34.784472",
     "status": "completed"
    },
    "tags": []
   },
   "outputs": [],
   "source": [
    "movies_similarity = user_movie_df_wo.corrwith(filtered)"
   ]
  },
  {
   "cell_type": "code",
   "execution_count": 103,
   "id": "2b1a8276",
   "metadata": {
    "execution": {
     "iopub.execute_input": "2023-11-13T12:28:35.715796Z",
     "iopub.status.busy": "2023-11-13T12:28:35.714704Z",
     "iopub.status.idle": "2023-11-13T12:28:35.723751Z",
     "shell.execute_reply": "2023-11-13T12:28:35.722722Z"
    },
    "papermill": {
     "duration": 0.063011,
     "end_time": "2023-11-13T12:28:35.726065",
     "exception": false,
     "start_time": "2023-11-13T12:28:35.663054",
     "status": "completed"
    },
    "tags": []
   },
   "outputs": [
    {
     "data": {
      "text/plain": [
       "movieId\n",
       "160    0.388101\n",
       "172    0.359755\n",
       "435    0.346429\n",
       "173    0.342352\n",
       "316    0.331515\n",
       "253    0.331465\n",
       "22     0.326370\n",
       "317    0.324579\n",
       "165    0.324017\n",
       "592    0.321798\n",
       "198    0.321120\n",
       "145    0.321120\n",
       "587    0.315399\n",
       "329    0.313288\n",
       "292    0.307931\n",
       "204    0.296570\n",
       "153    0.295394\n",
       "344    0.292703\n",
       "379    0.289515\n",
       "426    0.287628\n",
       "dtype: float64"
      ]
     },
     "execution_count": 103,
     "metadata": {},
     "output_type": "execute_result"
    }
   ],
   "source": [
    "movies_similarity.sort_values(ascending=False).head(20)"
   ]
  },
  {
   "cell_type": "code",
   "execution_count": 104,
   "id": "3aa83cc2",
   "metadata": {
    "execution": {
     "iopub.execute_input": "2023-11-13T12:28:35.823632Z",
     "iopub.status.busy": "2023-11-13T12:28:35.822630Z",
     "iopub.status.idle": "2023-11-13T12:28:35.829134Z",
     "shell.execute_reply": "2023-11-13T12:28:35.828225Z"
    },
    "papermill": {
     "duration": 0.05705,
     "end_time": "2023-11-13T12:28:35.831215",
     "exception": false,
     "start_time": "2023-11-13T12:28:35.774165",
     "status": "completed"
    },
    "tags": []
   },
   "outputs": [],
   "source": [
    "movies_similarity = movies_similarity.sort_values(ascending=False).reset_index()\n",
    "movies_similarity.columns = [\"movieId\",\"movies_similarity\"]"
   ]
  },
  {
   "cell_type": "code",
   "execution_count": 105,
   "id": "27019500",
   "metadata": {
    "execution": {
     "iopub.execute_input": "2023-11-13T12:28:35.930785Z",
     "iopub.status.busy": "2023-11-13T12:28:35.929600Z",
     "iopub.status.idle": "2023-11-13T12:28:35.939804Z",
     "shell.execute_reply": "2023-11-13T12:28:35.938733Z"
    },
    "papermill": {
     "duration": 0.062374,
     "end_time": "2023-11-13T12:28:35.941829",
     "exception": false,
     "start_time": "2023-11-13T12:28:35.879455",
     "status": "completed"
    },
    "tags": []
   },
   "outputs": [
    {
     "data": {
      "text/html": [
       "<div>\n",
       "<style scoped>\n",
       "    .dataframe tbody tr th:only-of-type {\n",
       "        vertical-align: middle;\n",
       "    }\n",
       "\n",
       "    .dataframe tbody tr th {\n",
       "        vertical-align: top;\n",
       "    }\n",
       "\n",
       "    .dataframe thead th {\n",
       "        text-align: right;\n",
       "    }\n",
       "</style>\n",
       "<table border=\"1\" class=\"dataframe\">\n",
       "  <thead>\n",
       "    <tr style=\"text-align: right;\">\n",
       "      <th></th>\n",
       "      <th>movieId</th>\n",
       "      <th>movies_similarity</th>\n",
       "    </tr>\n",
       "  </thead>\n",
       "  <tbody>\n",
       "    <tr>\n",
       "      <th>0</th>\n",
       "      <td>160</td>\n",
       "      <td>0.388101</td>\n",
       "    </tr>\n",
       "    <tr>\n",
       "      <th>1</th>\n",
       "      <td>172</td>\n",
       "      <td>0.359755</td>\n",
       "    </tr>\n",
       "    <tr>\n",
       "      <th>2</th>\n",
       "      <td>435</td>\n",
       "      <td>0.346429</td>\n",
       "    </tr>\n",
       "    <tr>\n",
       "      <th>3</th>\n",
       "      <td>173</td>\n",
       "      <td>0.342352</td>\n",
       "    </tr>\n",
       "    <tr>\n",
       "      <th>4</th>\n",
       "      <td>316</td>\n",
       "      <td>0.331515</td>\n",
       "    </tr>\n",
       "  </tbody>\n",
       "</table>\n",
       "</div>"
      ],
      "text/plain": [
       "   movieId  movies_similarity\n",
       "0      160           0.388101\n",
       "1      172           0.359755\n",
       "2      435           0.346429\n",
       "3      173           0.342352\n",
       "4      316           0.331515"
      ]
     },
     "execution_count": 105,
     "metadata": {},
     "output_type": "execute_result"
    }
   ],
   "source": [
    "movies_similarity.head()"
   ]
  },
  {
   "cell_type": "code",
   "execution_count": 106,
   "id": "76935f5c",
   "metadata": {
    "execution": {
     "iopub.execute_input": "2023-11-13T12:28:36.039694Z",
     "iopub.status.busy": "2023-11-13T12:28:36.038569Z",
     "iopub.status.idle": "2023-11-13T12:28:36.060345Z",
     "shell.execute_reply": "2023-11-13T12:28:36.059228Z"
    },
    "papermill": {
     "duration": 0.072692,
     "end_time": "2023-11-13T12:28:36.062531",
     "exception": false,
     "start_time": "2023-11-13T12:28:35.989839",
     "status": "completed"
    },
    "tags": []
   },
   "outputs": [
    {
     "data": {
      "text/html": [
       "<div>\n",
       "<style scoped>\n",
       "    .dataframe tbody tr th:only-of-type {\n",
       "        vertical-align: middle;\n",
       "    }\n",
       "\n",
       "    .dataframe tbody tr th {\n",
       "        vertical-align: top;\n",
       "    }\n",
       "\n",
       "    .dataframe thead th {\n",
       "        text-align: right;\n",
       "    }\n",
       "</style>\n",
       "<table border=\"1\" class=\"dataframe\">\n",
       "  <thead>\n",
       "    <tr style=\"text-align: right;\">\n",
       "      <th></th>\n",
       "      <th>movieId</th>\n",
       "      <th>overview</th>\n",
       "      <th>release_date</th>\n",
       "      <th>title</th>\n",
       "      <th>vote_average</th>\n",
       "      <th>vote_count</th>\n",
       "      <th>userId</th>\n",
       "      <th>rating</th>\n",
       "      <th>date</th>\n",
       "    </tr>\n",
       "  </thead>\n",
       "  <tbody>\n",
       "    <tr>\n",
       "      <th>3585</th>\n",
       "      <td>173</td>\n",
       "      <td>A ship sent to investigate a wave of mysteriou...</td>\n",
       "      <td>1954-12-23</td>\n",
       "      <td>20,000 Leagues Under the Sea</td>\n",
       "      <td>6.9</td>\n",
       "      <td>160.0</td>\n",
       "      <td>4</td>\n",
       "      <td>3.0</td>\n",
       "      <td>2000-02-06 04:29:06</td>\n",
       "    </tr>\n",
       "    <tr>\n",
       "      <th>3586</th>\n",
       "      <td>173</td>\n",
       "      <td>A ship sent to investigate a wave of mysteriou...</td>\n",
       "      <td>1954-12-23</td>\n",
       "      <td>20,000 Leagues Under the Sea</td>\n",
       "      <td>6.9</td>\n",
       "      <td>160.0</td>\n",
       "      <td>6</td>\n",
       "      <td>2.0</td>\n",
       "      <td>2005-02-24 15:17:08</td>\n",
       "    </tr>\n",
       "    <tr>\n",
       "      <th>3587</th>\n",
       "      <td>173</td>\n",
       "      <td>A ship sent to investigate a wave of mysteriou...</td>\n",
       "      <td>1954-12-23</td>\n",
       "      <td>20,000 Leagues Under the Sea</td>\n",
       "      <td>6.9</td>\n",
       "      <td>160.0</td>\n",
       "      <td>22</td>\n",
       "      <td>1.5</td>\n",
       "      <td>2005-11-10 22:48:50</td>\n",
       "    </tr>\n",
       "    <tr>\n",
       "      <th>3588</th>\n",
       "      <td>173</td>\n",
       "      <td>A ship sent to investigate a wave of mysteriou...</td>\n",
       "      <td>1954-12-23</td>\n",
       "      <td>20,000 Leagues Under the Sea</td>\n",
       "      <td>6.9</td>\n",
       "      <td>160.0</td>\n",
       "      <td>32</td>\n",
       "      <td>3.0</td>\n",
       "      <td>1996-06-15 08:43:47</td>\n",
       "    </tr>\n",
       "    <tr>\n",
       "      <th>3589</th>\n",
       "      <td>173</td>\n",
       "      <td>A ship sent to investigate a wave of mysteriou...</td>\n",
       "      <td>1954-12-23</td>\n",
       "      <td>20,000 Leagues Under the Sea</td>\n",
       "      <td>6.9</td>\n",
       "      <td>160.0</td>\n",
       "      <td>41</td>\n",
       "      <td>4.0</td>\n",
       "      <td>2004-08-30 17:45:39</td>\n",
       "    </tr>\n",
       "    <tr>\n",
       "      <th>...</th>\n",
       "      <td>...</td>\n",
       "      <td>...</td>\n",
       "      <td>...</td>\n",
       "      <td>...</td>\n",
       "      <td>...</td>\n",
       "      <td>...</td>\n",
       "      <td>...</td>\n",
       "      <td>...</td>\n",
       "      <td>...</td>\n",
       "    </tr>\n",
       "    <tr>\n",
       "      <th>40219</th>\n",
       "      <td>160</td>\n",
       "      <td>A group of people are standing along the platf...</td>\n",
       "      <td>1896-01-25</td>\n",
       "      <td>The Arrival of a Train at La Ciotat</td>\n",
       "      <td>6.9</td>\n",
       "      <td>87.0</td>\n",
       "      <td>597</td>\n",
       "      <td>3.0</td>\n",
       "      <td>1999-10-23 20:01:58</td>\n",
       "    </tr>\n",
       "    <tr>\n",
       "      <th>40220</th>\n",
       "      <td>160</td>\n",
       "      <td>A group of people are standing along the platf...</td>\n",
       "      <td>1896-01-25</td>\n",
       "      <td>The Arrival of a Train at La Ciotat</td>\n",
       "      <td>6.9</td>\n",
       "      <td>87.0</td>\n",
       "      <td>619</td>\n",
       "      <td>3.0</td>\n",
       "      <td>1996-05-12 17:54:39</td>\n",
       "    </tr>\n",
       "    <tr>\n",
       "      <th>40221</th>\n",
       "      <td>160</td>\n",
       "      <td>A group of people are standing along the platf...</td>\n",
       "      <td>1896-01-25</td>\n",
       "      <td>The Arrival of a Train at La Ciotat</td>\n",
       "      <td>6.9</td>\n",
       "      <td>87.0</td>\n",
       "      <td>639</td>\n",
       "      <td>2.0</td>\n",
       "      <td>1996-06-05 16:26:26</td>\n",
       "    </tr>\n",
       "    <tr>\n",
       "      <th>40222</th>\n",
       "      <td>160</td>\n",
       "      <td>A group of people are standing along the platf...</td>\n",
       "      <td>1896-01-25</td>\n",
       "      <td>The Arrival of a Train at La Ciotat</td>\n",
       "      <td>6.9</td>\n",
       "      <td>87.0</td>\n",
       "      <td>649</td>\n",
       "      <td>1.0</td>\n",
       "      <td>1996-06-10 16:40:54</td>\n",
       "    </tr>\n",
       "    <tr>\n",
       "      <th>40223</th>\n",
       "      <td>160</td>\n",
       "      <td>A group of people are standing along the platf...</td>\n",
       "      <td>1896-01-25</td>\n",
       "      <td>The Arrival of a Train at La Ciotat</td>\n",
       "      <td>6.9</td>\n",
       "      <td>87.0</td>\n",
       "      <td>659</td>\n",
       "      <td>2.0</td>\n",
       "      <td>1996-06-13 19:39:38</td>\n",
       "    </tr>\n",
       "  </tbody>\n",
       "</table>\n",
       "<p>381 rows × 9 columns</p>\n",
       "</div>"
      ],
      "text/plain": [
       "       movieId                                           overview  \\\n",
       "3585       173  A ship sent to investigate a wave of mysteriou...   \n",
       "3586       173  A ship sent to investigate a wave of mysteriou...   \n",
       "3587       173  A ship sent to investigate a wave of mysteriou...   \n",
       "3588       173  A ship sent to investigate a wave of mysteriou...   \n",
       "3589       173  A ship sent to investigate a wave of mysteriou...   \n",
       "...        ...                                                ...   \n",
       "40219      160  A group of people are standing along the platf...   \n",
       "40220      160  A group of people are standing along the platf...   \n",
       "40221      160  A group of people are standing along the platf...   \n",
       "40222      160  A group of people are standing along the platf...   \n",
       "40223      160  A group of people are standing along the platf...   \n",
       "\n",
       "      release_date                                title  vote_average  \\\n",
       "3585    1954-12-23         20,000 Leagues Under the Sea           6.9   \n",
       "3586    1954-12-23         20,000 Leagues Under the Sea           6.9   \n",
       "3587    1954-12-23         20,000 Leagues Under the Sea           6.9   \n",
       "3588    1954-12-23         20,000 Leagues Under the Sea           6.9   \n",
       "3589    1954-12-23         20,000 Leagues Under the Sea           6.9   \n",
       "...            ...                                  ...           ...   \n",
       "40219   1896-01-25  The Arrival of a Train at La Ciotat           6.9   \n",
       "40220   1896-01-25  The Arrival of a Train at La Ciotat           6.9   \n",
       "40221   1896-01-25  The Arrival of a Train at La Ciotat           6.9   \n",
       "40222   1896-01-25  The Arrival of a Train at La Ciotat           6.9   \n",
       "40223   1896-01-25  The Arrival of a Train at La Ciotat           6.9   \n",
       "\n",
       "       vote_count  userId  rating                date  \n",
       "3585        160.0       4     3.0 2000-02-06 04:29:06  \n",
       "3586        160.0       6     2.0 2005-02-24 15:17:08  \n",
       "3587        160.0      22     1.5 2005-11-10 22:48:50  \n",
       "3588        160.0      32     3.0 1996-06-15 08:43:47  \n",
       "3589        160.0      41     4.0 2004-08-30 17:45:39  \n",
       "...           ...     ...     ...                 ...  \n",
       "40219        87.0     597     3.0 1999-10-23 20:01:58  \n",
       "40220        87.0     619     3.0 1996-05-12 17:54:39  \n",
       "40221        87.0     639     2.0 1996-06-05 16:26:26  \n",
       "40222        87.0     649     1.0 1996-06-10 16:40:54  \n",
       "40223        87.0     659     2.0 1996-06-13 19:39:38  \n",
       "\n",
       "[381 rows x 9 columns]"
      ]
     },
     "execution_count": 106,
     "metadata": {},
     "output_type": "execute_result"
    }
   ],
   "source": [
    "filtered_movies = df[df['movieId'].isin([160, 172, 435, 173, 316])]\n",
    "\n",
    "filtered_movies"
   ]
  },
  {
   "cell_type": "code",
   "execution_count": 107,
   "id": "23f3415c",
   "metadata": {
    "execution": {
     "iopub.execute_input": "2023-11-13T12:28:36.161847Z",
     "iopub.status.busy": "2023-11-13T12:28:36.161074Z",
     "iopub.status.idle": "2023-11-13T12:28:36.169748Z",
     "shell.execute_reply": "2023-11-13T12:28:36.168590Z"
    },
    "papermill": {
     "duration": 0.060924,
     "end_time": "2023-11-13T12:28:36.172133",
     "exception": false,
     "start_time": "2023-11-13T12:28:36.111209",
     "status": "completed"
    },
    "tags": []
   },
   "outputs": [
    {
     "data": {
      "text/plain": [
       "title\n",
       "Grill Point                            145\n",
       "20,000 Leagues Under the Sea            70\n",
       "The Arrival of a Train at La Ciotat     63\n",
       "The Day After Tomorrow                  55\n",
       "Star Trek V: The Final Frontier         48\n",
       "Name: count, dtype: int64"
      ]
     },
     "execution_count": 107,
     "metadata": {},
     "output_type": "execute_result"
    }
   ],
   "source": [
    "filtered_movies['title'].value_counts()"
   ]
  },
  {
   "cell_type": "markdown",
   "id": "bfc4388b",
   "metadata": {
    "papermill": {
     "duration": 0.048816,
     "end_time": "2023-11-13T12:28:36.271544",
     "exception": false,
     "start_time": "2023-11-13T12:28:36.222728",
     "status": "completed"
    },
    "tags": []
   },
   "source": [
    "<a id = \"24\"></a><br>\n",
    "<p style=\"font-family: 'Pacifico', cursive; font-weight: bold; letter-spacing: 2px; color: #556B2F; font-size: 160%; text-align: left; padding: 0px; border-bottom: 3px solid\">✨Model-Based Collaborative Filtering (Matrix Factorization)✨</p>"
   ]
  },
  {
   "cell_type": "markdown",
   "id": "a57cf33c",
   "metadata": {
    "papermill": {
     "duration": 0.048672,
     "end_time": "2023-11-13T12:28:36.370487",
     "exception": false,
     "start_time": "2023-11-13T12:28:36.321815",
     "status": "completed"
    },
    "tags": []
   },
   "source": [
    "Model-Based Collaborative Filtering, Matrix Factorization (Model Tabanlı İşbirlikçi Filtreleme, Matris Ayrıştırma) olarak da bilinir, bir öneri sistemleri yaklaşımıdır. Öneri sistemleri, kullanıcıların veya ürünlerin tercihlerini tahmin etmek ve kullanıcılara kişiselleştirilmiş öneriler sunmak için kullanılır. Model-Based Collaborative Filtering, kullanıcıların geçmiş tercihlerini ve benzer kullanıcıların tercihlerini kullanarak öneriler üretir.\n",
    "\n",
    "Matrix Factorization, temel olarak bir kullanıcı-ürün matrisini (bir kullanıcıların tercihlerini ve ürünlerin özelliklerini içeren bir matris) iki daha küçük matrise bölen bir tekniktir. Bu iki daha küçük matris, kullanıcıların ve ürünlerin gizli özelliklerini temsil eder. Matrix Factorization, bu gizli özellikleri tahmin etmek için matrislerin ayrıştırılmasını içerir.\n",
    "\n",
    "Örneğin, bir e-ticaret sitesinde kullanıcıların ürünleri nasıl değerlendirdiğini gösteren bir matrisi düşünelim. Bu matrisin satırları kullanıcıları, sütunları ise ürünleri temsil eder. Ancak bu matris eksik olabilir çünkü her kullanıcı her ürünü değerlendirmemiş olabilir. Model-Based Collaborative Filtering, bu eksiklikleri doldurmak ve öneriler üretmek için Matrix Factorization'ı kullanır.\n",
    "\n",
    "Matrix Factorization, kullanıcıların ve ürünlerin gizli özelliklerini öğrenerek, her kullanıcının her ürün için tahmini tercihini hesaplar. Bu tahminler daha sonra kullanıcılara önerilir. Matrix Factorization, özellikle büyük veri kümeleri üzerinde işbirlikçi filtreleme yapmak için etkili bir yöntemdir ve Netflix, Amazon ve diğer büyük çevrimiçi platformlar gibi birçok şirket tarafından kullanılır."
   ]
  },
  {
   "cell_type": "markdown",
   "id": "01aec764",
   "metadata": {
    "papermill": {
     "duration": 0.049011,
     "end_time": "2023-11-13T12:28:36.468558",
     "exception": false,
     "start_time": "2023-11-13T12:28:36.419547",
     "status": "completed"
    },
    "tags": []
   },
   "source": [
    "<center><img src=\"https://i.imgur.com/w4HggQL.png\" width=\"800\" height=\"800\"></center>"
   ]
  },
  {
   "cell_type": "markdown",
   "id": "8343c650",
   "metadata": {
    "papermill": {
     "duration": 0.048726,
     "end_time": "2023-11-13T12:28:36.566172",
     "exception": false,
     "start_time": "2023-11-13T12:28:36.517446",
     "status": "completed"
    },
    "tags": []
   },
   "source": [
    "<center><img src=\"https://i.imgur.com/97A2GqR.png\" width=\"800\" height=\"800\"></center>"
   ]
  },
  {
   "cell_type": "markdown",
   "id": "c4a2ecbe",
   "metadata": {
    "papermill": {
     "duration": 0.048646,
     "end_time": "2023-11-13T12:28:36.663379",
     "exception": false,
     "start_time": "2023-11-13T12:28:36.614733",
     "status": "completed"
    },
    "tags": []
   },
   "source": [
    "<div style=\"border-radius:10px; border:#65647C solid; padding: 15px; background-color: #F8EDE3; font-size:100%; text-align:left\">\n",
    "\n",
    "<h3 align=\"left\"><font color='#7D6E83'><b>🤔 Inferences: </b></font></h3>\n",
    "\n",
    "* Kullanıcılar ve filmler için varsayılan latent özelliklerin ağırlıkları, mevcut verilerden elde edilir ve bu ağırlıklar kullanılarak eksik gözlemler için tahminler yapılır.\n",
    "* Kullanıcı-Ürün matrisi, iki daha küçük matrise ayrıştırılır.\n",
    "* İki matristen Kullanıcı-Ürün matrisine geçişin latent faktörler tarafından yönetildiğini varsayarız.\n",
    "* Gözlemlenen değerlere dayalı olarak latent faktörlerin ağırlıklarını buluruz.\n",
    "* Bulunan ağırlıklar, eksik gözlemleri doldurmak için kullanılır.\n",
    "* Değerlendirme matrisinin iki faktör matrisinin iç çarpımı ile oluşturulduğu varsayılır.\n",
    "* Faktör matrisleri, latent faktörleri veya değişkenleri temsil eder, bunlar kullanıcı latent faktörleri ve film latent faktörlerini içerir.\n",
    "* Kullanıcıların ve filmlerin latent özellikler için puanlara sahip olduğu kabul edilir, örneğin komedi, korku, macera gibi film türleri, belirli oyuncuların varlığı, yönetmenler, senaristler vb. Örneğin, bir komedi filmi için komedi faktörünün ağırlığı 5 ise, korku faktörünün ağırlığı 0 olabilir.\n",
    "* Var olan değerler, tüm p ve q değerlerini yinelemeli olarak bulmak için kullanılır ve daha sonra kullanılır.\n",
    "* İlk olarak, rastgele p ve q değerleri ile, derecelendirme matrisindeki değerleri tahmin etmeye çalışılır.\n",
    "* Her yinelemede hatalı tahminler, derecelendirme matrisindeki değerlere yaklaşmak için düzeltilir.\n",
    "* Örneğin, başlangıçta 5 tahmin edildiyse ve aslında 3 olmalıydı, sonraki tahmin 4 olabilir, ve böyle devam eder.\n",
    "* Bu şekilde, belirli bir yineleme sayısından sonra p ve q matrisleri dolar.\n",
    "* Var olan p ve q değerlerine dayalı olarak eksik gözlemler için tahminler yapılır."
   ]
  },
  {
   "cell_type": "markdown",
   "id": "4f43de53",
   "metadata": {
    "papermill": {
     "duration": 0.155609,
     "end_time": "2023-11-13T12:28:36.869834",
     "exception": false,
     "start_time": "2023-11-13T12:28:36.714225",
     "status": "completed"
    },
    "tags": []
   },
   "source": [
    "<a id = \"25\"></a><br>\n",
    "<p style=\"font-family: 'Pacifico', cursive; font-weight: bold; letter-spacing: 2px; color: #556B2F; font-size: 160%; text-align: left; padding: 0px; border-bottom: 3px solid\">✨Gradient Descent✨</p>"
   ]
  },
  {
   "cell_type": "markdown",
   "id": "b0933e6b",
   "metadata": {
    "papermill": {
     "duration": 0.048553,
     "end_time": "2023-11-13T12:28:36.967668",
     "exception": false,
     "start_time": "2023-11-13T12:28:36.919115",
     "status": "completed"
    },
    "tags": []
   },
   "source": [
    "**Gradient İnişi**, farklılanabilir bir fonksiyonun yerel minimumunu bulmak için kullanılan bir optimizasyon algoritmasıdır. Makine öğreniminde gradyan inişi, bir maliyet fonksiyonunu olabildiğince minimize eden bir fonksiyonun parametrelerinin (katsayılarının) değerlerini bulmak için kullanılır.\n",
    "\n",
    "İlk olarak, başlangıç parametre değerlerini tanımlayarak ve ardından gradyan inişi algoritması, bu değerleri belirtilen maliyet fonksiyonunu minimize edecek şekilde yinelemeli olarak ayarlamak için hesaplamayı kullanır. Bu kavramı tam anlayabilmek için gradyanları bilmek önemlidir.\n",
    "\n",
    "**Gradyan Nedir?**\n",
    "\n",
    "> \"Bir gradyan, girişleri biraz değiştirirseniz bir fonksiyonun çıktısının ne kadar değiştiğini ölçer.\" — Lex Fridman (MIT)\n",
    "\n",
    "Basitçe ifade etmek gerekirse, bir gradyan, hatanın değişikliği ile ilgili olarak tüm ağırlıkların değişikliğini ölçer. Bir gradyanı bir fonksiyonun eğimi olarak da düşünebilirsiniz. Ne kadar yüksek gradyan olursa, eğim o kadar dik olur ve bir model o kadar hızlı öğrenir. Ancak eğim sıfırsa, model öğrenmeyi durur. Matematiksel terimlerle, bir gradyan, girişlere göre kısmi türevdir.\n",
    "\n",
    "Şöyle düşünün: Bir gözü bağlı bir adamın, mümkün olduğunca az adım atarak bir tepeye çıkmak istediğini hayal edin. Tepeye ulaşmadan önce mümkün olduğunca dik yönde büyük adımlar atarak tırmanmaya başlayabilir. Ancak tepeye yaklaştıkça adımları daha küçük hale gelecektir ki tepeyi aşmasın. Bu süreci matematiksel olarak gradyan kullanarak tanımlayabiliriz.\n",
    "\n",
    "**Gradyan İnişi Nasıl Çalışır?**\n",
    "\n",
    "Gradyan inişini bir tepeye çıkmak yerine bir vadinin dibine inmek olarak düşünün. Bu, verilen bir fonksiyonu minimize eden bir minimizasyon algoritmasıdır.\n",
    "\n",
    "Aşağıdaki denklem, gradyan inişi algoritmasının ne yaptığını açıklar: b, tırmanıcımızın sonraki pozisyonudur, a ise şu anki pozisyonunu temsil eder. Eksi işareti, gradyan iniş algoritmasının minimizasyon bölümüne işaret eder. Orta kısımdaki gamma, bir bekleme faktörüdür ve gradyan terimi (Δf(a)), en dik iniş yönüdür.\n",
    "\n",
    "<center><img src=\"https://i.imgur.com/t3pKnKd.png\" width=\"500\" height=\"500\"></center>\n",
    "\n",
    "Bu formül bize en dik iniş yönü olan bir sonraki konumu söyler. Kavramı tam anlamak için başka bir örneğe bakalım.\n",
    "\n",
    "Bir makine öğrenimi problemine sahip olduğunuzu ve maliyet fonksiyonu J(w, b)'yi en aza indirmek ve parametrelerini (w ve b) ayarlayarak yerel minimuma ulaşmak için gradient inişini kullanarak algoritmanızı eğitmek istediğinizi hayal edin. Aşağıda, yatay eksiler parametreleri (w ve b) temsil ederken, dikey eksilerde maliyet fonksiyonu J(w, b) temsil edilir. Gradient inişi bir çıkıntılı fonksiyondur.\n",
    "\n",
    "<center><img src=\"https://i.imgur.com/rL8zdCj.png\" width=\"500\" height=\"500\"></center>\n",
    "\n",
    "w ve b değerlerini, maliyet fonksiyonunun minimumuna karşılık gelen değerlerini bulmak istediğimizi biliyoruz (kırmızı ok ile işaretlenmiş). Doğru değerleri bulmaya başlamak için w ve b'yi bazı rastgele sayılarla başlatırız. Gradyan inişi daha sonra o noktada başlar (resmimizin yaklaşık olarak en üstünde), ve maliyet fonksiyonunun mümkün olduğunca küçük olduğu noktaya ulaşana kadar en dik iniş yönünde (yani resmin en üstünden en altına) bir adım atar.\n",
    "\n",
    "**Gradyan İniş Öğrenme Oranı**\n",
    "\n",
    "Gradyan inişin yerel minimum yönünde attığı adımların ne kadar büyük olduğu, optimal ağırlıklara ne kadar hızlı veya yavaş ilerleyeceğimizi belirleyen öğrenme oranı tarafından belirlenir.\n",
    "\n",
    "Gradyan inişi algoritmasının yerel minimuma ulaşabilmesi için öğrenme oranını uygun bir değere ayarlamalıyız, ne çok düşük ne de çok yüksek olmamalıdır. Bu önemlidir çünkü attığı adımlar çok büyükse, yerel minimuma ulaşmayabilir çünkü grdyan inişin konveks fonksiyonu arasında ileri geri gidip durabilir (aşağıdaki sol resme bakınız). Öğrenme oranını çok küçük bir değere ayarlarsak, grdyan iniş sonunda yerel minimuma ulaşacaktır, ancak bu bir süre alabilir (sağdaki resme bakınız).\n",
    "\n",
    "<center><img src=\"https://i.imgur.com/4uVBmz9.png\" width=\"500\" height=\"500\"></center>\n",
    "\n",
    "Bu nedenle öğrenme oranı ne çok yüksek ne de çok düşük olmamalıdır. Öğrenme oranının iyi çalışıp çalışmadığını kontrol etmek için bir grafiğe çizerek inceleyebilirsiniz."
   ]
  },
  {
   "cell_type": "markdown",
   "id": "f1301245",
   "metadata": {
    "papermill": {
     "duration": 0.048513,
     "end_time": "2023-11-13T12:28:37.065907",
     "exception": false,
     "start_time": "2023-11-13T12:28:37.017394",
     "status": "completed"
    },
    "tags": []
   },
   "source": [
    "<a id = \"26\"></a><br>\n",
    "<p style=\"font-family: 'Pacifico', cursive; font-weight: bold; letter-spacing: 2px; color: #556B2F; font-size: 160%; text-align: left; padding: 0px; border-bottom: 3px solid\">✨Model-Based Recommender System✨</p>"
   ]
  },
  {
   "cell_type": "markdown",
   "id": "754a885f",
   "metadata": {
    "papermill": {
     "duration": 0.0495,
     "end_time": "2023-11-13T12:28:37.164653",
     "exception": false,
     "start_time": "2023-11-13T12:28:37.115153",
     "status": "completed"
    },
    "tags": []
   },
   "source": [
    "<a id = \"27\"></a><br>\n",
    "<div style=\"font-family:JetBrains Mono; font-weight:bold; letter-spacing: 2px; color:#E5788F; font-size:150%; text-align:left; padding: 0px;\">Data Preparing</div>"
   ]
  },
  {
   "cell_type": "code",
   "execution_count": 108,
   "id": "5bc1f89c",
   "metadata": {
    "execution": {
     "iopub.execute_input": "2023-11-13T12:28:37.265785Z",
     "iopub.status.busy": "2023-11-13T12:28:37.265062Z",
     "iopub.status.idle": "2023-11-13T12:28:37.313803Z",
     "shell.execute_reply": "2023-11-13T12:28:37.312647Z"
    },
    "papermill": {
     "duration": 0.102904,
     "end_time": "2023-11-13T12:28:37.316570",
     "exception": false,
     "start_time": "2023-11-13T12:28:37.213666",
     "status": "completed"
    },
    "tags": []
   },
   "outputs": [],
   "source": [
    "# !pip install surprise\n",
    "# conda install -c conda-forge scikit-surprise to pycharm\n",
    "\n",
    "import pandas as pd\n",
    "from surprise import Reader, SVD, Dataset, accuracy\n",
    "from surprise.model_selection import GridSearchCV, train_test_split, cross_validate\n",
    "# pd.set_option('display.max_columns', None)"
   ]
  },
  {
   "cell_type": "code",
   "execution_count": 109,
   "id": "6fea0daf",
   "metadata": {
    "execution": {
     "iopub.execute_input": "2023-11-13T12:28:37.422446Z",
     "iopub.status.busy": "2023-11-13T12:28:37.421702Z",
     "iopub.status.idle": "2023-11-13T12:29:05.191269Z",
     "shell.execute_reply": "2023-11-13T12:29:05.189983Z"
    },
    "papermill": {
     "duration": 27.827358,
     "end_time": "2023-11-13T12:29:05.193503",
     "exception": false,
     "start_time": "2023-11-13T12:28:37.366145",
     "status": "completed"
    },
    "tags": []
   },
   "outputs": [
    {
     "data": {
      "text/html": [
       "<div>\n",
       "<style scoped>\n",
       "    .dataframe tbody tr th:only-of-type {\n",
       "        vertical-align: middle;\n",
       "    }\n",
       "\n",
       "    .dataframe tbody tr th {\n",
       "        vertical-align: top;\n",
       "    }\n",
       "\n",
       "    .dataframe thead th {\n",
       "        text-align: right;\n",
       "    }\n",
       "</style>\n",
       "<table border=\"1\" class=\"dataframe\">\n",
       "  <thead>\n",
       "    <tr style=\"text-align: right;\">\n",
       "      <th></th>\n",
       "      <th>movieId</th>\n",
       "      <th>overview</th>\n",
       "      <th>release_date</th>\n",
       "      <th>title</th>\n",
       "      <th>vote_average</th>\n",
       "      <th>vote_count</th>\n",
       "      <th>userId</th>\n",
       "      <th>rating</th>\n",
       "      <th>timestamp</th>\n",
       "    </tr>\n",
       "  </thead>\n",
       "  <tbody>\n",
       "    <tr>\n",
       "      <th>0</th>\n",
       "      <td>862</td>\n",
       "      <td>Led by Woody  Andy s toys live happily in his ...</td>\n",
       "      <td>1995-10-30</td>\n",
       "      <td>Toy Story</td>\n",
       "      <td>7.7</td>\n",
       "      <td>5415.0</td>\n",
       "      <td>73</td>\n",
       "      <td>3.0</td>\n",
       "      <td>2000-07-08 04:17:32</td>\n",
       "    </tr>\n",
       "    <tr>\n",
       "      <th>1</th>\n",
       "      <td>862</td>\n",
       "      <td>Led by Woody  Andy s toys live happily in his ...</td>\n",
       "      <td>1995-10-30</td>\n",
       "      <td>Toy Story</td>\n",
       "      <td>7.7</td>\n",
       "      <td>5415.0</td>\n",
       "      <td>614</td>\n",
       "      <td>4.0</td>\n",
       "      <td>2002-11-16 22:38:22</td>\n",
       "    </tr>\n",
       "    <tr>\n",
       "      <th>2</th>\n",
       "      <td>862</td>\n",
       "      <td>Led by Woody  Andy s toys live happily in his ...</td>\n",
       "      <td>1995-10-30</td>\n",
       "      <td>Toy Story</td>\n",
       "      <td>7.7</td>\n",
       "      <td>5415.0</td>\n",
       "      <td>812</td>\n",
       "      <td>3.0</td>\n",
       "      <td>2001-10-10 07:30:34</td>\n",
       "    </tr>\n",
       "    <tr>\n",
       "      <th>3</th>\n",
       "      <td>862</td>\n",
       "      <td>Led by Woody  Andy s toys live happily in his ...</td>\n",
       "      <td>1995-10-30</td>\n",
       "      <td>Toy Story</td>\n",
       "      <td>7.7</td>\n",
       "      <td>5415.0</td>\n",
       "      <td>1188</td>\n",
       "      <td>5.0</td>\n",
       "      <td>1999-12-22 20:44:01</td>\n",
       "    </tr>\n",
       "    <tr>\n",
       "      <th>4</th>\n",
       "      <td>862</td>\n",
       "      <td>Led by Woody  Andy s toys live happily in his ...</td>\n",
       "      <td>1995-10-30</td>\n",
       "      <td>Toy Story</td>\n",
       "      <td>7.7</td>\n",
       "      <td>5415.0</td>\n",
       "      <td>1199</td>\n",
       "      <td>4.0</td>\n",
       "      <td>2003-03-06 20:36:55</td>\n",
       "    </tr>\n",
       "  </tbody>\n",
       "</table>\n",
       "</div>"
      ],
      "text/plain": [
       "   movieId                                           overview release_date  \\\n",
       "0      862  Led by Woody  Andy s toys live happily in his ...   1995-10-30   \n",
       "1      862  Led by Woody  Andy s toys live happily in his ...   1995-10-30   \n",
       "2      862  Led by Woody  Andy s toys live happily in his ...   1995-10-30   \n",
       "3      862  Led by Woody  Andy s toys live happily in his ...   1995-10-30   \n",
       "4      862  Led by Woody  Andy s toys live happily in his ...   1995-10-30   \n",
       "\n",
       "       title  vote_average  vote_count  userId  rating            timestamp  \n",
       "0  Toy Story           7.7      5415.0      73     3.0  2000-07-08 04:17:32  \n",
       "1  Toy Story           7.7      5415.0     614     4.0  2002-11-16 22:38:22  \n",
       "2  Toy Story           7.7      5415.0     812     3.0  2001-10-10 07:30:34  \n",
       "3  Toy Story           7.7      5415.0    1188     5.0  1999-12-22 20:44:01  \n",
       "4  Toy Story           7.7      5415.0    1199     4.0  2003-03-06 20:36:55  "
      ]
     },
     "execution_count": 109,
     "metadata": {},
     "output_type": "execute_result"
    }
   ],
   "source": [
    "movie = pd.read_csv('/kaggle/input/movielens-20m-dataset/movie.csv')\n",
    "rating = pd.read_csv('/kaggle/input/movielens-20m-dataset/rating.csv')\n",
    "df = pd.merge(movies,rating, how=\"inner\", on=\"movieId\")\n",
    "df.head()"
   ]
  },
  {
   "cell_type": "code",
   "execution_count": 110,
   "id": "e7ec8a6d",
   "metadata": {
    "execution": {
     "iopub.execute_input": "2023-11-13T12:29:05.297333Z",
     "iopub.status.busy": "2023-11-13T12:29:05.296607Z",
     "iopub.status.idle": "2023-11-13T12:29:05.305350Z",
     "shell.execute_reply": "2023-11-13T12:29:05.304049Z"
    },
    "papermill": {
     "duration": 0.064458,
     "end_time": "2023-11-13T12:29:05.307845",
     "exception": false,
     "start_time": "2023-11-13T12:29:05.243387",
     "status": "completed"
    },
    "tags": []
   },
   "outputs": [],
   "source": [
    "movie_ids = [130219, 356, 4422, 541]\n",
    "\n",
    "movies = [\"The Dark Knight (2011)\",\n",
    "          \"Cries and Whispers (Viskningar och rop) (1972)\",\n",
    "          \"Forrest Gump (1994)\",\n",
    "          \"Blade Runner (1982)\"]"
   ]
  },
  {
   "cell_type": "code",
   "execution_count": 111,
   "id": "a8b5b95b",
   "metadata": {
    "execution": {
     "iopub.execute_input": "2023-11-13T12:29:05.425240Z",
     "iopub.status.busy": "2023-11-13T12:29:05.423863Z",
     "iopub.status.idle": "2023-11-13T12:29:05.512705Z",
     "shell.execute_reply": "2023-11-13T12:29:05.511901Z"
    },
    "papermill": {
     "duration": 0.157223,
     "end_time": "2023-11-13T12:29:05.514725",
     "exception": false,
     "start_time": "2023-11-13T12:29:05.357502",
     "status": "completed"
    },
    "tags": []
   },
   "outputs": [
    {
     "data": {
      "text/html": [
       "<div>\n",
       "<style scoped>\n",
       "    .dataframe tbody tr th:only-of-type {\n",
       "        vertical-align: middle;\n",
       "    }\n",
       "\n",
       "    .dataframe tbody tr th {\n",
       "        vertical-align: top;\n",
       "    }\n",
       "\n",
       "    .dataframe thead th {\n",
       "        text-align: right;\n",
       "    }\n",
       "</style>\n",
       "<table border=\"1\" class=\"dataframe\">\n",
       "  <thead>\n",
       "    <tr style=\"text-align: right;\">\n",
       "      <th></th>\n",
       "      <th>movieId</th>\n",
       "      <th>overview</th>\n",
       "      <th>release_date</th>\n",
       "      <th>title</th>\n",
       "      <th>vote_average</th>\n",
       "      <th>vote_count</th>\n",
       "      <th>userId</th>\n",
       "      <th>rating</th>\n",
       "      <th>timestamp</th>\n",
       "    </tr>\n",
       "  </thead>\n",
       "  <tbody>\n",
       "    <tr>\n",
       "      <th>3174313</th>\n",
       "      <td>541</td>\n",
       "      <td>Frankie is a heroin addict and sits in prison ...</td>\n",
       "      <td>1955-12-14</td>\n",
       "      <td>The Man with the Golden Arm</td>\n",
       "      <td>6.9</td>\n",
       "      <td>51.0</td>\n",
       "      <td>1</td>\n",
       "      <td>4.0</td>\n",
       "      <td>2005-04-02 23:30:03</td>\n",
       "    </tr>\n",
       "    <tr>\n",
       "      <th>3174314</th>\n",
       "      <td>541</td>\n",
       "      <td>Frankie is a heroin addict and sits in prison ...</td>\n",
       "      <td>1955-12-14</td>\n",
       "      <td>The Man with the Golden Arm</td>\n",
       "      <td>6.9</td>\n",
       "      <td>51.0</td>\n",
       "      <td>2</td>\n",
       "      <td>5.0</td>\n",
       "      <td>2000-11-21 15:36:54</td>\n",
       "    </tr>\n",
       "    <tr>\n",
       "      <th>3174315</th>\n",
       "      <td>541</td>\n",
       "      <td>Frankie is a heroin addict and sits in prison ...</td>\n",
       "      <td>1955-12-14</td>\n",
       "      <td>The Man with the Golden Arm</td>\n",
       "      <td>6.9</td>\n",
       "      <td>51.0</td>\n",
       "      <td>3</td>\n",
       "      <td>5.0</td>\n",
       "      <td>1999-12-11 13:14:07</td>\n",
       "    </tr>\n",
       "    <tr>\n",
       "      <th>3174316</th>\n",
       "      <td>541</td>\n",
       "      <td>Frankie is a heroin addict and sits in prison ...</td>\n",
       "      <td>1955-12-14</td>\n",
       "      <td>The Man with the Golden Arm</td>\n",
       "      <td>6.9</td>\n",
       "      <td>51.0</td>\n",
       "      <td>11</td>\n",
       "      <td>4.5</td>\n",
       "      <td>2009-01-01 05:25:03</td>\n",
       "    </tr>\n",
       "    <tr>\n",
       "      <th>3174317</th>\n",
       "      <td>541</td>\n",
       "      <td>Frankie is a heroin addict and sits in prison ...</td>\n",
       "      <td>1955-12-14</td>\n",
       "      <td>The Man with the Golden Arm</td>\n",
       "      <td>6.9</td>\n",
       "      <td>51.0</td>\n",
       "      <td>21</td>\n",
       "      <td>5.0</td>\n",
       "      <td>2001-06-10 16:09:04</td>\n",
       "    </tr>\n",
       "  </tbody>\n",
       "</table>\n",
       "</div>"
      ],
      "text/plain": [
       "         movieId                                           overview  \\\n",
       "3174313      541  Frankie is a heroin addict and sits in prison ...   \n",
       "3174314      541  Frankie is a heroin addict and sits in prison ...   \n",
       "3174315      541  Frankie is a heroin addict and sits in prison ...   \n",
       "3174316      541  Frankie is a heroin addict and sits in prison ...   \n",
       "3174317      541  Frankie is a heroin addict and sits in prison ...   \n",
       "\n",
       "        release_date                        title  vote_average  vote_count  \\\n",
       "3174313   1955-12-14  The Man with the Golden Arm           6.9        51.0   \n",
       "3174314   1955-12-14  The Man with the Golden Arm           6.9        51.0   \n",
       "3174315   1955-12-14  The Man with the Golden Arm           6.9        51.0   \n",
       "3174316   1955-12-14  The Man with the Golden Arm           6.9        51.0   \n",
       "3174317   1955-12-14  The Man with the Golden Arm           6.9        51.0   \n",
       "\n",
       "         userId  rating            timestamp  \n",
       "3174313       1     4.0  2005-04-02 23:30:03  \n",
       "3174314       2     5.0  2000-11-21 15:36:54  \n",
       "3174315       3     5.0  1999-12-11 13:14:07  \n",
       "3174316      11     4.5  2009-01-01 05:25:03  \n",
       "3174317      21     5.0  2001-06-10 16:09:04  "
      ]
     },
     "execution_count": 111,
     "metadata": {},
     "output_type": "execute_result"
    }
   ],
   "source": [
    "sample_df = df[df.movieId.isin(movie_ids)]\n",
    "\n",
    "sample_df.head()"
   ]
  },
  {
   "cell_type": "code",
   "execution_count": 112,
   "id": "53ad28bb",
   "metadata": {
    "execution": {
     "iopub.execute_input": "2023-11-13T12:29:05.616865Z",
     "iopub.status.busy": "2023-11-13T12:29:05.616244Z",
     "iopub.status.idle": "2023-11-13T12:29:05.621804Z",
     "shell.execute_reply": "2023-11-13T12:29:05.620795Z"
    },
    "papermill": {
     "duration": 0.058838,
     "end_time": "2023-11-13T12:29:05.624047",
     "exception": false,
     "start_time": "2023-11-13T12:29:05.565209",
     "status": "completed"
    },
    "tags": []
   },
   "outputs": [
    {
     "data": {
      "text/plain": [
       "(30526, 9)"
      ]
     },
     "execution_count": 112,
     "metadata": {},
     "output_type": "execute_result"
    }
   ],
   "source": [
    "sample_df.shape"
   ]
  },
  {
   "cell_type": "code",
   "execution_count": 113,
   "id": "1a61c841",
   "metadata": {
    "execution": {
     "iopub.execute_input": "2023-11-13T12:29:05.726008Z",
     "iopub.status.busy": "2023-11-13T12:29:05.725574Z",
     "iopub.status.idle": "2023-11-13T12:29:05.758124Z",
     "shell.execute_reply": "2023-11-13T12:29:05.756880Z"
    },
    "papermill": {
     "duration": 0.086762,
     "end_time": "2023-11-13T12:29:05.760736",
     "exception": false,
     "start_time": "2023-11-13T12:29:05.673974",
     "status": "completed"
    },
    "tags": []
   },
   "outputs": [],
   "source": [
    "user_movie_df = sample_df.pivot_table(index=[\"userId\"],\n",
    "                                      columns=[\"title\"],\n",
    "                                      values=\"rating\")"
   ]
  },
  {
   "cell_type": "code",
   "execution_count": 114,
   "id": "efb0913b",
   "metadata": {
    "execution": {
     "iopub.execute_input": "2023-11-13T12:29:05.864947Z",
     "iopub.status.busy": "2023-11-13T12:29:05.864524Z",
     "iopub.status.idle": "2023-11-13T12:29:05.871773Z",
     "shell.execute_reply": "2023-11-13T12:29:05.870743Z"
    },
    "papermill": {
     "duration": 0.06335,
     "end_time": "2023-11-13T12:29:05.874006",
     "exception": false,
     "start_time": "2023-11-13T12:29:05.810656",
     "status": "completed"
    },
    "tags": []
   },
   "outputs": [
    {
     "data": {
      "text/plain": [
       "(30526, 1)"
      ]
     },
     "execution_count": 114,
     "metadata": {},
     "output_type": "execute_result"
    }
   ],
   "source": [
    "user_movie_df.shape"
   ]
  },
  {
   "cell_type": "code",
   "execution_count": 115,
   "id": "a44bfe42",
   "metadata": {
    "execution": {
     "iopub.execute_input": "2023-11-13T12:29:05.975590Z",
     "iopub.status.busy": "2023-11-13T12:29:05.975172Z",
     "iopub.status.idle": "2023-11-13T12:29:05.980296Z",
     "shell.execute_reply": "2023-11-13T12:29:05.979251Z"
    },
    "papermill": {
     "duration": 0.058465,
     "end_time": "2023-11-13T12:29:05.982604",
     "exception": false,
     "start_time": "2023-11-13T12:29:05.924139",
     "status": "completed"
    },
    "tags": []
   },
   "outputs": [],
   "source": [
    "reader = Reader(rating_scale=(1, 5))"
   ]
  },
  {
   "cell_type": "code",
   "execution_count": 116,
   "id": "b1b553f5",
   "metadata": {
    "execution": {
     "iopub.execute_input": "2023-11-13T12:29:06.083965Z",
     "iopub.status.busy": "2023-11-13T12:29:06.083540Z",
     "iopub.status.idle": "2023-11-13T12:29:06.124765Z",
     "shell.execute_reply": "2023-11-13T12:29:06.123559Z"
    },
    "papermill": {
     "duration": 0.095082,
     "end_time": "2023-11-13T12:29:06.127575",
     "exception": false,
     "start_time": "2023-11-13T12:29:06.032493",
     "status": "completed"
    },
    "tags": []
   },
   "outputs": [],
   "source": [
    "data = Dataset.load_from_df(sample_df[['userId',\n",
    "                                       'movieId',\n",
    "                                       'rating']], reader)"
   ]
  },
  {
   "cell_type": "markdown",
   "id": "7ff28796",
   "metadata": {
    "papermill": {
     "duration": 0.049623,
     "end_time": "2023-11-13T12:29:06.227664",
     "exception": false,
     "start_time": "2023-11-13T12:29:06.178041",
     "status": "completed"
    },
    "tags": []
   },
   "source": [
    "<a id = \"28\"></a><br>\n",
    "<div style=\"font-family:JetBrains Mono; font-weight:bold; letter-spacing: 2px; color:#E5788F; font-size:150%; text-align:left; padding: 0px;\">Modelling</div>"
   ]
  },
  {
   "cell_type": "code",
   "execution_count": 117,
   "id": "56bbdf2a",
   "metadata": {
    "execution": {
     "iopub.execute_input": "2023-11-13T12:29:06.329477Z",
     "iopub.status.busy": "2023-11-13T12:29:06.329096Z",
     "iopub.status.idle": "2023-11-13T12:29:06.855108Z",
     "shell.execute_reply": "2023-11-13T12:29:06.854013Z"
    },
    "papermill": {
     "duration": 0.580597,
     "end_time": "2023-11-13T12:29:06.858263",
     "exception": false,
     "start_time": "2023-11-13T12:29:06.277666",
     "status": "completed"
    },
    "tags": []
   },
   "outputs": [],
   "source": [
    "trainset, testset = train_test_split(data, test_size=.25)\n",
    "svd_model = SVD()\n",
    "svd_model.fit(trainset)\n",
    "predictions = svd_model.test(testset)"
   ]
  },
  {
   "cell_type": "code",
   "execution_count": 118,
   "id": "76ee4e9c",
   "metadata": {
    "execution": {
     "iopub.execute_input": "2023-11-13T12:29:06.961392Z",
     "iopub.status.busy": "2023-11-13T12:29:06.960970Z",
     "iopub.status.idle": "2023-11-13T12:29:06.974155Z",
     "shell.execute_reply": "2023-11-13T12:29:06.973062Z"
    },
    "papermill": {
     "duration": 0.067113,
     "end_time": "2023-11-13T12:29:06.976199",
     "exception": false,
     "start_time": "2023-11-13T12:29:06.909086",
     "status": "completed"
    },
    "tags": []
   },
   "outputs": [
    {
     "name": "stdout",
     "output_type": "stream",
     "text": [
      "RMSE: 0.8826\n"
     ]
    },
    {
     "data": {
      "text/plain": [
       "0.8826192434242783"
      ]
     },
     "execution_count": 118,
     "metadata": {},
     "output_type": "execute_result"
    }
   ],
   "source": [
    "accuracy.rmse(predictions)"
   ]
  },
  {
   "cell_type": "code",
   "execution_count": 119,
   "id": "7be3506d",
   "metadata": {
    "execution": {
     "iopub.execute_input": "2023-11-13T12:29:07.080136Z",
     "iopub.status.busy": "2023-11-13T12:29:07.079446Z",
     "iopub.status.idle": "2023-11-13T12:29:07.087182Z",
     "shell.execute_reply": "2023-11-13T12:29:07.086145Z"
    },
    "papermill": {
     "duration": 0.062982,
     "end_time": "2023-11-13T12:29:07.089472",
     "exception": false,
     "start_time": "2023-11-13T12:29:07.026490",
     "status": "completed"
    },
    "tags": []
   },
   "outputs": [
    {
     "name": "stdout",
     "output_type": "stream",
     "text": [
      "user: 1.0        item: 541        r_ui = None   est = 4.14   {'was_impossible': False}\n"
     ]
    },
    {
     "data": {
      "text/plain": [
       "Prediction(uid=1.0, iid=541, r_ui=None, est=4.142469452650642, details={'was_impossible': False})"
      ]
     },
     "execution_count": 119,
     "metadata": {},
     "output_type": "execute_result"
    }
   ],
   "source": [
    "svd_model.predict(uid=1.0, iid=541, verbose=True)"
   ]
  },
  {
   "cell_type": "code",
   "execution_count": 120,
   "id": "99aa0982",
   "metadata": {
    "execution": {
     "iopub.execute_input": "2023-11-13T12:29:07.193520Z",
     "iopub.status.busy": "2023-11-13T12:29:07.193121Z",
     "iopub.status.idle": "2023-11-13T12:29:07.200749Z",
     "shell.execute_reply": "2023-11-13T12:29:07.199676Z"
    },
    "papermill": {
     "duration": 0.062135,
     "end_time": "2023-11-13T12:29:07.202802",
     "exception": false,
     "start_time": "2023-11-13T12:29:07.140667",
     "status": "completed"
    },
    "tags": []
   },
   "outputs": [
    {
     "name": "stdout",
     "output_type": "stream",
     "text": [
      "user: 1.0        item: 356        r_ui = None   est = 4.14   {'was_impossible': False}\n"
     ]
    },
    {
     "data": {
      "text/plain": [
       "Prediction(uid=1.0, iid=356, r_ui=None, est=4.135515855682711, details={'was_impossible': False})"
      ]
     },
     "execution_count": 120,
     "metadata": {},
     "output_type": "execute_result"
    }
   ],
   "source": [
    "svd_model.predict(uid=1.0, iid=356, verbose=True)"
   ]
  },
  {
   "cell_type": "code",
   "execution_count": 121,
   "id": "c3abf65b",
   "metadata": {
    "execution": {
     "iopub.execute_input": "2023-11-13T12:29:07.305606Z",
     "iopub.status.busy": "2023-11-13T12:29:07.305176Z",
     "iopub.status.idle": "2023-11-13T12:29:07.320716Z",
     "shell.execute_reply": "2023-11-13T12:29:07.319628Z"
    },
    "papermill": {
     "duration": 0.069723,
     "end_time": "2023-11-13T12:29:07.322924",
     "exception": false,
     "start_time": "2023-11-13T12:29:07.253201",
     "status": "completed"
    },
    "tags": []
   },
   "outputs": [
    {
     "data": {
      "text/html": [
       "<div>\n",
       "<style scoped>\n",
       "    .dataframe tbody tr th:only-of-type {\n",
       "        vertical-align: middle;\n",
       "    }\n",
       "\n",
       "    .dataframe tbody tr th {\n",
       "        vertical-align: top;\n",
       "    }\n",
       "\n",
       "    .dataframe thead th {\n",
       "        text-align: right;\n",
       "    }\n",
       "</style>\n",
       "<table border=\"1\" class=\"dataframe\">\n",
       "  <thead>\n",
       "    <tr style=\"text-align: right;\">\n",
       "      <th></th>\n",
       "      <th>movieId</th>\n",
       "      <th>overview</th>\n",
       "      <th>release_date</th>\n",
       "      <th>title</th>\n",
       "      <th>vote_average</th>\n",
       "      <th>vote_count</th>\n",
       "      <th>userId</th>\n",
       "      <th>rating</th>\n",
       "      <th>timestamp</th>\n",
       "    </tr>\n",
       "  </thead>\n",
       "  <tbody>\n",
       "    <tr>\n",
       "      <th>3174313</th>\n",
       "      <td>541</td>\n",
       "      <td>Frankie is a heroin addict and sits in prison ...</td>\n",
       "      <td>1955-12-14</td>\n",
       "      <td>The Man with the Golden Arm</td>\n",
       "      <td>6.9</td>\n",
       "      <td>51.0</td>\n",
       "      <td>1</td>\n",
       "      <td>4.0</td>\n",
       "      <td>2005-04-02 23:30:03</td>\n",
       "    </tr>\n",
       "  </tbody>\n",
       "</table>\n",
       "</div>"
      ],
      "text/plain": [
       "         movieId                                           overview  \\\n",
       "3174313      541  Frankie is a heroin addict and sits in prison ...   \n",
       "\n",
       "        release_date                        title  vote_average  vote_count  \\\n",
       "3174313   1955-12-14  The Man with the Golden Arm           6.9        51.0   \n",
       "\n",
       "         userId  rating            timestamp  \n",
       "3174313       1     4.0  2005-04-02 23:30:03  "
      ]
     },
     "execution_count": 121,
     "metadata": {},
     "output_type": "execute_result"
    }
   ],
   "source": [
    "sample_df[sample_df[\"userId\"] == 1]"
   ]
  },
  {
   "cell_type": "markdown",
   "id": "d2e12719",
   "metadata": {
    "papermill": {
     "duration": 0.050499,
     "end_time": "2023-11-13T12:29:07.424079",
     "exception": false,
     "start_time": "2023-11-13T12:29:07.373580",
     "status": "completed"
    },
    "tags": []
   },
   "source": [
    "<a id = \"29\"></a><br>\n",
    "<div style=\"font-family:JetBrains Mono; font-weight:bold; letter-spacing: 2px; color:#E5788F; font-size:150%; text-align:left; padding: 0px;\">Model Tuning</div>"
   ]
  },
  {
   "cell_type": "code",
   "execution_count": 122,
   "id": "943bed7e",
   "metadata": {
    "execution": {
     "iopub.execute_input": "2023-11-13T12:29:07.527907Z",
     "iopub.status.busy": "2023-11-13T12:29:07.527100Z",
     "iopub.status.idle": "2023-11-13T12:29:07.532555Z",
     "shell.execute_reply": "2023-11-13T12:29:07.531790Z"
    },
    "papermill": {
     "duration": 0.059806,
     "end_time": "2023-11-13T12:29:07.534557",
     "exception": false,
     "start_time": "2023-11-13T12:29:07.474751",
     "status": "completed"
    },
    "tags": []
   },
   "outputs": [],
   "source": [
    "param_grid = {'n_epochs': [5, 10, 20],\n",
    "              'lr_all': [0.002, 0.005, 0.007]}"
   ]
  },
  {
   "cell_type": "code",
   "execution_count": 123,
   "id": "cd2165e7",
   "metadata": {
    "execution": {
     "iopub.execute_input": "2023-11-13T12:29:07.639073Z",
     "iopub.status.busy": "2023-11-13T12:29:07.637943Z",
     "iopub.status.idle": "2023-11-13T12:29:07.643674Z",
     "shell.execute_reply": "2023-11-13T12:29:07.642585Z"
    },
    "papermill": {
     "duration": 0.060809,
     "end_time": "2023-11-13T12:29:07.646059",
     "exception": false,
     "start_time": "2023-11-13T12:29:07.585250",
     "status": "completed"
    },
    "tags": []
   },
   "outputs": [],
   "source": [
    "gs = GridSearchCV(SVD,\n",
    "                  param_grid,\n",
    "                  measures=['rmse', 'mae'],\n",
    "                  cv=3,\n",
    "                  n_jobs=-1,\n",
    "                  joblib_verbose=True)"
   ]
  },
  {
   "cell_type": "code",
   "execution_count": 124,
   "id": "c4c83537",
   "metadata": {
    "execution": {
     "iopub.execute_input": "2023-11-13T12:29:07.750367Z",
     "iopub.status.busy": "2023-11-13T12:29:07.749929Z",
     "iopub.status.idle": "2023-11-13T12:29:13.682367Z",
     "shell.execute_reply": "2023-11-13T12:29:13.680884Z"
    },
    "papermill": {
     "duration": 5.987655,
     "end_time": "2023-11-13T12:29:13.684892",
     "exception": false,
     "start_time": "2023-11-13T12:29:07.697237",
     "status": "completed"
    },
    "tags": []
   },
   "outputs": [
    {
     "name": "stderr",
     "output_type": "stream",
     "text": [
      "[Parallel(n_jobs=-1)]: Using backend LokyBackend with 4 concurrent workers.\n",
      "[Parallel(n_jobs=-1)]: Done  27 out of  27 | elapsed:    5.8s finished\n"
     ]
    }
   ],
   "source": [
    "gs.fit(data)"
   ]
  },
  {
   "cell_type": "code",
   "execution_count": 125,
   "id": "e0510b3a",
   "metadata": {
    "execution": {
     "iopub.execute_input": "2023-11-13T12:29:13.789977Z",
     "iopub.status.busy": "2023-11-13T12:29:13.789042Z",
     "iopub.status.idle": "2023-11-13T12:29:13.796928Z",
     "shell.execute_reply": "2023-11-13T12:29:13.796031Z"
    },
    "papermill": {
     "duration": 0.062169,
     "end_time": "2023-11-13T12:29:13.798877",
     "exception": false,
     "start_time": "2023-11-13T12:29:13.736708",
     "status": "completed"
    },
    "tags": []
   },
   "outputs": [
    {
     "data": {
      "text/plain": [
       "0.8860707804334456"
      ]
     },
     "execution_count": 125,
     "metadata": {},
     "output_type": "execute_result"
    }
   ],
   "source": [
    "gs.best_score['rmse']"
   ]
  },
  {
   "cell_type": "code",
   "execution_count": 126,
   "id": "c0a3ae71",
   "metadata": {
    "execution": {
     "iopub.execute_input": "2023-11-13T12:29:13.905771Z",
     "iopub.status.busy": "2023-11-13T12:29:13.905176Z",
     "iopub.status.idle": "2023-11-13T12:29:13.910869Z",
     "shell.execute_reply": "2023-11-13T12:29:13.909869Z"
    },
    "papermill": {
     "duration": 0.063087,
     "end_time": "2023-11-13T12:29:13.912976",
     "exception": false,
     "start_time": "2023-11-13T12:29:13.849889",
     "status": "completed"
    },
    "tags": []
   },
   "outputs": [
    {
     "data": {
      "text/plain": [
       "{'n_epochs': 10, 'lr_all': 0.002}"
      ]
     },
     "execution_count": 126,
     "metadata": {},
     "output_type": "execute_result"
    }
   ],
   "source": [
    "gs.best_params['rmse']"
   ]
  },
  {
   "cell_type": "markdown",
   "id": "dc5f9ee7",
   "metadata": {
    "papermill": {
     "duration": 0.050715,
     "end_time": "2023-11-13T12:29:14.014779",
     "exception": false,
     "start_time": "2023-11-13T12:29:13.964064",
     "status": "completed"
    },
    "tags": []
   },
   "source": [
    "<a id = \"30\"></a><br>\n",
    "<div style=\"font-family:JetBrains Mono; font-weight:bold; letter-spacing: 2px; color:#E5788F; font-size:150%; text-align:left; padding: 0px;\">Predict</div>"
   ]
  },
  {
   "cell_type": "code",
   "execution_count": 127,
   "id": "40c7181a",
   "metadata": {
    "execution": {
     "iopub.execute_input": "2023-11-13T12:29:14.118473Z",
     "iopub.status.busy": "2023-11-13T12:29:14.118053Z",
     "iopub.status.idle": "2023-11-13T12:29:14.122723Z",
     "shell.execute_reply": "2023-11-13T12:29:14.121628Z"
    },
    "papermill": {
     "duration": 0.059074,
     "end_time": "2023-11-13T12:29:14.124698",
     "exception": false,
     "start_time": "2023-11-13T12:29:14.065624",
     "status": "completed"
    },
    "tags": []
   },
   "outputs": [],
   "source": [
    "# dir(svd_model)"
   ]
  },
  {
   "cell_type": "code",
   "execution_count": 128,
   "id": "268ccdf2",
   "metadata": {
    "execution": {
     "iopub.execute_input": "2023-11-13T12:29:14.230303Z",
     "iopub.status.busy": "2023-11-13T12:29:14.229213Z",
     "iopub.status.idle": "2023-11-13T12:29:14.235089Z",
     "shell.execute_reply": "2023-11-13T12:29:14.234326Z"
    },
    "papermill": {
     "duration": 0.060982,
     "end_time": "2023-11-13T12:29:14.237227",
     "exception": false,
     "start_time": "2023-11-13T12:29:14.176245",
     "status": "completed"
    },
    "tags": []
   },
   "outputs": [
    {
     "data": {
      "text/plain": [
       "20"
      ]
     },
     "execution_count": 128,
     "metadata": {},
     "output_type": "execute_result"
    }
   ],
   "source": [
    "svd_model.n_epochs"
   ]
  },
  {
   "cell_type": "code",
   "execution_count": 129,
   "id": "9723e1d5",
   "metadata": {
    "execution": {
     "iopub.execute_input": "2023-11-13T12:29:14.343051Z",
     "iopub.status.busy": "2023-11-13T12:29:14.342346Z",
     "iopub.status.idle": "2023-11-13T12:29:14.346592Z",
     "shell.execute_reply": "2023-11-13T12:29:14.345851Z"
    },
    "papermill": {
     "duration": 0.059589,
     "end_time": "2023-11-13T12:29:14.348623",
     "exception": false,
     "start_time": "2023-11-13T12:29:14.289034",
     "status": "completed"
    },
    "tags": []
   },
   "outputs": [],
   "source": [
    "svd_model = SVD(**gs.best_params['rmse'])"
   ]
  },
  {
   "cell_type": "code",
   "execution_count": 130,
   "id": "9d83c290",
   "metadata": {
    "execution": {
     "iopub.execute_input": "2023-11-13T12:29:14.456147Z",
     "iopub.status.busy": "2023-11-13T12:29:14.455429Z",
     "iopub.status.idle": "2023-11-13T12:29:14.502371Z",
     "shell.execute_reply": "2023-11-13T12:29:14.501255Z"
    },
    "papermill": {
     "duration": 0.104678,
     "end_time": "2023-11-13T12:29:14.505060",
     "exception": false,
     "start_time": "2023-11-13T12:29:14.400382",
     "status": "completed"
    },
    "tags": []
   },
   "outputs": [],
   "source": [
    "data = data.build_full_trainset()"
   ]
  },
  {
   "cell_type": "code",
   "execution_count": 131,
   "id": "443d8b24",
   "metadata": {
    "execution": {
     "iopub.execute_input": "2023-11-13T12:29:14.610674Z",
     "iopub.status.busy": "2023-11-13T12:29:14.609996Z",
     "iopub.status.idle": "2023-11-13T12:29:14.929618Z",
     "shell.execute_reply": "2023-11-13T12:29:14.928536Z"
    },
    "papermill": {
     "duration": 0.375042,
     "end_time": "2023-11-13T12:29:14.931990",
     "exception": false,
     "start_time": "2023-11-13T12:29:14.556948",
     "status": "completed"
    },
    "tags": []
   },
   "outputs": [
    {
     "data": {
      "text/plain": [
       "<surprise.prediction_algorithms.matrix_factorization.SVD at 0x7dc7c1d226b0>"
      ]
     },
     "execution_count": 131,
     "metadata": {},
     "output_type": "execute_result"
    }
   ],
   "source": [
    "svd_model.fit(data)"
   ]
  },
  {
   "cell_type": "code",
   "execution_count": 132,
   "id": "acc8b340",
   "metadata": {
    "execution": {
     "iopub.execute_input": "2023-11-13T12:29:15.037506Z",
     "iopub.status.busy": "2023-11-13T12:29:15.037063Z",
     "iopub.status.idle": "2023-11-13T12:29:15.046000Z",
     "shell.execute_reply": "2023-11-13T12:29:15.044844Z"
    },
    "papermill": {
     "duration": 0.064829,
     "end_time": "2023-11-13T12:29:15.048371",
     "exception": false,
     "start_time": "2023-11-13T12:29:14.983542",
     "status": "completed"
    },
    "tags": []
   },
   "outputs": [
    {
     "name": "stdout",
     "output_type": "stream",
     "text": [
      "user: 1.0        item: 541        r_ui = None   est = 4.17   {'was_impossible': False}\n"
     ]
    },
    {
     "data": {
      "text/plain": [
       "Prediction(uid=1.0, iid=541, r_ui=None, est=4.168652545076125, details={'was_impossible': False})"
      ]
     },
     "execution_count": 132,
     "metadata": {},
     "output_type": "execute_result"
    }
   ],
   "source": [
    "svd_model.predict(uid=1.0, iid=541, verbose=True)"
   ]
  },
  {
   "cell_type": "markdown",
   "id": "1dba8f18",
   "metadata": {
    "papermill": {
     "duration": 0.05192,
     "end_time": "2023-11-13T12:29:15.152498",
     "exception": false,
     "start_time": "2023-11-13T12:29:15.100578",
     "status": "completed"
    },
    "tags": []
   },
   "source": [
    "-----"
   ]
  },
  {
   "cell_type": "code",
   "execution_count": 133,
   "id": "1109895f",
   "metadata": {
    "execution": {
     "iopub.execute_input": "2023-11-13T12:29:15.261086Z",
     "iopub.status.busy": "2023-11-13T12:29:15.260434Z",
     "iopub.status.idle": "2023-11-13T12:29:15.270174Z",
     "shell.execute_reply": "2023-11-13T12:29:15.268803Z"
    },
    "papermill": {
     "duration": 0.067651,
     "end_time": "2023-11-13T12:29:15.272703",
     "exception": false,
     "start_time": "2023-11-13T12:29:15.205052",
     "status": "completed"
    },
    "tags": []
   },
   "outputs": [],
   "source": [
    "def suggest(df,user_id,sug):\n",
    "    \n",
    "    didnt_watch = df[\"movieId\"][~(df[\"userId\"] == user_id)].drop_duplicates().values.tolist()\n",
    "    temp_dict={}\n",
    "    \n",
    "    for i in didnt_watch:\n",
    "        \n",
    "        temp_dict[i] = svd_model.predict(uid=user_id, iid=i)[3]\n",
    "        \n",
    "    suggestions = pd.DataFrame(temp_dict.items(),columns=[\"movieId\",'possible_rate']).sort_values(by=\"possible_rate\", ascending=False).head(sug)\n",
    "    merged = pd.merge(suggestions,movie[[\"movieId\",\"title\"]], how=\"inner\", on=\"movieId\")\n",
    "    \n",
    "    return merged"
   ]
  },
  {
   "cell_type": "code",
   "execution_count": 134,
   "id": "767b0ee0",
   "metadata": {
    "execution": {
     "iopub.execute_input": "2023-11-13T12:29:15.387311Z",
     "iopub.status.busy": "2023-11-13T12:29:15.386919Z",
     "iopub.status.idle": "2023-11-13T12:29:15.626913Z",
     "shell.execute_reply": "2023-11-13T12:29:15.625917Z"
    },
    "papermill": {
     "duration": 0.299619,
     "end_time": "2023-11-13T12:29:15.629270",
     "exception": false,
     "start_time": "2023-11-13T12:29:15.329651",
     "status": "completed"
    },
    "tags": []
   },
   "outputs": [
    {
     "data": {
      "text/html": [
       "<div>\n",
       "<style scoped>\n",
       "    .dataframe tbody tr th:only-of-type {\n",
       "        vertical-align: middle;\n",
       "    }\n",
       "\n",
       "    .dataframe tbody tr th {\n",
       "        vertical-align: top;\n",
       "    }\n",
       "\n",
       "    .dataframe thead th {\n",
       "        text-align: right;\n",
       "    }\n",
       "</style>\n",
       "<table border=\"1\" class=\"dataframe\">\n",
       "  <thead>\n",
       "    <tr style=\"text-align: right;\">\n",
       "      <th></th>\n",
       "      <th>movieId</th>\n",
       "      <th>possible_rate</th>\n",
       "      <th>title</th>\n",
       "    </tr>\n",
       "  </thead>\n",
       "  <tbody>\n",
       "    <tr>\n",
       "      <th>1</th>\n",
       "      <td>89501</td>\n",
       "      <td>4.150811</td>\n",
       "      <td>William S. Burroughs: A Man Within (2010)</td>\n",
       "    </tr>\n",
       "    <tr>\n",
       "      <th>11</th>\n",
       "      <td>78128</td>\n",
       "      <td>4.150811</td>\n",
       "      <td>True Legend (Su Qi-Er) (2010)</td>\n",
       "    </tr>\n",
       "    <tr>\n",
       "      <th>5</th>\n",
       "      <td>55167</td>\n",
       "      <td>4.150811</td>\n",
       "      <td>Tekkonkinkreet (Tekkon kinkurîto) (2006)</td>\n",
       "    </tr>\n",
       "    <tr>\n",
       "      <th>3</th>\n",
       "      <td>56508</td>\n",
       "      <td>4.150811</td>\n",
       "      <td>Starting Out in the Evening (2007)</td>\n",
       "    </tr>\n",
       "    <tr>\n",
       "      <th>14</th>\n",
       "      <td>50076</td>\n",
       "      <td>4.150811</td>\n",
       "      <td>Presenting Lily Mars (1943)</td>\n",
       "    </tr>\n",
       "    <tr>\n",
       "      <th>13</th>\n",
       "      <td>36931</td>\n",
       "      <td>4.150811</td>\n",
       "      <td>New Police Story (Xin jing cha gu shi) (2004)</td>\n",
       "    </tr>\n",
       "    <tr>\n",
       "      <th>6</th>\n",
       "      <td>59912</td>\n",
       "      <td>4.150811</td>\n",
       "      <td>My Brother Is an Only Child (Mio fratello è fi...</td>\n",
       "    </tr>\n",
       "    <tr>\n",
       "      <th>2</th>\n",
       "      <td>126132</td>\n",
       "      <td>4.150811</td>\n",
       "      <td>Mr. Average (2007)</td>\n",
       "    </tr>\n",
       "    <tr>\n",
       "      <th>0</th>\n",
       "      <td>862</td>\n",
       "      <td>4.150811</td>\n",
       "      <td>Manny &amp; Lo (1996)</td>\n",
       "    </tr>\n",
       "    <tr>\n",
       "      <th>4</th>\n",
       "      <td>56744</td>\n",
       "      <td>4.150811</td>\n",
       "      <td>Longford (2006)</td>\n",
       "    </tr>\n",
       "    <tr>\n",
       "      <th>7</th>\n",
       "      <td>126122</td>\n",
       "      <td>4.150811</td>\n",
       "      <td>Let's Get Those English Girls (1976)</td>\n",
       "    </tr>\n",
       "    <tr>\n",
       "      <th>8</th>\n",
       "      <td>122857</td>\n",
       "      <td>4.150811</td>\n",
       "      <td>Kidnap Syndicate (1975)</td>\n",
       "    </tr>\n",
       "    <tr>\n",
       "      <th>10</th>\n",
       "      <td>121598</td>\n",
       "      <td>4.150811</td>\n",
       "      <td>Goofy Movies Number One (1933)</td>\n",
       "    </tr>\n",
       "    <tr>\n",
       "      <th>12</th>\n",
       "      <td>97724</td>\n",
       "      <td>4.150811</td>\n",
       "      <td>Glamorous Life of Sachiko Hanai, The (Hatsujô ...</td>\n",
       "    </tr>\n",
       "    <tr>\n",
       "      <th>9</th>\n",
       "      <td>115834</td>\n",
       "      <td>4.150811</td>\n",
       "      <td>Charlie Chan's Murder Cruise (1940)</td>\n",
       "    </tr>\n",
       "  </tbody>\n",
       "</table>\n",
       "</div>"
      ],
      "text/plain": [
       "    movieId  possible_rate                                              title\n",
       "1     89501       4.150811          William S. Burroughs: A Man Within (2010)\n",
       "11    78128       4.150811                      True Legend (Su Qi-Er) (2010)\n",
       "5     55167       4.150811           Tekkonkinkreet (Tekkon kinkurîto) (2006)\n",
       "3     56508       4.150811                 Starting Out in the Evening (2007)\n",
       "14    50076       4.150811                        Presenting Lily Mars (1943)\n",
       "13    36931       4.150811      New Police Story (Xin jing cha gu shi) (2004)\n",
       "6     59912       4.150811  My Brother Is an Only Child (Mio fratello è fi...\n",
       "2    126132       4.150811                                 Mr. Average (2007)\n",
       "0       862       4.150811                                  Manny & Lo (1996)\n",
       "4     56744       4.150811                                    Longford (2006)\n",
       "7    126122       4.150811               Let's Get Those English Girls (1976)\n",
       "8    122857       4.150811                            Kidnap Syndicate (1975)\n",
       "10   121598       4.150811                     Goofy Movies Number One (1933)\n",
       "12    97724       4.150811  Glamorous Life of Sachiko Hanai, The (Hatsujô ...\n",
       "9    115834       4.150811                Charlie Chan's Murder Cruise (1940)"
      ]
     },
     "execution_count": 134,
     "metadata": {},
     "output_type": "execute_result"
    }
   ],
   "source": [
    "suggest(df,21,15).sort_values(by=\"title\", ascending=False)"
   ]
  },
  {
   "cell_type": "markdown",
   "id": "e26358f7",
   "metadata": {
    "papermill": {
     "duration": 0.056948,
     "end_time": "2023-11-13T12:29:15.758912",
     "exception": false,
     "start_time": "2023-11-13T12:29:15.701964",
     "status": "completed"
    },
    "tags": []
   },
   "source": [
    "-----"
   ]
  },
  {
   "cell_type": "markdown",
   "id": "90a428ae",
   "metadata": {
    "papermill": {
     "duration": 0.061342,
     "end_time": "2023-11-13T12:29:15.873041",
     "exception": false,
     "start_time": "2023-11-13T12:29:15.811699",
     "status": "completed"
    },
    "tags": []
   },
   "source": [
    "<div style=\"border-radius: 10px; border: #6B8E23 solid; padding: 15px; background-color: #F5F5DC; font-size: 100%; text-align: left\">\n",
    "\n",
    "<h3 align=\"left\"><font color='#556B2F'>⚠️ Öneri Motorlarının 7 Kritik Zorlukları ⚠️ </font></h3>\n",
    "    \n",
    "1. **Önemli yatırımlar gerekir:** Öneri motorları hem finansal hem de zaman açısından maliyetli bir yatırımdır. Uzmanlık, kaynak ve sürekli bakım gerektirirler.\n",
    "\n",
    "2. **Çok fazla seçenek:** İşletmeniz için doğru olanı seçmeyi zorlaştıran birçok farklı öneri motoru çözümü mevcuttur. İş modeliniz, sunduğunuz ürün veya hizmetlerin türü ve hedef kitleniz gibi faktörleri göz önünde bulundurmanız gerekir.\n",
    "\n",
    "3. **Karmaşık ilk katılım süreci:** Bir öneri motorunun uygulanması karmaşık ve zaman alıcı olabilir. Motoru mevcut sistemlerinize entegre etmeniz, verileriniz üzerinde eğitmeniz ve kullanıcı deneyiminize entegre edildiğinden emin olmanız gerekir.\n",
    "\n",
    "4. **Veri analizi yeteneğinin eksikliği:** Öneri motorları verilere dayanır ve yüksek kaliteli verileriniz yoksa veya bunları doğru şekilde analiz edemiyorsanız motor etkili olmayacaktır. Doğru veri altyapısına ve analiz becerilerine sahip olduğunuzdan emin olmanız gerekir.\n",
    "\n",
    "5. **'Soğuk başlatma' sorunu:** Sisteme yeni bir kullanıcı veya ürün eklendiğinde algoritmanın doğru önerilerde bulunması zor olabilir. Derin öğrenme modelleri, bağlamı analiz ederek ve müşteriler ile ürünler arasında ilişkiler kurarak bu sorunun çözülmesine yardımcı olabilir.\n",
    "\n",
    "6. **Kullanıcı davranışındaki değişiklikleri yakalayamama:** Tüketicilerin tercihleri ve davranışları zamanla değişir ve öneri motorlarının bu değişikliklere uyum sağlayabilmesi gerekir. Gerçek zamanlı olarak öğrenip uyum sağlayabilen bir model kullanmanız gerekiyor.\n",
    "\n",
    "7. **Gizlilik endişeleri:** Öneri motorları kullanıcılar hakkında çok fazla veri toplar ve bazı kullanıcılar bu verileri paylaşmakta tereddüt eder. Verileri nasıl kullandığınız konusunda şeffaf davranarak ve kullanıcılarınızın güvenini kazanarak bu kaygıları gidermeniz gerekir."
   ]
  },
  {
   "cell_type": "markdown",
   "id": "9ea5928f",
   "metadata": {
    "papermill": {
     "duration": 0.053071,
     "end_time": "2023-11-13T12:29:15.981760",
     "exception": false,
     "start_time": "2023-11-13T12:29:15.928689",
     "status": "completed"
    },
    "tags": []
   },
   "source": [
    "-----"
   ]
  },
  {
   "cell_type": "markdown",
   "id": "f6e9a8f9",
   "metadata": {
    "papermill": {
     "duration": 0.05559,
     "end_time": "2023-11-13T12:29:16.097135",
     "exception": false,
     "start_time": "2023-11-13T12:29:16.041545",
     "status": "completed"
    },
    "tags": []
   },
   "source": [
    "<div style=\"border-radius: 10px; border: #6B8E23 solid; padding: 15px; background-color: #F5F5DC; font-size: 100%; text-align: left\">\n",
    "\n",
    "<h3 align=\"left\"><font color='#556B2F'>📄 Notes:</font></h3>\n",
    "\n",
    "1. Bir e-ticaret şirketi, müşterilerine önerilerde bulunmak için Association Rule Learning yöntemini kullanmak istiyor. Hangi tür verilere ihtiyaç duyarlar?\n",
    "    * Kullanıcıların geçmiş alışveriş geçmişlerine ve ürünlerin kategorilerine dair bilgilere.\n",
    "1. Association Rule Learning modeli, genellikle \"support,\" \"confidence,\" ve \"lift\" gibi metriklerle değerlendirilir. Bu metriklerden \"lift\" nedir ve neyi ifade eder?\n",
    "    * İki öğe arasındaki bağımlılığı ifade eder.\n",
    "1. Association Rule Learning yöntemiyle elde edilen bir kuralın \"confidence\" değeri yüksek olmasına rağmen \"lift\" değeri düşükse, bu durum ne anlama gelir?\n",
    "    * İki öğe arasındaki ilişki zayıftır ve nadiren gerçekleşir.\n",
    "1. Bir e-ticaret platformu, kullanıcıların satın alma geçmişlerini kullanarak önerilerde bulunmak için Association Rule Learning kullanıyor. Ancak, kullanıcıların alışveriş alışkanlıkları zaman içinde değişebilir. Bu durumu ele almak için ne tür bir yaklaşım önerirsiniz?\n",
    "    * Kullanıcıların alışveriş alışkanlıklarını sık sık güncellemek.\n",
    "1. Bir perakende şirketi, müşteri alışveriş alışkanlıklarını analiz etmek ve daha fazla satış yapmak için Association Rule Learning kullanıyor. Ancak çok sayıda kural elde ediyorlar. Bu fazla sayıdaki kuralların yönetimi için ne tür bir yaklaşım önerirsiniz?\n",
    "    * En yüksek \"confidence\" değerine sahip kuralları kullanarak önerilerde bulunmak.\n",
    "1. Association Rule Learning modeli nasıl aşırı uydurma (overfitting) sorunlarına yol açabilir ve bu sorunu önlemek için hangi adımlar atılabilir?\n",
    "    * Çok sayıda kurallı model oluşturarak.\n",
    "1. Bir film tavsiye sistemi, Content-Based Recommendation kullanmak istiyor. Hangi tür verilere ihtiyaç duyar?\n",
    "    * Film özelliklerine dair verilere (örneğin, tür, yönetmen, oyuncu).\n",
    "1. Content-Based Recommendation modelinde, cosine similarity (kosinüs benzerliği) film öneri sisteminde nasıl kullanılır ve neyi ifade eder?\n",
    "    * İki film arasındaki benzerliği ölçer, yani iki filmin ne kadar benzediğini veya farklı olduğunu ortaya koyar.\n",
    "1. Content-Based Recommendation modelinin (örneğin film öneri sistemlerinde) avantajları nelerdir ve hangi tür öneri sistemlerine uyar?\n",
    "    * Düşük veri gereksinimine sahiptir ve kullanıcı tercihlerini anlama konusunda iyidir; sadece film özelliklerine dayalıdır.\n",
    "1. Bir kitap öneri sistemi, kullanıcılarına kitap tavsiyeleri yapmak için Content-Based Recommendation kullanmak istiyor. Hangi tür özellikler veya metrikler kitapların benzerliğini ölçmek için kullanılabilir?\n",
    "    * Kitabın türü ve içeriği hakkında anahtar kelimeler.\n",
    "1. Bir müzik akış platformu, kullanıcılarına müzik önerilerinde bulunmak için Content-Based Recommendation kullanıyor. Hangi tür özellikler veya metrikler müziklerin benzerliğini ölçmek için kullanılabilir?\n",
    "    * Şarkının türü ve tempo bilgisi.\n",
    "1. Bir otomobil üreticisi, müşterilerine özelleştirilmiş otomobil önerileri sunmak için Content-Based Recommendation kullanmak istiyor. Hangi tür özellikler veya veriler bu özelleştirilmiş otomobil önerilerini oluşturmak için kullanılabilir?\n",
    "    * Otomobil modellerinin rengi ve iç tasarım detayları.\n",
    "1. Bir müzik akış platformu, Item-Based Recommendation kullanarak kullanıcılara müzik önerileri sunuyor. Bu yaklaşımın temel mantığı nedir?\n",
    "    * Kullanıcıların benzer müzik tercihlerini gruplamak.\n",
    "1. Bir oyun geliştirme şirketi, oyunculara oyun içi öneriler sunmak için Item-Based Recommendation kullanmayı düşünüyor. Oyuncuların tercih ettikleri oyun türlerine dayalı olarak öneriler sunmak istiyorlar. Hangi tür oyun özellikleri bu önerileri oluşturmak için kullanılabilir?\n",
    "    * Oyunların platformları ve çıkış tarihleri.\n",
    "1. User-Based Collaborative Filtering yaklaşımı hangi temel prensip üzerine kurulmuştur?\n",
    "    * Kullanıcıların benzer tercihlere sahip olduğu düşüncesi.\n",
    "1. User-Based Collaborative Filtering yaklaşımının bir sınırlaması nedir?\n",
    "    * Kullanıcıların benzer tercihlere sahip olma olasılığı düşüktür.\n",
    "1. Bir online alışveriş platformu, User-Based Collaborative Filtering kullanarak müşterilere ürün önerileri sunuyor. Ancak, bazı kullanıcılar yeni kayıt olmuş ve platformda henüz bir alışveriş yapmamış. Bu kullanıcılar için User-Based Collaborative Filtering ile nasıl öneriler sunulabilir ve bu durumda hangi tür veriler dikkate alınabilir?\n",
    "    * Kullanıcıların sosyal medya hesaplarında paylaştığı ilgi alanları dikkate alınarak.\n",
    "1. User-Based Collaborative Filtering ve Model-Based Matrix Factorization arasındaki temel fark nedir?\n",
    "    * User-Based Collaborative Filtering, kullanıcı benzerliğine dayanırken, Model-Based Matrix Factorization öğrenilmiş bir modeli kullanır.\n",
    "1. Model-Based Matrix Factorization ile elde edilen faktör matrisleri neyi temsil eder?\n",
    "    * Ürünlerin özelliklerini.\n",
    "1. Model-Based Matrix Factorization kullanırken, aşırı uyumaya (overfitting) karşı ne tür önlemler alınabilir?\n",
    "    * Daha fazla veri toplanabilir."
   ]
  },
  {
   "cell_type": "markdown",
   "id": "ef88ad6d",
   "metadata": {
    "papermill": {
     "duration": 0.05489,
     "end_time": "2023-11-13T12:29:16.204540",
     "exception": false,
     "start_time": "2023-11-13T12:29:16.149650",
     "status": "completed"
    },
    "tags": []
   },
   "source": [
    "----"
   ]
  },
  {
   "cell_type": "markdown",
   "id": "a5a58ee2",
   "metadata": {
    "papermill": {
     "duration": 0.055054,
     "end_time": "2023-11-13T12:29:16.315063",
     "exception": false,
     "start_time": "2023-11-13T12:29:16.260009",
     "status": "completed"
    },
    "tags": []
   },
   "source": [
    "<div style=\"border-radius:10px; border:#D0C2F0 solid; padding: 15px; background-color: #F8E8EE; font-size:100%; text-align:left\">\n",
    "\n",
    "<h3 align=\"left\"><font color='#5E5273'>👻 Analysis Results: </font></h3>\n",
    "    \n",
    "Bu Kaggle notebook, öneri sistemlerinin temel yaklaşımlarını ve yöntemlerini kapsayan bir rehber olarak tasarlandı. İlk olarak, \"🍔 Association Rule Learning 🍟\" bölümünde Apriori algoritması ile başlayarak, birliktelik kuralları tabanlı bir öneri sistemi oluşturduk. Bu yöntem, kullanıcıların daha önceki alışveriş geçmişlerine dayalı olarak ürün önerileri sunmada kullanışlı bir yaklaşım sunar.\n",
    "\n",
    "Daha sonra, \"🧾 Content Based Filtering 🧾\" bölümünde içerik tabanlı öneri sistemlerini inceledik. Bu yöntem, ürünlerin özelliklerine dayalı olarak kullanıcılara öneriler sunar. Count Vector ve TF-IDF gibi metin madenciliği tekniklerini kullanarak, kullanıcıların ilgi alanlarına uygun öneriler sunmak için bu yaklaşımı uyguladık.\n",
    "\n",
    "\"🫂 Collaborative Filtering 🫂\" bölümünde, işbirlikçi filtreleme yöntemlerini keşfettik. Hem kullanıcı tabanlı hem de ürün tabanlı işbirlikçi filtreleme yaklaşımlarını inceledik. Ayrıca model tabanlı işbirlikçi filtreleme ile daha özelleştirilmiş öneriler sunmak için veri madenciliği ve modelleme tekniklerini kullandık.\n",
    "\n",
    "Sonuç olarak, bu rehber öneri sistemlerinin farklı yönlerini ve uygulamalarını anlamanıza yardımcı olacak kapsamlı bir kaynaktır. Öneri sistemleri, e-ticaret, içerik platformları ve daha birçok alanda kullanılabilir ve kullanıcı deneyimini iyileştirmek için güçlü bir araçtır. Bu rehber, farklı iş senaryoları için uygun yöntemleri anlamanıza yardımcı olacak temel bilgiler sunmaktadır. İyi şanslar ve öneri sistemlerinizi geliştirmeye devam edin!"
   ]
  },
  {
   "cell_type": "markdown",
   "id": "50885b45",
   "metadata": {
    "papermill": {
     "duration": 0.053126,
     "end_time": "2023-11-13T12:29:16.421010",
     "exception": false,
     "start_time": "2023-11-13T12:29:16.367884",
     "status": "completed"
    },
    "tags": []
   },
   "source": [
    "<a id = \"31\"></a><br>\n",
    "<p style=\"font-family: 'Pacifico', cursive; font-weight: bold; letter-spacing: 2px; color: #556B2F; font-size: 160%; text-align: left; padding: 0px; border-bottom: 3px solid\">✨Sources✨</p>\n",
    "\n",
    "* Association Rule Learning;\n",
    "    * https://towardsdatascience.com/a-guide-to-association-rule-mining-96c42968ba6\n",
    "    * https://tutorialforbeginner.com/association-rule-learning-in-machine-learning\n",
    "    * https://www.javatpoint.com/association-rule-learning\n",
    "    * https://data-flair.training/blogs/data-science-r-movie-recommendation/\n",
    "    * https://www.softwaretestinghelp.com/apriori-algorithm/\n",
    "    * https://www.educative.io/answers/what-is-the-apriori-algorithm\n",
    "    * https://bicorner.com/2015/07/22/what-the-heck-are-association-rules-in-analytics/\n",
    "* Content-Based Filtering;\n",
    "    * https://www.turing.com/kb/content-based-filtering-in-recommender-systems#content-based-filtering\n",
    "    * https://medium.com/mlearning-ai/recommendation-systems-content-based-filtering-e19e3b0a309e\n",
    "    * https://www.capitalone.com/tech/machine-learning/understanding-tf-idf/\n",
    "    * https://miuul.com/\n",
    "* Collaborative Filtering;\n",
    "    * https://builtin.com/data-science/collaborative-filtering-recommender-system\n",
    "    * https://www.iteratorshq.com/\n",
    "    * https://datasciencedojo.com/blog/social-media-recommendation-system/#\n",
    "    * https://miuul.com/\n",
    "    * https://builtin.com/data-science/gradient-descent\n",
    "    * https://medium.com/grabngoinfo/recommendation-system-user-based-collaborative-filtering-a2e76e3e15c4\n",
    "    * https://www.appier.com/en/blog/7-critical-challenges-of-recommendation-engines"
   ]
  }
 ],
 "metadata": {
  "kernelspec": {
   "display_name": "Python 3",
   "language": "python",
   "name": "python3"
  },
  "language_info": {
   "codemirror_mode": {
    "name": "ipython",
    "version": 3
   },
   "file_extension": ".py",
   "mimetype": "text/x-python",
   "name": "python",
   "nbconvert_exporter": "python",
   "pygments_lexer": "ipython3",
   "version": "3.10.12"
  },
  "papermill": {
   "default_parameters": {},
   "duration": 151.346641,
   "end_time": "2023-11-13T12:29:20.099634",
   "environment_variables": {},
   "exception": null,
   "input_path": "__notebook__.ipynb",
   "output_path": "__notebook__.ipynb",
   "parameters": {},
   "start_time": "2023-11-13T12:26:48.752993",
   "version": "2.4.0"
  }
 },
 "nbformat": 4,
 "nbformat_minor": 5
}
